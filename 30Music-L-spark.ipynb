{
 "cells": [
  {
   "cell_type": "markdown",
   "metadata": {},
   "source": [
    "# Glint-FMPair evaluation on 30Music listening histories"
   ]
  },
  {
   "cell_type": "code",
   "execution_count": 11,
   "metadata": {},
   "outputs": [],
   "source": [
    "import os\n",
    "os.environ[\"PYSPARK_SUBMIT_ARGS\"] = \"--conf spark.driver.memory=40G \" + \\\n",
    "    \"--conf \\\"spark.driver.extraJavaOptions=-XX:+UseG1GC -XX:InitiatingHeapOccupancyPercent=35 -XX:-ResizePLAB\\\" \" + \\\n",
    "    \"--conf spark.driverEnv.LD_PRELOAD=/opt/cloudera/parcels/mkl/linux/mkl/lib/intel64/libmkl_rt.so \" + \\\n",
    "    \"--conf spark.driverEnv.MKL_VERBOSE=0 \" + \\\n",
    "    \"--jars glint-fmpair/target/scala-2.11/glint-fmpair-assembly-1.0.jar pyspark-shell\"\n",
    "\n",
    "import pickle\n",
    "import random\n",
    "import time\n",
    "\n",
    "from math import log2, ceil\n",
    "from matplotlib import pyplot as plt, patches as mpatches\n",
    "\n",
    "from pyspark.ml.linalg import VectorUDT\n",
    "from pyspark.ml.feature import VectorAssembler, StringIndexer, RegexTokenizer, \\\n",
    "    StopWordsRemover, CountVectorizer, StringIndexerModel, CountVectorizerModel\n",
    "from pyspark.sql.functions import collect_set, udf, col, mean, first, year, lower, \\\n",
    "    explode, explode_outer, lag, to_timestamp, regexp_replace, posexplode, split, \\\n",
    "    from_json, schema_of_json, lit, coalesce, expr, when, posexplode, \\\n",
    "    count, countDistinct, max as sparkMax, sum as sparkSum\n",
    "from pyspark.sql import SparkSession, Window, Row\n",
    "from pyspark.sql.types import IntegerType, StringType, LongType, StructType, StructField, ArrayType\n",
    "\n",
    "from glintfmpair import WeightHotEncoderEstimator, WeightHotEncoderModel, \\\n",
    "    GlintFMPair, GlintFMPairModel, PopRank, SAGH, KNN, TfIdfKNN"
   ]
  },
  {
   "cell_type": "code",
   "execution_count": 2,
   "metadata": {},
   "outputs": [],
   "source": [
    "spark = SparkSession.builder \\\n",
    "    .appName(\"Glint-FMPair evaluation on 30Music\") \\\n",
    "    .master(\"yarn\") \\\n",
    "    .config(\"spark.submit.deployMode\",\"client\") \\\n",
    "    .config(\"spark.dynamicAllocation.enabled\", \"false\") \\\n",
    "    .config(\"spark.executor.memory\", \"25G\") \\\n",
    "    .config(\"spark.yarn.executor.memoryOverhead\", \"5G\") \\\n",
    "    .config(\"spark.executor.instances\", \"80\") \\\n",
    "    .config(\"spark.executor.cores\", \"5\") \\\n",
    "    .config(\"spark.executor.extraJavaOptions\", \"-XX:+UseG1GC -XX:InitiatingHeapOccupancyPercent=35 -XX:-ResizePLAB\") \\\n",
    "    .config(\"spark.executorEnv.LD_PRELOAD\",\n",
    "            \"/opt/cloudera/parcels/mkl/linux/mkl/lib/intel64/libmkl_rt.so\") \\\n",
    "    .config(\"spark.executorEnv.MKL_VERBOSE\", \"0\") \\\n",
    "    .config(\"spark.jars\", \"glint-fmpair/target/scala-2.11/glint-fmpair-assembly-1.0.jar\") \\\n",
    "    .config(\"spark.kryoserializer.buffer.max\", \"256m\") \\\n",
    "    .config(\"spark.executor.heartbeatInterval\", \"100000\") \\\n",
    "    .config(\"spark.network.timeout\", \"1000000\") \\\n",
    "    .config(\"spark.maxRemoteBlockSizeFetchToMem\", \"256m\") \\\n",
    "    .config(\"spark.driver.maxResultSize\", \"8G\") \\\n",
    "    .config(\"spark.default.parallelism\", \"4000\") \\\n",
    "    .config(\"spark.sql.tungsten.enabled\", \"false\") \\\n",
    "    .getOrCreate()\n",
    "#    .config(\"spark.sql.shuffle.partitions\", \"10000\") \\\n",
    "#    .config(\"spark.sql.windowExec.buffer.in.memory.threshold\", \"1000000\") \\\n",
    "#    .config(\"spark.sql.windowExec.buffer.spill.threshold\", \"1000000\") \\\n",
    "\n",
    "sc = spark.sparkContext"
   ]
  },
  {
   "cell_type": "code",
   "execution_count": 3,
   "metadata": {},
   "outputs": [],
   "source": [
    "spark.udf.registerJavaFunction(\"resizeVector\", \"org.apache.spark.ml.recommendation.ResizeVector\", VectorUDT())"
   ]
  },
  {
   "cell_type": "code",
   "execution_count": 4,
   "metadata": {},
   "outputs": [],
   "source": [
    "sessionsDataPath = \"30Music/relations/sessions.idomaar\"\n",
    "playlistsDataPath = \"30Music/relations/playlists.idomaar\"\n",
    "tracksDataPath = \"30Music/entities/tracks.idomaar\"\n",
    "usersDataPath = \"30Music/entities/users.idomaar\""
   ]
  },
  {
   "cell_type": "code",
   "execution_count": 5,
   "metadata": {},
   "outputs": [],
   "source": [
    "trans=False\n",
    "valSplit=True"
   ]
  },
  {
   "cell_type": "code",
   "execution_count": 6,
   "metadata": {},
   "outputs": [],
   "source": [
    "if valSplit:\n",
    "    if trans:\n",
    "        indexedTrainDataPath = \"30Music-train-trans.parquet\"\n",
    "        indexedValSeedsDataPath = \"30Music-valseeds-trans.parquet\"\n",
    "        indexedValDataPath = \"30Music-val-trans.parquet\"\n",
    "        indexerModelPathFormat = \"30Music-{}-indexer-trans.model\"\n",
    "        encoderModelPaths = [\"30Music-usercoldstartencoder-trans.model\", \"30Music-userencoder-trans.model\",\n",
    "                             \"30Music-itemencoder-trans.model\", \"30Music-ctxitemencoder-trans.model\"]\n",
    "    else:\n",
    "        indexedTrainDataPath = \"30Music-train.parquet\"\n",
    "        indexedValSeedsDataPath = \"30Music-valseeds.parquet\"\n",
    "        indexedValDataPath = \"30Music-val.parquet\"\n",
    "        indexerModelPathFormat = \"30Music-{}-indexer.model\"\n",
    "        encoderModelPaths = [\"30Music-usercoldstartencoder.model\", \"30Music-userencoder.model\",\n",
    "                             \"30Music-itemencoder.model\", \"30Music-ctxitemencoder.model\"]\n",
    "else:\n",
    "    if trans:\n",
    "        indexedTrainDataPath = \"30Music-test-train-trans.parquet\"\n",
    "        indexedValSeedsDataPath = \"30Music-test-valseeds-trans.parquet\"\n",
    "        indexedValDataPath = \"30Music-test-val-trans.parquet\"\n",
    "        indexerModelPathFormat = \"30Music-test-{}-indexer-trans.model\"\n",
    "        encoderModelPaths = [\"30Music-test-usercoldstartencoder-trans.model\", \"30Music-test-userencoder-trans.model\",\n",
    "                             \"30Music-test-itemencoder-trans.model\", \"30Music-tets-ctxitemencoder-trans.model\"]\n",
    "    else:\n",
    "        indexedTrainDataPath = \"30Music-test-train.parquet\"\n",
    "        indexedValSeedsDataPath = \"30Music-test-valseeds.parquet\"\n",
    "        indexedValDataPath = \"30Music-test-val.parquet\"\n",
    "        indexerModelPathFormat = \"30Music-test-{}-indexer.model\"\n",
    "        encoderModelPaths = [\"30Music-test-usercoldstartencoder.model\", \"30Music-test-userencoder.model\",\n",
    "                             \"30Music-test-itemencoder.model\", \"30Music-test-ctxitemencoder.model\"]"
   ]
  },
  {
   "cell_type": "code",
   "execution_count": 7,
   "metadata": {},
   "outputs": [],
   "source": [
    "parameterServerHost=\"10.7.0.101\""
   ]
  },
  {
   "cell_type": "code",
   "execution_count": 8,
   "metadata": {},
   "outputs": [],
   "source": [
    "loadFeatures=False\n",
    "saveFeatures=False\n",
    "loadIndexed=False\n",
    "saveIndexed=False\n",
    "\n",
    "loadIndexers=False\n",
    "saveIndexers=False\n",
    "loadEncoders=False\n",
    "saveEncoders=False\n",
    "\n",
    "loadGlintFMPair=False\n",
    "saveGlintFMPair=False"
   ]
  },
  {
   "cell_type": "markdown",
   "metadata": {},
   "source": [
    "## Data loading"
   ]
  },
  {
   "cell_type": "code",
   "execution_count": 9,
   "metadata": {},
   "outputs": [],
   "source": [
    "def loadData(s, dataPath):\n",
    "    schema = StructType([\n",
    "        StructField(\"type\", StringType(), False),\n",
    "        StructField(\"s_id\", IntegerType(), False),\n",
    "        StructField(\"s_timestamp\", LongType(), False),\n",
    "        StructField(\"json\", StringType(), False)\n",
    "    ])\n",
    "    data = s.read.option(\"sep\", \"\\t\").schema(schema).csv(dataPath) \\\n",
    "        .select(col(\"s_id\"), col(\"s_timestamp\"), split(\"json\", \" \").getItem(1).alias(\"json\"))\n",
    "    \n",
    "    jsonSchema = schema_of_json(data.select(\"json\").limit(1).first()[0])\n",
    "    return data.select(col(\"s_id\"), col(\"s_timestamp\"), from_json(col(\"json\"), jsonSchema).alias(\"json\")) \\\n",
    "        .select(col(\"s_id\"), col(\"s_timestamp\"), col(\"json.subjects\").getItem(0).alias(\"subject\"), posexplode(\"json.objects\")) \\\n",
    "        .select(col(\"s_id\"), col(\"s_timestamp\"), col(\"subject\"), col(\"pos\"), col(\"col\").alias(\"object\")) \\\n",
    "        .where(col(\"object.action\") == \"play\") \\\n",
    "        .select(col(\"s_id\"), col(\"s_timestamp\"), col(\"subject.id\").alias(\"user_id\"),\n",
    "                col(\"pos\"), col(\"object.action\"), col(\"object.id\").alias(\"track_id\"))\n",
    "\n",
    "\n",
    "def withTrackData(df, s, dataPath):\n",
    "    schema = StructType([\n",
    "        StructField(\"type\", StringType(), False),\n",
    "        StructField(\"track_id\", IntegerType(), False),\n",
    "        StructField(\"timestamp\", LongType(), False),\n",
    "        StructField(\"json1\", StringType(), False),\n",
    "        StructField(\"json2\", StringType(), False)\n",
    "    ])\n",
    "    \n",
    "    jsonSchema = StructType([\n",
    "        StructField(\"artists\", ArrayType(StructType([\n",
    "            StructField(\"type\", StringType(), False),\n",
    "            StructField(\"id\", IntegerType(), False)\n",
    "        ]), False), False),\n",
    "        StructField(\"albums\", ArrayType(StructType([\n",
    "            StructField(\"type\", StringType(), False),\n",
    "            StructField(\"id\", IntegerType(), False)\n",
    "        ]), False), False),\n",
    "        StructField(\"tags\", ArrayType(StructType([\n",
    "            StructField(\"type\", StringType(), False),\n",
    "            StructField(\"id\", IntegerType(), False)\n",
    "        ]), False), False)\n",
    "    ])\n",
    "\n",
    "    offset = 1000000\n",
    "    trackDf = s.read.option(\"sep\", \"\\t\").schema(schema).csv(dataPath) \\\n",
    "        .select(col(\"track_id\"), from_json(col(\"json2\"), jsonSchema).alias(\"json2\")) \\\n",
    "        .select(col(\"track_id\"),\n",
    "                col(\"json2.artists\").getItem(0).alias(\"artist\"),\n",
    "                col(\"json2.albums\").getItem(0).alias(\"album\")) \\\n",
    "        .select(col(\"track_id\"),\n",
    "                coalesce(col(\"artist.id\"), col(\"track_id\") + offset).alias(\"artist_id\"),\n",
    "                coalesce(col(\"album.id\"), col(\"track_id\") + offset).alias(\"album_id\")) \\\n",
    "        .dropDuplicates(subset=[\"track_id\"])\n",
    "    \n",
    "    return df.join(trackDf, on=\"track_id\")\n",
    "\n",
    "\n",
    "def withUserData(df, s, dataPath):\n",
    "    schema = StructType([\n",
    "        StructField(\"type\", StringType(), False),\n",
    "        StructField(\"user_id\", IntegerType(), False),\n",
    "        StructField(\"timestamp\", LongType(), False),\n",
    "        StructField(\"json\", StringType(), False)\n",
    "    ])\n",
    "    userDf = s.read.option(\"sep\", \"\\t\").schema(schema).csv(dataPath)\n",
    "    \n",
    "    jsonSchema = schema_of_json(userDf.select(\"json\").limit(1).first()[0])\n",
    "    userDf = userDf.select(col(\"user_id\"), from_json(\"json\", jsonSchema).alias(\"json\")) \\\n",
    "        .select(col(\"user_id\"), col(\"json.gender\"), col(\"json.age\"), col(\"json.country\"))\n",
    "    \n",
    "    return df.join(userDf, on=\"user_id\")\n",
    "    \n",
    "\n",
    "if not loadFeatures and not loadIndexed:\n",
    "    data = loadData(spark, sessionsDataPath)\n",
    "    data = withTrackData(data, spark, tracksDataPath)\n",
    "    data = withUserData(data, spark, usersDataPath)\n",
    "\n",
    "    prevWindow = Window.partitionBy(\"s_id\").orderBy(\"pos\")\n",
    "    data = data \\\n",
    "        .withColumn(\"prev_track_id\", lag(\"track_id\", 1).over(prevWindow)) \\\n",
    "        .withColumn(\"prev_album_id\", lag(\"album_id\", 1).over(prevWindow)) \\\n",
    "        .withColumn(\"prev_artist_id\", lag(\"artist_id\", 1).over(prevWindow))\n",
    "    \n",
    "    if trans:\n",
    "        data = data.where(col(\"pos\") != 0)\n",
    "    \n",
    "    minCountWindow = Window.partitionBy(\"user_id\")\n",
    "    data = data.withColumn(\"count\", count(\"track_id\").over(minCountWindow)).where(col(\"count\") >= 3).drop(\"count\")\n",
    "    \n",
    "    data = data.select([when(col(c) == \"\", lit(None)).otherwise(col(c)).alias(c) for c in data.columns])"
   ]
  },
  {
   "cell_type": "code",
   "execution_count": 19,
   "metadata": {},
   "outputs": [
    {
     "data": {
      "text/plain": [
       "26990628"
      ]
     },
     "execution_count": 19,
     "metadata": {},
     "output_type": "execute_result"
    }
   ],
   "source": [
    "data.count()"
   ]
  },
  {
   "cell_type": "code",
   "execution_count": 21,
   "metadata": {},
   "outputs": [
    {
     "data": {
      "text/plain": [
       "44251"
      ]
     },
     "execution_count": 21,
     "metadata": {},
     "output_type": "execute_result"
    }
   ],
   "source": [
    "data.select(\"user_id\").dropDuplicates().count()"
   ]
  },
  {
   "cell_type": "code",
   "execution_count": 22,
   "metadata": {},
   "outputs": [
    {
     "data": {
      "text/plain": [
       "2213064"
      ]
     },
     "execution_count": 22,
     "metadata": {},
     "output_type": "execute_result"
    }
   ],
   "source": [
    "data.select(\"s_id\").dropDuplicates().count()"
   ]
  },
  {
   "cell_type": "code",
   "execution_count": 23,
   "metadata": {},
   "outputs": [
    {
     "data": {
      "text/plain": [
       "4190221"
      ]
     },
     "execution_count": 23,
     "metadata": {},
     "output_type": "execute_result"
    }
   ],
   "source": [
    "data.select(\"track_id\").dropDuplicates().count()"
   ]
  },
  {
   "cell_type": "code",
   "execution_count": 24,
   "metadata": {},
   "outputs": [
    {
     "data": {
      "text/plain": [
       "3573266"
      ]
     },
     "execution_count": 24,
     "metadata": {},
     "output_type": "execute_result"
    }
   ],
   "source": [
    "data.select(\"album_id\").dropDuplicates().count()"
   ]
  },
  {
   "cell_type": "code",
   "execution_count": 25,
   "metadata": {},
   "outputs": [
    {
     "data": {
      "text/plain": [
       "515046"
      ]
     },
     "execution_count": 25,
     "metadata": {},
     "output_type": "execute_result"
    }
   ],
   "source": [
    "data.select(\"artist_id\").dropDuplicates().count()"
   ]
  },
  {
   "cell_type": "code",
   "execution_count": 12,
   "metadata": {},
   "outputs": [
    {
     "name": "stdout",
     "output_type": "stream",
     "text": [
      "+-----------------------+\n",
      "|average user listenings|\n",
      "+-----------------------+\n",
      "|      609.9439108720707|\n",
      "+-----------------------+\n",
      "\n"
     ]
    }
   ],
   "source": [
    "trackCountsDf = data.select(\"user_id\", \"track_id\") \\\n",
    "    .groupBy(\"user_id\") \\\n",
    "    .agg(count(\"track_id\").alias(\"count\")) \\\n",
    "    .select(\"count\")\n",
    "\n",
    "trackCountsDf.select(mean(\"count\").alias(\"average user listenings\")).show()"
   ]
  },
  {
   "cell_type": "code",
   "execution_count": 12,
   "metadata": {},
   "outputs": [
    {
     "name": "stdout",
     "output_type": "stream",
     "text": [
      "+-----------------------+\n",
      "|average users per track|\n",
      "+-----------------------+\n",
      "|     3.9799962818190258|\n",
      "+-----------------------+\n",
      "\n"
     ]
    }
   ],
   "source": [
    "userCountsDf = data.select(\"user_id\", \"track_id\") \\\n",
    "    .groupBy(\"track_id\") \\\n",
    "    .agg(countDistinct(\"user_id\").alias(\"count\")) \\\n",
    "    .select(\"count\")\n",
    "\n",
    "userCountsDf.select(mean(\"count\").alias(\"average users per track\")).show()"
   ]
  },
  {
   "cell_type": "code",
   "execution_count": 15,
   "metadata": {},
   "outputs": [
    {
     "data": {
      "image/png": "[encoded data removed]",
      "text/plain": [
       "<Figure size 432x288 with 1 Axes>"
      ]
     },
     "metadata": {
      "needs_background": "light"
     },
     "output_type": "display_data"
    }
   ],
   "source": [
    "userCounts = userCountsDf.rdd.map(lambda r: r[0]).collect()\n",
    "plt.hist(userCounts, bins=range(0, 50));"
   ]
  },
  {
   "cell_type": "code",
   "execution_count": 13,
   "metadata": {},
   "outputs": [
    {
     "name": "stdout",
     "output_type": "stream",
     "text": [
      "+----------------------------+\n",
      "|average listenings per track|\n",
      "+----------------------------+\n",
      "|           6.441337581001098|\n",
      "+----------------------------+\n",
      "\n"
     ]
    }
   ],
   "source": [
    "listeningCountsDf = data.select(\"user_id\", \"track_id\") \\\n",
    "    .groupBy(\"track_id\") \\\n",
    "    .agg(count(\"user_id\").alias(\"count\")) \\\n",
    "    .select(\"count\")\n",
    "\n",
    "listeningCountsDf.select(mean(\"count\").alias(\"average listenings per track\")).show()"
   ]
  },
  {
   "cell_type": "code",
   "execution_count": 14,
   "metadata": {},
   "outputs": [
    {
     "data": {
      "image/png": "[encoded data removed]",
      "text/plain": [
       "<Figure size 432x288 with 1 Axes>"
      ]
     },
     "metadata": {
      "needs_background": "light"
     },
     "output_type": "display_data"
    }
   ],
   "source": [
    "listeningCounts = listeningCountsDf.rdd.map(lambda r: r[0]).collect()\n",
    "plt.hist(listeningCounts, bins=range(0, 50));"
   ]
  },
  {
   "cell_type": "markdown",
   "metadata": {},
   "source": [
    "## Evaluation split"
   ]
  },
  {
   "cell_type": "code",
   "execution_count": 10,
   "metadata": {},
   "outputs": [],
   "source": [
    "if not loadFeatures and not loadIndexed:\n",
    "    random.seed(1)\n",
    "    testUserIds = random.sample(data.select(\"user_id\").distinct().orderBy(\"user_id\").rdd.map(lambda r: r[0]).collect(), 10000)\n",
    "\n",
    "\n",
    "def trainTestSplit(data):\n",
    "    train = data.where(~col(\"user_id\").isin(testUserIds))\n",
    "    test = data.where(col(\"user_id\").isin(testUserIds))\n",
    "    return train, test\n",
    "\n",
    "\n",
    "\n",
    "def lastSessionSplit(data):\n",
    "    maxTimestampWindow = sparkMax(\"s_timestamp\").over(Window.partitionBy(\"user_id\"))\n",
    "    data = data.withColumn(\"maxTimestamp\", maxTimestampWindow)\n",
    "    previous = data.where(col(\"s_timestamp\") < col(\"maxTimestamp\")).drop(\"maxTimestamp\")\n",
    "    last = data.where(col(\"s_timestamp\") == col(\"maxTimestamp\")).drop(\"maxTimestamp\")\n",
    "    return previous, last\n",
    "\n",
    "\n",
    "def seedsCtxSplit(data):\n",
    "    previous, last = lastSessionSplit(data)\n",
    "    maxPosWindow = sparkMax(\"pos\").over(Window.partitionBy(\"user_id\"))\n",
    "    last = last.withColumn(\"maxPos\", maxPosWindow)\n",
    "    seeds = previous.union(last.where(col(\"pos\") < col(\"maxPos\")).drop(\"maxPos\"))\n",
    "    context = last.where(col(\"pos\") == col(\"maxPos\")).drop(\"maxPos\")\n",
    "    return seeds, context\n",
    "                \n",
    "\n",
    "def lastTrackSplit(data, valSplit=False):\n",
    "    train, test = trainTestSplit(data)\n",
    "    testSeeds, test = seedsCtxSplit(test)\n",
    "    if valSplit:\n",
    "        valSeeds, val = seedsCtxSplit(testSeeds)\n",
    "        return train.unionAll(valSeeds), valSeeds, val\n",
    "    return train.unionAll(testSeeds), testSeeds, test"
   ]
  },
  {
   "cell_type": "code",
   "execution_count": 11,
   "metadata": {},
   "outputs": [],
   "source": [
    "if not loadFeatures and not loadIndexed:\n",
    "    trainData, valSeedsData, valData = lastTrackSplit(data, valSplit=valSplit)"
   ]
  },
  {
   "cell_type": "markdown",
   "metadata": {},
   "source": [
    "## Preprocessing"
   ]
  },
  {
   "cell_type": "code",
   "execution_count": 12,
   "metadata": {},
   "outputs": [],
   "source": [
    "keepCols = [\"s_id\"]\n",
    "userIndexerCols = [(\"user_id\", \"userid\"), (\"gender\", \"genderid\"), (\"age\", \"ageid\"), (\"country\", \"countryid\")]\n",
    "itemIndexerCols = [(\"track_id\", \"traid\"), (\"album_id\", \"albid\"), (\"artist_id\", \"artid\")]\n",
    "prevItemIndexerCols = [(\"prev_\" + i, \"prev_\" + o) for i, o in itemIndexerCols]\n",
    "indexerCols = userIndexerCols + itemIndexerCols + prevItemIndexerCols\n",
    "\n",
    "\n",
    "def saveIndexerModels(models, modelPathFormat):\n",
    "    return [model.save(modelPathFormat.format(i))\n",
    "            for model, (i, o) in zip(models, userIndexerCols + itemIndexerCols + prevItemIndexerCols)]   \n",
    "\n",
    "    \n",
    "def loadIndexerModels(modelPathFormat):\n",
    "    return [StringIndexerModel.load(modelPathFormat.format(i))\n",
    "            for i, o in userIndexerCols + itemIndexerCols + prevItemIndexerCols]\n",
    "\n",
    "\n",
    "def fitIndexerModels(data):\n",
    "    userIndexers = [StringIndexer(inputCol=i, outputCol=o, handleInvalid=\"keep\").fit(data)\n",
    "                    for i, o in userIndexerCols]\n",
    "    itemIndexers = [StringIndexer(inputCol=i, outputCol=o, handleInvalid=\"keep\").fit(data)\n",
    "                    for i, o in itemIndexerCols]\n",
    "    prevItemIndexers = [ii.copy({ii.inputCol: i, ii.outputCol: o})\n",
    "                        for (ii, (i, o)) in zip(itemIndexers, prevItemIndexerCols)]\n",
    "\n",
    "    return userIndexers + itemIndexers + prevItemIndexers\n",
    "\n",
    "\n",
    "def toIndexed(data, indexerModels):\n",
    "    for model, modelCols in zip(indexerModels, indexerCols):\n",
    "        data = model.transform(data)\n",
    "    return data.select(*([col(o).cast(\"integer\").alias(o) for i, o in indexerCols]) + keepCols)"
   ]
  },
  {
   "cell_type": "code",
   "execution_count": 13,
   "metadata": {},
   "outputs": [],
   "source": [
    "def loadEncoderModels(modelPaths):\n",
    "    return tuple(WeightHotEncoderModel.load(modelPath) for modelPath in modelPaths)\n",
    "    \n",
    "\n",
    "def fitEncoderModels(data):\n",
    "    userColdStartGroupCols = [\"s_id\"]\n",
    "    userColdStartCols = [\"traid\"]\n",
    "    userColdStartWeights = [1.0]\n",
    "    userColdStartEncoderModel = WeightHotEncoderEstimator(\n",
    "        weights=userColdStartWeights, inputCols=userColdStartCols,\n",
    "        outputCols=[c + \"_cold_encoded\" for c in userColdStartCols],\n",
    "        groupCols=userColdStartGroupCols, groupWeighting=\"sqrt\"\n",
    "    ).fit(data)\n",
    "    \n",
    "    # dropLast, missing user features are simply ignored, no problem for ranking\n",
    "    userCols = [\"userid\", \"genderid\", \"ageid\", \"countryid\"]\n",
    "    userWeights = [1.0, 0.5, 0.25, 0.25]\n",
    "    userEncoderModel = WeightHotEncoderEstimator(\n",
    "        weights=userWeights, inputCols=userCols,\n",
    "        outputCols=[c + \"_encoded\" for c in userCols], dropLast=True\n",
    "    ).fit(data)\n",
    "    \n",
    "    # missing item features are mapped to the missing feature index\n",
    "    itemCols = [\"traid\", \"albid\", \"artid\"]\n",
    "    itemWeights = [1.0, 1.0, 1.0]\n",
    "    itemEncoderModel = WeightHotEncoderEstimator(\n",
    "        weights=itemWeights, inputCols=itemCols,\n",
    "        outputCols=[c + \"_encoded\" for c in itemCols], dropLast=False\n",
    "    ).fit(data)\n",
    "\n",
    "    # dropLast, missing user features are simply ignored, no problem for ranking\n",
    "    ctxitemCols = [\"prev_traid\", \"prev_albid\", \"prev_artid\"]\n",
    "    ctxitemWeights = itemWeights\n",
    "    ctxitemEncoderModel = itemEncoderModel.copy({\n",
    "        itemEncoderModel.weights: ctxitemWeights,\n",
    "        itemEncoderModel.inputCols: ctxitemCols,\n",
    "        itemEncoderModel.outputCols: [c + \"_encoded\" for c in ctxitemCols],\n",
    "        itemEncoderModel.dropLast: True,\n",
    "        itemEncoderModel.handleInvalid: \"keep\"\n",
    "    })\n",
    "    \n",
    "    return userColdStartEncoderModel, userEncoderModel, itemEncoderModel, ctxitemEncoderModel"
   ]
  },
  {
   "cell_type": "code",
   "execution_count": 14,
   "metadata": {},
   "outputs": [],
   "source": [
    "if not loadFeatures:\n",
    "    \n",
    "    # loading / fitting and saving indexer and indexing\n",
    "    if loadIndexed:\n",
    "        trainData = spark.read.parquet(indexedTrainDataPath)\n",
    "        valSeedsData = spark.read.parquet(indexedValSeedsDataPath)\n",
    "        valData = spark.read.parquet(indexedValDataPath)\n",
    "\n",
    "    else:\n",
    "        if loadIndexers:\n",
    "            indexerModels = loadIndexerModels(indexerModelPathFormat)\n",
    "        else:\n",
    "            indexerModels = fitIndexerModels(trainData)\n",
    "            if saveIndexers:\n",
    "                saveIndexerModels(indexerModels, indexerModelPathFormat)\n",
    "\n",
    "        trainData = toIndexed(trainData, indexerModels)\n",
    "        valSeedsData = toIndexed(valSeedsData, indexerModels)\n",
    "        valData = toIndexed(valData, indexerModels)\n",
    "\n",
    "        if saveIndexed:\n",
    "            trainData.coalesce(400).write.save(indexedTrainDataPath, format=\"parquet\", mode=\"overwrite\")\n",
    "            valSeedsData.coalesce(400).write.save(indexedValSeedsDataPath, format=\"parquet\", mode=\"overwrite\")\n",
    "            valData.coalesce(400).write.save(indexedValDataPath, format=\"parquet\", mode=\"overwrite\")"
   ]
  },
  {
   "cell_type": "code",
   "execution_count": 15,
   "metadata": {},
   "outputs": [],
   "source": [
    "if not loadFeatures:\n",
    "    \n",
    "    # loading / fitting and saving encoder\n",
    "    if loadEncoders:\n",
    "        encoderModels = loadEncoderModels(encoderModelPaths)\n",
    "    else:\n",
    "        encoderModels = fitEncoderModels(trainData)\n",
    "        if saveEncoders:\n",
    "            for model, modelPath in zip(encoderModels, encoderModelPaths):\n",
    "                model.save(modelPath)"
   ]
  },
  {
   "cell_type": "code",
   "execution_count": 16,
   "metadata": {},
   "outputs": [],
   "source": [
    "def toFeatures(data, encoderModels, queryctxData=None, sharedItemFeatures=False,\n",
    "               allUserColdStartWeights=[1.0],\n",
    "               userColdStartWeighting=\"sqrt\",\n",
    "               allUserWeights=[1.0, 0.5, 0.25, 0.25],\n",
    "               allCtxitemWeights=[1.0, 1.0, 1.0],\n",
    "               allItemWeights=[1.0, 1.0, 1.0],\n",
    "               coldStartUserCols=[],\n",
    "               userCols=[\"userid\", \"genderid\", \"ageid\", \"countryid\"],\n",
    "               ctxitemCols=[\"prev_traid\", \"prev_albid\", \"prev_artid\"],\n",
    "               itemCols=[\"traid\", \"albid\", \"artid\"]):\n",
    "    \n",
    "    userColdStartEncoderModel, userEncoderModel, itemEncoderModel, ctxitemEncoderModel = encoderModels\n",
    "    \n",
    "    encodedColdStartUserCols = [c + \"_cold_encoded\" for c in coldStartUserCols]\n",
    "    encodedUserCols = [c + \"_encoded\" for c in userCols]\n",
    "    encodedItemCols = [c + \"_encoded\" for c in itemCols]\n",
    "    encodedCtxitemCols = [c + \"_encoded\" for c in ctxitemCols]\n",
    "    \n",
    "    # hot encode\n",
    "    if coldStartUserCols:\n",
    "        data = userColdStartEncoderModel \\\n",
    "            .setWeights(allUserColdStartWeights) \\\n",
    "            .setGroupWeighting(userColdStartWeighting) \\\n",
    "            .transform(data)\n",
    "    \n",
    "    if queryctxData:\n",
    "        if coldStartUserCols:\n",
    "            firstColdStartUserCols = [first(c).alias(c) for c in encodedColdStartUserCols]\n",
    "            data = data.groupBy(\"s_id\") \\\n",
    "                .agg(*firstColdStartUserCols) \\\n",
    "                .select(\"s_id\", *encodedColdStartUserCols) \\\n",
    "                .join(queryctxData, \"s_id\")\n",
    "    else:\n",
    "        data = itemEncoderModel.setWeights(allItemWeights).transform(data)\n",
    "    \n",
    "    if userCols: \n",
    "        data = userEncoderModel.setWeights(allUserWeights).transform(data)\n",
    "        \n",
    "    if ctxitemCols:\n",
    "        data = ctxitemEncoderModel.setWeights(allCtxitemWeights).transform(data)\n",
    "        \n",
    "    # assemble feature vectors of required hot-encoded columns into combined feature vectors\n",
    "    userInputCols = encodedCtxitemCols + encodedColdStartUserCols + encodedUserCols\n",
    "    userAssembler = VectorAssembler(inputCols=userInputCols, outputCol=\"userctxfeatures\")\n",
    "    data = userAssembler.transform(data)\n",
    "\n",
    "    if not queryctxData:\n",
    "        itemInputCols = encodedItemCols\n",
    "        itemAssembler = VectorAssembler(inputCols=itemInputCols, outputCol=\"itemfeatures\")\n",
    "        data = itemAssembler.transform(data)\n",
    "\n",
    "    # rename columns to Glint-FMPair names\n",
    "    cols = [col(\"userctxfeatures\"), col(\"userid\").cast(\"int\").alias(\"userid\")]\n",
    "    \n",
    "    if not queryctxData and sharedItemFeatures:\n",
    "        cols += [expr(\"resizeVector(itemfeatures,userctxfeatures)\").alias(\"itemfeatures\"), \n",
    "                 col(\"traid\").cast(\"int\").alias(\"itemid\"),\n",
    "                 col(\"albid\").cast(\"int\"), col(\"artid\").cast(\"int\")]\n",
    "    elif not queryctxData:\n",
    "        cols += [col(\"itemfeatures\"), col(\"traid\").cast(\"int\").alias(\"itemid\"),\n",
    "                 col(\"albid\").cast(\"int\"), col(\"artid\").cast(\"int\")]\n",
    "    \n",
    "    return data.select(*cols)"
   ]
  },
  {
   "cell_type": "markdown",
   "metadata": {},
   "source": [
    "## Evaluation metrics"
   ]
  },
  {
   "cell_type": "code",
   "execution_count": 17,
   "metadata": {},
   "outputs": [],
   "source": [
    "def dcg(itemid, recs):\n",
    "    return sum(1.0 / log2(i + 2) if rec[\"itemid\"] == itemid else 0.0\n",
    "               for i, rec in enumerate(recs))\n",
    "\n",
    "def hitRate(itemid, recs):\n",
    "    return 1.0 if recs[0][\"itemid\"] == itemid else 0\n",
    "\n",
    "\n",
    "dcgUdf = udf(dcg)\n",
    "hitRateUdf = udf(hitRate)\n",
    "\n",
    "\n",
    "def evaluateModel(queryfeatures, evaldata, model, withHitRates=False, traindata=None):\n",
    "    if traindata:\n",
    "        recdata = model.recommendForUserSubset(queryfeatures, traindata, 500)\n",
    "    else:\n",
    "        recdata = model.recommendForUserSubset(queryfeatures.coalesce(80), 500)\n",
    "    scores = evaldata.join(recdata, \"userid\") \\\n",
    "        .select(hitRateUdf(\"itemid\", \"recommendations\").alias(\"hitRate\"), \\\n",
    "                dcgUdf(\"itemid\", \"recommendations\").alias(\"dcg\")) \\\n",
    "        .select(mean(col(\"hitRate\")), mean(col(\"dcg\"))) \\\n",
    "        .first()\n",
    "    \n",
    "    hitRate = scores[0]\n",
    "    ndcg = scores[1]\n",
    "    \n",
    "    if withHitRates:\n",
    "        \n",
    "        numUsers = evaldata.select(\"userid\").dropDuplicates().count()\n",
    "        \n",
    "        hitRates = evaldata.join(recdata, \"userid\") \\\n",
    "            .select(\"itemid\", posexplode(\"recommendations\")) \\\n",
    "            .where(col(\"itemid\") == col(\"col.itemid\")) \\\n",
    "            .groupBy(\"pos\") \\\n",
    "            .agg(count(\"itemid\").alias(\"hitRate\"))\n",
    "         \n",
    "        hitRates = sc.range(0, 500).map(lambda p: Row(pos=p)).toDF() \\\n",
    "            .join(hitRates, on=\"pos\", how=\"left\") \\\n",
    "            .fillna(0.0, subset=[\"hitRate\"]) \\\n",
    "            .select(\"pos\", sparkSum(\"hitRate\").over(Window.orderBy(\"pos\")).alias(\"hitRate\")) \\\n",
    "            .orderBy(\"pos\") \\\n",
    "            .select(\"hitRate\") \\\n",
    "            .rdd \\\n",
    "            .map(lambda r: r[0] / numUsers) \\\n",
    "            .collect()\n",
    "        \n",
    "        return hitRate, ndcg, hitRates\n",
    "    \n",
    "    return hitRate, ndcg"
   ]
  },
  {
   "cell_type": "markdown",
   "metadata": {},
   "source": [
    "## Evaluation"
   ]
  },
  {
   "cell_type": "code",
   "execution_count": null,
   "metadata": {},
   "outputs": [],
   "source": [
    "trainFeaturesPath = \"30Music-L-trainfeatures.parquet\"\n",
    "valqueryFeaturesPath = \"30Music-L-valqueryfeatures.parquet\"\n",
    "\n",
    "if loadFeatures:\n",
    "    trainFeatures = spark.read.parquet(trainFeaturesPath).coalesce(400).cache()\n",
    "    valqueryFeatures = spark.read.parquet(valqueryFeaturesPath)\n",
    "    valFeatures = spark.read.parquet(indexedValDataPath).select(col(\"userid\"), col(\"traid\").alias(\"itemid\"))\n",
    "else:\n",
    "    trainFeatures = toFeatures(trainData, encoderModels,\n",
    "                               userCols=[\"userid\"], itemCols=[\"traid\"], ctxitemCols=[])\n",
    "    valqueryFeatures = toFeatures(valData, encoderModels, \n",
    "                                  queryctxData=valData,\n",
    "                                  userCols=[\"userid\"], ctxitemCols=[])\n",
    "    valFeatures = valData.select(col(\"userid\"), col(\"traid\").alias(\"itemid\"))\n",
    "    \n",
    "    if saveFeatures:\n",
    "        trainFeatures.coalesce(400).write.save(trainFeaturesPath, format=\"parquet\", mode=\"overwrite\")\n",
    "        valqueryFeatures.coalesce(400).write.save(valqueryFeaturesPath, format=\"parquet\", mode=\"overwrite\")"
   ]
  },
  {
   "cell_type": "code",
   "execution_count": null,
   "metadata": {},
   "outputs": [],
   "source": [
    "metadataPath = \"30Music-L.meta\"\n",
    "metadataPathExp = \"30Music-L-exp.meta\""
   ]
  },
  {
   "cell_type": "code",
   "execution_count": null,
   "metadata": {},
   "outputs": [],
   "source": [
    "fitStart = time.time()\n",
    "model = GlintFMPair(\n",
    "    batchSize=256, stepSize=0.1, linearReg=0.1, factorsReg=0.003, numDims=50,\n",
    "    parameterServerHost=parameterServerHost, numParameterServers=3, maxIter=100,\n",
    "    samplingCol=\"\", sampler=\"uniform\", filterItemsCol=\"\",\n",
    "    loadMetadata=True, saveMetadata=True, metadataPath=metadataPath\n",
    ").fit(trainFeatures)\n",
    "fitEnd = time.time()\n",
    "fitTime = fitEnd - fitStart\n",
    "            \n",
    "hitRate, ndcg = evaluateModel(valqueryFeatures, valFeatures, model)\n",
    "model.destroy()\n",
    "print(\"{:.5f}s fit time\\n{:.6f} hit rate\\n{:.6f} NDCG\".format(fitTime, hitRate, ndcg))\n",
    "\n",
    "# 769.81630s fit time\n",
    "# 0.003800 hit rate\n",
    "# 0.027909 NDCG"
   ]
  },
  {
   "cell_type": "code",
   "execution_count": null,
   "metadata": {},
   "outputs": [],
   "source": [
    "linearRegs = [0.001, 0.01, 0.03, 0.3]\n",
    "for linearReg in linearRegs:\n",
    "    fitStart = time.time()\n",
    "    model = GlintFMPair(\n",
    "        batchSize=256, stepSize=0.1, linearReg=linearReg, factorsReg=0.003, numDims=50,\n",
    "        parameterServerHost=parameterServerHost, numParameterServers=3, maxIter=100,\n",
    "        samplingCol=\"\", sampler=\"uniform\", filterItemsCol=\"\",\n",
    "        loadMetadata=True, saveMetadata=True, metadataPath=metadataPath\n",
    "    ).fit(trainFeatures)\n",
    "    fitEnd = time.time()\n",
    "    fitTime = fitEnd - fitStart\n",
    "\n",
    "    hitRate, ndcg = evaluateModel(valqueryFeatures, valFeatures, model)\n",
    "    model.destroy()\n",
    "    print(\"{:.5f}s fit time\\n{:.6f} hit rate\\n{:.6f} NDCG\".format(fitTime, hitRate, ndcg))\n",
    "\n",
    "# 769.92820s fit time\n",
    "# 0.002400 hit rate\n",
    "# 0.026507 NDCG\n",
    "# 1070.65501s fit time\n",
    "# 0.002600 hit rate\n",
    "# 0.028123 NDCG\n",
    "# 769.09358s fit time\n",
    "# 0.002500 hit rate\n",
    "# 0.027509 NDCG\n",
    "# 744.53656s fit time\n",
    "# 0.002800 hit rate\n",
    "# 0.028217 NDCG"
   ]
  },
  {
   "cell_type": "code",
   "execution_count": null,
   "metadata": {},
   "outputs": [],
   "source": [
    "factorRegs = [0.001, 0.01, 0.03, 0.1]\n",
    "for factorReg in factorRegs:\n",
    "    fitStart = time.time()\n",
    "    model = GlintFMPair(\n",
    "        batchSize=256, stepSize=0.1, linearReg=0.3, factorsReg=factorReg, numDims=50,\n",
    "        parameterServerHost=parameterServerHost, numParameterServers=3, maxIter=100,\n",
    "        samplingCol=\"\", sampler=\"uniform\", filterItemsCol=\"\",\n",
    "        loadMetadata=True, saveMetadata=True, metadataPath=metadataPath\n",
    "    ).fit(trainFeatures)\n",
    "    fitEnd = time.time()\n",
    "    fitTime = fitEnd - fitStart\n",
    "\n",
    "    hitRate, ndcg = evaluateModel(valqueryFeatures, valFeatures, model)\n",
    "    model.destroy()\n",
    "    print(\"{:.5f}s fit time\\n{:.6f} hit rate\\n{:.6f} NDCG\".format(fitTime, hitRate, ndcg))\n",
    "\n",
    "# 1112.41945s fit time\n",
    "# 0.002300 hit rate\n",
    "# 0.025004 NDCG\n",
    "# 761.25902s fit time\n",
    "# 0.002600 hit rate\n",
    "# 0.025468 NDCG\n",
    "# 740.64713s fit time\n",
    "# 0.001600 hit rate\n",
    "# 0.016367 NDCG\n",
    "# 793.63948s fit time\n",
    "# 0.000000 hit rate\n",
    "# 0.002894 NDCG"
   ]
  },
  {
   "cell_type": "code",
   "execution_count": null,
   "metadata": {},
   "outputs": [],
   "source": [
    "ks = [100, 150, 200, 250, 300, 350, 400]\n",
    "kNdcgs = []\n",
    "kFitTimes = []\n",
    "for k in ks:\n",
    "    fitStart = time.time()\n",
    "    model = GlintFMPair(\n",
    "        batchSize=256, stepSize=0.1, linearReg=0.3, factorsReg=0.003, numDims=k,\n",
    "        parameterServerHost=parameterServerHost, numParameterServers=3, maxIter=100,\n",
    "        samplingCol=\"\", sampler=\"uniform\", filterItemsCol=\"\",\n",
    "        loadMetadata=True, saveMetadata=True, metadataPath=metadataPath\n",
    "    ).fit(trainFeatures)\n",
    "    fitEnd = time.time()\n",
    "    fitTime = fitEnd - fitStart\n",
    "\n",
    "    hitRate, ndcg = evaluateModel(valqueryFeatures, valFeatures, model)\n",
    "    model.destroy()\n",
    "    print(\"k {}:\".format(k))\n",
    "    print(\"{:.5f}s fit time\\n{:.6f} hit rate\\n{:.6f} NDCG\".format(fitTime, hitRate, ndcg))\n",
    "    kNdcgs.append(ndcg)\n",
    "    kFitTimes.append(fitTime)\n",
    "\n",
    "# k 100:\n",
    "# 826.48912s fit time\n",
    "# 0.005400 hit rate\n",
    "# 0.037765 NDCG\n",
    "# k 150:\n",
    "# 859.48242s fit time\n",
    "# 0.005900 hit rate\n",
    "# 0.041183 NDCG\n",
    "# k 200:\n",
    "# 916.39787s fit time\n",
    "# 0.006100 hit rate\n",
    "# 0.042941 NDCG\n",
    "# k 250:\n",
    "# 976.08624s fit time\n",
    "# 0.006000 hit rate\n",
    "# 0.044643 NDCG\n",
    "# k 300:\n",
    "# 1388.20570s fit time\n",
    "# 0.005300 hit rate\n",
    "# 0.044574 NDCG\n",
    "# k 350:\n",
    "# 1183.39373s fit time\n",
    "# 0.006700 hit rate\n",
    "# 0.046190 NDCG\n",
    "# k 400:\n",
    "# 3007.96437s fit time\n",
    "# 0.007800 hit rate\n",
    "# 0.048447 NDCG"
   ]
  },
  {
   "cell_type": "code",
   "execution_count": null,
   "metadata": {},
   "outputs": [],
   "source": [
    "plt.close()"
   ]
  },
  {
   "cell_type": "code",
   "execution_count": null,
   "metadata": {},
   "outputs": [],
   "source": [
    "plt.figure(figsize=(6, 3))\n",
    "\n",
    "ks = [50, 100, 150, 200, 250, 300, 350, 400]\n",
    "kNdcgs = [0.028217, 0.037765, 0.041183, 0.042941, 0.044643, 0.044574, 0.046190, 0.048447]\n",
    "\n",
    "plt.plot(ks, kNdcgs, \"o--\", color=\"red\")\n",
    "plt.xticks(ks)\n",
    "plt.ylim(bottom=0.02, top=0.05)\n",
    "plt.grid(True, axis=\"y\")\n",
    "\n",
    "plt.ylabel(\"NDCG\")\n",
    "plt.xlabel(\"k\")\n",
    "plt.title(\"30Music Listenings\")\n",
    "plt.savefig(\"30music-l_ndcgs_k.png\", bbox_inches = \"tight\");"
   ]
  },
  {
   "cell_type": "code",
   "execution_count": null,
   "metadata": {},
   "outputs": [],
   "source": [
    "samplingCols = [\"itemid\", \"albid\", \"artid\",\n",
    "                \"\", \"itemid\", \"albid\", \"artid\",\n",
    "                \"\", \"itemid\", \"albid\", \"artid\",\n",
    "                \"\", \"itemid\", \"albid\", \"artid\"]\n",
    "samplers = [\"uniform\", \"uniform\", \"uniform\",\n",
    "            \"exp\", \"exp\", \"exp\", \"exp\",\n",
    "            \"crossbatch\", \"crossbatch\", \"crossbatch\", \"crossbatch\",\n",
    "            \"crossbatch\", \"crossbatch\", \"crossbatch\", \"crossbatch\"]\n",
    "lrs = [0.1, 0.1, 0.1,\n",
    "       0.1, 0.1, 0.1, 0.1,\n",
    "       1.0, 1.0, 1.0, 1.0,\n",
    "       1.0, 1.0, 1.0, 1.0]\n",
    "maxIters = [100, 100, 100,\n",
    "            100, 100, 100, 100,\n",
    "            10, 10, 10, 10,\n",
    "            10, 10, 10, 10]\n",
    "batchSizes = [256, 256, 256,\n",
    "              256, 256, 256, 256,\n",
    "              256, 256, 256, 256,\n",
    "              1024, 1024, 1024, 1024]\n",
    "\n",
    "metadataPaths = [metadataPath, metadataPath, metadataPath,\n",
    "                 metadataPathExp, metadataPathExp, metadataPathExp, metadataPathExp,\n",
    "                 metadataPath, metadataPath, metadataPath, metadataPath,\n",
    "                 metadataPath, metadataPath, metadataPath, metadataPath]\n",
    "\n",
    "for samplingCol, sampler, lr, maxIter, batchSize, metadataPath in zip(\n",
    "    samplingCols, samplers, lrs, maxIters, batchSizes, metadataPaths):\n",
    "    \n",
    "    fitStart = time.time()\n",
    "    model = GlintFMPair(\n",
    "        batchSize=batchSize, stepSize=lr, linearReg=0.3, factorsReg=0.003, numDims=300,\n",
    "        parameterServerHost=parameterServerHost, numParameterServers=3, maxIter=maxIter,\n",
    "        samplingCol=samplingCol, sampler=sampler, filterItemsCol=\"\",\n",
    "        loadMetadata=True, saveMetadata=True, metadataPath=metadataPath\n",
    "    ).fit(trainFeatures)\n",
    "    fitEnd = time.time()\n",
    "    fitTime = fitEnd - fitStart\n",
    "\n",
    "    hitRate, ndcg = evaluateModel(valqueryFeatures, valFeatures, model)\n",
    "    model.destroy()\n",
    "    print(\"{} {}:\".format(sampler, samplingCol))\n",
    "    print(\"{:.5f}s fit time\\n{:.6f} hit rate\\n{:.6f} NDCG\".format(fitTime, hitRate, ndcg))\n",
    "    \n",
    "# uniform itemid:\n",
    "# 1459.55878s fit time\n",
    "# 0.006300 hit rate\n",
    "# 0.045079 NDCG\n",
    "# uniform albid:\n",
    "# 1028.89447s fit time\n",
    "# 0.006400 hit rate\n",
    "# 0.045283 NDCG\n",
    "# uniform artid:\n",
    "# 1009.17636s fit time\n",
    "# 0.006700 hit rate\n",
    "# 0.044768 NDCG\n",
    "# exp :\n",
    "# 2156.65964s fit time\n",
    "# 0.006800 hit rate\n",
    "# 0.048674 NDCG\n",
    "# exp itemid:\n",
    "# 1096.18417s fit time\n",
    "# 0.006600 hit rate\n",
    "# 0.048557 NDCG\n",
    "# exp albid:\n",
    "# 993.02315s fit time\n",
    "# 0.007200 hit rate\n",
    "# 0.049352 NDCG\n",
    "# exp artid:\n",
    "# 1023.24253s fit time\n",
    "# 0.005600 hit rate\n",
    "# 0.048277 NDCG\n",
    "# crossbatch :\n",
    "# 864.01053s fit time\n",
    "# 0.004700 hit rate\n",
    "# 0.042598 NDCG\n",
    "# crossbatch itemid:\n",
    "# 1364.53078s fit time\n",
    "# 0.004800 hit rate\n",
    "# 0.042796 NDCG\n",
    "# crossbatch albid:\n",
    "# 1285.68711s fit time\n",
    "# 0.004400 hit rate\n",
    "# 0.043078 NDCG\n",
    "# crossbatch artid:\n",
    "# 1333.09099s fit time\n",
    "# 0.004700 hit rate\n",
    "# 0.042121 NDCG\n",
    "# crossbatch :\n",
    "# 1621.64429s fit time\n",
    "# 0.006600 hit rate\n",
    "# 0.050347 NDCG\n",
    "# crossbatch itemid:\n",
    "# 1423.17732s fit time\n",
    "# 0.007100 hit rate\n",
    "# 0.049972 NDCG\n",
    "# crossbatch albid:\n",
    "# 1432.14319s fit time\n",
    "# 0.007400 hit rate\n",
    "# 0.051115 NDCG\n",
    "# crossbatch artid:\n",
    "# 1566.38691s fit time\n",
    "# 0.006900 hit rate\n",
    "# 0.050598 NDCG"
   ]
  },
  {
   "cell_type": "code",
   "execution_count": null,
   "metadata": {},
   "outputs": [],
   "source": [
    "trainFeatures = toFeatures(trainData, encoderModels,\n",
    "                           userCols=[\"userid\"], itemCols=[\"traid\", \"albid\", \"artid\"],\n",
    "                           ctxitemCols=[]).coalesce(400).cache()\n",
    "valqueryFeatures = toFeatures(valData, encoderModels, \n",
    "                              queryctxData=valData,\n",
    "                              userCols=[\"userid\"], ctxitemCols=[])\n",
    "valFeatures = valData.select(col(\"userid\"), col(\"traid\").alias(\"itemid\"))\n",
    "\n",
    "\n",
    "metadataPath = \"30Music-L-item.meta\"\n",
    "\n",
    "fitStart = time.time()\n",
    "model = GlintFMPair(\n",
    "    batchSize=1024, stepSize=1.0, linearReg=0.3, factorsReg=0.003, numDims=300,\n",
    "    parameterServerHost=parameterServerHost, numParameterServers=3, maxIter=10,\n",
    "    samplingCol=\"\", sampler=\"crossbatch\", filterItemsCol=\"\",\n",
    "    loadMetadata=True, saveMetadata=True, metadataPath=metadataPath\n",
    ").fit(trainFeatures)\n",
    "fitEnd = time.time()\n",
    "fitTime = fitEnd - fitStart\n",
    "\n",
    "hitRate, ndcg = evaluateModel(valqueryFeatures, valFeatures, model)\n",
    "model.destroy()\n",
    "print(\"{:.5f}s fit time\\n{:.6f} hit rate\\n{:.6f} NDCG\".format(fitTime, hitRate, ndcg))\n",
    "\n",
    "# 1241.20043s fit time\n",
    "# 0.003100 hit rate\n",
    "# 0.046677 NDCG"
   ]
  },
  {
   "cell_type": "code",
   "execution_count": null,
   "metadata": {},
   "outputs": [],
   "source": [
    "trainFeatures = toFeatures(trainData, encoderModels,\n",
    "                           userCols=[\"userid\", \"genderid\", \"ageid\", \"countryid\"],\n",
    "                           itemCols=[\"traid\", \"albid\", \"artid\"],\n",
    "                           ctxitemCols=[]).coalesce(400).cache()\n",
    "valqueryFeatures = toFeatures(valData, encoderModels, \n",
    "                              queryctxData=valData,\n",
    "                              userCols=[\"userid\", \"genderid\", \"ageid\", \"countryid\"],\n",
    "                              ctxitemCols=[])\n",
    "valFeatures = valData.select(col(\"userid\"), col(\"traid\").alias(\"itemid\"))\n",
    "\n",
    "\n",
    "metadataPath = \"30Music-L-all.meta\"\n",
    "\n",
    "fitStart = time.time()\n",
    "model = GlintFMPair(\n",
    "    batchSize=1024, stepSize=1.0, linearReg=0.3, factorsReg=0.003, numDims=300,\n",
    "    parameterServerHost=parameterServerHost, numParameterServers=3, maxIter=10,\n",
    "    samplingCol=\"\", sampler=\"crossbatch\", filterItemsCol=\"\",\n",
    "    loadMetadata=True, saveMetadata=True, metadataPath=metadataPath\n",
    ").fit(trainFeatures)\n",
    "fitEnd = time.time()\n",
    "fitTime = fitEnd - fitStart\n",
    "\n",
    "hitRate, ndcg = evaluateModel(valqueryFeatures, valFeatures, model)\n",
    "model.destroy()\n",
    "print(\"{:.5f}s fit time\\n{:.6f} hit rate\\n{:.6f} NDCG\".format(fitTime, hitRate, ndcg))\n",
    "\n",
    "# 2642.53858s fit time\n",
    "# 0.003400 hit rate\n",
    "# 0.044699 NDCG"
   ]
  },
  {
   "cell_type": "code",
   "execution_count": null,
   "metadata": {},
   "outputs": [],
   "source": [
    "trainFeatures = toFeatures(trainData, encoderModels,\n",
    "                           userCols=[\"userid\"],\n",
    "                           itemCols=[\"traid\"],\n",
    "                           ctxitemCols=[\"prev_traid\"]).coalesce(400).cache()\n",
    "valqueryFeatures = toFeatures(valData, encoderModels, \n",
    "                              queryctxData=valData,\n",
    "                              userCols=[\"userid\"],\n",
    "                              ctxitemCols=[\"prev_traid\"])\n",
    "valFeatures = valData.select(col(\"userid\"), col(\"traid\").alias(\"itemid\"))\n",
    "\n",
    "\n",
    "metadataPath = \"30Music-L-prev.meta\"\n",
    "\n",
    "fitStart = time.time()\n",
    "model = GlintFMPair(\n",
    "    batchSize=1024, stepSize=1.0, linearReg=0.3, factorsReg=0.003, numDims=300,\n",
    "    parameterServerHost=parameterServerHost, numParameterServers=3, maxIter=10,\n",
    "    samplingCol=\"\", sampler=\"crossbatch\", filterItemsCol=\"\",\n",
    "    loadMetadata=True, saveMetadata=True, metadataPath=metadataPath\n",
    ").fit(trainFeatures)\n",
    "fitEnd = time.time()\n",
    "fitTime = fitEnd - fitStart\n",
    "\n",
    "hitRate, ndcg = evaluateModel(valqueryFeatures, valFeatures, model)\n",
    "model.destroy()\n",
    "print(\"{:.5f}s fit time\\n{:.6f} hit rate\\n{:.6f} NDCG\".format(fitTime, hitRate, ndcg))\n",
    "\n",
    "# 2557.10558s fit time\n",
    "# 0.158100 hit rate\n",
    "# 0.242465 NDCG"
   ]
  },
  {
   "cell_type": "code",
   "execution_count": null,
   "metadata": {},
   "outputs": [],
   "source": [
    "trainFeatures = toFeatures(trainData, encoderModels,\n",
    "                           userCols=[\"userid\"],\n",
    "                           itemCols=[\"traid\", \"albid\", \"artid\"],\n",
    "                           ctxitemCols=[\"prev_traid\", \"prev_albid\", \"prev_artid\"]\n",
    "                          ).coalesce(400).cache()\n",
    "valqueryFeatures = toFeatures(valData, encoderModels, \n",
    "                              queryctxData=valData,\n",
    "                              userCols=[\"userid\"],\n",
    "                              ctxitemCols=[\"prev_traid\", \"prev_albid\", \"prev_artid\"])\n",
    "valFeatures = valData.select(col(\"userid\"), col(\"traid\").alias(\"itemid\"))\n",
    "\n",
    "\n",
    "metadataPath = \"30Music-L-prev-item.meta\"\n",
    "\n",
    "fitStart = time.time()\n",
    "model = GlintFMPair(\n",
    "    batchSize=1024, stepSize=1.0, linearReg=0.3, factorsReg=0.003, numDims=300,\n",
    "    parameterServerHost=parameterServerHost, numParameterServers=3, maxIter=10,\n",
    "    samplingCol=\"\", sampler=\"crossbatch\", filterItemsCol=\"\",\n",
    "    loadMetadata=True, saveMetadata=True, metadataPath=metadataPath\n",
    ").fit(trainFeatures)\n",
    "fitEnd = time.time()\n",
    "fitTime = fitEnd - fitStart\n",
    "\n",
    "hitRate, ndcg = evaluateModel(valqueryFeatures, valFeatures, model)\n",
    "model.destroy()\n",
    "print(\"{:.5f}s fit time\\n{:.6f} hit rate\\n{:.6f} NDCG\".format(fitTime, hitRate, ndcg))\n",
    "\n",
    "# 4998.96782s fit time\n",
    "# 0.000000 hit rate\n",
    "# 0.000350 NDCG"
   ]
  },
  {
   "cell_type": "code",
   "execution_count": null,
   "metadata": {},
   "outputs": [],
   "source": [
    "trainFeatures = toFeatures(trainData, encoderModels,\n",
    "                           userCols=[\"userid\"],\n",
    "                           itemCols=[\"traid\", \"albid\", \"artid\"],\n",
    "                           ctxitemCols=[\"prev_traid\", \"prev_albid\", \"prev_artid\"]\n",
    "                          ).coalesce(400).cache()\n",
    "valqueryFeatures = toFeatures(valData, encoderModels, \n",
    "                              queryctxData=valData,\n",
    "                              userCols=[\"userid\"],\n",
    "                              ctxitemCols=[\"prev_traid\", \"prev_albid\", \"prev_artid\"])\n",
    "valFeatures = valData.select(col(\"userid\"), col(\"traid\").alias(\"itemid\"))\n",
    "\n",
    "\n",
    "metadataPath = \"30Music-L-prev-item.meta\"\n",
    "\n",
    "fitStart = time.time()\n",
    "model = GlintFMPair(\n",
    "    batchSize=1024, stepSize=0.6, linearReg=0.3, factorsReg=0.003, numDims=300,\n",
    "    parameterServerHost=parameterServerHost, numParameterServers=3, maxIter=10,\n",
    "    samplingCol=\"\", sampler=\"crossbatch\", filterItemsCol=\"\",\n",
    "    loadMetadata=True, saveMetadata=True, metadataPath=metadataPath\n",
    ").fit(trainFeatures)\n",
    "fitEnd = time.time()\n",
    "fitTime = fitEnd - fitStart\n",
    "\n",
    "hitRate, ndcg = evaluateModel(valqueryFeatures, valFeatures, model)\n",
    "model.destroy()\n",
    "print(\"{:.5f}s fit time\\n{:.6f} hit rate\\n{:.6f} NDCG\".format(fitTime, hitRate, ndcg))\n",
    "\n",
    "# 1741.04306s fit time\n",
    "# 0.055400 hit rate\n",
    "# 0.192885 NDCG"
   ]
  },
  {
   "cell_type": "code",
   "execution_count": null,
   "metadata": {},
   "outputs": [],
   "source": [
    "trainFeatures = toFeatures(trainData, encoderModels,\n",
    "                           userCols=[\"userid\", \"genderid\", \"ageid\", \"countryid\"],\n",
    "                           itemCols=[\"traid\", \"albid\", \"artid\"],\n",
    "                           ctxitemCols=[\"prev_traid\", \"prev_albid\", \"prev_artid\"]\n",
    "                          ).coalesce(400).cache()\n",
    "valqueryFeatures = toFeatures(valData, encoderModels, \n",
    "                              queryctxData=valData,\n",
    "                              userCols=[\"userid\", \"genderid\", \"ageid\", \"countryid\"],\n",
    "                              ctxitemCols=[\"prev_traid\", \"prev_albid\", \"prev_artid\"])\n",
    "valFeatures = valData.select(col(\"userid\"), col(\"traid\").alias(\"itemid\"))\n",
    "\n",
    "\n",
    "metadataPath = \"30Music-L-prev-all.meta\"\n",
    "\n",
    "fitStart = time.time()\n",
    "model = GlintFMPair(\n",
    "    batchSize=1024, stepSize=0.6, linearReg=0.3, factorsReg=0.003, numDims=300,\n",
    "    parameterServerHost=parameterServerHost, numParameterServers=3, maxIter=10,\n",
    "    samplingCol=\"\", sampler=\"crossbatch\", filterItemsCol=\"\",\n",
    "    loadMetadata=True, saveMetadata=True, metadataPath=metadataPath\n",
    ").fit(trainFeatures)\n",
    "fitEnd = time.time()\n",
    "fitTime = fitEnd - fitStart\n",
    "\n",
    "hitRate, ndcg = evaluateModel(valqueryFeatures, valFeatures, model)\n",
    "model.destroy()\n",
    "print(\"{:.5f}s fit time\\n{:.6f} hit rate\\n{:.6f} NDCG\".format(fitTime, hitRate, ndcg))\n",
    "\n",
    "# 1615.79176s fit time\n",
    "# 0.056800 hit rate\n",
    "# 0.193696 NDCG"
   ]
  },
  {
   "cell_type": "code",
   "execution_count": null,
   "metadata": {},
   "outputs": [],
   "source": [
    "trainFeatures = toFeatures(trainData, encoderModels, sharedItemFeatures=True,\n",
    "                           userCols=[\"userid\"],\n",
    "                           itemCols=[\"traid\"],\n",
    "                           ctxitemCols=[\"prev_traid\"]).coalesce(400).cache()\n",
    "valqueryFeatures = toFeatures(valData, encoderModels, sharedItemFeatures=True,\n",
    "                              queryctxData=valData,\n",
    "                              userCols=[\"userid\"],\n",
    "                              ctxitemCols=[\"prev_traid\"])\n",
    "valFeatures = valData.select(col(\"userid\"), col(\"traid\").alias(\"itemid\"))\n",
    "\n",
    "\n",
    "metadataPath = \"30Music-L-trans-prev.meta\"\n",
    "\n",
    "fitStart = time.time()\n",
    "model = GlintFMPair(\n",
    "    batchSize=1024, stepSize=1.0, linearReg=0.3, factorsReg=0.003, numDims=300,\n",
    "    parameterServerHost=parameterServerHost, numParameterServers=3, maxIter=10,\n",
    "    samplingCol=\"\", sampler=\"crossbatch\", filterItemsCol=\"\",\n",
    "    loadMetadata=True, saveMetadata=True, metadataPath=metadataPath\n",
    ").fit(trainFeatures)\n",
    "fitEnd = time.time()\n",
    "fitTime = fitEnd - fitStart\n",
    "\n",
    "hitRate, ndcg = evaluateModel(valqueryFeatures, valFeatures, model)\n",
    "model.destroy()\n",
    "print(\"{:.5f}s fit time\\n{:.6f} hit rate\\n{:.6f} NDCG\".format(fitTime, hitRate, ndcg))\n",
    "\n",
    "1591.14356s fit time\n",
    "0.042500 hit rate\n",
    "0.192585 NDCG"
   ]
  },
  {
   "cell_type": "code",
   "execution_count": null,
   "metadata": {},
   "outputs": [],
   "source": [
    "trainFeatures = toFeatures(trainData, encoderModels, sharedItemFeatures=True,\n",
    "                           userCols=[\"userid\"],\n",
    "                           itemCols=[\"traid\", \"albid\", \"artid\"],\n",
    "                           ctxitemCols=[\"prev_traid\", \"prev_albid\", \"prev_artid\"]\n",
    "                          ).coalesce(400).cache()\n",
    "valqueryFeatures = toFeatures(valData, encoderModels, sharedItemFeatures=True, \n",
    "                              queryctxData=valData,\n",
    "                              userCols=[\"userid\"],\n",
    "                              ctxitemCols=[\"prev_traid\", \"prev_albid\", \"prev_artid\"])\n",
    "valFeatures = valData.select(col(\"userid\"), col(\"traid\").alias(\"itemid\"))\n",
    "\n",
    "\n",
    "metadataPath = \"30Music-L-trans-prev-item.meta\"\n",
    "\n",
    "fitStart = time.time()\n",
    "model = GlintFMPair(\n",
    "    batchSize=1024, stepSize=0.6, linearReg=0.3, factorsReg=0.003, numDims=300,\n",
    "    parameterServerHost=parameterServerHost, numParameterServers=3, maxIter=10,\n",
    "    samplingCol=\"\", sampler=\"crossbatch\", filterItemsCol=\"\",\n",
    "    loadMetadata=True, saveMetadata=True, metadataPath=metadataPath\n",
    ").fit(trainFeatures)\n",
    "fitEnd = time.time()\n",
    "fitTime = fitEnd - fitStart\n",
    "\n",
    "hitRate, ndcg = evaluateModel(valqueryFeatures, valFeatures, model)\n",
    "model.destroy()\n",
    "print(\"{:.5f}s fit time\\n{:.6f} hit rate\\n{:.6f} NDCG\".format(fitTime, hitRate, ndcg))\n",
    "\n",
    "2633.81627s fit time\n",
    "0.039100 hit rate\n",
    "0.183885 NDCG"
   ]
  },
  {
   "cell_type": "code",
   "execution_count": null,
   "metadata": {},
   "outputs": [],
   "source": [
    "trainFeatures = toFeatures(trainData, encoderModels, sharedItemFeatures=True,\n",
    "                           userCols=[\"userid\", \"genderid\", \"ageid\", \"countryid\"],\n",
    "                           itemCols=[\"traid\", \"albid\", \"artid\"],\n",
    "                           ctxitemCols=[\"prev_traid\", \"prev_albid\", \"prev_artid\"]\n",
    "                          ).coalesce(400).cache()\n",
    "valqueryFeatures = toFeatures(valData, encoderModels, sharedItemFeatures=True, \n",
    "                              queryctxData=valData,\n",
    "                              userCols=[\"userid\", \"genderid\", \"ageid\", \"countryid\"],\n",
    "                              ctxitemCols=[\"prev_traid\", \"prev_albid\", \"prev_artid\"])\n",
    "valFeatures = valData.select(col(\"userid\"), col(\"traid\").alias(\"itemid\"))\n",
    "\n",
    "\n",
    "metadataPath = \"30Music-L-trans-prev-all.meta\"\n",
    "\n",
    "fitStart = time.time()\n",
    "model = GlintFMPair(\n",
    "    batchSize=1024, stepSize=0.6, linearReg=0.3, factorsReg=0.003, numDims=300,\n",
    "    parameterServerHost=parameterServerHost, numParameterServers=3, maxIter=10,\n",
    "    samplingCol=\"\", sampler=\"crossbatch\", filterItemsCol=\"\",\n",
    "    loadMetadata=True, saveMetadata=True, metadataPath=metadataPath\n",
    ").fit(trainFeatures)\n",
    "fitEnd = time.time()\n",
    "fitTime = fitEnd - fitStart\n",
    "\n",
    "hitRate, ndcg = evaluateModel(valqueryFeatures, valFeatures, model)\n",
    "model.destroy(terminateOtherClients=True)\n",
    "print(\"{:.5f}s fit time\\n{:.6f} hit rate\\n{:.6f} NDCG\".format(fitTime, hitRate, ndcg))\n",
    "\n",
    "# 2767.81222s fit time\n",
    "# 0.039000 hit rate\n",
    "# 0.181736 NDCG"
   ]
  },
  {
   "cell_type": "code",
   "execution_count": null,
   "metadata": {},
   "outputs": [],
   "source": [
    "print(\"{:.5f}s fit time\\n{:.6f} hit rate\\n{:.6f} NDCG\".format(fitTime, hitRate, ndcg))"
   ]
  },
  {
   "cell_type": "code",
   "execution_count": null,
   "metadata": {},
   "outputs": [],
   "source": [
    "trainFeatures = toFeatures(trainData, encoderModels, sharedItemFeatures=True,\n",
    "                           coldStartUserCols=[\"traid\"],\n",
    "                           userCols=[\"userid\", \"genderid\", \"ageid\", \"countryid\"],\n",
    "                           itemCols=[\"traid\", \"albid\", \"artid\"],\n",
    "                           ctxitemCols=[\"prev_traid\", \"prev_albid\", \"prev_artid\"]\n",
    "                          ).coalesce(400).cache()\n",
    "valqueryFeatures = toFeatures(valSeedsData, encoderModels, sharedItemFeatures=True, \n",
    "                              queryctxData=valData,\n",
    "                              coldStartUserCols=[\"traid\"],\n",
    "                              userCols=[\"userid\", \"genderid\", \"ageid\", \"countryid\"],\n",
    "                              ctxitemCols=[\"prev_traid\", \"prev_albid\", \"prev_artid\"])\n",
    "valFeatures = valData.select(col(\"userid\"), col(\"traid\").alias(\"itemid\"))\n",
    "\n",
    "\n",
    "metadataPath = \"30Music-L-trans-prev-all-sessions.meta\"\n",
    "\n",
    "fitStart = time.time()\n",
    "model = GlintFMPair(\n",
    "    batchSize=1024, stepSize=0.6, linearReg=0.3, factorsReg=0.003, numDims=300,\n",
    "    parameterServerHost=parameterServerHost, numParameterServers=3, maxIter=10,\n",
    "    samplingCol=\"\", sampler=\"crossbatch\", filterItemsCol=\"\",\n",
    "    loadMetadata=True, saveMetadata=True, metadataPath=metadataPath\n",
    ").fit(trainFeatures)\n",
    "fitEnd = time.time()\n",
    "fitTime = fitEnd - fitStart\n",
    "\n",
    "hitRate, ndcg = evaluateModel(valqueryFeatures, valFeatures, model)\n",
    "model.destroy()\n",
    "print(\"{:.5f}s fit time\\n{:.6f} hit rate\\n{:.6f} NDCG\".format(fitTime, hitRate, ndcg))"
   ]
  },
  {
   "cell_type": "markdown",
   "metadata": {},
   "source": [
    "## Final evaluation"
   ]
  },
  {
   "cell_type": "code",
   "execution_count": 18,
   "metadata": {},
   "outputs": [
    {
     "name": "stdout",
     "output_type": "stream",
     "text": [
      "10 k\n",
      "0.007000 hit rate\n",
      "0.073998 NDCG\n",
      "50 k\n",
      "0.007500 hit rate\n",
      "0.078863 NDCG\n",
      "100 k\n",
      "0.008200 hit rate\n",
      "0.079441 NDCG\n",
      "150 k\n",
      "0.007700 hit rate\n",
      "0.078880 NDCG\n",
      "200 k\n",
      "0.007900 hit rate\n",
      "0.078438 NDCG\n",
      "250 k\n",
      "0.007500 hit rate\n",
      "0.077819 NDCG\n",
      "300 k\n",
      "0.007800 hit rate\n",
      "0.077433 NDCG\n",
      "350 k\n",
      "0.007800 hit rate\n",
      "0.076937 NDCG\n",
      "400 k\n",
      "0.007800 hit rate\n",
      "0.076341 NDCG\n",
      "450 k\n",
      "0.007800 hit rate\n",
      "0.075886 NDCG\n",
      "500 k\n",
      "0.007500 hit rate\n",
      "0.075045 NDCG\n",
      "1000 k\n",
      "0.007100 hit rate\n",
      "0.071154 NDCG\n"
     ]
    }
   ],
   "source": [
    "model = TfIdfKNN(filterUserItems=False).fit(\n",
    "    trainData.select(col(\"userid\"), col(\"traid\").alias(\"itemid\"))\n",
    ")\n",
    "\n",
    "ks = [10, 50, 100, 150, 200, 250, 300, 350, 400, 450, 500, 1000]\n",
    "for k in ks:\n",
    "    hitRate, ndcg = evaluateModel(\n",
    "        valSeedsData.select(col(\"userid\"), col(\"traid\").alias(\"itemid\")),\n",
    "        valData.select(col(\"userid\"), col(\"traid\").alias(\"itemid\")),\n",
    "        model.setK(k))\n",
    "    print(\"{} k\\n{:.6f} hit rate\\n{:.6f} NDCG\".format(k, hitRate, ndcg))"
   ]
  },
  {
   "cell_type": "code",
   "execution_count": 20,
   "metadata": {},
   "outputs": [
    {
     "name": "stdout",
     "output_type": "stream",
     "text": [
      "0.007600 hit rate\n",
      "0.079282 NDCG\n"
     ]
    }
   ],
   "source": [
    "model = TfIdfKNN(filterUserItems=False).fit(\n",
    "    trainData.select(col(\"userid\"), col(\"traid\").alias(\"itemid\"))\n",
    ")\n",
    "\n",
    "hitRate, knnNdcg, knnHitRates = evaluateModel(\n",
    "    valSeedsData.select(col(\"userid\"), col(\"traid\").alias(\"itemid\")),\n",
    "    valData.select(col(\"userid\"), col(\"traid\").alias(\"itemid\")),\n",
    "    model.setK(100), withHitRates=True)\n",
    "print(\"{:.6f} hit rate\\n{:.6f} NDCG\".format(hitRate, knnNdcg))"
   ]
  },
  {
   "cell_type": "code",
   "execution_count": 18,
   "metadata": {},
   "outputs": [
    {
     "name": "stdout",
     "output_type": "stream",
     "text": [
      "0.47085s fit time\n",
      "0.000600 hit rate\n",
      "0.007707 NDCG\n"
     ]
    }
   ],
   "source": [
    "fitStart = time.time()\n",
    "model = PopRank(filterUserItems=False, allItemsFrequency=True).fit(\n",
    "    trainData.select(\"userid\", col(\"traid\").alias(\"itemid\"))\n",
    ")\n",
    "fitEnd = time.time()\n",
    "fitTime = fitEnd - fitStart\n",
    "            \n",
    "hitRate, popRankNdcg, popRankHitRates = evaluateModel(\n",
    "    valSeedsData.select(\"userid\", col(\"traid\").alias(\"itemid\")),\n",
    "    valData.select(\"userid\", col(\"traid\").alias(\"itemid\")),\n",
    "    model, withHitRates=True)\n",
    "print(\"{:.5f}s fit time\\n{:.6f} hit rate\\n{:.6f} NDCG\".format(fitTime, hitRate, popRankNdcg))"
   ]
  },
  {
   "cell_type": "code",
   "execution_count": 19,
   "metadata": {},
   "outputs": [
    {
     "name": "stdout",
     "output_type": "stream",
     "text": [
      "0.10368s fit time\n",
      "0.002800 hit rate\n",
      "0.039787 NDCG\n"
     ]
    }
   ],
   "source": [
    "fitStart = time.time()\n",
    "model = SAGH(filterUserItems=False, allItemsFrequency=True).fit(\n",
    "    trainData.select(\"userid\", col(\"traid\").alias(\"itemid\"), \"artid\")\n",
    ")\n",
    "fitEnd = time.time()\n",
    "fitTime = fitEnd - fitStart\n",
    "            \n",
    "hitRate, saghNdcg, saghHitRates = evaluateModel(\n",
    "    valSeedsData.select(\"userid\", col(\"traid\").alias(\"itemid\"), \"artid\"),\n",
    "    valData.select(\"userid\", col(\"traid\").alias(\"itemid\")),\n",
    "    model, withHitRates=True)\n",
    "print(\"{:.5f}s fit time\\n{:.6f} hit rate\\n{:.6f} NDCG\".format(fitTime, hitRate, saghNdcg))"
   ]
  },
  {
   "cell_type": "code",
   "execution_count": 18,
   "metadata": {},
   "outputs": [
    {
     "name": "stdout",
     "output_type": "stream",
     "text": [
      "8308.21255s fit time\n",
      "0.003300 hit rate\n",
      "0.038180 NDCG\n"
     ]
    }
   ],
   "source": [
    "trainFeatures = toFeatures(trainData, encoderModels,\n",
    "                           userCols=[\"userid\"],\n",
    "                           itemCols=[\"traid\"],\n",
    "                           ctxitemCols=[]).coalesce(400).cache()\n",
    "valqueryFeatures = toFeatures(valData, encoderModels, \n",
    "                              queryctxData=valData,\n",
    "                              userCols=[\"userid\"],\n",
    "                              ctxitemCols=[])\n",
    "valFeatures = valData.select(col(\"userid\"), col(\"traid\").alias(\"itemid\"))\n",
    "\n",
    "\n",
    "metadataPath = \"30Music-L-final.meta\"\n",
    "\n",
    "fitStart = time.time()\n",
    "model = GlintFMPair(\n",
    "    batchSize=1024, stepSize=1.0, linearReg=0.3, factorsReg=0.003, numDims=300,\n",
    "    parameterServerHost=parameterServerHost, numParameterServers=3, maxIter=100,\n",
    "    samplingCol=\"\", sampler=\"crossbatch\", filterItemsCol=\"\",\n",
    "    loadMetadata=True, saveMetadata=True, metadataPath=metadataPath\n",
    ").fit(trainFeatures)\n",
    "fitEnd = time.time()\n",
    "fitTime = fitEnd - fitStart\n",
    "\n",
    "hitRate, ndcg, hitRates = evaluateModel(valqueryFeatures, valFeatures, model, withHitRates=True)\n",
    "model.destroy()\n",
    "print(\"{:.5f}s fit time\\n{:.6f} hit rate\\n{:.6f} NDCG\".format(fitTime, hitRate, ndcg))"
   ]
  },
  {
   "cell_type": "code",
   "execution_count": 18,
   "metadata": {},
   "outputs": [
    {
     "name": "stdout",
     "output_type": "stream",
     "text": [
      "1028.34171s fit time\n",
      "0.009000 hit rate\n",
      "0.050906 NDCG\n"
     ]
    }
   ],
   "source": [
    "trainFeatures = toFeatures(trainData, encoderModels,\n",
    "                           userCols=[\"userid\"],\n",
    "                           itemCols=[\"traid\"],\n",
    "                           ctxitemCols=[]).coalesce(400).cache()\n",
    "valqueryFeatures = toFeatures(valData, encoderModels, \n",
    "                              queryctxData=valData,\n",
    "                              userCols=[\"userid\"],\n",
    "                              ctxitemCols=[])\n",
    "valFeatures = valData.select(col(\"userid\"), col(\"traid\").alias(\"itemid\"))\n",
    "\n",
    "\n",
    "metadataPath = \"30Music-L-final.meta\"\n",
    "\n",
    "fitStart = time.time()\n",
    "model = GlintFMPair(\n",
    "    batchSize=1024, stepSize=1.0, linearReg=0.3, factorsReg=0.003, numDims=300,\n",
    "    parameterServerHost=parameterServerHost, numParameterServers=3, maxIter=10,\n",
    "    samplingCol=\"\", sampler=\"crossbatch\", filterItemsCol=\"\",\n",
    "    loadMetadata=True, saveMetadata=True, metadataPath=metadataPath\n",
    ").fit(trainFeatures)\n",
    "fitEnd = time.time()\n",
    "fitTime = fitEnd - fitStart\n",
    "\n",
    "hitRate, ndcg, hitRates = evaluateModel(valqueryFeatures, valFeatures, model, withHitRates=True)\n",
    "model.destroy()\n",
    "print(\"{:.5f}s fit time\\n{:.6f} hit rate\\n{:.6f} NDCG\".format(fitTime, hitRate, ndcg))\n",
    "\n",
    "with open(\"30Music-L-final-hitRates2.pickle\", \"wb\") as f:\n",
    "    pickle.dump(hitRates, f)"
   ]
  },
  {
   "cell_type": "code",
   "execution_count": 19,
   "metadata": {},
   "outputs": [
    {
     "name": "stdout",
     "output_type": "stream",
     "text": [
      "1271.50239s fit time\n",
      "0.053200 hit rate\n",
      "0.140893 NDCG\n"
     ]
    }
   ],
   "source": [
    "trainFeatures = toFeatures(trainData, encoderModels,\n",
    "                           userCols=[\"userid\"],\n",
    "                           itemCols=[\"traid\"],\n",
    "                           ctxitemCols=[\"prev_traid\"]).coalesce(400).cache()\n",
    "valqueryFeatures = toFeatures(valData, encoderModels, \n",
    "                              queryctxData=valData,\n",
    "                              userCols=[\"userid\"],\n",
    "                              ctxitemCols=[\"prev_traid\"])\n",
    "valFeatures = valData.select(col(\"userid\"), col(\"traid\").alias(\"itemid\"))\n",
    "\n",
    "\n",
    "metadataPath = \"30Music-L-final-prev.meta\"\n",
    "\n",
    "fitStart = time.time()\n",
    "model = GlintFMPair(\n",
    "    batchSize=1024, stepSize=1.0, linearReg=0.3, factorsReg=0.003, numDims=300,\n",
    "    parameterServerHost=parameterServerHost, numParameterServers=3, maxIter=10,\n",
    "    samplingCol=\"\", sampler=\"crossbatch\", filterItemsCol=\"\",\n",
    "    loadMetadata=True, saveMetadata=True, metadataPath=metadataPath\n",
    ").fit(trainFeatures)\n",
    "fitEnd = time.time()\n",
    "fitTime = fitEnd - fitStart\n",
    "\n",
    "hitRate, ndcg, hitRates = evaluateModel(valqueryFeatures, valFeatures, model, withHitRates=True)\n",
    "model.destroy()\n",
    "print(\"{:.5f}s fit time\\n{:.6f} hit rate\\n{:.6f} NDCG\".format(fitTime, hitRate, ndcg))\n",
    "\n",
    "with open(\"30Music-L-final-prev-hitRates2.pickle\", \"wb\") as f:\n",
    "    pickle.dump(hitRates, f)"
   ]
  },
  {
   "cell_type": "code",
   "execution_count": 21,
   "metadata": {},
   "outputs": [],
   "source": [
    "with open(\"30Music-L-final-hitRates2.pickle\", \"rb\") as f:\n",
    "    hitRates = pickle.load(f)\n",
    "\n",
    "with open(\"30Music-L-final-prev-hitRates2.pickle\", \"rb\") as f:\n",
    "    hitRates2 = pickle.load(f)"
   ]
  },
  {
   "cell_type": "code",
   "execution_count": 28,
   "metadata": {},
   "outputs": [
    {
     "data": {
      "image/png": "[encoded data removed]",
      "text/plain": [
       "<Figure size 648x360 with 1 Axes>"
      ]
     },
     "metadata": {
      "needs_background": "light"
     },
     "output_type": "display_data"
    }
   ],
   "source": [
    "plt.figure(figsize=(9, 5))\n",
    "plt.plot(popRankHitRates, color=\"yellowgreen\")\n",
    "plt.plot(saghHitRates, color=\"lime\")\n",
    "plt.plot(knnHitRates, color=\"green\")\n",
    "plt.plot(hitRates, color=\"orange\")\n",
    "plt.plot(hitRates2, color=\"red\")\n",
    "\n",
    "yellowgreen_patch = mpatches.Patch(color=\"yellowgreen\",\n",
    "                                   label=\"{:.6f} Pop Rank\".format(popRankNdcg))\n",
    "green_patch = mpatches.Patch(color=\"lime\",\n",
    "                             label=\"{:.6f} SAGH\".format(saghNdcg))\n",
    "dgreen_patch = mpatches.Patch(color=\"green\",\n",
    "                              label=\"{:.6f} kNN, k 100\".format(knnNdcg))\n",
    "orange_patch = mpatches.Patch(color=\"orange\",\n",
    "                              label=\"0.050906 FM\")\n",
    "red_patch = mpatches.Patch(color=\"red\",\n",
    "                           label=\"0.140893 FM, prev\")\n",
    "patches = [red_patch, dgreen_patch, orange_patch,\n",
    "           green_patch, yellowgreen_patch]\n",
    "plt.legend(handles=patches, loc=\"lower right\")\n",
    "\n",
    "plt.ylabel(\"hit rate\")\n",
    "plt.xlabel(\"recommendations\")\n",
    "plt.title(\"30Music L\")\n",
    "\n",
    "plt.savefig(\"30Music-L-baselines.png\", bbox_inches=\"tight\");"
   ]
  },
  {
   "cell_type": "code",
   "execution_count": null,
   "metadata": {},
   "outputs": [],
   "source": []
  }
 ],
 "metadata": {
  "kernelspec": {
   "display_name": "Python 3",
   "language": "python",
   "name": "python3"
  },
  "language_info": {
   "codemirror_mode": {
    "name": "ipython",
    "version": 3
   },
   "file_extension": ".py",
   "mimetype": "text/x-python",
   "name": "python",
   "nbconvert_exporter": "python",
   "pygments_lexer": "ipython3",
   "version": "3.6.6"
  }
 },
 "nbformat": 4,
 "nbformat_minor": 2
}
