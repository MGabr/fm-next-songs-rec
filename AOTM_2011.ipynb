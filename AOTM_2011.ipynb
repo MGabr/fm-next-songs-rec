{
  "nbformat": 4,
  "nbformat_minor": 0,
  "metadata": {
    "colab": {
      "name": "Copy of AOTM-2011.ipynb",
      "provenance": [],
      "collapsed_sections": [
        "5TtW04S-lmHr",
        "ObYBFUCAlv1q",
        "6d5LRDQ_JNdz",
        "SK576G-GJKSR",
        "naAIm2N_JjJF"
      ],
      "toc_visible": true,
      "machine_shape": "hm",
      "include_colab_link": true
    },
    "kernelspec": {
      "name": "python3",
      "display_name": "Python 3"
    },
    "accelerator": "GPU"
  },
  "cells": [
    {
      "cell_type": "markdown",
      "metadata": {
        "id": "view-in-github",
        "colab_type": "text"
      },
      "source": [
        "<a href=\"https://colab.research.google.com/github/MGabr/fm-next-songs-rec/blob/master/AOTM_2011.ipynb\" target=\"_parent\"><img src=\"https://colab.research.google.com/assets/colab-badge.svg\" alt=\"Open In Colab\"/></a>"
      ]
    },
    {
      "cell_type": "markdown",
      "metadata": {
        "id": "fI93PVFq7SiA",
        "colab_type": "text"
      },
      "source": [
        "<font size=\"6\">**AOTM-2011**</font>"
      ]
    },
    {
      "cell_type": "markdown",
      "metadata": {
        "id": "pLPK2cLl7Q8z",
        "colab_type": "text"
      },
      "source": [
        "The first evaluation is done with the Art-of-the-mix 2011 dataset which can be obtained at https://bmcfee.github.io/data/aotm2011.html.\n",
        "\n",
        "It contains more than 100k playlists created in the time between January, 22nd 1998 and June, 17th 2011.\n",
        "\n",
        "\n",
        "The additional Million Song Dataset summary can be found at http://millionsongdataset.com/pages/getting-dataset/ and obtained at http://millionsongdataset.com/sites/default/files/AdditionalFiles/msd_summary_file.h5."
      ]
    },
    {
      "cell_type": "markdown",
      "metadata": {
        "id": "e_1uDxG29uUq",
        "colab_type": "text"
      },
      "source": [
        "First we load all needed libraries here.\n"
      ]
    },
    {
      "cell_type": "code",
      "metadata": {
        "id": "vYhDwNaERIoC",
        "colab_type": "code",
        "colab": {}
      },
      "source": [
        "%tensorflow_version 1.x"
      ],
      "execution_count": 0,
      "outputs": []
    },
    {
      "cell_type": "code",
      "metadata": {
        "id": "Atg7WxKI3eaL",
        "colab_type": "code",
        "colab": {}
      },
      "source": [
        "import warnings\n",
        "warnings.filterwarnings(\"ignore\", category=DeprecationWarning) \n",
        "\n",
        "import csv\n",
        "import itertools\n",
        "import json\n",
        "import os\n",
        "import time\n",
        "import pickle\n",
        "\n",
        "import pandas as pd\n",
        "import matplotlib.pyplot as plt\n",
        "import matplotlib.patches as mpatches\n",
        "import numpy as np\n",
        "import numba as nb\n",
        "import scipy.sparse as sp\n",
        "import tensorflow as tf\n",
        "import tensorflow.sparse as tfs\n",
        "\n",
        "# disable deprecation warnings\n",
        "if type(tf.contrib) != type(tf): tf.contrib._warning = None\n",
        "\n",
        "import logging\n",
        "import absl.logging\n",
        "logging.root.removeHandler(absl.logging._absl_handler)\n",
        "absl.logging._warn_preinit_stderr = False\n",
        "\n",
        "\n",
        "from google.colab import drive, files\n",
        "from math import ceil, log2, floor, sqrt\n",
        "from scipy.sparse import csr_matrix, coo_matrix\n",
        "from sklearn.feature_extraction.text import TfidfTransformer\n",
        "from sklearn.metrics.pairwise import cosine_similarity\n",
        "from sklearn.preprocessing import normalize\n",
        "from sklearn.utils import shuffle\n",
        "from statistics import mean\n",
        "from timeit import timeit"
      ],
      "execution_count": 0,
      "outputs": []
    },
    {
      "cell_type": "code",
      "metadata": {
        "id": "HKnt6sJX0lbB",
        "colab_type": "code",
        "outputId": "006cc4f1-cee1-49d0-fac9-61ddf25b0ff9",
        "colab": {
          "base_uri": "https://localhost:8080/",
          "height": 35
        }
      },
      "source": [
        "nb.__version__"
      ],
      "execution_count": 0,
      "outputs": [
        {
          "output_type": "execute_result",
          "data": {
            "text/plain": [
              "'0.47.0'"
            ]
          },
          "metadata": {
            "tags": []
          },
          "execution_count": 3
        }
      ]
    },
    {
      "cell_type": "markdown",
      "metadata": {
        "id": "WHIJrQy17YK6",
        "colab_type": "text"
      },
      "source": [
        "# Data loading and preprocessing"
      ]
    },
    {
      "cell_type": "markdown",
      "metadata": {
        "id": "tULotDRzK-MD",
        "colab_type": "text"
      },
      "source": [
        "If the notebook is executed in google colaboratory, the compressed data set should be stored in the directory *datasets* on google drive. This google drive directory can then be mounted and the dataset decompressed. For mounting, access to google drive has to be granted and a received authorization code entered."
      ]
    },
    {
      "cell_type": "code",
      "metadata": {
        "id": "jBPSKseE7QYz",
        "colab_type": "code",
        "outputId": "692f7d4e-49e4-4ff7-ff20-c85f00aa8b5a",
        "colab": {
          "base_uri": "https://localhost:8080/",
          "height": 53
        }
      },
      "source": [
        "os.chdir(\"/\")\n",
        "drive.mount(\"/drive\", force_remount=True)\n",
        "\n",
        "!ls \"/drive/My Drive/datasets\"\n",
        "!gunzip -k -c \"/drive/My Drive/datasets/aotm2011_playlists.json.gz\" > \"aotm2011_playlists.json\"\n",
        "\n",
        "os.chdir(\"/drive/My Drive/\")\n",
        "if not os.path.exists(\"models\"):\n",
        "  os.mkdir(\"models\")\n",
        "if not os.path.exists(\"models/aotm-2011\"):\n",
        "  os.mkdir(\"models/aotm-2011\")\n",
        "os.chdir(\"/\")"
      ],
      "execution_count": 0,
      "outputs": [
        {
          "output_type": "stream",
          "text": [
            "Mounted at /drive\n",
            "aotm2011_playlists.json.gz  lastfm-dataset-1K.tar.gz  msd_summary_file.h5\n"
          ],
          "name": "stdout"
        }
      ]
    },
    {
      "cell_type": "code",
      "metadata": {
        "id": "mgMt_yIhAEcN",
        "colab_type": "code",
        "colab": {}
      },
      "source": [
        "playlists_filename = \"aotm2011_playlists.json\"\n",
        "msd_filename = \"/drive/My Drive/datasets/msd_summary_file.h5\"\n",
        "models_dirname = \"/drive/My Drive/models/aotm-2011/\""
      ],
      "execution_count": 0,
      "outputs": []
    },
    {
      "cell_type": "markdown",
      "metadata": {
        "colab_type": "text",
        "id": "-JEQ3NQ4m8Xh"
      },
      "source": [
        "Now load the data from the JSON file."
      ]
    },
    {
      "cell_type": "code",
      "metadata": {
        "id": "6X5Wz5PnR_kR",
        "colab_type": "code",
        "outputId": "d4d3284d-cdb3-49f1-850e-2240d170cec7",
        "colab": {
          "base_uri": "https://localhost:8080/",
          "height": 289
        }
      },
      "source": [
        "df = pd.read_json(playlists_filename, orient=\"records\")\n",
        "\n",
        "df.head()"
      ],
      "execution_count": 0,
      "outputs": [
        {
          "output_type": "execute_result",
          "data": {
            "text/html": [
              "<div>\n",
              "<style scoped>\n",
              "    .dataframe tbody tr th:only-of-type {\n",
              "        vertical-align: middle;\n",
              "    }\n",
              "\n",
              "    .dataframe tbody tr th {\n",
              "        vertical-align: top;\n",
              "    }\n",
              "\n",
              "    .dataframe thead th {\n",
              "        text-align: right;\n",
              "    }\n",
              "</style>\n",
              "<table border=\"1\" class=\"dataframe\">\n",
              "  <thead>\n",
              "    <tr style=\"text-align: right;\">\n",
              "      <th></th>\n",
              "      <th>category</th>\n",
              "      <th>filtered_lists</th>\n",
              "      <th>playlist</th>\n",
              "      <th>timestamp</th>\n",
              "      <th>mix_id</th>\n",
              "      <th>user</th>\n",
              "    </tr>\n",
              "  </thead>\n",
              "  <tbody>\n",
              "    <tr>\n",
              "      <th>0</th>\n",
              "      <td>Mixed Genre</td>\n",
              "      <td>[[SOFDPDC12A58A7D198], [SOPIEQP12A8C13F268, SO...</td>\n",
              "      <td>[[[peter murphy, marlene dietrich's favourite ...</td>\n",
              "      <td>2005-03-27 10:53:00</td>\n",
              "      <td>89567</td>\n",
              "      <td>{'mixes_posted': '23', 'member_since': '2004-0...</td>\n",
              "    </tr>\n",
              "    <tr>\n",
              "      <th>1</th>\n",
              "      <td>Theme</td>\n",
              "      <td>[[SOQOVCB12A58A7E83B], [SOGKLYN12AB017F155, SO...</td>\n",
              "      <td>[[[The Cure, Edge Of the Deep Green Sea], None...</td>\n",
              "      <td>2008-01-11 21:45:00</td>\n",
              "      <td>117124</td>\n",
              "      <td>{'mixes_posted': '7', 'member_since': '2006-11...</td>\n",
              "    </tr>\n",
              "    <tr>\n",
              "      <th>2</th>\n",
              "      <td>Theme</td>\n",
              "      <td>[[SOFIQBR12A6D4F78C6]]</td>\n",
              "      <td>[[[Peter Gabriel, The Feeling Begins], None], ...</td>\n",
              "      <td>2005-10-31 10:15:00</td>\n",
              "      <td>97418</td>\n",
              "      <td>{'mixes_posted': '93', 'member_since': '2003-1...</td>\n",
              "    </tr>\n",
              "    <tr>\n",
              "      <th>3</th>\n",
              "      <td>Theme</td>\n",
              "      <td>[[SORJUFZ12A67ADAF25, SOEELNN12AB018AC8D], [SO...</td>\n",
              "      <td>[[[The Animals, San Francisco Nights], None], ...</td>\n",
              "      <td>2002-03-20 17:59:00</td>\n",
              "      <td>23876</td>\n",
              "      <td>{'mixes_posted': '8', 'member_since': '2002-03...</td>\n",
              "    </tr>\n",
              "    <tr>\n",
              "      <th>4</th>\n",
              "      <td>Theme</td>\n",
              "      <td>[[SOOUYTP12B0B8094B6, SOAJODS12A8C138A23], [SO...</td>\n",
              "      <td>[[[Sparklehorse, It's a Wonderful Life], SOOUY...</td>\n",
              "      <td>2004-03-23 03:43:00</td>\n",
              "      <td>70694</td>\n",
              "      <td>{'mixes_posted': '60', 'member_since': '2004-0...</td>\n",
              "    </tr>\n",
              "  </tbody>\n",
              "</table>\n",
              "</div>"
            ],
            "text/plain": [
              "      category  ...                                               user\n",
              "0  Mixed Genre  ...  {'mixes_posted': '23', 'member_since': '2004-0...\n",
              "1        Theme  ...  {'mixes_posted': '7', 'member_since': '2006-11...\n",
              "2        Theme  ...  {'mixes_posted': '93', 'member_since': '2003-1...\n",
              "3        Theme  ...  {'mixes_posted': '8', 'member_since': '2002-03...\n",
              "4        Theme  ...  {'mixes_posted': '60', 'member_since': '2004-0...\n",
              "\n",
              "[5 rows x 6 columns]"
            ]
          },
          "metadata": {
            "tags": []
          },
          "execution_count": 6
        }
      ]
    },
    {
      "cell_type": "code",
      "metadata": {
        "id": "YLvyoGDoaHg5",
        "colab_type": "code",
        "outputId": "bead8000-fe04-4db9-cadf-573d06e36863",
        "colab": {
          "base_uri": "https://localhost:8080/",
          "height": 204
        }
      },
      "source": [
        "df[\"pid\"] = df[\"mix_id\"]\n",
        "df[\"userid\"] = df[\"user\"].map(lambda u: u[\"name\"])\n",
        "\n",
        "# explode into sessions consecutive of tracks with MSD ids in playlists\n",
        "s = df[\"filtered_lists\"].apply(pd.Series)\n",
        "id_vars = [\"category\", \"pid\", \"timestamp\", \"userid\"]\n",
        "df = df[id_vars]\n",
        "df = s.merge(df, left_index=True, right_index=True)\n",
        "df = pd.melt(df, id_vars, var_name=\"sid\", value_name=\"filtered_list\")\n",
        "df = df[~df[\"filtered_list\"].isnull()]\n",
        "\n",
        "df.head()"
      ],
      "execution_count": 0,
      "outputs": [
        {
          "output_type": "execute_result",
          "data": {
            "text/html": [
              "<div>\n",
              "<style scoped>\n",
              "    .dataframe tbody tr th:only-of-type {\n",
              "        vertical-align: middle;\n",
              "    }\n",
              "\n",
              "    .dataframe tbody tr th {\n",
              "        vertical-align: top;\n",
              "    }\n",
              "\n",
              "    .dataframe thead th {\n",
              "        text-align: right;\n",
              "    }\n",
              "</style>\n",
              "<table border=\"1\" class=\"dataframe\">\n",
              "  <thead>\n",
              "    <tr style=\"text-align: right;\">\n",
              "      <th></th>\n",
              "      <th>category</th>\n",
              "      <th>pid</th>\n",
              "      <th>timestamp</th>\n",
              "      <th>userid</th>\n",
              "      <th>sid</th>\n",
              "      <th>filtered_list</th>\n",
              "    </tr>\n",
              "  </thead>\n",
              "  <tbody>\n",
              "    <tr>\n",
              "      <th>0</th>\n",
              "      <td>Mixed Genre</td>\n",
              "      <td>89567</td>\n",
              "      <td>2005-03-27 10:53:00</td>\n",
              "      <td>pulmotor</td>\n",
              "      <td>0</td>\n",
              "      <td>[SOFDPDC12A58A7D198]</td>\n",
              "    </tr>\n",
              "    <tr>\n",
              "      <th>1</th>\n",
              "      <td>Theme</td>\n",
              "      <td>117124</td>\n",
              "      <td>2008-01-11 21:45:00</td>\n",
              "      <td>caterpillar</td>\n",
              "      <td>0</td>\n",
              "      <td>[SOQOVCB12A58A7E83B]</td>\n",
              "    </tr>\n",
              "    <tr>\n",
              "      <th>2</th>\n",
              "      <td>Theme</td>\n",
              "      <td>97418</td>\n",
              "      <td>2005-10-31 10:15:00</td>\n",
              "      <td>gobi</td>\n",
              "      <td>0</td>\n",
              "      <td>[SOFIQBR12A6D4F78C6]</td>\n",
              "    </tr>\n",
              "    <tr>\n",
              "      <th>3</th>\n",
              "      <td>Theme</td>\n",
              "      <td>23876</td>\n",
              "      <td>2002-03-20 17:59:00</td>\n",
              "      <td>Osmundson</td>\n",
              "      <td>0</td>\n",
              "      <td>[SORJUFZ12A67ADAF25, SOEELNN12AB018AC8D]</td>\n",
              "    </tr>\n",
              "    <tr>\n",
              "      <th>4</th>\n",
              "      <td>Theme</td>\n",
              "      <td>70694</td>\n",
              "      <td>2004-03-23 03:43:00</td>\n",
              "      <td>ManOSand</td>\n",
              "      <td>0</td>\n",
              "      <td>[SOOUYTP12B0B8094B6, SOAJODS12A8C138A23]</td>\n",
              "    </tr>\n",
              "  </tbody>\n",
              "</table>\n",
              "</div>"
            ],
            "text/plain": [
              "      category     pid  ... sid                             filtered_list\n",
              "0  Mixed Genre   89567  ...   0                      [SOFDPDC12A58A7D198]\n",
              "1        Theme  117124  ...   0                      [SOQOVCB12A58A7E83B]\n",
              "2        Theme   97418  ...   0                      [SOFIQBR12A6D4F78C6]\n",
              "3        Theme   23876  ...   0  [SORJUFZ12A67ADAF25, SOEELNN12AB018AC8D]\n",
              "4        Theme   70694  ...   0  [SOOUYTP12B0B8094B6, SOAJODS12A8C138A23]\n",
              "\n",
              "[5 rows x 6 columns]"
            ]
          },
          "metadata": {
            "tags": []
          },
          "execution_count": 7
        }
      ]
    },
    {
      "cell_type": "markdown",
      "metadata": {
        "id": "ANU24RkFqgBP",
        "colab_type": "text"
      },
      "source": [
        " This step might take some time..."
      ]
    },
    {
      "cell_type": "code",
      "metadata": {
        "id": "BxQ34NQPZoXN",
        "colab_type": "code",
        "outputId": "ad0d7cf1-e8eb-495a-98f3-320a8a5f8e76",
        "colab": {
          "base_uri": "https://localhost:8080/",
          "height": 204
        }
      },
      "source": [
        "# explode sessions into tracks, keeping session ids\n",
        "s = df[\"filtered_list\"].apply(pd.Series)\n",
        "id_vars = id_vars + [\"sid\"]\n",
        "df = df[id_vars]\n",
        "df = s.merge(df, left_index=True, right_index=True)\n",
        "df = pd.melt(df, id_vars, var_name=\"varid\", value_name=\"traid\")\n",
        "df = df[~df[\"traid\"].isnull()]\n",
        "id_vars = id_vars + [\"traid\"]\n",
        "df = df[id_vars]\n",
        "\n",
        "df.sort_values([\"pid\", \"sid\"], kind=\"mergesort\", inplace=True)\n",
        "\n",
        "del s\n",
        "\n",
        "df.head()"
      ],
      "execution_count": 0,
      "outputs": [
        {
          "output_type": "execute_result",
          "data": {
            "text/html": [
              "<div>\n",
              "<style scoped>\n",
              "    .dataframe tbody tr th:only-of-type {\n",
              "        vertical-align: middle;\n",
              "    }\n",
              "\n",
              "    .dataframe tbody tr th {\n",
              "        vertical-align: top;\n",
              "    }\n",
              "\n",
              "    .dataframe thead th {\n",
              "        text-align: right;\n",
              "    }\n",
              "</style>\n",
              "<table border=\"1\" class=\"dataframe\">\n",
              "  <thead>\n",
              "    <tr style=\"text-align: right;\">\n",
              "      <th></th>\n",
              "      <th>category</th>\n",
              "      <th>pid</th>\n",
              "      <th>timestamp</th>\n",
              "      <th>userid</th>\n",
              "      <th>sid</th>\n",
              "      <th>traid</th>\n",
              "    </tr>\n",
              "  </thead>\n",
              "  <tbody>\n",
              "    <tr>\n",
              "      <th>34256</th>\n",
              "      <td>Rock/Pop</td>\n",
              "      <td>1</td>\n",
              "      <td>1998-01-22</td>\n",
              "      <td>Eli Lester</td>\n",
              "      <td>0</td>\n",
              "      <td>SOHVGOY12AF729EC76</td>\n",
              "    </tr>\n",
              "    <tr>\n",
              "      <th>130601</th>\n",
              "      <td>Rock/Pop</td>\n",
              "      <td>1</td>\n",
              "      <td>1998-01-22</td>\n",
              "      <td>Eli Lester</td>\n",
              "      <td>1</td>\n",
              "      <td>SORTBLM12A8C140261</td>\n",
              "    </tr>\n",
              "    <tr>\n",
              "      <th>590015</th>\n",
              "      <td>Rock/Pop</td>\n",
              "      <td>1</td>\n",
              "      <td>1998-01-22</td>\n",
              "      <td>Eli Lester</td>\n",
              "      <td>1</td>\n",
              "      <td>SOWENZL12AB0186BEE</td>\n",
              "    </tr>\n",
              "    <tr>\n",
              "      <th>221992</th>\n",
              "      <td>Rock/Pop</td>\n",
              "      <td>1</td>\n",
              "      <td>1998-01-22</td>\n",
              "      <td>Eli Lester</td>\n",
              "      <td>2</td>\n",
              "      <td>SOURMTG12A8C13B478</td>\n",
              "    </tr>\n",
              "    <tr>\n",
              "      <th>681406</th>\n",
              "      <td>Rock/Pop</td>\n",
              "      <td>1</td>\n",
              "      <td>1998-01-22</td>\n",
              "      <td>Eli Lester</td>\n",
              "      <td>2</td>\n",
              "      <td>SOCAXNF12A81356D4D</td>\n",
              "    </tr>\n",
              "  </tbody>\n",
              "</table>\n",
              "</div>"
            ],
            "text/plain": [
              "        category  pid  timestamp      userid sid               traid\n",
              "34256   Rock/Pop    1 1998-01-22  Eli Lester   0  SOHVGOY12AF729EC76\n",
              "130601  Rock/Pop    1 1998-01-22  Eli Lester   1  SORTBLM12A8C140261\n",
              "590015  Rock/Pop    1 1998-01-22  Eli Lester   1  SOWENZL12AB0186BEE\n",
              "221992  Rock/Pop    1 1998-01-22  Eli Lester   2  SOURMTG12A8C13B478\n",
              "681406  Rock/Pop    1 1998-01-22  Eli Lester   2  SOCAXNF12A81356D4D"
            ]
          },
          "metadata": {
            "tags": []
          },
          "execution_count": 8
        }
      ]
    },
    {
      "cell_type": "code",
      "metadata": {
        "id": "xt-6iyveOm9O",
        "colab_type": "code",
        "colab": {}
      },
      "source": [
        "df[\"pyear\"] = pd.DatetimeIndex(df[\"timestamp\"]).year"
      ],
      "execution_count": 0,
      "outputs": []
    },
    {
      "cell_type": "markdown",
      "metadata": {
        "id": "deMaT6u2jM6S",
        "colab_type": "text"
      },
      "source": [
        "We then add additional information received from the million song dataset."
      ]
    },
    {
      "cell_type": "code",
      "metadata": {
        "id": "JUR5Yita6X9y",
        "colab_type": "code",
        "outputId": "feb3b0d0-7d70-48d6-805c-58b87edb8b38",
        "colab": {
          "base_uri": "https://localhost:8080/",
          "height": 411
        }
      },
      "source": [
        "def with_msd_columns(df):\n",
        "  msd_cols = [\"artist_id\", \"release\", \"song_id\", \"artist_name\", \"title\"]\n",
        "  msd_df = pd.read_hdf(msd_filename, key=\"metadata/songs\")[msd_cols]\n",
        "  rename_map = {\"artist_id\": \"artid\", \"release\": \"albid\", \"song_id\": \"traid\",\n",
        "                \"artist_name\": \"artname\", \"title\": \"traname\"}\n",
        "  msd_df.rename(columns=rename_map, inplace=True)\n",
        "  msd_df[\"albname\"] = msd_df[\"albid\"]\n",
        "  msd_df[\"albid\"] = msd_df[\"artid\"] + \" \" + msd_df[\"albid\"]\n",
        "  \n",
        "  msd_year_df = pd.read_hdf(msd_filename, key=\"musicbrainz/songs\")[[\"year\"]]\n",
        "  msd_year_df.replace(0.0, np.nan, inplace=True)\n",
        "  msd_df = pd.concat([msd_df, msd_year_df], axis=1)\n",
        "\n",
        "  msd_a_cols = [\"key\", \"loudness\", \"mode\", \"tempo\"]  # key confidence, mode confidence\n",
        "  msd_a_df = pd.read_hdf(msd_filename, key=\"analysis/songs\")[msd_a_cols]\n",
        "  msd_a_df[\"loudness\"] = msd_a_df[\"loudness\"].round().astype(int)\n",
        "  msd_a_df[\"tempo\"] = msd_a_df[\"tempo\"].round().astype(int)\n",
        "  msd_a_df[\"mode\"] = msd_a_df[\"mode\"].round().astype(int)\n",
        "  msd_a_df[\"key\"] = msd_a_df[\"key\"].round().astype(int)\n",
        "  msd_df = pd.concat([msd_df, msd_a_df], axis=1)\n",
        "  \n",
        "  msd_df = msd_df.drop_duplicates(\"traid\")\n",
        "  msd_df = msd_df[msd_df[\"traid\"].isin(df[\"traid\"].drop_duplicates())]\n",
        "  \n",
        "  return df.join(msd_df.set_index(\"traid\"), on=\"traid\")\n",
        "\n",
        "df = with_msd_columns(df)\n",
        "df.head()"
      ],
      "execution_count": 0,
      "outputs": [
        {
          "output_type": "execute_result",
          "data": {
            "text/html": [
              "<div>\n",
              "<style scoped>\n",
              "    .dataframe tbody tr th:only-of-type {\n",
              "        vertical-align: middle;\n",
              "    }\n",
              "\n",
              "    .dataframe tbody tr th {\n",
              "        vertical-align: top;\n",
              "    }\n",
              "\n",
              "    .dataframe thead th {\n",
              "        text-align: right;\n",
              "    }\n",
              "</style>\n",
              "<table border=\"1\" class=\"dataframe\">\n",
              "  <thead>\n",
              "    <tr style=\"text-align: right;\">\n",
              "      <th></th>\n",
              "      <th>category</th>\n",
              "      <th>pid</th>\n",
              "      <th>timestamp</th>\n",
              "      <th>userid</th>\n",
              "      <th>sid</th>\n",
              "      <th>traid</th>\n",
              "      <th>pyear</th>\n",
              "      <th>artid</th>\n",
              "      <th>albid</th>\n",
              "      <th>artname</th>\n",
              "      <th>traname</th>\n",
              "      <th>albname</th>\n",
              "      <th>year</th>\n",
              "      <th>key</th>\n",
              "      <th>loudness</th>\n",
              "      <th>mode</th>\n",
              "      <th>tempo</th>\n",
              "    </tr>\n",
              "  </thead>\n",
              "  <tbody>\n",
              "    <tr>\n",
              "      <th>34256</th>\n",
              "      <td>Rock/Pop</td>\n",
              "      <td>1</td>\n",
              "      <td>1998-01-22</td>\n",
              "      <td>Eli Lester</td>\n",
              "      <td>0</td>\n",
              "      <td>SOHVGOY12AF729EC76</td>\n",
              "      <td>1998</td>\n",
              "      <td>ARBAN8S1187FB4D22F</td>\n",
              "      <td>ARBAN8S1187FB4D22F Ben Folds Five</td>\n",
              "      <td>Ben Folds Five</td>\n",
              "      <td>Philosophy</td>\n",
              "      <td>Ben Folds Five</td>\n",
              "      <td>1995.0</td>\n",
              "      <td>0</td>\n",
              "      <td>-7</td>\n",
              "      <td>1</td>\n",
              "      <td>195</td>\n",
              "    </tr>\n",
              "    <tr>\n",
              "      <th>130601</th>\n",
              "      <td>Rock/Pop</td>\n",
              "      <td>1</td>\n",
              "      <td>1998-01-22</td>\n",
              "      <td>Eli Lester</td>\n",
              "      <td>1</td>\n",
              "      <td>SORTBLM12A8C140261</td>\n",
              "      <td>1998</td>\n",
              "      <td>AR35E9F1187B9B4877</td>\n",
              "      <td>AR35E9F1187B9B4877 The Missing Years</td>\n",
              "      <td>John Prine</td>\n",
              "      <td>All the Best</td>\n",
              "      <td>The Missing Years</td>\n",
              "      <td>1991.0</td>\n",
              "      <td>0</td>\n",
              "      <td>-14</td>\n",
              "      <td>1</td>\n",
              "      <td>89</td>\n",
              "    </tr>\n",
              "    <tr>\n",
              "      <th>590015</th>\n",
              "      <td>Rock/Pop</td>\n",
              "      <td>1</td>\n",
              "      <td>1998-01-22</td>\n",
              "      <td>Eli Lester</td>\n",
              "      <td>1</td>\n",
              "      <td>SOWENZL12AB0186BEE</td>\n",
              "      <td>1998</td>\n",
              "      <td>ARVHCWL1187B9B8F60</td>\n",
              "      <td>ARVHCWL1187B9B8F60 B-Sides And Otherwise</td>\n",
              "      <td>Morphine</td>\n",
              "      <td>All Wrong (Album Version)</td>\n",
              "      <td>B-Sides And Otherwise</td>\n",
              "      <td>1997.0</td>\n",
              "      <td>0</td>\n",
              "      <td>-10</td>\n",
              "      <td>1</td>\n",
              "      <td>108</td>\n",
              "    </tr>\n",
              "    <tr>\n",
              "      <th>221992</th>\n",
              "      <td>Rock/Pop</td>\n",
              "      <td>1</td>\n",
              "      <td>1998-01-22</td>\n",
              "      <td>Eli Lester</td>\n",
              "      <td>2</td>\n",
              "      <td>SOURMTG12A8C13B478</td>\n",
              "      <td>1998</td>\n",
              "      <td>ARPIRQD1187B9AE9CA</td>\n",
              "      <td>ARPIRQD1187B9AE9CA March</td>\n",
              "      <td>Michael Penn</td>\n",
              "      <td>No Myth</td>\n",
              "      <td>March</td>\n",
              "      <td>1989.0</td>\n",
              "      <td>0</td>\n",
              "      <td>-10</td>\n",
              "      <td>1</td>\n",
              "      <td>104</td>\n",
              "    </tr>\n",
              "    <tr>\n",
              "      <th>681406</th>\n",
              "      <td>Rock/Pop</td>\n",
              "      <td>1</td>\n",
              "      <td>1998-01-22</td>\n",
              "      <td>Eli Lester</td>\n",
              "      <td>2</td>\n",
              "      <td>SOCAXNF12A81356D4D</td>\n",
              "      <td>1998</td>\n",
              "      <td>ARVFF0Y1187B9AC3CA</td>\n",
              "      <td>ARVFF0Y1187B9AC3CA Crooked Rain Crooked Rain (...</td>\n",
              "      <td>Pavement</td>\n",
              "      <td>Camera</td>\n",
              "      <td>Crooked Rain Crooked Rain (Deluxe Edition)</td>\n",
              "      <td>1994.0</td>\n",
              "      <td>7</td>\n",
              "      <td>-10</td>\n",
              "      <td>1</td>\n",
              "      <td>85</td>\n",
              "    </tr>\n",
              "  </tbody>\n",
              "</table>\n",
              "</div>"
            ],
            "text/plain": [
              "        category  pid  timestamp      userid  ... key loudness  mode tempo\n",
              "34256   Rock/Pop    1 1998-01-22  Eli Lester  ...   0       -7     1   195\n",
              "130601  Rock/Pop    1 1998-01-22  Eli Lester  ...   0      -14     1    89\n",
              "590015  Rock/Pop    1 1998-01-22  Eli Lester  ...   0      -10     1   108\n",
              "221992  Rock/Pop    1 1998-01-22  Eli Lester  ...   0      -10     1   104\n",
              "681406  Rock/Pop    1 1998-01-22  Eli Lester  ...   7      -10     1    85\n",
              "\n",
              "[5 rows x 17 columns]"
            ]
          },
          "metadata": {
            "tags": []
          },
          "execution_count": 10
        }
      ]
    },
    {
      "cell_type": "code",
      "metadata": {
        "id": "rVl8FSMoZild",
        "colab_type": "code",
        "colab": {}
      },
      "source": [
        "os.chdir(\"/drive/My Drive/\")"
      ],
      "execution_count": 0,
      "outputs": []
    },
    {
      "cell_type": "markdown",
      "metadata": {
        "id": "6AY2LmoHL9me",
        "colab_type": "text"
      },
      "source": [
        "After this, we can view statistics of the data set."
      ]
    },
    {
      "cell_type": "code",
      "metadata": {
        "id": "RDTVO2X5aP2T",
        "colab_type": "code",
        "outputId": "be106ae4-57d0-42e6-c4b8-70c651e34f0b",
        "colab": {
          "base_uri": "https://localhost:8080/",
          "height": 125
        }
      },
      "source": [
        "def get_statistics(df):\n",
        "  num_inters = len(df)\n",
        "  num_playlists = df[\"pid\"].nunique()\n",
        "  num_users = df[\"userid\"].nunique()\n",
        "  num_tracks = df[\"traid\"].nunique()\n",
        "  num_albums = df[\"albid\"].nunique()\n",
        "  num_artists = df[\"artid\"].nunique()\n",
        "  return num_inters, num_playlists, num_users, num_tracks, num_albums, num_artists\n",
        "\n",
        "\n",
        "def print_statistics(df):\n",
        "  print(\"{:,} interactions\\n{:,} playlists\\n{:,} users\\n{:,} tracks\\n{:,} albums\\n{:,} artists\"\n",
        "        .format(*get_statistics(df)))\n",
        "\n",
        "print_statistics(df)"
      ],
      "execution_count": 0,
      "outputs": [
        {
          "output_type": "stream",
          "text": [
            "895,449 interactions\n",
            "97,568 playlists\n",
            "15,668 users\n",
            "119,894 tracks\n",
            "51,121 albums\n",
            "17,332 artists\n"
          ],
          "name": "stdout"
        }
      ]
    },
    {
      "cell_type": "code",
      "metadata": {
        "id": "SRx-H_LJcIUt",
        "colab_type": "code",
        "outputId": "c1c9b606-6295-42c3-870e-83185f5f5262",
        "colab": {
          "base_uri": "https://localhost:8080/",
          "height": 295
        }
      },
      "source": [
        "def plot_playlists_per_track(df):\n",
        "  plt.figure(figsize=(12, 4))\n",
        "  track_ps_df = df[[\"pid\", \"traid\"]].drop_duplicates()[\"traid\"].value_counts()\n",
        "  \n",
        "  plt.subplot(1, 2, 1)\n",
        "  track_ps_df.hist(bins=range(0, 50))\n",
        "  plt.ylabel(\"Number of tracks\")\n",
        "  plt.xlabel(\"Number of playlists with the tracks\")\n",
        "  plt.title(\"Playlists per track\")\n",
        "  plt.grid(False)\n",
        "\n",
        "  plt.subplot(1, 2, 2)\n",
        "  track_ps_df.hist(bins=range(50, track_ps_df.max()))\n",
        "  plt.ylabel(\"Number of tracks\")\n",
        "  plt.xlabel(\"Number of playlists with the tracks\")\n",
        "  plt.title(\"Playlists per track (for > 50 playlists)\")\n",
        "  plt.grid(False)\n",
        "\n",
        "  plt.subplots_adjust(wspace=0.4)\n",
        "\n",
        "plot_playlists_per_track(df);"
      ],
      "execution_count": 0,
      "outputs": [
        {
          "output_type": "display_data",
          "data": {
            "image/png": "[encoded data removed]",
            "text/plain": [
              "<Figure size 864x288 with 2 Axes>"
            ]
          },
          "metadata": {
            "tags": []
          }
        }
      ]
    },
    {
      "cell_type": "code",
      "metadata": {
        "id": "2U4eqGkReKEj",
        "colab_type": "code",
        "outputId": "752efa73-4f74-4876-d2af-a835289ddcc9",
        "colab": {
          "base_uri": "https://localhost:8080/",
          "height": 295
        }
      },
      "source": [
        "def plot_tracks_per_playlist(df):\n",
        "  p_tracks_df = df[[\"pid\", \"traid\"]].drop_duplicates()[\"pid\"].value_counts()\n",
        "  p_tracks_df.hist(bins=range(0, p_tracks_df.max()))\n",
        "  plt.ylabel(\"Number of playlists\")\n",
        "  plt.xlabel(\"Number of tracks in the playlists\")\n",
        "  plt.title(\"Tracks per playlist\")\n",
        "  plt.grid(False)\n",
        "\n",
        "plot_tracks_per_playlist(df);"
      ],
      "execution_count": 0,
      "outputs": [
        {
          "output_type": "display_data",
          "data": {
            "image/png": "[encoded data removed]",
            "text/plain": [
              "<Figure size 432x288 with 1 Axes>"
            ]
          },
          "metadata": {
            "tags": []
          }
        }
      ]
    },
    {
      "cell_type": "code",
      "metadata": {
        "id": "UcJPn5fJSv_z",
        "colab_type": "code",
        "colab": {}
      },
      "source": [
        "def plot_both(df):\n",
        "  plt.figure(figsize=(12, 4))\n",
        "  \n",
        "  track_ps_df = df[[\"pid\", \"traid\"]].drop_duplicates()[\"traid\"].value_counts()\n",
        "  plt.subplot(1, 2, 1)\n",
        "  track_ps_df.hist(bins=range(0, 50))\n",
        "  plt.ylabel(\"#tracks\")\n",
        "  plt.xlabel(\"#playlists with the tracks\")\n",
        "  plt.title(\"Playlists per track\")\n",
        "  plt.grid(False)\n",
        "\n",
        "  p_tracks_df = df[[\"pid\", \"traid\"]].drop_duplicates()[\"pid\"].value_counts()\n",
        "  plt.subplot(1, 2, 2)\n",
        "  p_tracks_df.hist(bins=range(0, p_tracks_df.max()))\n",
        "  plt.ylabel(\"#playlists\")\n",
        "  plt.xlabel(\"#tracks in the playlists\")\n",
        "  plt.title(\"Tracks per playlist\")\n",
        "  plt.grid(False)\n",
        "\n",
        "  plt.subplots_adjust(wspace=0.2)\n",
        "  plt.suptitle(\"AOTM-2011\");"
      ],
      "execution_count": 0,
      "outputs": []
    },
    {
      "cell_type": "markdown",
      "metadata": {
        "id": "42FHDsQcMHjm",
        "colab_type": "text"
      },
      "source": [
        "As further preprocessing we remove the following:\n",
        "\n",
        "*   Tracks ocurring in only one playlist: of small use\n",
        "*   Playlists with less than 3 tracks: not useable for train-validation-test split\n",
        "\n"
      ]
    },
    {
      "cell_type": "code",
      "metadata": {
        "id": "aT-LqcEMfJXw",
        "colab_type": "code",
        "outputId": "ea108f0b-9702-4f10-8126-966706a9107a",
        "colab": {
          "base_uri": "https://localhost:8080/",
          "height": 179
        }
      },
      "source": [
        "def with_min_track_ps(df, min_track_ps = 2):\n",
        "  track_ps_df = df[[\"pid\", \"traid\"]].drop_duplicates()[\"traid\"].value_counts()\n",
        "  rm_tracks_idx = track_ps_df[track_ps_df < min_track_ps].index\n",
        "  df = df[~df[\"traid\"].isin(rm_tracks_idx)]\n",
        "  num_rm_tracks = rm_tracks_idx.size\n",
        "  print(\"removed {:,} tracks which were in less than {} playlists\"\n",
        "        .format(num_rm_tracks, min_track_ps))\n",
        "  return df\n",
        "\n",
        "def with_min_p_inters(df, min_p_inters = 3):\n",
        "  p_inters_df = df[\"pid\"].value_counts()\n",
        "  rm_p_idx = p_inters_df[p_inters_df < min_p_inters].index\n",
        "  df = df[~df[\"pid\"].isin(rm_p_idx)]\n",
        "  num_rm_ps = rm_p_idx.size\n",
        "  print(\"removed {:,} playlists which had less than {} track interactions\\n\"\n",
        "        .format(num_rm_ps, min_p_inters))\n",
        "  return df\n",
        "\n",
        "df = with_min_track_ps(df)\n",
        "df = with_min_p_inters(df)\n",
        "\n",
        "print_statistics(df)"
      ],
      "execution_count": 0,
      "outputs": [
        {
          "output_type": "stream",
          "text": [
            "removed 49,786 tracks which were in less than 2 playlists\n",
            "removed 6,161 playlists which had less than 3 track interactions\n",
            "\n",
            "836,162 interactions\n",
            "90,646 playlists\n",
            "14,855 users\n",
            "69,993 tracks\n",
            "31,874 albums\n",
            "11,283 artists\n"
          ],
          "name": "stdout"
        }
      ]
    },
    {
      "cell_type": "markdown",
      "metadata": {
        "id": "P2ggoVC0OBUd",
        "colab_type": "text"
      },
      "source": [
        "We also check if playlists sometimes contain the same track multiple times - and see that this is the case, but only a few times."
      ]
    },
    {
      "cell_type": "code",
      "metadata": {
        "id": "nH7CWkawYy-M",
        "colab_type": "code",
        "outputId": "83e30720-e758-4f99-fc5b-7a3880c9ae1b",
        "colab": {
          "base_uri": "https://localhost:8080/",
          "height": 240
        }
      },
      "source": [
        "duplicates_df = df.groupby([\"pid\", \"traid\"]).size()\n",
        "duplicates_df = duplicates_df[duplicates_df > 2].reset_index()\n",
        "\n",
        "print(\"{} tracks duplications in playlists\\n\".format(len(duplicates_df)))\n",
        "\n",
        "duplicates_df.head()"
      ],
      "execution_count": 0,
      "outputs": [
        {
          "output_type": "stream",
          "text": [
            "94 tracks duplications in playlists\n",
            "\n"
          ],
          "name": "stdout"
        },
        {
          "output_type": "execute_result",
          "data": {
            "text/html": [
              "<div>\n",
              "<style scoped>\n",
              "    .dataframe tbody tr th:only-of-type {\n",
              "        vertical-align: middle;\n",
              "    }\n",
              "\n",
              "    .dataframe tbody tr th {\n",
              "        vertical-align: top;\n",
              "    }\n",
              "\n",
              "    .dataframe thead th {\n",
              "        text-align: right;\n",
              "    }\n",
              "</style>\n",
              "<table border=\"1\" class=\"dataframe\">\n",
              "  <thead>\n",
              "    <tr style=\"text-align: right;\">\n",
              "      <th></th>\n",
              "      <th>pid</th>\n",
              "      <th>traid</th>\n",
              "      <th>0</th>\n",
              "    </tr>\n",
              "  </thead>\n",
              "  <tbody>\n",
              "    <tr>\n",
              "      <th>0</th>\n",
              "      <td>1198</td>\n",
              "      <td>SOAOVWM12A8C13996E</td>\n",
              "      <td>5</td>\n",
              "    </tr>\n",
              "    <tr>\n",
              "      <th>1</th>\n",
              "      <td>4030</td>\n",
              "      <td>SOIVPRW12A6310F237</td>\n",
              "      <td>4</td>\n",
              "    </tr>\n",
              "    <tr>\n",
              "      <th>2</th>\n",
              "      <td>4296</td>\n",
              "      <td>SOZCZTN12AF729E7EC</td>\n",
              "      <td>4</td>\n",
              "    </tr>\n",
              "    <tr>\n",
              "      <th>3</th>\n",
              "      <td>5105</td>\n",
              "      <td>SOPVXLX12A8C1402D5</td>\n",
              "      <td>3</td>\n",
              "    </tr>\n",
              "    <tr>\n",
              "      <th>4</th>\n",
              "      <td>5951</td>\n",
              "      <td>SORNOKL12D02199D15</td>\n",
              "      <td>5</td>\n",
              "    </tr>\n",
              "  </tbody>\n",
              "</table>\n",
              "</div>"
            ],
            "text/plain": [
              "    pid               traid  0\n",
              "0  1198  SOAOVWM12A8C13996E  5\n",
              "1  4030  SOIVPRW12A6310F237  4\n",
              "2  4296  SOZCZTN12AF729E7EC  4\n",
              "3  5105  SOPVXLX12A8C1402D5  3\n",
              "4  5951  SORNOKL12D02199D15  5"
            ]
          },
          "metadata": {
            "tags": []
          },
          "execution_count": 17
        }
      ]
    },
    {
      "cell_type": "code",
      "metadata": {
        "id": "0-btp_Eo1j3l",
        "colab_type": "code",
        "outputId": "93cbbd67-ce1a-4f4b-d3fd-ffb77cb999a4",
        "colab": {
          "base_uri": "https://localhost:8080/",
          "height": 295
        }
      },
      "source": [
        "plot_playlists_per_track(df);"
      ],
      "execution_count": 0,
      "outputs": [
        {
          "output_type": "display_data",
          "data": {
            "image/png": "[encoded data removed]",
            "text/plain": [
              "<Figure size 864x288 with 2 Axes>"
            ]
          },
          "metadata": {
            "tags": []
          }
        }
      ]
    },
    {
      "cell_type": "code",
      "metadata": {
        "id": "oVcgQTzQbcPu",
        "colab_type": "code",
        "outputId": "f954ce3b-4c69-49aa-e9cb-43f617431f70",
        "colab": {
          "base_uri": "https://localhost:8080/",
          "height": 35
        }
      },
      "source": [
        "df[[\"pid\", \"traid\"]].drop_duplicates()[\"traid\"].value_counts().mean()"
      ],
      "execution_count": 0,
      "outputs": [
        {
          "output_type": "execute_result",
          "data": {
            "text/plain": [
              "11.925221093537925"
            ]
          },
          "metadata": {
            "tags": []
          },
          "execution_count": 19
        }
      ]
    },
    {
      "cell_type": "code",
      "metadata": {
        "id": "fDV5FSvB1kPi",
        "colab_type": "code",
        "outputId": "ab3d0238-6f7c-4068-86be-f68e6d66324a",
        "colab": {
          "base_uri": "https://localhost:8080/",
          "height": 295
        }
      },
      "source": [
        "plot_tracks_per_playlist(df);"
      ],
      "execution_count": 0,
      "outputs": [
        {
          "output_type": "display_data",
          "data": {
            "image/png": "[encoded data removed]",
            "text/plain": [
              "<Figure size 432x288 with 1 Axes>"
            ]
          },
          "metadata": {
            "tags": []
          }
        }
      ]
    },
    {
      "cell_type": "code",
      "metadata": {
        "id": "tE-6w8khbPgv",
        "colab_type": "code",
        "outputId": "3fb8cee9-203c-45e3-a53f-0ae31e92d2ee",
        "colab": {
          "base_uri": "https://localhost:8080/",
          "height": 35
        }
      },
      "source": [
        "df[[\"pid\", \"traid\"]].drop_duplicates()[\"pid\"].value_counts().mean()"
      ],
      "execution_count": 0,
      "outputs": [
        {
          "output_type": "execute_result",
          "data": {
            "text/plain": [
              "9.208150387220616"
            ]
          },
          "metadata": {
            "tags": []
          },
          "execution_count": 21
        }
      ]
    },
    {
      "cell_type": "code",
      "metadata": {
        "id": "eIi_Cz8tTHzh",
        "colab_type": "code",
        "outputId": "3df62b1b-ec51-4c7b-b266-ebbf3a2ed6f4",
        "colab": {
          "base_uri": "https://localhost:8080/",
          "height": 308
        }
      },
      "source": [
        "plot_both(df);"
      ],
      "execution_count": 0,
      "outputs": [
        {
          "output_type": "display_data",
          "data": {
            "image/png": "[encoded data removed]",
            "text/plain": [
              "<Figure size 864x288 with 2 Axes>"
            ]
          },
          "metadata": {
            "tags": []
          }
        }
      ]
    },
    {
      "cell_type": "code",
      "metadata": {
        "id": "hanpEzes5meS",
        "colab_type": "code",
        "colab": {}
      },
      "source": [
        "def plot_long_tail(df):\n",
        "  track_counts = df[\"traid\"].value_counts().sort_values(ascending=False)\n",
        "  track_perc = track_counts.cumsum() / track_counts.sum()\n",
        "  xlabels = [0.0, 0.2, 0.4, 0.6, 0.8, 1.0]\n",
        "  xticks = [x * track_counts.size for x in xlabels]\n",
        "  track_perc.plot(use_index=False, ylim=(0.0, 1.0))\n",
        "  plt.xticks(ticks=xticks, labels=xlabels)\n",
        "  plt.ylabel(\"cumulative % of track occurence\")\n",
        "  plt.xlabel(\"% of tracks\")\n",
        "  plt.title(\"AOTM-2011\")\n",
        "  plt.grid(True);"
      ],
      "execution_count": 0,
      "outputs": []
    },
    {
      "cell_type": "code",
      "metadata": {
        "id": "W0TqFrxQ5iv0",
        "colab_type": "code",
        "outputId": "060a878c-e16c-4876-c2c2-7a17c9cf11f0",
        "colab": {
          "base_uri": "https://localhost:8080/",
          "height": 295
        }
      },
      "source": [
        "plot_long_tail(df)"
      ],
      "execution_count": 0,
      "outputs": [
        {
          "output_type": "display_data",
          "data": {
            "image/png": "[encoded data removed]",
            "text/plain": [
              "<Figure size 432x288 with 1 Axes>"
            ]
          },
          "metadata": {
            "tags": []
          }
        }
      ]
    },
    {
      "cell_type": "code",
      "metadata": {
        "id": "cfBNgROYmX2J",
        "colab_type": "code",
        "outputId": "b099f95f-0dbc-4e8b-adf1-f5c139695773",
        "colab": {
          "base_uri": "https://localhost:8080/",
          "height": 265
        }
      },
      "source": [
        "df[[\"year\", \"traid\"]].drop_duplicates()[\"year\"].hist(bins=int(df[\"year\"].max() - df[\"year\"].min()));"
      ],
      "execution_count": 0,
      "outputs": [
        {
          "output_type": "display_data",
          "data": {
            "image/png": "[encoded data removed]",
            "text/plain": [
              "<Figure size 432x288 with 1 Axes>"
            ]
          },
          "metadata": {
            "tags": []
          }
        }
      ]
    },
    {
      "cell_type": "code",
      "metadata": {
        "id": "MV4YKAO9R1Ei",
        "colab_type": "code",
        "outputId": "eb7f9b53-9c76-444e-e117-c79eac2f18cb",
        "colab": {
          "base_uri": "https://localhost:8080/",
          "height": 265
        }
      },
      "source": [
        "df[[\"pyear\", \"pid\"]].drop_duplicates()[\"pyear\"].hist(bins=int(df[\"pyear\"].max() - df[\"pyear\"].min()));"
      ],
      "execution_count": 0,
      "outputs": [
        {
          "output_type": "display_data",
          "data": {
            "image/png": "[encoded data removed]",
            "text/plain": [
              "<Figure size 432x288 with 1 Axes>"
            ]
          },
          "metadata": {
            "tags": []
          }
        }
      ]
    },
    {
      "cell_type": "code",
      "metadata": {
        "id": "mhSVv-XCvc0E",
        "colab_type": "code",
        "outputId": "f7492ef6-6e88-4bc0-c155-489ec6df8948",
        "colab": {
          "base_uri": "https://localhost:8080/",
          "height": 265
        }
      },
      "source": [
        "df.drop_duplicates(\"traid\")[\"loudness\"].hist(bins=50);"
      ],
      "execution_count": 0,
      "outputs": [
        {
          "output_type": "display_data",
          "data": {
            "image/png": "[encoded data removed]",
            "text/plain": [
              "<Figure size 432x288 with 1 Axes>"
            ]
          },
          "metadata": {
            "tags": []
          }
        }
      ]
    },
    {
      "cell_type": "code",
      "metadata": {
        "id": "VcIjFqEImw71",
        "colab_type": "code",
        "outputId": "ce7414a2-689e-40c9-cbab-14f413d26091",
        "colab": {
          "base_uri": "https://localhost:8080/",
          "height": 265
        }
      },
      "source": [
        "df.drop_duplicates(\"traid\")[\"tempo\"].hist(bins=250);"
      ],
      "execution_count": 0,
      "outputs": [
        {
          "output_type": "display_data",
          "data": {
            "image/png": "[encoded data removed]",
            "text/plain": [
              "<Figure size 432x288 with 1 Axes>"
            ]
          },
          "metadata": {
            "tags": []
          }
        }
      ]
    },
    {
      "cell_type": "code",
      "metadata": {
        "id": "2IBvDylghnNA",
        "colab_type": "code",
        "colab": {}
      },
      "source": [
        "df[\"b_tempo\"] = pd.cut(df[\"tempo\"],\n",
        "                       [0, 60, 70, 80, 90, 100, 110, 120, 130, 140,\n",
        "                        150, 160, 170, 180, 190, 200, 300],\n",
        "                       right=False,\n",
        "                       labels=[0, 1, 2, 3, 4, 5, 6, 7, 8, 9,\n",
        "                               10, 11, 12, 13, 14, 15])\n",
        "df[\"b_tempo\"] = df[\"b_tempo\"].astype(int, copy=False)"
      ],
      "execution_count": 0,
      "outputs": []
    },
    {
      "cell_type": "code",
      "metadata": {
        "id": "F_LRaqowm-jw",
        "colab_type": "code",
        "outputId": "3654d72a-3429-4d74-ef57-3fed093afb40",
        "colab": {
          "base_uri": "https://localhost:8080/",
          "height": 265
        }
      },
      "source": [
        "df.drop_duplicates(\"traid\")[\"b_tempo\"].hist(bins=16);"
      ],
      "execution_count": 0,
      "outputs": [
        {
          "output_type": "display_data",
          "data": {
            "image/png": "[encoded data removed]",
            "text/plain": [
              "<Figure size 432x288 with 1 Axes>"
            ]
          },
          "metadata": {
            "tags": []
          }
        }
      ]
    },
    {
      "cell_type": "code",
      "metadata": {
        "id": "6favfJAcnPu0",
        "colab_type": "code",
        "colab": {}
      },
      "source": [
        "df[\"bak_tempo\"] = df[\"tempo\"]\n",
        "df[\"tempo\"] = df[\"b_tempo\"]"
      ],
      "execution_count": 0,
      "outputs": []
    },
    {
      "cell_type": "markdown",
      "metadata": {
        "id": "GKcJNhW3Q2xm",
        "colab_type": "text"
      },
      "source": [
        "Finally, we also add the previous track, album, artist and year as column.\n",
        "\n",
        "Notable for these previous columns is that they are often not the immediately previous column since there are frequent gaps because of removed tracks (without MSD id or in less than 2 playlists). This might affect the quality of previous column relations but is a problem with the dataset."
      ]
    },
    {
      "cell_type": "code",
      "metadata": {
        "id": "tijYtBidK0XR",
        "colab_type": "code",
        "outputId": "42ddfeef-e230-45b6-bbfc-01f2f03bf729",
        "colab": {
          "base_uri": "https://localhost:8080/",
          "height": 411
        }
      },
      "source": [
        "def with_prev_columns(df):\n",
        "  gp = df.groupby(\"pid\")\n",
        "  df[\"prev_traid\"] = gp[\"traid\"].shift(1)\n",
        "  df[\"prev_albid\"] = gp[\"albid\"].shift(1)\n",
        "  df[\"prev_artid\"] = gp[\"artid\"].shift(1)\n",
        "  df[\"prev_year\"] = gp[\"year\"].shift(1)\n",
        "  df[\"prev_year\"].fillna(0, inplace=True)\n",
        "  df[\"prev_year\"] = df[\"prev_year\"].astype(int, copy=False)\n",
        "  df[\"prev_loudness\"] = gp[\"loudness\"].shift(1)\n",
        "  df[\"prev_tempo\"] = gp[\"tempo\"].shift(1)\n",
        "  df[\"prev_mode\"] = gp[\"mode\"].shift(1)\n",
        "  df[\"prev_key\"] = gp[\"key\"].shift(1)\n",
        "  return df\n",
        "\n",
        "df = with_prev_columns(df)\n",
        "df.head()"
      ],
      "execution_count": 0,
      "outputs": [
        {
          "output_type": "execute_result",
          "data": {
            "text/html": [
              "<div>\n",
              "<style scoped>\n",
              "    .dataframe tbody tr th:only-of-type {\n",
              "        vertical-align: middle;\n",
              "    }\n",
              "\n",
              "    .dataframe tbody tr th {\n",
              "        vertical-align: top;\n",
              "    }\n",
              "\n",
              "    .dataframe thead th {\n",
              "        text-align: right;\n",
              "    }\n",
              "</style>\n",
              "<table border=\"1\" class=\"dataframe\">\n",
              "  <thead>\n",
              "    <tr style=\"text-align: right;\">\n",
              "      <th></th>\n",
              "      <th>category</th>\n",
              "      <th>pid</th>\n",
              "      <th>timestamp</th>\n",
              "      <th>userid</th>\n",
              "      <th>sid</th>\n",
              "      <th>traid</th>\n",
              "      <th>pyear</th>\n",
              "      <th>artid</th>\n",
              "      <th>albid</th>\n",
              "      <th>artname</th>\n",
              "      <th>traname</th>\n",
              "      <th>albname</th>\n",
              "      <th>year</th>\n",
              "      <th>key</th>\n",
              "      <th>loudness</th>\n",
              "      <th>mode</th>\n",
              "      <th>tempo</th>\n",
              "      <th>b_tempo</th>\n",
              "      <th>bak_tempo</th>\n",
              "      <th>prev_traid</th>\n",
              "      <th>prev_albid</th>\n",
              "      <th>prev_artid</th>\n",
              "      <th>prev_year</th>\n",
              "      <th>prev_loudness</th>\n",
              "      <th>prev_tempo</th>\n",
              "      <th>prev_mode</th>\n",
              "      <th>prev_key</th>\n",
              "    </tr>\n",
              "  </thead>\n",
              "  <tbody>\n",
              "    <tr>\n",
              "      <th>34256</th>\n",
              "      <td>Rock/Pop</td>\n",
              "      <td>1</td>\n",
              "      <td>1998-01-22</td>\n",
              "      <td>Eli Lester</td>\n",
              "      <td>0</td>\n",
              "      <td>SOHVGOY12AF729EC76</td>\n",
              "      <td>1998</td>\n",
              "      <td>ARBAN8S1187FB4D22F</td>\n",
              "      <td>ARBAN8S1187FB4D22F Ben Folds Five</td>\n",
              "      <td>Ben Folds Five</td>\n",
              "      <td>Philosophy</td>\n",
              "      <td>Ben Folds Five</td>\n",
              "      <td>1995.0</td>\n",
              "      <td>0</td>\n",
              "      <td>-7</td>\n",
              "      <td>1</td>\n",
              "      <td>14</td>\n",
              "      <td>14</td>\n",
              "      <td>195</td>\n",
              "      <td>NaN</td>\n",
              "      <td>NaN</td>\n",
              "      <td>NaN</td>\n",
              "      <td>0</td>\n",
              "      <td>NaN</td>\n",
              "      <td>NaN</td>\n",
              "      <td>NaN</td>\n",
              "      <td>NaN</td>\n",
              "    </tr>\n",
              "    <tr>\n",
              "      <th>130601</th>\n",
              "      <td>Rock/Pop</td>\n",
              "      <td>1</td>\n",
              "      <td>1998-01-22</td>\n",
              "      <td>Eli Lester</td>\n",
              "      <td>1</td>\n",
              "      <td>SORTBLM12A8C140261</td>\n",
              "      <td>1998</td>\n",
              "      <td>AR35E9F1187B9B4877</td>\n",
              "      <td>AR35E9F1187B9B4877 The Missing Years</td>\n",
              "      <td>John Prine</td>\n",
              "      <td>All the Best</td>\n",
              "      <td>The Missing Years</td>\n",
              "      <td>1991.0</td>\n",
              "      <td>0</td>\n",
              "      <td>-14</td>\n",
              "      <td>1</td>\n",
              "      <td>3</td>\n",
              "      <td>3</td>\n",
              "      <td>89</td>\n",
              "      <td>SOHVGOY12AF729EC76</td>\n",
              "      <td>ARBAN8S1187FB4D22F Ben Folds Five</td>\n",
              "      <td>ARBAN8S1187FB4D22F</td>\n",
              "      <td>1995</td>\n",
              "      <td>-7.0</td>\n",
              "      <td>14.0</td>\n",
              "      <td>1.0</td>\n",
              "      <td>0.0</td>\n",
              "    </tr>\n",
              "    <tr>\n",
              "      <th>590015</th>\n",
              "      <td>Rock/Pop</td>\n",
              "      <td>1</td>\n",
              "      <td>1998-01-22</td>\n",
              "      <td>Eli Lester</td>\n",
              "      <td>1</td>\n",
              "      <td>SOWENZL12AB0186BEE</td>\n",
              "      <td>1998</td>\n",
              "      <td>ARVHCWL1187B9B8F60</td>\n",
              "      <td>ARVHCWL1187B9B8F60 B-Sides And Otherwise</td>\n",
              "      <td>Morphine</td>\n",
              "      <td>All Wrong (Album Version)</td>\n",
              "      <td>B-Sides And Otherwise</td>\n",
              "      <td>1997.0</td>\n",
              "      <td>0</td>\n",
              "      <td>-10</td>\n",
              "      <td>1</td>\n",
              "      <td>5</td>\n",
              "      <td>5</td>\n",
              "      <td>108</td>\n",
              "      <td>SORTBLM12A8C140261</td>\n",
              "      <td>AR35E9F1187B9B4877 The Missing Years</td>\n",
              "      <td>AR35E9F1187B9B4877</td>\n",
              "      <td>1991</td>\n",
              "      <td>-14.0</td>\n",
              "      <td>3.0</td>\n",
              "      <td>1.0</td>\n",
              "      <td>0.0</td>\n",
              "    </tr>\n",
              "    <tr>\n",
              "      <th>221992</th>\n",
              "      <td>Rock/Pop</td>\n",
              "      <td>1</td>\n",
              "      <td>1998-01-22</td>\n",
              "      <td>Eli Lester</td>\n",
              "      <td>2</td>\n",
              "      <td>SOURMTG12A8C13B478</td>\n",
              "      <td>1998</td>\n",
              "      <td>ARPIRQD1187B9AE9CA</td>\n",
              "      <td>ARPIRQD1187B9AE9CA March</td>\n",
              "      <td>Michael Penn</td>\n",
              "      <td>No Myth</td>\n",
              "      <td>March</td>\n",
              "      <td>1989.0</td>\n",
              "      <td>0</td>\n",
              "      <td>-10</td>\n",
              "      <td>1</td>\n",
              "      <td>5</td>\n",
              "      <td>5</td>\n",
              "      <td>104</td>\n",
              "      <td>SOWENZL12AB0186BEE</td>\n",
              "      <td>ARVHCWL1187B9B8F60 B-Sides And Otherwise</td>\n",
              "      <td>ARVHCWL1187B9B8F60</td>\n",
              "      <td>1997</td>\n",
              "      <td>-10.0</td>\n",
              "      <td>5.0</td>\n",
              "      <td>1.0</td>\n",
              "      <td>0.0</td>\n",
              "    </tr>\n",
              "    <tr>\n",
              "      <th>681406</th>\n",
              "      <td>Rock/Pop</td>\n",
              "      <td>1</td>\n",
              "      <td>1998-01-22</td>\n",
              "      <td>Eli Lester</td>\n",
              "      <td>2</td>\n",
              "      <td>SOCAXNF12A81356D4D</td>\n",
              "      <td>1998</td>\n",
              "      <td>ARVFF0Y1187B9AC3CA</td>\n",
              "      <td>ARVFF0Y1187B9AC3CA Crooked Rain Crooked Rain (...</td>\n",
              "      <td>Pavement</td>\n",
              "      <td>Camera</td>\n",
              "      <td>Crooked Rain Crooked Rain (Deluxe Edition)</td>\n",
              "      <td>1994.0</td>\n",
              "      <td>7</td>\n",
              "      <td>-10</td>\n",
              "      <td>1</td>\n",
              "      <td>3</td>\n",
              "      <td>3</td>\n",
              "      <td>85</td>\n",
              "      <td>SOURMTG12A8C13B478</td>\n",
              "      <td>ARPIRQD1187B9AE9CA March</td>\n",
              "      <td>ARPIRQD1187B9AE9CA</td>\n",
              "      <td>1989</td>\n",
              "      <td>-10.0</td>\n",
              "      <td>5.0</td>\n",
              "      <td>1.0</td>\n",
              "      <td>0.0</td>\n",
              "    </tr>\n",
              "  </tbody>\n",
              "</table>\n",
              "</div>"
            ],
            "text/plain": [
              "        category  pid  timestamp  ... prev_tempo prev_mode prev_key\n",
              "34256   Rock/Pop    1 1998-01-22  ...        NaN       NaN      NaN\n",
              "130601  Rock/Pop    1 1998-01-22  ...       14.0       1.0      0.0\n",
              "590015  Rock/Pop    1 1998-01-22  ...        3.0       1.0      0.0\n",
              "221992  Rock/Pop    1 1998-01-22  ...        5.0       1.0      0.0\n",
              "681406  Rock/Pop    1 1998-01-22  ...        5.0       1.0      0.0\n",
              "\n",
              "[5 rows x 27 columns]"
            ]
          },
          "metadata": {
            "tags": []
          },
          "execution_count": 33
        }
      ]
    },
    {
      "cell_type": "markdown",
      "metadata": {
        "id": "sAq6sLDsSPNd",
        "colab_type": "text"
      },
      "source": [
        "# Evaluation split"
      ]
    },
    {
      "cell_type": "markdown",
      "metadata": {
        "id": "6ZrrEXp6SUQQ",
        "colab_type": "text"
      },
      "source": [
        "First, we define functions for converting dataframe columns to one-hot indices in accordance with a train-test-validation split."
      ]
    },
    {
      "cell_type": "code",
      "metadata": {
        "id": "p5aEnyWQHCXM",
        "colab_type": "code",
        "colab": {}
      },
      "source": [
        "def col2id_col(df, col, mappings, rvs_mappings):\n",
        "  if col in mappings:\n",
        "    df[col] = df[col].map(mappings[col])\n",
        "    df[col].fillna(0, inplace=True)\n",
        "  else:\n",
        "    df[col], rvs_mappings[col] = df[col].factorize()\n",
        "    df[col] += 1\n",
        "    rvs_mappings[col] = rvs_mappings[col].insert(0, None)\n",
        "    mappings[col] = {col_val: i for i, col_val in enumerate(rvs_mappings[col])}\n",
        "\n",
        "  df[col] = df[col].astype(\"int64\", copy=False)\n",
        "\n",
        "\n",
        "def df2id_df(df, id_cols, mappings, rvs_mappings):\n",
        "  for id_col in id_cols:\n",
        "    col2id_col(df, id_col, mappings, rvs_mappings)\n",
        "\n",
        "\n",
        "def split_dfs2id_dfs(train_df, test_df=None, val_df=None, copy=True, cols=[],\n",
        "                     same_col_pairs=[]):\n",
        "  \"\"\"\n",
        "  Map columns of dataframes to one-hot indices.\n",
        "  Test and validation dataframes will use the mappings of the train dataframe.\n",
        "  Index 0 is used for missing and unknown (test and validation) column values.\n",
        "\n",
        "  same_col_pairs are (src_col, same_col) pairs where same_col uses the same\n",
        "  mappings as src_col.\n",
        "  \"\"\"\n",
        "  id_mappings = dict()\n",
        "  rvs_id_mappings = dict()\n",
        "  \n",
        "  if copy:\n",
        "    train_df = train_df.copy()\n",
        "    if test_df is not None:\n",
        "      test_df = test_df.copy()\n",
        "    if val_df is not None:\n",
        "      val_df = val_df.copy()\n",
        "  \n",
        "  dfs = [df for df in [train_df, val_df, test_df] if df is not None]\n",
        "\n",
        "  for df in dfs:\n",
        "    df2id_df(df, cols, id_mappings, rvs_id_mappings)\n",
        "\n",
        "  for src_col, same_col in same_col_pairs:\n",
        "    id_mappings[same_col] = id_mappings[src_col]\n",
        "  \n",
        "  same_cols = [same_col for _, same_col in same_col_pairs]\n",
        "\n",
        "  for df in dfs:\n",
        "    df2id_df(df, same_cols, id_mappings, rvs_id_mappings)\n",
        "\n",
        "  if copy:\n",
        "    return tuple(dfs)"
      ],
      "execution_count": 0,
      "outputs": []
    },
    {
      "cell_type": "markdown",
      "metadata": {
        "id": "GcEsG4t9xhql",
        "colab_type": "text"
      },
      "source": [
        "Now we set the columns we want to map to one-hot indices."
      ]
    },
    {
      "cell_type": "code",
      "metadata": {
        "id": "Z6gzqirEfZW8",
        "colab_type": "code",
        "colab": {}
      },
      "source": [
        "# columns to use\n",
        "use_cols = [\"pid\", \"userid\", \"category\", \"pyear\", \"year\", \"artid\", \"albid\", \"traid\",\n",
        "            \"loudness\", \"tempo\", \"mode\", \"key\"]\n",
        "\n",
        "# other columns to use with the same mappings as the previous columns\n",
        "use_col_pairs = [(\"year\", \"prev_year\"),\n",
        "                 (\"artid\", \"prev_artid\"),\n",
        "                 (\"albid\", \"prev_albid\"),\n",
        "                 (\"traid\", \"prev_traid\"),\n",
        "                 (\"loudness\", \"prev_loudness\"),\n",
        "                 (\"tempo\", \"prev_tempo\"),\n",
        "                 (\"mode\", \"prev_mode\"),\n",
        "                 (\"key\", \"prev_key\")]\n",
        "\n",
        "# which columns are user/context columns - and known as query context\n",
        "non_track_cols = [\"category\", \"pyear\", \"pid\", \"userid\",\n",
        "                  \"prev_traid\", \"prev_albid\", \"prev_artid\", \"prev_year\",\n",
        "                  \"prev_loudness\", \"prev_tempo\", \"prev_mode\", \"prev_key\"]\n",
        "\n",
        "# which columns are item columns - and known only as query seeds\n",
        "track_cols = [\"traid\", \"albid\", \"artid\", \"year\", \"loudness\", \"tempo\", \"mode\", \"key\"]"
      ],
      "execution_count": 0,
      "outputs": []
    },
    {
      "cell_type": "markdown",
      "metadata": {
        "id": "_LZ9JLOsHcPl",
        "colab_type": "text"
      },
      "source": [
        "Now we define the different evaluation splits to use. See the section 5.1 about evaluation design in my master's thesis.\n"
      ]
    },
    {
      "cell_type": "code",
      "metadata": {
        "id": "QiHP9EbeWPoh",
        "colab_type": "code",
        "colab": {}
      },
      "source": [
        "def _to_query_ctx(df):\n",
        "  return df[non_track_cols]\n",
        "\n",
        "\n",
        "def _to_query(concat_df):\n",
        "  concat_df[track_cols] = concat_df[track_cols].fillna(0)\n",
        "  concat_df[track_cols] = concat_df[track_cols].astype(\"int64\", copy=False)\n",
        "  return concat_df\n",
        "\n",
        "\n",
        "def get_query_seeds(query_df):\n",
        "  \"\"\"\n",
        "  Get the seed tracks of a query dataframe\n",
        "  \"\"\"\n",
        "  return query_df[query_df[\"traid\"] != 0]\n",
        "\n",
        "\n",
        "def get_query_ctx(query_df):\n",
        "  \"\"\"\n",
        "  Get the context of a query dataframe - \n",
        "  the actual target information without any target track information\n",
        "  \"\"\"\n",
        "  return _to_query_ctx(query_df[query_df[\"traid\"] == 0])\n",
        "\n",
        "\n",
        "def _last_track_split(df, as_val):\n",
        "  i = 2 if as_val else 1\n",
        "  gp = df.groupby(\"pid\")\n",
        "  train_df = df[gp.cumcount(ascending=False) >= i]\n",
        "  test_df = gp.nth(-i).reset_index()\n",
        "  return train_df, test_df\n",
        "\n",
        "\n",
        "def _users_split(df, n_test_users, seed):\n",
        "  users = df[\"pid\"].drop_duplicates()\n",
        "  np.random.seed(seed)\n",
        "  test_users = np.random.choice(users, n_test_users, replace=False)\n",
        "  test_users_mask = df[\"pid\"].isin(test_users)\n",
        "  test_users_df = df[test_users_mask]\n",
        "  train_users_df = df[~test_users_mask]\n",
        "  return train_users_df, test_users_df\n",
        "\n",
        "\n",
        "def _known_last_track_split(df, as_val, seed, n_test_users=None):\n",
        "  train_df, test_df = _last_track_split(df, as_val)\n",
        "\n",
        "  train_tracks = pd.Index(train_df[\"traid\"].drop_duplicates())\n",
        "  test_tracks = pd.Index(test_df[\"traid\"].drop_duplicates())\n",
        "  unknown_tracks = test_tracks.difference(train_tracks)\n",
        "  unknown_mask = test_df[\"traid\"].isin(unknown_tracks)\n",
        "  unknown_pids = pd.Index(test_df[unknown_mask][\"pid\"])\n",
        "\n",
        "  unknown_mask = df[\"pid\"].isin(unknown_pids)\n",
        "  known_df = df[~unknown_mask]\n",
        "  unknown_df = df[unknown_mask]\n",
        "\n",
        "  if n_test_users:\n",
        "    train_users_df, test_users_df = _users_split(known_df, n_test_users, seed)\n",
        "    train_df, test_df = _last_track_split(test_users_df, as_val)\n",
        "    train_df = pd.concat([unknown_df, train_users_df, train_df], sort=False)\n",
        "  else:\n",
        "    train_df, test_df = _last_track_split(known_df, as_val)\n",
        "    train_df = pd.concat([unknown_df, train_df], sort=False)\n",
        "\n",
        "  train_df.sort_values(\"pid\", inplace=True, kind=\"mergesort\")\n",
        "\n",
        "  return train_df, test_df\n",
        "\n",
        "\n",
        "def _last_track_query(train_df, test_df, n_test_users=None):\n",
        "  if n_test_users:\n",
        "    test_pids = pd.Index(test_df[\"pid\"])\n",
        "    test_query_df = train_df[train_df[\"pid\"].isin(test_pids)]\n",
        "  else:\n",
        "    test_query_df = train_df\n",
        "\n",
        "  test_query_ctx_df = _to_query_ctx(test_df)\n",
        "  test_query_df = pd.concat([test_query_df, test_query_ctx_df], sort=False)\n",
        "  test_query_df = _to_query(test_query_df)\n",
        "\n",
        "  return test_query_df\n",
        "\n",
        "\n",
        "def last_track_split(df, as_val=False, n_test_users=None, seed=1):\n",
        "  \"\"\"\n",
        "  Split the dataframe into train and validation or test dataframes.\n",
        "  The test dataframe contains the last track of each or n_test_users random\n",
        "  users, the validation dataframe the second-last. Only returns validation or \n",
        "  test users with known (second-)last track indices.\n",
        "\n",
        "  Also returns a query dataframe corresponding to the validation or test\n",
        "  dataframe.\n",
        "\n",
        "  Columns are mapped to one-hot indices in the process. \n",
        "  \"\"\"\n",
        "  train_df, test_df = _known_last_track_split(df, as_val, seed, n_test_users)\n",
        "\n",
        "  train_df, test_df = split_dfs2id_dfs(train_df, test_df=test_df, cols=use_cols,\n",
        "                                       same_col_pairs=use_col_pairs)\n",
        "\n",
        "  return train_df, test_df, _last_track_query(train_df, test_df, n_test_users)\n",
        "\n",
        "\n",
        "def _seed_users_split(df, n_test_users, include_val, n_seed_tracks, seed):\n",
        "  gp = df.groupby(\"pid\")\n",
        "  seed_df = gp.filter(lambda g: g.size > n_seed_tracks)\n",
        "  non_seed_df = gp.filter(lambda g: g.size <= n_seed_tracks)\n",
        "\n",
        "  train_df, test_df = _users_split(seed_df, n_test_users, seed)\n",
        "\n",
        "  val_df = None\n",
        "  if include_val:\n",
        "    train_df, val_df = _users_split(train_df, n_test_users, seed)\n",
        "\n",
        "  train_df = pd.concat([train_df, non_seed_df], sort=False)\n",
        "  train_df.sort_values(\"pid\", inplace=True, kind=\"mergesort\")\n",
        "\n",
        "  if include_val:\n",
        "    return train_df, val_df, test_df\n",
        "  else:\n",
        "    return train_df, test_df\n",
        "\n",
        "\n",
        "def _seed_query_split(df, n_seed_tracks):\n",
        "  gp = df.groupby(\"pid\", as_index=False)\n",
        "  test_df = df[gp.cumcount() >= n_seed_tracks]\n",
        "  query_df = gp.head(n_seed_tracks)\n",
        "  query_ctx_df = _to_query_ctx(gp.nth(n_seed_tracks))\n",
        "  query_df = _to_query(pd.concat([query_df, query_ctx_df], sort=False))\n",
        "  query_df.sort_values(\"pid\", inplace=True, kind=\"mergesort\")\n",
        "  return test_df, query_df\n",
        "\n",
        "\n",
        "def users_split(df, n_test_users, include_val=False, n_seed_tracks=5, seed=1):\n",
        "  \"\"\"\n",
        "  Split the dataframe into train, optional validation and test dataframes.\n",
        "  The test and validation dataframe each contain n_test_users users and\n",
        "  the train dataframe the other users. The validation and test dataframes\n",
        "  each contain the users tracks after his/her first n_seed_tracks tracks.\n",
        "  Only returns validation or test users with more than n_seed_tracks tracks.\n",
        "\n",
        "  Also returns query dataframes corresponding to the validation and test\n",
        "  dataframes.\n",
        "\n",
        "  Columns are mapped to one-hot indices in the process,\n",
        "  but train, validation and test dataframes have separate pid indices,\n",
        "  all start from 0!\n",
        "  \"\"\"\n",
        "  dfs = _seed_users_split(df, n_test_users, include_val, n_seed_tracks, seed)\n",
        "\n",
        "  # pids are separate for each split - all start from 0, to different n\n",
        "  dfs = (split_dfs2id_dfs(df, cols=[\"pid\"])[0] for df in dfs)\n",
        "  if include_val:\n",
        "    train_df, val_df, test_df = dfs\n",
        "  else:\n",
        "    train_df, test_df = dfs\n",
        "    val_df = None\n",
        "\n",
        "  use_cols_no_pid = use_cols[1:]\n",
        "  split_dfs2id_dfs(train_df, test_df=test_df, val_df=val_df,\n",
        "                   cols=use_cols_no_pid, same_col_pairs=use_col_pairs,\n",
        "                   copy=False)\n",
        "  \n",
        "  test_df, test_query_df = _seed_query_split(test_df, n_seed_tracks)\n",
        "  val_query_df = None\n",
        "  if include_val:\n",
        "    val_df, val_query_df = _seed_query_split(val_df, n_seed_tracks)\n",
        "\n",
        "  dfs = train_df, val_df, test_df, val_query_df, test_query_df\n",
        "  return tuple(df for df in dfs if df is not None)"
      ],
      "execution_count": 0,
      "outputs": []
    },
    {
      "cell_type": "markdown",
      "metadata": {
        "id": "XZV2mfklJq8_",
        "colab_type": "text"
      },
      "source": [
        "We won't use the name columns for the models but will use them for analysis of the recommendations for the first and second example playlist."
      ]
    },
    {
      "cell_type": "code",
      "metadata": {
        "id": "iapVzVwM4aoq",
        "colab_type": "code",
        "colab": {}
      },
      "source": [
        "def to_names_index(df):\n",
        "  df = df[[\"traid\", \"traname\", \"albname\", \"artname\"]].drop_duplicates()\n",
        "  return df.set_index(\"traid\")\n",
        "\n",
        "\n",
        "def with_names(df, names_index_df):\n",
        "  return df.join(names_index_df, on=\"traid\").drop(columns=[\"traid\"])\n",
        "\n",
        "\n",
        "def drop_names(dfs):\n",
        "  for df in dfs:\n",
        "    df.drop(columns=[\"traname\", \"albname\", \"artname\"], inplace=True)"
      ],
      "execution_count": 0,
      "outputs": []
    },
    {
      "cell_type": "markdown",
      "metadata": {
        "id": "2J4gqwfRJ2-h",
        "colab_type": "text"
      },
      "source": [
        "We now create a last track split and view the structure of the results."
      ]
    },
    {
      "cell_type": "code",
      "metadata": {
        "id": "lkoH6FXTwhZ6",
        "colab_type": "code",
        "outputId": "f8a16e9f-2e1f-440b-eee0-b578b5670dd7",
        "colab": {
          "base_uri": "https://localhost:8080/",
          "height": 224
        }
      },
      "source": [
        "train_df, test_df, test_query_df = last_track_split(df, n_test_users=1000)\n",
        "names_df = to_names_index(train_df)\n",
        "drop_names([train_df, test_df, test_query_df])\n",
        "\n",
        "train_df.head()"
      ],
      "execution_count": 0,
      "outputs": [
        {
          "output_type": "execute_result",
          "data": {
            "text/html": [
              "<div>\n",
              "<style scoped>\n",
              "    .dataframe tbody tr th:only-of-type {\n",
              "        vertical-align: middle;\n",
              "    }\n",
              "\n",
              "    .dataframe tbody tr th {\n",
              "        vertical-align: top;\n",
              "    }\n",
              "\n",
              "    .dataframe thead th {\n",
              "        text-align: right;\n",
              "    }\n",
              "</style>\n",
              "<table border=\"1\" class=\"dataframe\">\n",
              "  <thead>\n",
              "    <tr style=\"text-align: right;\">\n",
              "      <th></th>\n",
              "      <th>category</th>\n",
              "      <th>pid</th>\n",
              "      <th>timestamp</th>\n",
              "      <th>userid</th>\n",
              "      <th>sid</th>\n",
              "      <th>traid</th>\n",
              "      <th>pyear</th>\n",
              "      <th>artid</th>\n",
              "      <th>albid</th>\n",
              "      <th>year</th>\n",
              "      <th>key</th>\n",
              "      <th>loudness</th>\n",
              "      <th>mode</th>\n",
              "      <th>tempo</th>\n",
              "      <th>b_tempo</th>\n",
              "      <th>bak_tempo</th>\n",
              "      <th>prev_traid</th>\n",
              "      <th>prev_albid</th>\n",
              "      <th>prev_artid</th>\n",
              "      <th>prev_year</th>\n",
              "      <th>prev_loudness</th>\n",
              "      <th>prev_tempo</th>\n",
              "      <th>prev_mode</th>\n",
              "      <th>prev_key</th>\n",
              "    </tr>\n",
              "  </thead>\n",
              "  <tbody>\n",
              "    <tr>\n",
              "      <th>34256</th>\n",
              "      <td>1</td>\n",
              "      <td>1</td>\n",
              "      <td>1998-01-22</td>\n",
              "      <td>1</td>\n",
              "      <td>0</td>\n",
              "      <td>1</td>\n",
              "      <td>1</td>\n",
              "      <td>1</td>\n",
              "      <td>1</td>\n",
              "      <td>1</td>\n",
              "      <td>1</td>\n",
              "      <td>1</td>\n",
              "      <td>1</td>\n",
              "      <td>1</td>\n",
              "      <td>14</td>\n",
              "      <td>195</td>\n",
              "      <td>0</td>\n",
              "      <td>0</td>\n",
              "      <td>0</td>\n",
              "      <td>0</td>\n",
              "      <td>0</td>\n",
              "      <td>0</td>\n",
              "      <td>0</td>\n",
              "      <td>0</td>\n",
              "    </tr>\n",
              "    <tr>\n",
              "      <th>130601</th>\n",
              "      <td>1</td>\n",
              "      <td>1</td>\n",
              "      <td>1998-01-22</td>\n",
              "      <td>1</td>\n",
              "      <td>1</td>\n",
              "      <td>2</td>\n",
              "      <td>1</td>\n",
              "      <td>2</td>\n",
              "      <td>2</td>\n",
              "      <td>2</td>\n",
              "      <td>1</td>\n",
              "      <td>2</td>\n",
              "      <td>1</td>\n",
              "      <td>2</td>\n",
              "      <td>3</td>\n",
              "      <td>89</td>\n",
              "      <td>1</td>\n",
              "      <td>1</td>\n",
              "      <td>1</td>\n",
              "      <td>1</td>\n",
              "      <td>1</td>\n",
              "      <td>1</td>\n",
              "      <td>1</td>\n",
              "      <td>1</td>\n",
              "    </tr>\n",
              "    <tr>\n",
              "      <th>590015</th>\n",
              "      <td>1</td>\n",
              "      <td>1</td>\n",
              "      <td>1998-01-22</td>\n",
              "      <td>1</td>\n",
              "      <td>1</td>\n",
              "      <td>3</td>\n",
              "      <td>1</td>\n",
              "      <td>3</td>\n",
              "      <td>3</td>\n",
              "      <td>3</td>\n",
              "      <td>1</td>\n",
              "      <td>3</td>\n",
              "      <td>1</td>\n",
              "      <td>3</td>\n",
              "      <td>5</td>\n",
              "      <td>108</td>\n",
              "      <td>2</td>\n",
              "      <td>2</td>\n",
              "      <td>2</td>\n",
              "      <td>2</td>\n",
              "      <td>2</td>\n",
              "      <td>2</td>\n",
              "      <td>1</td>\n",
              "      <td>1</td>\n",
              "    </tr>\n",
              "    <tr>\n",
              "      <th>221992</th>\n",
              "      <td>1</td>\n",
              "      <td>1</td>\n",
              "      <td>1998-01-22</td>\n",
              "      <td>1</td>\n",
              "      <td>2</td>\n",
              "      <td>4</td>\n",
              "      <td>1</td>\n",
              "      <td>4</td>\n",
              "      <td>4</td>\n",
              "      <td>4</td>\n",
              "      <td>1</td>\n",
              "      <td>3</td>\n",
              "      <td>1</td>\n",
              "      <td>3</td>\n",
              "      <td>5</td>\n",
              "      <td>104</td>\n",
              "      <td>3</td>\n",
              "      <td>3</td>\n",
              "      <td>3</td>\n",
              "      <td>3</td>\n",
              "      <td>3</td>\n",
              "      <td>3</td>\n",
              "      <td>1</td>\n",
              "      <td>1</td>\n",
              "    </tr>\n",
              "    <tr>\n",
              "      <th>681406</th>\n",
              "      <td>1</td>\n",
              "      <td>1</td>\n",
              "      <td>1998-01-22</td>\n",
              "      <td>1</td>\n",
              "      <td>2</td>\n",
              "      <td>5</td>\n",
              "      <td>1</td>\n",
              "      <td>5</td>\n",
              "      <td>5</td>\n",
              "      <td>5</td>\n",
              "      <td>2</td>\n",
              "      <td>3</td>\n",
              "      <td>1</td>\n",
              "      <td>2</td>\n",
              "      <td>3</td>\n",
              "      <td>85</td>\n",
              "      <td>4</td>\n",
              "      <td>4</td>\n",
              "      <td>4</td>\n",
              "      <td>4</td>\n",
              "      <td>3</td>\n",
              "      <td>3</td>\n",
              "      <td>1</td>\n",
              "      <td>1</td>\n",
              "    </tr>\n",
              "  </tbody>\n",
              "</table>\n",
              "</div>"
            ],
            "text/plain": [
              "        category  pid  timestamp  ...  prev_tempo prev_mode  prev_key\n",
              "34256          1    1 1998-01-22  ...           0         0         0\n",
              "130601         1    1 1998-01-22  ...           1         1         1\n",
              "590015         1    1 1998-01-22  ...           2         1         1\n",
              "221992         1    1 1998-01-22  ...           3         1         1\n",
              "681406         1    1 1998-01-22  ...           3         1         1\n",
              "\n",
              "[5 rows x 24 columns]"
            ]
          },
          "metadata": {
            "tags": []
          },
          "execution_count": 38
        }
      ]
    },
    {
      "cell_type": "code",
      "metadata": {
        "id": "eQbT4e1TDaOl",
        "colab_type": "code",
        "outputId": "f727205e-05d3-44fe-b2cc-f67339fd3170",
        "colab": {
          "base_uri": "https://localhost:8080/",
          "height": 309
        }
      },
      "source": [
        "test_df.head()"
      ],
      "execution_count": 0,
      "outputs": [
        {
          "output_type": "execute_result",
          "data": {
            "text/html": [
              "<div>\n",
              "<style scoped>\n",
              "    .dataframe tbody tr th:only-of-type {\n",
              "        vertical-align: middle;\n",
              "    }\n",
              "\n",
              "    .dataframe tbody tr th {\n",
              "        vertical-align: top;\n",
              "    }\n",
              "\n",
              "    .dataframe thead th {\n",
              "        text-align: right;\n",
              "    }\n",
              "</style>\n",
              "<table border=\"1\" class=\"dataframe\">\n",
              "  <thead>\n",
              "    <tr style=\"text-align: right;\">\n",
              "      <th></th>\n",
              "      <th>pid</th>\n",
              "      <th>category</th>\n",
              "      <th>timestamp</th>\n",
              "      <th>userid</th>\n",
              "      <th>sid</th>\n",
              "      <th>traid</th>\n",
              "      <th>pyear</th>\n",
              "      <th>artid</th>\n",
              "      <th>albid</th>\n",
              "      <th>year</th>\n",
              "      <th>key</th>\n",
              "      <th>loudness</th>\n",
              "      <th>mode</th>\n",
              "      <th>tempo</th>\n",
              "      <th>b_tempo</th>\n",
              "      <th>bak_tempo</th>\n",
              "      <th>prev_traid</th>\n",
              "      <th>prev_albid</th>\n",
              "      <th>prev_artid</th>\n",
              "      <th>prev_year</th>\n",
              "      <th>prev_loudness</th>\n",
              "      <th>prev_tempo</th>\n",
              "      <th>prev_mode</th>\n",
              "      <th>prev_key</th>\n",
              "    </tr>\n",
              "  </thead>\n",
              "  <tbody>\n",
              "    <tr>\n",
              "      <th>0</th>\n",
              "      <td>161</td>\n",
              "      <td>1</td>\n",
              "      <td>1998-02-08 00:00:00</td>\n",
              "      <td>122</td>\n",
              "      <td>3</td>\n",
              "      <td>239</td>\n",
              "      <td>1</td>\n",
              "      <td>86</td>\n",
              "      <td>223</td>\n",
              "      <td>1</td>\n",
              "      <td>11</td>\n",
              "      <td>8</td>\n",
              "      <td>1</td>\n",
              "      <td>3</td>\n",
              "      <td>5</td>\n",
              "      <td>100</td>\n",
              "      <td>119</td>\n",
              "      <td>113</td>\n",
              "      <td>98</td>\n",
              "      <td>1</td>\n",
              "      <td>4</td>\n",
              "      <td>8</td>\n",
              "      <td>1</td>\n",
              "      <td>1</td>\n",
              "    </tr>\n",
              "    <tr>\n",
              "      <th>1</th>\n",
              "      <td>190</td>\n",
              "      <td>2</td>\n",
              "      <td>1998-02-05 00:00:00</td>\n",
              "      <td>140</td>\n",
              "      <td>3</td>\n",
              "      <td>2890</td>\n",
              "      <td>1</td>\n",
              "      <td>1231</td>\n",
              "      <td>2254</td>\n",
              "      <td>14</td>\n",
              "      <td>5</td>\n",
              "      <td>3</td>\n",
              "      <td>2</td>\n",
              "      <td>6</td>\n",
              "      <td>4</td>\n",
              "      <td>90</td>\n",
              "      <td>1468</td>\n",
              "      <td>1259</td>\n",
              "      <td>76</td>\n",
              "      <td>14</td>\n",
              "      <td>4</td>\n",
              "      <td>6</td>\n",
              "      <td>1</td>\n",
              "      <td>12</td>\n",
              "    </tr>\n",
              "    <tr>\n",
              "      <th>2</th>\n",
              "      <td>202</td>\n",
              "      <td>2</td>\n",
              "      <td>1999-01-08 13:15:00</td>\n",
              "      <td>142</td>\n",
              "      <td>7</td>\n",
              "      <td>1867</td>\n",
              "      <td>2</td>\n",
              "      <td>711</td>\n",
              "      <td>1556</td>\n",
              "      <td>33</td>\n",
              "      <td>9</td>\n",
              "      <td>2</td>\n",
              "      <td>2</td>\n",
              "      <td>8</td>\n",
              "      <td>12</td>\n",
              "      <td>179</td>\n",
              "      <td>166</td>\n",
              "      <td>159</td>\n",
              "      <td>125</td>\n",
              "      <td>11</td>\n",
              "      <td>13</td>\n",
              "      <td>7</td>\n",
              "      <td>2</td>\n",
              "      <td>9</td>\n",
              "    </tr>\n",
              "    <tr>\n",
              "      <th>3</th>\n",
              "      <td>458</td>\n",
              "      <td>4</td>\n",
              "      <td>1998-07-22 00:00:00</td>\n",
              "      <td>265</td>\n",
              "      <td>3</td>\n",
              "      <td>15917</td>\n",
              "      <td>1</td>\n",
              "      <td>261</td>\n",
              "      <td>341</td>\n",
              "      <td>3</td>\n",
              "      <td>12</td>\n",
              "      <td>14</td>\n",
              "      <td>1</td>\n",
              "      <td>6</td>\n",
              "      <td>4</td>\n",
              "      <td>99</td>\n",
              "      <td>1414</td>\n",
              "      <td>975</td>\n",
              "      <td>248</td>\n",
              "      <td>11</td>\n",
              "      <td>14</td>\n",
              "      <td>5</td>\n",
              "      <td>2</td>\n",
              "      <td>1</td>\n",
              "    </tr>\n",
              "    <tr>\n",
              "      <th>4</th>\n",
              "      <td>671</td>\n",
              "      <td>2</td>\n",
              "      <td>1998-11-09 00:00:00</td>\n",
              "      <td>342</td>\n",
              "      <td>6</td>\n",
              "      <td>5578</td>\n",
              "      <td>1</td>\n",
              "      <td>729</td>\n",
              "      <td>1175</td>\n",
              "      <td>11</td>\n",
              "      <td>2</td>\n",
              "      <td>13</td>\n",
              "      <td>2</td>\n",
              "      <td>6</td>\n",
              "      <td>4</td>\n",
              "      <td>94</td>\n",
              "      <td>3983</td>\n",
              "      <td>2273</td>\n",
              "      <td>1241</td>\n",
              "      <td>0</td>\n",
              "      <td>7</td>\n",
              "      <td>2</td>\n",
              "      <td>2</td>\n",
              "      <td>1</td>\n",
              "    </tr>\n",
              "  </tbody>\n",
              "</table>\n",
              "</div>"
            ],
            "text/plain": [
              "   pid  category           timestamp  ...  prev_tempo prev_mode  prev_key\n",
              "0  161         1 1998-02-08 00:00:00  ...           8         1         1\n",
              "1  190         2 1998-02-05 00:00:00  ...           6         1        12\n",
              "2  202         2 1999-01-08 13:15:00  ...           7         2         9\n",
              "3  458         4 1998-07-22 00:00:00  ...           5         2         1\n",
              "4  671         2 1998-11-09 00:00:00  ...           2         2         1\n",
              "\n",
              "[5 rows x 24 columns]"
            ]
          },
          "metadata": {
            "tags": []
          },
          "execution_count": 39
        }
      ]
    },
    {
      "cell_type": "code",
      "metadata": {
        "id": "-bIq7aIsAW4r",
        "colab_type": "code",
        "outputId": "f905b18e-1e2b-4bd1-c877-9004fba05512",
        "colab": {
          "base_uri": "https://localhost:8080/",
          "height": 224
        }
      },
      "source": [
        "get_query_seeds(test_query_df).head()"
      ],
      "execution_count": 0,
      "outputs": [
        {
          "output_type": "execute_result",
          "data": {
            "text/html": [
              "<div>\n",
              "<style scoped>\n",
              "    .dataframe tbody tr th:only-of-type {\n",
              "        vertical-align: middle;\n",
              "    }\n",
              "\n",
              "    .dataframe tbody tr th {\n",
              "        vertical-align: top;\n",
              "    }\n",
              "\n",
              "    .dataframe thead th {\n",
              "        text-align: right;\n",
              "    }\n",
              "</style>\n",
              "<table border=\"1\" class=\"dataframe\">\n",
              "  <thead>\n",
              "    <tr style=\"text-align: right;\">\n",
              "      <th></th>\n",
              "      <th>category</th>\n",
              "      <th>pid</th>\n",
              "      <th>timestamp</th>\n",
              "      <th>userid</th>\n",
              "      <th>sid</th>\n",
              "      <th>traid</th>\n",
              "      <th>pyear</th>\n",
              "      <th>artid</th>\n",
              "      <th>albid</th>\n",
              "      <th>year</th>\n",
              "      <th>key</th>\n",
              "      <th>loudness</th>\n",
              "      <th>mode</th>\n",
              "      <th>tempo</th>\n",
              "      <th>b_tempo</th>\n",
              "      <th>bak_tempo</th>\n",
              "      <th>prev_traid</th>\n",
              "      <th>prev_albid</th>\n",
              "      <th>prev_artid</th>\n",
              "      <th>prev_year</th>\n",
              "      <th>prev_loudness</th>\n",
              "      <th>prev_tempo</th>\n",
              "      <th>prev_mode</th>\n",
              "      <th>prev_key</th>\n",
              "    </tr>\n",
              "  </thead>\n",
              "  <tbody>\n",
              "    <tr>\n",
              "      <th>8406</th>\n",
              "      <td>1</td>\n",
              "      <td>161</td>\n",
              "      <td>1998-02-08</td>\n",
              "      <td>122</td>\n",
              "      <td>0</td>\n",
              "      <td>1253</td>\n",
              "      <td>1</td>\n",
              "      <td>194</td>\n",
              "      <td>1091</td>\n",
              "      <td>2</td>\n",
              "      <td>4</td>\n",
              "      <td>7</td>\n",
              "      <td>2</td>\n",
              "      <td>14</td>\n",
              "      <td>9.0</td>\n",
              "      <td>145.0</td>\n",
              "      <td>0</td>\n",
              "      <td>0</td>\n",
              "      <td>0</td>\n",
              "      <td>0</td>\n",
              "      <td>0</td>\n",
              "      <td>0</td>\n",
              "      <td>0</td>\n",
              "      <td>0</td>\n",
              "    </tr>\n",
              "    <tr>\n",
              "      <th>467820</th>\n",
              "      <td>1</td>\n",
              "      <td>161</td>\n",
              "      <td>1998-02-08</td>\n",
              "      <td>122</td>\n",
              "      <td>0</td>\n",
              "      <td>310</td>\n",
              "      <td>1</td>\n",
              "      <td>184</td>\n",
              "      <td>288</td>\n",
              "      <td>11</td>\n",
              "      <td>4</td>\n",
              "      <td>12</td>\n",
              "      <td>1</td>\n",
              "      <td>6</td>\n",
              "      <td>4.0</td>\n",
              "      <td>93.0</td>\n",
              "      <td>1253</td>\n",
              "      <td>1091</td>\n",
              "      <td>194</td>\n",
              "      <td>2</td>\n",
              "      <td>7</td>\n",
              "      <td>14</td>\n",
              "      <td>2</td>\n",
              "      <td>4</td>\n",
              "    </tr>\n",
              "    <tr>\n",
              "      <th>927234</th>\n",
              "      <td>1</td>\n",
              "      <td>161</td>\n",
              "      <td>1998-02-08</td>\n",
              "      <td>122</td>\n",
              "      <td>0</td>\n",
              "      <td>428</td>\n",
              "      <td>1</td>\n",
              "      <td>222</td>\n",
              "      <td>272</td>\n",
              "      <td>0</td>\n",
              "      <td>4</td>\n",
              "      <td>4</td>\n",
              "      <td>2</td>\n",
              "      <td>6</td>\n",
              "      <td>4.0</td>\n",
              "      <td>99.0</td>\n",
              "      <td>310</td>\n",
              "      <td>288</td>\n",
              "      <td>184</td>\n",
              "      <td>11</td>\n",
              "      <td>12</td>\n",
              "      <td>6</td>\n",
              "      <td>1</td>\n",
              "      <td>4</td>\n",
              "    </tr>\n",
              "    <tr>\n",
              "      <th>1386648</th>\n",
              "      <td>1</td>\n",
              "      <td>161</td>\n",
              "      <td>1998-02-08</td>\n",
              "      <td>122</td>\n",
              "      <td>0</td>\n",
              "      <td>1254</td>\n",
              "      <td>1</td>\n",
              "      <td>184</td>\n",
              "      <td>226</td>\n",
              "      <td>5</td>\n",
              "      <td>11</td>\n",
              "      <td>7</td>\n",
              "      <td>1</td>\n",
              "      <td>13</td>\n",
              "      <td>13.0</td>\n",
              "      <td>187.0</td>\n",
              "      <td>428</td>\n",
              "      <td>272</td>\n",
              "      <td>222</td>\n",
              "      <td>0</td>\n",
              "      <td>4</td>\n",
              "      <td>6</td>\n",
              "      <td>2</td>\n",
              "      <td>4</td>\n",
              "    </tr>\n",
              "    <tr>\n",
              "      <th>1846062</th>\n",
              "      <td>1</td>\n",
              "      <td>161</td>\n",
              "      <td>1998-02-08</td>\n",
              "      <td>122</td>\n",
              "      <td>0</td>\n",
              "      <td>1255</td>\n",
              "      <td>1</td>\n",
              "      <td>96</td>\n",
              "      <td>1092</td>\n",
              "      <td>17</td>\n",
              "      <td>9</td>\n",
              "      <td>12</td>\n",
              "      <td>1</td>\n",
              "      <td>11</td>\n",
              "      <td>6.0</td>\n",
              "      <td>119.0</td>\n",
              "      <td>1254</td>\n",
              "      <td>226</td>\n",
              "      <td>184</td>\n",
              "      <td>5</td>\n",
              "      <td>7</td>\n",
              "      <td>13</td>\n",
              "      <td>1</td>\n",
              "      <td>11</td>\n",
              "    </tr>\n",
              "  </tbody>\n",
              "</table>\n",
              "</div>"
            ],
            "text/plain": [
              "         category  pid  timestamp  ...  prev_tempo prev_mode  prev_key\n",
              "8406            1  161 1998-02-08  ...           0         0         0\n",
              "467820          1  161 1998-02-08  ...          14         2         4\n",
              "927234          1  161 1998-02-08  ...           6         1         4\n",
              "1386648         1  161 1998-02-08  ...           6         2         4\n",
              "1846062         1  161 1998-02-08  ...          13         1        11\n",
              "\n",
              "[5 rows x 24 columns]"
            ]
          },
          "metadata": {
            "tags": []
          },
          "execution_count": 40
        }
      ]
    },
    {
      "cell_type": "code",
      "metadata": {
        "id": "3P_d_sKiAibw",
        "colab_type": "code",
        "outputId": "f3a21d44-4179-4abb-da4a-adc9a287a136",
        "colab": {
          "base_uri": "https://localhost:8080/",
          "height": 204
        }
      },
      "source": [
        "get_query_ctx(test_query_df).head()"
      ],
      "execution_count": 0,
      "outputs": [
        {
          "output_type": "execute_result",
          "data": {
            "text/html": [
              "<div>\n",
              "<style scoped>\n",
              "    .dataframe tbody tr th:only-of-type {\n",
              "        vertical-align: middle;\n",
              "    }\n",
              "\n",
              "    .dataframe tbody tr th {\n",
              "        vertical-align: top;\n",
              "    }\n",
              "\n",
              "    .dataframe thead th {\n",
              "        text-align: right;\n",
              "    }\n",
              "</style>\n",
              "<table border=\"1\" class=\"dataframe\">\n",
              "  <thead>\n",
              "    <tr style=\"text-align: right;\">\n",
              "      <th></th>\n",
              "      <th>category</th>\n",
              "      <th>pyear</th>\n",
              "      <th>pid</th>\n",
              "      <th>userid</th>\n",
              "      <th>prev_traid</th>\n",
              "      <th>prev_albid</th>\n",
              "      <th>prev_artid</th>\n",
              "      <th>prev_year</th>\n",
              "      <th>prev_loudness</th>\n",
              "      <th>prev_tempo</th>\n",
              "      <th>prev_mode</th>\n",
              "      <th>prev_key</th>\n",
              "    </tr>\n",
              "  </thead>\n",
              "  <tbody>\n",
              "    <tr>\n",
              "      <th>0</th>\n",
              "      <td>1</td>\n",
              "      <td>1</td>\n",
              "      <td>161</td>\n",
              "      <td>122</td>\n",
              "      <td>119</td>\n",
              "      <td>113</td>\n",
              "      <td>98</td>\n",
              "      <td>1</td>\n",
              "      <td>4</td>\n",
              "      <td>8</td>\n",
              "      <td>1</td>\n",
              "      <td>1</td>\n",
              "    </tr>\n",
              "    <tr>\n",
              "      <th>1</th>\n",
              "      <td>2</td>\n",
              "      <td>1</td>\n",
              "      <td>190</td>\n",
              "      <td>140</td>\n",
              "      <td>1468</td>\n",
              "      <td>1259</td>\n",
              "      <td>76</td>\n",
              "      <td>14</td>\n",
              "      <td>4</td>\n",
              "      <td>6</td>\n",
              "      <td>1</td>\n",
              "      <td>12</td>\n",
              "    </tr>\n",
              "    <tr>\n",
              "      <th>2</th>\n",
              "      <td>2</td>\n",
              "      <td>2</td>\n",
              "      <td>202</td>\n",
              "      <td>142</td>\n",
              "      <td>166</td>\n",
              "      <td>159</td>\n",
              "      <td>125</td>\n",
              "      <td>11</td>\n",
              "      <td>13</td>\n",
              "      <td>7</td>\n",
              "      <td>2</td>\n",
              "      <td>9</td>\n",
              "    </tr>\n",
              "    <tr>\n",
              "      <th>3</th>\n",
              "      <td>4</td>\n",
              "      <td>1</td>\n",
              "      <td>458</td>\n",
              "      <td>265</td>\n",
              "      <td>1414</td>\n",
              "      <td>975</td>\n",
              "      <td>248</td>\n",
              "      <td>11</td>\n",
              "      <td>14</td>\n",
              "      <td>5</td>\n",
              "      <td>2</td>\n",
              "      <td>1</td>\n",
              "    </tr>\n",
              "    <tr>\n",
              "      <th>4</th>\n",
              "      <td>2</td>\n",
              "      <td>1</td>\n",
              "      <td>671</td>\n",
              "      <td>342</td>\n",
              "      <td>3983</td>\n",
              "      <td>2273</td>\n",
              "      <td>1241</td>\n",
              "      <td>0</td>\n",
              "      <td>7</td>\n",
              "      <td>2</td>\n",
              "      <td>2</td>\n",
              "      <td>1</td>\n",
              "    </tr>\n",
              "  </tbody>\n",
              "</table>\n",
              "</div>"
            ],
            "text/plain": [
              "   category  pyear  pid  userid  ...  prev_loudness  prev_tempo  prev_mode  prev_key\n",
              "0         1      1  161     122  ...              4           8          1         1\n",
              "1         2      1  190     140  ...              4           6          1        12\n",
              "2         2      2  202     142  ...             13           7          2         9\n",
              "3         4      1  458     265  ...             14           5          2         1\n",
              "4         2      1  671     342  ...              7           2          2         1\n",
              "\n",
              "[5 rows x 12 columns]"
            ]
          },
          "metadata": {
            "tags": []
          },
          "execution_count": 41
        }
      ]
    },
    {
      "cell_type": "markdown",
      "metadata": {
        "id": "5DUkxriJJ8ZX",
        "colab_type": "text"
      },
      "source": [
        "We also view the track, album and artist names of the first playlist.\n",
        "\n",
        "Later we can then also compare how well predicted tracks intuitively fit to the playlist."
      ]
    },
    {
      "cell_type": "code",
      "metadata": {
        "id": "-_-aY3AvHJJ6",
        "colab_type": "code",
        "outputId": "23394632-2733-471b-e7ed-80ea47032d36",
        "colab": {
          "base_uri": "https://localhost:8080/",
          "height": 669
        }
      },
      "source": [
        "with_names(get_query_seeds(test_query_df).head(20)[[\"pid\", \"traid\"]], names_df)"
      ],
      "execution_count": 0,
      "outputs": [
        {
          "output_type": "execute_result",
          "data": {
            "text/html": [
              "<div>\n",
              "<style scoped>\n",
              "    .dataframe tbody tr th:only-of-type {\n",
              "        vertical-align: middle;\n",
              "    }\n",
              "\n",
              "    .dataframe tbody tr th {\n",
              "        vertical-align: top;\n",
              "    }\n",
              "\n",
              "    .dataframe thead th {\n",
              "        text-align: right;\n",
              "    }\n",
              "</style>\n",
              "<table border=\"1\" class=\"dataframe\">\n",
              "  <thead>\n",
              "    <tr style=\"text-align: right;\">\n",
              "      <th></th>\n",
              "      <th>pid</th>\n",
              "      <th>traname</th>\n",
              "      <th>albname</th>\n",
              "      <th>artname</th>\n",
              "    </tr>\n",
              "  </thead>\n",
              "  <tbody>\n",
              "    <tr>\n",
              "      <th>8406</th>\n",
              "      <td>161</td>\n",
              "      <td>Black</td>\n",
              "      <td>Seattle Washington November 5 2000</td>\n",
              "      <td>Pearl Jam</td>\n",
              "    </tr>\n",
              "    <tr>\n",
              "      <th>467820</th>\n",
              "      <td>161</td>\n",
              "      <td>Crash Into Me</td>\n",
              "      <td>Listener Supported</td>\n",
              "      <td>DAVE MATTHEWS BAND</td>\n",
              "    </tr>\n",
              "    <tr>\n",
              "      <th>927234</th>\n",
              "      <td>161</td>\n",
              "      <td>You Were Meant For Me</td>\n",
              "      <td>The Essential Live Songbook</td>\n",
              "      <td>Jewel</td>\n",
              "    </tr>\n",
              "    <tr>\n",
              "      <th>1386648</th>\n",
              "      <td>161</td>\n",
              "      <td>Lover Lay Down</td>\n",
              "      <td>Live At Red Rocks 8.15.95</td>\n",
              "      <td>DAVE MATTHEWS BAND</td>\n",
              "    </tr>\n",
              "    <tr>\n",
              "      <th>1846062</th>\n",
              "      <td>161</td>\n",
              "      <td>Every Breath You Take</td>\n",
              "      <td>Certifiable</td>\n",
              "      <td>The Police</td>\n",
              "    </tr>\n",
              "    <tr>\n",
              "      <th>2305476</th>\n",
              "      <td>161</td>\n",
              "      <td>I'll Back You Up</td>\n",
              "      <td>Remember Two Things</td>\n",
              "      <td>DAVE MATTHEWS BAND</td>\n",
              "    </tr>\n",
              "    <tr>\n",
              "      <th>2764890</th>\n",
              "      <td>161</td>\n",
              "      <td>I Shall Believe</td>\n",
              "      <td>Tuesday Night Music Club</td>\n",
              "      <td>Sheryl Crow</td>\n",
              "    </tr>\n",
              "    <tr>\n",
              "      <th>3224304</th>\n",
              "      <td>161</td>\n",
              "      <td>Immortality</td>\n",
              "      <td>rearviewmirror (greatest hits 1991-2003)</td>\n",
              "      <td>Pearl Jam</td>\n",
              "    </tr>\n",
              "    <tr>\n",
              "      <th>3683718</th>\n",
              "      <td>161</td>\n",
              "      <td>Imagine</td>\n",
              "      <td>Lennon Legend</td>\n",
              "      <td>John Lennon</td>\n",
              "    </tr>\n",
              "    <tr>\n",
              "      <th>105670</th>\n",
              "      <td>161</td>\n",
              "      <td>Moondance</td>\n",
              "      <td>Still On Top - The Greatest Hits</td>\n",
              "      <td>Van Morrison</td>\n",
              "    </tr>\n",
              "    <tr>\n",
              "      <th>565084</th>\n",
              "      <td>161</td>\n",
              "      <td>Strawberry Wine</td>\n",
              "      <td>The Deana Carter Collection</td>\n",
              "      <td>Deana Carter</td>\n",
              "    </tr>\n",
              "    <tr>\n",
              "      <th>1024498</th>\n",
              "      <td>161</td>\n",
              "      <td>Rearviewmirror</td>\n",
              "      <td>rearviewmirror (greatest hits 1991-2003)</td>\n",
              "      <td>Pearl Jam</td>\n",
              "    </tr>\n",
              "    <tr>\n",
              "      <th>1483912</th>\n",
              "      <td>161</td>\n",
              "      <td>Always Be My Baby</td>\n",
              "      <td>Coffret 3 CD</td>\n",
              "      <td>Mariah Carey</td>\n",
              "    </tr>\n",
              "    <tr>\n",
              "      <th>1943326</th>\n",
              "      <td>161</td>\n",
              "      <td>Smile</td>\n",
              "      <td>22/6/00 Fila Forum Arena Milan Italy</td>\n",
              "      <td>Pearl Jam</td>\n",
              "    </tr>\n",
              "    <tr>\n",
              "      <th>2402740</th>\n",
              "      <td>161</td>\n",
              "      <td>Crazy Mary</td>\n",
              "      <td>Live At Benaroya Hall - Oct.22_ 2003</td>\n",
              "      <td>Pearl Jam</td>\n",
              "    </tr>\n",
              "    <tr>\n",
              "      <th>2862154</th>\n",
              "      <td>161</td>\n",
              "      <td>Wonderful Tonight</td>\n",
              "      <td>The Cream Of Clapton</td>\n",
              "      <td>Eric Clapton</td>\n",
              "    </tr>\n",
              "    <tr>\n",
              "      <th>3321568</th>\n",
              "      <td>161</td>\n",
              "      <td>High Hopes (Live)</td>\n",
              "      <td>Pulse</td>\n",
              "      <td>Pink Floyd</td>\n",
              "    </tr>\n",
              "    <tr>\n",
              "      <th>199010</th>\n",
              "      <td>161</td>\n",
              "      <td>The Freshmen</td>\n",
              "      <td>Platinum &amp; Gold Collection</td>\n",
              "      <td>The Verve Pipe</td>\n",
              "    </tr>\n",
              "    <tr>\n",
              "      <th>658424</th>\n",
              "      <td>161</td>\n",
              "      <td>Bittersweet (Live) (Album Version)</td>\n",
              "      <td>Live Monsters</td>\n",
              "      <td>Big Head Todd and The Monsters</td>\n",
              "    </tr>\n",
              "    <tr>\n",
              "      <th>284680</th>\n",
              "      <td>161</td>\n",
              "      <td>Secret Garden</td>\n",
              "      <td>Greatest Hits</td>\n",
              "      <td>Bruce Springsteen</td>\n",
              "    </tr>\n",
              "  </tbody>\n",
              "</table>\n",
              "</div>"
            ],
            "text/plain": [
              "         pid  ...                         artname\n",
              "8406     161  ...                       Pearl Jam\n",
              "467820   161  ...              DAVE MATTHEWS BAND\n",
              "927234   161  ...                           Jewel\n",
              "1386648  161  ...              DAVE MATTHEWS BAND\n",
              "1846062  161  ...                      The Police\n",
              "2305476  161  ...              DAVE MATTHEWS BAND\n",
              "2764890  161  ...                     Sheryl Crow\n",
              "3224304  161  ...                       Pearl Jam\n",
              "3683718  161  ...                     John Lennon\n",
              "105670   161  ...                    Van Morrison\n",
              "565084   161  ...                    Deana Carter\n",
              "1024498  161  ...                       Pearl Jam\n",
              "1483912  161  ...                    Mariah Carey\n",
              "1943326  161  ...                       Pearl Jam\n",
              "2402740  161  ...                       Pearl Jam\n",
              "2862154  161  ...                    Eric Clapton\n",
              "3321568  161  ...                      Pink Floyd\n",
              "199010   161  ...                  The Verve Pipe\n",
              "658424   161  ...  Big Head Todd and The Monsters\n",
              "284680   161  ...               Bruce Springsteen\n",
              "\n",
              "[20 rows x 4 columns]"
            ]
          },
          "metadata": {
            "tags": []
          },
          "execution_count": 42
        }
      ]
    },
    {
      "cell_type": "code",
      "metadata": {
        "id": "piBAz7leH2bD",
        "colab_type": "code",
        "outputId": "708c405b-829c-43a0-f372-4dbaac2270f6",
        "colab": {
          "base_uri": "https://localhost:8080/",
          "height": 80
        }
      },
      "source": [
        "with_names(test_df.head(1)[[\"pid\", \"traid\"]], names_df)"
      ],
      "execution_count": 0,
      "outputs": [
        {
          "output_type": "execute_result",
          "data": {
            "text/html": [
              "<div>\n",
              "<style scoped>\n",
              "    .dataframe tbody tr th:only-of-type {\n",
              "        vertical-align: middle;\n",
              "    }\n",
              "\n",
              "    .dataframe tbody tr th {\n",
              "        vertical-align: top;\n",
              "    }\n",
              "\n",
              "    .dataframe thead th {\n",
              "        text-align: right;\n",
              "    }\n",
              "</style>\n",
              "<table border=\"1\" class=\"dataframe\">\n",
              "  <thead>\n",
              "    <tr style=\"text-align: right;\">\n",
              "      <th></th>\n",
              "      <th>pid</th>\n",
              "      <th>traname</th>\n",
              "      <th>albname</th>\n",
              "      <th>artname</th>\n",
              "    </tr>\n",
              "  </thead>\n",
              "  <tbody>\n",
              "    <tr>\n",
              "      <th>0</th>\n",
              "      <td>161</td>\n",
              "      <td>Fake Plastic Trees</td>\n",
              "      <td>Sunny Afternoon</td>\n",
              "      <td>Radiohead</td>\n",
              "    </tr>\n",
              "  </tbody>\n",
              "</table>\n",
              "</div>"
            ],
            "text/plain": [
              "   pid             traname          albname    artname\n",
              "0  161  Fake Plastic Trees  Sunny Afternoon  Radiohead"
            ]
          },
          "metadata": {
            "tags": []
          },
          "execution_count": 43
        }
      ]
    },
    {
      "cell_type": "markdown",
      "metadata": {
        "id": "IlQcaTZ822_6",
        "colab_type": "text"
      },
      "source": [
        "# Evaluation metrics"
      ]
    },
    {
      "cell_type": "markdown",
      "metadata": {
        "id": "2UtewCfUX6bi",
        "colab_type": "text"
      },
      "source": [
        "As evaluation metrics we will use NDCG and hit rates / recall@n."
      ]
    },
    {
      "cell_type": "code",
      "metadata": {
        "id": "qtofq6KffOvr",
        "colab_type": "code",
        "colab": {}
      },
      "source": [
        "def with_time(method):\n",
        "    def timed(*args, **kw):\n",
        "        ts = time.time()\n",
        "        result = method(*args, **kw)\n",
        "        te = time.time()\n",
        "        if result is None:\n",
        "          return (te - ts)\n",
        "        else:\n",
        "          return result, (te - ts)\n",
        "          \n",
        "    return timed\n",
        "\n",
        "\n",
        "def hit_rate(pred_tracks_df, true_tracks_df, n=1):\n",
        "  \"\"\"\n",
        "  Computes the mean user hit rate.\n",
        "  \n",
        "  Assumes\n",
        "   * pred_tracks_df sorted by score per pid\n",
        "   * true_tracks_df has only one true track per pid!\n",
        "  \"\"\"\n",
        "  \n",
        "  pred_tracks_df = pred_tracks_df.groupby(\"pid\").head(n)\n",
        "  hits = len(pred_tracks_df.join(true_tracks_df.set_index([\"pid\", \"traid\"]),\n",
        "                                 on=[\"pid\", \"traid\"], how=\"inner\"))\n",
        "  hit_rate = hits / pred_tracks_df[\"pid\"].nunique()\n",
        "  \n",
        "  return hit_rate\n",
        "\n",
        "\n",
        "def hit_rates(pred_tracks_df, true_tracks_df, max_n=500):\n",
        "  \"\"\"\n",
        "  Computes the mean user hit rate for each n up to max_n.\n",
        "  \n",
        "  Assumes\n",
        "   * pred_tracks_df sorted by score per pid\n",
        "  \"\"\"\n",
        "  \n",
        "  pred_tracks_df = pred_tracks_df.groupby(\"pid\").head(max_n)\n",
        "  \n",
        "  hits = pred_tracks_df\n",
        "  hits[\"n\"] = hits.groupby(\"pid\").cumcount()\n",
        "  true_tracks_df[\"r\"] = true_tracks_df.groupby(\"pid\")[\"traid\"].transform(\"size\")\n",
        "  hits = hits.join(true_tracks_df.set_index([\"pid\", \"traid\"]),\n",
        "                   on=[\"pid\", \"traid\"], how=\"inner\")\n",
        "  hits[\"hits\"] = 1.0 / hits[\"r\"]\n",
        "  \n",
        "  cum_hits = hits.groupby(\"n\")[\"hits\"].sum().cumsum()\n",
        "  cum_hits = cum_hits.reindex(range(0, max_n), method=\"pad\")\n",
        "  cum_hits.fillna(0.0, inplace=True)\n",
        "  \n",
        "  cum_hit_rates = cum_hits.to_numpy() / pred_tracks_df[\"pid\"].nunique()\n",
        "  \n",
        "  return cum_hit_rates\n",
        "\n",
        "\n",
        "def ndcg(pred_tracks_df, true_tracks_df, n=500):\n",
        "  \"\"\"\n",
        "  Computes the mean user NDCG.\n",
        "  \n",
        "  Assumes pred_tracks_df sorted by score per pid\n",
        "  \"\"\"\n",
        "  \n",
        "  pred_tracks_df = pred_tracks_df.groupby(\"pid\").head(n)\n",
        "  true_tracks_df = true_tracks_df.groupby(\"pid\").head(n)\n",
        "  \n",
        "  dcgs = pred_tracks_df\n",
        "  dcgs[\"n\"] = dcgs.groupby(\"pid\").cumcount()\n",
        "  dcgs = dcgs.join(true_tracks_df.set_index([\"pid\", \"traid\"]),\n",
        "                   on=[\"pid\", \"traid\"], how=\"inner\")\n",
        "  dcgs[\"dcg\"] = 1.0 / np.log2(dcgs[\"n\"].to_numpy() + 2)\n",
        "  dcg = dcgs.groupby(\"pid\")[\"dcg\"].sum()\n",
        "  \n",
        "  idcgs = true_tracks_df\n",
        "  idcgs[\"n\"] = idcgs.groupby(\"pid\").cumcount()\n",
        "  idcgs[\"dcg\"] = 1.0 / np.log2(idcgs[\"n\"].to_numpy() + 2)\n",
        "  idcg = idcgs.groupby(\"pid\")[\"dcg\"].sum()\n",
        "  \n",
        "  return (dcg / idcg).sum()  / pred_tracks_df[\"pid\"].nunique()"
      ],
      "execution_count": 0,
      "outputs": []
    },
    {
      "cell_type": "markdown",
      "metadata": {
        "id": "jyP6xsTqcbNZ",
        "colab_type": "text"
      },
      "source": [
        "# Baseline algorithms"
      ]
    },
    {
      "cell_type": "markdown",
      "metadata": {
        "id": "po2m2A7SNuHt",
        "colab_type": "text"
      },
      "source": [
        "Now we want to evaluate some baseline algorithms on the dataset. We will use the following algorithms.\n",
        "\n",
        "*   PopRank\n",
        "*   Same Artist - Greatest Hits (SAGH)\n",
        "*   kNN user-based collaborative filtering\n",
        "\n",
        "These algorithms were presented and evaluated for playlist generation in\n",
        "\n",
        "\n",
        "> Geoffray Bonnin and Dietmar Jannach.<br>\n",
        "> **Automated generation of music playlists:Survey and experiments**.<br>\n",
        "> *In ACM CSUR, pages 26:1--26:35, 2015*"
      ]
    },
    {
      "cell_type": "markdown",
      "metadata": {
        "id": "5TtW04S-lmHr",
        "colab_type": "text"
      },
      "source": [
        "## Implementation"
      ]
    },
    {
      "cell_type": "code",
      "metadata": {
        "id": "mSP3ROpA3EI_",
        "colab_type": "code",
        "colab": {}
      },
      "source": [
        "def df2csr(df, cols, nodup=True, shape=None, return_df=False):\n",
        "  \"\"\"\n",
        "  Converts a dataframe with 2 or 3 columns into a csr matrix where\n",
        "   * column 1 are the row indices\n",
        "   * column 2 are the column indices\n",
        "   * column 3 are the values or all values are one\n",
        "\n",
        "  This csr matrix can be more efficient to work with in some algorithms\n",
        "  \"\"\"\n",
        "  \n",
        "  rowcol = cols[0]\n",
        "  colcol = cols[1]\n",
        "  valcol = cols[2] if len(cols) > 2 else None\n",
        "    \n",
        "  if nodup:\n",
        "    dfcols = [col for col in cols if col]\n",
        "    df = df[dfcols].drop_duplicates()\n",
        "  \n",
        "  row_arr = df[rowcol].to_numpy()\n",
        "  col_arr = df[colcol].to_numpy()\n",
        "  val_arr = df[valcol].to_numpy() if valcol else np.ones(row_arr.shape)\n",
        "  \n",
        "  mat = csr_matrix((val_arr, (row_arr, col_arr)), shape=shape)\n",
        "  \n",
        "  if not nodup:\n",
        "    mat.sum_duplicates()\n",
        "  \n",
        "  if return_df:\n",
        "    return mat, df\n",
        "  \n",
        "  return mat\n",
        "\n",
        "\n",
        "class TrackArtistEnricher:\n",
        "  \n",
        "  def fit(self, train_df):\n",
        "    self.tra_art_s = (train_df[[\"traid\", \"artid\"]]\n",
        "                      .drop_duplicates()\n",
        "                      .append(pd.DataFrame({\"traid\": [0], \"artid\": [0]}))\n",
        "                      .set_index(\"traid\"))\n",
        "  \n",
        "  def transform(self, df):\n",
        "    return df.join(self.tra_art_s, on=\"traid\")\n",
        "\n",
        "  \n",
        "t_cols = [\"score\", \"pid\", \"traid\"]"
      ],
      "execution_count": 0,
      "outputs": []
    },
    {
      "cell_type": "code",
      "metadata": {
        "id": "4MzZ1Cs7lqlt",
        "colab_type": "code",
        "colab": {}
      },
      "source": [
        "class PopRank:\n",
        "  \n",
        "  @with_time\n",
        "  def fit(self, train_df, count_listens=False, tf=False):\n",
        "    nodup = not count_listens and not tf\n",
        "    tra_user_mat = df2csr(train_df, [\"traid\", \"pid\"], nodup=nodup)\n",
        "    \n",
        "    if tf:\n",
        "      tra_user_mat.data = np.log2(1 + tra_user_mat.data)\n",
        "\n",
        "    scores = tra_user_mat.sum(axis=1).A.reshape(-1)\n",
        "    \n",
        "    self.scores_s = pd.Series(data=scores, name=\"score\")\n",
        "    self.scores_s.index.name = \"traid\"\n",
        "  \n",
        "  def transform_no_filter(self, query_df, n):\n",
        "    users_df = query_df[[\"pid\"]].drop_duplicates()\n",
        "    users_df[\"tmpkey\"] = 0\n",
        "    t_df = self.scores_s.nlargest(n).reset_index().copy()\n",
        "    t_df[\"tmpkey\"] = 0\n",
        "    return users_df.merge(t_df, on=\"tmpkey\")\n",
        "  \n",
        "  def transform_filter(self, query_df, n):    \n",
        "    gp = query_df[[\"pid\", \"traid\"]].drop_duplicates().groupby(\"pid\")\n",
        "    m = gp.size().max()\n",
        "    \n",
        "    # trick for efficiently filtering user tracks\n",
        "    # use mutable scores series\n",
        "    # \n",
        "    #  1. get best n + m (maximum user tracks) sorted scores\n",
        "    nmlargest_idx = self.scores_s.nlargest(n + m).index.to_numpy()\n",
        "\n",
        "    t_dfs = []\n",
        "    for userid, user_df in gp:\n",
        "      user_tracks = user_df[\"traid\"].to_numpy()\n",
        "      \n",
        "      #  2. set scores of filtered tracks to 0 - changes df state\n",
        "      tmpscores = self.scores_s.iloc[user_tracks]\n",
        "      self.scores_s.iloc[user_tracks] = 0.0\n",
        "\n",
        "      sorted_scores = self.scores_s.iloc[nmlargest_idx].to_numpy()\n",
        "\n",
        "      #  3. get best n sorted scores without added 0s\n",
        "      nonzero_idx = np.nonzero(sorted_scores)[0][:n]\n",
        "      resorted_idx = nmlargest_idx[nonzero_idx]\n",
        "\n",
        "      #  4. reset 0 scores - changes df state back\n",
        "      t_s = self.scores_s.iloc[resorted_idx]\n",
        "\n",
        "      self.scores_s.iloc[user_tracks] = tmpscores\n",
        "\n",
        "      t_df = t_s.reset_index()\n",
        "      t_df[\"pid\"] = userid\n",
        "      t_dfs.append(t_df)\n",
        "    \n",
        "    return pd.concat(t_dfs, sort=False)\n",
        "  \n",
        "  @with_time\n",
        "  def transform(self, query_df, n=500, filter_user_tracks=False):\n",
        "    if filter_user_tracks:\n",
        "      t_df = self.transform_filter(query_df, n)\n",
        "    else:\n",
        "      t_df = self.transform_no_filter(query_df, n)\n",
        "    \n",
        "    return t_df[t_cols]"
      ],
      "execution_count": 0,
      "outputs": []
    },
    {
      "cell_type": "code",
      "metadata": {
        "id": "J-QP-AjGl8U1",
        "colab_type": "code",
        "colab": {}
      },
      "source": [
        "class SAGH:\n",
        "  \n",
        "  @with_time\n",
        "  def fit(self, train_df, count_listens=False, tf=False):\n",
        "    self.pop_rank = PopRank()\n",
        "    self.pop_rank.fit(train_df, count_listens=count_listens, tf=tf)\n",
        "    \n",
        "    art_en = TrackArtistEnricher()\n",
        "    art_en.fit(train_df)\n",
        "    art_tra_scores_df = art_en.transform(self.pop_rank.scores_s.reset_index())\n",
        "    art_tra_scores_df.drop(0, inplace=True)  # remove missing artists\n",
        "    \n",
        "    self.art_tra_mat = df2csr(art_tra_scores_df,\n",
        "                              [\"artid\", \"traid\", \"score\"],\n",
        "                              nodup=True)\n",
        "  \n",
        "  @with_time\n",
        "  def transform(self, query_df, n=500, filter_user_tracks=False):\n",
        "    userids = query_df[\"pid\"].drop_duplicates()  \n",
        "    user_art_mat = df2csr(query_df, [\"pid\", \"artid\"],\n",
        "                          nodup=True,\n",
        "                          shape=(userids.max() + 1, self.art_tra_mat.shape[0]))\n",
        "\n",
        "    # popularity scores of tracks of same artists\n",
        "    tra_scores_mat = user_art_mat * self.art_tra_mat\n",
        "\n",
        "    if filter_user_tracks:\n",
        "      # trick for efficiently filtering user tracks\n",
        "      # use same mutable mask for each user \n",
        "      gp = query_df[[\"pid\", \"traid\"]].drop_duplicates().groupby(\"pid\")\n",
        "      tracks_mask = np.ones(self.art_tra_mat.shape[1])\n",
        "    else:\n",
        "      gp = ((userid, None) for userid in userids)\n",
        "\n",
        "    t_dfs = []      \n",
        "    for userid, user_df in gp:\n",
        "      start = time.time()\n",
        "\n",
        "      l = tra_scores_mat.indptr[userid]\n",
        "      r = tra_scores_mat.indptr[userid + 1]\n",
        "\n",
        "      userids = np.full(r - l, userid)\n",
        "      tracks = tra_scores_mat.indices[l:r]\n",
        "      scores = tra_scores_mat.data[l:r]\n",
        "\n",
        "      t_df = pd.DataFrame({\"pid\": userids, \"traid\": tracks, \"score\": scores})\n",
        "\n",
        "      if filter_user_tracks:\n",
        "        user_tracks = user_df[\"traid\"].to_numpy()\n",
        "        tracks_mask[user_tracks] = 0\n",
        "        \n",
        "        t_df = t_df.nlargest(n + len(user_tracks), \"score\")\n",
        "        n_offsets = np.nonzero(tracks_mask[t_df[\"traid\"].to_numpy()])[0][:n]\n",
        "        t_df = t_df.iloc[n_offsets]\n",
        "        \n",
        "        tracks_mask[user_tracks] = 1\n",
        "      else:\n",
        "        t_df = t_df.nlargest(n, \"score\")\n",
        "      \n",
        "      t_dfs.append(t_df)\n",
        "\n",
        "    return pd.concat(t_dfs, sort=False)[t_cols]"
      ],
      "execution_count": 0,
      "outputs": []
    },
    {
      "cell_type": "code",
      "metadata": {
        "id": "wlgPqIFemCuY",
        "colab_type": "code",
        "colab": {}
      },
      "source": [
        "class KNN:\n",
        "  \n",
        "  @with_time\n",
        "  def fit(self, train_df, count_listens=False, tfidf=False):    \n",
        "    self.user_tra_mat = df2csr(train_df, [\"pid\", \"traid\"], nodup=not tfidf)\n",
        "    \n",
        "    self.tfidf_trans = None\n",
        "    if tfidf:\n",
        "      self.tfidf_trans = TfidfTransformer(sublinear_tf=True)\n",
        "    if count_listens:\n",
        "      self.tfidf_trans = TfidfTransformer(norm=None, use_idf=False)\n",
        "    if tfidf or count_listens:\n",
        "      self.user_tra_mat = self.tfidf_trans.fit_transform(self.user_tra_mat)\n",
        "    \n",
        "    # for cosine similarity\n",
        "    self.tra_user_normalized = normalize(self.user_tra_mat).T\n",
        "  \n",
        "  @with_time\n",
        "  def transform(self, query_df, n=500, k=50, filter_user_tracks=False):    \n",
        "    mat = df2csr(query_df, [\"pid\", \"traid\"],\n",
        "                 nodup=not self.tfidf_trans,\n",
        "                 shape=self.user_tra_mat.shape)\n",
        "    \n",
        "    if self.tfidf_trans:\n",
        "      mat = self.tfidf_trans.transform(mat)\n",
        "\n",
        "    normalize(mat, copy=False)  # for cosine similarity\n",
        "    \n",
        "    # cosine similarity\n",
        "    # this needs O(n^2) memory for n users, but is stored sparse at least\n",
        "    nn_scores = mat * self.tra_user_normalized\n",
        "    \n",
        "    if filter_user_tracks:\n",
        "      # trick for efficiently filtering user tracks\n",
        "      # use same mutable mask for each user \n",
        "      gp = query_df[[\"pid\", \"traid\"]].drop_duplicates().groupby(\"pid\")\n",
        "      tracks_mask = np.ones(self.user_tra_mat.shape[1])\n",
        "    else:\n",
        "      gp = ((i, i) for i in range(self.user_tra_mat.shape[0]))\n",
        "\n",
        "    t_dfs = []\n",
        "    for userid, user_df in gp:\n",
        "      # k nearest neighbors by cosine similarity\n",
        "      l = nn_scores.indptr[userid]\n",
        "      r = nn_scores.indptr[userid + 1]\n",
        "      if (r - l) <= k:\n",
        "        nn_users = nn_scores.indices[l:r]\n",
        "      else:\n",
        "        k_offsets = np.argpartition(nn_scores.data[l:r], -k)[-k:]\n",
        "        nn_users = nn_scores.indices[l + k_offsets]\n",
        "\n",
        "      # track scores as tracks of neighbors weighted by cosine similarity\n",
        "      scores =  nn_scores[userid,nn_users] * self.user_tra_mat[nn_users,:]\n",
        "\n",
        "      userids = np.full(len(scores.indices), userid)\n",
        "      tracks = scores.indices\n",
        "      scores = scores.data\n",
        "      \n",
        "      t_df = pd.DataFrame({\"pid\": userids, \"traid\": tracks, \"score\": scores})\n",
        "      \n",
        "      if filter_user_tracks:\n",
        "        user_tracks = user_df[\"traid\"].to_numpy()\n",
        "        tracks_mask[user_tracks] = 0\n",
        "        \n",
        "        t_df = t_df.nlargest(n + user_tracks.size, \"score\")\n",
        "        n_offsets = np.nonzero(tracks_mask[t_df[\"traid\"].to_numpy()])[0][:n]\n",
        "        t_df = t_df.iloc[n_offsets]\n",
        "        \n",
        "        tracks_mask[user_tracks] = 1\n",
        "      else:\n",
        "        t_df = t_df.nlargest(n, \"score\")\n",
        "        \n",
        "      t_dfs.append(t_df)\n",
        "    \n",
        "    return pd.concat(t_dfs, sort=False)[t_cols]"
      ],
      "execution_count": 0,
      "outputs": []
    },
    {
      "cell_type": "markdown",
      "metadata": {
        "id": "ObYBFUCAlv1q",
        "colab_type": "text"
      },
      "source": [
        "## Evaluation"
      ]
    },
    {
      "cell_type": "markdown",
      "metadata": {
        "id": "cpxXPPRcCtaa",
        "colab_type": "text"
      },
      "source": [
        "In our evaluation we filter out tracks that are already in the playlist (*filter_user_tracks*), as only a few tracks are contained in a playlist multiple times. We therefore also don't use the *count_listens* or *tf* parameters."
      ]
    },
    {
      "cell_type": "code",
      "metadata": {
        "id": "0YDXE76V5zfL",
        "colab_type": "code",
        "outputId": "cef83aa1-73ae-4799-b39b-76c1edfd7584",
        "colab": {
          "base_uri": "https://localhost:8080/",
          "height": 294
        }
      },
      "source": [
        "pop_rank = PopRank()\n",
        "pop_rank_fit_time = pop_rank.fit(train_df)\n",
        "pop_rank_df, pop_rank_trans_time = pop_rank.transform(\n",
        "    get_query_seeds(test_query_df), filter_user_tracks=True)\n",
        "pop_rank_hit_rates = hit_rates(pop_rank_df, test_df)\n",
        "pop_rank_ndcg = ndcg(pop_rank_df, test_df)\n",
        "\n",
        "print(\"{:.6f} hit rate\\n{:.6f} ndcg\\n\\n{:.5f}s fit time \\n{:.5f}s trans time\"\n",
        "      .format(pop_rank_hit_rates[0], pop_rank_ndcg, pop_rank_fit_time,\n",
        "              pop_rank_trans_time))\n",
        "\n",
        "with_names(pop_rank_df.head(), names_df)"
      ],
      "execution_count": 0,
      "outputs": [
        {
          "output_type": "stream",
          "text": [
            "0.005000 hit rate\n",
            "0.028205 ndcg\n",
            "\n",
            "0.18609s fit time \n",
            "4.02432s trans time\n"
          ],
          "name": "stdout"
        },
        {
          "output_type": "execute_result",
          "data": {
            "text/html": [
              "<div>\n",
              "<style scoped>\n",
              "    .dataframe tbody tr th:only-of-type {\n",
              "        vertical-align: middle;\n",
              "    }\n",
              "\n",
              "    .dataframe tbody tr th {\n",
              "        vertical-align: top;\n",
              "    }\n",
              "\n",
              "    .dataframe thead th {\n",
              "        text-align: right;\n",
              "    }\n",
              "</style>\n",
              "<table border=\"1\" class=\"dataframe\">\n",
              "  <thead>\n",
              "    <tr style=\"text-align: right;\">\n",
              "      <th></th>\n",
              "      <th>score</th>\n",
              "      <th>pid</th>\n",
              "      <th>traname</th>\n",
              "      <th>albname</th>\n",
              "      <th>artname</th>\n",
              "    </tr>\n",
              "  </thead>\n",
              "  <tbody>\n",
              "    <tr>\n",
              "      <th>0</th>\n",
              "      <td>822.0</td>\n",
              "      <td>161</td>\n",
              "      <td>Where Is My Mind?</td>\n",
              "      <td>Wave Of Mutilation: Best Of Pixies</td>\n",
              "      <td>Pixies</td>\n",
              "    </tr>\n",
              "    <tr>\n",
              "      <th>1</th>\n",
              "      <td>663.0</td>\n",
              "      <td>161</td>\n",
              "      <td>In The Aeroplane Over The Sea</td>\n",
              "      <td>In The Aeroplane Over The Sea</td>\n",
              "      <td>Neutral Milk Hotel</td>\n",
              "    </tr>\n",
              "    <tr>\n",
              "      <th>2</th>\n",
              "      <td>660.0</td>\n",
              "      <td>161</td>\n",
              "      <td>Love Will Tear Us Apart</td>\n",
              "      <td>Let The Movie Begin</td>\n",
              "      <td>Joy Division</td>\n",
              "    </tr>\n",
              "    <tr>\n",
              "      <th>3</th>\n",
              "      <td>657.0</td>\n",
              "      <td>161</td>\n",
              "      <td>Pink Moon</td>\n",
              "      <td>Pink Moon</td>\n",
              "      <td>Nick Drake</td>\n",
              "    </tr>\n",
              "    <tr>\n",
              "      <th>4</th>\n",
              "      <td>650.0</td>\n",
              "      <td>161</td>\n",
              "      <td>Such Great Heights</td>\n",
              "      <td>Grey's Anatomy Original Soundtrack</td>\n",
              "      <td>The Postal Service</td>\n",
              "    </tr>\n",
              "  </tbody>\n",
              "</table>\n",
              "</div>"
            ],
            "text/plain": [
              "   score  pid  ...                             albname             artname\n",
              "0  822.0  161  ...  Wave Of Mutilation: Best Of Pixies              Pixies\n",
              "1  663.0  161  ...       In The Aeroplane Over The Sea  Neutral Milk Hotel\n",
              "2  660.0  161  ...                 Let The Movie Begin        Joy Division\n",
              "3  657.0  161  ...                           Pink Moon          Nick Drake\n",
              "4  650.0  161  ...  Grey's Anatomy Original Soundtrack  The Postal Service\n",
              "\n",
              "[5 rows x 5 columns]"
            ]
          },
          "metadata": {
            "tags": []
          },
          "execution_count": 50
        }
      ]
    },
    {
      "cell_type": "code",
      "metadata": {
        "id": "D8DnDQyukmcx",
        "colab_type": "code",
        "colab": {}
      },
      "source": [
        "del pop_rank"
      ],
      "execution_count": 0,
      "outputs": []
    },
    {
      "cell_type": "code",
      "metadata": {
        "id": "RJ7BAm0T53_X",
        "colab_type": "code",
        "outputId": "285c11d1-69a0-41a3-9c49-af9ea15f97a1",
        "colab": {
          "base_uri": "https://localhost:8080/",
          "height": 294
        }
      },
      "source": [
        "sagh = SAGH()\n",
        "sagh_fit_time = sagh.fit(train_df)\n",
        "sagh_df, sagh_trans_time = sagh.transform(get_query_seeds(test_query_df),\n",
        "                                          filter_user_tracks=True)\n",
        "sagh_hit_rates = hit_rates(sagh_df, test_df)\n",
        "sagh_ndcg = ndcg(sagh_df, test_df)\n",
        "\n",
        "print(\"{:.6f} hit rate\\n{:.6f} ndcg\\n\\n{:.5f}s fit time \\n{:.5f}s trans time\"\n",
        "      .format(sagh_hit_rates[0], sagh_ndcg, sagh_fit_time, sagh_trans_time))\n",
        "\n",
        "with_names(sagh_df.head(), names_df)"
      ],
      "execution_count": 0,
      "outputs": [
        {
          "output_type": "stream",
          "text": [
            "0.012012 hit rate\n",
            "0.041519 ndcg\n",
            "\n",
            "0.28608s fit time \n",
            "4.93520s trans time\n"
          ],
          "name": "stdout"
        },
        {
          "output_type": "execute_result",
          "data": {
            "text/html": [
              "<div>\n",
              "<style scoped>\n",
              "    .dataframe tbody tr th:only-of-type {\n",
              "        vertical-align: middle;\n",
              "    }\n",
              "\n",
              "    .dataframe tbody tr th {\n",
              "        vertical-align: top;\n",
              "    }\n",
              "\n",
              "    .dataframe thead th {\n",
              "        text-align: right;\n",
              "    }\n",
              "</style>\n",
              "<table border=\"1\" class=\"dataframe\">\n",
              "  <thead>\n",
              "    <tr style=\"text-align: right;\">\n",
              "      <th></th>\n",
              "      <th>score</th>\n",
              "      <th>pid</th>\n",
              "      <th>traname</th>\n",
              "      <th>albname</th>\n",
              "      <th>artname</th>\n",
              "    </tr>\n",
              "  </thead>\n",
              "  <tbody>\n",
              "    <tr>\n",
              "      <th>608</th>\n",
              "      <td>271.0</td>\n",
              "      <td>161</td>\n",
              "      <td>Brown Eyed Girl</td>\n",
              "      <td>Letter From Vietnam Vol. 7</td>\n",
              "      <td>Van Morrison</td>\n",
              "    </tr>\n",
              "    <tr>\n",
              "      <th>378</th>\n",
              "      <td>171.0</td>\n",
              "      <td>161</td>\n",
              "      <td>Every Little Thing She Does Is Magic</td>\n",
              "      <td>The Very Best Of Sting And The Police</td>\n",
              "      <td>The Police</td>\n",
              "    </tr>\n",
              "    <tr>\n",
              "      <th>318</th>\n",
              "      <td>167.0</td>\n",
              "      <td>161</td>\n",
              "      <td>Born To Run</td>\n",
              "      <td>Greatest Hits</td>\n",
              "      <td>Bruce Springsteen</td>\n",
              "    </tr>\n",
              "    <tr>\n",
              "      <th>517</th>\n",
              "      <td>165.0</td>\n",
              "      <td>161</td>\n",
              "      <td>Comfortably Numb</td>\n",
              "      <td>Is There Anybody Out There? / The Wall Live  P...</td>\n",
              "      <td>Pink Floyd</td>\n",
              "    </tr>\n",
              "    <tr>\n",
              "      <th>563</th>\n",
              "      <td>155.0</td>\n",
              "      <td>161</td>\n",
              "      <td>Instant Karma! (We All Shine On) (Live)</td>\n",
              "      <td>Live In New York City</td>\n",
              "      <td>John Lennon</td>\n",
              "    </tr>\n",
              "  </tbody>\n",
              "</table>\n",
              "</div>"
            ],
            "text/plain": [
              "     score  ...            artname\n",
              "608  271.0  ...       Van Morrison\n",
              "378  171.0  ...         The Police\n",
              "318  167.0  ...  Bruce Springsteen\n",
              "517  165.0  ...         Pink Floyd\n",
              "563  155.0  ...        John Lennon\n",
              "\n",
              "[5 rows x 5 columns]"
            ]
          },
          "metadata": {
            "tags": []
          },
          "execution_count": 52
        }
      ]
    },
    {
      "cell_type": "code",
      "metadata": {
        "id": "5m6dKGPxlFrq",
        "colab_type": "code",
        "colab": {}
      },
      "source": [
        "del sagh\n",
        "del sagh_df"
      ],
      "execution_count": 0,
      "outputs": []
    },
    {
      "cell_type": "markdown",
      "metadata": {
        "id": "Khy5hrJTSPOF",
        "colab_type": "text"
      },
      "source": [
        "For kNN the best k is determined through evaluations on the validation set."
      ]
    },
    {
      "cell_type": "code",
      "metadata": {
        "id": "1U2tNW5Hky0A",
        "colab_type": "code",
        "colab": {}
      },
      "source": [
        "train_df, val_df, val_query_df = last_track_split(df, as_val=True,\n",
        "                                                  n_test_users=1000)"
      ],
      "execution_count": 0,
      "outputs": []
    },
    {
      "cell_type": "code",
      "metadata": {
        "id": "_LhmI0zajpl4",
        "colab_type": "code",
        "colab": {}
      },
      "source": [
        "ks = [10, 50, 100, 150, 200, 250, 300, 350, 400, 450, 500, 1000]\n",
        "knn = KNN()\n",
        "knn_fit_time = knn.fit(train_df)\n",
        "\n",
        "knn_hit_rates = dict()\n",
        "knn_ndcgs = dict()\n",
        "\n",
        "for k in ks:\n",
        "  knn_df, _= knn.transform(get_query_seeds(val_query_df), k=k,\n",
        "                           filter_user_tracks=True)\n",
        "  knn_hit_rates[k] = hit_rates(knn_df, val_df)\n",
        "  knn_ndcgs[k] = ndcg(knn_df, val_df)"
      ],
      "execution_count": 0,
      "outputs": []
    },
    {
      "cell_type": "code",
      "metadata": {
        "id": "BxZgdrCLk3jE",
        "colab_type": "code",
        "outputId": "f0098be8-1ec2-433f-d228-e896ed47b62e",
        "colab": {
          "base_uri": "https://localhost:8080/",
          "height": 144
        }
      },
      "source": [
        "rows = [[knn_ndcgs[k] for k in ks], [knn_hit_rates[k][0] for k in ks]]\n",
        "index = [\"NDCG\", \"Hit rate\"]        \n",
        "pd.DataFrame.from_records(rows, columns=ks, index=index)"
      ],
      "execution_count": 0,
      "outputs": [
        {
          "output_type": "execute_result",
          "data": {
            "text/html": [
              "<div>\n",
              "<style scoped>\n",
              "    .dataframe tbody tr th:only-of-type {\n",
              "        vertical-align: middle;\n",
              "    }\n",
              "\n",
              "    .dataframe tbody tr th {\n",
              "        vertical-align: top;\n",
              "    }\n",
              "\n",
              "    .dataframe thead th {\n",
              "        text-align: right;\n",
              "    }\n",
              "</style>\n",
              "<table border=\"1\" class=\"dataframe\">\n",
              "  <thead>\n",
              "    <tr style=\"text-align: right;\">\n",
              "      <th></th>\n",
              "      <th>10</th>\n",
              "      <th>50</th>\n",
              "      <th>100</th>\n",
              "      <th>150</th>\n",
              "      <th>200</th>\n",
              "      <th>250</th>\n",
              "      <th>300</th>\n",
              "      <th>350</th>\n",
              "      <th>400</th>\n",
              "      <th>450</th>\n",
              "      <th>500</th>\n",
              "      <th>1000</th>\n",
              "    </tr>\n",
              "  </thead>\n",
              "  <tbody>\n",
              "    <tr>\n",
              "      <th>NDCG</th>\n",
              "      <td>0.049065</td>\n",
              "      <td>0.060095</td>\n",
              "      <td>0.066486</td>\n",
              "      <td>0.067219</td>\n",
              "      <td>0.067846</td>\n",
              "      <td>0.068541</td>\n",
              "      <td>0.069449</td>\n",
              "      <td>0.069029</td>\n",
              "      <td>0.068578</td>\n",
              "      <td>0.068423</td>\n",
              "      <td>0.067517</td>\n",
              "      <td>0.06663</td>\n",
              "    </tr>\n",
              "    <tr>\n",
              "      <th>Hit rate</th>\n",
              "      <td>0.021000</td>\n",
              "      <td>0.021000</td>\n",
              "      <td>0.022000</td>\n",
              "      <td>0.022000</td>\n",
              "      <td>0.023000</td>\n",
              "      <td>0.025000</td>\n",
              "      <td>0.024000</td>\n",
              "      <td>0.022000</td>\n",
              "      <td>0.019000</td>\n",
              "      <td>0.018000</td>\n",
              "      <td>0.016000</td>\n",
              "      <td>0.01600</td>\n",
              "    </tr>\n",
              "  </tbody>\n",
              "</table>\n",
              "</div>"
            ],
            "text/plain": [
              "              10        50        100   ...      450       500      1000\n",
              "NDCG      0.049065  0.060095  0.066486  ...  0.068423  0.067517  0.06663\n",
              "Hit rate  0.021000  0.021000  0.022000  ...  0.018000  0.016000  0.01600\n",
              "\n",
              "[2 rows x 12 columns]"
            ]
          },
          "metadata": {
            "tags": []
          },
          "execution_count": 84
        }
      ]
    },
    {
      "cell_type": "markdown",
      "metadata": {
        "id": "Buc2CJQGSpUB",
        "colab_type": "text"
      },
      "source": [
        "The best k - *300* - is then used for the evaluation.\n",
        "\n",
        "---\n",
        "\n"
      ]
    },
    {
      "cell_type": "code",
      "metadata": {
        "id": "xfNH7wXjllF3",
        "colab_type": "code",
        "colab": {}
      },
      "source": [
        "train_df, test_df, test_query_df = last_track_split(df, n_test_users=1000)"
      ],
      "execution_count": 0,
      "outputs": []
    },
    {
      "cell_type": "code",
      "metadata": {
        "id": "OOy9cswI0tKd",
        "colab_type": "code",
        "outputId": "3e9355a4-5fbb-47b6-aad5-547e3c3651f0",
        "colab": {
          "base_uri": "https://localhost:8080/",
          "height": 294
        }
      },
      "source": [
        "knn = KNN()\n",
        "knn_fit_time = knn.fit(train_df)\n",
        "knn_df, knn300_trans_time = knn.transform(get_query_seeds(test_query_df), k=300,\n",
        "                                          filter_user_tracks=True)\n",
        "knn300_hit_rates = hit_rates(knn_df, test_df)\n",
        "knn300_ndcg = ndcg(knn_df, test_df)\n",
        "\n",
        "print(\"{:.6f} hit rate\\n{:.6f} ndcg\\n\\n{:.5f}s fit time \\n{:.5f}s trans time\"\n",
        "      .format(knn300_hit_rates[0], knn300_ndcg, knn_fit_time,\n",
        "              knn300_trans_time))\n",
        "\n",
        "with_names(knn_df.head(), names_df)"
      ],
      "execution_count": 0,
      "outputs": [
        {
          "output_type": "stream",
          "text": [
            "0.022022 hit rate\n",
            "0.074822 ndcg\n",
            "\n",
            "0.18867s fit time \n",
            "5.53161s trans time\n"
          ],
          "name": "stdout"
        },
        {
          "output_type": "execute_result",
          "data": {
            "text/html": [
              "<div>\n",
              "<style scoped>\n",
              "    .dataframe tbody tr th:only-of-type {\n",
              "        vertical-align: middle;\n",
              "    }\n",
              "\n",
              "    .dataframe tbody tr th {\n",
              "        vertical-align: top;\n",
              "    }\n",
              "\n",
              "    .dataframe thead th {\n",
              "        text-align: right;\n",
              "    }\n",
              "</style>\n",
              "<table border=\"1\" class=\"dataframe\">\n",
              "  <thead>\n",
              "    <tr style=\"text-align: right;\">\n",
              "      <th></th>\n",
              "      <th>score</th>\n",
              "      <th>pid</th>\n",
              "      <th>traname</th>\n",
              "      <th>albname</th>\n",
              "      <th>artname</th>\n",
              "    </tr>\n",
              "  </thead>\n",
              "  <tbody>\n",
              "    <tr>\n",
              "      <th>1162</th>\n",
              "      <td>1.428561</td>\n",
              "      <td>161</td>\n",
              "      <td>State Of Love And Trust</td>\n",
              "      <td>Seattle Washington November 5 2000</td>\n",
              "      <td>Pearl Jam</td>\n",
              "    </tr>\n",
              "    <tr>\n",
              "      <th>1163</th>\n",
              "      <td>1.319624</td>\n",
              "      <td>161</td>\n",
              "      <td>Daughter</td>\n",
              "      <td>Live On Two Legs</td>\n",
              "      <td>Pearl Jam</td>\n",
              "    </tr>\n",
              "    <tr>\n",
              "      <th>668</th>\n",
              "      <td>1.265795</td>\n",
              "      <td>161</td>\n",
              "      <td>Your Body Is A Wonderland</td>\n",
              "      <td>Your Body Is A Wonderland (Live Version)</td>\n",
              "      <td>John Mayer</td>\n",
              "    </tr>\n",
              "    <tr>\n",
              "      <th>1214</th>\n",
              "      <td>1.109212</td>\n",
              "      <td>161</td>\n",
              "      <td>Satellite</td>\n",
              "      <td>Live At Red Rocks 8.15.95</td>\n",
              "      <td>DAVE MATTHEWS BAND</td>\n",
              "    </tr>\n",
              "    <tr>\n",
              "      <th>1207</th>\n",
              "      <td>1.108354</td>\n",
              "      <td>161</td>\n",
              "      <td>Two Step</td>\n",
              "      <td>DMB Live Trax Vol. 6</td>\n",
              "      <td>DAVE MATTHEWS BAND</td>\n",
              "    </tr>\n",
              "  </tbody>\n",
              "</table>\n",
              "</div>"
            ],
            "text/plain": [
              "         score  ...             artname\n",
              "1162  1.428561  ...           Pearl Jam\n",
              "1163  1.319624  ...           Pearl Jam\n",
              "668   1.265795  ...          John Mayer\n",
              "1214  1.109212  ...  DAVE MATTHEWS BAND\n",
              "1207  1.108354  ...  DAVE MATTHEWS BAND\n",
              "\n",
              "[5 rows x 5 columns]"
            ]
          },
          "metadata": {
            "tags": []
          },
          "execution_count": 55
        }
      ]
    },
    {
      "cell_type": "code",
      "metadata": {
        "id": "j_cbESwmDuT_",
        "colab_type": "code",
        "colab": {}
      },
      "source": [
        "del knn\n",
        "del knn_df"
      ],
      "execution_count": 0,
      "outputs": []
    },
    {
      "cell_type": "markdown",
      "metadata": {
        "id": "q7GJ2GR2S0Kq",
        "colab_type": "text"
      },
      "source": [
        "The final evaluation results are shown below.\n",
        "One can see that unsurprisingly SAGH is better than Pop Rank and kNN better than SAGH."
      ]
    },
    {
      "cell_type": "code",
      "metadata": {
        "id": "Fnbw5-lrP0vA",
        "colab_type": "code",
        "outputId": "1cdc1517-d3aa-45c3-8a6f-b58115c2fc3f",
        "colab": {
          "base_uri": "https://localhost:8080/",
          "height": 111
        }
      },
      "source": [
        "cols = [\"Pop Rank\", \"SAGH\", \"kNN, k 300\"]\n",
        "rows = [[pop_rank_ndcg, sagh_ndcg, knn300_ndcg],\n",
        "        [pop_rank_hit_rates[0], sagh_hit_rates[0],  knn300_hit_rates[0]]]\n",
        "index = [\"NDCG\", \"Hit rate\"]\n",
        "pd.DataFrame.from_records(rows, columns=cols, index=index)"
      ],
      "execution_count": 0,
      "outputs": [
        {
          "output_type": "execute_result",
          "data": {
            "text/html": [
              "<div>\n",
              "<style scoped>\n",
              "    .dataframe tbody tr th:only-of-type {\n",
              "        vertical-align: middle;\n",
              "    }\n",
              "\n",
              "    .dataframe tbody tr th {\n",
              "        vertical-align: top;\n",
              "    }\n",
              "\n",
              "    .dataframe thead th {\n",
              "        text-align: right;\n",
              "    }\n",
              "</style>\n",
              "<table border=\"1\" class=\"dataframe\">\n",
              "  <thead>\n",
              "    <tr style=\"text-align: right;\">\n",
              "      <th></th>\n",
              "      <th>Pop Rank</th>\n",
              "      <th>SAGH</th>\n",
              "      <th>kNN, k 300</th>\n",
              "    </tr>\n",
              "  </thead>\n",
              "  <tbody>\n",
              "    <tr>\n",
              "      <th>NDCG</th>\n",
              "      <td>0.028205</td>\n",
              "      <td>0.041519</td>\n",
              "      <td>0.074822</td>\n",
              "    </tr>\n",
              "    <tr>\n",
              "      <th>Hit rate</th>\n",
              "      <td>0.005000</td>\n",
              "      <td>0.012012</td>\n",
              "      <td>0.022022</td>\n",
              "    </tr>\n",
              "  </tbody>\n",
              "</table>\n",
              "</div>"
            ],
            "text/plain": [
              "          Pop Rank      SAGH  kNN, k 300\n",
              "NDCG      0.028205  0.041519    0.074822\n",
              "Hit rate  0.005000  0.012012    0.022022"
            ]
          },
          "metadata": {
            "tags": []
          },
          "execution_count": 57
        }
      ]
    },
    {
      "cell_type": "code",
      "metadata": {
        "id": "69_CSSACiM5h",
        "colab_type": "code",
        "outputId": "4ba6668d-5407-4872-ba53-a76dc6f1a185",
        "colab": {
          "base_uri": "https://localhost:8080/",
          "height": 281
        }
      },
      "source": [
        "def plot_baseline_hit_rates(n=500):\n",
        "  plt.plot(pop_rank_hit_rates[:n], color=\"orange\")\n",
        "  plt.plot(sagh_hit_rates[:n], color=\"blue\")\n",
        "  plt.plot(knn300_hit_rates[:n], color=\"green\")\n",
        "\n",
        "  orange_patch = mpatches.Patch(color=\"orange\", label=\"Pop Rank\")\n",
        "  blue_patch = mpatches.Patch(color=\"blue\", label=\"SAGH\")\n",
        "  green_patch = mpatches.Patch(color=\"green\", label=\"kNN k 300\")\n",
        "  patches = [orange_patch, blue_patch, green_patch]\n",
        "  plt.legend(handles=patches)\n",
        "\n",
        "  plt.title(\"Hit rates of baseline algorithms\")\n",
        "  \n",
        "plot_baseline_hit_rates();"
      ],
      "execution_count": 0,
      "outputs": [
        {
          "output_type": "display_data",
          "data": {
            "image/png": "[encoded data removed]",
            "text/plain": [
              "<Figure size 432x288 with 1 Axes>"
            ]
          },
          "metadata": {
            "tags": []
          }
        }
      ]
    },
    {
      "cell_type": "code",
      "metadata": {
        "id": "rZVc5VlYsnOn",
        "colab_type": "code",
        "outputId": "f780ce2e-e9ee-4a90-949d-91b6a342e525",
        "colab": {
          "base_uri": "https://localhost:8080/",
          "height": 281
        }
      },
      "source": [
        "plot_baseline_hit_rates(n=25);"
      ],
      "execution_count": 0,
      "outputs": [
        {
          "output_type": "display_data",
          "data": {
            "image/png": "[encoded data removed]",
            "text/plain": [
              "<Figure size 432x288 with 1 Axes>"
            ]
          },
          "metadata": {
            "tags": []
          }
        }
      ]
    },
    {
      "cell_type": "markdown",
      "metadata": {
        "id": "OfAb6Yq3HWFa",
        "colab_type": "text"
      },
      "source": [
        "## Cold start evaluation"
      ]
    },
    {
      "cell_type": "markdown",
      "metadata": {
        "id": "gt-HXomwzyTe",
        "colab_type": "text"
      },
      "source": [
        "Besides an evaluation using a last-track split where we recommend the last track for each playlist we also perform an evaluation using a playlist split where we recommend all missing tracks for beginnings (5 seed tracks) of playlists which were entirely unknown during training."
      ]
    },
    {
      "cell_type": "code",
      "metadata": {
        "id": "oD1EPopZHa9x",
        "colab_type": "code",
        "outputId": "dc21c1b4-0233-41d4-9df3-a53d3f726d66",
        "colab": {
          "base_uri": "https://localhost:8080/",
          "height": 204
        }
      },
      "source": [
        "train_df, test_df, test_query_df = users_split(df, 1000,\n",
        "                                               include_val=False,\n",
        "                                               n_seed_tracks=5)\n",
        "names_df = to_names_index(train_df)\n",
        "drop_names([train_df, test_df, test_query_df])\n",
        "\n",
        "train_df.head()"
      ],
      "execution_count": 0,
      "outputs": [
        {
          "output_type": "execute_result",
          "data": {
            "text/html": [
              "<div>\n",
              "<style scoped>\n",
              "    .dataframe tbody tr th:only-of-type {\n",
              "        vertical-align: middle;\n",
              "    }\n",
              "\n",
              "    .dataframe tbody tr th {\n",
              "        vertical-align: top;\n",
              "    }\n",
              "\n",
              "    .dataframe thead th {\n",
              "        text-align: right;\n",
              "    }\n",
              "</style>\n",
              "<table border=\"1\" class=\"dataframe\">\n",
              "  <thead>\n",
              "    <tr style=\"text-align: right;\">\n",
              "      <th></th>\n",
              "      <th>category</th>\n",
              "      <th>pid</th>\n",
              "      <th>timestamp</th>\n",
              "      <th>userid</th>\n",
              "      <th>sid</th>\n",
              "      <th>traid</th>\n",
              "      <th>pyear</th>\n",
              "      <th>artid</th>\n",
              "      <th>albid</th>\n",
              "      <th>year</th>\n",
              "      <th>prev_traid</th>\n",
              "      <th>prev_albid</th>\n",
              "      <th>prev_artid</th>\n",
              "      <th>prev_year</th>\n",
              "    </tr>\n",
              "  </thead>\n",
              "  <tbody>\n",
              "    <tr>\n",
              "      <th>34256</th>\n",
              "      <td>1</td>\n",
              "      <td>1</td>\n",
              "      <td>1998-01-22</td>\n",
              "      <td>1</td>\n",
              "      <td>0</td>\n",
              "      <td>1</td>\n",
              "      <td>1</td>\n",
              "      <td>1</td>\n",
              "      <td>1</td>\n",
              "      <td>1</td>\n",
              "      <td>0</td>\n",
              "      <td>0</td>\n",
              "      <td>0</td>\n",
              "      <td>0</td>\n",
              "    </tr>\n",
              "    <tr>\n",
              "      <th>130601</th>\n",
              "      <td>1</td>\n",
              "      <td>1</td>\n",
              "      <td>1998-01-22</td>\n",
              "      <td>1</td>\n",
              "      <td>1</td>\n",
              "      <td>2</td>\n",
              "      <td>1</td>\n",
              "      <td>2</td>\n",
              "      <td>2</td>\n",
              "      <td>2</td>\n",
              "      <td>1</td>\n",
              "      <td>1</td>\n",
              "      <td>1</td>\n",
              "      <td>1</td>\n",
              "    </tr>\n",
              "    <tr>\n",
              "      <th>590015</th>\n",
              "      <td>1</td>\n",
              "      <td>1</td>\n",
              "      <td>1998-01-22</td>\n",
              "      <td>1</td>\n",
              "      <td>1</td>\n",
              "      <td>3</td>\n",
              "      <td>1</td>\n",
              "      <td>3</td>\n",
              "      <td>3</td>\n",
              "      <td>3</td>\n",
              "      <td>2</td>\n",
              "      <td>2</td>\n",
              "      <td>2</td>\n",
              "      <td>2</td>\n",
              "    </tr>\n",
              "    <tr>\n",
              "      <th>221992</th>\n",
              "      <td>1</td>\n",
              "      <td>1</td>\n",
              "      <td>1998-01-22</td>\n",
              "      <td>1</td>\n",
              "      <td>2</td>\n",
              "      <td>4</td>\n",
              "      <td>1</td>\n",
              "      <td>4</td>\n",
              "      <td>4</td>\n",
              "      <td>4</td>\n",
              "      <td>3</td>\n",
              "      <td>3</td>\n",
              "      <td>3</td>\n",
              "      <td>3</td>\n",
              "    </tr>\n",
              "    <tr>\n",
              "      <th>681406</th>\n",
              "      <td>1</td>\n",
              "      <td>1</td>\n",
              "      <td>1998-01-22</td>\n",
              "      <td>1</td>\n",
              "      <td>2</td>\n",
              "      <td>5</td>\n",
              "      <td>1</td>\n",
              "      <td>5</td>\n",
              "      <td>5</td>\n",
              "      <td>5</td>\n",
              "      <td>4</td>\n",
              "      <td>4</td>\n",
              "      <td>4</td>\n",
              "      <td>4</td>\n",
              "    </tr>\n",
              "  </tbody>\n",
              "</table>\n",
              "</div>"
            ],
            "text/plain": [
              "        category  pid  timestamp  ...  prev_albid prev_artid  prev_year\n",
              "34256          1    1 1998-01-22  ...           0          0          0\n",
              "130601         1    1 1998-01-22  ...           1          1          1\n",
              "590015         1    1 1998-01-22  ...           2          2          2\n",
              "221992         1    1 1998-01-22  ...           3          3          3\n",
              "681406         1    1 1998-01-22  ...           4          4          4\n",
              "\n",
              "[5 rows x 14 columns]"
            ]
          },
          "metadata": {
            "tags": []
          },
          "execution_count": 82
        }
      ]
    },
    {
      "cell_type": "code",
      "metadata": {
        "id": "lZkHlAufVfjw",
        "colab_type": "code",
        "outputId": "928d8707-ee59-439e-edea-6d3a64a2d6f4",
        "colab": {
          "base_uri": "https://localhost:8080/",
          "height": 97
        }
      },
      "source": [
        "get_query_ctx(test_query_df).head(1)"
      ],
      "execution_count": 0,
      "outputs": [
        {
          "output_type": "execute_result",
          "data": {
            "text/html": [
              "<div>\n",
              "<style scoped>\n",
              "    .dataframe tbody tr th:only-of-type {\n",
              "        vertical-align: middle;\n",
              "    }\n",
              "\n",
              "    .dataframe tbody tr th {\n",
              "        vertical-align: top;\n",
              "    }\n",
              "\n",
              "    .dataframe thead th {\n",
              "        text-align: right;\n",
              "    }\n",
              "</style>\n",
              "<table border=\"1\" class=\"dataframe\">\n",
              "  <thead>\n",
              "    <tr style=\"text-align: right;\">\n",
              "      <th></th>\n",
              "      <th>category</th>\n",
              "      <th>timestamp</th>\n",
              "      <th>pid</th>\n",
              "      <th>userid</th>\n",
              "      <th>prev_traid</th>\n",
              "      <th>prev_albid</th>\n",
              "      <th>prev_artid</th>\n",
              "      <th>prev_year</th>\n",
              "    </tr>\n",
              "  </thead>\n",
              "  <tbody>\n",
              "    <tr>\n",
              "      <th>418710</th>\n",
              "      <td>2</td>\n",
              "      <td>1998-01-23</td>\n",
              "      <td>1</td>\n",
              "      <td>0</td>\n",
              "      <td>2695</td>\n",
              "      <td>882</td>\n",
              "      <td>318</td>\n",
              "      <td>9</td>\n",
              "    </tr>\n",
              "  </tbody>\n",
              "</table>\n",
              "</div>"
            ],
            "text/plain": [
              "        category  timestamp  pid  ...  prev_albid  prev_artid  prev_year\n",
              "418710         2 1998-01-23    1  ...         882         318          9\n",
              "\n",
              "[1 rows x 8 columns]"
            ]
          },
          "metadata": {
            "tags": []
          },
          "execution_count": 38
        }
      ]
    },
    {
      "cell_type": "code",
      "metadata": {
        "id": "VgFmDURkTsee",
        "colab_type": "code",
        "outputId": "f3cac032-9b12-46eb-9843-fe9f85cbce76",
        "colab": {
          "base_uri": "https://localhost:8080/",
          "height": 264
        }
      },
      "source": [
        "with_names(get_query_seeds(test_query_df).head()[[\"pid\", \"traid\"]], names_df)"
      ],
      "execution_count": 0,
      "outputs": [
        {
          "output_type": "execute_result",
          "data": {
            "text/html": [
              "<div>\n",
              "<style scoped>\n",
              "    .dataframe tbody tr th:only-of-type {\n",
              "        vertical-align: middle;\n",
              "    }\n",
              "\n",
              "    .dataframe tbody tr th {\n",
              "        vertical-align: top;\n",
              "    }\n",
              "\n",
              "    .dataframe thead th {\n",
              "        text-align: right;\n",
              "    }\n",
              "</style>\n",
              "<table border=\"1\" class=\"dataframe\">\n",
              "  <thead>\n",
              "    <tr style=\"text-align: right;\">\n",
              "      <th></th>\n",
              "      <th>pid</th>\n",
              "      <th>traname</th>\n",
              "      <th>albname</th>\n",
              "      <th>artname</th>\n",
              "    </tr>\n",
              "  </thead>\n",
              "  <tbody>\n",
              "    <tr>\n",
              "      <th>51833</th>\n",
              "      <td>1</td>\n",
              "      <td>Somebody To Shove</td>\n",
              "      <td>Grave Dancers Union</td>\n",
              "      <td>Soul Asylum</td>\n",
              "    </tr>\n",
              "    <tr>\n",
              "      <th>147521</th>\n",
              "      <td>1</td>\n",
              "      <td>Mr. Jones</td>\n",
              "      <td>Films About Ghosts (The Best Of Counting Crows)</td>\n",
              "      <td>Counting Crows</td>\n",
              "    </tr>\n",
              "    <tr>\n",
              "      <th>237709</th>\n",
              "      <td>1</td>\n",
              "      <td>Selling The Drama</td>\n",
              "      <td>Best Of Live</td>\n",
              "      <td>Live</td>\n",
              "    </tr>\n",
              "    <tr>\n",
              "      <th>317019</th>\n",
              "      <td>1</td>\n",
              "      <td>In A Big Country</td>\n",
              "      <td>The Universal Masters Collection</td>\n",
              "      <td>Big Country</td>\n",
              "    </tr>\n",
              "    <tr>\n",
              "      <th>378513</th>\n",
              "      <td>1</td>\n",
              "      <td>Would?</td>\n",
              "      <td>Greatest Hits</td>\n",
              "      <td>Alice In Chains</td>\n",
              "    </tr>\n",
              "  </tbody>\n",
              "</table>\n",
              "</div>"
            ],
            "text/plain": [
              "        pid  ...          artname\n",
              "51833     1  ...      Soul Asylum\n",
              "147521    1  ...   Counting Crows\n",
              "237709    1  ...             Live\n",
              "317019    1  ...      Big Country\n",
              "378513    1  ...  Alice In Chains\n",
              "\n",
              "[5 rows x 4 columns]"
            ]
          },
          "metadata": {
            "tags": []
          },
          "execution_count": 39
        }
      ]
    },
    {
      "cell_type": "code",
      "metadata": {
        "id": "p1sSm_CyT_lf",
        "colab_type": "code",
        "outputId": "6447a550-1fe8-427a-b032-586dfe807997",
        "colab": {
          "base_uri": "https://localhost:8080/",
          "height": 227
        }
      },
      "source": [
        "with_names(test_df.head(6)[[\"pid\", \"traid\"]], names_df)"
      ],
      "execution_count": 0,
      "outputs": [
        {
          "output_type": "execute_result",
          "data": {
            "text/html": [
              "<div>\n",
              "<style scoped>\n",
              "    .dataframe tbody tr th:only-of-type {\n",
              "        vertical-align: middle;\n",
              "    }\n",
              "\n",
              "    .dataframe tbody tr th {\n",
              "        vertical-align: top;\n",
              "    }\n",
              "\n",
              "    .dataframe thead th {\n",
              "        text-align: right;\n",
              "    }\n",
              "</style>\n",
              "<table border=\"1\" class=\"dataframe\">\n",
              "  <thead>\n",
              "    <tr style=\"text-align: right;\">\n",
              "      <th></th>\n",
              "      <th>pid</th>\n",
              "      <th>traname</th>\n",
              "      <th>albname</th>\n",
              "      <th>artname</th>\n",
              "    </tr>\n",
              "  </thead>\n",
              "  <tbody>\n",
              "    <tr>\n",
              "      <th>418710</th>\n",
              "      <td>1</td>\n",
              "      <td>Sister</td>\n",
              "      <td>Foma</td>\n",
              "      <td>The Nixons</td>\n",
              "    </tr>\n",
              "    <tr>\n",
              "      <th>878124</th>\n",
              "      <td>1</td>\n",
              "      <td>I Feel So Good</td>\n",
              "      <td>Rumor And Sigh</td>\n",
              "      <td>Richard Thompson</td>\n",
              "    </tr>\n",
              "    <tr>\n",
              "      <th>1337538</th>\n",
              "      <td>1</td>\n",
              "      <td>Don't Change (Album Version)</td>\n",
              "      <td>Volume 2</td>\n",
              "      <td>Goo Goo Dolls</td>\n",
              "    </tr>\n",
              "    <tr>\n",
              "      <th>1796952</th>\n",
              "      <td>1</td>\n",
              "      <td>Your Love</td>\n",
              "      <td>Super Hits</td>\n",
              "      <td>The Outfield</td>\n",
              "    </tr>\n",
              "    <tr>\n",
              "      <th>2256366</th>\n",
              "      <td>1</td>\n",
              "      <td>Bi</td>\n",
              "      <td>Stain</td>\n",
              "      <td>Living Colour</td>\n",
              "    </tr>\n",
              "    <tr>\n",
              "      <th>440687</th>\n",
              "      <td>1</td>\n",
              "      <td>Even Flow</td>\n",
              "      <td>Ten (Legacy Edition)</td>\n",
              "      <td>Pearl Jam</td>\n",
              "    </tr>\n",
              "  </tbody>\n",
              "</table>\n",
              "</div>"
            ],
            "text/plain": [
              "         pid  ...           artname\n",
              "418710     1  ...        The Nixons\n",
              "878124     1  ...  Richard Thompson\n",
              "1337538    1  ...     Goo Goo Dolls\n",
              "1796952    1  ...      The Outfield\n",
              "2256366    1  ...     Living Colour\n",
              "440687     1  ...         Pearl Jam\n",
              "\n",
              "[6 rows x 4 columns]"
            ]
          },
          "metadata": {
            "tags": []
          },
          "execution_count": 40
        }
      ]
    },
    {
      "cell_type": "code",
      "metadata": {
        "id": "rMcaHtj3JWGS",
        "colab_type": "code",
        "outputId": "832d6119-9bc1-41d4-dd6a-6aea2ec16b3e",
        "colab": {
          "base_uri": "https://localhost:8080/",
          "height": 294
        }
      },
      "source": [
        "pop_rank = PopRank()\n",
        "c_pop_rank_fit_time = pop_rank.fit(train_df)\n",
        "pop_rank_df, c_pop_rank_trans_time = pop_rank.transform(\n",
        "    get_query_seeds(test_query_df), filter_user_tracks=True)\n",
        "c_pop_rank_hit_rates = hit_rates(pop_rank_df, test_df)\n",
        "c_pop_rank_ndcg = ndcg(pop_rank_df, test_df)\n",
        "\n",
        "print(\"{:.6f} hit rate\\n{:.6f} ndcg\\n\\n{:.5f}s fit time \\n{:.5f}s trans time\"\n",
        "      .format(c_pop_rank_hit_rates[0], c_pop_rank_ndcg, c_pop_rank_fit_time,\n",
        "              c_pop_rank_trans_time))\n",
        "\n",
        "with_names(pop_rank_df.head(), names_df)"
      ],
      "execution_count": 0,
      "outputs": [
        {
          "output_type": "stream",
          "text": [
            "0.000998 hit rate\n",
            "0.031671 ndcg\n",
            "\n",
            "0.18376s fit time \n",
            "3.93593s trans time\n"
          ],
          "name": "stdout"
        },
        {
          "output_type": "execute_result",
          "data": {
            "text/html": [
              "<div>\n",
              "<style scoped>\n",
              "    .dataframe tbody tr th:only-of-type {\n",
              "        vertical-align: middle;\n",
              "    }\n",
              "\n",
              "    .dataframe tbody tr th {\n",
              "        vertical-align: top;\n",
              "    }\n",
              "\n",
              "    .dataframe thead th {\n",
              "        text-align: right;\n",
              "    }\n",
              "</style>\n",
              "<table border=\"1\" class=\"dataframe\">\n",
              "  <thead>\n",
              "    <tr style=\"text-align: right;\">\n",
              "      <th></th>\n",
              "      <th>score</th>\n",
              "      <th>pid</th>\n",
              "      <th>traname</th>\n",
              "      <th>albname</th>\n",
              "      <th>artname</th>\n",
              "    </tr>\n",
              "  </thead>\n",
              "  <tbody>\n",
              "    <tr>\n",
              "      <th>0</th>\n",
              "      <td>818.0</td>\n",
              "      <td>1</td>\n",
              "      <td>Where Is My Mind?</td>\n",
              "      <td>Wave Of Mutilation: Best Of Pixies</td>\n",
              "      <td>Pixies</td>\n",
              "    </tr>\n",
              "    <tr>\n",
              "      <th>1</th>\n",
              "      <td>655.0</td>\n",
              "      <td>1</td>\n",
              "      <td>In The Aeroplane Over The Sea</td>\n",
              "      <td>In The Aeroplane Over The Sea</td>\n",
              "      <td>Neutral Milk Hotel</td>\n",
              "    </tr>\n",
              "    <tr>\n",
              "      <th>2</th>\n",
              "      <td>653.0</td>\n",
              "      <td>1</td>\n",
              "      <td>Pink Moon</td>\n",
              "      <td>Pink Moon</td>\n",
              "      <td>Nick Drake</td>\n",
              "    </tr>\n",
              "    <tr>\n",
              "      <th>3</th>\n",
              "      <td>648.0</td>\n",
              "      <td>1</td>\n",
              "      <td>Love Will Tear Us Apart</td>\n",
              "      <td>Let The Movie Begin</td>\n",
              "      <td>Joy Division</td>\n",
              "    </tr>\n",
              "    <tr>\n",
              "      <th>4</th>\n",
              "      <td>648.0</td>\n",
              "      <td>1</td>\n",
              "      <td>Such Great Heights</td>\n",
              "      <td>Grey's Anatomy Original Soundtrack</td>\n",
              "      <td>The Postal Service</td>\n",
              "    </tr>\n",
              "  </tbody>\n",
              "</table>\n",
              "</div>"
            ],
            "text/plain": [
              "   score  pid  ...                             albname             artname\n",
              "0  818.0    1  ...  Wave Of Mutilation: Best Of Pixies              Pixies\n",
              "1  655.0    1  ...       In The Aeroplane Over The Sea  Neutral Milk Hotel\n",
              "2  653.0    1  ...                           Pink Moon          Nick Drake\n",
              "3  648.0    1  ...                 Let The Movie Begin        Joy Division\n",
              "4  648.0    1  ...  Grey's Anatomy Original Soundtrack  The Postal Service\n",
              "\n",
              "[5 rows x 5 columns]"
            ]
          },
          "metadata": {
            "tags": []
          },
          "execution_count": 83
        }
      ]
    },
    {
      "cell_type": "code",
      "metadata": {
        "id": "RTCkV-0aJkLC",
        "colab_type": "code",
        "colab": {}
      },
      "source": [
        "del pop_rank"
      ],
      "execution_count": 0,
      "outputs": []
    },
    {
      "cell_type": "code",
      "metadata": {
        "id": "twaGdiOOJWkI",
        "colab_type": "code",
        "outputId": "1424e0cd-33ee-4803-f023-c0cd25824a38",
        "colab": {
          "base_uri": "https://localhost:8080/",
          "height": 294
        }
      },
      "source": [
        "sagh = SAGH()\n",
        "c_sagh_fit_time = sagh.fit(train_df)\n",
        "sagh_df, c_sagh_trans_time = sagh.transform(get_query_seeds(test_query_df),\n",
        "                                            filter_user_tracks=True)\n",
        "c_sagh_hit_rates = hit_rates(sagh_df, test_df)\n",
        "c_sagh_ndcg = ndcg(sagh_df, test_df)\n",
        "\n",
        "print(\"{:.6f} hit rate\\n{:.6f} ndcg\\n\\n{:.5f}s fit time \\n{:.5f}s trans time\"\n",
        "      .format(c_sagh_hit_rates[0], c_sagh_ndcg, c_sagh_fit_time, c_sagh_trans_time))\n",
        "\n",
        "with_names(sagh_df.head(), names_df)"
      ],
      "execution_count": 0,
      "outputs": [
        {
          "output_type": "stream",
          "text": [
            "0.005138 hit rate\n",
            "0.045524 ndcg\n",
            "\n",
            "0.28393s fit time \n",
            "4.73987s trans time\n"
          ],
          "name": "stdout"
        },
        {
          "output_type": "execute_result",
          "data": {
            "text/html": [
              "<div>\n",
              "<style scoped>\n",
              "    .dataframe tbody tr th:only-of-type {\n",
              "        vertical-align: middle;\n",
              "    }\n",
              "\n",
              "    .dataframe tbody tr th {\n",
              "        vertical-align: top;\n",
              "    }\n",
              "\n",
              "    .dataframe thead th {\n",
              "        text-align: right;\n",
              "    }\n",
              "</style>\n",
              "<table border=\"1\" class=\"dataframe\">\n",
              "  <thead>\n",
              "    <tr style=\"text-align: right;\">\n",
              "      <th></th>\n",
              "      <th>score</th>\n",
              "      <th>pid</th>\n",
              "      <th>traname</th>\n",
              "      <th>albname</th>\n",
              "      <th>artname</th>\n",
              "    </tr>\n",
              "  </thead>\n",
              "  <tbody>\n",
              "    <tr>\n",
              "      <th>78</th>\n",
              "      <td>251.0</td>\n",
              "      <td>1</td>\n",
              "      <td>A Long December</td>\n",
              "      <td>Recovering The Satellites</td>\n",
              "      <td>Counting Crows</td>\n",
              "    </tr>\n",
              "    <tr>\n",
              "      <th>74</th>\n",
              "      <td>158.0</td>\n",
              "      <td>1</td>\n",
              "      <td>Round Here</td>\n",
              "      <td>Across A Wire - Live From New York</td>\n",
              "      <td>Counting Crows</td>\n",
              "    </tr>\n",
              "    <tr>\n",
              "      <th>147</th>\n",
              "      <td>91.0</td>\n",
              "      <td>1</td>\n",
              "      <td>I Alone (Live)</td>\n",
              "      <td>Live At The Paradiso - Amsterdam</td>\n",
              "      <td>Live</td>\n",
              "    </tr>\n",
              "    <tr>\n",
              "      <th>99</th>\n",
              "      <td>91.0</td>\n",
              "      <td>1</td>\n",
              "      <td>Runaway Train</td>\n",
              "      <td>Grave Dancers Union</td>\n",
              "      <td>Soul Asylum</td>\n",
              "    </tr>\n",
              "    <tr>\n",
              "      <th>73</th>\n",
              "      <td>88.0</td>\n",
              "      <td>1</td>\n",
              "      <td>Rain King</td>\n",
              "      <td>Across A Wire - Live From New York</td>\n",
              "      <td>Counting Crows</td>\n",
              "    </tr>\n",
              "  </tbody>\n",
              "</table>\n",
              "</div>"
            ],
            "text/plain": [
              "     score  pid  ...                             albname         artname\n",
              "78   251.0    1  ...           Recovering The Satellites  Counting Crows\n",
              "74   158.0    1  ...  Across A Wire - Live From New York  Counting Crows\n",
              "147   91.0    1  ...    Live At The Paradiso - Amsterdam            Live\n",
              "99    91.0    1  ...                 Grave Dancers Union     Soul Asylum\n",
              "73    88.0    1  ...  Across A Wire - Live From New York  Counting Crows\n",
              "\n",
              "[5 rows x 5 columns]"
            ]
          },
          "metadata": {
            "tags": []
          },
          "execution_count": 85
        }
      ]
    },
    {
      "cell_type": "code",
      "metadata": {
        "id": "UjEpTiP3Jv4S",
        "colab_type": "code",
        "colab": {}
      },
      "source": [
        "del sagh\n",
        "del sagh_df"
      ],
      "execution_count": 0,
      "outputs": []
    },
    {
      "cell_type": "code",
      "metadata": {
        "id": "_Tz4B8KzJfUT",
        "colab_type": "code",
        "outputId": "56c39f62-7733-4f80-ffb5-27668f6d25d6",
        "colab": {
          "base_uri": "https://localhost:8080/",
          "height": 294
        }
      },
      "source": [
        "knn = KNN()\n",
        "c_knn300_fit_time = knn.fit(train_df)\n",
        "knn_df, c_knn300_trans_time = knn.transform(get_query_seeds(test_query_df),\n",
        "                                            filter_user_tracks=True, k=300)\n",
        "c_knn300_hit_rates = hit_rates(knn_df, test_df)\n",
        "c_knn300_ndcg = ndcg(knn_df, test_df)\n",
        "\n",
        "print(\"{:.6f} hit rate\\n{:.6f} ndcg\\n\\n{:.5f}s fit time \\n{:.5f}s trans time\"\n",
        "      .format(c_knn300_hit_rates[0], c_knn300_ndcg, c_knn300_fit_time, c_knn300_trans_time))\n",
        "\n",
        "with_names(knn_df.head(), names_df)"
      ],
      "execution_count": 0,
      "outputs": [
        {
          "output_type": "stream",
          "text": [
            "0.009806 hit rate\n",
            "0.087620 ndcg\n",
            "\n",
            "0.17171s fit time \n",
            "5.52086s trans time\n"
          ],
          "name": "stdout"
        },
        {
          "output_type": "execute_result",
          "data": {
            "text/html": [
              "<div>\n",
              "<style scoped>\n",
              "    .dataframe tbody tr th:only-of-type {\n",
              "        vertical-align: middle;\n",
              "    }\n",
              "\n",
              "    .dataframe tbody tr th {\n",
              "        vertical-align: top;\n",
              "    }\n",
              "\n",
              "    .dataframe thead th {\n",
              "        text-align: right;\n",
              "    }\n",
              "</style>\n",
              "<table border=\"1\" class=\"dataframe\">\n",
              "  <thead>\n",
              "    <tr style=\"text-align: right;\">\n",
              "      <th></th>\n",
              "      <th>score</th>\n",
              "      <th>pid</th>\n",
              "      <th>traname</th>\n",
              "      <th>albname</th>\n",
              "      <th>artname</th>\n",
              "    </tr>\n",
              "  </thead>\n",
              "  <tbody>\n",
              "    <tr>\n",
              "      <th>803</th>\n",
              "      <td>2.347904</td>\n",
              "      <td>1</td>\n",
              "      <td>Round Here</td>\n",
              "      <td>Across A Wire - Live From New York</td>\n",
              "      <td>Counting Crows</td>\n",
              "    </tr>\n",
              "    <tr>\n",
              "      <th>1777</th>\n",
              "      <td>2.247222</td>\n",
              "      <td>1</td>\n",
              "      <td>No Rain</td>\n",
              "      <td>Blind Melon</td>\n",
              "      <td>Blind Melon</td>\n",
              "    </tr>\n",
              "    <tr>\n",
              "      <th>1637</th>\n",
              "      <td>2.024947</td>\n",
              "      <td>1</td>\n",
              "      <td>A Long December</td>\n",
              "      <td>Recovering The Satellites</td>\n",
              "      <td>Counting Crows</td>\n",
              "    </tr>\n",
              "    <tr>\n",
              "      <th>802</th>\n",
              "      <td>1.582953</td>\n",
              "      <td>1</td>\n",
              "      <td>Rain King</td>\n",
              "      <td>Across A Wire - Live From New York</td>\n",
              "      <td>Counting Crows</td>\n",
              "    </tr>\n",
              "    <tr>\n",
              "      <th>1884</th>\n",
              "      <td>1.538697</td>\n",
              "      <td>1</td>\n",
              "      <td>Cannonball</td>\n",
              "      <td>Cannonball</td>\n",
              "      <td>The Breeders</td>\n",
              "    </tr>\n",
              "  </tbody>\n",
              "</table>\n",
              "</div>"
            ],
            "text/plain": [
              "         score  pid  ...                             albname         artname\n",
              "803   2.347904    1  ...  Across A Wire - Live From New York  Counting Crows\n",
              "1777  2.247222    1  ...                         Blind Melon     Blind Melon\n",
              "1637  2.024947    1  ...           Recovering The Satellites  Counting Crows\n",
              "802   1.582953    1  ...  Across A Wire - Live From New York  Counting Crows\n",
              "1884  1.538697    1  ...                          Cannonball    The Breeders\n",
              "\n",
              "[5 rows x 5 columns]"
            ]
          },
          "metadata": {
            "tags": []
          },
          "execution_count": 87
        }
      ]
    },
    {
      "cell_type": "code",
      "metadata": {
        "id": "sQ9p0Lc2JtHS",
        "colab_type": "code",
        "colab": {}
      },
      "source": [
        "del knn\n",
        "del knn_df"
      ],
      "execution_count": 0,
      "outputs": []
    },
    {
      "cell_type": "code",
      "metadata": {
        "id": "cJb-OqYvJfis",
        "colab_type": "code",
        "outputId": "61ddcdb1-97d4-481e-a97f-08f2fd82e011",
        "colab": {
          "base_uri": "https://localhost:8080/",
          "height": 111
        }
      },
      "source": [
        "cols = [\"Pop Rank\", \"SAGH\", \"kNN, k 300\"]\n",
        "rows = [[c_pop_rank_ndcg, c_sagh_ndcg, c_knn300_ndcg],\n",
        "        [c_pop_rank_hit_rates[0], c_sagh_hit_rates[0], c_knn300_hit_rates[0]]]\n",
        "index = [\"NDCG\", \"Hit rate\"]\n",
        "pd.DataFrame.from_records(rows, columns=cols, index=index)"
      ],
      "execution_count": 0,
      "outputs": [
        {
          "output_type": "execute_result",
          "data": {
            "text/html": [
              "<div>\n",
              "<style scoped>\n",
              "    .dataframe tbody tr th:only-of-type {\n",
              "        vertical-align: middle;\n",
              "    }\n",
              "\n",
              "    .dataframe tbody tr th {\n",
              "        vertical-align: top;\n",
              "    }\n",
              "\n",
              "    .dataframe thead th {\n",
              "        text-align: right;\n",
              "    }\n",
              "</style>\n",
              "<table border=\"1\" class=\"dataframe\">\n",
              "  <thead>\n",
              "    <tr style=\"text-align: right;\">\n",
              "      <th></th>\n",
              "      <th>Pop Rank</th>\n",
              "      <th>SAGH</th>\n",
              "      <th>kNN, k 300</th>\n",
              "    </tr>\n",
              "  </thead>\n",
              "  <tbody>\n",
              "    <tr>\n",
              "      <th>NDCG</th>\n",
              "      <td>0.031671</td>\n",
              "      <td>0.045524</td>\n",
              "      <td>0.087620</td>\n",
              "    </tr>\n",
              "    <tr>\n",
              "      <th>Hit rate</th>\n",
              "      <td>0.000998</td>\n",
              "      <td>0.005138</td>\n",
              "      <td>0.009806</td>\n",
              "    </tr>\n",
              "  </tbody>\n",
              "</table>\n",
              "</div>"
            ],
            "text/plain": [
              "          Pop Rank      SAGH  kNN, k 300\n",
              "NDCG      0.031671  0.045524    0.087620\n",
              "Hit rate  0.000998  0.005138    0.009806"
            ]
          },
          "metadata": {
            "tags": []
          },
          "execution_count": 89
        }
      ]
    },
    {
      "cell_type": "code",
      "metadata": {
        "id": "7v_5CsDOxlso",
        "colab_type": "code",
        "outputId": "dbbb51fd-23dc-443e-d3d0-e2d0d028b432",
        "colab": {
          "base_uri": "https://localhost:8080/",
          "height": 281
        }
      },
      "source": [
        "def plot_c_baseline_hit_rates(n=500):\n",
        "  plt.plot(c_pop_rank_hit_rates[:n], color=\"orange\")\n",
        "  plt.plot(c_sagh_hit_rates[:n], color=\"blue\")\n",
        "  plt.plot(c_knn300_hit_rates[:n], color=\"green\")\n",
        "\n",
        "  orange_patch = mpatches.Patch(color=\"orange\", label=\"Pop Rank\")\n",
        "  blue_patch = mpatches.Patch(color=\"blue\", label=\"SAGH\")\n",
        "  green_patch = mpatches.Patch(color=\"green\", label=\"kNN k 300\")\n",
        "  patches = [orange_patch, blue_patch, green_patch]\n",
        "  plt.legend(handles=patches)\n",
        "\n",
        "  plt.title(\"Hit rates of baseline algorithms\")\n",
        "  \n",
        "plot_c_baseline_hit_rates();"
      ],
      "execution_count": 0,
      "outputs": [
        {
          "output_type": "display_data",
          "data": {
            "image/png": "[encoded data removed]",
            "text/plain": [
              "<Figure size 432x288 with 1 Axes>"
            ]
          },
          "metadata": {
            "tags": []
          }
        }
      ]
    },
    {
      "cell_type": "code",
      "metadata": {
        "id": "ZzqZkRBNxuP4",
        "colab_type": "code",
        "outputId": "baf50bb8-5115-474c-8db3-0631bc1d47df",
        "colab": {
          "base_uri": "https://localhost:8080/",
          "height": 281
        }
      },
      "source": [
        "plot_c_baseline_hit_rates(n=25);"
      ],
      "execution_count": 0,
      "outputs": [
        {
          "output_type": "display_data",
          "data": {
            "image/png": "[encoded data removed]",
            "text/plain": [
              "<Figure size 432x288 with 1 Axes>"
            ]
          },
          "metadata": {
            "tags": []
          }
        }
      ]
    },
    {
      "cell_type": "markdown",
      "metadata": {
        "id": "bs1vEL1iD_-6",
        "colab_type": "text"
      },
      "source": [
        "# Factorization machines"
      ]
    },
    {
      "cell_type": "markdown",
      "metadata": {
        "id": "0THDsSHSZODC",
        "colab_type": "text"
      },
      "source": [
        "Now we want to evaluate the actual algorithms of interest - factorization machines. We will use the following variants.\n",
        "\n",
        "*  (Adjusted) Pairwise factorization machines\n",
        "*  (Adjusted pairwise) TransRec factorization machines\n",
        "*  (Adjusted pairwise) Field-aware factorization machines\n",
        "\n",
        "All variants use BPR (Bayesian Personalized Ranking) loss, AdaBatch reconditioning and the AdaGrad optimizer."
      ]
    },
    {
      "cell_type": "markdown",
      "metadata": {
        "id": "xuLXuD0HZPDQ",
        "colab_type": "text"
      },
      "source": [
        "**Regarding reproducibility - Scores of own runs might not match exactly**\n",
        "\n",
        "Seeds are used at all identified places where randomness is used (sampling of negative examples, latent factor initialization), but there still seem to be reproducibility issues because of non-deterministic TensorFlow GPU operations (possibly related to https://github.com/tensorflow/tensorflow/issues/2732) and no use of locking (which could be addressed at possible small runtime costs but was not since we have reproducibility issues anyway)."
      ]
    },
    {
      "cell_type": "markdown",
      "metadata": {
        "id": "Qmw9leAOJHZk",
        "colab_type": "text"
      },
      "source": [
        "## Implementation"
      ]
    },
    {
      "cell_type": "markdown",
      "metadata": {
        "id": "6d5LRDQ_JNdz",
        "colab_type": "text"
      },
      "source": [
        "### Features"
      ]
    },
    {
      "cell_type": "markdown",
      "metadata": {
        "id": "422I1hGKTu8S",
        "colab_type": "text"
      },
      "source": [
        "Different features can be used.\n",
        "\n",
        "For details, see the sections **3.5 Handling the playlist cold start problem** and **5.4 Feature engineering** of my master's thesis.\n",
        "\n",
        "The implementations are functions with the same signature which can be set as function parameters."
      ]
    },
    {
      "cell_type": "code",
      "metadata": {
        "id": "P9OW8wnHKBZ8",
        "colab_type": "code",
        "colab": {}
      },
      "source": [
        "def _df2col_val(df, col_name, col_vals, with_first_unknown,\n",
        "                with_unknown_ignored):\n",
        "  col = df[col_name].to_numpy()\n",
        "\n",
        "  if with_first_unknown:\n",
        "    col = np.insert(col, 0, 0)\n",
        "\n",
        "  if col_name in col_vals:\n",
        "    val = np.full(len(col), col_vals[col_name])\n",
        "  else:\n",
        "    val = np.ones(len(col))\n",
        "  \n",
        "  if with_unknown_ignored:\n",
        "    val[col == 0] = 0.0\n",
        "\n",
        "  return col, val\n",
        "\n",
        "\n",
        "def _df2csr(df, maincol, maincol_num, col_names, col_nums, col_vals,\n",
        "            with_first_unknown, with_unknown_ignored):\n",
        "\n",
        "  col_csrs = []\n",
        "  for col_name, col_num in zip(col_names, col_nums):\n",
        "    col, val = _df2col_val(df, col_name, col_vals, with_first_unknown,\n",
        "                           with_unknown_ignored)\n",
        "    col_csr = csr_matrix((val, (maincol, col)), shape=(maincol_num, col_num))\n",
        "    col_csrs.append(col_csr)\n",
        "\n",
        "  return sp.hstack(col_csrs, format=\"csr\")\n",
        "\n",
        "\n",
        "def _df2ctx_csr(df, col_names, col_nums, col_vals):\n",
        "  \"\"\"\n",
        "  Create a csr matrix of the concatenated one-hot features\n",
        "  of the col_names dataframe columns.\n",
        "\n",
        "  Unknown features (one-hot index 0) are ignored\n",
        "  as the number of context features does not influence ranking.\n",
        "\n",
        "  :param col_vals: feature weighting per column\n",
        "  :return: csr matrix of dense shape [num_interactions, num_ctx_feats]\n",
        "  \"\"\"\n",
        "  maincol_num = len(df)\n",
        "  maincol = np.arange(maincol_num, dtype=int)\n",
        "  return _df2csr(df, maincol, maincol_num, col_names, col_nums, col_vals, False,\n",
        "                 True)\n",
        "\n",
        "\n",
        "def _df2user_csr(df, usercol_name, usercol_num, col_names, col_nums, col_vals):\n",
        "  \"\"\"\n",
        "  Create a csr matrix of the per-user concatenated one-hot features\n",
        "  of the col_names dataframe columns.\n",
        "\n",
        "  Unknown features (one-hot index 0) are ignored\n",
        "  as the number of user features does not influence ranking.\n",
        "  The unknown user (row 0) has no features.\n",
        "\n",
        "  :param col_vals: feature weighting per column\n",
        "  :return: csr matrix of dense shape [num_users, num_user_feats]\n",
        "  \"\"\"\n",
        "  df = df[col_names].drop_duplicates().sort_values(usercol_name)\n",
        "  usercol, _ = _df2col_val(df, usercol_name, col_vals, True, True)\n",
        "  return _df2csr(df, usercol, usercol_num, col_names, col_nums, col_vals, True,\n",
        "                 True)\n",
        "\n",
        "\n",
        "def _df2item_csr(df, maincol_name, maincol_num, col_names, col_nums, col_vals):\n",
        "  \"\"\"\n",
        "  Create a csr matrix of the per-item concatenated one-hot features\n",
        "  of the col_names dataframe columns.\n",
        "\n",
        "  Unknown features (one-hot index 0) are set\n",
        "  as the number of item features influences ranking.\n",
        "  The unknown item (row 0) has all unknown feature.\n",
        "\n",
        "  :param col_vals: feature weighting per column\n",
        "  :return: csr matrix of dense shape [num_items, num_item_feats]\n",
        "  \"\"\"\n",
        "  df = df[col_names].drop_duplicates().sort_values(maincol_name)\n",
        "  maincol, _ = _df2col_val(df, maincol_name, col_vals, True, False)\n",
        "  return _df2csr(df, maincol, maincol_num, col_names, col_nums, col_vals, True,\n",
        "                 False)\n",
        "\n",
        "\n",
        "def _meta_df2num(meta_df, col_name):\n",
        "  return meta_df[col_name].max() + 1\n",
        "\n",
        "\n",
        "def _item2col(meta_df, col_name):\n",
        "  item2col = meta_df[[\"traid\", col_name]].drop_duplicates()\n",
        "  item2col = item2col.sort_values(\"traid\")[col_name].to_numpy()\n",
        "  item2col = np.insert(item2col, 0, 0)  # unknown column\n",
        "  return item2col\n",
        "\n",
        "\n",
        "def _df2encoded_user_csr(seeds_df, meta_df, ucol_name, ucol_num, icol_name,\n",
        "                         icol_num, col_names, col_nums, col_vals,\n",
        "                         normalize_fn):\n",
        "\n",
        "  ui_df = seeds_df[[ucol_name, icol_name]].drop_duplicates()\n",
        "  ui_df = ui_df.sort_values([ucol_name, icol_name]).reset_index(drop=True)\n",
        "\n",
        "  ucol, _ = _df2col_val(ui_df, ucol_name, col_vals, True, True)\n",
        "\n",
        "  # use weighting of user column for individual item columns\n",
        "  if ucol_name in col_vals:\n",
        "    icol_vals = {icol_name: col_vals[icol_name]}\n",
        "  else:\n",
        "    icol_vals = dict()\n",
        "  icol, val = _df2col_val(ui_df, icol_name, icol_vals, True, True)\n",
        "\n",
        "  # normalize weighting of individual item columns\n",
        "  val = val * normalize_fn(ui_df, meta_df, ucol_name, icol_name)\n",
        "  \n",
        "  col_csrs = [csr_matrix((val, (ucol, icol)), shape=(ucol_num, icol_num))]\n",
        "\n",
        "  if col_names:\n",
        "    seeds_df = seeds_df[col_names + [ucol_name]].drop_duplicates().sort_values(ucol_name)\n",
        "    ucol, _ = _df2col_val(seeds_df, ucol_name, col_vals, True, True)\n",
        "\n",
        "    for col_name, col_num in zip(col_names, col_nums):\n",
        "      col, val = _df2col_val(seeds_df, col_name, col_vals, True, True)\n",
        "      col_csr = csr_matrix((val, (ucol, col)), shape=(ucol_num, col_num))\n",
        "      col_csrs.append(col_csr)\n",
        "\n",
        "  return sp.hstack(col_csrs, format=\"csr\")"
      ],
      "execution_count": 0,
      "outputs": []
    },
    {
      "cell_type": "code",
      "metadata": {
        "id": "0tAJlxA-v9QL",
        "colab_type": "code",
        "colab": {}
      },
      "source": [
        "def df2usersitems(df, meta_df, seeds_df=None):\n",
        "  \"\"\"\n",
        "  Function for only using user and item index features.\n",
        "\n",
        "  Returns a tuple of\n",
        "   * number of users including unknown user\n",
        "   * user indices array of shape                [num_interactions]\n",
        "   * user features csr matrix of dense shape    [num_users, num_user_feats]\n",
        "   * number of items including unknown item\n",
        "   * item indices array of shape                [num_interactions]\n",
        "   * item features csr matrix of dense shape    [num_items, num_item_feats]\n",
        "   * context features csr matrix of dense shape [num_interactions, num_ctx_feats]\n",
        "   * array of artists per item indices of shape [num_items]\n",
        "   * array of albums per item indices of shape  [num_items]\n",
        "  \"\"\"\n",
        "\n",
        "  num_users = _meta_df2num(meta_df, \"pid\")\n",
        "  num_items = _meta_df2num(meta_df, \"traid\")\n",
        "\n",
        "  item2artist = _item2col(meta_df, \"artid\")\n",
        "  item2album = _item2col(meta_df, \"albid\")\n",
        "\n",
        "  user_feats = sp.identity(num_users, format=\"csr\")\n",
        "  item_feats = sp.identity(num_items, format=\"csr\")\n",
        "  \n",
        "  user_indices = df[\"pid\"].to_numpy()\n",
        "  item_indices = df[\"traid\"].to_numpy() if \"traid\" in df.columns else None\n",
        "  ctx_feats = None\n",
        "\n",
        "  return (num_users, user_indices, user_feats, num_items, item_indices,\n",
        "          item_feats, ctx_feats, item2artist, item2album)\n",
        "\n",
        "\n",
        "def df2usersitemfeats(col_vals=dict()):\n",
        "  \"\"\"\n",
        "  Function for using user index and item index, album and artist features.\n",
        "  \"\"\"\n",
        "  def _df2usersitemfeats(df, meta_df, seeds_df=None):\n",
        "    num_users = _meta_df2num(meta_df, \"pid\")\n",
        "    num_items = _meta_df2num(meta_df, \"traid\")\n",
        "    num_albums = _meta_df2num(meta_df, \"albid\") \n",
        "    num_artists = _meta_df2num(meta_df, \"artid\") \n",
        "\n",
        "    item2artist = _item2col(meta_df, \"artid\")\n",
        "    item2album = _item2col(meta_df, \"albid\")\n",
        "\n",
        "    user_feats = sp.identity(num_users, format=\"csr\")\n",
        "\n",
        "    item_cols = [\"traid\", \"albid\", \"artid\"]\n",
        "    item_col_nums = [num_items, num_albums, num_artists]\n",
        "    item_feats = _df2item_csr(meta_df, \"traid\", num_items, item_cols,\n",
        "                              item_col_nums, col_vals)\n",
        "\n",
        "    user_indices = df[\"pid\"].to_numpy()\n",
        "    item_indices = df[\"traid\"].to_numpy() if \"traid\" in df.columns else None\n",
        "    ctx_feats = None\n",
        "\n",
        "    return (num_users, user_indices, user_feats, num_items, item_indices,\n",
        "            item_feats, ctx_feats, item2artist, item2album)\n",
        "\n",
        "  return _df2usersitemfeats\n",
        "\n",
        "\n",
        "def df2all(col_vals=dict()):\n",
        "  \"\"\"\n",
        "  Function for using all features, excluding previous item context features.\n",
        "   * user features: pid, userid, category\n",
        "   * item features: traid, albid, artid, year\n",
        "  \"\"\"\n",
        "  def _df2all(df, meta_df, seeds_df=None):\n",
        "    num_users = _meta_df2num(meta_df, \"pid\")\n",
        "    num_items = _meta_df2num(meta_df, \"traid\")\n",
        "    num_true_users = _meta_df2num(meta_df, \"userid\")\n",
        "    num_categories = _meta_df2num(meta_df, \"category\")\n",
        "    num_pyears = _meta_df2num(meta_df, \"pyear\")\n",
        "    num_albums = _meta_df2num(meta_df, \"albid\") \n",
        "    num_artists = _meta_df2num(meta_df, \"artid\") \n",
        "    num_years = _meta_df2num(meta_df, \"year\")\n",
        "    \n",
        "    item2artist = _item2col(meta_df, \"artid\")\n",
        "    item2album = _item2col(meta_df, \"albid\")\n",
        "\n",
        "    user_cols = [\"pid\", \"userid\", \"category\", \"pyear\"]\n",
        "    user_col_nums = [num_users, num_true_users, num_categories, num_pyears]\n",
        "    user_feats = _df2user_csr(meta_df, \"pid\", num_users, user_cols,\n",
        "                              user_col_nums, col_vals)\n",
        "\n",
        "    item_cols = [\"traid\", \"albid\", \"artid\", \"year\"]\n",
        "    item_col_nums = [num_items, num_albums, num_artists, num_years]\n",
        "    item_feats = _df2item_csr(meta_df, \"traid\", num_items, item_cols,\n",
        "                              item_col_nums, col_vals)\n",
        "\n",
        "    user_indices = df[\"pid\"].to_numpy()\n",
        "    item_indices = df[\"traid\"].to_numpy() if \"traid\" in df.columns else None\n",
        "    ctx_feats = None\n",
        "\n",
        "    return (num_users, user_indices, user_feats, num_items, item_indices,\n",
        "            item_feats, ctx_feats, item2artist, item2album)\n",
        "  \n",
        "  return _df2all\n",
        "\n",
        "\n",
        "def df2allmusic(col_vals=dict()):\n",
        "  \"\"\"\n",
        "  Function for using all features, excluding previous item context features.\n",
        "   * user features: pid, userid, category\n",
        "   * item features: traid, albid, artid, year\n",
        "  \"\"\"\n",
        "  def _df2allmusic(df, meta_df, seeds_df=None):\n",
        "    num_users = _meta_df2num(meta_df, \"pid\")\n",
        "    num_items = _meta_df2num(meta_df, \"traid\")\n",
        "    num_true_users = _meta_df2num(meta_df, \"userid\")\n",
        "    num_categories = _meta_df2num(meta_df, \"category\")\n",
        "    num_pyears = _meta_df2num(meta_df, \"pyear\")\n",
        "    num_albums = _meta_df2num(meta_df, \"albid\") \n",
        "    num_artists = _meta_df2num(meta_df, \"artid\") \n",
        "    num_years = _meta_df2num(meta_df, \"year\")\n",
        "    num_keys = _meta_df2num(meta_df, \"key\")\n",
        "    num_loudness = _meta_df2num(meta_df, \"loudness\")\n",
        "    num_modes = _meta_df2num(meta_df, \"mode\")\n",
        "    num_tempo = _meta_df2num(meta_df, \"tempo\")\n",
        "    \n",
        "    item2artist = _item2col(meta_df, \"artid\")\n",
        "    item2album = _item2col(meta_df, \"albid\")\n",
        "\n",
        "    user_cols = [\"pid\", \"userid\", \"category\", \"pyear\",\n",
        "                 \"key\", \"loudness\", \"mode\", \"tempo\"]\n",
        "    user_col_nums = [num_users, num_true_users, num_categories, num_pyears,\n",
        "                     num_keys, num_loudness, num_modes, num_tempo]\n",
        "    user_feats = _df2user_csr(meta_df, \"pid\", num_users, user_cols,\n",
        "                              user_col_nums, col_vals)\n",
        "\n",
        "    item_cols = [\"traid\", \"albid\", \"artid\", \"year\"]\n",
        "    item_col_nums = [num_items, num_albums, num_artists, num_years]\n",
        "    item_feats = _df2item_csr(meta_df, \"traid\", num_items, item_cols,\n",
        "                              item_col_nums, col_vals)\n",
        "\n",
        "    user_indices = df[\"pid\"].to_numpy()\n",
        "    item_indices = df[\"traid\"].to_numpy() if \"traid\" in df.columns else None\n",
        "    ctx_feats = None\n",
        "\n",
        "    return (num_users, user_indices, user_feats, num_items, item_indices,\n",
        "            item_feats, ctx_feats, item2artist, item2album)\n",
        "  \n",
        "  return _df2allmusic\n",
        "\n",
        "\n",
        "def df2usersprevitems(col_vals=dict()):\n",
        "  \"\"\"\n",
        "  Function for only using user, item and previous item index features.\n",
        "  \"\"\"\n",
        "  def _df2usersprevitems(df, meta_df, seeds_df=None):\n",
        "    num_users = _meta_df2num(meta_df, \"pid\")\n",
        "    num_items = max(_meta_df2num(meta_df, \"traid\"),\n",
        "                    _meta_df2num(meta_df, \"prev_traid\"))\n",
        "\n",
        "    item2artist = _item2col(meta_df, \"artid\")\n",
        "    item2album = _item2col(meta_df, \"albid\")\n",
        "\n",
        "    user_feats = sp.identity(num_users, format=\"csr\")\n",
        "    item_feats = sp.identity(num_items, format=\"csr\")\n",
        "    \n",
        "    user_indices = df[\"pid\"].to_numpy()\n",
        "    item_indices = df[\"traid\"].to_numpy() if \"traid\" in df.columns else None\n",
        "    ctx_feats = _df2ctx_csr(df, [\"prev_traid\"], [num_items], col_vals)\n",
        "\n",
        "    return (num_users, user_indices, user_feats, num_items, item_indices,\n",
        "            item_feats, ctx_feats, item2artist, item2album)\n",
        "  \n",
        "  return _df2usersprevitems\n",
        "\n",
        "\n",
        "def df2usersprevitemfeats(col_vals=dict()):\n",
        "  \"\"\"\n",
        "  Function for using user index and item index, album and artist features,\n",
        "  as well as previous item index, album and artist features.\n",
        "  \"\"\"\n",
        "  def _df2usersprevitemfeats(df, meta_df, seeds_df=None):\n",
        "    num_users = _meta_df2num(meta_df, \"pid\")\n",
        "    num_items = max(_meta_df2num(meta_df, \"traid\"),\n",
        "                    _meta_df2num(meta_df, \"prev_traid\"))\n",
        "    num_albums = max(_meta_df2num(meta_df, \"albid\"), \n",
        "                     _meta_df2num(meta_df, \"prev_albid\"))\n",
        "    num_artists = max(_meta_df2num(meta_df, \"artid\"),\n",
        "                      _meta_df2num(meta_df, \"prev_artid\"))\n",
        "\n",
        "    item2artist = _item2col(meta_df, \"artid\")\n",
        "    item2album = _item2col(meta_df, \"albid\")\n",
        "\n",
        "    user_feats = sp.identity(num_users, format=\"csr\")\n",
        "\n",
        "    item_cols = [\"traid\", \"albid\", \"artid\"]\n",
        "    item_col_nums = [num_items, num_albums, num_artists]\n",
        "    item_feats = _df2item_csr(meta_df, \"traid\", num_items, item_cols,\n",
        "                              item_col_nums, col_vals)\n",
        "\n",
        "    user_indices = df[\"pid\"].to_numpy()\n",
        "    item_indices = df[\"traid\"].to_numpy() if \"traid\" in df.columns else None\n",
        "\n",
        "    ctx_cols = [\"prev_traid\", \"prev_albid\", \"prev_artid\"]\n",
        "    ctx_col_nums = [num_items, num_albums, num_artists]\n",
        "    ctx_feats = _df2ctx_csr(df, ctx_cols, ctx_col_nums, col_vals)\n",
        "\n",
        "    return (num_users, user_indices, user_feats, num_items, item_indices,\n",
        "            item_feats, ctx_feats, item2artist, item2album)\n",
        "  \n",
        "  return _df2usersprevitemfeats\n",
        "\n",
        "\n",
        "def df2prevall(col_vals=dict()):\n",
        "  \"\"\"\n",
        "  Function for using all features.\n",
        "   * user features: pid, userid, category\n",
        "   * item features: traid, albid, artid, year\n",
        "   * context features: prev_traid, prev_albid, prev_artid, prev_year\n",
        "  \"\"\"\n",
        "  def _df2prevall(df, meta_df, seeds_df=None):\n",
        "    num_users = _meta_df2num(meta_df, \"pid\")\n",
        "    num_true_users = _meta_df2num(meta_df, \"userid\")\n",
        "    num_categories = _meta_df2num(meta_df, \"category\")\n",
        "    num_pyears = _meta_df2num(meta_df, \"pyear\")\n",
        "    num_items = max(_meta_df2num(meta_df, \"traid\"),\n",
        "                    _meta_df2num(meta_df, \"prev_traid\"))\n",
        "    num_albums = max(_meta_df2num(meta_df, \"albid\"), \n",
        "                  _meta_df2num(meta_df, \"prev_albid\"))\n",
        "    num_artists = max(_meta_df2num(meta_df, \"artid\"),\n",
        "                   _meta_df2num(meta_df, \"prev_artid\"))\n",
        "    num_years = max(_meta_df2num(meta_df, \"year\"),\n",
        "                 _meta_df2num(meta_df, \"prev_year\"))\n",
        "    \n",
        "    item2artist = _item2col(meta_df, \"artid\")\n",
        "    item2album = _item2col(meta_df, \"albid\")\n",
        "\n",
        "    user_cols = [\"pid\", \"userid\", \"category\", \"pyear\"]\n",
        "    user_col_nums = [num_users, num_true_users, num_categories, num_pyears]\n",
        "    user_feats = _df2user_csr(meta_df, \"pid\", num_users, user_cols,\n",
        "                              user_col_nums, col_vals)\n",
        "\n",
        "    item_cols = [\"traid\", \"albid\", \"artid\", \"year\"]\n",
        "    item_col_nums = [num_items, num_albums, num_artists, num_years]\n",
        "    item_feats = _df2item_csr(meta_df, \"traid\", num_items, item_cols,\n",
        "                              item_col_nums, col_vals)\n",
        "\n",
        "    user_indices = df[\"pid\"].to_numpy()\n",
        "    item_indices = df[\"traid\"].to_numpy() if \"traid\" in df.columns else None\n",
        "\n",
        "    ctx_cols = [\"prev_traid\", \"prev_albid\", \"prev_artid\", \"prev_year\"]\n",
        "    ctx_col_nums = [num_items, num_albums, num_artists, num_years]\n",
        "    ctx_feats = _df2ctx_csr(df, ctx_cols, ctx_col_nums, col_vals)\n",
        "\n",
        "    return (num_users, user_indices, user_feats, num_items, item_indices,\n",
        "            item_feats, ctx_feats, item2artist, item2album)\n",
        "  \n",
        "  return _df2prevall\n",
        "\n",
        "\n",
        "def df2prevallmusic(col_vals=dict()):\n",
        "  \"\"\"\n",
        "  Function for using all features.\n",
        "   * user features: pid, userid, category, key, loudness, mode, tempo\n",
        "   * item features: traid, albid, artid, year\n",
        "   * context features: prev_traid, prev_albid, prev_artid, prev_year,\n",
        "                       prev_key, prev_loudness, prev_mode, prev_tempo\n",
        "  \"\"\"\n",
        "  def _df2prevallmusic(df, meta_df, seeds_df=None):\n",
        "    num_users = _meta_df2num(meta_df, \"pid\")\n",
        "    num_true_users = _meta_df2num(meta_df, \"userid\")\n",
        "    num_categories = _meta_df2num(meta_df, \"category\")\n",
        "    num_pyears = _meta_df2num(meta_df, \"pyear\")\n",
        "    num_items = max(_meta_df2num(meta_df, \"traid\"),\n",
        "                    _meta_df2num(meta_df, \"prev_traid\"))\n",
        "    num_albums = max(_meta_df2num(meta_df, \"albid\"), \n",
        "                  _meta_df2num(meta_df, \"prev_albid\"))\n",
        "    num_artists = max(_meta_df2num(meta_df, \"artid\"),\n",
        "                   _meta_df2num(meta_df, \"prev_artid\"))\n",
        "    num_years = max(_meta_df2num(meta_df, \"year\"),\n",
        "                 _meta_df2num(meta_df, \"prev_year\"))\n",
        "    num_keys = max(_meta_df2num(meta_df, \"key\"),\n",
        "                   _meta_df2num(meta_df, \"prev_key\"))\n",
        "    num_loudness = max(_meta_df2num(meta_df, \"loudness\"),\n",
        "                       _meta_df2num(meta_df, \"prev_loudness\"))\n",
        "    num_modes = max(_meta_df2num(meta_df, \"mode\"),\n",
        "                    _meta_df2num(meta_df, \"prev_mode\"))\n",
        "    num_tempo = max(_meta_df2num(meta_df, \"tempo\"),\n",
        "                    _meta_df2num(meta_df, \"prev_tempo\"))\n",
        "    \n",
        "    item2artist = _item2col(meta_df, \"artid\")\n",
        "    item2album = _item2col(meta_df, \"albid\")\n",
        "\n",
        "    user_cols = [\"pid\", \"userid\", \"category\", \"pyear\"]\n",
        "    user_col_nums = [num_users, num_true_users, num_categories, num_pyears]\n",
        "    user_feats = _df2user_csr(meta_df, \"pid\", num_users, user_cols,\n",
        "                              user_col_nums, col_vals)\n",
        "\n",
        "    item_cols = [\"traid\", \"albid\", \"artid\", \"year\",\n",
        "                 \"key\", \"loudness\", \"mode\", \"tempo\"]\n",
        "    item_col_nums = [num_items, num_albums, num_artists, num_years,\n",
        "                     num_keys, num_loudness, num_modes, num_tempo]\n",
        "    item_feats = _df2item_csr(meta_df, \"traid\", num_items, item_cols,\n",
        "                              item_col_nums, col_vals)\n",
        "\n",
        "    user_indices = df[\"pid\"].to_numpy()\n",
        "    item_indices = df[\"traid\"].to_numpy() if \"traid\" in df.columns else None\n",
        "\n",
        "    ctx_cols = [\"prev_traid\", \"prev_albid\", \"prev_artid\", \"prev_year\",\n",
        "                \"prev_key\", \"prev_loudness\", \"prev_mode\", \"prev_tempo\"]\n",
        "    ctx_col_nums = [num_items, num_albums, num_artists, num_years,\n",
        "                    num_keys, num_loudness, num_modes, num_tempo]\n",
        "    ctx_feats = _df2ctx_csr(df, ctx_cols, ctx_col_nums, col_vals)\n",
        "\n",
        "    return (num_users, user_indices, user_feats, num_items, item_indices,\n",
        "            item_feats, ctx_feats, item2artist, item2album)\n",
        "  \n",
        "  return _df2prevallmusic"
      ],
      "execution_count": 0,
      "outputs": []
    },
    {
      "cell_type": "code",
      "metadata": {
        "id": "HRtWSW91GKjL",
        "colab_type": "code",
        "colab": {}
      },
      "source": [
        "def equi_weight_normalize(ui_df, meta_df, ucol_name, icol_name):\n",
        "  def _group_equi_weights(g):\n",
        "    g[\"weight\"] = 1.0 / g.size\n",
        "    return g\n",
        "  \n",
        "  ui_df = ui_df.groupby(ucol_name).apply(_group_equi_weights)\n",
        "  val_weights = pd.Series([1.0]).append(ui_df[\"weight\"])\n",
        "  return val_weights\n",
        "\n",
        "\n",
        "def sqrt_equi_weight_normalize(ui_df, meta_df, ucol_name, icol_name):\n",
        "  def _group_sqrt_equi_weights(g):\n",
        "    g[\"weight\"] = 1.0 / sqrt(g.size)\n",
        "    return g\n",
        "  \n",
        "  ui_df = ui_df.groupby(ucol_name).apply(_group_sqrt_equi_weights)\n",
        "  val_weights = pd.Series([1.0]).append(ui_df[\"weight\"])\n",
        "  return val_weights\n",
        "\n",
        "\n",
        "def sqrt_popularity_weight_normalize(ui_df, meta_df, ucol_name, icol_name):\n",
        "  def _group_sqrt_popularity_weights(g):\n",
        "    g[\"weight\"] = (g[\"weight\"] / g[\"weight\"].sum())\n",
        "    return g\n",
        "\n",
        "  item_weights = 1.0 / meta_df.groupby(icol_name).size().apply(np.sqrt)\n",
        "  item_weights = item_weights.rename(\"weight\")\n",
        "  ui_df = ui_df.join(item_weights, on=icol_name)\n",
        "  ui_df = ui_df.groupby(ucol_name).apply(_group_sqrt_popularity_weights)\n",
        "  val_weights = pd.Series([1.0]).append(ui_df[\"weight\"])\n",
        "  return val_weights\n",
        "\n",
        "def one_weight_normalize(ui_df, meta_df, ucol_name, icol_name):\n",
        "  def _group_one_weights(g):\n",
        "    g[\"weight\"] = 1.0\n",
        "    return g\n",
        "  \n",
        "  ui_df = ui_df.groupby(ucol_name).apply(_group_one_weights)\n",
        "  val_weights = pd.Series([1.0]).append(ui_df[\"weight\"])\n",
        "  return val_weights"
      ],
      "execution_count": 0,
      "outputs": []
    },
    {
      "cell_type": "code",
      "metadata": {
        "id": "UlXHOkk5jUQ3",
        "colab_type": "code",
        "colab": {}
      },
      "source": [
        "def df2encodedusersitems(col_vals=dict(),\n",
        "                         encode_fn=sqrt_equi_weight_normalize):\n",
        "  \"\"\"\n",
        "  Function for only using item index features,\n",
        "  representing users as their items.\n",
        "  \"\"\"\n",
        "  def _df2encodedusersitems(df, meta_df, seeds_df=None):\n",
        "    num_users = _meta_df2num(meta_df, \"pid\")\n",
        "    num_items = _meta_df2num(meta_df, \"traid\")\n",
        "    \n",
        "    item2artist = _item2col(meta_df, \"artid\")\n",
        "    item2album = _item2col(meta_df, \"albid\")\n",
        "    \n",
        "    if seeds_df is not None and \"traid\" in seeds_df.columns:\n",
        "      user_feats = _df2encoded_user_csr(seeds_df, meta_df, \"pid\", num_users,\n",
        "                                        \"traid\", num_items, [], [], col_vals,\n",
        "                                        encode_fn)\n",
        "    else:\n",
        "      user_feats = None\n",
        "\n",
        "    item_feats = sp.identity(num_items, format=\"csr\")\n",
        "\n",
        "    user_indices = df[\"pid\"].to_numpy()\n",
        "    item_indices = df[\"traid\"].to_numpy() if \"traid\" in df.columns else None\n",
        "    ctx_feats = None\n",
        "    return (num_users, user_indices, user_feats, num_items, item_indices,\n",
        "            item_feats, ctx_feats, item2artist, item2album)\n",
        "\n",
        "  return _df2encodedusersitems\n",
        "\n",
        "\n",
        "def df2encodedusersall(col_vals=dict(),\n",
        "                       encode_fn=sqrt_equi_weight_normalize):\n",
        "  \"\"\"\n",
        "  Function for using all features, representing users as their items:\n",
        "   * user features: playlist items, userid, category\n",
        "   * item features: traid, albid, artid, year\n",
        "  \"\"\"\n",
        "  def _df2encodedusersall(df, meta_df, seeds_df=None):\n",
        "    num_users = _meta_df2num(meta_df, \"pid\")\n",
        "    num_items = _meta_df2num(meta_df, \"traid\")\n",
        "    num_true_users = _meta_df2num(meta_df, \"userid\")\n",
        "    num_categories = _meta_df2num(meta_df, \"category\")\n",
        "    num_pyears = _meta_df2num(meta_df, \"pyear\")\n",
        "    num_albums = _meta_df2num(meta_df, \"albid\") \n",
        "    num_artists = _meta_df2num(meta_df, \"artid\") \n",
        "    num_years = _meta_df2num(meta_df, \"year\")\n",
        "    \n",
        "    item2artist = _item2col(meta_df, \"artid\")\n",
        "    item2album = _item2col(meta_df, \"albid\")\n",
        "    \n",
        "    if seeds_df is not None and \"traid\" in seeds_df.columns:\n",
        "      user_cols = [\"userid\", \"category\", \"pyear\"]\n",
        "      user_col_nums = [num_true_users, num_categories, num_pyears]\n",
        "      user_feats = _df2encoded_user_csr(seeds_df, meta_df, \"pid\", num_users,\n",
        "                                        \"traid\", num_items, user_cols,\n",
        "                                        user_col_nums, col_vals, encode_fn)\n",
        "    else:\n",
        "      user_feats = None\n",
        "      \n",
        "    item_cols = [\"traid\", \"albid\", \"artid\", \"year\"]\n",
        "    item_col_nums = [num_items, num_albums, num_artists, num_years]\n",
        "    item_feats = _df2item_csr(meta_df, \"traid\", num_items, item_cols,\n",
        "                              item_col_nums, col_vals)\n",
        "\n",
        "    user_indices = df[\"pid\"].to_numpy()\n",
        "    item_indices = df[\"traid\"].to_numpy() if \"traid\" in df.columns else None\n",
        "    \n",
        "    ctx_feats = None\n",
        "    \n",
        "    return (num_users, user_indices, user_feats, num_items, item_indices,\n",
        "            item_feats, ctx_feats, item2artist, item2album)\n",
        "\n",
        "  return _df2encodedusersall\n",
        "\n",
        "\n",
        "def df2encodedusersprevall(col_vals=dict(),\n",
        "                           encode_fn=sqrt_equi_weight_normalize):\n",
        "  \"\"\"\n",
        "  Function for using all features including previous,\n",
        "  representing users as their items:\n",
        "   * user features: playlist items, userid, category\n",
        "   * item features: traid, albid, artid, year\n",
        "   * context features: prev_traid, prev_albid, prev_artid, prev_year\n",
        "  \"\"\"\n",
        "  def _df2encodedusersprevall(df, meta_df, seeds_df=None):\n",
        "    num_users = _meta_df2num(meta_df, \"pid\")\n",
        "    num_true_users = _meta_df2num(meta_df, \"userid\")\n",
        "    num_categories = _meta_df2num(meta_df, \"category\")\n",
        "    num_pyears = _meta_df2num(meta_df, \"pyear\")\n",
        "    num_items = max(_meta_df2num(meta_df, \"traid\"),\n",
        "                    _meta_df2num(meta_df, \"prev_traid\"))\n",
        "    num_albums = max(_meta_df2num(meta_df, \"albid\"), \n",
        "                     _meta_df2num(meta_df, \"prev_albid\"))\n",
        "    num_artists = max(_meta_df2num(meta_df, \"artid\"),\n",
        "                      _meta_df2num(meta_df, \"prev_artid\"))\n",
        "    num_years = max(_meta_df2num(meta_df, \"year\"),\n",
        "                    _meta_df2num(meta_df, \"prev_year\"))\n",
        "    \n",
        "    item2artist = _item2col(meta_df, \"artid\")\n",
        "    item2album = _item2col(meta_df, \"albid\")\n",
        "    \n",
        "    if seeds_df is not None and \"traid\" in seeds_df.columns:\n",
        "      user_cols = [\"userid\", \"category\", \"pyear\"]\n",
        "      user_col_nums = [num_true_users, num_categories, num_pyears]\n",
        "      user_feats = _df2encoded_user_csr(seeds_df, meta_df, \"pid\", num_users,\n",
        "                                        \"traid\", num_items, user_cols,\n",
        "                                        user_col_nums, col_vals, encode_fn)\n",
        "    else:\n",
        "      user_feats = None\n",
        "      \n",
        "    item_cols = [\"traid\", \"albid\", \"artid\", \"year\"]\n",
        "    item_col_nums = [num_items, num_albums, num_artists, num_years]\n",
        "    item_feats = _df2item_csr(meta_df, \"traid\", num_items, item_cols,\n",
        "                              item_col_nums, col_vals)\n",
        "\n",
        "    user_indices = df[\"pid\"].to_numpy()\n",
        "    item_indices = df[\"traid\"].to_numpy() if \"traid\" in df.columns else None\n",
        "    \n",
        "    ctx_cols = [\"prev_traid\", \"prev_albid\", \"prev_artid\", \"prev_year\"]\n",
        "    ctx_col_nums = [num_items, num_albums, num_artists, num_years]\n",
        "    ctx_feats = _df2ctx_csr(df, ctx_cols, ctx_col_nums, col_vals)\n",
        "    \n",
        "    return (num_users, user_indices, user_feats, num_items, item_indices,\n",
        "            item_feats, ctx_feats, item2artist, item2album)\n",
        "\n",
        "  return _df2encodedusersprevall"
      ],
      "execution_count": 0,
      "outputs": []
    },
    {
      "cell_type": "markdown",
      "metadata": {
        "id": "SK576G-GJKSR",
        "colab_type": "text"
      },
      "source": [
        "### Sampling"
      ]
    },
    {
      "cell_type": "markdown",
      "metadata": {
        "id": "ljngc5fs0lYh",
        "colab_type": "text"
      },
      "source": [
        "Different methods for sampling negative examples can be used.\n",
        "\n",
        "We use implementations of the different methods defined in my master's thesis in section **3.6 Sampling negative feedback**.\n",
        "\n",
        "The implementations are functions with the same signature which can be set as function parameters."
      ]
    },
    {
      "cell_type": "code",
      "metadata": {
        "id": "OiMStpsTTcnr",
        "colab_type": "code",
        "colab": {}
      },
      "source": [
        "\"\"\"\n",
        "We can't use a njit generator inside a njit generator,\n",
        "because of nested generator memory leak\n",
        "https://github.com/numba/numba/issues/3451\n",
        "https://github.com/numba/numba/issues/1807\n",
        "\"\"\"\n",
        "\n",
        "\n",
        "@nb.njit()\n",
        "def _nb_a2bs(as_, num_as, bs):\n",
        "  a2bs_mapping = [{-1, -2} for _ in range(num_as)]  # -1, -2 as dummy for type inference\n",
        "  for i in range(as_.size):\n",
        "    a2bs_mapping[as_[i]].add(bs[i])\n",
        "  return a2bs_mapping\n",
        "\n",
        "\n",
        "distribution_nb_spec = [\n",
        " (\"num_users\", nb.int64),\n",
        " (\"num_items\", nb.int64),\n",
        " (\"user_indices\", nb.int64[:]),\n",
        " (\"item_indices\", nb.int64[:]),\n",
        " (\"items\", nb.optional(nb.int64[:])),\n",
        " (\"rho\", nb.optional(nb.float64))\n",
        "]\n",
        "class DistributionNb():\n",
        "  def __init__(self, num_users, num_items, user_indices, item_indices, seed,\n",
        "               items, rho):\n",
        "    self.num_users = num_users\n",
        "    self.num_items = num_items\n",
        "    self.user_indices = user_indices\n",
        "    self.item_indices = item_indices\n",
        "    np.random.seed(seed)\n",
        "    self.items = items\n",
        "    self.rho = rho\n",
        "\n",
        "  def samples(self, size):\n",
        "    return None\n",
        "\n",
        "\n",
        "@nb.jitclass(distribution_nb_spec)\n",
        "class UniformDistributionNb(DistributionNb):\n",
        "  def samples(self, size):\n",
        "    return np.random.randint(0, self.num_items, size=size)\n",
        "\n",
        "\n",
        "@nb.jitclass(distribution_nb_spec)\n",
        "class InstanceDistributionNb(DistributionNb):\n",
        "  def samples(self, size):\n",
        "    return np.random.choice(self.item_indices, size=size)\n",
        "\n",
        "\n",
        "@nb.jitclass(distribution_nb_spec)\n",
        "class _ExpDistributionNb(DistributionNb):\n",
        "  def samples(self, size):\n",
        "    # inverse transformation sampling from truncated exponential distribution\n",
        "    rand = np.random.rand(size) * (1.0 - np.exp(-1.0 / self.rho))\n",
        "    sample_indices = -self.num_items * self.rho * np.log(1.0 - rand)\n",
        "    sample_indices = sample_indices.astype(np.int64)\n",
        "    return self.items[sample_indices]\n",
        "\n",
        "\n",
        "def exp_distribution_nb(rho=1.0):\n",
        "  def _exp_distribution_nb(num_users, num_items, user_indices, item_indices,\n",
        "                           seed, items_none, rho_none):\n",
        "    # item indices sorted by count\n",
        "    items, counts = np.unique(item_indices, return_counts=True)\n",
        "    items = np.concatenate((items[np.argsort(-counts)], [0]))  # unknown item\n",
        "    return _ExpDistributionNb(num_users, num_items, user_indices, item_indices,\n",
        "                              seed, items, rho)\n",
        "                              \n",
        "  return _exp_distribution_nb\n",
        "\n",
        "\n",
        "accepter_nb_spec = [\n",
        " (\"num_users\", nb.int64),\n",
        " (\"num_items\", nb.int64),\n",
        " (\"user_indices\", nb.int64[:]),\n",
        " (\"item_indices\", nb.int64[:]),\n",
        " (\"item2artist\", nb.int64[:]),\n",
        " (\"item2album\", nb.int64[:])\n",
        "]\n",
        "class AccepterNb():\n",
        "  def __init__(self, num_users, num_items, user_indices, item_indices,\n",
        "               item2artist, item2album):\n",
        "    self.num_users = num_users\n",
        "    self.num_items = num_items\n",
        "    self.user_indices = user_indices\n",
        "    self.item_indices = item_indices\n",
        "    self.item2artist = item2artist\n",
        "    self.item2album = item2album\n",
        "\n",
        "  def item2(self):\n",
        "    return None\n",
        "\n",
        "  def user2(self):\n",
        "    if self.item2() is not None:\n",
        "      return _nb_a2bs(self.user_indices, self.num_users,\n",
        "                      self.item2()[self.item_indices])\n",
        "    else:\n",
        "      return None\n",
        "\n",
        "\n",
        "@nb.njit(nb.optional(nb.int64[:])())\n",
        "def _nb_none_intarray():\n",
        "  return None\n",
        "\n",
        "\n",
        "@nb.jitclass(accepter_nb_spec)\n",
        "class AllAccepterNb(AccepterNb):\n",
        "  def item2(self):\n",
        "    return _nb_none_intarray()\n",
        "\n",
        "\n",
        "@nb.jitclass(accepter_nb_spec)\n",
        "class TrackAccepterNb(AccepterNb):\n",
        "  def item2(self):\n",
        "    return np.arange(0, self.num_items)\n",
        "\n",
        "\n",
        "@nb.jitclass(accepter_nb_spec)\n",
        "class ArtistAccepterNb(AccepterNb):\n",
        "  def item2(self):\n",
        "    return self.item2artist\n",
        "\n",
        "\n",
        "@nb.jitclass(accepter_nb_spec)\n",
        "class AlbumAccepterNb(AccepterNb):\n",
        "  def item2(self):\n",
        "    return self.item2album\n",
        "\n",
        "\n",
        "@nb.njit()\n",
        "def _nb_take_wrap(array, start, end):\n",
        "  if end <= len(array):\n",
        "    return array[start:end]\n",
        "  else:\n",
        "    modulo_end = end % len(array)\n",
        "    return np.concatenate((array[start:end], array[:modulo_end]))\n",
        "\n",
        "\n",
        "@nb.njit()\n",
        "def _nb_sampler(dist, accepter, epochs, batch_size, num_users, num_items,\n",
        "                user_indices, item_indices, seed):\n",
        "\n",
        "  user2accs = accepter.user2()\n",
        "  item2acc = accepter.item2()\n",
        "\n",
        "  epoch_size = len(user_indices)\n",
        "  batches_per_epoch = int(ceil(epoch_size / batch_size))\n",
        "  epoch_batches_size = batches_per_epoch * batch_size\n",
        "\n",
        "  interaction_mask = np.arange(0, epoch_size)\n",
        "\n",
        "  for e in range(epochs):\n",
        "    np.random.shuffle(interaction_mask)\n",
        "\n",
        "    neg = dist.samples(epoch_batches_size)\n",
        "    extra_neg = dist.samples(epoch_batches_size)\n",
        "    j = 0\n",
        "\n",
        "    for b in range(batches_per_epoch):\n",
        "      # batching\n",
        "      b_start = b * batch_size\n",
        "      b_end = b_start + batch_size\n",
        "      b_int_mask = _nb_take_wrap(interaction_mask, b_start, b_end)\n",
        "      b_neg = neg[b_start:b_end]\n",
        "\n",
        "      # negative sample acceptance\n",
        "      if user2accs is not None:\n",
        "        for i in range(batch_size):\n",
        "          while item2acc[b_neg[i]] in user2accs[user_indices[b_int_mask[i]]]:\n",
        "            b_neg[i] = extra_neg[j]\n",
        "            j += 1\n",
        "            if j == epoch_batches_size:\n",
        "              # continue with new samples\n",
        "              extra_neg = dist.samples(epoch_batches_size)\n",
        "              j = 0\n",
        "      \n",
        "      yield b_int_mask, b_neg\n",
        "\n",
        "\n",
        "def create_sampler(dist, accepter):\n",
        "  def _sampler(epochs, batch_size, num_users, num_items,\n",
        "               user_indices, item_indices, item2artist, item2album, seed=1):\n",
        "    \"\"\"\n",
        "    Create a generator of batches\n",
        "    of interaction indices and corresponding negative item indices\n",
        "    using the supplied distribution and accepter.\n",
        "    \"\"\"\n",
        "    _dist = dist(num_users, num_items, user_indices, item_indices, seed, None,\n",
        "                 None)\n",
        "    _accepter = accepter(num_users, num_items, user_indices, item_indices,\n",
        "                         item2artist, item2album)\n",
        "    return _nb_sampler(_dist, _accepter, epochs, batch_size,\n",
        "                       num_users, num_items, user_indices, item_indices, seed)\n",
        "\n",
        "  return _sampler\n",
        "\n",
        "\n",
        "# Uniform samplers\n",
        "uniform_sampler = create_sampler(UniformDistributionNb, AllAccepterNb)\n",
        "accepted_uniform_sampler = create_sampler(UniformDistributionNb, TrackAccepterNb)\n",
        "accepted_artist_uniform_sampler = create_sampler(UniformDistributionNb, ArtistAccepterNb)\n",
        "accepted_album_uniform_sampler = create_sampler(UniformDistributionNb, AlbumAccepterNb)\n",
        "\n",
        "# Instance samplers\n",
        "instance_sampler = create_sampler(InstanceDistributionNb, AllAccepterNb)\n",
        "accepted_instance_sampler = create_sampler(InstanceDistributionNb, TrackAccepterNb)\n",
        "accepted_artist_instance_sampler = create_sampler(InstanceDistributionNb, ArtistAccepterNb)\n",
        "accepted_album_instance_sampler = create_sampler(InstanceDistributionNb, AlbumAccepterNb)\n",
        "\n",
        "# Exp samplers\n",
        "exp_sampler = create_sampler(exp_distribution_nb(), AllAccepterNb)\n",
        "accepted_exp_sampler = create_sampler(exp_distribution_nb(), TrackAccepterNb)\n",
        "accepted_artist_exp_sampler = create_sampler(exp_distribution_nb(), ArtistAccepterNb)\n",
        "accepted_album_exp_sampler = create_sampler(exp_distribution_nb(), AlbumAccepterNb)"
      ],
      "execution_count": 0,
      "outputs": []
    },
    {
      "cell_type": "code",
      "metadata": {
        "id": "XQBm3vlkvQz-",
        "colab_type": "code",
        "colab": {}
      },
      "source": [
        "@nb.njit()\n",
        "def _nb_crossbatch_sampler(dist, accepter, epochs, batch_size,\n",
        "                           num_users, num_items, user_indices, item_indices,\n",
        "                           seed):\n",
        "\n",
        "  user2accs = accepter.user2()\n",
        "  user2accs_np = [np.unique(np.array(list(s)))[2:] for s in user2accs]  # TODO!!\n",
        "  user2accs_np_max = np.max(np.array([len(l) for l in user2accs_np]))\n",
        "  item2acc = accepter.item2()\n",
        "\n",
        "  epoch_size = len(user_indices)\n",
        "  batches_per_epoch = int(ceil(epoch_size / batch_size))\n",
        "  epoch_batches_size = batches_per_epoch * batch_size\n",
        "\n",
        "  interaction_mask = np.arange(0, epoch_size)\n",
        "\n",
        "  for e in range(epochs):\n",
        "    np.random.shuffle(interaction_mask)\n",
        "\n",
        "    neg = dist.samples(epoch_batches_size)\n",
        "    extra_neg = dist.samples(epoch_batches_size)\n",
        "    j = 0\n",
        "\n",
        "    for b in range(batches_per_epoch):\n",
        "      # batching\n",
        "      b_start = b * batch_size\n",
        "      b_end = b_start + batch_size\n",
        "      b_int_mask = _nb_take_wrap(interaction_mask, b_start, b_end)\n",
        "      b_neg = neg[b_start:b_end]\n",
        "\n",
        "      # negative sample acceptance\n",
        "      if user2accs is not None:\n",
        "        for i in range(batch_size):\n",
        "          while item2acc[b_neg[i]] in user2accs[user_indices[b_int_mask[i]]]:\n",
        "            b_neg[i] = extra_neg[j]\n",
        "            j += 1\n",
        "            if j == epoch_batches_size:\n",
        "              # continue with new samples\n",
        "              extra_neg = dist.samples(epoch_batches_size)\n",
        "              j = 0\n",
        "\n",
        "      # === non-acceptance indexing ===\n",
        "\n",
        "      # will be filled with non-acceptance indices\n",
        "      b_u_indices = np.zeros(batch_size * user2accs_np_max, dtype=nb.int64)\n",
        "      b_i_indices = np.zeros(batch_size * user2accs_np_max, dtype=nb.int64)\n",
        "\n",
        "      # sorted negative item non-acceptance indices\n",
        "      i_acc = item2acc[b_neg]\n",
        "      i_acc_mask = np.argsort(i_acc)\n",
        "      inverse_i_acc_mask = np.argsort(i_acc_mask)\n",
        "      i_acc = i_acc[i_acc_mask]\n",
        "\n",
        "      b_users = user_indices[b_int_mask]\n",
        "      k = 0\n",
        "      for bui, b_user in enumerate(b_users):\n",
        "        # sorted item non-acceptance indices for user b_user at batch index bui\n",
        "        u_acc = user2accs_np[b_user]\n",
        "        len_u_acc = len(u_acc)\n",
        "\n",
        "        # go through sorted negative (i_acc) and user (u_acc)\n",
        "        # item non-acceptance indices in parallel\n",
        "        # to find non-accepted batch interactions (bui, bii)\n",
        "        bii = 0\n",
        "        j = 0\n",
        "        while bii < batch_size and j < len_u_acc:\n",
        "          if i_acc[bii] < u_acc[j]:\n",
        "            bii += 1\n",
        "          elif i_acc[bii] > u_acc[j]:\n",
        "            j += 1\n",
        "          else:\n",
        "            b_u_indices[k] = bui\n",
        "            # fill with original batch index\n",
        "            b_i_indices[k] = inverse_i_acc_mask[bii]  \n",
        "            bii += 1\n",
        "            j += 1\n",
        "            k += 1\n",
        "\n",
        "      # ===                         ===\n",
        "\n",
        "      yield b_int_mask, b_neg, b_u_indices[:k], b_i_indices[:k]\n",
        "\n",
        "\n",
        "def create_crossbatch_sampler(dist, accepter):\n",
        "  def _sampler(epochs, batch_size, num_users, num_items,\n",
        "               user_indices, item_indices, item2artist, item2album, seed=1):\n",
        "    \"\"\"\n",
        "    Return a generator of batches of\n",
        "     * interaction indices and corresponding negative item indices\n",
        "     * indices of non-accepted batch cross interactions between those\n",
        "    \n",
        "    The non-acceptance indices correspond to a coo matrix of dense shape\n",
        "    [batch_size, batch_size] and are NOT sorted! They will have to be sorted in\n",
        "    TensorFlow using tf.sparse.reorder.\n",
        "\n",
        "    Negative items are chosen from a uniform distribution without replacement,\n",
        "    so no duplicate negative items occur in a batch.\n",
        "    \n",
        "    For accepting items the supplied accepter is used    \n",
        "    \"\"\"\n",
        "    _dist = dist(num_users, num_items, user_indices, item_indices, seed, None,\n",
        "                 None)\n",
        "    _accepter = accepter(num_users, num_items, user_indices, item_indices,\n",
        "                         item2artist, item2album)\n",
        "    return _nb_crossbatch_sampler(_dist, _accepter, epochs, batch_size,\n",
        "                                  num_users, num_items,\n",
        "                                  user_indices, item_indices, seed)\n",
        "\n",
        "  return _sampler\n",
        "\n",
        "\n",
        "# Cross-batch samplers\n",
        "accepted_crossbatch_sampler = create_crossbatch_sampler(UniformDistributionNb, TrackAccepterNb)\n",
        "accepted_artist_crossbatch_sampler = create_crossbatch_sampler(UniformDistributionNb, ArtistAccepterNb)\n",
        "accepted_album_crossbatch_sampler = create_crossbatch_sampler(UniformDistributionNb, AlbumAccepterNb)"
      ],
      "execution_count": 0,
      "outputs": []
    },
    {
      "cell_type": "markdown",
      "metadata": {
        "id": "QU52dq2WJQ_X",
        "colab_type": "text"
      },
      "source": [
        "### TensorFlow"
      ]
    },
    {
      "cell_type": "markdown",
      "metadata": {
        "id": "0wMILLNFVa1r",
        "colab_type": "text"
      },
      "source": [
        "Further, different factorization machine variants can be used.\n",
        "See sections **3.1 Integrating item features** and **3.2 Integrating sequential features** of my master's thesis for more details.\n",
        "\n",
        "They variants are implemented in TensorFlow as follows."
      ]
    },
    {
      "cell_type": "code",
      "metadata": {
        "id": "urRs2rktFpgN",
        "colab_type": "code",
        "colab": {}
      },
      "source": [
        "class FMArgs():\n",
        "  \"\"\"\n",
        "  Arguments for extended pairwise factorization machine\n",
        "  \"\"\"\n",
        "\n",
        "  def __init__(self,\n",
        "               epoch_size,\n",
        "               epochs=1000,\n",
        "               batch_size=16384,\n",
        "               num_dims=50,\n",
        "               init_mean=0.1,\n",
        "               linear_reg=0.01,\n",
        "               factors_reg=0.01,\n",
        "               lr=0.1,\n",
        "               eval_freq=10):\n",
        "      \"\"\"\n",
        "      :param epoch_size: Epoch size\n",
        "      :param epochs: Number of epochs to run\n",
        "      :param batch_size: Mini-batch size\n",
        "      :param num_dims: Model dimensionality\n",
        "      :param init_mean: Initialization mean for model weights\n",
        "      :param linear_reg: Regularization rate for linear weights\n",
        "      :param factors_reg: Regularization rate for factor weights\n",
        "      :param lr: Adagrad learning rate\n",
        "      :param incr_lr: Percentual increase of the learning over epochs\n",
        "                      (1% = 0.01) \n",
        "      :param eval_freq: Frequency at which to evaluate model\n",
        "      \"\"\"\n",
        "      self.epochs = epochs\n",
        "      self.batch_size = batch_size\n",
        "      self.batches_per_epoch = int(ceil(epoch_size / batch_size))\n",
        "      self.num_dims = num_dims\n",
        "      self.init_mean = init_mean\n",
        "      self.linear_reg = linear_reg\n",
        "      self.factors_reg = factors_reg\n",
        "      self.lr = lr\n",
        "      self.eval_freq = eval_freq\n",
        "\n",
        "\n",
        "class TfFM:\n",
        "  \"\"\"\n",
        "  Extended pairwise factorization machine\n",
        "  \"\"\"\n",
        "\n",
        "  def __init__(self, graph, train_dataset, val_dataset, args, top_n):\n",
        "    \n",
        "    self.train_dataset = train_dataset\n",
        "    self.val_dataset = val_dataset\n",
        "    self.args = args\n",
        "    self.top_n = top_n\n",
        "    \n",
        "    self.sess = tf.Session(graph=graph)\n",
        "    with self.sess.graph.as_default():\n",
        "      tf.set_random_seed(1)\n",
        "      (self.handle, self.pred_top_op, self.loss_op, self.train_op,\n",
        "       self.val_op) =  self._create_model(val_dataset, args, top_n)\n",
        "\n",
        "  def _create_vars(self, args, val_dataset):\n",
        "    feat_dim = val_dataset.output_shapes[1][1]\n",
        "\n",
        "    initializer_linear = tf.random_uniform_initializer(-args.init_mean,\n",
        "                                                       args.init_mean, seed=1)\n",
        "    initializer_factors = tf.random_uniform_initializer(-args.init_mean,\n",
        "                                                        args.init_mean, seed=2)\n",
        "    \n",
        "    var_linear = tf.Variable(initializer_linear([feat_dim, 1]), name=\"linear\")\n",
        "    var_factors = tf.Variable(initializer_factors([feat_dim, args.num_dims]),\n",
        "                              name=\"factors\")\n",
        "    \n",
        "    return var_linear, var_factors\n",
        "\n",
        "  def _create_shape(self, val_dataset):\n",
        "    feat_dim = val_dataset.output_shapes[0][1]\n",
        "\n",
        "    feat_shape = tf.TensorShape([None, feat_dim])\n",
        "    na_shape = tf.TensorShape([None, None])\n",
        "    indices_shape = tf.TensorShape(None)\n",
        "    return (feat_shape, feat_shape, feat_shape, na_shape, indices_shape)\n",
        "  \n",
        "  def safe_sparse_dense_matmul(self, batch, var):\n",
        "    \"\"\"\n",
        "    Method which can be overwritten to provide a safe version of \n",
        "    sparse_dense_matmul for cases where the number of dimensions or\n",
        "    the sparse matrix are too large (args.num_dims * nnz(batch) > 2^31).\n",
        "    \n",
        "    This may occur when recommending the top n items for each user\n",
        "    which is encoded through its items, because then \n",
        "     * the batch / sparse matrix contains a query instance for all items\n",
        "     * this query instance is large\n",
        "\n",
        "    See also https://github.com/tensorflow/tensorflow/issues/25971\n",
        "    \"\"\"\n",
        "    return tf.sparse.sparse_dense_matmul(batch, var)\n",
        "\n",
        "  def _create_pred_ops(self, vars_, batches_, args, val_dataset):\n",
        "    \n",
        "    var_linear, var_factors = vars_\n",
        "    ctx_batch, pos_batch, neg_batch = batches_\n",
        "\n",
        "    ctx_sum = self.safe_sparse_dense_matmul(ctx_batch, var_factors)\n",
        "\n",
        "    def _create_pred_op(item_batch):\n",
        "      # Linear term\n",
        "      linear = tfs.sparse_dense_matmul(item_batch, var_linear)\n",
        "\n",
        "      # Interaction term\n",
        "      i_sum = self.safe_sparse_dense_matmul(item_batch, var_factors)\n",
        "      interaction = tf.multiply(i_sum, ctx_sum)\n",
        "      interaction = tf.reduce_sum(interaction, axis=1, keepdims=True)\n",
        "\n",
        "      return linear + interaction\n",
        "\n",
        "    return _create_pred_op(pos_batch), _create_pred_op(neg_batch)\n",
        "\n",
        "  def _create_pred_top_op(self, pred_batch, idx_batch, n):\n",
        "    scores, indices = tf.math.top_k(tf.squeeze(pred_batch), k=n)\n",
        "    item_indices = tf.gather(idx_batch, indices)\n",
        "    return scores, item_indices\n",
        "\n",
        "  def _create_utility_op(self, pos_preds, neg_preds, na_batch):\n",
        "    return pos_preds - neg_preds\n",
        "\n",
        "  def _create_loss_op(self, gz, args):\n",
        "    # BPR loss op (add 1e-10 to help with numerical stability)\n",
        "    return -tf.reduce_sum(tf.log(1e-10 + tf.sigmoid(gz)))\n",
        "\n",
        "  def _create_l2_reg_grad(self, var, reg):\n",
        "    return reg * var\n",
        "\n",
        "  def _create_reg_grad(self, var, grad, args):\n",
        "    if \"linear\" in var.name:\n",
        "      return self._create_l2_reg_grad(var, args.linear_reg)\n",
        "    else:\n",
        "      return self._create_l2_reg_grad(var, args.factors_reg)\n",
        "\n",
        "  def _create_train_op(self, loss_op, vars_, batches_, args):\n",
        "    ctx_batch, pos_batch, neg_batch = batches_\n",
        "\n",
        "    global_step = tf.Variable(0, trainable=False)\n",
        "\n",
        "    # training op\n",
        "    opt = tf.contrib.opt.RegAdagradOptimizer(learning_rate=args.lr)\n",
        "    grads_and_vars = opt.compute_gradients(loss_op)\n",
        "\n",
        "    # sparse mini-batch gradients scaling op \n",
        "    def to_indicator(s):\n",
        "      return tf.SparseTensor(s.indices, tf.ones_like(s.values), s.dense_shape)\n",
        "\n",
        "    nz_batch = tfs.add(to_indicator(ctx_batch), to_indicator(pos_batch))\n",
        "    nz_batch = tfs.add(nz_batch, to_indicator(neg_batch))\n",
        "    nz_batch = tfs.reduce_sum(nz_batch, axis=0)\n",
        "    nz_lr = 1.0 / tf.expand_dims(tf.maximum(nz_batch, 1.0), 1)\n",
        "\n",
        "    grads_and_vars = [(tf.multiply(nz_lr, grad), var) for grad, var\n",
        "                      in grads_and_vars]\n",
        "\n",
        "    # frequency adaptive regularization op\n",
        "    reg_grads_and_vars = [(tf.where(tf.equal(grad, 0),\n",
        "                                    grad,\n",
        "                                    self._create_reg_grad(var, grad, args)),\n",
        "                           var) for grad, var in grads_and_vars]\n",
        "    \n",
        "    # actual training op\n",
        "    train_op = opt.apply_gradients(grads_and_vars, global_step=global_step)\n",
        "    with opt.avoid_updating_slots():\n",
        "      reg_op = opt.apply_gradients(reg_grads_and_vars)\n",
        "\n",
        "    return tf.group([train_op, reg_op])\n",
        "\n",
        "\n",
        "  def _create_val_op(self, gz):\n",
        "    auc_op = tf.cast(tf.squeeze(gz > 0), tf.float32)\n",
        "    return tf.reduce_mean(auc_op)\n",
        "\n",
        "  def _create_model(self, val_dataset, args, top_n):\n",
        "    # Model variables\n",
        "    vars_ = self._create_vars(args, val_dataset)\n",
        "\n",
        "    # Batch iterator from data sets, handle decides data set to use\n",
        "    handle = tf.placeholder(tf.string, shape=[])\n",
        "    batch_iter = tf.data.Iterator.from_string_handle(\n",
        "        handle,\n",
        "        val_dataset.output_types,\n",
        "        self._create_shape(val_dataset),\n",
        "        val_dataset.output_classes)\n",
        "    \n",
        "    batches_ = batch_iter.get_next()\n",
        "    idx_batch = batches_[-1]\n",
        "    na_batch = batches_[-2]\n",
        "    batches_ = batches_[:-2]\n",
        "    \n",
        "    # Prediction op\n",
        "    pos_preds, neg_preds = self._create_pred_ops(vars_, batches_, args,\n",
        "                                                 val_dataset)\n",
        "    \n",
        "    # Utility op\n",
        "    gz = self._create_utility_op(pos_preds, neg_preds, na_batch)\n",
        "\n",
        "    # Top n items prediction op\n",
        "    preds_top = self._create_pred_top_op(pos_preds, idx_batch, top_n)\n",
        "    \n",
        "    # Loss op\n",
        "    loss_op = self._create_loss_op(gz, args)\n",
        "    \n",
        "    # Training op\n",
        "    train_op = self._create_train_op(loss_op, vars_, batches_, args)\n",
        "    \n",
        "    # Validation op\n",
        "    val_op = self._create_val_op(gz)\n",
        "    \n",
        "    return (handle, preds_top, loss_op, train_op, val_op)\n",
        "\n",
        "  def train(self, save_epochs=[], save_epoch_paths=[]):\n",
        "    with self.sess.graph.as_default():\n",
        "      \n",
        "      # Initialization\n",
        "      self.sess.run(tf.global_variables_initializer())\n",
        "\n",
        "      train_iter = self.train_dataset.make_initializable_iterator()\n",
        "      val_iter = self.val_dataset.make_one_shot_iterator()\n",
        "\n",
        "      self.sess.run(train_iter.initializer)\n",
        "      \n",
        "      train_handle = self.sess.run(train_iter.string_handle())\n",
        "      val_handle = self.sess.run(val_iter.string_handle())\n",
        "\n",
        "      # Training scores\n",
        "      best_auc_epoch = 0\n",
        "      best_val_auc = -1\n",
        "      best_rank_epoch = 0\n",
        "      best_val_rank = self.args.batch_size\n",
        "\n",
        "      losses = []\n",
        "      val_losses = []\n",
        "      val_aucs = []\n",
        "      val_ranks = []\n",
        "\n",
        "      # Training loop\n",
        "      for epoch in range(1, self.args.epochs + 1):\n",
        "        print(\"Epoch: {}\".format(epoch))\n",
        "\n",
        "        loss = 0\n",
        "        for _ in range(self.args.batches_per_epoch):\n",
        "          loss, _ = self.sess.run([self.loss_op, self.train_op],\n",
        "                                  feed_dict={self.handle: train_handle})\n",
        "\n",
        "        losses.append(loss)\n",
        "        print(\"\\tLast batch loss = {}\".format(loss))\n",
        "\n",
        "        if epoch == 1 or epoch % self.args.eval_freq == 0:\n",
        "          val_loss, val_scores = self.sess.run([self.loss_op, self.val_op],\n",
        "                                              feed_dict={self.handle: val_handle})\n",
        "\n",
        "          if isinstance(val_scores, tuple):\n",
        "            val_auc, val_rank = val_scores\n",
        "          else:\n",
        "            val_auc = val_scores\n",
        "            val_rank = None\n",
        "\n",
        "          val_losses.append(val_loss)\n",
        "          val_aucs.append(val_auc)\n",
        "          print(\"\\tVal loss = \" + str(val_loss))\n",
        "          print(\"\\tVal AUC = \" + str(val_auc))\n",
        "          \n",
        "          if val_rank:\n",
        "            val_ranks.append(val_rank)\n",
        "            print(\"\\tVal Rank = \" + str(val_rank))\n",
        "\n",
        "          if val_auc > best_val_auc:\n",
        "            best_auc_epoch = epoch\n",
        "            best_val_auc = val_auc\n",
        "\n",
        "          print(\"\\tCurrent max AUC = {} at epoch {}\"\n",
        "                .format(str(best_val_auc), best_auc_epoch))\n",
        "\n",
        "          if val_rank:\n",
        "            if val_rank < best_val_rank:\n",
        "              best_rank_epoch = epoch\n",
        "              best_val_rank = val_rank\n",
        "\n",
        "            print(\"\\tCurrent min Rank = {} at epoch {}\"\n",
        "                  .format(str(best_val_rank), best_rank_epoch))\n",
        "\n",
        "        if epoch in save_epochs:\n",
        "          save_path = save_epoch_paths[save_epochs.index(epoch)]\n",
        "          self.save(save_path)\n",
        "          print(\"\\tSaved to = {}\".format(save_path))\n",
        "\n",
        "      # Closing iterator\n",
        "      try:\n",
        "        while True:\n",
        "          self.sess.run(self.loss_op, feed_dict={self.handle: train_handle})\n",
        "      except tf.errors.OutOfRangeError:\n",
        "        pass\n",
        "          \n",
        "      return losses, val_losses, val_aucs\n",
        "\n",
        "  def predict(self, query_dataset):\n",
        "    with self.sess.graph.as_default():\n",
        "      \n",
        "      query_iter = query_dataset.make_one_shot_iterator()\n",
        "      query_handle = self.sess.run(query_iter.string_handle())\n",
        "      \n",
        "      scores_arr = []\n",
        "      indices_arr = []\n",
        "      try:\n",
        "        while True:\n",
        "          scores, indices = self.sess.run(self.pred_top_op,\n",
        "                                          feed_dict={self.handle: query_handle})\n",
        "          scores_arr.append(scores)\n",
        "          indices_arr.append(indices)\n",
        "      except tf.errors.OutOfRangeError:\n",
        "        pass\n",
        "      \n",
        "      return np.concatenate(scores_arr), np.concatenate(indices_arr)\n",
        "\n",
        "  def save(self, save_path):\n",
        "    with self.sess.graph.as_default():\n",
        "      saver = tf.train.Saver()\n",
        "      saver.save(self.sess, save_path)\n",
        "\n",
        "  def load(self, load_path):\n",
        "    with self.sess.graph.as_default():\n",
        "      saver = tf.train.Saver()\n",
        "      saver.restore(self.sess, load_path)\n",
        "  \n",
        "  def close(self):\n",
        "    self.sess.close()"
      ],
      "execution_count": 0,
      "outputs": []
    },
    {
      "cell_type": "code",
      "metadata": {
        "id": "5w7K9776FuOF",
        "colab_type": "code",
        "colab": {}
      },
      "source": [
        "class TfBatchFM(TfFM):\n",
        "  \"\"\"\n",
        "  Extended pairwise factorization machine with cross-batch sampling\n",
        "  \"\"\"\n",
        "\n",
        "  def _create_pred_ops(self, vars_, batches_, args, val_dataset):\n",
        "    \n",
        "    var_linear, var_factors = vars_\n",
        "    ctx_batch, pos_batch, neg_batch = batches_\n",
        "\n",
        "    ctx_sum = self.safe_sparse_dense_matmul(ctx_batch, var_factors)\n",
        "\n",
        "    def _create_pred_op(item_batch, shared=False):\n",
        "      # Linear term\n",
        "      linear = tfs.sparse_dense_matmul(item_batch, var_linear)\n",
        "      if shared:\n",
        "        linear = tf.transpose(linear)\n",
        "\n",
        "      # Interaction term\n",
        "      i_sum = self.safe_sparse_dense_matmul(item_batch, var_factors)\n",
        "      if shared:\n",
        "        interaction = tf.matmul(ctx_sum, i_sum, transpose_b=True)\n",
        "      else:\n",
        "        interaction = tf.multiply(i_sum, ctx_sum)\n",
        "        interaction = tf.reduce_sum(interaction, axis=1, keepdims=True)\n",
        "\n",
        "      return linear + interaction\n",
        "\n",
        "    return _create_pred_op(pos_batch), _create_pred_op(neg_batch, shared=True)\n",
        "\n",
        "  def _create_utility_op(self, pos_preds, neg_preds, na_batch):\n",
        "    # eliminate non-accepted negatives\n",
        "    gz = pos_preds - neg_preds \n",
        "    na_gz = tfs.reorder(na_batch)  # sorted indices not guaranteed\n",
        "    na_gz = tfs.to_dense(na_gz, default_value=False)\n",
        "    na_gz = tf.cast(na_gz, tf.float32)\n",
        "    na_gz = tf.multiply(gz, na_gz)\n",
        "    return gz - na_gz\n",
        "\n",
        "  def _create_loss_op(self, gz, args):\n",
        "    # BPR loss op (add 1e-10 to help with numerical stability)\n",
        "    bprloss_op = tf.log(1e-10 + tf.sigmoid(gz))\n",
        "    bprloss_op = tf.reduce_mean(bprloss_op, axis=1)\n",
        "    bprloss_op = tf.reduce_sum(bprloss_op)\n",
        "    return -bprloss_op\n",
        "\n",
        "  def _create_val_op(self, gz):\n",
        "    # AUC op\n",
        "    auc_gz = tf.expand_dims(tf.linalg.diag_part(gz), 1)\n",
        "    auc_op = super(TfBatchFM, self)._create_val_op(auc_gz)\n",
        "    \n",
        "    # Rank op\n",
        "    rank_op = tf.cast(gz < 0, tf.float32)\n",
        "    rank_op = tf.reduce_sum(rank_op, axis=1)\n",
        "    rank_op = tf.reduce_mean(rank_op)\n",
        "\n",
        "    return (auc_op, rank_op)"
      ],
      "execution_count": 0,
      "outputs": []
    },
    {
      "cell_type": "code",
      "metadata": {
        "id": "IgfPu5FJgeUU",
        "colab_type": "code",
        "colab": {}
      },
      "source": [
        "class TfVanillaFM(TfFM):\n",
        "  \"\"\"\n",
        "  Vanilla factorization machine\n",
        "  \"\"\"\n",
        "\n",
        "  def _create_vars(self, args, val_dataset):\n",
        "    feat_dim = val_dataset.output_shapes[0][1]\n",
        "    item_feat_dim = val_dataset.output_shapes[1][1]\n",
        "    cat_feat_dim = feat_dim + item_feat_dim\n",
        "\n",
        "    initializer_linear = tf.random_uniform_initializer(-args.init_mean,\n",
        "                                                       args.init_mean, seed=1)\n",
        "    initializer_factors = tf.random_uniform_initializer(-args.init_mean,\n",
        "                                                        args.init_mean, seed=2)\n",
        "    \n",
        "    var_linear = tf.Variable(initializer_linear([cat_feat_dim, 1]),\n",
        "                             name=\"linear\")\n",
        "    var_factors = tf.Variable(initializer_factors([cat_feat_dim, args.num_dims]),\n",
        "                              name=\"factors\")\n",
        "    \n",
        "    return var_linear, var_factors\n",
        "\n",
        "  def _create_shape(self, val_dataset):\n",
        "    feat_dim = val_dataset.output_shapes[1][1]\n",
        "    item_feat_dim = val_dataset.output_shapes[2][1]\n",
        "\n",
        "    feat_shape = tf.TensorShape([None, feat_dim])\n",
        "    item_feat_shape = tf.TensorShape([None, item_feat_dim])\n",
        "    na_shape = tf.TensorShape([None, None])\n",
        "    indices_shape = tf.TensorShape(None)\n",
        "    return (feat_shape, item_feat_shape, item_feat_shape, na_shape, indices_shape)\n",
        "\n",
        "  def _create_pred_ops(self, vars_, batches_, args, val_dataset):\n",
        "    \n",
        "    ctx_batch, pos_batch, neg_batch = batches_\n",
        "    var_linear, var_factors = vars_\n",
        "\n",
        "    sq_factors = tf.square(var_factors)\n",
        "\n",
        "    def _create_pred_op(item_batch):\n",
        "      batch = tfs.concat(1, [ctx_batch, item_batch])\n",
        "\n",
        "      # Linear term\n",
        "      linear = tfs.sparse_dense_matmul(batch, var_linear)\n",
        "\n",
        "      # Interaction term\n",
        "      term_1 = tfs.sparse_dense_matmul(batch, var_factors)\n",
        "      term_1 = tf.reduce_sum(tf.square(term_1), axis=1, keepdims=True)\n",
        "      term_2 = tfs.sparse_dense_matmul(tf.square(batch), sq_factors)\n",
        "      term_2 = tf.reduce_sum(term_2, axis=1, keepdims=True)\n",
        "      interaction = 0.5 * (term_1 - term_2)\n",
        "\n",
        "      return linear + interaction\n",
        "\n",
        "    return _create_pred_op(pos_batch), _create_pred_op(neg_batch)\n",
        "  \n",
        "  def _create_train_op(self, loss_op, vars_, batches_, args):\n",
        "    ctx_batch, pos_batch, neg_batch = batches_\n",
        "\n",
        "    global_step = tf.Variable(0, trainable=False)\n",
        "\n",
        "    # training op\n",
        "    opt = tf.contrib.opt.RegAdagradOptimizer(learning_rate=args.lr)\n",
        "    grads_and_vars = opt.compute_gradients(loss_op)\n",
        "\n",
        "    # sparse mini-batch gradients scaling op \n",
        "    def to_indicator(s):\n",
        "      return tf.SparseTensor(s.indices, tf.ones_like(s.values), s.dense_shape)\n",
        "\n",
        "    nz_batch = tfs.add(to_indicator(pos_batch), to_indicator(neg_batch))\n",
        "    nz_batch = to_indicator(tfs.concat(1, [ctx_batch, nz_batch]))\n",
        "    nz_batch = tfs.reduce_sum(nz_batch, axis=0)\n",
        "    nz_lr = 1.0 / tf.expand_dims(tf.maximum(nz_batch, 1.0), 1)\n",
        "\n",
        "    grads_and_vars = [(tf.multiply(nz_lr, grad), var) for grad, var\n",
        "                      in grads_and_vars]\n",
        "\n",
        "    # frequency adaptive regularization op\n",
        "    reg_grads_and_vars = [(tf.where(tf.equal(grad, 0),\n",
        "                                    grad,\n",
        "                                    self._create_reg_grad(var, grad, args)),\n",
        "                           var) for grad, var in grads_and_vars]\n",
        "    \n",
        "    # actual training op\n",
        "    train_op = opt.apply_gradients(grads_and_vars, global_step=global_step)\n",
        "    with opt.avoid_updating_slots():\n",
        "      reg_op = opt.apply_gradients(reg_grads_and_vars)\n",
        "\n",
        "    return tf.group([train_op, reg_op])"
      ],
      "execution_count": 0,
      "outputs": []
    },
    {
      "cell_type": "code",
      "metadata": {
        "id": "VAvyqxqJiuTf",
        "colab_type": "code",
        "colab": {}
      },
      "source": [
        "class TransRecFMArgs(FMArgs):\n",
        "  \"\"\"\n",
        "  Arguments for TransRec factorization machines\n",
        "  \"\"\"\n",
        "  \n",
        "  def __init__(self, epoch_size, max_norm=1.0, **kwargs):\n",
        "    \"\"\"\n",
        "    :param epoch_size: Epoch size\n",
        "    :param max_norm: Maximum norm over the model dimensionality,\n",
        "                     None or zero means no norm clipping\n",
        "    \"\"\"\n",
        "    super(TransRecFMArgs, self).__init__(epoch_size, **kwargs)\n",
        "    self.max_norm = max_norm\n",
        "\n",
        "\n",
        "class TfTransRecFM(TfFM):\n",
        "  \"\"\"\n",
        "  TransRec factorization machine\n",
        "  \"\"\"\n",
        "\n",
        "  def _create_shape(self, val_dataset):\n",
        "    feat_dim = val_dataset.output_shapes[0][1]\n",
        "    item_feat_dim = val_dataset.output_shapes[1][1]\n",
        "\n",
        "    feat_shape = tf.TensorShape([None, feat_dim])\n",
        "    item_feat_shape = tf.TensorShape([None, item_feat_dim])\n",
        "    na_shape = tf.TensorShape([None, None])\n",
        "    indices_shape = tf.TensorShape(None)\n",
        "    return (feat_shape, item_feat_shape, item_feat_shape, item_feat_shape, \n",
        "            na_shape, indices_shape)\n",
        "\n",
        "  def _create_vars(self, args, val_dataset):\n",
        "    ctx_feat_dim = val_dataset.output_shapes[0][1]\n",
        "    item_feat_dim = val_dataset.output_shapes[1][1]\n",
        "\n",
        "    initializer_linear = tf.random_uniform_initializer(-args.init_mean,\n",
        "                                                       args.init_mean, seed=1)\n",
        "    initializer_ctx_factors = tf.random_uniform_initializer(-args.init_mean,\n",
        "                                                            args.init_mean,\n",
        "                                                            seed=2)\n",
        "    initializer_item_factors = tf.random_uniform_initializer(-args.init_mean,\n",
        "                                                             args.init_mean,\n",
        "                                                             seed=3)\n",
        "    \n",
        "    var_linear = tf.Variable(\n",
        "        initializer_linear([item_feat_dim, 1]), name=\"linear\")\n",
        "    \n",
        "    var_ctx_shape = [ctx_feat_dim, args.num_dims]\n",
        "    var_ctx_factors = tf.Variable(\n",
        "        initializer_ctx_factors(var_ctx_shape), name=\"ctx_factors\")\n",
        "    \n",
        "    var_item_shape = [item_feat_dim, args.num_dims]\n",
        "    var_item_factors = tf.Variable(\n",
        "        initializer_item_factors(var_item_shape), name=\"item_factors\")\n",
        "    \n",
        "    return var_linear, var_ctx_factors, var_item_factors\n",
        "\n",
        "  def _create_pred_ops(self, vars_, batches_, args, val_dataset):\n",
        "\n",
        "    ctx_batch, prev_batch, pos_batch, neg_batch = batches_\n",
        "    var_linear, var_ctx_factors, var_item_factors = vars_\n",
        "\n",
        "    # Common context terms\n",
        "    c_factors_sum = self.safe_sparse_dense_matmul(\n",
        "        ctx_batch, var_ctx_factors) + self.safe_sparse_dense_matmul(\n",
        "            prev_batch, var_item_factors)\n",
        "\n",
        "    def _create_pred_op(item_batch):\n",
        "      # Linear term\n",
        "      linear = tfs.sparse_dense_matmul(item_batch, var_linear)\n",
        "\n",
        "      # Item terms\n",
        "      i_factors_sum = self.safe_sparse_dense_matmul(\n",
        "          item_batch, var_item_factors)\n",
        "\n",
        "      # Actual interaction terms\n",
        "      term_1 = tf.square(c_factors_sum)\n",
        "      term_2 = tf.multiply(c_factors_sum, i_factors_sum)\n",
        "      term_3 = tf.square(i_factors_sum)\n",
        "\n",
        "      interaction = term_1 - 2 * term_2 + term_3\n",
        "      interaction = tf.reduce_sum(interaction, axis=1, keepdims=True)\n",
        "\n",
        "      return linear - interaction\n",
        "    \n",
        "    return _create_pred_op(pos_batch), _create_pred_op(neg_batch)\n",
        "\n",
        "  def _create_reg_grad(self, var, grad, args):\n",
        "    if \"linear\" in var.name:\n",
        "      return self._create_l2_reg_grad(var, args.linear_reg)\n",
        "    else:\n",
        "      return self._create_l2_reg_grad(var, args.factors_reg)\n",
        "\n",
        "  def _create_train_op(self, loss_op, vars_, batches_, args):\n",
        "    \n",
        "    ctx_batch, prev_batch, pos_batch, neg_batch = batches_\n",
        "    var_linear, var_ctx_factors, var_item_factors = vars_\n",
        "    \n",
        "    global_step = tf.Variable(0, trainable=False)\n",
        "\n",
        "    # training op\n",
        "    opt = tf.contrib.opt.RegAdagradOptimizer(learning_rate=args.lr)\n",
        "    if args.max_norm:\n",
        "      clip_opt = tf.contrib.opt.VariableClippingOptimizer(\n",
        "          opt=opt,\n",
        "          vars_to_clip_dims={var_item_factors: [1]},\n",
        "          max_norm=args.max_norm)\n",
        "    else:\n",
        "      clip_opt = opt\n",
        "    grads_and_vars = opt.compute_gradients(loss_op)\n",
        "\n",
        "    # sparse mini-batch gradients scaling op \n",
        "    def to_indicator(s):\n",
        "      return tf.SparseTensor(s.indices, tf.ones_like(s.values), s.dense_shape)\n",
        "\n",
        "    nz_batch = to_indicator(ctx_batch)\n",
        "    nz_batch = tfs.reduce_sum(nz_batch, axis=0)\n",
        "    nz_lr = 1.0 / tf.expand_dims(tf.maximum(nz_batch, 1.0), 1)\n",
        "    grad, var = grads_and_vars[1]\n",
        "    grads_and_vars[1] = (tf.multiply(nz_lr, grad), var)\n",
        "\n",
        "    nz_batch = tfs.add(to_indicator(prev_batch), to_indicator(pos_batch))\n",
        "    nz_batch = tfs.add(nz_batch, to_indicator(neg_batch))\n",
        "    nz_batch = tfs.reduce_sum(nz_batch, axis=0)\n",
        "    nz_lr = 1.0 / tf.expand_dims(tf.maximum(nz_batch, 1.0), 1)\n",
        "    grad, var = grads_and_vars[0]\n",
        "    grads_and_vars[0] = (tf.multiply(nz_lr, grad), var)\n",
        "    grad, var = grads_and_vars[2]\n",
        "    grads_and_vars[2] = (tf.multiply(nz_lr, grad), var)\n",
        "\n",
        "    # actual training op\n",
        "    train_op = opt.apply_gradients(grads_and_vars, global_step=global_step)\n",
        "\n",
        "    with self.sess.graph.control_dependencies([train_op]):\n",
        "      # frequency adaptive regularization op\n",
        "      reg_grads_and_vars = [(tf.where(tf.equal(grad, 0),\n",
        "                                      grad,\n",
        "                                      self._create_reg_grad(var, grad, args)),\n",
        "                            var) for grad, var in grads_and_vars]\n",
        "      with opt.avoid_updating_slots():\n",
        "        reg_op = clip_opt.apply_gradients(reg_grads_and_vars)\n",
        "\n",
        "    return tf.group([train_op, reg_op])"
      ],
      "execution_count": 0,
      "outputs": []
    },
    {
      "cell_type": "code",
      "metadata": {
        "id": "FRGPrpsRi8qT",
        "colab_type": "code",
        "colab": {}
      },
      "source": [
        "class TfBatchTransRecFM(TfTransRecFM, TfBatchFM):\n",
        "  \"\"\"\n",
        "  TransRec factorization machine with cross-batch sampling\n",
        "  \"\"\"\n",
        "\n",
        "  def _create_pred_ops(self, vars_, batches_, args, val_dataset):\n",
        "\n",
        "    ctx_batch, prev_batch, pos_batch, neg_batch = batches_\n",
        "    var_linear, var_ctx_factors, var_item_factors = vars_\n",
        "\n",
        "    # Common context terms\n",
        "    c_factors_sum = self.safe_sparse_dense_matmul(\n",
        "        ctx_batch, var_ctx_factors) + self.safe_sparse_dense_matmul(\n",
        "            prev_batch, var_item_factors)\n",
        "\n",
        "    def _create_pred_op(item_batch, shared=False):\n",
        "      # Linear term\n",
        "      linear = tfs.sparse_dense_matmul(item_batch, var_linear)\n",
        "      if shared:\n",
        "        linear = tf.transpose(linear)\n",
        "\n",
        "      # Item terms\n",
        "      i_factors_sum = self.safe_sparse_dense_matmul(\n",
        "          item_batch, var_item_factors)\n",
        "\n",
        "      # Actual interaction terms\n",
        "      if shared:\n",
        "        term_1 = tf.reduce_sum(tf.square(c_factors_sum), axis=1, keepdims=True)\n",
        "        term_2 = tf.matmul(c_factors_sum, i_factors_sum, transpose_b=True)\n",
        "        term_3 = tf.reduce_sum(tf.square(i_factors_sum), axis=1, keepdims=True)\n",
        "        term_3 = tf.transpose(term_3)\n",
        "      else:\n",
        "        term_1 = tf.square(c_factors_sum)\n",
        "        term_2 = tf.multiply(c_factors_sum, i_factors_sum)\n",
        "        term_3 = tf.square(i_factors_sum)\n",
        "\n",
        "      interaction = term_1 - 2 * term_2 + term_3\n",
        "      if not shared:\n",
        "        interaction = tf.reduce_sum(interaction, axis=1, keepdims=True)\n",
        "\n",
        "      return linear - interaction\n",
        "    \n",
        "    return _create_pred_op(pos_batch), _create_pred_op(neg_batch, shared=True)"
      ],
      "execution_count": 0,
      "outputs": []
    },
    {
      "cell_type": "code",
      "metadata": {
        "id": "Xw8putsUjAEL",
        "colab_type": "code",
        "colab": {}
      },
      "source": [
        "class FFMArgs(FMArgs):\n",
        "  \"\"\"\n",
        "  Arguments for extended pairwise field-aware factorization machines\n",
        "  \"\"\"\n",
        "  \n",
        "  def __init__(self, epoch_size, num_ctx_fields, num_item_fields, **kwargs):\n",
        "    \"\"\"\n",
        "    :param epoch_size: Epoch size\n",
        "    :param num_ctx_fields: Number of user/context fields\n",
        "    :param num_item_fields: Number of item fields\n",
        "    \"\"\"\n",
        "    super(FFMArgs, self).__init__(epoch_size, **kwargs)\n",
        "    self.num_ctx_fields = num_ctx_fields\n",
        "    self.num_item_fields = num_item_fields\n",
        "  \n",
        "\n",
        "class TfFFM(TfFM):\n",
        "  \"\"\"\n",
        "  Extended pairwise field-aware factorization machine\n",
        "\n",
        "\n",
        "  To illustrate the vectorized implementation, consider the example with\n",
        "   * user features pid and userid\n",
        "   * item features traid, albid and artid\n",
        "\n",
        "  user / context features have shape [user_features, num_item_fields, num_dims]\n",
        "  item features have shape [item_features, num_user_fields, num_dims]\n",
        "\n",
        "  Looking up of relevant user / context and item features results in:\n",
        "\n",
        "  user features of shape [num_user_fields, num_item_fields, num_dims]\n",
        "  [userid-traid, userid-albid, userid-artid]\n",
        "  [pid-traid, pid-albid, pid-artid]\n",
        "\n",
        "  item features of shape [num_item_fields, num_user_fields, num_dims]\n",
        "  [traid-userid, traid-pid]\n",
        "  [albid-userid, albid-pid]\n",
        "  [artid-userid, artid-pid]\n",
        "\n",
        "  Now transpose item features and multiply element-wise with user features:\n",
        "\n",
        "  [userid-traid, pid-traid]     [traid-userid, traid-pid]\n",
        "  [userid-albid, pid-albid]     [albid-userid, albid-pid]\n",
        "  [userid-artid, pid-artid]     [artid-userid, artid-pid]\n",
        "\n",
        "  Sum up\n",
        "  \"\"\"\n",
        "\n",
        "  def _create_shape(self, val_dataset):\n",
        "    feat_dim = val_dataset.output_shapes[0][1]\n",
        "    item_feat_dim = val_dataset.output_shapes[1][1]\n",
        "\n",
        "    feat_shape = tf.TensorShape([None, feat_dim])\n",
        "    item_feat_shape = tf.TensorShape([None, item_feat_dim])\n",
        "    na_shape = tf.TensorShape([None, None])\n",
        "    indices_shape = tf.TensorShape(None)\n",
        "    return (feat_shape, item_feat_shape, item_feat_shape, na_shape, indices_shape)\n",
        "\n",
        "  def _create_vars(self, args, val_dataset):\n",
        "    ctx_feat_dim = val_dataset.output_shapes[0][1]\n",
        "    item_feat_dim = val_dataset.output_shapes[1][1]\n",
        "\n",
        "    initializer_linear = tf.random_uniform_initializer(-args.init_mean,\n",
        "                                                       args.init_mean, seed=1)\n",
        "    initializer_ctx_factors = tf.random_uniform_initializer(-args.init_mean,\n",
        "                                                            args.init_mean,\n",
        "                                                            seed=2)\n",
        "    initializer_item_factors = tf.random_uniform_initializer(-args.init_mean,\n",
        "                                                             args.init_mean,\n",
        "                                                             seed=3)\n",
        "    \n",
        "    var_linear = tf.Variable(\n",
        "        initializer_linear([item_feat_dim, 1]), name=\"linear\")\n",
        "    \n",
        "    var_ctx_shape = [ctx_feat_dim, args.num_item_fields, args.num_dims]\n",
        "    var_ctx_factors = tf.Variable(\n",
        "        initializer_ctx_factors(var_ctx_shape), name=\"ctx_factors\")\n",
        "    \n",
        "    var_item_shape = [item_feat_dim, args.num_ctx_fields, args.num_dims]\n",
        "    var_item_factors = tf.Variable(\n",
        "        initializer_item_factors(var_item_shape), name=\"item_factors\")\n",
        "    \n",
        "    return var_linear, var_ctx_factors, var_item_factors\n",
        "\n",
        "  def _create_pred_ops(self, vars_, batches_, args, val_dataset):\n",
        "\n",
        "    var_linear, var_ctx_factors, var_item_factors = vars_\n",
        "    ctx_batch, pos_batch, neg_batch = batches_\n",
        "\n",
        "    def _create_lookup_op(batch, factors, num_fields):\n",
        "      batch_feats = tf.slice(batch.indices, [0, 1], [-1, 1])\n",
        "      batch_feats = tf.reshape(batch_feats, [-1, num_fields])\n",
        "      batch_vals = tf.reshape(batch.values, [-1, num_fields])\n",
        "      batch_vals = tf.expand_dims(tf.expand_dims(batch_vals, axis=2), axis=3)\n",
        "      emb = tf.nn.embedding_lookup(factors, batch_feats)\n",
        "      emb = tf.multiply(emb, batch_vals)\n",
        "      return emb\n",
        "\n",
        "    ctx_emb = _create_lookup_op(ctx_batch, var_ctx_factors, args.num_ctx_fields)\n",
        "\n",
        "    def _create_pred_op(item_batch):\n",
        "      # Linear term\n",
        "      linear = tf.sparse_tensor_dense_matmul(item_batch, var_linear)\n",
        "\n",
        "      # Interaction term\n",
        "      item_emb = _create_lookup_op(item_batch, var_item_factors,\n",
        "                                   args.num_item_fields)\n",
        "      interaction = tf.multiply(ctx_emb, tf.transpose(item_emb, [0, 2, 1, 3]))\n",
        "      interaction = tf.reduce_sum(interaction, axis=[1, 2, 3])\n",
        "      interaction = tf.expand_dims(interaction, axis=1)\n",
        "\n",
        "      return linear + interaction\n",
        "    \n",
        "    return _create_pred_op(pos_batch), _create_pred_op(neg_batch)\n",
        "\n",
        "  def _create_train_op(self, loss_op, vars_, batches_, args):\n",
        "    ctx_batch, pos_batch, neg_batch = batches_\n",
        "\n",
        "    global_step = tf.Variable(0, trainable=False)\n",
        "\n",
        "    # training op\n",
        "    opt = tf.contrib.opt.RegAdagradOptimizer(learning_rate=args.lr)\n",
        "    grads_and_vars = opt.compute_gradients(loss_op)\n",
        "\n",
        "    # sparse mini-batch gradients scaling op \n",
        "    def to_indicator(s):\n",
        "      return tf.SparseTensor(s.indices, tf.ones_like(s.values), s.dense_shape)\n",
        "\n",
        "    nz_batch = to_indicator(ctx_batch)\n",
        "    nz_batch = tfs.reduce_sum(nz_batch, axis=0)\n",
        "    nz_lr = 1.0 / tf.expand_dims(tf.maximum(nz_batch, 1.0), 1)\n",
        "    nz_lr = tf.expand_dims(nz_lr, 1)\n",
        "    grad, var = grads_and_vars[1]\n",
        "    grads_and_vars[1] = (tf.multiply(nz_lr, grad), var)\n",
        "\n",
        "    nz_batch = tfs.add(to_indicator(pos_batch), to_indicator(neg_batch))\n",
        "    nz_batch = tfs.reduce_sum(nz_batch, axis=0)\n",
        "    nz_lr = 1.0 / tf.expand_dims(tf.maximum(nz_batch, 1.0), 1)\n",
        "    grad, var = grads_and_vars[0]\n",
        "    grads_and_vars[0] = (tf.multiply(nz_lr, grad), var)\n",
        "    nz_lr = tf.expand_dims(nz_lr, 1)\n",
        "    grad, var = grads_and_vars[2]\n",
        "    grads_and_vars[2] = (tf.multiply(nz_lr, grad), var)\n",
        "\n",
        "    # frequency adaptive regularization op\n",
        "    reg_grads_and_vars = [(tf.where(tf.equal(grad, 0),\n",
        "                                    grad,\n",
        "                                    self._create_reg_grad(var, grad, args)),\n",
        "                           var) for grad, var in grads_and_vars]\n",
        "    \n",
        "    # actual training op\n",
        "    train_op = opt.apply_gradients(grads_and_vars, global_step=global_step)\n",
        "    with opt.avoid_updating_slots():\n",
        "      reg_op = opt.apply_gradients(reg_grads_and_vars)\n",
        "\n",
        "    return tf.group([train_op, reg_op])"
      ],
      "execution_count": 0,
      "outputs": []
    },
    {
      "cell_type": "code",
      "metadata": {
        "id": "EWLu7xQ3i1C3",
        "colab_type": "code",
        "colab": {}
      },
      "source": [
        "class TfBatchFFM(TfFFM, TfBatchFM):\n",
        "\n",
        "  def _create_pred_ops(self, vars_, batches_, args, val_dataset):\n",
        "\n",
        "    var_linear, var_ctx_factors, var_item_factors = vars_\n",
        "    ctx_batch, pos_batch, neg_batch = batches_\n",
        "\n",
        "    num_fields_multiplied = args.num_ctx_fields * args.num_item_fields\n",
        "\n",
        "    def _create_lookup_op(batch, factors, num_fields, transpose=False):\n",
        "      batch_feats = tf.slice(batch.indices, [0, 1], [-1, 1])\n",
        "      batch_feats = tf.reshape(batch_feats, [-1, num_fields])\n",
        "      batch_vals = tf.reshape(batch.values, [-1, num_fields])\n",
        "      batch_vals = tf.expand_dims(tf.expand_dims(batch_vals, axis=2), axis=3)\n",
        "      emb = tf.nn.embedding_lookup(factors, batch_feats)\n",
        "      emb = tf.multiply(emb, batch_vals)\n",
        "\n",
        "      if transpose:\n",
        "        emb = tf.transpose(emb, [0, 2, 1, 3])\n",
        "      emb = tf.reshape(emb, [-1, num_fields_multiplied * args.num_dims])\n",
        "\n",
        "      return emb\n",
        "\n",
        "    ctx_emb = _create_lookup_op(ctx_batch, var_ctx_factors, args.num_ctx_fields)\n",
        "\n",
        "    def _create_pred_op(item_batch, shared=False):\n",
        "      # Linear term\n",
        "      linear = tfs.sparse_dense_matmul(item_batch, var_linear)\n",
        "      if shared:\n",
        "        linear = tf.transpose(linear)\n",
        "\n",
        "      # Interaction term\n",
        "      item_emb = _create_lookup_op(item_batch, var_item_factors,\n",
        "                                   args.num_item_fields, transpose=True)\n",
        "      if shared:\n",
        "        interaction = tf.matmul(ctx_emb, item_emb, transpose_b=True)\n",
        "      else:\n",
        "        interaction = tf.multiply(item_emb, ctx_emb)\n",
        "        interaction = tf.reduce_sum(interaction, axis=1, keepdims=True)\n",
        "\n",
        "      return linear + interaction\n",
        "\n",
        "    return _create_pred_op(pos_batch), _create_pred_op(neg_batch, shared=True)"
      ],
      "execution_count": 0,
      "outputs": []
    },
    {
      "cell_type": "markdown",
      "metadata": {
        "id": "naAIm2N_JjJF",
        "colab_type": "text"
      },
      "source": [
        "### Wrapper"
      ]
    },
    {
      "cell_type": "markdown",
      "metadata": {
        "id": "uum2NsrK0xES",
        "colab_type": "text"
      },
      "source": [
        "Finally, to use the sampling function, the feature function and the TensorFlow variant implementation combined for evaluation we need to implement wrappers."
      ]
    },
    {
      "cell_type": "markdown",
      "metadata": {
        "id": "PcfDQm6f0175",
        "colab_type": "text"
      },
      "source": [
        "First we use wrappers to create batches of train, validation or test instances, using a specific sampling and feature function."
      ]
    },
    {
      "cell_type": "code",
      "metadata": {
        "id": "J9Crc0WgiFsI",
        "colab_type": "code",
        "colab": {}
      },
      "source": [
        "def create_train_batch_generator(epochs, batch_size, df, meta_df, seeds_df,\n",
        "                                 feature_fn, sampler_fn,\n",
        "                                 separate_features=False,\n",
        "                                 item_ctx_features=False):\n",
        "  \"\"\"\n",
        "  Create a training batch generator\n",
        "  \"\"\"\n",
        "\n",
        "  # extract indices and feature mappings from dataframe\n",
        "  (num_users, user_indices, user_feats, num_items, item_indices, item_feats,\n",
        "   ctx_feats, item2artist, item2album) = feature_fn(df, meta_df, seeds_df)\n",
        "  \n",
        "  # initialize sampler of interactions and negative items\n",
        "  sampler = sampler_fn(epochs, batch_size, num_users, num_items,\n",
        "                       user_indices, item_indices, item2artist, item2album)\n",
        "\n",
        "  # create batches of features from batches of samples\n",
        "  for l in sampler:\n",
        "    if len(l) == 4:\n",
        "      b_pos_mask, b_neg_indices, b_na_indices, b_na_neg_indices = l\n",
        "      na_ones = np.ones(len(b_na_indices), dtype=bool)\n",
        "      na_indices = coo_matrix((na_ones, (b_na_indices, b_na_neg_indices)),\n",
        "                              shape=(batch_size, batch_size))\n",
        "    else:\n",
        "      b_pos_mask, b_neg_indices = l\n",
        "      na_indices = coo_matrix((batch_size, batch_size), dtype=bool)\n",
        "\n",
        "    b_user_indices = user_indices[b_pos_mask]\n",
        "    b_pos_indices = item_indices[b_pos_mask]\n",
        "\n",
        "    user_fs = user_feats[b_user_indices]\n",
        "    ctx_fs = ctx_feats[b_pos_mask] if ctx_feats is not None else None\n",
        "    pos_fs = item_feats[b_pos_indices]\n",
        "    neg_fs = item_feats[b_neg_indices]\n",
        "\n",
        "    if separate_features and item_ctx_features:\n",
        "      yield user_fs.tocoo(), ctx_fs.tocoo(), pos_fs.tocoo(), neg_fs.tocoo(), na_indices\n",
        "    else:\n",
        "      userctx_fs = sp.hstack([user_fs, ctx_fs])\n",
        "      if separate_features:\n",
        "        yield userctx_fs, pos_fs.tocoo(), neg_fs.tocoo(), na_indices\n",
        "      elif item_ctx_features:\n",
        "        empty_user_fs = csr_matrix(user_fs.shape)\n",
        "        pos_fs = sp.hstack([empty_user_fs, pos_fs])\n",
        "        neg_fs = sp.hstack([empty_user_fs, neg_fs])\n",
        "        yield userctx_fs, pos_fs, neg_fs, na_indices\n",
        "      else:\n",
        "        empty_userctx_fs = csr_matrix(userctx_fs.shape)\n",
        "        pos_fs = sp.hstack([empty_userctx_fs, pos_fs])\n",
        "        neg_fs = sp.hstack([empty_userctx_fs, neg_fs])\n",
        "        userctx_fs._shape = pos_fs.shape\n",
        "        yield userctx_fs, pos_fs, neg_fs, na_indices\n",
        "\n",
        "\n",
        "def create_val_batch(batch_size, val_df, meta_df, seeds_df, feature_fn,\n",
        "                     sampler_fn, separate_features=False,\n",
        "                     item_ctx_features=False):\n",
        "  \"\"\"\n",
        "  Create a validation batch generator\n",
        "  \"\"\"\n",
        "  repeat = int(ceil(batch_size / len(val_df)))\n",
        "  epochs = 1\n",
        "  batch_size = len(val_df) * repeat\n",
        "\n",
        "  def repeated_feature_fn(df, meta_df, seeds_df):\n",
        "    (num_users, user_indices, user_feats, num_items, item_indices, item_feats,\n",
        "     ctx_feats, item2artist, item2album) = feature_fn(df, meta_df, seeds_df)\n",
        "    \n",
        "    user_indices = np.repeat(user_indices, repeat)\n",
        "    item_indices = np.repeat(item_indices, repeat)\n",
        "    if ctx_feats is not None:\n",
        "      ctx_feats = ctx_feats.tolil()\n",
        "      ctx_feats.data = np.repeat(ctx_feats.data, repeat, axis=0)\n",
        "      ctx_feats.rows = np.repeat(ctx_feats.rows, repeat, axis=0)\n",
        "      ctx_feats._shape = (ctx_feats.shape[0] * repeat, ctx_feats.shape[1])\n",
        "      ctx_feats = ctx_feats.tocsr()\n",
        "    \n",
        "    return (num_users, user_indices, user_feats, num_items, item_indices,\n",
        "            item_feats, ctx_feats, item2artist, item2album)\n",
        "\n",
        "  g = create_train_batch_generator(epochs, batch_size, val_df, meta_df,\n",
        "                                   seeds_df, repeated_feature_fn, sampler_fn,\n",
        "                                   separate_features, item_ctx_features)\n",
        "  \n",
        "  b = next(g)\n",
        "  try:\n",
        "    next(g)\n",
        "  except StopIteration:\n",
        "    pass\n",
        "  \n",
        "  return b\n",
        "\n",
        "\n",
        "@nb.njit()\n",
        "def create_query_items_generator(num_users, user_indices, seed_user_indices,\n",
        "                                 num_items, seed_item_indices):\n",
        "\n",
        "  user2items = _nb_a2bs(seed_user_indices, num_users, seed_item_indices)\n",
        "\n",
        "  for i in range(len(user_indices)):\n",
        "    user_i = user_indices[i]\n",
        "    item_indices = np.array([j for j in range(1, num_items)\n",
        "                             if not bool(j in user2items[user_i])])\n",
        "    yield i, item_indices\n",
        "    \n",
        "  \n",
        "def create_query_batch_generator(query_df, meta_df, feature_fn,\n",
        "                                 filter_user_items=False,\n",
        "                                 separate_features=False,\n",
        "                                 item_ctx_features=False):\n",
        "  \"\"\"\n",
        "  Create a query batch generator\n",
        "  \"\"\"\n",
        "\n",
        "  # extract user indices and context feature mappings\n",
        "  # from query context dataframe \n",
        "  query_ctx_df = get_query_ctx(query_df)\n",
        "  (_, user_indices, _, _, _, _, ctx_feats, _,\n",
        "   _) = feature_fn(query_ctx_df, meta_df)\n",
        "  \n",
        "  # extract all indices and other feature mappings\n",
        "  # from query seeds and meta dataframe\n",
        "  query_seeds_df = get_query_seeds(query_df)\n",
        "  (num_users, seed_user_indices, user_feats, num_items, seed_item_indices,\n",
        "   item_feats, _, _, _) = feature_fn(query_seeds_df, meta_df, query_seeds_df)\n",
        "\n",
        "  # initialize generator of per-user batches of items\n",
        "  if filter_user_items:\n",
        "    g = create_query_items_generator(num_users, user_indices, seed_user_indices,\n",
        "                                     num_items, seed_item_indices)\n",
        "  else:\n",
        "    item_indices = np.arange(num_items)\n",
        "    g = ((i, item_indices) for i in range(len(user_indices)))\n",
        "\n",
        "  # create batches of features from per-user batches of items\n",
        "  for i, item_indices in g: \n",
        "    user_fs = user_feats[np.full(len(item_indices), user_indices[i], dtype=int)]\n",
        "    ctx_fs = ctx_feats[np.full(len(item_indices), i, dtype=int)] if ctx_feats is not None else None\n",
        "    pos_fs = item_feats[item_indices]\n",
        "\n",
        "    if separate_features and item_ctx_features:\n",
        "      yield user_fs.tocoo(), ctx_fs.tocoo(), pos_fs.tocoo(), item_indices\n",
        "    else:\n",
        "      userctx_fs = sp.hstack([user_fs, ctx_fs])\n",
        "      if separate_features:\n",
        "        yield userctx_fs, pos_fs.tocoo(), item_indices\n",
        "      elif item_ctx_features:\n",
        "        empty_user_fs = csr_matrix(user_fs.shape)\n",
        "        pos_fs = sp.hstack([empty_user_fs, pos_fs])\n",
        "        yield userctx_fs, pos_fs.tocoo(), item_indices\n",
        "      else:\n",
        "        empty_userctx_fs = csr_matrix(userctx_fs.shape)\n",
        "        pos_fs = sp.hstack([empty_userctx_fs, pos_fs])\n",
        "        userctx_fs._shape = pos_fs.shape\n",
        "        yield userctx_fs, pos_fs.tocoo(), item_indices"
      ],
      "execution_count": 0,
      "outputs": []
    },
    {
      "cell_type": "markdown",
      "metadata": {
        "id": "v6TJW0bY07Pi",
        "colab_type": "text"
      },
      "source": [
        "To use these batches efficiently with the TensorFlow factorization machine implementations, we wrap them as TensorFlow data sets."
      ]
    },
    {
      "cell_type": "code",
      "metadata": {
        "id": "81J0YBXEiRqd",
        "colab_type": "code",
        "colab": {}
      },
      "source": [
        "def coo2tuple(s, dtype=np.float32):\n",
        "  s = s.tocoo(copy=False)\n",
        "  s_indices = np.vstack((s.row.astype(np.int64), s.col.astype(np.int64))).T\n",
        "  return (s_indices, s.data.astype(dtype), s.shape)\n",
        "\n",
        "\n",
        "def dummyarray():\n",
        "  return np.zeros([1], dtype=np.int64)\n",
        "\n",
        "\n",
        "def dummytuple(dtype=np.float32):\n",
        "  return (np.zeros([1, 1], dtype=np.int64), np.ones(1, dtype=dtype), [1, 1])\n",
        "\n",
        "\n",
        "def batch2tuples(b):\n",
        "  if len(b) == 5:\n",
        "    # train batch generator with prev batch\n",
        "    userctx_s, prev_s, pos_s, neg_s, na_s = b\n",
        "    return (coo2tuple(userctx_s), coo2tuple(prev_s), coo2tuple(pos_s),\n",
        "            coo2tuple(neg_s), coo2tuple(na_s, dtype=bool), dummyarray())\n",
        "  elif len(b) == 4:\n",
        "    if len(b[3].shape) == 2:\n",
        "      # train batch generator \n",
        "      userctx_s, pos_s, neg_s, na_s = b\n",
        "      return (coo2tuple(userctx_s), coo2tuple(pos_s), coo2tuple(neg_s),\n",
        "              coo2tuple(na_s, dtype=bool), dummyarray())\n",
        "    else:\n",
        "      # query batch generator with prev batch\n",
        "      userctx_s, prev_s, pos_s, items = b\n",
        "      return (coo2tuple(userctx_s), coo2tuple(prev_s), coo2tuple(pos_s),\n",
        "              dummytuple(), dummytuple(dtype=bool), items)\n",
        "  else:\n",
        "    # query batch generator\n",
        "    userctx_s, pos_s, items = b\n",
        "    return (coo2tuple(userctx_s), coo2tuple(pos_s), dummytuple(),\n",
        "            dummytuple(dtype=bool), items)\n",
        "\n",
        "\n",
        "def tuples2tensors(*tuples):\n",
        "  if len(tuples) == 6:\n",
        "    userctx, prev, pos, neg, na, items = tuples\n",
        "    return (tf.SparseTensor(*userctx), tf.SparseTensor(*prev),\n",
        "            tf.SparseTensor(*pos), tf.SparseTensor(*neg), tf.SparseTensor(*na),\n",
        "            items)\n",
        "  else:\n",
        "    userctx, pos, neg, na, items = tuples\n",
        "    return (tf.SparseTensor(*userctx), tf.SparseTensor(*pos),\n",
        "            tf.SparseTensor(*neg), tf.SparseTensor(*na), items)\n",
        "\n",
        "\n",
        "def batch2dataset(b):\n",
        "  return tf.data.Dataset.from_tensors(tuples2tensors(*batch2tuples(b)))\n",
        "\n",
        "\n",
        "def batchgenerator2dataset(g):\n",
        "  g = (batch2tuples(b) for b in g)\n",
        "  peek_g = next(g)\n",
        "  g = itertools.chain([peek_g], g)\n",
        "  \n",
        "  f_shape = (tf.int64, tf.float32, tf.int64)\n",
        "  b_shape = (tf.int64, tf.bool, tf.int64)\n",
        "  if len(peek_g) == 6:\n",
        "    g_shape = (f_shape, f_shape, f_shape, f_shape, b_shape, tf.int64)\n",
        "  else:\n",
        "    g_shape = (f_shape, f_shape, f_shape, b_shape, tf.int64)\n",
        "  \n",
        "  return tf.data.Dataset.from_generator(lambda: g, g_shape).map(tuples2tensors)\n",
        "\n",
        "\n",
        "def create_train_dataset(epochs, graph, batch_size, df, meta_df, feature_fn,\n",
        "                         sampler_fn, separate_features=False,\n",
        "                         item_ctx_features=False):\n",
        "  \"\"\"\n",
        "  Create a training data set consisting of batches of\n",
        "   * user/context feature sparse tensor\n",
        "   * positive item feature sparse tensor\n",
        "   * negative item feature sparse tensor\n",
        "   * optional non-accepted negative items for users sparse tensor\n",
        "   * dummy item indices array\n",
        "  \"\"\"\n",
        "  with graph.as_default():\n",
        "    seeds_df = df\n",
        "    g = create_train_batch_generator(epochs, batch_size, df, meta_df, seeds_df,\n",
        "                                     feature_fn, sampler_fn, separate_features,\n",
        "                                     item_ctx_features)\n",
        "    return batchgenerator2dataset(g)\n",
        "\n",
        "\n",
        "def create_val_dataset(graph, batch_size, val_df, val_query_df, meta_df,\n",
        "                       feature_fn, sampler_fn, separate_features=False,\n",
        "                       item_ctx_features=False):\n",
        "  \"\"\"\n",
        "  Create a validation data set consisting of\n",
        "  a single batch of the same structure as the training data set batches.\n",
        "\n",
        "  The single batch has positive items repeated with different negative items\n",
        "  to have size similar to batch_size (of the training data set batches).\n",
        "  \"\"\"\n",
        "  with graph.as_default():\n",
        "    seeds_df = get_query_seeds(val_query_df)\n",
        "    b = create_val_batch(batch_size, val_df, meta_df, seeds_df, feature_fn,\n",
        "                         sampler_fn, separate_features, item_ctx_features)\n",
        "    \n",
        "    return batch2dataset(b).repeat()\n",
        "  \n",
        "\n",
        "def create_query_dataset(graph, query_df, meta_df, feature_fn,\n",
        "                         filter_user_items=False, separate_features=False,\n",
        "                         item_ctx_features=False):\n",
        "  \"\"\"\n",
        "  Create a query data set consisting of per-user batches of\n",
        "   * user/context feature sparse tensor\n",
        "   * query item feature sparse tensor\n",
        "   * dummy negative sparse tensor\n",
        "   * dummy non-accepted sparse tensor\n",
        "   * query item indices array\n",
        "  \"\"\"\n",
        "  with graph.as_default():\n",
        "    g = create_query_batch_generator(query_df, meta_df, feature_fn,\n",
        "                                     filter_user_items, separate_features,\n",
        "                                     item_ctx_features)\n",
        "    return batchgenerator2dataset(g).prefetch(1)"
      ],
      "execution_count": 0,
      "outputs": []
    },
    {
      "cell_type": "markdown",
      "metadata": {
        "id": "GWuwEuAp1AqY",
        "colab_type": "text"
      },
      "source": [
        "Finally we use a wrapper which, given a specific sampling function, feature function and factorization machine variant implementation, can be fitted on and transform dataframes in our required format. It also supports saving and loading models."
      ]
    },
    {
      "cell_type": "code",
      "metadata": {
        "id": "SXP5TVmpiZLj",
        "colab_type": "code",
        "colab": {}
      },
      "source": [
        "class FM:\n",
        "  \"\"\"\n",
        "  Wrapper around different TensorFlow factorization machines to use with\n",
        "   * train, validation, validation query, test and test query dataframes\n",
        "   * different arguments, feature and sampler / not accepted functions\n",
        "  \"\"\"\n",
        "\n",
        "  def __init__(self, fm_type, train_df, val_query_df, val_df, feature_fn,\n",
        "               sampler_fn, val_sampler_fn, args, n=500,\n",
        "               separate_features=False, item_ctx_features=False):\n",
        "\n",
        "    # train data set used for metadata\n",
        "    meta_df = train_df\n",
        "\n",
        "    with tf.device('/gpu:0'):\n",
        "      tf.reset_default_graph()\n",
        "      graph = tf.Graph()\n",
        "\n",
        "      train_dataset = create_train_dataset(args.epochs, graph, args.batch_size,\n",
        "                                           train_df, meta_df, feature_fn,\n",
        "                                           sampler_fn, separate_features,\n",
        "                                           item_ctx_features)\n",
        "\n",
        "      # important pipelining for better performance\n",
        "      with graph.as_default():\n",
        "        train_dataset = train_dataset.prefetch(args.batches_per_epoch)\n",
        "      \n",
        "      val_dataset = create_val_dataset(graph, args.batch_size, val_df,\n",
        "                                       val_query_df, meta_df, feature_fn,\n",
        "                                       val_sampler_fn, separate_features,\n",
        "                                       item_ctx_features)\n",
        "      \n",
        "      self.fm = fm_type(graph, train_dataset, val_dataset, args, n)\n",
        "      self.meta_df = meta_df\n",
        "      self.feature_fn = feature_fn\n",
        "      self.n = n\n",
        "      self.separate_features = separate_features\n",
        "      self.item_ctx_features = item_ctx_features\n",
        "  \n",
        "  @with_time\n",
        "  def fit(self, save_epochs=[], save_epoch_paths=[]):\n",
        "    return self.fm.train(save_epochs, save_epoch_paths)\n",
        "  \n",
        "  @with_time\n",
        "  def transform(self, query_df, filter_user_tracks=False):\n",
        "    query_dataset = create_query_dataset(self.fm.sess.graph, query_df,\n",
        "                                         self.meta_df, self.feature_fn,\n",
        "                                         filter_user_tracks,\n",
        "                                         self.separate_features,\n",
        "                                         self.item_ctx_features)\n",
        "    \n",
        "    scores, indices = self.fm.predict(query_dataset)\n",
        "    return pd.DataFrame({\n",
        "        \"score\": scores,\n",
        "        \"pid\": get_query_ctx(query_df)[\"pid\"].repeat(self.n),\n",
        "        \"traid\": indices\n",
        "    })\n",
        "\n",
        "  def save(self, save_path):\n",
        "    self.fm.save(save_path)\n",
        "  \n",
        "  def load(self, load_path):\n",
        "    self.fm.load(load_path)\n",
        "  \n",
        "  def close(self):\n",
        "    self.fm.close()"
      ],
      "execution_count": 0,
      "outputs": []
    },
    {
      "cell_type": "markdown",
      "metadata": {
        "id": "zr_ccEyd1GFb",
        "colab_type": "text"
      },
      "source": [
        "Using this wrapper, we can create a general evaluation function as well as a general function plotting the fitting process.\n",
        "\n",
        "These general functions and dictionaries are the only wrappers we will need to care about."
      ]
    },
    {
      "cell_type": "code",
      "metadata": {
        "id": "UGmf9jVZifTt",
        "colab_type": "code",
        "colab": {}
      },
      "source": [
        "fm_fits = dict()\n",
        "fm_evals = dict()\n",
        "\n",
        "\n",
        "def fit_fm_args(fm_type, args, args_name, train_df, val_query_df, val_df,\n",
        "                load=False, feature_fn=df2usersitems,\n",
        "                sampler_fn=uniform_sampler, val_sampler_fn=uniform_sampler,\n",
        "                separate_features=False, item_ctx_features=False):\n",
        "  \"\"\"\n",
        "  Fits, saves and returns a FM. Fills fm_fits.\n",
        "\n",
        "  Can also load a fitted FM instead of fitting and saving it again.\n",
        "  \"\"\"\n",
        "  fm = FM(fm_type, train_df, val_query_df, val_df, feature_fn, sampler_fn,\n",
        "          val_sampler_fn, args, separate_features=separate_features,\n",
        "          item_ctx_features=item_ctx_features)\n",
        "\n",
        "  fit_name = \"{}{}.pickle\".format(models_dirname, args_name)\n",
        "  model_name = \"{}{}.ckpt\".format(models_dirname, args_name)\n",
        "\n",
        "  if load:\n",
        "    with open(fit_name, \"rb\") as f:\n",
        "     fm_fits[args_name] = pickle.load(f)\n",
        "    fm.load(model_name)\n",
        "  else:\n",
        "    (losses, val_losses, val_scores), fit_time = fm.fit()\n",
        "\n",
        "    if isinstance(val_scores, tuple):\n",
        "      val_aucs, val_ranks = val_scores\n",
        "    else:\n",
        "      val_aucs = val_scores\n",
        "      val_ranks = None\n",
        "\n",
        "    fm_fits[args_name] = {\n",
        "        \"fit_time\": fit_time,\n",
        "        \"losses\": losses,\n",
        "        \"val_losses\": val_losses,\n",
        "        \"val_aucs\": val_aucs,\n",
        "        \"val_ranks\": val_ranks\n",
        "    }\n",
        "    with open(fit_name, \"wb\") as f:\n",
        "      pickle.dump(fm_fits[args_name], f)\n",
        "    fm.save(model_name)\n",
        "      \n",
        "  return fm\n",
        "\n",
        "\n",
        "def fit_fm_args_epochs(fm_type, args, args_names, args_epochs, train_df,\n",
        "                       val_query_df, val_df, load=False,\n",
        "                       feature_fn=df2usersitems, sampler_fn=uniform_sampler,\n",
        "                       val_sampler_fn=uniform_sampler, separate_features=False,\n",
        "                       item_ctx_features=False):\n",
        "  \"\"\"\n",
        "  Fits, saves and returns FMs at the given epochs.\n",
        "  Fills fm_fits for the FM with most epochs.\n",
        "\n",
        "  Can also load fitted FMs instead of fitting and saving it again.\n",
        "\n",
        "  This is obviously more efficient than\n",
        "   * fitting a FM for 100 epochs and saving it\n",
        "   * fitting a FM for 200 epochs and saving it\n",
        "   * ...\n",
        "  \"\"\"\n",
        "  fm = FM(fm_type, train_df, val_query_df, val_df, feature_fn, sampler_fn,\n",
        "          val_sampler_fn, args, separate_features=separate_features,\n",
        "          item_ctx_features=item_ctx_features)\n",
        "  \n",
        "  args_name = args_names[-1]\n",
        "  fit_name = \"{}{}.pickle\".format(models_dirname, args_name)\n",
        "  model_names = [\"{}{}.ckpt\".format(models_dirname, name) for name\n",
        "                 in args_names]\n",
        "\n",
        "  if load:\n",
        "    with open(fit_name, \"rb\") as f:\n",
        "      fm_fits[args_name] = pickle.load(f)\n",
        "  else:\n",
        "    (losses, val_losses, val_scores), fit_time = fm.fit(save_epochs=args_epochs,\n",
        "                                                        save_epoch_paths=model_names)\n",
        "\n",
        "    if isinstance(val_scores, tuple):\n",
        "      val_aucs, val_ranks = val_scores\n",
        "    else:\n",
        "      val_aucs = val_scores\n",
        "      val_ranks = None\n",
        "\n",
        "    fm_fits[args_name] = {\n",
        "        \"fit_time\": fit_time,\n",
        "        \"losses\": losses,\n",
        "        \"val_losses\": val_losses,\n",
        "        \"val_aucs\": val_aucs,\n",
        "        \"val_ranks\": val_ranks\n",
        "    }\n",
        "    with open(fit_name, \"wb\") as f:\n",
        "      pickle.dump(fm_fits[args_name], f)\n",
        "\n",
        "  for model_name in model_names:\n",
        "    fm.load(model_name)\n",
        "    yield fm\n",
        "\n",
        "\n",
        "def eval_fm(fm, args_name, test_query_df, test_df, silent=False,\n",
        "            filter_user_tracks=False, with_hit_rates=False):\n",
        "  \"\"\"\n",
        "  Evaluates a FM and returns the recommendation dataframe. Fills fm_evals.\n",
        "  \"\"\"\n",
        "  fm_evals[args_name] = dict()\n",
        "\n",
        "  fm_df, fm_evals[args_name][\"trans_time\"] = fm.transform(test_query_df,\n",
        "                                                          filter_user_tracks)\n",
        "  \n",
        "  if with_hit_rates:\n",
        "    fm_evals[args_name][\"hit_rates\"] = hit_rates(fm_df, test_df)\n",
        "    fm_evals[args_name][\"hit_rate\"] = fm_evals[args_name][\"hit_rates\"][0]\n",
        "  else:\n",
        "    fm_evals[args_name][\"hit_rate\"] = hit_rate(fm_df, test_df) \n",
        "  fm_evals[args_name][\"ndcg\"] = ndcg(fm_df, test_df)\n",
        "  \n",
        "  if not silent:\n",
        "    print(\"{:.6f} hit rate\\n{:.6f} ndcg\".format(\n",
        "        fm_evals[args_name][\"hit_rate\"], fm_evals[args_name][\"ndcg\"]))\n",
        "    if args_name in fm_fits:\n",
        "      print(\"\\n{:.5f}s fit time\".format(fm_fits[args_name][\"fit_time\"]))\n",
        "    print(\"{:.5f}s trans time\".format(fm_evals[args_name][\"trans_time\"]))\n",
        "  \n",
        "  return fm_df"
      ],
      "execution_count": 0,
      "outputs": []
    },
    {
      "cell_type": "code",
      "metadata": {
        "id": "ZdJC6H3Se4LA",
        "colab_type": "code",
        "colab": {}
      },
      "source": [
        "def plot_fm_fit(args_name, bottom_val_auc=0.75, top_val_auc=1.0, rows=1, row=0):\n",
        "  \"\"\"\n",
        "  Plots losses, validation losses and validation AUCs of a FM's fitting.\n",
        "  Uses fm_fits.\n",
        "  \"\"\"\n",
        "  plt.figure(figsize=(12, rows * 4))\n",
        "  \n",
        "  losses = fm_fits[args_name][\"losses\"]\n",
        "  losses_ax = plt.subplot(rows, 3, row * 3 + 1)\n",
        "  plt.plot(losses)\n",
        "  if row == 0:\n",
        "    plt.title(\"Losses\")\n",
        "  \n",
        "  val_losses = fm_fits[args_name][\"val_losses\"]\n",
        "  val_epochs = [i * args.eval_freq for i in range(len(val_losses))]\n",
        "  plt.subplot(rows, 3, row * 3 + 2, sharey=losses_ax)\n",
        "  plt.plot(val_epochs, val_losses)\n",
        "  if row == 0:\n",
        "    plt.title(\"Val losses\")\n",
        "  \n",
        "  aucs = fm_fits[args_name][\"val_aucs\"]\n",
        "  plt.subplot(rows, 3, row * 3 + 3)\n",
        "  plt.plot(val_epochs, aucs, color=\"red\")\n",
        "  plt.ylim(bottom=bottom_val_auc, top=top_val_auc)\n",
        "  if row == 0:\n",
        "    plt.title(\"Val AUCs\")\n",
        "  \n",
        "  plt.subplots_adjust(wspace=0.4)\n",
        "\n",
        "\n",
        "def plot_fm_fits(args_names, bottom_val_auc=0.75, top_val_auc=1.0):\n",
        "  rows = len(args_names)\n",
        "  for row, args_name in enumerate(args_names):\n",
        "    plot_fm_fit(args_name, bottom_val_auc, top_val_auc, rows, row)"
      ],
      "execution_count": 0,
      "outputs": []
    },
    {
      "cell_type": "markdown",
      "metadata": {
        "id": "DsQSNvU_Kr4e",
        "colab_type": "text"
      },
      "source": [
        "## Evaluation"
      ]
    },
    {
      "cell_type": "markdown",
      "metadata": {
        "id": "o8VboJfyMSlI",
        "colab_type": "text"
      },
      "source": [
        "For the last-track split evaluation, we use a train-validation-test split and evaluate the different parameters and variants on the validation set.\n",
        "\n",
        "We will then only evaluate the best parameters on the test set."
      ]
    },
    {
      "cell_type": "code",
      "metadata": {
        "id": "4r2QfAj8MQID",
        "colab_type": "code",
        "outputId": "3b9c51ad-33a7-4882-ed56-ee872ecf4cee",
        "colab": {
          "base_uri": "https://localhost:8080/",
          "height": 309
        }
      },
      "source": [
        "train_df, val_df, val_query_df = last_track_split(df, as_val=True,\n",
        "                                                  n_test_users=1000)\n",
        "\n",
        "names_df = to_names_index(train_df)\n",
        "drop_names([train_df, val_df, val_query_df])\n",
        "\n",
        "val_df.head()"
      ],
      "execution_count": 0,
      "outputs": [
        {
          "output_type": "execute_result",
          "data": {
            "text/html": [
              "<div>\n",
              "<style scoped>\n",
              "    .dataframe tbody tr th:only-of-type {\n",
              "        vertical-align: middle;\n",
              "    }\n",
              "\n",
              "    .dataframe tbody tr th {\n",
              "        vertical-align: top;\n",
              "    }\n",
              "\n",
              "    .dataframe thead th {\n",
              "        text-align: right;\n",
              "    }\n",
              "</style>\n",
              "<table border=\"1\" class=\"dataframe\">\n",
              "  <thead>\n",
              "    <tr style=\"text-align: right;\">\n",
              "      <th></th>\n",
              "      <th>pid</th>\n",
              "      <th>category</th>\n",
              "      <th>timestamp</th>\n",
              "      <th>userid</th>\n",
              "      <th>sid</th>\n",
              "      <th>traid</th>\n",
              "      <th>pyear</th>\n",
              "      <th>artid</th>\n",
              "      <th>albid</th>\n",
              "      <th>year</th>\n",
              "      <th>key</th>\n",
              "      <th>loudness</th>\n",
              "      <th>mode</th>\n",
              "      <th>tempo</th>\n",
              "      <th>b_tempo</th>\n",
              "      <th>bak_tempo</th>\n",
              "      <th>prev_traid</th>\n",
              "      <th>prev_albid</th>\n",
              "      <th>prev_artid</th>\n",
              "      <th>prev_year</th>\n",
              "      <th>prev_loudness</th>\n",
              "      <th>prev_tempo</th>\n",
              "      <th>prev_mode</th>\n",
              "      <th>prev_key</th>\n",
              "    </tr>\n",
              "  </thead>\n",
              "  <tbody>\n",
              "    <tr>\n",
              "      <th>0</th>\n",
              "      <td>111</td>\n",
              "      <td>2</td>\n",
              "      <td>1998-02-01 00:00:00</td>\n",
              "      <td>87</td>\n",
              "      <td>4</td>\n",
              "      <td>1317</td>\n",
              "      <td>1</td>\n",
              "      <td>213</td>\n",
              "      <td>1144</td>\n",
              "      <td>0</td>\n",
              "      <td>1</td>\n",
              "      <td>1</td>\n",
              "      <td>1</td>\n",
              "      <td>11</td>\n",
              "      <td>6</td>\n",
              "      <td>113</td>\n",
              "      <td>893</td>\n",
              "      <td>787</td>\n",
              "      <td>296</td>\n",
              "      <td>18</td>\n",
              "      <td>14</td>\n",
              "      <td>11</td>\n",
              "      <td>2</td>\n",
              "      <td>5</td>\n",
              "    </tr>\n",
              "    <tr>\n",
              "      <th>1</th>\n",
              "      <td>153</td>\n",
              "      <td>2</td>\n",
              "      <td>1998-02-05 00:00:00</td>\n",
              "      <td>114</td>\n",
              "      <td>4</td>\n",
              "      <td>6404</td>\n",
              "      <td>1</td>\n",
              "      <td>540</td>\n",
              "      <td>2573</td>\n",
              "      <td>11</td>\n",
              "      <td>12</td>\n",
              "      <td>8</td>\n",
              "      <td>1</td>\n",
              "      <td>8</td>\n",
              "      <td>12</td>\n",
              "      <td>172</td>\n",
              "      <td>218</td>\n",
              "      <td>204</td>\n",
              "      <td>168</td>\n",
              "      <td>11</td>\n",
              "      <td>8</td>\n",
              "      <td>15</td>\n",
              "      <td>1</td>\n",
              "      <td>4</td>\n",
              "    </tr>\n",
              "    <tr>\n",
              "      <th>2</th>\n",
              "      <td>162</td>\n",
              "      <td>13</td>\n",
              "      <td>1998-02-08 00:00:00</td>\n",
              "      <td>123</td>\n",
              "      <td>1</td>\n",
              "      <td>49226</td>\n",
              "      <td>1</td>\n",
              "      <td>2537</td>\n",
              "      <td>22916</td>\n",
              "      <td>4</td>\n",
              "      <td>12</td>\n",
              "      <td>4</td>\n",
              "      <td>1</td>\n",
              "      <td>7</td>\n",
              "      <td>7</td>\n",
              "      <td>125</td>\n",
              "      <td>1258</td>\n",
              "      <td>1095</td>\n",
              "      <td>676</td>\n",
              "      <td>34</td>\n",
              "      <td>5</td>\n",
              "      <td>5</td>\n",
              "      <td>1</td>\n",
              "      <td>8</td>\n",
              "    </tr>\n",
              "    <tr>\n",
              "      <th>3</th>\n",
              "      <td>206</td>\n",
              "      <td>9</td>\n",
              "      <td>1999-01-08 13:20:00</td>\n",
              "      <td>142</td>\n",
              "      <td>4</td>\n",
              "      <td>2068</td>\n",
              "      <td>2</td>\n",
              "      <td>219</td>\n",
              "      <td>269</td>\n",
              "      <td>10</td>\n",
              "      <td>6</td>\n",
              "      <td>17</td>\n",
              "      <td>1</td>\n",
              "      <td>16</td>\n",
              "      <td>0</td>\n",
              "      <td>53</td>\n",
              "      <td>1611</td>\n",
              "      <td>1360</td>\n",
              "      <td>563</td>\n",
              "      <td>0</td>\n",
              "      <td>11</td>\n",
              "      <td>6</td>\n",
              "      <td>1</td>\n",
              "      <td>9</td>\n",
              "    </tr>\n",
              "    <tr>\n",
              "      <th>4</th>\n",
              "      <td>292</td>\n",
              "      <td>2</td>\n",
              "      <td>1998-04-09 00:00:00</td>\n",
              "      <td>23</td>\n",
              "      <td>2</td>\n",
              "      <td>5082</td>\n",
              "      <td>1</td>\n",
              "      <td>31</td>\n",
              "      <td>3636</td>\n",
              "      <td>30</td>\n",
              "      <td>2</td>\n",
              "      <td>2</td>\n",
              "      <td>1</td>\n",
              "      <td>13</td>\n",
              "      <td>13</td>\n",
              "      <td>185</td>\n",
              "      <td>2179</td>\n",
              "      <td>359</td>\n",
              "      <td>231</td>\n",
              "      <td>28</td>\n",
              "      <td>19</td>\n",
              "      <td>2</td>\n",
              "      <td>1</td>\n",
              "      <td>11</td>\n",
              "    </tr>\n",
              "  </tbody>\n",
              "</table>\n",
              "</div>"
            ],
            "text/plain": [
              "   pid  category           timestamp  ...  prev_tempo prev_mode  prev_key\n",
              "0  111         2 1998-02-01 00:00:00  ...          11         2         5\n",
              "1  153         2 1998-02-05 00:00:00  ...          15         1         4\n",
              "2  162        13 1998-02-08 00:00:00  ...           5         1         8\n",
              "3  206         9 1999-01-08 13:20:00  ...           6         1         9\n",
              "4  292         2 1998-04-09 00:00:00  ...           2         1        11\n",
              "\n",
              "[5 rows x 24 columns]"
            ]
          },
          "metadata": {
            "tags": []
          },
          "execution_count": 68
        }
      ]
    },
    {
      "cell_type": "code",
      "metadata": {
        "id": "0OH5svjAOnb1",
        "colab_type": "code",
        "outputId": "d800d718-90fb-4158-e08d-02bb9b36e8d9",
        "colab": {
          "base_uri": "https://localhost:8080/",
          "height": 235
        }
      },
      "source": [
        "with_names(get_query_seeds(val_query_df).head(6)[[\"pid\", \"traid\"]], names_df)"
      ],
      "execution_count": 0,
      "outputs": [
        {
          "output_type": "execute_result",
          "data": {
            "text/html": [
              "<div>\n",
              "<style scoped>\n",
              "    .dataframe tbody tr th:only-of-type {\n",
              "        vertical-align: middle;\n",
              "    }\n",
              "\n",
              "    .dataframe tbody tr th {\n",
              "        vertical-align: top;\n",
              "    }\n",
              "\n",
              "    .dataframe thead th {\n",
              "        text-align: right;\n",
              "    }\n",
              "</style>\n",
              "<table border=\"1\" class=\"dataframe\">\n",
              "  <thead>\n",
              "    <tr style=\"text-align: right;\">\n",
              "      <th></th>\n",
              "      <th>pid</th>\n",
              "      <th>traname</th>\n",
              "      <th>albname</th>\n",
              "      <th>artname</th>\n",
              "    </tr>\n",
              "  </thead>\n",
              "  <tbody>\n",
              "    <tr>\n",
              "      <th>26309</th>\n",
              "      <td>111</td>\n",
              "      <td>Mellon Collie And The Infinite Sadness</td>\n",
              "      <td>Mellon Collie And The Infinite Sadness</td>\n",
              "      <td>The Smashing Pumpkins</td>\n",
              "    </tr>\n",
              "    <tr>\n",
              "      <th>122946</th>\n",
              "      <td>111</td>\n",
              "      <td>Take The Money And Run</td>\n",
              "      <td>Box Set</td>\n",
              "      <td>Steve Miller Band</td>\n",
              "    </tr>\n",
              "    <tr>\n",
              "      <th>582360</th>\n",
              "      <td>111</td>\n",
              "      <td>When I Come Around (Album Version)</td>\n",
              "      <td>Dookie</td>\n",
              "      <td>Green Day</td>\n",
              "    </tr>\n",
              "    <tr>\n",
              "      <th>214956</th>\n",
              "      <td>111</td>\n",
              "      <td>Rio</td>\n",
              "      <td>Decade</td>\n",
              "      <td>Duran Duran</td>\n",
              "    </tr>\n",
              "    <tr>\n",
              "      <th>674370</th>\n",
              "      <td>111</td>\n",
              "      <td>Big Empty (LP Version)</td>\n",
              "      <td>Thank You</td>\n",
              "      <td>Stone Temple Pilots</td>\n",
              "    </tr>\n",
              "    <tr>\n",
              "      <th>297976</th>\n",
              "      <td>111</td>\n",
              "      <td>Billie Jean</td>\n",
              "      <td>King Of Pop</td>\n",
              "      <td>Michael Jackson</td>\n",
              "    </tr>\n",
              "  </tbody>\n",
              "</table>\n",
              "</div>"
            ],
            "text/plain": [
              "        pid  ...                artname\n",
              "26309   111  ...  The Smashing Pumpkins\n",
              "122946  111  ...      Steve Miller Band\n",
              "582360  111  ...              Green Day\n",
              "214956  111  ...            Duran Duran\n",
              "674370  111  ...    Stone Temple Pilots\n",
              "297976  111  ...        Michael Jackson\n",
              "\n",
              "[6 rows x 4 columns]"
            ]
          },
          "metadata": {
            "tags": []
          },
          "execution_count": 57
        }
      ]
    },
    {
      "cell_type": "code",
      "metadata": {
        "id": "uLvCcDRlPZKY",
        "colab_type": "code",
        "outputId": "b3e72005-799d-490f-be1f-ce8cfd569654",
        "colab": {
          "base_uri": "https://localhost:8080/",
          "height": 77
        }
      },
      "source": [
        "with_names(val_df.head(1)[[\"pid\", \"traid\"]], names_df)"
      ],
      "execution_count": 0,
      "outputs": [
        {
          "output_type": "execute_result",
          "data": {
            "text/html": [
              "<div>\n",
              "<style scoped>\n",
              "    .dataframe tbody tr th:only-of-type {\n",
              "        vertical-align: middle;\n",
              "    }\n",
              "\n",
              "    .dataframe tbody tr th {\n",
              "        vertical-align: top;\n",
              "    }\n",
              "\n",
              "    .dataframe thead th {\n",
              "        text-align: right;\n",
              "    }\n",
              "</style>\n",
              "<table border=\"1\" class=\"dataframe\">\n",
              "  <thead>\n",
              "    <tr style=\"text-align: right;\">\n",
              "      <th></th>\n",
              "      <th>pid</th>\n",
              "      <th>traname</th>\n",
              "      <th>albname</th>\n",
              "      <th>artname</th>\n",
              "    </tr>\n",
              "  </thead>\n",
              "  <tbody>\n",
              "    <tr>\n",
              "      <th>0</th>\n",
              "      <td>111</td>\n",
              "      <td>Heartache Tonight  (LP Version)</td>\n",
              "      <td>Selected Works 1972-1999</td>\n",
              "      <td>Eagles</td>\n",
              "    </tr>\n",
              "  </tbody>\n",
              "</table>\n",
              "</div>"
            ],
            "text/plain": [
              "   pid                          traname                   albname artname\n",
              "0  111  Heartache Tonight  (LP Version)  Selected Works 1972-1999  Eagles"
            ]
          },
          "metadata": {
            "tags": []
          },
          "execution_count": 61
        }
      ]
    },
    {
      "cell_type": "code",
      "metadata": {
        "id": "f3bK4K6ci66i",
        "colab_type": "code",
        "outputId": "9f60d0b4-4fa9-4b8b-d63a-d1cf4f767d3d",
        "colab": {
          "base_uri": "https://localhost:8080/",
          "height": 317
        }
      },
      "source": [
        "with_names(get_query_seeds(val_query_df[val_query_df[\"pid\"] == 153]).head(9)[[\"pid\", \"traid\"]], names_df)"
      ],
      "execution_count": 0,
      "outputs": [
        {
          "output_type": "execute_result",
          "data": {
            "text/html": [
              "<div>\n",
              "<style scoped>\n",
              "    .dataframe tbody tr th:only-of-type {\n",
              "        vertical-align: middle;\n",
              "    }\n",
              "\n",
              "    .dataframe tbody tr th {\n",
              "        vertical-align: top;\n",
              "    }\n",
              "\n",
              "    .dataframe thead th {\n",
              "        text-align: right;\n",
              "    }\n",
              "</style>\n",
              "<table border=\"1\" class=\"dataframe\">\n",
              "  <thead>\n",
              "    <tr style=\"text-align: right;\">\n",
              "      <th></th>\n",
              "      <th>pid</th>\n",
              "      <th>traname</th>\n",
              "      <th>albname</th>\n",
              "      <th>artname</th>\n",
              "    </tr>\n",
              "  </thead>\n",
              "  <tbody>\n",
              "    <tr>\n",
              "      <th>68949</th>\n",
              "      <td>153</td>\n",
              "      <td>Trigger Hippie</td>\n",
              "      <td>Parts Of The Process</td>\n",
              "      <td>Morcheeba</td>\n",
              "    </tr>\n",
              "    <tr>\n",
              "      <th>528363</th>\n",
              "      <td>153</td>\n",
              "      <td>Over</td>\n",
              "      <td>Portishead</td>\n",
              "      <td>Portishead</td>\n",
              "    </tr>\n",
              "    <tr>\n",
              "      <th>163984</th>\n",
              "      <td>153</td>\n",
              "      <td>Dirt</td>\n",
              "      <td>Dead Elvis/Int'l version</td>\n",
              "      <td>Death In Vegas</td>\n",
              "    </tr>\n",
              "    <tr>\n",
              "      <th>252918</th>\n",
              "      <td>153</td>\n",
              "      <td>Speed</td>\n",
              "      <td>1995</td>\n",
              "      <td>Atari Teenage Riot</td>\n",
              "    </tr>\n",
              "    <tr>\n",
              "      <th>712332</th>\n",
              "      <td>153</td>\n",
              "      <td>Put A Lid On It</td>\n",
              "      <td>Contact</td>\n",
              "      <td>Squirrel Nut Zippers</td>\n",
              "    </tr>\n",
              "    <tr>\n",
              "      <th>329737</th>\n",
              "      <td>153</td>\n",
              "      <td>Step On</td>\n",
              "      <td>Pills 'n' Thrills And Bellyaches</td>\n",
              "      <td>Happy Mondays</td>\n",
              "    </tr>\n",
              "    <tr>\n",
              "      <th>789151</th>\n",
              "      <td>153</td>\n",
              "      <td>The Number Song</td>\n",
              "      <td>Endtroducing</td>\n",
              "      <td>DJ Shadow</td>\n",
              "    </tr>\n",
              "    <tr>\n",
              "      <th>387555</th>\n",
              "      <td>153</td>\n",
              "      <td>Hell is Around the Corner</td>\n",
              "      <td>Le Transporteur 3 - The Transporter III (Origi...</td>\n",
              "      <td>Tricky</td>\n",
              "    </tr>\n",
              "    <tr>\n",
              "      <th>846969</th>\n",
              "      <td>153</td>\n",
              "      <td>Why Do I Lie?</td>\n",
              "      <td>Fever In Fever Out</td>\n",
              "      <td>Luscious Jackson</td>\n",
              "    </tr>\n",
              "  </tbody>\n",
              "</table>\n",
              "</div>"
            ],
            "text/plain": [
              "        pid  ...               artname\n",
              "68949   153  ...             Morcheeba\n",
              "528363  153  ...            Portishead\n",
              "163984  153  ...        Death In Vegas\n",
              "252918  153  ...    Atari Teenage Riot\n",
              "712332  153  ...  Squirrel Nut Zippers\n",
              "329737  153  ...         Happy Mondays\n",
              "789151  153  ...             DJ Shadow\n",
              "387555  153  ...                Tricky\n",
              "846969  153  ...      Luscious Jackson\n",
              "\n",
              "[9 rows x 4 columns]"
            ]
          },
          "metadata": {
            "tags": []
          },
          "execution_count": 62
        }
      ]
    },
    {
      "cell_type": "code",
      "metadata": {
        "id": "SzHNbsitjJOZ",
        "colab_type": "code",
        "outputId": "42680c0d-c9ff-490a-f68a-9a09518d097c",
        "colab": {
          "base_uri": "https://localhost:8080/",
          "height": 77
        }
      },
      "source": [
        "with_names(val_df[val_df[\"pid\"] == 153].head(1)[[\"pid\", \"traid\"]], names_df)"
      ],
      "execution_count": 0,
      "outputs": [
        {
          "output_type": "execute_result",
          "data": {
            "text/html": [
              "<div>\n",
              "<style scoped>\n",
              "    .dataframe tbody tr th:only-of-type {\n",
              "        vertical-align: middle;\n",
              "    }\n",
              "\n",
              "    .dataframe tbody tr th {\n",
              "        vertical-align: top;\n",
              "    }\n",
              "\n",
              "    .dataframe thead th {\n",
              "        text-align: right;\n",
              "    }\n",
              "</style>\n",
              "<table border=\"1\" class=\"dataframe\">\n",
              "  <thead>\n",
              "    <tr style=\"text-align: right;\">\n",
              "      <th></th>\n",
              "      <th>pid</th>\n",
              "      <th>traname</th>\n",
              "      <th>albname</th>\n",
              "      <th>artname</th>\n",
              "    </tr>\n",
              "  </thead>\n",
              "  <tbody>\n",
              "    <tr>\n",
              "      <th>1</th>\n",
              "      <td>153</td>\n",
              "      <td>The Candy Man (Album Version)</td>\n",
              "      <td>Viva! La Woman</td>\n",
              "      <td>Cibo Matto</td>\n",
              "    </tr>\n",
              "  </tbody>\n",
              "</table>\n",
              "</div>"
            ],
            "text/plain": [
              "   pid                        traname         albname     artname\n",
              "1  153  The Candy Man (Album Version)  Viva! La Woman  Cibo Matto"
            ]
          },
          "metadata": {
            "tags": []
          },
          "execution_count": 63
        }
      ]
    },
    {
      "cell_type": "markdown",
      "metadata": {
        "id": "DtuVJOEfbYQL",
        "colab_type": "text"
      },
      "source": [
        "We can load already fitted FMs or fit them ourselves."
      ]
    },
    {
      "cell_type": "code",
      "metadata": {
        "id": "q_VPCHVobVx5",
        "colab_type": "code",
        "colab": {}
      },
      "source": [
        "load=False"
      ],
      "execution_count": 0,
      "outputs": []
    },
    {
      "cell_type": "markdown",
      "metadata": {
        "id": "h46mCgi5bafb",
        "colab_type": "text"
      },
      "source": [
        "### Pairwise factorization machines"
      ]
    },
    {
      "cell_type": "markdown",
      "metadata": {
        "id": "yR5ODIhpbjX-",
        "colab_type": "text"
      },
      "source": [
        "#### Hyperparameters"
      ]
    },
    {
      "cell_type": "markdown",
      "metadata": {
        "id": "c42avfc9bk0k",
        "colab_type": "text"
      },
      "source": [
        "At first, we try to find reasonable hyperparameter values for pairwise factorization machines.\n",
        "\n",
        "In particular we consider:\n",
        "\n",
        "*   *linear_reg*: The regularization rate for the linear weights\n",
        "*   *factors_reg*: The regularization rate for the latent factor weights\n",
        "*   *num_dims / k*: The number of dimensions\n",
        "*   *lr*: The Adagrad learning rate\n",
        "\n",
        "\n",
        "\n"
      ]
    },
    {
      "cell_type": "markdown",
      "metadata": {
        "id": "kFhR7AW0zOqL",
        "colab_type": "text"
      },
      "source": [
        "**Mini-batch size**\n",
        "\n",
        "As mini-batch size we use *16384* which is quite large but has been shown to work fine in previous experiments.\n",
        "\n",
        "A large mini-batch size is important for a faster runtime of our TensorFlow implementation."
      ]
    },
    {
      "cell_type": "markdown",
      "metadata": {
        "id": "LsNUd-7Gyprv",
        "colab_type": "text"
      },
      "source": [
        "**Regularizaton rate**"
      ]
    },
    {
      "cell_type": "code",
      "metadata": {
        "id": "njG_t3tPj5dC",
        "colab_type": "code",
        "outputId": "e906994c-1485-47e3-913b-0cea5b580764",
        "colab": {
          "base_uri": "https://localhost:8080/",
          "height": 416
        }
      },
      "source": [
        "regs = [0.01, 0.03, 0.1, 0.3]\n",
        "reg_names = [\"fm_lreg{}\".format(reg) for reg in regs]\n",
        "\n",
        "for reg, reg_name in zip(regs, reg_names):\n",
        "  args = FMArgs(len(train_df), linear_reg=reg)\n",
        "  fm = fit_fm_args(TfFM, args, reg_name, train_df, val_query_df, val_df,\n",
        "                   load=load)\n",
        "  eval_fm(fm, reg_name, val_query_df, val_df, filter_user_tracks=True)"
      ],
      "execution_count": 0,
      "outputs": [
        {
          "output_type": "stream",
          "text": [
            "INFO:tensorflow:Restoring parameters from /drive/My Drive/models/aotm-2011/fm_lreg0.01.ckpt\n",
            "0.003000 hit rate\n",
            "0.055913 ndcg\n",
            "\n",
            "326.07315s fit time\n",
            "23.98030s trans time\n",
            "INFO:tensorflow:Restoring parameters from /drive/My Drive/models/aotm-2011/fm_lreg0.03.ckpt\n",
            "0.004000 hit rate\n",
            "0.055360 ndcg\n",
            "\n",
            "326.02468s fit time\n",
            "25.70334s trans time\n",
            "INFO:tensorflow:Restoring parameters from /drive/My Drive/models/aotm-2011/fm_lreg0.1.ckpt\n",
            "0.004000 hit rate\n",
            "0.056572 ndcg\n",
            "\n",
            "326.17878s fit time\n",
            "23.41429s trans time\n",
            "INFO:tensorflow:Restoring parameters from /drive/My Drive/models/aotm-2011/fm_lreg0.3.ckpt\n",
            "0.003000 hit rate\n",
            "0.055247 ndcg\n",
            "\n",
            "326.55864s fit time\n",
            "23.09151s trans time\n"
          ],
          "name": "stdout"
        }
      ]
    },
    {
      "cell_type": "code",
      "metadata": {
        "id": "QxeXZd8UqtZ5",
        "colab_type": "code",
        "outputId": "14d9ee80-e3c8-4828-90d9-fbce8dcda3be",
        "colab": {
          "base_uri": "https://localhost:8080/",
          "height": 216
        }
      },
      "source": [
        "regs = [0.03, 0.1]\n",
        "reg_names = [\"fm_freg{}\".format(reg) for reg in regs]\n",
        "\n",
        "for reg, reg_name in zip(regs, reg_names):\n",
        "  args = FMArgs(len(train_df), linear_reg=0.1, factors_reg=reg)\n",
        "  fm = fit_fm_args(TfFM, args, reg_name, train_df, val_query_df, val_df,\n",
        "                   load=load)\n",
        "  eval_fm(fm, reg_name, val_query_df, val_df, filter_user_tracks=True)"
      ],
      "execution_count": 0,
      "outputs": [
        {
          "output_type": "stream",
          "text": [
            "INFO:tensorflow:Restoring parameters from /drive/My Drive/models/aotm-2011/fm_freg0.03.ckpt\n",
            "0.005000 hit rate\n",
            "0.061557 ndcg\n",
            "\n",
            "326.57961s fit time\n",
            "19.25758s trans time\n",
            "INFO:tensorflow:Restoring parameters from /drive/My Drive/models/aotm-2011/fm_freg0.1.ckpt\n",
            "0.001000 hit rate\n",
            "0.046212 ndcg\n",
            "\n",
            "324.68812s fit time\n",
            "12.55182s trans time\n"
          ],
          "name": "stdout"
        }
      ]
    },
    {
      "cell_type": "code",
      "metadata": {
        "id": "fY5Y0K0lA7MU",
        "colab_type": "code",
        "outputId": "76a37700-1111-449c-c54a-0c152e4bde13",
        "colab": {
          "base_uri": "https://localhost:8080/",
          "height": 312
        }
      },
      "source": [
        "args = FMArgs(len(train_df), linear_reg=0.1, factors_reg=0.03)\n",
        "fm = fit_fm_args(TfFM, args, \"fm_freg0.03\", train_df, val_query_df, val_df,\n",
        "                 load=True)\n",
        "fm_df = eval_fm(fm, \"fm_freg0.03\", val_query_df, val_df,\n",
        "                filter_user_tracks=True)\n",
        "\n",
        "with_names(fm_df.head(), names_df)"
      ],
      "execution_count": 0,
      "outputs": [
        {
          "output_type": "stream",
          "text": [
            "INFO:tensorflow:Restoring parameters from /drive/My Drive/models/aotm-2011/fm_freg0.03.ckpt\n",
            "0.005000 hit rate\n",
            "0.061557 ndcg\n",
            "\n",
            "326.57961s fit time\n",
            "17.38056s trans time\n"
          ],
          "name": "stdout"
        },
        {
          "output_type": "execute_result",
          "data": {
            "text/html": [
              "<div>\n",
              "<style scoped>\n",
              "    .dataframe tbody tr th:only-of-type {\n",
              "        vertical-align: middle;\n",
              "    }\n",
              "\n",
              "    .dataframe tbody tr th {\n",
              "        vertical-align: top;\n",
              "    }\n",
              "\n",
              "    .dataframe thead th {\n",
              "        text-align: right;\n",
              "    }\n",
              "</style>\n",
              "<table border=\"1\" class=\"dataframe\">\n",
              "  <thead>\n",
              "    <tr style=\"text-align: right;\">\n",
              "      <th></th>\n",
              "      <th>score</th>\n",
              "      <th>pid</th>\n",
              "      <th>traname</th>\n",
              "      <th>albname</th>\n",
              "      <th>artname</th>\n",
              "    </tr>\n",
              "  </thead>\n",
              "  <tbody>\n",
              "    <tr>\n",
              "      <th>0</th>\n",
              "      <td>5.379768</td>\n",
              "      <td>111</td>\n",
              "      <td>Creep (Explicit)</td>\n",
              "      <td>Pablo Honey</td>\n",
              "      <td>Radiohead</td>\n",
              "    </tr>\n",
              "    <tr>\n",
              "      <th>0</th>\n",
              "      <td>5.375965</td>\n",
              "      <td>111</td>\n",
              "      <td>1979</td>\n",
              "      <td>Rarities &amp; B-Sides</td>\n",
              "      <td>The Smashing Pumpkins</td>\n",
              "    </tr>\n",
              "    <tr>\n",
              "      <th>0</th>\n",
              "      <td>5.215573</td>\n",
              "      <td>111</td>\n",
              "      <td>Just Like Heaven</td>\n",
              "      <td>Kiss Me Kiss Me Kiss Me</td>\n",
              "      <td>The Cure</td>\n",
              "    </tr>\n",
              "    <tr>\n",
              "      <th>0</th>\n",
              "      <td>5.194291</td>\n",
              "      <td>111</td>\n",
              "      <td>Blister In The Sun</td>\n",
              "      <td>Violent Femmes</td>\n",
              "      <td>Violent Femmes</td>\n",
              "    </tr>\n",
              "    <tr>\n",
              "      <th>0</th>\n",
              "      <td>5.177338</td>\n",
              "      <td>111</td>\n",
              "      <td>Where Is My Mind?</td>\n",
              "      <td>Wave Of Mutilation: Best Of Pixies</td>\n",
              "      <td>Pixies</td>\n",
              "    </tr>\n",
              "  </tbody>\n",
              "</table>\n",
              "</div>"
            ],
            "text/plain": [
              "      score  pid  ...                             albname                artname\n",
              "0  5.379768  111  ...                         Pablo Honey              Radiohead\n",
              "0  5.375965  111  ...                  Rarities & B-Sides  The Smashing Pumpkins\n",
              "0  5.215573  111  ...             Kiss Me Kiss Me Kiss Me               The Cure\n",
              "0  5.194291  111  ...                      Violent Femmes         Violent Femmes\n",
              "0  5.177338  111  ...  Wave Of Mutilation: Best Of Pixies                 Pixies\n",
              "\n",
              "[5 rows x 5 columns]"
            ]
          },
          "metadata": {
            "tags": []
          },
          "execution_count": 71
        }
      ]
    },
    {
      "cell_type": "code",
      "metadata": {
        "id": "RTbkKQAZBTic",
        "colab_type": "code",
        "outputId": "be5ef5a7-7f60-4f88-8c8c-b76f1515a8c5",
        "colab": {
          "base_uri": "https://localhost:8080/",
          "height": 197
        }
      },
      "source": [
        "with_names(fm_df[fm_df[\"pid\"] == 153].head(), names_df)"
      ],
      "execution_count": 0,
      "outputs": [
        {
          "output_type": "execute_result",
          "data": {
            "text/html": [
              "<div>\n",
              "<style scoped>\n",
              "    .dataframe tbody tr th:only-of-type {\n",
              "        vertical-align: middle;\n",
              "    }\n",
              "\n",
              "    .dataframe tbody tr th {\n",
              "        vertical-align: top;\n",
              "    }\n",
              "\n",
              "    .dataframe thead th {\n",
              "        text-align: right;\n",
              "    }\n",
              "</style>\n",
              "<table border=\"1\" class=\"dataframe\">\n",
              "  <thead>\n",
              "    <tr style=\"text-align: right;\">\n",
              "      <th></th>\n",
              "      <th>score</th>\n",
              "      <th>pid</th>\n",
              "      <th>traname</th>\n",
              "      <th>albname</th>\n",
              "      <th>artname</th>\n",
              "    </tr>\n",
              "  </thead>\n",
              "  <tbody>\n",
              "    <tr>\n",
              "      <th>1</th>\n",
              "      <td>4.753779</td>\n",
              "      <td>153</td>\n",
              "      <td>Sour Times</td>\n",
              "      <td>Dummy</td>\n",
              "      <td>Portishead</td>\n",
              "    </tr>\n",
              "    <tr>\n",
              "      <th>1</th>\n",
              "      <td>4.690751</td>\n",
              "      <td>153</td>\n",
              "      <td>6 Underground</td>\n",
              "      <td>6 Underground Rewired</td>\n",
              "      <td>Sneaker Pimps</td>\n",
              "    </tr>\n",
              "    <tr>\n",
              "      <th>1</th>\n",
              "      <td>4.521921</td>\n",
              "      <td>153</td>\n",
              "      <td>Big Time Sensuality</td>\n",
              "      <td>Post Live</td>\n",
              "      <td>Björk</td>\n",
              "    </tr>\n",
              "    <tr>\n",
              "      <th>1</th>\n",
              "      <td>4.465311</td>\n",
              "      <td>153</td>\n",
              "      <td>Sexy Boy (Cassius Remix)</td>\n",
              "      <td>Sexy Boy</td>\n",
              "      <td>Air</td>\n",
              "    </tr>\n",
              "    <tr>\n",
              "      <th>1</th>\n",
              "      <td>4.389088</td>\n",
              "      <td>153</td>\n",
              "      <td>Midnight In A Perfect World</td>\n",
              "      <td>Endtroducing.....</td>\n",
              "      <td>DJ Shadow</td>\n",
              "    </tr>\n",
              "  </tbody>\n",
              "</table>\n",
              "</div>"
            ],
            "text/plain": [
              "      score  pid  ...                albname        artname\n",
              "1  4.753779  153  ...                  Dummy     Portishead\n",
              "1  4.690751  153  ...  6 Underground Rewired  Sneaker Pimps\n",
              "1  4.521921  153  ...              Post Live          Björk\n",
              "1  4.465311  153  ...               Sexy Boy            Air\n",
              "1  4.389088  153  ...      Endtroducing.....      DJ Shadow\n",
              "\n",
              "[5 rows x 5 columns]"
            ]
          },
          "metadata": {
            "tags": []
          },
          "execution_count": 97
        }
      ]
    },
    {
      "cell_type": "markdown",
      "metadata": {
        "id": "mRHCwO9DET6c",
        "colab_type": "text"
      },
      "source": [
        "**Number of dimensions**"
      ]
    },
    {
      "cell_type": "code",
      "metadata": {
        "colab_type": "code",
        "id": "NsM9g1TKaXgt",
        "colab": {}
      },
      "source": [
        "ks = [100, 150, 200, 250, 300, 350, 400]\n",
        "k_names = [\"fm_k{}\".format(k) for k in ks]\n",
        "\n",
        "for k, k_name in zip(ks, k_names):\n",
        "  args = FMArgs(len(train_df), linear_reg=0.1, factors_reg=0.03, num_dims=k)\n",
        "  fm = fit_fm_args(TfFM, args, k_name, train_df, val_query_df, val_df,\n",
        "                   load=load)\n",
        "  eval_fm(fm, k_name, val_query_df, val_df, filter_user_tracks=True,\n",
        "          silent=True)"
      ],
      "execution_count": 0,
      "outputs": []
    },
    {
      "cell_type": "code",
      "metadata": {
        "id": "H320f-OowFW1",
        "colab_type": "code",
        "outputId": "29c5325c-5216-473b-c770-6785231d80be",
        "colab": {
          "base_uri": "https://localhost:8080/",
          "height": 241
        }
      },
      "source": [
        "plt.figure(figsize=(6, 3))\n",
        "\n",
        "k_ndcgs = [fm_evals[k_name][\"ndcg\"] for k_name in [\"fm_freg0.03\"] + k_names]\n",
        "plt.plot([50] + ks, k_ndcgs, \"o--\", color=\"red\")\n",
        "plt.xticks([50] + ks)\n",
        "plt.ylim(bottom=0.05, top=0.08)\n",
        "plt.grid(True, axis=\"y\")\n",
        "\n",
        "plt.ylabel(\"NDCG\")\n",
        "plt.xlabel(\"k\")\n",
        "plt.title(\"AOTM-2011\");"
      ],
      "execution_count": 0,
      "outputs": [
        {
          "output_type": "display_data",
          "data": {
            "image/png": "[encoded data removed]",
            "text/plain": [
              "<Figure size 432x216 with 1 Axes>"
            ]
          },
          "metadata": {
            "tags": []
          }
        }
      ]
    },
    {
      "cell_type": "code",
      "metadata": {
        "id": "UG25ixGUwKdZ",
        "colab_type": "code",
        "outputId": "91bec40b-944f-41b7-b06c-5beb7ad29183",
        "colab": {
          "base_uri": "https://localhost:8080/",
          "height": 111
        }
      },
      "source": [
        "k_hit_rates = [fm_evals[k_name][\"hit_rate\"] for k_name\n",
        "               in [\"fm_freg0.03\"] + k_names]\n",
        "pd.DataFrame.from_records([k_ndcgs, k_hit_rates], columns=[50] + ks,\n",
        "                          index=[\"NDCG\", \"Hit rate\"])"
      ],
      "execution_count": 0,
      "outputs": [
        {
          "output_type": "execute_result",
          "data": {
            "text/html": [
              "<div>\n",
              "<style scoped>\n",
              "    .dataframe tbody tr th:only-of-type {\n",
              "        vertical-align: middle;\n",
              "    }\n",
              "\n",
              "    .dataframe tbody tr th {\n",
              "        vertical-align: top;\n",
              "    }\n",
              "\n",
              "    .dataframe thead th {\n",
              "        text-align: right;\n",
              "    }\n",
              "</style>\n",
              "<table border=\"1\" class=\"dataframe\">\n",
              "  <thead>\n",
              "    <tr style=\"text-align: right;\">\n",
              "      <th></th>\n",
              "      <th>50</th>\n",
              "      <th>100</th>\n",
              "      <th>150</th>\n",
              "      <th>200</th>\n",
              "      <th>250</th>\n",
              "      <th>300</th>\n",
              "      <th>350</th>\n",
              "      <th>400</th>\n",
              "    </tr>\n",
              "  </thead>\n",
              "  <tbody>\n",
              "    <tr>\n",
              "      <th>NDCG</th>\n",
              "      <td>0.061557</td>\n",
              "      <td>0.066248</td>\n",
              "      <td>0.068189</td>\n",
              "      <td>0.070311</td>\n",
              "      <td>0.069013</td>\n",
              "      <td>0.071146</td>\n",
              "      <td>0.069467</td>\n",
              "      <td>0.069552</td>\n",
              "    </tr>\n",
              "    <tr>\n",
              "      <th>Hit rate</th>\n",
              "      <td>0.005000</td>\n",
              "      <td>0.007000</td>\n",
              "      <td>0.007000</td>\n",
              "      <td>0.010000</td>\n",
              "      <td>0.008000</td>\n",
              "      <td>0.010000</td>\n",
              "      <td>0.009000</td>\n",
              "      <td>0.011000</td>\n",
              "    </tr>\n",
              "  </tbody>\n",
              "</table>\n",
              "</div>"
            ],
            "text/plain": [
              "               50        100       150  ...       300       350       400\n",
              "NDCG      0.061557  0.066248  0.068189  ...  0.071146  0.069467  0.069552\n",
              "Hit rate  0.005000  0.007000  0.007000  ...  0.010000  0.009000  0.011000\n",
              "\n",
              "[2 rows x 8 columns]"
            ]
          },
          "metadata": {
            "tags": []
          },
          "execution_count": 58
        }
      ]
    },
    {
      "cell_type": "code",
      "metadata": {
        "id": "iXbR8LoJwO0O",
        "colab_type": "code",
        "outputId": "4f9e3429-61d7-4e3e-da24-b6ec70673e03",
        "colab": {
          "base_uri": "https://localhost:8080/",
          "height": 281
        }
      },
      "source": [
        "k_times = [fm_fits[k_name][\"fit_time\"] for k_name in [\"fm_freg0.03\"] + k_names]\n",
        "plt.plot([50] + ks, k_times, \"o--\")\n",
        "plt.xticks([50] + ks)\n",
        "plt.ylim(bottom=0.0)\n",
        "\n",
        "plt.title(\"Training times (s) per k\");"
      ],
      "execution_count": 0,
      "outputs": [
        {
          "output_type": "display_data",
          "data": {
            "image/png": "[encoded data removed]",
            "text/plain": [
              "<Figure size 432x288 with 1 Axes>"
            ]
          },
          "metadata": {
            "tags": []
          }
        }
      ]
    },
    {
      "cell_type": "code",
      "metadata": {
        "id": "JomSD9kpwUhT",
        "colab_type": "code",
        "outputId": "78758ba3-f50a-478a-ab9c-46bb6b6a728e",
        "colab": {
          "base_uri": "https://localhost:8080/",
          "height": 281
        }
      },
      "source": [
        "plot_fm_fit(\"fm_k150\")"
      ],
      "execution_count": 0,
      "outputs": [
        {
          "output_type": "display_data",
          "data": {
            "image/png": "[encoded data removed]",
            "text/plain": [
              "<Figure size 864x288 with 3 Axes>"
            ]
          },
          "metadata": {
            "tags": []
          }
        }
      ]
    },
    {
      "cell_type": "markdown",
      "metadata": {
        "id": "eZacZaCPoLdR",
        "colab_type": "text"
      },
      "source": [
        "**Learning rate**"
      ]
    },
    {
      "cell_type": "markdown",
      "metadata": {
        "id": "FmWm7Aw6XbvQ",
        "colab_type": "text"
      },
      "source": [
        "We try increasing the learning rate to see if this leads to improvements. It does not."
      ]
    },
    {
      "cell_type": "code",
      "metadata": {
        "id": "ar9h04qowagh",
        "colab_type": "code",
        "outputId": "3bbf2e2d-a2a3-46ec-c546-7226c959e09d",
        "colab": {
          "base_uri": "https://localhost:8080/",
          "height": 216
        }
      },
      "source": [
        "lrs = [0.3, 0.6]\n",
        "lr_names = [\"fm_lr{}\".format(lr) for lr in lrs]\n",
        "\n",
        "for lr, lr_name in zip(lrs, lr_names):\n",
        "  args = FMArgs(len(train_df), linear_reg=0.1, factors_reg=0.03,\n",
        "                num_dims=150, lr=lr)\n",
        "  fm = fit_fm_args(TfFM, args, lr_name, train_df, val_query_df, val_df,\n",
        "                   load=load)\n",
        "  eval_fm(fm, lr_name, val_query_df, val_df, filter_user_tracks=True)"
      ],
      "execution_count": 0,
      "outputs": [
        {
          "output_type": "stream",
          "text": [
            "INFO:tensorflow:Restoring parameters from /drive/My Drive/models/aotm-2011/fm_lr0.3.ckpt\n",
            "0.011000 hit rate\n",
            "0.071564 ndcg\n",
            "\n",
            "441.05170s fit time\n",
            "23.68284s trans time\n",
            "INFO:tensorflow:Restoring parameters from /drive/My Drive/models/aotm-2011/fm_lr0.6.ckpt\n",
            "0.007000 hit rate\n",
            "0.068613 ndcg\n",
            "\n",
            "446.38037s fit time\n",
            "23.47231s trans time\n"
          ],
          "name": "stdout"
        }
      ]
    },
    {
      "cell_type": "markdown",
      "metadata": {
        "id": "LuFMHGPGfr7A",
        "colab_type": "text"
      },
      "source": [
        "#### Sampling"
      ]
    },
    {
      "cell_type": "markdown",
      "metadata": {
        "id": "lNMh1rsRXzSQ",
        "colab_type": "text"
      },
      "source": [
        "Next, we evaluate the different sampling methods."
      ]
    },
    {
      "cell_type": "markdown",
      "metadata": {
        "id": "qYttoQWjX7xT",
        "colab_type": "text"
      },
      "source": [
        "We begin with cross-batch BPR loss.\n",
        "\n",
        "As this requires a lower batch size of *4096*, it will also be compared against normal BPR with a batch size of *4096*. For the lower batch size the regularization rates also have to be adjusted. The linear regularization rate is lowered from *0.1* to *0.03* and the factors regularization rate is lowered from *0.03* to *0.01*."
      ]
    },
    {
      "cell_type": "code",
      "metadata": {
        "id": "xpurraJXeoJR",
        "colab_type": "code",
        "outputId": "b1650de0-aa61-4d5e-be65-55d0096ff6b7",
        "colab": {
          "base_uri": "https://localhost:8080/",
          "height": 341
        }
      },
      "source": [
        "args = FMArgs(len(train_df), linear_reg=0.03, factors_reg=0.01, num_dims=150,\n",
        "              batch_size=4096, lr=0.1)\n",
        "\n",
        "args_epochs = [100, 250, 500, 1000]\n",
        "args_names = [\"fm_b4096_e{}\".format(args_epoch) for args_epoch\n",
        "              in args_epochs]\n",
        "\n",
        "fms = fit_fm_args_epochs(TfFM, args, args_names, args_epochs, train_df,\n",
        "                         val_query_df, val_df, load=load,\n",
        "                         sampler_fn=accepted_uniform_sampler,\n",
        "                         val_sampler_fn=accepted_uniform_sampler)\n",
        "\n",
        "for fm, args_name in zip(fms, args_names):\n",
        "  eval_fm(fm, args_name, val_query_df, val_df, filter_user_tracks=True)"
      ],
      "execution_count": 0,
      "outputs": [
        {
          "output_type": "stream",
          "text": [
            "INFO:tensorflow:Restoring parameters from /drive/My Drive/models/aotm-2011/fm_b4096_e100.ckpt\n",
            "0.004000 hit rate\n",
            "0.058254 ndcg\n",
            "17.68883s trans time\n",
            "INFO:tensorflow:Restoring parameters from /drive/My Drive/models/aotm-2011/fm_b4096_e250.ckpt\n",
            "0.012000 hit rate\n",
            "0.069419 ndcg\n",
            "17.21986s trans time\n",
            "INFO:tensorflow:Restoring parameters from /drive/My Drive/models/aotm-2011/fm_b4096_e500.ckpt\n",
            "0.015000 hit rate\n",
            "0.071993 ndcg\n",
            "17.31549s trans time\n",
            "INFO:tensorflow:Restoring parameters from /drive/My Drive/models/aotm-2011/fm_b4096_e1000.ckpt\n",
            "0.013000 hit rate\n",
            "0.076067 ndcg\n",
            "\n",
            "1940.53610s fit time\n",
            "17.56521s trans time\n"
          ],
          "name": "stdout"
        }
      ]
    },
    {
      "cell_type": "code",
      "metadata": {
        "id": "8ML78te14yVj",
        "colab_type": "code",
        "outputId": "74f9e8a4-3ee6-4408-e545-d0b83e6c4759",
        "colab": {
          "base_uri": "https://localhost:8080/",
          "height": 341
        }
      },
      "source": [
        "args = FMArgs(len(train_df), linear_reg=0.03, factors_reg=0.01, num_dims=150,\n",
        "              batch_size=4096, lr=1.0)\n",
        "\n",
        "args_epochs = [100, 250, 500, 1000]\n",
        "args_names = [\"fm_b4096_lr1.0_e{}\".format(args_epoch) for args_epoch\n",
        "              in args_epochs]\n",
        "\n",
        "fms = fit_fm_args_epochs(TfFM, args, args_names, args_epochs, train_df,\n",
        "                         val_query_df, val_df, load=load,\n",
        "                         sampler_fn=accepted_uniform_sampler,\n",
        "                         val_sampler_fn=accepted_uniform_sampler)\n",
        "\n",
        "for fm, args_name in zip(fms, args_names):\n",
        "  eval_fm(fm, args_name, val_query_df, val_df, filter_user_tracks=True)"
      ],
      "execution_count": 0,
      "outputs": [
        {
          "output_type": "stream",
          "text": [
            "INFO:tensorflow:Restoring parameters from /drive/My Drive/models/aotm-2011/fm_b4096_lr1.0_e100.ckpt\n",
            "0.000000 hit rate\n",
            "0.011659 ndcg\n",
            "24.38778s trans time\n",
            "INFO:tensorflow:Restoring parameters from /drive/My Drive/models/aotm-2011/fm_b4096_lr1.0_e250.ckpt\n",
            "0.000000 hit rate\n",
            "0.012780 ndcg\n",
            "25.30577s trans time\n",
            "INFO:tensorflow:Restoring parameters from /drive/My Drive/models/aotm-2011/fm_b4096_lr1.0_e500.ckpt\n",
            "0.001000 hit rate\n",
            "0.014072 ndcg\n",
            "24.55501s trans time\n",
            "INFO:tensorflow:Restoring parameters from /drive/My Drive/models/aotm-2011/fm_b4096_lr1.0_e1000.ckpt\n",
            "0.002000 hit rate\n",
            "0.014850 ndcg\n",
            "\n",
            "1923.44399s fit time\n",
            "25.07554s trans time\n"
          ],
          "name": "stdout"
        }
      ]
    },
    {
      "cell_type": "code",
      "metadata": {
        "id": "UHmLGfNTpO33",
        "colab_type": "code",
        "outputId": "0666244b-b172-4357-abee-5273416c76ff",
        "colab": {
          "base_uri": "https://localhost:8080/",
          "height": 341
        }
      },
      "source": [
        "args = FMArgs(len(train_df), num_dims=150, batch_size=4096,\n",
        "              linear_reg=0.03, factors_reg=0.01)\n",
        "\n",
        "args_epochs = [100, 250, 500, 1000]\n",
        "args_names = [\"fm_b4096_aes_e{}\".format(args_epoch) for args_epoch\n",
        "              in args_epochs]\n",
        "\n",
        "fms = fit_fm_args_epochs(TfFM, args, args_names, args_epochs, train_df,\n",
        "                         val_query_df, val_df, load=load,\n",
        "                         sampler_fn=accepted_exp_sampler,\n",
        "                         val_sampler_fn=accepted_uniform_sampler)\n",
        "\n",
        "for fm, args_name in zip(fms, args_names):\n",
        "  eval_fm(fm, args_name, val_query_df, val_df, filter_user_tracks=True)"
      ],
      "execution_count": 0,
      "outputs": [
        {
          "output_type": "stream",
          "text": [
            "INFO:tensorflow:Restoring parameters from /drive/My Drive/models/aotm-2011/fm_b4096_aes_e100.ckpt\n",
            "0.007000 hit rate\n",
            "0.062052 ndcg\n",
            "23.27485s trans time\n",
            "INFO:tensorflow:Restoring parameters from /drive/My Drive/models/aotm-2011/fm_b4096_aes_e250.ckpt\n",
            "0.008000 hit rate\n",
            "0.068795 ndcg\n",
            "22.99018s trans time\n",
            "INFO:tensorflow:Restoring parameters from /drive/My Drive/models/aotm-2011/fm_b4096_aes_e500.ckpt\n",
            "0.012000 hit rate\n",
            "0.073804 ndcg\n",
            "24.88223s trans time\n",
            "INFO:tensorflow:Restoring parameters from /drive/My Drive/models/aotm-2011/fm_b4096_aes_e1000.ckpt\n",
            "0.012000 hit rate\n",
            "0.077331 ndcg\n",
            "\n",
            "2001.61546s fit time\n",
            "23.83913s trans time\n"
          ],
          "name": "stdout"
        }
      ]
    },
    {
      "cell_type": "code",
      "metadata": {
        "id": "FL2Y0kjixkdT",
        "colab_type": "code",
        "outputId": "f8526c8f-5bef-467f-c2cc-3df71feb681e",
        "colab": {
          "base_uri": "https://localhost:8080/",
          "height": 341
        }
      },
      "source": [
        "args = FMArgs(len(train_df), linear_reg=0.03, factors_reg=0.01, num_dims=150,\n",
        "              batch_size=4096, lr=0.1)\n",
        "\n",
        "args_epochs = [100, 250, 500, 1000]\n",
        "args_names = [\"bfm_e{}_lr0.1\".format(args_epoch) for args_epoch in args_epochs]\n",
        "\n",
        "fms = fit_fm_args_epochs(TfBatchFM, args, args_names, args_epochs, train_df,\n",
        "                         val_query_df, val_df, load=load,\n",
        "                         sampler_fn=accepted_crossbatch_sampler,\n",
        "                         val_sampler_fn=accepted_crossbatch_sampler)\n",
        "\n",
        "for fm, args_name in zip(fms, args_names):\n",
        "  eval_fm(fm, args_name, val_query_df, val_df, filter_user_tracks=True)"
      ],
      "execution_count": 0,
      "outputs": [
        {
          "output_type": "stream",
          "text": [
            "INFO:tensorflow:Restoring parameters from /drive/My Drive/models/aotm-2011/bfm_e100_lr0.1.ckpt\n",
            "0.008000 hit rate\n",
            "0.063280 ndcg\n",
            "16.02481s trans time\n",
            "INFO:tensorflow:Restoring parameters from /drive/My Drive/models/aotm-2011/bfm_e250_lr0.1.ckpt\n",
            "0.011000 hit rate\n",
            "0.071409 ndcg\n",
            "20.05725s trans time\n",
            "INFO:tensorflow:Restoring parameters from /drive/My Drive/models/aotm-2011/bfm_e500_lr0.1.ckpt\n",
            "0.012000 hit rate\n",
            "0.074002 ndcg\n",
            "21.38830s trans time\n",
            "INFO:tensorflow:Restoring parameters from /drive/My Drive/models/aotm-2011/bfm_e1000_lr0.1.ckpt\n",
            "0.012000 hit rate\n",
            "0.076861 ndcg\n",
            "\n",
            "5802.32877s fit time\n",
            "20.94397s trans time\n"
          ],
          "name": "stdout"
        }
      ]
    },
    {
      "cell_type": "code",
      "metadata": {
        "id": "C7aSbek9HZo2",
        "colab_type": "code",
        "outputId": "39c5c14c-53a7-4ffc-90f1-1e7153b80485",
        "colab": {
          "base_uri": "https://localhost:8080/",
          "height": 341
        }
      },
      "source": [
        "args = FMArgs(len(train_df), linear_reg=0.03, factors_reg=0.01, num_dims=150,\n",
        "              batch_size=4096, lr=1.0)\n",
        "\n",
        "args_epochs = [100, 250, 500, 1000]\n",
        "args_names = [\"bfm_e{}_lr1.0\".format(args_epoch) for args_epoch in args_epochs]\n",
        "\n",
        "fms = fit_fm_args_epochs(TfBatchFM, args, args_names, args_epochs, train_df,\n",
        "                         val_query_df, val_df, load=load,\n",
        "                         sampler_fn=accepted_crossbatch_sampler,\n",
        "                         val_sampler_fn=accepted_crossbatch_sampler)\n",
        "\n",
        "for fm, args_name in zip(fms, args_names):\n",
        "  eval_fm(fm, args_name, val_query_df, val_df, filter_user_tracks=True)"
      ],
      "execution_count": 0,
      "outputs": [
        {
          "output_type": "stream",
          "text": [
            "INFO:tensorflow:Restoring parameters from /drive/My Drive/models/aotm-2011/bfm_e100_lr1.0.ckpt\n",
            "0.014000 hit rate\n",
            "0.073487 ndcg\n",
            "19.08586s trans time\n",
            "INFO:tensorflow:Restoring parameters from /drive/My Drive/models/aotm-2011/bfm_e250_lr1.0.ckpt\n",
            "0.013000 hit rate\n",
            "0.076667 ndcg\n",
            "19.23572s trans time\n",
            "INFO:tensorflow:Restoring parameters from /drive/My Drive/models/aotm-2011/bfm_e500_lr1.0.ckpt\n",
            "0.015000 hit rate\n",
            "0.079642 ndcg\n",
            "19.94491s trans time\n",
            "INFO:tensorflow:Restoring parameters from /drive/My Drive/models/aotm-2011/bfm_e1000_lr1.0.ckpt\n",
            "0.010000 hit rate\n",
            "0.078000 ndcg\n",
            "\n",
            "5824.21546s fit time\n",
            "19.02542s trans time\n"
          ],
          "name": "stdout"
        }
      ]
    },
    {
      "cell_type": "code",
      "metadata": {
        "id": "gjz8YLRONP7s",
        "colab_type": "code",
        "outputId": "938cb7f2-9133-4acc-8451-386c280817af",
        "colab": {
          "base_uri": "https://localhost:8080/",
          "height": 308
        }
      },
      "source": [
        "fm_names = [\"fm_b4096_e{}\".format(args_epoch) for args_epoch in args_epochs]\n",
        "fm_ndcgs = [fm_evals[fm_name][\"ndcg\"] for fm_name in fm_names]\n",
        "\n",
        "fm1_names = [\"fm_b4096_lr1.0_e{}\".format(args_epoch) for args_epoch in args_epochs]\n",
        "fm1_ndcgs = [fm_evals[fm_name][\"ndcg\"] for fm_name in fm1_names]\n",
        "\n",
        "fm_aes_names = [\"fm_b4096_aes_e{}\".format(args_epoch) for args_epoch in args_epochs]\n",
        "fm_aes_ndcgs = [fm_evals[fm_name][\"ndcg\"] for fm_name in fm_aes_names]\n",
        "\n",
        "bfm_names = [\"bfm_e{}_lr0.1\".format(args_epoch) for args_epoch in args_epochs]\n",
        "bfm_ndcgs = [fm_evals[bfm_name][\"ndcg\"] for bfm_name in bfm_names]\n",
        "\n",
        "bfm1_names = [\"bfm_e{}_lr1.0\".format(args_epoch) for args_epoch in args_epochs]\n",
        "bfm1_ndcgs = [fm_evals[bfm_name][\"ndcg\"] for bfm_name in bfm1_names]\n",
        "\n",
        "\n",
        "plt.figure(figsize=(6*2, 4))\n",
        "plt.suptitle(\"AOTM-2011\")\n",
        "\n",
        "plt.subplot(1, 2, 1)\n",
        "\n",
        "plt.plot(args_epochs, fm_ndcgs, \"o--\", color=\"yellow\")\n",
        "plt.plot(args_epochs, fm1_ndcgs, \"o--\", color=\"orange\")\n",
        "plt.plot(args_epochs, fm_aes_ndcgs, \"o--\", color=\"green\")\n",
        "plt.plot(args_epochs, bfm_ndcgs, \"o--\", color=\"red\")\n",
        "plt.plot(args_epochs, bfm1_ndcgs, \"o--\", color=\"darkred\")\n",
        "plt.xticks(args_epochs)\n",
        "plt.ylim(bottom=0.05, top=0.09)\n",
        "\n",
        "plt.grid(True, axis=\"y\")\n",
        "plt.ylabel(\"NDCG\")\n",
        "plt.xlabel(\"epochs\")\n",
        "\n",
        "fm_aucs = fm_fits[\"fm_b4096_e1000\"][\"val_aucs\"]\n",
        "fm1_aucs = fm_fits[\"fm_b4096_lr1.0_e1000\"][\"val_aucs\"]\n",
        "\n",
        "fm_aes_aucs = fm_fits[\"fm_b4096_aes_e1000\"][\"val_aucs\"]\n",
        "\n",
        "bfm_aucs = fm_fits[\"bfm_e1000_lr0.1\"][\"val_aucs\"]\n",
        "bfm1_aucs = fm_fits[\"bfm_e1000_lr1.0\"][\"val_aucs\"]\n",
        "\n",
        "val_epochs = [i * args.eval_freq for i in range(len(fm_aucs))]\n",
        "\n",
        "plt.subplot(1, 2, 2)\n",
        "\n",
        "plt.grid(True, axis=\"y\")\n",
        "plt.plot(val_epochs, fm_aucs, color=\"yellow\")\n",
        "plt.plot(val_epochs, fm1_aucs, color=\"orange\")\n",
        "plt.plot(val_epochs, fm_aes_aucs, color=\"green\")\n",
        "plt.plot(val_epochs, bfm_aucs, color=\"red\")\n",
        "plt.plot(val_epochs, bfm1_aucs, color=\"darkred\")\n",
        "plt.ylim(bottom=0.75, top=1.0)\n",
        "\n",
        "green_patch = mpatches.Patch(color=\"green\", label=\"FM, exp sampling, lr 0.1\")\n",
        "yellow_patch = mpatches.Patch(color=\"yellow\", label=\"FM, lr 0.1\")\n",
        "orange_patch = mpatches.Patch(color=\"orange\", label=\"FM, lr 1.0\")\n",
        "red_patch = mpatches.Patch(color=\"red\", label=\"FM, cross-batch, lr 0.1\")\n",
        "dred_patch = mpatches.Patch(color=\"darkred\", label=\"FM, cross-batch, lr 1.0\")\n",
        "patches = [dred_patch, red_patch, green_patch, orange_patch, yellow_patch]\n",
        "plt.legend(handles=patches)\n",
        "\n",
        "plt.ylabel(\"AUC\")\n",
        "plt.xlabel(\"epochs\");"
      ],
      "execution_count": 0,
      "outputs": [
        {
          "output_type": "display_data",
          "data": {
            "image/png": "[encoded data removed]",
            "text/plain": [
              "<Figure size 864x288 with 2 Axes>"
            ]
          },
          "metadata": {
            "tags": []
          }
        }
      ]
    },
    {
      "cell_type": "code",
      "metadata": {
        "id": "2elZBGAJBoVc",
        "colab_type": "code",
        "outputId": "c7c38657-43fa-453d-dba7-ff52933d3595",
        "colab": {
          "base_uri": "https://localhost:8080/",
          "height": 77
        }
      },
      "source": [
        "args_labels = [\"FM, lr 0.1\", \"FM, lr 1.0\",\n",
        "               \"FM, cross-batch, lr 0.1\", \"FM, cross-batch, lr 1.0\"]\n",
        "args_names = [\"fm_b4096_e1000\", \"fm_b4096_lr1.0_e1000\",\n",
        "              \"bfm_e1000_lr0.1\", \"bfm_e1000_lr1.0\"]\n",
        "fit_times = [fm_fits[args_name][\"fit_time\"] for args_name in args_names]\n",
        "\n",
        "pd.DataFrame.from_records([fit_times], columns=args_labels, index=[\"Fit times\"])"
      ],
      "execution_count": 0,
      "outputs": [
        {
          "output_type": "execute_result",
          "data": {
            "text/html": [
              "<div>\n",
              "<style scoped>\n",
              "    .dataframe tbody tr th:only-of-type {\n",
              "        vertical-align: middle;\n",
              "    }\n",
              "\n",
              "    .dataframe tbody tr th {\n",
              "        vertical-align: top;\n",
              "    }\n",
              "\n",
              "    .dataframe thead th {\n",
              "        text-align: right;\n",
              "    }\n",
              "</style>\n",
              "<table border=\"1\" class=\"dataframe\">\n",
              "  <thead>\n",
              "    <tr style=\"text-align: right;\">\n",
              "      <th></th>\n",
              "      <th>FM, lr 0.1</th>\n",
              "      <th>FM, lr 1.0</th>\n",
              "      <th>FM, cross-batch, lr 0.1</th>\n",
              "      <th>FM, cross-batch, lr 1.0</th>\n",
              "    </tr>\n",
              "  </thead>\n",
              "  <tbody>\n",
              "    <tr>\n",
              "      <th>Fit times</th>\n",
              "      <td>1482.603974</td>\n",
              "      <td>1472.59813</td>\n",
              "      <td>4866.022604</td>\n",
              "      <td>4819.809624</td>\n",
              "    </tr>\n",
              "  </tbody>\n",
              "</table>\n",
              "</div>"
            ],
            "text/plain": [
              "            FM, lr 0.1  ...  FM, cross-batch, lr 1.0\n",
              "Fit times  1482.603974  ...              4819.809624\n",
              "\n",
              "[1 rows x 4 columns]"
            ]
          },
          "metadata": {
            "tags": []
          },
          "execution_count": 65
        }
      ]
    },
    {
      "cell_type": "markdown",
      "metadata": {
        "id": "jXQyZcWsbEVq",
        "colab_type": "text"
      },
      "source": [
        "One can see that cross-batch BPR with a high learning rate leads to a faster training convergence. It requires only about a tenth of the epochs for the same NDCG but requires only four times as much time per epoch in our specific TensorFlow implementation."
      ]
    },
    {
      "cell_type": "markdown",
      "metadata": {
        "id": "1YlRIgo5Y4jP",
        "colab_type": "text"
      },
      "source": [
        "Next are the different normal sampling methods."
      ]
    },
    {
      "cell_type": "code",
      "metadata": {
        "id": "cjGjCSC8lRX5",
        "colab_type": "code",
        "colab": {}
      },
      "source": [
        "sampler_names = [\"us\", \"aus\", \"alus\", \"aaus\",\n",
        "                 \"es\", \"aes\", \"ales\", \"aaes\",\n",
        "                 \"is\", \"ais\", \"alis\", \"aais\"]\n",
        "sampler_names = [\"fm_{}\".format(name) for name in sampler_names]\n",
        "sampler_fns = [uniform_sampler, accepted_uniform_sampler, accepted_album_uniform_sampler, accepted_artist_uniform_sampler,\n",
        "               exp_sampler, accepted_exp_sampler, accepted_album_exp_sampler, accepted_artist_exp_sampler,\n",
        "               instance_sampler, accepted_instance_sampler, accepted_album_instance_sampler, accepted_artist_instance_sampler]\n",
        "\n",
        "args = FMArgs(len(train_df), linear_reg=0.1, factors_reg=0.03, num_dims=150)\n",
        "\n",
        "for sampler_name, sampler_fn in zip(sampler_names, sampler_fns):\n",
        "  fm = fit_fm_args(TfFM, args, sampler_name, train_df, val_query_df, val_df,\n",
        "                   load=load, sampler_fn=sampler_fn,\n",
        "                   val_sampler_fn=accepted_uniform_sampler)\n",
        "  eval_fm(fm, sampler_name, val_query_df, val_df, filter_user_tracks=True,\n",
        "          silent=True)"
      ],
      "execution_count": 0,
      "outputs": []
    },
    {
      "cell_type": "code",
      "metadata": {
        "id": "TQ1I1VhAFaJL",
        "colab_type": "code",
        "outputId": "4a553e66-1d2b-4eb2-fbbf-c9f78b817e37",
        "colab": {
          "base_uri": "https://localhost:8080/",
          "height": 137
        }
      },
      "source": [
        "cols = [\"all\", \"track\", \"album\", \"artist\"]\n",
        "index = [\"uniform\", \"exp\", \"instance\"]\n",
        "rows = np.array([fm_evals[sampler_name][\"ndcg\"] for sampler_name\n",
        "                 in sampler_names])\n",
        "rows = rows.reshape((-1, len(cols)))\n",
        "pd.DataFrame.from_records(rows, columns=cols, index=index)"
      ],
      "execution_count": 0,
      "outputs": [
        {
          "output_type": "execute_result",
          "data": {
            "text/html": [
              "<div>\n",
              "<style scoped>\n",
              "    .dataframe tbody tr th:only-of-type {\n",
              "        vertical-align: middle;\n",
              "    }\n",
              "\n",
              "    .dataframe tbody tr th {\n",
              "        vertical-align: top;\n",
              "    }\n",
              "\n",
              "    .dataframe thead th {\n",
              "        text-align: right;\n",
              "    }\n",
              "</style>\n",
              "<table border=\"1\" class=\"dataframe\">\n",
              "  <thead>\n",
              "    <tr style=\"text-align: right;\">\n",
              "      <th></th>\n",
              "      <th>all</th>\n",
              "      <th>track</th>\n",
              "      <th>album</th>\n",
              "      <th>artist</th>\n",
              "    </tr>\n",
              "  </thead>\n",
              "  <tbody>\n",
              "    <tr>\n",
              "      <th>uniform</th>\n",
              "      <td>0.067631</td>\n",
              "      <td>0.068877</td>\n",
              "      <td>0.068904</td>\n",
              "      <td>0.068288</td>\n",
              "    </tr>\n",
              "    <tr>\n",
              "      <th>exp</th>\n",
              "      <td>0.070010</td>\n",
              "      <td>0.070308</td>\n",
              "      <td>0.073002</td>\n",
              "      <td>0.071870</td>\n",
              "    </tr>\n",
              "    <tr>\n",
              "      <th>instance</th>\n",
              "      <td>0.060083</td>\n",
              "      <td>0.061385</td>\n",
              "      <td>0.062533</td>\n",
              "      <td>0.061446</td>\n",
              "    </tr>\n",
              "  </tbody>\n",
              "</table>\n",
              "</div>"
            ],
            "text/plain": [
              "               all     track     album    artist\n",
              "uniform   0.067631  0.068877  0.068904  0.068288\n",
              "exp       0.070010  0.070308  0.073002  0.071870\n",
              "instance  0.060083  0.061385  0.062533  0.061446"
            ]
          },
          "metadata": {
            "tags": []
          },
          "execution_count": 59
        }
      ]
    },
    {
      "cell_type": "code",
      "metadata": {
        "id": "VUyEokQxH-fD",
        "colab_type": "code",
        "colab": {}
      },
      "source": [
        "args = FMArgs(len(train_df), linear_reg=0.03, factors_reg=0.01, num_dims=150,\n",
        "              batch_size=4096, lr=1.0, epochs=100)\n",
        "\n",
        "fm = fit_fm_args(TfBatchFM, args, \"bfm_us\", train_df, val_query_df,\n",
        "                 val_df, load=load)\n",
        "\n",
        "eval_fm(fm, \"bfm_us\", val_query_df, val_df, filter_user_tracks=True);"
      ],
      "execution_count": 0,
      "outputs": []
    },
    {
      "cell_type": "code",
      "metadata": {
        "id": "aBkDM4mmBQsg",
        "colab_type": "code",
        "colab": {}
      },
      "source": [
        "args = FMArgs(len(train_df), linear_reg=0.03, factors_reg=0.01, num_dims=150,\n",
        "              batch_size=4096, lr=1.0, epochs=100)\n",
        "\n",
        "fm = fit_fm_args(TfBatchFM, args, \"bfm_aas\", train_df, val_query_df,\n",
        "                 val_df, load=load,\n",
        "                 sampler_fn=accepted_artist_crossbatch_sampler,\n",
        "                 val_sampler_fn=accepted_crossbatch_sampler)\n",
        "\n",
        "eval_fm(fm, \"bfm_aas\", val_query_df, val_df, filter_user_tracks=True,\n",
        "        silent=True);"
      ],
      "execution_count": 0,
      "outputs": []
    },
    {
      "cell_type": "code",
      "metadata": {
        "id": "jDN6hQ-QETX-",
        "colab_type": "code",
        "colab": {}
      },
      "source": [
        "args = FMArgs(len(train_df), linear_reg=0.03, factors_reg=0.01, num_dims=150,\n",
        "              batch_size=4096, lr=1.0, epochs=100)\n",
        "\n",
        "fm = fit_fm_args(TfBatchFM, args, \"bfm_als\", train_df, val_query_df,\n",
        "                 val_df, load=load,\n",
        "                 sampler_fn=accepted_album_crossbatch_sampler,\n",
        "                 val_sampler_fn=accepted_crossbatch_sampler)\n",
        "\n",
        "eval_fm(fm, \"bfm_als\", val_query_df, val_df, filter_user_tracks=True);"
      ],
      "execution_count": 0,
      "outputs": []
    },
    {
      "cell_type": "code",
      "metadata": {
        "id": "EM_0rrtTNy40",
        "colab_type": "code",
        "outputId": "6c3d1f34-3a7b-408f-81bf-90f92ba20a9f",
        "colab": {
          "base_uri": "https://localhost:8080/",
          "height": 80
        }
      },
      "source": [
        "cols = [\"all\", \"track\", \"album\", \"artist\"]\n",
        "index = [\"cross-batch\"]\n",
        "rows = np.array([fm_evals[sampler_name][\"ndcg\"] for sampler_name\n",
        "                 in [\"bfm_us\", \"bfm_e100_lr1.0\", \"bfm_als\", \"bfm_aas\"]])\n",
        "rows = rows.reshape((-1, len(cols)))\n",
        "pd.DataFrame.from_records(rows, columns=cols, index=index)"
      ],
      "execution_count": 0,
      "outputs": [
        {
          "output_type": "execute_result",
          "data": {
            "text/html": [
              "<div>\n",
              "<style scoped>\n",
              "    .dataframe tbody tr th:only-of-type {\n",
              "        vertical-align: middle;\n",
              "    }\n",
              "\n",
              "    .dataframe tbody tr th {\n",
              "        vertical-align: top;\n",
              "    }\n",
              "\n",
              "    .dataframe thead th {\n",
              "        text-align: right;\n",
              "    }\n",
              "</style>\n",
              "<table border=\"1\" class=\"dataframe\">\n",
              "  <thead>\n",
              "    <tr style=\"text-align: right;\">\n",
              "      <th></th>\n",
              "      <th>all</th>\n",
              "      <th>track</th>\n",
              "      <th>album</th>\n",
              "      <th>artist</th>\n",
              "    </tr>\n",
              "  </thead>\n",
              "  <tbody>\n",
              "    <tr>\n",
              "      <th>cross-batch</th>\n",
              "      <td>0.073129</td>\n",
              "      <td>0.073487</td>\n",
              "      <td>0.071985</td>\n",
              "      <td>0.073346</td>\n",
              "    </tr>\n",
              "  </tbody>\n",
              "</table>\n",
              "</div>"
            ],
            "text/plain": [
              "                  all     track     album    artist\n",
              "cross-batch  0.073129  0.073487  0.071985  0.073346"
            ]
          },
          "metadata": {
            "tags": []
          },
          "execution_count": 84
        }
      ]
    },
    {
      "cell_type": "markdown",
      "metadata": {
        "id": "kUuuB5Uj3x5o",
        "colab_type": "text"
      },
      "source": [
        "#### Features"
      ]
    },
    {
      "cell_type": "markdown",
      "metadata": {
        "id": "qwMbkk0yLgPq",
        "colab_type": "text"
      },
      "source": [
        "We will now evaluate different features."
      ]
    },
    {
      "cell_type": "code",
      "metadata": {
        "id": "jEdQWZmNjvtC",
        "colab_type": "code",
        "outputId": "1ab545cf-aa2b-4111-98e6-96e3d3d1e83d",
        "colab": {
          "base_uri": "https://localhost:8080/",
          "height": 297
        }
      },
      "source": [
        "args = FMArgs(len(train_df), linear_reg=0.03, factors_reg=0.01, num_dims=150,\n",
        "              batch_size=4096, lr=1.0, epochs=100)\n",
        "\n",
        "fm = fit_fm_args(TfBatchFM, args, \"bfm_useritemfeats\", train_df, val_query_df,\n",
        "                 val_df, load=load,\n",
        "                 feature_fn=df2usersitemfeats({}))\n",
        "\n",
        "fm_df = eval_fm(fm, \"bfm_useritemfeats\", val_query_df, val_df,\n",
        "                filter_user_tracks=True)\n",
        "\n",
        "with_names(fm_df.head(), names_df)"
      ],
      "execution_count": 0,
      "outputs": [
        {
          "output_type": "stream",
          "text": [
            "INFO:tensorflow:Restoring parameters from /drive/My Drive/models/aotm-2011/bfm_useritemfeats.ckpt\n",
            "0.011000 hit rate\n",
            "0.080193 ndcg\n",
            "\n",
            "512.59293s fit time\n",
            "16.55084s trans time\n"
          ],
          "name": "stdout"
        },
        {
          "output_type": "execute_result",
          "data": {
            "text/html": [
              "<div>\n",
              "<style scoped>\n",
              "    .dataframe tbody tr th:only-of-type {\n",
              "        vertical-align: middle;\n",
              "    }\n",
              "\n",
              "    .dataframe tbody tr th {\n",
              "        vertical-align: top;\n",
              "    }\n",
              "\n",
              "    .dataframe thead th {\n",
              "        text-align: right;\n",
              "    }\n",
              "</style>\n",
              "<table border=\"1\" class=\"dataframe\">\n",
              "  <thead>\n",
              "    <tr style=\"text-align: right;\">\n",
              "      <th></th>\n",
              "      <th>score</th>\n",
              "      <th>pid</th>\n",
              "      <th>traname</th>\n",
              "      <th>albname</th>\n",
              "      <th>artname</th>\n",
              "    </tr>\n",
              "  </thead>\n",
              "  <tbody>\n",
              "    <tr>\n",
              "      <th>0</th>\n",
              "      <td>5.221032</td>\n",
              "      <td>111</td>\n",
              "      <td>1979</td>\n",
              "      <td>Rarities &amp; B-Sides</td>\n",
              "      <td>The Smashing Pumpkins</td>\n",
              "    </tr>\n",
              "    <tr>\n",
              "      <th>0</th>\n",
              "      <td>4.982966</td>\n",
              "      <td>111</td>\n",
              "      <td>Bohemian Rhapsody</td>\n",
              "      <td>Bohemian Rhapsody</td>\n",
              "      <td>Queen</td>\n",
              "    </tr>\n",
              "    <tr>\n",
              "      <th>0</th>\n",
              "      <td>4.859371</td>\n",
              "      <td>111</td>\n",
              "      <td>Today</td>\n",
              "      <td>Rotten Apples_ The Smashing Pumpkins Greatest ...</td>\n",
              "      <td>The Smashing Pumpkins</td>\n",
              "    </tr>\n",
              "    <tr>\n",
              "      <th>0</th>\n",
              "      <td>4.820422</td>\n",
              "      <td>111</td>\n",
              "      <td>The Joker</td>\n",
              "      <td>Box Set</td>\n",
              "      <td>Steve Miller Band</td>\n",
              "    </tr>\n",
              "    <tr>\n",
              "      <th>0</th>\n",
              "      <td>4.782730</td>\n",
              "      <td>111</td>\n",
              "      <td>Landslide</td>\n",
              "      <td>Rotten Apples_ The Smashing Pumpkins Greatest ...</td>\n",
              "      <td>The Smashing Pumpkins</td>\n",
              "    </tr>\n",
              "  </tbody>\n",
              "</table>\n",
              "</div>"
            ],
            "text/plain": [
              "      score  ...                artname\n",
              "0  5.221032  ...  The Smashing Pumpkins\n",
              "0  4.982966  ...                  Queen\n",
              "0  4.859371  ...  The Smashing Pumpkins\n",
              "0  4.820422  ...      Steve Miller Band\n",
              "0  4.782730  ...  The Smashing Pumpkins\n",
              "\n",
              "[5 rows x 5 columns]"
            ]
          },
          "metadata": {
            "tags": []
          },
          "execution_count": 78
        }
      ]
    },
    {
      "cell_type": "code",
      "metadata": {
        "id": "kWManUOcwuul",
        "colab_type": "code",
        "outputId": "de0c1b04-2112-459c-b976-4830c65b5f39",
        "colab": {
          "base_uri": "https://localhost:8080/",
          "height": 125
        }
      },
      "source": [
        "args = FMArgs(len(train_df), linear_reg=0.03, factors_reg=0.01, num_dims=150,\n",
        "              batch_size=4096, lr=1.0, epochs=100)\n",
        "\n",
        "fm = fit_fm_args(TfBatchFM, args, \"bfm_all\", train_df, val_query_df,\n",
        "                 val_df, load=load,\n",
        "                 feature_fn=df2all({\n",
        "                     \"year\": 0.125,\n",
        "                     \"pyear\": 0.125}))\n",
        "\n",
        "eval_fm(fm, \"bfm_all\", val_query_df, val_df, filter_user_tracks=True);"
      ],
      "execution_count": 0,
      "outputs": [
        {
          "output_type": "stream",
          "text": [
            "INFO:tensorflow:Restoring parameters from /drive/My Drive/models/aotm-2011/bfm_all.ckpt\n",
            "0.013000 hit rate\n",
            "0.087661 ndcg\n",
            "\n",
            "525.43375s fit time\n",
            "34.62815s trans time\n"
          ],
          "name": "stdout"
        }
      ]
    },
    {
      "cell_type": "markdown",
      "metadata": {
        "id": "5KFk30_bdLed",
        "colab_type": "text"
      },
      "source": [
        "Next we try adding previous track features and try to find a good weighting for them."
      ]
    },
    {
      "cell_type": "code",
      "metadata": {
        "id": "6_ZhDGYDe77Q",
        "colab_type": "code",
        "outputId": "5fc65f5e-413c-4a84-e45b-27183aadbefb",
        "colab": {
          "base_uri": "https://localhost:8080/",
          "height": 297
        }
      },
      "source": [
        "args = FMArgs(len(train_df), linear_reg=0.03, factors_reg=0.01, num_dims=150,\n",
        "              batch_size=4096, lr=1.0, epochs=100)\n",
        "\n",
        "fm = fit_fm_args(TfBatchFM, args, \"bfm_prev\", train_df, val_query_df,\n",
        "                 val_df, load=load,\n",
        "                 feature_fn=df2usersprevitems({\"prev_traid\": 1.0}))\n",
        "\n",
        "fm_df = eval_fm(fm, \"bfm_prev\", val_query_df, val_df,\n",
        "                filter_user_tracks=True)\n",
        "\n",
        "with_names(fm_df.head(), names_df)"
      ],
      "execution_count": 0,
      "outputs": [
        {
          "output_type": "stream",
          "text": [
            "INFO:tensorflow:Restoring parameters from /drive/My Drive/models/aotm-2011/bfm_prev.ckpt\n",
            "0.009000 hit rate\n",
            "0.067948 ndcg\n",
            "\n",
            "531.38934s fit time\n",
            "18.61659s trans time\n"
          ],
          "name": "stdout"
        },
        {
          "output_type": "execute_result",
          "data": {
            "text/html": [
              "<div>\n",
              "<style scoped>\n",
              "    .dataframe tbody tr th:only-of-type {\n",
              "        vertical-align: middle;\n",
              "    }\n",
              "\n",
              "    .dataframe tbody tr th {\n",
              "        vertical-align: top;\n",
              "    }\n",
              "\n",
              "    .dataframe thead th {\n",
              "        text-align: right;\n",
              "    }\n",
              "</style>\n",
              "<table border=\"1\" class=\"dataframe\">\n",
              "  <thead>\n",
              "    <tr style=\"text-align: right;\">\n",
              "      <th></th>\n",
              "      <th>score</th>\n",
              "      <th>pid</th>\n",
              "      <th>traname</th>\n",
              "      <th>albname</th>\n",
              "      <th>artname</th>\n",
              "    </tr>\n",
              "  </thead>\n",
              "  <tbody>\n",
              "    <tr>\n",
              "      <th>0</th>\n",
              "      <td>5.379888</td>\n",
              "      <td>111</td>\n",
              "      <td>Bohemian Rhapsody</td>\n",
              "      <td>Bohemian Rhapsody</td>\n",
              "      <td>Queen</td>\n",
              "    </tr>\n",
              "    <tr>\n",
              "      <th>0</th>\n",
              "      <td>5.345016</td>\n",
              "      <td>111</td>\n",
              "      <td>Blister In The Sun</td>\n",
              "      <td>Violent Femmes</td>\n",
              "      <td>Violent Femmes</td>\n",
              "    </tr>\n",
              "    <tr>\n",
              "      <th>0</th>\n",
              "      <td>5.183496</td>\n",
              "      <td>111</td>\n",
              "      <td>Hungry Like The Wolf</td>\n",
              "      <td>Singles Box '81 - '85</td>\n",
              "      <td>Duran Duran</td>\n",
              "    </tr>\n",
              "    <tr>\n",
              "      <th>0</th>\n",
              "      <td>5.143578</td>\n",
              "      <td>111</td>\n",
              "      <td>Should I Stay Or Should I Go</td>\n",
              "      <td>From Here To Eternity</td>\n",
              "      <td>The Clash</td>\n",
              "    </tr>\n",
              "    <tr>\n",
              "      <th>0</th>\n",
              "      <td>5.104984</td>\n",
              "      <td>111</td>\n",
              "      <td>1979</td>\n",
              "      <td>Rarities &amp; B-Sides</td>\n",
              "      <td>The Smashing Pumpkins</td>\n",
              "    </tr>\n",
              "  </tbody>\n",
              "</table>\n",
              "</div>"
            ],
            "text/plain": [
              "      score  pid  ...                albname                artname\n",
              "0  5.379888  111  ...      Bohemian Rhapsody                  Queen\n",
              "0  5.345016  111  ...         Violent Femmes         Violent Femmes\n",
              "0  5.183496  111  ...  Singles Box '81 - '85            Duran Duran\n",
              "0  5.143578  111  ...  From Here To Eternity              The Clash\n",
              "0  5.104984  111  ...     Rarities & B-Sides  The Smashing Pumpkins\n",
              "\n",
              "[5 rows x 5 columns]"
            ]
          },
          "metadata": {
            "tags": []
          },
          "execution_count": 61
        }
      ]
    },
    {
      "cell_type": "code",
      "metadata": {
        "id": "xKpYQcMjDR0H",
        "colab_type": "code",
        "outputId": "2b2827b2-cad2-4095-ae47-3ce6c84ac9dd",
        "colab": {
          "base_uri": "https://localhost:8080/",
          "height": 116
        }
      },
      "source": [
        "args = FMArgs(len(train_df), linear_reg=0.03, factors_reg=0.01, num_dims=150,\n",
        "              batch_size=4096, lr=1.0, epochs=100)\n",
        "\n",
        "fm = fit_fm_args(TfBatchFM, args, \"bfm_prev_05\", train_df, val_query_df,\n",
        "                 val_df, load=load,\n",
        "                 feature_fn=df2usersprevitems({\"prev_traid\": 0.5}))\n",
        "\n",
        "eval_fm(fm, \"bfm_prev_05\", val_query_df, val_df, filter_user_tracks=True);"
      ],
      "execution_count": 0,
      "outputs": [
        {
          "output_type": "stream",
          "text": [
            "INFO:tensorflow:Restoring parameters from /drive/My Drive/models/aotm-2011/bfm_prev_05.ckpt\n",
            "0.016000 hit rate\n",
            "0.074890 ndcg\n",
            "\n",
            "531.23530s fit time\n",
            "18.67472s trans time\n"
          ],
          "name": "stdout"
        }
      ]
    },
    {
      "cell_type": "code",
      "metadata": {
        "id": "JAfHoWLWeOMh",
        "colab_type": "code",
        "outputId": "d266bc15-049d-4287-889d-e5c389a77e4b",
        "colab": {
          "base_uri": "https://localhost:8080/",
          "height": 116
        }
      },
      "source": [
        "args = FMArgs(len(train_df), linear_reg=0.03, factors_reg=0.01, num_dims=150,\n",
        "              batch_size=4096, lr=1.0, epochs=100)\n",
        "\n",
        "fm = fit_fm_args(TfBatchFM, args, \"bfm_prev_025\", train_df, val_query_df,\n",
        "                 val_df, load=load,\n",
        "                 feature_fn=df2usersprevitems({\"prev_traid\": 0.25}))\n",
        "\n",
        "eval_fm(fm, \"bfm_prev_025\", val_query_df, val_df, filter_user_tracks=True);"
      ],
      "execution_count": 0,
      "outputs": [
        {
          "output_type": "stream",
          "text": [
            "INFO:tensorflow:Restoring parameters from /drive/My Drive/models/aotm-2011/bfm_prev_025.ckpt\n",
            "0.015000 hit rate\n",
            "0.074409 ndcg\n",
            "\n",
            "532.90898s fit time\n",
            "18.60770s trans time\n"
          ],
          "name": "stdout"
        }
      ]
    },
    {
      "cell_type": "code",
      "metadata": {
        "id": "KYjrJpulSpHM",
        "colab_type": "code",
        "outputId": "fba4603f-efef-48ef-b396-968801f90b66",
        "colab": {
          "base_uri": "https://localhost:8080/",
          "height": 312
        }
      },
      "source": [
        "args = FMArgs(len(train_df), linear_reg=0.03, factors_reg=0.01, num_dims=150,\n",
        "              batch_size=4096, lr=1.0, epochs=100)\n",
        "\n",
        "fm = fit_fm_args(TfBatchFM, args, \"bfm_previtemfeats\", train_df, val_query_df,\n",
        "                 val_df, load=load,\n",
        "                 feature_fn=df2usersprevitemfeats({\n",
        "                     \"prev_traid\": 0.25,\n",
        "                     \"prev_albid\": 0.25,\n",
        "                     \"prev_artid\": 0.25}))\n",
        "\n",
        "fm_df = eval_fm(fm, \"bfm_previtemfeats\", val_query_df, val_df,\n",
        "                filter_user_tracks=True)\n",
        "\n",
        "with_names(fm_df.head(), names_df)"
      ],
      "execution_count": 0,
      "outputs": [
        {
          "output_type": "stream",
          "text": [
            "INFO:tensorflow:Restoring parameters from /drive/My Drive/models/aotm-2011/bfm_previtemfeats.ckpt\n",
            "0.012000 hit rate\n",
            "0.080623 ndcg\n",
            "\n",
            "590.80877s fit time\n",
            "29.33308s trans time\n"
          ],
          "name": "stdout"
        },
        {
          "output_type": "execute_result",
          "data": {
            "text/html": [
              "<div>\n",
              "<style scoped>\n",
              "    .dataframe tbody tr th:only-of-type {\n",
              "        vertical-align: middle;\n",
              "    }\n",
              "\n",
              "    .dataframe tbody tr th {\n",
              "        vertical-align: top;\n",
              "    }\n",
              "\n",
              "    .dataframe thead th {\n",
              "        text-align: right;\n",
              "    }\n",
              "</style>\n",
              "<table border=\"1\" class=\"dataframe\">\n",
              "  <thead>\n",
              "    <tr style=\"text-align: right;\">\n",
              "      <th></th>\n",
              "      <th>score</th>\n",
              "      <th>pid</th>\n",
              "      <th>traname</th>\n",
              "      <th>albname</th>\n",
              "      <th>artname</th>\n",
              "    </tr>\n",
              "  </thead>\n",
              "  <tbody>\n",
              "    <tr>\n",
              "      <th>0</th>\n",
              "      <td>5.441099</td>\n",
              "      <td>111</td>\n",
              "      <td>1979</td>\n",
              "      <td>Rarities &amp; B-Sides</td>\n",
              "      <td>The Smashing Pumpkins</td>\n",
              "    </tr>\n",
              "    <tr>\n",
              "      <th>0</th>\n",
              "      <td>5.277347</td>\n",
              "      <td>111</td>\n",
              "      <td>Every Little Thing She Does Is Magic</td>\n",
              "      <td>The Very Best Of Sting And The Police</td>\n",
              "      <td>The Police</td>\n",
              "    </tr>\n",
              "    <tr>\n",
              "      <th>0</th>\n",
              "      <td>5.233240</td>\n",
              "      <td>111</td>\n",
              "      <td>Today</td>\n",
              "      <td>Rotten Apples_ The Smashing Pumpkins Greatest ...</td>\n",
              "      <td>The Smashing Pumpkins</td>\n",
              "    </tr>\n",
              "    <tr>\n",
              "      <th>0</th>\n",
              "      <td>5.146961</td>\n",
              "      <td>111</td>\n",
              "      <td>Just What I Needed</td>\n",
              "      <td>Just What I Needed / I'm In Touch With Your Wo...</td>\n",
              "      <td>The Cars</td>\n",
              "    </tr>\n",
              "    <tr>\n",
              "      <th>0</th>\n",
              "      <td>5.146037</td>\n",
              "      <td>111</td>\n",
              "      <td>Under Pressure (With Commentary)</td>\n",
              "      <td>Absolute Greatest (Includes track by track com...</td>\n",
              "      <td>Queen &amp; David Bowie</td>\n",
              "    </tr>\n",
              "  </tbody>\n",
              "</table>\n",
              "</div>"
            ],
            "text/plain": [
              "      score  ...                artname\n",
              "0  5.441099  ...  The Smashing Pumpkins\n",
              "0  5.277347  ...             The Police\n",
              "0  5.233240  ...  The Smashing Pumpkins\n",
              "0  5.146961  ...               The Cars\n",
              "0  5.146037  ...    Queen & David Bowie\n",
              "\n",
              "[5 rows x 5 columns]"
            ]
          },
          "metadata": {
            "tags": []
          },
          "execution_count": 82
        }
      ]
    },
    {
      "cell_type": "code",
      "metadata": {
        "colab_type": "code",
        "outputId": "75865bde-5316-4cef-8d38-265cb7bc0256",
        "id": "s-lwkjzno4kI",
        "colab": {
          "base_uri": "https://localhost:8080/",
          "height": 312
        }
      },
      "source": [
        "args = FMArgs(len(train_df), linear_reg=0.03, factors_reg=0.01, num_dims=150,\n",
        "              batch_size=4096, lr=1.0, epochs=100)\n",
        "\n",
        "fm = fit_fm_args(TfBatchFM, args, \"bfm_prevall\", train_df, val_query_df,\n",
        "                 val_df, load=load,\n",
        "                 feature_fn=df2prevall({\n",
        "                     \"prev_traid\": 0.25,\n",
        "                     \"prev_albid\": 0.25,\n",
        "                     \"prev_artid\": 0.25,\n",
        "                     \"prev_year\": 0.25 * 0.125,\n",
        "                     \"year\": 0.125,\n",
        "                     \"pyear\": 0.125}))\n",
        "\n",
        "fm_df = eval_fm(fm, \"bfm_prevall\", val_query_df, val_df,\n",
        "                filter_user_tracks=True)\n",
        "\n",
        "with_names(fm_df.head(), names_df)"
      ],
      "execution_count": 0,
      "outputs": [
        {
          "output_type": "stream",
          "text": [
            "INFO:tensorflow:Restoring parameters from /drive/My Drive/models/aotm-2011/bfm_prevall.ckpt\n",
            "0.012000 hit rate\n",
            "0.090646 ndcg\n",
            "\n",
            "620.83396s fit time\n",
            "43.60361s trans time\n"
          ],
          "name": "stdout"
        },
        {
          "output_type": "execute_result",
          "data": {
            "text/html": [
              "<div>\n",
              "<style scoped>\n",
              "    .dataframe tbody tr th:only-of-type {\n",
              "        vertical-align: middle;\n",
              "    }\n",
              "\n",
              "    .dataframe tbody tr th {\n",
              "        vertical-align: top;\n",
              "    }\n",
              "\n",
              "    .dataframe thead th {\n",
              "        text-align: right;\n",
              "    }\n",
              "</style>\n",
              "<table border=\"1\" class=\"dataframe\">\n",
              "  <thead>\n",
              "    <tr style=\"text-align: right;\">\n",
              "      <th></th>\n",
              "      <th>score</th>\n",
              "      <th>pid</th>\n",
              "      <th>traname</th>\n",
              "      <th>albname</th>\n",
              "      <th>artname</th>\n",
              "    </tr>\n",
              "  </thead>\n",
              "  <tbody>\n",
              "    <tr>\n",
              "      <th>0</th>\n",
              "      <td>5.905605</td>\n",
              "      <td>111</td>\n",
              "      <td>Today</td>\n",
              "      <td>Rotten Apples_ The Smashing Pumpkins Greatest ...</td>\n",
              "      <td>The Smashing Pumpkins</td>\n",
              "    </tr>\n",
              "    <tr>\n",
              "      <th>0</th>\n",
              "      <td>5.814911</td>\n",
              "      <td>111</td>\n",
              "      <td>Under Pressure (With Commentary)</td>\n",
              "      <td>Absolute Greatest (Includes track by track com...</td>\n",
              "      <td>Queen &amp; David Bowie</td>\n",
              "    </tr>\n",
              "    <tr>\n",
              "      <th>0</th>\n",
              "      <td>5.811210</td>\n",
              "      <td>111</td>\n",
              "      <td>1979</td>\n",
              "      <td>Rarities &amp; B-Sides</td>\n",
              "      <td>The Smashing Pumpkins</td>\n",
              "    </tr>\n",
              "    <tr>\n",
              "      <th>0</th>\n",
              "      <td>5.726590</td>\n",
              "      <td>111</td>\n",
              "      <td>You're All I've Got Tonight</td>\n",
              "      <td>Rarities &amp; B-Sides</td>\n",
              "      <td>The Smashing Pumpkins</td>\n",
              "    </tr>\n",
              "    <tr>\n",
              "      <th>0</th>\n",
              "      <td>5.707715</td>\n",
              "      <td>111</td>\n",
              "      <td>Interstate Love Song (LP Version)</td>\n",
              "      <td>Thank You</td>\n",
              "      <td>Stone Temple Pilots</td>\n",
              "    </tr>\n",
              "  </tbody>\n",
              "</table>\n",
              "</div>"
            ],
            "text/plain": [
              "      score  ...                artname\n",
              "0  5.905605  ...  The Smashing Pumpkins\n",
              "0  5.814911  ...    Queen & David Bowie\n",
              "0  5.811210  ...  The Smashing Pumpkins\n",
              "0  5.726590  ...  The Smashing Pumpkins\n",
              "0  5.707715  ...    Stone Temple Pilots\n",
              "\n",
              "[5 rows x 5 columns]"
            ]
          },
          "metadata": {
            "tags": []
          },
          "execution_count": 83
        }
      ]
    },
    {
      "cell_type": "code",
      "metadata": {
        "id": "M5xhnxxX9gnr",
        "colab_type": "code",
        "outputId": "01cc5519-c9fa-42d4-a7d6-052b52ffb804",
        "colab": {
          "base_uri": "https://localhost:8080/",
          "height": 312
        }
      },
      "source": [
        "args = FMArgs(len(train_df), linear_reg=0.03, factors_reg=0.01, num_dims=150,\n",
        "              batch_size=4096, lr=1.0, epochs=100)\n",
        "\n",
        "fm = fit_fm_args(TfBatchFM, args, \"bfm_prevall_music\", train_df, val_query_df,\n",
        "                 val_df, load=load,\n",
        "                 feature_fn=df2prevallmusic({\n",
        "                     \"prev_traid\": 0.25,\n",
        "                     \"prev_albid\": 0.25,\n",
        "                     \"prev_artid\": 0.25,\n",
        "                     \"prev_year\": 0.25 * 0.125,\n",
        "                     \"prev_key\": 0.25 * 0.125,\n",
        "                     \"prev_mode\": 0.25 * 0.125,\n",
        "                     \"prev_loudness\": 0.25 * 0.25,\n",
        "                     \"prev_tempo\": 0.25 * 0.25,\n",
        "                     \"year\": 0.125,\n",
        "                     \"pyear\": 0.125,\n",
        "                     \"key\": 0.125,\n",
        "                     \"mode\": 0.125,\n",
        "                     \"loudness\": 0.25,\n",
        "                     \"tempo\": 0.25}))\n",
        "\n",
        "fm_df = eval_fm(fm, \"bfm_prevall_music\", val_query_df, val_df,\n",
        "                filter_user_tracks=True)\n",
        "\n",
        "with_names(fm_df.head(), names_df)"
      ],
      "execution_count": 0,
      "outputs": [
        {
          "output_type": "stream",
          "text": [
            "INFO:tensorflow:Restoring parameters from /drive/My Drive/models/aotm-2011/bfm_prevall_music.ckpt\n",
            "0.012000 hit rate\n",
            "0.085977 ndcg\n",
            "\n",
            "790.22589s fit time\n",
            "65.16483s trans time\n"
          ],
          "name": "stdout"
        },
        {
          "output_type": "execute_result",
          "data": {
            "text/html": [
              "<div>\n",
              "<style scoped>\n",
              "    .dataframe tbody tr th:only-of-type {\n",
              "        vertical-align: middle;\n",
              "    }\n",
              "\n",
              "    .dataframe tbody tr th {\n",
              "        vertical-align: top;\n",
              "    }\n",
              "\n",
              "    .dataframe thead th {\n",
              "        text-align: right;\n",
              "    }\n",
              "</style>\n",
              "<table border=\"1\" class=\"dataframe\">\n",
              "  <thead>\n",
              "    <tr style=\"text-align: right;\">\n",
              "      <th></th>\n",
              "      <th>score</th>\n",
              "      <th>pid</th>\n",
              "      <th>traname</th>\n",
              "      <th>albname</th>\n",
              "      <th>artname</th>\n",
              "    </tr>\n",
              "  </thead>\n",
              "  <tbody>\n",
              "    <tr>\n",
              "      <th>0</th>\n",
              "      <td>6.369234</td>\n",
              "      <td>111</td>\n",
              "      <td>Today</td>\n",
              "      <td>Rotten Apples_ The Smashing Pumpkins Greatest ...</td>\n",
              "      <td>The Smashing Pumpkins</td>\n",
              "    </tr>\n",
              "    <tr>\n",
              "      <th>0</th>\n",
              "      <td>6.263896</td>\n",
              "      <td>111</td>\n",
              "      <td>1979</td>\n",
              "      <td>Rarities &amp; B-Sides</td>\n",
              "      <td>The Smashing Pumpkins</td>\n",
              "    </tr>\n",
              "    <tr>\n",
              "      <th>0</th>\n",
              "      <td>6.130464</td>\n",
              "      <td>111</td>\n",
              "      <td>Interstate Love Song (LP Version)</td>\n",
              "      <td>Thank You</td>\n",
              "      <td>Stone Temple Pilots</td>\n",
              "    </tr>\n",
              "    <tr>\n",
              "      <th>0</th>\n",
              "      <td>5.688198</td>\n",
              "      <td>111</td>\n",
              "      <td>Loser</td>\n",
              "      <td>Mellow Gold</td>\n",
              "      <td>Beck</td>\n",
              "    </tr>\n",
              "    <tr>\n",
              "      <th>0</th>\n",
              "      <td>5.667681</td>\n",
              "      <td>111</td>\n",
              "      <td>Say It Ain't So</td>\n",
              "      <td>Weezer</td>\n",
              "      <td>Weezer</td>\n",
              "    </tr>\n",
              "  </tbody>\n",
              "</table>\n",
              "</div>"
            ],
            "text/plain": [
              "      score  ...                artname\n",
              "0  6.369234  ...  The Smashing Pumpkins\n",
              "0  6.263896  ...  The Smashing Pumpkins\n",
              "0  6.130464  ...    Stone Temple Pilots\n",
              "0  5.688198  ...                   Beck\n",
              "0  5.667681  ...                 Weezer\n",
              "\n",
              "[5 rows x 5 columns]"
            ]
          },
          "metadata": {
            "tags": []
          },
          "execution_count": 76
        }
      ]
    },
    {
      "cell_type": "code",
      "metadata": {
        "id": "YGZHTGTjsDt_",
        "colab_type": "code",
        "outputId": "9159999a-39be-4865-d21e-b48fd264c617",
        "colab": {
          "base_uri": "https://localhost:8080/",
          "height": 312
        }
      },
      "source": [
        "args = FMArgs(len(train_df), linear_reg=0.03, factors_reg=0.01, num_dims=150,\n",
        "              batch_size=4096, lr=1.0, epochs=100)\n",
        "\n",
        "fm = fit_fm_args(TfBatchFM, args, \"bfm_prevall_music2\", train_df, val_query_df,\n",
        "                 val_df, load=load,\n",
        "                 feature_fn=df2prevallmusic({\n",
        "                     \"prev_traid\": 0.25,\n",
        "                     \"prev_albid\": 0.25,\n",
        "                     \"prev_artid\": 0.25,\n",
        "                     \"prev_year\": 0.25 * 0.125,\n",
        "                     \"prev_key\": 0.0,\n",
        "                     \"prev_mode\": 0.0,\n",
        "                     \"prev_loudness\": 0.25 * 0.25,\n",
        "                     \"prev_tempo\": 0.25 * 0.25,\n",
        "                     \"year\": 0.125,\n",
        "                     \"pyear\": 0.125,\n",
        "                     \"key\": 0.0,\n",
        "                     \"mode\": 0.0,\n",
        "                     \"loudness\": 0.25,\n",
        "                     \"tempo\": 0.25}))\n",
        "\n",
        "fm_df = eval_fm(fm, \"bfm_prevall_music2\", val_query_df, val_df,\n",
        "                filter_user_tracks=True)\n",
        "\n",
        "with_names(fm_df.head(), names_df)"
      ],
      "execution_count": 0,
      "outputs": [
        {
          "output_type": "stream",
          "text": [
            "INFO:tensorflow:Restoring parameters from /drive/My Drive/models/aotm-2011/bfm_prevall_music2.ckpt\n",
            "0.012000 hit rate\n",
            "0.088700 ndcg\n",
            "\n",
            "791.53279s fit time\n",
            "64.86868s trans time\n"
          ],
          "name": "stdout"
        },
        {
          "output_type": "execute_result",
          "data": {
            "text/html": [
              "<div>\n",
              "<style scoped>\n",
              "    .dataframe tbody tr th:only-of-type {\n",
              "        vertical-align: middle;\n",
              "    }\n",
              "\n",
              "    .dataframe tbody tr th {\n",
              "        vertical-align: top;\n",
              "    }\n",
              "\n",
              "    .dataframe thead th {\n",
              "        text-align: right;\n",
              "    }\n",
              "</style>\n",
              "<table border=\"1\" class=\"dataframe\">\n",
              "  <thead>\n",
              "    <tr style=\"text-align: right;\">\n",
              "      <th></th>\n",
              "      <th>score</th>\n",
              "      <th>pid</th>\n",
              "      <th>traname</th>\n",
              "      <th>albname</th>\n",
              "      <th>artname</th>\n",
              "    </tr>\n",
              "  </thead>\n",
              "  <tbody>\n",
              "    <tr>\n",
              "      <th>0</th>\n",
              "      <td>6.163813</td>\n",
              "      <td>111</td>\n",
              "      <td>Under Pressure (With Commentary)</td>\n",
              "      <td>Absolute Greatest (Includes track by track com...</td>\n",
              "      <td>Queen &amp; David Bowie</td>\n",
              "    </tr>\n",
              "    <tr>\n",
              "      <th>0</th>\n",
              "      <td>5.869071</td>\n",
              "      <td>111</td>\n",
              "      <td>Bohemian Rhapsody</td>\n",
              "      <td>Bohemian Rhapsody</td>\n",
              "      <td>Queen</td>\n",
              "    </tr>\n",
              "    <tr>\n",
              "      <th>0</th>\n",
              "      <td>5.699685</td>\n",
              "      <td>111</td>\n",
              "      <td>Hotel California</td>\n",
              "      <td>Hotel California / Pretty Maids All In A Row [...</td>\n",
              "      <td>Eagles</td>\n",
              "    </tr>\n",
              "    <tr>\n",
              "      <th>0</th>\n",
              "      <td>5.605333</td>\n",
              "      <td>111</td>\n",
              "      <td>Today</td>\n",
              "      <td>Rotten Apples_ The Smashing Pumpkins Greatest ...</td>\n",
              "      <td>The Smashing Pumpkins</td>\n",
              "    </tr>\n",
              "    <tr>\n",
              "      <th>0</th>\n",
              "      <td>5.604313</td>\n",
              "      <td>111</td>\n",
              "      <td>Mary Jane's Last Dance</td>\n",
              "      <td>Greatest Hits</td>\n",
              "      <td>Tom Petty And The Heartbreakers</td>\n",
              "    </tr>\n",
              "  </tbody>\n",
              "</table>\n",
              "</div>"
            ],
            "text/plain": [
              "      score  ...                          artname\n",
              "0  6.163813  ...              Queen & David Bowie\n",
              "0  5.869071  ...                            Queen\n",
              "0  5.699685  ...                           Eagles\n",
              "0  5.605333  ...            The Smashing Pumpkins\n",
              "0  5.604313  ...  Tom Petty And The Heartbreakers\n",
              "\n",
              "[5 rows x 5 columns]"
            ]
          },
          "metadata": {
            "tags": []
          },
          "execution_count": 83
        }
      ]
    },
    {
      "cell_type": "code",
      "metadata": {
        "id": "0vLj3Q_wMDPR",
        "colab_type": "code",
        "outputId": "4fa025a9-4679-488b-f9ab-f21fd0e88803",
        "colab": {
          "base_uri": "https://localhost:8080/",
          "height": 312
        }
      },
      "source": [
        "args = FMArgs(len(train_df), linear_reg=0.03, factors_reg=0.01, num_dims=150,\n",
        "              batch_size=4096, lr=1.0, epochs=100)\n",
        "\n",
        "fm = fit_fm_args(TfBatchFM, args, \"bfm_prevall_music3\", train_df, val_query_df,\n",
        "                 val_df, load=load,\n",
        "                 feature_fn=df2prevallmusic({\n",
        "                     \"prev_traid\": 0.25,\n",
        "                     \"prev_albid\": 0.25,\n",
        "                     \"prev_artid\": 0.25,\n",
        "                     \"prev_year\": 0.25 * 0.125,\n",
        "                     \"prev_key\": 0.0,\n",
        "                     \"prev_mode\": 0.0,\n",
        "                     \"prev_loudness\": 0.25 * 0.25,\n",
        "                     \"prev_tempo\": 0.25 * 0.0,\n",
        "                     \"year\": 0.125,\n",
        "                     \"pyear\": 0.125,\n",
        "                     \"key\": 0.0,\n",
        "                     \"mode\": 0.0,\n",
        "                     \"loudness\": 0.25,\n",
        "                     \"tempo\": 0.0}))\n",
        "\n",
        "fm_df = eval_fm(fm, \"bfm_prevall_music3\", val_query_df, val_df,\n",
        "                filter_user_tracks=True)\n",
        "\n",
        "with_names(fm_df.head(), names_df)"
      ],
      "execution_count": 0,
      "outputs": [
        {
          "output_type": "stream",
          "text": [
            "INFO:tensorflow:Restoring parameters from /drive/My Drive/models/aotm-2011/bfm_prevall_music3.ckpt\n",
            "0.013000 hit rate\n",
            "0.089560 ndcg\n",
            "\n",
            "782.08086s fit time\n",
            "64.57469s trans time\n"
          ],
          "name": "stdout"
        },
        {
          "output_type": "execute_result",
          "data": {
            "text/html": [
              "<div>\n",
              "<style scoped>\n",
              "    .dataframe tbody tr th:only-of-type {\n",
              "        vertical-align: middle;\n",
              "    }\n",
              "\n",
              "    .dataframe tbody tr th {\n",
              "        vertical-align: top;\n",
              "    }\n",
              "\n",
              "    .dataframe thead th {\n",
              "        text-align: right;\n",
              "    }\n",
              "</style>\n",
              "<table border=\"1\" class=\"dataframe\">\n",
              "  <thead>\n",
              "    <tr style=\"text-align: right;\">\n",
              "      <th></th>\n",
              "      <th>score</th>\n",
              "      <th>pid</th>\n",
              "      <th>traname</th>\n",
              "      <th>albname</th>\n",
              "      <th>artname</th>\n",
              "    </tr>\n",
              "  </thead>\n",
              "  <tbody>\n",
              "    <tr>\n",
              "      <th>0</th>\n",
              "      <td>6.361062</td>\n",
              "      <td>111</td>\n",
              "      <td>1979</td>\n",
              "      <td>Rarities &amp; B-Sides</td>\n",
              "      <td>The Smashing Pumpkins</td>\n",
              "    </tr>\n",
              "    <tr>\n",
              "      <th>0</th>\n",
              "      <td>6.176349</td>\n",
              "      <td>111</td>\n",
              "      <td>You're All I've Got Tonight</td>\n",
              "      <td>Rarities &amp; B-Sides</td>\n",
              "      <td>The Smashing Pumpkins</td>\n",
              "    </tr>\n",
              "    <tr>\n",
              "      <th>0</th>\n",
              "      <td>6.072747</td>\n",
              "      <td>111</td>\n",
              "      <td>Bohemian Rhapsody</td>\n",
              "      <td>Bohemian Rhapsody</td>\n",
              "      <td>Queen</td>\n",
              "    </tr>\n",
              "    <tr>\n",
              "      <th>0</th>\n",
              "      <td>5.903652</td>\n",
              "      <td>111</td>\n",
              "      <td>Bullet With Butterfly Wings</td>\n",
              "      <td>Rarities &amp; B-Sides</td>\n",
              "      <td>The Smashing Pumpkins</td>\n",
              "    </tr>\n",
              "    <tr>\n",
              "      <th>0</th>\n",
              "      <td>5.836464</td>\n",
              "      <td>111</td>\n",
              "      <td>Interstate Love Song (LP Version)</td>\n",
              "      <td>Thank You</td>\n",
              "      <td>Stone Temple Pilots</td>\n",
              "    </tr>\n",
              "  </tbody>\n",
              "</table>\n",
              "</div>"
            ],
            "text/plain": [
              "      score  pid  ...             albname                artname\n",
              "0  6.361062  111  ...  Rarities & B-Sides  The Smashing Pumpkins\n",
              "0  6.176349  111  ...  Rarities & B-Sides  The Smashing Pumpkins\n",
              "0  6.072747  111  ...   Bohemian Rhapsody                  Queen\n",
              "0  5.903652  111  ...  Rarities & B-Sides  The Smashing Pumpkins\n",
              "0  5.836464  111  ...           Thank You    Stone Temple Pilots\n",
              "\n",
              "[5 rows x 5 columns]"
            ]
          },
          "metadata": {
            "tags": []
          },
          "execution_count": 84
        }
      ]
    },
    {
      "cell_type": "code",
      "metadata": {
        "id": "oA05-1KoEXCv",
        "colab_type": "code",
        "outputId": "ffad5258-571f-4deb-fcdd-c92dbb7d40c1",
        "colab": {
          "base_uri": "https://localhost:8080/",
          "height": 125
        }
      },
      "source": [
        "args = FMArgs(len(train_df), linear_reg=0.03, factors_reg=0.01,\n",
        "              num_dims=150, batch_size=4096, lr=1.0, epochs=100)\n",
        "\n",
        "fm = fit_fm_args(TfBatchFM, args, \"bfm_prev_trans\", train_df, val_query_df,\n",
        "                 val_df, load=load, item_ctx_features=True,\n",
        "                 feature_fn=df2usersprevitems({\"prev_traid\": 0.25}))\n",
        "\n",
        "eval_fm(fm, \"bfm_prev_trans\", val_query_df, val_df, filter_user_tracks=True);"
      ],
      "execution_count": 0,
      "outputs": [
        {
          "output_type": "stream",
          "text": [
            "INFO:tensorflow:Restoring parameters from /drive/My Drive/models/aotm-2011/bfm_prev_trans.ckpt\n",
            "0.009000 hit rate\n",
            "0.072271 ndcg\n",
            "\n",
            "484.16445s fit time\n",
            "17.63371s trans time\n"
          ],
          "name": "stdout"
        }
      ]
    },
    {
      "cell_type": "code",
      "metadata": {
        "id": "MQasN_gNps-s",
        "colab_type": "code",
        "outputId": "650b4948-d92c-4c6d-d69e-2a81b491a1e4",
        "colab": {
          "base_uri": "https://localhost:8080/",
          "height": 125
        }
      },
      "source": [
        "args = FMArgs(len(train_df), linear_reg=0.03, factors_reg=0.01, num_dims=150,\n",
        "              batch_size=4096, lr=1.0, epochs=100)\n",
        "\n",
        "fm = fit_fm_args(TfBatchFM, args, \"bfm_previtemfeats_trans\", train_df, \n",
        "                 val_query_df, val_df, load=load, item_ctx_features=True,\n",
        "                 feature_fn=df2usersprevitemfeats({\n",
        "                     \"prev_traid\": 0.25,\n",
        "                     \"prev_albid\": 0.25,\n",
        "                     \"prev_artid\": 0.25}))\n",
        "\n",
        "eval_fm(fm, \"bfm_previtemfeats_trans\", val_query_df, val_df,\n",
        "        filter_user_tracks=True);"
      ],
      "execution_count": 0,
      "outputs": [
        {
          "output_type": "stream",
          "text": [
            "INFO:tensorflow:Restoring parameters from /drive/My Drive/models/aotm-2011/bfm_previtemfeats_trans.ckpt\n",
            "0.010000 hit rate\n",
            "0.078258 ndcg\n",
            "\n",
            "521.54210s fit time\n",
            "29.02329s trans time\n"
          ],
          "name": "stdout"
        }
      ]
    },
    {
      "cell_type": "code",
      "metadata": {
        "id": "B5efq1b5nEyG",
        "colab_type": "code",
        "outputId": "d8dcef57-30db-42c4-bb78-35ee46f87813",
        "colab": {
          "base_uri": "https://localhost:8080/",
          "height": 125
        }
      },
      "source": [
        "args = FMArgs(len(train_df), linear_reg=0.03, factors_reg=0.01, num_dims=150,\n",
        "              batch_size=4096, lr=1.0, epochs=100)\n",
        "\n",
        "fm = fit_fm_args(TfBatchFM, args, \"bfm_prevall_trans\", train_df, val_query_df,\n",
        "                 val_df, load=load, item_ctx_features=True,\n",
        "                 feature_fn=df2prevall({\n",
        "                     \"prev_traid\": 0.25,\n",
        "                     \"prev_albid\": 0.25,\n",
        "                     \"prev_artid\": 0.25,\n",
        "                     \"prev_year\": 0.125 * 0.25,\n",
        "                     \"year\": 0.125,\n",
        "                     \"pyear\": 0.125}))\n",
        "\n",
        "eval_fm(fm, \"bfm_prevall_trans\", val_query_df, val_df, filter_user_tracks=True);"
      ],
      "execution_count": 0,
      "outputs": [
        {
          "output_type": "stream",
          "text": [
            "INFO:tensorflow:Restoring parameters from /drive/My Drive/models/aotm-2011/bfm_prevall_trans.ckpt\n",
            "0.008000 hit rate\n",
            "0.086228 ndcg\n",
            "\n",
            "549.35614s fit time\n",
            "41.87552s trans time\n"
          ],
          "name": "stdout"
        }
      ]
    },
    {
      "cell_type": "markdown",
      "metadata": {
        "id": "Fe30x1D0dpYF",
        "colab_type": "text"
      },
      "source": [
        "Finally, we also evaluate the effects of the cold-start playlist representation methods."
      ]
    },
    {
      "cell_type": "code",
      "metadata": {
        "id": "YKQtssalp1DN",
        "colab_type": "code",
        "outputId": "5288ebc1-555b-4351-b86b-d7b8c31f8d07",
        "colab": {
          "base_uri": "https://localhost:8080/",
          "height": 312
        }
      },
      "source": [
        "args = FMArgs(len(train_df), linear_reg=0.03, factors_reg=0.01, num_dims=150,\n",
        "              batch_size=4096, lr=1.0, epochs=100)\n",
        "\n",
        "fm = fit_fm_args(TfBatchFM, args, \"bfm_encodedusersprevall\", train_df,\n",
        "                 val_query_df, val_df, load=load, item_ctx_features=True,\n",
        "                 feature_fn=df2encodedusersprevall({\n",
        "                     \"prev_traid\": 0.25,\n",
        "                     \"prev_albid\": 0.25,\n",
        "                     \"prev_artid\": 0.25,\n",
        "                     \"prev_year\": 0.25 * 0.125,\n",
        "                     \"year\": 0.125,\n",
        "                     \"pyear\": 0.125}))\n",
        "\n",
        "fm_df = eval_fm(fm, \"bfm_encodedusersprevall\", val_query_df, val_df,\n",
        "                filter_user_tracks=True);\n",
        "\n",
        "with_names(fm_df.head(), names_df)"
      ],
      "execution_count": 0,
      "outputs": [
        {
          "output_type": "stream",
          "text": [
            "INFO:tensorflow:Restoring parameters from /drive/My Drive/models/aotm-2011/bfm_encodedusersprevall.ckpt\n",
            "0.011000 hit rate\n",
            "0.085250 ndcg\n",
            "\n",
            "710.67725s fit time\n",
            "60.07926s trans time\n"
          ],
          "name": "stdout"
        },
        {
          "output_type": "execute_result",
          "data": {
            "text/html": [
              "<div>\n",
              "<style scoped>\n",
              "    .dataframe tbody tr th:only-of-type {\n",
              "        vertical-align: middle;\n",
              "    }\n",
              "\n",
              "    .dataframe tbody tr th {\n",
              "        vertical-align: top;\n",
              "    }\n",
              "\n",
              "    .dataframe thead th {\n",
              "        text-align: right;\n",
              "    }\n",
              "</style>\n",
              "<table border=\"1\" class=\"dataframe\">\n",
              "  <thead>\n",
              "    <tr style=\"text-align: right;\">\n",
              "      <th></th>\n",
              "      <th>score</th>\n",
              "      <th>pid</th>\n",
              "      <th>traname</th>\n",
              "      <th>albname</th>\n",
              "      <th>artname</th>\n",
              "    </tr>\n",
              "  </thead>\n",
              "  <tbody>\n",
              "    <tr>\n",
              "      <th>0</th>\n",
              "      <td>6.288714</td>\n",
              "      <td>111</td>\n",
              "      <td>Bohemian Rhapsody</td>\n",
              "      <td>Bohemian Rhapsody</td>\n",
              "      <td>Queen</td>\n",
              "    </tr>\n",
              "    <tr>\n",
              "      <th>0</th>\n",
              "      <td>6.198445</td>\n",
              "      <td>111</td>\n",
              "      <td>Roxanne</td>\n",
              "      <td>Roxanne</td>\n",
              "      <td>The Police</td>\n",
              "    </tr>\n",
              "    <tr>\n",
              "      <th>0</th>\n",
              "      <td>5.786688</td>\n",
              "      <td>111</td>\n",
              "      <td>Mary Jane's Last Dance</td>\n",
              "      <td>Greatest Hits</td>\n",
              "      <td>Tom Petty And The Heartbreakers</td>\n",
              "    </tr>\n",
              "    <tr>\n",
              "      <th>0</th>\n",
              "      <td>5.702484</td>\n",
              "      <td>111</td>\n",
              "      <td>Comfortably Numb</td>\n",
              "      <td>Is There Anybody Out There? / The Wall Live  P...</td>\n",
              "      <td>Pink Floyd</td>\n",
              "    </tr>\n",
              "    <tr>\n",
              "      <th>0</th>\n",
              "      <td>5.695571</td>\n",
              "      <td>111</td>\n",
              "      <td>1979</td>\n",
              "      <td>Rarities &amp; B-Sides</td>\n",
              "      <td>The Smashing Pumpkins</td>\n",
              "    </tr>\n",
              "  </tbody>\n",
              "</table>\n",
              "</div>"
            ],
            "text/plain": [
              "      score  ...                          artname\n",
              "0  6.288714  ...                            Queen\n",
              "0  6.198445  ...                       The Police\n",
              "0  5.786688  ...  Tom Petty And The Heartbreakers\n",
              "0  5.702484  ...                       Pink Floyd\n",
              "0  5.695571  ...            The Smashing Pumpkins\n",
              "\n",
              "[5 rows x 5 columns]"
            ]
          },
          "metadata": {
            "tags": []
          },
          "execution_count": 113
        }
      ]
    },
    {
      "cell_type": "code",
      "metadata": {
        "id": "Rf4bu6_h5ery",
        "colab_type": "code",
        "outputId": "5e4b0b94-fcf2-4761-9413-82f02825d500",
        "colab": {
          "base_uri": "https://localhost:8080/",
          "height": 125
        }
      },
      "source": [
        "args = FMArgs(len(train_df), linear_reg=0.03, factors_reg=0.01, num_dims=150,\n",
        "              batch_size=4096, lr=1.0, epochs=100)\n",
        "\n",
        "fm = fit_fm_args(TfBatchFM, args, \"bfm_encodedusersprevall_equi\", train_df,\n",
        "                 val_query_df, val_df, load=load, item_ctx_features=True,\n",
        "                 feature_fn=df2encodedusersprevall({\n",
        "                     \"prev_traid\": 0.25,\n",
        "                     \"prev_albid\": 0.25,\n",
        "                     \"prev_artid\": 0.25,\n",
        "                     \"prev_year\": 0.25 * 0.125,\n",
        "                     \"year\": 0.125,\n",
        "                     \"pyear\": 0.125},\n",
        "                     equi_weight_normalize))\n",
        "\n",
        "eval_fm(fm, \"bfm_encodedusersprevall_equi\", val_query_df, val_df,\n",
        "        filter_user_tracks=True);"
      ],
      "execution_count": 0,
      "outputs": [
        {
          "output_type": "stream",
          "text": [
            "INFO:tensorflow:Restoring parameters from /drive/My Drive/models/aotm-2011/bfm_encodedusersprevall_equi.ckpt\n",
            "0.009000 hit rate\n",
            "0.076243 ndcg\n",
            "\n",
            "718.84134s fit time\n",
            "59.91629s trans time\n"
          ],
          "name": "stdout"
        }
      ]
    },
    {
      "cell_type": "code",
      "metadata": {
        "id": "0d5nFPkbAflV",
        "colab_type": "code",
        "outputId": "0f9c78eb-360e-47c1-faed-ab3488bde9ad",
        "colab": {
          "base_uri": "https://localhost:8080/",
          "height": 125
        }
      },
      "source": [
        "args = FMArgs(len(train_df), linear_reg=0.03, factors_reg=0.01, num_dims=150,\n",
        "              batch_size=4096, lr=1.0, epochs=100)\n",
        "\n",
        "fm = fit_fm_args(TfBatchFM, args, \"bfm_encodedusersprevall_ones\", train_df,\n",
        "                 val_query_df, val_df, load=load, item_ctx_features=True,\n",
        "                 feature_fn=df2encodedusersprevall({\n",
        "                     \"prev_traid\": 0.25,\n",
        "                     \"prev_albid\": 0.25,\n",
        "                     \"prev_artid\": 0.25,\n",
        "                     \"prev_year\": 0.25 * 0.125,\n",
        "                     \"year\": 0.125,\n",
        "                     \"pyear\": 0.125},\n",
        "                     one_weight_normalize))\n",
        "\n",
        "eval_fm(fm, \"bfm_encodedusersprevall_ones\", val_query_df, val_df,\n",
        "        filter_user_tracks=True);"
      ],
      "execution_count": 0,
      "outputs": [
        {
          "output_type": "stream",
          "text": [
            "INFO:tensorflow:Restoring parameters from /drive/My Drive/models/aotm-2011/bfm_encodedusersprevall_ones.ckpt\n",
            "0.010000 hit rate\n",
            "0.084094 ndcg\n",
            "\n",
            "713.71503s fit time\n",
            "60.29995s trans time\n"
          ],
          "name": "stdout"
        }
      ]
    },
    {
      "cell_type": "markdown",
      "metadata": {
        "id": "d9kCxGCJf8gU",
        "colab_type": "text"
      },
      "source": [
        "### Vanilla factorization machines"
      ]
    },
    {
      "cell_type": "code",
      "metadata": {
        "id": "b6C5vl5CnFBf",
        "colab_type": "code",
        "outputId": "6098fa88-8a68-4786-d1ef-3d0d69da1c99",
        "colab": {
          "base_uri": "https://localhost:8080/",
          "height": 312
        }
      },
      "source": [
        "args = FMArgs(len(train_df), linear_reg=0.1, factors_reg=0.03, num_dims=150,\n",
        "              batch_size=4096*4, epochs=100)\n",
        "\n",
        "fm = fit_fm_args(TfFM, args, \"fm_prevall\", train_df, val_query_df,\n",
        "                 val_df, load=load, \n",
        "                 feature_fn=df2prevall({\n",
        "                     \"prev_traid\": 0.25,\n",
        "                     \"prev_albid\": 0.25,\n",
        "                     \"prev_artid\": 0.25,\n",
        "                     \"prev_year\": 0.25 * 0.125,\n",
        "                     \"year\": 0.125,\n",
        "                     \"pyear\": 0.125}))\n",
        "\n",
        "fm_df = eval_fm(fm, \"fm_prevall\", val_query_df, val_df,\n",
        "                filter_user_tracks=True)\n",
        "\n",
        "with_names(fm_df.head(), names_df)"
      ],
      "execution_count": 0,
      "outputs": [
        {
          "output_type": "stream",
          "text": [
            "INFO:tensorflow:Restoring parameters from /drive/My Drive/models/aotm-2011/fm_prevall.ckpt\n",
            "0.007000 hit rate\n",
            "0.073361 ndcg\n",
            "\n",
            "407.46221s fit time\n",
            "42.72005s trans time\n"
          ],
          "name": "stdout"
        },
        {
          "output_type": "execute_result",
          "data": {
            "text/html": [
              "<div>\n",
              "<style scoped>\n",
              "    .dataframe tbody tr th:only-of-type {\n",
              "        vertical-align: middle;\n",
              "    }\n",
              "\n",
              "    .dataframe tbody tr th {\n",
              "        vertical-align: top;\n",
              "    }\n",
              "\n",
              "    .dataframe thead th {\n",
              "        text-align: right;\n",
              "    }\n",
              "</style>\n",
              "<table border=\"1\" class=\"dataframe\">\n",
              "  <thead>\n",
              "    <tr style=\"text-align: right;\">\n",
              "      <th></th>\n",
              "      <th>score</th>\n",
              "      <th>pid</th>\n",
              "      <th>traname</th>\n",
              "      <th>albname</th>\n",
              "      <th>artname</th>\n",
              "    </tr>\n",
              "  </thead>\n",
              "  <tbody>\n",
              "    <tr>\n",
              "      <th>0</th>\n",
              "      <td>4.788515</td>\n",
              "      <td>111</td>\n",
              "      <td>Smells Like Teen Spirit</td>\n",
              "      <td>With The Lights Out - Box Set</td>\n",
              "      <td>Nirvana</td>\n",
              "    </tr>\n",
              "    <tr>\n",
              "      <th>0</th>\n",
              "      <td>4.715292</td>\n",
              "      <td>111</td>\n",
              "      <td>1979</td>\n",
              "      <td>Rarities &amp; B-Sides</td>\n",
              "      <td>The Smashing Pumpkins</td>\n",
              "    </tr>\n",
              "    <tr>\n",
              "      <th>0</th>\n",
              "      <td>4.654889</td>\n",
              "      <td>111</td>\n",
              "      <td>Wish You Were Here</td>\n",
              "      <td>The Electronic Tribute to Pink Floyd</td>\n",
              "      <td>Pink Floyd Tribute</td>\n",
              "    </tr>\n",
              "    <tr>\n",
              "      <th>0</th>\n",
              "      <td>4.618999</td>\n",
              "      <td>111</td>\n",
              "      <td>Loser</td>\n",
              "      <td>Mellow Gold</td>\n",
              "      <td>Beck</td>\n",
              "    </tr>\n",
              "    <tr>\n",
              "      <th>0</th>\n",
              "      <td>4.588201</td>\n",
              "      <td>111</td>\n",
              "      <td>Lithium</td>\n",
              "      <td>Sliver - The Best Of The Box</td>\n",
              "      <td>Nirvana</td>\n",
              "    </tr>\n",
              "  </tbody>\n",
              "</table>\n",
              "</div>"
            ],
            "text/plain": [
              "      score  pid  ...                               albname                artname\n",
              "0  4.788515  111  ...         With The Lights Out - Box Set                Nirvana\n",
              "0  4.715292  111  ...                    Rarities & B-Sides  The Smashing Pumpkins\n",
              "0  4.654889  111  ...  The Electronic Tribute to Pink Floyd     Pink Floyd Tribute\n",
              "0  4.618999  111  ...                           Mellow Gold                   Beck\n",
              "0  4.588201  111  ...          Sliver - The Best Of The Box                Nirvana\n",
              "\n",
              "[5 rows x 5 columns]"
            ]
          },
          "metadata": {
            "tags": []
          },
          "execution_count": 59
        }
      ]
    },
    {
      "cell_type": "code",
      "metadata": {
        "id": "USoQ_t5CnLxW",
        "colab_type": "code",
        "outputId": "22597bc7-6b20-479a-f756-4e62a5e053d6",
        "colab": {
          "base_uri": "https://localhost:8080/",
          "height": 312
        }
      },
      "source": [
        "args = FMArgs(len(train_df), linear_reg=0.1, factors_reg=0.03, num_dims=150,\n",
        "              batch_size=4096*4, epochs=100)\n",
        "\n",
        "fm = fit_fm_args(TfVanillaFM, args, \"vfm_prevall\", train_df, val_query_df,\n",
        "                 val_df, load=load, separate_features=True,\n",
        "                 feature_fn=df2prevall({\n",
        "                     \"prev_traid\": 0.25,\n",
        "                     \"prev_albid\": 0.25,\n",
        "                     \"prev_artid\": 0.25,\n",
        "                     \"prev_year\": 0.25 * 0.125,\n",
        "                     \"year\": 0.125,\n",
        "                     \"pyear\": 0.125}))\n",
        "\n",
        "fm_df = eval_fm(fm, \"vfm_prevall\", val_query_df, val_df,\n",
        "                filter_user_tracks=True)\n",
        "\n",
        "with_names(fm_df.head(), names_df)"
      ],
      "execution_count": 0,
      "outputs": [
        {
          "output_type": "stream",
          "text": [
            "INFO:tensorflow:Restoring parameters from /drive/My Drive/models/aotm-2011/vfm_prevall.ckpt\n",
            "0.004000 hit rate\n",
            "0.069432 ndcg\n",
            "\n",
            "1064.50742s fit time\n",
            "345.55483s trans time\n"
          ],
          "name": "stdout"
        },
        {
          "output_type": "execute_result",
          "data": {
            "text/html": [
              "<div>\n",
              "<style scoped>\n",
              "    .dataframe tbody tr th:only-of-type {\n",
              "        vertical-align: middle;\n",
              "    }\n",
              "\n",
              "    .dataframe tbody tr th {\n",
              "        vertical-align: top;\n",
              "    }\n",
              "\n",
              "    .dataframe thead th {\n",
              "        text-align: right;\n",
              "    }\n",
              "</style>\n",
              "<table border=\"1\" class=\"dataframe\">\n",
              "  <thead>\n",
              "    <tr style=\"text-align: right;\">\n",
              "      <th></th>\n",
              "      <th>score</th>\n",
              "      <th>pid</th>\n",
              "      <th>traname</th>\n",
              "      <th>albname</th>\n",
              "      <th>artname</th>\n",
              "    </tr>\n",
              "  </thead>\n",
              "  <tbody>\n",
              "    <tr>\n",
              "      <th>0</th>\n",
              "      <td>7.891500</td>\n",
              "      <td>111</td>\n",
              "      <td>Under Pressure (With Commentary)</td>\n",
              "      <td>Absolute Greatest (Includes track by track com...</td>\n",
              "      <td>Queen &amp; David Bowie</td>\n",
              "    </tr>\n",
              "    <tr>\n",
              "      <th>0</th>\n",
              "      <td>7.637059</td>\n",
              "      <td>111</td>\n",
              "      <td>Just Like Heaven</td>\n",
              "      <td>Kiss Me Kiss Me Kiss Me</td>\n",
              "      <td>The Cure</td>\n",
              "    </tr>\n",
              "    <tr>\n",
              "      <th>0</th>\n",
              "      <td>7.583895</td>\n",
              "      <td>111</td>\n",
              "      <td>Loser</td>\n",
              "      <td>Mellow Gold</td>\n",
              "      <td>Beck</td>\n",
              "    </tr>\n",
              "    <tr>\n",
              "      <th>0</th>\n",
              "      <td>7.580750</td>\n",
              "      <td>111</td>\n",
              "      <td>1979</td>\n",
              "      <td>Rarities &amp; B-Sides</td>\n",
              "      <td>The Smashing Pumpkins</td>\n",
              "    </tr>\n",
              "    <tr>\n",
              "      <th>0</th>\n",
              "      <td>7.447689</td>\n",
              "      <td>111</td>\n",
              "      <td>I Laid And I Wondered</td>\n",
              "      <td>Living Country Blues USA Vol. 5 - Mississippi ...</td>\n",
              "      <td>James \"Son\" Thomas &amp; Cleveland \"Broomman\" Jones</td>\n",
              "    </tr>\n",
              "  </tbody>\n",
              "</table>\n",
              "</div>"
            ],
            "text/plain": [
              "      score  ...                                          artname\n",
              "0  7.891500  ...                              Queen & David Bowie\n",
              "0  7.637059  ...                                         The Cure\n",
              "0  7.583895  ...                                             Beck\n",
              "0  7.580750  ...                            The Smashing Pumpkins\n",
              "0  7.447689  ...  James \"Son\" Thomas & Cleveland \"Broomman\" Jones\n",
              "\n",
              "[5 rows x 5 columns]"
            ]
          },
          "metadata": {
            "tags": []
          },
          "execution_count": 60
        }
      ]
    },
    {
      "cell_type": "markdown",
      "metadata": {
        "id": "tU6ROFU2jU_e",
        "colab_type": "text"
      },
      "source": [
        "### TransRec factorization machines"
      ]
    },
    {
      "cell_type": "code",
      "metadata": {
        "id": "LWcWaUZjj2_1",
        "colab_type": "code",
        "colab": {}
      },
      "source": [
        "train_prev_df = train_df[train_df[\"prev_traid\"] != 0]"
      ],
      "execution_count": 0,
      "outputs": []
    },
    {
      "cell_type": "code",
      "metadata": {
        "id": "zsmZiGu9J563",
        "colab_type": "code",
        "outputId": "e743e2b7-7c51-41e4-934b-2371c0784ca6",
        "colab": {
          "base_uri": "https://localhost:8080/",
          "height": 125
        }
      },
      "source": [
        "args = TransRecFMArgs(len(train_prev_df), linear_reg=0.03, factors_reg=0.01,\n",
        "                      num_dims=150, batch_size=4096, lr=1.0, epochs=100)\n",
        "\n",
        "fm = fit_fm_args(TfBatchTransRecFM, args, \"btransfm\", train_prev_df,\n",
        "                 val_query_df, val_df, load=load, separate_features=True,\n",
        "                 item_ctx_features=True,\n",
        "                 feature_fn=df2usersprevitems())\n",
        "\n",
        "eval_fm(fm, \"btransfm\", val_query_df, val_df, filter_user_tracks=True);"
      ],
      "execution_count": 0,
      "outputs": [
        {
          "output_type": "stream",
          "text": [
            "INFO:tensorflow:Restoring parameters from /drive/My Drive/models/aotm-2011/btransfm.ckpt\n",
            "0.011000 hit rate\n",
            "0.068952 ndcg\n",
            "\n",
            "473.75609s fit time\n",
            "14.86638s trans time\n"
          ],
          "name": "stdout"
        }
      ]
    },
    {
      "cell_type": "code",
      "metadata": {
        "id": "hVs8IBkoiNbW",
        "colab_type": "code",
        "outputId": "a2209184-89d9-42a4-855c-854b02e5de07",
        "colab": {
          "base_uri": "https://localhost:8080/",
          "height": 125
        }
      },
      "source": [
        "args = TransRecFMArgs(len(train_prev_df), linear_reg=0.03, factors_reg=0.01,\n",
        "                      num_dims=150, batch_size=4096, lr=1.0, epochs=100)\n",
        "\n",
        "fm = fit_fm_args(TfBatchTransRecFM, args, \"btransfm_prevall\", train_prev_df,\n",
        "                 val_query_df, val_df, load=load, separate_features=True,\n",
        "                 item_ctx_features=True,\n",
        "                 feature_fn=df2prevall({\n",
        "                     \"prev_year\": 0.125,\n",
        "                     \"year\": 0.125,\n",
        "                     \"pyear\": 0.125}))\n",
        "\n",
        "eval_fm(fm, \"btransfm_prevall\", val_query_df, val_df,\n",
        "        filter_user_tracks=True);"
      ],
      "execution_count": 0,
      "outputs": [
        {
          "output_type": "stream",
          "text": [
            "INFO:tensorflow:Restoring parameters from /drive/My Drive/models/aotm-2011/btransfm_prevall.ckpt\n",
            "0.012000 hit rate\n",
            "0.077857 ndcg\n",
            "\n",
            "550.61220s fit time\n",
            "32.61000s trans time\n"
          ],
          "name": "stdout"
        }
      ]
    },
    {
      "cell_type": "markdown",
      "metadata": {
        "id": "PyLBx8X3kcjf",
        "colab_type": "text"
      },
      "source": [
        "### Field-aware factorization machines"
      ]
    },
    {
      "cell_type": "code",
      "metadata": {
        "id": "ZtIDfRqPDDLl",
        "colab_type": "code",
        "outputId": "61345a16-d9c6-4a95-e8ca-f5e8645285a9",
        "colab": {
          "base_uri": "https://localhost:8080/",
          "height": 125
        }
      },
      "source": [
        "args = FFMArgs(len(train_df), num_ctx_fields=1, num_item_fields=3,\n",
        "               linear_reg=0.03, factors_reg=0.01, num_dims=50, epochs=100,\n",
        "               batch_size=4096, lr=1.0)\n",
        "\n",
        "fm = fit_fm_args(TfBatchFFM, args, \"bffm_itemfeats\", train_df, val_query_df,\n",
        "                 val_df, load=load, separate_features=True,\n",
        "                 feature_fn=df2usersitemfeats({}))\n",
        "\n",
        "eval_fm(fm, \"bffm_itemfeats\", val_query_df, val_df, filter_user_tracks=True);"
      ],
      "execution_count": 0,
      "outputs": [
        {
          "output_type": "stream",
          "text": [
            "INFO:tensorflow:Restoring parameters from /drive/My Drive/models/aotm-2011/bffm_itemfeats.ckpt\n",
            "0.011000 hit rate\n",
            "0.070030 ndcg\n",
            "\n",
            "437.68082s fit time\n",
            "16.56231s trans time\n"
          ],
          "name": "stdout"
        }
      ]
    },
    {
      "cell_type": "code",
      "metadata": {
        "id": "KNlXNII1jHSy",
        "colab_type": "code",
        "outputId": "57d76521-2a5a-4561-eee9-fd4aad72e0ec",
        "colab": {
          "base_uri": "https://localhost:8080/",
          "height": 125
        }
      },
      "source": [
        "args = FFMArgs(len(train_df), num_ctx_fields=4, num_item_fields=4,\n",
        "               linear_reg=0.03, factors_reg=0.01, num_dims=50, epochs=100,\n",
        "               batch_size=4096, lr=1.0)\n",
        "\n",
        "fm = fit_fm_args(TfBatchFFM, args, \"bffm_all\", train_df, val_query_df,\n",
        "                 val_df, load=load, separate_features=True,\n",
        "                 feature_fn=df2all({\n",
        "                     \"year\": 0.125,\n",
        "                     \"pyear\": 0.125}))\n",
        "\n",
        "eval_fm(fm, \"bffm_all\", val_query_df, val_df, filter_user_tracks=True);"
      ],
      "execution_count": 0,
      "outputs": [
        {
          "output_type": "stream",
          "text": [
            "INFO:tensorflow:Restoring parameters from /drive/My Drive/models/aotm-2011/bffm_all.ckpt\n",
            "0.010000 hit rate\n",
            "0.070414 ndcg\n",
            "\n",
            "652.22168s fit time\n",
            "27.32177s trans time\n"
          ],
          "name": "stdout"
        }
      ]
    },
    {
      "cell_type": "code",
      "metadata": {
        "id": "YqnbY6d9v5Os",
        "colab_type": "code",
        "outputId": "5591d158-cf48-447b-fa24-8f8090e8d862",
        "colab": {
          "base_uri": "https://localhost:8080/",
          "height": 125
        }
      },
      "source": [
        "args = FFMArgs(len(train_df), num_ctx_fields=4+4, num_item_fields=4,\n",
        "               linear_reg=0.03, factors_reg=0.01, num_dims=50, epochs=100,\n",
        "               batch_size=4096, lr=1.0)\n",
        "\n",
        "fm = fit_fm_args(TfBatchFFM, args, \"bffm_prevall\", train_df, val_query_df,\n",
        "                 val_df, load=load, separate_features=True,\n",
        "                 feature_fn=df2prevall({\n",
        "                     \"prev_traid\": 0.25,\n",
        "                     \"prev_albid\": 0.25,\n",
        "                     \"prev_artid\": 0.25,\n",
        "                     \"prev_year\": 0.25 * 0.125,\n",
        "                     \"year\": 0.125,\n",
        "                     \"pyear\": 0.125}))\n",
        "\n",
        "eval_fm(fm, \"bffm_prevall\", val_query_df, val_df, filter_user_tracks=True);"
      ],
      "execution_count": 0,
      "outputs": [
        {
          "output_type": "stream",
          "text": [
            "INFO:tensorflow:Restoring parameters from /drive/My Drive/models/aotm-2011/bffm_prevall.ckpt\n",
            "0.001000 hit rate\n",
            "0.019889 ndcg\n",
            "\n",
            "1026.37523s fit time\n",
            "40.18216s trans time\n"
          ],
          "name": "stdout"
        }
      ]
    },
    {
      "cell_type": "markdown",
      "metadata": {
        "id": "ImtQZ8pMET6y",
        "colab_type": "text"
      },
      "source": [
        "### Distributed factorization machines"
      ]
    },
    {
      "cell_type": "markdown",
      "metadata": {
        "id": "z0ss4fd3ukv9",
        "colab_type": "text"
      },
      "source": [
        "We save the preprocessed data frame to CSV, so they can be loaded in Spark for the distributed factorization machine implementation."
      ]
    },
    {
      "cell_type": "code",
      "metadata": {
        "id": "aNAPlkLcH_xC",
        "colab_type": "code",
        "colab": {}
      },
      "source": [
        "train_df = train_df.drop(columns=[\"timestamp\", \"sid\"])\n",
        "val_df = val_df.drop(columns=[\"timestamp\", \"sid\"])\n",
        "val_query_df = val_query_df.drop(columns=[\"timestamp\", \"sid\"])"
      ],
      "execution_count": 0,
      "outputs": []
    },
    {
      "cell_type": "code",
      "metadata": {
        "id": "mWYWqqxGEawo",
        "colab_type": "code",
        "colab": {}
      },
      "source": [
        "val_queryseeds_df = get_query_seeds(val_query_df)\n",
        "val_queryctx_df = get_query_ctx(val_query_df)"
      ],
      "execution_count": 0,
      "outputs": []
    },
    {
      "cell_type": "code",
      "metadata": {
        "id": "Oy_yByP2FG92",
        "colab_type": "code",
        "colab": {}
      },
      "source": [
        "max_user_cols = [\"category\", \"pid\", \"userid\", \"pyear\"]\n",
        "max_item_cols = [\"traid\", \"artid\", \"albid\", \"year\"]\n",
        "max_prev_item_cols = [\"prev_traid\", \"prev_artid\", \"prev_albid\", \"prev_year\"]\n",
        "\n",
        "max_df = train_df[max_user_cols + max_item_cols].max()\n",
        "for prev_col, col in zip(max_prev_item_cols, max_item_cols):\n",
        "  max_df[prev_col] = max_df[col]\n",
        "\n",
        "train_df = (train_df - 1) % max_df\n",
        "val_df = (val_df - 1) % max_df\n",
        "val_queryseeds_df = (val_queryseeds_df - 1) % max_df\n",
        "val_queryctx_df = (val_queryctx_df - 1) % max_df"
      ],
      "execution_count": 0,
      "outputs": []
    },
    {
      "cell_type": "code",
      "metadata": {
        "id": "RQh0aU19FhBw",
        "colab_type": "code",
        "colab": {}
      },
      "source": [
        "train_df.to_csv(\"AOTM-2011-train.csv\")\n",
        "val_df.to_csv(\"AOTM-2011-val.csv\")\n",
        "val_queryseeds_df.to_csv(\"AOTM-2011-val-queryseeds.csv\")\n",
        "val_queryctx_df.to_csv(\"AOTM-2011-val-queryctx.csv\")"
      ],
      "execution_count": 0,
      "outputs": []
    },
    {
      "cell_type": "markdown",
      "metadata": {
        "id": "TKeV63304GsH",
        "colab_type": "text"
      },
      "source": [
        "### Final"
      ]
    },
    {
      "cell_type": "markdown",
      "metadata": {
        "id": "jXDzJIGwjeia",
        "colab_type": "text"
      },
      "source": [
        "Finally, we perform an evaluation on the test set and a comparison with the baselines."
      ]
    },
    {
      "cell_type": "code",
      "metadata": {
        "id": "YrtAsMSi4ibV",
        "colab_type": "code",
        "colab": {}
      },
      "source": [
        "train_df, test_df, test_query_df = last_track_split(df, as_val=False,\n",
        "                                                    n_test_users=1000)"
      ],
      "execution_count": 0,
      "outputs": []
    },
    {
      "cell_type": "code",
      "metadata": {
        "id": "CrwWYsHg5YFI",
        "colab_type": "code",
        "outputId": "e1293514-a1a9-43ef-8de5-237620ca6602",
        "colab": {
          "base_uri": "https://localhost:8080/",
          "height": 125
        }
      },
      "source": [
        "args = FMArgs(len(train_df), linear_reg=0.03, factors_reg=0.01, num_dims=150,\n",
        "              batch_size=4096, lr=1.0)\n",
        "\n",
        "fm = fit_fm_args(TfBatchFM, args, \"f_bfm\", train_df, test_query_df,\n",
        "                 test_df, load=load)\n",
        "\n",
        "eval_fm(fm, \"f_bfm\", test_query_df, test_df, filter_user_tracks=True,\n",
        "        with_hit_rates=True);"
      ],
      "execution_count": 0,
      "outputs": [
        {
          "output_type": "stream",
          "text": [
            "INFO:tensorflow:Restoring parameters from /drive/My Drive/models/aotm-2011/f_bfm.ckpt\n",
            "0.013000 hit rate\n",
            "0.087465 ndcg\n",
            "\n",
            "4599.91801s fit time\n",
            "15.50193s trans time\n"
          ],
          "name": "stdout"
        }
      ]
    },
    {
      "cell_type": "code",
      "metadata": {
        "id": "ae5kgqem4nNT",
        "colab_type": "code",
        "outputId": "bdd491c2-69b4-45a5-f5a3-0fd46c13a475",
        "colab": {
          "base_uri": "https://localhost:8080/",
          "height": 125
        }
      },
      "source": [
        "args = FMArgs(len(train_df), linear_reg=0.03, factors_reg=0.01, num_dims=150,\n",
        "              batch_size=4096, lr=1.0)\n",
        "\n",
        "fm = fit_fm_args(TfBatchFM, args, \"f_bfm_prevall\", train_df, test_query_df,\n",
        "                 test_df, load=load,\n",
        "                 feature_fn=df2prevall({\n",
        "                     \"prev_traid\": 0.25,\n",
        "                     \"prev_albid\": 0.25,\n",
        "                     \"prev_artid\": 0.25,\n",
        "                     \"prev_year\": 0.25 * 0.125,\n",
        "                     \"year\": 0.125,\n",
        "                     \"pyear\": 0.125}))\n",
        "\n",
        "eval_fm(fm, \"f_bfm_prevall\", test_query_df, test_df, filter_user_tracks=True,\n",
        "        with_hit_rates=True);"
      ],
      "execution_count": 0,
      "outputs": [
        {
          "output_type": "stream",
          "text": [
            "INFO:tensorflow:Restoring parameters from /drive/My Drive/models/aotm-2011/f_bfm_prevall.ckpt\n",
            "0.017000 hit rate\n",
            "0.099636 ndcg\n",
            "\n",
            "6150.21671s fit time\n",
            "46.38467s trans time\n"
          ],
          "name": "stdout"
        }
      ]
    },
    {
      "cell_type": "code",
      "metadata": {
        "id": "bQvYWuS6mn4n",
        "colab_type": "code",
        "outputId": "32a18136-4b08-4ea3-a2ab-5855d7bf152f",
        "colab": {
          "base_uri": "https://localhost:8080/",
          "height": 350
        }
      },
      "source": [
        "def plot_final_hit_rates(n=500):\n",
        "  plt.figure(figsize=(9, 5))\n",
        "  plt.plot(pop_rank_hit_rates[:n], color=\"yellowgreen\")\n",
        "  plt.plot(sagh_hit_rates[:n], color=\"lime\")\n",
        "  plt.plot(knn300_hit_rates[:n], color=\"darkgreen\")\n",
        "  plt.plot(fm_evals[\"f_bfm\"][\"hit_rates\"], color=\"orange\")\n",
        "  plt.plot(fm_evals[\"f_bfm_prevall\"][\"hit_rates\"], color=\"red\")\n",
        "\n",
        "  yellowgreen_patch = mpatches.Patch(color=\"yellowgreen\", label=\"{:.6f}  Pop Rank\".format(\n",
        "      pop_rank_ndcg))\n",
        "  green_patch = mpatches.Patch(color=\"lime\", label=\"{:.6f}  SAGH\".format(\n",
        "      sagh_ndcg))\n",
        "  dgreen_patch = mpatches.Patch(color=\"darkgreen\", label=\"{:.6f}  kNN, k 300\".format(\n",
        "      knn300_ndcg))\n",
        "  orange_patch = mpatches.Patch(color=\"orange\", label=\"{:.6f}  FM\".format(\n",
        "      fm_evals[\"f_bfm\"][\"ndcg\"]))\n",
        "  red_patch = mpatches.Patch(color=\"red\", label=\"{:.6f}  FM, prev + all\".format(\n",
        "      fm_evals[\"f_bfm_prevall\"][\"ndcg\"])) \n",
        "  patches = [red_patch, orange_patch,\n",
        "             dgreen_patch, green_patch, yellowgreen_patch]\n",
        "  plt.legend(handles=patches)\n",
        "\n",
        "  plt.ylabel(\"hit rate\")\n",
        "  plt.xlabel(\"recommendations\")\n",
        "  plt.title(\"AOTM-2011\")\n",
        "  \n",
        "plot_final_hit_rates();"
      ],
      "execution_count": 0,
      "outputs": [
        {
          "output_type": "display_data",
          "data": {
            "image/png": "[encoded data removed]",
            "text/plain": [
              "<Figure size 648x360 with 1 Axes>"
            ]
          },
          "metadata": {
            "tags": []
          }
        }
      ]
    },
    {
      "cell_type": "markdown",
      "metadata": {
        "id": "oQo6FINcHePf",
        "colab_type": "text"
      },
      "source": [
        "## Cold start evaluation"
      ]
    },
    {
      "cell_type": "markdown",
      "metadata": {
        "id": "dY1KeNiig8HN",
        "colab_type": "text"
      },
      "source": [
        "#### Final"
      ]
    },
    {
      "cell_type": "markdown",
      "metadata": {
        "id": "oT3mGNKPjpCb",
        "colab_type": "text"
      },
      "source": [
        "Finally, we also perform an cold-start split evaluation on the test set and a comparison with the baselines.\n",
        "\n",
        "The parameters are the same as for the last-track split evaluation and not tuned for the cold-start split."
      ]
    },
    {
      "cell_type": "code",
      "metadata": {
        "id": "98ootVBv6X2Z",
        "colab_type": "code",
        "colab": {}
      },
      "source": [
        "train_df, test_df, test_query_df = users_split(df, 1000, n_seed_tracks=5)\n",
        "names_df = to_names_index(train_df)\n",
        "drop_names([train_df, test_df, test_query_df])"
      ],
      "execution_count": 0,
      "outputs": []
    },
    {
      "cell_type": "code",
      "metadata": {
        "id": "0UTQCxzBId5m",
        "colab_type": "code",
        "outputId": "d0c33173-5445-4841-9661-b384ff7751d6",
        "colab": {
          "base_uri": "https://localhost:8080/",
          "height": 325
        }
      },
      "source": [
        "args = FMArgs(len(train_df), linear_reg=0.03, factors_reg=0.01, num_dims=150,\n",
        "              batch_size=4096, lr=1.0)\n",
        "\n",
        "fm = fit_fm_args(TfBatchFM, args, \"cf_bfm\", train_df,\n",
        "                 test_query_df, test_df, load=load,\n",
        "                 feature_fn=df2encodedusersitems())\n",
        "\n",
        "eval_fm(fm, \"cf_bfm\", test_query_df, test_df,\n",
        "        filter_user_tracks=True, with_hit_rates=True);"
      ],
      "execution_count": 0,
      "outputs": [
        {
          "output_type": "stream",
          "text": [
            "INFO:tensorflow:Restoring parameters from /drive/My Drive/models/aotm-2011/cf_bfm.ckpt\n"
          ],
          "name": "stdout"
        },
        {
          "output_type": "stream",
          "text": [
            "/usr/local/lib/python3.6/dist-packages/ipykernel_launcher.py:42: SettingWithCopyWarning: \n",
            "A value is trying to be set on a copy of a slice from a DataFrame.\n",
            "Try using .loc[row_indexer,col_indexer] = value instead\n",
            "\n",
            "See the caveats in the documentation: http://pandas.pydata.org/pandas-docs/stable/user_guide/indexing.html#returning-a-view-versus-a-copy\n",
            "/usr/local/lib/python3.6/dist-packages/ipykernel_launcher.py:68: SettingWithCopyWarning: \n",
            "A value is trying to be set on a copy of a slice from a DataFrame.\n",
            "Try using .loc[row_indexer,col_indexer] = value instead\n",
            "\n",
            "See the caveats in the documentation: http://pandas.pydata.org/pandas-docs/stable/user_guide/indexing.html#returning-a-view-versus-a-copy\n"
          ],
          "name": "stderr"
        },
        {
          "output_type": "stream",
          "text": [
            "0.008491 hit rate\n",
            "0.108833 ndcg\n",
            "\n",
            "4722.62057s fit time\n",
            "24.47545s trans time\n"
          ],
          "name": "stdout"
        }
      ]
    },
    {
      "cell_type": "code",
      "metadata": {
        "id": "rEaCLz2bybCD",
        "colab_type": "code",
        "outputId": "ac4890dc-87f2-441a-a9a6-68c4869c0190",
        "colab": {
          "base_uri": "https://localhost:8080/",
          "height": 325
        }
      },
      "source": [
        "args = FMArgs(len(train_df), linear_reg=0.03, factors_reg=0.01, num_dims=150,\n",
        "              batch_size=4096, lr=1.0)\n",
        "\n",
        "fm = fit_fm_args(TfBatchFM, args, \"cf_bfm_prevall\", train_df,\n",
        "                 test_query_df, test_df, load=load,\n",
        "                 feature_fn=df2encodedusersprevall({\n",
        "                     \"prev_traid\": 0.25,\n",
        "                     \"prev_albid\": 0.25,\n",
        "                     \"prev_artid\": 0.25,\n",
        "                     \"prev_year\": 0.25 * 0.125,\n",
        "                     \"year\": 0.125,\n",
        "                     \"pyear\": 0.125}))\n",
        "\n",
        "eval_fm(fm, \"cf_bfm_prevall\", test_query_df, test_df,\n",
        "        filter_user_tracks=True, with_hit_rates=True);"
      ],
      "execution_count": 0,
      "outputs": [
        {
          "output_type": "stream",
          "text": [
            "INFO:tensorflow:Restoring parameters from /drive/My Drive/models/aotm-2011/cf_bfm_prevall.ckpt\n"
          ],
          "name": "stdout"
        },
        {
          "output_type": "stream",
          "text": [
            "/usr/local/lib/python3.6/dist-packages/ipykernel_launcher.py:42: SettingWithCopyWarning: \n",
            "A value is trying to be set on a copy of a slice from a DataFrame.\n",
            "Try using .loc[row_indexer,col_indexer] = value instead\n",
            "\n",
            "See the caveats in the documentation: http://pandas.pydata.org/pandas-docs/stable/user_guide/indexing.html#returning-a-view-versus-a-copy\n",
            "/usr/local/lib/python3.6/dist-packages/ipykernel_launcher.py:68: SettingWithCopyWarning: \n",
            "A value is trying to be set on a copy of a slice from a DataFrame.\n",
            "Try using .loc[row_indexer,col_indexer] = value instead\n",
            "\n",
            "See the caveats in the documentation: http://pandas.pydata.org/pandas-docs/stable/user_guide/indexing.html#returning-a-view-versus-a-copy\n"
          ],
          "name": "stderr"
        },
        {
          "output_type": "stream",
          "text": [
            "0.006633 hit rate\n",
            "0.119926 ndcg\n",
            "\n",
            "7361.57926s fit time\n",
            "53.07277s trans time\n"
          ],
          "name": "stdout"
        }
      ]
    },
    {
      "cell_type": "code",
      "metadata": {
        "id": "wsJz9RV1bQdK",
        "colab_type": "code",
        "outputId": "6e4bbb5f-083e-427f-cc21-023169d0731b",
        "colab": {
          "base_uri": "https://localhost:8080/",
          "height": 350
        }
      },
      "source": [
        "def plot_cfinal_hit_rates(n=500):\n",
        "  plt.figure(figsize=(9, 5))\n",
        "  plt.plot(c_pop_rank_hit_rates[:n], color=\"yellowgreen\")\n",
        "  plt.plot(c_sagh_hit_rates[:n], color=\"lime\")\n",
        "  plt.plot(c_knn300_hit_rates[:n], color=\"darkgreen\")\n",
        "  plt.plot(fm_evals[\"cf_bfm\"][\"hit_rates\"][:n], color=\"orange\")\n",
        "  plt.plot(fm_evals[\"cf_bfm_prevall\"][\"hit_rates\"][:n], color=\"red\")\n",
        "\n",
        "  yellowgreen_patch = mpatches.Patch(color=\"yellowgreen\", label=\"{:.6f}  Pop Rank\".format(\n",
        "      c_pop_rank_ndcg))\n",
        "  green_patch = mpatches.Patch(color=\"lime\", label=\"{:.6f}  SAGH\".format(\n",
        "      c_sagh_ndcg))\n",
        "  dgreen_patch = mpatches.Patch(color=\"darkgreen\", label=\"{:.6f}  kNN, k 300\".format(\n",
        "      c_knn300_ndcg))\n",
        "  orange_patch = mpatches.Patch(color=\"orange\", label=\"{:.6f}  FM\".format(\n",
        "      fm_evals[\"cf_bfm\"][\"ndcg\"]))\n",
        "  red_patch = mpatches.Patch(color=\"red\", label=\"{:.6f}  FM, prev + all\".format(\n",
        "      fm_evals[\"cf_bfm_prevall\"][\"ndcg\"])) \n",
        "  patches = [red_patch, orange_patch, \n",
        "             dgreen_patch, green_patch, yellowgreen_patch]\n",
        "  plt.legend(handles=patches)\n",
        "\n",
        "  plt.ylabel(\"hit rate\")\n",
        "  plt.xlabel(\"recommendations\")\n",
        "  plt.title(\"AOTM-2011\")\n",
        "  \n",
        "plot_cfinal_hit_rates();"
      ],
      "execution_count": 0,
      "outputs": [
        {
          "output_type": "display_data",
          "data": {
            "image/png": "[encoded data removed]",
            "text/plain": [
              "<Figure size 648x360 with 1 Axes>"
            ]
          },
          "metadata": {
            "tags": []
          }
        }
      ]
    },
    {
      "cell_type": "code",
      "metadata": {
        "id": "DRJnJEu2WtUD",
        "colab_type": "code",
        "outputId": "06d1639e-d694-4429-c1c0-5fbd3ece7c75",
        "colab": {
          "base_uri": "https://localhost:8080/",
          "height": 350
        }
      },
      "source": [
        "plot_cfinal_hit_rates(n=5);"
      ],
      "execution_count": 0,
      "outputs": [
        {
          "output_type": "display_data",
          "data": {
            "image/png": "[encoded data removed]",
            "text/plain": [
              "<Figure size 648x360 with 1 Axes>"
            ]
          },
          "metadata": {
            "tags": []
          }
        }
      ]
    }
  ]
}