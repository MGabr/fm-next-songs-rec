{
  "nbformat": 4,
  "nbformat_minor": 0,
  "metadata": {
    "colab": {
      "name": "30Music.ipynb",
      "provenance": [],
      "toc_visible": true,
      "machine_shape": "hm",
      "include_colab_link": true
    },
    "kernelspec": {
      "name": "python3",
      "display_name": "Python 3"
    },
    "accelerator": "GPU"
  },
  "cells": [
    {
      "cell_type": "markdown",
      "metadata": {
        "id": "view-in-github",
        "colab_type": "text"
      },
      "source": [
        "<a href=\"https://colab.research.google.com/github/MGabr/fm-next-songs-rec/blob/master/30Music.ipynb\" target=\"_parent\"><img src=\"https://colab.research.google.com/assets/colab-badge.svg\" alt=\"Open In Colab\"/></a>"
      ]
    },
    {
      "cell_type": "markdown",
      "metadata": {
        "id": "pwYG4tFgUmU8",
        "colab_type": "text"
      },
      "source": [
        "<font size=\"6\">**30Music**</font>"
      ]
    },
    {
      "cell_type": "markdown",
      "metadata": {
        "id": "voUWdxV6U8Qd",
        "colab_type": "text"
      },
      "source": [
        "This evaluation is done with the 30Music dataset which can be obtained at http://recsys.deib.polimi.it/datasets/.\n",
        "\n",
        "The evaluation is done with only the more than 57k playlists from the dataset, not the listening histories."
      ]
    },
    {
      "cell_type": "markdown",
      "metadata": {
        "id": "d1jvNkAkWPy_",
        "colab_type": "text"
      },
      "source": [
        "First we load all needed libraries here."
      ]
    },
    {
      "cell_type": "code",
      "metadata": {
        "id": "mOOtGQ_oxXw_",
        "colab_type": "code",
        "colab": {}
      },
      "source": [
        "%tensorflow_version 1.x"
      ],
      "execution_count": 0,
      "outputs": []
    },
    {
      "cell_type": "code",
      "metadata": {
        "id": "19-NbAu6UlBE",
        "colab_type": "code",
        "colab": {}
      },
      "source": [
        "import warnings\n",
        "warnings.filterwarnings(\"ignore\", category=DeprecationWarning) \n",
        "\n",
        "import csv\n",
        "import json\n",
        "import os\n",
        "import time\n",
        "import pickle\n",
        "import yaml\n",
        "\n",
        "import pandas as pd\n",
        "import matplotlib.pyplot as plt\n",
        "import matplotlib.patches as mpatches\n",
        "import numpy as np\n",
        "import numba as nb\n",
        "import scipy.sparse as sp\n",
        "import tensorflow as tf\n",
        "import tensorflow.sparse as tfs\n",
        "\n",
        "# disable deprecation warnings\n",
        "if type(tf.contrib) != type(tf): tf.contrib._warning = None\n",
        "\n",
        "import logging\n",
        "import absl.logging\n",
        "logging.root.removeHandler(absl.logging._absl_handler)\n",
        "absl.logging._warn_preinit_stderr = False\n",
        "\n",
        "\n",
        "from google.colab import drive, files\n",
        "from math import ceil, log2, floor, sqrt\n",
        "from scipy.sparse import csr_matrix, coo_matrix\n",
        "from sklearn.feature_extraction.text import TfidfTransformer\n",
        "from sklearn.metrics.pairwise import cosine_similarity\n",
        "from sklearn.preprocessing import normalize\n",
        "from sklearn.utils import shuffle\n",
        "from statistics import mean\n",
        "from timeit import timeit"
      ],
      "execution_count": 0,
      "outputs": []
    },
    {
      "cell_type": "code",
      "metadata": {
        "id": "Rx0DAtQO5u1A",
        "colab_type": "code",
        "outputId": "4b39dd68-2387-4d6e-9e19-59daac617d42",
        "colab": {
          "base_uri": "https://localhost:8080/",
          "height": 33
        }
      },
      "source": [
        "nb.__version__"
      ],
      "execution_count": 0,
      "outputs": [
        {
          "output_type": "execute_result",
          "data": {
            "text/plain": [
              "'0.47.0'"
            ]
          },
          "metadata": {
            "tags": []
          },
          "execution_count": 3
        }
      ]
    },
    {
      "cell_type": "markdown",
      "metadata": {
        "id": "WcLGO6yyWWaE",
        "colab_type": "text"
      },
      "source": [
        "# Data loading and preprocessing"
      ]
    },
    {
      "cell_type": "markdown",
      "metadata": {
        "id": "3E-4zCA4WqBt",
        "colab_type": "text"
      },
      "source": [
        "If the notebook is executed in google colaboratory, the compressed data set should be stored in the directory *datasets* on google drive. This google drive directory can then be mounted and the dataset decompressed. For mounting, access to google drive has to be granted and a received authorization code entered."
      ]
    },
    {
      "cell_type": "code",
      "metadata": {
        "id": "GcTY3NEOWSwm",
        "colab_type": "code",
        "outputId": "b8ccab44-5b7a-402f-a000-bf6b72bc818d",
        "colab": {
          "base_uri": "https://localhost:8080/",
          "height": 236
        }
      },
      "source": [
        "os.chdir(\"/\")\n",
        "drive.mount(\"/drive\", force_remount=True)\n",
        "\n",
        "!ls \"/drive/My Drive/datasets\"\n",
        "!tar -xvf \"/drive/My Drive/datasets/ThirtyMusic.tar.gz\" --wildcards \"entities/*\"\n",
        "\n",
        "os.chdir(\"/drive/My Drive/\")\n",
        "if not os.path.exists(\"models\"):\n",
        "  os.mkdir(\"models\")\n",
        "if not os.path.exists(\"models/30music\"):\n",
        "  os.mkdir(\"models/30music\")\n",
        "os.chdir(\"/\")"
      ],
      "execution_count": 0,
      "outputs": [
        {
          "output_type": "stream",
          "text": [
            "Go to this URL in a browser: https://accounts.google.com/o/oauth2/auth?client_id=947318989803-6bn6qk8qdgf4n4g3pfee6491hc0brc4i.apps.googleusercontent.com&redirect_uri=urn%3aietf%3awg%3aoauth%3a2.0%3aoob&response_type=code&scope=email%20https%3a%2f%2fwww.googleapis.com%2fauth%2fdocs.test%20https%3a%2f%2fwww.googleapis.com%2fauth%2fdrive%20https%3a%2f%2fwww.googleapis.com%2fauth%2fdrive.photos.readonly%20https%3a%2f%2fwww.googleapis.com%2fauth%2fpeopleapi.readonly\n",
            "\n",
            "Enter your authorization code:\n",
            "··········\n",
            "Mounted at /drive\n",
            "ThirtyMusic.tar.gz\n",
            "entities/users.idomaar\n",
            "entities/playlist.idomaar\n",
            "entities/tracks.idomaar\n",
            "entities/tags.idomaar\n",
            "entities/persons.idomaar\n",
            "entities/albums.idomaar\n"
          ],
          "name": "stdout"
        }
      ]
    },
    {
      "cell_type": "code",
      "metadata": {
        "id": "St8IHawegzgd",
        "colab_type": "code",
        "colab": {}
      },
      "source": [
        "models_dirname = \"/drive/My Drive/models/30music/\""
      ],
      "execution_count": 0,
      "outputs": []
    },
    {
      "cell_type": "code",
      "metadata": {
        "id": "iLwIbdEb6osb",
        "colab_type": "code",
        "outputId": "c9283cc5-f75a-4938-f3fe-f8c54a1c1dc3",
        "colab": {
          "base_uri": "https://localhost:8080/",
          "height": 197
        }
      },
      "source": [
        "def get_playlists_df():\n",
        "  ps_names = [\"type\", \"pid\", \"timestamp\", \"json1\", \"json2\"]\n",
        "  ps_usecols = [\"pid\", \"timestamp\", \"json2\"]\n",
        "  df = pd.read_csv(\"entities/playlist.idomaar\", sep=\"\\t\", names=ps_names,\n",
        "                   usecols=ps_usecols)\n",
        "\n",
        "  df_pid_time = df[[\"pid\", \"timestamp\"]] \n",
        "  df = pd.io.json.json_normalize(df[\"json2\"].apply(json.loads))\n",
        "  s_userid = pd.io.json.json_normalize(df[\"subjects\"].map(lambda l: l[0]))[\"id\"]\n",
        "  s_userid = s_userid.rename(\"userid\")\n",
        "  s = df[\"objects\"].apply(pd.Series)\n",
        "  df = df_pid_time.merge(s_userid, left_index=True, right_index=True)\n",
        "  df = df.merge(s, left_index=True, right_index=True)\n",
        "\n",
        "  df = pd.melt(df, [\"pid\", \"timestamp\", \"userid\"],\n",
        "              var_name=\"trapos\", value_name=\"trajson\")\n",
        "  df = df[df[\"trajson\"].apply(isinstance, args=(dict,))]\n",
        "  df[\"traid\"] = df[\"trajson\"].map(lambda d: d[\"id\"])\n",
        "\n",
        "  df = df[[\"pid\", \"timestamp\", \"userid\", \"traid\"]]\n",
        "  df.sort_values(\"pid\", inplace=True, kind=\"mergesort\")\n",
        "  return df\n",
        "\n",
        "df = get_playlists_df()\n",
        "df.head()"
      ],
      "execution_count": 0,
      "outputs": [
        {
          "output_type": "execute_result",
          "data": {
            "text/html": [
              "<div>\n",
              "<style scoped>\n",
              "    .dataframe tbody tr th:only-of-type {\n",
              "        vertical-align: middle;\n",
              "    }\n",
              "\n",
              "    .dataframe tbody tr th {\n",
              "        vertical-align: top;\n",
              "    }\n",
              "\n",
              "    .dataframe thead th {\n",
              "        text-align: right;\n",
              "    }\n",
              "</style>\n",
              "<table border=\"1\" class=\"dataframe\">\n",
              "  <thead>\n",
              "    <tr style=\"text-align: right;\">\n",
              "      <th></th>\n",
              "      <th>pid</th>\n",
              "      <th>timestamp</th>\n",
              "      <th>userid</th>\n",
              "      <th>traid</th>\n",
              "    </tr>\n",
              "  </thead>\n",
              "  <tbody>\n",
              "    <tr>\n",
              "      <th>0</th>\n",
              "      <td>0</td>\n",
              "      <td>1216545588</td>\n",
              "      <td>41504</td>\n",
              "      <td>3006631</td>\n",
              "    </tr>\n",
              "    <tr>\n",
              "      <th>57561</th>\n",
              "      <td>0</td>\n",
              "      <td>1216545588</td>\n",
              "      <td>41504</td>\n",
              "      <td>1885124</td>\n",
              "    </tr>\n",
              "    <tr>\n",
              "      <th>115122</th>\n",
              "      <td>0</td>\n",
              "      <td>1216545588</td>\n",
              "      <td>41504</td>\n",
              "      <td>2548942</td>\n",
              "    </tr>\n",
              "    <tr>\n",
              "      <th>172683</th>\n",
              "      <td>0</td>\n",
              "      <td>1216545588</td>\n",
              "      <td>41504</td>\n",
              "      <td>1350486</td>\n",
              "    </tr>\n",
              "    <tr>\n",
              "      <th>230244</th>\n",
              "      <td>0</td>\n",
              "      <td>1216545588</td>\n",
              "      <td>41504</td>\n",
              "      <td>3734368</td>\n",
              "    </tr>\n",
              "  </tbody>\n",
              "</table>\n",
              "</div>"
            ],
            "text/plain": [
              "        pid   timestamp  userid    traid\n",
              "0         0  1216545588   41504  3006631\n",
              "57561     0  1216545588   41504  1885124\n",
              "115122    0  1216545588   41504  2548942\n",
              "172683    0  1216545588   41504  1350486\n",
              "230244    0  1216545588   41504  3734368"
            ]
          },
          "metadata": {
            "tags": []
          },
          "execution_count": 6
        }
      ]
    },
    {
      "cell_type": "code",
      "metadata": {
        "id": "zgfTJv884wcr",
        "colab_type": "code",
        "outputId": "fefeed5e-df51-4b8e-d706-247badc3ecad",
        "colab": {
          "base_uri": "https://localhost:8080/",
          "height": 33
        }
      },
      "source": [
        "len(df)"
      ],
      "execution_count": 0,
      "outputs": [
        {
          "output_type": "execute_result",
          "data": {
            "text/plain": [
              "1603040"
            ]
          },
          "metadata": {
            "tags": []
          },
          "execution_count": 7
        }
      ]
    },
    {
      "cell_type": "code",
      "metadata": {
        "id": "uq7wRw39oO84",
        "colab_type": "code",
        "outputId": "f46a3158-33c6-4198-b8a0-c9df43fb1597",
        "colab": {
          "base_uri": "https://localhost:8080/",
          "height": 197
        }
      },
      "source": [
        "def with_tracks_info(df):\n",
        "  tracks_names = [\"type\", \"traid\", \"timestamp\", \"json1\", \"json2\"]\n",
        "  tracks_usecols = [\"traid\", \"json2\"]\n",
        "  tracks_df = pd.read_csv(\"entities/tracks.idomaar\", sep=\"\\t\",\n",
        "                          names=tracks_names, usecols=tracks_usecols)\n",
        "  \n",
        "  tracks_df = tracks_df[tracks_df[\"traid\"].isin(df[\"traid\"].drop_duplicates())]\n",
        "  s_traid = tracks_df[\"traid\"].reset_index()\n",
        "  tracks_df = pd.io.json.json_normalize(tracks_df[\"json2\"].apply(json.loads))\n",
        "  tracks_df = tracks_df.merge(s_traid, left_index=True, right_index=True)\n",
        "  tracks_df[\"artid\"] = tracks_df[\"artists\"].map(lambda a: a[0][\"id\"])\n",
        "  tracks_df[\"albid\"] = tracks_df[\"albums\"].map(lambda a: a[0][\"id\"] if a else None)\n",
        "  tracks_df.drop(columns=[\"artists\", \"albums\", \"tags\"], inplace=True)\n",
        "  \n",
        "  # a track may have multiple entities - e.g. artists?\n",
        "  # we drop multiple entities and take only the first\n",
        "  tracks_df.drop_duplicates(subset=[\"traid\"], inplace=True)\n",
        "\n",
        "  # missing artist will get an id corresponding to their track\n",
        "  # missing albums will get an id corresponding to their artist\n",
        "  new_id_offset = 1000000\n",
        "  tracks_df[\"artid\"] = tracks_df[\"artid\"].fillna(new_id_offset + tracks_df[\"traid\"])\n",
        "  tracks_df[\"albid\"] = tracks_df[\"albid\"].fillna(new_id_offset + tracks_df[\"artid\"])\n",
        "\n",
        "  df = df.join(tracks_df.set_index(\"traid\"), on=\"traid\")\n",
        "\n",
        "  return df\n",
        "\n",
        "df = with_tracks_info(df)\n",
        "df.head()"
      ],
      "execution_count": 0,
      "outputs": [
        {
          "output_type": "execute_result",
          "data": {
            "text/html": [
              "<div>\n",
              "<style scoped>\n",
              "    .dataframe tbody tr th:only-of-type {\n",
              "        vertical-align: middle;\n",
              "    }\n",
              "\n",
              "    .dataframe tbody tr th {\n",
              "        vertical-align: top;\n",
              "    }\n",
              "\n",
              "    .dataframe thead th {\n",
              "        text-align: right;\n",
              "    }\n",
              "</style>\n",
              "<table border=\"1\" class=\"dataframe\">\n",
              "  <thead>\n",
              "    <tr style=\"text-align: right;\">\n",
              "      <th></th>\n",
              "      <th>pid</th>\n",
              "      <th>timestamp</th>\n",
              "      <th>userid</th>\n",
              "      <th>traid</th>\n",
              "      <th>index</th>\n",
              "      <th>artid</th>\n",
              "      <th>albid</th>\n",
              "    </tr>\n",
              "  </thead>\n",
              "  <tbody>\n",
              "    <tr>\n",
              "      <th>0</th>\n",
              "      <td>0</td>\n",
              "      <td>1216545588</td>\n",
              "      <td>41504</td>\n",
              "      <td>3006631</td>\n",
              "      <td>3497675</td>\n",
              "      <td>371862</td>\n",
              "      <td>3382.0</td>\n",
              "    </tr>\n",
              "    <tr>\n",
              "      <th>57561</th>\n",
              "      <td>0</td>\n",
              "      <td>1216545588</td>\n",
              "      <td>41504</td>\n",
              "      <td>1885124</td>\n",
              "      <td>1975475</td>\n",
              "      <td>236238</td>\n",
              "      <td>108772.0</td>\n",
              "    </tr>\n",
              "    <tr>\n",
              "      <th>115122</th>\n",
              "      <td>0</td>\n",
              "      <td>1216545588</td>\n",
              "      <td>41504</td>\n",
              "      <td>2548942</td>\n",
              "      <td>2648397</td>\n",
              "      <td>319762</td>\n",
              "      <td>146914.0</td>\n",
              "    </tr>\n",
              "    <tr>\n",
              "      <th>172683</th>\n",
              "      <td>0</td>\n",
              "      <td>1216545588</td>\n",
              "      <td>41504</td>\n",
              "      <td>1350486</td>\n",
              "      <td>1370043</td>\n",
              "      <td>170088</td>\n",
              "      <td>1170088.0</td>\n",
              "    </tr>\n",
              "    <tr>\n",
              "      <th>230244</th>\n",
              "      <td>0</td>\n",
              "      <td>1216545588</td>\n",
              "      <td>41504</td>\n",
              "      <td>3734368</td>\n",
              "      <td>4235809</td>\n",
              "      <td>464920</td>\n",
              "      <td>1464920.0</td>\n",
              "    </tr>\n",
              "  </tbody>\n",
              "</table>\n",
              "</div>"
            ],
            "text/plain": [
              "        pid   timestamp  userid    traid    index   artid      albid\n",
              "0         0  1216545588   41504  3006631  3497675  371862     3382.0\n",
              "57561     0  1216545588   41504  1885124  1975475  236238   108772.0\n",
              "115122    0  1216545588   41504  2548942  2648397  319762   146914.0\n",
              "172683    0  1216545588   41504  1350486  1370043  170088  1170088.0\n",
              "230244    0  1216545588   41504  3734368  4235809  464920  1464920.0"
            ]
          },
          "metadata": {
            "tags": []
          },
          "execution_count": 8
        }
      ]
    },
    {
      "cell_type": "code",
      "metadata": {
        "id": "edLzPh9P4-_A",
        "colab_type": "code",
        "outputId": "c20353be-3cb4-4fdf-c98f-6b08b0bd531b",
        "colab": {
          "base_uri": "https://localhost:8080/",
          "height": 33
        }
      },
      "source": [
        "len(df)"
      ],
      "execution_count": 0,
      "outputs": [
        {
          "output_type": "execute_result",
          "data": {
            "text/plain": [
              "1603040"
            ]
          },
          "metadata": {
            "tags": []
          },
          "execution_count": 9
        }
      ]
    },
    {
      "cell_type": "code",
      "metadata": {
        "id": "CSz-0cQomPs7",
        "colab_type": "code",
        "outputId": "6056602d-4438-4517-d620-b5d20b839f6d",
        "colab": {
          "base_uri": "https://localhost:8080/",
          "height": 217
        }
      },
      "source": [
        "def with_users_info(df):\n",
        "  users_names = [\"type\", \"userid\", \"timestamp\", \"json\"]\n",
        "  users_usecols = [\"userid\", \"json\"]\n",
        "  users_df = pd.read_csv(\"entities/users.idomaar\", sep=\"\\t\", names=users_names,\n",
        "                         usecols=users_usecols)\n",
        "\n",
        "  users_df = users_df[users_df[\"userid\"].isin(df[\"userid\"].drop_duplicates())]\n",
        "  s_userid = users_df[\"userid\"].reset_index()\n",
        "  users_df = pd.io.json.json_normalize(users_df[\"json\"].apply(yaml.load))\n",
        "  users_df = users_df.merge(s_userid, left_index=True, right_index=True)\n",
        "  users_df = users_df[[\"userid\", \"age\", \"country\", \"gender\"]]\n",
        "\n",
        "  df = df.join(users_df.set_index(\"userid\"), on=\"userid\")\n",
        "\n",
        "  return df\n",
        "\n",
        "df = with_users_info(df)\n",
        "df.head()"
      ],
      "execution_count": 0,
      "outputs": [
        {
          "output_type": "execute_result",
          "data": {
            "text/html": [
              "<div>\n",
              "<style scoped>\n",
              "    .dataframe tbody tr th:only-of-type {\n",
              "        vertical-align: middle;\n",
              "    }\n",
              "\n",
              "    .dataframe tbody tr th {\n",
              "        vertical-align: top;\n",
              "    }\n",
              "\n",
              "    .dataframe thead th {\n",
              "        text-align: right;\n",
              "    }\n",
              "</style>\n",
              "<table border=\"1\" class=\"dataframe\">\n",
              "  <thead>\n",
              "    <tr style=\"text-align: right;\">\n",
              "      <th></th>\n",
              "      <th>pid</th>\n",
              "      <th>timestamp</th>\n",
              "      <th>userid</th>\n",
              "      <th>traid</th>\n",
              "      <th>index</th>\n",
              "      <th>artid</th>\n",
              "      <th>albid</th>\n",
              "      <th>age</th>\n",
              "      <th>country</th>\n",
              "      <th>gender</th>\n",
              "    </tr>\n",
              "  </thead>\n",
              "  <tbody>\n",
              "    <tr>\n",
              "      <th>0</th>\n",
              "      <td>0</td>\n",
              "      <td>1216545588</td>\n",
              "      <td>41504</td>\n",
              "      <td>3006631</td>\n",
              "      <td>3497675</td>\n",
              "      <td>371862</td>\n",
              "      <td>3382.0</td>\n",
              "      <td>32.0</td>\n",
              "      <td>DE</td>\n",
              "      <td>m</td>\n",
              "    </tr>\n",
              "    <tr>\n",
              "      <th>57561</th>\n",
              "      <td>0</td>\n",
              "      <td>1216545588</td>\n",
              "      <td>41504</td>\n",
              "      <td>1885124</td>\n",
              "      <td>1975475</td>\n",
              "      <td>236238</td>\n",
              "      <td>108772.0</td>\n",
              "      <td>32.0</td>\n",
              "      <td>DE</td>\n",
              "      <td>m</td>\n",
              "    </tr>\n",
              "    <tr>\n",
              "      <th>115122</th>\n",
              "      <td>0</td>\n",
              "      <td>1216545588</td>\n",
              "      <td>41504</td>\n",
              "      <td>2548942</td>\n",
              "      <td>2648397</td>\n",
              "      <td>319762</td>\n",
              "      <td>146914.0</td>\n",
              "      <td>32.0</td>\n",
              "      <td>DE</td>\n",
              "      <td>m</td>\n",
              "    </tr>\n",
              "    <tr>\n",
              "      <th>172683</th>\n",
              "      <td>0</td>\n",
              "      <td>1216545588</td>\n",
              "      <td>41504</td>\n",
              "      <td>1350486</td>\n",
              "      <td>1370043</td>\n",
              "      <td>170088</td>\n",
              "      <td>1170088.0</td>\n",
              "      <td>32.0</td>\n",
              "      <td>DE</td>\n",
              "      <td>m</td>\n",
              "    </tr>\n",
              "    <tr>\n",
              "      <th>230244</th>\n",
              "      <td>0</td>\n",
              "      <td>1216545588</td>\n",
              "      <td>41504</td>\n",
              "      <td>3734368</td>\n",
              "      <td>4235809</td>\n",
              "      <td>464920</td>\n",
              "      <td>1464920.0</td>\n",
              "      <td>32.0</td>\n",
              "      <td>DE</td>\n",
              "      <td>m</td>\n",
              "    </tr>\n",
              "  </tbody>\n",
              "</table>\n",
              "</div>"
            ],
            "text/plain": [
              "        pid   timestamp  userid    traid  ...      albid   age  country  gender\n",
              "0         0  1216545588   41504  3006631  ...     3382.0  32.0       DE       m\n",
              "57561     0  1216545588   41504  1885124  ...   108772.0  32.0       DE       m\n",
              "115122    0  1216545588   41504  2548942  ...   146914.0  32.0       DE       m\n",
              "172683    0  1216545588   41504  1350486  ...  1170088.0  32.0       DE       m\n",
              "230244    0  1216545588   41504  3734368  ...  1464920.0  32.0       DE       m\n",
              "\n",
              "[5 rows x 10 columns]"
            ]
          },
          "metadata": {
            "tags": []
          },
          "execution_count": 10
        }
      ]
    },
    {
      "cell_type": "code",
      "metadata": {
        "id": "81PEBR5t6fhW",
        "colab_type": "code",
        "outputId": "23adb8ab-45c0-484e-e148-e2aaffdb8457",
        "colab": {
          "base_uri": "https://localhost:8080/",
          "height": 33
        }
      },
      "source": [
        "len(df)"
      ],
      "execution_count": 0,
      "outputs": [
        {
          "output_type": "execute_result",
          "data": {
            "text/plain": [
              "1603040"
            ]
          },
          "metadata": {
            "tags": []
          },
          "execution_count": 11
        }
      ]
    },
    {
      "cell_type": "code",
      "metadata": {
        "id": "a82qBJRZefDY",
        "colab_type": "code",
        "colab": {}
      },
      "source": [
        "os.chdir(\"/drive/My Drive/\")"
      ],
      "execution_count": 0,
      "outputs": []
    },
    {
      "cell_type": "markdown",
      "metadata": {
        "id": "tkvn9eXFf-Hp",
        "colab_type": "text"
      },
      "source": [
        "After this, we can view statistics of the data set."
      ]
    },
    {
      "cell_type": "code",
      "metadata": {
        "id": "dC9BQMw26n-e",
        "colab_type": "code",
        "outputId": "4fb8d215-91b0-4ec5-ee07-e8fbf3ac5358",
        "colab": {
          "base_uri": "https://localhost:8080/",
          "height": 116
        }
      },
      "source": [
        "def get_statistics(df):\n",
        "  num_inters = len(df)\n",
        "  num_playlists = df[\"pid\"].nunique()\n",
        "  num_users = df[\"userid\"].nunique()\n",
        "  num_tracks = df[\"traid\"].nunique()\n",
        "  num_albums = df[\"albid\"].nunique()\n",
        "  num_artists = df[\"artid\"].nunique()\n",
        "  return num_inters, num_playlists, num_users, num_tracks, num_albums, num_artists\n",
        "\n",
        "\n",
        "def print_statistics(df):\n",
        "  print(\"{:,} interactions\\n{:,} playlists\\n{:,} users\\n{:,} tracks\\n{:,} albums\\n{:,} artists\"\n",
        "        .format(*get_statistics(df)))\n",
        "\n",
        "print_statistics(df)"
      ],
      "execution_count": 0,
      "outputs": [
        {
          "output_type": "stream",
          "text": [
            "1,603,040 interactions\n",
            "48,422 playlists\n",
            "15,102 users\n",
            "466,244 tracks\n",
            "140,807 albums\n",
            "64,089 artists\n"
          ],
          "name": "stdout"
        }
      ]
    },
    {
      "cell_type": "code",
      "metadata": {
        "id": "dzC0TAFKen6P",
        "colab_type": "code",
        "outputId": "f630df79-01f0-40ae-df9b-4246208a3b79",
        "colab": {
          "base_uri": "https://localhost:8080/",
          "height": 314
        }
      },
      "source": [
        "def plot_playlists_per_track(df):\n",
        "  plt.figure(figsize=(12, 4))\n",
        "  track_ps_df = df[[\"pid\", \"traid\"]].drop_duplicates()[\"traid\"].value_counts()\n",
        "  \n",
        "  plt.subplot(1, 2, 1)\n",
        "  track_ps_df.hist(bins=range(0, 50))\n",
        "  plt.ylabel(\"Number of tracks\")\n",
        "  plt.xlabel(\"Number of playlists with the tracks\")\n",
        "  plt.title(\"Playlists per track\")\n",
        "\n",
        "  plt.subplot(1, 2, 2)\n",
        "  track_ps_df.hist(bins=range(50, track_ps_df.max()))\n",
        "  plt.ylabel(\"Number of tracks\")\n",
        "  plt.xlabel(\"Number of playlists with the tracks\")\n",
        "  plt.title(\"Playlists per track (for > 50 playlists)\")\n",
        "\n",
        "  plt.subplots_adjust(wspace=0.4)\n",
        "\n",
        "plot_playlists_per_track(df);"
      ],
      "execution_count": 0,
      "outputs": [
        {
          "output_type": "display_data",
          "data": {
            "image/png": "[encoded data removed]",
            "text/plain": [
              "<Figure size 864x288 with 2 Axes>"
            ]
          },
          "metadata": {
            "tags": []
          }
        }
      ]
    },
    {
      "cell_type": "code",
      "metadata": {
        "id": "HSXA2vmkfz2t",
        "colab_type": "code",
        "outputId": "5ab165f1-05ab-4432-fee8-3fa0be97eaf6",
        "colab": {
          "base_uri": "https://localhost:8080/",
          "height": 294
        }
      },
      "source": [
        "def plot_tracks_per_playlist(df):\n",
        "  p_tracks_df = df[[\"pid\", \"traid\"]].drop_duplicates()[\"pid\"].value_counts()\n",
        "  p_tracks_df.hist(bins=range(0, p_tracks_df.max()))\n",
        "  plt.ylabel(\"Number of playlists\")\n",
        "  plt.xlabel(\"Number of tracks in the playlists\")\n",
        "  plt.title(\"Tracks per playlist\")\n",
        "\n",
        "plot_tracks_per_playlist(df);"
      ],
      "execution_count": 0,
      "outputs": [
        {
          "output_type": "display_data",
          "data": {
            "image/png": "[encoded data removed]",
            "text/plain": [
              "<Figure size 432x288 with 1 Axes>"
            ]
          },
          "metadata": {
            "tags": []
          }
        }
      ]
    },
    {
      "cell_type": "code",
      "metadata": {
        "id": "MKdTHLf6isYj",
        "colab_type": "code",
        "colab": {}
      },
      "source": [
        "def plot_both(df):\n",
        "  plt.figure(figsize=(12, 4))\n",
        "  \n",
        "  track_ps_df = df[[\"pid\", \"traid\"]].drop_duplicates()[\"traid\"].value_counts()\n",
        "  plt.subplot(1, 2, 1)\n",
        "  track_ps_df.hist(bins=range(0, 50))\n",
        "  plt.ylabel(\"#tracks\")\n",
        "  plt.xlabel(\"#playlists with the tracks\")\n",
        "  plt.title(\"Playlists per track\")\n",
        "\n",
        "  p_tracks_df = df[[\"pid\", \"traid\"]].drop_duplicates()[\"pid\"].value_counts()\n",
        "  plt.subplot(1, 2, 2)\n",
        "  p_tracks_df.hist(bins=range(0, p_tracks_df.max()))\n",
        "  plt.ylabel(\"#playlists\")\n",
        "  plt.xlabel(\"#tracks in the playlists\")\n",
        "  plt.title(\"Tracks per playlist\")\n",
        "\n",
        "  plt.subplots_adjust(wspace=0.2)"
      ],
      "execution_count": 0,
      "outputs": []
    },
    {
      "cell_type": "markdown",
      "metadata": {
        "id": "0-eAYoBrf6rU",
        "colab_type": "text"
      },
      "source": [
        "As further preprocessing we remove the following:\n",
        "\n",
        "*   Tracks ocurring in only one playlist: of small use\n",
        "*   Playlists with less than 3 tracks: not useable for train-validation-test split"
      ]
    },
    {
      "cell_type": "code",
      "metadata": {
        "id": "5T2_evHRey-a",
        "colab_type": "code",
        "outputId": "785bac1f-17cd-42ea-b078-55687f083a08",
        "colab": {
          "base_uri": "https://localhost:8080/",
          "height": 166
        }
      },
      "source": [
        "def with_min_track_ps(df, min_track_ps = 2):\n",
        "  track_ps_df = df[[\"pid\", \"traid\"]].drop_duplicates()[\"traid\"].value_counts()\n",
        "  rm_tracks_idx = track_ps_df[track_ps_df < min_track_ps].index\n",
        "  df = df[~df[\"traid\"].isin(rm_tracks_idx)]\n",
        "  num_rm_tracks = rm_tracks_idx.size\n",
        "  print(\"removed {:,} tracks which were in less than {} playlists\"\n",
        "        .format(num_rm_tracks, min_track_ps))\n",
        "  return df\n",
        "\n",
        "def with_min_p_inters(df, min_p_inters = 3):\n",
        "  p_inters_df = df[\"pid\"].value_counts()\n",
        "  rm_p_idx = p_inters_df[p_inters_df < min_p_inters].index\n",
        "  df = df[~df[\"pid\"].isin(rm_p_idx)]\n",
        "  num_rm_ps = rm_p_idx.size\n",
        "  print(\"removed {:,} playlists which had less than {} track interactions\\n\"\n",
        "        .format(num_rm_ps, min_p_inters))\n",
        "  return df\n",
        "\n",
        "df = with_min_track_ps(df)\n",
        "df = with_min_p_inters(df)\n",
        "\n",
        "print_statistics(df)"
      ],
      "execution_count": 0,
      "outputs": [
        {
          "output_type": "stream",
          "text": [
            "removed 252,370 tracks which were in less than 2 playlists\n",
            "removed 5,519 playlists which had less than 3 track interactions\n",
            "\n",
            "1,341,812 interactions\n",
            "41,784 playlists\n",
            "13,953 users\n",
            "213,820 tracks\n",
            "72,053 albums\n",
            "32,458 artists\n"
          ],
          "name": "stdout"
        }
      ]
    },
    {
      "cell_type": "markdown",
      "metadata": {
        "id": "m5fPXZQVj_Do",
        "colab_type": "text"
      },
      "source": [
        "We also check if playlists sometimes contain the same track multiple times - and see that this is nearly never the case."
      ]
    },
    {
      "cell_type": "code",
      "metadata": {
        "id": "G_gBElABgBpw",
        "colab_type": "code",
        "outputId": "012ca54d-4b6b-4cc8-9c0e-c7f27e30738e",
        "colab": {
          "base_uri": "https://localhost:8080/",
          "height": 171
        }
      },
      "source": [
        "duplicates_df = df.groupby([\"pid\", \"traid\"]).size()\n",
        "duplicates_df = duplicates_df[duplicates_df > 2].reset_index()\n",
        "\n",
        "print(\"{:,} duplications in playlists\\n\".format(len(duplicates_df)))\n",
        "\n",
        "duplicates_df.head()"
      ],
      "execution_count": 0,
      "outputs": [
        {
          "output_type": "stream",
          "text": [
            "3 duplications in playlists\n",
            "\n"
          ],
          "name": "stdout"
        },
        {
          "output_type": "execute_result",
          "data": {
            "text/html": [
              "<div>\n",
              "<style scoped>\n",
              "    .dataframe tbody tr th:only-of-type {\n",
              "        vertical-align: middle;\n",
              "    }\n",
              "\n",
              "    .dataframe tbody tr th {\n",
              "        vertical-align: top;\n",
              "    }\n",
              "\n",
              "    .dataframe thead th {\n",
              "        text-align: right;\n",
              "    }\n",
              "</style>\n",
              "<table border=\"1\" class=\"dataframe\">\n",
              "  <thead>\n",
              "    <tr style=\"text-align: right;\">\n",
              "      <th></th>\n",
              "      <th>pid</th>\n",
              "      <th>traid</th>\n",
              "      <th>0</th>\n",
              "    </tr>\n",
              "  </thead>\n",
              "  <tbody>\n",
              "    <tr>\n",
              "      <th>0</th>\n",
              "      <td>41463</td>\n",
              "      <td>453754</td>\n",
              "      <td>3</td>\n",
              "    </tr>\n",
              "    <tr>\n",
              "      <th>1</th>\n",
              "      <td>44211</td>\n",
              "      <td>3148952</td>\n",
              "      <td>3</td>\n",
              "    </tr>\n",
              "    <tr>\n",
              "      <th>2</th>\n",
              "      <td>53756</td>\n",
              "      <td>2647483</td>\n",
              "      <td>3</td>\n",
              "    </tr>\n",
              "  </tbody>\n",
              "</table>\n",
              "</div>"
            ],
            "text/plain": [
              "     pid    traid  0\n",
              "0  41463   453754  3\n",
              "1  44211  3148952  3\n",
              "2  53756  2647483  3"
            ]
          },
          "metadata": {
            "tags": []
          },
          "execution_count": 18
        }
      ]
    },
    {
      "cell_type": "code",
      "metadata": {
        "id": "r7cNPRw6hFXU",
        "colab_type": "code",
        "outputId": "b5f983e6-5893-4606-af50-a65aa57bf9c3",
        "colab": {
          "base_uri": "https://localhost:8080/",
          "height": 314
        }
      },
      "source": [
        "plot_playlists_per_track(df);"
      ],
      "execution_count": 0,
      "outputs": [
        {
          "output_type": "display_data",
          "data": {
            "image/png": "[encoded data removed]",
            "text/plain": [
              "<Figure size 864x288 with 2 Axes>"
            ]
          },
          "metadata": {
            "tags": []
          }
        }
      ]
    },
    {
      "cell_type": "code",
      "metadata": {
        "id": "h4v0x7WrkL7T",
        "colab_type": "code",
        "outputId": "a3a14fd8-3905-4415-a3d5-37d960dcd8e6",
        "colab": {
          "base_uri": "https://localhost:8080/",
          "height": 294
        }
      },
      "source": [
        "plot_tracks_per_playlist(df);"
      ],
      "execution_count": 0,
      "outputs": [
        {
          "output_type": "display_data",
          "data": {
            "image/png": "[encoded data removed]",
            "text/plain": [
              "<Figure size 432x288 with 1 Axes>"
            ]
          },
          "metadata": {
            "tags": []
          }
        }
      ]
    },
    {
      "cell_type": "code",
      "metadata": {
        "id": "bIWbnSJXi0M2",
        "colab_type": "code",
        "outputId": "3457b792-cc9f-472f-8f65-15f80cce0255",
        "colab": {
          "base_uri": "https://localhost:8080/",
          "height": 314
        }
      },
      "source": [
        "plot_both(df)"
      ],
      "execution_count": 0,
      "outputs": [
        {
          "output_type": "display_data",
          "data": {
            "image/png": "[encoded data removed]",
            "text/plain": [
              "<Figure size 864x288 with 2 Axes>"
            ]
          },
          "metadata": {
            "tags": []
          }
        }
      ]
    },
    {
      "cell_type": "code",
      "metadata": {
        "id": "huBuwMnZ-qkF",
        "colab_type": "code",
        "outputId": "b8674010-ddcc-4ceb-da75-03af1383b52d",
        "colab": {
          "base_uri": "https://localhost:8080/",
          "height": 264
        }
      },
      "source": [
        "df[[\"userid\", \"age\"]].drop_duplicates()[\"age\"].hist(bins=int(df[\"age\"].max()));"
      ],
      "execution_count": 0,
      "outputs": [
        {
          "output_type": "display_data",
          "data": {
            "image/png": "[encoded data removed]",
            "text/plain": [
              "<Figure size 432x288 with 1 Axes>"
            ]
          },
          "metadata": {
            "tags": []
          }
        }
      ]
    },
    {
      "cell_type": "code",
      "metadata": {
        "id": "oe0B-QIhAGxR",
        "colab_type": "code",
        "colab": {}
      },
      "source": [
        "df[\"gender\"].replace(\"n\", None, inplace=True)\n",
        "df[\"gender\"].replace(\"\", None, inplace=True)"
      ],
      "execution_count": 0,
      "outputs": []
    },
    {
      "cell_type": "code",
      "metadata": {
        "id": "ULr_99oECMN8",
        "colab_type": "code",
        "colab": {}
      },
      "source": [
        "df[\"country\"].replace(\"\", None, inplace=True)"
      ],
      "execution_count": 0,
      "outputs": []
    },
    {
      "cell_type": "markdown",
      "metadata": {
        "id": "A7YYnx6JlqzX",
        "colab_type": "text"
      },
      "source": [
        "Finally, we also add the previous track, album and artist as column."
      ]
    },
    {
      "cell_type": "code",
      "metadata": {
        "id": "jfy_D84ylfnr",
        "colab_type": "code",
        "outputId": "1b196d96-c5f9-45ca-d477-1cf4355b9203",
        "colab": {
          "base_uri": "https://localhost:8080/",
          "height": 217
        }
      },
      "source": [
        "def with_prev_columns(df):\n",
        "  gp = df.groupby(\"pid\")\n",
        "  df[\"prev_traid\"] = gp[\"traid\"].shift(1)\n",
        "  df[\"prev_albid\"] = gp[\"albid\"].shift(1)\n",
        "  df[\"prev_artid\"] = gp[\"artid\"].shift(1)\n",
        "  return df\n",
        "\n",
        "df = with_prev_columns(df)\n",
        "df.head()"
      ],
      "execution_count": 0,
      "outputs": [
        {
          "output_type": "execute_result",
          "data": {
            "text/html": [
              "<div>\n",
              "<style scoped>\n",
              "    .dataframe tbody tr th:only-of-type {\n",
              "        vertical-align: middle;\n",
              "    }\n",
              "\n",
              "    .dataframe tbody tr th {\n",
              "        vertical-align: top;\n",
              "    }\n",
              "\n",
              "    .dataframe thead th {\n",
              "        text-align: right;\n",
              "    }\n",
              "</style>\n",
              "<table border=\"1\" class=\"dataframe\">\n",
              "  <thead>\n",
              "    <tr style=\"text-align: right;\">\n",
              "      <th></th>\n",
              "      <th>pid</th>\n",
              "      <th>timestamp</th>\n",
              "      <th>userid</th>\n",
              "      <th>traid</th>\n",
              "      <th>index</th>\n",
              "      <th>artid</th>\n",
              "      <th>albid</th>\n",
              "      <th>age</th>\n",
              "      <th>country</th>\n",
              "      <th>gender</th>\n",
              "      <th>prev_traid</th>\n",
              "      <th>prev_albid</th>\n",
              "      <th>prev_artid</th>\n",
              "    </tr>\n",
              "  </thead>\n",
              "  <tbody>\n",
              "    <tr>\n",
              "      <th>0</th>\n",
              "      <td>0</td>\n",
              "      <td>1216545588</td>\n",
              "      <td>41504</td>\n",
              "      <td>3006631</td>\n",
              "      <td>3497675</td>\n",
              "      <td>371862</td>\n",
              "      <td>3382.0</td>\n",
              "      <td>32.0</td>\n",
              "      <td>DE</td>\n",
              "      <td>m</td>\n",
              "      <td>NaN</td>\n",
              "      <td>NaN</td>\n",
              "      <td>NaN</td>\n",
              "    </tr>\n",
              "    <tr>\n",
              "      <th>57561</th>\n",
              "      <td>0</td>\n",
              "      <td>1216545588</td>\n",
              "      <td>41504</td>\n",
              "      <td>1885124</td>\n",
              "      <td>1975475</td>\n",
              "      <td>236238</td>\n",
              "      <td>108772.0</td>\n",
              "      <td>32.0</td>\n",
              "      <td>DE</td>\n",
              "      <td>m</td>\n",
              "      <td>3006631.0</td>\n",
              "      <td>3382.0</td>\n",
              "      <td>371862.0</td>\n",
              "    </tr>\n",
              "    <tr>\n",
              "      <th>115122</th>\n",
              "      <td>0</td>\n",
              "      <td>1216545588</td>\n",
              "      <td>41504</td>\n",
              "      <td>2548942</td>\n",
              "      <td>2648397</td>\n",
              "      <td>319762</td>\n",
              "      <td>146914.0</td>\n",
              "      <td>32.0</td>\n",
              "      <td>DE</td>\n",
              "      <td>m</td>\n",
              "      <td>1885124.0</td>\n",
              "      <td>108772.0</td>\n",
              "      <td>236238.0</td>\n",
              "    </tr>\n",
              "    <tr>\n",
              "      <th>172683</th>\n",
              "      <td>0</td>\n",
              "      <td>1216545588</td>\n",
              "      <td>41504</td>\n",
              "      <td>1350486</td>\n",
              "      <td>1370043</td>\n",
              "      <td>170088</td>\n",
              "      <td>1170088.0</td>\n",
              "      <td>32.0</td>\n",
              "      <td>DE</td>\n",
              "      <td>m</td>\n",
              "      <td>2548942.0</td>\n",
              "      <td>146914.0</td>\n",
              "      <td>319762.0</td>\n",
              "    </tr>\n",
              "    <tr>\n",
              "      <th>230244</th>\n",
              "      <td>0</td>\n",
              "      <td>1216545588</td>\n",
              "      <td>41504</td>\n",
              "      <td>3734368</td>\n",
              "      <td>4235809</td>\n",
              "      <td>464920</td>\n",
              "      <td>1464920.0</td>\n",
              "      <td>32.0</td>\n",
              "      <td>DE</td>\n",
              "      <td>m</td>\n",
              "      <td>1350486.0</td>\n",
              "      <td>1170088.0</td>\n",
              "      <td>170088.0</td>\n",
              "    </tr>\n",
              "  </tbody>\n",
              "</table>\n",
              "</div>"
            ],
            "text/plain": [
              "        pid   timestamp  userid  ...  prev_traid  prev_albid  prev_artid\n",
              "0         0  1216545588   41504  ...         NaN         NaN         NaN\n",
              "57561     0  1216545588   41504  ...   3006631.0      3382.0    371862.0\n",
              "115122    0  1216545588   41504  ...   1885124.0    108772.0    236238.0\n",
              "172683    0  1216545588   41504  ...   2548942.0    146914.0    319762.0\n",
              "230244    0  1216545588   41504  ...   1350486.0   1170088.0    170088.0\n",
              "\n",
              "[5 rows x 13 columns]"
            ]
          },
          "metadata": {
            "tags": []
          },
          "execution_count": 25
        }
      ]
    },
    {
      "cell_type": "markdown",
      "metadata": {
        "id": "yPjVJaZOl5A-",
        "colab_type": "text"
      },
      "source": [
        "# Evaluation split"
      ]
    },
    {
      "cell_type": "markdown",
      "metadata": {
        "id": "snSJtPO5l72g",
        "colab_type": "text"
      },
      "source": [
        "First, we define functions for converting dataframe columns to one-hot indices in accordance with a train-test-validation split."
      ]
    },
    {
      "cell_type": "code",
      "metadata": {
        "id": "s5LluixCAB3f",
        "colab_type": "code",
        "colab": {}
      },
      "source": [
        "def col2id_col(df, col, mappings, rvs_mappings):\n",
        "  if col in mappings:\n",
        "    df[col] = df[col].map(mappings[col])\n",
        "    df[col].fillna(0, inplace=True)\n",
        "  else:\n",
        "    df[col], rvs_mappings[col] = df[col].factorize()\n",
        "    df[col] += 1\n",
        "    rvs_mappings[col] = rvs_mappings[col].insert(0, None)\n",
        "    mappings[col] = {col_val: i for i, col_val in enumerate(rvs_mappings[col])}\n",
        "\n",
        "  df[col] = df[col].astype(\"int64\", copy=False)\n",
        "\n",
        "\n",
        "def df2id_df(df, id_cols, mappings, rvs_mappings):\n",
        "  for id_col in id_cols:\n",
        "    col2id_col(df, id_col, mappings, rvs_mappings)\n",
        "\n",
        "\n",
        "def split_dfs2id_dfs(train_df, test_df=None, val_df=None, copy=True, cols=[],\n",
        "                     same_col_pairs=[]):\n",
        "  \"\"\"\n",
        "  Map columns of dataframes to one-hot indices.\n",
        "  Test and validation dataframes will use the mappings of the train dataframe.\n",
        "  Index 0 is used for missing and unknown (test and validation) column values.\n",
        "\n",
        "  same_col_pairs are (src_col, same_col) pairs where same_col uses the same\n",
        "  mappings as src_col.\n",
        "  \"\"\"\n",
        "  id_mappings = dict()\n",
        "  rvs_id_mappings = dict()\n",
        "  \n",
        "  if copy:\n",
        "    train_df = train_df.copy()\n",
        "    if test_df is not None:\n",
        "      test_df = test_df.copy()\n",
        "    if val_df is not None:\n",
        "      val_df = val_df.copy()\n",
        "  \n",
        "  dfs = [df for df in [train_df, val_df, test_df] if df is not None]\n",
        "\n",
        "  for df in dfs:\n",
        "    df2id_df(df, cols, id_mappings, rvs_id_mappings)\n",
        "\n",
        "  for src_col, same_col in same_col_pairs:\n",
        "    id_mappings[same_col] = id_mappings[src_col]\n",
        "  \n",
        "  same_cols = [same_col for _, same_col in same_col_pairs]\n",
        "\n",
        "  for df in dfs:\n",
        "    df2id_df(df, same_cols, id_mappings, rvs_id_mappings)\n",
        "\n",
        "  if copy:\n",
        "    return tuple(dfs)"
      ],
      "execution_count": 0,
      "outputs": []
    },
    {
      "cell_type": "markdown",
      "metadata": {
        "id": "FOKVjErt3C8H",
        "colab_type": "text"
      },
      "source": [
        "Now we set the columns we want to map to one-hot indices."
      ]
    },
    {
      "cell_type": "code",
      "metadata": {
        "id": "vxfHVSw73F78",
        "colab_type": "code",
        "colab": {}
      },
      "source": [
        "# columns to use\n",
        "use_cols = [\"pid\", \"userid\", \"age\", \"country\", \"gender\",\n",
        "            \"artid\", \"albid\", \"traid\"]\n",
        "\n",
        "# other columns to use with the same mappings as the previous columns\n",
        "use_col_pairs = [(\"artid\", \"prev_artid\"),\n",
        "                 (\"albid\", \"prev_albid\"),\n",
        "                 (\"traid\", \"prev_traid\")]\n",
        "\n",
        "# which columns are user/context columns - and known as query context\n",
        "non_track_cols = [\"pid\", \"userid\", \"age\", \"country\", \"gender\",\n",
        "                  \"prev_traid\", \"prev_albid\", \"prev_artid\"]\n",
        "\n",
        "# which columns are item columns - and known only as query seeds\n",
        "track_cols = [\"traid\", \"albid\", \"artid\"]"
      ],
      "execution_count": 0,
      "outputs": []
    },
    {
      "cell_type": "markdown",
      "metadata": {
        "id": "k0ltR-Y9l_OJ",
        "colab_type": "text"
      },
      "source": [
        "Now we define the different evaluation splits to use. See section TODO of my master's thesis."
      ]
    },
    {
      "cell_type": "code",
      "metadata": {
        "id": "FcIW-4eYAQyt",
        "colab_type": "code",
        "colab": {}
      },
      "source": [
        "def _to_query_ctx(df):\n",
        "  return df[non_track_cols]\n",
        "\n",
        "\n",
        "def _to_query(concat_df):\n",
        "  concat_df[track_cols] = concat_df[track_cols].fillna(0)\n",
        "  concat_df[track_cols] = concat_df[track_cols].astype(\"int64\", copy=False)\n",
        "  return concat_df\n",
        "\n",
        "\n",
        "def get_query_seeds(query_df):\n",
        "  \"\"\"\n",
        "  Get the seed tracks of a query dataframe\n",
        "  \"\"\"\n",
        "  return query_df[query_df[\"traid\"] != 0]\n",
        "\n",
        "\n",
        "def get_query_ctx(query_df):\n",
        "  \"\"\"\n",
        "  Get the context of a query dataframe - \n",
        "  the actual target information without any target track information\n",
        "  \"\"\"\n",
        "  return _to_query_ctx(query_df[query_df[\"traid\"] == 0])\n",
        "\n",
        "\n",
        "def _last_track_split(df, as_val):\n",
        "  i = 2 if as_val else 1\n",
        "  gp = df.groupby(\"pid\")\n",
        "  train_df = df[gp.cumcount(ascending=False) >= i]\n",
        "  test_df = gp.nth(-i).reset_index()\n",
        "  return train_df, test_df\n",
        "\n",
        "\n",
        "def _users_split(df, n_test_users, seed):\n",
        "  users = df[\"pid\"].drop_duplicates()\n",
        "  np.random.seed(seed)\n",
        "  test_users = np.random.choice(users, n_test_users, replace=False)\n",
        "  test_users_mask = df[\"pid\"].isin(test_users)\n",
        "  test_users_df = df[test_users_mask]\n",
        "  train_users_df = df[~test_users_mask]\n",
        "  return train_users_df, test_users_df\n",
        "\n",
        "\n",
        "def _known_last_track_split(df, as_val, seed, n_test_users=None):\n",
        "  train_df, test_df = _last_track_split(df, as_val)\n",
        "\n",
        "  train_tracks = pd.Index(train_df[\"traid\"].drop_duplicates())\n",
        "  test_tracks = pd.Index(test_df[\"traid\"].drop_duplicates())\n",
        "  unknown_tracks = test_tracks.difference(train_tracks)\n",
        "  unknown_mask = test_df[\"traid\"].isin(unknown_tracks)\n",
        "  unknown_pids = pd.Index(test_df[unknown_mask][\"pid\"])\n",
        "\n",
        "  unknown_mask = df[\"pid\"].isin(unknown_pids)\n",
        "  known_df = df[~unknown_mask]\n",
        "  unknown_df = df[unknown_mask]\n",
        "\n",
        "  if n_test_users:\n",
        "    train_users_df, test_users_df = _users_split(known_df, n_test_users, seed)\n",
        "    train_df, test_df = _last_track_split(test_users_df, as_val)\n",
        "    train_df = pd.concat([unknown_df, train_users_df, train_df], sort=False)\n",
        "  else:\n",
        "    train_df, test_df = _last_track_split(known_df, as_val)\n",
        "    train_df = pd.concat([unknown_df, train_df], sort=False)\n",
        "\n",
        "  train_df.sort_values(\"pid\", inplace=True, kind=\"mergesort\")\n",
        "\n",
        "  return train_df, test_df\n",
        "\n",
        "\n",
        "def _last_track_query(train_df, test_df, n_test_users=None):\n",
        "  if n_test_users:\n",
        "    test_pids = pd.Index(test_df[\"pid\"])\n",
        "    test_query_df = train_df[train_df[\"pid\"].isin(test_pids)]\n",
        "  else:\n",
        "    test_query_df = train_df\n",
        "\n",
        "  test_query_ctx_df = _to_query_ctx(test_df)\n",
        "  test_query_df = pd.concat([test_query_df, test_query_ctx_df], sort=False)\n",
        "  test_query_df = _to_query(test_query_df)\n",
        "\n",
        "  return test_query_df\n",
        "\n",
        "\n",
        "def last_track_split(df, as_val=False, n_test_users=None, seed=1):\n",
        "  \"\"\"\n",
        "  Split the dataframe into train and validation or test dataframes.\n",
        "  The test dataframe contains the last track of each or n_test_users random\n",
        "  users, the validation dataframe the second-last. Only returns validation or \n",
        "  test users with known (second-)last track indices.\n",
        "\n",
        "  Also returns a query dataframe corresponding to the validation or test\n",
        "  dataframe.\n",
        "\n",
        "  Columns are mapped to one-hot indices in the process. \n",
        "  \"\"\"\n",
        "  train_df, test_df = _known_last_track_split(df, as_val, seed, n_test_users)\n",
        "\n",
        "  train_df, test_df = split_dfs2id_dfs(train_df, test_df=test_df, cols=use_cols,\n",
        "                                       same_col_pairs=use_col_pairs)\n",
        "\n",
        "  return train_df, test_df, _last_track_query(train_df, test_df, n_test_users)\n",
        "\n",
        "\n",
        "def _seed_users_split(df, n_test_users, include_val, n_seed_tracks, seed):\n",
        "  gp = df.groupby(\"pid\")\n",
        "  seed_df = gp.filter(lambda g: g.size > n_seed_tracks)\n",
        "  non_seed_df = gp.filter(lambda g: g.size <= n_seed_tracks)\n",
        "\n",
        "  train_df, test_df = _users_split(seed_df, n_test_users, seed)\n",
        "\n",
        "  val_df = None\n",
        "  if include_val:\n",
        "    train_df, val_df = _users_split(train_df, n_test_users, seed)\n",
        "\n",
        "  train_df = pd.concat([train_df, non_seed_df], sort=False)\n",
        "  train_df.sort_values(\"pid\", inplace=True, kind=\"mergesort\")\n",
        "\n",
        "  if include_val:\n",
        "    return train_df, val_df, test_df\n",
        "  else:\n",
        "    return train_df, test_df\n",
        "\n",
        "\n",
        "def _seed_query_split(df, n_seed_tracks):\n",
        "  gp = df.groupby(\"pid\", as_index=False)\n",
        "  test_df = df[gp.cumcount() >= n_seed_tracks]\n",
        "  query_df = gp.head(n_seed_tracks)\n",
        "  query_ctx_df = _to_query_ctx(gp.nth(n_seed_tracks))\n",
        "  query_df = _to_query(pd.concat([query_df, query_ctx_df], sort=False))\n",
        "  query_df.sort_values(\"pid\", inplace=True, kind=\"mergesort\")\n",
        "  return test_df, query_df\n",
        "\n",
        "\n",
        "def users_split(df, n_test_users, include_val=False, n_seed_tracks=5, seed=1):\n",
        "  \"\"\"\n",
        "  Split the dataframe into train, optional validation and test dataframes.\n",
        "  The test and validation dataframe each contain n_test_users users and\n",
        "  the train dataframe the other users. The validation and test dataframes\n",
        "  each contain the users tracks after his/her first n_seed_tracks tracks.\n",
        "  Only returns validation or test users with more than n_seed_tracks tracks.\n",
        "\n",
        "  Also returns query dataframes corresponding to the validation and test\n",
        "  dataframes.\n",
        "\n",
        "  Columns are mapped to one-hot indices in the process,\n",
        "  but train, validation and test dataframes have separate pid indices,\n",
        "  all start from 0!\n",
        "  \"\"\"\n",
        "  # TODO: known\n",
        "  dfs = _seed_users_split(df, n_test_users, include_val, n_seed_tracks, seed)\n",
        "\n",
        "  # pids are separate for each split - all start from 0, to different n\n",
        "  dfs = (split_dfs2id_dfs(df, cols=[\"pid\"])[0] for df in dfs)\n",
        "  if include_val:\n",
        "    train_df, val_df, test_df = dfs\n",
        "  else:\n",
        "    train_df, test_df = dfs\n",
        "    val_df = None\n",
        "\n",
        "  # TODO: use_cols without pid\n",
        "  split_dfs2id_dfs(train_df, test_df=test_df, val_df=val_df, cols=use_cols,\n",
        "                   same_col_pairs=use_col_pairs, copy=False)\n",
        "  \n",
        "  test_df, test_query_df = _seed_query_split(test_df, n_seed_tracks)\n",
        "  val_query_df = None\n",
        "  if include_val:\n",
        "    val_df, val_query_df = _seed_query_split(val_df, n_seed_tracks)\n",
        "\n",
        "  dfs = train_df, val_df, test_df, val_query_df, test_query_df\n",
        "  return tuple(df for df in dfs if df is not None)"
      ],
      "execution_count": 0,
      "outputs": []
    },
    {
      "cell_type": "markdown",
      "metadata": {
        "id": "9Z7QYzrJ-ipj",
        "colab_type": "text"
      },
      "source": [
        "We now create a last track split and view the structure of the results."
      ]
    },
    {
      "cell_type": "code",
      "metadata": {
        "id": "53o7egQAl-yc",
        "colab_type": "code",
        "colab": {}
      },
      "source": [
        "train_df, test_df, test_query_df = last_track_split(df, n_test_users=1000)"
      ],
      "execution_count": 0,
      "outputs": []
    },
    {
      "cell_type": "code",
      "metadata": {
        "id": "Ap5-y3UTD2Jr",
        "colab_type": "code",
        "outputId": "1cdeb580-7bba-467a-ed83-fb38d3b730c6",
        "colab": {
          "base_uri": "https://localhost:8080/"
        }
      },
      "source": [
        "train_df.head()"
      ],
      "execution_count": 0,
      "outputs": [
        {
          "output_type": "execute_result",
          "data": {
            "text/html": [
              "<div>\n",
              "<style scoped>\n",
              "    .dataframe tbody tr th:only-of-type {\n",
              "        vertical-align: middle;\n",
              "    }\n",
              "\n",
              "    .dataframe tbody tr th {\n",
              "        vertical-align: top;\n",
              "    }\n",
              "\n",
              "    .dataframe thead th {\n",
              "        text-align: right;\n",
              "    }\n",
              "</style>\n",
              "<table border=\"1\" class=\"dataframe\">\n",
              "  <thead>\n",
              "    <tr style=\"text-align: right;\">\n",
              "      <th></th>\n",
              "      <th>pid</th>\n",
              "      <th>timestamp</th>\n",
              "      <th>userid</th>\n",
              "      <th>traid</th>\n",
              "      <th>index</th>\n",
              "      <th>artid</th>\n",
              "      <th>albid</th>\n",
              "      <th>age</th>\n",
              "      <th>country</th>\n",
              "      <th>gender</th>\n",
              "      <th>prev_traid</th>\n",
              "      <th>prev_albid</th>\n",
              "      <th>prev_artid</th>\n",
              "    </tr>\n",
              "  </thead>\n",
              "  <tbody>\n",
              "    <tr>\n",
              "      <th>0</th>\n",
              "      <td>1</td>\n",
              "      <td>1216545588</td>\n",
              "      <td>1</td>\n",
              "      <td>1</td>\n",
              "      <td>3497675</td>\n",
              "      <td>1</td>\n",
              "      <td>1</td>\n",
              "      <td>1</td>\n",
              "      <td>1</td>\n",
              "      <td>1</td>\n",
              "      <td>0</td>\n",
              "      <td>0</td>\n",
              "      <td>0</td>\n",
              "    </tr>\n",
              "    <tr>\n",
              "      <th>57561</th>\n",
              "      <td>1</td>\n",
              "      <td>1216545588</td>\n",
              "      <td>1</td>\n",
              "      <td>2</td>\n",
              "      <td>1975475</td>\n",
              "      <td>2</td>\n",
              "      <td>2</td>\n",
              "      <td>1</td>\n",
              "      <td>1</td>\n",
              "      <td>1</td>\n",
              "      <td>1</td>\n",
              "      <td>1</td>\n",
              "      <td>1</td>\n",
              "    </tr>\n",
              "    <tr>\n",
              "      <th>115122</th>\n",
              "      <td>1</td>\n",
              "      <td>1216545588</td>\n",
              "      <td>1</td>\n",
              "      <td>3</td>\n",
              "      <td>2648397</td>\n",
              "      <td>3</td>\n",
              "      <td>3</td>\n",
              "      <td>1</td>\n",
              "      <td>1</td>\n",
              "      <td>1</td>\n",
              "      <td>2</td>\n",
              "      <td>2</td>\n",
              "      <td>2</td>\n",
              "    </tr>\n",
              "    <tr>\n",
              "      <th>172683</th>\n",
              "      <td>1</td>\n",
              "      <td>1216545588</td>\n",
              "      <td>1</td>\n",
              "      <td>4</td>\n",
              "      <td>1370043</td>\n",
              "      <td>4</td>\n",
              "      <td>4</td>\n",
              "      <td>1</td>\n",
              "      <td>1</td>\n",
              "      <td>1</td>\n",
              "      <td>3</td>\n",
              "      <td>3</td>\n",
              "      <td>3</td>\n",
              "    </tr>\n",
              "    <tr>\n",
              "      <th>230244</th>\n",
              "      <td>1</td>\n",
              "      <td>1216545588</td>\n",
              "      <td>1</td>\n",
              "      <td>5</td>\n",
              "      <td>4235809</td>\n",
              "      <td>5</td>\n",
              "      <td>5</td>\n",
              "      <td>1</td>\n",
              "      <td>1</td>\n",
              "      <td>1</td>\n",
              "      <td>4</td>\n",
              "      <td>4</td>\n",
              "      <td>4</td>\n",
              "    </tr>\n",
              "  </tbody>\n",
              "</table>\n",
              "</div>"
            ],
            "text/plain": [
              "        pid   timestamp  userid  ...  prev_traid  prev_albid  prev_artid\n",
              "0         1  1216545588       1  ...           0           0           0\n",
              "57561     1  1216545588       1  ...           1           1           1\n",
              "115122    1  1216545588       1  ...           2           2           2\n",
              "172683    1  1216545588       1  ...           3           3           3\n",
              "230244    1  1216545588       1  ...           4           4           4\n",
              "\n",
              "[5 rows x 13 columns]"
            ]
          },
          "metadata": {
            "tags": []
          },
          "execution_count": 30
        }
      ]
    },
    {
      "cell_type": "code",
      "metadata": {
        "id": "D4-H3hKd-l7q",
        "colab_type": "code",
        "outputId": "58c6b409-ca3a-4cdb-d35e-b908c7a967f3",
        "colab": {
          "base_uri": "https://localhost:8080/"
        }
      },
      "source": [
        "test_df.head()"
      ],
      "execution_count": 0,
      "outputs": [
        {
          "output_type": "execute_result",
          "data": {
            "text/html": [
              "<div>\n",
              "<style scoped>\n",
              "    .dataframe tbody tr th:only-of-type {\n",
              "        vertical-align: middle;\n",
              "    }\n",
              "\n",
              "    .dataframe tbody tr th {\n",
              "        vertical-align: top;\n",
              "    }\n",
              "\n",
              "    .dataframe thead th {\n",
              "        text-align: right;\n",
              "    }\n",
              "</style>\n",
              "<table border=\"1\" class=\"dataframe\">\n",
              "  <thead>\n",
              "    <tr style=\"text-align: right;\">\n",
              "      <th></th>\n",
              "      <th>pid</th>\n",
              "      <th>timestamp</th>\n",
              "      <th>userid</th>\n",
              "      <th>traid</th>\n",
              "      <th>index</th>\n",
              "      <th>artid</th>\n",
              "      <th>albid</th>\n",
              "      <th>age</th>\n",
              "      <th>country</th>\n",
              "      <th>gender</th>\n",
              "      <th>prev_traid</th>\n",
              "      <th>prev_albid</th>\n",
              "      <th>prev_artid</th>\n",
              "    </tr>\n",
              "  </thead>\n",
              "  <tbody>\n",
              "    <tr>\n",
              "      <th>0</th>\n",
              "      <td>11</td>\n",
              "      <td>1294318230</td>\n",
              "      <td>5</td>\n",
              "      <td>25514</td>\n",
              "      <td>186385</td>\n",
              "      <td>7800</td>\n",
              "      <td>13829</td>\n",
              "      <td>5</td>\n",
              "      <td>4</td>\n",
              "      <td>1</td>\n",
              "      <td>364</td>\n",
              "      <td>273</td>\n",
              "      <td>212</td>\n",
              "    </tr>\n",
              "    <tr>\n",
              "      <th>1</th>\n",
              "      <td>46</td>\n",
              "      <td>1275510507</td>\n",
              "      <td>19</td>\n",
              "      <td>22057</td>\n",
              "      <td>664245</td>\n",
              "      <td>780</td>\n",
              "      <td>1001</td>\n",
              "      <td>12</td>\n",
              "      <td>11</td>\n",
              "      <td>2</td>\n",
              "      <td>1298</td>\n",
              "      <td>1001</td>\n",
              "      <td>780</td>\n",
              "    </tr>\n",
              "    <tr>\n",
              "      <th>2</th>\n",
              "      <td>93</td>\n",
              "      <td>1291546547</td>\n",
              "      <td>38</td>\n",
              "      <td>5765</td>\n",
              "      <td>3080515</td>\n",
              "      <td>2518</td>\n",
              "      <td>3831</td>\n",
              "      <td>19</td>\n",
              "      <td>24</td>\n",
              "      <td>2</td>\n",
              "      <td>2425</td>\n",
              "      <td>1725</td>\n",
              "      <td>1260</td>\n",
              "    </tr>\n",
              "    <tr>\n",
              "      <th>3</th>\n",
              "      <td>136</td>\n",
              "      <td>1281597335</td>\n",
              "      <td>51</td>\n",
              "      <td>3627</td>\n",
              "      <td>4275402</td>\n",
              "      <td>1743</td>\n",
              "      <td>2490</td>\n",
              "      <td>10</td>\n",
              "      <td>12</td>\n",
              "      <td>2</td>\n",
              "      <td>3695</td>\n",
              "      <td>2490</td>\n",
              "      <td>1743</td>\n",
              "    </tr>\n",
              "    <tr>\n",
              "      <th>4</th>\n",
              "      <td>161</td>\n",
              "      <td>1236352414</td>\n",
              "      <td>58</td>\n",
              "      <td>151982</td>\n",
              "      <td>1310594</td>\n",
              "      <td>2391</td>\n",
              "      <td>3717</td>\n",
              "      <td>0</td>\n",
              "      <td>14</td>\n",
              "      <td>1</td>\n",
              "      <td>4224</td>\n",
              "      <td>2884</td>\n",
              "      <td>224</td>\n",
              "    </tr>\n",
              "  </tbody>\n",
              "</table>\n",
              "</div>"
            ],
            "text/plain": [
              "   pid   timestamp  userid   traid  ...  gender  prev_traid  prev_albid  prev_artid\n",
              "0   11  1294318230       5   25514  ...       1         364         273         212\n",
              "1   46  1275510507      19   22057  ...       2        1298        1001         780\n",
              "2   93  1291546547      38    5765  ...       2        2425        1725        1260\n",
              "3  136  1281597335      51    3627  ...       2        3695        2490        1743\n",
              "4  161  1236352414      58  151982  ...       1        4224        2884         224\n",
              "\n",
              "[5 rows x 13 columns]"
            ]
          },
          "metadata": {
            "tags": []
          },
          "execution_count": 31
        }
      ]
    },
    {
      "cell_type": "code",
      "metadata": {
        "id": "haPaQUTN-mLL",
        "colab_type": "code",
        "outputId": "035d262d-143a-443c-8285-07dd68f00b9f",
        "colab": {
          "base_uri": "https://localhost:8080/"
        }
      },
      "source": [
        "get_query_seeds(test_query_df).head()"
      ],
      "execution_count": 0,
      "outputs": [
        {
          "output_type": "execute_result",
          "data": {
            "text/html": [
              "<div>\n",
              "<style scoped>\n",
              "    .dataframe tbody tr th:only-of-type {\n",
              "        vertical-align: middle;\n",
              "    }\n",
              "\n",
              "    .dataframe tbody tr th {\n",
              "        vertical-align: top;\n",
              "    }\n",
              "\n",
              "    .dataframe thead th {\n",
              "        text-align: right;\n",
              "    }\n",
              "</style>\n",
              "<table border=\"1\" class=\"dataframe\">\n",
              "  <thead>\n",
              "    <tr style=\"text-align: right;\">\n",
              "      <th></th>\n",
              "      <th>pid</th>\n",
              "      <th>timestamp</th>\n",
              "      <th>userid</th>\n",
              "      <th>traid</th>\n",
              "      <th>index</th>\n",
              "      <th>artid</th>\n",
              "      <th>albid</th>\n",
              "      <th>age</th>\n",
              "      <th>country</th>\n",
              "      <th>gender</th>\n",
              "      <th>prev_traid</th>\n",
              "      <th>prev_albid</th>\n",
              "      <th>prev_artid</th>\n",
              "    </tr>\n",
              "  </thead>\n",
              "  <tbody>\n",
              "    <tr>\n",
              "      <th>12</th>\n",
              "      <td>11</td>\n",
              "      <td>1.294318e+09</td>\n",
              "      <td>5</td>\n",
              "      <td>359</td>\n",
              "      <td>1357583.0</td>\n",
              "      <td>208</td>\n",
              "      <td>269</td>\n",
              "      <td>5</td>\n",
              "      <td>4</td>\n",
              "      <td>1</td>\n",
              "      <td>0</td>\n",
              "      <td>0</td>\n",
              "      <td>0</td>\n",
              "    </tr>\n",
              "    <tr>\n",
              "      <th>57573</th>\n",
              "      <td>11</td>\n",
              "      <td>1.294318e+09</td>\n",
              "      <td>5</td>\n",
              "      <td>360</td>\n",
              "      <td>1357629.0</td>\n",
              "      <td>208</td>\n",
              "      <td>269</td>\n",
              "      <td>5</td>\n",
              "      <td>4</td>\n",
              "      <td>1</td>\n",
              "      <td>359</td>\n",
              "      <td>269</td>\n",
              "      <td>208</td>\n",
              "    </tr>\n",
              "    <tr>\n",
              "      <th>115134</th>\n",
              "      <td>11</td>\n",
              "      <td>1.294318e+09</td>\n",
              "      <td>5</td>\n",
              "      <td>361</td>\n",
              "      <td>1986356.0</td>\n",
              "      <td>209</td>\n",
              "      <td>270</td>\n",
              "      <td>5</td>\n",
              "      <td>4</td>\n",
              "      <td>1</td>\n",
              "      <td>360</td>\n",
              "      <td>269</td>\n",
              "      <td>208</td>\n",
              "    </tr>\n",
              "    <tr>\n",
              "      <th>172695</th>\n",
              "      <td>11</td>\n",
              "      <td>1.294318e+09</td>\n",
              "      <td>5</td>\n",
              "      <td>362</td>\n",
              "      <td>3511770.0</td>\n",
              "      <td>210</td>\n",
              "      <td>271</td>\n",
              "      <td>5</td>\n",
              "      <td>4</td>\n",
              "      <td>1</td>\n",
              "      <td>361</td>\n",
              "      <td>270</td>\n",
              "      <td>209</td>\n",
              "    </tr>\n",
              "    <tr>\n",
              "      <th>230256</th>\n",
              "      <td>11</td>\n",
              "      <td>1.294318e+09</td>\n",
              "      <td>5</td>\n",
              "      <td>363</td>\n",
              "      <td>3788168.0</td>\n",
              "      <td>211</td>\n",
              "      <td>272</td>\n",
              "      <td>5</td>\n",
              "      <td>4</td>\n",
              "      <td>1</td>\n",
              "      <td>362</td>\n",
              "      <td>271</td>\n",
              "      <td>210</td>\n",
              "    </tr>\n",
              "  </tbody>\n",
              "</table>\n",
              "</div>"
            ],
            "text/plain": [
              "        pid     timestamp  userid  ...  prev_traid  prev_albid  prev_artid\n",
              "12       11  1.294318e+09       5  ...           0           0           0\n",
              "57573    11  1.294318e+09       5  ...         359         269         208\n",
              "115134   11  1.294318e+09       5  ...         360         269         208\n",
              "172695   11  1.294318e+09       5  ...         361         270         209\n",
              "230256   11  1.294318e+09       5  ...         362         271         210\n",
              "\n",
              "[5 rows x 13 columns]"
            ]
          },
          "metadata": {
            "tags": []
          },
          "execution_count": 32
        }
      ]
    },
    {
      "cell_type": "code",
      "metadata": {
        "id": "tXKX3gZI-muE",
        "colab_type": "code",
        "outputId": "81453478-e14a-4b00-cce3-4a4a5dc5d52d",
        "colab": {
          "base_uri": "https://localhost:8080/"
        }
      },
      "source": [
        "get_query_ctx(test_query_df).head()"
      ],
      "execution_count": 0,
      "outputs": [
        {
          "output_type": "execute_result",
          "data": {
            "text/html": [
              "<div>\n",
              "<style scoped>\n",
              "    .dataframe tbody tr th:only-of-type {\n",
              "        vertical-align: middle;\n",
              "    }\n",
              "\n",
              "    .dataframe tbody tr th {\n",
              "        vertical-align: top;\n",
              "    }\n",
              "\n",
              "    .dataframe thead th {\n",
              "        text-align: right;\n",
              "    }\n",
              "</style>\n",
              "<table border=\"1\" class=\"dataframe\">\n",
              "  <thead>\n",
              "    <tr style=\"text-align: right;\">\n",
              "      <th></th>\n",
              "      <th>pid</th>\n",
              "      <th>userid</th>\n",
              "      <th>age</th>\n",
              "      <th>country</th>\n",
              "      <th>gender</th>\n",
              "      <th>prev_traid</th>\n",
              "      <th>prev_albid</th>\n",
              "      <th>prev_artid</th>\n",
              "    </tr>\n",
              "  </thead>\n",
              "  <tbody>\n",
              "    <tr>\n",
              "      <th>0</th>\n",
              "      <td>11</td>\n",
              "      <td>5</td>\n",
              "      <td>5</td>\n",
              "      <td>4</td>\n",
              "      <td>1</td>\n",
              "      <td>364</td>\n",
              "      <td>273</td>\n",
              "      <td>212</td>\n",
              "    </tr>\n",
              "    <tr>\n",
              "      <th>1</th>\n",
              "      <td>46</td>\n",
              "      <td>19</td>\n",
              "      <td>12</td>\n",
              "      <td>11</td>\n",
              "      <td>2</td>\n",
              "      <td>1298</td>\n",
              "      <td>1001</td>\n",
              "      <td>780</td>\n",
              "    </tr>\n",
              "    <tr>\n",
              "      <th>2</th>\n",
              "      <td>93</td>\n",
              "      <td>38</td>\n",
              "      <td>19</td>\n",
              "      <td>24</td>\n",
              "      <td>2</td>\n",
              "      <td>2425</td>\n",
              "      <td>1725</td>\n",
              "      <td>1260</td>\n",
              "    </tr>\n",
              "    <tr>\n",
              "      <th>3</th>\n",
              "      <td>136</td>\n",
              "      <td>51</td>\n",
              "      <td>10</td>\n",
              "      <td>12</td>\n",
              "      <td>2</td>\n",
              "      <td>3695</td>\n",
              "      <td>2490</td>\n",
              "      <td>1743</td>\n",
              "    </tr>\n",
              "    <tr>\n",
              "      <th>4</th>\n",
              "      <td>161</td>\n",
              "      <td>58</td>\n",
              "      <td>0</td>\n",
              "      <td>14</td>\n",
              "      <td>1</td>\n",
              "      <td>4224</td>\n",
              "      <td>2884</td>\n",
              "      <td>224</td>\n",
              "    </tr>\n",
              "  </tbody>\n",
              "</table>\n",
              "</div>"
            ],
            "text/plain": [
              "   pid  userid  age  country  gender  prev_traid  prev_albid  prev_artid\n",
              "0   11       5    5        4       1         364         273         212\n",
              "1   46      19   12       11       2        1298        1001         780\n",
              "2   93      38   19       24       2        2425        1725        1260\n",
              "3  136      51   10       12       2        3695        2490        1743\n",
              "4  161      58    0       14       1        4224        2884         224"
            ]
          },
          "metadata": {
            "tags": []
          },
          "execution_count": 33
        }
      ]
    },
    {
      "cell_type": "markdown",
      "metadata": {
        "id": "MhNnVHVH-tQV",
        "colab_type": "text"
      },
      "source": [
        "# Evaluation metrics"
      ]
    },
    {
      "cell_type": "markdown",
      "metadata": {
        "id": "FQ-lc84x-wVo",
        "colab_type": "text"
      },
      "source": [
        "As evaluation metrics we will use NDCG and hit rates / recall@n."
      ]
    },
    {
      "cell_type": "code",
      "metadata": {
        "id": "CKKl-Ddt-myg",
        "colab_type": "code",
        "colab": {}
      },
      "source": [
        "def with_time(method):\n",
        "    def timed(*args, **kw):\n",
        "        ts = time.time()\n",
        "        result = method(*args, **kw)\n",
        "        te = time.time()\n",
        "        if result is None:\n",
        "          return (te - ts)\n",
        "        else:\n",
        "          return result, (te - ts)\n",
        "          \n",
        "    return timed\n",
        "\n",
        "\n",
        "def hit_rate(pred_tracks_df, true_tracks_df, n=1):\n",
        "  \"\"\"\n",
        "  Computes the mean user hit rate.\n",
        "  \n",
        "  Assumes\n",
        "   * pred_tracks_df sorted by score per pid\n",
        "   * true_tracks_df has only one true track per pid!\n",
        "  \"\"\"\n",
        "  \n",
        "  pred_tracks_df = pred_tracks_df.groupby(\"pid\").head(n)\n",
        "  hits = len(pred_tracks_df.join(true_tracks_df.set_index([\"pid\", \"traid\"]),\n",
        "                                 on=[\"pid\", \"traid\"], how=\"inner\"))\n",
        "  hit_rate = hits / pred_tracks_df[\"pid\"].nunique()\n",
        "  \n",
        "  return hit_rate\n",
        "\n",
        "\n",
        "def hit_rates(pred_tracks_df, true_tracks_df, max_n=500):\n",
        "  \"\"\"\n",
        "  Computes the mean user hit rate for each n up to max_n.\n",
        "  \n",
        "  Assumes pred_tracks_df sorted by score per pid\n",
        "  \"\"\"\n",
        "  \n",
        "  pred_tracks_df = pred_tracks_df.groupby(\"pid\").head(max_n)\n",
        "  \n",
        "  hits = pred_tracks_df\n",
        "  hits[\"n\"] = hits.groupby(\"pid\").cumcount()\n",
        "  true_tracks_df[\"r\"] = true_tracks_df.groupby(\"pid\")[\"traid\"].transform(\"size\")\n",
        "  hits = hits.join(true_tracks_df.set_index([\"pid\", \"traid\"]),\n",
        "                   on=[\"pid\", \"traid\"], how=\"inner\")\n",
        "  hits[\"hits\"] = 1.0 / hits[\"r\"]\n",
        "  \n",
        "  cum_hits = hits.groupby(\"n\")[\"hits\"].sum().cumsum()\n",
        "  cum_hits = cum_hits.reindex(range(0, max_n), method=\"pad\")\n",
        "  cum_hits.fillna(0.0, inplace=True)\n",
        "  \n",
        "  cum_hit_rates = cum_hits.to_numpy() / pred_tracks_df[\"pid\"].nunique()\n",
        "  \n",
        "  return cum_hit_rates\n",
        "\n",
        "\n",
        "def ndcg(pred_tracks_df, true_tracks_df, n=500):\n",
        "  \"\"\"\n",
        "  Computes the mean user NDCG.\n",
        "  \n",
        "  Assumes pred_tracks_df sorted by score per pid\n",
        "  \"\"\"\n",
        "  \n",
        "  pred_tracks_df = pred_tracks_df.groupby(\"pid\").head(n)\n",
        "  true_tracks_df = true_tracks_df.groupby(\"pid\").head(n)\n",
        "  \n",
        "  dcgs = pred_tracks_df\n",
        "  dcgs[\"n\"] = dcgs.groupby(\"pid\").cumcount()\n",
        "  dcgs = dcgs.join(true_tracks_df.set_index([\"pid\", \"traid\"]),\n",
        "                   on=[\"pid\", \"traid\"], how=\"inner\")\n",
        "  dcgs[\"dcg\"] = 1.0 / np.log2(dcgs[\"n\"].to_numpy() + 2)\n",
        "  dcg = dcgs.groupby(\"pid\")[\"dcg\"].sum()\n",
        "  \n",
        "  idcgs = true_tracks_df\n",
        "  idcgs[\"n\"] = idcgs.groupby(\"pid\").cumcount()\n",
        "  idcgs[\"dcg\"] = 1.0 / np.log2(idcgs[\"n\"].to_numpy() + 2)\n",
        "  idcg = idcgs.groupby(\"pid\")[\"dcg\"].sum()\n",
        "  \n",
        "  return (dcg / idcg).sum()  / pred_tracks_df[\"pid\"].nunique()"
      ],
      "execution_count": 0,
      "outputs": []
    },
    {
      "cell_type": "markdown",
      "metadata": {
        "id": "e6nyktu2-z_j",
        "colab_type": "text"
      },
      "source": [
        "# Baseline algorithms"
      ]
    },
    {
      "cell_type": "markdown",
      "metadata": {
        "id": "DXnZ7Vzf-2Bw",
        "colab_type": "text"
      },
      "source": [
        "Now we want to evaluate some baseline algorithms on the dataset. We will use the following algorithms.\n",
        "\n",
        "*   PopRank\n",
        "*   Same Artist - Greatest Hits (SAGH)\n",
        "*   kNN user-based collaborative filtering\n",
        "\n",
        "These algorithms were presented and evaluated for playlist generation in\n",
        "\n",
        "\n",
        "> Geoffray Bonnin and Dietmar Jannach.<br>\n",
        "> **Automated generation of music playlists:Survey and experiments**.<br>\n",
        "> *In ACM CSUR, pages 26:1--26:35, 2015*"
      ]
    },
    {
      "cell_type": "markdown",
      "metadata": {
        "id": "xNuKn95K-7Ae",
        "colab_type": "text"
      },
      "source": [
        "## Implementation"
      ]
    },
    {
      "cell_type": "code",
      "metadata": {
        "id": "dq0z99k8-4n7",
        "colab_type": "code",
        "colab": {}
      },
      "source": [
        "def df2csr(df, cols, nodup=True, shape=None, return_df=False):\n",
        "  \"\"\"\n",
        "  Converts a dataframe with 2 or 3 columns into a csr matrix where\n",
        "   * column 1 are the row indices\n",
        "   * column 2 are the column indices\n",
        "   * column 3 are the values or all values are one\n",
        "\n",
        "  This csr matrix can be more efficient to work with in some algorithms\n",
        "  \"\"\"\n",
        "  \n",
        "  rowcol = cols[0]\n",
        "  colcol = cols[1]\n",
        "  valcol = cols[2] if len(cols) > 2 else None\n",
        "    \n",
        "  if nodup:\n",
        "    dfcols = [col for col in cols if col]\n",
        "    df = df[dfcols].drop_duplicates()\n",
        "  \n",
        "  row_arr = df[rowcol].to_numpy()\n",
        "  col_arr = df[colcol].to_numpy()\n",
        "  val_arr = df[valcol].to_numpy() if valcol else np.ones(row_arr.shape)\n",
        "  \n",
        "  mat = csr_matrix((val_arr, (row_arr, col_arr)), shape=shape)\n",
        "  \n",
        "  if not nodup:\n",
        "    mat.sum_duplicates()\n",
        "  \n",
        "  if return_df:\n",
        "    return mat, df\n",
        "  \n",
        "  return mat\n",
        "\n",
        "\n",
        "class TrackArtistEnricher:\n",
        "  \n",
        "  def fit(self, train_df):\n",
        "    self.tra_art_s = (train_df[[\"traid\", \"artid\"]]\n",
        "                      .drop_duplicates()\n",
        "                      .append(pd.DataFrame({\"traid\": [0], \"artid\": [0]}))\n",
        "                      .set_index(\"traid\"))\n",
        "  \n",
        "  def transform(self, df):\n",
        "    return df.join(self.tra_art_s, on=\"traid\")\n",
        "\n",
        "  \n",
        "t_cols = [\"score\", \"pid\", \"traid\"]"
      ],
      "execution_count": 0,
      "outputs": []
    },
    {
      "cell_type": "code",
      "metadata": {
        "id": "NCwRA2vr_DU1",
        "colab_type": "code",
        "colab": {}
      },
      "source": [
        "class PopRank:\n",
        "  \n",
        "  @with_time\n",
        "  def fit(self, train_df, count_listens=False, tf=False):\n",
        "    nodup = not count_listens and not tf\n",
        "    tra_user_mat = df2csr(train_df, [\"traid\", \"pid\"], nodup=nodup)\n",
        "    \n",
        "    if tf:\n",
        "      tra_user_mat.data = np.log2(1 + tra_user_mat.data)\n",
        "\n",
        "    scores = tra_user_mat.sum(axis=1).A.reshape(-1)\n",
        "    \n",
        "    self.scores_s = pd.Series(data=scores, name=\"score\")\n",
        "    self.scores_s.index.name = \"traid\"\n",
        "  \n",
        "  def transform_no_filter(self, query_df, n):\n",
        "    users_df = query_df[[\"pid\"]].drop_duplicates()\n",
        "    users_df[\"tmpkey\"] = 0\n",
        "    t_df = self.scores_s.nlargest(n).reset_index().copy()\n",
        "    t_df[\"tmpkey\"] = 0\n",
        "    return users_df.merge(t_df, on=\"tmpkey\")\n",
        "  \n",
        "  def transform_filter(self, query_df, n):    \n",
        "    gp = query_df[[\"pid\", \"traid\"]].drop_duplicates().groupby(\"pid\")\n",
        "    m = gp.size().max()\n",
        "    \n",
        "    # trick for efficiently filtering user tracks\n",
        "    # use mutable scores series\n",
        "    # \n",
        "    #  1. get best n + m (maximum user tracks) sorted scores\n",
        "    nmlargest_idx = self.scores_s.nlargest(n + m).index.to_numpy()\n",
        "\n",
        "    t_dfs = []\n",
        "    for userid, user_df in gp:\n",
        "      user_tracks = user_df[\"traid\"].to_numpy()\n",
        "      \n",
        "      #  2. set scores of filtered tracks to 0 - changes df state\n",
        "      tmpscores = self.scores_s.iloc[user_tracks]\n",
        "      self.scores_s.iloc[user_tracks] = 0.0\n",
        "\n",
        "      sorted_scores = self.scores_s.iloc[nmlargest_idx].to_numpy()\n",
        "\n",
        "      #  3. get best n sorted scores without added 0s\n",
        "      nonzero_idx = np.nonzero(sorted_scores)[0][:n]\n",
        "      resorted_idx = nmlargest_idx[nonzero_idx]\n",
        "\n",
        "      #  4. reset 0 scores - changes df state back\n",
        "      t_s = self.scores_s.iloc[resorted_idx]\n",
        "\n",
        "      self.scores_s.iloc[user_tracks] = tmpscores\n",
        "\n",
        "      t_df = t_s.reset_index()\n",
        "      t_df[\"pid\"] = userid\n",
        "      t_dfs.append(t_df)\n",
        "    \n",
        "    return pd.concat(t_dfs, sort=False)\n",
        "  \n",
        "  @with_time\n",
        "  def transform(self, query_df, n=500, filter_user_tracks=False):\n",
        "    if filter_user_tracks:\n",
        "      t_df = self.transform_filter(query_df, n)\n",
        "    else:\n",
        "      t_df = self.transform_no_filter(query_df, n)\n",
        "    \n",
        "    return t_df[t_cols]"
      ],
      "execution_count": 0,
      "outputs": []
    },
    {
      "cell_type": "code",
      "metadata": {
        "id": "fD87GSYR_DmU",
        "colab_type": "code",
        "colab": {}
      },
      "source": [
        "class SAGH:\n",
        "  \n",
        "  @with_time\n",
        "  def fit(self, train_df, count_listens=False, tf=False):\n",
        "    self.pop_rank = PopRank()\n",
        "    self.pop_rank.fit(train_df, count_listens=count_listens, tf=tf)\n",
        "    \n",
        "    art_en = TrackArtistEnricher()\n",
        "    art_en.fit(train_df)\n",
        "    art_tra_scores_df = art_en.transform(self.pop_rank.scores_s.reset_index())\n",
        "    art_tra_scores_df.drop(0, inplace=True)  # remove missing artists\n",
        "    \n",
        "    self.art_tra_mat = df2csr(art_tra_scores_df,\n",
        "                              [\"artid\", \"traid\", \"score\"],\n",
        "                              nodup=True)\n",
        "  \n",
        "  @with_time\n",
        "  def transform(self, query_df, n=500, filter_user_tracks=False):\n",
        "    userids = query_df[\"pid\"].drop_duplicates()  \n",
        "    user_art_mat = df2csr(query_df, [\"pid\", \"artid\"],\n",
        "                          nodup=True,\n",
        "                          shape=(userids.max() + 1, self.art_tra_mat.shape[0]))\n",
        "\n",
        "    # popularity scores of tracks of same artists\n",
        "    tra_scores_mat = user_art_mat * self.art_tra_mat\n",
        "\n",
        "    if filter_user_tracks:\n",
        "      # trick for efficiently filtering user tracks\n",
        "      # use same mutable mask for each user \n",
        "      gp = query_df[[\"pid\", \"traid\"]].drop_duplicates().groupby(\"pid\")\n",
        "      tracks_mask = np.ones(self.art_tra_mat.shape[1])\n",
        "    else:\n",
        "      gp = ((userid, None) for userid in userids)\n",
        "\n",
        "    t_dfs = []      \n",
        "    for userid, user_df in gp:\n",
        "      start = time.time()\n",
        "\n",
        "      l = tra_scores_mat.indptr[userid]\n",
        "      r = tra_scores_mat.indptr[userid + 1]\n",
        "\n",
        "      userids = np.full(r - l, userid)\n",
        "      tracks = tra_scores_mat.indices[l:r]\n",
        "      scores = tra_scores_mat.data[l:r]\n",
        "\n",
        "      t_df = pd.DataFrame({\"pid\": userids, \"traid\": tracks, \"score\": scores})\n",
        "\n",
        "      if filter_user_tracks:\n",
        "        user_tracks = user_df[\"traid\"].to_numpy()\n",
        "        tracks_mask[user_tracks] = 0\n",
        "        \n",
        "        t_df = t_df.nlargest(n + len(user_tracks), \"score\")\n",
        "        n_offsets = np.nonzero(tracks_mask[t_df[\"traid\"].to_numpy()])[0][:n]\n",
        "        t_df = t_df.iloc[n_offsets]\n",
        "        \n",
        "        tracks_mask[user_tracks] = 1\n",
        "      else:\n",
        "        t_df = t_df.nlargest(n, \"score\")\n",
        "      \n",
        "      t_dfs.append(t_df)\n",
        "\n",
        "    return pd.concat(t_dfs, sort=False)[t_cols]"
      ],
      "execution_count": 0,
      "outputs": []
    },
    {
      "cell_type": "code",
      "metadata": {
        "id": "znRANv0E_Dvp",
        "colab_type": "code",
        "colab": {}
      },
      "source": [
        "class KNN:\n",
        "  \n",
        "  @with_time\n",
        "  def fit(self, train_df, count_listens=False, tfidf=False):    \n",
        "    self.user_tra_mat = df2csr(train_df, [\"pid\", \"traid\"], nodup=not tfidf)\n",
        "    \n",
        "    self.tfidf_trans = None\n",
        "    if tfidf:\n",
        "      self.tfidf_trans = TfidfTransformer(sublinear_tf=True)\n",
        "    if count_listens:\n",
        "      self.tfidf_trans = TfidfTransformer(norm=None, use_idf=False)\n",
        "    if tfidf or count_listens:\n",
        "      self.user_tra_mat = self.tfidf_trans.fit_transform(self.user_tra_mat)\n",
        "    \n",
        "    # for cosine similarity\n",
        "    self.tra_user_normalized = normalize(self.user_tra_mat).T\n",
        "  \n",
        "  @with_time\n",
        "  def transform(self, query_df, n=500, k=50, filter_user_tracks=False):    \n",
        "    mat = df2csr(query_df, [\"pid\", \"traid\"],\n",
        "                 nodup=not self.tfidf_trans,\n",
        "                 shape=self.user_tra_mat.shape)\n",
        "    \n",
        "    if self.tfidf_trans:\n",
        "      mat = self.tfidf_trans.transform(mat)\n",
        "\n",
        "    normalize(mat, copy=False)  # for cosine similarity\n",
        "    \n",
        "    # cosine similarity\n",
        "    # this needs O(n^2) memory for n users, but is stored sparse at least\n",
        "    nn_scores = mat * self.tra_user_normalized\n",
        "    \n",
        "    if filter_user_tracks:\n",
        "      # trick for efficiently filtering user tracks\n",
        "      # use same mutable mask for each user \n",
        "      gp = query_df[[\"pid\", \"traid\"]].drop_duplicates().groupby(\"pid\")\n",
        "      tracks_mask = np.ones(self.user_tra_mat.shape[1])\n",
        "    else:\n",
        "      gp = ((i, i) for i in range(self.user_tra_mat.shape[0]))\n",
        "\n",
        "    t_dfs = []\n",
        "    for userid, user_df in gp:\n",
        "      # k nearest neighbors by cosine similarity\n",
        "      l = nn_scores.indptr[userid]\n",
        "      r = nn_scores.indptr[userid + 1]\n",
        "      if (r - l) <= k:\n",
        "        nn_users = nn_scores.indices[l:r]\n",
        "      else:\n",
        "        k_offsets = np.argpartition(nn_scores.data[l:r], -k)[-k:]\n",
        "        nn_users = nn_scores.indices[l + k_offsets]\n",
        "\n",
        "      # track scores as tracks of neighbors weighted by cosine similarity\n",
        "      scores =  nn_scores[userid,nn_users] * self.user_tra_mat[nn_users,:]\n",
        "\n",
        "      userids = np.full(len(scores.indices), userid)\n",
        "      tracks = scores.indices\n",
        "      scores = scores.data\n",
        "      \n",
        "      t_df = pd.DataFrame({\"pid\": userids, \"traid\": tracks, \"score\": scores})\n",
        "      \n",
        "      if filter_user_tracks:\n",
        "        user_tracks = user_df[\"traid\"].to_numpy()\n",
        "        tracks_mask[user_tracks] = 0\n",
        "        \n",
        "        t_df = t_df.nlargest(n + user_tracks.size, \"score\")\n",
        "        n_offsets = np.nonzero(tracks_mask[t_df[\"traid\"].to_numpy()])[0][:n]\n",
        "        t_df = t_df.iloc[n_offsets]\n",
        "        \n",
        "        tracks_mask[user_tracks] = 1\n",
        "      else:\n",
        "        t_df = t_df.nlargest(n, \"score\")\n",
        "        \n",
        "      t_dfs.append(t_df)\n",
        "    \n",
        "    return pd.concat(t_dfs, sort=False)[t_cols]"
      ],
      "execution_count": 0,
      "outputs": []
    },
    {
      "cell_type": "markdown",
      "metadata": {
        "id": "ZNoRb7Lv_lCm",
        "colab_type": "text"
      },
      "source": [
        "## Evaluation"
      ]
    },
    {
      "cell_type": "markdown",
      "metadata": {
        "id": "XUXwSXK5_NbK",
        "colab_type": "text"
      },
      "source": [
        "In our evaluation we filter out tracks that are already in the playlist (*filter_user_tracks*), even though a sizeable number of tracks are contained in a playlist multiple times. We therefore also don't use the *count_listens* or *tf* parameters."
      ]
    },
    {
      "cell_type": "code",
      "metadata": {
        "id": "vpu82NJx_oyv",
        "colab_type": "code",
        "outputId": "1ec0eb04-f0e6-4bc7-b03e-3dc6b8943bd8",
        "colab": {
          "base_uri": "https://localhost:8080/",
          "height": 100
        }
      },
      "source": [
        "pop_rank = PopRank()\n",
        "pop_rank_fit_time = pop_rank.fit(train_df)\n",
        "pop_rank_df, pop_rank_trans_time = pop_rank.transform(\n",
        "    get_query_seeds(test_query_df), filter_user_tracks=True)\n",
        "pop_rank_hit_rates = hit_rates(pop_rank_df, test_df)\n",
        "pop_rank_ndcg = ndcg(pop_rank_df, test_df)\n",
        "\n",
        "print(\"{:.6f} hit rate\\n{:.6f} ndcg\\n\\n{:.5f}s fit time \\n{:.5f}s trans time\"\n",
        "      .format(pop_rank_hit_rates[0], pop_rank_ndcg, pop_rank_fit_time,\n",
        "              pop_rank_trans_time))"
      ],
      "execution_count": 0,
      "outputs": [
        {
          "output_type": "stream",
          "text": [
            "0.000298 hit rate\n",
            "0.022478 ndcg\n",
            "\n",
            "0.21802s fit time \n",
            "3.78119s trans time\n"
          ],
          "name": "stdout"
        }
      ]
    },
    {
      "cell_type": "code",
      "metadata": {
        "id": "TKbeDCUu_o62",
        "colab_type": "code",
        "colab": {}
      },
      "source": [
        "del pop_rank"
      ],
      "execution_count": 0,
      "outputs": []
    },
    {
      "cell_type": "code",
      "metadata": {
        "id": "rajhwYfk_ttL",
        "colab_type": "code",
        "outputId": "39886311-672d-4ad2-fdd0-52eb0cc6905f",
        "colab": {
          "base_uri": "https://localhost:8080/",
          "height": 100
        }
      },
      "source": [
        "sagh = SAGH()\n",
        "sagh_fit_time = sagh.fit(train_df)\n",
        "sagh_df, sagh_trans_time = sagh.transform(get_query_seeds(test_query_df),\n",
        "                                          filter_user_tracks=True)\n",
        "sagh_hit_rates = hit_rates(sagh_df, test_df)\n",
        "sagh_ndcg = ndcg(sagh_df, test_df)\n",
        "\n",
        "print(\"{:.6f} hit rate\\n{:.6f} ndcg\\n\\n{:.5f}s fit time \\n{:.5f}s trans time\"\n",
        "      .format(sagh_hit_rates[0], sagh_ndcg, sagh_fit_time, sagh_trans_time))"
      ],
      "execution_count": 0,
      "outputs": [
        {
          "output_type": "stream",
          "text": [
            "0.008066 hit rate\n",
            "0.097976 ndcg\n",
            "\n",
            "0.44086s fit time \n",
            "4.88317s trans time\n"
          ],
          "name": "stdout"
        }
      ]
    },
    {
      "cell_type": "code",
      "metadata": {
        "id": "rnuAbLr4_o_8",
        "colab_type": "code",
        "colab": {}
      },
      "source": [
        "del sagh\n",
        "del sagh_df"
      ],
      "execution_count": 0,
      "outputs": []
    },
    {
      "cell_type": "code",
      "metadata": {
        "id": "rSDGUcH2PSWW",
        "colab_type": "code",
        "colab": {}
      },
      "source": [
        "train_df, val_df, val_query_df = last_track_split(df, as_val=True,\n",
        "                                                  n_test_users=1000)"
      ],
      "execution_count": 0,
      "outputs": []
    },
    {
      "cell_type": "code",
      "metadata": {
        "id": "DhALN_zZPVTN",
        "colab_type": "code",
        "colab": {}
      },
      "source": [
        "ks = [10, 50, 100, 150, 200, 250, 300, 350, 400, 450, 500, 1000]\n",
        "knn = KNN()\n",
        "knn_fit_time = knn.fit(train_df)\n",
        "\n",
        "knn_hit_rates = dict()\n",
        "knn_ndcgs = dict()\n",
        "\n",
        "for k in ks:\n",
        "  knn_df, _= knn.transform(get_query_seeds(val_query_df), k=k,\n",
        "                           filter_user_tracks=True)\n",
        "  knn_hit_rates[k] = hit_rates(knn_df, val_df)\n",
        "  knn_ndcgs[k] = ndcg(knn_df, val_df)"
      ],
      "execution_count": 0,
      "outputs": []
    },
    {
      "cell_type": "code",
      "metadata": {
        "id": "r7JEvRqOPVnA",
        "colab_type": "code",
        "outputId": "f74270bf-3ca7-4136-fb85-42c074eb6645",
        "colab": {
          "base_uri": "https://localhost:8080/",
          "height": 144
        }
      },
      "source": [
        "rows = [[knn_ndcgs[k] for k in ks], [knn_hit_rates[k][0] for k in ks]]\n",
        "index = [\"NDCG\", \"Hit rate\"]        \n",
        "pd.DataFrame.from_records(rows, columns=ks, index=index)"
      ],
      "execution_count": 0,
      "outputs": [
        {
          "output_type": "execute_result",
          "data": {
            "text/html": [
              "<div>\n",
              "<style scoped>\n",
              "    .dataframe tbody tr th:only-of-type {\n",
              "        vertical-align: middle;\n",
              "    }\n",
              "\n",
              "    .dataframe tbody tr th {\n",
              "        vertical-align: top;\n",
              "    }\n",
              "\n",
              "    .dataframe thead th {\n",
              "        text-align: right;\n",
              "    }\n",
              "</style>\n",
              "<table border=\"1\" class=\"dataframe\">\n",
              "  <thead>\n",
              "    <tr style=\"text-align: right;\">\n",
              "      <th></th>\n",
              "      <th>10</th>\n",
              "      <th>50</th>\n",
              "      <th>100</th>\n",
              "      <th>150</th>\n",
              "      <th>200</th>\n",
              "      <th>250</th>\n",
              "      <th>300</th>\n",
              "      <th>350</th>\n",
              "      <th>400</th>\n",
              "      <th>450</th>\n",
              "      <th>500</th>\n",
              "      <th>1000</th>\n",
              "    </tr>\n",
              "  </thead>\n",
              "  <tbody>\n",
              "    <tr>\n",
              "      <th>NDCG</th>\n",
              "      <td>0.057428</td>\n",
              "      <td>0.076076</td>\n",
              "      <td>0.079553</td>\n",
              "      <td>0.080984</td>\n",
              "      <td>0.080718</td>\n",
              "      <td>0.080128</td>\n",
              "      <td>0.079574</td>\n",
              "      <td>0.079468</td>\n",
              "      <td>0.078289</td>\n",
              "      <td>0.078602</td>\n",
              "      <td>0.078464</td>\n",
              "      <td>0.076997</td>\n",
              "    </tr>\n",
              "    <tr>\n",
              "      <th>Hit rate</th>\n",
              "      <td>0.012024</td>\n",
              "      <td>0.020040</td>\n",
              "      <td>0.020040</td>\n",
              "      <td>0.021042</td>\n",
              "      <td>0.021042</td>\n",
              "      <td>0.021042</td>\n",
              "      <td>0.021042</td>\n",
              "      <td>0.021042</td>\n",
              "      <td>0.021042</td>\n",
              "      <td>0.022044</td>\n",
              "      <td>0.022044</td>\n",
              "      <td>0.022044</td>\n",
              "    </tr>\n",
              "  </tbody>\n",
              "</table>\n",
              "</div>"
            ],
            "text/plain": [
              "              10        50        100   ...      450       500       1000\n",
              "NDCG      0.057428  0.076076  0.079553  ...  0.078602  0.078464  0.076997\n",
              "Hit rate  0.012024  0.020040  0.020040  ...  0.022044  0.022044  0.022044\n",
              "\n",
              "[2 rows x 12 columns]"
            ]
          },
          "metadata": {
            "tags": []
          },
          "execution_count": 44
        }
      ]
    },
    {
      "cell_type": "markdown",
      "metadata": {
        "id": "oP9EEI54QjiV",
        "colab_type": "text"
      },
      "source": [
        "The best k - *150* - is then used for the evaluation."
      ]
    },
    {
      "cell_type": "code",
      "metadata": {
        "id": "WXAlMwVnPpfu",
        "colab_type": "code",
        "colab": {}
      },
      "source": [
        "train_df, test_df, test_query_df = last_track_split(df, n_test_users=1000)"
      ],
      "execution_count": 0,
      "outputs": []
    },
    {
      "cell_type": "code",
      "metadata": {
        "id": "Dqr_HcTPPv_9",
        "colab_type": "code",
        "outputId": "e87f20a0-5a3e-4314-82ec-452519215c83",
        "colab": {
          "base_uri": "https://localhost:8080/",
          "height": 100
        }
      },
      "source": [
        "knn = KNN()\n",
        "knn_fit_time = knn.fit(train_df)\n",
        "knn_df, knn150_trans_time = knn.transform(get_query_seeds(test_query_df), k=150,\n",
        "                                          filter_user_tracks=True)\n",
        "knn150_hit_rates = hit_rates(knn_df, test_df)\n",
        "knn150_ndcg = ndcg(knn_df, test_df)\n",
        "\n",
        "print(\"{:.6f} hit rate\\n{:.6f} ndcg\\n\\n{:.5f}s fit time \\n{:.5f}s trans time\"\n",
        "      .format(knn150_hit_rates[0], knn150_ndcg, knn_fit_time,\n",
        "              knn150_trans_time))"
      ],
      "execution_count": 0,
      "outputs": [
        {
          "output_type": "stream",
          "text": [
            "0.021000 hit rate\n",
            "0.069371 ndcg\n",
            "\n",
            "0.21188s fit time \n",
            "5.64048s trans time\n"
          ],
          "name": "stdout"
        }
      ]
    },
    {
      "cell_type": "code",
      "metadata": {
        "id": "vud0SL1-_5F9",
        "colab_type": "code",
        "colab": {}
      },
      "source": [
        "del knn\n",
        "del knn_df"
      ],
      "execution_count": 0,
      "outputs": []
    },
    {
      "cell_type": "code",
      "metadata": {
        "id": "B1amQPqp_5I4",
        "colab_type": "code",
        "outputId": "4477000a-3e24-47cc-e4f7-fddcf0c17b04",
        "colab": {
          "base_uri": "https://localhost:8080/",
          "height": 107
        }
      },
      "source": [
        "cols = [\"Pop Rank\", \"SAGH\", \"kNN k=150\"]\n",
        "rows = [[pop_rank_ndcg, sagh_ndcg, knn150_ndcg],\n",
        "        [pop_rank_hit_rates[0], sagh_hit_rates[0], knn150_hit_rates[0]]]\n",
        "index = [\"NDCG\", \"Hit rate\"]\n",
        "pd.DataFrame.from_records(rows, columns=cols, index=index)"
      ],
      "execution_count": 0,
      "outputs": [
        {
          "output_type": "execute_result",
          "data": {
            "text/html": [
              "<div>\n",
              "<style scoped>\n",
              "    .dataframe tbody tr th:only-of-type {\n",
              "        vertical-align: middle;\n",
              "    }\n",
              "\n",
              "    .dataframe tbody tr th {\n",
              "        vertical-align: top;\n",
              "    }\n",
              "\n",
              "    .dataframe thead th {\n",
              "        text-align: right;\n",
              "    }\n",
              "</style>\n",
              "<table border=\"1\" class=\"dataframe\">\n",
              "  <thead>\n",
              "    <tr style=\"text-align: right;\">\n",
              "      <th></th>\n",
              "      <th>Pop Rank</th>\n",
              "      <th>SAGH</th>\n",
              "      <th>kNN k=150</th>\n",
              "    </tr>\n",
              "  </thead>\n",
              "  <tbody>\n",
              "    <tr>\n",
              "      <th>NDCG</th>\n",
              "      <td>0.022478</td>\n",
              "      <td>0.097976</td>\n",
              "      <td>0.069371</td>\n",
              "    </tr>\n",
              "    <tr>\n",
              "      <th>Hit rate</th>\n",
              "      <td>0.000298</td>\n",
              "      <td>0.008066</td>\n",
              "      <td>0.021000</td>\n",
              "    </tr>\n",
              "  </tbody>\n",
              "</table>\n",
              "</div>"
            ],
            "text/plain": [
              "          Pop Rank      SAGH  kNN k=150\n",
              "NDCG      0.022478  0.097976   0.069371\n",
              "Hit rate  0.000298  0.008066   0.021000"
            ]
          },
          "metadata": {
            "tags": []
          },
          "execution_count": 105
        }
      ]
    },
    {
      "cell_type": "code",
      "metadata": {
        "id": "cJgGkj0k_7Yo",
        "colab_type": "code",
        "outputId": "8d8e4a99-ed6f-4032-92af-fa48f64b9248",
        "colab": {
          "base_uri": "https://localhost:8080/",
          "height": 281
        }
      },
      "source": [
        "def plot_baseline_hit_rates(n=500):\n",
        "  plt.plot(pop_rank_hit_rates[:n], color=\"orange\")\n",
        "  plt.plot(sagh_hit_rates[:n], color=\"blue\")\n",
        "  plt.plot(knn150_hit_rates[:n], color=\"green\")\n",
        "\n",
        "  orange_patch = mpatches.Patch(color=\"orange\", label=\"Pop Rank\")\n",
        "  blue_patch = mpatches.Patch(color=\"blue\", label=\"SAGH\")\n",
        "  green_patch = mpatches.Patch(color=\"green\", label=\"kNN k 150\")\n",
        "  patches = [orange_patch, blue_patch, green_patch]\n",
        "  plt.legend(handles=patches)\n",
        "\n",
        "  plt.title(\"Hit rates of baseline algorithms\")\n",
        "  \n",
        "plot_baseline_hit_rates();"
      ],
      "execution_count": 0,
      "outputs": [
        {
          "output_type": "display_data",
          "data": {
            "image/png": "[encoded data removed]",
            "text/plain": [
              "<Figure size 432x288 with 1 Axes>"
            ]
          },
          "metadata": {
            "tags": []
          }
        }
      ]
    },
    {
      "cell_type": "code",
      "metadata": {
        "id": "i1Z1DSNa_v30",
        "colab_type": "code",
        "outputId": "bfe1251d-c1b1-488a-b9b2-9826f0311b78",
        "colab": {
          "base_uri": "https://localhost:8080/",
          "height": 281
        }
      },
      "source": [
        "plot_baseline_hit_rates(n=25);"
      ],
      "execution_count": 0,
      "outputs": [
        {
          "output_type": "display_data",
          "data": {
            "image/png": "[encoded data removed]",
            "text/plain": [
              "<Figure size 432x288 with 1 Axes>"
            ]
          },
          "metadata": {
            "tags": []
          }
        }
      ]
    },
    {
      "cell_type": "markdown",
      "metadata": {
        "id": "hPy_i6_QAFN9",
        "colab_type": "text"
      },
      "source": [
        "## Cold start evaluation"
      ]
    },
    {
      "cell_type": "markdown",
      "metadata": {
        "id": "8npXtxS4AJK0",
        "colab_type": "text"
      },
      "source": [
        "Besides an evaluation using a last-track split where we recommend the last track for each playlist we also perform an evaluation using a playlist split where we recommend all missing tracks for beginnings (5 tracks) of playlists which were entirely unknown during training."
      ]
    },
    {
      "cell_type": "code",
      "metadata": {
        "id": "STwPbThCAGHk",
        "colab_type": "code",
        "outputId": "7e4bf024-b3b3-4dc1-bf5e-e94bfda671fb",
        "colab": {
          "base_uri": "https://localhost:8080/",
          "height": 217
        }
      },
      "source": [
        "train_df, test_df, test_query_df = users_split(\n",
        "    df, 1000, include_val=False, n_seed_tracks=5)\n",
        "\n",
        "train_df.head()"
      ],
      "execution_count": 0,
      "outputs": [
        {
          "output_type": "execute_result",
          "data": {
            "text/html": [
              "<div>\n",
              "<style scoped>\n",
              "    .dataframe tbody tr th:only-of-type {\n",
              "        vertical-align: middle;\n",
              "    }\n",
              "\n",
              "    .dataframe tbody tr th {\n",
              "        vertical-align: top;\n",
              "    }\n",
              "\n",
              "    .dataframe thead th {\n",
              "        text-align: right;\n",
              "    }\n",
              "</style>\n",
              "<table border=\"1\" class=\"dataframe\">\n",
              "  <thead>\n",
              "    <tr style=\"text-align: right;\">\n",
              "      <th></th>\n",
              "      <th>pid</th>\n",
              "      <th>timestamp</th>\n",
              "      <th>userid</th>\n",
              "      <th>traid</th>\n",
              "      <th>index</th>\n",
              "      <th>artid</th>\n",
              "      <th>albid</th>\n",
              "      <th>age</th>\n",
              "      <th>country</th>\n",
              "      <th>gender</th>\n",
              "      <th>prev_traid</th>\n",
              "      <th>prev_albid</th>\n",
              "      <th>prev_artid</th>\n",
              "    </tr>\n",
              "  </thead>\n",
              "  <tbody>\n",
              "    <tr>\n",
              "      <th>0</th>\n",
              "      <td>1</td>\n",
              "      <td>1216545588</td>\n",
              "      <td>1</td>\n",
              "      <td>1</td>\n",
              "      <td>3497675</td>\n",
              "      <td>1</td>\n",
              "      <td>1</td>\n",
              "      <td>1</td>\n",
              "      <td>1</td>\n",
              "      <td>1</td>\n",
              "      <td>0</td>\n",
              "      <td>0</td>\n",
              "      <td>0</td>\n",
              "    </tr>\n",
              "    <tr>\n",
              "      <th>57561</th>\n",
              "      <td>1</td>\n",
              "      <td>1216545588</td>\n",
              "      <td>1</td>\n",
              "      <td>2</td>\n",
              "      <td>1975475</td>\n",
              "      <td>2</td>\n",
              "      <td>2</td>\n",
              "      <td>1</td>\n",
              "      <td>1</td>\n",
              "      <td>1</td>\n",
              "      <td>1</td>\n",
              "      <td>1</td>\n",
              "      <td>1</td>\n",
              "    </tr>\n",
              "    <tr>\n",
              "      <th>115122</th>\n",
              "      <td>1</td>\n",
              "      <td>1216545588</td>\n",
              "      <td>1</td>\n",
              "      <td>3</td>\n",
              "      <td>2648397</td>\n",
              "      <td>3</td>\n",
              "      <td>3</td>\n",
              "      <td>1</td>\n",
              "      <td>1</td>\n",
              "      <td>1</td>\n",
              "      <td>2</td>\n",
              "      <td>2</td>\n",
              "      <td>2</td>\n",
              "    </tr>\n",
              "    <tr>\n",
              "      <th>172683</th>\n",
              "      <td>1</td>\n",
              "      <td>1216545588</td>\n",
              "      <td>1</td>\n",
              "      <td>4</td>\n",
              "      <td>1370043</td>\n",
              "      <td>4</td>\n",
              "      <td>4</td>\n",
              "      <td>1</td>\n",
              "      <td>1</td>\n",
              "      <td>1</td>\n",
              "      <td>3</td>\n",
              "      <td>3</td>\n",
              "      <td>3</td>\n",
              "    </tr>\n",
              "    <tr>\n",
              "      <th>230244</th>\n",
              "      <td>1</td>\n",
              "      <td>1216545588</td>\n",
              "      <td>1</td>\n",
              "      <td>5</td>\n",
              "      <td>4235809</td>\n",
              "      <td>5</td>\n",
              "      <td>5</td>\n",
              "      <td>1</td>\n",
              "      <td>1</td>\n",
              "      <td>1</td>\n",
              "      <td>4</td>\n",
              "      <td>4</td>\n",
              "      <td>4</td>\n",
              "    </tr>\n",
              "  </tbody>\n",
              "</table>\n",
              "</div>"
            ],
            "text/plain": [
              "        pid   timestamp  userid  ...  prev_traid  prev_albid  prev_artid\n",
              "0         1  1216545588       1  ...           0           0           0\n",
              "57561     1  1216545588       1  ...           1           1           1\n",
              "115122    1  1216545588       1  ...           2           2           2\n",
              "172683    1  1216545588       1  ...           3           3           3\n",
              "230244    1  1216545588       1  ...           4           4           4\n",
              "\n",
              "[5 rows x 13 columns]"
            ]
          },
          "metadata": {
            "tags": []
          },
          "execution_count": 108
        }
      ]
    },
    {
      "cell_type": "code",
      "metadata": {
        "id": "0LNspL4ZAGLP",
        "colab_type": "code",
        "outputId": "f6f1b043-1df8-476e-e80a-51462aad81ab",
        "colab": {
          "base_uri": "https://localhost:8080/",
          "height": 77
        }
      },
      "source": [
        "get_query_ctx(test_query_df).head(1)"
      ],
      "execution_count": 0,
      "outputs": [
        {
          "output_type": "execute_result",
          "data": {
            "text/html": [
              "<div>\n",
              "<style scoped>\n",
              "    .dataframe tbody tr th:only-of-type {\n",
              "        vertical-align: middle;\n",
              "    }\n",
              "\n",
              "    .dataframe tbody tr th {\n",
              "        vertical-align: top;\n",
              "    }\n",
              "\n",
              "    .dataframe thead th {\n",
              "        text-align: right;\n",
              "    }\n",
              "</style>\n",
              "<table border=\"1\" class=\"dataframe\">\n",
              "  <thead>\n",
              "    <tr style=\"text-align: right;\">\n",
              "      <th></th>\n",
              "      <th>pid</th>\n",
              "      <th>userid</th>\n",
              "      <th>age</th>\n",
              "      <th>country</th>\n",
              "      <th>gender</th>\n",
              "      <th>prev_traid</th>\n",
              "      <th>prev_albid</th>\n",
              "      <th>prev_artid</th>\n",
              "    </tr>\n",
              "  </thead>\n",
              "  <tbody>\n",
              "    <tr>\n",
              "      <th>287817</th>\n",
              "      <td>1</td>\n",
              "      <td>5</td>\n",
              "      <td>5</td>\n",
              "      <td>4</td>\n",
              "      <td>1</td>\n",
              "      <td>17501</td>\n",
              "      <td>10033</td>\n",
              "      <td>5924</td>\n",
              "    </tr>\n",
              "  </tbody>\n",
              "</table>\n",
              "</div>"
            ],
            "text/plain": [
              "        pid  userid  age  country  gender  prev_traid  prev_albid  prev_artid\n",
              "287817    1       5    5        4       1       17501       10033        5924"
            ]
          },
          "metadata": {
            "tags": []
          },
          "execution_count": 109
        }
      ]
    },
    {
      "cell_type": "code",
      "metadata": {
        "id": "Sa6x1h_JAGO7",
        "colab_type": "code",
        "outputId": "4ae3b2ff-0f1d-4ce7-81d6-e8b686948597",
        "colab": {
          "base_uri": "https://localhost:8080/",
          "height": 100
        }
      },
      "source": [
        "pop_rank = PopRank()\n",
        "pop_rank_fit_time = pop_rank.fit(train_df)\n",
        "pop_rank_df, pop_rank_trans_time = pop_rank.transform(\n",
        "    get_query_seeds(test_query_df), filter_user_tracks=True)\n",
        "c_pop_rank_hit_rates = hit_rates(pop_rank_df, test_df)\n",
        "c_pop_rank_ndcg = ndcg(pop_rank_df, test_df)\n",
        "\n",
        "print(\"{:.6f} hit rate\\n{:.6f} ndcg\\n\\n{:.5f}s fit time \\n{:.5f}s trans time\"\n",
        "      .format(c_pop_rank_hit_rates[0], c_pop_rank_ndcg, pop_rank_fit_time,\n",
        "              pop_rank_trans_time))"
      ],
      "execution_count": 0,
      "outputs": [
        {
          "output_type": "stream",
          "text": [
            "0.000298 hit rate\n",
            "0.022478 ndcg\n",
            "\n",
            "0.30031s fit time \n",
            "3.82261s trans time\n"
          ],
          "name": "stdout"
        }
      ]
    },
    {
      "cell_type": "code",
      "metadata": {
        "id": "PU0vgwMtATl6",
        "colab_type": "code",
        "colab": {}
      },
      "source": [
        "del pop_rank"
      ],
      "execution_count": 0,
      "outputs": []
    },
    {
      "cell_type": "code",
      "metadata": {
        "id": "cJSKfIY9ATjP",
        "colab_type": "code",
        "outputId": "5b1002d9-b37e-4ce3-d802-fdfe1e367f23",
        "colab": {
          "base_uri": "https://localhost:8080/",
          "height": 100
        }
      },
      "source": [
        "sagh = SAGH()\n",
        "sagh_fit_time = sagh.fit(train_df)\n",
        "sagh_df, sagh_trans_time = sagh.transform(get_query_seeds(test_query_df),\n",
        "                                          filter_user_tracks=True)\n",
        "c_sagh_hit_rates = hit_rates(sagh_df, test_df)\n",
        "c_sagh_ndcg = ndcg(sagh_df, test_df)\n",
        "\n",
        "print(\"{:.6f} hit rate\\n{:.6f} ndcg\\n\\n{:.5f}s fit time \\n{:.5f}s trans time\"\n",
        "      .format(c_sagh_hit_rates[0], c_sagh_ndcg, sagh_fit_time, sagh_trans_time))"
      ],
      "execution_count": 0,
      "outputs": [
        {
          "output_type": "stream",
          "text": [
            "0.008066 hit rate\n",
            "0.097976 ndcg\n",
            "\n",
            "0.43728s fit time \n",
            "4.77001s trans time\n"
          ],
          "name": "stdout"
        }
      ]
    },
    {
      "cell_type": "code",
      "metadata": {
        "id": "n1TIo41TAV-8",
        "colab_type": "code",
        "colab": {}
      },
      "source": [
        "del sagh\n",
        "del sagh_df"
      ],
      "execution_count": 0,
      "outputs": []
    },
    {
      "cell_type": "code",
      "metadata": {
        "id": "t1FOlcbbAbP7",
        "colab_type": "code",
        "outputId": "f2649053-6a6c-49d7-a8b3-8d9698a818c5",
        "colab": {
          "base_uri": "https://localhost:8080/",
          "height": 100
        }
      },
      "source": [
        "knn = KNN()\n",
        "knn_fit_time = knn.fit(train_df)\n",
        "knn_df, knn150_trans_time = knn.transform(get_query_seeds(test_query_df), k=150,\n",
        "                                          filter_user_tracks=True)\n",
        "c_knn150_hit_rates = hit_rates(knn_df, test_df)\n",
        "c_knn150_ndcg = ndcg(knn_df, test_df)\n",
        "\n",
        "print(\"{:.6f} hit rate\\n{:.6f} ndcg\\n\\n{:.5f}s fit time \\n{:.5f}s trans time\"\n",
        "      .format(c_knn150_hit_rates[0], c_knn150_ndcg, knn_fit_time,\n",
        "              knn150_trans_time))"
      ],
      "execution_count": 0,
      "outputs": [
        {
          "output_type": "stream",
          "text": [
            "0.007622 hit rate\n",
            "0.123811 ndcg\n",
            "\n",
            "0.20322s fit time \n",
            "5.51100s trans time\n"
          ],
          "name": "stdout"
        }
      ]
    },
    {
      "cell_type": "code",
      "metadata": {
        "id": "i_eY9VlOAbX8",
        "colab_type": "code",
        "colab": {}
      },
      "source": [
        "del knn\n",
        "del knn_df"
      ],
      "execution_count": 0,
      "outputs": []
    },
    {
      "cell_type": "code",
      "metadata": {
        "id": "Gg4lS0BTAZMk",
        "colab_type": "code",
        "outputId": "ce7cbd37-2079-4431-cbce-6a3d6bbb301c",
        "colab": {
          "base_uri": "https://localhost:8080/",
          "height": 107
        }
      },
      "source": [
        "cols = [\"Pop Rank\", \"SAGH\", \"kNN k=150\"]\n",
        "rows = [[c_pop_rank_ndcg, c_sagh_ndcg, c_knn150_ndcg],\n",
        "        [c_pop_rank_hit_rates[0], c_sagh_hit_rates[0], c_knn150_hit_rates[0]]]\n",
        "index = [\"NDCG\", \"Hit rate\"]\n",
        "pd.DataFrame.from_records(rows, columns=cols, index=index)"
      ],
      "execution_count": 0,
      "outputs": [
        {
          "output_type": "execute_result",
          "data": {
            "text/html": [
              "<div>\n",
              "<style scoped>\n",
              "    .dataframe tbody tr th:only-of-type {\n",
              "        vertical-align: middle;\n",
              "    }\n",
              "\n",
              "    .dataframe tbody tr th {\n",
              "        vertical-align: top;\n",
              "    }\n",
              "\n",
              "    .dataframe thead th {\n",
              "        text-align: right;\n",
              "    }\n",
              "</style>\n",
              "<table border=\"1\" class=\"dataframe\">\n",
              "  <thead>\n",
              "    <tr style=\"text-align: right;\">\n",
              "      <th></th>\n",
              "      <th>Pop Rank</th>\n",
              "      <th>SAGH</th>\n",
              "      <th>kNN k=150</th>\n",
              "    </tr>\n",
              "  </thead>\n",
              "  <tbody>\n",
              "    <tr>\n",
              "      <th>NDCG</th>\n",
              "      <td>0.022478</td>\n",
              "      <td>0.097976</td>\n",
              "      <td>0.123811</td>\n",
              "    </tr>\n",
              "    <tr>\n",
              "      <th>Hit rate</th>\n",
              "      <td>0.000298</td>\n",
              "      <td>0.008066</td>\n",
              "      <td>0.007622</td>\n",
              "    </tr>\n",
              "  </tbody>\n",
              "</table>\n",
              "</div>"
            ],
            "text/plain": [
              "          Pop Rank      SAGH  kNN k=150\n",
              "NDCG      0.022478  0.097976   0.123811\n",
              "Hit rate  0.000298  0.008066   0.007622"
            ]
          },
          "metadata": {
            "tags": []
          },
          "execution_count": 116
        }
      ]
    },
    {
      "cell_type": "code",
      "metadata": {
        "id": "rv2JLVDNAGUV",
        "colab_type": "code",
        "outputId": "5e35eefd-d2ca-415c-cd73-74565f661b91",
        "colab": {
          "base_uri": "https://localhost:8080/",
          "height": 281
        }
      },
      "source": [
        "def plot_c_baseline_hit_rates(n=500):\n",
        "  plt.plot(c_pop_rank_hit_rates[:n], color=\"orange\")\n",
        "  plt.plot(c_sagh_hit_rates[:n], color=\"blue\")\n",
        "  plt.plot(c_knn150_hit_rates[:n], color=\"green\")\n",
        "\n",
        "  orange_patch = mpatches.Patch(color=\"orange\", label=\"Pop Rank\")\n",
        "  blue_patch = mpatches.Patch(color=\"blue\", label=\"SAGH\")\n",
        "  green_patch = mpatches.Patch(color=\"green\", label=\"kNN k 150\")\n",
        "  patches = [orange_patch, blue_patch, green_patch]\n",
        "  plt.legend(handles=patches)\n",
        "\n",
        "  plt.title(\"Hit rates of baseline algorithms\")\n",
        "\n",
        "plot_c_baseline_hit_rates();"
      ],
      "execution_count": 0,
      "outputs": [
        {
          "output_type": "display_data",
          "data": {
            "image/png": "[encoded data removed]",
            "text/plain": [
              "<Figure size 432x288 with 1 Axes>"
            ]
          },
          "metadata": {
            "tags": []
          }
        }
      ]
    },
    {
      "cell_type": "markdown",
      "metadata": {
        "id": "S-JlHn7-Gqwq",
        "colab_type": "text"
      },
      "source": [
        "# Factorization machines"
      ]
    },
    {
      "cell_type": "markdown",
      "metadata": {
        "id": "zGSgZ_JzGsH_",
        "colab_type": "text"
      },
      "source": [
        "Now we want to evaluate the actual algorithms of interest - factorization machines. We will use the following variants.\n",
        "\n",
        "*  Vanilla factorization machines\n",
        "*  Translation-based factorization machines\n",
        "*  Field-aware factorization machines\n",
        "*  Translation-based field-aware factorization machines\n",
        "\n",
        "All variants use BPR (Bayesian Personalized Ranking) loss and the Adadelta optimizer. The implementations are based on https://github.com/rpasricha/TransFM, but heavily adapted. The original implementation is described in:\n",
        "\n",
        "> Rajiv Pasricha and Julian McAuley.<br>\n",
        "> **Translation-based factorization machines for sequential recommendation**.<br>\n",
        "> *In Proceedings of the 12th ACM Conference on Recommender Systems, pages 63-71, ACM, 2018*\n",
        "\n",
        "Translation-based field-aware factorization machines are an own proposed variant combining the variant proposed above with the variant proposed in:\n",
        "\n",
        "> Yuchin Juan, Yong Zhuang, Wei-Sheng Chin and Chih-Jen Lin.<br>\n",
        "> **Field-aware factorization machines for CTR prediction**.<br>\n",
        "> *In Proceedings of the 10th ACM Conference on Recommender Systems, pages 43-50, ACM, 2016*\n",
        "\n",
        "Normalized weight decay is used instead of L2 regularization which has problems in combination with adaptive optimizers, as presented in:\n",
        "\n",
        "> Ilya Loshchilov and Frank Hutter.<br>\n",
        "> **Fixing weight decay regularization in adam**.<br>\n",
        "> *In arXiv preprint arXiv:1711.05101, 2017*\n"
      ]
    },
    {
      "cell_type": "markdown",
      "metadata": {
        "id": "Wmev029dGwkX",
        "colab_type": "text"
      },
      "source": [
        "**Regarding reproducibility - Scores of own runs might not match exactly**\n",
        "\n",
        "Seeds are used at all identified places where randomness is used (sampling of negative examples, latent factor initialization), but there still seem to be reproducibility issues because of non-deterministic TensorFlow GPU operations (possibly related to https://github.com/tensorflow/tensorflow/issues/2732) and no use of locking (which could be addressed at possible small runtime costs but was not since we have reproducibility issues anyway)."
      ]
    },
    {
      "cell_type": "markdown",
      "metadata": {
        "id": "kg8L1t9mG2ey",
        "colab_type": "text"
      },
      "source": [
        "## Implementation"
      ]
    },
    {
      "cell_type": "markdown",
      "metadata": {
        "id": "a43cfAhBG8TE",
        "colab_type": "text"
      },
      "source": [
        "### Features"
      ]
    },
    {
      "cell_type": "code",
      "metadata": {
        "id": "mY3yX7fFA0c_",
        "colab_type": "code",
        "colab": {}
      },
      "source": [
        "def _df2col_val(df, col_name, col_vals, with_first_unknown,\n",
        "                with_unknown_ignored):\n",
        "  col = df[col_name].to_numpy()\n",
        "\n",
        "  if with_first_unknown:\n",
        "    col = np.insert(col, 0, 0)\n",
        "\n",
        "  if col_name in col_vals:\n",
        "    val = np.full(len(col), col_vals[col_name])\n",
        "  else:\n",
        "    val = np.ones(len(col))\n",
        "  \n",
        "  if with_unknown_ignored:\n",
        "    val[col == 0] = 0.0\n",
        "\n",
        "  return col, val\n",
        "\n",
        "\n",
        "def _df2csr(df, maincol, maincol_num, col_names, col_nums, col_vals,\n",
        "            with_first_unknown, with_unknown_ignored):\n",
        "\n",
        "  col_csrs = []\n",
        "  for col_name, col_num in zip(col_names, col_nums):\n",
        "    col, val = _df2col_val(df, col_name, col_vals, with_first_unknown,\n",
        "                           with_unknown_ignored)\n",
        "    col_csr = csr_matrix((val, (maincol, col)), shape=(maincol_num, col_num))\n",
        "    col_csrs.append(col_csr)\n",
        "\n",
        "  return sp.hstack(col_csrs, format=\"csr\")\n",
        "\n",
        "\n",
        "def _df2ctx_csr(df, col_names, col_nums, col_vals):\n",
        "  \"\"\"\n",
        "  Create a csr matrix of the concatenated one-hot features\n",
        "  of the col_names dataframe columns.\n",
        "\n",
        "  Unknown features (one-hot index 0) are ignored\n",
        "  as the number of context features does not influence ranking.\n",
        "\n",
        "  :param col_vals: feature weighting per column\n",
        "  :return: csr matrix of dense shape [num_interactions, num_ctx_feats]\n",
        "  \"\"\"\n",
        "  maincol_num = len(df)\n",
        "  maincol = np.arange(maincol_num, dtype=int)\n",
        "  return _df2csr(df, maincol, maincol_num, col_names, col_nums, col_vals, False,\n",
        "                 True)\n",
        "\n",
        "\n",
        "def _df2user_csr(df, usercol_name, usercol_num, col_names, col_nums, col_vals):\n",
        "  \"\"\"\n",
        "  Create a csr matrix of the per-user concatenated one-hot features\n",
        "  of the col_names dataframe columns.\n",
        "\n",
        "  Unknown features (one-hot index 0) are ignored\n",
        "  as the number of user features does not influence ranking.\n",
        "  The unknown user (row 0) has no features.\n",
        "\n",
        "  :param col_vals: feature weighting per column\n",
        "  :return: csr matrix of dense shape [num_users, num_user_feats]\n",
        "  \"\"\"\n",
        "  df = df[col_names].drop_duplicates().sort_values(usercol_name)\n",
        "  usercol, _ = _df2col_val(df, usercol_name, col_vals, True, True)\n",
        "  return _df2csr(df, usercol, usercol_num, col_names, col_nums, col_vals, True,\n",
        "                 True)\n",
        "\n",
        "\n",
        "def _df2item_csr(df, maincol_name, maincol_num, col_names, col_nums, col_vals):\n",
        "  \"\"\"\n",
        "  Create a csr matrix of the per-item concatenated one-hot features\n",
        "  of the col_names dataframe columns.\n",
        "\n",
        "  Unknown features (one-hot index 0) are set\n",
        "  as the number of item features influences ranking.\n",
        "  The unknown item (row 0) has all unknown feature.\n",
        "\n",
        "  :param col_vals: feature weighting per column\n",
        "  :return: csr matrix of dense shape [num_items, num_item_feats]\n",
        "  \"\"\"\n",
        "  df = df[col_names].drop_duplicates().sort_values(maincol_name)\n",
        "  maincol, _ = _df2col_val(df, maincol_name, col_vals, True, False)\n",
        "  return _df2csr(df, maincol, maincol_num, col_names, col_nums, col_vals, True,\n",
        "                 False)\n",
        "\n",
        "\n",
        "def _meta_df2num(meta_df, col_name):\n",
        "  num = meta_df[col_name].nunique()\n",
        "  if not (meta_df[col_name] == 0).any():\n",
        "    num = num + 1 # unknown has id 0 and no id 0 exists\n",
        "  return num\n",
        "\n",
        "\n",
        "def _item2col(meta_df, col_name):\n",
        "  item2col = meta_df[[\"traid\", col_name]].drop_duplicates()\n",
        "  item2col = item2col.sort_values(\"traid\")[col_name].to_numpy()\n",
        "  item2col = np.insert(item2col, 0, 0)  # unknown column\n",
        "  return item2col\n",
        "\n",
        "\n",
        "def _df2encoded_user_csr(seeds_df, meta_df, ucol_name, ucol_num, icol_name,\n",
        "                         icol_num, col_names, col_nums, col_vals,\n",
        "                         normalize_fn):\n",
        "\n",
        "  ui_df = seeds_df[[ucol_name, icol_name]].drop_duplicates()\n",
        "  ui_df = ui_df.sort_values([ucol_name, icol_name]).reset_index(drop=True)\n",
        "\n",
        "  ucol, _ = _df2col_val(ui_df, ucol_name, col_vals, True, True)\n",
        "\n",
        "  # use weighting of user column for individual item columns\n",
        "  if ucol_name in col_vals:\n",
        "    icol_vals = {icol_name: col_vals[icol_name]}\n",
        "  else:\n",
        "    icol_vals = dict()\n",
        "  icol, val = _df2col_val(ui_df, icol_name, icol_vals, True, True)\n",
        "\n",
        "  # normalize weighting of individual item columns\n",
        "  val = val * normalize_fn(ui_df, meta_df, ucol_name, icol_name)\n",
        "  \n",
        "  col_csrs = [csr_matrix((val, (ucol, icol)), shape=(ucol_num, icol_num))]\n",
        "\n",
        "  if col_names:\n",
        "    seeds_df = seeds_df[col_names + [ucol_name]].drop_duplicates().sort_values(ucol_name)\n",
        "    ucol, _ = _df2col_val(seeds_df, ucol_name, col_vals, True, True)\n",
        "\n",
        "    for col_name, col_num in zip(col_names, col_nums):\n",
        "      col, val = _df2col_val(seeds_df, col_name, col_vals, True, True)\n",
        "      col_csr = csr_matrix((val, (ucol, col)), shape=(ucol_num, col_num))\n",
        "      col_csrs.append(col_csr)\n",
        "\n",
        "  return sp.hstack(col_csrs, format=\"csr\")"
      ],
      "execution_count": 0,
      "outputs": []
    },
    {
      "cell_type": "code",
      "metadata": {
        "id": "Gw93wP1IA8Yp",
        "colab_type": "code",
        "colab": {}
      },
      "source": [
        "def df2usersitems(df, meta_df, seeds_df=None):\n",
        "  \"\"\"\n",
        "  Function for only using user and item index features.\n",
        "\n",
        "  Returns a tuple of\n",
        "   * number of users including unknown user\n",
        "   * user indices array of shape                [num_interactions]\n",
        "   * user features csr matrix of dense shape    [num_users, num_user_feats]\n",
        "   * number of items including unknown item\n",
        "   * item indices array of shape                [num_interactions]\n",
        "   * item features csr matrix of dense shape    [num_items, num_item_feats]\n",
        "   * context features csr matrix of dense shape [num_interactions, num_ctx_feats]\n",
        "   * array of artists per item indices of shape [num_items]\n",
        "   * array of albums per item indices of shape  [num_items]\n",
        "  \"\"\"\n",
        "\n",
        "  num_users = _meta_df2num(meta_df, \"pid\")\n",
        "  num_items = _meta_df2num(meta_df, \"traid\")\n",
        "\n",
        "  item2artist = _item2col(meta_df, \"artid\")\n",
        "  item2album = _item2col(meta_df, \"albid\")\n",
        "\n",
        "  user_feats = sp.identity(num_users, format=\"csr\")\n",
        "  item_feats = sp.identity(num_items, format=\"csr\")\n",
        "  \n",
        "  user_indices = df[\"pid\"].to_numpy()\n",
        "  item_indices = df[\"traid\"].to_numpy() if \"traid\" in df.columns else None\n",
        "  ctx_feats = None\n",
        "\n",
        "  return (num_users, user_indices, user_feats, num_items, item_indices,\n",
        "          item_feats, ctx_feats, item2artist, item2album)\n",
        "\n",
        "\n",
        "def df2usersitemfeats(col_vals=dict()):\n",
        "  \"\"\"\n",
        "  Function for using user index and item index, album and artist features.\n",
        "  \"\"\"\n",
        "  def _df2usersitemfeats(df, meta_df, seeds_df=None):\n",
        "    num_users = _meta_df2num(meta_df, \"pid\")\n",
        "    num_items = _meta_df2num(meta_df, \"traid\")\n",
        "    num_albums = _meta_df2num(meta_df, \"albid\") \n",
        "    num_artists = _meta_df2num(meta_df, \"artid\") \n",
        "\n",
        "    item2artist = _item2col(meta_df, \"artid\")\n",
        "    item2album = _item2col(meta_df, \"albid\")\n",
        "\n",
        "    user_feats = sp.identity(num_users, format=\"csr\")\n",
        "\n",
        "    item_cols = [\"traid\", \"albid\", \"artid\"]\n",
        "    item_col_nums = [num_items, num_albums, num_artists]\n",
        "    item_feats = _df2item_csr(meta_df, \"traid\", num_items, item_cols,\n",
        "                              item_col_nums, col_vals)\n",
        "\n",
        "    user_indices = df[\"pid\"].to_numpy()\n",
        "    item_indices = df[\"traid\"].to_numpy() if \"traid\" in df.columns else None\n",
        "    ctx_feats = None\n",
        "\n",
        "    return (num_users, user_indices, user_feats, num_items, item_indices,\n",
        "            item_feats, ctx_feats, item2artist, item2album)\n",
        "\n",
        "  return _df2usersitemfeats\n",
        "\n",
        "\n",
        "def df2all(col_vals=dict()):\n",
        "  \"\"\"\n",
        "  Function for using all features, excluding previous item context features.\n",
        "   * user features: pid, userid, age, country, gender\n",
        "   * item features: traid, albid, artid\n",
        "  \"\"\"\n",
        "  def _df2all(df, meta_df, seeds_df=None):\n",
        "    num_users = _meta_df2num(meta_df, \"pid\")\n",
        "    num_items = _meta_df2num(meta_df, \"traid\")\n",
        "    num_true_users = _meta_df2num(meta_df, \"userid\")\n",
        "    num_ages = _meta_df2num(meta_df, \"age\")\n",
        "    num_countries = _meta_df2num(meta_df, \"country\")\n",
        "    num_genders = _meta_df2num(meta_df, \"gender\")\n",
        "    num_albums = _meta_df2num(meta_df, \"albid\") \n",
        "    num_artists = _meta_df2num(meta_df, \"artid\") \n",
        "    \n",
        "    item2artist = _item2col(meta_df, \"artid\")\n",
        "    item2album = _item2col(meta_df, \"albid\")\n",
        "\n",
        "    user_cols = [\"pid\", \"userid\", \"age\", \"country\", \"gender\"]\n",
        "    user_col_nums = [num_users, num_true_users, num_ages, num_countries,\n",
        "                     num_genders]\n",
        "    user_feats = _df2user_csr(meta_df, \"pid\", num_users, user_cols,\n",
        "                              user_col_nums, col_vals)\n",
        "\n",
        "    item_cols = [\"traid\", \"albid\", \"artid\"]\n",
        "    item_col_nums = [num_items, num_albums, num_artists]\n",
        "    item_feats = _df2item_csr(meta_df, \"traid\", num_items, item_cols,\n",
        "                              item_col_nums, col_vals)\n",
        "\n",
        "    user_indices = df[\"pid\"].to_numpy()\n",
        "    item_indices = df[\"traid\"].to_numpy() if \"traid\" in df.columns else None\n",
        "    ctx_feats = None\n",
        "\n",
        "    return (num_users, user_indices, user_feats, num_items, item_indices,\n",
        "            item_feats, ctx_feats, item2artist, item2album)\n",
        "  \n",
        "  return _df2all\n",
        "\n",
        "\n",
        "def df2usersprevitems(col_vals=dict()):\n",
        "  \"\"\"\n",
        "  Function for only using user, item and previous item index features.\n",
        "  \"\"\"\n",
        "  def _df2usersprevitems(df, meta_df, seeds_df=None):\n",
        "    num_users = _meta_df2num(meta_df, \"pid\")\n",
        "    num_items = _meta_df2num(meta_df, \"traid\")\n",
        "\n",
        "    item2artist = _item2col(meta_df, \"artid\")\n",
        "    item2album = _item2col(meta_df, \"albid\")\n",
        "\n",
        "    user_feats = sp.identity(num_users, format=\"csr\")\n",
        "    item_feats = sp.identity(num_items, format=\"csr\")\n",
        "    \n",
        "    user_indices = df[\"pid\"].to_numpy()\n",
        "    item_indices = df[\"traid\"].to_numpy() if \"traid\" in df.columns else None\n",
        "    ctx_feats = _df2ctx_csr(df, [\"prev_traid\"], [num_items], col_vals)\n",
        "\n",
        "    return (num_users, user_indices, user_feats, num_items, item_indices,\n",
        "            item_feats, ctx_feats, item2artist, item2album)\n",
        "  \n",
        "  return _df2usersprevitems\n",
        "\n",
        "\n",
        "def df2usersprevitemfeats(col_vals=dict()):\n",
        "  \"\"\"\n",
        "  Function for using user index and item index, album and artist features,\n",
        "  as well as previous item index, album and artist features.\n",
        "  \"\"\"\n",
        "  def _df2usersprevitemfeats(df, meta_df, seeds_df=None):\n",
        "    num_users = _meta_df2num(meta_df, \"pid\")\n",
        "    num_items = _meta_df2num(meta_df, \"traid\")\n",
        "    num_albums = _meta_df2num(meta_df, \"albid\") \n",
        "    num_artists = _meta_df2num(meta_df, \"artid\") \n",
        "\n",
        "    item2artist = _item2col(meta_df, \"artid\")\n",
        "    item2album = _item2col(meta_df, \"albid\")\n",
        "\n",
        "    user_feats = sp.identity(num_users, format=\"csr\")\n",
        "\n",
        "    item_cols = [\"traid\", \"albid\", \"artid\"]\n",
        "    item_col_nums = [num_items, num_albums, num_artists]\n",
        "    item_feats = _df2item_csr(meta_df, \"traid\", num_items, item_cols,\n",
        "                              item_col_nums, col_vals)\n",
        "\n",
        "    user_indices = df[\"pid\"].to_numpy()\n",
        "    item_indices = df[\"traid\"].to_numpy() if \"traid\" in df.columns else None\n",
        "\n",
        "    ctx_cols = [\"prev_traid\", \"prev_albid\", \"prev_artid\"]\n",
        "    ctx_col_nums = [num_items, num_albums, num_artists]\n",
        "    ctx_feats = _df2ctx_csr(df, ctx_cols, ctx_col_nums, col_vals)\n",
        "\n",
        "    return (num_users, user_indices, user_feats, num_items, item_indices,\n",
        "            item_feats, ctx_feats, item2artist, item2album)\n",
        "  \n",
        "  return _df2usersprevitemfeats\n",
        "\n",
        "\n",
        "def df2prevall(col_vals=dict()):\n",
        "  \"\"\"\n",
        "  Function for using all features.\n",
        "   * user features: pid, userid, age, country, gender\n",
        "   * item features: traid, albid, artid\n",
        "   * context features: prev_traid, prev_albid, prev_artid\n",
        "  \"\"\"\n",
        "  def _df2prevall(df, meta_df, seeds_df=None):\n",
        "    num_users = _meta_df2num(meta_df, \"pid\")\n",
        "    num_items = _meta_df2num(meta_df, \"traid\")\n",
        "    num_true_users = _meta_df2num(meta_df, \"userid\")\n",
        "    num_ages = _meta_df2num(meta_df, \"age\")\n",
        "    num_countries = _meta_df2num(meta_df, \"country\")\n",
        "    num_genders = _meta_df2num(meta_df, \"gender\")\n",
        "    num_albums = _meta_df2num(meta_df, \"albid\") \n",
        "    num_artists = _meta_df2num(meta_df, \"artid\") \n",
        "    \n",
        "    item2artist = _item2col(meta_df, \"artid\")\n",
        "    item2album = _item2col(meta_df, \"albid\")\n",
        "\n",
        "    user_cols = [\"pid\", \"userid\", \"age\", \"country\", \"gender\"]\n",
        "    user_col_nums = [num_users, num_true_users, num_ages, num_countries,\n",
        "                     num_genders]\n",
        "    user_feats = _df2user_csr(meta_df, \"pid\", num_users, user_cols,\n",
        "                              user_col_nums, col_vals)\n",
        "\n",
        "    item_cols = [\"traid\", \"albid\", \"artid\"]\n",
        "    item_col_nums = [num_items, num_albums, num_artists]\n",
        "    item_feats = _df2item_csr(meta_df, \"traid\", num_items, item_cols,\n",
        "                              item_col_nums, col_vals)\n",
        "\n",
        "    user_indices = df[\"pid\"].to_numpy()\n",
        "    item_indices = df[\"traid\"].to_numpy() if \"traid\" in df.columns else None\n",
        "\n",
        "    ctx_cols = [\"prev_traid\", \"prev_albid\", \"prev_artid\"]\n",
        "    ctx_col_nums = [num_items, num_albums, num_artists]\n",
        "    ctx_feats = _df2ctx_csr(df, ctx_cols, ctx_col_nums, col_vals)\n",
        "\n",
        "    return (num_users, user_indices, user_feats, num_items, item_indices,\n",
        "            item_feats, ctx_feats, item2artist, item2album)\n",
        "  \n",
        "  return _df2prevall"
      ],
      "execution_count": 0,
      "outputs": []
    },
    {
      "cell_type": "code",
      "metadata": {
        "id": "7vFxdq1ECcxs",
        "colab_type": "code",
        "colab": {}
      },
      "source": [
        "def equi_weight_normalize(ui_df, meta_df, ucol_name, icol_name):\n",
        "  def _group_equi_weights(g):\n",
        "    g[\"weight\"] = 1.0 / g.size\n",
        "    return g\n",
        "  \n",
        "  ui_df = ui_df.groupby(ucol_name).apply(_group_equi_weights)\n",
        "  val_weights = pd.Series([1.0]).append(ui_df[\"weight\"])\n",
        "  return val_weights\n",
        "\n",
        "\n",
        "def sqrt_equi_weight_normalize(ui_df, meta_df, ucol_name, icol_name):\n",
        "  def _group_sqrt_equi_weights(g):\n",
        "    g[\"weight\"] = 1.0 / sqrt(g.size)\n",
        "    return g\n",
        "  \n",
        "  ui_df = ui_df.groupby(ucol_name).apply(_group_sqrt_equi_weights)\n",
        "  val_weights = pd.Series([1.0]).append(ui_df[\"weight\"])\n",
        "  return val_weights\n",
        "\n",
        "\n",
        "def sqrt_popularity_weight_normalize(ui_df, meta_df, ucol_name, icol_name):\n",
        "  def _group_sqrt_popularity_weights(g):\n",
        "    g[\"weight\"] = g[\"weight\"] / g[\"weight\"].sum()\n",
        "    return g\n",
        "\n",
        "  item_weights = 1.0 / meta_df.groupby(icol_name).size().apply(np.sqrt)\n",
        "  item_weights = item_weights.rename(\"weight\")\n",
        "  ui_df = ui_df.join(item_weights, on=icol_name)\n",
        "  ui_df = ui_df.groupby(ucol_name).apply(_group_sqrt_popularity_weights)\n",
        "  val_weights = pd.Series([1.0]).append(ui_df[\"weight\"])\n",
        "  return val_weights"
      ],
      "execution_count": 0,
      "outputs": []
    },
    {
      "cell_type": "code",
      "metadata": {
        "id": "nBe_snC9CibN",
        "colab_type": "code",
        "colab": {}
      },
      "source": [
        "def df2encodedusersitems(col_vals=dict(),\n",
        "                         encode_fn=sqrt_equi_weight_normalize):\n",
        "  \"\"\"\n",
        "  Function for only using item index features,\n",
        "  representing users as their items.\n",
        "  \"\"\"\n",
        "  def _df2encodedusersitems(df, meta_df, seeds_df=None):\n",
        "    num_users = _meta_df2num(meta_df, \"pid\")\n",
        "    num_items = _meta_df2num(meta_df, \"traid\")\n",
        "    \n",
        "    item2artist = _item2col(meta_df, \"artid\")\n",
        "    item2album = _item2col(meta_df, \"albid\")\n",
        "    \n",
        "    if seeds_df is not None and \"traid\" in seeds_df.columns:\n",
        "      user_feats = _df2encoded_user_csr(seeds_df, meta_df, \"pid\", num_users,\n",
        "                                        \"traid\", num_items, [], [], col_vals,\n",
        "                                        encode_fn)\n",
        "    else:\n",
        "      user_feats = None\n",
        "\n",
        "    item_feats = sp.identity(num_items, format=\"csr\")\n",
        "\n",
        "    user_indices = df[\"pid\"].to_numpy()\n",
        "    item_indices = df[\"traid\"].to_numpy() if \"traid\" in df.columns else None\n",
        "    ctx_feats = None\n",
        "    return (num_users, user_indices, user_feats, num_items, item_indices,\n",
        "            item_feats, ctx_feats, item2artist, item2album)\n",
        "\n",
        "  return _df2encodedusersitems\n",
        "\n",
        "\n",
        "def df2encodedusersall(col_vals=dict(),\n",
        "                       encode_fn=sqrt_equi_weight_normalize):\n",
        "  \"\"\"\n",
        "  Function for using all features, representing users as their items:\n",
        "   * user features: playlist items, userid, age, country, gender\n",
        "   * item features: traid, albid, artid\n",
        "  \"\"\"\n",
        "  def _df2encodedusersall(df, meta_df, seeds_df=None):\n",
        "    num_users = _meta_df2num(meta_df, \"pid\")\n",
        "    num_items = _meta_df2num(meta_df, \"traid\")\n",
        "    num_true_users = _meta_df2num(meta_df, \"userid\")\n",
        "    num_ages = _meta_df2num(meta_df, \"age\")\n",
        "    num_countries = _meta_df2num(meta_df, \"country\")\n",
        "    num_genders = _meta_df2num(meta_df, \"gender\")\n",
        "    num_albums = _meta_df2num(meta_df, \"albid\") \n",
        "    num_artists = _meta_df2num(meta_df, \"artid\") \n",
        "    \n",
        "    item2artist = _item2col(meta_df, \"artid\")\n",
        "    item2album = _item2col(meta_df, \"albid\")\n",
        "    \n",
        "    if seeds_df is not None and \"traid\" in seeds_df.columns:\n",
        "      user_cols = [\"userid\", \"age\", \"country\", \"gender\"]\n",
        "      user_col_nums = [num_true_users, num_ages, num_countries, num_genders]\n",
        "      user_feats = _df2encoded_user_csr(seeds_df, meta_df, \"pid\", num_users,\n",
        "                                        \"traid\", num_items, user_cols,\n",
        "                                        user_col_nums, col_vals, encode_fn)\n",
        "    else:\n",
        "      user_feats = None\n",
        "      \n",
        "    item_cols = [\"traid\", \"albid\", \"artid\"]\n",
        "    item_col_nums = [num_items, num_albums, num_artists]\n",
        "    item_feats = _df2item_csr(meta_df, \"traid\", num_items, item_cols,\n",
        "                              item_col_nums, col_vals)\n",
        "\n",
        "    user_indices = df[\"pid\"].to_numpy()\n",
        "    item_indices = df[\"traid\"].to_numpy() if \"traid\" in df.columns else None\n",
        "    \n",
        "    ctx_feats = None\n",
        "    \n",
        "    return (num_users, user_indices, user_feats, num_items, item_indices,\n",
        "            item_feats, ctx_feats, item2artist, item2album)\n",
        "\n",
        "  return _df2encodedusersall\n",
        "\n",
        "\n",
        "def df2encodedusersprevall(col_vals=dict(),\n",
        "                           encode_fn=sqrt_equi_weight_normalize):\n",
        "  \"\"\"\n",
        "  Function for using all features including previous,\n",
        "  representing users as their items:\n",
        "   * user features: playlist items, userid, age, country, gender\n",
        "   * item features: traid, albid, artid\n",
        "   * context features: prev_traid, prev_albid, prev_artid\n",
        "  \"\"\"\n",
        "  def _df2encodedusersprevall(df, meta_df, seeds_df=None):\n",
        "    num_users = _meta_df2num(meta_df, \"pid\")\n",
        "    num_items = _meta_df2num(meta_df, \"traid\")\n",
        "    num_true_users = _meta_df2num(meta_df, \"userid\")\n",
        "    num_ages = _meta_df2num(meta_df, \"age\")\n",
        "    num_countries = _meta_df2num(meta_df, \"country\")\n",
        "    num_genders = _meta_df2num(meta_df, \"gender\")\n",
        "    num_albums = _meta_df2num(meta_df, \"albid\") \n",
        "    num_artists = _meta_df2num(meta_df, \"artid\") \n",
        "    \n",
        "    item2artist = _item2col(meta_df, \"artid\")\n",
        "    item2album = _item2col(meta_df, \"albid\")\n",
        "    \n",
        "    if seeds_df is not None and \"traid\" in seeds_df.columns:\n",
        "      user_cols = [\"userid\", \"age\", \"country\", \"gender\"]\n",
        "      user_col_nums = [num_true_users, num_ages, num_countries, num_genders]\n",
        "      user_feats = _df2encoded_user_csr(seeds_df, meta_df, \"pid\", num_users,\n",
        "                                        \"traid\", num_items, user_cols,\n",
        "                                        user_col_nums, col_vals, encode_fn)\n",
        "    else:\n",
        "      user_feats = None\n",
        "      \n",
        "    item_cols = [\"traid\", \"albid\", \"artid\"]\n",
        "    item_col_nums = [num_items, num_albums, num_artists]\n",
        "    item_feats = _df2item_csr(meta_df, \"traid\", num_items, item_cols,\n",
        "                              item_col_nums, col_vals)\n",
        "\n",
        "    user_indices = df[\"pid\"].to_numpy()\n",
        "    item_indices = df[\"traid\"].to_numpy() if \"traid\" in df.columns else None\n",
        "    \n",
        "    ctx_cols = [\"prev_traid\", \"prev_albid\", \"prev_artid\"]\n",
        "    ctx_col_nums = [num_items, num_albums, num_artists]\n",
        "    ctx_feats = _df2ctx_csr(df, ctx_cols, ctx_col_nums, col_vals)\n",
        "    \n",
        "    return (num_users, user_indices, user_feats, num_items, item_indices,\n",
        "            item_feats, ctx_feats, item2artist, item2album)\n",
        "\n",
        "  return _df2encodedusersprevall"
      ],
      "execution_count": 0,
      "outputs": []
    },
    {
      "cell_type": "markdown",
      "metadata": {
        "id": "CCVfStfc9xk_",
        "colab_type": "text"
      },
      "source": [
        "### Sampling"
      ]
    },
    {
      "cell_type": "markdown",
      "metadata": {
        "id": "UzjJtpF_CT6m",
        "colab_type": "text"
      },
      "source": [
        "Different methods for sampling negative examples can be used.\n",
        "\n",
        "We use implementations of the different methods defined in my master's thesis in section **3.4 Customized Negative Sampling**.\n",
        "\n",
        "The implementations are functions with the same signature which can be set as function parameters."
      ]
    },
    {
      "cell_type": "code",
      "metadata": {
        "id": "nkB-a7mTEHhO",
        "colab_type": "code",
        "colab": {}
      },
      "source": [
        "\"\"\"\n",
        "We can't use a njit generator inside a njit generator,\n",
        "because of nested generator memory leak\n",
        "https://github.com/numba/numba/issues/3451\n",
        "https://github.com/numba/numba/issues/1807\n",
        "\"\"\"\n",
        "\n",
        "\n",
        "@nb.njit()\n",
        "def _nb_a2bs(as_, num_as, bs):\n",
        "  a2bs_mapping = [{-1, -2} for _ in range(num_as)]  # -1, -2 as dummy for type inference\n",
        "  for i in range(as_.size):\n",
        "    a2bs_mapping[as_[i]].add(bs[i])\n",
        "  return a2bs_mapping\n",
        "\n",
        "\n",
        "@nb.njit()\n",
        "def _nb_rand_choice(arr, size, probs):\n",
        "    return arr[np.searchsorted(np.cumsum(probs), np.random.random(size))]\n",
        "\n",
        "\n",
        "distribution_nb_spec = [\n",
        " (\"num_users\", nb.int64),\n",
        " (\"num_items\", nb.int64),\n",
        " (\"user_indices\", nb.int64[:]),\n",
        " (\"item_indices\", nb.int64[:]),\n",
        " (\"items\", nb.optional(nb.int64[:])),\n",
        " (\"rho\", nb.optional(nb.float64))\n",
        "]\n",
        "class DistributionNb():\n",
        "  def __init__(self, num_users, num_items, user_indices, item_indices, seed,\n",
        "               items, rho):\n",
        "    self.num_users = num_users\n",
        "    self.num_items = num_items\n",
        "    self.user_indices = user_indices\n",
        "    self.item_indices = item_indices\n",
        "    np.random.seed(seed)\n",
        "    self.items = items\n",
        "    self.rho = rho\n",
        "\n",
        "  def samples(self, size):\n",
        "    return None\n",
        "\n",
        "\n",
        "@nb.jitclass(distribution_nb_spec)\n",
        "class UniformDistributionNb(DistributionNb):\n",
        "  def samples(self, size):\n",
        "    return np.random.randint(0, self.num_items, size=size)\n",
        "\n",
        "\n",
        "@nb.jitclass(distribution_nb_spec)\n",
        "class InstanceDistributionNb(DistributionNb):\n",
        "  def samples(self, size):\n",
        "    return np.random.choice(self.item_indices, size=size)\n",
        "\n",
        "\n",
        "@nb.jitclass(distribution_nb_spec)\n",
        "class _ExpDistributionNb(DistributionNb):\n",
        "  def samples(self, size):\n",
        "    # inverse transformation sampling from truncated exponential distribution\n",
        "    rand = np.random.rand(size) * (1.0 - np.exp(-1.0 / self.rho))\n",
        "    sample_indices = -self.num_items * self.rho * np.log(1.0 - rand)\n",
        "    sample_indices = sample_indices.astype(np.int64)\n",
        "    return self.items[sample_indices]\n",
        "\n",
        "\n",
        "def exp_distribution_nb(rho=1.0):\n",
        "  def _exp_distribution_nb(num_users, num_items, user_indices, item_indices,\n",
        "                           seed, items_none, rho_none):\n",
        "    # item indices sorted by count\n",
        "    items, counts = np.unique(item_indices, return_counts=True)\n",
        "    items = np.concatenate((items[np.argsort(-counts)], [0]))  # unknown item\n",
        "    return _ExpDistributionNb(num_users, num_items, user_indices, item_indices,\n",
        "                              seed, items, rho)\n",
        "                              \n",
        "  return _exp_distribution_nb\n",
        "\n",
        "\n",
        "accepter_nb_spec = [\n",
        " (\"num_users\", nb.int64),\n",
        " (\"num_items\", nb.int64),\n",
        " (\"user_indices\", nb.int64[:]),\n",
        " (\"item_indices\", nb.int64[:]),\n",
        " (\"item2artist\", nb.int64[:]),\n",
        " (\"item2album\", nb.int64[:])\n",
        "]\n",
        "class AccepterNb():\n",
        "  def __init__(self, num_users, num_items, user_indices, item_indices,\n",
        "               item2artist, item2album):\n",
        "    self.num_users = num_users\n",
        "    self.num_items = num_items\n",
        "    self.user_indices = user_indices\n",
        "    self.item_indices = item_indices\n",
        "    self.item2artist = item2artist\n",
        "    self.item2album = item2album\n",
        "\n",
        "  def item2(self):\n",
        "    return None\n",
        "\n",
        "  def user2(self):\n",
        "    if self.item2() is not None:\n",
        "      return _nb_a2bs(self.user_indices, self.num_users,\n",
        "                      self.item2()[self.item_indices])\n",
        "    else:\n",
        "      return None\n",
        "\n",
        "\n",
        "@nb.njit(nb.optional(nb.int64[:])())\n",
        "def _nb_none_intarray():\n",
        "  return None\n",
        "\n",
        "\n",
        "@nb.jitclass(accepter_nb_spec)\n",
        "class AllAccepterNb(AccepterNb):\n",
        "  def item2(self):\n",
        "    return _nb_none_intarray()\n",
        "\n",
        "\n",
        "@nb.jitclass(accepter_nb_spec)\n",
        "class TrackAccepterNb(AccepterNb):\n",
        "  def item2(self):\n",
        "    return np.arange(0, self.num_items)\n",
        "\n",
        "\n",
        "@nb.jitclass(accepter_nb_spec)\n",
        "class ArtistAccepterNb(AccepterNb):\n",
        "  def item2(self):\n",
        "    return self.item2artist\n",
        "\n",
        "\n",
        "@nb.jitclass(accepter_nb_spec)\n",
        "class AlbumAccepterNb(AccepterNb):\n",
        "  def item2(self):\n",
        "    return self.item2album\n",
        "\n",
        "\n",
        "@nb.njit()\n",
        "def _nb_take_wrap(array, start, end):\n",
        "  if end <= len(array):\n",
        "    return array[start:end]\n",
        "  else:\n",
        "    modulo_end = end % len(array)\n",
        "    return np.concatenate((array[start:end], array[:modulo_end]))\n",
        "\n",
        "\n",
        "@nb.njit()\n",
        "def _nb_sampler(dist, accepter, epochs, batch_size, num_users, num_items,\n",
        "                user_indices, item_indices, seed):\n",
        "\n",
        "  user2accs = accepter.user2()\n",
        "  item2acc = accepter.item2()\n",
        "\n",
        "  epoch_size = len(user_indices)\n",
        "  batches_per_epoch = int(ceil(epoch_size / batch_size))\n",
        "  epoch_batches_size = batches_per_epoch * batch_size\n",
        "\n",
        "  interaction_mask = np.arange(0, epoch_size)\n",
        "\n",
        "  for e in range(epochs):\n",
        "    np.random.shuffle(interaction_mask)\n",
        "\n",
        "    neg = dist.samples(epoch_batches_size)\n",
        "    extra_neg = dist.samples(epoch_batches_size)\n",
        "    j = 0\n",
        "\n",
        "    for b in range(batches_per_epoch):\n",
        "      # batching\n",
        "      b_start = b * batch_size\n",
        "      b_end = b_start + batch_size\n",
        "      b_int_mask = _nb_take_wrap(interaction_mask, b_start, b_end)\n",
        "      b_neg = neg[b_start:b_end]\n",
        "\n",
        "      # negative sample acceptance\n",
        "      if user2accs is not None:\n",
        "        for i in range(batch_size):\n",
        "          while item2acc[b_neg[i]] in user2accs[user_indices[b_int_mask[i]]]:\n",
        "            b_neg[i] = extra_neg[j]\n",
        "            j += 1\n",
        "            if j == epoch_batches_size:\n",
        "              # continue with new samples\n",
        "              extra_neg = dist.samples(epoch_batches_size)\n",
        "              j = 0\n",
        "      \n",
        "      yield b_int_mask, b_neg\n",
        "\n",
        "\n",
        "def create_sampler(dist, accepter):\n",
        "  def _sampler(epochs, batch_size, num_users, num_items,\n",
        "               user_indices, item_indices, item2artist, item2album, seed=1):\n",
        "    \"\"\"\n",
        "    Create a generator of batches\n",
        "    of interaction indices and corresponding negative item indices\n",
        "    using the supplied distribution and accepter.\n",
        "    \"\"\"\n",
        "    _dist = dist(num_users, num_items, user_indices, item_indices, seed,\n",
        "                 None, None)\n",
        "    _accepter = accepter(num_users, num_items, user_indices, item_indices,\n",
        "                         item2artist, item2album)\n",
        "    return _nb_sampler(_dist, _accepter, epochs, batch_size,\n",
        "                       num_users, num_items, user_indices, item_indices, seed)\n",
        "\n",
        "  return _sampler\n",
        "\n",
        "\n",
        "# Uniform samplers\n",
        "uniform_sampler = create_sampler(UniformDistributionNb, AllAccepterNb)\n",
        "accepted_uniform_sampler = create_sampler(UniformDistributionNb, TrackAccepterNb)\n",
        "accepted_artist_uniform_sampler = create_sampler(UniformDistributionNb, ArtistAccepterNb)\n",
        "accepted_album_uniform_sampler = create_sampler(UniformDistributionNb, AlbumAccepterNb)\n",
        "\n",
        "# Instance samplers\n",
        "instance_sampler = create_sampler(InstanceDistributionNb, AllAccepterNb)\n",
        "accepted_instance_sampler = create_sampler(InstanceDistributionNb, TrackAccepterNb)\n",
        "accepted_artist_instance_sampler = create_sampler(InstanceDistributionNb, ArtistAccepterNb)\n",
        "accepted_album_instance_sampler = create_sampler(InstanceDistributionNb, AlbumAccepterNb)\n",
        "\n",
        "# Exp samplers\n",
        "exp_sampler = create_sampler(exp_distribution_nb(), AllAccepterNb)\n",
        "accepted_exp_sampler = create_sampler(exp_distribution_nb(), TrackAccepterNb)\n",
        "accepted_artist_exp_sampler = create_sampler(exp_distribution_nb(), ArtistAccepterNb)\n",
        "accepted_album_exp_sampler = create_sampler(exp_distribution_nb(), AlbumAccepterNb)"
      ],
      "execution_count": 0,
      "outputs": []
    },
    {
      "cell_type": "code",
      "metadata": {
        "id": "px3XdBdQEUIG",
        "colab_type": "code",
        "colab": {}
      },
      "source": [
        "@nb.njit()\n",
        "def _nb_crossbatch_sampler(dist, accepter, epochs, batch_size,\n",
        "                           num_users, num_items, user_indices, item_indices,\n",
        "                           seed):\n",
        "\n",
        "  user2accs = accepter.user2()\n",
        "  user2accs_np = [np.unique(np.array(list(s)))[1:] for s in user2accs]\n",
        "  user2accs_np_max = np.max(np.array([len(l) for l in user2accs_np]))\n",
        "  item2acc = accepter.item2()\n",
        "\n",
        "  epoch_size = len(user_indices)\n",
        "  batches_per_epoch = int(ceil(epoch_size / batch_size))\n",
        "  epoch_batches_size = batches_per_epoch * batch_size\n",
        "\n",
        "  interaction_mask = np.arange(0, epoch_size)\n",
        "\n",
        "  for e in range(epochs):\n",
        "    np.random.shuffle(interaction_mask)\n",
        "\n",
        "    neg = dist.samples(epoch_batches_size)\n",
        "    extra_neg = dist.samples(epoch_batches_size)\n",
        "    j = 0\n",
        "\n",
        "    for b in range(batches_per_epoch):\n",
        "      # batching\n",
        "      b_start = b * batch_size\n",
        "      b_end = b_start + batch_size\n",
        "      b_int_mask = _nb_take_wrap(interaction_mask, b_start, b_end)\n",
        "      b_neg = neg[b_start:b_end]\n",
        "\n",
        "      # negative sample acceptance\n",
        "      if user2accs is not None:\n",
        "        for i in range(batch_size):\n",
        "          while item2acc[b_neg[i]] in user2accs[user_indices[b_int_mask[i]]]:\n",
        "            b_neg[i] = extra_neg[j]\n",
        "            j += 1\n",
        "            if j == epoch_batches_size:\n",
        "              # continue with new samples\n",
        "              extra_neg = dist.samples(epoch_batches_size)\n",
        "              j = 0\n",
        "\n",
        "      # === non-acceptance indexing ===\n",
        "\n",
        "      # will be filled with non-acceptance indices\n",
        "      b_u_indices = np.zeros(batch_size * user2accs_np_max, dtype=nb.int64)\n",
        "      b_i_indices = np.zeros(batch_size * user2accs_np_max, dtype=nb.int64)\n",
        "\n",
        "      # sorted negative item non-acceptance indices\n",
        "      i_acc = item2acc[b_neg]\n",
        "      i_acc_mask = np.argsort(i_acc)\n",
        "      inverse_i_acc_mask = np.argsort(i_acc_mask)\n",
        "      i_acc = i_acc[i_acc_mask]\n",
        "\n",
        "      b_users = user_indices[b_int_mask]\n",
        "      k = 0\n",
        "      for bui, b_user in enumerate(b_users):\n",
        "        # sorted item non-acceptance indices for user b_user at batch index bui\n",
        "        u_acc = user2accs_np[b_user]\n",
        "        len_u_acc = len(u_acc)\n",
        "\n",
        "        # go through sorted negative (i_acc) and user (u_acc)\n",
        "        # item non-acceptance indices in parallel\n",
        "        # to find non-accepted batch interactions (bui, bii)\n",
        "        bii = 0\n",
        "        j = 0\n",
        "        while bii < batch_size and j < len_u_acc:\n",
        "          if i_acc[bii] < u_acc[j]:\n",
        "            bii += 1\n",
        "          elif i_acc[bii] > u_acc[j]:\n",
        "            j += 1\n",
        "          else:\n",
        "            b_u_indices[k] = bui\n",
        "            # fill with original batch index\n",
        "            b_i_indices[k] = inverse_i_acc_mask[bii]  \n",
        "            bii += 1\n",
        "            j += 1\n",
        "            k += 1\n",
        "\n",
        "      # ===                         ===\n",
        "\n",
        "      yield b_int_mask, b_neg, b_u_indices[:k], b_i_indices[:k]\n",
        "\n",
        "\n",
        "def create_crossbatch_sampler(dist, accepter):\n",
        "  def _sampler(epochs, batch_size, num_users, num_items,\n",
        "               user_indices, item_indices, item2artist, item2album, seed=1):\n",
        "    \"\"\"\n",
        "    Return a generator of batches of\n",
        "     * interaction indices and corresponding negative item indices\n",
        "     * indices of non-accepted batch cross interactions between those\n",
        "    \n",
        "    The non-acceptance indices correspond to a coo matrix of dense shape\n",
        "    [batch_size, batch_size] and are NOT sorted! They will have to be sorted in\n",
        "    TensorFlow using tf.sparse.reorder.\n",
        "\n",
        "    Negative items are chosen from a uniform distribution without replacement,\n",
        "    so no duplicate negative items occur in a batch.\n",
        "    \n",
        "    For accepting items the supplied accepter is used    \n",
        "    \"\"\"\n",
        "    _dist = dist(num_users, num_items, user_indices, item_indices, seed,\n",
        "                 None, None)\n",
        "    _accepter = accepter(num_users, num_items, user_indices, item_indices,\n",
        "                         item2artist, item2album)\n",
        "    return _nb_crossbatch_sampler(_dist, _accepter, epochs, batch_size,\n",
        "                                  num_users, num_items,\n",
        "                                  user_indices, item_indices, seed)\n",
        "\n",
        "  return _sampler\n",
        "\n",
        "\n",
        "# Cross-batch samplers\n",
        "accepted_crossbatch_sampler = create_crossbatch_sampler(UniformDistributionNb, TrackAccepterNb)\n",
        "accepted_artist_crossbatch_sampler = create_crossbatch_sampler(UniformDistributionNb, ArtistAccepterNb)\n",
        "accepted_album_crossbatch_sampler = create_crossbatch_sampler(UniformDistributionNb, AlbumAccepterNb)"
      ],
      "execution_count": 0,
      "outputs": []
    },
    {
      "cell_type": "markdown",
      "metadata": {
        "id": "H8lnz38BCZ0B",
        "colab_type": "text"
      },
      "source": [
        "### TensorFlow"
      ]
    },
    {
      "cell_type": "code",
      "metadata": {
        "id": "wAlkXkRYGjHJ",
        "colab_type": "code",
        "colab": {}
      },
      "source": [
        "class FMArgs():\n",
        "  \"\"\"\n",
        "  Arguments for extended pairwise factorization machine\n",
        "  \"\"\"\n",
        "\n",
        "  def __init__(self,\n",
        "               epoch_size,\n",
        "               epochs=1000,\n",
        "               batch_size=16384,\n",
        "               num_dims=50,\n",
        "               init_mean=0.1,\n",
        "               linear_reg=0.006,\n",
        "               factors_reg=0.006,\n",
        "               lr=0.1,\n",
        "               eval_freq=10):\n",
        "      \"\"\"\n",
        "      :param epoch_size: Epoch size\n",
        "      :param epochs: Number of epochs to run\n",
        "      :param batch_size: Mini-batch size\n",
        "      :param num_dims: Model dimensionality\n",
        "      :param init_mean: Initialization mean for model weights\n",
        "      :param linear_reg: Regularization rate for linear weights\n",
        "      :param factors_reg: Regularization rate for factor weights\n",
        "      :param lr: Adagrad learning rate\n",
        "      :param incr_lr: Percentual increase of the learning over epochs\n",
        "                      (1% = 0.01) \n",
        "      :param eval_freq: Frequency at which to evaluate model\n",
        "      \"\"\"\n",
        "      self.epochs = epochs\n",
        "      self.batch_size = batch_size\n",
        "      self.batches_per_epoch = int(ceil(epoch_size / batch_size))\n",
        "      self.num_dims = num_dims\n",
        "      self.init_mean = init_mean\n",
        "      self.linear_reg = linear_reg\n",
        "      self.factors_reg = factors_reg\n",
        "      self.lr = lr\n",
        "      self.eval_freq = eval_freq\n",
        "\n",
        "\n",
        "class TfFM:\n",
        "  \"\"\"\n",
        "  Extended pairwise factorization machine\n",
        "  \"\"\"\n",
        "\n",
        "  def __init__(self, graph, train_dataset, val_dataset, args, top_n):\n",
        "    \n",
        "    self.train_dataset = train_dataset\n",
        "    self.val_dataset = val_dataset\n",
        "    self.args = args\n",
        "    self.top_n = top_n\n",
        "    \n",
        "    self.sess = tf.Session(graph=graph)\n",
        "    with self.sess.graph.as_default():\n",
        "      tf.set_random_seed(1)\n",
        "      (self.handle, self.pred_top_op, self.loss_op, self.train_op,\n",
        "       self.val_op) =  self._create_model(val_dataset, args, top_n)\n",
        "\n",
        "  def _create_vars(self, args, val_dataset):\n",
        "    feat_dim = val_dataset.output_shapes[1][1]\n",
        "\n",
        "    initializer_linear = tf.random_uniform_initializer(-args.init_mean,\n",
        "                                                       args.init_mean, seed=1)\n",
        "    initializer_factors = tf.random_uniform_initializer(-args.init_mean,\n",
        "                                                        args.init_mean, seed=2)\n",
        "    \n",
        "    var_linear = tf.Variable(initializer_linear([feat_dim, 1]), name=\"linear\")\n",
        "    var_factors = tf.Variable(initializer_factors([feat_dim, args.num_dims]),\n",
        "                              name=\"factors\")\n",
        "    \n",
        "    return var_linear, var_factors\n",
        "\n",
        "  def _create_shape(self, val_dataset):\n",
        "    feat_dim = val_dataset.output_shapes[0][1]\n",
        "\n",
        "    feat_shape = tf.TensorShape([None, feat_dim])\n",
        "    na_shape = tf.TensorShape([None, None])\n",
        "    indices_shape = tf.TensorShape(None)\n",
        "    return (feat_shape, feat_shape, feat_shape, na_shape, indices_shape)\n",
        "  \n",
        "  def safe_sparse_dense_matmul(self, batch, var):\n",
        "    \"\"\"\n",
        "    Method which can be overwritten to provide a safe version of \n",
        "    sparse_dense_matmul for cases where the number of dimensions or\n",
        "    the sparse matrix are too large (args.num_dims * nnz(batch) > 2^31).\n",
        "    \n",
        "    This may occur when recommending the top n items for each user\n",
        "    which is encoded through its items, because then \n",
        "     * the batch / sparse matrix contains a query instance for all items\n",
        "     * this query instance is large\n",
        "\n",
        "    See also https://github.com/tensorflow/tensorflow/issues/25971\n",
        "    \"\"\"\n",
        "    return tf.sparse.sparse_dense_matmul(batch, var)\n",
        "\n",
        "  def _create_pred_ops(self, vars_, ctx_batch, pos_batch, neg_batch, args,\n",
        "                       val_dataset):\n",
        "    \n",
        "    var_linear, var_factors = vars_\n",
        "\n",
        "    ctx_sum = self.safe_sparse_dense_matmul(ctx_batch, var_factors)\n",
        "\n",
        "    def _create_pred_op(item_batch):\n",
        "      # Linear term\n",
        "      linear = tfs.sparse_dense_matmul(item_batch, var_linear)\n",
        "\n",
        "      # Interaction term\n",
        "      i_sum = self.safe_sparse_dense_matmul(item_batch, var_factors)\n",
        "      interaction = tf.multiply(i_sum, ctx_sum)\n",
        "      interaction = tf.reduce_sum(interaction, axis=1, keepdims=True)\n",
        "\n",
        "      return linear + interaction\n",
        "\n",
        "    return _create_pred_op(pos_batch), _create_pred_op(neg_batch)\n",
        "\n",
        "  def _create_pred_top_op(self, pred_batch, idx_batch, n):\n",
        "    scores, indices = tf.math.top_k(tf.squeeze(pred_batch), k=n)\n",
        "    item_indices = tf.gather(idx_batch, indices)\n",
        "    return scores, item_indices\n",
        "\n",
        "  def _create_utility_op(self, pos_preds, neg_preds, na_batch):\n",
        "    return pos_preds - neg_preds\n",
        "\n",
        "  def _create_loss_op(self, gz, args):\n",
        "    # BPR loss op (add 1e-10 to help with numerical stability)\n",
        "    return -tf.reduce_sum(tf.log(1e-10 + tf.sigmoid(gz)))\n",
        "\n",
        "  def _create_l2_reg_grad(self, var, reg):\n",
        "    return reg * var\n",
        "\n",
        "  def _create_reg_grad(self, var, grad, args):\n",
        "    if \"linear\" in var.name:\n",
        "      return self._create_l2_reg_grad(var, args.linear_reg)\n",
        "    else:\n",
        "      return self._create_l2_reg_grad(var, args.factors_reg)\n",
        "\n",
        "  def _create_train_op(self, loss_op, vars_, args):\n",
        "    global_step = tf.Variable(0, trainable=False)\n",
        "\n",
        "    # training op\n",
        "    opt = tf.contrib.opt.RegAdagradOptimizer(learning_rate=args.lr)\n",
        "    grads_and_vars = opt.compute_gradients(loss_op)\n",
        "    train_op = opt.apply_gradients(grads_and_vars, global_step=global_step)\n",
        "\n",
        "    # frequency adaptive regularization op\n",
        "    reg_grads_and_vars = [(tf.where(grad == 0.0,\n",
        "                                    grad,\n",
        "                                    self._create_reg_grad(var, grad, args)),\n",
        "                           var) for grad, var in grads_and_vars]\n",
        "    with opt.avoid_updating_slots():\n",
        "      reg_op = opt.apply_gradients(reg_grads_and_vars)\n",
        "\n",
        "    return tf.group([train_op, reg_op])\n",
        "\n",
        "  def _create_val_op(self, gz):\n",
        "    auc_op = tf.cast(tf.squeeze(gz > 0), tf.float32)\n",
        "    return tf.reduce_mean(auc_op)\n",
        "\n",
        "  def _create_model(self, val_dataset, args, top_n):\n",
        "    # Model variables\n",
        "    vars_ = self._create_vars(args, val_dataset)\n",
        "\n",
        "    # Batch iterator from data sets, handle decides data set to use\n",
        "    handle = tf.placeholder(tf.string, shape=[])\n",
        "    batch_iter = tf.data.Iterator.from_string_handle(\n",
        "        handle,\n",
        "        val_dataset.output_types,\n",
        "        self._create_shape(val_dataset),\n",
        "        val_dataset.output_classes)\n",
        "    \n",
        "    userctx_batch, pos_batch, neg_batch, na_batch, idx_batch = batch_iter.get_next()\n",
        "    \n",
        "    # Prediction op\n",
        "    pos_preds, neg_preds = self._create_pred_ops(vars_, userctx_batch,\n",
        "                                                 pos_batch, neg_batch, args,\n",
        "                                                 val_dataset)\n",
        "    \n",
        "    # Utility op\n",
        "    gz = self._create_utility_op(pos_preds, neg_preds, na_batch)\n",
        "\n",
        "    # Top n items prediction op\n",
        "    preds_top = self._create_pred_top_op(pos_preds, idx_batch, top_n)\n",
        "    \n",
        "    # Loss op\n",
        "    loss_op = self._create_loss_op(gz, args)\n",
        "    \n",
        "    # Training op\n",
        "    train_op = self._create_train_op(loss_op, vars_, args)\n",
        "    \n",
        "    # Validation op\n",
        "    val_op = self._create_val_op(gz)\n",
        "    \n",
        "    return (handle, preds_top, loss_op, train_op, val_op)\n",
        "\n",
        "  def train(self, save_epochs=[], save_epoch_paths=[]):\n",
        "    with self.sess.graph.as_default():\n",
        "      \n",
        "      # Initialization\n",
        "      self.sess.run(tf.global_variables_initializer())\n",
        "\n",
        "      train_iter = self.train_dataset.make_initializable_iterator()\n",
        "      val_iter = self.val_dataset.make_one_shot_iterator()\n",
        "\n",
        "      self.sess.run(train_iter.initializer)\n",
        "      \n",
        "      train_handle = self.sess.run(train_iter.string_handle())\n",
        "      val_handle = self.sess.run(val_iter.string_handle())\n",
        "\n",
        "      # Training scores\n",
        "      best_auc_epoch = 0\n",
        "      best_val_auc = -1\n",
        "      best_rank_epoch = 0\n",
        "      best_val_rank = self.args.batch_size\n",
        "\n",
        "      losses = []\n",
        "      val_losses = []\n",
        "      val_aucs = []\n",
        "      val_ranks = []\n",
        "\n",
        "      # Training loop\n",
        "      for epoch in range(1, self.args.epochs + 1):\n",
        "        print(\"Epoch: {}\".format(epoch))\n",
        "\n",
        "        loss = 0\n",
        "        for _ in range(self.args.batches_per_epoch):\n",
        "          loss, _ = self.sess.run([self.loss_op, self.train_op],\n",
        "                                  feed_dict={self.handle: train_handle})\n",
        "\n",
        "        losses.append(loss)\n",
        "        print(\"\\tLast batch loss = {}\".format(loss))\n",
        "\n",
        "        if epoch == 1 or epoch % self.args.eval_freq == 0:\n",
        "          val_loss, val_scores = self.sess.run([self.loss_op, self.val_op],\n",
        "                                              feed_dict={self.handle: val_handle})\n",
        "\n",
        "          if isinstance(val_scores, tuple):\n",
        "            val_auc, val_rank = val_scores\n",
        "          else:\n",
        "            val_auc = val_scores\n",
        "            val_rank = None\n",
        "\n",
        "          val_losses.append(val_loss)\n",
        "          val_aucs.append(val_auc)\n",
        "          print(\"\\tVal loss = \" + str(val_loss))\n",
        "          print(\"\\tVal AUC = \" + str(val_auc))\n",
        "          \n",
        "          if val_rank:\n",
        "            val_ranks.append(val_rank)\n",
        "            print(\"\\tVal Rank = \" + str(val_rank))\n",
        "\n",
        "          if val_auc > best_val_auc:\n",
        "            best_auc_epoch = epoch\n",
        "            best_val_auc = val_auc\n",
        "\n",
        "          print(\"\\tCurrent max AUC = {} at epoch {}\"\n",
        "                .format(str(best_val_auc), best_auc_epoch))\n",
        "\n",
        "          if val_rank:\n",
        "            if val_rank < best_val_rank:\n",
        "              best_rank_epoch = epoch\n",
        "              best_val_rank = val_rank\n",
        "\n",
        "            print(\"\\tCurrent min Rank = {} at epoch {}\"\n",
        "                  .format(str(best_val_rank), best_rank_epoch))\n",
        "\n",
        "        if epoch in save_epochs:\n",
        "          save_path = save_epoch_paths[save_epochs.index(epoch)]\n",
        "          self.save(save_path)\n",
        "          print(\"\\tSaved to = {}\".format(save_path))\n",
        "\n",
        "      # Closing iterator\n",
        "      try:\n",
        "        while True:\n",
        "          self.sess.run(self.loss_op, feed_dict={self.handle: train_handle})\n",
        "      except tf.errors.OutOfRangeError:\n",
        "        pass\n",
        "          \n",
        "      return losses, val_losses, val_aucs\n",
        "\n",
        "  def predict(self, query_dataset):\n",
        "    with self.sess.graph.as_default():\n",
        "      \n",
        "      query_iter = query_dataset.make_one_shot_iterator()\n",
        "      query_handle = self.sess.run(query_iter.string_handle())\n",
        "      \n",
        "      scores_arr = []\n",
        "      indices_arr = []\n",
        "      try:\n",
        "        while True:\n",
        "          scores, indices = self.sess.run(self.pred_top_op,\n",
        "                                          feed_dict={self.handle: query_handle})\n",
        "          scores_arr.append(scores)\n",
        "          indices_arr.append(indices)\n",
        "      except tf.errors.OutOfRangeError:\n",
        "        pass\n",
        "      \n",
        "      return np.concatenate(scores_arr), np.concatenate(indices_arr)\n",
        "\n",
        "  def save(self, save_path):\n",
        "    with self.sess.graph.as_default():\n",
        "      saver = tf.train.Saver()\n",
        "      saver.save(self.sess, save_path)\n",
        "\n",
        "  def load(self, load_path):\n",
        "    with self.sess.graph.as_default():\n",
        "      saver = tf.train.Saver()\n",
        "      saver.restore(self.sess, load_path)\n",
        "  \n",
        "  def close(self):\n",
        "    self.sess.close()"
      ],
      "execution_count": 0,
      "outputs": []
    },
    {
      "cell_type": "code",
      "metadata": {
        "id": "gDihMVerE3U6",
        "colab_type": "code",
        "colab": {}
      },
      "source": [
        "class TfBatchFM(TfFM):\n",
        "  \"\"\"\n",
        "  Extended pairwise factorization machine with cross-batch sampling\n",
        "  \"\"\"\n",
        "\n",
        "  def _create_pred_ops(self, vars_, ctx_batch, pos_batch, neg_batch, args,\n",
        "                       val_dataset):\n",
        "    \n",
        "    var_linear, var_factors = vars_\n",
        "\n",
        "    ctx_sum = self.safe_sparse_dense_matmul(ctx_batch, var_factors)\n",
        "\n",
        "    def _create_pred_op(item_batch, shared=False):\n",
        "      # Linear term\n",
        "      linear = tfs.sparse_dense_matmul(item_batch, var_linear)\n",
        "      if shared:\n",
        "        linear = tf.transpose(linear)\n",
        "\n",
        "      # Interaction term\n",
        "      i_sum = self.safe_sparse_dense_matmul(item_batch, var_factors)\n",
        "      if shared:\n",
        "        interaction = tf.matmul(ctx_sum, i_sum, transpose_b=True)\n",
        "      else:\n",
        "        interaction = tf.multiply(i_sum, ctx_sum)\n",
        "        interaction = tf.reduce_sum(interaction, axis=1, keepdims=True)\n",
        "\n",
        "      return linear + interaction\n",
        "\n",
        "    return _create_pred_op(pos_batch), _create_pred_op(neg_batch, shared=True)\n",
        "\n",
        "  def _create_utility_op(self, pos_preds, neg_preds, na_batch):\n",
        "    # eliminate non-accepted negatives\n",
        "    gz = pos_preds - neg_preds \n",
        "    na_gz = tfs.reorder(na_batch)  # sorted indices not guaranteed\n",
        "    na_gz = tfs.to_dense(na_gz, default_value=False)\n",
        "    na_gz = tf.cast(na_gz, tf.float32)\n",
        "    na_gz = tf.multiply(gz, na_gz)\n",
        "    return gz - na_gz\n",
        "\n",
        "  def _create_loss_op(self, gz, args):\n",
        "    # BPR loss op (add 1e-10 to help with numerical stability)\n",
        "    bprloss_op = tf.log(1e-10 + tf.sigmoid(gz))\n",
        "    bprloss_op = tf.reduce_mean(bprloss_op, axis=1)\n",
        "    bprloss_op = tf.reduce_sum(bprloss_op)\n",
        "    return -bprloss_op\n",
        "\n",
        "  def _create_val_op(self, gz):\n",
        "    # AUC op\n",
        "    auc_gz = tf.expand_dims(tf.linalg.diag_part(gz), 1)\n",
        "    auc_op = super(TfBatchFM, self)._create_val_op(auc_gz)\n",
        "    \n",
        "    # Rank op\n",
        "    rank_op = tf.cast(gz < 0, tf.float32)\n",
        "    rank_op = tf.reduce_sum(rank_op, axis=1)\n",
        "    rank_op = tf.reduce_mean(rank_op)\n",
        "\n",
        "    return (auc_op, rank_op)"
      ],
      "execution_count": 0,
      "outputs": []
    },
    {
      "cell_type": "code",
      "metadata": {
        "id": "ALESFEPrsCE1",
        "colab_type": "code",
        "colab": {}
      },
      "source": [
        "class MetricFMArgs(FMArgs):\n",
        "  \"\"\"\n",
        "  Arguments for extended pairwise metric factorization machines\n",
        "  \"\"\"\n",
        "  \n",
        "  def __init__(self, epoch_size, max_norm=1.0, assume_zero_mean=True, **kwargs):\n",
        "    \"\"\"\n",
        "    :param epoch_size: Epoch size\n",
        "    :param max_norm: Maximum norm over the model dimensionality,\n",
        "                     None or zero means no norm clipping\n",
        "    :param assume_zero_mean: If the mean over each model dimension should be \n",
        "                             assumed to be zero\n",
        "    \"\"\"\n",
        "    super(MetricFMArgs, self).__init__(epoch_size, **kwargs)\n",
        "    self.max_norm = max_norm\n",
        "    self.assume_zero_mean = assume_zero_mean\n",
        "\n",
        "\n",
        "class TfMetricFM(TfFM):\n",
        "  \"\"\"\n",
        "  Extended pairwise metric factorization machine\n",
        "  \"\"\"\n",
        "\n",
        "  def _create_pred_ops(self, vars_, ctx_batch, pos_batch, neg_batch, args,\n",
        "                       val_dataset):\n",
        "\n",
        "    var_linear, var_factors = vars_\n",
        "\n",
        "    # Common factor terms\n",
        "    sq_factors = tf.square(var_factors)\n",
        "\n",
        "    # Common context terms\n",
        "    c_sum = tfs.reduce_sum(ctx_batch, axis=1, keepdims=True)\n",
        "    c_factors_sum = self.safe_sparse_dense_matmul(ctx_batch, var_factors)\n",
        "    c_factors_sq_sum = self.safe_sparse_dense_matmul(ctx_batch, sq_factors)\n",
        "\n",
        "    def _create_pred_op(item_batch):\n",
        "      # Linear term\n",
        "      linear = tfs.sparse_dense_matmul(item_batch, var_linear)\n",
        "      if args.max_norm:\n",
        "        linear = linear / args.num_dims\n",
        "\n",
        "      # Item terms\n",
        "      i_sum = tfs.reduce_sum(item_batch, axis=1, keepdims=True)\n",
        "      i_factors_sum = self.safe_sparse_dense_matmul(item_batch, var_factors)\n",
        "      i_factors_sq_sum = self.safe_sparse_dense_matmul(item_batch, sq_factors)\n",
        "\n",
        "      # Actual interaction terms\n",
        "      term_1 = tf.multiply(c_factors_sq_sum, i_sum)\n",
        "      term_2 = tf.multiply(c_factors_sum, i_factors_sum)\n",
        "      term_3 = tf.multiply(c_sum, i_factors_sq_sum)\n",
        "\n",
        "      interaction = term_1 - 2 * term_2 + term_3\n",
        "      interaction = tf.reduce_sum(interaction, axis=1, keepdims=True)\n",
        "\n",
        "      return linear - interaction\n",
        "    \n",
        "    return _create_pred_op(pos_batch), _create_pred_op(neg_batch)\n",
        "\n",
        "  def _create_decov_reg_grad(self, var, grad, reg_decov):\n",
        "    var_batch_indices = tf.squeeze(tf.where(tf.not_equal(grad[:,0], 0)))\n",
        "    var_batch = tf.gather(var, var_batch_indices, axis=0)\n",
        "    var_batch_size = tf.shape(var, out_type=tf.float32)[0]\n",
        "    if not args.assume_zero_mean:\n",
        "      var_batch = var_batch - tf.reduce_mean(var_batch, axis=0)\n",
        "    \n",
        "    c = tf.matmul(var_batch, var_batch, transpose_a=True)\n",
        "    c = (1.0 / var_batch_size) * c\n",
        "    c = tf.matrix_set_diag(c, tf.zeros(args.num_dims))\n",
        "    \n",
        "    reg_grad = tf.matmul(var, c, transpose_b=True)\n",
        "    reg_grad = (1.0 / var_batch_size) * reg_grad\n",
        "    \n",
        "    return reg_decov * reg_grad  \n",
        "\n",
        "  def _create_reg_grad(self, var, grad, args):\n",
        "    if \"linear\" in var.name:\n",
        "      return self._create_l2_reg_grad(var, args.linear_reg)\n",
        "    else:\n",
        "      return self._create_decov_reg_grad(var, grad, args.factors_reg)\n",
        "\n",
        "  def _create_train_op(self, loss_op, vars_, args):\n",
        "    global_step = tf.Variable(0, trainable=False)\n",
        "\n",
        "    # training op\n",
        "    opt = tf.contrib.opt.RegAdagradOptimizer(learning_rate=args.lr)\n",
        "    if args.max_norm:\n",
        "      clip_opt = tf.contrib.opt.VariableClippingOptimizer(\n",
        "          opt=opt,\n",
        "          vars_to_clip_dims={var: [1] for var in vars_},\n",
        "          max_norm=args.max_norm)\n",
        "    else:\n",
        "      clip_opt = opt\n",
        "    grads_and_vars = opt.compute_gradients(loss_op)\n",
        "    train_op = opt.apply_gradients(grads_and_vars, global_step=global_step)\n",
        "\n",
        "    with self.sess.graph.control_dependencies([train_op]):\n",
        "      # frequency adaptive regularization op\n",
        "      reg_grads_and_vars = [(tf.where(tf.equal(grad, 0),\n",
        "                                      grad,\n",
        "                                      self._create_reg_grad(var, grad, args)),\n",
        "                            var) for grad, var in grads_and_vars]\n",
        "      with opt.avoid_updating_slots():\n",
        "        reg_op = clip_opt.apply_gradients(reg_grads_and_vars)\n",
        "\n",
        "    return tf.group([train_op, reg_op])"
      ],
      "execution_count": 0,
      "outputs": []
    },
    {
      "cell_type": "code",
      "metadata": {
        "id": "lmdltpoBsg30",
        "colab_type": "code",
        "colab": {}
      },
      "source": [
        "class TfBatchMetricFM(TfMetricFM, TfBatchFM):\n",
        "  \"\"\"\n",
        "  Extended pairwise metric factorization machine\n",
        "  with cross-batch sampling\n",
        "  \"\"\"\n",
        "\n",
        "  def _create_pred_ops(self, vars_, ctx_batch, pos_batch, neg_batch, args,\n",
        "                       val_dataset):\n",
        "\n",
        "    var_linear, var_factors = vars_\n",
        "\n",
        "    # Common factor terms\n",
        "    sq_factors = tf.square(var_factors)\n",
        "\n",
        "    # Common context terms\n",
        "    c_sum = tfs.reduce_sum(ctx_batch, axis=1, keepdims=True)\n",
        "    c_factors_sum = self.safe_sparse_dense_matmul(ctx_batch, var_factors)\n",
        "    c_factors_sq_sum = self.safe_sparse_dense_matmul(ctx_batch, sq_factors)\n",
        "\n",
        "    def _create_pred_op(item_batch, shared=False):\n",
        "      # Linear term\n",
        "      linear = tfs.sparse_dense_matmul(item_batch, var_linear)\n",
        "      if args.max_norm:\n",
        "        linear = linear / args.num_dims\n",
        "      if shared:\n",
        "        linear = tf.transpose(linear)\n",
        "\n",
        "      # Item terms\n",
        "      i_sum = tfs.reduce_sum(item_batch, axis=1, keepdims=True)\n",
        "      i_factors_sum = self.safe_sparse_dense_matmul(item_batch, var_factors)\n",
        "      i_factors_sq_sum = self.safe_sparse_dense_matmul(item_batch, sq_factors)\n",
        "\n",
        "      # Actual interaction terms\n",
        "      if shared:\n",
        "        i_sum_tile = tf.tile(i_sum, [1, args.num_dims])\n",
        "        c_sum_tile = tf.tile(c_sum, [1, args.num_dims])\n",
        "\n",
        "        term_1 = tf.matmul(c_factors_sq_sum, i_sum_tile, transpose_b=True)\n",
        "        term_2 = tf.matmul(c_factors_sum, i_factors_sum, transpose_b=True)\n",
        "        term_3 = tf.matmul(c_sum_tile, i_factors_sq_sum, transpose_b=True)\n",
        "      else:\n",
        "        term_1 = tf.multiply(c_factors_sq_sum, i_sum)\n",
        "        term_2 = tf.multiply(c_factors_sum, i_factors_sum)\n",
        "        term_3 = tf.multiply(c_sum, i_factors_sq_sum)\n",
        "\n",
        "      interaction = term_1 - 2 * term_2 + term_3\n",
        "      if not shared:\n",
        "        interaction = tf.reduce_sum(interaction, axis=1, keepdims=True)\n",
        "\n",
        "      return linear - interaction\n",
        "    \n",
        "    return _create_pred_op(pos_batch), _create_pred_op(neg_batch, shared=True)"
      ],
      "execution_count": 0,
      "outputs": []
    },
    {
      "cell_type": "code",
      "metadata": {
        "id": "Iuuflx1BfJ1g",
        "colab_type": "code",
        "colab": {}
      },
      "source": [
        "class TransFMArgs(MetricFMArgs):\n",
        "  \"\"\"\n",
        "  Arguments for extended pairwise translation-based factorization machines\n",
        "  \"\"\"\n",
        "  \n",
        "  def __init__(self, epoch_size, trans_reg=0.006, **kwargs):\n",
        "    \"\"\"\n",
        "    :param epoch_size: Epoch size\n",
        "    :param trans_reg: Regularization rate for translation factor weights\n",
        "    \"\"\"\n",
        "    super(TransFMArgs, self).__init__(epoch_size, **kwargs)\n",
        "    self.trans_reg = trans_reg\n",
        "\n",
        "\n",
        "class TfTransFM(TfMetricFM):\n",
        "  \"\"\"\n",
        "  Extended pairwise translation-based factorization machine\n",
        "  \"\"\"\n",
        "\n",
        "  def _create_vars(self, args, val_dataset):\n",
        "    feat_dim = val_dataset.output_shapes[1][1]\n",
        "\n",
        "    initializer_linear = tf.random_uniform_initializer(-args.init_mean,\n",
        "                                                       args.init_mean, seed=1)\n",
        "    initializer_emb_factors = tf.random_uniform_initializer(-args.init_mean,\n",
        "                                                            args.init_mean,\n",
        "                                                            seed=2)\n",
        "    initializer_trans_factors = tf.random_uniform_initializer(-args.init_mean,\n",
        "                                                              args.init_mean,\n",
        "                                                              seed=3)\n",
        "\n",
        "    var_linear = tf.Variable(\n",
        "        initializer_linear([feat_dim, 1]), name=\"linear\")\n",
        "    var_emb_factors = tf.Variable(\n",
        "        initializer_emb_factors([feat_dim, args.num_dims]),\n",
        "        name=\"emb_factors\")\n",
        "    var_trans_factors = tf.Variable(\n",
        "        initializer_trans_factors([feat_dim, args.num_dims]),\n",
        "        name=\"trans_factors\")\n",
        "    \n",
        "    return var_linear, var_emb_factors, var_trans_factors\n",
        "\n",
        "  def _create_reg_grad(self, var, grad, args):\n",
        "    if \"linear\" in var.name:\n",
        "      return self._create_l2_reg_grad(var, args.linear_reg)\n",
        "    elif \"emb\" in var.name:\n",
        "      return self._create_decov_reg_grad(var, grad, args.factors_reg)\n",
        "    else:\n",
        "      return self._create_l2_reg_grad(var, args.trans_reg)\n",
        "\n",
        "  def _create_pred_ops(self, vars_, ctx_batch, pos_batch, neg_batch, args,\n",
        "                       val_dataset):\n",
        "\n",
        "    var_linear, var_emb_factors, var_trans_factors = vars_\n",
        "\n",
        "    # Common factor terms\n",
        "    sq_factors = tf.square(var_emb_factors)\n",
        "    add_factors = var_emb_factors + var_trans_factors\n",
        "    sq_add_factors = tf.square(add_factors)\n",
        "\n",
        "    # Common context terms\n",
        "    c_sum = tfs.reduce_sum(ctx_batch, axis=1, keepdims=True)\n",
        "    c_factors_sum = tfs.sparse_dense_matmul(ctx_batch, var_emb_factors)\n",
        "    c_factors_sq_sum = tfs.sparse_dense_matmul(ctx_batch, sq_factors)\n",
        "    c_factors_add_sum = tfs.sparse_dense_matmul(ctx_batch, add_factors)\n",
        "    c_factors_sq_add_sum = tfs.sparse_dense_matmul(ctx_batch, sq_add_factors)\n",
        "\n",
        "    def _create_pred_op(item_batch):\n",
        "      # Linear term\n",
        "      linear = tfs.sparse_dense_matmul(item_batch, var_linear)\n",
        "      if args.max_norm:\n",
        "        linear = linear / args.num_dims\n",
        "\n",
        "      # Item terms\n",
        "      i_sum = tfs.reduce_sum(item_batch, axis=1, keepdims=True)\n",
        "      i_factors_sum = tfs.sparse_dense_matmul(item_batch, var_emb_factors)\n",
        "      i_factors_sq_sum = tfs.sparse_dense_matmul(item_batch, sq_factors)\n",
        "      i_factors_add_sum = tfs.sparse_dense_matmul(item_batch, add_factors)\n",
        "      i_factors_sq_add_sum = tfs.sparse_dense_matmul(item_batch, sq_add_factors)\n",
        "\n",
        "      # Actual interaction terms\n",
        "      term_1 = tf.multiply(c_factors_sq_add_sum, i_sum)\n",
        "      term_2 = tf.multiply(c_factors_add_sum, i_factors_sum)\n",
        "      term_3 = tf.multiply(c_sum, i_factors_sq_sum)\n",
        "      term_4 = tf.multiply(i_factors_sq_add_sum, c_sum)\n",
        "      term_5 = tf.multiply(i_factors_add_sum, c_factors_sum)\n",
        "      term_6 = tf.multiply(i_sum, c_factors_sq_sum)\n",
        "\n",
        "      interaction = (term_1 - 2 * term_2 + term_3 + term_4 - 2 * term_5 + term_6)\n",
        "      interaction = 0.5 * tf.reduce_sum(interaction, axis=1, keepdims=True)\n",
        "\n",
        "      return linear - interaction\n",
        "    \n",
        "    return _create_pred_op(pos_batch), _create_pred_op(neg_batch)"
      ],
      "execution_count": 0,
      "outputs": []
    },
    {
      "cell_type": "code",
      "metadata": {
        "id": "R9oLkDUkfUQe",
        "colab_type": "code",
        "colab": {}
      },
      "source": [
        "class TfBatchTransFM(TfTransFM, TfBatchFM):\n",
        "  \"\"\"\n",
        "  Extended pairwise translation-based factorization machine \n",
        "  with cross-batch sampling\n",
        "  \"\"\"\n",
        "  def _create_pred_ops(self, vars_, ctx_batch, pos_batch, neg_batch, args,\n",
        "                       val_dataset):\n",
        "\n",
        "    var_linear, var_emb_factors, var_trans_factors = vars_\n",
        "\n",
        "    # Common factor terms\n",
        "    sq_factors = tf.square(var_emb_factors)\n",
        "    add_factors = var_emb_factors + var_trans_factors\n",
        "    sq_add_factors = tf.square(add_factors)\n",
        "\n",
        "    # Common context terms\n",
        "    c_sum = tfs.reduce_sum(ctx_batch, axis=1, keepdims=True)\n",
        "    c_factors_sum = tfs.sparse_dense_matmul(ctx_batch, var_emb_factors)\n",
        "    c_factors_sq_sum = tfs.sparse_dense_matmul(ctx_batch, sq_factors)\n",
        "    c_factors_add_sum = tfs.sparse_dense_matmul(ctx_batch, add_factors)\n",
        "    c_factors_sq_add_sum = tfs.sparse_dense_matmul(ctx_batch, sq_add_factors)\n",
        "\n",
        "    def _create_pred_op(item_batch, shared=False):\n",
        "      # Linear term\n",
        "      linear = tfs.sparse_dense_matmul(item_batch, var_linear)\n",
        "      if args.max_norm:\n",
        "        linear = linear / args.num_dims\n",
        "      if shared:\n",
        "        linear = tf.transpose(linear)\n",
        "\n",
        "      # Item terms\n",
        "      i_sum = tfs.reduce_sum(item_batch, axis=1, keepdims=True)\n",
        "      i_factors_sum = tfs.sparse_dense_matmul(item_batch, var_emb_factors)\n",
        "      i_factors_sq_sum = tfs.sparse_dense_matmul(item_batch, sq_factors)\n",
        "      i_factors_add_sum = tfs.sparse_dense_matmul(item_batch, add_factors)\n",
        "      i_factors_sq_add_sum = tfs.sparse_dense_matmul(item_batch, sq_add_factors)\n",
        "\n",
        "      # Actual interaction terms\n",
        "      if shared:\n",
        "        i_sum_tile = tf.tile(i_sum, [1, args.num_dims])\n",
        "        c_sum_tile = tf.tile(c_sum, [1, args.num_dims])\n",
        "\n",
        "        term_1 = tf.matmul(c_factors_sq_add_sum, i_sum_tile, transpose_b=True)\n",
        "        term_2 = tf.matmul(c_factors_add_sum, i_factors_sum, transpose_b=True)\n",
        "        term_3 = tf.matmul(c_sum_tile, i_factors_sq_sum, transpose_b=True)\n",
        "        term_4 = tf.matmul(i_factors_sq_add_sum, c_sum_tile, transpose_b=True)\n",
        "        term_5 = tf.matmul(i_factors_add_sum, c_factors_sum, transpose_b=True)\n",
        "        term_6 = tf.matmul(i_sum_tile, c_factors_sq_sum, transpose_b=True)\n",
        "      else:\n",
        "        term_1 = tf.multiply(c_factors_sq_add_sum, i_sum)\n",
        "        term_2 = tf.multiply(c_factors_add_sum, i_factors_sum)\n",
        "        term_3 = tf.multiply(c_sum, i_factors_sq_sum)\n",
        "        term_4 = tf.multiply(i_factors_sq_add_sum, c_sum)\n",
        "        term_5 = tf.multiply(i_factors_add_sum, c_factors_sum)\n",
        "        term_6 = tf.multiply(i_sum, c_factors_sq_sum)\n",
        "\n",
        "      interaction = (term_1 - 2 * term_2 + term_3 + term_4 - 2 * term_5 + term_6)\n",
        "      if shared:\n",
        "        interaction = 0.5 * interaction\n",
        "      else:\n",
        "        interaction = 0.5 * tf.reduce_sum(interaction, axis=1, keepdims=True)\n",
        "\n",
        "      return linear - interaction\n",
        "    \n",
        "    return _create_pred_op(pos_batch), _create_pred_op(neg_batch, shared=True)"
      ],
      "execution_count": 0,
      "outputs": []
    },
    {
      "cell_type": "code",
      "metadata": {
        "id": "WkT0KJBfr5m6",
        "colab_type": "code",
        "colab": {}
      },
      "source": [
        "class FFMArgs(FMArgs):\n",
        "  \"\"\"\n",
        "  Arguments for extended pairwise field-aware factorization machines\n",
        "  \"\"\"\n",
        "  \n",
        "  def __init__(self, epoch_size, num_ctx_fields, num_item_fields, **kwargs):\n",
        "    \"\"\"\n",
        "    :param epoch_size: Epoch size\n",
        "    :param num_ctx_fields: Number of user/context fields\n",
        "    :param num_item_fields: Number of item fields\n",
        "    \"\"\"\n",
        "    super(FFMArgs, self).__init__(epoch_size, **kwargs)\n",
        "    self.num_ctx_fields = num_ctx_fields\n",
        "    self.num_item_fields = num_item_fields\n",
        "  \n",
        "\n",
        "class TfFFM(TfFM):\n",
        "  \"\"\"\n",
        "  Extended pairwise field-aware factorization machine\n",
        "\n",
        "\n",
        "  To illustrate the vectorized implementation, consider the example with\n",
        "   * user features pid and userid\n",
        "   * item features traid, albid and artid\n",
        "\n",
        "  user / context features have shape [user_features, num_item_fields, num_dims]\n",
        "  item features have shape [item_features, num_user_fields, num_dims]\n",
        "\n",
        "  Looking up of relevant user / context and item features results in:\n",
        "\n",
        "  user features of shape [num_user_fields, num_item_fields, num_dims]\n",
        "  [userid-traid, userid-albid, userid-artid]\n",
        "  [pid-traid, pid-albid, pid-artid]\n",
        "\n",
        "  item features of shape [num_item_fields, num_user_fields, num_dims]\n",
        "  [traid-userid, traid-pid]\n",
        "  [albid-userid, albid-pid]\n",
        "  [artid-userid, artid-pid]\n",
        "\n",
        "  Now transpose item features and multiply element-wise with user features:\n",
        "\n",
        "  [userid-traid, pid-traid]     [traid-userid, traid-pid]\n",
        "  [userid-albid, pid-albid]     [albid-userid, albid-pid]\n",
        "  [userid-artid, pid-artid]     [artid-userid, artid-pid]\n",
        "\n",
        "  Sum up\n",
        "  \"\"\"\n",
        "\n",
        "  def _create_shape(self, val_dataset):\n",
        "    feat_dim = val_dataset.output_shapes[0][1]\n",
        "    item_feat_dim = val_dataset.output_shapes[1][1]\n",
        "\n",
        "    feat_shape = tf.TensorShape([None, feat_dim])\n",
        "    item_feat_shape = tf.TensorShape([None, item_feat_dim])\n",
        "    na_shape = tf.TensorShape([None, None])\n",
        "    indices_shape = tf.TensorShape(None)\n",
        "    return (feat_shape, item_feat_shape, item_feat_shape, na_shape, indices_shape)\n",
        "\n",
        "  def _create_vars(self, args, val_dataset):\n",
        "    ctx_feat_dim = val_dataset.output_shapes[0][1]\n",
        "    item_feat_dim = val_dataset.output_shapes[1][1]\n",
        "\n",
        "    initializer_linear = tf.random_uniform_initializer(-args.init_mean,\n",
        "                                                       args.init_mean, seed=1)\n",
        "    initializer_ctx_factors = tf.random_uniform_initializer(-args.init_mean,\n",
        "                                                            args.init_mean,\n",
        "                                                            seed=2)\n",
        "    initializer_item_factors = tf.random_uniform_initializer(-args.init_mean,\n",
        "                                                             args.init_mean,\n",
        "                                                             seed=3)\n",
        "    \n",
        "    var_linear = tf.Variable(\n",
        "        initializer_linear([item_feat_dim, 1]), name=\"linear\")\n",
        "    \n",
        "    var_ctx_shape = [ctx_feat_dim, args.num_item_fields, args.num_dims]\n",
        "    var_ctx_factors = tf.Variable(\n",
        "        initializer_ctx_factors(var_ctx_shape), name=\"ctx_factors\")\n",
        "    \n",
        "    var_item_shape = [item_feat_dim, args.num_ctx_fields, args.num_dims]\n",
        "    var_item_factors = tf.Variable(\n",
        "        initializer_item_factors(var_item_shape), name=\"item_factors\")\n",
        "    \n",
        "    return var_linear, var_ctx_factors, var_item_factors\n",
        "\n",
        "  def _create_pred_ops(self, vars_, ctx_batch, pos_batch, neg_batch, args,\n",
        "                       val_dataset):\n",
        "\n",
        "    var_linear, var_ctx_factors, var_item_factors = vars_\n",
        "\n",
        "    def _create_lookup_op(batch, factors, num_fields):\n",
        "      batch_feats = tf.slice(batch.indices, [0, 1], [-1, 1])\n",
        "      batch_feats = tf.reshape(batch_feats, [-1, num_fields])\n",
        "      batch_vals = tf.reshape(batch.values, [-1, num_fields])\n",
        "      batch_vals = tf.expand_dims(tf.expand_dims(batch_vals, axis=2), axis=3)\n",
        "      emb = tf.nn.embedding_lookup(factors, batch_feats)\n",
        "      emb = tf.multiply(emb, batch_vals)\n",
        "      return emb\n",
        "\n",
        "    ctx_emb = _create_lookup_op(ctx_batch, var_ctx_factors, args.num_ctx_fields)\n",
        "\n",
        "    def _create_pred_op(item_batch):\n",
        "      # Linear term\n",
        "      linear = tf.sparse_tensor_dense_matmul(item_batch, var_linear)\n",
        "\n",
        "      # Interaction term\n",
        "      item_emb = _create_lookup_op(item_batch, var_item_factors,\n",
        "                                   args.num_item_fields)\n",
        "      interaction = tf.multiply(ctx_emb, tf.transpose(item_emb, [0, 2, 1, 3]))\n",
        "      interaction = tf.reduce_sum(interaction, axis=[1, 2, 3])\n",
        "      interaction = tf.expand_dims(interaction, axis=1)\n",
        "\n",
        "      return linear + interaction\n",
        "    \n",
        "    return _create_pred_op(pos_batch), _create_pred_op(neg_batch)"
      ],
      "execution_count": 0,
      "outputs": []
    },
    {
      "cell_type": "code",
      "metadata": {
        "id": "LZm5y6HXS969",
        "colab_type": "code",
        "colab": {}
      },
      "source": [
        "class SafeSparseDenseMatmul:\n",
        "  def safe_sparse_dense_matmul(self, batch, var):\n",
        "    # perform 10 smaller sparse_dense_matmul and then concat\n",
        "    var_splits = tf.split(var, 10, axis=1)\n",
        "    matmul_splits = [tfs.sparse_dense_matmul(batch, v_s) for v_s in var_splits]\n",
        "    return tf.concat(matmul_splits, axis=1)\n",
        "\n",
        "\n",
        "class SafeTfFM(SafeSparseDenseMatmul, TfFM):\n",
        "  pass\n",
        "\n",
        "\n",
        "class SafeTfBatchFM(SafeSparseDenseMatmul, TfBatchFM):\n",
        "  pass\n",
        "\n",
        "\n",
        "class SafeTfMetricFM(SafeSparseDenseMatmul, TfMetricFM):\n",
        "  pass\n",
        "\n",
        "\n",
        "class SafeTfBatchMetricFM(SafeSparseDenseMatmul, TfBatchMetricFM):\n",
        "  pass"
      ],
      "execution_count": 0,
      "outputs": []
    },
    {
      "cell_type": "markdown",
      "metadata": {
        "id": "FObmD7UsE9ba",
        "colab_type": "text"
      },
      "source": [
        "### Wrapper"
      ]
    },
    {
      "cell_type": "markdown",
      "metadata": {
        "id": "S3zw5sHGFAlg",
        "colab_type": "text"
      },
      "source": [
        "To use the sampling function, the feature function and the TensorFlow variant implementation combined for evaluation we need to implement wrappers."
      ]
    },
    {
      "cell_type": "markdown",
      "metadata": {
        "id": "oFdS5eliFFbj",
        "colab_type": "text"
      },
      "source": [
        "First we use wrappers to create batches of train, validation or test instances, using a specific sampling and feature function."
      ]
    },
    {
      "cell_type": "code",
      "metadata": {
        "id": "_20SB785FNZz",
        "colab_type": "code",
        "colab": {}
      },
      "source": [
        "def create_train_batch_generator(epochs, batch_size, df, meta_df, seeds_df,\n",
        "                                 feature_fn, sampler_fn,\n",
        "                                 separate_features=False):\n",
        "  \"\"\"\n",
        "  Create a training batch generator\n",
        "  \"\"\"\n",
        "\n",
        "  # extract indices and feature mappings from dataframe\n",
        "  (num_users, user_indices, user_feats, num_items, item_indices, item_feats,\n",
        "   ctx_feats, item2artist, item2album) = feature_fn(df, meta_df, seeds_df)\n",
        "  \n",
        "  # initialize sampler of interactions and negative items\n",
        "  sampler = sampler_fn(epochs, batch_size, num_users, num_items,\n",
        "                       user_indices, item_indices, item2artist, item2album)\n",
        "\n",
        "  # create batches of features from batches of samples\n",
        "  for l in sampler:\n",
        "    if len(l) == 4:\n",
        "      b_pos_mask, b_neg_indices, b_na_indices, b_na_neg_indices = l\n",
        "      na_ones = np.ones(len(b_na_indices), dtype=bool)\n",
        "      na_indices = coo_matrix((na_ones, (b_na_indices, b_na_neg_indices)),\n",
        "                              shape=(batch_size, batch_size))\n",
        "    else:\n",
        "      b_pos_mask, b_neg_indices = l\n",
        "      na_indices = coo_matrix((batch_size, batch_size), dtype=bool)\n",
        "\n",
        "    b_user_indices = user_indices[b_pos_mask]\n",
        "    b_pos_indices = item_indices[b_pos_mask]\n",
        "\n",
        "    userctx_fs = user_feats[b_user_indices]\n",
        "    if ctx_feats is not None:\n",
        "      userctx_fs = sp.hstack([userctx_fs, ctx_feats[b_pos_mask]])\n",
        "    \n",
        "    if separate_features:\n",
        "      pos_fs = item_feats[b_pos_indices].tocoo()\n",
        "      neg_fs = item_feats[b_neg_indices].tocoo()\n",
        "    else:\n",
        "      empty_userctx_fs = csr_matrix(userctx_fs.shape)\n",
        "      pos_fs = sp.hstack([empty_userctx_fs, item_feats[b_pos_indices]])\n",
        "      neg_fs = sp.hstack([empty_userctx_fs, item_feats[b_neg_indices]])\n",
        "      userctx_fs._shape = pos_fs.shape\n",
        "\n",
        "    yield userctx_fs, pos_fs, neg_fs, na_indices\n",
        "\n",
        "\n",
        "def create_val_batch(batch_size, val_df, meta_df, seeds_df, feature_fn,\n",
        "                     sampler_fn, separate_features=False):\n",
        "  \"\"\"\n",
        "  Create a validation batch generator\n",
        "  \"\"\"\n",
        "  repeat = int(ceil(batch_size / len(val_df)))\n",
        "  epochs = 1\n",
        "  batch_size = len(val_df) * repeat\n",
        "\n",
        "  def repeated_feature_fn(df, meta_df, seeds_df):\n",
        "    (num_users, user_indices, user_feats, num_items, item_indices, item_feats,\n",
        "     ctx_feats, item2artist, item2album) = feature_fn(df, meta_df, seeds_df)\n",
        "    \n",
        "    user_indices = np.repeat(user_indices, repeat)\n",
        "    item_indices = np.repeat(item_indices, repeat)\n",
        "    if ctx_feats is not None:\n",
        "      ctx_feats = ctx_feats.tolil()\n",
        "      ctx_feats.data = np.repeat(ctx_feats.data, repeat, axis=0)\n",
        "      ctx_feats.rows = np.repeat(ctx_feats.rows, repeat, axis=0)\n",
        "      ctx_feats._shape = (ctx_feats.shape[0] * repeat, ctx_feats.shape[1])\n",
        "      ctx_feats = ctx_feats.tocsr()\n",
        "    \n",
        "    return (num_users, user_indices, user_feats, num_items, item_indices,\n",
        "            item_feats, ctx_feats, item2artist, item2album)\n",
        "\n",
        "  g = create_train_batch_generator(epochs, batch_size, val_df, meta_df,\n",
        "                                   seeds_df, repeated_feature_fn, sampler_fn,\n",
        "                                   separate_features)\n",
        "  \n",
        "  b = next(g)\n",
        "  try:\n",
        "    next(g)\n",
        "  except StopIteration:\n",
        "    pass\n",
        "  \n",
        "  return b\n",
        "\n",
        "\n",
        "@nb.njit()\n",
        "def create_query_items_generator(num_users, user_indices, seed_user_indices,\n",
        "                                 num_items, seed_item_indices):\n",
        "\n",
        "  user2items = _nb_a2bs(seed_user_indices, num_users, seed_item_indices)\n",
        "\n",
        "  for i in range(len(user_indices)):\n",
        "    user_i = user_indices[i]\n",
        "    item_indices = np.array([j for j in range(1, num_items)\n",
        "                             if not bool(j in user2items[user_i])])\n",
        "    yield i, item_indices\n",
        "    \n",
        "  \n",
        "def create_query_batch_generator(query_df, meta_df, feature_fn,\n",
        "                                 filter_user_items=False,\n",
        "                                 separate_features=False):\n",
        "  \"\"\"\n",
        "  Create a query batch generator\n",
        "  \"\"\"\n",
        "\n",
        "  # extract user indices and context feature mappings\n",
        "  # from query context dataframe \n",
        "  query_ctx_df = get_query_ctx(query_df)\n",
        "  (_, user_indices, _, _, _, _, ctx_feats, _,\n",
        "   _) = feature_fn(query_ctx_df, meta_df)\n",
        "  \n",
        "  # extract all indices and other feature mappings\n",
        "  # from query seeds and meta dataframe\n",
        "  query_seeds_df = get_query_seeds(query_df)\n",
        "  (num_users, seed_user_indices, user_feats, num_items, seed_item_indices,\n",
        "   item_feats, _, _, _) = feature_fn(query_seeds_df, meta_df, query_seeds_df)\n",
        "\n",
        "  # initialize generator of per-user batches of items\n",
        "  if filter_user_items:\n",
        "    g = create_query_items_generator(num_users, user_indices, seed_user_indices,\n",
        "                                     num_items, seed_item_indices)\n",
        "  else:\n",
        "    item_indices = np.arange(num_items)\n",
        "    g = ((i, item_indices) for i in range(len(user_indices)))\n",
        "\n",
        "  # create batches of features from per-user batches of items\n",
        "  for i, item_indices in g: \n",
        "    userctx_fs = user_feats[np.full(len(item_indices), user_indices[i], dtype=int)]\n",
        "\n",
        "    if ctx_feats is not None:\n",
        "      ctx_fs = ctx_feats[np.full(len(item_indices), i, dtype=int)]\n",
        "      userctx_fs = sp.hstack([userctx_fs, ctx_fs])\n",
        "\n",
        "    if separate_features:\n",
        "      pos_fs = item_feats[item_indices].tocoo()\n",
        "    else:   \n",
        "      empty_userctx_fs = csr_matrix(userctx_fs.shape)\n",
        "      pos_fs = sp.hstack([empty_userctx_fs, item_feats[item_indices]])\n",
        "      userctx_fs._shape = pos_fs.shape\n",
        "\n",
        "    yield userctx_fs, pos_fs, item_indices"
      ],
      "execution_count": 0,
      "outputs": []
    },
    {
      "cell_type": "markdown",
      "metadata": {
        "id": "45rcugk6FQ5M",
        "colab_type": "text"
      },
      "source": [
        "To use these batches efficiently with the TensorFlow factorization machine implementations, we wrap them as TensorFlow data sets."
      ]
    },
    {
      "cell_type": "code",
      "metadata": {
        "id": "J0EmU1-4FNx4",
        "colab_type": "code",
        "colab": {}
      },
      "source": [
        "def coo2tuple(s, dtype=np.float32):\n",
        "  s = s.tocoo(copy=False)\n",
        "  s_indices = np.vstack((s.row.astype(np.int64), s.col.astype(np.int64))).T\n",
        "  return (s_indices, s.data.astype(dtype), s.shape)\n",
        "\n",
        "\n",
        "def dummyarray():\n",
        "  return np.zeros([1], dtype=np.int64)\n",
        "\n",
        "\n",
        "def dummytuple(dtype=np.float32):\n",
        "  return (np.zeros([1, 1], dtype=np.int64), np.ones(1, dtype=dtype), [1, 1])\n",
        "\n",
        "\n",
        "def batch2tuples(b):\n",
        "  if len(b) == 4:\n",
        "    # train batch generator\n",
        "    userctx_s, pos_s, neg_s, na_s = b\n",
        "    return (coo2tuple(userctx_s), coo2tuple(pos_s), coo2tuple(neg_s),\n",
        "            coo2tuple(na_s, dtype=bool), dummyarray())\n",
        "  else:\n",
        "    # query batch generator\n",
        "    userctx_s, pos_s, items = b\n",
        "    return (coo2tuple(userctx_s), coo2tuple(pos_s), dummytuple(),\n",
        "            dummytuple(dtype=bool), items)\n",
        "\n",
        "\n",
        "def tuples2tensors(userctx, pos, neg, na, items):\n",
        "  return (tf.SparseTensor(*userctx), tf.SparseTensor(*pos),\n",
        "          tf.SparseTensor(*neg), tf.SparseTensor(*na), items)\n",
        "\n",
        "\n",
        "def batch2dataset(b):\n",
        "  return tf.data.Dataset.from_tensors(tuples2tensors(*batch2tuples(b)))\n",
        "\n",
        "\n",
        "def batchgenerator2dataset(g):\n",
        "  g = (batch2tuples(b) for b in g)\n",
        "  \n",
        "  f_shape = (tf.int64, tf.float32, tf.int64)\n",
        "  b_shape = (tf.int64, tf.bool, tf.int64)\n",
        "  g_shape = (f_shape, f_shape, f_shape, b_shape, tf.int64)\n",
        "  \n",
        "  return tf.data.Dataset.from_generator(lambda: g, g_shape).map(tuples2tensors)\n",
        "\n",
        "\n",
        "def create_train_dataset(epochs, graph, batch_size, df, meta_df, feature_fn,\n",
        "                         sampler_fn, separate_features=False):\n",
        "  \"\"\"\n",
        "  Create a training data set consisting of batches of\n",
        "   * user/context feature sparse tensor\n",
        "   * positive item feature sparse tensor\n",
        "   * negative item feature sparse tensor\n",
        "   * optional non-accepted negative items for users sparse tensor\n",
        "   * dummy item indices array\n",
        "  \"\"\"\n",
        "  with graph.as_default():\n",
        "    seeds_df = df\n",
        "    g = create_train_batch_generator(epochs, batch_size, df, meta_df, seeds_df,\n",
        "                                     feature_fn, sampler_fn, separate_features)\n",
        "    return batchgenerator2dataset(g)\n",
        "\n",
        "\n",
        "def create_val_dataset(graph, batch_size, val_df, val_query_df, meta_df,\n",
        "                       feature_fn, sampler_fn, separate_features=False):\n",
        "  \"\"\"\n",
        "  Create a validation data set consisting of\n",
        "  a single batch of the same structure as the training data set batches.\n",
        "\n",
        "  The single batch has positive items repeated with different negative items\n",
        "  to have size similar to batch_size (of the training data set batches).\n",
        "  \"\"\"\n",
        "  with graph.as_default():\n",
        "    seeds_df = get_query_seeds(val_query_df)\n",
        "    b = create_val_batch(batch_size, val_df, meta_df, seeds_df, feature_fn,\n",
        "                         sampler_fn, separate_features)\n",
        "    \n",
        "    return batch2dataset(b).repeat()\n",
        "  \n",
        "\n",
        "def create_query_dataset(graph, query_df, meta_df, feature_fn,\n",
        "                         filter_user_items=False, separate_features=False):\n",
        "  \"\"\"\n",
        "  Create a query data set consisting of per-user batches of\n",
        "   * user/context feature sparse tensor\n",
        "   * query item feature sparse tensor\n",
        "   * dummy negative sparse tensor\n",
        "   * dummy non-accepted sparse tensor\n",
        "   * query item indices array\n",
        "  \"\"\"\n",
        "  with graph.as_default():\n",
        "    g = create_query_batch_generator(query_df, meta_df, feature_fn,\n",
        "                                     filter_user_items, separate_features)\n",
        "    return batchgenerator2dataset(g).prefetch(1)"
      ],
      "execution_count": 0,
      "outputs": []
    },
    {
      "cell_type": "markdown",
      "metadata": {
        "id": "CKYHmanwFaUL",
        "colab_type": "text"
      },
      "source": [
        "Finally we use a wrapper which, given a specific sampling function, feature function and factorization machine variant implementation, can be fitted on and transform dataframes in our required format. It also supports saving and loading models."
      ]
    },
    {
      "cell_type": "code",
      "metadata": {
        "id": "mB2cZkP5FXED",
        "colab_type": "code",
        "colab": {}
      },
      "source": [
        "class FM:\n",
        "  \"\"\"\n",
        "  Wrapper around different TensorFlow factorization machines to use with\n",
        "   * train, validation, validation query, test and test query dataframes\n",
        "   * different arguments, feature and sampler / not accepted functions\n",
        "  \"\"\"\n",
        "\n",
        "  def __init__(self, fm_type, train_df, val_query_df, val_df, feature_fn,\n",
        "               sampler_fn, val_sampler_fn, args, n=500,\n",
        "               separate_features=False):\n",
        "\n",
        "    # train data set used for metadata\n",
        "    meta_df = train_df\n",
        "\n",
        "    with tf.device('/gpu:0'):\n",
        "      tf.reset_default_graph()\n",
        "      graph = tf.Graph()\n",
        "\n",
        "      train_dataset = create_train_dataset(args.epochs, graph, args.batch_size,\n",
        "                                           train_df, meta_df, feature_fn,\n",
        "                                           sampler_fn, separate_features)\n",
        "\n",
        "      # important pipelining for better performance\n",
        "      with graph.as_default():\n",
        "        train_dataset = train_dataset.prefetch(args.batches_per_epoch)\n",
        "      \n",
        "      val_dataset = create_val_dataset(graph, args.batch_size, val_df,\n",
        "                                       val_query_df, meta_df, feature_fn,\n",
        "                                       val_sampler_fn, separate_features)\n",
        "      \n",
        "      self.fm = fm_type(graph, train_dataset, val_dataset, args, n)\n",
        "      self.meta_df = meta_df\n",
        "      self.feature_fn = feature_fn\n",
        "      self.n = n\n",
        "      self.separate_features = separate_features\n",
        "  \n",
        "  @with_time\n",
        "  def fit(self, save_epochs=[], save_epoch_paths=[]):\n",
        "    return self.fm.train(save_epochs, save_epoch_paths)\n",
        "  \n",
        "  @with_time\n",
        "  def transform(self, query_df, filter_user_tracks=False):\n",
        "    query_dataset = create_query_dataset(self.fm.sess.graph, query_df,\n",
        "                                         self.meta_df, self.feature_fn,\n",
        "                                         filter_user_tracks,\n",
        "                                         self.separate_features)\n",
        "    \n",
        "    scores, indices = self.fm.predict(query_dataset)\n",
        "    return pd.DataFrame({\n",
        "        \"score\": scores,\n",
        "        \"pid\": get_query_ctx(query_df)[\"pid\"].repeat(self.n),\n",
        "        \"traid\": indices\n",
        "    })\n",
        "\n",
        "  def save(self, save_path):\n",
        "    self.fm.save(save_path)\n",
        "  \n",
        "  def load(self, load_path):\n",
        "    self.fm.load(load_path)\n",
        "  \n",
        "  def close(self):\n",
        "    self.fm.close()"
      ],
      "execution_count": 0,
      "outputs": []
    },
    {
      "cell_type": "markdown",
      "metadata": {
        "id": "5ZA-fRJSFgVg",
        "colab_type": "text"
      },
      "source": [
        "Using this wrapper, we can create a general evaluation function as well as a general function plotting the fitting process.\n",
        "\n",
        "These general functions and dictionaries are the only wrappers we will need to care about."
      ]
    },
    {
      "cell_type": "code",
      "metadata": {
        "id": "w_SjJXLrFf39",
        "colab_type": "code",
        "colab": {}
      },
      "source": [
        "fm_fits = dict()\n",
        "fm_evals = dict()\n",
        "\n",
        "\n",
        "def fit_fm_args(fm_type, args, args_name, train_df, val_query_df, val_df,\n",
        "                load=False, feature_fn=df2usersitems,\n",
        "                sampler_fn=uniform_sampler, val_sampler_fn=uniform_sampler,\n",
        "                separate_features=False):\n",
        "  \"\"\"\n",
        "  Fits, saves and returns a FM. Fills fm_fits.\n",
        "\n",
        "  Can also load a fitted FM instead of fitting and saving it again.\n",
        "  \"\"\"\n",
        "  fm = FM(fm_type, train_df, val_query_df, val_df, feature_fn, sampler_fn,\n",
        "          val_sampler_fn, args, separate_features=separate_features)\n",
        "\n",
        "  fit_name = \"{}{}.pickle\".format(models_dirname, args_name)\n",
        "  model_name = \"{}{}.ckpt\".format(models_dirname, args_name)\n",
        "\n",
        "  if load:\n",
        "    with open(fit_name, \"rb\") as f:\n",
        "     fm_fits[args_name] = pickle.load(f)\n",
        "    fm.load(model_name)\n",
        "  else:\n",
        "    (losses, val_losses, val_scores), fit_time = fm.fit()\n",
        "\n",
        "    if isinstance(val_scores, tuple):\n",
        "      val_aucs, val_ranks = val_scores\n",
        "    else:\n",
        "      val_aucs = val_scores\n",
        "      val_ranks = None\n",
        "\n",
        "    fm_fits[args_name] = {\n",
        "        \"fit_time\": fit_time,\n",
        "        \"losses\": losses,\n",
        "        \"val_losses\": val_losses,\n",
        "        \"val_aucs\": val_aucs,\n",
        "        \"val_ranks\": val_ranks\n",
        "    }\n",
        "    with open(fit_name, \"wb\") as f:\n",
        "      pickle.dump(fm_fits[args_name], f)\n",
        "    fm.save(model_name)\n",
        "      \n",
        "  return fm\n",
        "\n",
        "\n",
        "def fit_fm_args_epochs(fm_type, args, args_names, args_epochs, train_df,\n",
        "                       val_query_df, val_df, load=False,\n",
        "                       feature_fn=df2usersitems, sampler_fn=uniform_sampler,\n",
        "                       val_sampler_fn=uniform_sampler, separate_features=False):\n",
        "  \"\"\"\n",
        "  Fits, saves and returns FMs at the given epochs.\n",
        "  Fills fm_fits for the FM with most epochs.\n",
        "\n",
        "  Can also load fitted FMs instead of fitting and saving it again.\n",
        "\n",
        "  This is obviously more efficient than\n",
        "   * fitting a FM for 100 epochs and saving it\n",
        "   * fitting a FM for 200 epochs and saving it\n",
        "   * ...\n",
        "  \"\"\"\n",
        "  fm = FM(fm_type, train_df, val_query_df, val_df, feature_fn, sampler_fn,\n",
        "          val_sampler_fn, args, separate_features=separate_features)\n",
        "  \n",
        "  args_name = args_names[-1]\n",
        "  fit_name = \"{}{}.pickle\".format(models_dirname, args_name)\n",
        "  model_names = [\"{}{}.ckpt\".format(models_dirname, name) for name\n",
        "                 in args_names]\n",
        "\n",
        "  if load:\n",
        "    with open(fit_name, \"rb\") as f:\n",
        "      fm_fits[args_name] = pickle.load(f)\n",
        "  else:\n",
        "    (losses, val_losses, val_scores), fit_time = fm.fit(save_epochs=args_epochs,\n",
        "                                                        save_epoch_paths=model_names)\n",
        "\n",
        "    if isinstance(val_scores, tuple):\n",
        "      val_aucs, val_ranks = val_scores\n",
        "    else:\n",
        "      val_aucs = val_scores\n",
        "      val_ranks = None\n",
        "\n",
        "    fm_fits[args_name] = {\n",
        "        \"fit_time\": fit_time,\n",
        "        \"losses\": losses,\n",
        "        \"val_losses\": val_losses,\n",
        "        \"val_aucs\": val_aucs,\n",
        "        \"val_ranks\": val_ranks\n",
        "    }\n",
        "    with open(fit_name, \"wb\") as f:\n",
        "      pickle.dump(fm_fits[args_name], f)\n",
        "\n",
        "  for model_name in model_names:\n",
        "    fm.load(model_name)\n",
        "    yield fm\n",
        "\n",
        "\n",
        "def eval_fm(fm, args_name, test_query_df, test_df, silent=False,\n",
        "            filter_user_tracks=False, with_hit_rates=False):\n",
        "  \"\"\"\n",
        "  Evaluates a FM and returns the recommendation dataframe. Fills fm_evals.\n",
        "  \"\"\"\n",
        "  fm_evals[args_name] = dict()\n",
        "\n",
        "  fm_df, fm_evals[args_name][\"trans_time\"] = fm.transform(test_query_df,\n",
        "                                                          filter_user_tracks)\n",
        "  \n",
        "  if with_hit_rates:\n",
        "    fm_evals[args_name][\"hit_rates\"] = hit_rates(fm_df, test_df)\n",
        "    fm_evals[args_name][\"hit_rate\"] = fm_evals[args_name][\"hit_rates\"][0]\n",
        "  else:\n",
        "    fm_evals[args_name][\"hit_rate\"] = hit_rate(fm_df, test_df) \n",
        "  fm_evals[args_name][\"ndcg\"] = ndcg(fm_df, test_df)\n",
        "  \n",
        "  if not silent:\n",
        "    print(\"{:.6f} hit rate\\n{:.6f} ndcg\".format(\n",
        "        fm_evals[args_name][\"hit_rate\"], fm_evals[args_name][\"ndcg\"]))\n",
        "    if args_name in fm_fits:\n",
        "      print(\"\\n{:.5f}s fit time\".format(fm_fits[args_name][\"fit_time\"]))\n",
        "    print(\"{:.5f}s trans time\".format(fm_evals[args_name][\"trans_time\"]))\n",
        "  \n",
        "  return fm_df"
      ],
      "execution_count": 0,
      "outputs": []
    },
    {
      "cell_type": "code",
      "metadata": {
        "id": "ue9TP-NnFv93",
        "colab_type": "code",
        "colab": {}
      },
      "source": [
        "def plot_fm_fit(args_name, bottom_val_auc=0.75, top_val_auc=1.0, rows=1, row=0):\n",
        "  \"\"\"\n",
        "  Plots losses, validation losses and validation AUCs of a FM's fitting.\n",
        "  Uses fm_fits.\n",
        "  \"\"\"\n",
        "  plt.figure(figsize=(12, rows * 4))\n",
        "  \n",
        "  losses = fm_fits[args_name][\"losses\"]\n",
        "  losses_ax = plt.subplot(rows, 3, row * 3 + 1)\n",
        "  plt.plot(losses)\n",
        "  if row == 0:\n",
        "    plt.title(\"Losses\")\n",
        "  \n",
        "  val_losses = fm_fits[args_name][\"val_losses\"]\n",
        "  val_epochs = [i * args.eval_freq for i in range(len(val_losses))]\n",
        "  plt.subplot(rows, 3, row * 3 + 2, sharey=losses_ax)\n",
        "  plt.plot(val_epochs, val_losses)\n",
        "  if row == 0:\n",
        "    plt.title(\"Val losses\")\n",
        "  \n",
        "  aucs = fm_fits[args_name][\"val_aucs\"]\n",
        "  plt.subplot(rows, 3, row * 3 + 3)\n",
        "  plt.plot(val_epochs, aucs, color=\"red\")\n",
        "  plt.ylim(bottom=bottom_val_auc, top=top_val_auc)\n",
        "  if row == 0:\n",
        "    plt.title(\"Val AUCs\")\n",
        "  \n",
        "  plt.subplots_adjust(wspace=0.4)\n",
        "\n",
        "\n",
        "def plot_fm_fits(args_names, bottom_val_auc=0.75, top_val_auc=1.0):\n",
        "  rows = len(args_names)\n",
        "  for row, args_name in enumerate(args_names):\n",
        "    plot_fm_fit(args_name, bottom_val_auc, top_val_auc, rows, row)"
      ],
      "execution_count": 0,
      "outputs": []
    },
    {
      "cell_type": "markdown",
      "metadata": {
        "id": "wc1qdD3FC94m",
        "colab_type": "text"
      },
      "source": [
        "## Evaluation"
      ]
    },
    {
      "cell_type": "markdown",
      "metadata": {
        "id": "nzS-B_LtDAfK",
        "colab_type": "text"
      },
      "source": [
        "For the last-track split evaluation, we use a train-validation-test split and evaluate the different parameters and variants on the validation set.\n",
        "\n",
        "We will only evaluate the best parameters of each variant on the test set."
      ]
    },
    {
      "cell_type": "code",
      "metadata": {
        "id": "GQWN2xreC4f7",
        "colab_type": "code",
        "outputId": "34599dd8-e6c4-4cb4-a0e3-ba0c7e320bca",
        "colab": {
          "base_uri": "https://localhost:8080/",
          "height": 217
        }
      },
      "source": [
        "train_df, val_df, val_query_df = last_track_split(df, as_val=True,\n",
        "                                                  n_test_users=1000)\n",
        "\n",
        "val_df.head()"
      ],
      "execution_count": 0,
      "outputs": [
        {
          "output_type": "execute_result",
          "data": {
            "text/html": [
              "<div>\n",
              "<style scoped>\n",
              "    .dataframe tbody tr th:only-of-type {\n",
              "        vertical-align: middle;\n",
              "    }\n",
              "\n",
              "    .dataframe tbody tr th {\n",
              "        vertical-align: top;\n",
              "    }\n",
              "\n",
              "    .dataframe thead th {\n",
              "        text-align: right;\n",
              "    }\n",
              "</style>\n",
              "<table border=\"1\" class=\"dataframe\">\n",
              "  <thead>\n",
              "    <tr style=\"text-align: right;\">\n",
              "      <th></th>\n",
              "      <th>pid</th>\n",
              "      <th>timestamp</th>\n",
              "      <th>userid</th>\n",
              "      <th>traid</th>\n",
              "      <th>index</th>\n",
              "      <th>artid</th>\n",
              "      <th>albid</th>\n",
              "      <th>age</th>\n",
              "      <th>country</th>\n",
              "      <th>gender</th>\n",
              "      <th>prev_traid</th>\n",
              "      <th>prev_albid</th>\n",
              "      <th>prev_artid</th>\n",
              "    </tr>\n",
              "  </thead>\n",
              "  <tbody>\n",
              "    <tr>\n",
              "      <th>0</th>\n",
              "      <td>11</td>\n",
              "      <td>1294318230</td>\n",
              "      <td>5</td>\n",
              "      <td>213513</td>\n",
              "      <td>263572</td>\n",
              "      <td>3091</td>\n",
              "      <td>38939</td>\n",
              "      <td>5</td>\n",
              "      <td>4</td>\n",
              "      <td>1</td>\n",
              "      <td>363</td>\n",
              "      <td>272</td>\n",
              "      <td>211</td>\n",
              "    </tr>\n",
              "    <tr>\n",
              "      <th>1</th>\n",
              "      <td>46</td>\n",
              "      <td>1275510507</td>\n",
              "      <td>19</td>\n",
              "      <td>22042</td>\n",
              "      <td>664234</td>\n",
              "      <td>779</td>\n",
              "      <td>1000</td>\n",
              "      <td>12</td>\n",
              "      <td>11</td>\n",
              "      <td>2</td>\n",
              "      <td>1296</td>\n",
              "      <td>1000</td>\n",
              "      <td>779</td>\n",
              "    </tr>\n",
              "    <tr>\n",
              "      <th>2</th>\n",
              "      <td>94</td>\n",
              "      <td>1245482240</td>\n",
              "      <td>38</td>\n",
              "      <td>12910</td>\n",
              "      <td>1404884</td>\n",
              "      <td>1670</td>\n",
              "      <td>2363</td>\n",
              "      <td>19</td>\n",
              "      <td>24</td>\n",
              "      <td>2</td>\n",
              "      <td>2448</td>\n",
              "      <td>1740</td>\n",
              "      <td>1267</td>\n",
              "    </tr>\n",
              "    <tr>\n",
              "      <th>3</th>\n",
              "      <td>137</td>\n",
              "      <td>1249475773</td>\n",
              "      <td>52</td>\n",
              "      <td>93364</td>\n",
              "      <td>389798</td>\n",
              "      <td>4557</td>\n",
              "      <td>7444</td>\n",
              "      <td>4</td>\n",
              "      <td>10</td>\n",
              "      <td>1</td>\n",
              "      <td>3795</td>\n",
              "      <td>2543</td>\n",
              "      <td>1772</td>\n",
              "    </tr>\n",
              "    <tr>\n",
              "      <th>4</th>\n",
              "      <td>192</td>\n",
              "      <td>1351599976</td>\n",
              "      <td>68</td>\n",
              "      <td>16836</td>\n",
              "      <td>2033927</td>\n",
              "      <td>1611</td>\n",
              "      <td>3161</td>\n",
              "      <td>23</td>\n",
              "      <td>12</td>\n",
              "      <td>2</td>\n",
              "      <td>4661</td>\n",
              "      <td>3161</td>\n",
              "      <td>1611</td>\n",
              "    </tr>\n",
              "  </tbody>\n",
              "</table>\n",
              "</div>"
            ],
            "text/plain": [
              "   pid   timestamp  userid   traid  ...  gender  prev_traid  prev_albid  prev_artid\n",
              "0   11  1294318230       5  213513  ...       1         363         272         211\n",
              "1   46  1275510507      19   22042  ...       2        1296        1000         779\n",
              "2   94  1245482240      38   12910  ...       2        2448        1740        1267\n",
              "3  137  1249475773      52   93364  ...       1        3795        2543        1772\n",
              "4  192  1351599976      68   16836  ...       2        4661        3161        1611\n",
              "\n",
              "[5 rows x 13 columns]"
            ]
          },
          "metadata": {
            "tags": []
          },
          "execution_count": 54
        }
      ]
    },
    {
      "cell_type": "code",
      "metadata": {
        "id": "y296vG71CroU",
        "colab_type": "code",
        "colab": {}
      },
      "source": [
        "load=False"
      ],
      "execution_count": 0,
      "outputs": []
    },
    {
      "cell_type": "markdown",
      "metadata": {
        "id": "jl5kjKMeDKB5",
        "colab_type": "text"
      },
      "source": [
        "### Pairwise factorization machines"
      ]
    },
    {
      "cell_type": "markdown",
      "metadata": {
        "id": "mdN7eE-fDM2l",
        "colab_type": "text"
      },
      "source": [
        "#### Hyperparameters"
      ]
    },
    {
      "cell_type": "markdown",
      "metadata": {
        "id": "M1Z-7Ix9gi91",
        "colab_type": "text"
      },
      "source": [
        "At first, we try to find reasonable hyperparameter values for vanilla factorization machines.\n",
        "\n",
        "In particular we consider:\n",
        "\n",
        "*   *linear_reg*: The regularization rate for the linear weights\n",
        "*   *factors_reg*: The regularization rate for the latent factor weights\n",
        "*   *num_dims / k*: The number of dimensions\n",
        "*   *lr*: The Adagrad learning rate"
      ]
    },
    {
      "cell_type": "markdown",
      "metadata": {
        "id": "jVsfaXVugj7_",
        "colab_type": "text"
      },
      "source": [
        "**Mini-batch size**\n",
        "\n",
        "As mini-batch size we use *16384* which is quite large but has been shown to work fine in previous experiments.\n",
        "\n",
        "A large mini-batch size is important for a faster runtime of our TensorFlow implementation."
      ]
    },
    {
      "cell_type": "markdown",
      "metadata": {
        "id": "DJol1dougnun",
        "colab_type": "text"
      },
      "source": [
        "**Regularizaton rate**"
      ]
    },
    {
      "cell_type": "code",
      "metadata": {
        "id": "zolATMTN96Sj",
        "colab_type": "code",
        "colab": {}
      },
      "source": [
        "regs = [0.006, 0.01, 0.06, 0.1, 0.3, 0.6]\n",
        "reg_names = [\"fm_lreg{}\".format(reg) for reg in regs]\n",
        "\n",
        "for reg, reg_name in zip(regs, reg_names):\n",
        "  args = FMArgs(len(train_df), linear_reg=reg)\n",
        "  fm = fit_fm_args(TfFM, args, reg_name, train_df, val_query_df, val_df,\n",
        "                   load=load)\n",
        "  eval_fm(fm, reg_name, val_query_df, val_df, filter_user_tracks=True,\n",
        "          silent=True)"
      ],
      "execution_count": 0,
      "outputs": []
    },
    {
      "cell_type": "code",
      "metadata": {
        "id": "KeRRkJGFJGc4",
        "colab_type": "code",
        "outputId": "eeb5a40d-16ca-45f0-db19-8e2bdaad3547",
        "colab": {
          "base_uri": "https://localhost:8080/",
          "height": 231
        }
      },
      "source": [
        "plt.figure(figsize=(6, 3))\n",
        "\n",
        "reg_ndcgs = [fm_evals[reg_name][\"ndcg\"] for reg_name in reg_names]\n",
        "plt.plot(regs, reg_ndcgs, \"o--\", color=\"red\")\n",
        "plt.xscale('log', basex=10)\n",
        "plt.ylim(bottom=0.0, top=0.07)\n",
        "\n",
        "plt.title(\"NDCG per linear regularization rate\");"
      ],
      "execution_count": 0,
      "outputs": [
        {
          "output_type": "display_data",
          "data": {
            "image/png": "[encoded data removed]",
            "text/plain": [
              "<Figure size 432x216 with 1 Axes>"
            ]
          },
          "metadata": {
            "tags": []
          }
        }
      ]
    },
    {
      "cell_type": "code",
      "metadata": {
        "id": "VUUhXJCDTlaE",
        "colab_type": "code",
        "colab": {}
      },
      "source": [
        "regs = [0.0001, 0.0006, 0.003, 0.01, 0.03, 0.06, 0.6]\n",
        "reg_names = [\"fm_freg{}\".format(reg) for reg in regs]\n",
        "\n",
        "for reg, reg_name in zip(regs, reg_names):\n",
        "  args = FMArgs(len(train_df), linear_reg=0.3, factors_reg=reg)\n",
        "  fm = fit_fm_args(TfFM, args, reg_name, train_df, val_query_df, val_df,\n",
        "                   load=load)\n",
        "  eval_fm(fm, reg_name, val_query_df, val_df, filter_user_tracks=True)"
      ],
      "execution_count": 0,
      "outputs": []
    },
    {
      "cell_type": "code",
      "metadata": {
        "id": "Y7fzCcnsnNYz",
        "colab_type": "code",
        "colab": {}
      },
      "source": [
        "regs = [0.0001, 0.0006, 0.003, 0.01, 0.03, 0.06, 0.6]\n",
        "reg_names = [\"fm_freg{}\".format(reg) for reg in regs]"
      ],
      "execution_count": 0,
      "outputs": []
    },
    {
      "cell_type": "code",
      "metadata": {
        "id": "ePSGuOTYj_zq",
        "colab_type": "code",
        "outputId": "7bed6521-da48-45c4-9b06-ea01a7fa0846",
        "colab": {
          "base_uri": "https://localhost:8080/",
          "height": 231
        }
      },
      "source": [
        "fregs = regs[:3] + [0.006] + regs[3:]\n",
        "freg_names = reg_names[:3] + [\"fm_lreg0.3\"] + reg_names[3:]\n",
        "plt.figure(figsize=(6, 3))\n",
        "\n",
        "freg_ndcgs = [fm_evals[reg_name][\"ndcg\"] for reg_name in freg_names]\n",
        "plt.plot(fregs, freg_ndcgs, \"o--\", color=\"red\")\n",
        "plt.xscale('log', basex=10)\n",
        "plt.ylim(bottom=0.0, top=0.07)\n",
        "\n",
        "plt.title(\"NDCG per factors regularization rate\");"
      ],
      "execution_count": 0,
      "outputs": [
        {
          "output_type": "display_data",
          "data": {
            "image/png": "[encoded data removed]",
            "text/plain": [
              "<Figure size 432x216 with 1 Axes>"
            ]
          },
          "metadata": {
            "tags": []
          }
        }
      ]
    },
    {
      "cell_type": "code",
      "metadata": {
        "id": "2ynuV2Z2ZCKk",
        "colab_type": "code",
        "outputId": "fd503fe5-a9dc-43d7-ccf8-477d7c7735ec",
        "colab": {
          "base_uri": "https://localhost:8080/",
          "height": 1000
        }
      },
      "source": [
        "plot_fm_fits(reg_names[:5])"
      ],
      "execution_count": 0,
      "outputs": [
        {
          "output_type": "display_data",
          "data": {
            "image/png": "[encoded data removed]",
            "text/plain": [
              "<Figure size 864x1440 with 3 Axes>"
            ]
          },
          "metadata": {
            "tags": []
          }
        },
        {
          "output_type": "display_data",
          "data": {
            "image/png": "[encoded data removed]",
            "text/plain": [
              "<Figure size 864x1440 with 3 Axes>"
            ]
          },
          "metadata": {
            "tags": []
          }
        },
        {
          "output_type": "display_data",
          "data": {
            "image/png": "[encoded data removed]",
            "text/plain": [
              "<Figure size 864x1440 with 3 Axes>"
            ]
          },
          "metadata": {
            "tags": []
          }
        },
        {
          "output_type": "display_data",
          "data": {
            "image/png": "[encoded data removed]",
            "text/plain": [
              "<Figure size 864x1440 with 3 Axes>"
            ]
          },
          "metadata": {
            "tags": []
          }
        },
        {
          "output_type": "display_data",
          "data": {
            "image/png": "[encoded data removed]",
            "text/plain": [
              "<Figure size 864x1440 with 3 Axes>"
            ]
          },
          "metadata": {
            "tags": []
          }
        }
      ]
    },
    {
      "cell_type": "code",
      "metadata": {
        "id": "pCvHS6Phf-1i",
        "colab_type": "code",
        "outputId": "38879b1d-04b7-4aa0-df4b-a520ce269811",
        "colab": {
          "base_uri": "https://localhost:8080/",
          "height": 125
        }
      },
      "source": [
        "args = FMArgs(len(train_df), linear_reg=0.3, factors_reg=0.0006)\n",
        "fm = fit_fm_args(TfFM, args, \"fm_freg0.0006\", train_df, val_query_df, val_df,\n",
        "                 load=True)\n",
        "eval_fm(fm, \"fm_freg0.0006\", val_query_df, val_df, filter_user_tracks=True);"
      ],
      "execution_count": 0,
      "outputs": [
        {
          "output_type": "stream",
          "text": [
            "INFO:tensorflow:Restoring parameters from /drive/My Drive/models/30music/fm_freg0.0006.ckpt\n",
            "0.008000 hit rate\n",
            "0.054364 ndcg\n",
            "\n",
            "637.72047s fit time\n",
            "41.12058s trans time\n"
          ],
          "name": "stdout"
        }
      ]
    },
    {
      "cell_type": "markdown",
      "metadata": {
        "id": "qdzcW60QZUl2",
        "colab_type": "text"
      },
      "source": [
        "**Number of dimensions**"
      ]
    },
    {
      "cell_type": "code",
      "metadata": {
        "id": "7FIn6BP2ywzZ",
        "colab_type": "code",
        "outputId": "45f6a8b3-fe8c-4890-b085-1cbb4a4640fd",
        "colab": {
          "base_uri": "https://localhost:8080/",
          "height": 773
        }
      },
      "source": [
        "ks = [100, 150, 200, 250, 300, 350, 400]\n",
        "k_names = [\"fm_k{}\".format(k) for k in ks]\n",
        "\n",
        "for k, k_name in zip(ks, k_names):\n",
        "  args = FMArgs(len(train_df), linear_reg=0.3, factors_reg=0.0006, num_dims=k)\n",
        "  fm = fit_fm_args(TfFM, args, k_name, train_df, val_query_df, val_df,\n",
        "                   load=load)\n",
        "  eval_fm(fm, k_name, val_query_df, val_df, filter_user_tracks=True)"
      ],
      "execution_count": 0,
      "outputs": [
        {
          "output_type": "stream",
          "text": [
            "INFO:tensorflow:Restoring parameters from /drive/My Drive/models/30music/fm_k100.ckpt\n",
            "0.014000 hit rate\n",
            "0.065738 ndcg\n",
            "\n",
            "692.85064s fit time\n",
            "41.31593s trans time\n",
            "INFO:tensorflow:Restoring parameters from /drive/My Drive/models/30music/fm_k150.ckpt\n",
            "0.016000 hit rate\n",
            "0.071518 ndcg\n",
            "\n",
            "830.81998s fit time\n",
            "41.78473s trans time\n",
            "INFO:tensorflow:Restoring parameters from /drive/My Drive/models/30music/fm_k200.ckpt\n",
            "0.013000 hit rate\n",
            "0.073096 ndcg\n",
            "\n",
            "1026.08950s fit time\n",
            "41.65328s trans time\n",
            "INFO:tensorflow:Restoring parameters from /drive/My Drive/models/30music/fm_k250.ckpt\n",
            "0.014000 hit rate\n",
            "0.074062 ndcg\n",
            "\n",
            "1229.66612s fit time\n",
            "42.13446s trans time\n",
            "INFO:tensorflow:Restoring parameters from /drive/My Drive/models/30music/fm_k300.ckpt\n",
            "0.014000 hit rate\n",
            "0.076859 ndcg\n",
            "\n",
            "1424.68151s fit time\n",
            "41.94976s trans time\n",
            "INFO:tensorflow:Restoring parameters from /drive/My Drive/models/30music/fm_k350.ckpt\n",
            "0.014000 hit rate\n",
            "0.077338 ndcg\n",
            "\n",
            "1627.12141s fit time\n",
            "42.01688s trans time\n",
            "INFO:tensorflow:Restoring parameters from /drive/My Drive/models/30music/fm_k400.ckpt\n",
            "0.016000 hit rate\n",
            "0.077866 ndcg\n",
            "\n",
            "1824.32728s fit time\n",
            "42.05305s trans time\n"
          ],
          "name": "stdout"
        }
      ]
    },
    {
      "cell_type": "code",
      "metadata": {
        "id": "Wieospxw-HYQ",
        "colab_type": "code",
        "outputId": "ebaf1d9b-621d-47d1-9e06-4a2c67c45603",
        "colab": {
          "base_uri": "https://localhost:8080/",
          "height": 241
        }
      },
      "source": [
        "plt.figure(figsize=(6, 3))\n",
        "\n",
        "k_ndcgs = [fm_evals[k_name][\"ndcg\"] for k_name in [\"fm_freg0.0006\"] + k_names]\n",
        "plt.plot([50] + ks, k_ndcgs, \"o--\", color=\"red\")\n",
        "plt.xticks([50] + ks)\n",
        "plt.ylim(bottom=0.0, top=0.09)\n",
        "plt.grid(True, axis=\"y\")\n",
        "\n",
        "plt.xlabel(\"k\")\n",
        "plt.title(\"30Music\");"
      ],
      "execution_count": 0,
      "outputs": [
        {
          "output_type": "display_data",
          "data": {
            "image/png": "[encoded data removed]",
            "text/plain": [
              "<Figure size 432x216 with 1 Axes>"
            ]
          },
          "metadata": {
            "tags": []
          }
        }
      ]
    },
    {
      "cell_type": "code",
      "metadata": {
        "id": "-v0NDg7Ijlxw",
        "colab_type": "code",
        "outputId": "48646d28-8a71-4cae-84b5-badac1a4e070",
        "colab": {
          "base_uri": "https://localhost:8080/",
          "height": 144
        }
      },
      "source": [
        "k_hit_rates = [fm_evals[k_name][\"hit_rate\"] for k_name\n",
        "               in [\"fm_freg0.0006\"] + k_names]\n",
        "pd.DataFrame.from_records([k_ndcgs, k_hit_rates], columns=[50] + ks,\n",
        "                          index=[\"NDCG\", \"Hit rate\"])"
      ],
      "execution_count": 0,
      "outputs": [
        {
          "output_type": "execute_result",
          "data": {
            "text/html": [
              "<div>\n",
              "<style scoped>\n",
              "    .dataframe tbody tr th:only-of-type {\n",
              "        vertical-align: middle;\n",
              "    }\n",
              "\n",
              "    .dataframe tbody tr th {\n",
              "        vertical-align: top;\n",
              "    }\n",
              "\n",
              "    .dataframe thead th {\n",
              "        text-align: right;\n",
              "    }\n",
              "</style>\n",
              "<table border=\"1\" class=\"dataframe\">\n",
              "  <thead>\n",
              "    <tr style=\"text-align: right;\">\n",
              "      <th></th>\n",
              "      <th>50</th>\n",
              "      <th>100</th>\n",
              "      <th>150</th>\n",
              "      <th>200</th>\n",
              "      <th>250</th>\n",
              "      <th>300</th>\n",
              "      <th>350</th>\n",
              "      <th>400</th>\n",
              "    </tr>\n",
              "  </thead>\n",
              "  <tbody>\n",
              "    <tr>\n",
              "      <th>NDCG</th>\n",
              "      <td>0.054364</td>\n",
              "      <td>0.065738</td>\n",
              "      <td>0.071518</td>\n",
              "      <td>0.073096</td>\n",
              "      <td>0.074062</td>\n",
              "      <td>0.076859</td>\n",
              "      <td>0.077338</td>\n",
              "      <td>0.077866</td>\n",
              "    </tr>\n",
              "    <tr>\n",
              "      <th>Hit rate</th>\n",
              "      <td>0.008000</td>\n",
              "      <td>0.014000</td>\n",
              "      <td>0.016000</td>\n",
              "      <td>0.013000</td>\n",
              "      <td>0.014000</td>\n",
              "      <td>0.014000</td>\n",
              "      <td>0.014000</td>\n",
              "      <td>0.016000</td>\n",
              "    </tr>\n",
              "  </tbody>\n",
              "</table>\n",
              "</div>"
            ],
            "text/plain": [
              "               50        100       150  ...       300       350       400\n",
              "NDCG      0.054364  0.065738  0.071518  ...  0.076859  0.077338  0.077866\n",
              "Hit rate  0.008000  0.014000  0.016000  ...  0.014000  0.014000  0.016000\n",
              "\n",
              "[2 rows x 8 columns]"
            ]
          },
          "metadata": {
            "tags": []
          },
          "execution_count": 79
        }
      ]
    },
    {
      "cell_type": "code",
      "metadata": {
        "id": "Zdjn9Ld_jxnC",
        "colab_type": "code",
        "outputId": "1d69577e-66b5-40dc-b625-bdc908957647",
        "colab": {
          "base_uri": "https://localhost:8080/",
          "height": 281
        }
      },
      "source": [
        "k_times = [fm_fits[k_name][\"fit_time\"] for k_name in [\"fm_freg0.0006\"] + k_names]\n",
        "plt.plot([50] + ks, k_times, \"o--\")\n",
        "plt.xticks([50] + ks)\n",
        "plt.ylim(bottom=0.0)\n",
        "\n",
        "plt.title(\"Training times (s) per k\");"
      ],
      "execution_count": 0,
      "outputs": [
        {
          "output_type": "display_data",
          "data": {
            "image/png": "[encoded data removed]",
            "text/plain": [
              "<Figure size 432x288 with 1 Axes>"
            ]
          },
          "metadata": {
            "tags": []
          }
        }
      ]
    },
    {
      "cell_type": "code",
      "metadata": {
        "id": "dlwz6bCFj8N5",
        "colab_type": "code",
        "outputId": "514951f1-f7fb-4e68-9369-8d10000e89c0",
        "colab": {
          "base_uri": "https://localhost:8080/",
          "height": 301
        }
      },
      "source": [
        "plot_fm_fit(\"fm_k300\")"
      ],
      "execution_count": 0,
      "outputs": [
        {
          "output_type": "display_data",
          "data": {
            "image/png": "[encoded data removed]",
            "text/plain": [
              "<Figure size 864x288 with 3 Axes>"
            ]
          },
          "metadata": {
            "tags": []
          }
        }
      ]
    },
    {
      "cell_type": "markdown",
      "metadata": {
        "id": "PP2AazylkGS3",
        "colab_type": "text"
      },
      "source": [
        "**Learning rate**"
      ]
    },
    {
      "cell_type": "code",
      "metadata": {
        "id": "B4yrk4DYkG2R",
        "colab_type": "code",
        "outputId": "e978321c-355a-455e-9903-473e97958e2f",
        "colab": {
          "base_uri": "https://localhost:8080/",
          "height": 336
        }
      },
      "source": [
        "lrs = [0.3, 0.6, 1.0]\n",
        "lr_names = [\"fm_lr{}\".format(lr) for lr in lrs]\n",
        "\n",
        "for lr, lr_name in zip(lrs, lr_names):\n",
        "  args = FMArgs(len(train_df), linear_reg=0.3, factors_reg=0.0006, num_dims=300,\n",
        "                lr=lr)\n",
        "  fm = fit_fm_args(TfFM, args, lr_name, train_df, val_query_df, val_df,\n",
        "                   load=load)\n",
        "  eval_fm(fm, lr_name, val_query_df, val_df, filter_user_tracks=True)"
      ],
      "execution_count": 0,
      "outputs": [
        {
          "output_type": "stream",
          "text": [
            "INFO:tensorflow:Restoring parameters from /drive/My Drive/models/30music/fm_lr0.3.ckpt\n",
            "0.016000 hit rate\n",
            "0.079428 ndcg\n",
            "\n",
            "1419.93392s fit time\n",
            "37.18398s trans time\n",
            "INFO:tensorflow:Restoring parameters from /drive/My Drive/models/30music/fm_lr0.6.ckpt\n",
            "0.018000 hit rate\n",
            "0.078139 ndcg\n",
            "\n",
            "1415.03988s fit time\n",
            "37.34443s trans time\n",
            "INFO:tensorflow:Restoring parameters from /drive/My Drive/models/30music/fm_lr1.0.ckpt\n",
            "0.014000 hit rate\n",
            "0.071777 ndcg\n",
            "\n",
            "1422.32937s fit time\n",
            "37.10227s trans time\n"
          ],
          "name": "stdout"
        }
      ]
    },
    {
      "cell_type": "markdown",
      "metadata": {
        "id": "PAZow3jX9ZO9",
        "colab_type": "text"
      },
      "source": [
        "#### Sampling"
      ]
    },
    {
      "cell_type": "code",
      "metadata": {
        "id": "_pzYfO-b9JUa",
        "colab_type": "code",
        "colab": {}
      },
      "source": [
        "args = FMArgs(len(train_df), num_dims=300, batch_size=4096,\n",
        "              linear_reg=0.1, factors_reg=0.00006)\n",
        "\n",
        "args_epochs = [100, 250, 500, 1000]\n",
        "args_names = [\"fm_b4096_lr0.1_e{}\".format(args_epoch) for args_epoch\n",
        "              in args_epochs]\n",
        "\n",
        "fms = fit_fm_args_epochs(TfFM, args, args_names, args_epochs, train_df,\n",
        "                         val_query_df, val_df, load=load,\n",
        "                         sampler_fn=accepted_uniform_sampler,\n",
        "                         val_sampler_fn=accepted_uniform_sampler)\n",
        "\n",
        "for fm, args_name in zip(fms, args_names):\n",
        "  eval_fm(fm, args_name, val_query_df, val_df, filter_user_tracks=True,\n",
        "          silent=True)"
      ],
      "execution_count": 0,
      "outputs": []
    },
    {
      "cell_type": "code",
      "metadata": {
        "id": "_4B0-uWeGHQD",
        "colab_type": "code",
        "outputId": "5b3d9615-a53f-4907-ea3a-9ed139c2474e",
        "colab": {
          "base_uri": "https://localhost:8080/",
          "height": 336
        }
      },
      "source": [
        "args = FMArgs(len(train_df), num_dims=300, batch_size=4096,\n",
        "              linear_reg=0.1, factors_reg=0.00006, lr=0.3)\n",
        "\n",
        "args_epochs = [100, 250, 500, 1000]\n",
        "args_names = [\"fm_b4096_lr0.3_e{}\".format(args_epoch) for args_epoch\n",
        "              in args_epochs]\n",
        "\n",
        "fms = fit_fm_args_epochs(TfFM, args, args_names, args_epochs, train_df,\n",
        "                         val_query_df, val_df, load=load,\n",
        "                         sampler_fn=accepted_uniform_sampler,\n",
        "                         val_sampler_fn=accepted_uniform_sampler)\n",
        "\n",
        "for fm, args_name in zip(fms, args_names):\n",
        "  eval_fm(fm, args_name, val_query_df, val_df, filter_user_tracks=True,\n",
        "          silent=True)"
      ],
      "execution_count": 0,
      "outputs": [
        {
          "output_type": "stream",
          "text": [
            "INFO:tensorflow:Restoring parameters from /drive/My Drive/models/30music/fm_b4096_lr0.3_e100.ckpt\n",
            "0.008000 hit rate\n",
            "0.042503 ndcg\n",
            "40.63101s trans time\n",
            "INFO:tensorflow:Restoring parameters from /drive/My Drive/models/30music/fm_b4096_lr0.3_e250.ckpt\n",
            "0.012000 hit rate\n",
            "0.059737 ndcg\n",
            "40.80248s trans time\n",
            "INFO:tensorflow:Restoring parameters from /drive/My Drive/models/30music/fm_b4096_lr0.3_e500.ckpt\n",
            "0.011000 hit rate\n",
            "0.069604 ndcg\n",
            "40.96429s trans time\n",
            "INFO:tensorflow:Restoring parameters from /drive/My Drive/models/30music/fm_b4096_lr0.3_e1000.ckpt\n",
            "0.014000 hit rate\n",
            "0.075537 ndcg\n",
            "\n",
            "4965.43501s fit time\n",
            "41.38584s trans time\n"
          ],
          "name": "stdout"
        }
      ]
    },
    {
      "cell_type": "code",
      "metadata": {
        "id": "yyHNPSYxNZdk",
        "colab_type": "code",
        "colab": {}
      },
      "source": [
        "args = FMArgs(len(train_df), num_dims=300, batch_size=4096,\n",
        "              linear_reg=0.1, factors_reg=0.00006, lr=0.6)\n",
        "\n",
        "args_epochs = [100, 250, 500, 1000]\n",
        "args_names = [\"fm_b4096_lr0.6_e{}\".format(args_epoch) for args_epoch\n",
        "              in args_epochs]\n",
        "\n",
        "fms = fit_fm_args_epochs(TfFM, args, args_names, args_epochs, train_df,\n",
        "                         val_query_df, val_df, load=load,\n",
        "                         sampler_fn=accepted_uniform_sampler,\n",
        "                         val_sampler_fn=accepted_uniform_sampler)\n",
        "\n",
        "for fm, args_name in zip(fms, args_names):\n",
        "  eval_fm(fm, args_name, val_query_df, val_df, filter_user_tracks=True,\n",
        "          silent=True)"
      ],
      "execution_count": 0,
      "outputs": []
    },
    {
      "cell_type": "code",
      "metadata": {
        "id": "lvzzXX37A8li",
        "colab_type": "code",
        "colab": {}
      },
      "source": [
        "args = FMArgs(len(train_df), num_dims=300, batch_size=4096,\n",
        "              linear_reg=0.1, factors_reg=0.00006)\n",
        "\n",
        "args_epochs = [100, 250, 500, 1000]\n",
        "args_names = [\"fm_b4096_aes_lr0.1_e{}\".format(args_epoch) for args_epoch\n",
        "              in args_epochs]\n",
        "\n",
        "fms = fit_fm_args_epochs(TfFM, args, args_names, args_epochs, train_df,\n",
        "                         val_query_df, val_df, load=load,\n",
        "                         sampler_fn=accepted_exp_sampler,\n",
        "                         val_sampler_fn=accepted_uniform_sampler)\n",
        "\n",
        "for fm, args_name in zip(fms, args_names):\n",
        "  eval_fm(fm, args_name, val_query_df, val_df, filter_user_tracks=True,\n",
        "          silent=True)"
      ],
      "execution_count": 0,
      "outputs": []
    },
    {
      "cell_type": "code",
      "metadata": {
        "id": "yLLxTSA6TgTf",
        "colab_type": "code",
        "colab": {}
      },
      "source": [
        "args = FMArgs(len(train_df), num_dims=300, batch_size=4096,\n",
        "              linear_reg=0.1, factors_reg=0.00006)\n",
        "\n",
        "args_epochs = [100, 250, 500, 1000]\n",
        "args_names = [\"bfm_lr0.1_e{}\".format(args_epoch) for args_epoch\n",
        "              in args_epochs]\n",
        "\n",
        "fms = fit_fm_args_epochs(TfBatchFM, args, args_names, args_epochs, train_df,\n",
        "                         val_query_df, val_df, load=load,\n",
        "                         sampler_fn=accepted_crossbatch_sampler,\n",
        "                         val_sampler_fn=accepted_crossbatch_sampler)\n",
        "\n",
        "for fm, args_name in zip(fms, args_names):\n",
        "  eval_fm(fm, args_name, val_query_df, val_df, filter_user_tracks=True,\n",
        "          silent=True)"
      ],
      "execution_count": 0,
      "outputs": []
    },
    {
      "cell_type": "code",
      "metadata": {
        "id": "SDrnry9EH4C0",
        "colab_type": "code",
        "outputId": "1cc2b065-4cae-47a7-8f7f-d1d6f2f53c98",
        "colab": {
          "base_uri": "https://localhost:8080/",
          "height": 336
        }
      },
      "source": [
        "args = FMArgs(len(train_df), num_dims=300, batch_size=4096,\n",
        "              linear_reg=0.1, factors_reg=0.00006, lr=0.3)\n",
        "\n",
        "args_epochs = [100, 250, 500, 1000]\n",
        "args_names = [\"bfm_lr0.3_e{}\".format(args_epoch) for args_epoch\n",
        "              in args_epochs]\n",
        "\n",
        "fms = fit_fm_args_epochs(TfBatchFM, args, args_names, args_epochs, train_df,\n",
        "                         val_query_df, val_df, load=load,\n",
        "                         sampler_fn=accepted_crossbatch_sampler,\n",
        "                         val_sampler_fn=accepted_crossbatch_sampler)\n",
        "\n",
        "for fm, args_name in zip(fms, args_names):\n",
        "  eval_fm(fm, args_name, val_query_df, val_df, filter_user_tracks=True,\n",
        "          silent=True)"
      ],
      "execution_count": 0,
      "outputs": [
        {
          "output_type": "stream",
          "text": [
            "INFO:tensorflow:Restoring parameters from /drive/My Drive/models/30music/bfm_lr0.3_e100.ckpt\n",
            "0.014000 hit rate\n",
            "0.066675 ndcg\n",
            "40.92166s trans time\n",
            "INFO:tensorflow:Restoring parameters from /drive/My Drive/models/30music/bfm_lr0.3_e250.ckpt\n",
            "0.017000 hit rate\n",
            "0.077567 ndcg\n",
            "40.91264s trans time\n",
            "INFO:tensorflow:Restoring parameters from /drive/My Drive/models/30music/bfm_lr0.3_e500.ckpt\n",
            "0.019000 hit rate\n",
            "0.080808 ndcg\n",
            "40.91556s trans time\n",
            "INFO:tensorflow:Restoring parameters from /drive/My Drive/models/30music/bfm_lr0.3_e1000.ckpt\n",
            "0.018000 hit rate\n",
            "0.082412 ndcg\n",
            "\n",
            "26040.34896s fit time\n",
            "40.94096s trans time\n"
          ],
          "name": "stdout"
        }
      ]
    },
    {
      "cell_type": "code",
      "metadata": {
        "id": "dETjgyRePZA8",
        "colab_type": "code",
        "colab": {}
      },
      "source": [
        "args = FMArgs(len(train_df), num_dims=300, batch_size=4096,\n",
        "              linear_reg=0.1, factors_reg=0.00006, lr=0.6)\n",
        "\n",
        "args_epochs = [100, 250, 500, 1000]\n",
        "args_names = [\"bfm_lr0.6_e{}\".format(args_epoch) for args_epoch\n",
        "              in args_epochs]\n",
        "\n",
        "fms = fit_fm_args_epochs(TfBatchFM, args, args_names, args_epochs, train_df,\n",
        "                         val_query_df, val_df, load=load,\n",
        "                         sampler_fn=accepted_crossbatch_sampler,\n",
        "                         val_sampler_fn=accepted_crossbatch_sampler)\n",
        "\n",
        "for fm, args_name in zip(fms, args_names):\n",
        "  eval_fm(fm, args_name, val_query_df, val_df, filter_user_tracks=True,\n",
        "          silent=True)"
      ],
      "execution_count": 0,
      "outputs": []
    },
    {
      "cell_type": "code",
      "metadata": {
        "id": "CoLErq7YS9L-",
        "colab_type": "code",
        "outputId": "30898ff2-56d2-49f5-b021-ebb2275494d2",
        "colab": {
          "base_uri": "https://localhost:8080/",
          "height": 308
        }
      },
      "source": [
        "fm_names = [\"fm_b4096_lr0.1_e{}\".format(args_epoch) for args_epoch in args_epochs]\n",
        "fm_ndcgs = [fm_evals[fm_name][\"ndcg\"] for fm_name in fm_names]\n",
        "\n",
        "fm1_names = [\"fm_b4096_lr0.6_e{}\".format(args_epoch) for args_epoch in args_epochs]\n",
        "fm1_ndcgs = [fm_evals[fm_name][\"ndcg\"] for fm_name in fm1_names]\n",
        "\n",
        "fm_aes_names = [\"fm_b4096_aes_lr0.1_e{}\".format(args_epoch) for args_epoch in args_epochs]\n",
        "fm_aes_ndcgs = [fm_evals[fm_name][\"ndcg\"] for fm_name in fm_aes_names]\n",
        "\n",
        "bfm_names = [\"bfm_lr0.1_e{}\".format(args_epoch) for args_epoch in args_epochs]\n",
        "bfm_ndcgs = [fm_evals[bfm_name][\"ndcg\"] for bfm_name in bfm_names]\n",
        "\n",
        "bfm1_names = [\"bfm_lr0.6_e{}\".format(args_epoch) for args_epoch in args_epochs]\n",
        "bfm1_ndcgs = [fm_evals[bfm_name][\"ndcg\"] for bfm_name in bfm1_names]\n",
        "\n",
        "plt.figure(figsize=(6*2, 4))\n",
        "plt.suptitle(\"30Music\")\n",
        "\n",
        "plt.subplot(1, 2, 1)\n",
        "\n",
        "plt.plot(args_epochs, fm_ndcgs, \"o--\", color=\"yellow\")\n",
        "plt.plot(args_epochs, fm1_ndcgs, \"o--\", color=\"orange\")\n",
        "plt.plot(args_epochs, fm_aes_ndcgs, \"o--\", color=\"green\")\n",
        "plt.plot(args_epochs, bfm_ndcgs, \"o--\", color=\"red\")\n",
        "plt.plot(args_epochs, bfm1_ndcgs, \"o--\", color=\"darkred\")\n",
        "plt.xticks(args_epochs)\n",
        "plt.ylim(bottom=0.0, top=0.09)\n",
        "\n",
        "yellow_patch = mpatches.Patch(color=\"yellow\", label=\"FM, lr 0.1\")\n",
        "orange_patch = mpatches.Patch(color=\"orange\", label=\"FM, lr 0.6\")\n",
        "green_patch = mpatches.Patch(color=\"green\", label=\"FM, exp sampling, lr 0.1\")\n",
        "red_patch = mpatches.Patch(color=\"red\", label=\"FM, cross-batch, lr 0.1\")\n",
        "dred_patch = mpatches.Patch(color=\"darkred\", label=\"FM, cross-batch, lr 0.6\")\n",
        "patches = [dred_patch, red_patch, green_patch, orange_patch, yellow_patch]\n",
        "plt.legend(handles=patches)\n",
        "\n",
        "plt.grid(True, axis=\"y\")\n",
        "plt.ylabel(\"NDCG\")\n",
        "plt.xlabel(\"epochs\")\n",
        "\n",
        "fm_aucs = fm_fits[\"fm_b4096_lr0.1_e1000\"][\"val_aucs\"]\n",
        "fm1_aucs = fm_fits[\"fm_b4096_lr0.6_e1000\"][\"val_aucs\"]\n",
        "fm_aes_aucs = fm_fits[\"fm_b4096_aes_lr0.1_e1000\"][\"val_aucs\"]\n",
        "\n",
        "bfm_aucs = fm_fits[\"bfm_lr0.1_e1000\"][\"val_aucs\"]\n",
        "bfm1_aucs = fm_fits[\"bfm_lr0.6_e1000\"][\"val_aucs\"]\n",
        "\n",
        "val_epochs = [i * args.eval_freq for i in range(len(fm_aucs))]\n",
        "\n",
        "plt.subplot(1, 2, 2)\n",
        "\n",
        "plt.grid(True, axis=\"y\")\n",
        "plt.plot(val_epochs, fm_aucs, color=\"yellow\")\n",
        "plt.plot(val_epochs, fm1_aucs, color=\"orange\")\n",
        "plt.plot(val_epochs, fm_aes_aucs, color=\"green\")\n",
        "plt.plot(val_epochs, bfm_aucs, color=\"red\")\n",
        "plt.plot(val_epochs, bfm1_aucs, color=\"darkred\")\n",
        "plt.ylim(bottom=0.75, top=1.0)\n",
        "\n",
        "plt.ylabel(\"AUC\")\n",
        "plt.xlabel(\"epochs\");"
      ],
      "execution_count": 0,
      "outputs": [
        {
          "output_type": "display_data",
          "data": {
            "image/png": "[encoded data removed]",
            "text/plain": [
              "<Figure size 864x288 with 2 Axes>"
            ]
          },
          "metadata": {
            "tags": []
          }
        }
      ]
    },
    {
      "cell_type": "code",
      "metadata": {
        "id": "LHXeDrQKBNWH",
        "colab_type": "code",
        "outputId": "1f08cc3b-0837-49f9-d5b8-cf4f3da48cd6",
        "colab": {
          "base_uri": "https://localhost:8080/",
          "height": 77
        }
      },
      "source": [
        "args_labels = [\"FM, lr 0.1\", \"FM, lr 0.3\",\n",
        "               \"FM, cross-batch, lr 0.1\", \"FM, cross-batch, lr 0.3\"]\n",
        "args_names = [\"fm_b4096_lr0.1_e1000\", \"fm_b4096_lr0.6_e1000\",\n",
        "              \"bfm_lr0.1_e1000\", \"bfm_lr0.6_e1000\"]\n",
        "fit_times = [fm_fits[args_name][\"fit_time\"] for args_name in args_names]\n",
        "\n",
        "pd.DataFrame.from_records([fit_times], columns=args_labels, index=[\"Fit times\"])"
      ],
      "execution_count": 0,
      "outputs": [
        {
          "output_type": "execute_result",
          "data": {
            "text/html": [
              "<div>\n",
              "<style scoped>\n",
              "    .dataframe tbody tr th:only-of-type {\n",
              "        vertical-align: middle;\n",
              "    }\n",
              "\n",
              "    .dataframe tbody tr th {\n",
              "        vertical-align: top;\n",
              "    }\n",
              "\n",
              "    .dataframe thead th {\n",
              "        text-align: right;\n",
              "    }\n",
              "</style>\n",
              "<table border=\"1\" class=\"dataframe\">\n",
              "  <thead>\n",
              "    <tr style=\"text-align: right;\">\n",
              "      <th></th>\n",
              "      <th>FM, lr 0.1</th>\n",
              "      <th>FM, lr 0.3</th>\n",
              "      <th>FM, cross-batch, lr 0.1</th>\n",
              "      <th>FM, cross-batch, lr 0.3</th>\n",
              "    </tr>\n",
              "  </thead>\n",
              "  <tbody>\n",
              "    <tr>\n",
              "      <th>Fit times</th>\n",
              "      <td>4950.054115</td>\n",
              "      <td>4943.593726</td>\n",
              "      <td>10844.593405</td>\n",
              "      <td>11342.81601</td>\n",
              "    </tr>\n",
              "  </tbody>\n",
              "</table>\n",
              "</div>"
            ],
            "text/plain": [
              "            FM, lr 0.1  ...  FM, cross-batch, lr 0.3\n",
              "Fit times  4950.054115  ...              11342.81601\n",
              "\n",
              "[1 rows x 4 columns]"
            ]
          },
          "metadata": {
            "tags": []
          },
          "execution_count": 61
        }
      ]
    },
    {
      "cell_type": "code",
      "metadata": {
        "id": "qj9OpGNyBfsR",
        "colab_type": "code",
        "colab": {}
      },
      "source": [
        "sampler_names = [\"us\", \"aus\", \"alus\", \"aaus\",\n",
        "                 \"es\", \"aes\", \"ales\", \"aaes\",\n",
        "                 \"is\", \"ais\", \"alis\", \"aais\"]\n",
        "sampler_names = [\"fm_{}\".format(name) for name in sampler_names]\n",
        "sampler_fns = [uniform_sampler, accepted_uniform_sampler, accepted_album_uniform_sampler, accepted_artist_uniform_sampler,\n",
        "               exp_sampler, accepted_exp_sampler, accepted_album_exp_sampler, accepted_artist_exp_sampler,\n",
        "               instance_sampler, accepted_instance_sampler, accepted_album_instance_sampler, accepted_artist_instance_sampler]\n",
        "\n",
        "args = FMArgs(len(train_df), num_dims=300, linear_reg=0.3, factors_reg=0.0006)\n",
        "\n",
        "for sampler_name, sampler_fn in zip(sampler_names, sampler_fns):\n",
        "  fm = fit_fm_args(TfFM, args, sampler_name, train_df, val_query_df, val_df,\n",
        "                   load=load, sampler_fn=sampler_fn)\n",
        "  eval_fm(fm, sampler_name, val_query_df, val_df, filter_user_tracks=True,\n",
        "          silent=True)"
      ],
      "execution_count": 0,
      "outputs": []
    },
    {
      "cell_type": "code",
      "metadata": {
        "id": "El2J1kEIu-70",
        "colab_type": "code",
        "outputId": "724ecdf9-95d6-4d2a-e982-954ffad3c719",
        "colab": {
          "base_uri": "https://localhost:8080/",
          "height": 142
        }
      },
      "source": [
        "cols = [\"all\", \"track\", \"album\", \"artist\"]\n",
        "index = [\"uniform\", \"exp\", \"instance\"]\n",
        "rows = np.array([fm_evals[sampler_name][\"ndcg\"] for sampler_name\n",
        "                 in sampler_names])\n",
        "rows = rows.reshape((-1, len(cols)))\n",
        "sampler_df = pd.DataFrame.from_records(rows, columns=cols, index=index)\n",
        "sampler_df"
      ],
      "execution_count": 0,
      "outputs": [
        {
          "output_type": "execute_result",
          "data": {
            "text/html": [
              "<div>\n",
              "<style scoped>\n",
              "    .dataframe tbody tr th:only-of-type {\n",
              "        vertical-align: middle;\n",
              "    }\n",
              "\n",
              "    .dataframe tbody tr th {\n",
              "        vertical-align: top;\n",
              "    }\n",
              "\n",
              "    .dataframe thead th {\n",
              "        text-align: right;\n",
              "    }\n",
              "</style>\n",
              "<table border=\"1\" class=\"dataframe\">\n",
              "  <thead>\n",
              "    <tr style=\"text-align: right;\">\n",
              "      <th></th>\n",
              "      <th>all</th>\n",
              "      <th>track</th>\n",
              "      <th>album</th>\n",
              "      <th>artist</th>\n",
              "    </tr>\n",
              "  </thead>\n",
              "  <tbody>\n",
              "    <tr>\n",
              "      <th>uniform</th>\n",
              "      <td>0.077310</td>\n",
              "      <td>0.077482</td>\n",
              "      <td>0.080259</td>\n",
              "      <td>0.080088</td>\n",
              "    </tr>\n",
              "    <tr>\n",
              "      <th>exp</th>\n",
              "      <td>0.078505</td>\n",
              "      <td>0.080536</td>\n",
              "      <td>0.081068</td>\n",
              "      <td>0.080419</td>\n",
              "    </tr>\n",
              "    <tr>\n",
              "      <th>instance</th>\n",
              "      <td>0.078829</td>\n",
              "      <td>0.079786</td>\n",
              "      <td>0.080914</td>\n",
              "      <td>0.081368</td>\n",
              "    </tr>\n",
              "  </tbody>\n",
              "</table>\n",
              "</div>"
            ],
            "text/plain": [
              "               all     track     album    artist\n",
              "uniform   0.077310  0.077482  0.080259  0.080088\n",
              "exp       0.078505  0.080536  0.081068  0.080419\n",
              "instance  0.078829  0.079786  0.080914  0.081368"
            ]
          },
          "metadata": {
            "tags": []
          },
          "execution_count": 58
        }
      ]
    },
    {
      "cell_type": "code",
      "metadata": {
        "id": "pG--lasSlqAF",
        "colab_type": "code",
        "colab": {}
      },
      "source": [
        "args = FMArgs(len(train_df), num_dims=300, batch_size=4096,\n",
        "              linear_reg=0.1, factors_reg=0.00006, lr=0.6, epochs=100)\n",
        "\n",
        "fm = fit_fm_args(TfBatchFM, args, \"bfm_us\", train_df, val_query_df,\n",
        "                 val_df, load=load)\n",
        "\n",
        "eval_fm(fm, \"bfm_us\", val_query_df, val_df, filter_user_tracks=True,\n",
        "        silent=True);"
      ],
      "execution_count": 0,
      "outputs": []
    },
    {
      "cell_type": "code",
      "metadata": {
        "id": "-iipTsvhys3u",
        "colab_type": "code",
        "colab": {}
      },
      "source": [
        "args = FMArgs(len(train_df), num_dims=300, batch_size=4096,\n",
        "              linear_reg=0.1, factors_reg=0.00006, lr=0.6, epochs=100)\n",
        "\n",
        "fm = fit_fm_args(TfBatchFM, args, \"bfm_als\", train_df, val_query_df,\n",
        "                 val_df, load=load,\n",
        "                 sampler_fn=accepted_album_crossbatch_sampler)\n",
        "\n",
        "eval_fm(fm, \"bfm_als\", val_query_df, val_df, filter_user_tracks=True,\n",
        "        silent=True);"
      ],
      "execution_count": 0,
      "outputs": []
    },
    {
      "cell_type": "code",
      "metadata": {
        "id": "jkysKxngygQZ",
        "colab_type": "code",
        "colab": {}
      },
      "source": [
        "args = FMArgs(len(train_df), num_dims=300, batch_size=4096,\n",
        "              linear_reg=0.1, factors_reg=0.00006, lr=0.6, epochs=100)\n",
        "\n",
        "fm = fit_fm_args(TfBatchFM, args, \"bfm_aas\", train_df, val_query_df,\n",
        "                 val_df, load=load,\n",
        "                 sampler_fn=accepted_artist_crossbatch_sampler)\n",
        "\n",
        "eval_fm(fm, \"bfm_aas\", val_query_df, val_df, filter_user_tracks=True,\n",
        "        silent=True);"
      ],
      "execution_count": 0,
      "outputs": []
    },
    {
      "cell_type": "code",
      "metadata": {
        "id": "osGOj0DPyyFz",
        "colab_type": "code",
        "outputId": "732eff39-e97b-437d-c3b5-653ebdf03dd3",
        "colab": {
          "base_uri": "https://localhost:8080/",
          "height": 80
        }
      },
      "source": [
        "cols = [\"all\", \"track\", \"album\", \"artist\"]\n",
        "index = [\"cross-batch\"]\n",
        "rows = np.array([fm_evals[sampler_name][\"ndcg\"] for sampler_name\n",
        "                 in [ \"bfm_us\", \"bfm_lr0.6_e100\", \"bfm_als\", \"bfm_aas\"]])\n",
        "rows = rows.reshape((-1, len(cols)))\n",
        "pd.DataFrame.from_records(rows, columns=cols, index=index)"
      ],
      "execution_count": 0,
      "outputs": [
        {
          "output_type": "execute_result",
          "data": {
            "text/html": [
              "<div>\n",
              "<style scoped>\n",
              "    .dataframe tbody tr th:only-of-type {\n",
              "        vertical-align: middle;\n",
              "    }\n",
              "\n",
              "    .dataframe tbody tr th {\n",
              "        vertical-align: top;\n",
              "    }\n",
              "\n",
              "    .dataframe thead th {\n",
              "        text-align: right;\n",
              "    }\n",
              "</style>\n",
              "<table border=\"1\" class=\"dataframe\">\n",
              "  <thead>\n",
              "    <tr style=\"text-align: right;\">\n",
              "      <th></th>\n",
              "      <th>all</th>\n",
              "      <th>track</th>\n",
              "      <th>album</th>\n",
              "      <th>artist</th>\n",
              "    </tr>\n",
              "  </thead>\n",
              "  <tbody>\n",
              "    <tr>\n",
              "      <th>cross-batch</th>\n",
              "      <td>0.056132</td>\n",
              "      <td>0.067748</td>\n",
              "      <td>0.069687</td>\n",
              "      <td>0.070268</td>\n",
              "    </tr>\n",
              "  </tbody>\n",
              "</table>\n",
              "</div>"
            ],
            "text/plain": [
              "                  all     track     album    artist\n",
              "cross-batch  0.056132  0.067748  0.069687  0.070268"
            ]
          },
          "metadata": {
            "tags": []
          },
          "execution_count": 68
        }
      ]
    },
    {
      "cell_type": "markdown",
      "metadata": {
        "id": "CeEhpjn9XjiU",
        "colab_type": "text"
      },
      "source": [
        "#### Features"
      ]
    },
    {
      "cell_type": "code",
      "metadata": {
        "id": "2MiKbD0KXkHx",
        "colab_type": "code",
        "colab": {}
      },
      "source": [
        "_, num_playlists, num_users, num_tracks, num_albums, num_artists = get_statistics(train_df)\n",
        "num_countries = train_df[\"country\"].nunique()\n",
        "num_genders = train_df[\"gender\"].nunique()\n",
        "num_ages = train_df[\"age\"].nunique()"
      ],
      "execution_count": 0,
      "outputs": []
    },
    {
      "cell_type": "code",
      "metadata": {
        "id": "dn1om3zmbmb1",
        "colab_type": "code",
        "outputId": "06bb97b0-66fb-4286-d499-042142591f43",
        "colab": {
          "base_uri": "https://localhost:8080/",
          "height": 136
        }
      },
      "source": [
        "args = FMArgs(len(train_df), num_dims=300, batch_size=4096,\n",
        "              linear_reg=0.1, factors_reg=0.00006, lr=0.6, epochs=100)\n",
        "\n",
        "fm = fit_fm_args(TfBatchFM, args, \"bfm_useritemfeats\", train_df, val_query_df,\n",
        "                 val_df, load=load,\n",
        "                 sampler_fn=accepted_artist_crossbatch_sampler,\n",
        "                 val_sampler_fn=accepted_crossbatch_sampler,\n",
        "                 feature_fn=df2usersitemfeats({\n",
        "                     \"albid\": num_albums / num_tracks,\n",
        "                     \"artid\": num_artists / num_tracks}))\n",
        "\n",
        "eval_fm(fm, \"bfm_useritemfeats\", val_query_df, val_df, filter_user_tracks=True);"
      ],
      "execution_count": 0,
      "outputs": [
        {
          "output_type": "stream",
          "text": [
            "INFO:tensorflow:Restoring parameters from /drive/My Drive/models/30music/bfm_useritemfeats.ckpt\n",
            "0.015000 hit rate\n",
            "0.086507 ndcg\n",
            "\n",
            "1519.57081s fit time\n",
            "61.30262s trans time\n"
          ],
          "name": "stdout"
        }
      ]
    },
    {
      "cell_type": "code",
      "metadata": {
        "id": "3FgfLFJl8tfW",
        "colab_type": "code",
        "outputId": "4516d422-63be-4e5d-f454-05279193d69c",
        "colab": {
          "base_uri": "https://localhost:8080/",
          "height": 136
        }
      },
      "source": [
        "args = FMArgs(len(train_df), num_dims=300, batch_size=4096,\n",
        "              linear_reg=0.1, factors_reg=0.00006, lr=0.6, epochs=100)\n",
        "\n",
        "fm = fit_fm_args(TfBatchFM, args, \"bfm_all\", train_df, val_query_df,\n",
        "                 val_df, load=load,\n",
        "                 sampler_fn=accepted_artist_crossbatch_sampler,\n",
        "                 val_sampler_fn=accepted_crossbatch_sampler,\n",
        "                 feature_fn=df2all({\n",
        "                     \"albid\": num_albums / num_tracks,\n",
        "                     \"artid\": num_artists / num_tracks,\n",
        "                     \"userid\": 0.0,\n",
        "                     \"country\": num_countries / num_playlists,\n",
        "                     \"gender\": num_genders / num_playlists,\n",
        "                     \"age\": num_ages / num_playlists}))\n",
        "\n",
        "fm_df = eval_fm(fm, \"bfm_all\", val_query_df, val_df,\n",
        "                filter_user_tracks=True)"
      ],
      "execution_count": 0,
      "outputs": [
        {
          "output_type": "stream",
          "text": [
            "INFO:tensorflow:Restoring parameters from /drive/My Drive/models/30music/bfm_all.ckpt\n",
            "0.015000 hit rate\n",
            "0.086181 ndcg\n",
            "\n",
            "1567.38457s fit time\n",
            "88.38654s trans time\n"
          ],
          "name": "stdout"
        }
      ]
    },
    {
      "cell_type": "code",
      "metadata": {
        "id": "01p5oSz7NJds",
        "colab_type": "code",
        "outputId": "bbfd5732-7138-4cef-9d26-46638c44e074",
        "colab": {
          "base_uri": "https://localhost:8080/",
          "height": 136
        }
      },
      "source": [
        "args = FMArgs(len(train_df), num_dims=300, batch_size=4096,\n",
        "              linear_reg=0.1, factors_reg=0.00006, lr=0.6, epochs=100)\n",
        "\n",
        "fm = fit_fm_args(TfBatchFM, args, \"bfm_prev\", train_df, val_query_df,\n",
        "                 val_df, load=load,\n",
        "                 sampler_fn=accepted_artist_crossbatch_sampler,\n",
        "                 val_sampler_fn=accepted_crossbatch_sampler,\n",
        "                 feature_fn=df2usersprevitems())\n",
        "\n",
        "eval_fm(fm, \"bfm_prev\", val_query_df, val_df, filter_user_tracks=True);"
      ],
      "execution_count": 0,
      "outputs": [
        {
          "output_type": "stream",
          "text": [
            "INFO:tensorflow:Restoring parameters from /drive/My Drive/models/30music/bfm_prev.ckpt\n",
            "0.014000 hit rate\n",
            "0.053138 ndcg\n",
            "\n",
            "1655.14260s fit time\n",
            "59.90899s trans time\n"
          ],
          "name": "stdout"
        }
      ]
    },
    {
      "cell_type": "code",
      "metadata": {
        "id": "zPtssq-aGXXP",
        "colab_type": "code",
        "outputId": "bc246575-e378-4d54-fee4-4b3b55556eca",
        "colab": {
          "base_uri": "https://localhost:8080/",
          "height": 136
        }
      },
      "source": [
        "args = FMArgs(len(train_df), num_dims=300, batch_size=4096,\n",
        "              linear_reg=0.1, factors_reg=0.00006, lr=0.6, epochs=100)\n",
        "\n",
        "fm = fit_fm_args(TfBatchFM, args, \"bfm_prev_05\", train_df, val_query_df,\n",
        "                 val_df, load=load,\n",
        "                 sampler_fn=accepted_artist_crossbatch_sampler,\n",
        "                 val_sampler_fn=accepted_crossbatch_sampler,\n",
        "                 feature_fn=df2usersprevitems({\"prev_traid\": 0.5}))\n",
        "\n",
        "eval_fm(fm, \"bfm_prev_05\", val_query_df, val_df, filter_user_tracks=True);"
      ],
      "execution_count": 0,
      "outputs": [
        {
          "output_type": "stream",
          "text": [
            "INFO:tensorflow:Restoring parameters from /drive/My Drive/models/30music/bfm_prev_05.ckpt\n",
            "0.016000 hit rate\n",
            "0.077203 ndcg\n",
            "\n",
            "1675.85074s fit time\n",
            "53.45848s trans time\n"
          ],
          "name": "stdout"
        }
      ]
    },
    {
      "cell_type": "code",
      "metadata": {
        "id": "ecCRbdHq_mtx",
        "colab_type": "code",
        "outputId": "cd15a553-205e-4d8a-9a0e-4c1c92ed3b87",
        "colab": {
          "base_uri": "https://localhost:8080/",
          "height": 136
        }
      },
      "source": [
        "args = FMArgs(len(train_df), num_dims=300, batch_size=4096,\n",
        "              linear_reg=0.1, factors_reg=0.00006, lr=0.6, epochs=100)\n",
        "\n",
        "fm = fit_fm_args(TfBatchFM, args, \"bfm_prev_025\", train_df, val_query_df,\n",
        "                 val_df, load=load,\n",
        "                 sampler_fn=accepted_artist_crossbatch_sampler,\n",
        "                 val_sampler_fn=accepted_crossbatch_sampler,\n",
        "                 feature_fn=df2usersprevitems({\"prev_traid\": 0.25}))\n",
        "\n",
        "eval_fm(fm, \"bfm_prev_025\", val_query_df, val_df, filter_user_tracks=True);"
      ],
      "execution_count": 0,
      "outputs": [
        {
          "output_type": "stream",
          "text": [
            "INFO:tensorflow:Restoring parameters from /drive/My Drive/models/30music/bfm_prev_025.ckpt\n",
            "0.016000 hit rate\n",
            "0.072293 ndcg\n",
            "\n",
            "1678.53372s fit time\n",
            "53.10823s trans time\n"
          ],
          "name": "stdout"
        }
      ]
    },
    {
      "cell_type": "code",
      "metadata": {
        "id": "cnd97-8N3erf",
        "colab_type": "code",
        "outputId": "33dee6dc-185d-4df0-84af-4dbbe4c947ae",
        "colab": {
          "base_uri": "https://localhost:8080/",
          "height": 136
        }
      },
      "source": [
        "args = FMArgs(len(train_df), num_dims=300, batch_size=4096,\n",
        "              linear_reg=0.1, factors_reg=0.00006, lr=0.6, epochs=100)\n",
        "\n",
        "fm = fit_fm_args(TfBatchFM, args, \"bfm_prev_01\", train_df, val_query_df,\n",
        "                 val_df, load=load,\n",
        "                 sampler_fn=accepted_artist_crossbatch_sampler,\n",
        "                 val_sampler_fn=accepted_crossbatch_sampler,\n",
        "                 feature_fn=df2usersprevitems({\"prev_traid\": 0.1}))\n",
        "\n",
        "eval_fm(fm, \"bfm_prev_01\", val_query_df, val_df, filter_user_tracks=True);"
      ],
      "execution_count": 0,
      "outputs": [
        {
          "output_type": "stream",
          "text": [
            "INFO:tensorflow:Restoring parameters from /drive/My Drive/models/30music/bfm_prev_01.ckpt\n",
            "0.012000 hit rate\n",
            "0.070658 ndcg\n",
            "\n",
            "1691.72133s fit time\n",
            "52.61289s trans time\n"
          ],
          "name": "stdout"
        }
      ]
    },
    {
      "cell_type": "code",
      "metadata": {
        "id": "7CGrnbZR3lPV",
        "colab_type": "code",
        "outputId": "db772e81-c83a-48c8-9557-62689af82da2",
        "colab": {
          "base_uri": "https://localhost:8080/",
          "height": 136
        }
      },
      "source": [
        "args = FMArgs(len(train_df), num_dims=300, batch_size=4096,\n",
        "              linear_reg=0.1, factors_reg=0.00006, lr=0.6, epochs=100)\n",
        "\n",
        "fm = fit_fm_args(TfBatchFM, args, \"bfm_previtemfeats\", train_df, val_query_df,\n",
        "                 val_df, load=load,\n",
        "                 sampler_fn=accepted_artist_crossbatch_sampler,\n",
        "                 val_sampler_fn=accepted_crossbatch_sampler,\n",
        "                 feature_fn=df2usersprevitemfeats({\n",
        "                     \"prev_traid\": 0.5,\n",
        "                     \"prev_albid\": 0.5 * num_albums / num_tracks,\n",
        "                     \"prev_artid\": 0.5 * num_artists / num_tracks,\n",
        "                     \"albid\": num_albums / num_tracks,\n",
        "                     \"artid\": num_artists / num_tracks}))\n",
        "\n",
        "eval_fm(fm, \"bfm_previtemfeats\", val_query_df, val_df, filter_user_tracks=True);"
      ],
      "execution_count": 0,
      "outputs": [
        {
          "output_type": "stream",
          "text": [
            "INFO:tensorflow:Restoring parameters from /drive/My Drive/models/30music/bfm_previtemfeats.ckpt\n",
            "0.023000 hit rate\n",
            "0.096325 ndcg\n",
            "\n",
            "2033.25300s fit time\n",
            "99.39940s trans time\n"
          ],
          "name": "stdout"
        }
      ]
    },
    {
      "cell_type": "code",
      "metadata": {
        "id": "FbCfm5zXoPBv",
        "colab_type": "code",
        "outputId": "080fc2a1-4878-4fee-a9ad-90e0614cf1e9",
        "colab": {
          "base_uri": "https://localhost:8080/",
          "height": 136
        }
      },
      "source": [
        "args = FMArgs(len(train_df), num_dims=300, batch_size=4096,\n",
        "              linear_reg=0.1, factors_reg=0.00006, lr=0.6, epochs=100)\n",
        "\n",
        "fm = fit_fm_args(TfBatchFM, args, \"bfm_prevall\", train_df, val_query_df,\n",
        "                 val_df, load=load,\n",
        "                 sampler_fn=accepted_artist_crossbatch_sampler,\n",
        "                 val_sampler_fn=accepted_crossbatch_sampler,\n",
        "                 feature_fn=df2prevall({\n",
        "                     \"prev_traid\": 0.5,\n",
        "                     \"prev_albid\": 0.5 * num_albums / num_tracks,\n",
        "                     \"prev_artid\": 0.5 * num_artists / num_tracks,\n",
        "                     \"albid\": num_albums / num_tracks,\n",
        "                     \"artid\": num_artists / num_tracks,\n",
        "                     \"userid\": 0.0,\n",
        "                     \"country\": num_countries / num_playlists,\n",
        "                     \"gender\": num_genders / num_playlists,\n",
        "                     \"age\": num_ages / num_playlists}))\n",
        "\n",
        "eval_fm(fm, \"bfm_prevall\", val_query_df, val_df, filter_user_tracks=True);"
      ],
      "execution_count": 0,
      "outputs": [
        {
          "output_type": "stream",
          "text": [
            "INFO:tensorflow:Restoring parameters from /drive/My Drive/models/30music/bfm_prevall.ckpt\n",
            "0.016000 hit rate\n",
            "0.095473 ndcg\n",
            "\n",
            "2071.82551s fit time\n",
            "146.17247s trans time\n"
          ],
          "name": "stdout"
        }
      ]
    },
    {
      "cell_type": "code",
      "metadata": {
        "id": "RYvkUsi6lKOi",
        "colab_type": "code",
        "outputId": "4e792184-ab53-46e6-975a-87075a6dad74",
        "colab": {
          "base_uri": "https://localhost:8080/",
          "height": 125
        }
      },
      "source": [
        "args = FMArgs(len(train_df), num_dims=300, batch_size=4096,\n",
        "              linear_reg=0.1, factors_reg=0.00006, lr=0.6, epochs=100)\n",
        "\n",
        "# train with TfBatchFM and load with SafeTfBatchFM - faster\n",
        "fm = fit_fm_args(SafeTfBatchFM, args, \"bfm_encodedusersprevall\", train_df,\n",
        "                 val_query_df, val_df, load=load,\n",
        "                 sampler_fn=accepted_artist_crossbatch_sampler,\n",
        "                 val_sampler_fn=accepted_crossbatch_sampler,\n",
        "                 feature_fn=df2encodedusersprevall({\n",
        "                     \"prev_traid\": 0.5,\n",
        "                     \"prev_albid\": 0.5 * num_albums / num_tracks,\n",
        "                     \"prev_artid\": 0.5 * num_artists / num_tracks,\n",
        "                     \"albid\": num_albums / num_tracks,\n",
        "                     \"artid\": num_artists / num_tracks,\n",
        "                     \"userid\": 0.0,\n",
        "                     \"country\": num_countries / num_playlists,\n",
        "                     \"gender\": num_genders / num_playlists,\n",
        "                     \"age\": num_ages / num_playlists}))\n",
        "\n",
        "eval_fm(fm, \"bfm_encodedusersprevall\", val_query_df, val_df,\n",
        "        filter_user_tracks=True);"
      ],
      "execution_count": 0,
      "outputs": [
        {
          "output_type": "stream",
          "text": [
            "INFO:tensorflow:Restoring parameters from /drive/My Drive/models/30music/bfm_encodedusersprevall.ckpt\n",
            "0.018000 hit rate\n",
            "0.091404 ndcg\n",
            "\n",
            "2496.87954s fit time\n",
            "449.93479s trans time\n"
          ],
          "name": "stdout"
        }
      ]
    },
    {
      "cell_type": "code",
      "metadata": {
        "id": "m4lBiMjMfXvr",
        "colab_type": "code",
        "outputId": "a099dd43-cfa5-4d12-edaf-814b8d263846",
        "colab": {
          "base_uri": "https://localhost:8080/",
          "height": 125
        }
      },
      "source": [
        "args = FMArgs(len(train_df), num_dims=300, batch_size=4096,\n",
        "              linear_reg=0.1, factors_reg=0.00006, lr=0.6, epochs=100)\n",
        "\n",
        "# train with TfBatchFM and load with SafeTfBatchFM - faster\n",
        "fm = fit_fm_args(SafeTfBatchFM, args, \"bfm_encodedusersprevall_equi\", train_df,\n",
        "                 val_query_df, val_df, load=load,\n",
        "                 sampler_fn=accepted_artist_crossbatch_sampler,\n",
        "                 val_sampler_fn=accepted_crossbatch_sampler,\n",
        "                 feature_fn=df2encodedusersprevall({\n",
        "                     \"prev_traid\": 0.5,\n",
        "                     \"prev_albid\": 0.5 * num_albums / num_tracks,\n",
        "                     \"prev_artid\": 0.5 * num_artists / num_tracks,\n",
        "                     \"albid\": num_albums / num_tracks,\n",
        "                     \"artid\": num_artists / num_tracks,\n",
        "                     \"userid\": 0.0,\n",
        "                     \"country\": num_countries / num_playlists,\n",
        "                     \"gender\": num_genders / num_playlists,\n",
        "                     \"age\": num_ages / num_playlists},\n",
        "                     equi_weight_normalize))\n",
        "\n",
        "eval_fm(fm, \"bfm_encodedusersprevall_equi\", val_query_df, val_df,\n",
        "        filter_user_tracks=True);"
      ],
      "execution_count": 0,
      "outputs": [
        {
          "output_type": "stream",
          "text": [
            "INFO:tensorflow:Restoring parameters from /drive/My Drive/models/30music/bfm_encodedusersprevall_equi.ckpt\n",
            "0.020000 hit rate\n",
            "0.088751 ndcg\n",
            "\n",
            "2510.13756s fit time\n",
            "426.81073s trans time\n"
          ],
          "name": "stdout"
        }
      ]
    },
    {
      "cell_type": "code",
      "metadata": {
        "id": "P1gDqoEzsxfu",
        "colab_type": "code",
        "outputId": "85039d8b-11da-40cd-df7e-ff6ecf4a1f2e",
        "colab": {
          "base_uri": "https://localhost:8080/",
          "height": 125
        }
      },
      "source": [
        "args = FMArgs(len(train_df), num_dims=300, batch_size=4096,\n",
        "              linear_reg=0.1, factors_reg=0.00006, lr=0.6, epochs=100)\n",
        "\n",
        "# train with TfBatchFM and load with SafeTfBatchFM - faster\n",
        "fm = fit_fm_args(SafeTfBatchFM, args, \"bfm_encodedusersprevall_pop\", train_df,\n",
        "                 val_query_df, val_df, load=load,\n",
        "                 sampler_fn=accepted_artist_crossbatch_sampler,\n",
        "                 val_sampler_fn=accepted_crossbatch_sampler,\n",
        "                 feature_fn=df2encodedusersprevall({\n",
        "                     \"prev_traid\": 0.5,\n",
        "                     \"prev_albid\": 0.5 * num_albums / num_tracks,\n",
        "                     \"prev_artid\": 0.5 * num_artists / num_tracks,\n",
        "                     \"albid\": num_albums / num_tracks,\n",
        "                     \"artid\": num_artists / num_tracks,\n",
        "                     \"userid\": 0.0,\n",
        "                     \"country\": num_countries / num_playlists,\n",
        "                     \"gender\": num_genders / num_playlists,\n",
        "                     \"age\": num_ages / num_playlists},\n",
        "                     sqrt_popularity_weight_normalize))\n",
        "\n",
        "eval_fm(fm, \"bfm_encodedusersprevall_pop\", val_query_df, val_df,\n",
        "        filter_user_tracks=True);"
      ],
      "execution_count": 0,
      "outputs": [
        {
          "output_type": "stream",
          "text": [
            "INFO:tensorflow:Restoring parameters from /drive/My Drive/models/30music/bfm_encodedusersprevall_pop.ckpt\n",
            "0.022000 hit rate\n",
            "0.098525 ndcg\n",
            "\n",
            "2557.79169s fit time\n",
            "422.85574s trans time\n"
          ],
          "name": "stdout"
        }
      ]
    },
    {
      "cell_type": "markdown",
      "metadata": {
        "id": "pufq3vWz7RvB",
        "colab_type": "text"
      },
      "source": [
        "### Metric factorization machines"
      ]
    },
    {
      "cell_type": "markdown",
      "metadata": {
        "id": "LN1BiUp_7SNd",
        "colab_type": "text"
      },
      "source": [
        "#### Hyperparameters"
      ]
    },
    {
      "cell_type": "code",
      "metadata": {
        "id": "hwvilgmZ7XXO",
        "colab_type": "code",
        "colab": {}
      },
      "source": [
        "norms = [1.0, 1.25, 1.5, 1.75, 2.0, 2.25, 2.5]\n",
        "norm_names = [\"metricfm_norm{}\".format(norm) for norm in norms]\n",
        "\n",
        "for norm, norm_name in zip(norms, norm_names):\n",
        "  args = MetricFMArgs(len(train_df), linear_reg=0.3, factors_reg=1.0,\n",
        "                      max_norm=norm)\n",
        "  fm = fit_fm_args(TfMetricFM, args, norm_name, train_df, val_query_df, val_df,\n",
        "                   load=load)\n",
        "  eval_fm(fm, norm_name, val_query_df, val_df, filter_user_tracks=True)"
      ],
      "execution_count": 0,
      "outputs": []
    },
    {
      "cell_type": "code",
      "metadata": {
        "id": "FQrF0z_58QCi",
        "colab_type": "code",
        "colab": {}
      },
      "source": [
        "norms = [1.0, 1.25, 1.5, 1.75, 2.0, 2.25, 2.5]\n",
        "norm_lr1_names = [\"metricfm_norm{}_lr0.6\".format(norm) for norm in norms]\n",
        "\n",
        "for norm, norm_name in zip(norms, norm_lr1_names):\n",
        "  args = MetricFMArgs(len(train_df), linear_reg=0.3, factors_reg=1.0,\n",
        "                      max_norm=norm, lr=0.6)\n",
        "  fm = fit_fm_args(TfMetricFM, args, norm_name, train_df, val_query_df, val_df,\n",
        "                   load=load)\n",
        "  eval_fm(fm, norm_name, val_query_df, val_df, filter_user_tracks=True)"
      ],
      "execution_count": 0,
      "outputs": []
    },
    {
      "cell_type": "code",
      "metadata": {
        "id": "SukJ_GBye_0a",
        "colab_type": "code",
        "outputId": "4efaabe9-40ce-4841-ba8e-5dcae933b0d9",
        "colab": {
          "base_uri": "https://localhost:8080/",
          "height": 241
        }
      },
      "source": [
        "norm_ndcgs = [fm_evals[norm_name][\"ndcg\"] for norm_name in norm_names]\n",
        "norm_lr1_ndcgs = [fm_evals[norm_name][\"ndcg\"] for norm_name in norm_lr1_names]\n",
        "\n",
        "plt.figure(figsize=(6, 3))\n",
        "\n",
        "plt.plot(norms, norm_ndcgs, \"o--\", color=\"yellow\")\n",
        "plt.plot(norms, norm_lr1_ndcgs, \"o--\", color=\"orange\")\n",
        "plt.xticks(norms)\n",
        "plt.ylim(bottom=0.0, top=0.09)\n",
        "plt.grid(True, axis=\"y\")\n",
        "\n",
        "yellow_patch = mpatches.Patch(color=\"yellow\", label=\"FM, lr 0.1\")\n",
        "orange_patch = mpatches.Patch(color=\"orange\", label=\"FM, lr 0.6\")\n",
        "patches = [orange_patch, yellow_patch]\n",
        "plt.legend(handles=patches)\n",
        "\n",
        "plt.ylabel(\"NDCG\")\n",
        "plt.xlabel(\"L2 norm\")\n",
        "plt.title(\"30Music\");"
      ],
      "execution_count": 0,
      "outputs": [
        {
          "output_type": "display_data",
          "data": {
            "image/png": "[encoded data removed]",
            "text/plain": [
              "<Figure size 432x216 with 1 Axes>"
            ]
          },
          "metadata": {
            "tags": []
          }
        }
      ]
    },
    {
      "cell_type": "code",
      "metadata": {
        "id": "2J9Uhc4oBWJo",
        "colab_type": "code",
        "colab": {}
      },
      "source": [
        "regs = [0.1, 0.6]\n",
        "reg_names = [\"metricfm_lreg{}\".format(reg) for reg in regs]\n",
        "\n",
        "for reg, reg_name in zip(regs, reg_names):\n",
        "  args = MetricFMArgs(len(train_df), linear_reg=reg, factors_reg=1.0,\n",
        "                      max_norm=2.0)\n",
        "  fm = fit_fm_args(TfMetricFM, args, reg_name, train_df, val_query_df, val_df,\n",
        "                   load=load)\n",
        "  eval_fm(fm, reg_name, val_query_df, val_df, filter_user_tracks=True)"
      ],
      "execution_count": 0,
      "outputs": []
    },
    {
      "cell_type": "code",
      "metadata": {
        "id": "yWFUkoCWB0C7",
        "colab_type": "code",
        "outputId": "fd1ca7f3-41dd-4d1b-9b81-23afe5fe94fd",
        "colab": {
          "base_uri": "https://localhost:8080/",
          "height": 111
        }
      },
      "source": [
        "regs = [0.1, 0.3, 0.6]\n",
        "lreg_names = [\"metricfm_lreg0.1\", \"metricfm_norm2.0\", \"metricfm_lreg0.6\"]\n",
        "\n",
        "reg_ndcgs = [fm_evals[reg_name][\"ndcg\"] for reg_name in lreg_names]\n",
        "reg_hit_rates = [fm_evals[reg_name][\"hit_rate\"] for reg_name in lreg_names]\n",
        "pd.DataFrame.from_records([reg_ndcgs, reg_hit_rates], columns=regs,\n",
        "                          index=[\"NDCG\", \"Hit rate\"])"
      ],
      "execution_count": 0,
      "outputs": [
        {
          "output_type": "execute_result",
          "data": {
            "text/html": [
              "<div>\n",
              "<style scoped>\n",
              "    .dataframe tbody tr th:only-of-type {\n",
              "        vertical-align: middle;\n",
              "    }\n",
              "\n",
              "    .dataframe tbody tr th {\n",
              "        vertical-align: top;\n",
              "    }\n",
              "\n",
              "    .dataframe thead th {\n",
              "        text-align: right;\n",
              "    }\n",
              "</style>\n",
              "<table border=\"1\" class=\"dataframe\">\n",
              "  <thead>\n",
              "    <tr style=\"text-align: right;\">\n",
              "      <th></th>\n",
              "      <th>0.1</th>\n",
              "      <th>0.3</th>\n",
              "      <th>0.6</th>\n",
              "    </tr>\n",
              "  </thead>\n",
              "  <tbody>\n",
              "    <tr>\n",
              "      <th>NDCG</th>\n",
              "      <td>0.066791</td>\n",
              "      <td>0.065652</td>\n",
              "      <td>0.06688</td>\n",
              "    </tr>\n",
              "    <tr>\n",
              "      <th>Hit rate</th>\n",
              "      <td>0.014000</td>\n",
              "      <td>0.011000</td>\n",
              "      <td>0.01300</td>\n",
              "    </tr>\n",
              "  </tbody>\n",
              "</table>\n",
              "</div>"
            ],
            "text/plain": [
              "               0.1       0.3      0.6\n",
              "NDCG      0.066791  0.065652  0.06688\n",
              "Hit rate  0.014000  0.011000  0.01300"
            ]
          },
          "metadata": {
            "tags": []
          },
          "execution_count": 100
        }
      ]
    },
    {
      "cell_type": "code",
      "metadata": {
        "id": "M36aI_F8B7w7",
        "colab_type": "code",
        "outputId": "bd5760a3-19cd-434b-9526-e2523fbd2d2b",
        "colab": {
          "base_uri": "https://localhost:8080/",
          "height": 436
        }
      },
      "source": [
        "regs = [0.01, 0.1, 10.0, 100.0]\n",
        "reg_names = [\"metricfm_freg{}\".format(reg) for reg in regs]\n",
        "\n",
        "for reg, reg_name in zip(regs, reg_names):\n",
        "  args = MetricFMArgs(len(train_df), linear_reg=0.3, factors_reg=reg,\n",
        "                      max_norm=2.0)\n",
        "  fm = fit_fm_args(TfMetricFM, args, reg_name, train_df, val_query_df, val_df,\n",
        "                   load=load)\n",
        "  eval_fm(fm, reg_name, val_query_df, val_df, filter_user_tracks=True)"
      ],
      "execution_count": 0,
      "outputs": [
        {
          "output_type": "stream",
          "text": [
            "INFO:tensorflow:Restoring parameters from /drive/My Drive/models/30music/metricfm_freg0.01.ckpt\n",
            "0.011000 hit rate\n",
            "0.066506 ndcg\n",
            "\n",
            "1208.71747s fit time\n",
            "53.79943s trans time\n",
            "INFO:tensorflow:Restoring parameters from /drive/My Drive/models/30music/metricfm_freg0.1.ckpt\n",
            "0.011000 hit rate\n",
            "0.066238 ndcg\n",
            "\n",
            "1193.18579s fit time\n",
            "53.49461s trans time\n",
            "INFO:tensorflow:Restoring parameters from /drive/My Drive/models/30music/metricfm_freg10.0.ckpt\n",
            "0.012000 hit rate\n",
            "0.065341 ndcg\n",
            "\n",
            "1196.92036s fit time\n",
            "53.75280s trans time\n",
            "INFO:tensorflow:Restoring parameters from /drive/My Drive/models/30music/metricfm_freg100.0.ckpt\n",
            "0.011000 hit rate\n",
            "0.066568 ndcg\n",
            "\n",
            "1192.48543s fit time\n",
            "54.10820s trans time\n"
          ],
          "name": "stdout"
        }
      ]
    },
    {
      "cell_type": "code",
      "metadata": {
        "id": "CW5i9hU5B-FP",
        "colab_type": "code",
        "outputId": "63454be7-a97c-4e29-d721-bc81282d26a6",
        "colab": {
          "base_uri": "https://localhost:8080/",
          "height": 111
        }
      },
      "source": [
        "fregs = regs[:2] + [1.0] + regs[2:]\n",
        "freg_names = reg_names[:2] + [\"metricfm_norm2.0\"] + reg_names[2:]\n",
        "\n",
        "reg_ndcgs = [fm_evals[reg_name][\"ndcg\"] for reg_name in freg_names]\n",
        "reg_hit_rates = [fm_evals[reg_name][\"hit_rate\"] for reg_name in freg_names]\n",
        "pd.DataFrame.from_records([reg_ndcgs, reg_hit_rates], columns=fregs,\n",
        "                          index=[\"NDCG\", \"Hit rate\"])"
      ],
      "execution_count": 0,
      "outputs": [
        {
          "output_type": "execute_result",
          "data": {
            "text/html": [
              "<div>\n",
              "<style scoped>\n",
              "    .dataframe tbody tr th:only-of-type {\n",
              "        vertical-align: middle;\n",
              "    }\n",
              "\n",
              "    .dataframe tbody tr th {\n",
              "        vertical-align: top;\n",
              "    }\n",
              "\n",
              "    .dataframe thead th {\n",
              "        text-align: right;\n",
              "    }\n",
              "</style>\n",
              "<table border=\"1\" class=\"dataframe\">\n",
              "  <thead>\n",
              "    <tr style=\"text-align: right;\">\n",
              "      <th></th>\n",
              "      <th>0.01</th>\n",
              "      <th>0.10</th>\n",
              "      <th>1.00</th>\n",
              "      <th>10.00</th>\n",
              "      <th>100.00</th>\n",
              "    </tr>\n",
              "  </thead>\n",
              "  <tbody>\n",
              "    <tr>\n",
              "      <th>NDCG</th>\n",
              "      <td>0.066506</td>\n",
              "      <td>0.066238</td>\n",
              "      <td>0.065652</td>\n",
              "      <td>0.065341</td>\n",
              "      <td>0.066568</td>\n",
              "    </tr>\n",
              "    <tr>\n",
              "      <th>Hit rate</th>\n",
              "      <td>0.011000</td>\n",
              "      <td>0.011000</td>\n",
              "      <td>0.011000</td>\n",
              "      <td>0.012000</td>\n",
              "      <td>0.011000</td>\n",
              "    </tr>\n",
              "  </tbody>\n",
              "</table>\n",
              "</div>"
            ],
            "text/plain": [
              "            0.01      0.10      1.00      10.00     100.00\n",
              "NDCG      0.066506  0.066238  0.065652  0.065341  0.066568\n",
              "Hit rate  0.011000  0.011000  0.011000  0.012000  0.011000"
            ]
          },
          "metadata": {
            "tags": []
          },
          "execution_count": 104
        }
      ]
    },
    {
      "cell_type": "code",
      "metadata": {
        "id": "R8q79w01wy5O",
        "colab_type": "code",
        "outputId": "a05c867d-a788-4e2d-e0c0-b7de88b2b9ed",
        "colab": {
          "base_uri": "https://localhost:8080/",
          "height": 341
        }
      },
      "source": [
        "ks = [100, 150, 300]\n",
        "k_names = [\"metricfm_k{}\".format(k) for k in ks]\n",
        "\n",
        "for k, k_name in zip(ks, k_names):\n",
        "  args = MetricFMArgs(len(train_df), linear_reg=0.3, factors_reg=1.0,\n",
        "                      max_norm=2.0, num_dims=k)\n",
        "  fm = fit_fm_args(TfMetricFM, args, k_name, train_df, val_query_df, val_df,\n",
        "                   load=load)\n",
        "  eval_fm(fm, k_name, val_query_df, val_df, filter_user_tracks=True)"
      ],
      "execution_count": 0,
      "outputs": [
        {
          "output_type": "stream",
          "text": [
            "INFO:tensorflow:Restoring parameters from /drive/My Drive/models/30music/metricfm_k100.ckpt\n",
            "0.017000 hit rate\n",
            "0.076052 ndcg\n",
            "\n",
            "1730.74547s fit time\n",
            "57.76826s trans time\n",
            "INFO:tensorflow:Restoring parameters from /drive/My Drive/models/30music/metricfm_k150.ckpt\n",
            "0.016000 hit rate\n",
            "0.073952 ndcg\n",
            "\n",
            "2347.52518s fit time\n",
            "58.91824s trans time\n",
            "INFO:tensorflow:Restoring parameters from /drive/My Drive/models/30music/metricfm_k300.ckpt\n",
            "0.013000 hit rate\n",
            "0.076211 ndcg\n",
            "\n",
            "4073.85420s fit time\n",
            "60.79232s trans time\n"
          ],
          "name": "stdout"
        }
      ]
    },
    {
      "cell_type": "code",
      "metadata": {
        "id": "IdZgmJh9w_YZ",
        "colab_type": "code",
        "outputId": "e33701c9-bf65-4080-ec41-7c32cef81e51",
        "colab": {
          "base_uri": "https://localhost:8080/",
          "height": 281
        }
      },
      "source": [
        "plot_fm_fit(\"metricfm_k300\")"
      ],
      "execution_count": 0,
      "outputs": [
        {
          "output_type": "display_data",
          "data": {
            "image/png": "[encoded data removed]",
            "text/plain": [
              "<Figure size 864x288 with 3 Axes>"
            ]
          },
          "metadata": {
            "tags": []
          }
        }
      ]
    },
    {
      "cell_type": "markdown",
      "metadata": {
        "id": "MQhk4S09xBfG",
        "colab_type": "text"
      },
      "source": [
        "#### Sampling"
      ]
    },
    {
      "cell_type": "code",
      "metadata": {
        "id": "KZ2bIhCbxWXv",
        "colab_type": "code",
        "colab": {}
      },
      "source": [
        "args = MetricFMArgs(len(train_df), linear_reg=0.01, factors_reg=1.0,\n",
        "                    max_norm=2.0, num_dims=300, batch_size=4096)\n",
        "\n",
        "args_epochs = [100, 250, 500, 1000]\n",
        "args_names = [\"bmetricfm_e{}\".format(args_epoch) for args_epoch\n",
        "              in args_epochs]\n",
        "\n",
        "fms = fit_fm_args_epochs(TfBatchMetricFM, args, args_names, args_epochs,\n",
        "                         train_df,\n",
        "                         val_query_df, val_df, load=load,\n",
        "                         sampler_fn=accepted_crossbatch_sampler,\n",
        "                         val_sampler_fn=accepted_crossbatch_sampler)\n",
        "\n",
        "for fm, args_name in zip(fms, args_names):\n",
        "  eval_fm(fm, args_name, val_query_df, val_df, filter_user_tracks=True,\n",
        "          silent=True)"
      ],
      "execution_count": 0,
      "outputs": []
    },
    {
      "cell_type": "code",
      "metadata": {
        "id": "lQt-PprRxJk_",
        "colab_type": "code",
        "colab": {}
      },
      "source": [
        "args = MetricFMArgs(len(train_df), linear_reg=0.01, factors_reg=1.0,\n",
        "                    max_norm=2.25, num_dims=300, lr=0.6, batch_size=4096)\n",
        "\n",
        "args_epochs = [100, 250, 500, 1000]\n",
        "args_names = [\"bmetricfm_lr0.6_e{}\".format(args_epoch) for args_epoch\n",
        "              in args_epochs]\n",
        "\n",
        "fms = fit_fm_args_epochs(TfBatchMetricFM, args, args_names, args_epochs,\n",
        "                         train_df,\n",
        "                         val_query_df, val_df, load=load,\n",
        "                         sampler_fn=accepted_crossbatch_sampler,\n",
        "                         val_sampler_fn=accepted_crossbatch_sampler)\n",
        "\n",
        "for fm, args_name in zip(fms, args_names):\n",
        "  eval_fm(fm, args_name, val_query_df, val_df, filter_user_tracks=True,\n",
        "          silent=True)"
      ],
      "execution_count": 0,
      "outputs": []
    },
    {
      "cell_type": "code",
      "metadata": {
        "id": "x5B9XOS6xZwc",
        "colab_type": "code",
        "colab": {}
      },
      "source": [
        "args = MetricFMArgs(len(train_df), linear_reg=0.01, factors_reg=1.0, \n",
        "                    max_norm=2.0, num_dims=300, batch_size=4096)\n",
        "\n",
        "args_epochs = [100, 250, 500, 1000]\n",
        "args_names = [\"metricfm_b4096_e{}\".format(args_epoch) for args_epoch\n",
        "              in args_epochs]\n",
        "\n",
        "fms = fit_fm_args_epochs(TfMetricFM, args, args_names, args_epochs, train_df,\n",
        "                         val_query_df, val_df, load=load,\n",
        "                         sampler_fn=accepted_uniform_sampler,\n",
        "                         val_sampler_fn=accepted_crossbatch_sampler)\n",
        "\n",
        "for fm, args_name in zip(fms, args_names):\n",
        "  eval_fm(fm, args_name, val_query_df, val_df, filter_user_tracks=True,\n",
        "          silent=True)"
      ],
      "execution_count": 0,
      "outputs": []
    },
    {
      "cell_type": "code",
      "metadata": {
        "id": "a8son3A8xjyV",
        "colab_type": "code",
        "colab": {}
      },
      "source": [
        "args = MetricFMArgs(len(train_df), linear_reg=0.01, factors_reg=1.0,\n",
        "                    max_norm=2.25, num_dims=300, lr=0.6, batch_size=4096)\n",
        "\n",
        "args_epochs = [100, 250, 500, 1000]\n",
        "args_names = [\"metricfm_b4096_lr0.6_e{}\".format(args_epoch) for args_epoch\n",
        "              in args_epochs]\n",
        "\n",
        "fms = fit_fm_args_epochs(TfMetricFM, args, args_names, args_epochs, train_df,\n",
        "                         val_query_df, val_df, load=load,\n",
        "                         sampler_fn=accepted_uniform_sampler,\n",
        "                         val_sampler_fn=accepted_crossbatch_sampler)\n",
        "\n",
        "for fm, args_name in zip(fms, args_names):\n",
        "  eval_fm(fm, args_name, val_query_df, val_df, filter_user_tracks=True,\n",
        "          silent=True)"
      ],
      "execution_count": 0,
      "outputs": []
    },
    {
      "cell_type": "code",
      "metadata": {
        "id": "95yXFlzkxueF",
        "colab_type": "code",
        "colab": {}
      },
      "source": [
        "args = MetricFMArgs(len(train_df), linear_reg=0.01, factors_reg=1.0,\n",
        "                    max_norm=2.0, num_dims=300, batch_size=4096)\n",
        "\n",
        "args_epochs = [100, 250, 500, 1000]\n",
        "args_names = [\"metricfm_b4096_aes_lr0.1_e{}\".format(args_epoch) for args_epoch\n",
        "              in args_epochs]\n",
        "\n",
        "fms = fit_fm_args_epochs(TfMetricFM, args, args_names, args_epochs, train_df,\n",
        "                         val_query_df, val_df, load=load,\n",
        "                         sampler_fn=accepted_exp_sampler,\n",
        "                         val_sampler_fn=accepted_uniform_sampler)\n",
        "\n",
        "for fm, args_name in zip(fms, args_names):\n",
        "  eval_fm(fm, args_name, val_query_df, val_df, filter_user_tracks=True,\n",
        "          silent=True)"
      ],
      "execution_count": 0,
      "outputs": []
    },
    {
      "cell_type": "code",
      "metadata": {
        "id": "BeEsLUv2x2dc",
        "colab_type": "code",
        "outputId": "8993fbce-6127-40a7-f003-547ad282f042",
        "colab": {
          "base_uri": "https://localhost:8080/",
          "height": 308
        }
      },
      "source": [
        "fm_names = [\"metricfm_b4096_e{}\".format(args_epoch) for args_epoch in args_epochs]\n",
        "fm_ndcgs = [fm_evals[fm_name][\"ndcg\"] for fm_name in fm_names]\n",
        "\n",
        "fm1_names = [\"metricfm_b4096_lr0.6_e{}\".format(args_epoch) for args_epoch in args_epochs]\n",
        "fm1_ndcgs = [fm_evals[fm_name][\"ndcg\"] for fm_name in fm1_names]\n",
        "\n",
        "fm_aes_names = [\"metricfm_b4096_aes_lr0.1_e{}\".format(args_epoch) for args_epoch in args_epochs]\n",
        "fm_aes_ndcgs = [fm_evals[fm_name][\"ndcg\"] for fm_name in fm_aes_names]\n",
        "\n",
        "bfm_names = [\"bmetricfm_e{}\".format(args_epoch) for args_epoch in args_epochs]\n",
        "bfm_ndcgs = [fm_evals[bfm_name][\"ndcg\"] for bfm_name in bfm_names]\n",
        "\n",
        "bfm1_names = [\"bmetricfm_lr0.6_e{}\".format(args_epoch) for args_epoch in args_epochs]\n",
        "bfm1_ndcgs = [fm_evals[bfm_name][\"ndcg\"] for bfm_name in bfm1_names]\n",
        "\n",
        "plt.figure(figsize=(6*2, 4))\n",
        "plt.suptitle(\"30Music\")\n",
        "\n",
        "plt.subplot(1, 2, 1)\n",
        "\n",
        "plt.plot(args_epochs, fm_ndcgs, \"o--\", color=\"yellow\")\n",
        "plt.plot(args_epochs, fm1_ndcgs, \"o--\", color=\"orange\")\n",
        "plt.plot(args_epochs, fm_aes_ndcgs, \"o--\", color=\"green\")\n",
        "plt.plot(args_epochs, bfm_ndcgs, \"o--\", color=\"red\")\n",
        "plt.plot(args_epochs, bfm1_ndcgs, \"o--\", color=\"darkred\")\n",
        "plt.xticks(args_epochs)\n",
        "plt.ylim(bottom=0.0, top=0.09)\n",
        "\n",
        "yellow_patch = mpatches.Patch(color=\"yellow\", label=\"MetricFM, lr 0.1\")\n",
        "orange_patch = mpatches.Patch(color=\"orange\", label=\"MetricFM, lr 0.6\")\n",
        "green_patch = mpatches.Patch(color=\"green\", label=\"MetricFM, exp sampling, lr 0.1\")\n",
        "red_patch = mpatches.Patch(color=\"red\", label=\"MetricFM, cross-batch, lr 0.1\")\n",
        "dred_patch = mpatches.Patch(color=\"darkred\", label=\"MetricFM, cross-batch, lr 0.6\")\n",
        "patches = [dred_patch, red_patch, green_patch, orange_patch, yellow_patch]\n",
        "plt.legend(handles=patches)\n",
        "\n",
        "plt.grid(True, axis=\"y\")\n",
        "plt.ylabel(\"NDCG\")\n",
        "plt.xlabel(\"epochs\")\n",
        "\n",
        "fm_aucs = fm_fits[\"metricfm_b4096_e1000\"][\"val_aucs\"]\n",
        "fm1_aucs = fm_fits[\"metricfm_b4096_lr0.6_e1000\"][\"val_aucs\"]\n",
        "fm_aes_aucs = fm_fits[\"metricfm_b4096_aes_lr0.1_e1000\"][\"val_aucs\"]\n",
        "\n",
        "bfm_aucs = fm_fits[\"bmetricfm_e1000\"][\"val_aucs\"]\n",
        "bfm1_aucs = fm_fits[\"bmetricfm_lr0.6_e1000\"][\"val_aucs\"]\n",
        "\n",
        "val_epochs = [i * args.eval_freq for i in range(len(fm_aucs))]\n",
        "\n",
        "plt.subplot(1, 2, 2)\n",
        "\n",
        "plt.grid(True, axis=\"y\")\n",
        "plt.plot(val_epochs, fm_aucs, color=\"yellow\")\n",
        "plt.plot(val_epochs, fm1_aucs, color=\"orange\")\n",
        "plt.plot(val_epochs, fm_aes_aucs, color=\"green\")\n",
        "plt.plot(val_epochs, bfm_aucs, color=\"red\")\n",
        "plt.plot(val_epochs, bfm1_aucs, color=\"darkred\")\n",
        "plt.ylim(bottom=0.75, top=1.0)\n",
        "\n",
        "plt.ylabel(\"AUC\")\n",
        "plt.xlabel(\"epochs\");"
      ],
      "execution_count": 0,
      "outputs": [
        {
          "output_type": "display_data",
          "data": {
            "image/png": "[encoded data removed]",
            "text/plain": [
              "<Figure size 864x288 with 2 Axes>"
            ]
          },
          "metadata": {
            "tags": []
          }
        }
      ]
    },
    {
      "cell_type": "markdown",
      "metadata": {
        "id": "7-Y5NKVIyOGt",
        "colab_type": "text"
      },
      "source": [
        "#### Features"
      ]
    },
    {
      "cell_type": "code",
      "metadata": {
        "id": "9YhKJZA0HBx7",
        "colab_type": "code",
        "outputId": "389d7a33-fc91-43c7-c9e6-bcf6721ed16a",
        "colab": {
          "base_uri": "https://localhost:8080/",
          "height": 136
        }
      },
      "source": [
        "args = MetricFMArgs(len(train_df), linear_reg=0.01, factors_reg=1.0,\n",
        "                    max_norm=2.25, num_dims=300, lr=0.6, batch_size=4096,\n",
        "                    epochs=100)\n",
        "\n",
        "fm = fit_fm_args(TfBatchMetricFM, args, \"bmetricfm_aas\", train_df, val_query_df,\n",
        "                 val_df, load=load,\n",
        "                 sampler_fn=accepted_artist_crossbatch_sampler,\n",
        "                 val_sampler_fn=accepted_crossbatch_sampler)\n",
        "eval_fm(fm, \"bmetricfm_aas\", val_query_df, val_df, filter_user_tracks=True);"
      ],
      "execution_count": 0,
      "outputs": [
        {
          "output_type": "stream",
          "text": [
            "INFO:tensorflow:Restoring parameters from /drive/My Drive/models/30music/bmetricfm_aas.ckpt\n",
            "0.013000 hit rate\n",
            "0.068228 ndcg\n",
            "\n",
            "2371.04940s fit time\n",
            "57.35310s trans time\n"
          ],
          "name": "stdout"
        }
      ]
    },
    {
      "cell_type": "code",
      "metadata": {
        "id": "3IE19fJuRtUP",
        "colab_type": "code",
        "outputId": "3ae0b76b-4181-4f55-8aae-2249b8fa3f19",
        "colab": {
          "base_uri": "https://localhost:8080/",
          "height": 136
        }
      },
      "source": [
        "args = MetricFMArgs(len(train_df), linear_reg=0.01, factors_reg=1.0,\n",
        "                    max_norm=2.25, num_dims=300, lr=0.6, batch_size=4096,\n",
        "                    epochs=100)\n",
        "\n",
        "fm = fit_fm_args(TfBatchMetricFM, args, \"bmetricfm_useritemfeats\", train_df,\n",
        "                 val_query_df, val_df, load=load,\n",
        "                 sampler_fn=accepted_artist_crossbatch_sampler,\n",
        "                 val_sampler_fn=accepted_crossbatch_sampler,\n",
        "                 feature_fn=df2usersitemfeats({\n",
        "                     \"albid\": num_albums / num_tracks,\n",
        "                     \"artid\": num_artists / num_tracks}))\n",
        "\n",
        "eval_fm(fm, \"bmetricfm_useritemfeats\", val_query_df, val_df, filter_user_tracks=True);"
      ],
      "execution_count": 0,
      "outputs": [
        {
          "output_type": "stream",
          "text": [
            "INFO:tensorflow:Restoring parameters from /drive/My Drive/models/30music/bfm_useritemfeats.ckpt\n",
            "0.020000 hit rate\n",
            "0.084233 ndcg\n",
            "\n",
            "2849.48078s fit time\n",
            "77.37429s trans time\n"
          ],
          "name": "stdout"
        }
      ]
    },
    {
      "cell_type": "code",
      "metadata": {
        "id": "4BnV6f7FRcgC",
        "colab_type": "code",
        "outputId": "c3952f39-0687-4460-b5a4-b7129a8c8dff",
        "colab": {
          "base_uri": "https://localhost:8080/",
          "height": 136
        }
      },
      "source": [
        "args = MetricFMArgs(len(train_df), linear_reg=0.01, factors_reg=1.0,\n",
        "                    max_norm=2.25, num_dims=300, lr=0.6, batch_size=4096,\n",
        "                    epochs=100)\n",
        "\n",
        "fm = fit_fm_args(TfBatchMetricFM, args, \"bmetricfm_all\", train_df, val_query_df,\n",
        "                 val_df, load=load,\n",
        "                 sampler_fn=accepted_artist_crossbatch_sampler,\n",
        "                 val_sampler_fn=accepted_crossbatch_sampler,\n",
        "                 feature_fn=df2all({\n",
        "                     \"albid\": num_albums / num_tracks,\n",
        "                     \"artid\": num_artists / num_tracks,\n",
        "                     \"userid\": 0.0,\n",
        "                     \"country\": num_countries / num_playlists,\n",
        "                     \"gender\": num_genders / num_playlists,\n",
        "                     \"age\": num_ages / num_playlists}))\n",
        "\n",
        "eval_fm(fm, \"bmetricfm_all\", val_query_df, val_df, filter_user_tracks=True);"
      ],
      "execution_count": 0,
      "outputs": [
        {
          "output_type": "stream",
          "text": [
            "INFO:tensorflow:Restoring parameters from /drive/My Drive/models/30music/bfm_all.ckpt\n",
            "0.028000 hit rate\n",
            "0.090230 ndcg\n",
            "\n",
            "2939.03764s fit time\n",
            "116.48743s trans time\n"
          ],
          "name": "stdout"
        }
      ]
    },
    {
      "cell_type": "code",
      "metadata": {
        "id": "ENMBPB3qR9vx",
        "colab_type": "code",
        "outputId": "3b2d94f3-7faa-49c0-937d-55252f629f75",
        "colab": {
          "base_uri": "https://localhost:8080/",
          "height": 136
        }
      },
      "source": [
        "args = MetricFMArgs(len(train_df), linear_reg=0.01, factors_reg=1.0,\n",
        "                    max_norm=2.25, num_dims=300, lr=0.6, batch_size=4096,\n",
        "                    epochs=100)\n",
        "\n",
        "fm = fit_fm_args(TfBatchMetricFM, args, \"bmetricfm_prev\", train_df,\n",
        "                 val_query_df, val_df, load=load,\n",
        "                 sampler_fn=accepted_artist_crossbatch_sampler,\n",
        "                 val_sampler_fn=accepted_crossbatch_sampler,\n",
        "                 feature_fn=df2usersprevitems({\"prev_traid\": 0.5}))\n",
        "\n",
        "eval_fm(fm, \"bmetricfm_prev\", val_query_df, val_df, filter_user_tracks=True);"
      ],
      "execution_count": 0,
      "outputs": [
        {
          "output_type": "stream",
          "text": [
            "INFO:tensorflow:Restoring parameters from /drive/My Drive/models/30music/bfm_prev.ckpt\n",
            "0.030000 hit rate\n",
            "0.084436 ndcg\n",
            "\n",
            "3325.43987s fit time\n",
            "119.25441s trans time\n"
          ],
          "name": "stdout"
        }
      ]
    },
    {
      "cell_type": "code",
      "metadata": {
        "id": "6PocLg2ESFtg",
        "colab_type": "code",
        "outputId": "6243ddc0-985b-45e0-95bb-e883c4cf4917",
        "colab": {
          "base_uri": "https://localhost:8080/",
          "height": 136
        }
      },
      "source": [
        "args = MetricFMArgs(len(train_df), linear_reg=0.01, factors_reg=1.0,\n",
        "                    max_norm=2.25, num_dims=300, lr=0.6, batch_size=4096,\n",
        "                    epochs=100)\n",
        "\n",
        "fm = fit_fm_args(TfBatchMetricFM, args, \"bmetricfm_previtemfeats\", train_df,\n",
        "                 val_query_df, val_df, load=load,\n",
        "                 sampler_fn=accepted_artist_crossbatch_sampler,\n",
        "                 val_sampler_fn=accepted_crossbatch_sampler,\n",
        "                 feature_fn=df2usersprevitemfeats({\n",
        "                     \"prev_traid\": 0.5,\n",
        "                     \"prev_albid\": 0.5 * num_albums / num_tracks,\n",
        "                     \"prev_artid\": 0.5 * num_artists / num_tracks,\n",
        "                     \"albid\": num_albums / num_tracks,\n",
        "                     \"artid\": num_artists / num_tracks}))\n",
        "\n",
        "eval_fm(fm, \"bmetricfm_previtemfeats\", val_query_df, val_df, filter_user_tracks=True);"
      ],
      "execution_count": 0,
      "outputs": [
        {
          "output_type": "stream",
          "text": [
            "INFO:tensorflow:Restoring parameters from /drive/My Drive/models/30music/bfm_previtemfeats.ckpt\n",
            "0.030000 hit rate\n",
            "0.100649 ndcg\n",
            "\n",
            "4439.09085s fit time\n",
            "235.18109s trans time\n"
          ],
          "name": "stdout"
        }
      ]
    },
    {
      "cell_type": "code",
      "metadata": {
        "id": "-S2BFCnBSgTY",
        "colab_type": "code",
        "outputId": "2a14bbe4-df61-44cf-ca06-c75a628007cf",
        "colab": {
          "base_uri": "https://localhost:8080/",
          "height": 136
        }
      },
      "source": [
        "args = MetricFMArgs(len(train_df), linear_reg=0.01, factors_reg=1.0,\n",
        "                    max_norm=2.25, num_dims=300, lr=0.6, batch_size=4096,\n",
        "                    epochs=100)\n",
        "\n",
        "fm = fit_fm_args(TfBatchMetricFM, args, \"bmetricfm_prevall\", train_df,\n",
        "                 val_query_df, val_df, load=load,\n",
        "                 sampler_fn=accepted_artist_crossbatch_sampler,\n",
        "                 val_sampler_fn=accepted_crossbatch_sampler,\n",
        "                 feature_fn=df2prevall({\n",
        "                     \"prev_traid\": 0.5,\n",
        "                     \"prev_albid\": 0.5 * num_albums / num_tracks,\n",
        "                     \"prev_artid\": 0.5 * num_artists / num_tracks,\n",
        "                     \"albid\": num_albums / num_tracks,\n",
        "                     \"artid\": num_artists / num_tracks,\n",
        "                     \"userid\": 0.0,\n",
        "                     \"country\": num_countries / num_playlists,\n",
        "                     \"gender\": num_genders / num_playlists,\n",
        "                     \"age\": num_ages / num_playlists}))\n",
        "\n",
        "eval_fm(fm, \"bmetricfm_prevall\", val_query_df, val_df, filter_user_tracks=True);"
      ],
      "execution_count": 0,
      "outputs": [
        {
          "output_type": "stream",
          "text": [
            "INFO:tensorflow:Restoring parameters from /drive/My Drive/models/30music/bfm_prevall.ckpt\n",
            "0.027000 hit rate\n",
            "0.099923 ndcg\n",
            "\n",
            "4472.77294s fit time\n",
            "354.69529s trans time\n"
          ],
          "name": "stdout"
        }
      ]
    },
    {
      "cell_type": "code",
      "metadata": {
        "id": "e0GACfomSnXJ",
        "colab_type": "code",
        "outputId": "5f5a99f5-4cd9-4434-d07f-a9eb00fba151",
        "colab": {
          "base_uri": "https://localhost:8080/",
          "height": 125
        }
      },
      "source": [
        "args = MetricFMArgs(len(train_df), linear_reg=0.01, factors_reg=1.0,\n",
        "                    max_norm=2.25, num_dims=300, lr=0.6, batch_size=4096,\n",
        "                    epochs=100)\n",
        "\n",
        "# train with TfBatchFM and load with SafeTfBatchFM - faster\n",
        "fm = fit_fm_args(SafeTfBatchMetricFM, args, \"bmetricfm_encodedusersprevall_pop\",\n",
        "                 train_df, val_query_df, val_df, load=load,\n",
        "                 sampler_fn=accepted_artist_crossbatch_sampler,\n",
        "                 val_sampler_fn=accepted_crossbatch_sampler,\n",
        "                 feature_fn=df2encodedusersprevall({\n",
        "                     \"prev_traid\": 0.5,\n",
        "                     \"prev_albid\": 0.5 * num_albums / num_tracks,\n",
        "                     \"prev_artid\": 0.5 * num_artists / num_tracks,\n",
        "                     \"albid\": num_albums / num_tracks,\n",
        "                     \"artid\": num_artists / num_tracks,\n",
        "                     \"userid\": 0.0,\n",
        "                     \"country\": num_countries / num_playlists,\n",
        "                     \"gender\": num_genders / num_playlists,\n",
        "                     \"age\": num_ages / num_playlists},\n",
        "                     sqrt_popularity_weight_normalize))\n",
        "\n",
        "eval_fm(fm, \"bmetricfm_encodedusersprevall_pop\", val_query_df, val_df,\n",
        "        filter_user_tracks=True);"
      ],
      "execution_count": 0,
      "outputs": [
        {
          "output_type": "stream",
          "text": [
            "INFO:tensorflow:Restoring parameters from /drive/My Drive/models/30music/bfm_encodedusersprevall_pop.ckpt\n",
            "0.031000 hit rate\n",
            "0.102576 ndcg\n",
            "\n",
            "6567.33745s fit time\n",
            "2230.62101s trans time\n"
          ],
          "name": "stdout"
        }
      ]
    },
    {
      "cell_type": "markdown",
      "metadata": {
        "id": "oDKpwy_nxiuG",
        "colab_type": "text"
      },
      "source": [
        "### Final"
      ]
    },
    {
      "cell_type": "code",
      "metadata": {
        "id": "iQNb5h7dxq8s",
        "colab_type": "code",
        "colab": {}
      },
      "source": [
        "train_df, test_df, test_query_df = last_track_split(df, as_val=False,\n",
        "                                                    n_test_users=1000)"
      ],
      "execution_count": 0,
      "outputs": []
    },
    {
      "cell_type": "code",
      "metadata": {
        "id": "IN09jK65AHTd",
        "colab_type": "code",
        "colab": {}
      },
      "source": [
        "_, num_playlists, num_users, num_tracks, num_albums, num_artists = get_statistics(train_df)\n",
        "num_countries = train_df[\"country\"].nunique()\n",
        "num_genders = train_df[\"gender\"].nunique()\n",
        "num_ages = train_df[\"age\"].nunique()"
      ],
      "execution_count": 0,
      "outputs": []
    },
    {
      "cell_type": "code",
      "metadata": {
        "id": "rCTw2OXPxrcZ",
        "colab_type": "code",
        "colab": {}
      },
      "source": [
        "args = FMArgs(len(train_df), num_dims=300, batch_size=4096,\n",
        "              linear_reg=0.1, factors_reg=0.00006, lr=0.6)\n",
        "\n",
        "fm = fit_fm_args(TfBatchFM, args, \"f_bfm_aas\", train_df, test_query_df,\n",
        "                 test_df, load=load,\n",
        "                 sampler_fn=accepted_artist_crossbatch_sampler,\n",
        "                 val_sampler_fn=accepted_crossbatch_sampler)\n",
        "\n",
        "eval_fm(fm, \"f_bfm_aas\", test_query_df, test_df, filter_user_tracks=True,\n",
        "        with_hit_rates=True, silent=True);"
      ],
      "execution_count": 0,
      "outputs": []
    },
    {
      "cell_type": "code",
      "metadata": {
        "id": "HLMTtgMhx00W",
        "colab_type": "code",
        "colab": {}
      },
      "source": [
        "args = FMArgs(len(train_df), num_dims=300, batch_size=4096,\n",
        "              linear_reg=0.1, factors_reg=0.00006, lr=0.6)\n",
        "\n",
        "fm = fit_fm_args(TfBatchFM, args, \"f_bfm_prevall\", train_df, test_query_df,\n",
        "                 test_df, load=load,\n",
        "                 sampler_fn=accepted_artist_crossbatch_sampler,\n",
        "                 val_sampler_fn=accepted_crossbatch_sampler,\n",
        "                 feature_fn=df2prevall({\n",
        "                     \"prev_traid\": 0.5,\n",
        "                     \"prev_albid\": 0.5 * num_albums / num_tracks,\n",
        "                     \"prev_artid\": 0.5 * num_artists / num_tracks,\n",
        "                     \"albid\": num_albums / num_tracks,\n",
        "                     \"artid\": num_artists / num_tracks,\n",
        "                     \"userid\": 0.0,\n",
        "                     \"country\": num_countries / num_playlists,\n",
        "                     \"gender\": num_genders / num_playlists,\n",
        "                     \"age\": num_ages / num_playlists}))\n",
        "\n",
        "eval_fm(fm, \"f_bfm_prevall\", test_query_df, test_df, filter_user_tracks=True,\n",
        "        with_hit_rates=True, silent=True);"
      ],
      "execution_count": 0,
      "outputs": []
    },
    {
      "cell_type": "code",
      "metadata": {
        "id": "ms41IdeASOhj",
        "colab_type": "code",
        "colab": {}
      },
      "source": [
        "args = FMArgs(len(train_df), num_dims=300, batch_size=4096,\n",
        "              linear_reg=0.1, factors_reg=0.00006, lr=0.6)\n",
        "\n",
        "fm = fit_fm_args(SafeTfBatchFM, args, \"f_bfm_encodedusersprevall_pop\",\n",
        "                 train_df, test_query_df, test_df, load=load,\n",
        "                 sampler_fn=accepted_artist_crossbatch_sampler,\n",
        "                 val_sampler_fn=accepted_crossbatch_sampler,\n",
        "                 feature_fn=df2encodedusersprevall({\n",
        "                     \"prev_traid\": 0.5,\n",
        "                     \"prev_albid\": 0.5 * num_albums / num_tracks,\n",
        "                     \"prev_artid\": 0.5 * num_artists / num_tracks,\n",
        "                     \"albid\": num_albums / num_tracks,\n",
        "                     \"artid\": num_artists / num_tracks,\n",
        "                     \"userid\": 0.0,\n",
        "                     \"country\": num_countries / num_playlists,\n",
        "                     \"gender\": num_genders / num_playlists,\n",
        "                     \"age\": num_ages / num_playlists},\n",
        "                     sqrt_popularity_weight_normalize))\n",
        "\n",
        "eval_fm(fm, \"f_bfm_encodedusersprevall_pop\", test_query_df, test_df,\n",
        "        filter_user_tracks=True, with_hit_rates=True, silent=True);"
      ],
      "execution_count": 0,
      "outputs": []
    },
    {
      "cell_type": "code",
      "metadata": {
        "id": "Uylmo9hOR-Xc",
        "colab_type": "code",
        "colab": {}
      },
      "source": [
        "args = MetricFMArgs(len(train_df), linear_reg=0.01, factors_reg=1.0,\n",
        "                    max_norm=2.25, num_dims=300, lr=0.6, batch_size=4096,\n",
        "                    epochs=950)  # Google Colab terminates before 1000 epochs...\n",
        "\n",
        "fm = fit_fm_args(TfBatchMetricFM, args, \"f_bmetricfm_prevall\", train_df,\n",
        "                 test_query_df, test_df, load=load,\n",
        "                 sampler_fn=accepted_artist_crossbatch_sampler,\n",
        "                 val_sampler_fn=accepted_crossbatch_sampler,\n",
        "                 feature_fn=df2prevall({\n",
        "                     \"prev_traid\": 0.5,\n",
        "                     \"prev_albid\": 0.5 * num_albums / num_tracks,\n",
        "                     \"prev_artid\": 0.5 * num_artists / num_tracks,\n",
        "                     \"albid\": num_albums / num_tracks,\n",
        "                     \"artid\": num_artists / num_tracks,\n",
        "                     \"userid\": 0.0,\n",
        "                     \"country\": num_countries / num_playlists,\n",
        "                     \"gender\": num_genders / num_playlists,\n",
        "                     \"age\": num_ages / num_playlists\n",
        "                     }))\n",
        "eval_fm(fm, \"f_bmetricfm_prevall\", test_query_df, test_df,\n",
        "        filter_user_tracks=True, with_hit_rates=True, silent=True);"
      ],
      "execution_count": 0,
      "outputs": []
    },
    {
      "cell_type": "code",
      "metadata": {
        "id": "BKTFmBOHQslH",
        "colab_type": "code",
        "outputId": "a4ba6f5f-f1aa-4955-e74e-3988edab0ae9",
        "colab": {
          "base_uri": "https://localhost:8080/",
          "height": 350
        }
      },
      "source": [
        "def plot_final_hit_rates(n=500):\n",
        "  plt.figure(figsize=(9, 5))\n",
        "  plt.plot(pop_rank_hit_rates[:n], color=\"yellowgreen\")\n",
        "  plt.plot(sagh_hit_rates[:n], color=\"lime\")\n",
        "  plt.plot(knn150_hit_rates[:n], color=\"darkgreen\")\n",
        "  plt.plot(fm_evals[\"f_bfm_aas\"][\"hit_rates\"], color=\"orange\")\n",
        "  plt.plot(fm_evals[\"f_bfm_prevall\"][\"hit_rates\"], color=\"red\")\n",
        "  plt.plot(fm_evals[\"f_bmetricfm_prevall\"][\"hit_rates\"], color=\"darkred\")\n",
        "\n",
        "  yellowgreen_patch = mpatches.Patch(color=\"yellowgreen\", label=\"{:.6f}  Pop Rank\".format(\n",
        "      pop_rank_ndcg))\n",
        "  green_patch = mpatches.Patch(color=\"lime\", label=\"{:.6f}  SAGH\".format(\n",
        "      sagh_ndcg))\n",
        "  dgreen_patch = mpatches.Patch(color=\"darkgreen\", label=\"{:.6f}  kNN, k 150\".format(\n",
        "      knn150_ndcg))\n",
        "  orange_patch = mpatches.Patch(color=\"orange\", label=\"{:.6f}  FM\".format(\n",
        "      fm_evals[\"f_bfm_aas\"][\"ndcg\"]))\n",
        "  red_patch = mpatches.Patch(color=\"red\", label=\"{:.6f}  FM, prev + all\".format(\n",
        "      fm_evals[\"f_bfm_prevall\"][\"ndcg\"])) \n",
        "  dred_patch = mpatches.Patch(color=\"darkred\", label=\"{:.6f}  MetricFM, prev + all\".format(\n",
        "      fm_evals[\"f_bmetricfm_prevall\"][\"ndcg\"])) \n",
        "  patches = [dred_patch, red_patch, orange_patch,\n",
        "             dgreen_patch, green_patch, yellowgreen_patch]\n",
        "  plt.legend(handles=patches)\n",
        "\n",
        "  plt.ylabel(\"hit rate\")\n",
        "  plt.xlabel(\"recommendations\")\n",
        "  plt.title(\"30Music\")\n",
        "  \n",
        "plot_final_hit_rates();"
      ],
      "execution_count": 0,
      "outputs": [
        {
          "output_type": "display_data",
          "data": {
            "image/png": "[encoded data removed]",
            "text/plain": [
              "<Figure size 648x360 with 1 Axes>"
            ]
          },
          "metadata": {
            "tags": []
          }
        }
      ]
    },
    {
      "cell_type": "markdown",
      "metadata": {
        "id": "QhxfTKTQKHLX",
        "colab_type": "text"
      },
      "source": [
        "## Cold start evaluation"
      ]
    },
    {
      "cell_type": "markdown",
      "metadata": {
        "id": "BH6Ynuh_KH5E",
        "colab_type": "text"
      },
      "source": [
        "### Final"
      ]
    },
    {
      "cell_type": "code",
      "metadata": {
        "id": "PI6RfTmTKUpa",
        "colab_type": "code",
        "colab": {}
      },
      "source": [
        "train_df, test_df, test_query_df = users_split(df, 1000, n_seed_tracks=5)"
      ],
      "execution_count": 0,
      "outputs": []
    },
    {
      "cell_type": "code",
      "metadata": {
        "id": "imL0WXihKa6F",
        "colab_type": "code",
        "colab": {}
      },
      "source": [
        "_, num_playlists, num_users, num_tracks, num_albums, num_artists = get_statistics(train_df)\n",
        "num_countries = train_df[\"country\"].nunique()\n",
        "num_genders = train_df[\"gender\"].nunique()\n",
        "num_ages = train_df[\"age\"].nunique()"
      ],
      "execution_count": 0,
      "outputs": []
    },
    {
      "cell_type": "code",
      "metadata": {
        "id": "nv16qAXMPiPD",
        "colab_type": "code",
        "colab": {}
      },
      "source": [
        "args = FMArgs(len(train_df), num_dims=300, batch_size=4096,\n",
        "              linear_reg=0.1, factors_reg=0.00006, lr=0.6, epochs=500)\n",
        "\n",
        "fm = fit_fm_args(TfBatchFM, args, \"cf_bfm_encodedusers_pop\", train_df,\n",
        "                 test_query_df, test_df, load=load,\n",
        "                 sampler_fn=accepted_artist_crossbatch_sampler,\n",
        "                 val_sampler_fn=accepted_crossbatch_sampler,\n",
        "                 feature_fn=df2encodedusersitems(\n",
        "                     {}, sqrt_popularity_weight_normalize))\n",
        "\n",
        "eval_fm(fm, \"cf_bfm_encodedusers_pop\", test_query_df, test_df,\n",
        "        filter_user_tracks=True, with_hit_rates=True, silent=True);"
      ],
      "execution_count": 0,
      "outputs": []
    },
    {
      "cell_type": "code",
      "metadata": {
        "id": "YJT5WBNAQ0ey",
        "colab_type": "code",
        "colab": {}
      },
      "source": [
        "args = FMArgs(len(train_df), num_dims=300, batch_size=4096,\n",
        "              linear_reg=0.1, factors_reg=0.00006, lr=0.6, epochs=500)\n",
        "\n",
        "fm = fit_fm_args(TfBatchFM, args, \"cf_bfm_encodedusersprevall_pop\", train_df,\n",
        "                 test_query_df, test_df, load=load,\n",
        "                 sampler_fn=accepted_artist_crossbatch_sampler,\n",
        "                 val_sampler_fn=accepted_crossbatch_sampler,\n",
        "                 feature_fn=df2encodedusersprevall({\n",
        "                     \"prev_traid\": 0.5,\n",
        "                     \"prev_albid\": 0.5 * num_albums / num_tracks,\n",
        "                     \"prev_artid\": 0.5 * num_artists / num_tracks,\n",
        "                     \"albid\": num_albums / num_tracks,\n",
        "                     \"artid\": num_artists / num_tracks,\n",
        "                     \"userid\": 0.0,\n",
        "                     \"country\": num_countries / num_playlists,\n",
        "                     \"gender\": num_genders / num_playlists,\n",
        "                     \"age\": num_ages / num_playlists\n",
        "                     }, sqrt_popularity_weight_normalize))\n",
        "\n",
        "eval_fm(fm, \"cf_bfm_encodedusersprevall_pop\", test_query_df, test_df,\n",
        "        filter_user_tracks=True, with_hit_rates=True, silent=True);"
      ],
      "execution_count": 0,
      "outputs": []
    },
    {
      "cell_type": "code",
      "metadata": {
        "id": "02of0YZzKglu",
        "colab_type": "code",
        "colab": {}
      },
      "source": [
        "args = MetricFMArgs(len(train_df), linear_reg=0.01, factors_reg=1.0,\n",
        "                    max_norm=2.25, num_dims=300, lr=0.6, batch_size=4096,\n",
        "                    epochs=500)\n",
        "\n",
        "fm = fit_fm_args(TfBatchMetricFM, args, \"cf_bmetricfm_encodedusersprevall_pop\",\n",
        "                 train_df, test_query_df, test_df, load=load,\n",
        "                 sampler_fn=accepted_artist_crossbatch_sampler,\n",
        "                 val_sampler_fn=accepted_crossbatch_sampler,\n",
        "                 feature_fn=df2encodedusersprevall({\n",
        "                     \"prev_traid\": 0.5,\n",
        "                     \"prev_albid\": 0.5 * num_albums / num_tracks,\n",
        "                     \"prev_artid\": 0.5 * num_artists / num_tracks,\n",
        "                     \"albid\": num_albums / num_tracks,\n",
        "                     \"artid\": num_artists / num_tracks,\n",
        "                     \"userid\": 0.0,\n",
        "                     \"country\": num_countries / num_playlists,\n",
        "                     \"gender\": num_genders / num_playlists,\n",
        "                     \"age\": num_ages / num_playlists\n",
        "                     }, sqrt_popularity_weight_normalize))\n",
        "\n",
        "eval_fm(fm, \"cf_bmetricfm_encodedusersprevall_pop\", test_query_df, test_df,\n",
        "        filter_user_tracks=True, with_hit_rates=True, silent=True);"
      ],
      "execution_count": 0,
      "outputs": []
    },
    {
      "cell_type": "code",
      "metadata": {
        "id": "7uHjVtoVltJ6",
        "colab_type": "code",
        "outputId": "881a92ab-afc7-41dd-a78c-2195942f1e2d",
        "colab": {
          "base_uri": "https://localhost:8080/",
          "height": 350
        }
      },
      "source": [
        "def plot_final_hit_rates(n=500):\n",
        "  plt.figure(figsize=(9, 5))\n",
        "  plt.plot(c_pop_rank_hit_rates[:n], color=\"yellowgreen\")\n",
        "  plt.plot(c_sagh_hit_rates[:n], color=\"lime\")\n",
        "  plt.plot(c_knn150_hit_rates[:n], color=\"darkgreen\")\n",
        "  plt.plot(fm_evals[\"cf_bfm_encodedusers_pop\"][\"hit_rates\"], color=\"orange\")\n",
        "  plt.plot(fm_evals[\"cf_bfm_encodedusersprevall_pop\"][\"hit_rates\"], color=\"red\")\n",
        "  plt.plot(fm_evals[\"cf_bmetricfm_encodedusersprevall_pop\"][\"hit_rates\"], color=\"darkred\")\n",
        "\n",
        "  yellowgreen_patch = mpatches.Patch(color=\"yellowgreen\", label=\"{:.6f}  Pop Rank\".format(\n",
        "      c_pop_rank_ndcg))\n",
        "  green_patch = mpatches.Patch(color=\"lime\", label=\"{:.6f}  SAGH\".format(\n",
        "      c_sagh_ndcg))\n",
        "  dgreen_patch = mpatches.Patch(color=\"darkgreen\", label=\"{:.6f}  kNN, k 150\".format(\n",
        "      c_knn150_ndcg))\n",
        "  orange_patch = mpatches.Patch(color=\"orange\", label=\"{:.6f}  FM\".format(\n",
        "      fm_evals[\"cf_bfm_encodedusers_pop\"][\"ndcg\"]))\n",
        "  red_patch = mpatches.Patch(color=\"red\", label=\"{:.6f}  FM, prev + all\".format(\n",
        "      fm_evals[\"cf_bfm_encodedusersprevall_pop\"][\"ndcg\"])) \n",
        "  dred_patch = mpatches.Patch(color=\"darkred\", label=\"{:.6f}  MetricFM, prev + all\".format(\n",
        "      fm_evals[\"cf_bmetricfm_encodedusersprevall_pop\"][\"ndcg\"])) \n",
        "  patches = [dred_patch, red_patch, orange_patch,\n",
        "             dgreen_patch, green_patch, yellowgreen_patch]\n",
        "  plt.legend(handles=patches)\n",
        "\n",
        "  plt.ylabel(\"hit rate\")\n",
        "  plt.xlabel(\"recommendations\")\n",
        "  plt.title(\"30Music\")\n",
        "  \n",
        "plot_final_hit_rates();"
      ],
      "execution_count": 0,
      "outputs": [
        {
          "output_type": "display_data",
          "data": {
            "image/png": "[encoded data removed]",
            "text/plain": [
              "<Figure size 648x360 with 1 Axes>"
            ]
          },
          "metadata": {
            "tags": []
          }
        }
      ]
    }
  ]
}