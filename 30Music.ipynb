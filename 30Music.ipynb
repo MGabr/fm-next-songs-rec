{
  "nbformat": 4,
  "nbformat_minor": 0,
  "metadata": {
    "colab": {
      "name": "30Music.ipynb",
      "provenance": [],
      "toc_visible": true,
      "machine_shape": "hm",
      "include_colab_link": true
    },
    "kernelspec": {
      "name": "python3",
      "display_name": "Python 3"
    },
    "accelerator": "GPU"
  },
  "cells": [
    {
      "cell_type": "markdown",
      "metadata": {
        "id": "view-in-github",
        "colab_type": "text"
      },
      "source": [
        "<a href=\"https://colab.research.google.com/github/MGabr/fm-next-songs-rec/blob/master/30Music.ipynb\" target=\"_parent\"><img src=\"https://colab.research.google.com/assets/colab-badge.svg\" alt=\"Open In Colab\"/></a>"
      ]
    },
    {
      "cell_type": "markdown",
      "metadata": {
        "id": "pwYG4tFgUmU8",
        "colab_type": "text"
      },
      "source": [
        "<font size=\"6\">**30Music**</font>"
      ]
    },
    {
      "cell_type": "markdown",
      "metadata": {
        "id": "voUWdxV6U8Qd",
        "colab_type": "text"
      },
      "source": [
        "This evaluation is done with the 30Music dataset which can be obtained at http://recsys.deib.polimi.it/datasets/.\n",
        "\n",
        "The evaluation is done with only the more than 57k playlists from the dataset, not the listening histories."
      ]
    },
    {
      "cell_type": "markdown",
      "metadata": {
        "id": "d1jvNkAkWPy_",
        "colab_type": "text"
      },
      "source": [
        "First we load all needed libraries here."
      ]
    },
    {
      "cell_type": "code",
      "metadata": {
        "id": "mOOtGQ_oxXw_",
        "colab_type": "code",
        "colab": {}
      },
      "source": [
        "%tensorflow_version 1.x"
      ],
      "execution_count": 0,
      "outputs": []
    },
    {
      "cell_type": "code",
      "metadata": {
        "id": "19-NbAu6UlBE",
        "colab_type": "code",
        "colab": {}
      },
      "source": [
        "import warnings\n",
        "warnings.filterwarnings(\"ignore\", category=DeprecationWarning) \n",
        "\n",
        "import csv\n",
        "import itertools\n",
        "import json\n",
        "import os\n",
        "import time\n",
        "import pickle\n",
        "import yaml\n",
        "\n",
        "import pandas as pd\n",
        "import matplotlib.pyplot as plt\n",
        "import matplotlib.patches as mpatches\n",
        "import numpy as np\n",
        "import numba as nb\n",
        "import scipy.sparse as sp\n",
        "import tensorflow as tf\n",
        "import tensorflow.sparse as tfs\n",
        "\n",
        "# disable deprecation warnings\n",
        "if type(tf.contrib) != type(tf): tf.contrib._warning = None\n",
        "\n",
        "import logging\n",
        "import absl.logging\n",
        "logging.root.removeHandler(absl.logging._absl_handler)\n",
        "absl.logging._warn_preinit_stderr = False\n",
        "\n",
        "\n",
        "from google.colab import drive, files\n",
        "from math import ceil, log2, floor, sqrt\n",
        "from scipy.sparse import csr_matrix, coo_matrix\n",
        "from sklearn.feature_extraction.text import TfidfTransformer\n",
        "from sklearn.metrics.pairwise import cosine_similarity\n",
        "from sklearn.preprocessing import normalize\n",
        "from sklearn.utils import shuffle\n",
        "from statistics import mean\n",
        "from timeit import timeit"
      ],
      "execution_count": 0,
      "outputs": []
    },
    {
      "cell_type": "code",
      "metadata": {
        "id": "Rx0DAtQO5u1A",
        "colab_type": "code",
        "outputId": "7142d03d-1488-4368-d762-fd3d9548e846",
        "colab": {
          "base_uri": "https://localhost:8080/",
          "height": 33
        }
      },
      "source": [
        "nb.__version__"
      ],
      "execution_count": 0,
      "outputs": [
        {
          "output_type": "execute_result",
          "data": {
            "text/plain": [
              "'0.47.0'"
            ]
          },
          "metadata": {
            "tags": []
          },
          "execution_count": 3
        }
      ]
    },
    {
      "cell_type": "markdown",
      "metadata": {
        "id": "WcLGO6yyWWaE",
        "colab_type": "text"
      },
      "source": [
        "# Data loading and preprocessing"
      ]
    },
    {
      "cell_type": "markdown",
      "metadata": {
        "id": "3E-4zCA4WqBt",
        "colab_type": "text"
      },
      "source": [
        "If the notebook is executed in google colaboratory, the compressed data set should be stored in the directory *datasets* on google drive. This google drive directory can then be mounted and the dataset decompressed. For mounting, access to google drive has to be granted and a received authorization code entered."
      ]
    },
    {
      "cell_type": "code",
      "metadata": {
        "id": "GcTY3NEOWSwm",
        "colab_type": "code",
        "outputId": "f9a05461-2833-4d70-d6bb-2cca8ddd3453",
        "colab": {
          "base_uri": "https://localhost:8080/",
          "height": 236
        }
      },
      "source": [
        "os.chdir(\"/\")\n",
        "drive.mount(\"/drive\", force_remount=True)\n",
        "\n",
        "!ls \"/drive/My Drive/datasets\"\n",
        "!tar -xvf \"/drive/My Drive/datasets/ThirtyMusic.tar.gz\" --wildcards \"entities/*\"\n",
        "\n",
        "os.chdir(\"/drive/My Drive/\")\n",
        "if not os.path.exists(\"models\"):\n",
        "  os.mkdir(\"models\")\n",
        "if not os.path.exists(\"models/30music\"):\n",
        "  os.mkdir(\"models/30music\")\n",
        "os.chdir(\"/\")"
      ],
      "execution_count": 0,
      "outputs": [
        {
          "output_type": "stream",
          "text": [
            "Go to this URL in a browser: https://accounts.google.com/o/oauth2/auth?client_id=947318989803-6bn6qk8qdgf4n4g3pfee6491hc0brc4i.apps.googleusercontent.com&redirect_uri=urn%3aietf%3awg%3aoauth%3a2.0%3aoob&response_type=code&scope=email%20https%3a%2f%2fwww.googleapis.com%2fauth%2fdocs.test%20https%3a%2f%2fwww.googleapis.com%2fauth%2fdrive%20https%3a%2f%2fwww.googleapis.com%2fauth%2fdrive.photos.readonly%20https%3a%2f%2fwww.googleapis.com%2fauth%2fpeopleapi.readonly\n",
            "\n",
            "Enter your authorization code:\n",
            "··········\n",
            "Mounted at /drive\n",
            "ThirtyMusic.tar.gz\n",
            "entities/users.idomaar\n",
            "entities/playlist.idomaar\n",
            "entities/tracks.idomaar\n",
            "entities/tags.idomaar\n",
            "entities/persons.idomaar\n",
            "entities/albums.idomaar\n"
          ],
          "name": "stdout"
        }
      ]
    },
    {
      "cell_type": "code",
      "metadata": {
        "id": "St8IHawegzgd",
        "colab_type": "code",
        "colab": {}
      },
      "source": [
        "models_dirname = \"/drive/My Drive/models/30music/\""
      ],
      "execution_count": 0,
      "outputs": []
    },
    {
      "cell_type": "code",
      "metadata": {
        "id": "iLwIbdEb6osb",
        "colab_type": "code",
        "outputId": "f1c6ea7e-ccbd-404c-8cdc-6b5c7674e727",
        "colab": {
          "base_uri": "https://localhost:8080/",
          "height": 197
        }
      },
      "source": [
        "def get_playlists_df():\n",
        "  ps_names = [\"type\", \"pid\", \"timestamp\", \"json1\", \"json2\"]\n",
        "  ps_usecols = [\"pid\", \"timestamp\", \"json2\"]\n",
        "  df = pd.read_csv(\"entities/playlist.idomaar\", sep=\"\\t\", names=ps_names,\n",
        "                   usecols=ps_usecols)\n",
        "\n",
        "  df_pid_time = df[[\"pid\", \"timestamp\"]] \n",
        "  df = pd.io.json.json_normalize(df[\"json2\"].apply(json.loads))\n",
        "  s_userid = pd.io.json.json_normalize(df[\"subjects\"].map(lambda l: l[0]))[\"id\"]\n",
        "  s_userid = s_userid.rename(\"userid\")\n",
        "  s = df[\"objects\"].apply(pd.Series)\n",
        "  df = df_pid_time.merge(s_userid, left_index=True, right_index=True)\n",
        "  df = df.merge(s, left_index=True, right_index=True)\n",
        "\n",
        "  df = pd.melt(df, [\"pid\", \"timestamp\", \"userid\"],\n",
        "              var_name=\"trapos\", value_name=\"trajson\")\n",
        "  df = df[df[\"trajson\"].apply(isinstance, args=(dict,))]\n",
        "  df[\"traid\"] = df[\"trajson\"].map(lambda d: d[\"id\"])\n",
        "\n",
        "  df = df[[\"pid\", \"timestamp\", \"userid\", \"traid\"]]\n",
        "  df.sort_values(\"pid\", inplace=True, kind=\"mergesort\")\n",
        "  return df\n",
        "\n",
        "df = get_playlists_df()\n",
        "df.head()"
      ],
      "execution_count": 0,
      "outputs": [
        {
          "output_type": "execute_result",
          "data": {
            "text/html": [
              "<div>\n",
              "<style scoped>\n",
              "    .dataframe tbody tr th:only-of-type {\n",
              "        vertical-align: middle;\n",
              "    }\n",
              "\n",
              "    .dataframe tbody tr th {\n",
              "        vertical-align: top;\n",
              "    }\n",
              "\n",
              "    .dataframe thead th {\n",
              "        text-align: right;\n",
              "    }\n",
              "</style>\n",
              "<table border=\"1\" class=\"dataframe\">\n",
              "  <thead>\n",
              "    <tr style=\"text-align: right;\">\n",
              "      <th></th>\n",
              "      <th>pid</th>\n",
              "      <th>timestamp</th>\n",
              "      <th>userid</th>\n",
              "      <th>traid</th>\n",
              "    </tr>\n",
              "  </thead>\n",
              "  <tbody>\n",
              "    <tr>\n",
              "      <th>0</th>\n",
              "      <td>0</td>\n",
              "      <td>1216545588</td>\n",
              "      <td>41504</td>\n",
              "      <td>3006631</td>\n",
              "    </tr>\n",
              "    <tr>\n",
              "      <th>57561</th>\n",
              "      <td>0</td>\n",
              "      <td>1216545588</td>\n",
              "      <td>41504</td>\n",
              "      <td>1885124</td>\n",
              "    </tr>\n",
              "    <tr>\n",
              "      <th>115122</th>\n",
              "      <td>0</td>\n",
              "      <td>1216545588</td>\n",
              "      <td>41504</td>\n",
              "      <td>2548942</td>\n",
              "    </tr>\n",
              "    <tr>\n",
              "      <th>172683</th>\n",
              "      <td>0</td>\n",
              "      <td>1216545588</td>\n",
              "      <td>41504</td>\n",
              "      <td>1350486</td>\n",
              "    </tr>\n",
              "    <tr>\n",
              "      <th>230244</th>\n",
              "      <td>0</td>\n",
              "      <td>1216545588</td>\n",
              "      <td>41504</td>\n",
              "      <td>3734368</td>\n",
              "    </tr>\n",
              "  </tbody>\n",
              "</table>\n",
              "</div>"
            ],
            "text/plain": [
              "        pid   timestamp  userid    traid\n",
              "0         0  1216545588   41504  3006631\n",
              "57561     0  1216545588   41504  1885124\n",
              "115122    0  1216545588   41504  2548942\n",
              "172683    0  1216545588   41504  1350486\n",
              "230244    0  1216545588   41504  3734368"
            ]
          },
          "metadata": {
            "tags": []
          },
          "execution_count": 6
        }
      ]
    },
    {
      "cell_type": "code",
      "metadata": {
        "id": "zgfTJv884wcr",
        "colab_type": "code",
        "outputId": "defcb360-9006-4884-9b51-61792e326566",
        "colab": {
          "base_uri": "https://localhost:8080/",
          "height": 33
        }
      },
      "source": [
        "len(df)"
      ],
      "execution_count": 0,
      "outputs": [
        {
          "output_type": "execute_result",
          "data": {
            "text/plain": [
              "1603040"
            ]
          },
          "metadata": {
            "tags": []
          },
          "execution_count": 7
        }
      ]
    },
    {
      "cell_type": "code",
      "metadata": {
        "id": "uq7wRw39oO84",
        "colab_type": "code",
        "outputId": "4c10baaa-0cbb-4793-830f-7d078807da38",
        "colab": {
          "base_uri": "https://localhost:8080/",
          "height": 197
        }
      },
      "source": [
        "def with_tracks_info(df):\n",
        "  tracks_names = [\"type\", \"traid\", \"timestamp\", \"json1\", \"json2\"]\n",
        "  tracks_usecols = [\"traid\", \"json2\"]\n",
        "  tracks_df = pd.read_csv(\"entities/tracks.idomaar\", sep=\"\\t\",\n",
        "                          names=tracks_names, usecols=tracks_usecols)\n",
        "  \n",
        "  tracks_df = tracks_df[tracks_df[\"traid\"].isin(df[\"traid\"].drop_duplicates())]\n",
        "  s_traid = tracks_df[\"traid\"].reset_index()\n",
        "  tracks_df = pd.io.json.json_normalize(tracks_df[\"json2\"].apply(json.loads))\n",
        "  tracks_df = tracks_df.merge(s_traid, left_index=True, right_index=True)\n",
        "  tracks_df[\"artid\"] = tracks_df[\"artists\"].map(lambda a: a[0][\"id\"])\n",
        "  tracks_df[\"albid\"] = tracks_df[\"albums\"].map(lambda a: a[0][\"id\"] if a else None)\n",
        "  tracks_df.drop(columns=[\"artists\", \"albums\", \"tags\"], inplace=True)\n",
        "  \n",
        "  # a track may have multiple entities - e.g. artists?\n",
        "  # we drop multiple entities and take only the first\n",
        "  tracks_df.drop_duplicates(subset=[\"traid\"], inplace=True)\n",
        "\n",
        "  # missing artist will get an id corresponding to their track\n",
        "  # missing albums will get an id corresponding to their artist\n",
        "  new_id_offset = 1000000\n",
        "  tracks_df[\"artid\"] = tracks_df[\"artid\"].fillna(new_id_offset + tracks_df[\"traid\"])\n",
        "  tracks_df[\"albid\"] = tracks_df[\"albid\"].fillna(new_id_offset + tracks_df[\"artid\"])\n",
        "\n",
        "  df = df.join(tracks_df.set_index(\"traid\"), on=\"traid\")\n",
        "\n",
        "  return df\n",
        "\n",
        "df = with_tracks_info(df)\n",
        "df.head()"
      ],
      "execution_count": 0,
      "outputs": [
        {
          "output_type": "execute_result",
          "data": {
            "text/html": [
              "<div>\n",
              "<style scoped>\n",
              "    .dataframe tbody tr th:only-of-type {\n",
              "        vertical-align: middle;\n",
              "    }\n",
              "\n",
              "    .dataframe tbody tr th {\n",
              "        vertical-align: top;\n",
              "    }\n",
              "\n",
              "    .dataframe thead th {\n",
              "        text-align: right;\n",
              "    }\n",
              "</style>\n",
              "<table border=\"1\" class=\"dataframe\">\n",
              "  <thead>\n",
              "    <tr style=\"text-align: right;\">\n",
              "      <th></th>\n",
              "      <th>pid</th>\n",
              "      <th>timestamp</th>\n",
              "      <th>userid</th>\n",
              "      <th>traid</th>\n",
              "      <th>index</th>\n",
              "      <th>artid</th>\n",
              "      <th>albid</th>\n",
              "    </tr>\n",
              "  </thead>\n",
              "  <tbody>\n",
              "    <tr>\n",
              "      <th>0</th>\n",
              "      <td>0</td>\n",
              "      <td>1216545588</td>\n",
              "      <td>41504</td>\n",
              "      <td>3006631</td>\n",
              "      <td>3497675</td>\n",
              "      <td>371862</td>\n",
              "      <td>3382.0</td>\n",
              "    </tr>\n",
              "    <tr>\n",
              "      <th>57561</th>\n",
              "      <td>0</td>\n",
              "      <td>1216545588</td>\n",
              "      <td>41504</td>\n",
              "      <td>1885124</td>\n",
              "      <td>1975475</td>\n",
              "      <td>236238</td>\n",
              "      <td>108772.0</td>\n",
              "    </tr>\n",
              "    <tr>\n",
              "      <th>115122</th>\n",
              "      <td>0</td>\n",
              "      <td>1216545588</td>\n",
              "      <td>41504</td>\n",
              "      <td>2548942</td>\n",
              "      <td>2648397</td>\n",
              "      <td>319762</td>\n",
              "      <td>146914.0</td>\n",
              "    </tr>\n",
              "    <tr>\n",
              "      <th>172683</th>\n",
              "      <td>0</td>\n",
              "      <td>1216545588</td>\n",
              "      <td>41504</td>\n",
              "      <td>1350486</td>\n",
              "      <td>1370043</td>\n",
              "      <td>170088</td>\n",
              "      <td>1170088.0</td>\n",
              "    </tr>\n",
              "    <tr>\n",
              "      <th>230244</th>\n",
              "      <td>0</td>\n",
              "      <td>1216545588</td>\n",
              "      <td>41504</td>\n",
              "      <td>3734368</td>\n",
              "      <td>4235809</td>\n",
              "      <td>464920</td>\n",
              "      <td>1464920.0</td>\n",
              "    </tr>\n",
              "  </tbody>\n",
              "</table>\n",
              "</div>"
            ],
            "text/plain": [
              "        pid   timestamp  userid    traid    index   artid      albid\n",
              "0         0  1216545588   41504  3006631  3497675  371862     3382.0\n",
              "57561     0  1216545588   41504  1885124  1975475  236238   108772.0\n",
              "115122    0  1216545588   41504  2548942  2648397  319762   146914.0\n",
              "172683    0  1216545588   41504  1350486  1370043  170088  1170088.0\n",
              "230244    0  1216545588   41504  3734368  4235809  464920  1464920.0"
            ]
          },
          "metadata": {
            "tags": []
          },
          "execution_count": 8
        }
      ]
    },
    {
      "cell_type": "code",
      "metadata": {
        "id": "edLzPh9P4-_A",
        "colab_type": "code",
        "outputId": "39d137e5-fcd0-435d-835d-382f42740325",
        "colab": {
          "base_uri": "https://localhost:8080/",
          "height": 33
        }
      },
      "source": [
        "len(df)"
      ],
      "execution_count": 0,
      "outputs": [
        {
          "output_type": "execute_result",
          "data": {
            "text/plain": [
              "1603040"
            ]
          },
          "metadata": {
            "tags": []
          },
          "execution_count": 9
        }
      ]
    },
    {
      "cell_type": "code",
      "metadata": {
        "id": "CSz-0cQomPs7",
        "colab_type": "code",
        "outputId": "00437b3a-9bbd-484f-ad7e-a7e98214599d",
        "colab": {
          "base_uri": "https://localhost:8080/",
          "height": 217
        }
      },
      "source": [
        "def with_users_info(df):\n",
        "  users_names = [\"type\", \"userid\", \"timestamp\", \"json\"]\n",
        "  users_usecols = [\"userid\", \"json\"]\n",
        "  users_df = pd.read_csv(\"entities/users.idomaar\", sep=\"\\t\", names=users_names,\n",
        "                         usecols=users_usecols)\n",
        "\n",
        "  users_df = users_df[users_df[\"userid\"].isin(df[\"userid\"].drop_duplicates())]\n",
        "  s_userid = users_df[\"userid\"].reset_index()\n",
        "  users_df = pd.io.json.json_normalize(users_df[\"json\"].apply(yaml.load))\n",
        "  users_df = users_df.merge(s_userid, left_index=True, right_index=True)\n",
        "  users_df = users_df[[\"userid\", \"age\", \"country\", \"gender\"]]\n",
        "\n",
        "  df = df.join(users_df.set_index(\"userid\"), on=\"userid\")\n",
        "\n",
        "  return df\n",
        "\n",
        "df = with_users_info(df)\n",
        "df.head()"
      ],
      "execution_count": 0,
      "outputs": [
        {
          "output_type": "execute_result",
          "data": {
            "text/html": [
              "<div>\n",
              "<style scoped>\n",
              "    .dataframe tbody tr th:only-of-type {\n",
              "        vertical-align: middle;\n",
              "    }\n",
              "\n",
              "    .dataframe tbody tr th {\n",
              "        vertical-align: top;\n",
              "    }\n",
              "\n",
              "    .dataframe thead th {\n",
              "        text-align: right;\n",
              "    }\n",
              "</style>\n",
              "<table border=\"1\" class=\"dataframe\">\n",
              "  <thead>\n",
              "    <tr style=\"text-align: right;\">\n",
              "      <th></th>\n",
              "      <th>pid</th>\n",
              "      <th>timestamp</th>\n",
              "      <th>userid</th>\n",
              "      <th>traid</th>\n",
              "      <th>index</th>\n",
              "      <th>artid</th>\n",
              "      <th>albid</th>\n",
              "      <th>age</th>\n",
              "      <th>country</th>\n",
              "      <th>gender</th>\n",
              "    </tr>\n",
              "  </thead>\n",
              "  <tbody>\n",
              "    <tr>\n",
              "      <th>0</th>\n",
              "      <td>0</td>\n",
              "      <td>1216545588</td>\n",
              "      <td>41504</td>\n",
              "      <td>3006631</td>\n",
              "      <td>3497675</td>\n",
              "      <td>371862</td>\n",
              "      <td>3382.0</td>\n",
              "      <td>32.0</td>\n",
              "      <td>DE</td>\n",
              "      <td>m</td>\n",
              "    </tr>\n",
              "    <tr>\n",
              "      <th>57561</th>\n",
              "      <td>0</td>\n",
              "      <td>1216545588</td>\n",
              "      <td>41504</td>\n",
              "      <td>1885124</td>\n",
              "      <td>1975475</td>\n",
              "      <td>236238</td>\n",
              "      <td>108772.0</td>\n",
              "      <td>32.0</td>\n",
              "      <td>DE</td>\n",
              "      <td>m</td>\n",
              "    </tr>\n",
              "    <tr>\n",
              "      <th>115122</th>\n",
              "      <td>0</td>\n",
              "      <td>1216545588</td>\n",
              "      <td>41504</td>\n",
              "      <td>2548942</td>\n",
              "      <td>2648397</td>\n",
              "      <td>319762</td>\n",
              "      <td>146914.0</td>\n",
              "      <td>32.0</td>\n",
              "      <td>DE</td>\n",
              "      <td>m</td>\n",
              "    </tr>\n",
              "    <tr>\n",
              "      <th>172683</th>\n",
              "      <td>0</td>\n",
              "      <td>1216545588</td>\n",
              "      <td>41504</td>\n",
              "      <td>1350486</td>\n",
              "      <td>1370043</td>\n",
              "      <td>170088</td>\n",
              "      <td>1170088.0</td>\n",
              "      <td>32.0</td>\n",
              "      <td>DE</td>\n",
              "      <td>m</td>\n",
              "    </tr>\n",
              "    <tr>\n",
              "      <th>230244</th>\n",
              "      <td>0</td>\n",
              "      <td>1216545588</td>\n",
              "      <td>41504</td>\n",
              "      <td>3734368</td>\n",
              "      <td>4235809</td>\n",
              "      <td>464920</td>\n",
              "      <td>1464920.0</td>\n",
              "      <td>32.0</td>\n",
              "      <td>DE</td>\n",
              "      <td>m</td>\n",
              "    </tr>\n",
              "  </tbody>\n",
              "</table>\n",
              "</div>"
            ],
            "text/plain": [
              "        pid   timestamp  userid    traid  ...      albid   age  country  gender\n",
              "0         0  1216545588   41504  3006631  ...     3382.0  32.0       DE       m\n",
              "57561     0  1216545588   41504  1885124  ...   108772.0  32.0       DE       m\n",
              "115122    0  1216545588   41504  2548942  ...   146914.0  32.0       DE       m\n",
              "172683    0  1216545588   41504  1350486  ...  1170088.0  32.0       DE       m\n",
              "230244    0  1216545588   41504  3734368  ...  1464920.0  32.0       DE       m\n",
              "\n",
              "[5 rows x 10 columns]"
            ]
          },
          "metadata": {
            "tags": []
          },
          "execution_count": 10
        }
      ]
    },
    {
      "cell_type": "code",
      "metadata": {
        "id": "81PEBR5t6fhW",
        "colab_type": "code",
        "outputId": "442002ed-6e28-463c-f116-e8bfc419e622",
        "colab": {
          "base_uri": "https://localhost:8080/",
          "height": 33
        }
      },
      "source": [
        "len(df)"
      ],
      "execution_count": 0,
      "outputs": [
        {
          "output_type": "execute_result",
          "data": {
            "text/plain": [
              "1603040"
            ]
          },
          "metadata": {
            "tags": []
          },
          "execution_count": 11
        }
      ]
    },
    {
      "cell_type": "code",
      "metadata": {
        "id": "a82qBJRZefDY",
        "colab_type": "code",
        "colab": {}
      },
      "source": [
        "os.chdir(\"/drive/My Drive/\")"
      ],
      "execution_count": 0,
      "outputs": []
    },
    {
      "cell_type": "markdown",
      "metadata": {
        "id": "tkvn9eXFf-Hp",
        "colab_type": "text"
      },
      "source": [
        "After this, we can view statistics of the data set."
      ]
    },
    {
      "cell_type": "code",
      "metadata": {
        "id": "dC9BQMw26n-e",
        "colab_type": "code",
        "outputId": "6cace069-af7e-4422-8263-5313cddce52c",
        "colab": {
          "base_uri": "https://localhost:8080/",
          "height": 116
        }
      },
      "source": [
        "def get_statistics(df):\n",
        "  num_inters = len(df)\n",
        "  num_playlists = df[\"pid\"].nunique()\n",
        "  num_users = df[\"userid\"].nunique()\n",
        "  num_tracks = df[\"traid\"].nunique()\n",
        "  num_albums = df[\"albid\"].nunique()\n",
        "  num_artists = df[\"artid\"].nunique()\n",
        "  return num_inters, num_playlists, num_users, num_tracks, num_albums, num_artists\n",
        "\n",
        "\n",
        "def print_statistics(df):\n",
        "  print(\"{:,} interactions\\n{:,} playlists\\n{:,} users\\n{:,} tracks\\n{:,} albums\\n{:,} artists\"\n",
        "        .format(*get_statistics(df)))\n",
        "\n",
        "print_statistics(df)"
      ],
      "execution_count": 0,
      "outputs": [
        {
          "output_type": "stream",
          "text": [
            "1,603,040 interactions\n",
            "48,422 playlists\n",
            "15,102 users\n",
            "466,244 tracks\n",
            "140,807 albums\n",
            "64,089 artists\n"
          ],
          "name": "stdout"
        }
      ]
    },
    {
      "cell_type": "code",
      "metadata": {
        "id": "dzC0TAFKen6P",
        "colab_type": "code",
        "outputId": "5e544814-fe49-4386-a92e-c7fed55f01c6",
        "colab": {
          "base_uri": "https://localhost:8080/",
          "height": 314
        }
      },
      "source": [
        "def plot_playlists_per_track(df):\n",
        "  plt.figure(figsize=(12, 4))\n",
        "  track_ps_df = df[[\"pid\", \"traid\"]].drop_duplicates()[\"traid\"].value_counts()\n",
        "  \n",
        "  plt.subplot(1, 2, 1)\n",
        "  track_ps_df.hist(bins=range(0, 50))\n",
        "  plt.ylabel(\"Number of tracks\")\n",
        "  plt.xlabel(\"Number of playlists with the tracks\")\n",
        "  plt.title(\"Playlists per track\")\n",
        "\n",
        "  plt.subplot(1, 2, 2)\n",
        "  track_ps_df.hist(bins=range(50, track_ps_df.max()))\n",
        "  plt.ylabel(\"Number of tracks\")\n",
        "  plt.xlabel(\"Number of playlists with the tracks\")\n",
        "  plt.title(\"Playlists per track (for > 50 playlists)\")\n",
        "\n",
        "  plt.subplots_adjust(wspace=0.4)\n",
        "\n",
        "plot_playlists_per_track(df);"
      ],
      "execution_count": 0,
      "outputs": [
        {
          "output_type": "display_data",
          "data": {
            "image/png": "[encoded data removed]",
            "text/plain": [
              "<Figure size 864x288 with 2 Axes>"
            ]
          },
          "metadata": {
            "tags": []
          }
        }
      ]
    },
    {
      "cell_type": "code",
      "metadata": {
        "id": "HSXA2vmkfz2t",
        "colab_type": "code",
        "outputId": "18bcce2b-94a8-4500-b857-bb47f9d9f1c8",
        "colab": {
          "base_uri": "https://localhost:8080/",
          "height": 294
        }
      },
      "source": [
        "def plot_tracks_per_playlist(df):\n",
        "  p_tracks_df = df[[\"pid\", \"traid\"]].drop_duplicates()[\"pid\"].value_counts()\n",
        "  p_tracks_df.hist(bins=range(0, p_tracks_df.max()))\n",
        "  plt.ylabel(\"Number of playlists\")\n",
        "  plt.xlabel(\"Number of tracks in the playlists\")\n",
        "  plt.title(\"Tracks per playlist\")\n",
        "\n",
        "plot_tracks_per_playlist(df);"
      ],
      "execution_count": 0,
      "outputs": [
        {
          "output_type": "display_data",
          "data": {
            "image/png": "[encoded data removed]",
            "text/plain": [
              "<Figure size 432x288 with 1 Axes>"
            ]
          },
          "metadata": {
            "tags": []
          }
        }
      ]
    },
    {
      "cell_type": "code",
      "metadata": {
        "id": "MKdTHLf6isYj",
        "colab_type": "code",
        "colab": {}
      },
      "source": [
        "def plot_both(df):\n",
        "  plt.figure(figsize=(12, 4))\n",
        "  \n",
        "  track_ps_df = df[[\"pid\", \"traid\"]].drop_duplicates()[\"traid\"].value_counts()\n",
        "  plt.subplot(1, 2, 1)\n",
        "  track_ps_df.hist(bins=range(0, 50))\n",
        "  plt.ylabel(\"#tracks\")\n",
        "  plt.xlabel(\"#playlists with the tracks\")\n",
        "  plt.title(\"Playlists per track\")\n",
        "  plt.grid(False);\n",
        "\n",
        "  p_tracks_df = df[[\"pid\", \"traid\"]].drop_duplicates()[\"pid\"].value_counts()\n",
        "  plt.subplot(1, 2, 2)\n",
        "  p_tracks_df.hist(bins=range(0, p_tracks_df.max()))\n",
        "  plt.ylabel(\"#playlists\")\n",
        "  plt.xlabel(\"#tracks in the playlists\")\n",
        "  plt.title(\"Tracks per playlist\")\n",
        "  plt.suptitle(\"30Music\")\n",
        "  plt.grid(False);\n",
        "\n",
        "  plt.subplots_adjust(wspace=0.2)"
      ],
      "execution_count": 0,
      "outputs": []
    },
    {
      "cell_type": "markdown",
      "metadata": {
        "id": "0-eAYoBrf6rU",
        "colab_type": "text"
      },
      "source": [
        "As further preprocessing we remove the following:\n",
        "\n",
        "*   Tracks ocurring in only one playlist: of small use\n",
        "*   Playlists with less than 3 tracks: not useable for train-validation-test split"
      ]
    },
    {
      "cell_type": "code",
      "metadata": {
        "id": "5T2_evHRey-a",
        "colab_type": "code",
        "outputId": "0b865206-44fb-4222-8141-4248cfeba0b8",
        "colab": {
          "base_uri": "https://localhost:8080/",
          "height": 166
        }
      },
      "source": [
        "def with_min_track_ps(df, min_track_ps = 2):\n",
        "  track_ps_df = df[[\"pid\", \"traid\"]].drop_duplicates()[\"traid\"].value_counts()\n",
        "  rm_tracks_idx = track_ps_df[track_ps_df < min_track_ps].index\n",
        "  df = df[~df[\"traid\"].isin(rm_tracks_idx)]\n",
        "  num_rm_tracks = rm_tracks_idx.size\n",
        "  print(\"removed {:,} tracks which were in less than {} playlists\"\n",
        "        .format(num_rm_tracks, min_track_ps))\n",
        "  return df\n",
        "\n",
        "def with_min_p_inters(df, min_p_inters = 3):\n",
        "  p_inters_df = df[\"pid\"].value_counts()\n",
        "  rm_p_idx = p_inters_df[p_inters_df < min_p_inters].index\n",
        "  df = df[~df[\"pid\"].isin(rm_p_idx)]\n",
        "  num_rm_ps = rm_p_idx.size\n",
        "  print(\"removed {:,} playlists which had less than {} track interactions\\n\"\n",
        "        .format(num_rm_ps, min_p_inters))\n",
        "  return df\n",
        "\n",
        "df = with_min_track_ps(df)\n",
        "df = with_min_p_inters(df)\n",
        "\n",
        "print_statistics(df)"
      ],
      "execution_count": 0,
      "outputs": [
        {
          "output_type": "stream",
          "text": [
            "removed 252,370 tracks which were in less than 2 playlists\n",
            "removed 5,519 playlists which had less than 3 track interactions\n",
            "\n",
            "1,341,812 interactions\n",
            "41,784 playlists\n",
            "13,953 users\n",
            "213,820 tracks\n",
            "72,053 albums\n",
            "32,458 artists\n"
          ],
          "name": "stdout"
        }
      ]
    },
    {
      "cell_type": "markdown",
      "metadata": {
        "id": "m5fPXZQVj_Do",
        "colab_type": "text"
      },
      "source": [
        "We also check if playlists sometimes contain the same track multiple times - and see that this is nearly never the case."
      ]
    },
    {
      "cell_type": "code",
      "metadata": {
        "id": "G_gBElABgBpw",
        "colab_type": "code",
        "outputId": "111b5a83-c5df-426a-de01-172fb8fed692",
        "colab": {
          "base_uri": "https://localhost:8080/",
          "height": 171
        }
      },
      "source": [
        "duplicates_df = df.groupby([\"pid\", \"traid\"]).size()\n",
        "duplicates_df = duplicates_df[duplicates_df > 2].reset_index()\n",
        "\n",
        "print(\"{:,} duplications in playlists\\n\".format(len(duplicates_df)))\n",
        "\n",
        "duplicates_df.head()"
      ],
      "execution_count": 0,
      "outputs": [
        {
          "output_type": "stream",
          "text": [
            "3 duplications in playlists\n",
            "\n"
          ],
          "name": "stdout"
        },
        {
          "output_type": "execute_result",
          "data": {
            "text/html": [
              "<div>\n",
              "<style scoped>\n",
              "    .dataframe tbody tr th:only-of-type {\n",
              "        vertical-align: middle;\n",
              "    }\n",
              "\n",
              "    .dataframe tbody tr th {\n",
              "        vertical-align: top;\n",
              "    }\n",
              "\n",
              "    .dataframe thead th {\n",
              "        text-align: right;\n",
              "    }\n",
              "</style>\n",
              "<table border=\"1\" class=\"dataframe\">\n",
              "  <thead>\n",
              "    <tr style=\"text-align: right;\">\n",
              "      <th></th>\n",
              "      <th>pid</th>\n",
              "      <th>traid</th>\n",
              "      <th>0</th>\n",
              "    </tr>\n",
              "  </thead>\n",
              "  <tbody>\n",
              "    <tr>\n",
              "      <th>0</th>\n",
              "      <td>41463</td>\n",
              "      <td>453754</td>\n",
              "      <td>3</td>\n",
              "    </tr>\n",
              "    <tr>\n",
              "      <th>1</th>\n",
              "      <td>44211</td>\n",
              "      <td>3148952</td>\n",
              "      <td>3</td>\n",
              "    </tr>\n",
              "    <tr>\n",
              "      <th>2</th>\n",
              "      <td>53756</td>\n",
              "      <td>2647483</td>\n",
              "      <td>3</td>\n",
              "    </tr>\n",
              "  </tbody>\n",
              "</table>\n",
              "</div>"
            ],
            "text/plain": [
              "     pid    traid  0\n",
              "0  41463   453754  3\n",
              "1  44211  3148952  3\n",
              "2  53756  2647483  3"
            ]
          },
          "metadata": {
            "tags": []
          },
          "execution_count": 18
        }
      ]
    },
    {
      "cell_type": "code",
      "metadata": {
        "id": "r7cNPRw6hFXU",
        "colab_type": "code",
        "outputId": "f649a12a-c89a-4c70-97d0-64694067eb85",
        "colab": {
          "base_uri": "https://localhost:8080/",
          "height": 314
        }
      },
      "source": [
        "plot_playlists_per_track(df);"
      ],
      "execution_count": 0,
      "outputs": [
        {
          "output_type": "display_data",
          "data": {
            "image/png": "[encoded data removed]",
            "text/plain": [
              "<Figure size 864x288 with 2 Axes>"
            ]
          },
          "metadata": {
            "tags": []
          }
        }
      ]
    },
    {
      "cell_type": "code",
      "metadata": {
        "id": "VOrv8ej0a1yq",
        "colab_type": "code",
        "outputId": "849b3b67-0fe1-4e94-ceb4-fec1288edb38",
        "colab": {
          "base_uri": "https://localhost:8080/",
          "height": 33
        }
      },
      "source": [
        "df[[\"pid\", \"traid\"]].drop_duplicates()[\"traid\"].value_counts().mean()"
      ],
      "execution_count": 0,
      "outputs": [
        {
          "output_type": "execute_result",
          "data": {
            "text/plain": [
              "6.272051258067534"
            ]
          },
          "metadata": {
            "tags": []
          },
          "execution_count": 20
        }
      ]
    },
    {
      "cell_type": "code",
      "metadata": {
        "id": "h4v0x7WrkL7T",
        "colab_type": "code",
        "outputId": "f8f59526-f1b5-4a30-86c4-1c8c266b456a",
        "colab": {
          "base_uri": "https://localhost:8080/",
          "height": 294
        }
      },
      "source": [
        "plot_tracks_per_playlist(df);"
      ],
      "execution_count": 0,
      "outputs": [
        {
          "output_type": "display_data",
          "data": {
            "image/png": "[encoded data removed]",
            "text/plain": [
              "<Figure size 432x288 with 1 Axes>"
            ]
          },
          "metadata": {
            "tags": []
          }
        }
      ]
    },
    {
      "cell_type": "code",
      "metadata": {
        "id": "OF-qlMAJa49a",
        "colab_type": "code",
        "outputId": "090cdf86-24fc-4982-f250-ea8574cf23c5",
        "colab": {
          "base_uri": "https://localhost:8080/",
          "height": 33
        }
      },
      "source": [
        "df[[\"pid\", \"traid\"]].drop_duplicates()[\"pid\"].value_counts().mean()"
      ],
      "execution_count": 0,
      "outputs": [
        {
          "output_type": "execute_result",
          "data": {
            "text/plain": [
              "32.095778288340036"
            ]
          },
          "metadata": {
            "tags": []
          },
          "execution_count": 22
        }
      ]
    },
    {
      "cell_type": "code",
      "metadata": {
        "id": "bIWbnSJXi0M2",
        "colab_type": "code",
        "outputId": "d60416a2-d6c4-4a38-93d1-066cbe1049ed",
        "colab": {
          "base_uri": "https://localhost:8080/",
          "height": 327
        }
      },
      "source": [
        "plot_both(df)"
      ],
      "execution_count": 0,
      "outputs": [
        {
          "output_type": "display_data",
          "data": {
            "image/png": "[encoded data removed]",
            "text/plain": [
              "<Figure size 864x288 with 2 Axes>"
            ]
          },
          "metadata": {
            "tags": []
          }
        }
      ]
    },
    {
      "cell_type": "code",
      "metadata": {
        "id": "HKr9uQoLETEb",
        "colab_type": "code",
        "colab": {}
      },
      "source": [
        "def plot_long_tail(df):\n",
        "  track_counts = df[\"traid\"].value_counts().sort_values(ascending=False)\n",
        "  track_perc = track_counts.cumsum() / track_counts.sum()\n",
        "  xlabels = [0.0, 0.2, 0.4, 0.6, 0.8, 1.0]\n",
        "  xticks = [x * track_counts.size for x in xlabels]\n",
        "  track_perc.plot(use_index=False, ylim=(0.0, 1.0))\n",
        "  plt.xticks(ticks=xticks, labels=xlabels)\n",
        "  plt.ylabel(\"cumulative % of track occurence\")\n",
        "  plt.xlabel(\"% of tracks\")\n",
        "  plt.title(\"30Music\")\n",
        "  plt.grid(True);"
      ],
      "execution_count": 0,
      "outputs": []
    },
    {
      "cell_type": "code",
      "metadata": {
        "id": "KGKVM05AEU7_",
        "colab_type": "code",
        "outputId": "ff40cd06-1262-41b0-e455-ea0d619c88ce",
        "colab": {
          "base_uri": "https://localhost:8080/",
          "height": 294
        }
      },
      "source": [
        "plot_long_tail(df)"
      ],
      "execution_count": 0,
      "outputs": [
        {
          "output_type": "display_data",
          "data": {
            "image/png": "[encoded data removed]",
            "text/plain": [
              "<Figure size 432x288 with 1 Axes>"
            ]
          },
          "metadata": {
            "tags": []
          }
        }
      ]
    },
    {
      "cell_type": "code",
      "metadata": {
        "id": "huBuwMnZ-qkF",
        "colab_type": "code",
        "outputId": "070845f6-7edc-4c99-ca25-dbea0f8169fc",
        "colab": {
          "base_uri": "https://localhost:8080/",
          "height": 264
        }
      },
      "source": [
        "df[[\"userid\", \"age\"]].drop_duplicates()[\"age\"].hist(bins=int(df[\"age\"].max()));"
      ],
      "execution_count": 0,
      "outputs": [
        {
          "output_type": "display_data",
          "data": {
            "image/png": "[encoded data removed]",
            "text/plain": [
              "<Figure size 432x288 with 1 Axes>"
            ]
          },
          "metadata": {
            "tags": []
          }
        }
      ]
    },
    {
      "cell_type": "code",
      "metadata": {
        "id": "tRAcaLKtOLAj",
        "colab_type": "code",
        "colab": {}
      },
      "source": [
        "df[\"b_age\"] = pd.cut(df[\"age\"], [-1, 0, 15, 20, 25, 30, 35, 40, 50, 60, 110], right=False,\n",
        "                        labels=[0, 1, 2, 3, 4, 5, 6, 7, 8, 9])\n",
        "df[\"b_age\"].fillna(0, inplace=True)\n",
        "df[\"b_age\"] = df[\"b_age\"].astype(int, copy=False)"
      ],
      "execution_count": 0,
      "outputs": []
    },
    {
      "cell_type": "code",
      "metadata": {
        "id": "qqS852OIQ0Y9",
        "colab_type": "code",
        "outputId": "0c14ed96-ed9f-470f-c372-7ad9c55b9e9d",
        "colab": {
          "base_uri": "https://localhost:8080/",
          "height": 264
        }
      },
      "source": [
        "df[[\"userid\", \"b_age\"]].drop_duplicates()[\"b_age\"].hist(bins=int(df[\"b_age\"].max()));"
      ],
      "execution_count": 0,
      "outputs": [
        {
          "output_type": "display_data",
          "data": {
            "image/png": "[encoded data removed]",
            "text/plain": [
              "<Figure size 432x288 with 1 Axes>"
            ]
          },
          "metadata": {
            "tags": []
          }
        }
      ]
    },
    {
      "cell_type": "code",
      "metadata": {
        "id": "oe0B-QIhAGxR",
        "colab_type": "code",
        "colab": {}
      },
      "source": [
        "df[\"gender\"].replace(\"n\", None, inplace=True)\n",
        "df[\"gender\"].replace(\"\", None, inplace=True)"
      ],
      "execution_count": 0,
      "outputs": []
    },
    {
      "cell_type": "code",
      "metadata": {
        "id": "ULr_99oECMN8",
        "colab_type": "code",
        "colab": {}
      },
      "source": [
        "df[\"country\"].replace(\"\", None, inplace=True)"
      ],
      "execution_count": 0,
      "outputs": []
    },
    {
      "cell_type": "markdown",
      "metadata": {
        "id": "A7YYnx6JlqzX",
        "colab_type": "text"
      },
      "source": [
        "Finally, we also add the previous track, album and artist as column."
      ]
    },
    {
      "cell_type": "code",
      "metadata": {
        "id": "jfy_D84ylfnr",
        "colab_type": "code",
        "outputId": "a545f6c9-e6e4-45db-b5d5-6f7196b6aeda",
        "colab": {
          "base_uri": "https://localhost:8080/",
          "height": 217
        }
      },
      "source": [
        "def with_prev_columns(df):\n",
        "  gp = df.groupby(\"pid\")\n",
        "  df[\"prev_traid\"] = gp[\"traid\"].shift(1)\n",
        "  df[\"prev_albid\"] = gp[\"albid\"].shift(1)\n",
        "  df[\"prev_artid\"] = gp[\"artid\"].shift(1)\n",
        "  return df\n",
        "\n",
        "df = with_prev_columns(df)\n",
        "df.head()"
      ],
      "execution_count": 0,
      "outputs": [
        {
          "output_type": "execute_result",
          "data": {
            "text/html": [
              "<div>\n",
              "<style scoped>\n",
              "    .dataframe tbody tr th:only-of-type {\n",
              "        vertical-align: middle;\n",
              "    }\n",
              "\n",
              "    .dataframe tbody tr th {\n",
              "        vertical-align: top;\n",
              "    }\n",
              "\n",
              "    .dataframe thead th {\n",
              "        text-align: right;\n",
              "    }\n",
              "</style>\n",
              "<table border=\"1\" class=\"dataframe\">\n",
              "  <thead>\n",
              "    <tr style=\"text-align: right;\">\n",
              "      <th></th>\n",
              "      <th>pid</th>\n",
              "      <th>timestamp</th>\n",
              "      <th>userid</th>\n",
              "      <th>traid</th>\n",
              "      <th>index</th>\n",
              "      <th>artid</th>\n",
              "      <th>albid</th>\n",
              "      <th>age</th>\n",
              "      <th>country</th>\n",
              "      <th>gender</th>\n",
              "      <th>b_age</th>\n",
              "      <th>prev_traid</th>\n",
              "      <th>prev_albid</th>\n",
              "      <th>prev_artid</th>\n",
              "    </tr>\n",
              "  </thead>\n",
              "  <tbody>\n",
              "    <tr>\n",
              "      <th>0</th>\n",
              "      <td>0</td>\n",
              "      <td>1216545588</td>\n",
              "      <td>41504</td>\n",
              "      <td>3006631</td>\n",
              "      <td>3497675</td>\n",
              "      <td>371862</td>\n",
              "      <td>3382.0</td>\n",
              "      <td>32.0</td>\n",
              "      <td>DE</td>\n",
              "      <td>m</td>\n",
              "      <td>5</td>\n",
              "      <td>NaN</td>\n",
              "      <td>NaN</td>\n",
              "      <td>NaN</td>\n",
              "    </tr>\n",
              "    <tr>\n",
              "      <th>57561</th>\n",
              "      <td>0</td>\n",
              "      <td>1216545588</td>\n",
              "      <td>41504</td>\n",
              "      <td>1885124</td>\n",
              "      <td>1975475</td>\n",
              "      <td>236238</td>\n",
              "      <td>108772.0</td>\n",
              "      <td>32.0</td>\n",
              "      <td>DE</td>\n",
              "      <td>m</td>\n",
              "      <td>5</td>\n",
              "      <td>3006631.0</td>\n",
              "      <td>3382.0</td>\n",
              "      <td>371862.0</td>\n",
              "    </tr>\n",
              "    <tr>\n",
              "      <th>115122</th>\n",
              "      <td>0</td>\n",
              "      <td>1216545588</td>\n",
              "      <td>41504</td>\n",
              "      <td>2548942</td>\n",
              "      <td>2648397</td>\n",
              "      <td>319762</td>\n",
              "      <td>146914.0</td>\n",
              "      <td>32.0</td>\n",
              "      <td>DE</td>\n",
              "      <td>m</td>\n",
              "      <td>5</td>\n",
              "      <td>1885124.0</td>\n",
              "      <td>108772.0</td>\n",
              "      <td>236238.0</td>\n",
              "    </tr>\n",
              "    <tr>\n",
              "      <th>172683</th>\n",
              "      <td>0</td>\n",
              "      <td>1216545588</td>\n",
              "      <td>41504</td>\n",
              "      <td>1350486</td>\n",
              "      <td>1370043</td>\n",
              "      <td>170088</td>\n",
              "      <td>1170088.0</td>\n",
              "      <td>32.0</td>\n",
              "      <td>DE</td>\n",
              "      <td>m</td>\n",
              "      <td>5</td>\n",
              "      <td>2548942.0</td>\n",
              "      <td>146914.0</td>\n",
              "      <td>319762.0</td>\n",
              "    </tr>\n",
              "    <tr>\n",
              "      <th>230244</th>\n",
              "      <td>0</td>\n",
              "      <td>1216545588</td>\n",
              "      <td>41504</td>\n",
              "      <td>3734368</td>\n",
              "      <td>4235809</td>\n",
              "      <td>464920</td>\n",
              "      <td>1464920.0</td>\n",
              "      <td>32.0</td>\n",
              "      <td>DE</td>\n",
              "      <td>m</td>\n",
              "      <td>5</td>\n",
              "      <td>1350486.0</td>\n",
              "      <td>1170088.0</td>\n",
              "      <td>170088.0</td>\n",
              "    </tr>\n",
              "  </tbody>\n",
              "</table>\n",
              "</div>"
            ],
            "text/plain": [
              "        pid   timestamp  userid  ...  prev_traid  prev_albid  prev_artid\n",
              "0         0  1216545588   41504  ...         NaN         NaN         NaN\n",
              "57561     0  1216545588   41504  ...   3006631.0      3382.0    371862.0\n",
              "115122    0  1216545588   41504  ...   1885124.0    108772.0    236238.0\n",
              "172683    0  1216545588   41504  ...   2548942.0    146914.0    319762.0\n",
              "230244    0  1216545588   41504  ...   1350486.0   1170088.0    170088.0\n",
              "\n",
              "[5 rows x 14 columns]"
            ]
          },
          "metadata": {
            "tags": []
          },
          "execution_count": 31
        }
      ]
    },
    {
      "cell_type": "markdown",
      "metadata": {
        "id": "yPjVJaZOl5A-",
        "colab_type": "text"
      },
      "source": [
        "# Evaluation split"
      ]
    },
    {
      "cell_type": "markdown",
      "metadata": {
        "id": "snSJtPO5l72g",
        "colab_type": "text"
      },
      "source": [
        "First, we define functions for converting dataframe columns to one-hot indices in accordance with a train-test-validation split."
      ]
    },
    {
      "cell_type": "code",
      "metadata": {
        "id": "s5LluixCAB3f",
        "colab_type": "code",
        "colab": {}
      },
      "source": [
        "def col2id_col(df, col, mappings, rvs_mappings):\n",
        "  if col in mappings:\n",
        "    df[col] = df[col].map(mappings[col])\n",
        "    df[col].fillna(0, inplace=True)\n",
        "  else:\n",
        "    df[col], rvs_mappings[col] = df[col].factorize()\n",
        "    df[col] += 1\n",
        "    rvs_mappings[col] = rvs_mappings[col].insert(0, None)\n",
        "    mappings[col] = {col_val: i for i, col_val in enumerate(rvs_mappings[col])}\n",
        "\n",
        "  df[col] = df[col].astype(\"int64\", copy=False)\n",
        "\n",
        "\n",
        "def df2id_df(df, id_cols, mappings, rvs_mappings):\n",
        "  for id_col in id_cols:\n",
        "    col2id_col(df, id_col, mappings, rvs_mappings)\n",
        "\n",
        "\n",
        "def split_dfs2id_dfs(train_df, test_df=None, val_df=None, copy=True, cols=[],\n",
        "                     same_col_pairs=[]):\n",
        "  \"\"\"\n",
        "  Map columns of dataframes to one-hot indices.\n",
        "  Test and validation dataframes will use the mappings of the train dataframe.\n",
        "  Index 0 is used for missing and unknown (test and validation) column values.\n",
        "\n",
        "  same_col_pairs are (src_col, same_col) pairs where same_col uses the same\n",
        "  mappings as src_col.\n",
        "  \"\"\"\n",
        "  id_mappings = dict()\n",
        "  rvs_id_mappings = dict()\n",
        "  \n",
        "  if copy:\n",
        "    train_df = train_df.copy()\n",
        "    if test_df is not None:\n",
        "      test_df = test_df.copy()\n",
        "    if val_df is not None:\n",
        "      val_df = val_df.copy()\n",
        "  \n",
        "  dfs = [df for df in [train_df, val_df, test_df] if df is not None]\n",
        "\n",
        "  train_df = dfs[0]\n",
        "  for df in dfs:\n",
        "    df2id_df(df, cols, id_mappings, rvs_id_mappings)\n",
        "\n",
        "  for src_col, same_col in same_col_pairs:\n",
        "    id_mappings[same_col] = id_mappings[src_col]\n",
        "  \n",
        "  same_cols = [same_col for _, same_col in same_col_pairs]\n",
        "\n",
        "  for df in dfs:\n",
        "    df2id_df(df, same_cols, id_mappings, rvs_id_mappings)\n",
        "\n",
        "  if copy:\n",
        "    return tuple(dfs)"
      ],
      "execution_count": 0,
      "outputs": []
    },
    {
      "cell_type": "markdown",
      "metadata": {
        "id": "FOKVjErt3C8H",
        "colab_type": "text"
      },
      "source": [
        "Now we set the columns we want to map to one-hot indices."
      ]
    },
    {
      "cell_type": "code",
      "metadata": {
        "id": "vxfHVSw73F78",
        "colab_type": "code",
        "colab": {}
      },
      "source": [
        "# columns to use\n",
        "use_cols = [\"pid\", \"userid\", \"country\", \"gender\",\n",
        "            \"artid\", \"albid\", \"traid\"]\n",
        "\n",
        "# other columns to use with the same mappings as the previous columns\n",
        "use_col_pairs = [(\"artid\", \"prev_artid\"),\n",
        "                 (\"albid\", \"prev_albid\"),\n",
        "                 (\"traid\", \"prev_traid\")]\n",
        "\n",
        "# which columns are user/context columns - and known as query context\n",
        "non_track_cols = [\"pid\", \"userid\", \"b_age\", \"country\", \"gender\",\n",
        "                  \"prev_traid\", \"prev_albid\", \"prev_artid\"]\n",
        "\n",
        "# which columns are item columns - and known only as query seeds\n",
        "track_cols = [\"traid\", \"albid\", \"artid\"]"
      ],
      "execution_count": 0,
      "outputs": []
    },
    {
      "cell_type": "markdown",
      "metadata": {
        "id": "k0ltR-Y9l_OJ",
        "colab_type": "text"
      },
      "source": [
        "Now we define the different evaluation splits to use. See section 5.1 of my master's thesis."
      ]
    },
    {
      "cell_type": "code",
      "metadata": {
        "id": "FcIW-4eYAQyt",
        "colab_type": "code",
        "colab": {}
      },
      "source": [
        "def _to_query_ctx(df):\n",
        "  return df[non_track_cols]\n",
        "\n",
        "\n",
        "def _to_query(concat_df):\n",
        "  concat_df[track_cols] = concat_df[track_cols].fillna(0)\n",
        "  concat_df[track_cols] = concat_df[track_cols].astype(\"int64\", copy=False)\n",
        "  return concat_df\n",
        "\n",
        "\n",
        "def get_query_seeds(query_df):\n",
        "  \"\"\"\n",
        "  Get the seed tracks of a query dataframe\n",
        "  \"\"\"\n",
        "  return query_df[query_df[\"traid\"] != 0]\n",
        "\n",
        "\n",
        "def get_query_ctx(query_df):\n",
        "  \"\"\"\n",
        "  Get the context of a query dataframe - \n",
        "  the actual target information without any target track information\n",
        "  \"\"\"\n",
        "  return _to_query_ctx(query_df[query_df[\"traid\"] == 0])\n",
        "\n",
        "\n",
        "def _last_track_split(df, as_val):\n",
        "  i = 2 if as_val else 1\n",
        "  gp = df.groupby(\"pid\")\n",
        "  train_df = df[gp.cumcount(ascending=False) >= i]\n",
        "  test_df = gp.nth(-i).reset_index()\n",
        "  return train_df, test_df\n",
        "\n",
        "\n",
        "def _users_split(df, n_test_users, seed):\n",
        "  users = df[\"pid\"].drop_duplicates()\n",
        "  np.random.seed(seed)\n",
        "  test_users = np.random.choice(users, n_test_users, replace=False)\n",
        "  test_users_mask = df[\"pid\"].isin(test_users)\n",
        "  test_users_df = df[test_users_mask]\n",
        "  train_users_df = df[~test_users_mask]\n",
        "  return train_users_df, test_users_df\n",
        "\n",
        "\n",
        "def _known_last_track_split(df, as_val, seed, n_test_users=None):\n",
        "  train_df, test_df = _last_track_split(df, as_val)\n",
        "\n",
        "  train_tracks = pd.Index(train_df[\"traid\"].drop_duplicates())\n",
        "  test_tracks = pd.Index(test_df[\"traid\"].drop_duplicates())\n",
        "  unknown_tracks = test_tracks.difference(train_tracks)\n",
        "  unknown_mask = test_df[\"traid\"].isin(unknown_tracks)\n",
        "  unknown_pids = pd.Index(test_df[unknown_mask][\"pid\"])\n",
        "\n",
        "  unknown_mask = df[\"pid\"].isin(unknown_pids)\n",
        "  known_df = df[~unknown_mask]\n",
        "  unknown_df = df[unknown_mask]\n",
        "\n",
        "  if n_test_users:\n",
        "    train_users_df, test_users_df = _users_split(known_df, n_test_users, seed)\n",
        "    train_df, test_df = _last_track_split(test_users_df, as_val)\n",
        "    train_df = pd.concat([unknown_df, train_users_df, train_df], sort=False)\n",
        "  else:\n",
        "    train_df, test_df = _last_track_split(known_df, as_val)\n",
        "    train_df = pd.concat([unknown_df, train_df], sort=False)\n",
        "\n",
        "  train_df.sort_values(\"pid\", inplace=True, kind=\"mergesort\")\n",
        "\n",
        "  return train_df, test_df\n",
        "\n",
        "\n",
        "def _last_track_query(train_df, test_df, n_test_users=None):\n",
        "  if n_test_users:\n",
        "    test_pids = pd.Index(test_df[\"pid\"])\n",
        "    test_query_df = train_df[train_df[\"pid\"].isin(test_pids)]\n",
        "  else:\n",
        "    test_query_df = train_df\n",
        "\n",
        "  test_query_ctx_df = _to_query_ctx(test_df)\n",
        "  test_query_df = pd.concat([test_query_df, test_query_ctx_df], sort=False)\n",
        "  test_query_df = _to_query(test_query_df)\n",
        "\n",
        "  return test_query_df\n",
        "\n",
        "\n",
        "def last_track_split(df, as_val=False, n_test_users=None, seed=1):\n",
        "  \"\"\"\n",
        "  Split the dataframe into train and validation or test dataframes.\n",
        "  The test dataframe contains the last track of each or n_test_users random\n",
        "  users, the validation dataframe the second-last. Only returns validation or \n",
        "  test users with known (second-)last track indices.\n",
        "\n",
        "  Also returns a query dataframe corresponding to the validation or test\n",
        "  dataframe.\n",
        "\n",
        "  Columns are mapped to one-hot indices in the process. \n",
        "  \"\"\"\n",
        "  train_df, test_df = _known_last_track_split(df, as_val, seed, n_test_users)\n",
        "\n",
        "  train_df, test_df = split_dfs2id_dfs(train_df, test_df=test_df, cols=use_cols,\n",
        "                                       same_col_pairs=use_col_pairs)\n",
        "\n",
        "  return train_df, test_df, _last_track_query(train_df, test_df, n_test_users)\n",
        "\n",
        "\n",
        "def _seed_users_split(df, n_test_users, include_val, n_seed_tracks, seed):\n",
        "  gp = df.groupby(\"pid\")\n",
        "  seed_df = gp.filter(lambda g: g.size > n_seed_tracks)\n",
        "  non_seed_df = gp.filter(lambda g: g.size <= n_seed_tracks)\n",
        "\n",
        "  train_df, test_df = _users_split(seed_df, n_test_users, seed)\n",
        "\n",
        "  val_df = None\n",
        "  if include_val:\n",
        "    train_df, val_df = _users_split(train_df, n_test_users, seed)\n",
        "\n",
        "  train_df = pd.concat([train_df, non_seed_df], sort=False)\n",
        "  train_df.sort_values(\"pid\", inplace=True, kind=\"mergesort\")\n",
        "\n",
        "  if include_val:\n",
        "    return train_df, val_df, test_df\n",
        "  else:\n",
        "    return train_df, test_df\n",
        "\n",
        "\n",
        "def _seed_query_split(df, n_seed_tracks):\n",
        "  gp = df.groupby(\"pid\", as_index=False)\n",
        "  test_df = df[gp.cumcount() >= n_seed_tracks]\n",
        "  query_df = gp.head(n_seed_tracks)\n",
        "  query_ctx_df = _to_query_ctx(gp.nth(n_seed_tracks))\n",
        "  query_df = _to_query(pd.concat([query_df, query_ctx_df], sort=False))\n",
        "  query_df.sort_values(\"pid\", inplace=True, kind=\"mergesort\")\n",
        "  return test_df, query_df\n",
        "\n",
        "\n",
        "def users_split(df, n_test_users, include_val=False, n_seed_tracks=5, seed=1):\n",
        "  \"\"\"\n",
        "  Split the dataframe into train, optional validation and test dataframes.\n",
        "  The test and validation dataframe each contain n_test_users users and\n",
        "  the train dataframe the other users. The validation and test dataframes\n",
        "  each contain the users tracks after his/her first n_seed_tracks tracks.\n",
        "  Only returns validation or test users with more than n_seed_tracks tracks.\n",
        "\n",
        "  Also returns query dataframes corresponding to the validation and test\n",
        "  dataframes.\n",
        "\n",
        "  Columns are mapped to one-hot indices in the process,\n",
        "  but train, validation and test dataframes have separate pid indices,\n",
        "  all start from 0!\n",
        "  \"\"\"\n",
        "  # TODO: known\n",
        "  dfs = _seed_users_split(df, n_test_users, include_val, n_seed_tracks, seed)\n",
        "\n",
        "  # pids are separate for each split - all start from 0, to different n\n",
        "  dfs = (split_dfs2id_dfs(df, cols=[\"pid\"])[0] for df in dfs)\n",
        "  if include_val:\n",
        "    train_df, val_df, test_df = dfs\n",
        "  else:\n",
        "    train_df, test_df = dfs\n",
        "    val_df = None\n",
        "\n",
        "  # TODO: use_cols without pid\n",
        "  split_dfs2id_dfs(train_df, test_df=test_df, val_df=val_df, cols=use_cols,\n",
        "                   same_col_pairs=use_col_pairs, copy=False)\n",
        "  \n",
        "  test_df, test_query_df = _seed_query_split(test_df, n_seed_tracks)\n",
        "  val_query_df = None\n",
        "  if include_val:\n",
        "    val_df, val_query_df = _seed_query_split(val_df, n_seed_tracks)\n",
        "\n",
        "  dfs = train_df, val_df, test_df, val_query_df, test_query_df\n",
        "  return tuple(df for df in dfs if df is not None)"
      ],
      "execution_count": 0,
      "outputs": []
    },
    {
      "cell_type": "markdown",
      "metadata": {
        "id": "9Z7QYzrJ-ipj",
        "colab_type": "text"
      },
      "source": [
        "We now create a last track split and view the structure of the results."
      ]
    },
    {
      "cell_type": "code",
      "metadata": {
        "id": "53o7egQAl-yc",
        "colab_type": "code",
        "colab": {}
      },
      "source": [
        "train_df, test_df, test_query_df = last_track_split(df, n_test_users=1000)"
      ],
      "execution_count": 0,
      "outputs": []
    },
    {
      "cell_type": "code",
      "metadata": {
        "id": "Ap5-y3UTD2Jr",
        "colab_type": "code",
        "outputId": "dbde5d02-abbb-4664-d487-f76da7675750",
        "colab": {
          "base_uri": "https://localhost:8080/",
          "height": 217
        }
      },
      "source": [
        "train_df.head()"
      ],
      "execution_count": 0,
      "outputs": [
        {
          "output_type": "execute_result",
          "data": {
            "text/html": [
              "<div>\n",
              "<style scoped>\n",
              "    .dataframe tbody tr th:only-of-type {\n",
              "        vertical-align: middle;\n",
              "    }\n",
              "\n",
              "    .dataframe tbody tr th {\n",
              "        vertical-align: top;\n",
              "    }\n",
              "\n",
              "    .dataframe thead th {\n",
              "        text-align: right;\n",
              "    }\n",
              "</style>\n",
              "<table border=\"1\" class=\"dataframe\">\n",
              "  <thead>\n",
              "    <tr style=\"text-align: right;\">\n",
              "      <th></th>\n",
              "      <th>pid</th>\n",
              "      <th>timestamp</th>\n",
              "      <th>userid</th>\n",
              "      <th>traid</th>\n",
              "      <th>index</th>\n",
              "      <th>artid</th>\n",
              "      <th>albid</th>\n",
              "      <th>age</th>\n",
              "      <th>country</th>\n",
              "      <th>gender</th>\n",
              "      <th>b_age</th>\n",
              "      <th>prev_traid</th>\n",
              "      <th>prev_albid</th>\n",
              "      <th>prev_artid</th>\n",
              "    </tr>\n",
              "  </thead>\n",
              "  <tbody>\n",
              "    <tr>\n",
              "      <th>0</th>\n",
              "      <td>1</td>\n",
              "      <td>1216545588</td>\n",
              "      <td>1</td>\n",
              "      <td>1</td>\n",
              "      <td>3497675</td>\n",
              "      <td>1</td>\n",
              "      <td>1</td>\n",
              "      <td>32.0</td>\n",
              "      <td>1</td>\n",
              "      <td>1</td>\n",
              "      <td>5</td>\n",
              "      <td>0</td>\n",
              "      <td>0</td>\n",
              "      <td>0</td>\n",
              "    </tr>\n",
              "    <tr>\n",
              "      <th>57561</th>\n",
              "      <td>1</td>\n",
              "      <td>1216545588</td>\n",
              "      <td>1</td>\n",
              "      <td>2</td>\n",
              "      <td>1975475</td>\n",
              "      <td>2</td>\n",
              "      <td>2</td>\n",
              "      <td>32.0</td>\n",
              "      <td>1</td>\n",
              "      <td>1</td>\n",
              "      <td>5</td>\n",
              "      <td>1</td>\n",
              "      <td>1</td>\n",
              "      <td>1</td>\n",
              "    </tr>\n",
              "    <tr>\n",
              "      <th>115122</th>\n",
              "      <td>1</td>\n",
              "      <td>1216545588</td>\n",
              "      <td>1</td>\n",
              "      <td>3</td>\n",
              "      <td>2648397</td>\n",
              "      <td>3</td>\n",
              "      <td>3</td>\n",
              "      <td>32.0</td>\n",
              "      <td>1</td>\n",
              "      <td>1</td>\n",
              "      <td>5</td>\n",
              "      <td>2</td>\n",
              "      <td>2</td>\n",
              "      <td>2</td>\n",
              "    </tr>\n",
              "    <tr>\n",
              "      <th>172683</th>\n",
              "      <td>1</td>\n",
              "      <td>1216545588</td>\n",
              "      <td>1</td>\n",
              "      <td>4</td>\n",
              "      <td>1370043</td>\n",
              "      <td>4</td>\n",
              "      <td>4</td>\n",
              "      <td>32.0</td>\n",
              "      <td>1</td>\n",
              "      <td>1</td>\n",
              "      <td>5</td>\n",
              "      <td>3</td>\n",
              "      <td>3</td>\n",
              "      <td>3</td>\n",
              "    </tr>\n",
              "    <tr>\n",
              "      <th>230244</th>\n",
              "      <td>1</td>\n",
              "      <td>1216545588</td>\n",
              "      <td>1</td>\n",
              "      <td>5</td>\n",
              "      <td>4235809</td>\n",
              "      <td>5</td>\n",
              "      <td>5</td>\n",
              "      <td>32.0</td>\n",
              "      <td>1</td>\n",
              "      <td>1</td>\n",
              "      <td>5</td>\n",
              "      <td>4</td>\n",
              "      <td>4</td>\n",
              "      <td>4</td>\n",
              "    </tr>\n",
              "  </tbody>\n",
              "</table>\n",
              "</div>"
            ],
            "text/plain": [
              "        pid   timestamp  userid  ...  prev_traid  prev_albid  prev_artid\n",
              "0         1  1216545588       1  ...           0           0           0\n",
              "57561     1  1216545588       1  ...           1           1           1\n",
              "115122    1  1216545588       1  ...           2           2           2\n",
              "172683    1  1216545588       1  ...           3           3           3\n",
              "230244    1  1216545588       1  ...           4           4           4\n",
              "\n",
              "[5 rows x 14 columns]"
            ]
          },
          "metadata": {
            "tags": []
          },
          "execution_count": 36
        }
      ]
    },
    {
      "cell_type": "code",
      "metadata": {
        "id": "D4-H3hKd-l7q",
        "colab_type": "code",
        "outputId": "274efaf5-dbb1-4ac0-a50b-9c04b770f0d8",
        "colab": {
          "base_uri": "https://localhost:8080/",
          "height": 217
        }
      },
      "source": [
        "test_df.head()"
      ],
      "execution_count": 0,
      "outputs": [
        {
          "output_type": "execute_result",
          "data": {
            "text/html": [
              "<div>\n",
              "<style scoped>\n",
              "    .dataframe tbody tr th:only-of-type {\n",
              "        vertical-align: middle;\n",
              "    }\n",
              "\n",
              "    .dataframe tbody tr th {\n",
              "        vertical-align: top;\n",
              "    }\n",
              "\n",
              "    .dataframe thead th {\n",
              "        text-align: right;\n",
              "    }\n",
              "</style>\n",
              "<table border=\"1\" class=\"dataframe\">\n",
              "  <thead>\n",
              "    <tr style=\"text-align: right;\">\n",
              "      <th></th>\n",
              "      <th>pid</th>\n",
              "      <th>timestamp</th>\n",
              "      <th>userid</th>\n",
              "      <th>traid</th>\n",
              "      <th>index</th>\n",
              "      <th>artid</th>\n",
              "      <th>albid</th>\n",
              "      <th>age</th>\n",
              "      <th>country</th>\n",
              "      <th>gender</th>\n",
              "      <th>b_age</th>\n",
              "      <th>prev_traid</th>\n",
              "      <th>prev_albid</th>\n",
              "      <th>prev_artid</th>\n",
              "    </tr>\n",
              "  </thead>\n",
              "  <tbody>\n",
              "    <tr>\n",
              "      <th>0</th>\n",
              "      <td>11</td>\n",
              "      <td>1294318230</td>\n",
              "      <td>5</td>\n",
              "      <td>25514</td>\n",
              "      <td>186385</td>\n",
              "      <td>7800</td>\n",
              "      <td>13829</td>\n",
              "      <td>24.0</td>\n",
              "      <td>4</td>\n",
              "      <td>1</td>\n",
              "      <td>3</td>\n",
              "      <td>364</td>\n",
              "      <td>273</td>\n",
              "      <td>212</td>\n",
              "    </tr>\n",
              "    <tr>\n",
              "      <th>1</th>\n",
              "      <td>46</td>\n",
              "      <td>1275510507</td>\n",
              "      <td>19</td>\n",
              "      <td>22057</td>\n",
              "      <td>664245</td>\n",
              "      <td>780</td>\n",
              "      <td>1001</td>\n",
              "      <td>22.0</td>\n",
              "      <td>11</td>\n",
              "      <td>2</td>\n",
              "      <td>3</td>\n",
              "      <td>1298</td>\n",
              "      <td>1001</td>\n",
              "      <td>780</td>\n",
              "    </tr>\n",
              "    <tr>\n",
              "      <th>2</th>\n",
              "      <td>93</td>\n",
              "      <td>1291546547</td>\n",
              "      <td>38</td>\n",
              "      <td>5765</td>\n",
              "      <td>3080515</td>\n",
              "      <td>2518</td>\n",
              "      <td>3831</td>\n",
              "      <td>28.0</td>\n",
              "      <td>24</td>\n",
              "      <td>2</td>\n",
              "      <td>4</td>\n",
              "      <td>2425</td>\n",
              "      <td>1725</td>\n",
              "      <td>1260</td>\n",
              "    </tr>\n",
              "    <tr>\n",
              "      <th>3</th>\n",
              "      <td>136</td>\n",
              "      <td>1281597335</td>\n",
              "      <td>51</td>\n",
              "      <td>3627</td>\n",
              "      <td>4275402</td>\n",
              "      <td>1743</td>\n",
              "      <td>2490</td>\n",
              "      <td>25.0</td>\n",
              "      <td>12</td>\n",
              "      <td>2</td>\n",
              "      <td>4</td>\n",
              "      <td>3695</td>\n",
              "      <td>2490</td>\n",
              "      <td>1743</td>\n",
              "    </tr>\n",
              "    <tr>\n",
              "      <th>4</th>\n",
              "      <td>161</td>\n",
              "      <td>1236352414</td>\n",
              "      <td>58</td>\n",
              "      <td>151982</td>\n",
              "      <td>1310594</td>\n",
              "      <td>2391</td>\n",
              "      <td>3717</td>\n",
              "      <td>NaN</td>\n",
              "      <td>14</td>\n",
              "      <td>1</td>\n",
              "      <td>0</td>\n",
              "      <td>4224</td>\n",
              "      <td>2884</td>\n",
              "      <td>224</td>\n",
              "    </tr>\n",
              "  </tbody>\n",
              "</table>\n",
              "</div>"
            ],
            "text/plain": [
              "   pid   timestamp  userid   traid  ...  b_age  prev_traid  prev_albid  prev_artid\n",
              "0   11  1294318230       5   25514  ...      3         364         273         212\n",
              "1   46  1275510507      19   22057  ...      3        1298        1001         780\n",
              "2   93  1291546547      38    5765  ...      4        2425        1725        1260\n",
              "3  136  1281597335      51    3627  ...      4        3695        2490        1743\n",
              "4  161  1236352414      58  151982  ...      0        4224        2884         224\n",
              "\n",
              "[5 rows x 14 columns]"
            ]
          },
          "metadata": {
            "tags": []
          },
          "execution_count": 37
        }
      ]
    },
    {
      "cell_type": "code",
      "metadata": {
        "id": "haPaQUTN-mLL",
        "colab_type": "code",
        "outputId": "ce1f7164-6ab6-4c6b-f07e-c3d495cb0809",
        "colab": {
          "base_uri": "https://localhost:8080/",
          "height": 217
        }
      },
      "source": [
        "get_query_seeds(test_query_df).head()"
      ],
      "execution_count": 0,
      "outputs": [
        {
          "output_type": "execute_result",
          "data": {
            "text/html": [
              "<div>\n",
              "<style scoped>\n",
              "    .dataframe tbody tr th:only-of-type {\n",
              "        vertical-align: middle;\n",
              "    }\n",
              "\n",
              "    .dataframe tbody tr th {\n",
              "        vertical-align: top;\n",
              "    }\n",
              "\n",
              "    .dataframe thead th {\n",
              "        text-align: right;\n",
              "    }\n",
              "</style>\n",
              "<table border=\"1\" class=\"dataframe\">\n",
              "  <thead>\n",
              "    <tr style=\"text-align: right;\">\n",
              "      <th></th>\n",
              "      <th>pid</th>\n",
              "      <th>timestamp</th>\n",
              "      <th>userid</th>\n",
              "      <th>traid</th>\n",
              "      <th>index</th>\n",
              "      <th>artid</th>\n",
              "      <th>albid</th>\n",
              "      <th>age</th>\n",
              "      <th>country</th>\n",
              "      <th>gender</th>\n",
              "      <th>b_age</th>\n",
              "      <th>prev_traid</th>\n",
              "      <th>prev_albid</th>\n",
              "      <th>prev_artid</th>\n",
              "    </tr>\n",
              "  </thead>\n",
              "  <tbody>\n",
              "    <tr>\n",
              "      <th>12</th>\n",
              "      <td>11</td>\n",
              "      <td>1.294318e+09</td>\n",
              "      <td>5</td>\n",
              "      <td>359</td>\n",
              "      <td>1357583.0</td>\n",
              "      <td>208</td>\n",
              "      <td>269</td>\n",
              "      <td>24.0</td>\n",
              "      <td>4</td>\n",
              "      <td>1</td>\n",
              "      <td>3</td>\n",
              "      <td>0</td>\n",
              "      <td>0</td>\n",
              "      <td>0</td>\n",
              "    </tr>\n",
              "    <tr>\n",
              "      <th>57573</th>\n",
              "      <td>11</td>\n",
              "      <td>1.294318e+09</td>\n",
              "      <td>5</td>\n",
              "      <td>360</td>\n",
              "      <td>1357629.0</td>\n",
              "      <td>208</td>\n",
              "      <td>269</td>\n",
              "      <td>24.0</td>\n",
              "      <td>4</td>\n",
              "      <td>1</td>\n",
              "      <td>3</td>\n",
              "      <td>359</td>\n",
              "      <td>269</td>\n",
              "      <td>208</td>\n",
              "    </tr>\n",
              "    <tr>\n",
              "      <th>115134</th>\n",
              "      <td>11</td>\n",
              "      <td>1.294318e+09</td>\n",
              "      <td>5</td>\n",
              "      <td>361</td>\n",
              "      <td>1986356.0</td>\n",
              "      <td>209</td>\n",
              "      <td>270</td>\n",
              "      <td>24.0</td>\n",
              "      <td>4</td>\n",
              "      <td>1</td>\n",
              "      <td>3</td>\n",
              "      <td>360</td>\n",
              "      <td>269</td>\n",
              "      <td>208</td>\n",
              "    </tr>\n",
              "    <tr>\n",
              "      <th>172695</th>\n",
              "      <td>11</td>\n",
              "      <td>1.294318e+09</td>\n",
              "      <td>5</td>\n",
              "      <td>362</td>\n",
              "      <td>3511770.0</td>\n",
              "      <td>210</td>\n",
              "      <td>271</td>\n",
              "      <td>24.0</td>\n",
              "      <td>4</td>\n",
              "      <td>1</td>\n",
              "      <td>3</td>\n",
              "      <td>361</td>\n",
              "      <td>270</td>\n",
              "      <td>209</td>\n",
              "    </tr>\n",
              "    <tr>\n",
              "      <th>230256</th>\n",
              "      <td>11</td>\n",
              "      <td>1.294318e+09</td>\n",
              "      <td>5</td>\n",
              "      <td>363</td>\n",
              "      <td>3788168.0</td>\n",
              "      <td>211</td>\n",
              "      <td>272</td>\n",
              "      <td>24.0</td>\n",
              "      <td>4</td>\n",
              "      <td>1</td>\n",
              "      <td>3</td>\n",
              "      <td>362</td>\n",
              "      <td>271</td>\n",
              "      <td>210</td>\n",
              "    </tr>\n",
              "  </tbody>\n",
              "</table>\n",
              "</div>"
            ],
            "text/plain": [
              "        pid     timestamp  userid  ...  prev_traid  prev_albid  prev_artid\n",
              "12       11  1.294318e+09       5  ...           0           0           0\n",
              "57573    11  1.294318e+09       5  ...         359         269         208\n",
              "115134   11  1.294318e+09       5  ...         360         269         208\n",
              "172695   11  1.294318e+09       5  ...         361         270         209\n",
              "230256   11  1.294318e+09       5  ...         362         271         210\n",
              "\n",
              "[5 rows x 14 columns]"
            ]
          },
          "metadata": {
            "tags": []
          },
          "execution_count": 38
        }
      ]
    },
    {
      "cell_type": "code",
      "metadata": {
        "id": "tXKX3gZI-muE",
        "colab_type": "code",
        "outputId": "048ad5d3-7eab-449b-efd3-080601283a7d",
        "colab": {
          "base_uri": "https://localhost:8080/",
          "height": 197
        }
      },
      "source": [
        "get_query_ctx(test_query_df).head()"
      ],
      "execution_count": 0,
      "outputs": [
        {
          "output_type": "execute_result",
          "data": {
            "text/html": [
              "<div>\n",
              "<style scoped>\n",
              "    .dataframe tbody tr th:only-of-type {\n",
              "        vertical-align: middle;\n",
              "    }\n",
              "\n",
              "    .dataframe tbody tr th {\n",
              "        vertical-align: top;\n",
              "    }\n",
              "\n",
              "    .dataframe thead th {\n",
              "        text-align: right;\n",
              "    }\n",
              "</style>\n",
              "<table border=\"1\" class=\"dataframe\">\n",
              "  <thead>\n",
              "    <tr style=\"text-align: right;\">\n",
              "      <th></th>\n",
              "      <th>pid</th>\n",
              "      <th>userid</th>\n",
              "      <th>b_age</th>\n",
              "      <th>country</th>\n",
              "      <th>gender</th>\n",
              "      <th>prev_traid</th>\n",
              "      <th>prev_albid</th>\n",
              "      <th>prev_artid</th>\n",
              "    </tr>\n",
              "  </thead>\n",
              "  <tbody>\n",
              "    <tr>\n",
              "      <th>0</th>\n",
              "      <td>11</td>\n",
              "      <td>5</td>\n",
              "      <td>3</td>\n",
              "      <td>4</td>\n",
              "      <td>1</td>\n",
              "      <td>364</td>\n",
              "      <td>273</td>\n",
              "      <td>212</td>\n",
              "    </tr>\n",
              "    <tr>\n",
              "      <th>1</th>\n",
              "      <td>46</td>\n",
              "      <td>19</td>\n",
              "      <td>3</td>\n",
              "      <td>11</td>\n",
              "      <td>2</td>\n",
              "      <td>1298</td>\n",
              "      <td>1001</td>\n",
              "      <td>780</td>\n",
              "    </tr>\n",
              "    <tr>\n",
              "      <th>2</th>\n",
              "      <td>93</td>\n",
              "      <td>38</td>\n",
              "      <td>4</td>\n",
              "      <td>24</td>\n",
              "      <td>2</td>\n",
              "      <td>2425</td>\n",
              "      <td>1725</td>\n",
              "      <td>1260</td>\n",
              "    </tr>\n",
              "    <tr>\n",
              "      <th>3</th>\n",
              "      <td>136</td>\n",
              "      <td>51</td>\n",
              "      <td>4</td>\n",
              "      <td>12</td>\n",
              "      <td>2</td>\n",
              "      <td>3695</td>\n",
              "      <td>2490</td>\n",
              "      <td>1743</td>\n",
              "    </tr>\n",
              "    <tr>\n",
              "      <th>4</th>\n",
              "      <td>161</td>\n",
              "      <td>58</td>\n",
              "      <td>0</td>\n",
              "      <td>14</td>\n",
              "      <td>1</td>\n",
              "      <td>4224</td>\n",
              "      <td>2884</td>\n",
              "      <td>224</td>\n",
              "    </tr>\n",
              "  </tbody>\n",
              "</table>\n",
              "</div>"
            ],
            "text/plain": [
              "   pid  userid  b_age  country  gender  prev_traid  prev_albid  prev_artid\n",
              "0   11       5      3        4       1         364         273         212\n",
              "1   46      19      3       11       2        1298        1001         780\n",
              "2   93      38      4       24       2        2425        1725        1260\n",
              "3  136      51      4       12       2        3695        2490        1743\n",
              "4  161      58      0       14       1        4224        2884         224"
            ]
          },
          "metadata": {
            "tags": []
          },
          "execution_count": 39
        }
      ]
    },
    {
      "cell_type": "markdown",
      "metadata": {
        "id": "MhNnVHVH-tQV",
        "colab_type": "text"
      },
      "source": [
        "# Evaluation metrics"
      ]
    },
    {
      "cell_type": "markdown",
      "metadata": {
        "id": "FQ-lc84x-wVo",
        "colab_type": "text"
      },
      "source": [
        "As evaluation metrics we will use NDCG and hit rates / recall@n."
      ]
    },
    {
      "cell_type": "code",
      "metadata": {
        "id": "CKKl-Ddt-myg",
        "colab_type": "code",
        "colab": {}
      },
      "source": [
        "def with_time(method):\n",
        "    def timed(*args, **kw):\n",
        "        ts = time.time()\n",
        "        result = method(*args, **kw)\n",
        "        te = time.time()\n",
        "        if result is None:\n",
        "          return (te - ts)\n",
        "        else:\n",
        "          return result, (te - ts)\n",
        "          \n",
        "    return timed\n",
        "\n",
        "\n",
        "def hit_rate(pred_tracks_df, true_tracks_df, n=1):\n",
        "  \"\"\"\n",
        "  Computes the mean user hit rate.\n",
        "  \n",
        "  Assumes\n",
        "   * pred_tracks_df sorted by score per pid\n",
        "   * true_tracks_df has only one true track per pid!\n",
        "  \"\"\"\n",
        "  \n",
        "  pred_tracks_df = pred_tracks_df.groupby(\"pid\").head(n)\n",
        "  hits = len(pred_tracks_df.join(true_tracks_df.set_index([\"pid\", \"traid\"]),\n",
        "                                 on=[\"pid\", \"traid\"], how=\"inner\"))\n",
        "  hit_rate = hits / pred_tracks_df[\"pid\"].nunique()\n",
        "  \n",
        "  return hit_rate\n",
        "\n",
        "\n",
        "def hit_rates(pred_tracks_df, true_tracks_df, max_n=500):\n",
        "  \"\"\"\n",
        "  Computes the mean user hit rate for each n up to max_n.\n",
        "  \n",
        "  Assumes pred_tracks_df sorted by score per pid\n",
        "  \"\"\"\n",
        "  \n",
        "  pred_tracks_df = pred_tracks_df.groupby(\"pid\").head(max_n)\n",
        "  \n",
        "  hits = pred_tracks_df\n",
        "  hits[\"n\"] = hits.groupby(\"pid\").cumcount()\n",
        "  true_tracks_df[\"r\"] = true_tracks_df.groupby(\"pid\")[\"traid\"].transform(\"size\")\n",
        "  hits = hits.join(true_tracks_df.set_index([\"pid\", \"traid\"]),\n",
        "                   on=[\"pid\", \"traid\"], how=\"inner\")\n",
        "  hits[\"hits\"] = 1.0 / hits[\"r\"]\n",
        "  \n",
        "  cum_hits = hits.groupby(\"n\")[\"hits\"].sum().cumsum()\n",
        "  cum_hits = cum_hits.reindex(range(0, max_n), method=\"pad\")\n",
        "  cum_hits.fillna(0.0, inplace=True)\n",
        "  \n",
        "  cum_hit_rates = cum_hits.to_numpy() / pred_tracks_df[\"pid\"].nunique()\n",
        "  \n",
        "  return cum_hit_rates\n",
        "\n",
        "\n",
        "def ndcg(pred_tracks_df, true_tracks_df, n=500):\n",
        "  \"\"\"\n",
        "  Computes the mean user NDCG.\n",
        "  \n",
        "  Assumes pred_tracks_df sorted by score per pid\n",
        "  \"\"\"\n",
        "  \n",
        "  pred_tracks_df = pred_tracks_df.groupby(\"pid\").head(n)\n",
        "  true_tracks_df = true_tracks_df.groupby(\"pid\").head(n)\n",
        "  \n",
        "  dcgs = pred_tracks_df\n",
        "  dcgs[\"n\"] = dcgs.groupby(\"pid\").cumcount()\n",
        "  dcgs = dcgs.join(true_tracks_df.set_index([\"pid\", \"traid\"]),\n",
        "                   on=[\"pid\", \"traid\"], how=\"inner\")\n",
        "  dcgs[\"dcg\"] = 1.0 / np.log2(dcgs[\"n\"].to_numpy() + 2)\n",
        "  dcg = dcgs.groupby(\"pid\")[\"dcg\"].sum()\n",
        "  \n",
        "  idcgs = true_tracks_df\n",
        "  idcgs[\"n\"] = idcgs.groupby(\"pid\").cumcount()\n",
        "  idcgs[\"dcg\"] = 1.0 / np.log2(idcgs[\"n\"].to_numpy() + 2)\n",
        "  idcg = idcgs.groupby(\"pid\")[\"dcg\"].sum()\n",
        "  \n",
        "  return (dcg / idcg).sum()  / pred_tracks_df[\"pid\"].nunique()"
      ],
      "execution_count": 0,
      "outputs": []
    },
    {
      "cell_type": "markdown",
      "metadata": {
        "id": "e6nyktu2-z_j",
        "colab_type": "text"
      },
      "source": [
        "# Baseline algorithms"
      ]
    },
    {
      "cell_type": "markdown",
      "metadata": {
        "id": "DXnZ7Vzf-2Bw",
        "colab_type": "text"
      },
      "source": [
        "Now we want to evaluate some baseline algorithms on the dataset. We will use the following algorithms.\n",
        "\n",
        "*   PopRank\n",
        "*   Same Artist - Greatest Hits (SAGH)\n",
        "*   kNN user-based collaborative filtering\n",
        "\n",
        "These algorithms were presented and evaluated for playlist generation in\n",
        "\n",
        "\n",
        "> Geoffray Bonnin and Dietmar Jannach.<br>\n",
        "> **Automated generation of music playlists:Survey and experiments**.<br>\n",
        "> *In ACM CSUR, pages 26:1--26:35, 2015*"
      ]
    },
    {
      "cell_type": "markdown",
      "metadata": {
        "id": "xNuKn95K-7Ae",
        "colab_type": "text"
      },
      "source": [
        "## Implementation"
      ]
    },
    {
      "cell_type": "code",
      "metadata": {
        "id": "dq0z99k8-4n7",
        "colab_type": "code",
        "colab": {}
      },
      "source": [
        "def df2csr(df, cols, nodup=True, shape=None, return_df=False):\n",
        "  \"\"\"\n",
        "  Converts a dataframe with 2 or 3 columns into a csr matrix where\n",
        "   * column 1 are the row indices\n",
        "   * column 2 are the column indices\n",
        "   * column 3 are the values or all values are one\n",
        "\n",
        "  This csr matrix can be more efficient to work with in some algorithms\n",
        "  \"\"\"\n",
        "  \n",
        "  rowcol = cols[0]\n",
        "  colcol = cols[1]\n",
        "  valcol = cols[2] if len(cols) > 2 else None\n",
        "    \n",
        "  if nodup:\n",
        "    dfcols = [col for col in cols if col]\n",
        "    df = df[dfcols].drop_duplicates()\n",
        "  \n",
        "  row_arr = df[rowcol].to_numpy()\n",
        "  col_arr = df[colcol].to_numpy()\n",
        "  val_arr = df[valcol].to_numpy() if valcol else np.ones(row_arr.shape)\n",
        "  \n",
        "  mat = csr_matrix((val_arr, (row_arr, col_arr)), shape=shape)\n",
        "  \n",
        "  if not nodup:\n",
        "    mat.sum_duplicates()\n",
        "  \n",
        "  if return_df:\n",
        "    return mat, df\n",
        "  \n",
        "  return mat\n",
        "\n",
        "\n",
        "class TrackArtistEnricher:\n",
        "  \n",
        "  def fit(self, train_df):\n",
        "    self.tra_art_s = (train_df[[\"traid\", \"artid\"]]\n",
        "                      .drop_duplicates()\n",
        "                      .append(pd.DataFrame({\"traid\": [0], \"artid\": [0]}))\n",
        "                      .set_index(\"traid\"))\n",
        "  \n",
        "  def transform(self, df):\n",
        "    return df.join(self.tra_art_s, on=\"traid\")\n",
        "\n",
        "  \n",
        "t_cols = [\"score\", \"pid\", \"traid\"]"
      ],
      "execution_count": 0,
      "outputs": []
    },
    {
      "cell_type": "code",
      "metadata": {
        "id": "NCwRA2vr_DU1",
        "colab_type": "code",
        "colab": {}
      },
      "source": [
        "class PopRank:\n",
        "  \n",
        "  @with_time\n",
        "  def fit(self, train_df, count_listens=False, tf=False):\n",
        "    nodup = not count_listens and not tf\n",
        "    tra_user_mat = df2csr(train_df, [\"traid\", \"pid\"], nodup=nodup)\n",
        "    \n",
        "    if tf:\n",
        "      tra_user_mat.data = np.log2(1 + tra_user_mat.data)\n",
        "\n",
        "    scores = tra_user_mat.sum(axis=1).A.reshape(-1)\n",
        "    \n",
        "    self.scores_s = pd.Series(data=scores, name=\"score\")\n",
        "    self.scores_s.index.name = \"traid\"\n",
        "  \n",
        "  def transform_no_filter(self, query_df, n):\n",
        "    users_df = query_df[[\"pid\"]].drop_duplicates()\n",
        "    users_df[\"tmpkey\"] = 0\n",
        "    t_df = self.scores_s.nlargest(n).reset_index().copy()\n",
        "    t_df[\"tmpkey\"] = 0\n",
        "    return users_df.merge(t_df, on=\"tmpkey\")\n",
        "  \n",
        "  def transform_filter(self, query_df, n):    \n",
        "    gp = query_df[[\"pid\", \"traid\"]].drop_duplicates().groupby(\"pid\")\n",
        "    m = gp.size().max()\n",
        "    \n",
        "    # trick for efficiently filtering user tracks\n",
        "    # use mutable scores series\n",
        "    # \n",
        "    #  1. get best n + m (maximum user tracks) sorted scores\n",
        "    nmlargest_idx = self.scores_s.nlargest(n + m).index.to_numpy()\n",
        "\n",
        "    t_dfs = []\n",
        "    for userid, user_df in gp:\n",
        "      user_tracks = user_df[\"traid\"].to_numpy()\n",
        "      \n",
        "      #  2. set scores of filtered tracks to 0 - changes df state\n",
        "      tmpscores = self.scores_s.iloc[user_tracks]\n",
        "      self.scores_s.iloc[user_tracks] = 0.0\n",
        "\n",
        "      sorted_scores = self.scores_s.iloc[nmlargest_idx].to_numpy()\n",
        "\n",
        "      #  3. get best n sorted scores without added 0s\n",
        "      nonzero_idx = np.nonzero(sorted_scores)[0][:n]\n",
        "      resorted_idx = nmlargest_idx[nonzero_idx]\n",
        "\n",
        "      #  4. reset 0 scores - changes df state back\n",
        "      t_s = self.scores_s.iloc[resorted_idx]\n",
        "\n",
        "      self.scores_s.iloc[user_tracks] = tmpscores\n",
        "\n",
        "      t_df = t_s.reset_index()\n",
        "      t_df[\"pid\"] = userid\n",
        "      t_dfs.append(t_df)\n",
        "    \n",
        "    return pd.concat(t_dfs, sort=False)\n",
        "  \n",
        "  @with_time\n",
        "  def transform(self, query_df, n=500, filter_user_tracks=False):\n",
        "    if filter_user_tracks:\n",
        "      t_df = self.transform_filter(query_df, n)\n",
        "    else:\n",
        "      t_df = self.transform_no_filter(query_df, n)\n",
        "    \n",
        "    return t_df[t_cols]"
      ],
      "execution_count": 0,
      "outputs": []
    },
    {
      "cell_type": "code",
      "metadata": {
        "id": "fD87GSYR_DmU",
        "colab_type": "code",
        "colab": {}
      },
      "source": [
        "class SAGH:\n",
        "  \n",
        "  @with_time\n",
        "  def fit(self, train_df, count_listens=False, tf=False):\n",
        "    self.pop_rank = PopRank()\n",
        "    self.pop_rank.fit(train_df, count_listens=count_listens, tf=tf)\n",
        "    \n",
        "    art_en = TrackArtistEnricher()\n",
        "    art_en.fit(train_df)\n",
        "    art_tra_scores_df = art_en.transform(self.pop_rank.scores_s.reset_index())\n",
        "    art_tra_scores_df.drop(0, inplace=True)  # remove missing artists\n",
        "    \n",
        "    self.art_tra_mat = df2csr(art_tra_scores_df,\n",
        "                              [\"artid\", \"traid\", \"score\"],\n",
        "                              nodup=True)\n",
        "  \n",
        "  @with_time\n",
        "  def transform(self, query_df, n=500, filter_user_tracks=False):\n",
        "    userids = query_df[\"pid\"].drop_duplicates()  \n",
        "    user_art_mat = df2csr(query_df, [\"pid\", \"artid\"],\n",
        "                          nodup=True,\n",
        "                          shape=(userids.max() + 1, self.art_tra_mat.shape[0]))\n",
        "\n",
        "    # popularity scores of tracks of same artists\n",
        "    tra_scores_mat = user_art_mat * self.art_tra_mat\n",
        "\n",
        "    if filter_user_tracks:\n",
        "      # trick for efficiently filtering user tracks\n",
        "      # use same mutable mask for each user \n",
        "      gp = query_df[[\"pid\", \"traid\"]].drop_duplicates().groupby(\"pid\")\n",
        "      tracks_mask = np.ones(self.art_tra_mat.shape[1])\n",
        "    else:\n",
        "      gp = ((userid, None) for userid in userids)\n",
        "\n",
        "    t_dfs = []      \n",
        "    for userid, user_df in gp:\n",
        "      start = time.time()\n",
        "\n",
        "      l = tra_scores_mat.indptr[userid]\n",
        "      r = tra_scores_mat.indptr[userid + 1]\n",
        "\n",
        "      userids = np.full(r - l, userid)\n",
        "      tracks = tra_scores_mat.indices[l:r]\n",
        "      scores = tra_scores_mat.data[l:r]\n",
        "\n",
        "      t_df = pd.DataFrame({\"pid\": userids, \"traid\": tracks, \"score\": scores})\n",
        "\n",
        "      if filter_user_tracks:\n",
        "        user_tracks = user_df[\"traid\"].to_numpy()\n",
        "        tracks_mask[user_tracks] = 0\n",
        "        \n",
        "        t_df = t_df.nlargest(n + len(user_tracks), \"score\")\n",
        "        n_offsets = np.nonzero(tracks_mask[t_df[\"traid\"].to_numpy()])[0][:n]\n",
        "        t_df = t_df.iloc[n_offsets]\n",
        "        \n",
        "        tracks_mask[user_tracks] = 1\n",
        "      else:\n",
        "        t_df = t_df.nlargest(n, \"score\")\n",
        "      \n",
        "      t_dfs.append(t_df)\n",
        "\n",
        "    return pd.concat(t_dfs, sort=False)[t_cols]"
      ],
      "execution_count": 0,
      "outputs": []
    },
    {
      "cell_type": "code",
      "metadata": {
        "id": "znRANv0E_Dvp",
        "colab_type": "code",
        "colab": {}
      },
      "source": [
        "class KNN:\n",
        "  \n",
        "  @with_time\n",
        "  def fit(self, train_df, count_listens=False, tfidf=False):    \n",
        "    self.user_tra_mat = df2csr(train_df, [\"pid\", \"traid\"], nodup=not tfidf)\n",
        "    \n",
        "    self.tfidf_trans = None\n",
        "    if tfidf:\n",
        "      self.tfidf_trans = TfidfTransformer(sublinear_tf=True)\n",
        "    if count_listens:\n",
        "      self.tfidf_trans = TfidfTransformer(norm=None, use_idf=False)\n",
        "    if tfidf or count_listens:\n",
        "      self.user_tra_mat = self.tfidf_trans.fit_transform(self.user_tra_mat)\n",
        "    \n",
        "    # for cosine similarity\n",
        "    self.tra_user_normalized = normalize(self.user_tra_mat).T\n",
        "  \n",
        "  @with_time\n",
        "  def transform(self, query_df, n=500, k=50, filter_user_tracks=False):    \n",
        "    mat = df2csr(query_df, [\"pid\", \"traid\"],\n",
        "                 nodup=not self.tfidf_trans,\n",
        "                 shape=self.user_tra_mat.shape)\n",
        "    \n",
        "    if self.tfidf_trans:\n",
        "      mat = self.tfidf_trans.transform(mat)\n",
        "\n",
        "    normalize(mat, copy=False)  # for cosine similarity\n",
        "    \n",
        "    # cosine similarity\n",
        "    # this needs O(n^2) memory for n users, but is stored sparse at least\n",
        "    nn_scores = mat * self.tra_user_normalized\n",
        "    \n",
        "    if filter_user_tracks:\n",
        "      # trick for efficiently filtering user tracks\n",
        "      # use same mutable mask for each user \n",
        "      gp = query_df[[\"pid\", \"traid\"]].drop_duplicates().groupby(\"pid\")\n",
        "      tracks_mask = np.ones(self.user_tra_mat.shape[1])\n",
        "    else:\n",
        "      gp = ((i, i) for i in range(self.user_tra_mat.shape[0]))\n",
        "\n",
        "    t_dfs = []\n",
        "    for userid, user_df in gp:\n",
        "      # k nearest neighbors by cosine similarity\n",
        "      l = nn_scores.indptr[userid]\n",
        "      r = nn_scores.indptr[userid + 1]\n",
        "      if (r - l) <= k:\n",
        "        nn_users = nn_scores.indices[l:r]\n",
        "      else:\n",
        "        k_offsets = np.argpartition(nn_scores.data[l:r], -k)[-k:]\n",
        "        nn_users = nn_scores.indices[l + k_offsets]\n",
        "\n",
        "      # track scores as tracks of neighbors weighted by cosine similarity\n",
        "      scores =  nn_scores[userid,nn_users] * self.user_tra_mat[nn_users,:]\n",
        "\n",
        "      userids = np.full(len(scores.indices), userid)\n",
        "      tracks = scores.indices\n",
        "      scores = scores.data\n",
        "      \n",
        "      t_df = pd.DataFrame({\"pid\": userids, \"traid\": tracks, \"score\": scores})\n",
        "      \n",
        "      if filter_user_tracks:\n",
        "        user_tracks = user_df[\"traid\"].to_numpy()\n",
        "        tracks_mask[user_tracks] = 0\n",
        "        \n",
        "        t_df = t_df.nlargest(n + user_tracks.size, \"score\")\n",
        "        n_offsets = np.nonzero(tracks_mask[t_df[\"traid\"].to_numpy()])[0][:n]\n",
        "        t_df = t_df.iloc[n_offsets]\n",
        "        \n",
        "        tracks_mask[user_tracks] = 1\n",
        "      else:\n",
        "        t_df = t_df.nlargest(n, \"score\")\n",
        "        \n",
        "      t_dfs.append(t_df)\n",
        "    \n",
        "    return pd.concat(t_dfs, sort=False)[t_cols]"
      ],
      "execution_count": 0,
      "outputs": []
    },
    {
      "cell_type": "markdown",
      "metadata": {
        "id": "ZNoRb7Lv_lCm",
        "colab_type": "text"
      },
      "source": [
        "## Evaluation"
      ]
    },
    {
      "cell_type": "markdown",
      "metadata": {
        "id": "XUXwSXK5_NbK",
        "colab_type": "text"
      },
      "source": [
        "In our evaluation we filter out tracks that are already in the playlist (*filter_user_tracks*), even though a sizeable number of tracks are contained in a playlist multiple times. We therefore also don't use the *count_listens* or *tf* parameters."
      ]
    },
    {
      "cell_type": "code",
      "metadata": {
        "id": "vpu82NJx_oyv",
        "colab_type": "code",
        "outputId": "9d322cee-96e8-4612-8302-380f0bffb939",
        "colab": {
          "base_uri": "https://localhost:8080/",
          "height": 100
        }
      },
      "source": [
        "pop_rank = PopRank()\n",
        "pop_rank_fit_time = pop_rank.fit(train_df)\n",
        "pop_rank_df, pop_rank_trans_time = pop_rank.transform(\n",
        "    get_query_seeds(test_query_df), filter_user_tracks=True)\n",
        "pop_rank_hit_rates = hit_rates(pop_rank_df, test_df)\n",
        "pop_rank_ndcg = ndcg(pop_rank_df, test_df)\n",
        "\n",
        "print(\"{:.6f} hit rate\\n{:.6f} ndcg\\n\\n{:.5f}s fit time \\n{:.5f}s trans time\"\n",
        "      .format(pop_rank_hit_rates[0], pop_rank_ndcg, pop_rank_fit_time,\n",
        "              pop_rank_trans_time))"
      ],
      "execution_count": 0,
      "outputs": [
        {
          "output_type": "stream",
          "text": [
            "0.001000 hit rate\n",
            "0.009733 ndcg\n",
            "\n",
            "0.24085s fit time \n",
            "4.07988s trans time\n"
          ],
          "name": "stdout"
        }
      ]
    },
    {
      "cell_type": "code",
      "metadata": {
        "id": "TKbeDCUu_o62",
        "colab_type": "code",
        "colab": {}
      },
      "source": [
        "del pop_rank"
      ],
      "execution_count": 0,
      "outputs": []
    },
    {
      "cell_type": "code",
      "metadata": {
        "id": "rajhwYfk_ttL",
        "colab_type": "code",
        "outputId": "88c6d050-4948-4c54-9666-aa14bd48f275",
        "colab": {
          "base_uri": "https://localhost:8080/",
          "height": 100
        }
      },
      "source": [
        "sagh = SAGH()\n",
        "sagh_fit_time = sagh.fit(train_df)\n",
        "sagh_df, sagh_trans_time = sagh.transform(get_query_seeds(test_query_df),\n",
        "                                          filter_user_tracks=True)\n",
        "sagh_hit_rates = hit_rates(sagh_df, test_df)\n",
        "sagh_ndcg = ndcg(sagh_df, test_df)\n",
        "\n",
        "print(\"{:.6f} hit rate\\n{:.6f} ndcg\\n\\n{:.5f}s fit time \\n{:.5f}s trans time\"\n",
        "      .format(sagh_hit_rates[0], sagh_ndcg, sagh_fit_time, sagh_trans_time))"
      ],
      "execution_count": 0,
      "outputs": [
        {
          "output_type": "stream",
          "text": [
            "0.016032 hit rate\n",
            "0.068167 ndcg\n",
            "\n",
            "0.46980s fit time \n",
            "4.68180s trans time\n"
          ],
          "name": "stdout"
        }
      ]
    },
    {
      "cell_type": "code",
      "metadata": {
        "id": "rnuAbLr4_o_8",
        "colab_type": "code",
        "colab": {}
      },
      "source": [
        "del sagh\n",
        "del sagh_df"
      ],
      "execution_count": 0,
      "outputs": []
    },
    {
      "cell_type": "code",
      "metadata": {
        "id": "rSDGUcH2PSWW",
        "colab_type": "code",
        "colab": {}
      },
      "source": [
        "train_df, val_df, val_query_df = last_track_split(df, as_val=True,\n",
        "                                                  n_test_users=1000)"
      ],
      "execution_count": 0,
      "outputs": []
    },
    {
      "cell_type": "code",
      "metadata": {
        "id": "DhALN_zZPVTN",
        "colab_type": "code",
        "colab": {}
      },
      "source": [
        "ks = [10, 50, 100, 150, 200, 250, 300, 350, 400, 450, 500, 1000]\n",
        "knn = KNN()\n",
        "knn_fit_time = knn.fit(train_df)\n",
        "\n",
        "knn_hit_rates = dict()\n",
        "knn_ndcgs = dict()\n",
        "\n",
        "for k in ks:\n",
        "  knn_df, _= knn.transform(get_query_seeds(val_query_df), k=k,\n",
        "                           filter_user_tracks=True)\n",
        "  knn_hit_rates[k] = hit_rates(knn_df, val_df)\n",
        "  knn_ndcgs[k] = ndcg(knn_df, val_df)"
      ],
      "execution_count": 0,
      "outputs": []
    },
    {
      "cell_type": "code",
      "metadata": {
        "id": "r7JEvRqOPVnA",
        "colab_type": "code",
        "outputId": "8293616c-ca68-45eb-8217-4223dbf35a6d",
        "colab": {
          "base_uri": "https://localhost:8080/",
          "height": 111
        }
      },
      "source": [
        "rows = [[knn_ndcgs[k] for k in ks], [knn_hit_rates[k][0] for k in ks]]\n",
        "index = [\"NDCG\", \"Hit rate\"]        \n",
        "pd.DataFrame.from_records(rows, columns=ks, index=index)"
      ],
      "execution_count": 0,
      "outputs": [
        {
          "output_type": "execute_result",
          "data": {
            "text/html": [
              "<div>\n",
              "<style scoped>\n",
              "    .dataframe tbody tr th:only-of-type {\n",
              "        vertical-align: middle;\n",
              "    }\n",
              "\n",
              "    .dataframe tbody tr th {\n",
              "        vertical-align: top;\n",
              "    }\n",
              "\n",
              "    .dataframe thead th {\n",
              "        text-align: right;\n",
              "    }\n",
              "</style>\n",
              "<table border=\"1\" class=\"dataframe\">\n",
              "  <thead>\n",
              "    <tr style=\"text-align: right;\">\n",
              "      <th></th>\n",
              "      <th>10</th>\n",
              "      <th>50</th>\n",
              "      <th>100</th>\n",
              "      <th>150</th>\n",
              "      <th>200</th>\n",
              "      <th>250</th>\n",
              "      <th>300</th>\n",
              "      <th>350</th>\n",
              "      <th>400</th>\n",
              "      <th>450</th>\n",
              "      <th>500</th>\n",
              "      <th>1000</th>\n",
              "    </tr>\n",
              "  </thead>\n",
              "  <tbody>\n",
              "    <tr>\n",
              "      <th>NDCG</th>\n",
              "      <td>0.057428</td>\n",
              "      <td>0.076076</td>\n",
              "      <td>0.079553</td>\n",
              "      <td>0.080984</td>\n",
              "      <td>0.080718</td>\n",
              "      <td>0.080128</td>\n",
              "      <td>0.079574</td>\n",
              "      <td>0.079468</td>\n",
              "      <td>0.078289</td>\n",
              "      <td>0.078602</td>\n",
              "      <td>0.078464</td>\n",
              "      <td>0.076997</td>\n",
              "    </tr>\n",
              "    <tr>\n",
              "      <th>Hit rate</th>\n",
              "      <td>0.012024</td>\n",
              "      <td>0.020040</td>\n",
              "      <td>0.020040</td>\n",
              "      <td>0.021042</td>\n",
              "      <td>0.021042</td>\n",
              "      <td>0.021042</td>\n",
              "      <td>0.021042</td>\n",
              "      <td>0.021042</td>\n",
              "      <td>0.021042</td>\n",
              "      <td>0.022044</td>\n",
              "      <td>0.022044</td>\n",
              "      <td>0.022044</td>\n",
              "    </tr>\n",
              "  </tbody>\n",
              "</table>\n",
              "</div>"
            ],
            "text/plain": [
              "              10        50        100   ...      450       500       1000\n",
              "NDCG      0.057428  0.076076  0.079553  ...  0.078602  0.078464  0.076997\n",
              "Hit rate  0.012024  0.020040  0.020040  ...  0.022044  0.022044  0.022044\n",
              "\n",
              "[2 rows x 12 columns]"
            ]
          },
          "metadata": {
            "tags": []
          },
          "execution_count": 114
        }
      ]
    },
    {
      "cell_type": "markdown",
      "metadata": {
        "id": "oP9EEI54QjiV",
        "colab_type": "text"
      },
      "source": [
        "The best k - *150* - is then used for the evaluation."
      ]
    },
    {
      "cell_type": "code",
      "metadata": {
        "id": "WXAlMwVnPpfu",
        "colab_type": "code",
        "colab": {}
      },
      "source": [
        "train_df, test_df, test_query_df = last_track_split(df, n_test_users=1000)"
      ],
      "execution_count": 0,
      "outputs": []
    },
    {
      "cell_type": "code",
      "metadata": {
        "id": "Dqr_HcTPPv_9",
        "colab_type": "code",
        "outputId": "30bb406a-e462-4759-9fff-8a7875107048",
        "colab": {
          "base_uri": "https://localhost:8080/",
          "height": 100
        }
      },
      "source": [
        "knn = KNN()\n",
        "knn_fit_time = knn.fit(train_df)\n",
        "knn_df, knn150_trans_time = knn.transform(get_query_seeds(test_query_df), k=150,\n",
        "                                          filter_user_tracks=True)\n",
        "knn150_hit_rates = hit_rates(knn_df, test_df)\n",
        "knn150_ndcg = ndcg(knn_df, test_df)\n",
        "\n",
        "print(\"{:.6f} hit rate\\n{:.6f} ndcg\\n\\n{:.5f}s fit time \\n{:.5f}s trans time\"\n",
        "      .format(knn150_hit_rates[0], knn150_ndcg, knn_fit_time,\n",
        "              knn150_trans_time))"
      ],
      "execution_count": 0,
      "outputs": [
        {
          "output_type": "stream",
          "text": [
            "0.021000 hit rate\n",
            "0.069371 ndcg\n",
            "\n",
            "0.22501s fit time \n",
            "5.63226s trans time\n"
          ],
          "name": "stdout"
        }
      ]
    },
    {
      "cell_type": "code",
      "metadata": {
        "id": "vud0SL1-_5F9",
        "colab_type": "code",
        "colab": {}
      },
      "source": [
        "del knn\n",
        "del knn_df"
      ],
      "execution_count": 0,
      "outputs": []
    },
    {
      "cell_type": "code",
      "metadata": {
        "id": "B1amQPqp_5I4",
        "colab_type": "code",
        "outputId": "5f10f3f7-d441-4780-ce1f-3bd28e8b474a",
        "colab": {
          "base_uri": "https://localhost:8080/",
          "height": 111
        }
      },
      "source": [
        "cols = [\"Pop Rank\", \"SAGH\", \"kNN k=150\"]\n",
        "rows = [[pop_rank_ndcg, sagh_ndcg, knn150_ndcg],\n",
        "        [pop_rank_hit_rates[0], sagh_hit_rates[0], knn150_hit_rates[0]]]\n",
        "index = [\"NDCG\", \"Hit rate\"]\n",
        "pd.DataFrame.from_records(rows, columns=cols, index=index)"
      ],
      "execution_count": 0,
      "outputs": [
        {
          "output_type": "execute_result",
          "data": {
            "text/html": [
              "<div>\n",
              "<style scoped>\n",
              "    .dataframe tbody tr th:only-of-type {\n",
              "        vertical-align: middle;\n",
              "    }\n",
              "\n",
              "    .dataframe tbody tr th {\n",
              "        vertical-align: top;\n",
              "    }\n",
              "\n",
              "    .dataframe thead th {\n",
              "        text-align: right;\n",
              "    }\n",
              "</style>\n",
              "<table border=\"1\" class=\"dataframe\">\n",
              "  <thead>\n",
              "    <tr style=\"text-align: right;\">\n",
              "      <th></th>\n",
              "      <th>Pop Rank</th>\n",
              "      <th>SAGH</th>\n",
              "      <th>kNN k=150</th>\n",
              "    </tr>\n",
              "  </thead>\n",
              "  <tbody>\n",
              "    <tr>\n",
              "      <th>NDCG</th>\n",
              "      <td>0.009733</td>\n",
              "      <td>0.068167</td>\n",
              "      <td>0.069371</td>\n",
              "    </tr>\n",
              "    <tr>\n",
              "      <th>Hit rate</th>\n",
              "      <td>0.001000</td>\n",
              "      <td>0.016032</td>\n",
              "      <td>0.021000</td>\n",
              "    </tr>\n",
              "  </tbody>\n",
              "</table>\n",
              "</div>"
            ],
            "text/plain": [
              "          Pop Rank      SAGH  kNN k=150\n",
              "NDCG      0.009733  0.068167   0.069371\n",
              "Hit rate  0.001000  0.016032   0.021000"
            ]
          },
          "metadata": {
            "tags": []
          },
          "execution_count": 118
        }
      ]
    },
    {
      "cell_type": "code",
      "metadata": {
        "id": "cJgGkj0k_7Yo",
        "colab_type": "code",
        "outputId": "d452c98a-5254-429f-db18-543dd4c6460c",
        "colab": {
          "base_uri": "https://localhost:8080/",
          "height": 281
        }
      },
      "source": [
        "def plot_baseline_hit_rates(n=500):\n",
        "  plt.plot(pop_rank_hit_rates[:n], color=\"orange\")\n",
        "  plt.plot(sagh_hit_rates[:n], color=\"blue\")\n",
        "  plt.plot(knn150_hit_rates[:n], color=\"green\")\n",
        "\n",
        "  orange_patch = mpatches.Patch(color=\"orange\", label=\"Pop Rank\")\n",
        "  blue_patch = mpatches.Patch(color=\"blue\", label=\"SAGH\")\n",
        "  green_patch = mpatches.Patch(color=\"green\", label=\"kNN k 150\")\n",
        "  patches = [orange_patch, blue_patch, green_patch]\n",
        "  plt.legend(handles=patches)\n",
        "\n",
        "  plt.title(\"Hit rates of baseline algorithms\")\n",
        "  \n",
        "plot_baseline_hit_rates();"
      ],
      "execution_count": 0,
      "outputs": [
        {
          "output_type": "display_data",
          "data": {
            "image/png": "[encoded data removed]",
            "text/plain": [
              "<Figure size 432x288 with 1 Axes>"
            ]
          },
          "metadata": {
            "tags": []
          }
        }
      ]
    },
    {
      "cell_type": "code",
      "metadata": {
        "id": "i1Z1DSNa_v30",
        "colab_type": "code",
        "outputId": "fee49051-c27b-4ad1-dc9d-b6c7ba3863da",
        "colab": {
          "base_uri": "https://localhost:8080/",
          "height": 281
        }
      },
      "source": [
        "plot_baseline_hit_rates(n=25);"
      ],
      "execution_count": 0,
      "outputs": [
        {
          "output_type": "display_data",
          "data": {
            "image/png": "[encoded data removed]",
            "text/plain": [
              "<Figure size 432x288 with 1 Axes>"
            ]
          },
          "metadata": {
            "tags": []
          }
        }
      ]
    },
    {
      "cell_type": "markdown",
      "metadata": {
        "id": "hPy_i6_QAFN9",
        "colab_type": "text"
      },
      "source": [
        "## Cold start evaluation"
      ]
    },
    {
      "cell_type": "markdown",
      "metadata": {
        "id": "8npXtxS4AJK0",
        "colab_type": "text"
      },
      "source": [
        "Besides an evaluation using a last-track split where we recommend the last track for each playlist we also perform an evaluation using a playlist split where we recommend all missing tracks for beginnings (5 tracks) of playlists which were entirely unknown during training."
      ]
    },
    {
      "cell_type": "code",
      "metadata": {
        "id": "STwPbThCAGHk",
        "colab_type": "code",
        "outputId": "fc86a314-6027-42a1-b140-5069d5bafe90",
        "colab": {
          "base_uri": "https://localhost:8080/",
          "height": 217
        }
      },
      "source": [
        "train_df, test_df, test_query_df = users_split(\n",
        "    df, 1000, include_val=False, n_seed_tracks=5)\n",
        "\n",
        "train_df.head()"
      ],
      "execution_count": 0,
      "outputs": [
        {
          "output_type": "execute_result",
          "data": {
            "text/html": [
              "<div>\n",
              "<style scoped>\n",
              "    .dataframe tbody tr th:only-of-type {\n",
              "        vertical-align: middle;\n",
              "    }\n",
              "\n",
              "    .dataframe tbody tr th {\n",
              "        vertical-align: top;\n",
              "    }\n",
              "\n",
              "    .dataframe thead th {\n",
              "        text-align: right;\n",
              "    }\n",
              "</style>\n",
              "<table border=\"1\" class=\"dataframe\">\n",
              "  <thead>\n",
              "    <tr style=\"text-align: right;\">\n",
              "      <th></th>\n",
              "      <th>pid</th>\n",
              "      <th>timestamp</th>\n",
              "      <th>userid</th>\n",
              "      <th>traid</th>\n",
              "      <th>index</th>\n",
              "      <th>artid</th>\n",
              "      <th>albid</th>\n",
              "      <th>age</th>\n",
              "      <th>country</th>\n",
              "      <th>gender</th>\n",
              "      <th>b_age</th>\n",
              "      <th>prev_traid</th>\n",
              "      <th>prev_albid</th>\n",
              "      <th>prev_artid</th>\n",
              "    </tr>\n",
              "  </thead>\n",
              "  <tbody>\n",
              "    <tr>\n",
              "      <th>0</th>\n",
              "      <td>1</td>\n",
              "      <td>1216545588</td>\n",
              "      <td>1</td>\n",
              "      <td>1</td>\n",
              "      <td>3497675</td>\n",
              "      <td>1</td>\n",
              "      <td>1</td>\n",
              "      <td>32.0</td>\n",
              "      <td>1</td>\n",
              "      <td>1</td>\n",
              "      <td>5</td>\n",
              "      <td>0</td>\n",
              "      <td>0</td>\n",
              "      <td>0</td>\n",
              "    </tr>\n",
              "    <tr>\n",
              "      <th>57561</th>\n",
              "      <td>1</td>\n",
              "      <td>1216545588</td>\n",
              "      <td>1</td>\n",
              "      <td>2</td>\n",
              "      <td>1975475</td>\n",
              "      <td>2</td>\n",
              "      <td>2</td>\n",
              "      <td>32.0</td>\n",
              "      <td>1</td>\n",
              "      <td>1</td>\n",
              "      <td>5</td>\n",
              "      <td>1</td>\n",
              "      <td>1</td>\n",
              "      <td>1</td>\n",
              "    </tr>\n",
              "    <tr>\n",
              "      <th>115122</th>\n",
              "      <td>1</td>\n",
              "      <td>1216545588</td>\n",
              "      <td>1</td>\n",
              "      <td>3</td>\n",
              "      <td>2648397</td>\n",
              "      <td>3</td>\n",
              "      <td>3</td>\n",
              "      <td>32.0</td>\n",
              "      <td>1</td>\n",
              "      <td>1</td>\n",
              "      <td>5</td>\n",
              "      <td>2</td>\n",
              "      <td>2</td>\n",
              "      <td>2</td>\n",
              "    </tr>\n",
              "    <tr>\n",
              "      <th>172683</th>\n",
              "      <td>1</td>\n",
              "      <td>1216545588</td>\n",
              "      <td>1</td>\n",
              "      <td>4</td>\n",
              "      <td>1370043</td>\n",
              "      <td>4</td>\n",
              "      <td>4</td>\n",
              "      <td>32.0</td>\n",
              "      <td>1</td>\n",
              "      <td>1</td>\n",
              "      <td>5</td>\n",
              "      <td>3</td>\n",
              "      <td>3</td>\n",
              "      <td>3</td>\n",
              "    </tr>\n",
              "    <tr>\n",
              "      <th>230244</th>\n",
              "      <td>1</td>\n",
              "      <td>1216545588</td>\n",
              "      <td>1</td>\n",
              "      <td>5</td>\n",
              "      <td>4235809</td>\n",
              "      <td>5</td>\n",
              "      <td>5</td>\n",
              "      <td>32.0</td>\n",
              "      <td>1</td>\n",
              "      <td>1</td>\n",
              "      <td>5</td>\n",
              "      <td>4</td>\n",
              "      <td>4</td>\n",
              "      <td>4</td>\n",
              "    </tr>\n",
              "  </tbody>\n",
              "</table>\n",
              "</div>"
            ],
            "text/plain": [
              "        pid   timestamp  userid  ...  prev_traid  prev_albid  prev_artid\n",
              "0         1  1216545588       1  ...           0           0           0\n",
              "57561     1  1216545588       1  ...           1           1           1\n",
              "115122    1  1216545588       1  ...           2           2           2\n",
              "172683    1  1216545588       1  ...           3           3           3\n",
              "230244    1  1216545588       1  ...           4           4           4\n",
              "\n",
              "[5 rows x 14 columns]"
            ]
          },
          "metadata": {
            "tags": []
          },
          "execution_count": 90
        }
      ]
    },
    {
      "cell_type": "code",
      "metadata": {
        "id": "0LNspL4ZAGLP",
        "colab_type": "code",
        "outputId": "f6f1b043-1df8-476e-e80a-51462aad81ab",
        "colab": {
          "base_uri": "https://localhost:8080/",
          "height": 77
        }
      },
      "source": [
        "get_query_ctx(test_query_df).head(1)"
      ],
      "execution_count": 0,
      "outputs": [
        {
          "output_type": "execute_result",
          "data": {
            "text/html": [
              "<div>\n",
              "<style scoped>\n",
              "    .dataframe tbody tr th:only-of-type {\n",
              "        vertical-align: middle;\n",
              "    }\n",
              "\n",
              "    .dataframe tbody tr th {\n",
              "        vertical-align: top;\n",
              "    }\n",
              "\n",
              "    .dataframe thead th {\n",
              "        text-align: right;\n",
              "    }\n",
              "</style>\n",
              "<table border=\"1\" class=\"dataframe\">\n",
              "  <thead>\n",
              "    <tr style=\"text-align: right;\">\n",
              "      <th></th>\n",
              "      <th>pid</th>\n",
              "      <th>userid</th>\n",
              "      <th>age</th>\n",
              "      <th>country</th>\n",
              "      <th>gender</th>\n",
              "      <th>prev_traid</th>\n",
              "      <th>prev_albid</th>\n",
              "      <th>prev_artid</th>\n",
              "    </tr>\n",
              "  </thead>\n",
              "  <tbody>\n",
              "    <tr>\n",
              "      <th>287817</th>\n",
              "      <td>1</td>\n",
              "      <td>5</td>\n",
              "      <td>5</td>\n",
              "      <td>4</td>\n",
              "      <td>1</td>\n",
              "      <td>17501</td>\n",
              "      <td>10033</td>\n",
              "      <td>5924</td>\n",
              "    </tr>\n",
              "  </tbody>\n",
              "</table>\n",
              "</div>"
            ],
            "text/plain": [
              "        pid  userid  age  country  gender  prev_traid  prev_albid  prev_artid\n",
              "287817    1       5    5        4       1       17501       10033        5924"
            ]
          },
          "metadata": {
            "tags": []
          },
          "execution_count": 109
        }
      ]
    },
    {
      "cell_type": "code",
      "metadata": {
        "id": "Sa6x1h_JAGO7",
        "colab_type": "code",
        "outputId": "65ec4b98-d9f6-4bc1-a99f-bc8ec3eb6abf",
        "colab": {
          "base_uri": "https://localhost:8080/",
          "height": 100
        }
      },
      "source": [
        "pop_rank = PopRank()\n",
        "pop_rank_fit_time = pop_rank.fit(train_df)\n",
        "pop_rank_df, pop_rank_trans_time = pop_rank.transform(\n",
        "    get_query_seeds(test_query_df), filter_user_tracks=True)\n",
        "c_pop_rank_hit_rates = hit_rates(pop_rank_df, test_df)\n",
        "c_pop_rank_ndcg = ndcg(pop_rank_df, test_df)\n",
        "\n",
        "print(\"{:.6f} hit rate\\n{:.6f} ndcg\\n\\n{:.5f}s fit time \\n{:.5f}s trans time\"\n",
        "      .format(c_pop_rank_hit_rates[0], c_pop_rank_ndcg, pop_rank_fit_time,\n",
        "              pop_rank_trans_time))"
      ],
      "execution_count": 0,
      "outputs": [
        {
          "output_type": "stream",
          "text": [
            "0.000298 hit rate\n",
            "0.022478 ndcg\n",
            "\n",
            "0.31288s fit time \n",
            "3.93726s trans time\n"
          ],
          "name": "stdout"
        }
      ]
    },
    {
      "cell_type": "code",
      "metadata": {
        "id": "PU0vgwMtATl6",
        "colab_type": "code",
        "colab": {}
      },
      "source": [
        "del pop_rank"
      ],
      "execution_count": 0,
      "outputs": []
    },
    {
      "cell_type": "code",
      "metadata": {
        "id": "cJSKfIY9ATjP",
        "colab_type": "code",
        "outputId": "fa115614-1e1d-47a9-86b4-7166d73e6f54",
        "colab": {
          "base_uri": "https://localhost:8080/",
          "height": 100
        }
      },
      "source": [
        "sagh = SAGH()\n",
        "sagh_fit_time = sagh.fit(train_df)\n",
        "sagh_df, sagh_trans_time = sagh.transform(get_query_seeds(test_query_df),\n",
        "                                          filter_user_tracks=True)\n",
        "c_sagh_hit_rates = hit_rates(sagh_df, test_df)\n",
        "c_sagh_ndcg = ndcg(sagh_df, test_df)\n",
        "\n",
        "print(\"{:.6f} hit rate\\n{:.6f} ndcg\\n\\n{:.5f}s fit time \\n{:.5f}s trans time\"\n",
        "      .format(c_sagh_hit_rates[0], c_sagh_ndcg, sagh_fit_time, sagh_trans_time))"
      ],
      "execution_count": 0,
      "outputs": [
        {
          "output_type": "stream",
          "text": [
            "0.008066 hit rate\n",
            "0.097976 ndcg\n",
            "\n",
            "0.47198s fit time \n",
            "4.81844s trans time\n"
          ],
          "name": "stdout"
        }
      ]
    },
    {
      "cell_type": "code",
      "metadata": {
        "id": "n1TIo41TAV-8",
        "colab_type": "code",
        "colab": {}
      },
      "source": [
        "del sagh\n",
        "del sagh_df"
      ],
      "execution_count": 0,
      "outputs": []
    },
    {
      "cell_type": "code",
      "metadata": {
        "id": "t1FOlcbbAbP7",
        "colab_type": "code",
        "outputId": "e17d0293-e330-4aa7-a984-c0ff55114cc0",
        "colab": {
          "base_uri": "https://localhost:8080/",
          "height": 100
        }
      },
      "source": [
        "knn = KNN()\n",
        "knn_fit_time = knn.fit(train_df)\n",
        "knn_df, knn150_trans_time = knn.transform(get_query_seeds(test_query_df), k=150,\n",
        "                                          filter_user_tracks=True)\n",
        "c_knn150_hit_rates = hit_rates(knn_df, test_df)\n",
        "c_knn150_ndcg = ndcg(knn_df, test_df)\n",
        "\n",
        "print(\"{:.6f} hit rate\\n{:.6f} ndcg\\n\\n{:.5f}s fit time \\n{:.5f}s trans time\"\n",
        "      .format(c_knn150_hit_rates[0], c_knn150_ndcg, knn_fit_time,\n",
        "              knn150_trans_time))"
      ],
      "execution_count": 0,
      "outputs": [
        {
          "output_type": "stream",
          "text": [
            "0.007622 hit rate\n",
            "0.123811 ndcg\n",
            "\n",
            "0.22370s fit time \n",
            "5.81519s trans time\n"
          ],
          "name": "stdout"
        }
      ]
    },
    {
      "cell_type": "code",
      "metadata": {
        "id": "i_eY9VlOAbX8",
        "colab_type": "code",
        "colab": {}
      },
      "source": [
        "del knn\n",
        "del knn_df"
      ],
      "execution_count": 0,
      "outputs": []
    },
    {
      "cell_type": "code",
      "metadata": {
        "id": "Gg4lS0BTAZMk",
        "colab_type": "code",
        "outputId": "4ddee60b-3eda-4184-b27a-8e7857225e97",
        "colab": {
          "base_uri": "https://localhost:8080/",
          "height": 111
        }
      },
      "source": [
        "cols = [\"Pop Rank\", \"SAGH\", \"kNN k=150\"]\n",
        "rows = [[c_pop_rank_ndcg, c_sagh_ndcg, c_knn150_ndcg],\n",
        "        [c_pop_rank_hit_rates[0], c_sagh_hit_rates[0], c_knn150_hit_rates[0]]]\n",
        "index = [\"NDCG\", \"Hit rate\"]\n",
        "pd.DataFrame.from_records(rows, columns=cols, index=index)"
      ],
      "execution_count": 0,
      "outputs": [
        {
          "output_type": "execute_result",
          "data": {
            "text/html": [
              "<div>\n",
              "<style scoped>\n",
              "    .dataframe tbody tr th:only-of-type {\n",
              "        vertical-align: middle;\n",
              "    }\n",
              "\n",
              "    .dataframe tbody tr th {\n",
              "        vertical-align: top;\n",
              "    }\n",
              "\n",
              "    .dataframe thead th {\n",
              "        text-align: right;\n",
              "    }\n",
              "</style>\n",
              "<table border=\"1\" class=\"dataframe\">\n",
              "  <thead>\n",
              "    <tr style=\"text-align: right;\">\n",
              "      <th></th>\n",
              "      <th>Pop Rank</th>\n",
              "      <th>SAGH</th>\n",
              "      <th>kNN k=150</th>\n",
              "    </tr>\n",
              "  </thead>\n",
              "  <tbody>\n",
              "    <tr>\n",
              "      <th>NDCG</th>\n",
              "      <td>0.022478</td>\n",
              "      <td>0.097976</td>\n",
              "      <td>0.123811</td>\n",
              "    </tr>\n",
              "    <tr>\n",
              "      <th>Hit rate</th>\n",
              "      <td>0.000298</td>\n",
              "      <td>0.008066</td>\n",
              "      <td>0.007622</td>\n",
              "    </tr>\n",
              "  </tbody>\n",
              "</table>\n",
              "</div>"
            ],
            "text/plain": [
              "          Pop Rank      SAGH  kNN k=150\n",
              "NDCG      0.022478  0.097976   0.123811\n",
              "Hit rate  0.000298  0.008066   0.007622"
            ]
          },
          "metadata": {
            "tags": []
          },
          "execution_count": 96
        }
      ]
    },
    {
      "cell_type": "code",
      "metadata": {
        "id": "rv2JLVDNAGUV",
        "colab_type": "code",
        "outputId": "ec5b6938-d675-4a69-a24e-599d316b1b64",
        "colab": {
          "base_uri": "https://localhost:8080/",
          "height": 281
        }
      },
      "source": [
        "def plot_c_baseline_hit_rates(n=500):\n",
        "  plt.plot(c_pop_rank_hit_rates[:n], color=\"orange\")\n",
        "  plt.plot(c_sagh_hit_rates[:n], color=\"blue\")\n",
        "  plt.plot(c_knn150_hit_rates[:n], color=\"green\")\n",
        "\n",
        "  orange_patch = mpatches.Patch(color=\"orange\", label=\"Pop Rank\")\n",
        "  blue_patch = mpatches.Patch(color=\"blue\", label=\"SAGH\")\n",
        "  green_patch = mpatches.Patch(color=\"green\", label=\"kNN k 150\")\n",
        "  patches = [orange_patch, blue_patch, green_patch]\n",
        "  plt.legend(handles=patches)\n",
        "\n",
        "  plt.title(\"Hit rates of baseline algorithms\")\n",
        "\n",
        "plot_c_baseline_hit_rates();"
      ],
      "execution_count": 0,
      "outputs": [
        {
          "output_type": "display_data",
          "data": {
            "image/png": "[encoded data removed]",
            "text/plain": [
              "<Figure size 432x288 with 1 Axes>"
            ]
          },
          "metadata": {
            "tags": []
          }
        }
      ]
    },
    {
      "cell_type": "markdown",
      "metadata": {
        "id": "S-JlHn7-Gqwq",
        "colab_type": "text"
      },
      "source": [
        "# Factorization machines"
      ]
    },
    {
      "cell_type": "markdown",
      "metadata": {
        "id": "zGSgZ_JzGsH_",
        "colab_type": "text"
      },
      "source": [
        "Now we want to evaluate the actual algorithms of interest - factorization machines. We will use the following variants.\n",
        "\n",
        "*  (Adjusted) Pairwise factorization machines\n",
        "*  (Adjusted pairwise) TransRec factorization machines\n",
        "*  (Adjusted pairwise) Field-aware factorization machines\n",
        "\n",
        "All variants use BPR (Bayesian Personalized Ranking) loss, AdaBatch reconditioning and the AdaGrad optimizer."
      ]
    },
    {
      "cell_type": "markdown",
      "metadata": {
        "id": "Wmev029dGwkX",
        "colab_type": "text"
      },
      "source": [
        "**Regarding reproducibility - Scores of own runs might not match exactly**\n",
        "\n",
        "Seeds are used at all identified places where randomness is used (sampling of negative examples, latent factor initialization), but there still seem to be reproducibility issues because of non-deterministic TensorFlow GPU operations (possibly related to https://github.com/tensorflow/tensorflow/issues/2732) and no use of locking (which could be addressed at possible small runtime costs but was not since we have reproducibility issues anyway)."
      ]
    },
    {
      "cell_type": "markdown",
      "metadata": {
        "id": "kg8L1t9mG2ey",
        "colab_type": "text"
      },
      "source": [
        "## Implementation"
      ]
    },
    {
      "cell_type": "markdown",
      "metadata": {
        "id": "a43cfAhBG8TE",
        "colab_type": "text"
      },
      "source": [
        "### Features"
      ]
    },
    {
      "cell_type": "code",
      "metadata": {
        "id": "mY3yX7fFA0c_",
        "colab_type": "code",
        "colab": {}
      },
      "source": [
        "def _df2col_val(df, col_name, col_vals, with_first_unknown,\n",
        "                with_unknown_ignored):\n",
        "  col = df[col_name].to_numpy()\n",
        "\n",
        "  if with_first_unknown:\n",
        "    col = np.insert(col, 0, 0)\n",
        "\n",
        "  if col_name in col_vals:\n",
        "    val = np.full(len(col), col_vals[col_name])\n",
        "  else:\n",
        "    val = np.ones(len(col))\n",
        "  \n",
        "  if with_unknown_ignored:\n",
        "    val[col == 0] = 0.0\n",
        "\n",
        "  return col, val\n",
        "\n",
        "\n",
        "def _df2csr(df, maincol, maincol_num, col_names, col_nums, col_vals,\n",
        "            with_first_unknown, with_unknown_ignored):\n",
        "\n",
        "  col_csrs = []\n",
        "  for col_name, col_num in zip(col_names, col_nums):\n",
        "    col, val = _df2col_val(df, col_name, col_vals, with_first_unknown,\n",
        "                           with_unknown_ignored)\n",
        "    col_csr = csr_matrix((val, (maincol, col)), shape=(maincol_num, col_num))\n",
        "    col_csrs.append(col_csr)\n",
        "\n",
        "  return sp.hstack(col_csrs, format=\"csr\")\n",
        "\n",
        "\n",
        "def _df2ctx_csr(df, col_names, col_nums, col_vals):\n",
        "  \"\"\"\n",
        "  Create a csr matrix of the concatenated one-hot features\n",
        "  of the col_names dataframe columns.\n",
        "\n",
        "  Unknown features (one-hot index 0) are ignored\n",
        "  as the number of context features does not influence ranking.\n",
        "\n",
        "  :param col_vals: feature weighting per column\n",
        "  :return: csr matrix of dense shape [num_interactions, num_ctx_feats]\n",
        "  \"\"\"\n",
        "  maincol_num = len(df)\n",
        "  maincol = np.arange(maincol_num, dtype=int)\n",
        "  return _df2csr(df, maincol, maincol_num, col_names, col_nums, col_vals, False,\n",
        "                 True)\n",
        "\n",
        "\n",
        "def _df2user_csr(df, usercol_name, usercol_num, col_names, col_nums, col_vals):\n",
        "  \"\"\"\n",
        "  Create a csr matrix of the per-user concatenated one-hot features\n",
        "  of the col_names dataframe columns.\n",
        "\n",
        "  Unknown features (one-hot index 0) are ignored\n",
        "  as the number of user features does not influence ranking.\n",
        "  The unknown user (row 0) has no features.\n",
        "\n",
        "  :param col_vals: feature weighting per column\n",
        "  :return: csr matrix of dense shape [num_users, num_user_feats]\n",
        "  \"\"\"\n",
        "  df = df[col_names].drop_duplicates().sort_values(usercol_name)\n",
        "  usercol, _ = _df2col_val(df, usercol_name, col_vals, True, True)\n",
        "  return _df2csr(df, usercol, usercol_num, col_names, col_nums, col_vals, True,\n",
        "                 True)\n",
        "\n",
        "\n",
        "def _df2item_csr(df, maincol_name, maincol_num, col_names, col_nums, col_vals):\n",
        "  \"\"\"\n",
        "  Create a csr matrix of the per-item concatenated one-hot features\n",
        "  of the col_names dataframe columns.\n",
        "\n",
        "  Unknown features (one-hot index 0) are set\n",
        "  as the number of item features influences ranking.\n",
        "  The unknown item (row 0) has all unknown feature.\n",
        "\n",
        "  :param col_vals: feature weighting per column\n",
        "  :return: csr matrix of dense shape [num_items, num_item_feats]\n",
        "  \"\"\"\n",
        "  df = df[col_names].drop_duplicates().sort_values(maincol_name)\n",
        "  maincol, _ = _df2col_val(df, maincol_name, col_vals, True, False)\n",
        "  return _df2csr(df, maincol, maincol_num, col_names, col_nums, col_vals, True,\n",
        "                 False)\n",
        "\n",
        "\n",
        "def _meta_df2num(meta_df, col_name):\n",
        "  return meta_df[col_name].max() + 1\n",
        "\n",
        "\n",
        "def _item2col(meta_df, col_name):\n",
        "  item2col = meta_df[[\"traid\", col_name]].drop_duplicates()\n",
        "  item2col = item2col.sort_values(\"traid\")[col_name].to_numpy()\n",
        "  item2col = np.insert(item2col, 0, 0)  # unknown column\n",
        "  return item2col\n",
        "\n",
        "\n",
        "def _df2encoded_user_csr(seeds_df, meta_df, ucol_name, ucol_num, icol_name,\n",
        "                         icol_num, col_names, col_nums, col_vals,\n",
        "                         normalize_fn):\n",
        "\n",
        "  ui_df = seeds_df[[ucol_name, icol_name]].drop_duplicates()\n",
        "  ui_df = ui_df.sort_values([ucol_name, icol_name]).reset_index(drop=True)\n",
        "\n",
        "  ucol, _ = _df2col_val(ui_df, ucol_name, col_vals, True, True)\n",
        "\n",
        "  # use weighting of user column for individual item columns\n",
        "  if ucol_name in col_vals:\n",
        "    icol_vals = {icol_name: col_vals[icol_name]}\n",
        "  else:\n",
        "    icol_vals = dict()\n",
        "  icol, val = _df2col_val(ui_df, icol_name, icol_vals, True, True)\n",
        "\n",
        "  # normalize weighting of individual item columns\n",
        "  val = val * normalize_fn(ui_df, meta_df, ucol_name, icol_name)\n",
        "  \n",
        "  col_csrs = [csr_matrix((val, (ucol, icol)), shape=(ucol_num, icol_num))]\n",
        "\n",
        "  if col_names:\n",
        "    seeds_df = seeds_df[col_names + [ucol_name]].drop_duplicates().sort_values(ucol_name)\n",
        "    ucol, _ = _df2col_val(seeds_df, ucol_name, col_vals, True, True)\n",
        "\n",
        "    for col_name, col_num in zip(col_names, col_nums):\n",
        "      col, val = _df2col_val(seeds_df, col_name, col_vals, True, True)\n",
        "      col_csr = csr_matrix((val, (ucol, col)), shape=(ucol_num, col_num))\n",
        "      col_csrs.append(col_csr)\n",
        "\n",
        "  return sp.hstack(col_csrs, format=\"csr\")"
      ],
      "execution_count": 0,
      "outputs": []
    },
    {
      "cell_type": "code",
      "metadata": {
        "id": "Gw93wP1IA8Yp",
        "colab_type": "code",
        "colab": {}
      },
      "source": [
        "def df2usersitems(df, meta_df, seeds_df=None):\n",
        "  \"\"\"\n",
        "  Function for only using user and item index features.\n",
        "\n",
        "  Returns a tuple of\n",
        "   * number of users including unknown user\n",
        "   * user indices array of shape                [num_interactions]\n",
        "   * user features csr matrix of dense shape    [num_users, num_user_feats]\n",
        "   * number of items including unknown item\n",
        "   * item indices array of shape                [num_interactions]\n",
        "   * item features csr matrix of dense shape    [num_items, num_item_feats]\n",
        "   * context features csr matrix of dense shape [num_interactions, num_ctx_feats]\n",
        "   * array of artists per item indices of shape [num_items]\n",
        "   * array of albums per item indices of shape  [num_items]\n",
        "  \"\"\"\n",
        "\n",
        "  num_users = _meta_df2num(meta_df, \"pid\")\n",
        "  num_items = _meta_df2num(meta_df, \"traid\")\n",
        "\n",
        "  item2artist = _item2col(meta_df, \"artid\")\n",
        "  item2album = _item2col(meta_df, \"albid\")\n",
        "\n",
        "  user_feats = sp.identity(num_users, format=\"csr\")\n",
        "  item_feats = sp.identity(num_items, format=\"csr\")\n",
        "  \n",
        "  user_indices = df[\"pid\"].to_numpy()\n",
        "  item_indices = df[\"traid\"].to_numpy() if \"traid\" in df.columns else None\n",
        "  ctx_feats = None\n",
        "\n",
        "  return (num_users, user_indices, user_feats, num_items, item_indices,\n",
        "          item_feats, ctx_feats, item2artist, item2album)\n",
        "\n",
        "\n",
        "def df2usersitemfeats(col_vals=dict()):\n",
        "  \"\"\"\n",
        "  Function for using user index and item index, album and artist features.\n",
        "  \"\"\"\n",
        "  def _df2usersitemfeats(df, meta_df, seeds_df=None):\n",
        "    num_users = _meta_df2num(meta_df, \"pid\")\n",
        "    num_items = _meta_df2num(meta_df, \"traid\")\n",
        "    num_albums = _meta_df2num(meta_df, \"albid\") \n",
        "    num_artists = _meta_df2num(meta_df, \"artid\") \n",
        "\n",
        "    item2artist = _item2col(meta_df, \"artid\")\n",
        "    item2album = _item2col(meta_df, \"albid\")\n",
        "\n",
        "    user_feats = sp.identity(num_users, format=\"csr\")\n",
        "\n",
        "    item_cols = [\"traid\", \"albid\", \"artid\"]\n",
        "    item_col_nums = [num_items, num_albums, num_artists]\n",
        "    item_feats = _df2item_csr(meta_df, \"traid\", num_items, item_cols,\n",
        "                              item_col_nums, col_vals)\n",
        "\n",
        "    user_indices = df[\"pid\"].to_numpy()\n",
        "    item_indices = df[\"traid\"].to_numpy() if \"traid\" in df.columns else None\n",
        "    ctx_feats = None\n",
        "\n",
        "    return (num_users, user_indices, user_feats, num_items, item_indices,\n",
        "            item_feats, ctx_feats, item2artist, item2album)\n",
        "\n",
        "  return _df2usersitemfeats\n",
        "\n",
        "\n",
        "def df2all(col_vals=dict()):\n",
        "  \"\"\"\n",
        "  Function for using all features, excluding previous item context features.\n",
        "   * user features: pid, userid, age, country, gender\n",
        "   * item features: traid, albid, artid\n",
        "  \"\"\"\n",
        "  def _df2all(df, meta_df, seeds_df=None):\n",
        "    num_users = _meta_df2num(meta_df, \"pid\")\n",
        "    num_items = _meta_df2num(meta_df, \"traid\")\n",
        "    num_true_users = _meta_df2num(meta_df, \"userid\")\n",
        "    num_b_ages = _meta_df2num(meta_df, \"b_age\")\n",
        "    num_countries = _meta_df2num(meta_df, \"country\")\n",
        "    num_genders = _meta_df2num(meta_df, \"gender\")\n",
        "    num_albums = _meta_df2num(meta_df, \"albid\") \n",
        "    num_artists = _meta_df2num(meta_df, \"artid\") \n",
        "    \n",
        "    item2artist = _item2col(meta_df, \"artid\")\n",
        "    item2album = _item2col(meta_df, \"albid\")\n",
        "\n",
        "    user_cols = [\"pid\", \"userid\", \"b_age\", \"country\", \"gender\"]\n",
        "    user_col_nums = [num_users, num_true_users, num_b_ages, num_countries,\n",
        "                     num_genders]\n",
        "    user_feats = _df2user_csr(meta_df, \"pid\", num_users, user_cols,\n",
        "                              user_col_nums, col_vals)\n",
        "\n",
        "    item_cols = [\"traid\", \"albid\", \"artid\"]\n",
        "    item_col_nums = [num_items, num_albums, num_artists]\n",
        "    item_feats = _df2item_csr(meta_df, \"traid\", num_items, item_cols,\n",
        "                              item_col_nums, col_vals)\n",
        "\n",
        "    user_indices = df[\"pid\"].to_numpy()\n",
        "    item_indices = df[\"traid\"].to_numpy() if \"traid\" in df.columns else None\n",
        "    ctx_feats = None\n",
        "\n",
        "    return (num_users, user_indices, user_feats, num_items, item_indices,\n",
        "            item_feats, ctx_feats, item2artist, item2album)\n",
        "  \n",
        "  return _df2all\n",
        "\n",
        "\n",
        "def df2usersprevitems(col_vals=dict()):\n",
        "  \"\"\"\n",
        "  Function for only using user, item and previous item index features.\n",
        "  \"\"\"\n",
        "  def _df2usersprevitems(df, meta_df, seeds_df=None):\n",
        "    num_users = _meta_df2num(meta_df, \"pid\")\n",
        "    num_items = max(_meta_df2num(meta_df, \"traid\"),\n",
        "                    _meta_df2num(meta_df, \"prev_traid\"))\n",
        "\n",
        "    item2artist = _item2col(meta_df, \"artid\")\n",
        "    item2album = _item2col(meta_df, \"albid\")\n",
        "\n",
        "    user_feats = sp.identity(num_users, format=\"csr\")\n",
        "    item_feats = sp.identity(num_items, format=\"csr\")\n",
        "    \n",
        "    user_indices = df[\"pid\"].to_numpy()\n",
        "    item_indices = df[\"traid\"].to_numpy() if \"traid\" in df.columns else None\n",
        "    ctx_feats = _df2ctx_csr(df, [\"prev_traid\"], [num_items], col_vals)\n",
        "\n",
        "    return (num_users, user_indices, user_feats, num_items, item_indices,\n",
        "            item_feats, ctx_feats, item2artist, item2album)\n",
        "  \n",
        "  return _df2usersprevitems\n",
        "\n",
        "\n",
        "def df2usersprevitemfeats(col_vals=dict()):\n",
        "  \"\"\"\n",
        "  Function for using user index and item index, album and artist features,\n",
        "  as well as previous item index, album and artist features.\n",
        "  \"\"\"\n",
        "  def _df2usersprevitemfeats(df, meta_df, seeds_df=None):\n",
        "    num_users = _meta_df2num(meta_df, \"pid\")\n",
        "    num_items = max(_meta_df2num(meta_df, \"traid\"),\n",
        "                    _meta_df2num(meta_df, \"prev_traid\"))\n",
        "    num_albums = max(_meta_df2num(meta_df, \"albid\"),\n",
        "                     _meta_df2num(meta_df, \"prev_albid\"))\n",
        "    num_artists = max(_meta_df2num(meta_df, \"artid\"),\n",
        "                      _meta_df2num(meta_df, \"prev_artid\"))\n",
        "\n",
        "    item2artist = _item2col(meta_df, \"artid\")\n",
        "    item2album = _item2col(meta_df, \"albid\")\n",
        "\n",
        "    user_feats = sp.identity(num_users, format=\"csr\")\n",
        "\n",
        "    item_cols = [\"traid\", \"albid\", \"artid\"]\n",
        "    item_col_nums = [num_items, num_albums, num_artists]\n",
        "    item_feats = _df2item_csr(meta_df, \"traid\", num_items, item_cols,\n",
        "                              item_col_nums, col_vals)\n",
        "\n",
        "    user_indices = df[\"pid\"].to_numpy()\n",
        "    item_indices = df[\"traid\"].to_numpy() if \"traid\" in df.columns else None\n",
        "\n",
        "    ctx_cols = [\"prev_traid\", \"prev_albid\", \"prev_artid\"]\n",
        "    ctx_col_nums = [num_items, num_albums, num_artists]\n",
        "    ctx_feats = _df2ctx_csr(df, ctx_cols, ctx_col_nums, col_vals)\n",
        "\n",
        "    return (num_users, user_indices, user_feats, num_items, item_indices,\n",
        "            item_feats, ctx_feats, item2artist, item2album)\n",
        "  \n",
        "  return _df2usersprevitemfeats\n",
        "\n",
        "\n",
        "def df2prevall(col_vals=dict()):\n",
        "  \"\"\"\n",
        "  Function for using all features.\n",
        "   * user features: pid, userid, age, country, gender\n",
        "   * item features: traid, albid, artid\n",
        "   * context features: prev_traid, prev_albid, prev_artid\n",
        "  \"\"\"\n",
        "  def _df2prevall(df, meta_df, seeds_df=None):\n",
        "    num_users = _meta_df2num(meta_df, \"pid\")\n",
        "    num_true_users = _meta_df2num(meta_df, \"userid\")\n",
        "    num_b_ages = _meta_df2num(meta_df, \"b_age\")\n",
        "    num_countries = _meta_df2num(meta_df, \"country\")\n",
        "    num_genders = _meta_df2num(meta_df, \"gender\")\n",
        "    num_items = max(_meta_df2num(meta_df, \"traid\"),\n",
        "                    _meta_df2num(meta_df, \"prev_traid\"))\n",
        "    num_albums = max(_meta_df2num(meta_df, \"albid\"),\n",
        "                     _meta_df2num(meta_df, \"prev_albid\"))\n",
        "    num_artists = max(_meta_df2num(meta_df, \"artid\"),\n",
        "                      _meta_df2num(meta_df, \"prev_artid\"))\n",
        "    \n",
        "    item2artist = _item2col(meta_df, \"artid\")\n",
        "    item2album = _item2col(meta_df, \"albid\")\n",
        "\n",
        "    user_cols = [\"pid\", \"userid\", \"b_age\", \"country\", \"gender\"]\n",
        "    user_col_nums = [num_users, num_true_users, num_b_ages, num_countries,\n",
        "                     num_genders]\n",
        "    user_feats = _df2user_csr(meta_df, \"pid\", num_users, user_cols,\n",
        "                              user_col_nums, col_vals)\n",
        "\n",
        "    item_cols = [\"traid\", \"albid\", \"artid\"]\n",
        "    item_col_nums = [num_items, num_albums, num_artists]\n",
        "    item_feats = _df2item_csr(meta_df, \"traid\", num_items, item_cols,\n",
        "                              item_col_nums, col_vals)\n",
        "\n",
        "    user_indices = df[\"pid\"].to_numpy()\n",
        "    item_indices = df[\"traid\"].to_numpy() if \"traid\" in df.columns else None\n",
        "\n",
        "    ctx_cols = [\"prev_traid\", \"prev_albid\", \"prev_artid\"]\n",
        "    ctx_col_nums = [num_items, num_albums, num_artists]\n",
        "    ctx_feats = _df2ctx_csr(df, ctx_cols, ctx_col_nums, col_vals)\n",
        "\n",
        "    return (num_users, user_indices, user_feats, num_items, item_indices,\n",
        "            item_feats, ctx_feats, item2artist, item2album)\n",
        "  \n",
        "  return _df2prevall"
      ],
      "execution_count": 0,
      "outputs": []
    },
    {
      "cell_type": "code",
      "metadata": {
        "id": "7vFxdq1ECcxs",
        "colab_type": "code",
        "colab": {}
      },
      "source": [
        "def equi_weight_normalize(ui_df, meta_df, ucol_name, icol_name):\n",
        "  def _group_equi_weights(g):\n",
        "    g[\"weight\"] = 1.0 / g.size\n",
        "    return g\n",
        "  \n",
        "  ui_df = ui_df.groupby(ucol_name).apply(_group_equi_weights)\n",
        "  val_weights = pd.Series([1.0]).append(ui_df[\"weight\"])\n",
        "  return val_weights\n",
        "\n",
        "\n",
        "def sqrt_equi_weight_normalize(ui_df, meta_df, ucol_name, icol_name):\n",
        "  def _group_sqrt_equi_weights(g):\n",
        "    g[\"weight\"] = 1.0 / sqrt(g.size)\n",
        "    return g\n",
        "  \n",
        "  ui_df = ui_df.groupby(ucol_name).apply(_group_sqrt_equi_weights)\n",
        "  val_weights = pd.Series([1.0]).append(ui_df[\"weight\"])\n",
        "  return val_weights\n",
        "\n",
        "\n",
        "def sqrt_popularity_weight_normalize(ui_df, meta_df, ucol_name, icol_name):\n",
        "  def _group_sqrt_popularity_weights(g):\n",
        "    g[\"weight\"] = g[\"weight\"] / g[\"weight\"].sum()\n",
        "    return g\n",
        "\n",
        "  item_weights = 1.0 / meta_df.groupby(icol_name).size().apply(np.sqrt)\n",
        "  item_weights = item_weights.rename(\"weight\")\n",
        "  ui_df = ui_df.join(item_weights, on=icol_name)\n",
        "  ui_df = ui_df.groupby(ucol_name).apply(_group_sqrt_popularity_weights)\n",
        "  val_weights = pd.Series([1.0]).append(ui_df[\"weight\"])\n",
        "  return val_weights\n",
        "\n",
        "\n",
        "def one_weight_normalize(ui_df, meta_df, ucol_name, icol_name):\n",
        "  def _group_one_weights(g):\n",
        "    g[\"weight\"] = 1.0\n",
        "    return g\n",
        "  \n",
        "  ui_df = ui_df.groupby(ucol_name).apply(_group_one_weights)\n",
        "  val_weights = pd.Series([1.0]).append(ui_df[\"weight\"])\n",
        "  return val_weights"
      ],
      "execution_count": 0,
      "outputs": []
    },
    {
      "cell_type": "code",
      "metadata": {
        "id": "nBe_snC9CibN",
        "colab_type": "code",
        "colab": {}
      },
      "source": [
        "def df2encodedusersitems(col_vals=dict(),\n",
        "                         encode_fn=sqrt_equi_weight_normalize):\n",
        "  \"\"\"\n",
        "  Function for only using item index features,\n",
        "  representing users as their items.\n",
        "  \"\"\"\n",
        "  def _df2encodedusersitems(df, meta_df, seeds_df=None):\n",
        "    num_users = _meta_df2num(meta_df, \"pid\")\n",
        "    num_items = _meta_df2num(meta_df, \"traid\")\n",
        "    \n",
        "    item2artist = _item2col(meta_df, \"artid\")\n",
        "    item2album = _item2col(meta_df, \"albid\")\n",
        "    \n",
        "    if seeds_df is not None and \"traid\" in seeds_df.columns:\n",
        "      user_feats = _df2encoded_user_csr(seeds_df, meta_df, \"pid\", num_users,\n",
        "                                        \"traid\", num_items, [], [], col_vals,\n",
        "                                        encode_fn)\n",
        "    else:\n",
        "      user_feats = None\n",
        "\n",
        "    item_feats = sp.identity(num_items, format=\"csr\")\n",
        "\n",
        "    user_indices = df[\"pid\"].to_numpy()\n",
        "    item_indices = df[\"traid\"].to_numpy() if \"traid\" in df.columns else None\n",
        "    ctx_feats = None\n",
        "    return (num_users, user_indices, user_feats, num_items, item_indices,\n",
        "            item_feats, ctx_feats, item2artist, item2album)\n",
        "\n",
        "  return _df2encodedusersitems\n",
        "\n",
        "\n",
        "def df2encodedusersall(col_vals=dict(),\n",
        "                       encode_fn=sqrt_equi_weight_normalize):\n",
        "  \"\"\"\n",
        "  Function for using all features, representing users as their items:\n",
        "   * user features: playlist items, userid, age, country, gender\n",
        "   * item features: traid, albid, artid\n",
        "  \"\"\"\n",
        "  def _df2encodedusersall(df, meta_df, seeds_df=None):\n",
        "    num_users = _meta_df2num(meta_df, \"pid\")\n",
        "    num_true_users = _meta_df2num(meta_df, \"userid\")\n",
        "    num_b_ages = _meta_df2num(meta_df, \"b_age\")\n",
        "    num_countries = _meta_df2num(meta_df, \"country\")\n",
        "    num_genders = _meta_df2num(meta_df, \"gender\")\n",
        "    num_items = max(_meta_df2num(meta_df, \"traid\"),\n",
        "                    _meta_df2num(meta_df, \"prev_traid\"))\n",
        "    num_albums = max(_meta_df2num(meta_df, \"albid\"),\n",
        "                     _meta_df2num(meta_df, \"prev_albid\"))\n",
        "    num_artists = max(_meta_df2num(meta_df, \"artid\"),\n",
        "                      _meta_df2num(meta_df, \"prev_artid\"))\n",
        "    \n",
        "    item2artist = _item2col(meta_df, \"artid\")\n",
        "    item2album = _item2col(meta_df, \"albid\")\n",
        "    \n",
        "    if seeds_df is not None and \"traid\" in seeds_df.columns:\n",
        "      user_cols = [\"userid\", \"b_age\", \"country\", \"gender\"]\n",
        "      user_col_nums = [num_true_users, num_b_ages, num_countries, num_genders]\n",
        "      user_feats = _df2encoded_user_csr(seeds_df, meta_df, \"pid\", num_users,\n",
        "                                        \"traid\", num_items, user_cols,\n",
        "                                        user_col_nums, col_vals, encode_fn)\n",
        "    else:\n",
        "      user_feats = None\n",
        "      \n",
        "    item_cols = [\"traid\", \"albid\", \"artid\"]\n",
        "    item_col_nums = [num_items, num_albums, num_artists]\n",
        "    item_feats = _df2item_csr(meta_df, \"traid\", num_items, item_cols,\n",
        "                              item_col_nums, col_vals)\n",
        "\n",
        "    user_indices = df[\"pid\"].to_numpy()\n",
        "    item_indices = df[\"traid\"].to_numpy() if \"traid\" in df.columns else None\n",
        "    \n",
        "    ctx_feats = None\n",
        "    \n",
        "    return (num_users, user_indices, user_feats, num_items, item_indices,\n",
        "            item_feats, ctx_feats, item2artist, item2album)\n",
        "\n",
        "  return _df2encodedusersall\n",
        "\n",
        "\n",
        "def df2encodedusersprevall(col_vals=dict(),\n",
        "                           encode_fn=sqrt_equi_weight_normalize):\n",
        "  \"\"\"\n",
        "  Function for using all features including previous,\n",
        "  representing users as their items:\n",
        "   * user features: playlist items, userid, age, country, gender\n",
        "   * item features: traid, albid, artid\n",
        "   * context features: prev_traid, prev_albid, prev_artid\n",
        "  \"\"\"\n",
        "  def _df2encodedusersprevall(df, meta_df, seeds_df=None):\n",
        "    num_users = _meta_df2num(meta_df, \"pid\")\n",
        "    num_true_users = _meta_df2num(meta_df, \"userid\")\n",
        "    num_b_ages = _meta_df2num(meta_df, \"b_age\")\n",
        "    num_countries = _meta_df2num(meta_df, \"country\")\n",
        "    num_genders = _meta_df2num(meta_df, \"gender\")\n",
        "    num_items = max(_meta_df2num(meta_df, \"traid\"),\n",
        "                    _meta_df2num(meta_df, \"prev_traid\"))\n",
        "    num_albums = max(_meta_df2num(meta_df, \"albid\"),\n",
        "                     _meta_df2num(meta_df, \"prev_albid\"))\n",
        "    num_artists = max(_meta_df2num(meta_df, \"artid\"),\n",
        "                      _meta_df2num(meta_df, \"prev_artid\"))\n",
        "    \n",
        "    item2artist = _item2col(meta_df, \"artid\")\n",
        "    item2album = _item2col(meta_df, \"albid\")\n",
        "    \n",
        "    if seeds_df is not None and \"traid\" in seeds_df.columns:\n",
        "      user_cols = [\"userid\", \"b_age\", \"country\", \"gender\"]\n",
        "      user_col_nums = [num_true_users, num_b_ages, num_countries, num_genders]\n",
        "      user_feats = _df2encoded_user_csr(seeds_df, meta_df, \"pid\", num_users,\n",
        "                                        \"traid\", num_items, user_cols,\n",
        "                                        user_col_nums, col_vals, encode_fn)\n",
        "    else:\n",
        "      user_feats = None\n",
        "      \n",
        "    item_cols = [\"traid\", \"albid\", \"artid\"]\n",
        "    item_col_nums = [num_items, num_albums, num_artists]\n",
        "    item_feats = _df2item_csr(meta_df, \"traid\", num_items, item_cols,\n",
        "                              item_col_nums, col_vals)\n",
        "\n",
        "    user_indices = df[\"pid\"].to_numpy()\n",
        "    item_indices = df[\"traid\"].to_numpy() if \"traid\" in df.columns else None\n",
        "    \n",
        "    ctx_cols = [\"prev_traid\", \"prev_albid\", \"prev_artid\"]\n",
        "    ctx_col_nums = [num_items, num_albums, num_artists]\n",
        "    ctx_feats = _df2ctx_csr(df, ctx_cols, ctx_col_nums, col_vals)\n",
        "    \n",
        "    return (num_users, user_indices, user_feats, num_items, item_indices,\n",
        "            item_feats, ctx_feats, item2artist, item2album)\n",
        "\n",
        "  return _df2encodedusersprevall"
      ],
      "execution_count": 0,
      "outputs": []
    },
    {
      "cell_type": "markdown",
      "metadata": {
        "id": "CCVfStfc9xk_",
        "colab_type": "text"
      },
      "source": [
        "### Sampling"
      ]
    },
    {
      "cell_type": "markdown",
      "metadata": {
        "id": "UzjJtpF_CT6m",
        "colab_type": "text"
      },
      "source": [
        "Different methods for sampling negative examples can be used.\n",
        "\n",
        "We use implementations of the different methods defined in my master's thesis in section **3.6 Sampling negative feedback**.\n",
        "\n",
        "The implementations are functions with the same signature which can be set as function parameters."
      ]
    },
    {
      "cell_type": "code",
      "metadata": {
        "id": "nkB-a7mTEHhO",
        "colab_type": "code",
        "colab": {}
      },
      "source": [
        "\"\"\"\n",
        "We can't use a njit generator inside a njit generator,\n",
        "because of nested generator memory leak\n",
        "https://github.com/numba/numba/issues/3451\n",
        "https://github.com/numba/numba/issues/1807\n",
        "\"\"\"\n",
        "\n",
        "\n",
        "@nb.njit()\n",
        "def _nb_a2bs(as_, num_as, bs):\n",
        "  a2bs_mapping = [{-1, -2} for _ in range(num_as)]  # -1, -2 as dummy for type inference\n",
        "  for i in range(as_.size):\n",
        "    a2bs_mapping[as_[i]].add(bs[i])\n",
        "  return a2bs_mapping\n",
        "\n",
        "\n",
        "@nb.njit()\n",
        "def _nb_rand_choice(arr, size, probs):\n",
        "    return arr[np.searchsorted(np.cumsum(probs), np.random.random(size))]\n",
        "\n",
        "\n",
        "distribution_nb_spec = [\n",
        " (\"num_users\", nb.int64),\n",
        " (\"num_items\", nb.int64),\n",
        " (\"user_indices\", nb.int64[:]),\n",
        " (\"item_indices\", nb.int64[:]),\n",
        " (\"items\", nb.optional(nb.int64[:])),\n",
        " (\"rho\", nb.optional(nb.float64))\n",
        "]\n",
        "class DistributionNb():\n",
        "  def __init__(self, num_users, num_items, user_indices, item_indices, seed,\n",
        "               items, rho):\n",
        "    self.num_users = num_users\n",
        "    self.num_items = num_items\n",
        "    self.user_indices = user_indices\n",
        "    self.item_indices = item_indices\n",
        "    np.random.seed(seed)\n",
        "    self.items = items\n",
        "    self.rho = rho\n",
        "\n",
        "  def samples(self, size):\n",
        "    return None\n",
        "\n",
        "\n",
        "@nb.jitclass(distribution_nb_spec)\n",
        "class UniformDistributionNb(DistributionNb):\n",
        "  def samples(self, size):\n",
        "    return np.random.randint(0, self.num_items, size=size)\n",
        "\n",
        "\n",
        "@nb.jitclass(distribution_nb_spec)\n",
        "class InstanceDistributionNb(DistributionNb):\n",
        "  def samples(self, size):\n",
        "    return np.random.choice(self.item_indices, size=size)\n",
        "\n",
        "\n",
        "@nb.jitclass(distribution_nb_spec)\n",
        "class _ExpDistributionNb(DistributionNb):\n",
        "  def samples(self, size):\n",
        "    # inverse transformation sampling from truncated exponential distribution\n",
        "    rand = np.random.rand(size) * (1.0 - np.exp(-1.0 / self.rho))\n",
        "    sample_indices = -self.num_items * self.rho * np.log(1.0 - rand)\n",
        "    sample_indices = sample_indices.astype(np.int64)\n",
        "    return self.items[sample_indices]\n",
        "\n",
        "\n",
        "def exp_distribution_nb(rho=1.0):\n",
        "  def _exp_distribution_nb(num_users, num_items, user_indices, item_indices,\n",
        "                           seed, items_none, rho_none):\n",
        "    # item indices sorted by count\n",
        "    items, counts = np.unique(item_indices, return_counts=True)\n",
        "    items = np.concatenate((items[np.argsort(-counts)], [0]))  # unknown item\n",
        "    return _ExpDistributionNb(num_users, num_items, user_indices, item_indices,\n",
        "                              seed, items, rho)\n",
        "                              \n",
        "  return _exp_distribution_nb\n",
        "\n",
        "\n",
        "accepter_nb_spec = [\n",
        " (\"num_users\", nb.int64),\n",
        " (\"num_items\", nb.int64),\n",
        " (\"user_indices\", nb.int64[:]),\n",
        " (\"item_indices\", nb.int64[:]),\n",
        " (\"item2artist\", nb.int64[:]),\n",
        " (\"item2album\", nb.int64[:])\n",
        "]\n",
        "class AccepterNb():\n",
        "  def __init__(self, num_users, num_items, user_indices, item_indices,\n",
        "               item2artist, item2album):\n",
        "    self.num_users = num_users\n",
        "    self.num_items = num_items\n",
        "    self.user_indices = user_indices\n",
        "    self.item_indices = item_indices\n",
        "    self.item2artist = item2artist\n",
        "    self.item2album = item2album\n",
        "\n",
        "  def item2(self):\n",
        "    return None\n",
        "\n",
        "  def user2(self):\n",
        "    if self.item2() is not None:\n",
        "      return _nb_a2bs(self.user_indices, self.num_users,\n",
        "                      self.item2()[self.item_indices])\n",
        "    else:\n",
        "      return None\n",
        "\n",
        "\n",
        "@nb.njit(nb.optional(nb.int64[:])())\n",
        "def _nb_none_intarray():\n",
        "  return None\n",
        "\n",
        "\n",
        "@nb.jitclass(accepter_nb_spec)\n",
        "class AllAccepterNb(AccepterNb):\n",
        "  def item2(self):\n",
        "    return _nb_none_intarray()\n",
        "\n",
        "\n",
        "@nb.jitclass(accepter_nb_spec)\n",
        "class TrackAccepterNb(AccepterNb):\n",
        "  def item2(self):\n",
        "    return np.arange(0, self.num_items)\n",
        "\n",
        "\n",
        "@nb.jitclass(accepter_nb_spec)\n",
        "class ArtistAccepterNb(AccepterNb):\n",
        "  def item2(self):\n",
        "    return self.item2artist\n",
        "\n",
        "\n",
        "@nb.jitclass(accepter_nb_spec)\n",
        "class AlbumAccepterNb(AccepterNb):\n",
        "  def item2(self):\n",
        "    return self.item2album\n",
        "\n",
        "\n",
        "@nb.njit()\n",
        "def _nb_take_wrap(array, start, end):\n",
        "  if end <= len(array):\n",
        "    return array[start:end]\n",
        "  else:\n",
        "    modulo_end = end % len(array)\n",
        "    return np.concatenate((array[start:end], array[:modulo_end]))\n",
        "\n",
        "\n",
        "@nb.njit()\n",
        "def _nb_sampler(dist, accepter, epochs, batch_size, num_users, num_items,\n",
        "                user_indices, item_indices, seed):\n",
        "\n",
        "  user2accs = accepter.user2()\n",
        "  item2acc = accepter.item2()\n",
        "\n",
        "  epoch_size = len(user_indices)\n",
        "  batches_per_epoch = int(ceil(epoch_size / batch_size))\n",
        "  epoch_batches_size = batches_per_epoch * batch_size\n",
        "\n",
        "  interaction_mask = np.arange(0, epoch_size)\n",
        "\n",
        "  for e in range(epochs):\n",
        "    np.random.shuffle(interaction_mask)\n",
        "\n",
        "    neg = dist.samples(epoch_batches_size)\n",
        "    extra_neg = dist.samples(epoch_batches_size)\n",
        "    j = 0\n",
        "\n",
        "    for b in range(batches_per_epoch):\n",
        "      # batching\n",
        "      b_start = b * batch_size\n",
        "      b_end = b_start + batch_size\n",
        "      b_int_mask = _nb_take_wrap(interaction_mask, b_start, b_end)\n",
        "      b_neg = neg[b_start:b_end]\n",
        "\n",
        "      # negative sample acceptance\n",
        "      if user2accs is not None:\n",
        "        for i in range(batch_size):\n",
        "          while item2acc[b_neg[i]] in user2accs[user_indices[b_int_mask[i]]]:\n",
        "            b_neg[i] = extra_neg[j]\n",
        "            j += 1\n",
        "            if j == epoch_batches_size:\n",
        "              # continue with new samples\n",
        "              extra_neg = dist.samples(epoch_batches_size)\n",
        "              j = 0\n",
        "      \n",
        "      yield b_int_mask, b_neg\n",
        "\n",
        "\n",
        "def create_sampler(dist, accepter):\n",
        "  def _sampler(epochs, batch_size, num_users, num_items,\n",
        "               user_indices, item_indices, item2artist, item2album, seed=1):\n",
        "    \"\"\"\n",
        "    Create a generator of batches\n",
        "    of interaction indices and corresponding negative item indices\n",
        "    using the supplied distribution and accepter.\n",
        "    \"\"\"\n",
        "    _dist = dist(num_users, num_items, user_indices, item_indices, seed,\n",
        "                 None, None)\n",
        "    _accepter = accepter(num_users, num_items, user_indices, item_indices,\n",
        "                         item2artist, item2album)\n",
        "    return _nb_sampler(_dist, _accepter, epochs, batch_size,\n",
        "                       num_users, num_items, user_indices, item_indices, seed)\n",
        "\n",
        "  return _sampler\n",
        "\n",
        "\n",
        "# Uniform samplers\n",
        "uniform_sampler = create_sampler(UniformDistributionNb, AllAccepterNb)\n",
        "accepted_uniform_sampler = create_sampler(UniformDistributionNb, TrackAccepterNb)\n",
        "accepted_artist_uniform_sampler = create_sampler(UniformDistributionNb, ArtistAccepterNb)\n",
        "accepted_album_uniform_sampler = create_sampler(UniformDistributionNb, AlbumAccepterNb)\n",
        "\n",
        "# Instance samplers\n",
        "instance_sampler = create_sampler(InstanceDistributionNb, AllAccepterNb)\n",
        "accepted_instance_sampler = create_sampler(InstanceDistributionNb, TrackAccepterNb)\n",
        "accepted_artist_instance_sampler = create_sampler(InstanceDistributionNb, ArtistAccepterNb)\n",
        "accepted_album_instance_sampler = create_sampler(InstanceDistributionNb, AlbumAccepterNb)\n",
        "\n",
        "# Exp samplers\n",
        "exp_sampler = create_sampler(exp_distribution_nb(), AllAccepterNb)\n",
        "accepted_exp_sampler = create_sampler(exp_distribution_nb(), TrackAccepterNb)\n",
        "accepted_artist_exp_sampler = create_sampler(exp_distribution_nb(), ArtistAccepterNb)\n",
        "accepted_album_exp_sampler = create_sampler(exp_distribution_nb(), AlbumAccepterNb)"
      ],
      "execution_count": 0,
      "outputs": []
    },
    {
      "cell_type": "code",
      "metadata": {
        "id": "px3XdBdQEUIG",
        "colab_type": "code",
        "colab": {}
      },
      "source": [
        "@nb.njit()\n",
        "def _nb_crossbatch_sampler(dist, accepter, epochs, batch_size,\n",
        "                           num_users, num_items, user_indices, item_indices,\n",
        "                           seed):\n",
        "\n",
        "  user2accs = accepter.user2()\n",
        "  user2accs_np = [np.unique(np.array(list(s)))[2:] for s in user2accs]\n",
        "  user2accs_np_max = np.max(np.array([len(l) for l in user2accs_np]))\n",
        "  item2acc = accepter.item2()\n",
        "\n",
        "  epoch_size = len(user_indices)\n",
        "  batches_per_epoch = int(ceil(epoch_size / batch_size))\n",
        "  epoch_batches_size = batches_per_epoch * batch_size\n",
        "\n",
        "  interaction_mask = np.arange(0, epoch_size)\n",
        "\n",
        "  for e in range(epochs):\n",
        "    np.random.shuffle(interaction_mask)\n",
        "\n",
        "    neg = dist.samples(epoch_batches_size)\n",
        "    extra_neg = dist.samples(epoch_batches_size)\n",
        "    j = 0\n",
        "\n",
        "    for b in range(batches_per_epoch):\n",
        "      # batching\n",
        "      b_start = b * batch_size\n",
        "      b_end = b_start + batch_size\n",
        "      b_int_mask = _nb_take_wrap(interaction_mask, b_start, b_end)\n",
        "      b_neg = neg[b_start:b_end]\n",
        "\n",
        "      # negative sample acceptance\n",
        "      if user2accs is not None:\n",
        "        for i in range(batch_size):\n",
        "          while item2acc[b_neg[i]] in user2accs[user_indices[b_int_mask[i]]]:\n",
        "            b_neg[i] = extra_neg[j]\n",
        "            j += 1\n",
        "            if j == epoch_batches_size:\n",
        "              # continue with new samples\n",
        "              extra_neg = dist.samples(epoch_batches_size)\n",
        "              j = 0\n",
        "\n",
        "      # === non-acceptance indexing ===\n",
        "\n",
        "      # will be filled with non-acceptance indices\n",
        "      b_u_indices = np.zeros(batch_size * user2accs_np_max, dtype=nb.int64)\n",
        "      b_i_indices = np.zeros(batch_size * user2accs_np_max, dtype=nb.int64)\n",
        "\n",
        "      # sorted negative item non-acceptance indices\n",
        "      i_acc = item2acc[b_neg]\n",
        "      i_acc_mask = np.argsort(i_acc)\n",
        "      inverse_i_acc_mask = np.argsort(i_acc_mask)\n",
        "      i_acc = i_acc[i_acc_mask]\n",
        "\n",
        "      b_users = user_indices[b_int_mask]\n",
        "      k = 0\n",
        "      for bui, b_user in enumerate(b_users):\n",
        "        # sorted item non-acceptance indices for user b_user at batch index bui\n",
        "        u_acc = user2accs_np[b_user]\n",
        "        len_u_acc = len(u_acc)\n",
        "\n",
        "        # go through sorted negative (i_acc) and user (u_acc)\n",
        "        # item non-acceptance indices in parallel\n",
        "        # to find non-accepted batch interactions (bui, bii)\n",
        "        bii = 0\n",
        "        j = 0\n",
        "        while bii < batch_size and j < len_u_acc:\n",
        "          if i_acc[bii] < u_acc[j]:\n",
        "            bii += 1\n",
        "          elif i_acc[bii] > u_acc[j]:\n",
        "            j += 1\n",
        "          else:\n",
        "            b_u_indices[k] = bui\n",
        "            # fill with original batch index\n",
        "            b_i_indices[k] = inverse_i_acc_mask[bii]  \n",
        "            bii += 1\n",
        "            j += 1\n",
        "            k += 1\n",
        "\n",
        "      # ===                         ===\n",
        "\n",
        "      yield b_int_mask, b_neg, b_u_indices[:k], b_i_indices[:k]\n",
        "\n",
        "\n",
        "def create_crossbatch_sampler(dist, accepter):\n",
        "  def _sampler(epochs, batch_size, num_users, num_items,\n",
        "               user_indices, item_indices, item2artist, item2album, seed=1):\n",
        "    \"\"\"\n",
        "    Return a generator of batches of\n",
        "     * interaction indices and corresponding negative item indices\n",
        "     * indices of non-accepted batch cross interactions between those\n",
        "    \n",
        "    The non-acceptance indices correspond to a coo matrix of dense shape\n",
        "    [batch_size, batch_size] and are NOT sorted! They will have to be sorted in\n",
        "    TensorFlow using tf.sparse.reorder.\n",
        "\n",
        "    Negative items are chosen from a uniform distribution without replacement,\n",
        "    so no duplicate negative items occur in a batch.\n",
        "    \n",
        "    For accepting items the supplied accepter is used    \n",
        "    \"\"\"\n",
        "    _dist = dist(num_users, num_items, user_indices, item_indices, seed,\n",
        "                 None, None)\n",
        "    _accepter = accepter(num_users, num_items, user_indices, item_indices,\n",
        "                         item2artist, item2album)\n",
        "    return _nb_crossbatch_sampler(_dist, _accepter, epochs, batch_size,\n",
        "                                  num_users, num_items,\n",
        "                                  user_indices, item_indices, seed)\n",
        "\n",
        "  return _sampler\n",
        "\n",
        "\n",
        "# Cross-batch samplers\n",
        "accepted_crossbatch_sampler = create_crossbatch_sampler(UniformDistributionNb, TrackAccepterNb)\n",
        "accepted_artist_crossbatch_sampler = create_crossbatch_sampler(UniformDistributionNb, ArtistAccepterNb)\n",
        "accepted_album_crossbatch_sampler = create_crossbatch_sampler(UniformDistributionNb, AlbumAccepterNb)"
      ],
      "execution_count": 0,
      "outputs": []
    },
    {
      "cell_type": "markdown",
      "metadata": {
        "id": "H8lnz38BCZ0B",
        "colab_type": "text"
      },
      "source": [
        "### TensorFlow"
      ]
    },
    {
      "cell_type": "code",
      "metadata": {
        "id": "wAlkXkRYGjHJ",
        "colab_type": "code",
        "colab": {}
      },
      "source": [
        "class FMArgs():\n",
        "  \"\"\"\n",
        "  Arguments for extended pairwise factorization machine\n",
        "  \"\"\"\n",
        "\n",
        "  def __init__(self,\n",
        "               epoch_size,\n",
        "               epochs=1000,\n",
        "               batch_size=16384,\n",
        "               num_dims=50,\n",
        "               init_mean=0.1,\n",
        "               linear_reg=0.01,\n",
        "               factors_reg=0.01,\n",
        "               lr=0.1,\n",
        "               eval_freq=10):\n",
        "      \"\"\"\n",
        "      :param epoch_size: Epoch size\n",
        "      :param epochs: Number of epochs to run\n",
        "      :param batch_size: Mini-batch size\n",
        "      :param num_dims: Model dimensionality\n",
        "      :param init_mean: Initialization mean for model weights\n",
        "      :param linear_reg: Regularization rate for linear weights\n",
        "      :param factors_reg: Regularization rate for factor weights\n",
        "      :param lr: Adagrad learning rate\n",
        "      :param incr_lr: Percentual increase of the learning over epochs\n",
        "                      (1% = 0.01) \n",
        "      :param eval_freq: Frequency at which to evaluate model\n",
        "      \"\"\"\n",
        "      self.epochs = epochs\n",
        "      self.batch_size = batch_size\n",
        "      self.batches_per_epoch = int(ceil(epoch_size / batch_size))\n",
        "      self.num_dims = num_dims\n",
        "      self.init_mean = init_mean\n",
        "      self.linear_reg = linear_reg\n",
        "      self.factors_reg = factors_reg\n",
        "      self.lr = lr\n",
        "      self.eval_freq = eval_freq\n",
        "\n",
        "\n",
        "class TfFM:\n",
        "  \"\"\"\n",
        "  Extended pairwise factorization machine\n",
        "  \"\"\"\n",
        "\n",
        "  def __init__(self, graph, train_dataset, val_dataset, args, top_n):\n",
        "    \n",
        "    self.train_dataset = train_dataset\n",
        "    self.val_dataset = val_dataset\n",
        "    self.args = args\n",
        "    self.top_n = top_n\n",
        "    \n",
        "    self.sess = tf.Session(graph=graph)\n",
        "    with self.sess.graph.as_default():\n",
        "      tf.set_random_seed(1)\n",
        "      (self.handle, self.pred_top_op, self.loss_op, self.train_op,\n",
        "       self.val_op) =  self._create_model(val_dataset, args, top_n)\n",
        "\n",
        "  def _create_vars(self, args, val_dataset):\n",
        "    feat_dim = val_dataset.output_shapes[1][1]\n",
        "\n",
        "    initializer_linear = tf.random_uniform_initializer(-args.init_mean,\n",
        "                                                       args.init_mean, seed=1)\n",
        "    initializer_factors = tf.random_uniform_initializer(-args.init_mean,\n",
        "                                                        args.init_mean, seed=2)\n",
        "    \n",
        "    var_linear = tf.Variable(initializer_linear([feat_dim, 1]), name=\"linear\")\n",
        "    var_factors = tf.Variable(initializer_factors([feat_dim, args.num_dims]),\n",
        "                              name=\"factors\")\n",
        "    \n",
        "    return var_linear, var_factors\n",
        "\n",
        "  def _create_shape(self, val_dataset):\n",
        "    feat_dim = val_dataset.output_shapes[0][1]\n",
        "\n",
        "    feat_shape = tf.TensorShape([None, feat_dim])\n",
        "    na_shape = tf.TensorShape([None, None])\n",
        "    indices_shape = tf.TensorShape(None)\n",
        "    return (feat_shape, feat_shape, feat_shape, na_shape, indices_shape)\n",
        "  \n",
        "  def safe_sparse_dense_matmul(self, batch, var):\n",
        "    \"\"\"\n",
        "    Method which can be overwritten to provide a safe version of \n",
        "    sparse_dense_matmul for cases where the number of dimensions or\n",
        "    the sparse matrix are too large (args.num_dims * nnz(batch) > 2^31).\n",
        "    \n",
        "    This may occur when recommending the top n items for each user\n",
        "    which is encoded through its items, because then \n",
        "     * the batch / sparse matrix contains a query instance for all items\n",
        "     * this query instance is large\n",
        "\n",
        "    See also https://github.com/tensorflow/tensorflow/issues/25971\n",
        "    \"\"\"\n",
        "    return tf.sparse.sparse_dense_matmul(batch, var)\n",
        "\n",
        "  def _create_pred_ops(self, vars_, batches_, args, val_dataset):\n",
        "    \n",
        "    var_linear, var_factors = vars_\n",
        "    ctx_batch, pos_batch, neg_batch = batches_\n",
        "\n",
        "    ctx_sum = self.safe_sparse_dense_matmul(ctx_batch, var_factors)\n",
        "\n",
        "    def _create_pred_op(item_batch):\n",
        "      # Linear term\n",
        "      linear = tfs.sparse_dense_matmul(item_batch, var_linear)\n",
        "\n",
        "      # Interaction term\n",
        "      i_sum = self.safe_sparse_dense_matmul(item_batch, var_factors)\n",
        "      interaction = tf.multiply(i_sum, ctx_sum)\n",
        "      interaction = tf.reduce_sum(interaction, axis=1, keepdims=True)\n",
        "\n",
        "      return linear + interaction\n",
        "\n",
        "    return _create_pred_op(pos_batch), _create_pred_op(neg_batch)\n",
        "\n",
        "  def _create_pred_top_op(self, pred_batch, idx_batch, n):\n",
        "    scores, indices = tf.math.top_k(tf.squeeze(pred_batch), k=n)\n",
        "    item_indices = tf.gather(idx_batch, indices)\n",
        "    return scores, item_indices\n",
        "\n",
        "  def _create_utility_op(self, pos_preds, neg_preds, na_batch):\n",
        "    return pos_preds - neg_preds\n",
        "\n",
        "  def _create_loss_op(self, gz, args):\n",
        "    # BPR loss op (add 1e-10 to help with numerical stability)\n",
        "    return -tf.reduce_sum(tf.log(1e-10 + tf.sigmoid(gz)))\n",
        "\n",
        "  def _create_l2_reg_grad(self, var, reg):\n",
        "    return reg * var\n",
        "\n",
        "  def _create_reg_grad(self, var, grad, args):\n",
        "    if \"linear\" in var.name:\n",
        "      return self._create_l2_reg_grad(var, args.linear_reg)\n",
        "    else:\n",
        "      return self._create_l2_reg_grad(var, args.factors_reg)\n",
        "\n",
        "  def _create_train_op(self, loss_op, vars_, batches_, args):\n",
        "    ctx_batch, pos_batch, neg_batch = batches_\n",
        "\n",
        "    global_step = tf.Variable(0, trainable=False)\n",
        "\n",
        "    # training op\n",
        "    opt = tf.contrib.opt.RegAdagradOptimizer(learning_rate=args.lr)\n",
        "    grads_and_vars = opt.compute_gradients(loss_op)\n",
        "\n",
        "    # sparse mini-batch gradients scaling op \n",
        "    def to_indicator(s):\n",
        "      return tf.SparseTensor(s.indices, tf.ones_like(s.values), s.dense_shape)\n",
        "\n",
        "    nz_batch = tfs.add(to_indicator(ctx_batch), to_indicator(pos_batch))\n",
        "    nz_batch = tfs.add(nz_batch, to_indicator(neg_batch))\n",
        "    nz_batch = tfs.reduce_sum(nz_batch, axis=0)\n",
        "    nz_lr = 1.0 / tf.expand_dims(tf.maximum(nz_batch, 1.0), 1)\n",
        "\n",
        "    grads_and_vars = [(tf.multiply(nz_lr, grad), var) for grad, var\n",
        "                      in grads_and_vars]\n",
        "\n",
        "    # frequency adaptive regularization op\n",
        "    reg_grads_and_vars = [(tf.where(tf.equal(grad, 0),\n",
        "                                    grad,\n",
        "                                    self._create_reg_grad(var, grad, args)),\n",
        "                           var) for grad, var in grads_and_vars]\n",
        "    \n",
        "    # actual training op\n",
        "    train_op = opt.apply_gradients(grads_and_vars, global_step=global_step)\n",
        "    with opt.avoid_updating_slots():\n",
        "      reg_op = opt.apply_gradients(reg_grads_and_vars)\n",
        "\n",
        "    return tf.group([train_op, reg_op])\n",
        "\n",
        "\n",
        "  def _create_val_op(self, gz):\n",
        "    auc_op = tf.cast(tf.squeeze(gz > 0), tf.float32)\n",
        "    return tf.reduce_mean(auc_op)\n",
        "\n",
        "  def _create_model(self, val_dataset, args, top_n):\n",
        "    # Model variables\n",
        "    vars_ = self._create_vars(args, val_dataset)\n",
        "\n",
        "    # Batch iterator from data sets, handle decides data set to use\n",
        "    handle = tf.placeholder(tf.string, shape=[])\n",
        "    batch_iter = tf.data.Iterator.from_string_handle(\n",
        "        handle,\n",
        "        val_dataset.output_types,\n",
        "        self._create_shape(val_dataset),\n",
        "        val_dataset.output_classes)\n",
        "    \n",
        "    batches_ = batch_iter.get_next()\n",
        "    idx_batch = batches_[-1]\n",
        "    na_batch = batches_[-2]\n",
        "    batches_ = batches_[:-2]\n",
        "    \n",
        "    # Prediction op\n",
        "    pos_preds, neg_preds = self._create_pred_ops(vars_, batches_, args,\n",
        "                                                 val_dataset)\n",
        "    \n",
        "    # Utility op\n",
        "    gz = self._create_utility_op(pos_preds, neg_preds, na_batch)\n",
        "\n",
        "    # Top n items prediction op\n",
        "    preds_top = self._create_pred_top_op(pos_preds, idx_batch, top_n)\n",
        "    \n",
        "    # Loss op\n",
        "    loss_op = self._create_loss_op(gz, args)\n",
        "    \n",
        "    # Training op\n",
        "    train_op = self._create_train_op(loss_op, vars_, batches_, args)\n",
        "    \n",
        "    # Validation op\n",
        "    val_op = self._create_val_op(gz)\n",
        "    \n",
        "    return (handle, preds_top, loss_op, train_op, val_op)\n",
        "\n",
        "  def train(self, save_epochs=[], save_epoch_paths=[]):\n",
        "    with self.sess.graph.as_default():\n",
        "      \n",
        "      # Initialization\n",
        "      self.sess.run(tf.global_variables_initializer())\n",
        "\n",
        "      train_iter = self.train_dataset.make_initializable_iterator()\n",
        "      val_iter = self.val_dataset.make_one_shot_iterator()\n",
        "\n",
        "      self.sess.run(train_iter.initializer)\n",
        "      \n",
        "      train_handle = self.sess.run(train_iter.string_handle())\n",
        "      val_handle = self.sess.run(val_iter.string_handle())\n",
        "\n",
        "      # Training scores\n",
        "      best_auc_epoch = 0\n",
        "      best_val_auc = -1\n",
        "      best_rank_epoch = 0\n",
        "      best_val_rank = self.args.batch_size\n",
        "\n",
        "      losses = []\n",
        "      val_losses = []\n",
        "      val_aucs = []\n",
        "      val_ranks = []\n",
        "\n",
        "      # Training loop\n",
        "      for epoch in range(1, self.args.epochs + 1):\n",
        "        print(\"Epoch: {}\".format(epoch))\n",
        "\n",
        "        loss = 0\n",
        "        for _ in range(self.args.batches_per_epoch):\n",
        "          loss, _ = self.sess.run([self.loss_op, self.train_op],\n",
        "                                  feed_dict={self.handle: train_handle})\n",
        "\n",
        "        losses.append(loss)\n",
        "        print(\"\\tLast batch loss = {}\".format(loss))\n",
        "\n",
        "        if epoch == 1 or epoch % self.args.eval_freq == 0:\n",
        "          val_loss, val_scores = self.sess.run([self.loss_op, self.val_op],\n",
        "                                              feed_dict={self.handle: val_handle})\n",
        "\n",
        "          if isinstance(val_scores, tuple):\n",
        "            val_auc, val_rank = val_scores\n",
        "          else:\n",
        "            val_auc = val_scores\n",
        "            val_rank = None\n",
        "\n",
        "          val_losses.append(val_loss)\n",
        "          val_aucs.append(val_auc)\n",
        "          print(\"\\tVal loss = \" + str(val_loss))\n",
        "          print(\"\\tVal AUC = \" + str(val_auc))\n",
        "          \n",
        "          if val_rank:\n",
        "            val_ranks.append(val_rank)\n",
        "            print(\"\\tVal Rank = \" + str(val_rank))\n",
        "\n",
        "          if val_auc > best_val_auc:\n",
        "            best_auc_epoch = epoch\n",
        "            best_val_auc = val_auc\n",
        "\n",
        "          print(\"\\tCurrent max AUC = {} at epoch {}\"\n",
        "                .format(str(best_val_auc), best_auc_epoch))\n",
        "\n",
        "          if val_rank:\n",
        "            if val_rank < best_val_rank:\n",
        "              best_rank_epoch = epoch\n",
        "              best_val_rank = val_rank\n",
        "\n",
        "            print(\"\\tCurrent min Rank = {} at epoch {}\"\n",
        "                  .format(str(best_val_rank), best_rank_epoch))\n",
        "\n",
        "        if epoch in save_epochs:\n",
        "          save_path = save_epoch_paths[save_epochs.index(epoch)]\n",
        "          self.save(save_path)\n",
        "          print(\"\\tSaved to = {}\".format(save_path))\n",
        "\n",
        "      # Closing iterator\n",
        "      try:\n",
        "        while True:\n",
        "          self.sess.run(self.loss_op, feed_dict={self.handle: train_handle})\n",
        "      except tf.errors.OutOfRangeError:\n",
        "        pass\n",
        "          \n",
        "      return losses, val_losses, val_aucs\n",
        "\n",
        "  def predict(self, query_dataset):\n",
        "    with self.sess.graph.as_default():\n",
        "      \n",
        "      query_iter = query_dataset.make_one_shot_iterator()\n",
        "      query_handle = self.sess.run(query_iter.string_handle())\n",
        "      \n",
        "      scores_arr = []\n",
        "      indices_arr = []\n",
        "      try:\n",
        "        while True:\n",
        "          scores, indices = self.sess.run(self.pred_top_op,\n",
        "                                          feed_dict={self.handle: query_handle})\n",
        "          scores_arr.append(scores)\n",
        "          indices_arr.append(indices)\n",
        "      except tf.errors.OutOfRangeError:\n",
        "        pass\n",
        "      \n",
        "      return np.concatenate(scores_arr), np.concatenate(indices_arr)\n",
        "\n",
        "  def save(self, save_path):\n",
        "    with self.sess.graph.as_default():\n",
        "      saver = tf.train.Saver()\n",
        "      saver.save(self.sess, save_path)\n",
        "\n",
        "  def load(self, load_path):\n",
        "    with self.sess.graph.as_default():\n",
        "      saver = tf.train.Saver()\n",
        "      saver.restore(self.sess, load_path)\n",
        "  \n",
        "  def close(self):\n",
        "    self.sess.close()"
      ],
      "execution_count": 0,
      "outputs": []
    },
    {
      "cell_type": "code",
      "metadata": {
        "id": "gDihMVerE3U6",
        "colab_type": "code",
        "colab": {}
      },
      "source": [
        "class TfBatchFM(TfFM):\n",
        "  \"\"\"\n",
        "  Extended pairwise factorization machine with cross-batch sampling\n",
        "  \"\"\"\n",
        "\n",
        "  def _create_pred_ops(self, vars_, batches_, args, val_dataset):\n",
        "    \n",
        "    var_linear, var_factors = vars_\n",
        "    ctx_batch, pos_batch, neg_batch = batches_\n",
        "\n",
        "    ctx_sum = self.safe_sparse_dense_matmul(ctx_batch, var_factors)\n",
        "\n",
        "    def _create_pred_op(item_batch, shared=False):\n",
        "      # Linear term\n",
        "      linear = tfs.sparse_dense_matmul(item_batch, var_linear)\n",
        "      if shared:\n",
        "        linear = tf.transpose(linear)\n",
        "\n",
        "      # Interaction term\n",
        "      i_sum = self.safe_sparse_dense_matmul(item_batch, var_factors)\n",
        "      if shared:\n",
        "        interaction = tf.matmul(ctx_sum, i_sum, transpose_b=True)\n",
        "      else:\n",
        "        interaction = tf.multiply(i_sum, ctx_sum)\n",
        "        interaction = tf.reduce_sum(interaction, axis=1, keepdims=True)\n",
        "\n",
        "      return linear + interaction\n",
        "\n",
        "    return _create_pred_op(pos_batch), _create_pred_op(neg_batch, shared=True)\n",
        "\n",
        "  def _create_utility_op(self, pos_preds, neg_preds, na_batch):\n",
        "    # eliminate non-accepted negatives\n",
        "    gz = pos_preds - neg_preds \n",
        "    na_gz = tfs.reorder(na_batch)  # sorted indices not guaranteed\n",
        "    na_gz = tfs.to_dense(na_gz, default_value=False)\n",
        "    na_gz = tf.cast(na_gz, tf.float32)\n",
        "    na_gz = tf.multiply(gz, na_gz)\n",
        "    return gz - na_gz\n",
        "\n",
        "  def _create_loss_op(self, gz, args):\n",
        "    # BPR loss op (add 1e-10 to help with numerical stability)\n",
        "    bprloss_op = tf.log(1e-10 + tf.sigmoid(gz))\n",
        "    bprloss_op = tf.reduce_mean(bprloss_op, axis=1)\n",
        "    bprloss_op = tf.reduce_sum(bprloss_op)\n",
        "    return -bprloss_op\n",
        "\n",
        "  def _create_val_op(self, gz):\n",
        "    # AUC op\n",
        "    auc_gz = tf.expand_dims(tf.linalg.diag_part(gz), 1)\n",
        "    auc_op = super(TfBatchFM, self)._create_val_op(auc_gz)\n",
        "    \n",
        "    # Rank op\n",
        "    rank_op = tf.cast(gz < 0, tf.float32)\n",
        "    rank_op = tf.reduce_sum(rank_op, axis=1)\n",
        "    rank_op = tf.reduce_mean(rank_op)\n",
        "\n",
        "    return (auc_op, rank_op)"
      ],
      "execution_count": 0,
      "outputs": []
    },
    {
      "cell_type": "code",
      "metadata": {
        "id": "Zc4R0UkogKPi",
        "colab_type": "code",
        "colab": {}
      },
      "source": [
        "class TfVanillaFM(TfFM):\n",
        "  \"\"\"\n",
        "  Vanilla factorization machine\n",
        "  \"\"\"\n",
        "\n",
        "  def _create_vars(self, args, val_dataset):\n",
        "    feat_dim = val_dataset.output_shapes[0][1]\n",
        "    item_feat_dim = val_dataset.output_shapes[1][1]\n",
        "    cat_feat_dim = feat_dim + item_feat_dim\n",
        "\n",
        "    initializer_linear = tf.random_uniform_initializer(-args.init_mean,\n",
        "                                                       args.init_mean, seed=1)\n",
        "    initializer_factors = tf.random_uniform_initializer(-args.init_mean,\n",
        "                                                        args.init_mean, seed=2)\n",
        "    \n",
        "    var_linear = tf.Variable(initializer_linear([cat_feat_dim, 1]),\n",
        "                             name=\"linear\")\n",
        "    var_factors = tf.Variable(initializer_factors([cat_feat_dim, args.num_dims]),\n",
        "                              name=\"factors\")\n",
        "    \n",
        "    return var_linear, var_factors\n",
        "\n",
        "  def _create_shape(self, val_dataset):\n",
        "    feat_dim = val_dataset.output_shapes[1][1]\n",
        "    item_feat_dim = val_dataset.output_shapes[2][1]\n",
        "\n",
        "    feat_shape = tf.TensorShape([None, feat_dim])\n",
        "    item_feat_shape = tf.TensorShape([None, item_feat_dim])\n",
        "    na_shape = tf.TensorShape([None, None])\n",
        "    indices_shape = tf.TensorShape(None)\n",
        "    return (feat_shape, item_feat_shape, item_feat_shape, na_shape, indices_shape)\n",
        "\n",
        "  def _create_pred_ops(self, vars_, batches_, args, val_dataset):\n",
        "    \n",
        "    ctx_batch, pos_batch, neg_batch = batches_\n",
        "    var_linear, var_factors = vars_\n",
        "\n",
        "    sq_factors = tf.square(var_factors)\n",
        "\n",
        "    def _create_pred_op(item_batch):\n",
        "      batch = tfs.concat(1, [ctx_batch, item_batch])\n",
        "\n",
        "      # Linear term\n",
        "      linear = tfs.sparse_dense_matmul(batch, var_linear)\n",
        "\n",
        "      # Interaction term\n",
        "      term_1 = tfs.sparse_dense_matmul(batch, var_factors)\n",
        "      term_1 = tf.reduce_sum(tf.square(term_1), axis=1, keepdims=True)\n",
        "      term_2 = tfs.sparse_dense_matmul(tf.square(batch), sq_factors)\n",
        "      term_2 = tf.reduce_sum(term_2, axis=1, keepdims=True)\n",
        "      interaction = 0.5 * (term_1 - term_2)\n",
        "\n",
        "      return linear + interaction\n",
        "\n",
        "    return _create_pred_op(pos_batch), _create_pred_op(neg_batch)\n",
        "  \n",
        "  def _create_train_op(self, loss_op, vars_, batches_, args):\n",
        "    ctx_batch, pos_batch, neg_batch = batches_\n",
        "\n",
        "    global_step = tf.Variable(0, trainable=False)\n",
        "\n",
        "    # training op\n",
        "    opt = tf.contrib.opt.RegAdagradOptimizer(learning_rate=args.lr)\n",
        "    grads_and_vars = opt.compute_gradients(loss_op)\n",
        "\n",
        "    # sparse mini-batch gradients scaling op \n",
        "    def to_indicator(s):\n",
        "      return tf.SparseTensor(s.indices, tf.ones_like(s.values), s.dense_shape)\n",
        "\n",
        "    nz_batch = tfs.add(to_indicator(pos_batch), to_indicator(neg_batch))\n",
        "    nz_batch = to_indicator(tfs.concat(1, [ctx_batch, nz_batch]))\n",
        "    nz_batch = tfs.reduce_sum(nz_batch, axis=0)\n",
        "    nz_lr = 1.0 / tf.expand_dims(tf.maximum(nz_batch, 1.0), 1)\n",
        "\n",
        "    grads_and_vars = [(tf.multiply(nz_lr, grad), var) for grad, var\n",
        "                      in grads_and_vars]\n",
        "\n",
        "    # frequency adaptive regularization op\n",
        "    reg_grads_and_vars = [(tf.where(tf.equal(grad, 0),\n",
        "                                    grad,\n",
        "                                    self._create_reg_grad(var, grad, args)),\n",
        "                           var) for grad, var in grads_and_vars]\n",
        "    \n",
        "    # actual training op\n",
        "    train_op = opt.apply_gradients(grads_and_vars, global_step=global_step)\n",
        "    with opt.avoid_updating_slots():\n",
        "      reg_op = opt.apply_gradients(reg_grads_and_vars)\n",
        "\n",
        "    return tf.group([train_op, reg_op])"
      ],
      "execution_count": 0,
      "outputs": []
    },
    {
      "cell_type": "code",
      "metadata": {
        "id": "35C-5d42jbNJ",
        "colab_type": "code",
        "colab": {}
      },
      "source": [
        "class TransRecFMArgs(FMArgs):\n",
        "  \"\"\"\n",
        "  Arguments for TransRec factorization machines\n",
        "  \"\"\"\n",
        "  \n",
        "  def __init__(self, epoch_size, max_norm=1.0, **kwargs):\n",
        "    \"\"\"\n",
        "    :param epoch_size: Epoch size\n",
        "    :param max_norm: Maximum norm over the model dimensionality,\n",
        "                     None or zero means no norm clipping\n",
        "    \"\"\"\n",
        "    super(TransRecFMArgs, self).__init__(epoch_size, **kwargs)\n",
        "    self.max_norm = max_norm\n",
        "\n",
        "\n",
        "class TfTransRecFM(TfFM):\n",
        "  \"\"\"\n",
        "  TransRec factorization machine\n",
        "  \"\"\"\n",
        "\n",
        "  def _create_shape(self, val_dataset):\n",
        "    feat_dim = val_dataset.output_shapes[0][1]\n",
        "    item_feat_dim = val_dataset.output_shapes[1][1]\n",
        "\n",
        "    feat_shape = tf.TensorShape([None, feat_dim])\n",
        "    item_feat_shape = tf.TensorShape([None, item_feat_dim])\n",
        "    na_shape = tf.TensorShape([None, None])\n",
        "    indices_shape = tf.TensorShape(None)\n",
        "    return (feat_shape, item_feat_shape, item_feat_shape, item_feat_shape, \n",
        "            na_shape, indices_shape)\n",
        "\n",
        "  def _create_vars(self, args, val_dataset):\n",
        "    ctx_feat_dim = val_dataset.output_shapes[0][1]\n",
        "    item_feat_dim = val_dataset.output_shapes[1][1]\n",
        "\n",
        "    initializer_linear = tf.random_uniform_initializer(-args.init_mean,\n",
        "                                                       args.init_mean, seed=1)\n",
        "    initializer_ctx_factors = tf.random_uniform_initializer(-args.init_mean,\n",
        "                                                            args.init_mean,\n",
        "                                                            seed=2)\n",
        "    initializer_item_factors = tf.random_uniform_initializer(-args.init_mean,\n",
        "                                                             args.init_mean,\n",
        "                                                             seed=3)\n",
        "    \n",
        "    var_linear = tf.Variable(\n",
        "        initializer_linear([item_feat_dim, 1]), name=\"linear\")\n",
        "    \n",
        "    var_ctx_shape = [ctx_feat_dim, args.num_dims]\n",
        "    var_ctx_factors = tf.Variable(\n",
        "        initializer_ctx_factors(var_ctx_shape), name=\"ctx_factors\")\n",
        "    \n",
        "    var_item_shape = [item_feat_dim, args.num_dims]\n",
        "    var_item_factors = tf.Variable(\n",
        "        initializer_item_factors(var_item_shape), name=\"item_factors\")\n",
        "    \n",
        "    return var_linear, var_ctx_factors, var_item_factors\n",
        "\n",
        "  def _create_pred_ops(self, vars_, batches_, args, val_dataset):\n",
        "\n",
        "    ctx_batch, prev_batch, pos_batch, neg_batch = batches_\n",
        "    var_linear, var_ctx_factors, var_item_factors = vars_\n",
        "\n",
        "    # Common context terms\n",
        "    c_factors_sum = self.safe_sparse_dense_matmul(\n",
        "        ctx_batch, var_ctx_factors) + self.safe_sparse_dense_matmul(\n",
        "            prev_batch, var_item_factors)\n",
        "\n",
        "    def _create_pred_op(item_batch):\n",
        "      # Linear term\n",
        "      linear = tfs.sparse_dense_matmul(item_batch, var_linear)\n",
        "\n",
        "      # Item terms\n",
        "      i_factors_sum = self.safe_sparse_dense_matmul(\n",
        "          item_batch, var_item_factors)\n",
        "\n",
        "      # Actual interaction terms\n",
        "      term_1 = tf.square(c_factors_sum)\n",
        "      term_2 = tf.multiply(c_factors_sum, i_factors_sum)\n",
        "      term_3 = tf.square(i_factors_sum)\n",
        "\n",
        "      interaction = term_1 - 2 * term_2 + term_3\n",
        "      interaction = tf.reduce_sum(interaction, axis=1, keepdims=True)\n",
        "\n",
        "      return linear - interaction\n",
        "    \n",
        "    return _create_pred_op(pos_batch), _create_pred_op(neg_batch)\n",
        "\n",
        "  def _create_reg_grad(self, var, grad, args):\n",
        "    if \"linear\" in var.name:\n",
        "      return self._create_l2_reg_grad(var, args.linear_reg)\n",
        "    else:\n",
        "      return self._create_l2_reg_grad(var, args.factors_reg)\n",
        "\n",
        "  def _create_train_op(self, loss_op, vars_, batches_, args):\n",
        "    \n",
        "    ctx_batch, prev_batch, pos_batch, neg_batch = batches_\n",
        "    var_linear, var_ctx_factors, var_item_factors = vars_\n",
        "    \n",
        "    global_step = tf.Variable(0, trainable=False)\n",
        "\n",
        "    # training op\n",
        "    opt = tf.contrib.opt.RegAdagradOptimizer(learning_rate=args.lr)\n",
        "    if args.max_norm:\n",
        "      clip_opt = tf.contrib.opt.VariableClippingOptimizer(\n",
        "          opt=opt,\n",
        "          vars_to_clip_dims={var_item_factors: [1]},\n",
        "          max_norm=args.max_norm)\n",
        "    else:\n",
        "      clip_opt = opt\n",
        "    grads_and_vars = opt.compute_gradients(loss_op)\n",
        "\n",
        "    # sparse mini-batch gradients scaling op \n",
        "    def to_indicator(s):\n",
        "      return tf.SparseTensor(s.indices, tf.ones_like(s.values), s.dense_shape)\n",
        "\n",
        "    nz_batch = to_indicator(ctx_batch)\n",
        "    nz_batch = tfs.reduce_sum(nz_batch, axis=0)\n",
        "    nz_lr = 1.0 / tf.expand_dims(tf.maximum(nz_batch, 1.0), 1)\n",
        "    grad, var = grads_and_vars[1]\n",
        "    grads_and_vars[1] = (tf.multiply(nz_lr, grad), var)\n",
        "\n",
        "    nz_batch = tfs.add(to_indicator(prev_batch), to_indicator(pos_batch))\n",
        "    nz_batch = tfs.add(nz_batch, to_indicator(neg_batch))\n",
        "    nz_batch = tfs.reduce_sum(nz_batch, axis=0)\n",
        "    nz_lr = 1.0 / tf.expand_dims(tf.maximum(nz_batch, 1.0), 1)\n",
        "    grad, var = grads_and_vars[0]\n",
        "    grads_and_vars[0] = (tf.multiply(nz_lr, grad), var)\n",
        "    grad, var = grads_and_vars[2]\n",
        "    grads_and_vars[2] = (tf.multiply(nz_lr, grad), var)\n",
        "\n",
        "    # actual training op\n",
        "    train_op = opt.apply_gradients(grads_and_vars, global_step=global_step)\n",
        "\n",
        "    with self.sess.graph.control_dependencies([train_op]):\n",
        "      # frequency adaptive regularization op\n",
        "      reg_grads_and_vars = [(tf.where(tf.equal(grad, 0),\n",
        "                                      grad,\n",
        "                                      self._create_reg_grad(var, grad, args)),\n",
        "                            var) for grad, var in grads_and_vars]\n",
        "      with opt.avoid_updating_slots():\n",
        "        reg_op = clip_opt.apply_gradients(reg_grads_and_vars)\n",
        "\n",
        "    return tf.group([train_op, reg_op])"
      ],
      "execution_count": 0,
      "outputs": []
    },
    {
      "cell_type": "code",
      "metadata": {
        "id": "wIZ1gJdyjbzI",
        "colab_type": "code",
        "colab": {}
      },
      "source": [
        "class TfBatchTransRecFM(TfTransRecFM, TfBatchFM):\n",
        "  \"\"\"\n",
        "  TransRec factorization machine with cross-batch sampling\n",
        "  \"\"\"\n",
        "\n",
        "  def _create_pred_ops(self, vars_, batches_, args, val_dataset):\n",
        "\n",
        "    ctx_batch, prev_batch, pos_batch, neg_batch = batches_\n",
        "    var_linear, var_ctx_factors, var_item_factors = vars_\n",
        "\n",
        "    # Common context terms\n",
        "    c_factors_sum = self.safe_sparse_dense_matmul(\n",
        "        ctx_batch, var_ctx_factors) + self.safe_sparse_dense_matmul(\n",
        "            prev_batch, var_item_factors)\n",
        "\n",
        "    def _create_pred_op(item_batch, shared=False):\n",
        "      # Linear term\n",
        "      linear = tfs.sparse_dense_matmul(item_batch, var_linear)\n",
        "      if shared:\n",
        "        linear = tf.transpose(linear)\n",
        "\n",
        "      # Item terms\n",
        "      i_factors_sum = self.safe_sparse_dense_matmul(\n",
        "          item_batch, var_item_factors)\n",
        "\n",
        "      # Actual interaction terms\n",
        "      if shared:\n",
        "        term_1 = tf.reduce_sum(tf.square(c_factors_sum), axis=1, keepdims=True)\n",
        "        term_2 = tf.matmul(c_factors_sum, i_factors_sum, transpose_b=True)\n",
        "        term_3 = tf.reduce_sum(tf.square(i_factors_sum), axis=1, keepdims=True)\n",
        "        term_3 = tf.transpose(term_3)\n",
        "      else:\n",
        "        term_1 = tf.square(c_factors_sum)\n",
        "        term_2 = tf.multiply(c_factors_sum, i_factors_sum)\n",
        "        term_3 = tf.square(i_factors_sum)\n",
        "\n",
        "      interaction = term_1 - 2 * term_2 + term_3\n",
        "      if not shared:\n",
        "        interaction = tf.reduce_sum(interaction, axis=1, keepdims=True)\n",
        "\n",
        "      return linear - interaction\n",
        "    \n",
        "    return _create_pred_op(pos_batch), _create_pred_op(neg_batch, shared=True)"
      ],
      "execution_count": 0,
      "outputs": []
    },
    {
      "cell_type": "code",
      "metadata": {
        "id": "WkT0KJBfr5m6",
        "colab_type": "code",
        "colab": {}
      },
      "source": [
        "class FFMArgs(FMArgs):\n",
        "  \"\"\"\n",
        "  Arguments for extended pairwise field-aware factorization machines\n",
        "  \"\"\"\n",
        "  \n",
        "  def __init__(self, epoch_size, num_ctx_fields, num_item_fields, **kwargs):\n",
        "    \"\"\"\n",
        "    :param epoch_size: Epoch size\n",
        "    :param num_ctx_fields: Number of user/context fields\n",
        "    :param num_item_fields: Number of item fields\n",
        "    \"\"\"\n",
        "    super(FFMArgs, self).__init__(epoch_size, **kwargs)\n",
        "    self.num_ctx_fields = num_ctx_fields\n",
        "    self.num_item_fields = num_item_fields\n",
        "  \n",
        "\n",
        "class TfFFM(TfFM):\n",
        "  \"\"\"\n",
        "  Extended pairwise field-aware factorization machine\n",
        "\n",
        "\n",
        "  To illustrate the vectorized implementation, consider the example with\n",
        "   * user features pid and userid\n",
        "   * item features traid, albid and artid\n",
        "\n",
        "  user / context features have shape [user_features, num_item_fields, num_dims]\n",
        "  item features have shape [item_features, num_user_fields, num_dims]\n",
        "\n",
        "  Looking up of relevant user / context and item features results in:\n",
        "\n",
        "  user features of shape [num_user_fields, num_item_fields, num_dims]\n",
        "  [userid-traid, userid-albid, userid-artid]\n",
        "  [pid-traid, pid-albid, pid-artid]\n",
        "\n",
        "  item features of shape [num_item_fields, num_user_fields, num_dims]\n",
        "  [traid-userid, traid-pid]\n",
        "  [albid-userid, albid-pid]\n",
        "  [artid-userid, artid-pid]\n",
        "\n",
        "  Now transpose item features and multiply element-wise with user features:\n",
        "\n",
        "  [userid-traid, pid-traid]     [traid-userid, traid-pid]\n",
        "  [userid-albid, pid-albid]     [albid-userid, albid-pid]\n",
        "  [userid-artid, pid-artid]     [artid-userid, artid-pid]\n",
        "\n",
        "  Sum up\n",
        "  \"\"\"\n",
        "\n",
        "  def _create_shape(self, val_dataset):\n",
        "    feat_dim = val_dataset.output_shapes[0][1]\n",
        "    item_feat_dim = val_dataset.output_shapes[1][1]\n",
        "\n",
        "    feat_shape = tf.TensorShape([None, feat_dim])\n",
        "    item_feat_shape = tf.TensorShape([None, item_feat_dim])\n",
        "    na_shape = tf.TensorShape([None, None])\n",
        "    indices_shape = tf.TensorShape(None)\n",
        "    return (feat_shape, item_feat_shape, item_feat_shape, na_shape, indices_shape)\n",
        "\n",
        "  def _create_vars(self, args, val_dataset):\n",
        "    ctx_feat_dim = val_dataset.output_shapes[0][1]\n",
        "    item_feat_dim = val_dataset.output_shapes[1][1]\n",
        "\n",
        "    initializer_linear = tf.random_uniform_initializer(-args.init_mean,\n",
        "                                                       args.init_mean, seed=1)\n",
        "    initializer_ctx_factors = tf.random_uniform_initializer(-args.init_mean,\n",
        "                                                            args.init_mean,\n",
        "                                                            seed=2)\n",
        "    initializer_item_factors = tf.random_uniform_initializer(-args.init_mean,\n",
        "                                                             args.init_mean,\n",
        "                                                             seed=3)\n",
        "    \n",
        "    var_linear = tf.Variable(\n",
        "        initializer_linear([item_feat_dim, 1]), name=\"linear\")\n",
        "    \n",
        "    var_ctx_shape = [ctx_feat_dim, args.num_item_fields, args.num_dims]\n",
        "    var_ctx_factors = tf.Variable(\n",
        "        initializer_ctx_factors(var_ctx_shape), name=\"ctx_factors\")\n",
        "    \n",
        "    var_item_shape = [item_feat_dim, args.num_ctx_fields, args.num_dims]\n",
        "    var_item_factors = tf.Variable(\n",
        "        initializer_item_factors(var_item_shape), name=\"item_factors\")\n",
        "    \n",
        "    return var_linear, var_ctx_factors, var_item_factors\n",
        "\n",
        "  def _create_pred_ops(self, vars_, batches_, args, val_dataset):\n",
        "\n",
        "    var_linear, var_ctx_factors, var_item_factors = vars_\n",
        "    ctx_batch, pos_batch, neg_batch = batches_\n",
        "\n",
        "    def _create_lookup_op(batch, factors, num_fields):\n",
        "      batch_feats = tf.slice(batch.indices, [0, 1], [-1, 1])\n",
        "      batch_feats = tf.reshape(batch_feats, [-1, num_fields])\n",
        "      batch_vals = tf.reshape(batch.values, [-1, num_fields])\n",
        "      batch_vals = tf.expand_dims(tf.expand_dims(batch_vals, axis=2), axis=3)\n",
        "      emb = tf.nn.embedding_lookup(factors, batch_feats)\n",
        "      emb = tf.multiply(emb, batch_vals)\n",
        "      return emb\n",
        "\n",
        "    ctx_emb = _create_lookup_op(ctx_batch, var_ctx_factors, args.num_ctx_fields)\n",
        "\n",
        "    def _create_pred_op(item_batch):\n",
        "      # Linear term\n",
        "      linear = tf.sparse_tensor_dense_matmul(item_batch, var_linear)\n",
        "\n",
        "      # Interaction term\n",
        "      item_emb = _create_lookup_op(item_batch, var_item_factors,\n",
        "                                   args.num_item_fields)\n",
        "      interaction = tf.multiply(ctx_emb, tf.transpose(item_emb, [0, 2, 1, 3]))\n",
        "      interaction = tf.reduce_sum(interaction, axis=[1, 2, 3])\n",
        "      interaction = tf.expand_dims(interaction, axis=1)\n",
        "\n",
        "      return linear + interaction\n",
        "    \n",
        "    return _create_pred_op(pos_batch), _create_pred_op(neg_batch)\n",
        "\n",
        "  def _create_train_op(self, loss_op, vars_, batches_, args):\n",
        "    ctx_batch, pos_batch, neg_batch = batches_\n",
        "\n",
        "    global_step = tf.Variable(0, trainable=False)\n",
        "\n",
        "    # training op\n",
        "    opt = tf.contrib.opt.RegAdagradOptimizer(learning_rate=args.lr)\n",
        "    grads_and_vars = opt.compute_gradients(loss_op)\n",
        "\n",
        "    # sparse mini-batch gradients scaling op \n",
        "    def to_indicator(s):\n",
        "      return tf.SparseTensor(s.indices, tf.ones_like(s.values), s.dense_shape)\n",
        "\n",
        "    nz_batch = to_indicator(ctx_batch)\n",
        "    nz_batch = tfs.reduce_sum(nz_batch, axis=0)\n",
        "    nz_lr = 1.0 / tf.expand_dims(tf.maximum(nz_batch, 1.0), 1)\n",
        "    nz_lr = tf.expand_dims(nz_lr, 1)\n",
        "    grad, var = grads_and_vars[1]\n",
        "    grads_and_vars[1] = (tf.multiply(nz_lr, grad), var)\n",
        "\n",
        "    nz_batch = tfs.add(to_indicator(pos_batch), to_indicator(neg_batch))\n",
        "    nz_batch = tfs.reduce_sum(nz_batch, axis=0)\n",
        "    nz_lr = 1.0 / tf.expand_dims(tf.maximum(nz_batch, 1.0), 1)\n",
        "    grad, var = grads_and_vars[0]\n",
        "    grads_and_vars[0] = (tf.multiply(nz_lr, grad), var)\n",
        "    nz_lr = tf.expand_dims(nz_lr, 1)\n",
        "    grad, var = grads_and_vars[2]\n",
        "    grads_and_vars[2] = (tf.multiply(nz_lr, grad), var)\n",
        "\n",
        "    # frequency adaptive regularization op\n",
        "    reg_grads_and_vars = [(tf.where(tf.equal(grad, 0),\n",
        "                                    grad,\n",
        "                                    self._create_reg_grad(var, grad, args)),\n",
        "                           var) for grad, var in grads_and_vars]\n",
        "    \n",
        "    # actual training op\n",
        "    train_op = opt.apply_gradients(grads_and_vars, global_step=global_step)\n",
        "    with opt.avoid_updating_slots():\n",
        "      reg_op = opt.apply_gradients(reg_grads_and_vars)\n",
        "\n",
        "    return tf.group([train_op, reg_op])"
      ],
      "execution_count": 0,
      "outputs": []
    },
    {
      "cell_type": "code",
      "metadata": {
        "id": "0yNvuJBIiWU6",
        "colab_type": "code",
        "colab": {}
      },
      "source": [
        "class TfBatchFFM(TfFFM, TfBatchFM):\n",
        "\n",
        "  def _create_pred_ops(self, vars_, batches_, args, val_dataset):\n",
        "\n",
        "    var_linear, var_ctx_factors, var_item_factors = vars_\n",
        "    ctx_batch, pos_batch, neg_batch = batches_\n",
        "\n",
        "    num_fields_multiplied = args.num_ctx_fields * args.num_item_fields\n",
        "\n",
        "    def _create_lookup_op(batch, factors, num_fields, transpose=False):\n",
        "      batch_feats = tf.slice(batch.indices, [0, 1], [-1, 1])\n",
        "      batch_feats = tf.reshape(batch_feats, [-1, num_fields])\n",
        "      batch_vals = tf.reshape(batch.values, [-1, num_fields])\n",
        "      batch_vals = tf.expand_dims(tf.expand_dims(batch_vals, axis=2), axis=3)\n",
        "      emb = tf.nn.embedding_lookup(factors, batch_feats)\n",
        "      emb = tf.multiply(emb, batch_vals)\n",
        "\n",
        "      if transpose:\n",
        "        emb = tf.transpose(emb, [0, 2, 1, 3])\n",
        "      emb = tf.reshape(emb, [-1, num_fields_multiplied * args.num_dims])\n",
        "\n",
        "      return emb\n",
        "\n",
        "    ctx_emb = _create_lookup_op(ctx_batch, var_ctx_factors, args.num_ctx_fields)\n",
        "\n",
        "    def _create_pred_op(item_batch, shared=False):\n",
        "      # Linear term\n",
        "      linear = tfs.sparse_dense_matmul(item_batch, var_linear)\n",
        "      if shared:\n",
        "        linear = tf.transpose(linear)\n",
        "\n",
        "      # Interaction term\n",
        "      item_emb = _create_lookup_op(item_batch, var_item_factors,\n",
        "                                   args.num_item_fields, transpose=True)\n",
        "      if shared:\n",
        "        interaction = tf.matmul(ctx_emb, item_emb, transpose_b=True)\n",
        "      else:\n",
        "        interaction = tf.multiply(item_emb, ctx_emb)\n",
        "        interaction = tf.reduce_sum(interaction, axis=1, keepdims=True)\n",
        "\n",
        "      return linear + interaction\n",
        "\n",
        "    return _create_pred_op(pos_batch), _create_pred_op(neg_batch, shared=True)"
      ],
      "execution_count": 0,
      "outputs": []
    },
    {
      "cell_type": "code",
      "metadata": {
        "id": "LZm5y6HXS969",
        "colab_type": "code",
        "colab": {}
      },
      "source": [
        "class SafeSparseDenseMatmul:\n",
        "  def safe_sparse_dense_matmul(self, batch, var):\n",
        "    # perform 10 smaller sparse_dense_matmul and then concat\n",
        "    var_splits = tf.split(var, 10, axis=1)\n",
        "    matmul_splits = [tfs.sparse_dense_matmul(batch, v_s) for v_s in var_splits]\n",
        "    return tf.concat(matmul_splits, axis=1)\n",
        "\n",
        "\n",
        "class SafeTfFM(SafeSparseDenseMatmul, TfFM):\n",
        "  pass\n",
        "\n",
        "\n",
        "class SafeTfBatchFM(SafeSparseDenseMatmul, TfBatchFM):\n",
        "  pass\n",
        "\n",
        "\n",
        "class SafeTfTransRecFM(SafeSparseDenseMatmul, TfTransRecFM):\n",
        "  pass\n",
        "\n",
        "\n",
        "class SafeTfBatchTransRecFM(SafeSparseDenseMatmul, TfBatchTransRecFM):\n",
        "  pass"
      ],
      "execution_count": 0,
      "outputs": []
    },
    {
      "cell_type": "markdown",
      "metadata": {
        "id": "FObmD7UsE9ba",
        "colab_type": "text"
      },
      "source": [
        "### Wrapper"
      ]
    },
    {
      "cell_type": "markdown",
      "metadata": {
        "id": "S3zw5sHGFAlg",
        "colab_type": "text"
      },
      "source": [
        "To use the sampling function, the feature function and the TensorFlow variant implementation combined for evaluation we need to implement wrappers."
      ]
    },
    {
      "cell_type": "markdown",
      "metadata": {
        "id": "oFdS5eliFFbj",
        "colab_type": "text"
      },
      "source": [
        "First we use wrappers to create batches of train, validation or test instances, using a specific sampling and feature function."
      ]
    },
    {
      "cell_type": "code",
      "metadata": {
        "id": "_20SB785FNZz",
        "colab_type": "code",
        "colab": {}
      },
      "source": [
        "def create_train_batch_generator(epochs, batch_size, df, meta_df, seeds_df,\n",
        "                                 feature_fn, sampler_fn,\n",
        "                                 separate_features=False,\n",
        "                                 item_ctx_features=False):\n",
        "  \"\"\"\n",
        "  Create a training batch generator\n",
        "  \"\"\"\n",
        "\n",
        "  # extract indices and feature mappings from dataframe\n",
        "  (num_users, user_indices, user_feats, num_items, item_indices, item_feats,\n",
        "   ctx_feats, item2artist, item2album) = feature_fn(df, meta_df, seeds_df)\n",
        "  \n",
        "  # initialize sampler of interactions and negative items\n",
        "  sampler = sampler_fn(epochs, batch_size, num_users, num_items,\n",
        "                       user_indices, item_indices, item2artist, item2album)\n",
        "\n",
        "  # create batches of features from batches of samples\n",
        "  for l in sampler:\n",
        "    if len(l) == 4:\n",
        "      b_pos_mask, b_neg_indices, b_na_indices, b_na_neg_indices = l\n",
        "      na_ones = np.ones(len(b_na_indices), dtype=bool)\n",
        "      na_indices = coo_matrix((na_ones, (b_na_indices, b_na_neg_indices)),\n",
        "                              shape=(batch_size, batch_size))\n",
        "    else:\n",
        "      b_pos_mask, b_neg_indices = l\n",
        "      na_indices = coo_matrix((batch_size, batch_size), dtype=bool)\n",
        "\n",
        "    b_user_indices = user_indices[b_pos_mask]\n",
        "    b_pos_indices = item_indices[b_pos_mask]\n",
        "\n",
        "    user_fs = user_feats[b_user_indices]\n",
        "    ctx_fs = ctx_feats[b_pos_mask] if ctx_feats is not None else None\n",
        "    pos_fs = item_feats[b_pos_indices]\n",
        "    neg_fs = item_feats[b_neg_indices]\n",
        "\n",
        "    if separate_features and item_ctx_features:\n",
        "      yield user_fs.tocoo(), ctx_fs.tocoo(), pos_fs.tocoo(), neg_fs.tocoo(), na_indices\n",
        "    else:\n",
        "      userctx_fs = sp.hstack([user_fs, ctx_fs])\n",
        "      if separate_features:\n",
        "        yield userctx_fs, pos_fs.tocoo(), neg_fs.tocoo(), na_indices\n",
        "      elif item_ctx_features:\n",
        "        empty_user_fs = csr_matrix(user_fs.shape)\n",
        "        pos_fs = sp.hstack([empty_user_fs, pos_fs])\n",
        "        neg_fs = sp.hstack([empty_user_fs, neg_fs])\n",
        "        yield userctx_fs, pos_fs, neg_fs, na_indices\n",
        "      else:\n",
        "        empty_userctx_fs = csr_matrix(userctx_fs.shape)\n",
        "        pos_fs = sp.hstack([empty_userctx_fs, pos_fs])\n",
        "        neg_fs = sp.hstack([empty_userctx_fs, neg_fs])\n",
        "        userctx_fs._shape = pos_fs.shape\n",
        "        yield userctx_fs, pos_fs, neg_fs, na_indices\n",
        "\n",
        "\n",
        "def create_val_batch(batch_size, val_df, meta_df, seeds_df, feature_fn,\n",
        "                     sampler_fn, separate_features=False,\n",
        "                     item_ctx_features=False):\n",
        "  \"\"\"\n",
        "  Create a validation batch generator\n",
        "  \"\"\"\n",
        "  repeat = int(ceil(batch_size / len(val_df)))\n",
        "  epochs = 1\n",
        "  batch_size = len(val_df) * repeat\n",
        "\n",
        "  def repeated_feature_fn(df, meta_df, seeds_df):\n",
        "    (num_users, user_indices, user_feats, num_items, item_indices, item_feats,\n",
        "     ctx_feats, item2artist, item2album) = feature_fn(df, meta_df, seeds_df)\n",
        "    \n",
        "    user_indices = np.repeat(user_indices, repeat)\n",
        "    item_indices = np.repeat(item_indices, repeat)\n",
        "    if ctx_feats is not None:\n",
        "      ctx_feats = ctx_feats.tolil()\n",
        "      ctx_feats.data = np.repeat(ctx_feats.data, repeat, axis=0)\n",
        "      ctx_feats.rows = np.repeat(ctx_feats.rows, repeat, axis=0)\n",
        "      ctx_feats._shape = (ctx_feats.shape[0] * repeat, ctx_feats.shape[1])\n",
        "      ctx_feats = ctx_feats.tocsr()\n",
        "    \n",
        "    return (num_users, user_indices, user_feats, num_items, item_indices,\n",
        "            item_feats, ctx_feats, item2artist, item2album)\n",
        "\n",
        "  g = create_train_batch_generator(epochs, batch_size, val_df, meta_df,\n",
        "                                   seeds_df, repeated_feature_fn, sampler_fn,\n",
        "                                   separate_features, item_ctx_features)\n",
        "  \n",
        "  b = next(g)\n",
        "  try:\n",
        "    next(g)\n",
        "  except StopIteration:\n",
        "    pass\n",
        "  \n",
        "  return b\n",
        "\n",
        "\n",
        "@nb.njit()\n",
        "def create_query_items_generator(num_users, user_indices, seed_user_indices,\n",
        "                                 num_items, seed_item_indices):\n",
        "\n",
        "  user2items = _nb_a2bs(seed_user_indices, num_users, seed_item_indices)\n",
        "\n",
        "  for i in range(len(user_indices)):\n",
        "    user_i = user_indices[i]\n",
        "    item_indices = np.array([j for j in range(1, num_items)\n",
        "                             if not bool(j in user2items[user_i])])\n",
        "    yield i, item_indices\n",
        "    \n",
        "  \n",
        "def create_query_batch_generator(query_df, meta_df, feature_fn,\n",
        "                                 filter_user_items=False,\n",
        "                                 separate_features=False,\n",
        "                                 item_ctx_features=False):\n",
        "  \"\"\"\n",
        "  Create a query batch generator\n",
        "  \"\"\"\n",
        "\n",
        "  # extract user indices and context feature mappings\n",
        "  # from query context dataframe \n",
        "  query_ctx_df = get_query_ctx(query_df)\n",
        "  (_, user_indices, _, _, _, _, ctx_feats, _,\n",
        "   _) = feature_fn(query_ctx_df, meta_df)\n",
        "  \n",
        "  # extract all indices and other feature mappings\n",
        "  # from query seeds and meta dataframe\n",
        "  query_seeds_df = get_query_seeds(query_df)\n",
        "  (num_users, seed_user_indices, user_feats, num_items, seed_item_indices,\n",
        "   item_feats, _, _, _) = feature_fn(query_seeds_df, meta_df, query_seeds_df)\n",
        "\n",
        "  # initialize generator of per-user batches of items\n",
        "  if filter_user_items:\n",
        "    g = create_query_items_generator(num_users, user_indices, seed_user_indices,\n",
        "                                     num_items, seed_item_indices)\n",
        "  else:\n",
        "    item_indices = np.arange(num_items)\n",
        "    g = ((i, item_indices) for i in range(len(user_indices)))\n",
        "\n",
        "  # create batches of features from per-user batches of items\n",
        "  for i, item_indices in g: \n",
        "    user_fs = user_feats[np.full(len(item_indices), user_indices[i], dtype=int)]\n",
        "    ctx_fs = ctx_feats[np.full(len(item_indices), i, dtype=int)] if ctx_feats is not None else None\n",
        "    pos_fs = item_feats[item_indices]\n",
        "\n",
        "    if separate_features and item_ctx_features:\n",
        "      yield user_fs.tocoo(), ctx_fs.tocoo(), pos_fs.tocoo(), item_indices\n",
        "    else:\n",
        "      userctx_fs = sp.hstack([user_fs, ctx_fs])\n",
        "      if separate_features:\n",
        "        yield userctx_fs, pos_fs.tocoo(), item_indices\n",
        "      elif item_ctx_features:\n",
        "        empty_user_fs = csr_matrix(user_fs.shape)\n",
        "        pos_fs = sp.hstack([empty_user_fs, pos_fs])\n",
        "        yield userctx_fs, pos_fs.tocoo(), item_indices\n",
        "      else:\n",
        "        empty_userctx_fs = csr_matrix(userctx_fs.shape)\n",
        "        pos_fs = sp.hstack([empty_userctx_fs, pos_fs])\n",
        "        userctx_fs._shape = pos_fs.shape\n",
        "        yield userctx_fs, pos_fs.tocoo(), item_indices"
      ],
      "execution_count": 0,
      "outputs": []
    },
    {
      "cell_type": "markdown",
      "metadata": {
        "id": "45rcugk6FQ5M",
        "colab_type": "text"
      },
      "source": [
        "To use these batches efficiently with the TensorFlow factorization machine implementations, we wrap them as TensorFlow data sets."
      ]
    },
    {
      "cell_type": "code",
      "metadata": {
        "id": "J0EmU1-4FNx4",
        "colab_type": "code",
        "colab": {}
      },
      "source": [
        "def coo2tuple(s, dtype=np.float32):\n",
        "  s = s.tocoo(copy=False)\n",
        "  s_indices = np.vstack((s.row.astype(np.int64), s.col.astype(np.int64))).T\n",
        "  return (s_indices, s.data.astype(dtype), s.shape)\n",
        "\n",
        "\n",
        "def dummyarray():\n",
        "  return np.zeros([1], dtype=np.int64)\n",
        "\n",
        "\n",
        "def dummytuple(dtype=np.float32):\n",
        "  return (np.zeros([1, 1], dtype=np.int64), np.ones(1, dtype=dtype), [1, 1])\n",
        "\n",
        "\n",
        "def batch2tuples(b):\n",
        "  if len(b) == 5:\n",
        "    # train batch generator with prev batch\n",
        "    userctx_s, prev_s, pos_s, neg_s, na_s = b\n",
        "    return (coo2tuple(userctx_s), coo2tuple(prev_s), coo2tuple(pos_s),\n",
        "            coo2tuple(neg_s), coo2tuple(na_s, dtype=bool), dummyarray())\n",
        "  elif len(b) == 4:\n",
        "    if len(b[3].shape) == 2:\n",
        "      # train batch generator \n",
        "      userctx_s, pos_s, neg_s, na_s = b\n",
        "      return (coo2tuple(userctx_s), coo2tuple(pos_s), coo2tuple(neg_s),\n",
        "              coo2tuple(na_s, dtype=bool), dummyarray())\n",
        "    else:\n",
        "      # query batch generator with prev batch\n",
        "      userctx_s, prev_s, pos_s, items = b\n",
        "      return (coo2tuple(userctx_s), coo2tuple(prev_s), coo2tuple(pos_s),\n",
        "              dummytuple(), dummytuple(dtype=bool), items)\n",
        "  else:\n",
        "    # query batch generator\n",
        "    userctx_s, pos_s, items = b\n",
        "    return (coo2tuple(userctx_s), coo2tuple(pos_s), dummytuple(),\n",
        "            dummytuple(dtype=bool), items)\n",
        "\n",
        "\n",
        "def tuples2tensors(*tuples):\n",
        "  if len(tuples) == 6:\n",
        "    userctx, prev, pos, neg, na, items = tuples\n",
        "    return (tf.SparseTensor(*userctx), tf.SparseTensor(*prev),\n",
        "            tf.SparseTensor(*pos), tf.SparseTensor(*neg), tf.SparseTensor(*na),\n",
        "            items)\n",
        "  else:\n",
        "    userctx, pos, neg, na, items = tuples\n",
        "    return (tf.SparseTensor(*userctx), tf.SparseTensor(*pos),\n",
        "            tf.SparseTensor(*neg), tf.SparseTensor(*na), items)\n",
        "\n",
        "\n",
        "def batch2dataset(b):\n",
        "  return tf.data.Dataset.from_tensors(tuples2tensors(*batch2tuples(b)))\n",
        "\n",
        "\n",
        "def batchgenerator2dataset(g):\n",
        "  g = (batch2tuples(b) for b in g)\n",
        "  peek_g = next(g)\n",
        "  g = itertools.chain([peek_g], g)\n",
        "  \n",
        "  f_shape = (tf.int64, tf.float32, tf.int64)\n",
        "  b_shape = (tf.int64, tf.bool, tf.int64)\n",
        "  if len(peek_g) == 6:\n",
        "    g_shape = (f_shape, f_shape, f_shape, f_shape, b_shape, tf.int64)\n",
        "  else:\n",
        "    g_shape = (f_shape, f_shape, f_shape, b_shape, tf.int64)\n",
        "  \n",
        "  return tf.data.Dataset.from_generator(lambda: g, g_shape).map(tuples2tensors)\n",
        "\n",
        "\n",
        "def create_train_dataset(epochs, graph, batch_size, df, meta_df, feature_fn,\n",
        "                         sampler_fn, separate_features=False,\n",
        "                         item_ctx_features=False):\n",
        "  \"\"\"\n",
        "  Create a training data set consisting of batches of\n",
        "   * user/context feature sparse tensor\n",
        "   * positive item feature sparse tensor\n",
        "   * negative item feature sparse tensor\n",
        "   * optional non-accepted negative items for users sparse tensor\n",
        "   * dummy item indices array\n",
        "  \"\"\"\n",
        "  with graph.as_default():\n",
        "    seeds_df = df\n",
        "    g = create_train_batch_generator(epochs, batch_size, df, meta_df, seeds_df,\n",
        "                                     feature_fn, sampler_fn, separate_features,\n",
        "                                     item_ctx_features)\n",
        "    return batchgenerator2dataset(g)\n",
        "\n",
        "\n",
        "def create_val_dataset(graph, batch_size, val_df, val_query_df, meta_df,\n",
        "                       feature_fn, sampler_fn, separate_features=False,\n",
        "                       item_ctx_features=False):\n",
        "  \"\"\"\n",
        "  Create a validation data set consisting of\n",
        "  a single batch of the same structure as the training data set batches.\n",
        "\n",
        "  The single batch has positive items repeated with different negative items\n",
        "  to have size similar to batch_size (of the training data set batches).\n",
        "  \"\"\"\n",
        "  with graph.as_default():\n",
        "    seeds_df = get_query_seeds(val_query_df)\n",
        "    b = create_val_batch(batch_size, val_df, meta_df, seeds_df, feature_fn,\n",
        "                         sampler_fn, separate_features, item_ctx_features)\n",
        "    \n",
        "    return batch2dataset(b).repeat()\n",
        "  \n",
        "\n",
        "def create_query_dataset(graph, query_df, meta_df, feature_fn,\n",
        "                         filter_user_items=False, separate_features=False,\n",
        "                         item_ctx_features=False):\n",
        "  \"\"\"\n",
        "  Create a query data set consisting of per-user batches of\n",
        "   * user/context feature sparse tensor\n",
        "   * query item feature sparse tensor\n",
        "   * dummy negative sparse tensor\n",
        "   * dummy non-accepted sparse tensor\n",
        "   * query item indices array\n",
        "  \"\"\"\n",
        "  with graph.as_default():\n",
        "    g = create_query_batch_generator(query_df, meta_df, feature_fn,\n",
        "                                     filter_user_items, separate_features,\n",
        "                                     item_ctx_features)\n",
        "    return batchgenerator2dataset(g).prefetch(1)"
      ],
      "execution_count": 0,
      "outputs": []
    },
    {
      "cell_type": "markdown",
      "metadata": {
        "id": "CKYHmanwFaUL",
        "colab_type": "text"
      },
      "source": [
        "Finally we use a wrapper which, given a specific sampling function, feature function and factorization machine variant implementation, can be fitted on and transform dataframes in our required format. It also supports saving and loading models."
      ]
    },
    {
      "cell_type": "code",
      "metadata": {
        "id": "mB2cZkP5FXED",
        "colab_type": "code",
        "colab": {}
      },
      "source": [
        "class FM:\n",
        "  \"\"\"\n",
        "  Wrapper around different TensorFlow factorization machines to use with\n",
        "   * train, validation, validation query, test and test query dataframes\n",
        "   * different arguments, feature and sampler / not accepted functions\n",
        "  \"\"\"\n",
        "\n",
        "  def __init__(self, fm_type, train_df, val_query_df, val_df, feature_fn,\n",
        "               sampler_fn, val_sampler_fn, args, n=500,\n",
        "               separate_features=False, item_ctx_features=False):\n",
        "\n",
        "    # train data set used for metadata\n",
        "    meta_df = train_df\n",
        "\n",
        "    with tf.device('/gpu:0'):\n",
        "      tf.reset_default_graph()\n",
        "      graph = tf.Graph()\n",
        "\n",
        "      train_dataset = create_train_dataset(args.epochs, graph, args.batch_size,\n",
        "                                           train_df, meta_df, feature_fn,\n",
        "                                           sampler_fn, separate_features,\n",
        "                                           item_ctx_features)\n",
        "\n",
        "      # important pipelining for better performance\n",
        "      with graph.as_default():\n",
        "        train_dataset = train_dataset.prefetch(args.batches_per_epoch)\n",
        "      \n",
        "      val_dataset = create_val_dataset(graph, args.batch_size, val_df,\n",
        "                                       val_query_df, meta_df, feature_fn,\n",
        "                                       val_sampler_fn, separate_features,\n",
        "                                       item_ctx_features)\n",
        "      \n",
        "      self.fm = fm_type(graph, train_dataset, val_dataset, args, n)\n",
        "      self.meta_df = meta_df\n",
        "      self.feature_fn = feature_fn\n",
        "      self.n = n\n",
        "      self.separate_features = separate_features\n",
        "      self.item_ctx_features = item_ctx_features\n",
        "  \n",
        "  @with_time\n",
        "  def fit(self, save_epochs=[], save_epoch_paths=[]):\n",
        "    return self.fm.train(save_epochs, save_epoch_paths)\n",
        "  \n",
        "  @with_time\n",
        "  def transform(self, query_df, filter_user_tracks=False):\n",
        "    query_dataset = create_query_dataset(self.fm.sess.graph, query_df,\n",
        "                                         self.meta_df, self.feature_fn,\n",
        "                                         filter_user_tracks,\n",
        "                                         self.separate_features,\n",
        "                                         self.item_ctx_features)\n",
        "    \n",
        "    scores, indices = self.fm.predict(query_dataset)\n",
        "    return pd.DataFrame({\n",
        "        \"score\": scores,\n",
        "        \"pid\": get_query_ctx(query_df)[\"pid\"].repeat(self.n),\n",
        "        \"traid\": indices\n",
        "    })\n",
        "\n",
        "  def save(self, save_path):\n",
        "    self.fm.save(save_path)\n",
        "  \n",
        "  def load(self, load_path):\n",
        "    self.fm.load(load_path)\n",
        "  \n",
        "  def close(self):\n",
        "    self.fm.close()"
      ],
      "execution_count": 0,
      "outputs": []
    },
    {
      "cell_type": "markdown",
      "metadata": {
        "id": "5ZA-fRJSFgVg",
        "colab_type": "text"
      },
      "source": [
        "Using this wrapper, we can create a general evaluation function as well as a general function plotting the fitting process.\n",
        "\n",
        "These general functions and dictionaries are the only wrappers we will need to care about."
      ]
    },
    {
      "cell_type": "code",
      "metadata": {
        "id": "w_SjJXLrFf39",
        "colab_type": "code",
        "colab": {}
      },
      "source": [
        "fm_fits = dict()\n",
        "fm_evals = dict()\n",
        "\n",
        "\n",
        "def fit_fm_args(fm_type, args, args_name, train_df, val_query_df, val_df,\n",
        "                load=False, feature_fn=df2usersitems,\n",
        "                sampler_fn=uniform_sampler, val_sampler_fn=uniform_sampler,\n",
        "                separate_features=False, item_ctx_features=False):\n",
        "  \"\"\"\n",
        "  Fits, saves and returns a FM. Fills fm_fits.\n",
        "\n",
        "  Can also load a fitted FM instead of fitting and saving it again.\n",
        "  \"\"\"\n",
        "  fm = FM(fm_type, train_df, val_query_df, val_df, feature_fn, sampler_fn,\n",
        "          val_sampler_fn, args, separate_features=separate_features,\n",
        "          item_ctx_features=item_ctx_features)\n",
        "\n",
        "  fit_name = \"{}{}.pickle\".format(models_dirname, args_name)\n",
        "  model_name = \"{}{}.ckpt\".format(models_dirname, args_name)\n",
        "\n",
        "  if load:\n",
        "    with open(fit_name, \"rb\") as f:\n",
        "     fm_fits[args_name] = pickle.load(f)\n",
        "    fm.load(model_name)\n",
        "  else:\n",
        "    (losses, val_losses, val_scores), fit_time = fm.fit()\n",
        "\n",
        "    if isinstance(val_scores, tuple):\n",
        "      val_aucs, val_ranks = val_scores\n",
        "    else:\n",
        "      val_aucs = val_scores\n",
        "      val_ranks = None\n",
        "\n",
        "    fm_fits[args_name] = {\n",
        "        \"fit_time\": fit_time,\n",
        "        \"losses\": losses,\n",
        "        \"val_losses\": val_losses,\n",
        "        \"val_aucs\": val_aucs,\n",
        "        \"val_ranks\": val_ranks\n",
        "    }\n",
        "    with open(fit_name, \"wb\") as f:\n",
        "      pickle.dump(fm_fits[args_name], f)\n",
        "    fm.save(model_name)\n",
        "      \n",
        "  return fm\n",
        "\n",
        "\n",
        "def fit_fm_args_epochs(fm_type, args, args_names, args_epochs, train_df,\n",
        "                       val_query_df, val_df, load=False,\n",
        "                       feature_fn=df2usersitems, sampler_fn=uniform_sampler,\n",
        "                       val_sampler_fn=uniform_sampler, separate_features=False,\n",
        "                       item_ctx_features=False):\n",
        "  \"\"\"\n",
        "  Fits, saves and returns FMs at the given epochs.\n",
        "  Fills fm_fits for the FM with most epochs.\n",
        "\n",
        "  Can also load fitted FMs instead of fitting and saving it again.\n",
        "\n",
        "  This is obviously more efficient than\n",
        "   * fitting a FM for 100 epochs and saving it\n",
        "   * fitting a FM for 200 epochs and saving it\n",
        "   * ...\n",
        "  \"\"\"\n",
        "  fm = FM(fm_type, train_df, val_query_df, val_df, feature_fn, sampler_fn,\n",
        "          val_sampler_fn, args, separate_features=separate_features,\n",
        "          item_ctx_features=item_ctx_features)\n",
        "  \n",
        "  args_name = args_names[-1]\n",
        "  fit_name = \"{}{}.pickle\".format(models_dirname, args_name)\n",
        "  model_names = [\"{}{}.ckpt\".format(models_dirname, name) for name\n",
        "                 in args_names]\n",
        "\n",
        "  if load:\n",
        "    with open(fit_name, \"rb\") as f:\n",
        "      fm_fits[args_name] = pickle.load(f)\n",
        "  else:\n",
        "    (losses, val_losses, val_scores), fit_time = fm.fit(save_epochs=args_epochs,\n",
        "                                                        save_epoch_paths=model_names)\n",
        "\n",
        "    if isinstance(val_scores, tuple):\n",
        "      val_aucs, val_ranks = val_scores\n",
        "    else:\n",
        "      val_aucs = val_scores\n",
        "      val_ranks = None\n",
        "\n",
        "    fm_fits[args_name] = {\n",
        "        \"fit_time\": fit_time,\n",
        "        \"losses\": losses,\n",
        "        \"val_losses\": val_losses,\n",
        "        \"val_aucs\": val_aucs,\n",
        "        \"val_ranks\": val_ranks\n",
        "    }\n",
        "    with open(fit_name, \"wb\") as f:\n",
        "      pickle.dump(fm_fits[args_name], f)\n",
        "\n",
        "  for model_name in model_names:\n",
        "    fm.load(model_name)\n",
        "    yield fm\n",
        "\n",
        "\n",
        "def eval_fm(fm, args_name, test_query_df, test_df, silent=False,\n",
        "            filter_user_tracks=False, with_hit_rates=False):\n",
        "  \"\"\"\n",
        "  Evaluates a FM and returns the recommendation dataframe. Fills fm_evals.\n",
        "  \"\"\"\n",
        "  fm_evals[args_name] = dict()\n",
        "\n",
        "  fm_df, fm_evals[args_name][\"trans_time\"] = fm.transform(test_query_df,\n",
        "                                                          filter_user_tracks)\n",
        "  \n",
        "  if with_hit_rates:\n",
        "    fm_evals[args_name][\"hit_rates\"] = hit_rates(fm_df, test_df)\n",
        "    fm_evals[args_name][\"hit_rate\"] = fm_evals[args_name][\"hit_rates\"][0]\n",
        "  else:\n",
        "    fm_evals[args_name][\"hit_rate\"] = hit_rate(fm_df, test_df) \n",
        "  fm_evals[args_name][\"ndcg\"] = ndcg(fm_df, test_df)\n",
        "  \n",
        "  if not silent:\n",
        "    print(\"{:.6f} hit rate\\n{:.6f} ndcg\".format(\n",
        "        fm_evals[args_name][\"hit_rate\"], fm_evals[args_name][\"ndcg\"]))\n",
        "    if args_name in fm_fits:\n",
        "      print(\"\\n{:.5f}s fit time\".format(fm_fits[args_name][\"fit_time\"]))\n",
        "    print(\"{:.5f}s trans time\".format(fm_evals[args_name][\"trans_time\"]))\n",
        "  \n",
        "  return fm_df"
      ],
      "execution_count": 0,
      "outputs": []
    },
    {
      "cell_type": "code",
      "metadata": {
        "id": "ue9TP-NnFv93",
        "colab_type": "code",
        "colab": {}
      },
      "source": [
        "def plot_fm_fit(args_name, bottom_val_auc=0.75, top_val_auc=1.0, rows=1, row=0):\n",
        "  \"\"\"\n",
        "  Plots losses, validation losses and validation AUCs of a FM's fitting.\n",
        "  Uses fm_fits.\n",
        "  \"\"\"\n",
        "  plt.figure(figsize=(12, rows * 4))\n",
        "  \n",
        "  losses = fm_fits[args_name][\"losses\"]\n",
        "  losses_ax = plt.subplot(rows, 3, row * 3 + 1)\n",
        "  plt.plot(losses)\n",
        "  if row == 0:\n",
        "    plt.title(\"Losses\")\n",
        "  \n",
        "  val_losses = fm_fits[args_name][\"val_losses\"]\n",
        "  val_epochs = [i * args.eval_freq for i in range(len(val_losses))]\n",
        "  plt.subplot(rows, 3, row * 3 + 2, sharey=losses_ax)\n",
        "  plt.plot(val_epochs, val_losses)\n",
        "  if row == 0:\n",
        "    plt.title(\"Val losses\")\n",
        "  \n",
        "  aucs = fm_fits[args_name][\"val_aucs\"]\n",
        "  plt.subplot(rows, 3, row * 3 + 3)\n",
        "  plt.plot(val_epochs, aucs, color=\"red\")\n",
        "  plt.ylim(bottom=bottom_val_auc, top=top_val_auc)\n",
        "  if row == 0:\n",
        "    plt.title(\"Val AUCs\")\n",
        "  \n",
        "  plt.subplots_adjust(wspace=0.4)\n",
        "\n",
        "\n",
        "def plot_fm_fits(args_names, bottom_val_auc=0.75, top_val_auc=1.0):\n",
        "  rows = len(args_names)\n",
        "  for row, args_name in enumerate(args_names):\n",
        "    plot_fm_fit(args_name, bottom_val_auc, top_val_auc, rows, row)"
      ],
      "execution_count": 0,
      "outputs": []
    },
    {
      "cell_type": "code",
      "metadata": {
        "id": "ZNXesOwv8_Cv",
        "colab_type": "code",
        "colab": {}
      },
      "source": [
        "def fit_fm_args_epochs(fm_type, args, args_names, args_epochs, train_df,\n",
        "                       val_query_df, val_df, load=False,\n",
        "                       feature_fn=df2usersitems, sampler_fn=uniform_sampler,\n",
        "                       val_sampler_fn=uniform_sampler, separate_features=False,\n",
        "                       item_ctx_features=False):\n",
        "  \"\"\"\n",
        "  Fits, saves and returns FMs at the given epochs.\n",
        "  Fills fm_fits for the FM with most epochs.\n",
        "\n",
        "  Can also load fitted FMs instead of fitting and saving it again.\n",
        "\n",
        "  This is obviously more efficient than\n",
        "   * fitting a FM for 100 epochs and saving it\n",
        "   * fitting a FM for 200 epochs and saving it\n",
        "   * ...\n",
        "  \"\"\"\n",
        "  fm = FM(fm_type, train_df, val_query_df, val_df, feature_fn, sampler_fn,\n",
        "          val_sampler_fn, args, separate_features=separate_features,\n",
        "          item_ctx_features=item_ctx_features)\n",
        "  \n",
        "  args_name = args_names[-1]\n",
        "  fit_name = \"{}{}.pickle\".format(models_dirname, args_name)\n",
        "  model_names = [\"{}{}.ckpt\".format(models_dirname, name) for name\n",
        "                 in args_names]\n",
        "\n",
        "  if load:\n",
        "    pass\n",
        "    #with open(fit_name, \"rb\") as f:\n",
        "    #  fm_fits[args_name] = pickle.load(f)\n",
        "  else:\n",
        "    (losses, val_losses, val_scores), fit_time = fm.fit(save_epochs=args_epochs,\n",
        "                                                        save_epoch_paths=model_names)\n",
        "\n",
        "    if isinstance(val_scores, tuple):\n",
        "      val_aucs, val_ranks = val_scores\n",
        "    else:\n",
        "      val_aucs = val_scores\n",
        "      val_ranks = None\n",
        "\n",
        "    fm_fits[args_name] = {\n",
        "        \"fit_time\": fit_time,\n",
        "        \"losses\": losses,\n",
        "        \"val_losses\": val_losses,\n",
        "        \"val_aucs\": val_aucs,\n",
        "        \"val_ranks\": val_ranks\n",
        "    }\n",
        "    with open(fit_name, \"wb\") as f:\n",
        "      pickle.dump(fm_fits[args_name], f)\n",
        "\n",
        "  for model_name in model_names:\n",
        "    fm.load(model_name)\n",
        "    yield fm"
      ],
      "execution_count": 0,
      "outputs": []
    },
    {
      "cell_type": "markdown",
      "metadata": {
        "id": "wc1qdD3FC94m",
        "colab_type": "text"
      },
      "source": [
        "## Evaluation"
      ]
    },
    {
      "cell_type": "markdown",
      "metadata": {
        "id": "nzS-B_LtDAfK",
        "colab_type": "text"
      },
      "source": [
        "For the last-track split evaluation, we use a train-validation-test split and evaluate the different parameters and variants on the validation set.\n",
        "\n",
        "We will only evaluate the best parameters of each variant on the test set."
      ]
    },
    {
      "cell_type": "code",
      "metadata": {
        "id": "GQWN2xreC4f7",
        "colab_type": "code",
        "outputId": "b1e84d92-ff9f-4e46-9164-97efb1f0480c",
        "colab": {
          "base_uri": "https://localhost:8080/",
          "height": 217
        }
      },
      "source": [
        "train_df, val_df, val_query_df = last_track_split(df, as_val=True,\n",
        "                                                  n_test_users=1000)\n",
        "\n",
        "val_df.head()"
      ],
      "execution_count": 0,
      "outputs": [
        {
          "output_type": "execute_result",
          "data": {
            "text/html": [
              "<div>\n",
              "<style scoped>\n",
              "    .dataframe tbody tr th:only-of-type {\n",
              "        vertical-align: middle;\n",
              "    }\n",
              "\n",
              "    .dataframe tbody tr th {\n",
              "        vertical-align: top;\n",
              "    }\n",
              "\n",
              "    .dataframe thead th {\n",
              "        text-align: right;\n",
              "    }\n",
              "</style>\n",
              "<table border=\"1\" class=\"dataframe\">\n",
              "  <thead>\n",
              "    <tr style=\"text-align: right;\">\n",
              "      <th></th>\n",
              "      <th>pid</th>\n",
              "      <th>timestamp</th>\n",
              "      <th>userid</th>\n",
              "      <th>traid</th>\n",
              "      <th>index</th>\n",
              "      <th>artid</th>\n",
              "      <th>albid</th>\n",
              "      <th>age</th>\n",
              "      <th>country</th>\n",
              "      <th>gender</th>\n",
              "      <th>b_age</th>\n",
              "      <th>prev_traid</th>\n",
              "      <th>prev_albid</th>\n",
              "      <th>prev_artid</th>\n",
              "    </tr>\n",
              "  </thead>\n",
              "  <tbody>\n",
              "    <tr>\n",
              "      <th>0</th>\n",
              "      <td>11</td>\n",
              "      <td>1294318230</td>\n",
              "      <td>5</td>\n",
              "      <td>213513</td>\n",
              "      <td>263572</td>\n",
              "      <td>3091</td>\n",
              "      <td>38939</td>\n",
              "      <td>24.0</td>\n",
              "      <td>4</td>\n",
              "      <td>1</td>\n",
              "      <td>3</td>\n",
              "      <td>363</td>\n",
              "      <td>272</td>\n",
              "      <td>211</td>\n",
              "    </tr>\n",
              "    <tr>\n",
              "      <th>1</th>\n",
              "      <td>46</td>\n",
              "      <td>1275510507</td>\n",
              "      <td>19</td>\n",
              "      <td>22042</td>\n",
              "      <td>664234</td>\n",
              "      <td>779</td>\n",
              "      <td>1000</td>\n",
              "      <td>22.0</td>\n",
              "      <td>11</td>\n",
              "      <td>2</td>\n",
              "      <td>3</td>\n",
              "      <td>1296</td>\n",
              "      <td>1000</td>\n",
              "      <td>779</td>\n",
              "    </tr>\n",
              "    <tr>\n",
              "      <th>2</th>\n",
              "      <td>94</td>\n",
              "      <td>1245482240</td>\n",
              "      <td>38</td>\n",
              "      <td>12910</td>\n",
              "      <td>1404884</td>\n",
              "      <td>1670</td>\n",
              "      <td>2363</td>\n",
              "      <td>28.0</td>\n",
              "      <td>24</td>\n",
              "      <td>2</td>\n",
              "      <td>4</td>\n",
              "      <td>2448</td>\n",
              "      <td>1740</td>\n",
              "      <td>1267</td>\n",
              "    </tr>\n",
              "    <tr>\n",
              "      <th>3</th>\n",
              "      <td>137</td>\n",
              "      <td>1249475773</td>\n",
              "      <td>52</td>\n",
              "      <td>93364</td>\n",
              "      <td>389798</td>\n",
              "      <td>4557</td>\n",
              "      <td>7444</td>\n",
              "      <td>29.0</td>\n",
              "      <td>10</td>\n",
              "      <td>1</td>\n",
              "      <td>4</td>\n",
              "      <td>3795</td>\n",
              "      <td>2543</td>\n",
              "      <td>1772</td>\n",
              "    </tr>\n",
              "    <tr>\n",
              "      <th>4</th>\n",
              "      <td>192</td>\n",
              "      <td>1351599976</td>\n",
              "      <td>68</td>\n",
              "      <td>16836</td>\n",
              "      <td>2033927</td>\n",
              "      <td>1611</td>\n",
              "      <td>3161</td>\n",
              "      <td>18.0</td>\n",
              "      <td>12</td>\n",
              "      <td>2</td>\n",
              "      <td>2</td>\n",
              "      <td>4661</td>\n",
              "      <td>3161</td>\n",
              "      <td>1611</td>\n",
              "    </tr>\n",
              "  </tbody>\n",
              "</table>\n",
              "</div>"
            ],
            "text/plain": [
              "   pid   timestamp  userid   traid  ...  b_age  prev_traid  prev_albid  prev_artid\n",
              "0   11  1294318230       5  213513  ...      3         363         272         211\n",
              "1   46  1275510507      19   22042  ...      3        1296        1000         779\n",
              "2   94  1245482240      38   12910  ...      4        2448        1740        1267\n",
              "3  137  1249475773      52   93364  ...      4        3795        2543        1772\n",
              "4  192  1351599976      68   16836  ...      2        4661        3161        1611\n",
              "\n",
              "[5 rows x 14 columns]"
            ]
          },
          "metadata": {
            "tags": []
          },
          "execution_count": 60
        }
      ]
    },
    {
      "cell_type": "code",
      "metadata": {
        "id": "y296vG71CroU",
        "colab_type": "code",
        "colab": {}
      },
      "source": [
        "load=True"
      ],
      "execution_count": 0,
      "outputs": []
    },
    {
      "cell_type": "markdown",
      "metadata": {
        "id": "jl5kjKMeDKB5",
        "colab_type": "text"
      },
      "source": [
        "### Pairwise factorization machines"
      ]
    },
    {
      "cell_type": "markdown",
      "metadata": {
        "id": "mdN7eE-fDM2l",
        "colab_type": "text"
      },
      "source": [
        "#### Hyperparameters"
      ]
    },
    {
      "cell_type": "markdown",
      "metadata": {
        "id": "M1Z-7Ix9gi91",
        "colab_type": "text"
      },
      "source": [
        "At first, we try to find reasonable hyperparameter values for vanilla factorization machines.\n",
        "\n",
        "In particular we consider:\n",
        "\n",
        "*   *linear_reg*: The regularization rate for the linear weights\n",
        "*   *factors_reg*: The regularization rate for the latent factor weights\n",
        "*   *num_dims / k*: The number of dimensions\n",
        "*   *lr*: The Adagrad learning rate"
      ]
    },
    {
      "cell_type": "markdown",
      "metadata": {
        "id": "jVsfaXVugj7_",
        "colab_type": "text"
      },
      "source": [
        "**Mini-batch size**\n",
        "\n",
        "As mini-batch size we use *16384* which is quite large but has been shown to work fine in previous experiments.\n",
        "\n",
        "A large mini-batch size is important for a faster runtime of our TensorFlow implementation."
      ]
    },
    {
      "cell_type": "markdown",
      "metadata": {
        "id": "DJol1dougnun",
        "colab_type": "text"
      },
      "source": [
        "**Regularizaton rate**"
      ]
    },
    {
      "cell_type": "code",
      "metadata": {
        "id": "zolATMTN96Sj",
        "colab_type": "code",
        "outputId": "765eb661-b01f-4796-f51b-bc6941f8ef1c",
        "colab": {
          "base_uri": "https://localhost:8080/",
          "height": 449
        }
      },
      "source": [
        "regs = [0.01, 0.03, 0.1, 0.3]\n",
        "reg_names = [\"fm_lreg{}\".format(reg) for reg in regs]\n",
        "\n",
        "for reg, reg_name in zip(regs, reg_names):\n",
        "  args = FMArgs(len(train_df), linear_reg=reg)\n",
        "  fm = fit_fm_args(TfFM, args, reg_name, train_df, val_query_df, val_df,\n",
        "                   load=load)\n",
        "  eval_fm(fm, reg_name, val_query_df, val_df, filter_user_tracks=True)"
      ],
      "execution_count": 0,
      "outputs": [
        {
          "output_type": "stream",
          "text": [
            "INFO:tensorflow:Restoring parameters from /drive/My Drive/models/30music/fm_lreg0.01.ckpt\n",
            "0.008000 hit rate\n",
            "0.058716 ndcg\n",
            "\n",
            "652.61126s fit time\n",
            "36.55678s trans time\n",
            "INFO:tensorflow:Restoring parameters from /drive/My Drive/models/30music/fm_lreg0.03.ckpt\n",
            "0.007000 hit rate\n",
            "0.060283 ndcg\n",
            "\n",
            "629.34053s fit time\n",
            "36.81455s trans time\n",
            "INFO:tensorflow:Restoring parameters from /drive/My Drive/models/30music/fm_lreg0.1.ckpt\n",
            "0.008000 hit rate\n",
            "0.061640 ndcg\n",
            "\n",
            "628.92391s fit time\n",
            "36.73931s trans time\n",
            "INFO:tensorflow:Restoring parameters from /drive/My Drive/models/30music/fm_lreg0.3.ckpt\n",
            "0.008000 hit rate\n",
            "0.061877 ndcg\n",
            "\n",
            "635.57193s fit time\n",
            "37.16008s trans time\n"
          ],
          "name": "stdout"
        }
      ]
    },
    {
      "cell_type": "code",
      "metadata": {
        "id": "VUUhXJCDTlaE",
        "colab_type": "code",
        "outputId": "09e61fa3-95ae-4b2d-e529-8c5f4794b361",
        "colab": {
          "base_uri": "https://localhost:8080/",
          "height": 316
        }
      },
      "source": [
        "regs = [0.003, 0.03, 0.1]\n",
        "reg_names = [\"fm_freg{}\".format(reg) for reg in regs]\n",
        "\n",
        "for reg, reg_name in zip(regs, reg_names):\n",
        "  args = FMArgs(len(train_df), linear_reg=0.3, factors_reg=reg)\n",
        "  fm = fit_fm_args(TfFM, args, reg_name, train_df, val_query_df, val_df,\n",
        "                   load=load)\n",
        "  eval_fm(fm, reg_name, val_query_df, val_df, filter_user_tracks=True)"
      ],
      "execution_count": 0,
      "outputs": [
        {
          "output_type": "stream",
          "text": [
            "INFO:tensorflow:Restoring parameters from /drive/My Drive/models/30music/fm_freg0.003.ckpt\n",
            "0.009000 hit rate\n",
            "0.060665 ndcg\n",
            "\n",
            "614.09790s fit time\n",
            "34.84807s trans time\n",
            "INFO:tensorflow:Restoring parameters from /drive/My Drive/models/30music/fm_freg0.03.ckpt\n",
            "0.007000 hit rate\n",
            "0.057241 ndcg\n",
            "\n",
            "621.63658s fit time\n",
            "34.59662s trans time\n",
            "INFO:tensorflow:Restoring parameters from /drive/My Drive/models/30music/fm_freg0.1.ckpt\n",
            "0.002000 hit rate\n",
            "0.039119 ndcg\n",
            "\n",
            "614.96873s fit time\n",
            "34.55050s trans time\n"
          ],
          "name": "stdout"
        }
      ]
    },
    {
      "cell_type": "markdown",
      "metadata": {
        "id": "qdzcW60QZUl2",
        "colab_type": "text"
      },
      "source": [
        "**Number of dimensions**"
      ]
    },
    {
      "cell_type": "code",
      "metadata": {
        "id": "7FIn6BP2ywzZ",
        "colab_type": "code",
        "colab": {}
      },
      "source": [
        "ks = [100, 150, 200, 250, 300, 350, 400]\n",
        "k_names = [\"fm_k{}\".format(k) for k in ks]\n",
        "\n",
        "for k, k_name in zip(ks, k_names):\n",
        "  args = FMArgs(len(train_df), linear_reg=0.3, factors_reg=0.01, num_dims=k)\n",
        "  fm = fit_fm_args(TfFM, args, k_name, train_df, val_query_df, val_df,\n",
        "                   load=load)\n",
        "  eval_fm(fm, k_name, val_query_df, val_df, filter_user_tracks=True,\n",
        "          silent=True)"
      ],
      "execution_count": 0,
      "outputs": []
    },
    {
      "cell_type": "code",
      "metadata": {
        "id": "Wieospxw-HYQ",
        "colab_type": "code",
        "outputId": "ccb87f26-81e4-4928-83d6-3cb4a90bf359",
        "colab": {
          "base_uri": "https://localhost:8080/",
          "height": 241
        }
      },
      "source": [
        "plt.figure(figsize=(6, 3))\n",
        "\n",
        "k_ndcgs = [fm_evals[k_name][\"ndcg\"] for k_name in [\"fm_lreg0.3\"] + k_names]\n",
        "plt.plot([50] + ks, k_ndcgs, \"o--\", color=\"red\")\n",
        "plt.xticks([50] + ks)\n",
        "plt.ylim(bottom=0.05, top=0.08)\n",
        "plt.grid(True, axis=\"y\")\n",
        "\n",
        "plt.xlabel(\"k\")\n",
        "plt.title(\"30Music\");"
      ],
      "execution_count": 0,
      "outputs": [
        {
          "output_type": "display_data",
          "data": {
            "image/png": "[encoded data removed]",
            "text/plain": [
              "<Figure size 432x216 with 1 Axes>"
            ]
          },
          "metadata": {
            "tags": []
          }
        }
      ]
    },
    {
      "cell_type": "code",
      "metadata": {
        "id": "-v0NDg7Ijlxw",
        "colab_type": "code",
        "outputId": "64be6153-d503-43a3-b9f5-09156ed31353",
        "colab": {
          "base_uri": "https://localhost:8080/",
          "height": 107
        }
      },
      "source": [
        "k_hit_rates = [fm_evals[k_name][\"hit_rate\"] for k_name\n",
        "               in [\"fm_lreg0.3\"] + k_names]\n",
        "pd.DataFrame.from_records([k_ndcgs, k_hit_rates], columns=[50] + ks,\n",
        "                          index=[\"NDCG\", \"Hit rate\"])"
      ],
      "execution_count": 0,
      "outputs": [
        {
          "output_type": "execute_result",
          "data": {
            "text/html": [
              "<div>\n",
              "<style scoped>\n",
              "    .dataframe tbody tr th:only-of-type {\n",
              "        vertical-align: middle;\n",
              "    }\n",
              "\n",
              "    .dataframe tbody tr th {\n",
              "        vertical-align: top;\n",
              "    }\n",
              "\n",
              "    .dataframe thead th {\n",
              "        text-align: right;\n",
              "    }\n",
              "</style>\n",
              "<table border=\"1\" class=\"dataframe\">\n",
              "  <thead>\n",
              "    <tr style=\"text-align: right;\">\n",
              "      <th></th>\n",
              "      <th>50</th>\n",
              "      <th>100</th>\n",
              "      <th>150</th>\n",
              "      <th>200</th>\n",
              "      <th>250</th>\n",
              "      <th>300</th>\n",
              "      <th>350</th>\n",
              "      <th>400</th>\n",
              "    </tr>\n",
              "  </thead>\n",
              "  <tbody>\n",
              "    <tr>\n",
              "      <th>NDCG</th>\n",
              "      <td>0.061877</td>\n",
              "      <td>0.067039</td>\n",
              "      <td>0.069791</td>\n",
              "      <td>0.071717</td>\n",
              "      <td>0.072317</td>\n",
              "      <td>0.073701</td>\n",
              "      <td>0.07328</td>\n",
              "      <td>0.072859</td>\n",
              "    </tr>\n",
              "    <tr>\n",
              "      <th>Hit rate</th>\n",
              "      <td>0.008000</td>\n",
              "      <td>0.009000</td>\n",
              "      <td>0.010000</td>\n",
              "      <td>0.011000</td>\n",
              "      <td>0.014000</td>\n",
              "      <td>0.011000</td>\n",
              "      <td>0.01200</td>\n",
              "      <td>0.009000</td>\n",
              "    </tr>\n",
              "  </tbody>\n",
              "</table>\n",
              "</div>"
            ],
            "text/plain": [
              "               50        100       150  ...       300      350       400\n",
              "NDCG      0.061877  0.067039  0.069791  ...  0.073701  0.07328  0.072859\n",
              "Hit rate  0.008000  0.009000  0.010000  ...  0.011000  0.01200  0.009000\n",
              "\n",
              "[2 rows x 8 columns]"
            ]
          },
          "metadata": {
            "tags": []
          },
          "execution_count": 92
        }
      ]
    },
    {
      "cell_type": "code",
      "metadata": {
        "id": "Zdjn9Ld_jxnC",
        "colab_type": "code",
        "outputId": "6df9347e-0612-4c54-8a29-2164049f8225",
        "colab": {
          "base_uri": "https://localhost:8080/",
          "height": 281
        }
      },
      "source": [
        "k_times = [fm_fits[k_name][\"fit_time\"] for k_name in [\"fm_lreg0.3\"] + k_names]\n",
        "plt.plot([50] + ks, k_times, \"o--\")\n",
        "plt.xticks([50] + ks)\n",
        "plt.ylim(bottom=0.0)\n",
        "\n",
        "plt.title(\"Training times (s) per k\");"
      ],
      "execution_count": 0,
      "outputs": [
        {
          "output_type": "display_data",
          "data": {
            "image/png": "[encoded data removed]",
            "text/plain": [
              "<Figure size 432x288 with 1 Axes>"
            ]
          },
          "metadata": {
            "tags": []
          }
        }
      ]
    },
    {
      "cell_type": "code",
      "metadata": {
        "id": "dlwz6bCFj8N5",
        "colab_type": "code",
        "outputId": "6155158b-6e5a-4c25-8cd4-f17b6367a14c",
        "colab": {
          "base_uri": "https://localhost:8080/",
          "height": 281
        }
      },
      "source": [
        "plot_fm_fit(\"fm_k150\")"
      ],
      "execution_count": 0,
      "outputs": [
        {
          "output_type": "display_data",
          "data": {
            "image/png": "[encoded data removed]",
            "text/plain": [
              "<Figure size 864x288 with 3 Axes>"
            ]
          },
          "metadata": {
            "tags": []
          }
        }
      ]
    },
    {
      "cell_type": "markdown",
      "metadata": {
        "id": "PP2AazylkGS3",
        "colab_type": "text"
      },
      "source": [
        "**Learning rate**"
      ]
    },
    {
      "cell_type": "code",
      "metadata": {
        "id": "B4yrk4DYkG2R",
        "colab_type": "code",
        "outputId": "14c1a0e3-c8b7-41ef-8b9a-ab1ab0ecf2a5",
        "colab": {
          "base_uri": "https://localhost:8080/",
          "height": 316
        }
      },
      "source": [
        "lrs = [0.3, 0.6, 1.0]\n",
        "lr_names = [\"fm_lr{}\".format(lr) for lr in lrs]\n",
        "\n",
        "for lr, lr_name in zip(lrs, lr_names):\n",
        "  args = FMArgs(len(train_df), linear_reg=0.3, factors_reg=0.01, num_dims=150,\n",
        "                lr=lr)\n",
        "  fm = fit_fm_args(TfFM, args, lr_name, train_df, val_query_df, val_df,\n",
        "                   load=load)\n",
        "  eval_fm(fm, lr_name, val_query_df, val_df, filter_user_tracks=True)"
      ],
      "execution_count": 0,
      "outputs": [
        {
          "output_type": "stream",
          "text": [
            "INFO:tensorflow:Restoring parameters from /drive/My Drive/models/30music/fm_lr0.3.ckpt\n",
            "0.015000 hit rate\n",
            "0.074666 ndcg\n",
            "\n",
            "839.39504s fit time\n",
            "32.06329s trans time\n",
            "INFO:tensorflow:Restoring parameters from /drive/My Drive/models/30music/fm_lr0.6.ckpt\n",
            "0.010000 hit rate\n",
            "0.069844 ndcg\n",
            "\n",
            "843.92152s fit time\n",
            "31.70436s trans time\n",
            "INFO:tensorflow:Restoring parameters from /drive/My Drive/models/30music/fm_lr1.0.ckpt\n",
            "0.000000 hit rate\n",
            "0.018799 ndcg\n",
            "\n",
            "835.38323s fit time\n",
            "31.61746s trans time\n"
          ],
          "name": "stdout"
        }
      ]
    },
    {
      "cell_type": "markdown",
      "metadata": {
        "id": "PAZow3jX9ZO9",
        "colab_type": "text"
      },
      "source": [
        "#### Sampling"
      ]
    },
    {
      "cell_type": "code",
      "metadata": {
        "id": "p3_1i_so48Ae",
        "colab_type": "code",
        "outputId": "7ea6aac3-c638-4b16-811e-08d124f4fc83",
        "colab": {
          "base_uri": "https://localhost:8080/",
          "height": 341
        }
      },
      "source": [
        "args = FMArgs(len(train_df), num_dims=150, batch_size=4096,\n",
        "              linear_reg=0.1, factors_reg=0.003)\n",
        "\n",
        "args_epochs = [100, 250, 500, 1000]\n",
        "args_names = [\"fm_b4096_lr0.1_e{}\".format(args_epoch) for args_epoch\n",
        "              in args_epochs]\n",
        "\n",
        "fms = fit_fm_args_epochs(TfFM, args, args_names, args_epochs, train_df,\n",
        "                         val_query_df, val_df, load=load,\n",
        "                         sampler_fn=accepted_uniform_sampler,\n",
        "                         val_sampler_fn=accepted_uniform_sampler)\n",
        "\n",
        "for fm, args_name in zip(fms, args_names):\n",
        "  eval_fm(fm, args_name, val_query_df, val_df, filter_user_tracks=True)"
      ],
      "execution_count": 0,
      "outputs": [
        {
          "output_type": "stream",
          "text": [
            "INFO:tensorflow:Restoring parameters from /drive/My Drive/models/30music/fm_b4096_lr0.1_e100.ckpt\n",
            "0.015000 hit rate\n",
            "0.060877 ndcg\n",
            "37.38684s trans time\n",
            "INFO:tensorflow:Restoring parameters from /drive/My Drive/models/30music/fm_b4096_lr0.1_e250.ckpt\n",
            "0.013000 hit rate\n",
            "0.066959 ndcg\n",
            "37.63077s trans time\n",
            "INFO:tensorflow:Restoring parameters from /drive/My Drive/models/30music/fm_b4096_lr0.1_e500.ckpt\n",
            "0.013000 hit rate\n",
            "0.070203 ndcg\n",
            "37.20525s trans time\n",
            "INFO:tensorflow:Restoring parameters from /drive/My Drive/models/30music/fm_b4096_lr0.1_e1000.ckpt\n",
            "0.014000 hit rate\n",
            "0.074056 ndcg\n",
            "\n",
            "3547.41389s fit time\n",
            "37.25489s trans time\n"
          ],
          "name": "stdout"
        }
      ]
    },
    {
      "cell_type": "code",
      "metadata": {
        "id": "yyHNPSYxNZdk",
        "colab_type": "code",
        "outputId": "67e9503a-1675-434f-c365-91c14ee294e3",
        "colab": {
          "base_uri": "https://localhost:8080/",
          "height": 341
        }
      },
      "source": [
        "args = FMArgs(len(train_df), num_dims=150, batch_size=4096,\n",
        "              linear_reg=0.1, factors_reg=0.003, lr=0.6)\n",
        "\n",
        "args_epochs = [100, 250, 500, 1000]\n",
        "args_names = [\"fm_b4096_lr0.6_e{}\".format(args_epoch) for args_epoch\n",
        "              in args_epochs]\n",
        "\n",
        "fms = fit_fm_args_epochs(TfFM, args, args_names, args_epochs, train_df,\n",
        "                         val_query_df, val_df, load=load,\n",
        "                         sampler_fn=accepted_uniform_sampler,\n",
        "                         val_sampler_fn=accepted_uniform_sampler)\n",
        "\n",
        "for fm, args_name in zip(fms, args_names):\n",
        "  eval_fm(fm, args_name, val_query_df, val_df, filter_user_tracks=True)"
      ],
      "execution_count": 0,
      "outputs": [
        {
          "output_type": "stream",
          "text": [
            "INFO:tensorflow:Restoring parameters from /drive/My Drive/models/30music/fm_b4096_lr0.6_e100.ckpt\n",
            "0.000000 hit rate\n",
            "0.013795 ndcg\n",
            "37.34152s trans time\n",
            "INFO:tensorflow:Restoring parameters from /drive/My Drive/models/30music/fm_b4096_lr0.6_e250.ckpt\n",
            "0.002000 hit rate\n",
            "0.014803 ndcg\n",
            "37.23487s trans time\n",
            "INFO:tensorflow:Restoring parameters from /drive/My Drive/models/30music/fm_b4096_lr0.6_e500.ckpt\n",
            "0.007000 hit rate\n",
            "0.049790 ndcg\n",
            "37.85845s trans time\n",
            "INFO:tensorflow:Restoring parameters from /drive/My Drive/models/30music/fm_b4096_lr0.6_e1000.ckpt\n",
            "0.010000 hit rate\n",
            "0.070468 ndcg\n",
            "\n",
            "3557.69622s fit time\n",
            "38.17546s trans time\n"
          ],
          "name": "stdout"
        }
      ]
    },
    {
      "cell_type": "code",
      "metadata": {
        "id": "lvzzXX37A8li",
        "colab_type": "code",
        "outputId": "a25f08e5-f311-4623-bebc-b82db37fc3cc",
        "colab": {
          "base_uri": "https://localhost:8080/",
          "height": 341
        }
      },
      "source": [
        "args = FMArgs(len(train_df), num_dims=150, batch_size=4096,\n",
        "              linear_reg=0.1, factors_reg=0.003)\n",
        "\n",
        "args_epochs = [100, 250, 500, 1000]\n",
        "args_names = [\"fm_b4096_aes_lr0.1_e{}\".format(args_epoch) for args_epoch\n",
        "              in args_epochs]\n",
        "\n",
        "fms = fit_fm_args_epochs(TfFM, args, args_names, args_epochs, train_df,\n",
        "                         val_query_df, val_df, load=load,\n",
        "                         sampler_fn=accepted_exp_sampler,\n",
        "                         val_sampler_fn=accepted_uniform_sampler)\n",
        "\n",
        "for fm, args_name in zip(fms, args_names):\n",
        "  eval_fm(fm, args_name, val_query_df, val_df, filter_user_tracks=True)"
      ],
      "execution_count": 0,
      "outputs": [
        {
          "output_type": "stream",
          "text": [
            "INFO:tensorflow:Restoring parameters from /drive/My Drive/models/30music/fm_b4096_aes_lr0.1_e100.ckpt\n",
            "0.013000 hit rate\n",
            "0.059897 ndcg\n",
            "36.85488s trans time\n",
            "INFO:tensorflow:Restoring parameters from /drive/My Drive/models/30music/fm_b4096_aes_lr0.1_e250.ckpt\n",
            "0.014000 hit rate\n",
            "0.068870 ndcg\n",
            "36.89908s trans time\n",
            "INFO:tensorflow:Restoring parameters from /drive/My Drive/models/30music/fm_b4096_aes_lr0.1_e500.ckpt\n",
            "0.015000 hit rate\n",
            "0.072660 ndcg\n",
            "37.06899s trans time\n",
            "INFO:tensorflow:Restoring parameters from /drive/My Drive/models/30music/fm_b4096_aes_lr0.1_e1000.ckpt\n",
            "0.014000 hit rate\n",
            "0.076665 ndcg\n",
            "\n",
            "3616.19064s fit time\n",
            "37.64467s trans time\n"
          ],
          "name": "stdout"
        }
      ]
    },
    {
      "cell_type": "code",
      "metadata": {
        "id": "yLLxTSA6TgTf",
        "colab_type": "code",
        "outputId": "2081f4dd-5b19-42c2-d7b9-5abe576aacad",
        "colab": {
          "base_uri": "https://localhost:8080/",
          "height": 341
        }
      },
      "source": [
        "args = FMArgs(len(train_df), num_dims=150, batch_size=4096,\n",
        "              linear_reg=0.1, factors_reg=0.003)\n",
        "\n",
        "args_epochs = [100, 250, 500, 1000]\n",
        "args_names = [\"bfm_lr0.1_e{}\".format(args_epoch) for args_epoch\n",
        "              in args_epochs]\n",
        "\n",
        "fms = fit_fm_args_epochs(TfBatchFM, args, args_names, args_epochs, train_df,\n",
        "                         val_query_df, val_df, load=load,\n",
        "                         sampler_fn=accepted_crossbatch_sampler,\n",
        "                         val_sampler_fn=accepted_crossbatch_sampler)\n",
        "\n",
        "for fm, args_name in zip(fms, args_names):\n",
        "  eval_fm(fm, args_name, val_query_df, val_df, filter_user_tracks=True)"
      ],
      "execution_count": 0,
      "outputs": [
        {
          "output_type": "stream",
          "text": [
            "INFO:tensorflow:Restoring parameters from /drive/My Drive/models/30music/bfm_lr0.1_e100.ckpt\n",
            "0.011000 hit rate\n",
            "0.063952 ndcg\n",
            "36.93284s trans time\n",
            "INFO:tensorflow:Restoring parameters from /drive/My Drive/models/30music/bfm_lr0.1_e250.ckpt\n",
            "0.014000 hit rate\n",
            "0.070560 ndcg\n",
            "37.15554s trans time\n",
            "INFO:tensorflow:Restoring parameters from /drive/My Drive/models/30music/bfm_lr0.1_e500.ckpt\n",
            "0.013000 hit rate\n",
            "0.073054 ndcg\n",
            "37.37425s trans time\n",
            "INFO:tensorflow:Restoring parameters from /drive/My Drive/models/30music/bfm_lr0.1_e1000.ckpt\n",
            "0.010000 hit rate\n",
            "0.074310 ndcg\n",
            "\n",
            "11258.91916s fit time\n",
            "37.21911s trans time\n"
          ],
          "name": "stdout"
        }
      ]
    },
    {
      "cell_type": "code",
      "metadata": {
        "id": "QjZA0veSkvam",
        "colab_type": "code",
        "outputId": "995f6cb9-46fd-4f80-b782-a19a786dc998",
        "colab": {
          "base_uri": "https://localhost:8080/",
          "height": 341
        }
      },
      "source": [
        "args = FMArgs(len(train_df), num_dims=150, batch_size=4096,\n",
        "              linear_reg=0.1, factors_reg=0.003, lr=0.6)\n",
        "\n",
        "args_epochs = [100, 250, 500, 1000]\n",
        "args_names = [\"bfm_lr0.6_e{}\".format(args_epoch) for args_epoch\n",
        "              in args_epochs]\n",
        "\n",
        "fms = fit_fm_args_epochs(TfBatchFM, args, args_names, args_epochs, train_df,\n",
        "                         val_query_df, val_df, load=load,\n",
        "                         sampler_fn=accepted_crossbatch_sampler,\n",
        "                         val_sampler_fn=accepted_crossbatch_sampler)\n",
        "\n",
        "for fm, args_name in zip(fms, args_names):\n",
        "  eval_fm(fm, args_name, val_query_df, val_df, filter_user_tracks=True)"
      ],
      "execution_count": 0,
      "outputs": [
        {
          "output_type": "stream",
          "text": [
            "INFO:tensorflow:Restoring parameters from /drive/My Drive/models/30music/bfm_lr0.6_e100.ckpt\n",
            "0.015000 hit rate\n",
            "0.075180 ndcg\n",
            "36.73049s trans time\n",
            "INFO:tensorflow:Restoring parameters from /drive/My Drive/models/30music/bfm_lr0.6_e250.ckpt\n",
            "0.019000 hit rate\n",
            "0.079713 ndcg\n",
            "37.21587s trans time\n",
            "INFO:tensorflow:Restoring parameters from /drive/My Drive/models/30music/bfm_lr0.6_e500.ckpt\n",
            "0.018000 hit rate\n",
            "0.079461 ndcg\n",
            "36.83448s trans time\n",
            "INFO:tensorflow:Restoring parameters from /drive/My Drive/models/30music/bfm_lr0.6_e1000.ckpt\n",
            "0.020000 hit rate\n",
            "0.082374 ndcg\n",
            "\n",
            "12415.75441s fit time\n",
            "36.71390s trans time\n"
          ],
          "name": "stdout"
        }
      ]
    },
    {
      "cell_type": "code",
      "metadata": {
        "id": "CoLErq7YS9L-",
        "colab_type": "code",
        "outputId": "68cc8139-47c8-47e0-e0ea-965098ef5332",
        "colab": {
          "base_uri": "https://localhost:8080/",
          "height": 308
        }
      },
      "source": [
        "fm_names = [\"fm_b4096_lr0.1_e{}\".format(args_epoch) for args_epoch in args_epochs]\n",
        "fm_ndcgs = [fm_evals[fm_name][\"ndcg\"] for fm_name in fm_names]\n",
        "\n",
        "fm1_names = [\"fm_b4096_lr0.6_e{}\".format(args_epoch) for args_epoch in args_epochs]\n",
        "fm1_ndcgs = [fm_evals[fm_name][\"ndcg\"] for fm_name in fm1_names]\n",
        "\n",
        "fm_aes_names = [\"fm_b4096_aes_lr0.1_e{}\".format(args_epoch) for args_epoch in args_epochs]\n",
        "fm_aes_ndcgs = [fm_evals[fm_name][\"ndcg\"] for fm_name in fm_aes_names]\n",
        "\n",
        "bfm_names = [\"bfm_lr0.1_e{}\".format(args_epoch) for args_epoch in args_epochs]\n",
        "bfm_ndcgs = [fm_evals[bfm_name][\"ndcg\"] for bfm_name in bfm_names]\n",
        "\n",
        "bfm1_names = [\"bfm_lr0.6_e{}\".format(args_epoch) for args_epoch in args_epochs]\n",
        "bfm1_ndcgs = [fm_evals[bfm_name][\"ndcg\"] for bfm_name in bfm1_names]\n",
        "\n",
        "plt.figure(figsize=(6*2, 4))\n",
        "plt.suptitle(\"30Music\")\n",
        "\n",
        "plt.subplot(1, 2, 1)\n",
        "\n",
        "plt.plot(args_epochs, fm_ndcgs, \"o--\", color=\"yellow\")\n",
        "plt.plot(args_epochs, fm1_ndcgs, \"o--\", color=\"orange\")\n",
        "plt.plot(args_epochs, fm_aes_ndcgs, \"o--\", color=\"green\")\n",
        "plt.plot(args_epochs, bfm_ndcgs, \"o--\", color=\"red\")\n",
        "plt.plot(args_epochs, bfm1_ndcgs, \"o--\", color=\"darkred\")\n",
        "plt.xticks(args_epochs)\n",
        "plt.ylim(bottom=0.05, top=0.09)\n",
        "\n",
        "plt.grid(True, axis=\"y\")\n",
        "plt.ylabel(\"NDCG\")\n",
        "plt.xlabel(\"epochs\")\n",
        "\n",
        "fm_aucs = fm_fits[\"fm_b4096_lr0.1_e1000\"][\"val_aucs\"]\n",
        "fm1_aucs = fm_fits[\"fm_b4096_lr0.6_e1000\"][\"val_aucs\"]\n",
        "fm_aes_aucs = fm_fits[\"fm_b4096_aes_lr0.1_e1000\"][\"val_aucs\"]\n",
        "\n",
        "bfm_aucs = fm_fits[\"bfm_lr0.1_e1000\"][\"val_aucs\"]\n",
        "bfm1_aucs = fm_fits[\"bfm_lr0.6_e1000\"][\"val_aucs\"]\n",
        "\n",
        "val_epochs = [i * args.eval_freq for i in range(len(fm_aucs))]\n",
        "\n",
        "plt.subplot(1, 2, 2)\n",
        "\n",
        "plt.grid(True, axis=\"y\")\n",
        "plt.plot(val_epochs, fm_aucs, color=\"yellow\")\n",
        "plt.plot(val_epochs, fm1_aucs, color=\"orange\")\n",
        "plt.plot(val_epochs, fm_aes_aucs, color=\"green\")\n",
        "plt.plot(val_epochs, bfm_aucs, color=\"red\")\n",
        "plt.plot(val_epochs, bfm1_aucs, color=\"darkred\")\n",
        "plt.ylim(bottom=0.75, top=1.0)\n",
        "\n",
        "yellow_patch = mpatches.Patch(color=\"yellow\", label=\"FM, lr 0.1\")\n",
        "orange_patch = mpatches.Patch(color=\"orange\", label=\"FM, lr 0.6\")\n",
        "green_patch = mpatches.Patch(color=\"green\", label=\"FM, exp sampling, lr 0.1\")\n",
        "red_patch = mpatches.Patch(color=\"red\", label=\"FM, cross-batch, lr 0.1\")\n",
        "dred_patch = mpatches.Patch(color=\"darkred\", label=\"FM, cross-batch, lr 0.6\")\n",
        "patches = [dred_patch, red_patch, green_patch, orange_patch, yellow_patch]\n",
        "plt.legend(handles=patches)\n",
        "\n",
        "plt.ylabel(\"AUC\")\n",
        "plt.xlabel(\"epochs\");"
      ],
      "execution_count": 0,
      "outputs": [
        {
          "output_type": "display_data",
          "data": {
            "image/png": "[encoded data removed]",
            "text/plain": [
              "<Figure size 864x288 with 2 Axes>"
            ]
          },
          "metadata": {
            "tags": []
          }
        }
      ]
    },
    {
      "cell_type": "code",
      "metadata": {
        "id": "LHXeDrQKBNWH",
        "colab_type": "code",
        "outputId": "c9a9bed8-f115-4cd2-9340-a1766358b57e",
        "colab": {
          "base_uri": "https://localhost:8080/",
          "height": 77
        }
      },
      "source": [
        "args_labels = [\"FM, lr 0.1\", \"FM, lr 0.3\",\n",
        "               \"FM, cross-batch, lr 0.1\", \"FM, cross-batch, lr 0.3\"]\n",
        "args_names = [\"fm_b4096_lr0.1_e1000\", \"fm_b4096_lr0.6_e1000\",\n",
        "              \"bfm_lr0.1_e1000\", \"bfm_lr0.6_e1000\"]\n",
        "fit_times = [fm_fits[args_name][\"fit_time\"] for args_name in args_names]\n",
        "\n",
        "pd.DataFrame.from_records([fit_times], columns=args_labels, index=[\"Fit times\"])"
      ],
      "execution_count": 0,
      "outputs": [
        {
          "output_type": "execute_result",
          "data": {
            "text/html": [
              "<div>\n",
              "<style scoped>\n",
              "    .dataframe tbody tr th:only-of-type {\n",
              "        vertical-align: middle;\n",
              "    }\n",
              "\n",
              "    .dataframe tbody tr th {\n",
              "        vertical-align: top;\n",
              "    }\n",
              "\n",
              "    .dataframe thead th {\n",
              "        text-align: right;\n",
              "    }\n",
              "</style>\n",
              "<table border=\"1\" class=\"dataframe\">\n",
              "  <thead>\n",
              "    <tr style=\"text-align: right;\">\n",
              "      <th></th>\n",
              "      <th>FM, lr 0.1</th>\n",
              "      <th>FM, lr 0.3</th>\n",
              "      <th>FM, cross-batch, lr 0.1</th>\n",
              "      <th>FM, cross-batch, lr 0.3</th>\n",
              "    </tr>\n",
              "  </thead>\n",
              "  <tbody>\n",
              "    <tr>\n",
              "      <th>Fit times</th>\n",
              "      <td>3547.413894</td>\n",
              "      <td>3557.696224</td>\n",
              "      <td>11258.919159</td>\n",
              "      <td>12415.754406</td>\n",
              "    </tr>\n",
              "  </tbody>\n",
              "</table>\n",
              "</div>"
            ],
            "text/plain": [
              "            FM, lr 0.1  ...  FM, cross-batch, lr 0.3\n",
              "Fit times  3547.413894  ...             12415.754406\n",
              "\n",
              "[1 rows x 4 columns]"
            ]
          },
          "metadata": {
            "tags": []
          },
          "execution_count": 64
        }
      ]
    },
    {
      "cell_type": "code",
      "metadata": {
        "id": "qj9OpGNyBfsR",
        "colab_type": "code",
        "colab": {}
      },
      "source": [
        "sampler_names = [\"us\", \"aus\", \"alus\", \"aaus\",\n",
        "                 \"es\", \"aes\", \"ales\", \"aaes\",\n",
        "                 \"is\", \"ais\", \"alis\", \"aais\"]\n",
        "sampler_names = [\"fm_{}\".format(name) for name in sampler_names]\n",
        "sampler_fns = [uniform_sampler, accepted_uniform_sampler, accepted_album_uniform_sampler, accepted_artist_uniform_sampler,\n",
        "               exp_sampler, accepted_exp_sampler, accepted_album_exp_sampler, accepted_artist_exp_sampler,\n",
        "               instance_sampler, accepted_instance_sampler, accepted_album_instance_sampler, accepted_artist_instance_sampler]\n",
        "\n",
        "args = FMArgs(len(train_df), num_dims=150, linear_reg=0.3, factors_reg=0.01)\n",
        "\n",
        "for sampler_name, sampler_fn in zip(sampler_names, sampler_fns):\n",
        "  fm = fit_fm_args(TfFM, args, sampler_name, train_df, val_query_df, val_df,\n",
        "                   load=load, sampler_fn=sampler_fn)\n",
        "  eval_fm(fm, sampler_name, val_query_df, val_df, filter_user_tracks=True,\n",
        "          silent=True)"
      ],
      "execution_count": 0,
      "outputs": []
    },
    {
      "cell_type": "code",
      "metadata": {
        "id": "m-RSEqEjjQC3",
        "colab_type": "code",
        "outputId": "4773b393-c4bf-4c3f-bf6a-07ce89ebc620",
        "colab": {
          "base_uri": "https://localhost:8080/",
          "height": 142
        }
      },
      "source": [
        "cols = [\"all\", \"track\", \"album\", \"artist\"]\n",
        "index = [\"uniform\", \"exp\", \"instance\"]\n",
        "rows = np.array([fm_evals[sampler_name][\"ndcg\"] for sampler_name\n",
        "                 in sampler_names])\n",
        "rows = rows.reshape((-1, len(cols)))\n",
        "pd.DataFrame.from_records(rows, columns=cols, index=index)"
      ],
      "execution_count": 0,
      "outputs": [
        {
          "output_type": "execute_result",
          "data": {
            "text/html": [
              "<div>\n",
              "<style scoped>\n",
              "    .dataframe tbody tr th:only-of-type {\n",
              "        vertical-align: middle;\n",
              "    }\n",
              "\n",
              "    .dataframe tbody tr th {\n",
              "        vertical-align: top;\n",
              "    }\n",
              "\n",
              "    .dataframe thead th {\n",
              "        text-align: right;\n",
              "    }\n",
              "</style>\n",
              "<table border=\"1\" class=\"dataframe\">\n",
              "  <thead>\n",
              "    <tr style=\"text-align: right;\">\n",
              "      <th></th>\n",
              "      <th>all</th>\n",
              "      <th>track</th>\n",
              "      <th>album</th>\n",
              "      <th>artist</th>\n",
              "    </tr>\n",
              "  </thead>\n",
              "  <tbody>\n",
              "    <tr>\n",
              "      <th>uniform</th>\n",
              "      <td>0.070375</td>\n",
              "      <td>0.070290</td>\n",
              "      <td>0.070525</td>\n",
              "      <td>0.071412</td>\n",
              "    </tr>\n",
              "    <tr>\n",
              "      <th>exp</th>\n",
              "      <td>0.074210</td>\n",
              "      <td>0.074002</td>\n",
              "      <td>0.075196</td>\n",
              "      <td>0.076331</td>\n",
              "    </tr>\n",
              "    <tr>\n",
              "      <th>instance</th>\n",
              "      <td>0.074571</td>\n",
              "      <td>0.076715</td>\n",
              "      <td>0.075888</td>\n",
              "      <td>0.077859</td>\n",
              "    </tr>\n",
              "  </tbody>\n",
              "</table>\n",
              "</div>"
            ],
            "text/plain": [
              "               all     track     album    artist\n",
              "uniform   0.070375  0.070290  0.070525  0.071412\n",
              "exp       0.074210  0.074002  0.075196  0.076331\n",
              "instance  0.074571  0.076715  0.075888  0.077859"
            ]
          },
          "metadata": {
            "tags": []
          },
          "execution_count": 57
        }
      ]
    },
    {
      "cell_type": "code",
      "metadata": {
        "id": "pG--lasSlqAF",
        "colab_type": "code",
        "outputId": "fb9605a3-6c91-4496-ba5c-6662e32889b4",
        "colab": {
          "base_uri": "https://localhost:8080/",
          "height": 125
        }
      },
      "source": [
        "args = FMArgs(len(train_df), num_dims=150, batch_size=4096,\n",
        "              linear_reg=0.1, factors_reg=0.003, lr=0.6, epochs=100)\n",
        "\n",
        "fm = fit_fm_args(TfBatchFM, args, \"bfm_us\", train_df, val_query_df,\n",
        "                 val_df, load=load)\n",
        "\n",
        "eval_fm(fm, \"bfm_us\", val_query_df, val_df, filter_user_tracks=True);"
      ],
      "execution_count": 0,
      "outputs": [
        {
          "output_type": "stream",
          "text": [
            "INFO:tensorflow:Restoring parameters from /drive/My Drive/models/30music/bfm_us.ckpt\n",
            "0.016000 hit rate\n",
            "0.075877 ndcg\n",
            "\n",
            "816.37512s fit time\n",
            "37.29746s trans time\n"
          ],
          "name": "stdout"
        }
      ]
    },
    {
      "cell_type": "code",
      "metadata": {
        "id": "-iipTsvhys3u",
        "colab_type": "code",
        "outputId": "b470aec4-e8f4-478e-d393-6424c1c4741e",
        "colab": {
          "base_uri": "https://localhost:8080/",
          "height": 125
        }
      },
      "source": [
        "args = FMArgs(len(train_df), num_dims=150, batch_size=4096,\n",
        "              linear_reg=0.1, factors_reg=0.003, lr=0.6, epochs=100)\n",
        "\n",
        "fm = fit_fm_args(TfBatchFM, args, \"bfm_als\", train_df, val_query_df,\n",
        "                 val_df, load=load,\n",
        "                 sampler_fn=accepted_album_crossbatch_sampler)\n",
        "\n",
        "eval_fm(fm, \"bfm_als\", val_query_df, val_df, filter_user_tracks=True);"
      ],
      "execution_count": 0,
      "outputs": [
        {
          "output_type": "stream",
          "text": [
            "INFO:tensorflow:Restoring parameters from /drive/My Drive/models/30music/bfm_als.ckpt\n",
            "0.015000 hit rate\n",
            "0.074746 ndcg\n",
            "\n",
            "1140.32122s fit time\n",
            "37.11491s trans time\n"
          ],
          "name": "stdout"
        }
      ]
    },
    {
      "cell_type": "code",
      "metadata": {
        "id": "jkysKxngygQZ",
        "colab_type": "code",
        "outputId": "81100918-d5f7-452f-de1e-0d23f1a12ac7",
        "colab": {
          "base_uri": "https://localhost:8080/",
          "height": 125
        }
      },
      "source": [
        "args = FMArgs(len(train_df), num_dims=150, batch_size=4096,\n",
        "              linear_reg=0.1, factors_reg=0.003, lr=0.6, epochs=100)\n",
        "\n",
        "fm = fit_fm_args(TfBatchFM, args, \"bfm_aas\", train_df, val_query_df,\n",
        "                 val_df, load=load,\n",
        "                 sampler_fn=accepted_artist_crossbatch_sampler)\n",
        "\n",
        "eval_fm(fm, \"bfm_aas\", val_query_df, val_df, filter_user_tracks=True);"
      ],
      "execution_count": 0,
      "outputs": [
        {
          "output_type": "stream",
          "text": [
            "INFO:tensorflow:Restoring parameters from /drive/My Drive/models/30music/bfm_aas.ckpt\n",
            "0.015000 hit rate\n",
            "0.073963 ndcg\n",
            "\n",
            "1202.78220s fit time\n",
            "37.19717s trans time\n"
          ],
          "name": "stdout"
        }
      ]
    },
    {
      "cell_type": "code",
      "metadata": {
        "id": "B-OdoHGbAAUH",
        "colab_type": "code",
        "outputId": "61f6010c-8fea-474b-c852-94a6133bb81e",
        "colab": {
          "base_uri": "https://localhost:8080/",
          "height": 80
        }
      },
      "source": [
        "cols = [\"all\", \"track\", \"album\", \"artist\"]\n",
        "index = [\"cross-batch\"]\n",
        "rows = np.array([fm_evals[sampler_name][\"ndcg\"] for sampler_name\n",
        "                 in [ \"bfm_us\", \"bfm_lr0.6_e100\", \"bfm_als\", \"bfm_aas\"]])\n",
        "rows = rows.reshape((-1, len(cols)))\n",
        "pd.DataFrame.from_records(rows, columns=cols, index=index)"
      ],
      "execution_count": 0,
      "outputs": [
        {
          "output_type": "execute_result",
          "data": {
            "text/html": [
              "<div>\n",
              "<style scoped>\n",
              "    .dataframe tbody tr th:only-of-type {\n",
              "        vertical-align: middle;\n",
              "    }\n",
              "\n",
              "    .dataframe tbody tr th {\n",
              "        vertical-align: top;\n",
              "    }\n",
              "\n",
              "    .dataframe thead th {\n",
              "        text-align: right;\n",
              "    }\n",
              "</style>\n",
              "<table border=\"1\" class=\"dataframe\">\n",
              "  <thead>\n",
              "    <tr style=\"text-align: right;\">\n",
              "      <th></th>\n",
              "      <th>all</th>\n",
              "      <th>track</th>\n",
              "      <th>album</th>\n",
              "      <th>artist</th>\n",
              "    </tr>\n",
              "  </thead>\n",
              "  <tbody>\n",
              "    <tr>\n",
              "      <th>cross-batch</th>\n",
              "      <td>0.075877</td>\n",
              "      <td>0.07518</td>\n",
              "      <td>0.074746</td>\n",
              "      <td>0.073963</td>\n",
              "    </tr>\n",
              "  </tbody>\n",
              "</table>\n",
              "</div>"
            ],
            "text/plain": [
              "                  all    track     album    artist\n",
              "cross-batch  0.075877  0.07518  0.074746  0.073963"
            ]
          },
          "metadata": {
            "tags": []
          },
          "execution_count": 73
        }
      ]
    },
    {
      "cell_type": "markdown",
      "metadata": {
        "id": "CeEhpjn9XjiU",
        "colab_type": "text"
      },
      "source": [
        "#### Features"
      ]
    },
    {
      "cell_type": "code",
      "metadata": {
        "id": "WeWe0xPrAXQ-",
        "colab_type": "code",
        "outputId": "ad97fb8b-cea9-4d80-9386-c55d52ba54d1",
        "colab": {
          "base_uri": "https://localhost:8080/",
          "height": 125
        }
      },
      "source": [
        "args = FMArgs(len(train_df), num_dims=150, batch_size=4096,\n",
        "              linear_reg=0.1, factors_reg=0.003, lr=0.6, epochs=100)\n",
        "\n",
        "fm = fit_fm_args(TfBatchFM, args, \"bfm_useritemfeats\", train_df, val_query_df,\n",
        "                 val_df, load=load,\n",
        "                 feature_fn=df2usersitemfeats({}))\n",
        "\n",
        "eval_fm(fm, \"bfm_useritemfeats\", val_query_df, val_df, filter_user_tracks=True);"
      ],
      "execution_count": 0,
      "outputs": [
        {
          "output_type": "stream",
          "text": [
            "INFO:tensorflow:Restoring parameters from /drive/My Drive/models/30music/bfm_useritemfeats.ckpt\n",
            "0.021000 hit rate\n",
            "0.095966 ndcg\n",
            "\n",
            "926.83450s fit time\n",
            "55.53238s trans time\n"
          ],
          "name": "stdout"
        }
      ]
    },
    {
      "cell_type": "code",
      "metadata": {
        "id": "0na9M8kD-c2-",
        "colab_type": "code",
        "outputId": "a50e540f-a936-4795-93d8-8fa3a52f2caa",
        "colab": {
          "base_uri": "https://localhost:8080/",
          "height": 125
        }
      },
      "source": [
        "args = FMArgs(len(train_df), num_dims=150, batch_size=4096,\n",
        "              linear_reg=0.1, factors_reg=0.003, lr=0.6, epochs=100)\n",
        "\n",
        "fm = fit_fm_args(TfBatchFM, args, \"bfm_all\", train_df, val_query_df,\n",
        "                 val_df, load=load,\n",
        "                 feature_fn=df2all({\n",
        "                     \"country\": 0.25,\n",
        "                     \"gender\": 0.5,\n",
        "                     \"b_age\": 0.25}))\n",
        "\n",
        "fm_df = eval_fm(fm, \"bfm_all\", val_query_df, val_df, filter_user_tracks=True)"
      ],
      "execution_count": 0,
      "outputs": [
        {
          "output_type": "stream",
          "text": [
            "INFO:tensorflow:Restoring parameters from /drive/My Drive/models/30music/bfm_all.ckpt\n",
            "0.017000 hit rate\n",
            "0.098047 ndcg\n",
            "\n",
            "971.17779s fit time\n",
            "88.41188s trans time\n"
          ],
          "name": "stdout"
        }
      ]
    },
    {
      "cell_type": "code",
      "metadata": {
        "id": "iDH2Dpyl6UWP",
        "colab_type": "code",
        "colab": {}
      },
      "source": [
        "train_prev_df = train_df[train_df[\"prev_traid\"] != 0]"
      ],
      "execution_count": 0,
      "outputs": []
    },
    {
      "cell_type": "code",
      "metadata": {
        "id": "01p5oSz7NJds",
        "colab_type": "code",
        "outputId": "7da53742-ec8d-472c-bc2c-f4168f273a00",
        "colab": {
          "base_uri": "https://localhost:8080/",
          "height": 125
        }
      },
      "source": [
        "args = FMArgs(len(train_df), num_dims=150, batch_size=4096,\n",
        "              linear_reg=0.1, factors_reg=0.003, lr=0.6, epochs=100)\n",
        "\n",
        "fm = fit_fm_args(TfBatchFM, args, \"bfm_prev\", train_df, val_query_df,\n",
        "                 val_df, load=load,\n",
        "                 feature_fn=df2usersprevitems())\n",
        "\n",
        "eval_fm(fm, \"bfm_prev\", val_query_df, val_df, filter_user_tracks=True);"
      ],
      "execution_count": 0,
      "outputs": [
        {
          "output_type": "stream",
          "text": [
            "INFO:tensorflow:Restoring parameters from /drive/My Drive/models/30music/bfm_prev.ckpt\n",
            "0.029000 hit rate\n",
            "0.085455 ndcg\n",
            "\n",
            "1027.22814s fit time\n",
            "48.59017s trans time\n"
          ],
          "name": "stdout"
        }
      ]
    },
    {
      "cell_type": "code",
      "metadata": {
        "id": "7CGrnbZR3lPV",
        "colab_type": "code",
        "outputId": "491177ea-641b-4549-d1e7-a7d4236709bd",
        "colab": {
          "base_uri": "https://localhost:8080/",
          "height": 125
        }
      },
      "source": [
        "args = FMArgs(len(train_df), num_dims=150, batch_size=4096,\n",
        "              linear_reg=0.1, factors_reg=0.003, lr=0.6, epochs=100)\n",
        "\n",
        "fm = fit_fm_args(TfBatchFM, args, \"bfm_previtemfeats\", train_df,\n",
        "                 val_query_df, val_df, load=load,\n",
        "                 feature_fn=df2usersprevitemfeats({}))\n",
        "\n",
        "eval_fm(fm, \"bfm_previtemfeats\", val_query_df, val_df, filter_user_tracks=True);"
      ],
      "execution_count": 0,
      "outputs": [
        {
          "output_type": "stream",
          "text": [
            "INFO:tensorflow:Restoring parameters from /drive/My Drive/models/30music/bfm_previtemfeats.ckpt\n",
            "0.032000 hit rate\n",
            "0.104563 ndcg\n",
            "\n",
            "1254.72761s fit time\n",
            "82.29885s trans time\n"
          ],
          "name": "stdout"
        }
      ]
    },
    {
      "cell_type": "code",
      "metadata": {
        "id": "MBnsDCe6ckH7",
        "colab_type": "code",
        "outputId": "7edb2531-c23f-43ec-8d74-b9a9ff48d7b9",
        "colab": {
          "base_uri": "https://localhost:8080/",
          "height": 125
        }
      },
      "source": [
        "args = FMArgs(len(train_df), num_dims=150, batch_size=4096,\n",
        "              linear_reg=0.1, factors_reg=0.003, lr=0.6, epochs=100)\n",
        "\n",
        "fm = fit_fm_args(TfBatchFM, args, \"bfm_prevall\", train_df, val_query_df,\n",
        "                 val_df, load=load,\n",
        "                 feature_fn=df2prevall({\n",
        "                     \"country\": 0.25,\n",
        "                     \"gender\": 0.5,\n",
        "                     \"b_age\": 0.25}))\n",
        "\n",
        "eval_fm(fm, \"bfm_prevall\", val_query_df, val_df, filter_user_tracks=True);"
      ],
      "execution_count": 0,
      "outputs": [
        {
          "output_type": "stream",
          "text": [
            "INFO:tensorflow:Restoring parameters from /drive/My Drive/models/30music/bfm_prevall.ckpt\n",
            "0.031000 hit rate\n",
            "0.110650 ndcg\n",
            "\n",
            "1296.75095s fit time\n",
            "117.50125s trans time\n"
          ],
          "name": "stdout"
        }
      ]
    },
    {
      "cell_type": "code",
      "metadata": {
        "id": "ijRQXFNZxUVe",
        "colab_type": "code",
        "outputId": "b336c92c-1a39-4086-fda6-709a9a89710e",
        "colab": {
          "base_uri": "https://localhost:8080/",
          "height": 125
        }
      },
      "source": [
        "args = FMArgs(len(train_prev_df), num_dims=150, batch_size=4096,\n",
        "              linear_reg=0.1, factors_reg=0.003, lr=0.6, epochs=100)\n",
        "\n",
        "fm = fit_fm_args(TfBatchFM, args, \"bfm_prev_trans\", train_prev_df, val_query_df,\n",
        "                 val_df, load=load, item_ctx_features=True,\n",
        "                 feature_fn=df2usersprevitems())\n",
        "\n",
        "eval_fm(fm, \"bfm_prev_trans\", val_query_df, val_df, filter_user_tracks=True);"
      ],
      "execution_count": 0,
      "outputs": [
        {
          "output_type": "stream",
          "text": [
            "INFO:tensorflow:Restoring parameters from /drive/My Drive/models/30music/bfm_prev_trans.ckpt\n",
            "0.027000 hit rate\n",
            "0.089242 ndcg\n",
            "\n",
            "809.28181s fit time\n",
            "48.58658s trans time\n"
          ],
          "name": "stdout"
        }
      ]
    },
    {
      "cell_type": "code",
      "metadata": {
        "id": "QNQPlhcz8iUY",
        "colab_type": "code",
        "outputId": "657199d9-fcc0-4fbd-8424-fddb95ce29d0",
        "colab": {
          "base_uri": "https://localhost:8080/",
          "height": 125
        }
      },
      "source": [
        "args = FMArgs(len(train_prev_df), num_dims=150, batch_size=4096,\n",
        "              linear_reg=0.1, factors_reg=0.003, lr=0.6, epochs=100)\n",
        "\n",
        "fm = fit_fm_args(TfBatchFM, args, \"bfm_previtemfeats_trans\", train_prev_df,\n",
        "                 val_query_df, val_df, load=load, item_ctx_features=True,\n",
        "                 feature_fn=df2usersprevitemfeats({}))\n",
        "\n",
        "eval_fm(fm, \"bfm_previtemfeats_trans\", val_query_df, val_df,\n",
        "        filter_user_tracks=True);"
      ],
      "execution_count": 0,
      "outputs": [
        {
          "output_type": "stream",
          "text": [
            "INFO:tensorflow:Restoring parameters from /drive/My Drive/models/30music/bfm_previtemfeats_trans.ckpt\n",
            "0.036000 hit rate\n",
            "0.116343 ndcg\n",
            "\n",
            "954.46231s fit time\n",
            "83.70596s trans time\n"
          ],
          "name": "stdout"
        }
      ]
    },
    {
      "cell_type": "code",
      "metadata": {
        "id": "WCsss-ASAsWg",
        "colab_type": "code",
        "outputId": "90afb8be-1d16-4f8e-97ec-605ec2d0ae08",
        "colab": {
          "base_uri": "https://localhost:8080/",
          "height": 125
        }
      },
      "source": [
        "args = FMArgs(len(train_prev_df), num_dims=150, batch_size=4096,\n",
        "              linear_reg=0.1, factors_reg=0.003, lr=0.6, epochs=100)\n",
        "\n",
        "fm = fit_fm_args(TfBatchFM, args, \"bfm_prevall_trans\", train_prev_df,\n",
        "                 val_query_df, val_df, load=load, item_ctx_features=True,\n",
        "                 feature_fn=df2prevall({\n",
        "                     \"country\": 0.25,\n",
        "                     \"gender\": 0.5,\n",
        "                     \"b_age\": 0.25}))\n",
        "\n",
        "eval_fm(fm, \"bfm_prevall_trans\", val_query_df, val_df, filter_user_tracks=True);"
      ],
      "execution_count": 0,
      "outputs": [
        {
          "output_type": "stream",
          "text": [
            "INFO:tensorflow:Restoring parameters from /drive/My Drive/models/30music/bfm_prevall_trans.ckpt\n",
            "0.034000 hit rate\n",
            "0.122059 ndcg\n",
            "\n",
            "985.51283s fit time\n",
            "115.69878s trans time\n"
          ],
          "name": "stdout"
        }
      ]
    },
    {
      "cell_type": "code",
      "metadata": {
        "id": "Pz3rk8GjKg_D",
        "colab_type": "code",
        "outputId": "df1ec737-f138-4864-c38d-e2de4c69ff1b",
        "colab": {
          "base_uri": "https://localhost:8080/",
          "height": 235
        }
      },
      "source": [
        "args = FMArgs(len(train_df), num_dims=150, batch_size=4096,\n",
        "              linear_reg=0.1, factors_reg=0.003, lr=0.6, epochs=100)\n",
        "\n",
        "# train with TfBatchFM and load with SafeTfBatchFM - faster\n",
        "fm = fit_fm_args(SafeTfBatchFM, args, \"bfm_encodedusersprevall\", train_df,\n",
        "                 val_query_df, val_df, load=True, item_ctx_features=True,\n",
        "                 feature_fn=df2encodedusersprevall({\n",
        "                     \"country\": 0.25,\n",
        "                     \"gender\": 0.5,\n",
        "                     \"b_age\": 0.25}))\n",
        "\n",
        "eval_fm(fm, \"bfm_encodedusersprevall\", val_query_df, val_df,\n",
        "        filter_user_tracks=True);"
      ],
      "execution_count": 0,
      "outputs": [
        {
          "output_type": "stream",
          "text": [
            "INFO:tensorflow:Restoring parameters from /drive/My Drive/models/30music/bfm_encodedusersprevall.ckpt\n",
            "0.026824 hit rate\n",
            "0.114953 ndcg\n",
            "\n",
            "3780.60588s fit time\n",
            "397.16727s trans time\n"
          ],
          "name": "stdout"
        },
        {
          "output_type": "stream",
          "text": [
            "/usr/local/lib/python3.6/dist-packages/ipykernel_launcher.py:67: SettingWithCopyWarning: \n",
            "A value is trying to be set on a copy of a slice from a DataFrame.\n",
            "Try using .loc[row_indexer,col_indexer] = value instead\n",
            "\n",
            "See the caveats in the documentation: http://pandas.pydata.org/pandas-docs/stable/user_guide/indexing.html#returning-a-view-versus-a-copy\n"
          ],
          "name": "stderr"
        }
      ]
    },
    {
      "cell_type": "code",
      "metadata": {
        "id": "m4lBiMjMfXvr",
        "colab_type": "code",
        "outputId": "7cf8ee3d-c194-47a1-c2bf-dd8962bc1bb7",
        "colab": {
          "base_uri": "https://localhost:8080/",
          "height": 235
        }
      },
      "source": [
        "args = FMArgs(len(train_df), num_dims=150, batch_size=4096,\n",
        "              linear_reg=0.1, factors_reg=0.003, lr=0.6, epochs=100)\n",
        "\n",
        "# train with TfBatchFM and load with SafeTfBatchFM - faster\n",
        "fm = fit_fm_args(SafeTfBatchFM, args, \"bfm_encodedusersprevall_equi\", train_df,\n",
        "                 val_query_df, val_df, load=True, item_ctx_features=True,\n",
        "                 feature_fn=df2encodedusersprevall({\n",
        "                     \"country\": 0.25,\n",
        "                     \"gender\": 0.5,\n",
        "                     \"b_age\": 0.25},\n",
        "                     equi_weight_normalize))\n",
        "\n",
        "eval_fm(fm, \"bfm_encodedusersprevall_equi\", val_query_df, val_df,\n",
        "        filter_user_tracks=True);"
      ],
      "execution_count": 0,
      "outputs": [
        {
          "output_type": "stream",
          "text": [
            "INFO:tensorflow:Restoring parameters from /drive/My Drive/models/30music/bfm_encodedusersprevall_equi.ckpt\n",
            "0.025751 hit rate\n",
            "0.112990 ndcg\n",
            "\n",
            "3804.99776s fit time\n",
            "392.22580s trans time\n"
          ],
          "name": "stdout"
        },
        {
          "output_type": "stream",
          "text": [
            "/usr/local/lib/python3.6/dist-packages/ipykernel_launcher.py:67: SettingWithCopyWarning: \n",
            "A value is trying to be set on a copy of a slice from a DataFrame.\n",
            "Try using .loc[row_indexer,col_indexer] = value instead\n",
            "\n",
            "See the caveats in the documentation: http://pandas.pydata.org/pandas-docs/stable/user_guide/indexing.html#returning-a-view-versus-a-copy\n"
          ],
          "name": "stderr"
        }
      ]
    },
    {
      "cell_type": "code",
      "metadata": {
        "id": "P1gDqoEzsxfu",
        "colab_type": "code",
        "outputId": "00a7409f-7d74-4dae-98ca-af4f405a1dcf",
        "colab": {
          "base_uri": "https://localhost:8080/",
          "height": 559
        }
      },
      "source": [
        "args = FMArgs(len(train_df), num_dims=150, batch_size=4096,\n",
        "              linear_reg=0.1, factors_reg=0.003, lr=0.6, epochs=100)\n",
        "\n",
        "# train with TfBatchFM and load with SafeTfBatchFM - faster\n",
        "fm = fit_fm_args(SafeTfBatchFM, args, \"bfm_encodedusersprevall_ones\", train_df,\n",
        "                 val_query_df, val_df, load=True, item_ctx_features=True,\n",
        "                 feature_fn=df2encodedusersprevall({\n",
        "                     \"country\": 0.25,\n",
        "                     \"gender\": 0.5,\n",
        "                     \"b_age\": 0.25},\n",
        "                     one_weight_normalize))\n",
        "\n",
        "eval_fm(fm, \"bfm_encodedusersprevall_ones\", val_query_df, val_df,\n",
        "        filter_user_tracks=True);"
      ],
      "execution_count": 0,
      "outputs": [
        {
          "output_type": "stream",
          "text": [
            "WARNING:tensorflow:From <ipython-input-43-08385c7bacf0>:59: DatasetV1.output_shapes (from tensorflow.python.data.ops.dataset_ops) is deprecated and will be removed in a future version.\n",
            "Instructions for updating:\n",
            "Use `tf.compat.v1.data.get_output_shapes(dataset)`.\n",
            "WARNING:tensorflow:From <ipython-input-43-08385c7bacf0>:183: DatasetV1.output_types (from tensorflow.python.data.ops.dataset_ops) is deprecated and will be removed in a future version.\n",
            "Instructions for updating:\n",
            "Use `tf.compat.v1.data.get_output_types(dataset)`.\n",
            "WARNING:tensorflow:From <ipython-input-43-08385c7bacf0>:185: DatasetV1.output_classes (from tensorflow.python.data.ops.dataset_ops) is deprecated and will be removed in a future version.\n",
            "Instructions for updating:\n",
            "Use `tf.compat.v1.data.get_output_classes(dataset)`.\n",
            "WARNING:tensorflow:From <ipython-input-43-08385c7bacf0>:161: where (from tensorflow.python.ops.array_ops) is deprecated and will be removed in a future version.\n",
            "Instructions for updating:\n",
            "Use tf.where in 2.0, which has the same broadcast rule as np.where\n",
            "WARNING:tensorflow:From /usr/local/lib/python3.6/dist-packages/tensorflow_core/python/training/adagrad.py:76: calling Constant.__init__ (from tensorflow.python.ops.init_ops) with dtype is deprecated and will be removed in a future version.\n",
            "Instructions for updating:\n",
            "Call initializer instance with the dtype argument instead of passing it to the constructor\n",
            "INFO:tensorflow:Restoring parameters from /drive/My Drive/models/30music/bfm_encodedusersprevall_ones.ckpt\n",
            "WARNING:tensorflow:From <ipython-input-43-08385c7bacf0>:301: DatasetV1.make_one_shot_iterator (from tensorflow.python.data.ops.dataset_ops) is deprecated and will be removed in a future version.\n",
            "Instructions for updating:\n",
            "Use `for ... in dataset:` to iterate over a dataset. If using `tf.estimator`, return the `Dataset` object directly from your input function. As a last resort, you can use `tf.compat.v1.data.make_one_shot_iterator(dataset)`.\n",
            "0.003219 hit rate\n",
            "0.044651 ndcg\n",
            "\n",
            "3778.24739s fit time\n",
            "378.63920s trans time\n"
          ],
          "name": "stdout"
        },
        {
          "output_type": "stream",
          "text": [
            "/usr/local/lib/python3.6/dist-packages/ipykernel_launcher.py:67: SettingWithCopyWarning: \n",
            "A value is trying to be set on a copy of a slice from a DataFrame.\n",
            "Try using .loc[row_indexer,col_indexer] = value instead\n",
            "\n",
            "See the caveats in the documentation: http://pandas.pydata.org/pandas-docs/stable/user_guide/indexing.html#returning-a-view-versus-a-copy\n"
          ],
          "name": "stderr"
        }
      ]
    },
    {
      "cell_type": "markdown",
      "metadata": {
        "id": "YskF2rO1gsOZ",
        "colab_type": "text"
      },
      "source": [
        "### Vanilla factorization machines"
      ]
    },
    {
      "cell_type": "code",
      "metadata": {
        "id": "yz0LKPGhgvdV",
        "colab_type": "code",
        "outputId": "42754b5f-6e83-46a9-e469-cbe2fd312029",
        "colab": {
          "base_uri": "https://localhost:8080/",
          "height": 136
        }
      },
      "source": [
        "args = FMArgs(len(train_df), num_dims=150, batch_size=4096*4,\n",
        "              linear_reg=0.3, factors_reg=0.01, epochs=100)\n",
        "\n",
        "fm = fit_fm_args(TfFM, args, \"fm_prevall\", train_df, val_query_df,\n",
        "                 val_df, load=load,\n",
        "                 feature_fn=df2prevall({\n",
        "                     \"country\": 0.25,\n",
        "                     \"gender\": 0.5,\n",
        "                     \"b_age\": 0.25}))\n",
        "\n",
        "eval_fm(fm, \"fm_prevall\", val_query_df, val_df, filter_user_tracks=True);"
      ],
      "execution_count": 0,
      "outputs": [
        {
          "output_type": "stream",
          "text": [
            "INFO:tensorflow:Restoring parameters from /drive/My Drive/models/30music/fm_prevall.ckpt\n",
            "0.026000 hit rate\n",
            "0.104923 ndcg\n",
            "\n",
            "643.85956s fit time\n",
            "137.88134s trans time\n"
          ],
          "name": "stdout"
        }
      ]
    },
    {
      "cell_type": "code",
      "metadata": {
        "id": "aT90tkGfg7YG",
        "colab_type": "code",
        "outputId": "d9f3fb6e-e8e7-498a-d9a0-9ffb54ca2ebc",
        "colab": {
          "base_uri": "https://localhost:8080/",
          "height": 136
        }
      },
      "source": [
        "args = FMArgs(len(train_df), num_dims=150, batch_size=4096*4,\n",
        "              linear_reg=0.3, factors_reg=0.01, epochs=100)\n",
        "\n",
        "fm = fit_fm_args(TfVanillaFM, args, \"vfm_prevall\", train_df, val_query_df,\n",
        "                 val_df, load=load, separate_features=True,\n",
        "                 feature_fn=df2prevall({\n",
        "                     \"country\": 0.25,\n",
        "                     \"gender\": 0.5,\n",
        "                     \"b_age\": 0.25}))\n",
        "\n",
        "eval_fm(fm, \"vfm_prevall\", val_query_df, val_df, filter_user_tracks=True);"
      ],
      "execution_count": 0,
      "outputs": [
        {
          "output_type": "stream",
          "text": [
            "INFO:tensorflow:Restoring parameters from /drive/My Drive/models/30music/vfm_prevall.ckpt\n",
            "0.030000 hit rate\n",
            "0.094679 ndcg\n",
            "\n",
            "1536.24388s fit time\n",
            "1098.67023s trans time\n"
          ],
          "name": "stdout"
        }
      ]
    },
    {
      "cell_type": "markdown",
      "metadata": {
        "id": "t7K_zEDM9J72",
        "colab_type": "text"
      },
      "source": [
        "### TransRec factorization machines"
      ]
    },
    {
      "cell_type": "code",
      "metadata": {
        "id": "8_w9miazHRWA",
        "colab_type": "code",
        "outputId": "d9ac63b3-30cc-4d08-dd7b-2701d57a2b2b",
        "colab": {
          "base_uri": "https://localhost:8080/",
          "height": 125
        }
      },
      "source": [
        "args = TransRecFMArgs(len(train_prev_df), num_dims=150, batch_size=4096,\n",
        "                      linear_reg=0.1, factors_reg=0.003, lr=0.6, epochs=100)\n",
        "\n",
        "fm = fit_fm_args(TfBatchTransRecFM, args, \"btransfm\", train_prev_df,\n",
        "                 val_query_df, val_df, load=load, separate_features=True,\n",
        "                 item_ctx_features=True,\n",
        "                 feature_fn=df2usersprevitems())\n",
        "\n",
        "eval_fm(fm, \"btransfm\", val_query_df, val_df, filter_user_tracks=True);"
      ],
      "execution_count": 0,
      "outputs": [
        {
          "output_type": "stream",
          "text": [
            "INFO:tensorflow:Restoring parameters from /drive/My Drive/models/30music/btransfm.ckpt\n",
            "0.021000 hit rate\n",
            "0.087037 ndcg\n",
            "\n",
            "975.65339s fit time\n",
            "40.14796s trans time\n"
          ],
          "name": "stdout"
        }
      ]
    },
    {
      "cell_type": "code",
      "metadata": {
        "id": "FzfNRtXPyxnH",
        "colab_type": "code",
        "outputId": "f018e5d4-97ad-4e0b-a4f3-d8bf1e84c2bd",
        "colab": {
          "base_uri": "https://localhost:8080/",
          "height": 125
        }
      },
      "source": [
        "args = TransRecFMArgs(len(train_prev_df), num_dims=150, batch_size=4096,\n",
        "                      linear_reg=0.1, factors_reg=0.003, lr=0.6, epochs=100)\n",
        "\n",
        "fm = fit_fm_args(TfBatchTransRecFM, args, \"btransfm_prevall\", train_prev_df,\n",
        "                 val_query_df, val_df, load=load, separate_features=True,\n",
        "                 item_ctx_features=True,\n",
        "                 feature_fn=df2prevall({\n",
        "                     \"country\": 0.25,\n",
        "                     \"gender\": 0.5,\n",
        "                     \"b_age\": 0.25}))\n",
        "\n",
        "eval_fm(fm, \"btransfm_prevall\", val_query_df, val_df, filter_user_tracks=True);"
      ],
      "execution_count": 0,
      "outputs": [
        {
          "output_type": "stream",
          "text": [
            "INFO:tensorflow:Restoring parameters from /drive/My Drive/models/30music/btransfm_prevall.ckpt\n",
            "0.040000 hit rate\n",
            "0.131213 ndcg\n",
            "\n",
            "1207.31218s fit time\n",
            "83.18025s trans time\n"
          ],
          "name": "stdout"
        }
      ]
    },
    {
      "cell_type": "markdown",
      "metadata": {
        "id": "9wpA-f8D1gEd",
        "colab_type": "text"
      },
      "source": [
        "### Field-Aware factorization machines"
      ]
    },
    {
      "cell_type": "code",
      "metadata": {
        "id": "sjygthC9pnmh",
        "colab_type": "code",
        "outputId": "8b5fbdbe-8419-4ed9-cc61-eefdaea08e8c",
        "colab": {
          "base_uri": "https://localhost:8080/",
          "height": 125
        }
      },
      "source": [
        "args = FFMArgs(len(train_df), num_ctx_fields=1, num_item_fields=3,\n",
        "               num_dims=50, linear_reg=0.1, factors_reg=0.003, epochs=10,\n",
        "               batch_size=4096, lr=0.6)\n",
        "\n",
        "fm = fit_fm_args(TfBatchFFM, args, \"bffm_itemfeats\", train_df, val_query_df,\n",
        "                 val_df, load=load, separate_features=True,\n",
        "                 feature_fn=df2usersitemfeats({}))\n",
        "\n",
        "eval_fm(fm, \"bffm_itemfeats\", val_query_df, val_df, filter_user_tracks=True);"
      ],
      "execution_count": 0,
      "outputs": [
        {
          "output_type": "stream",
          "text": [
            "INFO:tensorflow:Restoring parameters from /drive/My Drive/models/30music/bffm_itemfeats.ckpt\n",
            "0.024000 hit rate\n",
            "0.095122 ndcg\n",
            "\n",
            "75.23229s fit time\n",
            "45.67021s trans time\n"
          ],
          "name": "stdout"
        }
      ]
    },
    {
      "cell_type": "code",
      "metadata": {
        "id": "y4nmj4Tuit-m",
        "colab_type": "code",
        "outputId": "29e6c346-4645-4a6d-b9c3-27ae3bbfad3a",
        "colab": {
          "base_uri": "https://localhost:8080/",
          "height": 125
        }
      },
      "source": [
        "args = FFMArgs(len(train_df), num_ctx_fields=5, num_item_fields=3,\n",
        "               num_dims=50, linear_reg=0.1, factors_reg=0.003, epochs=10,\n",
        "               batch_size=4096, lr=0.6)\n",
        "\n",
        "fm = fit_fm_args(TfBatchFFM, args, \"bffm_all\", train_df, val_query_df,\n",
        "                 val_df, load=load, separate_features=True,\n",
        "                 feature_fn=df2all({\n",
        "                     \"country\": 0.25,\n",
        "                     \"gender\": 0.5,\n",
        "                     \"b_age\": 0.25}))\n",
        "\n",
        "eval_fm(fm, \"bffm_all\", val_query_df, val_df, filter_user_tracks=True);"
      ],
      "execution_count": 0,
      "outputs": [
        {
          "output_type": "stream",
          "text": [
            "INFO:tensorflow:Restoring parameters from /drive/My Drive/models/30music/bffm_all.ckpt\n",
            "0.019000 hit rate\n",
            "0.095294 ndcg\n",
            "\n",
            "131.39163s fit time\n",
            "78.03614s trans time\n"
          ],
          "name": "stdout"
        }
      ]
    },
    {
      "cell_type": "code",
      "metadata": {
        "id": "Kfh1FbKUfEU9",
        "colab_type": "code",
        "outputId": "e7e261c8-887c-4a87-95a1-ab72bedcf626",
        "colab": {
          "base_uri": "https://localhost:8080/",
          "height": 181
        }
      },
      "source": [
        "args = FFMArgs(len(train_df), num_ctx_fields=5+3, num_item_fields=3,\n",
        "               num_dims=50, linear_reg=0.1, factors_reg=0.003, epochs=10,\n",
        "               batch_size=4096, lr=0.6)\n",
        "\n",
        "fm = fit_fm_args(TfBatchFFM, args, \"bffm_prevall\", train_df, val_query_df,\n",
        "                 val_df, load=load, separate_features=True,\n",
        "                 feature_fn=df2prevall({\n",
        "                     \"country\": 0.25,\n",
        "                     \"gender\": 0.5,\n",
        "                     \"b_age\": 0.25}))\n",
        "\n",
        "eval_fm(fm, \"bffm_prevall\", val_query_df, val_df, filter_user_tracks=True);"
      ],
      "execution_count": 0,
      "outputs": [
        {
          "output_type": "stream",
          "text": [
            "/usr/local/lib/python3.6/dist-packages/tensorflow_core/python/framework/indexed_slices.py:421: UserWarning: Converting sparse IndexedSlices to a dense Tensor with 127330800 elements. This may consume a large amount of memory.\n",
            "  num_elements)\n"
          ],
          "name": "stderr"
        },
        {
          "output_type": "stream",
          "text": [
            "INFO:tensorflow:Restoring parameters from /drive/My Drive/models/30music/bffm_prevall.ckpt\n",
            "0.000000 hit rate\n",
            "0.000368 ndcg\n",
            "\n",
            "196.83139s fit time\n",
            "103.28775s trans time\n"
          ],
          "name": "stdout"
        }
      ]
    },
    {
      "cell_type": "markdown",
      "metadata": {
        "id": "UZR5I5bO-wZs",
        "colab_type": "text"
      },
      "source": [
        "### Distributed factorization machines"
      ]
    },
    {
      "cell_type": "markdown",
      "metadata": {
        "id": "4IRRrXGHytVO",
        "colab_type": "text"
      },
      "source": [
        "We save the preprocessed data frame to CSV, so they can be loaded in Spark for the distributed factorization machine implementation."
      ]
    },
    {
      "cell_type": "code",
      "metadata": {
        "id": "R-ArHNYf_7MD",
        "colab_type": "code",
        "colab": {}
      },
      "source": [
        "train_df = train_df.drop(columns=[\"timestamp\", \"age\"])\n",
        "val_df = val_df.drop(columns=[\"timestamp\", \"age\"])\n",
        "val_query_df = val_query_df.drop(columns=[\"timestamp\", \"age\"])"
      ],
      "execution_count": 0,
      "outputs": []
    },
    {
      "cell_type": "code",
      "metadata": {
        "id": "sUVwEEqd-0c8",
        "colab_type": "code",
        "colab": {}
      },
      "source": [
        "val_queryseeds_df = get_query_seeds(val_query_df)\n",
        "val_queryctx_df = get_query_ctx(val_query_df)"
      ],
      "execution_count": 0,
      "outputs": []
    },
    {
      "cell_type": "code",
      "metadata": {
        "id": "ZbNrjQZC_DKm",
        "colab_type": "code",
        "colab": {}
      },
      "source": [
        "max_user_cols = [\"pid\", \"userid\", \"country\", \"gender\", \"b_age\"]\n",
        "max_item_cols = [\"traid\", \"artid\", \"albid\"]\n",
        "max_prev_item_cols = [\"prev_traid\", \"prev_artid\", \"prev_albid\"]\n",
        "\n",
        "max_df = train_df[max_user_cols + max_item_cols].max()\n",
        "for prev_col, col in zip(max_prev_item_cols, max_item_cols):\n",
        "  max_df[prev_col] = max_df[col]\n",
        "\n",
        "train_df = (train_df - 1) % max_df\n",
        "val_df = (val_df - 1) % max_df\n",
        "val_queryseeds_df = (val_queryseeds_df - 1) % max_df\n",
        "val_queryctx_df = (val_queryctx_df - 1) % max_df"
      ],
      "execution_count": 0,
      "outputs": []
    },
    {
      "cell_type": "code",
      "metadata": {
        "id": "xHwYkXNh_FR3",
        "colab_type": "code",
        "colab": {}
      },
      "source": [
        "train_df.to_csv(\"30Music-train.csv\")\n",
        "val_df.to_csv(\"30Music-val.csv\")\n",
        "val_queryseeds_df.to_csv(\"30Music-val-queryseeds.csv\")\n",
        "val_queryctx_df.to_csv(\"30Music-val-queryctx.csv\")"
      ],
      "execution_count": 0,
      "outputs": []
    },
    {
      "cell_type": "markdown",
      "metadata": {
        "id": "oDKpwy_nxiuG",
        "colab_type": "text"
      },
      "source": [
        "### Final"
      ]
    },
    {
      "cell_type": "code",
      "metadata": {
        "id": "iQNb5h7dxq8s",
        "colab_type": "code",
        "colab": {}
      },
      "source": [
        "train_df, test_df, test_query_df = last_track_split(df, as_val=False,\n",
        "                                                    n_test_users=1000)"
      ],
      "execution_count": 0,
      "outputs": []
    },
    {
      "cell_type": "code",
      "metadata": {
        "id": "rCTw2OXPxrcZ",
        "colab_type": "code",
        "outputId": "242a7905-4a8f-4979-cc61-28df5593c108",
        "colab": {
          "base_uri": "https://localhost:8080/",
          "height": 136
        }
      },
      "source": [
        "args = FMArgs(len(train_df), num_dims=150, batch_size=4096,\n",
        "              linear_reg=0.1, factors_reg=0.003, lr=0.6)\n",
        "\n",
        "fm = fit_fm_args(TfBatchFM, args, \"f_bfm\", train_df, test_query_df,\n",
        "                 test_df, load=load)\n",
        "\n",
        "eval_fm(fm, \"f_bfm\", test_query_df, test_df, filter_user_tracks=True,\n",
        "        with_hit_rates=True);"
      ],
      "execution_count": 0,
      "outputs": [
        {
          "output_type": "stream",
          "text": [
            "INFO:tensorflow:Restoring parameters from /drive/My Drive/models/30music/f_bfm.ckpt\n",
            "0.011000 hit rate\n",
            "0.069009 ndcg\n",
            "\n",
            "8450.57844s fit time\n",
            "42.70414s trans time\n"
          ],
          "name": "stdout"
        }
      ]
    },
    {
      "cell_type": "code",
      "metadata": {
        "id": "VbHr0QmBAebD",
        "colab_type": "code",
        "colab": {}
      },
      "source": [
        "train_prev_df = train_df[train_df[\"prev_traid\"] != 0]"
      ],
      "execution_count": 0,
      "outputs": []
    },
    {
      "cell_type": "code",
      "metadata": {
        "id": "HLMTtgMhx00W",
        "colab_type": "code",
        "outputId": "c9749a80-8943-4c4b-c128-67b6bf38bb43",
        "colab": {
          "base_uri": "https://localhost:8080/",
          "height": 136
        }
      },
      "source": [
        "args = FMArgs(len(train_prev_df), num_dims=150, batch_size=4096,\n",
        "              linear_reg=0.1, factors_reg=0.003, lr=0.6)\n",
        "\n",
        "fm = fit_fm_args(TfBatchFM, args, \"f_bfm_prevall\", train_prev_df, test_query_df,\n",
        "                 test_df, load=load, item_ctx_features=True,\n",
        "                 feature_fn=df2prevall({\n",
        "                     \"country\": 0.25,\n",
        "                     \"gender\": 0.5,\n",
        "                     \"b_age\": 0.25}))\n",
        "\n",
        "eval_fm(fm, \"f_bfm_prevall\", test_query_df, test_df, filter_user_tracks=True,\n",
        "        with_hit_rates=True);"
      ],
      "execution_count": 0,
      "outputs": [
        {
          "output_type": "stream",
          "text": [
            "INFO:tensorflow:Restoring parameters from /drive/My Drive/models/30music/f_bfm_prevall.ckpt\n",
            "0.026000 hit rate\n",
            "0.114410 ndcg\n",
            "\n",
            "9827.94408s fit time\n",
            "136.91317s trans time\n"
          ],
          "name": "stdout"
        }
      ]
    },
    {
      "cell_type": "code",
      "metadata": {
        "id": "BKTFmBOHQslH",
        "colab_type": "code",
        "outputId": "f3552fb8-0f16-4cf5-f157-5ee515803a07",
        "colab": {
          "base_uri": "https://localhost:8080/",
          "height": 350
        }
      },
      "source": [
        "def plot_final_hit_rates(n=500):\n",
        "  plt.figure(figsize=(9, 5))\n",
        "  plt.plot(pop_rank_hit_rates[:n], color=\"yellowgreen\")\n",
        "  plt.plot(sagh_hit_rates[:n], color=\"lime\")\n",
        "  plt.plot(knn150_hit_rates[:n], color=\"darkgreen\")\n",
        "  plt.plot(fm_evals[\"f_bfm\"][\"hit_rates\"], color=\"orange\")\n",
        "  plt.plot(fm_evals[\"f_bfm_prevall\"][\"hit_rates\"], color=\"red\")\n",
        "\n",
        "  yellowgreen_patch = mpatches.Patch(color=\"yellowgreen\", label=\"{:.6f}  Pop Rank\".format(\n",
        "      pop_rank_ndcg))\n",
        "  green_patch = mpatches.Patch(color=\"lime\", label=\"{:.6f}  SAGH\".format(\n",
        "      sagh_ndcg))\n",
        "  dgreen_patch = mpatches.Patch(color=\"darkgreen\", label=\"{:.6f}  kNN, k 150\".format(\n",
        "      knn150_ndcg))\n",
        "  orange_patch = mpatches.Patch(color=\"orange\", label=\"{:.6f}  FM\".format(\n",
        "      fm_evals[\"f_bfm\"][\"ndcg\"]))\n",
        "  red_patch = mpatches.Patch(color=\"red\", label=\"{:.6f}  FM, trans prev + all\".format(\n",
        "      fm_evals[\"f_bfm_prevall\"][\"ndcg\"])) \n",
        "  patches = [red_patch, dgreen_patch, orange_patch, green_patch, yellowgreen_patch]\n",
        "  plt.legend(handles=patches)\n",
        "\n",
        "  plt.ylabel(\"hit rate\")\n",
        "  plt.xlabel(\"recommendations\")\n",
        "  plt.title(\"30Music\")\n",
        "  \n",
        "plot_final_hit_rates();"
      ],
      "execution_count": 0,
      "outputs": [
        {
          "output_type": "display_data",
          "data": {
            "image/png": "[encoded data removed]",
            "text/plain": [
              "<Figure size 648x360 with 1 Axes>"
            ]
          },
          "metadata": {
            "tags": []
          }
        }
      ]
    },
    {
      "cell_type": "markdown",
      "metadata": {
        "id": "QhxfTKTQKHLX",
        "colab_type": "text"
      },
      "source": [
        "## Cold start evaluation"
      ]
    },
    {
      "cell_type": "markdown",
      "metadata": {
        "id": "BH6Ynuh_KH5E",
        "colab_type": "text"
      },
      "source": [
        "### Final"
      ]
    },
    {
      "cell_type": "code",
      "metadata": {
        "id": "PI6RfTmTKUpa",
        "colab_type": "code",
        "colab": {}
      },
      "source": [
        "train_df, test_df, test_query_df = users_split(df, 1000, n_seed_tracks=5)"
      ],
      "execution_count": 0,
      "outputs": []
    },
    {
      "cell_type": "code",
      "metadata": {
        "id": "imL0WXihKa6F",
        "colab_type": "code",
        "outputId": "4df7812d-bd52-4545-d0d7-39eec8c0d747",
        "colab": {
          "base_uri": "https://localhost:8080/",
          "height": 303
        }
      },
      "source": [
        "args = FMArgs(len(train_df), num_dims=150, batch_size=4096,\n",
        "              linear_reg=0.1, factors_reg=0.003, lr=0.6)\n",
        "\n",
        "fm = fit_fm_args(TfBatchFM, args, \"cf_bfm\", train_df, test_query_df,\n",
        "                 test_df, load=load,\n",
        "                 feature_fn=df2encodedusersitems())\n",
        "\n",
        "eval_fm(fm, \"cf_bfm\", test_query_df, test_df, filter_user_tracks=True,\n",
        "        with_hit_rates=True);"
      ],
      "execution_count": 0,
      "outputs": [
        {
          "output_type": "stream",
          "text": [
            "INFO:tensorflow:Restoring parameters from /drive/My Drive/models/30music/cf_bfm.ckpt\n"
          ],
          "name": "stdout"
        },
        {
          "output_type": "stream",
          "text": [
            "/usr/local/lib/python3.6/dist-packages/ipykernel_launcher.py:41: SettingWithCopyWarning: \n",
            "A value is trying to be set on a copy of a slice from a DataFrame.\n",
            "Try using .loc[row_indexer,col_indexer] = value instead\n",
            "\n",
            "See the caveats in the documentation: http://pandas.pydata.org/pandas-docs/stable/user_guide/indexing.html#returning-a-view-versus-a-copy\n",
            "/usr/local/lib/python3.6/dist-packages/ipykernel_launcher.py:67: SettingWithCopyWarning: \n",
            "A value is trying to be set on a copy of a slice from a DataFrame.\n",
            "Try using .loc[row_indexer,col_indexer] = value instead\n",
            "\n",
            "See the caveats in the documentation: http://pandas.pydata.org/pandas-docs/stable/user_guide/indexing.html#returning-a-view-versus-a-copy\n"
          ],
          "name": "stderr"
        },
        {
          "output_type": "stream",
          "text": [
            "0.005548 hit rate\n",
            "0.139864 ndcg\n",
            "\n",
            "32072.09113s fit time\n",
            "71.83585s trans time\n"
          ],
          "name": "stdout"
        }
      ]
    },
    {
      "cell_type": "code",
      "metadata": {
        "id": "JmQDTfMGmBVc",
        "colab_type": "code",
        "colab": {}
      },
      "source": [
        "train_prev_df = train_df[train_df[\"prev_traid\"] != 0]"
      ],
      "execution_count": 0,
      "outputs": []
    },
    {
      "cell_type": "code",
      "metadata": {
        "id": "AE1UAczp9oQQ",
        "colab_type": "code",
        "outputId": "a8052c2d-5abc-48d6-a0a4-633e28f49fe9",
        "colab": {
          "base_uri": "https://localhost:8080/",
          "height": 403
        }
      },
      "source": [
        "args = FMArgs(len(train_prev_df), num_dims=150, batch_size=4096,\n",
        "              linear_reg=0.1, factors_reg=0.003, lr=0.6, epochs=1000)\n",
        "\n",
        "args_epochs = [500, 750, 900]\n",
        "args_names = [\"cf_bfm_prevall_e{}\".format(args_epoch) for args_epoch\n",
        "              in args_epochs]\n",
        "\n",
        "fms = fit_fm_args_epochs(TfBatchFM, args, args_names, args_epochs,\n",
        "                         train_prev_df, test_query_df, test_df, load=load,\n",
        "                         item_ctx_features=True,\n",
        "                         feature_fn=df2encodedusersprevall({\n",
        "                             \"country\": 0.25,\n",
        "                             \"gender\": 0.5,\n",
        "                             \"b_age\": 0.25\n",
        "                             }))\n",
        "\n",
        "for fm, args_name in zip(fms, args_names):\n",
        "  eval_fm(fm, args_name, test_query_df, test_df, filter_user_tracks=True,\n",
        "          with_hit_rates=True)"
      ],
      "execution_count": 0,
      "outputs": [
        {
          "output_type": "stream",
          "text": [
            "INFO:tensorflow:Restoring parameters from /drive/My Drive/models/30music/cf_bfm_prevall_e500.ckpt\n"
          ],
          "name": "stdout"
        },
        {
          "output_type": "stream",
          "text": [
            "/usr/local/lib/python3.6/dist-packages/ipykernel_launcher.py:41: SettingWithCopyWarning: \n",
            "A value is trying to be set on a copy of a slice from a DataFrame.\n",
            "Try using .loc[row_indexer,col_indexer] = value instead\n",
            "\n",
            "See the caveats in the documentation: http://pandas.pydata.org/pandas-docs/stable/user_guide/indexing.html#returning-a-view-versus-a-copy\n",
            "/usr/local/lib/python3.6/dist-packages/ipykernel_launcher.py:67: SettingWithCopyWarning: \n",
            "A value is trying to be set on a copy of a slice from a DataFrame.\n",
            "Try using .loc[row_indexer,col_indexer] = value instead\n",
            "\n",
            "See the caveats in the documentation: http://pandas.pydata.org/pandas-docs/stable/user_guide/indexing.html#returning-a-view-versus-a-copy\n"
          ],
          "name": "stderr"
        },
        {
          "output_type": "stream",
          "text": [
            "0.012289 hit rate\n",
            "0.164382 ndcg\n",
            "152.09054s trans time\n",
            "INFO:tensorflow:Restoring parameters from /drive/My Drive/models/30music/cf_bfm_prevall_e750.ckpt\n",
            "0.012304 hit rate\n",
            "0.164639 ndcg\n",
            "154.55485s trans time\n",
            "INFO:tensorflow:Restoring parameters from /drive/My Drive/models/30music/cf_bfm_prevall_e900.ckpt\n",
            "0.011777 hit rate\n",
            "0.164886 ndcg\n",
            "154.31093s trans time\n"
          ],
          "name": "stdout"
        }
      ]
    },
    {
      "cell_type": "code",
      "metadata": {
        "id": "7uHjVtoVltJ6",
        "colab_type": "code",
        "outputId": "0fdc87c0-986a-4eb3-e7b7-867d91699da9",
        "colab": {
          "base_uri": "https://localhost:8080/",
          "height": 350
        }
      },
      "source": [
        "def plot_final_hit_rates(n=500):\n",
        "  plt.figure(figsize=(9, 5))\n",
        "  plt.plot(c_pop_rank_hit_rates[:n], color=\"yellowgreen\")\n",
        "  plt.plot(c_sagh_hit_rates[:n], color=\"lime\")\n",
        "  plt.plot(c_knn150_hit_rates[:n], color=\"darkgreen\")\n",
        "  plt.plot(fm_evals[\"cf_bfm\"][\"hit_rates\"], color=\"orange\")\n",
        "  plt.plot(fm_evals[\"cf_bfm_prevall_e900\"][\"hit_rates\"], color=\"red\")\n",
        "\n",
        "  yellowgreen_patch = mpatches.Patch(color=\"yellowgreen\", label=\"{:.6f}  Pop Rank\".format(\n",
        "      c_pop_rank_ndcg))\n",
        "  green_patch = mpatches.Patch(color=\"lime\", label=\"{:.6f}  SAGH\".format(\n",
        "      c_sagh_ndcg))\n",
        "  dgreen_patch = mpatches.Patch(color=\"darkgreen\", label=\"{:.6f}  kNN, k 150\".format(\n",
        "      c_knn150_ndcg))\n",
        "  orange_patch = mpatches.Patch(color=\"orange\", label=\"{:.6f}  FM\".format(\n",
        "      fm_evals[\"cf_bfm\"][\"ndcg\"]))\n",
        "  red_patch = mpatches.Patch(color=\"red\", label=\"{:.6f}  FM, trans prev + all\".format(\n",
        "      fm_evals[\"cf_bfm_prevall_e900\"][\"ndcg\"])) \n",
        "  patches = [red_patch, orange_patch,\n",
        "             dgreen_patch, green_patch, yellowgreen_patch]\n",
        "  plt.legend(handles=patches)\n",
        "\n",
        "  plt.ylabel(\"hit rate\")\n",
        "  plt.xlabel(\"recommendations\")\n",
        "  plt.title(\"30Music\")\n",
        "  \n",
        "plot_final_hit_rates();"
      ],
      "execution_count": 0,
      "outputs": [
        {
          "output_type": "display_data",
          "data": {
            "image/png": "[encoded data removed]",
            "text/plain": [
              "<Figure size 648x360 with 1 Axes>"
            ]
          },
          "metadata": {
            "tags": []
          }
        }
      ]
    }
  ]
}