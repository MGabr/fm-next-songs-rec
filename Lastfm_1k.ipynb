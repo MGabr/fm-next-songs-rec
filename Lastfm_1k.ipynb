{
  "nbformat": 4,
  "nbformat_minor": 0,
  "metadata": {
    "colab": {
      "name": "Lastfm-1k.ipynb",
      "provenance": [],
      "collapsed_sections": [
        "9p9w-fM3YyOG",
        "KTXNd5fCQOjq"
      ],
      "toc_visible": true,
      "machine_shape": "hm",
      "include_colab_link": true
    },
    "kernelspec": {
      "name": "python3",
      "display_name": "Python 3"
    },
    "accelerator": "GPU"
  },
  "cells": [
    {
      "cell_type": "markdown",
      "metadata": {
        "id": "view-in-github",
        "colab_type": "text"
      },
      "source": [
        "<a href=\"https://colab.research.google.com/github/MGabr/fm-next-songs-rec/blob/master/Lastfm_1k.ipynb\" target=\"_parent\"><img src=\"https://colab.research.google.com/assets/colab-badge.svg\" alt=\"Open In Colab\"/></a>"
      ]
    },
    {
      "cell_type": "markdown",
      "metadata": {
        "id": "v4OTVbiTPDpC",
        "colab_type": "text"
      },
      "source": [
        "<font size=\"6\">**Lastfm-1k**</font>\n",
        "\n",
        "This evaluation is done with the lastfm-1k dataset which can be obtained at http://ocelma.net/MusicRecommendationDataset/lastfm-1K.html.\n",
        "\n",
        "It contains the full listening histories of nearly 1k users until May, 5th 2009."
      ]
    },
    {
      "cell_type": "markdown",
      "metadata": {
        "id": "-HheQVW9dLt9",
        "colab_type": "text"
      },
      "source": [
        "First we load all needed libraries here."
      ]
    },
    {
      "cell_type": "code",
      "metadata": {
        "id": "VVDrRmoDZyuI",
        "colab_type": "code",
        "colab": {}
      },
      "source": [
        "%tensorflow_version 1.x"
      ],
      "execution_count": 0,
      "outputs": []
    },
    {
      "cell_type": "code",
      "metadata": {
        "id": "oxEroFyEB8TR",
        "colab_type": "code",
        "colab": {}
      },
      "source": [
        "import warnings\n",
        "warnings.filterwarnings(\"ignore\", category=DeprecationWarning) \n",
        "\n",
        "import csv\n",
        "import itertools\n",
        "import json\n",
        "import os\n",
        "import time\n",
        "import pickle\n",
        "\n",
        "import pandas as pd\n",
        "import matplotlib.pyplot as plt\n",
        "import matplotlib.patches as mpatches\n",
        "import numpy as np\n",
        "import numba as nb\n",
        "import scipy.sparse as sp\n",
        "import tensorflow as tf\n",
        "import tensorflow.sparse as tfs\n",
        "\n",
        "# disable deprecation warnings\n",
        "if type(tf.contrib) != type(tf): tf.contrib._warning = None\n",
        "\n",
        "import logging\n",
        "import absl.logging\n",
        "logging.root.removeHandler(absl.logging._absl_handler)\n",
        "absl.logging._warn_preinit_stderr = False\n",
        "\n",
        "\n",
        "from google.colab import drive, files\n",
        "from math import ceil, log2, floor, sqrt\n",
        "from scipy.sparse import csr_matrix, coo_matrix\n",
        "from sklearn.feature_extraction.text import TfidfTransformer\n",
        "from sklearn.metrics.pairwise import cosine_similarity\n",
        "from sklearn.preprocessing import normalize\n",
        "from sklearn.utils import shuffle\n",
        "from statistics import mean\n",
        "from timeit import timeit"
      ],
      "execution_count": 0,
      "outputs": []
    },
    {
      "cell_type": "code",
      "metadata": {
        "id": "UcdcpgCE5xy4",
        "colab_type": "code",
        "outputId": "facd536e-1442-46ed-fc79-f61992e0d55f",
        "colab": {
          "base_uri": "https://localhost:8080/",
          "height": 35
        }
      },
      "source": [
        "nb.__version__"
      ],
      "execution_count": 3,
      "outputs": [
        {
          "output_type": "execute_result",
          "data": {
            "text/plain": [
              "'0.47.0'"
            ]
          },
          "metadata": {
            "tags": []
          },
          "execution_count": 3
        }
      ]
    },
    {
      "cell_type": "markdown",
      "metadata": {
        "id": "zGEiM7kLP-Iw",
        "colab_type": "text"
      },
      "source": [
        "# Data loading and preprocessing"
      ]
    },
    {
      "cell_type": "markdown",
      "metadata": {
        "id": "d1EKmVe4ldQ_",
        "colab_type": "text"
      },
      "source": [
        "If the notebook is executed in google colaboratory, the compressed data set should be stored in the directory *datasets* on google drive. This google drive directory can then be mounted and the dataset decompressed. For mounting, access to google drive has to be granted and a received authorization code entered."
      ]
    },
    {
      "cell_type": "code",
      "metadata": {
        "id": "I6cxNLDWh4lh",
        "colab_type": "code",
        "outputId": "45a6c265-b32e-4f92-b2ba-e08aa34304a4",
        "colab": {
          "base_uri": "https://localhost:8080/",
          "height": 271
        }
      },
      "source": [
        "os.chdir(\"/\")\n",
        "drive.mount(\"/drive\", force_remount=True)\n",
        "\n",
        "!ls \"/drive/My Drive/datasets\"\n",
        "!tar -xvf \"/drive/My Drive/datasets/lastfm-dataset-1K.tar.gz\"\n",
        "\n",
        "os.chdir(\"/drive/My Drive/\")\n",
        "if not os.path.exists(\"models\"):\n",
        "  os.mkdir(\"models\")\n",
        "if not os.path.exists(\"models/lastfm-1k\"):\n",
        "  os.mkdir(\"models/lastfm-1k\")\n",
        "os.chdir(\"/\")"
      ],
      "execution_count": 4,
      "outputs": [
        {
          "output_type": "stream",
          "text": [
            "Go to this URL in a browser: https://accounts.google.com/o/oauth2/auth?client_id=947318989803-6bn6qk8qdgf4n4g3pfee6491hc0brc4i.apps.googleusercontent.com&redirect_uri=urn%3aietf%3awg%3aoauth%3a2.0%3aoob&response_type=code&scope=email%20https%3a%2f%2fwww.googleapis.com%2fauth%2fdocs.test%20https%3a%2f%2fwww.googleapis.com%2fauth%2fdrive%20https%3a%2f%2fwww.googleapis.com%2fauth%2fdrive.photos.readonly%20https%3a%2f%2fwww.googleapis.com%2fauth%2fpeopleapi.readonly\n",
            "\n",
            "Enter your authorization code:\n",
            "··········\n",
            "Mounted at /drive\n",
            "aotm2011_playlists.json.gz    msd-MASD-styleAssignment.cls\n",
            "lastfm-dataset-1K.tar.gz      msd_summary_file.h5\n",
            "msd_lastfm_map.cls.zip\t      msd_tagtraum_cd2c.cls.zip\n",
            "msd-MAGD-genreAssignment.cls  msd_tagtraum_cd2.cls.zip\n",
            "lastfm-dataset-1K/\n",
            "lastfm-dataset-1K/userid-profile.tsv\n",
            "lastfm-dataset-1K/README.txt\n",
            "lastfm-dataset-1K/userid-timestamp-artid-artname-traid-traname.tsv\n"
          ],
          "name": "stdout"
        }
      ]
    },
    {
      "cell_type": "code",
      "metadata": {
        "id": "faJd_4K3s3zL",
        "colab_type": "code",
        "colab": {}
      },
      "source": [
        "listenings_filename = \"lastfm-dataset-1K/userid-timestamp-artid-artname-traid-traname.tsv\"\n",
        "users_filename = \"lastfm-dataset-1K/userid-profile.tsv\"\n",
        "models_dirname = \"/drive/My Drive/models/lastfm-1k/\""
      ],
      "execution_count": 0,
      "outputs": []
    },
    {
      "cell_type": "markdown",
      "metadata": {
        "id": "KrbMMLSLdbjS",
        "colab_type": "text"
      },
      "source": [
        "First, we load the data."
      ]
    },
    {
      "cell_type": "code",
      "metadata": {
        "id": "IdHM3WtSSRi0",
        "colab_type": "code",
        "outputId": "cd38d2c8-16ee-44ee-d8c3-3d07f2c49e9f",
        "colab": {
          "base_uri": "https://localhost:8080/",
          "height": 204
        }
      },
      "source": [
        "header_names = [\"pid\", \"timestamp\", \"artid\", \"artname\", \"traid\", \"traname\"]\n",
        "header_dtypes = {header_name : \"str\" for header_name in header_names}\n",
        "df = pd.read_csv(listenings_filename, sep='\\t', quoting=csv.QUOTE_NONE,\n",
        "                 header=None, names=header_names, dtype=header_dtypes,\n",
        "                 parse_dates=True)\n",
        "df.head()"
      ],
      "execution_count": 6,
      "outputs": [
        {
          "output_type": "execute_result",
          "data": {
            "text/html": [
              "<div>\n",
              "<style scoped>\n",
              "    .dataframe tbody tr th:only-of-type {\n",
              "        vertical-align: middle;\n",
              "    }\n",
              "\n",
              "    .dataframe tbody tr th {\n",
              "        vertical-align: top;\n",
              "    }\n",
              "\n",
              "    .dataframe thead th {\n",
              "        text-align: right;\n",
              "    }\n",
              "</style>\n",
              "<table border=\"1\" class=\"dataframe\">\n",
              "  <thead>\n",
              "    <tr style=\"text-align: right;\">\n",
              "      <th></th>\n",
              "      <th>pid</th>\n",
              "      <th>timestamp</th>\n",
              "      <th>artid</th>\n",
              "      <th>artname</th>\n",
              "      <th>traid</th>\n",
              "      <th>traname</th>\n",
              "    </tr>\n",
              "  </thead>\n",
              "  <tbody>\n",
              "    <tr>\n",
              "      <th>0</th>\n",
              "      <td>user_000001</td>\n",
              "      <td>2009-05-04T23:08:57Z</td>\n",
              "      <td>f1b1cf71-bd35-4e99-8624-24a6e15f133a</td>\n",
              "      <td>Deep Dish</td>\n",
              "      <td>NaN</td>\n",
              "      <td>Fuck Me Im Famous (Pacha Ibiza)-09-28-2007</td>\n",
              "    </tr>\n",
              "    <tr>\n",
              "      <th>1</th>\n",
              "      <td>user_000001</td>\n",
              "      <td>2009-05-04T13:54:10Z</td>\n",
              "      <td>a7f7df4a-77d8-4f12-8acd-5c60c93f4de8</td>\n",
              "      <td>坂本龍一</td>\n",
              "      <td>NaN</td>\n",
              "      <td>Composition 0919 (Live_2009_4_15)</td>\n",
              "    </tr>\n",
              "    <tr>\n",
              "      <th>2</th>\n",
              "      <td>user_000001</td>\n",
              "      <td>2009-05-04T13:52:04Z</td>\n",
              "      <td>a7f7df4a-77d8-4f12-8acd-5c60c93f4de8</td>\n",
              "      <td>坂本龍一</td>\n",
              "      <td>NaN</td>\n",
              "      <td>Mc2 (Live_2009_4_15)</td>\n",
              "    </tr>\n",
              "    <tr>\n",
              "      <th>3</th>\n",
              "      <td>user_000001</td>\n",
              "      <td>2009-05-04T13:42:52Z</td>\n",
              "      <td>a7f7df4a-77d8-4f12-8acd-5c60c93f4de8</td>\n",
              "      <td>坂本龍一</td>\n",
              "      <td>NaN</td>\n",
              "      <td>Hibari (Live_2009_4_15)</td>\n",
              "    </tr>\n",
              "    <tr>\n",
              "      <th>4</th>\n",
              "      <td>user_000001</td>\n",
              "      <td>2009-05-04T13:42:11Z</td>\n",
              "      <td>a7f7df4a-77d8-4f12-8acd-5c60c93f4de8</td>\n",
              "      <td>坂本龍一</td>\n",
              "      <td>NaN</td>\n",
              "      <td>Mc1 (Live_2009_4_15)</td>\n",
              "    </tr>\n",
              "  </tbody>\n",
              "</table>\n",
              "</div>"
            ],
            "text/plain": [
              "           pid  ...                                     traname\n",
              "0  user_000001  ...  Fuck Me Im Famous (Pacha Ibiza)-09-28-2007\n",
              "1  user_000001  ...           Composition 0919 (Live_2009_4_15)\n",
              "2  user_000001  ...                        Mc2 (Live_2009_4_15)\n",
              "3  user_000001  ...                     Hibari (Live_2009_4_15)\n",
              "4  user_000001  ...                        Mc1 (Live_2009_4_15)\n",
              "\n",
              "[5 rows x 6 columns]"
            ]
          },
          "metadata": {
            "tags": []
          },
          "execution_count": 6
        }
      ]
    },
    {
      "cell_type": "markdown",
      "metadata": {
        "id": "PFmv9eYrPBOK",
        "colab_type": "text"
      },
      "source": [
        "We see that the first track is the latest listened track. Therefore we reverse the order of the data set."
      ]
    },
    {
      "cell_type": "code",
      "metadata": {
        "id": "IKiL2mDJPmuL",
        "colab_type": "code",
        "outputId": "2cf15ccc-4f05-457c-e9a4-2872e95df944",
        "colab": {
          "base_uri": "https://localhost:8080/",
          "height": 289
        }
      },
      "source": [
        "df = df.reindex(index=df.index[::-1])\n",
        "\n",
        "df.head()"
      ],
      "execution_count": 7,
      "outputs": [
        {
          "output_type": "execute_result",
          "data": {
            "text/html": [
              "<div>\n",
              "<style scoped>\n",
              "    .dataframe tbody tr th:only-of-type {\n",
              "        vertical-align: middle;\n",
              "    }\n",
              "\n",
              "    .dataframe tbody tr th {\n",
              "        vertical-align: top;\n",
              "    }\n",
              "\n",
              "    .dataframe thead th {\n",
              "        text-align: right;\n",
              "    }\n",
              "</style>\n",
              "<table border=\"1\" class=\"dataframe\">\n",
              "  <thead>\n",
              "    <tr style=\"text-align: right;\">\n",
              "      <th></th>\n",
              "      <th>pid</th>\n",
              "      <th>timestamp</th>\n",
              "      <th>artid</th>\n",
              "      <th>artname</th>\n",
              "      <th>traid</th>\n",
              "      <th>traname</th>\n",
              "    </tr>\n",
              "  </thead>\n",
              "  <tbody>\n",
              "    <tr>\n",
              "      <th>19150867</th>\n",
              "      <td>user_001000</td>\n",
              "      <td>2008-01-27T21:43:14Z</td>\n",
              "      <td>9e53f84d-ef44-4c16-9677-5fd4d78cbd7d</td>\n",
              "      <td>Wilco</td>\n",
              "      <td>3acc99bc-a349-420f-ad28-7095eb3533c9</td>\n",
              "      <td>Impossible Germany</td>\n",
              "    </tr>\n",
              "    <tr>\n",
              "      <th>19150866</th>\n",
              "      <td>user_001000</td>\n",
              "      <td>2008-01-27T21:49:12Z</td>\n",
              "      <td>9e53f84d-ef44-4c16-9677-5fd4d78cbd7d</td>\n",
              "      <td>Wilco</td>\n",
              "      <td>5ac4386f-6146-4389-a762-4b43f362d2c8</td>\n",
              "      <td>Sky Blue Sky</td>\n",
              "    </tr>\n",
              "    <tr>\n",
              "      <th>19150865</th>\n",
              "      <td>user_001000</td>\n",
              "      <td>2008-01-27T21:52:36Z</td>\n",
              "      <td>9e53f84d-ef44-4c16-9677-5fd4d78cbd7d</td>\n",
              "      <td>Wilco</td>\n",
              "      <td>93d044e6-1bbb-46a6-ac8e-283382a89e6f</td>\n",
              "      <td>Side With The Seeds</td>\n",
              "    </tr>\n",
              "    <tr>\n",
              "      <th>19150864</th>\n",
              "      <td>user_001000</td>\n",
              "      <td>2008-01-27T21:56:52Z</td>\n",
              "      <td>9e53f84d-ef44-4c16-9677-5fd4d78cbd7d</td>\n",
              "      <td>Wilco</td>\n",
              "      <td>3e92e447-9e1f-440d-bc00-6734469880c5</td>\n",
              "      <td>Shake It Off</td>\n",
              "    </tr>\n",
              "    <tr>\n",
              "      <th>19150863</th>\n",
              "      <td>user_001000</td>\n",
              "      <td>2008-01-27T22:02:35Z</td>\n",
              "      <td>9e53f84d-ef44-4c16-9677-5fd4d78cbd7d</td>\n",
              "      <td>Wilco</td>\n",
              "      <td>a490cabc-1e5c-4807-86c7-740c31a50009</td>\n",
              "      <td>Please Be Patient With Me</td>\n",
              "    </tr>\n",
              "  </tbody>\n",
              "</table>\n",
              "</div>"
            ],
            "text/plain": [
              "                  pid  ...                    traname\n",
              "19150867  user_001000  ...         Impossible Germany\n",
              "19150866  user_001000  ...               Sky Blue Sky\n",
              "19150865  user_001000  ...        Side With The Seeds\n",
              "19150864  user_001000  ...               Shake It Off\n",
              "19150863  user_001000  ...  Please Be Patient With Me\n",
              "\n",
              "[5 rows x 6 columns]"
            ]
          },
          "metadata": {
            "tags": []
          },
          "execution_count": 7
        }
      ]
    },
    {
      "cell_type": "markdown",
      "metadata": {
        "id": "RM-vJ99duZF-",
        "colab_type": "text"
      },
      "source": [
        "As first elementary preprocessing, we remove all listenings without an musicbrainz track id."
      ]
    },
    {
      "cell_type": "code",
      "metadata": {
        "id": "gwnutjzUmc0f",
        "colab_type": "code",
        "outputId": "9578c5ea-c38b-4f84-aeec-1dd859d273f6",
        "colab": {
          "base_uri": "https://localhost:8080/",
          "height": 35
        }
      },
      "source": [
        "num_listens = len(df)\n",
        "df = df[~df[\"traid\"].isnull()]\n",
        "num_rm_mbid = num_listens - len(df)\n",
        "print(\"removed {:,} listenings without musicbrainz track id\".format(\n",
        "    num_rm_mbid))"
      ],
      "execution_count": 8,
      "outputs": [
        {
          "output_type": "stream",
          "text": [
            "removed 2,168,588 listenings without musicbrainz track id\n"
          ],
          "name": "stdout"
        }
      ]
    },
    {
      "cell_type": "markdown",
      "metadata": {
        "id": "BuGt-2P9lD_Y",
        "colab_type": "text"
      },
      "source": [
        "After this, we can view statistics of the data set."
      ]
    },
    {
      "cell_type": "code",
      "metadata": {
        "id": "D1rmchabSjhx",
        "colab_type": "code",
        "outputId": "402234d1-0a83-4274-e686-c88dda2c0c6f",
        "colab": {
          "base_uri": "https://localhost:8080/",
          "height": 89
        }
      },
      "source": [
        "def get_statistics(df):\n",
        "  num_listens = len(df)\n",
        "  num_users = df[\"pid\"].nunique()\n",
        "  num_tracks = df[\"traid\"].nunique()\n",
        "  num_artists = df[\"artid\"].nunique()\n",
        "  return num_listens, num_users, num_tracks, num_artists\n",
        "\n",
        "\n",
        "def print_statistics(df):\n",
        "  print(\"{:,} listenings\\n{:,} users\\n{:,} tracks\\n{:,} artists\"\n",
        "        .format(*get_statistics(df)))\n",
        "\n",
        "print_statistics(df)"
      ],
      "execution_count": 9,
      "outputs": [
        {
          "output_type": "stream",
          "text": [
            "16,982,280 listenings\n",
            "992 users\n",
            "961,416 tracks\n",
            "83,982 artists\n"
          ],
          "name": "stdout"
        }
      ]
    },
    {
      "cell_type": "code",
      "metadata": {
        "id": "0GOL48LF0ToV",
        "colab_type": "code",
        "outputId": "50745fb4-d8bf-4c8b-b108-62f28c080ffe",
        "colab": {
          "base_uri": "https://localhost:8080/",
          "height": 295
        }
      },
      "source": [
        "track_listens_df = df[\"traid\"].value_counts()\n",
        "track_listens_df.hist(bins=range(0, 100))\n",
        "plt.ylabel(\"Number of tracks\")\n",
        "plt.xlabel(\"Number of listenings of the tracks\")\n",
        "plt.title(\"Listenings per track\");"
      ],
      "execution_count": 10,
      "outputs": [
        {
          "output_type": "display_data",
          "data": {
            "image/png": "[encoded data removed]",
            "text/plain": [
              "<Figure size 432x288 with 1 Axes>"
            ]
          },
          "metadata": {
            "tags": []
          }
        }
      ]
    },
    {
      "cell_type": "code",
      "metadata": {
        "id": "dXmDkZlIiHGd",
        "colab_type": "code",
        "outputId": "7a6b40aa-402f-40ee-96b6-51ce9dc037d7",
        "colab": {
          "base_uri": "https://localhost:8080/",
          "height": 295
        }
      },
      "source": [
        "track_users_df = df[[\"pid\", \"traid\"]].drop_duplicates()[\"traid\"].value_counts()\n",
        "track_users_df.hist(bins=range(0, 50))\n",
        "plt.ylabel(\"Number of tracks\")\n",
        "plt.xlabel(\"Number of users listening to the tracks\")\n",
        "plt.title(\"Users per track\");"
      ],
      "execution_count": 11,
      "outputs": [
        {
          "output_type": "display_data",
          "data": {
            "image/png": "[encoded data removed]",
            "text/plain": [
              "<Figure size 432x288 with 1 Axes>"
            ]
          },
          "metadata": {
            "tags": []
          }
        }
      ]
    },
    {
      "cell_type": "code",
      "metadata": {
        "id": "RKq5lRRJDo3X",
        "colab_type": "code",
        "outputId": "65d92016-f728-4df4-9338-28f32d659a37",
        "colab": {
          "base_uri": "https://localhost:8080/",
          "height": 295
        }
      },
      "source": [
        "user_tracks_df = df[[\"pid\", \"traid\"]].drop_duplicates()[\"pid\"].value_counts()\n",
        "user_tracks_df.hist(bins=100)\n",
        "plt.ylabel(\"Number of users\")\n",
        "plt.xlabel(\"Number of tracks listened to by the users\")\n",
        "plt.title(\"Tracks per user\");"
      ],
      "execution_count": 12,
      "outputs": [
        {
          "output_type": "display_data",
          "data": {
            "image/png": "[encoded data removed]",
            "text/plain": [
              "<Figure size 432x288 with 1 Axes>"
            ]
          },
          "metadata": {
            "tags": []
          }
        }
      ]
    },
    {
      "cell_type": "markdown",
      "metadata": {
        "id": "YuzjY_ko8Dfd",
        "colab_type": "text"
      },
      "source": [
        "We can see that many tracks occur only one to a few times in the data set and that the majority of tracks occurs are listened to only by one user.\n",
        "\n",
        "As minimal measure, we remove all tracks which are listened to by only one user and remove all users which have less than three track listenings."
      ]
    },
    {
      "cell_type": "code",
      "metadata": {
        "id": "fbEpXwqU31g8",
        "colab_type": "code",
        "outputId": "62c1f4f5-ab18-466d-eac8-ed972fb95072",
        "colab": {
          "base_uri": "https://localhost:8080/",
          "height": 143
        }
      },
      "source": [
        "min_track_users = 2\n",
        "min_user_listens = 3\n",
        "\n",
        "rm_tracks_idx = track_users_df[track_users_df < min_track_users].index\n",
        "df = df[~df[\"traid\"].isin(rm_tracks_idx)]\n",
        "\n",
        "num_rm_tracks = rm_tracks_idx.size\n",
        "print(\"removed {:,} tracks which were listened to by less than {} users\"\n",
        "      .format(num_rm_tracks, min_track_users))\n",
        "\n",
        "user_listens_df = df[\"pid\"].value_counts()\n",
        "rm_users_idx = user_listens_df[user_listens_df < min_user_listens].index\n",
        "df = df[~df[\"pid\"].isin(rm_users_idx)]\n",
        "\n",
        "num_rm_users = rm_users_idx.size\n",
        "print(\"removed {:,} users which had less than {} listenings\\n\"\n",
        "      .format(num_rm_users, min_user_listens))\n",
        "\n",
        "print_statistics(df)"
      ],
      "execution_count": 13,
      "outputs": [
        {
          "output_type": "stream",
          "text": [
            "removed 502,621 tracks which were listened to by less than 2 users\n",
            "removed 2 users which had less than 3 listenings\n",
            "\n",
            "15,316,858 listenings\n",
            "990 users\n",
            "458,795 tracks\n",
            "39,137 artists\n"
          ],
          "name": "stdout"
        }
      ]
    },
    {
      "cell_type": "markdown",
      "metadata": {
        "id": "TltrTyhupX7m",
        "colab_type": "text"
      },
      "source": [
        "We can now plot the track listenings and track users histograms again and see the significant improvement."
      ]
    },
    {
      "cell_type": "code",
      "metadata": {
        "id": "Iru9qm7KpI9-",
        "colab_type": "code",
        "outputId": "b40685d7-a206-49ed-cca0-b599b92d003f",
        "colab": {
          "base_uri": "https://localhost:8080/",
          "height": 295
        }
      },
      "source": [
        "track_listens_df = df[\"traid\"].value_counts()\n",
        "track_listens_df.hist(bins=range(0, 100))\n",
        "plt.ylabel(\"Number of tracks\")\n",
        "plt.xlabel(\"Number of listenings of the tracks\")\n",
        "plt.title(\"Listenings per track\");"
      ],
      "execution_count": 14,
      "outputs": [
        {
          "output_type": "display_data",
          "data": {
            "image/png": "[encoded data removed]",
            "text/plain": [
              "<Figure size 432x288 with 1 Axes>"
            ]
          },
          "metadata": {
            "tags": []
          }
        }
      ]
    },
    {
      "cell_type": "code",
      "metadata": {
        "id": "Uzxa2CyS-6j4",
        "colab_type": "code",
        "outputId": "98c73af3-87f7-4fb6-e8b4-3159e134a77f",
        "colab": {
          "base_uri": "https://localhost:8080/",
          "height": 35
        }
      },
      "source": [
        "track_listens_df.mean()"
      ],
      "execution_count": 15,
      "outputs": [
        {
          "output_type": "execute_result",
          "data": {
            "text/plain": [
              "33.3849715014331"
            ]
          },
          "metadata": {
            "tags": []
          },
          "execution_count": 15
        }
      ]
    },
    {
      "cell_type": "code",
      "metadata": {
        "id": "2d315c84pMtU",
        "colab_type": "code",
        "outputId": "f5c87eb1-2ef5-4253-d180-19884d96ed81",
        "colab": {
          "base_uri": "https://localhost:8080/",
          "height": 295
        }
      },
      "source": [
        "track_users_df = df[[\"pid\", \"traid\"]].drop_duplicates()[\"traid\"].value_counts()\n",
        "track_users_df.hist(bins=range(0, 50))\n",
        "plt.ylabel(\"Number of tracks\")\n",
        "plt.xlabel(\"Number of users listening to the tracks\")\n",
        "plt.title(\"Users per track\");"
      ],
      "execution_count": 16,
      "outputs": [
        {
          "output_type": "display_data",
          "data": {
            "image/png": "[encoded data removed]",
            "text/plain": [
              "<Figure size 432x288 with 1 Axes>"
            ]
          },
          "metadata": {
            "tags": []
          }
        }
      ]
    },
    {
      "cell_type": "code",
      "metadata": {
        "id": "Jxmn3BEh-9pF",
        "colab_type": "code",
        "outputId": "2f3b6c4a-3b27-4518-9ea1-cbe80683603f",
        "colab": {
          "base_uri": "https://localhost:8080/",
          "height": 35
        }
      },
      "source": [
        "track_users_df.mean()"
      ],
      "execution_count": 17,
      "outputs": [
        {
          "output_type": "execute_result",
          "data": {
            "text/plain": [
              "7.542728233742739"
            ]
          },
          "metadata": {
            "tags": []
          },
          "execution_count": 17
        }
      ]
    },
    {
      "cell_type": "code",
      "metadata": {
        "id": "NFGZVVjGDYrV",
        "colab_type": "code",
        "outputId": "07d5542b-7934-4224-9c5f-6386eb66cb72",
        "colab": {
          "base_uri": "https://localhost:8080/",
          "height": 295
        }
      },
      "source": [
        "user_tracks_df = df[[\"pid\", \"traid\"]].drop_duplicates()[\"pid\"].value_counts()\n",
        "user_tracks_df.hist(bins=100)\n",
        "plt.ylabel(\"Number of users\")\n",
        "plt.xlabel(\"Number of tracks listened to by the users\")\n",
        "plt.title(\"Tracks per user\");"
      ],
      "execution_count": 18,
      "outputs": [
        {
          "output_type": "display_data",
          "data": {
            "image/png": "[encoded data removed]",
            "text/plain": [
              "<Figure size 432x288 with 1 Axes>"
            ]
          },
          "metadata": {
            "tags": []
          }
        }
      ]
    },
    {
      "cell_type": "code",
      "metadata": {
        "id": "F3paIA9y-_8F",
        "colab_type": "code",
        "outputId": "93dbf70f-b709-47f8-970d-f8098f4e6091",
        "colab": {
          "base_uri": "https://localhost:8080/",
          "height": 35
        }
      },
      "source": [
        "user_tracks_df.mean()"
      ],
      "execution_count": 19,
      "outputs": [
        {
          "output_type": "execute_result",
          "data": {
            "text/plain": [
              "3495.521212121212"
            ]
          },
          "metadata": {
            "tags": []
          },
          "execution_count": 19
        }
      ]
    },
    {
      "cell_type": "code",
      "metadata": {
        "id": "2zf-QYHnDzRv",
        "colab_type": "code",
        "colab": {}
      },
      "source": [
        "def plot_long_tail(df):\n",
        "  track_counts = df[\"traid\"].value_counts().sort_values(ascending=False)\n",
        "  track_perc = track_counts.cumsum() / track_counts.sum()\n",
        "  xlabels = [0.0, 0.2, 0.4, 0.6, 0.8, 1.0]\n",
        "  xticks = [x * track_counts.size for x in xlabels]\n",
        "  track_perc.plot(use_index=False, ylim=(0.0, 1.0))\n",
        "  plt.xticks(ticks=xticks, labels=xlabels)\n",
        "  plt.ylabel(\"cumulative % of track occurence\")\n",
        "  plt.xlabel(\"% of tracks\")\n",
        "  plt.title(\"Lastfm-1k\")\n",
        "  plt.grid(True);"
      ],
      "execution_count": 0,
      "outputs": []
    },
    {
      "cell_type": "code",
      "metadata": {
        "id": "f-AWwFHHD0Qd",
        "colab_type": "code",
        "outputId": "2e8ba095-f4d0-4369-ae99-0b3a78c12055",
        "colab": {
          "base_uri": "https://localhost:8080/",
          "height": 295
        }
      },
      "source": [
        "plot_long_tail(df)"
      ],
      "execution_count": 21,
      "outputs": [
        {
          "output_type": "display_data",
          "data": {
            "image/png": "[encoded data removed]",
            "text/plain": [
              "<Figure size 432x288 with 1 Axes>"
            ]
          },
          "metadata": {
            "tags": []
          }
        }
      ]
    },
    {
      "cell_type": "code",
      "metadata": {
        "id": "e69aBv5hJ-kX",
        "colab_type": "code",
        "outputId": "6fbb037d-f09c-4cc6-aee4-5a67a8b3b877",
        "colab": {
          "base_uri": "https://localhost:8080/",
          "height": 35
        }
      },
      "source": [
        "user_tracks_df[user_tracks_df < 5].head()"
      ],
      "execution_count": 22,
      "outputs": [
        {
          "output_type": "execute_result",
          "data": {
            "text/plain": [
              "Series([], Name: pid, dtype: int64)"
            ]
          },
          "metadata": {
            "tags": []
          },
          "execution_count": 22
        }
      ]
    },
    {
      "cell_type": "markdown",
      "metadata": {
        "id": "MDpjS3YsAEVJ",
        "colab_type": "text"
      },
      "source": [
        "We now add additional user information.\n",
        "\n",
        "We first map the user gender to 0 (unknown), 1 or 2 and view the age histogram to decide on the age bins."
      ]
    },
    {
      "cell_type": "code",
      "metadata": {
        "id": "5ZNq_v4hANzl",
        "colab_type": "code",
        "outputId": "e12efde8-5530-4f5b-988c-235172e9b3fb",
        "colab": {
          "base_uri": "https://localhost:8080/",
          "height": 265
        }
      },
      "source": [
        "cols = [\"#id\", \"gender\", \"age\", \"country\"]\n",
        "user_df = pd.read_csv(users_filename, sep='\\t', quoting=csv.QUOTE_NONE,\n",
        "                      parse_dates=True, usecols=cols)\n",
        "\n",
        "user_df[\"pid\"] = user_df[\"#id\"]\n",
        "user_df.drop(columns=[\"#id\"], inplace=True)\n",
        "\n",
        "user_df[\"gender\"], _ = user_df[\"gender\"].factorize(na_sentinel=0)\n",
        "\n",
        "user_df[\"age\"].hist(bins=100);"
      ],
      "execution_count": 23,
      "outputs": [
        {
          "output_type": "display_data",
          "data": {
            "image/png": "[encoded data removed]",
            "text/plain": [
              "<Figure size 432x288 with 1 Axes>"
            ]
          },
          "metadata": {
            "tags": []
          }
        }
      ]
    },
    {
      "cell_type": "code",
      "metadata": {
        "id": "XPywf-20WlO5",
        "colab_type": "code",
        "colab": {}
      },
      "source": [
        "os.chdir(\"/drive/My Drive/\")"
      ],
      "execution_count": 0,
      "outputs": []
    },
    {
      "cell_type": "code",
      "metadata": {
        "id": "swjo-CJKHBnL",
        "colab_type": "code",
        "colab": {}
      },
      "source": [
        "user_df[\"b_age\"] = pd.cut(user_df[\"age\"], [-1, 0, 20, 25, 30, 35, 40, 110], right=False,\n",
        "                        labels=[0, 1, 2, 3, 4, 5, 6])\n",
        "user_df[\"b_age\"].fillna(0, inplace=True)\n",
        "user_df[\"b_age\"] = user_df[\"b_age\"].astype(int, copy=False)"
      ],
      "execution_count": 0,
      "outputs": []
    },
    {
      "cell_type": "markdown",
      "metadata": {
        "id": "0128xcYkRDf5",
        "colab_type": "text"
      },
      "source": [
        "Now we actually add the user information."
      ]
    },
    {
      "cell_type": "code",
      "metadata": {
        "id": "CVtGKHvrEzOC",
        "colab_type": "code",
        "outputId": "7d3dcfe0-09ae-498b-a265-032357afe163",
        "colab": {
          "base_uri": "https://localhost:8080/",
          "height": 289
        }
      },
      "source": [
        "df = df.join(user_df.set_index(\"pid\"), on=\"pid\")\n",
        "df.head()"
      ],
      "execution_count": 26,
      "outputs": [
        {
          "output_type": "execute_result",
          "data": {
            "text/html": [
              "<div>\n",
              "<style scoped>\n",
              "    .dataframe tbody tr th:only-of-type {\n",
              "        vertical-align: middle;\n",
              "    }\n",
              "\n",
              "    .dataframe tbody tr th {\n",
              "        vertical-align: top;\n",
              "    }\n",
              "\n",
              "    .dataframe thead th {\n",
              "        text-align: right;\n",
              "    }\n",
              "</style>\n",
              "<table border=\"1\" class=\"dataframe\">\n",
              "  <thead>\n",
              "    <tr style=\"text-align: right;\">\n",
              "      <th></th>\n",
              "      <th>pid</th>\n",
              "      <th>timestamp</th>\n",
              "      <th>artid</th>\n",
              "      <th>artname</th>\n",
              "      <th>traid</th>\n",
              "      <th>traname</th>\n",
              "      <th>gender</th>\n",
              "      <th>age</th>\n",
              "      <th>country</th>\n",
              "      <th>b_age</th>\n",
              "    </tr>\n",
              "  </thead>\n",
              "  <tbody>\n",
              "    <tr>\n",
              "      <th>19150867</th>\n",
              "      <td>user_001000</td>\n",
              "      <td>2008-01-27T21:43:14Z</td>\n",
              "      <td>9e53f84d-ef44-4c16-9677-5fd4d78cbd7d</td>\n",
              "      <td>Wilco</td>\n",
              "      <td>3acc99bc-a349-420f-ad28-7095eb3533c9</td>\n",
              "      <td>Impossible Germany</td>\n",
              "      <td>0</td>\n",
              "      <td>NaN</td>\n",
              "      <td>United States</td>\n",
              "      <td>0</td>\n",
              "    </tr>\n",
              "    <tr>\n",
              "      <th>19150866</th>\n",
              "      <td>user_001000</td>\n",
              "      <td>2008-01-27T21:49:12Z</td>\n",
              "      <td>9e53f84d-ef44-4c16-9677-5fd4d78cbd7d</td>\n",
              "      <td>Wilco</td>\n",
              "      <td>5ac4386f-6146-4389-a762-4b43f362d2c8</td>\n",
              "      <td>Sky Blue Sky</td>\n",
              "      <td>0</td>\n",
              "      <td>NaN</td>\n",
              "      <td>United States</td>\n",
              "      <td>0</td>\n",
              "    </tr>\n",
              "    <tr>\n",
              "      <th>19150865</th>\n",
              "      <td>user_001000</td>\n",
              "      <td>2008-01-27T21:52:36Z</td>\n",
              "      <td>9e53f84d-ef44-4c16-9677-5fd4d78cbd7d</td>\n",
              "      <td>Wilco</td>\n",
              "      <td>93d044e6-1bbb-46a6-ac8e-283382a89e6f</td>\n",
              "      <td>Side With The Seeds</td>\n",
              "      <td>0</td>\n",
              "      <td>NaN</td>\n",
              "      <td>United States</td>\n",
              "      <td>0</td>\n",
              "    </tr>\n",
              "    <tr>\n",
              "      <th>19150864</th>\n",
              "      <td>user_001000</td>\n",
              "      <td>2008-01-27T21:56:52Z</td>\n",
              "      <td>9e53f84d-ef44-4c16-9677-5fd4d78cbd7d</td>\n",
              "      <td>Wilco</td>\n",
              "      <td>3e92e447-9e1f-440d-bc00-6734469880c5</td>\n",
              "      <td>Shake It Off</td>\n",
              "      <td>0</td>\n",
              "      <td>NaN</td>\n",
              "      <td>United States</td>\n",
              "      <td>0</td>\n",
              "    </tr>\n",
              "    <tr>\n",
              "      <th>19150863</th>\n",
              "      <td>user_001000</td>\n",
              "      <td>2008-01-27T22:02:35Z</td>\n",
              "      <td>9e53f84d-ef44-4c16-9677-5fd4d78cbd7d</td>\n",
              "      <td>Wilco</td>\n",
              "      <td>a490cabc-1e5c-4807-86c7-740c31a50009</td>\n",
              "      <td>Please Be Patient With Me</td>\n",
              "      <td>0</td>\n",
              "      <td>NaN</td>\n",
              "      <td>United States</td>\n",
              "      <td>0</td>\n",
              "    </tr>\n",
              "  </tbody>\n",
              "</table>\n",
              "</div>"
            ],
            "text/plain": [
              "                  pid             timestamp  ...        country b_age\n",
              "19150867  user_001000  2008-01-27T21:43:14Z  ...  United States     0\n",
              "19150866  user_001000  2008-01-27T21:49:12Z  ...  United States     0\n",
              "19150865  user_001000  2008-01-27T21:52:36Z  ...  United States     0\n",
              "19150864  user_001000  2008-01-27T21:56:52Z  ...  United States     0\n",
              "19150863  user_001000  2008-01-27T22:02:35Z  ...  United States     0\n",
              "\n",
              "[5 rows x 10 columns]"
            ]
          },
          "metadata": {
            "tags": []
          },
          "execution_count": 26
        }
      ]
    },
    {
      "cell_type": "markdown",
      "metadata": {
        "id": "0bUl-wlSwLiW",
        "colab_type": "text"
      },
      "source": [
        "Finally, we also add the previous track and artist as columns."
      ]
    },
    {
      "cell_type": "code",
      "metadata": {
        "id": "q4QTgQ7dwDAA",
        "colab_type": "code",
        "colab": {}
      },
      "source": [
        "df[\"prev_traid\"] = df.groupby(\"pid\")[\"traid\"].shift(1)\n",
        "df[\"prev_artid\"] = df.groupby(\"pid\")[\"artid\"].shift(1)"
      ],
      "execution_count": 0,
      "outputs": []
    },
    {
      "cell_type": "markdown",
      "metadata": {
        "id": "9p9w-fM3YyOG",
        "colab_type": "text"
      },
      "source": [
        "# Evaluation split"
      ]
    },
    {
      "cell_type": "markdown",
      "metadata": {
        "id": "S6wjRHMKozlV",
        "colab_type": "text"
      },
      "source": [
        "First, we define functions for converting dataframe columns to one-hot indices in accordance with a train-test-validation split."
      ]
    },
    {
      "cell_type": "code",
      "metadata": {
        "id": "vnH2CNm_YGmv",
        "colab_type": "code",
        "colab": {}
      },
      "source": [
        "def col2id_col(df, col, mappings, rvs_mappings):\n",
        "  if col in mappings:\n",
        "    df[col] = df[col].map(mappings[col])\n",
        "    df[col].fillna(0, inplace=True)\n",
        "  else:\n",
        "    df[col], rvs_mappings[col] = df[col].factorize()\n",
        "    df[col] += 1\n",
        "    rvs_mappings[col] = rvs_mappings[col].insert(0, None)\n",
        "    mappings[col] = {col_val: i for i, col_val in enumerate(rvs_mappings[col])}\n",
        "\n",
        "  df[col] = df[col].astype(\"int64\", copy=False)\n",
        "\n",
        "\n",
        "def df2id_df(df, id_cols, mappings, rvs_mappings):\n",
        "  for id_col in id_cols:\n",
        "    col2id_col(df, id_col, mappings, rvs_mappings)\n",
        "\n",
        "\n",
        "def split_dfs2id_dfs(train_df, test_df=None, val_df=None, copy=True, cols=[],\n",
        "                     same_col_pairs=[]):\n",
        "  \"\"\"\n",
        "  Map columns of dataframes to one-hot indices.\n",
        "  Test and validation dataframes will use the mappings of the train dataframe.\n",
        "  Index 0 is used for missing and unknown (test and validation) column values.\n",
        "\n",
        "  same_col_pairs are (src_col, same_col) pairs where same_col uses the same\n",
        "  mappings as src_col.\n",
        "  \"\"\"\n",
        "  id_mappings = dict()\n",
        "  rvs_id_mappings = dict()\n",
        "  \n",
        "  if copy:\n",
        "    train_df = train_df.copy()\n",
        "    if test_df is not None:\n",
        "      test_df = test_df.copy()\n",
        "    if val_df is not None:\n",
        "      val_df = val_df.copy()\n",
        "  \n",
        "  dfs = [df for df in [train_df, val_df, test_df] if df is not None]\n",
        "\n",
        "  for df in dfs:\n",
        "    df2id_df(df, cols, id_mappings, rvs_id_mappings)\n",
        "\n",
        "  for src_col, same_col in same_col_pairs:\n",
        "    id_mappings[same_col] = id_mappings[src_col]\n",
        "  \n",
        "  same_cols = [same_col for _, same_col in same_col_pairs]\n",
        "\n",
        "  for df in dfs:\n",
        "    df2id_df(df, same_cols, id_mappings, rvs_id_mappings)\n",
        "\n",
        "  if copy:\n",
        "    return tuple(dfs)"
      ],
      "execution_count": 0,
      "outputs": []
    },
    {
      "cell_type": "markdown",
      "metadata": {
        "id": "umFnQZjdo4WY",
        "colab_type": "text"
      },
      "source": [
        "Now we set the columns we want to map to one-hot indices."
      ]
    },
    {
      "cell_type": "code",
      "metadata": {
        "id": "TTMt5jpHo5MC",
        "colab_type": "code",
        "colab": {}
      },
      "source": [
        "# columns to use\n",
        "use_cols = [\"pid\", \"country\", \"artid\", \"traid\"]\n",
        "\n",
        "# other columns to use with the same mappings as the previous columns\n",
        "use_col_pairs = [(\"artid\", \"prev_artid\"), (\"traid\", \"prev_traid\")]\n",
        "\n",
        "# which columns are user/context columns - and known as query context\n",
        "non_track_cols = [\"pid\", \"gender\", \"b_age\", \"country\",\n",
        "                  \"prev_traid\", \"prev_artid\"]\n",
        "\n",
        "# which columns are item columns - and known only as query seeds\n",
        "track_cols = [\"traid\", \"artid\"]"
      ],
      "execution_count": 0,
      "outputs": []
    },
    {
      "cell_type": "markdown",
      "metadata": {
        "id": "F3ZyZvN6ql-j",
        "colab_type": "text"
      },
      "source": [
        "Now we define the different evaluation splits to use. See section TODO of my master's thesis."
      ]
    },
    {
      "cell_type": "code",
      "metadata": {
        "id": "kKUVi0W8YNGM",
        "colab_type": "code",
        "colab": {}
      },
      "source": [
        "def _to_query_ctx(df):\n",
        "  return df[non_track_cols]\n",
        "\n",
        "\n",
        "def _to_query(concat_df):\n",
        "  concat_df[track_cols] = concat_df[track_cols].fillna(0)\n",
        "  concat_df[track_cols] = concat_df[track_cols].astype(\"int64\", copy=False)\n",
        "  return concat_df\n",
        "\n",
        "\n",
        "def get_query_seeds(query_df):\n",
        "  \"\"\"\n",
        "  Get the seed tracks of a query dataframe\n",
        "  \"\"\"\n",
        "  return query_df[query_df[\"traid\"] != 0]\n",
        "\n",
        "\n",
        "def get_query_ctx(query_df):\n",
        "  \"\"\"\n",
        "  Get the context of a query dataframe - \n",
        "  the actual target information without any target track information\n",
        "  \"\"\"\n",
        "  return _to_query_ctx(query_df[query_df[\"traid\"] == 0])\n",
        "\n",
        "\n",
        "def _last_track_split(df, as_val):\n",
        "  i = 2 if as_val else 1\n",
        "  gp = df.groupby(\"pid\")\n",
        "  train_df = df[gp.cumcount(ascending=False) >= i]\n",
        "  test_df = gp.nth(-i).reset_index()\n",
        "  return train_df, test_df\n",
        "\n",
        "\n",
        "def _users_split(df, n_test_users, seed):\n",
        "  users = df[\"pid\"].drop_duplicates()\n",
        "  np.random.seed(seed)\n",
        "  test_users = np.random.choice(users, n_test_users, replace=False)\n",
        "  test_users_mask = df[\"pid\"].isin(test_users)\n",
        "  test_users_df = df[test_users_mask]\n",
        "  train_users_df = df[~test_users_mask]\n",
        "  return train_users_df, test_users_df\n",
        "\n",
        "\n",
        "def _known_last_track_split(df, as_val, seed, n_test_users=None):\n",
        "  train_df, test_df = _last_track_split(df, as_val)\n",
        "\n",
        "  train_tracks = pd.Index(train_df[\"traid\"].drop_duplicates())\n",
        "  test_tracks = pd.Index(test_df[\"traid\"].drop_duplicates())\n",
        "  unknown_tracks = test_tracks.difference(train_tracks)\n",
        "  unknown_mask = test_df[\"traid\"].isin(unknown_tracks)\n",
        "  unknown_pids = pd.Index(test_df[unknown_mask][\"pid\"])\n",
        "\n",
        "  unknown_mask = df[\"pid\"].isin(unknown_pids)\n",
        "  known_df = df[~unknown_mask]\n",
        "  unknown_df = df[unknown_mask]\n",
        "\n",
        "  if n_test_users:\n",
        "    train_users_df, test_users_df = _users_split(known_df, n_test_users, seed)\n",
        "    train_df, test_df = _last_track_split(test_users_df, as_val)\n",
        "    train_df = pd.concat([unknown_df, train_users_df, train_df], sort=False)\n",
        "  else:\n",
        "    train_df, test_df = _last_track_split(known_df, as_val)\n",
        "    train_df = pd.concat([unknown_df, train_df], sort=False)\n",
        "\n",
        "  train_df.sort_values(\"pid\", inplace=True, kind=\"mergesort\")\n",
        "\n",
        "  return train_df, test_df\n",
        "\n",
        "\n",
        "def _last_track_query(train_df, test_df, n_test_users=None):\n",
        "  if n_test_users:\n",
        "    test_pids = pd.Index(test_df[\"pid\"])\n",
        "    test_query_df = train_df[train_df[\"pid\"].isin(test_pids)]\n",
        "  else:\n",
        "    test_query_df = train_df\n",
        "\n",
        "  test_query_ctx_df = _to_query_ctx(test_df)\n",
        "  test_query_df = pd.concat([test_query_df, test_query_ctx_df], sort=False)\n",
        "  test_query_df = _to_query(test_query_df)\n",
        "\n",
        "  return test_query_df\n",
        "\n",
        "\n",
        "def last_track_split(df, as_val=False, n_test_users=None, seed=1):\n",
        "  \"\"\"\n",
        "  Split the dataframe into train and validation or test dataframes.\n",
        "  The test dataframe contains the last track of each or n_test_users random\n",
        "  users, the validation dataframe the second-last. Only returns validation or \n",
        "  test users with known (second-)last track indices.\n",
        "\n",
        "  Also returns a query dataframe corresponding to the validation or test\n",
        "  dataframe.\n",
        "\n",
        "  Columns are mapped to one-hot indices in the process. \n",
        "  \"\"\"\n",
        "  train_df, test_df = _known_last_track_split(df, as_val, seed, n_test_users)\n",
        "\n",
        "  train_df, test_df = split_dfs2id_dfs(train_df, test_df=test_df, cols=use_cols,\n",
        "                                       same_col_pairs=use_col_pairs)\n",
        "\n",
        "  return train_df, test_df, _last_track_query(train_df, test_df, n_test_users)\n",
        "\n",
        "\n",
        "def _seed_users_split(df, n_test_users, include_val, n_seed_tracks, seed):\n",
        "  gp = df.groupby(\"pid\")\n",
        "  seed_df = gp.filter(lambda g: g.size > n_seed_tracks)\n",
        "  non_seed_df = gp.filter(lambda g: g.size <= n_seed_tracks)\n",
        "\n",
        "  train_df, test_df = _users_split(seed_df, n_test_users, seed)\n",
        "\n",
        "  val_df = None\n",
        "  if include_val:\n",
        "    train_df, val_df = _users_split(train_df, n_test_users, seed)\n",
        "\n",
        "  train_df = pd.concat([train_df, non_seed_df], sort=False)\n",
        "  train_df.sort_values(\"pid\", inplace=True, kind=\"mergesort\")\n",
        "\n",
        "  if include_val:\n",
        "    return train_df, val_df, test_df\n",
        "  else:\n",
        "    return train_df, test_df\n",
        "\n",
        "\n",
        "def _seed_query_split(df, n_seed_tracks):\n",
        "  gp = df.groupby(\"pid\", as_index=False)\n",
        "  test_df = df[gp.cumcount() >= n_seed_tracks]\n",
        "  query_df = gp.head(n_seed_tracks)\n",
        "  query_ctx_df = _to_query_ctx(gp.nth(n_seed_tracks))\n",
        "  query_df = _to_query(pd.concat([query_df, query_ctx_df], sort=False))\n",
        "  query_df.sort_values(\"pid\", inplace=True, kind=\"mergesort\")\n",
        "  return test_df, query_df\n",
        "\n",
        "\n",
        "def users_split(df, n_test_users, include_val=False, n_seed_tracks=5, seed=1):\n",
        "  \"\"\"\n",
        "  Split the dataframe into train, optional validation and test dataframes.\n",
        "  The test and validation dataframe each contain n_test_users users and\n",
        "  the train dataframe the other users. The validation and test dataframes\n",
        "  each contain the users tracks after his/her first n_seed_tracks tracks.\n",
        "  Only returns validation or test users with more than n_seed_tracks tracks.\n",
        "\n",
        "  Also returns query dataframes corresponding to the validation and test\n",
        "  dataframes.\n",
        "\n",
        "  Columns are mapped to one-hot indices in the process,\n",
        "  but train, validation and test dataframes have separate pid indices,\n",
        "  all start from 0!\n",
        "  \"\"\"\n",
        "  dfs = _seed_users_split(df, n_test_users, include_val, n_seed_tracks, seed)\n",
        "\n",
        "  # pids are separate for each split - all start from 0, to different n\n",
        "  dfs = (split_dfs2id_dfs(df, cols=[\"pid\"])[0] for df in dfs)\n",
        "  if include_val:\n",
        "    train_df, val_df, test_df = dfs\n",
        "  else:\n",
        "    train_df, test_df = dfs\n",
        "    val_df = None\n",
        "\n",
        "  use_cols_no_pid = use_cols[1:]\n",
        "  split_dfs2id_dfs(train_df, test_df=test_df, val_df=val_df,\n",
        "                   cols=use_cols_no_pid, same_col_pairs=use_col_pairs,\n",
        "                   copy=False)\n",
        "  \n",
        "  test_df, test_query_df = _seed_query_split(test_df, n_seed_tracks)\n",
        "  val_query_df = None\n",
        "  if include_val:\n",
        "    val_df, val_query_df = _seed_query_split(val_df, n_seed_tracks)\n",
        "\n",
        "  dfs = train_df, val_df, test_df, val_query_df, test_query_df\n",
        "  return tuple(df for df in dfs if df is not None)"
      ],
      "execution_count": 0,
      "outputs": []
    },
    {
      "cell_type": "markdown",
      "metadata": {
        "id": "BiDLdOYsqtr4",
        "colab_type": "text"
      },
      "source": [
        "We won't use the name columns for the models but will use them for analysis of the recommendations for the first and second example playlist."
      ]
    },
    {
      "cell_type": "code",
      "metadata": {
        "id": "457T0hW1queb",
        "colab_type": "code",
        "colab": {}
      },
      "source": [
        "def to_names_index(df):\n",
        "  df = df[[\"traid\", \"traname\", \"artname\"]].drop_duplicates()\n",
        "  return df.set_index(\"traid\")\n",
        "\n",
        "\n",
        "def with_names(df, names_index_df):\n",
        "  return df.join(names_index_df, on=\"traid\").drop(columns=[\"traid\"])\n",
        "\n",
        "\n",
        "def drop_names(dfs):\n",
        "  for df in dfs:\n",
        "    df.drop(columns=[\"traname\", \"artname\"], inplace=True)"
      ],
      "execution_count": 0,
      "outputs": []
    },
    {
      "cell_type": "markdown",
      "metadata": {
        "id": "T_xKeqhxqynf",
        "colab_type": "text"
      },
      "source": [
        "We now create a last track split and view the structure of the results."
      ]
    },
    {
      "cell_type": "code",
      "metadata": {
        "id": "HYvxsVS5q1jd",
        "colab_type": "code",
        "outputId": "942bc571-73f7-464b-838a-5ca6ac655623",
        "colab": {
          "base_uri": "https://localhost:8080/",
          "height": 204
        }
      },
      "source": [
        "train_df, test_df, test_query_df = last_track_split(df)\n",
        "names_df = to_names_index(train_df)\n",
        "drop_names([train_df, test_df, test_query_df])\n",
        "\n",
        "train_df.head()"
      ],
      "execution_count": 32,
      "outputs": [
        {
          "output_type": "execute_result",
          "data": {
            "text/html": [
              "<div>\n",
              "<style scoped>\n",
              "    .dataframe tbody tr th:only-of-type {\n",
              "        vertical-align: middle;\n",
              "    }\n",
              "\n",
              "    .dataframe tbody tr th {\n",
              "        vertical-align: top;\n",
              "    }\n",
              "\n",
              "    .dataframe thead th {\n",
              "        text-align: right;\n",
              "    }\n",
              "</style>\n",
              "<table border=\"1\" class=\"dataframe\">\n",
              "  <thead>\n",
              "    <tr style=\"text-align: right;\">\n",
              "      <th></th>\n",
              "      <th>pid</th>\n",
              "      <th>timestamp</th>\n",
              "      <th>artid</th>\n",
              "      <th>traid</th>\n",
              "      <th>gender</th>\n",
              "      <th>age</th>\n",
              "      <th>country</th>\n",
              "      <th>b_age</th>\n",
              "      <th>prev_traid</th>\n",
              "      <th>prev_artid</th>\n",
              "    </tr>\n",
              "  </thead>\n",
              "  <tbody>\n",
              "    <tr>\n",
              "      <th>16681</th>\n",
              "      <td>1</td>\n",
              "      <td>2006-08-13T14:17:40Z</td>\n",
              "      <td>1</td>\n",
              "      <td>1</td>\n",
              "      <td>0</td>\n",
              "      <td>NaN</td>\n",
              "      <td>1</td>\n",
              "      <td>0</td>\n",
              "      <td>0</td>\n",
              "      <td>0</td>\n",
              "    </tr>\n",
              "    <tr>\n",
              "      <th>16679</th>\n",
              "      <td>1</td>\n",
              "      <td>2006-08-13T14:23:03Z</td>\n",
              "      <td>2</td>\n",
              "      <td>2</td>\n",
              "      <td>0</td>\n",
              "      <td>NaN</td>\n",
              "      <td>1</td>\n",
              "      <td>0</td>\n",
              "      <td>1</td>\n",
              "      <td>1</td>\n",
              "    </tr>\n",
              "    <tr>\n",
              "      <th>16678</th>\n",
              "      <td>1</td>\n",
              "      <td>2006-08-13T14:44:23Z</td>\n",
              "      <td>2</td>\n",
              "      <td>3</td>\n",
              "      <td>0</td>\n",
              "      <td>NaN</td>\n",
              "      <td>1</td>\n",
              "      <td>0</td>\n",
              "      <td>2</td>\n",
              "      <td>2</td>\n",
              "    </tr>\n",
              "    <tr>\n",
              "      <th>16677</th>\n",
              "      <td>1</td>\n",
              "      <td>2006-08-13T14:55:14Z</td>\n",
              "      <td>3</td>\n",
              "      <td>4</td>\n",
              "      <td>0</td>\n",
              "      <td>NaN</td>\n",
              "      <td>1</td>\n",
              "      <td>0</td>\n",
              "      <td>3</td>\n",
              "      <td>2</td>\n",
              "    </tr>\n",
              "    <tr>\n",
              "      <th>16676</th>\n",
              "      <td>1</td>\n",
              "      <td>2006-08-13T14:59:59Z</td>\n",
              "      <td>4</td>\n",
              "      <td>5</td>\n",
              "      <td>0</td>\n",
              "      <td>NaN</td>\n",
              "      <td>1</td>\n",
              "      <td>0</td>\n",
              "      <td>4</td>\n",
              "      <td>3</td>\n",
              "    </tr>\n",
              "  </tbody>\n",
              "</table>\n",
              "</div>"
            ],
            "text/plain": [
              "       pid             timestamp  artid  ...  b_age  prev_traid  prev_artid\n",
              "16681    1  2006-08-13T14:17:40Z      1  ...      0           0           0\n",
              "16679    1  2006-08-13T14:23:03Z      2  ...      0           1           1\n",
              "16678    1  2006-08-13T14:44:23Z      2  ...      0           2           2\n",
              "16677    1  2006-08-13T14:55:14Z      3  ...      0           3           2\n",
              "16676    1  2006-08-13T14:59:59Z      4  ...      0           4           3\n",
              "\n",
              "[5 rows x 10 columns]"
            ]
          },
          "metadata": {
            "tags": []
          },
          "execution_count": 32
        }
      ]
    },
    {
      "cell_type": "code",
      "metadata": {
        "id": "ujiDYESHq11S",
        "colab_type": "code",
        "outputId": "33c4420c-54a5-4f7e-a7c4-61ba581fa978",
        "colab": {
          "base_uri": "https://localhost:8080/",
          "height": 204
        }
      },
      "source": [
        "test_df.head()"
      ],
      "execution_count": 33,
      "outputs": [
        {
          "output_type": "execute_result",
          "data": {
            "text/html": [
              "<div>\n",
              "<style scoped>\n",
              "    .dataframe tbody tr th:only-of-type {\n",
              "        vertical-align: middle;\n",
              "    }\n",
              "\n",
              "    .dataframe tbody tr th {\n",
              "        vertical-align: top;\n",
              "    }\n",
              "\n",
              "    .dataframe thead th {\n",
              "        text-align: right;\n",
              "    }\n",
              "</style>\n",
              "<table border=\"1\" class=\"dataframe\">\n",
              "  <thead>\n",
              "    <tr style=\"text-align: right;\">\n",
              "      <th></th>\n",
              "      <th>pid</th>\n",
              "      <th>timestamp</th>\n",
              "      <th>artid</th>\n",
              "      <th>traid</th>\n",
              "      <th>gender</th>\n",
              "      <th>age</th>\n",
              "      <th>country</th>\n",
              "      <th>b_age</th>\n",
              "      <th>prev_traid</th>\n",
              "      <th>prev_artid</th>\n",
              "    </tr>\n",
              "  </thead>\n",
              "  <tbody>\n",
              "    <tr>\n",
              "      <th>0</th>\n",
              "      <td>1</td>\n",
              "      <td>2009-05-04T13:06:09Z</td>\n",
              "      <td>73</td>\n",
              "      <td>1701</td>\n",
              "      <td>0</td>\n",
              "      <td>NaN</td>\n",
              "      <td>1</td>\n",
              "      <td>0</td>\n",
              "      <td>1113</td>\n",
              "      <td>112</td>\n",
              "    </tr>\n",
              "    <tr>\n",
              "      <th>1</th>\n",
              "      <td>2</td>\n",
              "      <td>2009-04-28T18:41:35Z</td>\n",
              "      <td>718</td>\n",
              "      <td>3937</td>\n",
              "      <td>1</td>\n",
              "      <td>NaN</td>\n",
              "      <td>2</td>\n",
              "      <td>0</td>\n",
              "      <td>3930</td>\n",
              "      <td>718</td>\n",
              "    </tr>\n",
              "    <tr>\n",
              "      <th>2</th>\n",
              "      <td>3</td>\n",
              "      <td>2009-04-21T16:27:08Z</td>\n",
              "      <td>1693</td>\n",
              "      <td>10849</td>\n",
              "      <td>0</td>\n",
              "      <td>22.0</td>\n",
              "      <td>3</td>\n",
              "      <td>2</td>\n",
              "      <td>9549</td>\n",
              "      <td>612</td>\n",
              "    </tr>\n",
              "    <tr>\n",
              "      <th>3</th>\n",
              "      <td>4</td>\n",
              "      <td>2009-04-30T16:30:20Z</td>\n",
              "      <td>6296</td>\n",
              "      <td>42787</td>\n",
              "      <td>1</td>\n",
              "      <td>NaN</td>\n",
              "      <td>0</td>\n",
              "      <td>0</td>\n",
              "      <td>16409</td>\n",
              "      <td>2814</td>\n",
              "    </tr>\n",
              "    <tr>\n",
              "      <th>4</th>\n",
              "      <td>5</td>\n",
              "      <td>2009-05-04T21:19:55Z</td>\n",
              "      <td>2896</td>\n",
              "      <td>16552</td>\n",
              "      <td>0</td>\n",
              "      <td>NaN</td>\n",
              "      <td>4</td>\n",
              "      <td>0</td>\n",
              "      <td>16586</td>\n",
              "      <td>2914</td>\n",
              "    </tr>\n",
              "  </tbody>\n",
              "</table>\n",
              "</div>"
            ],
            "text/plain": [
              "   pid             timestamp  artid  ...  b_age  prev_traid  prev_artid\n",
              "0    1  2009-05-04T13:06:09Z     73  ...      0        1113         112\n",
              "1    2  2009-04-28T18:41:35Z    718  ...      0        3930         718\n",
              "2    3  2009-04-21T16:27:08Z   1693  ...      2        9549         612\n",
              "3    4  2009-04-30T16:30:20Z   6296  ...      0       16409        2814\n",
              "4    5  2009-05-04T21:19:55Z   2896  ...      0       16586        2914\n",
              "\n",
              "[5 rows x 10 columns]"
            ]
          },
          "metadata": {
            "tags": []
          },
          "execution_count": 33
        }
      ]
    },
    {
      "cell_type": "code",
      "metadata": {
        "id": "BLoYMoQBq2BH",
        "colab_type": "code",
        "outputId": "9d9e4dbb-0434-4d07-98ff-50e4928ba7d9",
        "colab": {
          "base_uri": "https://localhost:8080/",
          "height": 204
        }
      },
      "source": [
        "get_query_seeds(test_query_df).head()"
      ],
      "execution_count": 34,
      "outputs": [
        {
          "output_type": "execute_result",
          "data": {
            "text/html": [
              "<div>\n",
              "<style scoped>\n",
              "    .dataframe tbody tr th:only-of-type {\n",
              "        vertical-align: middle;\n",
              "    }\n",
              "\n",
              "    .dataframe tbody tr th {\n",
              "        vertical-align: top;\n",
              "    }\n",
              "\n",
              "    .dataframe thead th {\n",
              "        text-align: right;\n",
              "    }\n",
              "</style>\n",
              "<table border=\"1\" class=\"dataframe\">\n",
              "  <thead>\n",
              "    <tr style=\"text-align: right;\">\n",
              "      <th></th>\n",
              "      <th>pid</th>\n",
              "      <th>timestamp</th>\n",
              "      <th>artid</th>\n",
              "      <th>traid</th>\n",
              "      <th>gender</th>\n",
              "      <th>age</th>\n",
              "      <th>country</th>\n",
              "      <th>b_age</th>\n",
              "      <th>prev_traid</th>\n",
              "      <th>prev_artid</th>\n",
              "    </tr>\n",
              "  </thead>\n",
              "  <tbody>\n",
              "    <tr>\n",
              "      <th>16681</th>\n",
              "      <td>1</td>\n",
              "      <td>2006-08-13T14:17:40Z</td>\n",
              "      <td>1</td>\n",
              "      <td>1</td>\n",
              "      <td>0</td>\n",
              "      <td>NaN</td>\n",
              "      <td>1</td>\n",
              "      <td>0</td>\n",
              "      <td>0</td>\n",
              "      <td>0</td>\n",
              "    </tr>\n",
              "    <tr>\n",
              "      <th>16679</th>\n",
              "      <td>1</td>\n",
              "      <td>2006-08-13T14:23:03Z</td>\n",
              "      <td>2</td>\n",
              "      <td>2</td>\n",
              "      <td>0</td>\n",
              "      <td>NaN</td>\n",
              "      <td>1</td>\n",
              "      <td>0</td>\n",
              "      <td>1</td>\n",
              "      <td>1</td>\n",
              "    </tr>\n",
              "    <tr>\n",
              "      <th>16678</th>\n",
              "      <td>1</td>\n",
              "      <td>2006-08-13T14:44:23Z</td>\n",
              "      <td>2</td>\n",
              "      <td>3</td>\n",
              "      <td>0</td>\n",
              "      <td>NaN</td>\n",
              "      <td>1</td>\n",
              "      <td>0</td>\n",
              "      <td>2</td>\n",
              "      <td>2</td>\n",
              "    </tr>\n",
              "    <tr>\n",
              "      <th>16677</th>\n",
              "      <td>1</td>\n",
              "      <td>2006-08-13T14:55:14Z</td>\n",
              "      <td>3</td>\n",
              "      <td>4</td>\n",
              "      <td>0</td>\n",
              "      <td>NaN</td>\n",
              "      <td>1</td>\n",
              "      <td>0</td>\n",
              "      <td>3</td>\n",
              "      <td>2</td>\n",
              "    </tr>\n",
              "    <tr>\n",
              "      <th>16676</th>\n",
              "      <td>1</td>\n",
              "      <td>2006-08-13T14:59:59Z</td>\n",
              "      <td>4</td>\n",
              "      <td>5</td>\n",
              "      <td>0</td>\n",
              "      <td>NaN</td>\n",
              "      <td>1</td>\n",
              "      <td>0</td>\n",
              "      <td>4</td>\n",
              "      <td>3</td>\n",
              "    </tr>\n",
              "  </tbody>\n",
              "</table>\n",
              "</div>"
            ],
            "text/plain": [
              "       pid             timestamp  artid  ...  b_age  prev_traid  prev_artid\n",
              "16681    1  2006-08-13T14:17:40Z      1  ...      0           0           0\n",
              "16679    1  2006-08-13T14:23:03Z      2  ...      0           1           1\n",
              "16678    1  2006-08-13T14:44:23Z      2  ...      0           2           2\n",
              "16677    1  2006-08-13T14:55:14Z      3  ...      0           3           2\n",
              "16676    1  2006-08-13T14:59:59Z      4  ...      0           4           3\n",
              "\n",
              "[5 rows x 10 columns]"
            ]
          },
          "metadata": {
            "tags": []
          },
          "execution_count": 34
        }
      ]
    },
    {
      "cell_type": "code",
      "metadata": {
        "id": "embfk5h6q7BH",
        "colab_type": "code",
        "outputId": "8a3a5af6-a42e-476d-fd39-131437b3cdde",
        "colab": {
          "base_uri": "https://localhost:8080/",
          "height": 204
        }
      },
      "source": [
        "get_query_ctx(test_query_df).head()"
      ],
      "execution_count": 35,
      "outputs": [
        {
          "output_type": "execute_result",
          "data": {
            "text/html": [
              "<div>\n",
              "<style scoped>\n",
              "    .dataframe tbody tr th:only-of-type {\n",
              "        vertical-align: middle;\n",
              "    }\n",
              "\n",
              "    .dataframe tbody tr th {\n",
              "        vertical-align: top;\n",
              "    }\n",
              "\n",
              "    .dataframe thead th {\n",
              "        text-align: right;\n",
              "    }\n",
              "</style>\n",
              "<table border=\"1\" class=\"dataframe\">\n",
              "  <thead>\n",
              "    <tr style=\"text-align: right;\">\n",
              "      <th></th>\n",
              "      <th>pid</th>\n",
              "      <th>timestamp</th>\n",
              "      <th>gender</th>\n",
              "      <th>b_age</th>\n",
              "      <th>country</th>\n",
              "      <th>prev_traid</th>\n",
              "      <th>prev_artid</th>\n",
              "    </tr>\n",
              "  </thead>\n",
              "  <tbody>\n",
              "    <tr>\n",
              "      <th>0</th>\n",
              "      <td>1</td>\n",
              "      <td>2009-05-04T13:06:09Z</td>\n",
              "      <td>0</td>\n",
              "      <td>0</td>\n",
              "      <td>1</td>\n",
              "      <td>1113</td>\n",
              "      <td>112</td>\n",
              "    </tr>\n",
              "    <tr>\n",
              "      <th>1</th>\n",
              "      <td>2</td>\n",
              "      <td>2009-04-28T18:41:35Z</td>\n",
              "      <td>1</td>\n",
              "      <td>0</td>\n",
              "      <td>2</td>\n",
              "      <td>3930</td>\n",
              "      <td>718</td>\n",
              "    </tr>\n",
              "    <tr>\n",
              "      <th>2</th>\n",
              "      <td>3</td>\n",
              "      <td>2009-04-21T16:27:08Z</td>\n",
              "      <td>0</td>\n",
              "      <td>2</td>\n",
              "      <td>3</td>\n",
              "      <td>9549</td>\n",
              "      <td>612</td>\n",
              "    </tr>\n",
              "    <tr>\n",
              "      <th>3</th>\n",
              "      <td>4</td>\n",
              "      <td>2009-04-30T16:30:20Z</td>\n",
              "      <td>1</td>\n",
              "      <td>0</td>\n",
              "      <td>0</td>\n",
              "      <td>16409</td>\n",
              "      <td>2814</td>\n",
              "    </tr>\n",
              "    <tr>\n",
              "      <th>4</th>\n",
              "      <td>5</td>\n",
              "      <td>2009-05-04T21:19:55Z</td>\n",
              "      <td>0</td>\n",
              "      <td>0</td>\n",
              "      <td>4</td>\n",
              "      <td>16586</td>\n",
              "      <td>2914</td>\n",
              "    </tr>\n",
              "  </tbody>\n",
              "</table>\n",
              "</div>"
            ],
            "text/plain": [
              "   pid             timestamp  gender  b_age  country  prev_traid  prev_artid\n",
              "0    1  2009-05-04T13:06:09Z       0      0        1        1113         112\n",
              "1    2  2009-04-28T18:41:35Z       1      0        2        3930         718\n",
              "2    3  2009-04-21T16:27:08Z       0      2        3        9549         612\n",
              "3    4  2009-04-30T16:30:20Z       1      0        0       16409        2814\n",
              "4    5  2009-05-04T21:19:55Z       0      0        4       16586        2914"
            ]
          },
          "metadata": {
            "tags": []
          },
          "execution_count": 35
        }
      ]
    },
    {
      "cell_type": "markdown",
      "metadata": {
        "id": "5xgY3dSyq_tN",
        "colab_type": "text"
      },
      "source": [
        "We also view the track, album and artist names of the first playlist.\n",
        "\n",
        "Later we can then also compare how well predicted tracks intuitively fit to the playlist."
      ]
    },
    {
      "cell_type": "code",
      "metadata": {
        "id": "xOSgG9rkq7L3",
        "colab_type": "code",
        "outputId": "cbec585c-b28f-42c3-9119-0e63bfb99c70",
        "colab": {
          "base_uri": "https://localhost:8080/",
          "height": 669
        }
      },
      "source": [
        "with_names(get_query_seeds(test_query_df).head(20)[[\"pid\", \"traid\"]], names_df)"
      ],
      "execution_count": 36,
      "outputs": [
        {
          "output_type": "execute_result",
          "data": {
            "text/html": [
              "<div>\n",
              "<style scoped>\n",
              "    .dataframe tbody tr th:only-of-type {\n",
              "        vertical-align: middle;\n",
              "    }\n",
              "\n",
              "    .dataframe tbody tr th {\n",
              "        vertical-align: top;\n",
              "    }\n",
              "\n",
              "    .dataframe thead th {\n",
              "        text-align: right;\n",
              "    }\n",
              "</style>\n",
              "<table border=\"1\" class=\"dataframe\">\n",
              "  <thead>\n",
              "    <tr style=\"text-align: right;\">\n",
              "      <th></th>\n",
              "      <th>pid</th>\n",
              "      <th>traname</th>\n",
              "      <th>artname</th>\n",
              "    </tr>\n",
              "  </thead>\n",
              "  <tbody>\n",
              "    <tr>\n",
              "      <th>16681</th>\n",
              "      <td>1</td>\n",
              "      <td>Mission Flats</td>\n",
              "      <td>Tommy Guerrero</td>\n",
              "    </tr>\n",
              "    <tr>\n",
              "      <th>16679</th>\n",
              "      <td>1</td>\n",
              "      <td>Joy</td>\n",
              "      <td>Rei Harakami</td>\n",
              "    </tr>\n",
              "    <tr>\n",
              "      <th>16678</th>\n",
              "      <td>1</td>\n",
              "      <td>Lust</td>\n",
              "      <td>Rei Harakami</td>\n",
              "    </tr>\n",
              "    <tr>\n",
              "      <th>16677</th>\n",
              "      <td>1</td>\n",
              "      <td>The Essence</td>\n",
              "      <td>Herbie Hancock</td>\n",
              "    </tr>\n",
              "    <tr>\n",
              "      <th>16676</th>\n",
              "      <td>1</td>\n",
              "      <td>Idioteque</td>\n",
              "      <td>Radiohead</td>\n",
              "    </tr>\n",
              "    <tr>\n",
              "      <th>16675</th>\n",
              "      <td>1</td>\n",
              "      <td>Change Of Seasons</td>\n",
              "      <td>高木正勝</td>\n",
              "    </tr>\n",
              "    <tr>\n",
              "      <th>16671</th>\n",
              "      <td>1</td>\n",
              "      <td>Omgyjya Switch7</td>\n",
              "      <td>Aphex Twin</td>\n",
              "    </tr>\n",
              "    <tr>\n",
              "      <th>16670</th>\n",
              "      <td>1</td>\n",
              "      <td>Fenix Funk 5</td>\n",
              "      <td>Aphex Twin</td>\n",
              "    </tr>\n",
              "    <tr>\n",
              "      <th>16669</th>\n",
              "      <td>1</td>\n",
              "      <td>Only This Moment</td>\n",
              "      <td>Röyksopp</td>\n",
              "    </tr>\n",
              "    <tr>\n",
              "      <th>16668</th>\n",
              "      <td>1</td>\n",
              "      <td>Tras</td>\n",
              "      <td>Battles</td>\n",
              "    </tr>\n",
              "    <tr>\n",
              "      <th>16667</th>\n",
              "      <td>1</td>\n",
              "      <td>Dayvan Cowboy</td>\n",
              "      <td>Boards Of Canada</td>\n",
              "    </tr>\n",
              "    <tr>\n",
              "      <th>16664</th>\n",
              "      <td>1</td>\n",
              "      <td>Ways Of Thought</td>\n",
              "      <td>4Hero</td>\n",
              "    </tr>\n",
              "    <tr>\n",
              "      <th>16663</th>\n",
              "      <td>1</td>\n",
              "      <td>Solo</td>\n",
              "      <td>José Padilla</td>\n",
              "    </tr>\n",
              "    <tr>\n",
              "      <th>16659</th>\n",
              "      <td>1</td>\n",
              "      <td>Treefingers</td>\n",
              "      <td>Radiohead</td>\n",
              "    </tr>\n",
              "    <tr>\n",
              "      <th>16658</th>\n",
              "      <td>1</td>\n",
              "      <td>Have It (Interlude)</td>\n",
              "      <td>T-Pain</td>\n",
              "    </tr>\n",
              "    <tr>\n",
              "      <th>16657</th>\n",
              "      <td>1</td>\n",
              "      <td>Pwsteal.Ldpinch.D</td>\n",
              "      <td>Afx</td>\n",
              "    </tr>\n",
              "    <tr>\n",
              "      <th>16655</th>\n",
              "      <td>1</td>\n",
              "      <td>Into The Rainbow Vein</td>\n",
              "      <td>Boards Of Canada</td>\n",
              "    </tr>\n",
              "    <tr>\n",
              "      <th>16654</th>\n",
              "      <td>1</td>\n",
              "      <td>A Moment Of Clarity</td>\n",
              "      <td>Boards Of Canada</td>\n",
              "    </tr>\n",
              "    <tr>\n",
              "      <th>16653</th>\n",
              "      <td>1</td>\n",
              "      <td>'84 Pontiac Dream</td>\n",
              "      <td>Boards Of Canada</td>\n",
              "    </tr>\n",
              "    <tr>\n",
              "      <th>16652</th>\n",
              "      <td>1</td>\n",
              "      <td>Skyliner</td>\n",
              "      <td>Boards Of Canada</td>\n",
              "    </tr>\n",
              "  </tbody>\n",
              "</table>\n",
              "</div>"
            ],
            "text/plain": [
              "       pid                traname           artname\n",
              "16681    1          Mission Flats    Tommy Guerrero\n",
              "16679    1                    Joy      Rei Harakami\n",
              "16678    1                   Lust      Rei Harakami\n",
              "16677    1            The Essence    Herbie Hancock\n",
              "16676    1              Idioteque         Radiohead\n",
              "16675    1      Change Of Seasons              高木正勝\n",
              "16671    1        Omgyjya Switch7        Aphex Twin\n",
              "16670    1           Fenix Funk 5        Aphex Twin\n",
              "16669    1       Only This Moment          Röyksopp\n",
              "16668    1                   Tras           Battles\n",
              "16667    1          Dayvan Cowboy  Boards Of Canada\n",
              "16664    1        Ways Of Thought             4Hero\n",
              "16663    1                   Solo      José Padilla\n",
              "16659    1            Treefingers         Radiohead\n",
              "16658    1    Have It (Interlude)            T-Pain\n",
              "16657    1      Pwsteal.Ldpinch.D               Afx\n",
              "16655    1  Into The Rainbow Vein  Boards Of Canada\n",
              "16654    1    A Moment Of Clarity  Boards Of Canada\n",
              "16653    1      '84 Pontiac Dream  Boards Of Canada\n",
              "16652    1               Skyliner  Boards Of Canada"
            ]
          },
          "metadata": {
            "tags": []
          },
          "execution_count": 36
        }
      ]
    },
    {
      "cell_type": "code",
      "metadata": {
        "id": "p6HeM8B6rB-U",
        "colab_type": "code",
        "outputId": "9b55b6d0-645c-4975-d492-7929a0eabb84",
        "colab": {
          "base_uri": "https://localhost:8080/",
          "height": 80
        }
      },
      "source": [
        "with_names(test_df.head(1)[[\"pid\", \"traid\"]], names_df)"
      ],
      "execution_count": 37,
      "outputs": [
        {
          "output_type": "execute_result",
          "data": {
            "text/html": [
              "<div>\n",
              "<style scoped>\n",
              "    .dataframe tbody tr th:only-of-type {\n",
              "        vertical-align: middle;\n",
              "    }\n",
              "\n",
              "    .dataframe tbody tr th {\n",
              "        vertical-align: top;\n",
              "    }\n",
              "\n",
              "    .dataframe thead th {\n",
              "        text-align: right;\n",
              "    }\n",
              "</style>\n",
              "<table border=\"1\" class=\"dataframe\">\n",
              "  <thead>\n",
              "    <tr style=\"text-align: right;\">\n",
              "      <th></th>\n",
              "      <th>pid</th>\n",
              "      <th>traname</th>\n",
              "      <th>artname</th>\n",
              "    </tr>\n",
              "  </thead>\n",
              "  <tbody>\n",
              "    <tr>\n",
              "      <th>0</th>\n",
              "      <td>1</td>\n",
              "      <td>The Last Emperor (Theme)</td>\n",
              "      <td>坂本龍一</td>\n",
              "    </tr>\n",
              "  </tbody>\n",
              "</table>\n",
              "</div>"
            ],
            "text/plain": [
              "   pid                   traname artname\n",
              "0    1  The Last Emperor (Theme)    坂本龍一"
            ]
          },
          "metadata": {
            "tags": []
          },
          "execution_count": 37
        }
      ]
    },
    {
      "cell_type": "code",
      "metadata": {
        "id": "e06CyUHsE8jB",
        "colab_type": "code",
        "outputId": "0d4effff-839a-4bc7-d0bc-7779038a7d9b",
        "colab": {
          "base_uri": "https://localhost:8080/",
          "height": 35
        }
      },
      "source": [
        "print(\"Using {:,} of {:,} users in test set because of unknown tracks\".format(\n",
        "    test_df[\"pid\"].nunique(), train_df[\"pid\"].nunique()))"
      ],
      "execution_count": 38,
      "outputs": [
        {
          "output_type": "stream",
          "text": [
            "Using 986 of 990 users in test set because of unknown tracks\n"
          ],
          "name": "stdout"
        }
      ]
    },
    {
      "cell_type": "markdown",
      "metadata": {
        "id": "KTXNd5fCQOjq",
        "colab_type": "text"
      },
      "source": [
        "# Evaluation metrics"
      ]
    },
    {
      "cell_type": "markdown",
      "metadata": {
        "id": "g27TNNu-rKbh",
        "colab_type": "text"
      },
      "source": [
        "As evaluation metrics we will use NDCG and hit rates / recall@n."
      ]
    },
    {
      "cell_type": "code",
      "metadata": {
        "id": "Pmf2k-v4hgMz",
        "colab_type": "code",
        "colab": {}
      },
      "source": [
        "def with_time(method):\n",
        "    def timed(*args, **kw):\n",
        "        ts = time.time()\n",
        "        result = method(*args, **kw)\n",
        "        te = time.time()\n",
        "        if result is None:\n",
        "          return (te - ts)\n",
        "        else:\n",
        "          return result, (te - ts)\n",
        "          \n",
        "    return timed\n",
        "\n",
        "\n",
        "def hit_rate(pred_tracks_df, true_tracks_df, n=1):\n",
        "  \"\"\"\n",
        "  Computes the mean user hit rate.\n",
        "  \n",
        "  Assumes\n",
        "   * pred_tracks_df sorted by score per pid\n",
        "   * true_tracks_df has only one true track per pid!\n",
        "  \"\"\"\n",
        "  \n",
        "  pred_tracks_df = pred_tracks_df.groupby(\"pid\").head(n)\n",
        "  hits = len(pred_tracks_df.join(true_tracks_df.set_index([\"pid\", \"traid\"]),\n",
        "                                 on=[\"pid\", \"traid\"], how=\"inner\"))\n",
        "  hit_rate = hits / pred_tracks_df[\"pid\"].nunique()\n",
        "  \n",
        "  return hit_rate\n",
        "\n",
        "\n",
        "def hit_rates(pred_tracks_df, true_tracks_df, max_n=500):\n",
        "  \"\"\"\n",
        "  Computes the mean user hit rate for each n up to max_n.\n",
        "  \n",
        "  Assumes pred_tracks_df sorted by score per pid\n",
        "  \"\"\"\n",
        "  \n",
        "  pred_tracks_df = pred_tracks_df.groupby(\"pid\").head(max_n)\n",
        "  \n",
        "  hits = pred_tracks_df\n",
        "  hits[\"n\"] = hits.groupby(\"pid\").cumcount()\n",
        "  true_tracks_df[\"r\"] = true_tracks_df.groupby(\"pid\")[\"traid\"].transform(\"size\")\n",
        "  hits = hits.join(true_tracks_df.set_index([\"pid\", \"traid\"]),\n",
        "                   on=[\"pid\", \"traid\"], how=\"inner\")\n",
        "  hits[\"hits\"] = 1.0 / hits[\"r\"]\n",
        "  \n",
        "  cum_hits = hits.groupby(\"n\")[\"hits\"].sum().cumsum()\n",
        "  cum_hits = cum_hits.reindex(range(0, max_n), method=\"pad\")\n",
        "  cum_hits.fillna(0.0, inplace=True)\n",
        "  \n",
        "  cum_hit_rates = cum_hits.to_numpy() / pred_tracks_df[\"pid\"].nunique()\n",
        "  \n",
        "  return cum_hit_rates\n",
        "\n",
        "\n",
        "def ndcg(pred_tracks_df, true_tracks_df, n=500):\n",
        "  \"\"\"\n",
        "  Computes the mean user NDCG.\n",
        "  \n",
        "  Assumes pred_tracks_df sorted by score per pid\n",
        "  \"\"\"\n",
        "  \n",
        "  pred_tracks_df = pred_tracks_df.groupby(\"pid\").head(n)\n",
        "  true_tracks_df = true_tracks_df.groupby(\"pid\").head(n)\n",
        "  \n",
        "  dcgs = pred_tracks_df\n",
        "  dcgs[\"n\"] = dcgs.groupby(\"pid\").cumcount()\n",
        "  dcgs = dcgs.join(true_tracks_df.set_index([\"pid\", \"traid\"]),\n",
        "                   on=[\"pid\", \"traid\"], how=\"inner\")\n",
        "  dcgs[\"dcg\"] = 1.0 / np.log2(dcgs[\"n\"].to_numpy() + 2)\n",
        "  dcg = dcgs.groupby(\"pid\")[\"dcg\"].sum()\n",
        "  \n",
        "  idcgs = true_tracks_df\n",
        "  idcgs[\"n\"] = idcgs.groupby(\"pid\").cumcount()\n",
        "  idcgs[\"dcg\"] = 1.0 / np.log2(idcgs[\"n\"].to_numpy() + 2)\n",
        "  idcg = idcgs.groupby(\"pid\")[\"dcg\"].sum()\n",
        "  \n",
        "  return (dcg / idcg).sum()  / pred_tracks_df[\"pid\"].nunique()"
      ],
      "execution_count": 0,
      "outputs": []
    },
    {
      "cell_type": "markdown",
      "metadata": {
        "id": "92fCzkJEQVn1",
        "colab_type": "text"
      },
      "source": [
        "# Baseline algorithms"
      ]
    },
    {
      "cell_type": "markdown",
      "metadata": {
        "id": "xu2NeNRVyKNs",
        "colab_type": "text"
      },
      "source": [
        "Now we want to evaluate some baseline algorithms on the dataset. We will use the following algorithms.\n",
        "\n",
        "*   PopRank\n",
        "*   Same Artist - Greatest Hits (SAGH)\n",
        "*   kNN user-based collaborative filtering\n",
        "\n",
        "These algorithms were presented and evaluated for playlist generation in\n",
        "\n",
        "\n",
        "> Geoffray Bonnin and Dietmar Jannach.<br>\n",
        "> **Automated generation of music playlists:Survey and experiments**.<br>\n",
        "> *In ACM CSUR, pages 26:1--26:35, 2015*\n",
        "\n",
        "\n"
      ]
    },
    {
      "cell_type": "markdown",
      "metadata": {
        "id": "mO0lNBGmUj8B",
        "colab_type": "text"
      },
      "source": [
        "## Implementation"
      ]
    },
    {
      "cell_type": "markdown",
      "metadata": {
        "id": "TTFswbnD43_Y",
        "colab_type": "text"
      },
      "source": [
        "The following implementations are based on the description from this article, but support additional options (*count_listenings*, *tf*, *tf-idf*, *filter_user_tracks*) relevant for listening history continuation since it is possible and common that a track occurs in a listening history multiple times.\n",
        "\n",
        "In general, for the implementation of the algorithms we will prefer lower-level scipy (sparse) matrix and numpy array operations over pandas dataframe and series operations for performance reasons.\n",
        "\n",
        "For these lower level operations it is essential that \n",
        "\n",
        "*   userid / artid / traid values are integers from *0* to *#userid* / *#artid* / *#traid*\n",
        "*   if the train and test set have different users, the userids refer to different users but are in both data sets integers from *0* to *#train userid* / *#test userid*. This means that userid *1* exists in both train and test set but refers to a different user.\n",
        "\n"
      ]
    },
    {
      "cell_type": "code",
      "metadata": {
        "id": "4IcHf7lSrZbT",
        "colab_type": "code",
        "colab": {}
      },
      "source": [
        "def df2csr(df, cols, nodup=True, shape=None, return_df=False):\n",
        "  \"\"\"\n",
        "  Converts a dataframe with 2 or 3 columns into a csr matrix where\n",
        "   * column 1 are the row indices\n",
        "   * column 2 are the column indices\n",
        "   * column 3 are the values or all values are one\n",
        "\n",
        "  This csr matrix can be more efficient to work with in some algorithms\n",
        "  \"\"\"\n",
        "  \n",
        "  rowcol = cols[0]\n",
        "  colcol = cols[1]\n",
        "  valcol = cols[2] if len(cols) > 2 else None\n",
        "    \n",
        "  if nodup:\n",
        "    dfcols = [col for col in cols if col]\n",
        "    df = df[dfcols].drop_duplicates()\n",
        "  \n",
        "  row_arr = df[rowcol].to_numpy()\n",
        "  col_arr = df[colcol].to_numpy()\n",
        "  val_arr = df[valcol].to_numpy() if valcol else np.ones(row_arr.shape)\n",
        "  \n",
        "  mat = csr_matrix((val_arr, (row_arr, col_arr)), shape=shape)\n",
        "  \n",
        "  if not nodup:\n",
        "    mat.sum_duplicates()\n",
        "  \n",
        "  if return_df:\n",
        "    return mat, df\n",
        "  \n",
        "  return mat\n",
        "\n",
        "\n",
        "class TrackArtistEnricher:\n",
        "  \n",
        "  def fit(self, train_df):\n",
        "    self.tra_art_s = (train_df[[\"traid\", \"artid\"]]\n",
        "                      .drop_duplicates()\n",
        "                      .append(pd.DataFrame({\"traid\": [0], \"artid\": [0]}))\n",
        "                      .set_index(\"traid\"))\n",
        "  \n",
        "  def transform(self, df):\n",
        "    return df.join(self.tra_art_s, on=\"traid\")\n",
        "\n",
        "  \n",
        "t_cols = [\"score\", \"pid\", \"traid\"]"
      ],
      "execution_count": 0,
      "outputs": []
    },
    {
      "cell_type": "code",
      "metadata": {
        "id": "YnTuy4TQrcE5",
        "colab_type": "code",
        "colab": {}
      },
      "source": [
        "class PopRank:\n",
        "  \n",
        "  @with_time\n",
        "  def fit(self, train_df, count_listens=False, tf=False):\n",
        "    nodup = not count_listens and not tf\n",
        "    tra_user_mat = df2csr(train_df, [\"traid\", \"pid\"], nodup=nodup)\n",
        "    \n",
        "    if tf:\n",
        "      tra_user_mat.data = np.log2(1 + tra_user_mat.data)\n",
        "\n",
        "    scores = tra_user_mat.sum(axis=1).A.reshape(-1)\n",
        "    \n",
        "    self.scores_s = pd.Series(data=scores, name=\"score\")\n",
        "    self.scores_s.index.name = \"traid\"\n",
        "  \n",
        "  def transform_no_filter(self, query_df, n):\n",
        "    users_df = query_df[[\"pid\"]].drop_duplicates()\n",
        "    users_df[\"tmpkey\"] = 0\n",
        "    t_df = self.scores_s.nlargest(n).reset_index().copy()\n",
        "    t_df[\"tmpkey\"] = 0\n",
        "    return users_df.merge(t_df, on=\"tmpkey\")\n",
        "  \n",
        "  def transform_filter(self, query_df, n):    \n",
        "    gp = query_df[[\"pid\", \"traid\"]].drop_duplicates().groupby(\"pid\")\n",
        "    m = gp.size().max()\n",
        "    \n",
        "    # trick for efficiently filtering user tracks\n",
        "    # use mutable scores series\n",
        "    # \n",
        "    #  1. get best n + m (maximum user tracks) sorted scores\n",
        "    nmlargest_idx = self.scores_s.nlargest(n + m).index.to_numpy()\n",
        "\n",
        "    t_dfs = []\n",
        "    for userid, user_df in gp:\n",
        "      user_tracks = user_df[\"traid\"].to_numpy()\n",
        "      \n",
        "      #  2. set scores of filtered tracks to 0 - changes df state\n",
        "      tmpscores = self.scores_s.iloc[user_tracks]\n",
        "      self.scores_s.iloc[user_tracks] = 0.0\n",
        "\n",
        "      sorted_scores = self.scores_s.iloc[nmlargest_idx].to_numpy()\n",
        "\n",
        "      #  3. get best n sorted scores without added 0s\n",
        "      nonzero_idx = np.nonzero(sorted_scores)[0][:n]\n",
        "      resorted_idx = nmlargest_idx[nonzero_idx]\n",
        "\n",
        "      #  4. reset 0 scores - changes df state back\n",
        "      t_s = self.scores_s.iloc[resorted_idx]\n",
        "\n",
        "      self.scores_s.iloc[user_tracks] = tmpscores\n",
        "\n",
        "      t_df = t_s.reset_index()\n",
        "      t_df[\"pid\"] = userid\n",
        "      t_dfs.append(t_df)\n",
        "    \n",
        "    return pd.concat(t_dfs, sort=False)\n",
        "  \n",
        "  @with_time\n",
        "  def transform(self, query_df, n=500, filter_user_tracks=False):\n",
        "    if filter_user_tracks:\n",
        "      t_df = self.transform_filter(query_df, n)\n",
        "    else:\n",
        "      t_df = self.transform_no_filter(query_df, n)\n",
        "    \n",
        "    return t_df[t_cols]"
      ],
      "execution_count": 0,
      "outputs": []
    },
    {
      "cell_type": "code",
      "metadata": {
        "id": "zQ0zSA2-rfhM",
        "colab_type": "code",
        "colab": {}
      },
      "source": [
        "class SAGH:\n",
        "  \n",
        "  @with_time\n",
        "  def fit(self, train_df, count_listens=False, tf=False):\n",
        "    self.pop_rank = PopRank()\n",
        "    self.pop_rank.fit(train_df, count_listens=count_listens, tf=tf)\n",
        "    \n",
        "    art_en = TrackArtistEnricher()\n",
        "    art_en.fit(train_df)\n",
        "    art_tra_scores_df = art_en.transform(self.pop_rank.scores_s.reset_index())\n",
        "    art_tra_scores_df.drop(0, inplace=True)  # remove missing artists\n",
        "    \n",
        "    self.art_tra_mat = df2csr(art_tra_scores_df,\n",
        "                              [\"artid\", \"traid\", \"score\"],\n",
        "                              nodup=True)\n",
        "  \n",
        "  @with_time\n",
        "  def transform(self, query_df, n=500, filter_user_tracks=False):\n",
        "    userids = query_df[\"pid\"].drop_duplicates()  \n",
        "    user_art_mat = df2csr(query_df, [\"pid\", \"artid\"],\n",
        "                          nodup=True,\n",
        "                          shape=(userids.max() + 1, self.art_tra_mat.shape[0]))\n",
        "\n",
        "    # popularity scores of tracks of same artists\n",
        "    tra_scores_mat = user_art_mat * self.art_tra_mat\n",
        "\n",
        "    if filter_user_tracks:\n",
        "      # trick for efficiently filtering user tracks\n",
        "      # use same mutable mask for each user \n",
        "      gp = query_df[[\"pid\", \"traid\"]].drop_duplicates().groupby(\"pid\")\n",
        "      tracks_mask = np.ones(self.art_tra_mat.shape[1])\n",
        "    else:\n",
        "      gp = ((userid, None) for userid in userids)\n",
        "\n",
        "    t_dfs = []      \n",
        "    for userid, user_df in gp:\n",
        "      start = time.time()\n",
        "\n",
        "      l = tra_scores_mat.indptr[userid]\n",
        "      r = tra_scores_mat.indptr[userid + 1]\n",
        "\n",
        "      userids = np.full(r - l, userid)\n",
        "      tracks = tra_scores_mat.indices[l:r]\n",
        "      scores = tra_scores_mat.data[l:r]\n",
        "\n",
        "      t_df = pd.DataFrame({\"pid\": userids, \"traid\": tracks, \"score\": scores})\n",
        "\n",
        "      if filter_user_tracks:\n",
        "        user_tracks = user_df[\"traid\"].to_numpy()\n",
        "        tracks_mask[user_tracks] = 0\n",
        "        \n",
        "        t_df = t_df.nlargest(n + len(user_tracks), \"score\")\n",
        "        n_offsets = np.nonzero(tracks_mask[t_df[\"traid\"].to_numpy()])[0][:n]\n",
        "        t_df = t_df.iloc[n_offsets]\n",
        "        \n",
        "        tracks_mask[user_tracks] = 1\n",
        "      else:\n",
        "        t_df = t_df.nlargest(n, \"score\")\n",
        "      \n",
        "      t_dfs.append(t_df)\n",
        "\n",
        "    return pd.concat(t_dfs, sort=False)[t_cols]"
      ],
      "execution_count": 0,
      "outputs": []
    },
    {
      "cell_type": "code",
      "metadata": {
        "id": "J88VoPVeriBR",
        "colab_type": "code",
        "colab": {}
      },
      "source": [
        "class KNN:\n",
        "  \n",
        "  @with_time\n",
        "  def fit(self, train_df, count_listens=False, tfidf=False):    \n",
        "    self.user_tra_mat = df2csr(train_df, [\"pid\", \"traid\"], nodup=not tfidf)\n",
        "    \n",
        "    self.tfidf_trans = None\n",
        "    if tfidf:\n",
        "      self.tfidf_trans = TfidfTransformer(sublinear_tf=True)\n",
        "    if count_listens:\n",
        "      self.tfidf_trans = TfidfTransformer(norm=None, use_idf=False)\n",
        "    if tfidf or count_listens:\n",
        "      self.user_tra_mat = self.tfidf_trans.fit_transform(self.user_tra_mat)\n",
        "    \n",
        "    # for cosine similarity\n",
        "    self.tra_user_normalized = normalize(self.user_tra_mat).T\n",
        "  \n",
        "  @with_time\n",
        "  def transform(self, query_df, n=500, k=50, filter_user_tracks=False):    \n",
        "    mat = df2csr(query_df, [\"pid\", \"traid\"],\n",
        "                 nodup=not self.tfidf_trans,\n",
        "                 shape=self.user_tra_mat.shape)\n",
        "    \n",
        "    if self.tfidf_trans:\n",
        "      mat = self.tfidf_trans.transform(mat)\n",
        "\n",
        "    normalize(mat, copy=False)  # for cosine similarity\n",
        "    \n",
        "    # cosine similarity\n",
        "    # this needs O(n^2) memory for n users, but is stored sparse at least\n",
        "    nn_scores = mat * self.tra_user_normalized\n",
        "    \n",
        "    if filter_user_tracks:\n",
        "      # trick for efficiently filtering user tracks\n",
        "      # use same mutable mask for each user \n",
        "      gp = query_df[[\"pid\", \"traid\"]].drop_duplicates().groupby(\"pid\")\n",
        "      tracks_mask = np.ones(self.user_tra_mat.shape[1])\n",
        "    else:\n",
        "      gp = ((i, i) for i in range(self.user_tra_mat.shape[0]))\n",
        "\n",
        "    t_dfs = []\n",
        "    for userid, user_df in gp:\n",
        "      # k nearest neighbors by cosine similarity\n",
        "      l = nn_scores.indptr[userid]\n",
        "      r = nn_scores.indptr[userid + 1]\n",
        "      if (r - l) <= k:\n",
        "        nn_users = nn_scores.indices[l:r]\n",
        "      else:\n",
        "        k_offsets = np.argpartition(nn_scores.data[l:r], -k)[-k:]\n",
        "        nn_users = nn_scores.indices[l + k_offsets]\n",
        "\n",
        "      # track scores as tracks of neighbors weighted by cosine similarity\n",
        "      scores =  nn_scores[userid,nn_users] * self.user_tra_mat[nn_users,:]\n",
        "\n",
        "      userids = np.full(len(scores.indices), userid)\n",
        "      tracks = scores.indices\n",
        "      scores = scores.data\n",
        "      \n",
        "      t_df = pd.DataFrame({\"pid\": userids, \"traid\": tracks, \"score\": scores})\n",
        "      \n",
        "      if filter_user_tracks:\n",
        "        user_tracks = user_df[\"traid\"].to_numpy()\n",
        "        tracks_mask[user_tracks] = 0\n",
        "        \n",
        "        t_df = t_df.nlargest(n + user_tracks.size, \"score\")\n",
        "        n_offsets = np.nonzero(tracks_mask[t_df[\"traid\"].to_numpy()])[0][:n]\n",
        "        t_df = t_df.iloc[n_offsets]\n",
        "        \n",
        "        tracks_mask[user_tracks] = 1\n",
        "      else:\n",
        "        t_df = t_df.nlargest(n, \"score\")\n",
        "        \n",
        "      t_dfs.append(t_df)\n",
        "    \n",
        "    return pd.concat(t_dfs, sort=False)[t_cols]"
      ],
      "execution_count": 0,
      "outputs": []
    },
    {
      "cell_type": "markdown",
      "metadata": {
        "id": "qS7Z7hERVABL",
        "colab_type": "text"
      },
      "source": [
        "## Evaluation"
      ]
    },
    {
      "cell_type": "code",
      "metadata": {
        "id": "UjRJf646hzlV",
        "colab_type": "code",
        "outputId": "98e52ded-4ee3-43d0-fd50-eaf676e8ba15",
        "colab": {
          "base_uri": "https://localhost:8080/",
          "height": 294
        }
      },
      "source": [
        "pop_rank = PopRank()\n",
        "pop_rank_fit_time = pop_rank.fit(train_df)\n",
        "pop_rank_df, pop_rank_trans_time = pop_rank.transform(train_df)\n",
        "pop_rank_hit_rate = hit_rate(pop_rank_df, test_df)\n",
        "pop_rank_ndcg = ndcg(pop_rank_df, test_df)\n",
        "\n",
        "print(\"{:.6f} hit rate\\n{:.6f} ndcg\\n\\n{:.5f}s fit time \\n{:.5f}s trans time\"\n",
        "      .format(pop_rank_hit_rate,\n",
        "              pop_rank_ndcg,\n",
        "              pop_rank_fit_time,\n",
        "              pop_rank_trans_time))\n",
        "\n",
        "with_names(pop_rank_df.head(), names_df)"
      ],
      "execution_count": 0,
      "outputs": [
        {
          "output_type": "stream",
          "text": [
            "0.000000 hit rate\n",
            "0.004030 ndcg\n",
            "\n",
            "1.33495s fit time \n",
            "0.29550s trans time\n"
          ],
          "name": "stdout"
        },
        {
          "output_type": "execute_result",
          "data": {
            "text/html": [
              "<div>\n",
              "<style scoped>\n",
              "    .dataframe tbody tr th:only-of-type {\n",
              "        vertical-align: middle;\n",
              "    }\n",
              "\n",
              "    .dataframe tbody tr th {\n",
              "        vertical-align: top;\n",
              "    }\n",
              "\n",
              "    .dataframe thead th {\n",
              "        text-align: right;\n",
              "    }\n",
              "</style>\n",
              "<table border=\"1\" class=\"dataframe\">\n",
              "  <thead>\n",
              "    <tr style=\"text-align: right;\">\n",
              "      <th></th>\n",
              "      <th>score</th>\n",
              "      <th>pid</th>\n",
              "      <th>traname</th>\n",
              "      <th>artname</th>\n",
              "    </tr>\n",
              "  </thead>\n",
              "  <tbody>\n",
              "    <tr>\n",
              "      <th>0</th>\n",
              "      <td>346.0</td>\n",
              "      <td>1</td>\n",
              "      <td>Karma Police</td>\n",
              "      <td>Radiohead</td>\n",
              "    </tr>\n",
              "    <tr>\n",
              "      <th>1</th>\n",
              "      <td>340.0</td>\n",
              "      <td>1</td>\n",
              "      <td>Paranoid Android</td>\n",
              "      <td>Radiohead</td>\n",
              "    </tr>\n",
              "    <tr>\n",
              "      <th>2</th>\n",
              "      <td>333.0</td>\n",
              "      <td>1</td>\n",
              "      <td>Somebody Told Me</td>\n",
              "      <td>The Killers</td>\n",
              "    </tr>\n",
              "    <tr>\n",
              "      <th>3</th>\n",
              "      <td>326.0</td>\n",
              "      <td>1</td>\n",
              "      <td>Wonderwall</td>\n",
              "      <td>Oasis</td>\n",
              "    </tr>\n",
              "    <tr>\n",
              "      <th>4</th>\n",
              "      <td>321.0</td>\n",
              "      <td>1</td>\n",
              "      <td>Such Great Heights</td>\n",
              "      <td>The Postal Service</td>\n",
              "    </tr>\n",
              "  </tbody>\n",
              "</table>\n",
              "</div>"
            ],
            "text/plain": [
              "   score  pid             traname             artname\n",
              "0  346.0    1        Karma Police           Radiohead\n",
              "1  340.0    1    Paranoid Android           Radiohead\n",
              "2  333.0    1    Somebody Told Me         The Killers\n",
              "3  326.0    1          Wonderwall               Oasis\n",
              "4  321.0    1  Such Great Heights  The Postal Service"
            ]
          },
          "metadata": {
            "tags": []
          },
          "execution_count": 45
        }
      ]
    },
    {
      "cell_type": "code",
      "metadata": {
        "id": "N_j8jugSUsZl",
        "colab_type": "code",
        "outputId": "75703869-6b3c-4dc0-c898-5edf59616d8b",
        "colab": {
          "base_uri": "https://localhost:8080/",
          "height": 89
        }
      },
      "source": [
        "pop_rank_df, pop_rank_f_trans_time = pop_rank.transform(train_df,\n",
        "                                                        filter_user_tracks=True)\n",
        "pop_rank_f_hit_rate = hit_rate(pop_rank_df, test_df)\n",
        "pop_rank_f_ndcg = ndcg(pop_rank_df, test_df)\n",
        "\n",
        "print(\"{:.6f} hit rate\\n{:.6f} ndcg\\n\\n{:.5f}s trans time\"\n",
        "      .format(pop_rank_f_hit_rate, pop_rank_f_ndcg, pop_rank_f_trans_time))"
      ],
      "execution_count": 0,
      "outputs": [
        {
          "output_type": "stream",
          "text": [
            "0.000000 hit rate\n",
            "0.002487 ndcg\n",
            "\n",
            "4.81047s trans time\n"
          ],
          "name": "stdout"
        }
      ]
    },
    {
      "cell_type": "code",
      "metadata": {
        "id": "X0f2E6KfJd8f",
        "colab_type": "code",
        "outputId": "37c68b5a-503a-4e9e-cb35-361bcc90643a",
        "colab": {
          "base_uri": "https://localhost:8080/",
          "height": 107
        }
      },
      "source": [
        "pop_rank = PopRank()\n",
        "pop_rank_l_fit_time = pop_rank.fit(train_df, count_listens=True)\n",
        "pop_rank_df, pop_rank_l_trans_time = pop_rank.transform(train_df)\n",
        "pop_rank_l_hit_rates = hit_rates(pop_rank_df, test_df)\n",
        "pop_rank_l_ndcg = ndcg(pop_rank_df, test_df)\n",
        "\n",
        "print(\"{:.6f} hit rate\\n{:.6f} ndcg\\n\\n{:.5f}s fit time \\n{:.5f}s trans time\"\n",
        "      .format(pop_rank_l_hit_rates[0], pop_rank_l_ndcg, pop_rank_l_fit_time,\n",
        "              pop_rank_l_trans_time))"
      ],
      "execution_count": 0,
      "outputs": [
        {
          "output_type": "stream",
          "text": [
            "0.000000 hit rate\n",
            "0.005288 ndcg\n",
            "\n",
            "0.65759s fit time \n",
            "0.26616s trans time\n"
          ],
          "name": "stdout"
        }
      ]
    },
    {
      "cell_type": "code",
      "metadata": {
        "id": "jfHIsFkY3YkM",
        "colab_type": "code",
        "outputId": "9dee31a2-f028-48a9-a3b3-5bc70f7c7241",
        "colab": {
          "base_uri": "https://localhost:8080/",
          "height": 107
        }
      },
      "source": [
        "pop_rank = PopRank()\n",
        "pop_rank_tf_fit_time = pop_rank.fit(train_df, tf=True)\n",
        "pop_rank_df, pop_rank_tf_trans_time = pop_rank.transform(train_df)\n",
        "pop_rank_tf_hit_rate = hit_rate(pop_rank_df, test_df)\n",
        "pop_rank_tf_ndcg = ndcg(pop_rank_df, test_df)\n",
        "\n",
        "print(\"{:.6f} hit rate\\n{:.6f} ndcg\\n\\n{:.5f}s fit time \\n{:.5f}s trans time\"\n",
        "      .format(pop_rank_tf_hit_rate, pop_rank_tf_ndcg, pop_rank_tf_fit_time,\n",
        "              pop_rank_tf_trans_time))"
      ],
      "execution_count": 0,
      "outputs": [
        {
          "output_type": "stream",
          "text": [
            "0.000000 hit rate\n",
            "0.004111 ndcg\n",
            "\n",
            "0.71107s fit time \n",
            "0.27539s trans time\n"
          ],
          "name": "stdout"
        }
      ]
    },
    {
      "cell_type": "code",
      "metadata": {
        "id": "PuJnPzAACHFn",
        "colab_type": "code",
        "colab": {}
      },
      "source": [
        "del pop_rank\n",
        "del pop_rank_df"
      ],
      "execution_count": 0,
      "outputs": []
    },
    {
      "cell_type": "code",
      "metadata": {
        "id": "HTuL6zpY5IlJ",
        "colab_type": "code",
        "outputId": "831c5585-05aa-4ff0-997f-606332224ca2",
        "colab": {
          "base_uri": "https://localhost:8080/",
          "height": 294
        }
      },
      "source": [
        "sagh = SAGH()\n",
        "sagh_fit_time = sagh.fit(train_df)\n",
        "sagh_df, sagh_trans_time = sagh.transform(train_df)\n",
        "\n",
        "sagh_hit_rate = hit_rate(sagh_df, test_df)\n",
        "sagh_ndcg = ndcg(sagh_df, test_df)\n",
        "\n",
        "print(\"{:.6f} hit rate\\n{:.6f} ndcg\\n\\n{:.5f}s fit time \\n{:.5f}s trans time\"\n",
        "      .format(sagh_hit_rate, sagh_ndcg, sagh_fit_time, sagh_trans_time))\n",
        "\n",
        "with_names(sagh_df.head(), names_df)"
      ],
      "execution_count": 0,
      "outputs": [
        {
          "output_type": "stream",
          "text": [
            "0.000000 hit rate\n",
            "0.006883 ndcg\n",
            "\n",
            "2.17674s fit time \n",
            "4.90211s trans time\n"
          ],
          "name": "stdout"
        },
        {
          "output_type": "execute_result",
          "data": {
            "text/html": [
              "<div>\n",
              "<style scoped>\n",
              "    .dataframe tbody tr th:only-of-type {\n",
              "        vertical-align: middle;\n",
              "    }\n",
              "\n",
              "    .dataframe tbody tr th {\n",
              "        vertical-align: top;\n",
              "    }\n",
              "\n",
              "    .dataframe thead th {\n",
              "        text-align: right;\n",
              "    }\n",
              "</style>\n",
              "<table border=\"1\" class=\"dataframe\">\n",
              "  <thead>\n",
              "    <tr style=\"text-align: right;\">\n",
              "      <th></th>\n",
              "      <th>score</th>\n",
              "      <th>pid</th>\n",
              "      <th>traname</th>\n",
              "      <th>artname</th>\n",
              "    </tr>\n",
              "  </thead>\n",
              "  <tbody>\n",
              "    <tr>\n",
              "      <th>13998</th>\n",
              "      <td>346.0</td>\n",
              "      <td>1</td>\n",
              "      <td>Karma Police</td>\n",
              "      <td>Radiohead</td>\n",
              "    </tr>\n",
              "    <tr>\n",
              "      <th>14002</th>\n",
              "      <td>340.0</td>\n",
              "      <td>1</td>\n",
              "      <td>Paranoid Android</td>\n",
              "      <td>Radiohead</td>\n",
              "    </tr>\n",
              "    <tr>\n",
              "      <th>4893</th>\n",
              "      <td>326.0</td>\n",
              "      <td>1</td>\n",
              "      <td>Wonderwall</td>\n",
              "      <td>Oasis</td>\n",
              "    </tr>\n",
              "    <tr>\n",
              "      <th>14004</th>\n",
              "      <td>313.0</td>\n",
              "      <td>1</td>\n",
              "      <td>Creep</td>\n",
              "      <td>Radiohead</td>\n",
              "    </tr>\n",
              "    <tr>\n",
              "      <th>13993</th>\n",
              "      <td>294.0</td>\n",
              "      <td>1</td>\n",
              "      <td>No Surprises</td>\n",
              "      <td>Radiohead</td>\n",
              "    </tr>\n",
              "  </tbody>\n",
              "</table>\n",
              "</div>"
            ],
            "text/plain": [
              "       score  pid           traname    artname\n",
              "13998  346.0    1      Karma Police  Radiohead\n",
              "14002  340.0    1  Paranoid Android  Radiohead\n",
              "4893   326.0    1        Wonderwall      Oasis\n",
              "14004  313.0    1             Creep  Radiohead\n",
              "13993  294.0    1      No Surprises  Radiohead"
            ]
          },
          "metadata": {
            "tags": []
          },
          "execution_count": 56
        }
      ]
    },
    {
      "cell_type": "code",
      "metadata": {
        "id": "0JOhKYqUVN_C",
        "colab_type": "code",
        "outputId": "74cf2e73-4d1e-40f9-891d-b215ea95136e",
        "colab": {
          "base_uri": "https://localhost:8080/",
          "height": 89
        }
      },
      "source": [
        "sagh_df, sagh_f_trans_time = sagh.transform(train_df, filter_user_tracks=True)\n",
        "sagh_f_hit_rate = hit_rate(sagh_df, test_df)\n",
        "sagh_f_ndcg = ndcg(sagh_df, test_df)\n",
        "\n",
        "print(\"{:.6f} hit rate\\n{:.6f} ndcg\\n\\n{:.5f}s trans time\"\n",
        "      .format(sagh_f_hit_rate, sagh_f_ndcg, sagh_f_trans_time))"
      ],
      "execution_count": 0,
      "outputs": [
        {
          "output_type": "stream",
          "text": [
            "0.000000 hit rate\n",
            "0.002882 ndcg\n",
            "\n",
            "7.63326s trans time\n"
          ],
          "name": "stdout"
        }
      ]
    },
    {
      "cell_type": "code",
      "metadata": {
        "id": "bKTIZfRbJxmJ",
        "colab_type": "code",
        "outputId": "629cfcfd-8bad-4335-bde9-68feab114790",
        "colab": {
          "base_uri": "https://localhost:8080/",
          "height": 107
        }
      },
      "source": [
        "sagh = SAGH()\n",
        "sagh_l_fit_time = sagh.fit(train_df, count_listens=True)\n",
        "sagh_df, sagh_l_trans_time = sagh.transform(train_df)\n",
        "sagh_l_hit_rates = hit_rates(sagh_df, test_df)\n",
        "sagh_l_ndcg = ndcg(sagh_df, test_df)\n",
        "\n",
        "print(\"{:.6f} hit rate\\n{:.6f} ndcg\\n\\n{:.5f}s fit time \\n{:.5f}s trans time\"\n",
        "      .format(sagh_l_hit_rates[0], sagh_l_ndcg, sagh_l_fit_time,\n",
        "              sagh_l_trans_time))"
      ],
      "execution_count": 0,
      "outputs": [
        {
          "output_type": "stream",
          "text": [
            "0.000000 hit rate\n",
            "0.008068 ndcg\n",
            "\n",
            "1.35524s fit time \n",
            "4.86710s trans time\n"
          ],
          "name": "stdout"
        }
      ]
    },
    {
      "cell_type": "code",
      "metadata": {
        "id": "MCvupu5ZDFXC",
        "colab_type": "code",
        "outputId": "5657c425-9dac-44e5-b321-493a34023f99",
        "colab": {
          "base_uri": "https://localhost:8080/",
          "height": 107
        }
      },
      "source": [
        "sagh = SAGH()\n",
        "sagh_tf_fit_time = sagh.fit(train_df, tf=True)\n",
        "sagh_df, sagh_tf_trans_time = sagh.transform(train_df)\n",
        "sagh_tf_hit_rate = hit_rate(sagh_df, test_df)\n",
        "sagh_tf_ndcg = ndcg(sagh_df, test_df)\n",
        "\n",
        "print(\"{:.6f} hit rate\\n{:.6f} ndcg\\n\\n{:.5f}s fit time \\n{:.5f}s trans time\"\n",
        "      .format(sagh_tf_hit_rate, sagh_tf_ndcg, sagh_tf_fit_time,\n",
        "              sagh_tf_trans_time))"
      ],
      "execution_count": 0,
      "outputs": [
        {
          "output_type": "stream",
          "text": [
            "0.000000 hit rate\n",
            "0.007359 ndcg\n",
            "\n",
            "1.43913s fit time \n",
            "4.94537s trans time\n"
          ],
          "name": "stdout"
        }
      ]
    },
    {
      "cell_type": "code",
      "metadata": {
        "id": "2cHV0BRqI-cM",
        "colab_type": "code",
        "colab": {}
      },
      "source": [
        "del sagh\n",
        "del sagh_df"
      ],
      "execution_count": 0,
      "outputs": []
    },
    {
      "cell_type": "code",
      "metadata": {
        "id": "5hhDbSa_XSI9",
        "colab_type": "code",
        "outputId": "06fbadae-96a9-4de3-fba7-dc6ec47dc5c2",
        "colab": {
          "base_uri": "https://localhost:8080/",
          "height": 294
        }
      },
      "source": [
        "knn = KNN()\n",
        "knn_fit_time = knn.fit(train_df)\n",
        "knn_df, knn_trans_time = knn.transform(train_df)\n",
        "knn_hit_rate = hit_rate(knn_df, test_df)\n",
        "knn_ndcg = ndcg(knn_df, test_df)\n",
        "\n",
        "print(\"{:.6f} hit rate\\n{:.6f} ndcg\\n\\n{:.5f}s fit time \\n{:.5f}s trans time\"\n",
        "      .format(knn_hit_rate, knn_ndcg, knn_fit_time, knn_trans_time))\n",
        "\n",
        "with_names(knn_df.head(), names_df)"
      ],
      "execution_count": 0,
      "outputs": [
        {
          "output_type": "stream",
          "text": [
            "0.000000 hit rate\n",
            "0.016577 ndcg\n",
            "\n",
            "1.43272s fit time \n",
            "14.76224s trans time\n"
          ],
          "name": "stdout"
        },
        {
          "output_type": "execute_result",
          "data": {
            "text/html": [
              "<div>\n",
              "<style scoped>\n",
              "    .dataframe tbody tr th:only-of-type {\n",
              "        vertical-align: middle;\n",
              "    }\n",
              "\n",
              "    .dataframe tbody tr th {\n",
              "        vertical-align: top;\n",
              "    }\n",
              "\n",
              "    .dataframe thead th {\n",
              "        text-align: right;\n",
              "    }\n",
              "</style>\n",
              "<table border=\"1\" class=\"dataframe\">\n",
              "  <thead>\n",
              "    <tr style=\"text-align: right;\">\n",
              "      <th></th>\n",
              "      <th>score</th>\n",
              "      <th>pid</th>\n",
              "      <th>traname</th>\n",
              "      <th>artname</th>\n",
              "    </tr>\n",
              "  </thead>\n",
              "  <tbody>\n",
              "    <tr>\n",
              "      <th>125757</th>\n",
              "      <td>2.825613</td>\n",
              "      <td>1</td>\n",
              "      <td>Poor Leno</td>\n",
              "      <td>Röyksopp</td>\n",
              "    </tr>\n",
              "    <tr>\n",
              "      <th>102704</th>\n",
              "      <td>2.824774</td>\n",
              "      <td>1</td>\n",
              "      <td>Only This Moment</td>\n",
              "      <td>Röyksopp</td>\n",
              "    </tr>\n",
              "    <tr>\n",
              "      <th>113791</th>\n",
              "      <td>2.777341</td>\n",
              "      <td>1</td>\n",
              "      <td>Peacock Tail</td>\n",
              "      <td>Boards Of Canada</td>\n",
              "    </tr>\n",
              "    <tr>\n",
              "      <th>129624</th>\n",
              "      <td>2.772517</td>\n",
              "      <td>1</td>\n",
              "      <td>All I Need</td>\n",
              "      <td>Radiohead</td>\n",
              "    </tr>\n",
              "    <tr>\n",
              "      <th>129626</th>\n",
              "      <td>2.738796</td>\n",
              "      <td>1</td>\n",
              "      <td>Nude</td>\n",
              "      <td>Radiohead</td>\n",
              "    </tr>\n",
              "  </tbody>\n",
              "</table>\n",
              "</div>"
            ],
            "text/plain": [
              "           score  pid           traname           artname\n",
              "125757  2.825613    1         Poor Leno          Röyksopp\n",
              "102704  2.824774    1  Only This Moment          Röyksopp\n",
              "113791  2.777341    1      Peacock Tail  Boards Of Canada\n",
              "129624  2.772517    1        All I Need         Radiohead\n",
              "129626  2.738796    1              Nude         Radiohead"
            ]
          },
          "metadata": {
            "tags": []
          },
          "execution_count": 61
        }
      ]
    },
    {
      "cell_type": "code",
      "metadata": {
        "id": "ecMb9tO8hpIi",
        "colab_type": "code",
        "outputId": "a5ef334b-4262-4179-cf99-53ac20fab217",
        "colab": {
          "base_uri": "https://localhost:8080/",
          "height": 89
        }
      },
      "source": [
        "knn_df, knn_f_trans_time = knn.transform(train_df, filter_user_tracks=True)\n",
        "knn_f_hit_rate = hit_rate(knn_df, test_df)\n",
        "knn_f_ndcg = ndcg(knn_df, test_df)\n",
        "\n",
        "print(\"{:.6f} hit rate\\n{:.6f} ndcg\\n\\n{:.5f}s trans time\"\n",
        "      .format(knn_f_hit_rate, knn_f_ndcg, knn_f_trans_time))"
      ],
      "execution_count": 0,
      "outputs": [
        {
          "output_type": "stream",
          "text": [
            "0.002020 hit rate\n",
            "0.003865 ndcg\n",
            "\n",
            "17.82821s trans time\n"
          ],
          "name": "stdout"
        }
      ]
    },
    {
      "cell_type": "code",
      "metadata": {
        "id": "aDkuiI3ujCni",
        "colab_type": "code",
        "outputId": "c5fbac25-6d4f-46a9-e3ef-4ff74dade1a5",
        "colab": {
          "base_uri": "https://localhost:8080/",
          "height": 89
        }
      },
      "source": [
        "knn = KNN()\n",
        "knn_fit_time = knn.fit(train_df, count_listens=True)\n",
        "knn_df, knn_l_trans_time = knn.transform(train_df)\n",
        "knn_l_hit_rate = hit_rate(knn_df, test_df)\n",
        "knn_l_ndcg = ndcg(knn_df, test_df)\n",
        "\n",
        "print(\"{:.6f} hit rate\\n{:.6f} ndcg\\n\\n{:.5f}s trans time\"\n",
        "      .format(knn_l_hit_rate, knn_l_ndcg, knn_l_trans_time))"
      ],
      "execution_count": 0,
      "outputs": [
        {
          "output_type": "stream",
          "text": [
            "0.001010 hit rate\n",
            "0.017812 ndcg\n",
            "\n",
            "13.80618s trans time\n"
          ],
          "name": "stdout"
        }
      ]
    },
    {
      "cell_type": "code",
      "metadata": {
        "id": "yk_alLiDN3ty",
        "colab_type": "code",
        "outputId": "f26b47e1-7915-4d5c-f618-4d1682a34258",
        "colab": {
          "base_uri": "https://localhost:8080/",
          "height": 107
        }
      },
      "source": [
        "knn = KNN()\n",
        "knn_ti_fit_time = knn.fit(train_df, tfidf=True)\n",
        "knn_df, knn_ti_trans_time = knn.transform(train_df)\n",
        "knn_ti_hit_rates = hit_rates(knn_df, test_df)\n",
        "knn_ti_ndcg = ndcg(knn_df, test_df)\n",
        "\n",
        "print(\"{:.6f} hit rate\\n{:.6f} ndcg\\n\\n{:.5f}s fit time \\n{:.5f}s trans time\"\n",
        "      .format(knn_ti_hit_rates[0], knn_ti_ndcg, knn_ti_fit_time,\n",
        "              knn_ti_trans_time))"
      ],
      "execution_count": 0,
      "outputs": [
        {
          "output_type": "stream",
          "text": [
            "0.004040 hit rate\n",
            "0.038585 ndcg\n",
            "\n",
            "1.54673s fit time \n",
            "14.38871s trans time\n"
          ],
          "name": "stdout"
        }
      ]
    },
    {
      "cell_type": "code",
      "metadata": {
        "id": "EhJ27AvIE_ou",
        "colab_type": "code",
        "colab": {}
      },
      "source": [
        "train_df, val_df, val_query_df = last_track_split(df, as_val=True)"
      ],
      "execution_count": 0,
      "outputs": []
    },
    {
      "cell_type": "code",
      "metadata": {
        "id": "1YX-7mBbFA1u",
        "colab_type": "code",
        "colab": {}
      },
      "source": [
        "ks = [10, 50, 100, 150, 200, 250, 300, 350, 400, 450, 500, 1000]\n",
        "knn = KNN()\n",
        "knn_fit_time = knn.fit(train_df, tfidf=True)\n",
        "\n",
        "knn_hit_rates = dict()\n",
        "knn_ndcgs = dict()\n",
        "\n",
        "for k in ks:\n",
        "  knn_df, _= knn.transform(get_query_seeds(val_query_df), k=k,\n",
        "                           filter_user_tracks=True)\n",
        "  knn_hit_rates[k] = hit_rates(knn_df, val_df)\n",
        "  knn_ndcgs[k] = ndcg(knn_df, val_df)"
      ],
      "execution_count": 0,
      "outputs": []
    },
    {
      "cell_type": "code",
      "metadata": {
        "id": "fik-oeXRFdNk",
        "colab_type": "code",
        "outputId": "754c7a0b-9c74-4d04-f9ce-1383db23e98a",
        "colab": {
          "base_uri": "https://localhost:8080/",
          "height": 111
        }
      },
      "source": [
        "rows = [[knn_ndcgs[k] for k in ks], [knn_hit_rates[k][0] for k in ks]]\n",
        "index = [\"NDCG\", \"Hit rate\"]        \n",
        "pd.DataFrame.from_records(rows, columns=ks, index=index)"
      ],
      "execution_count": 0,
      "outputs": [
        {
          "output_type": "execute_result",
          "data": {
            "text/html": [
              "<div>\n",
              "<style scoped>\n",
              "    .dataframe tbody tr th:only-of-type {\n",
              "        vertical-align: middle;\n",
              "    }\n",
              "\n",
              "    .dataframe tbody tr th {\n",
              "        vertical-align: top;\n",
              "    }\n",
              "\n",
              "    .dataframe thead th {\n",
              "        text-align: right;\n",
              "    }\n",
              "</style>\n",
              "<table border=\"1\" class=\"dataframe\">\n",
              "  <thead>\n",
              "    <tr style=\"text-align: right;\">\n",
              "      <th></th>\n",
              "      <th>10</th>\n",
              "      <th>50</th>\n",
              "      <th>100</th>\n",
              "      <th>150</th>\n",
              "      <th>200</th>\n",
              "      <th>250</th>\n",
              "      <th>300</th>\n",
              "      <th>350</th>\n",
              "      <th>400</th>\n",
              "      <th>450</th>\n",
              "      <th>500</th>\n",
              "      <th>1000</th>\n",
              "    </tr>\n",
              "  </thead>\n",
              "  <tbody>\n",
              "    <tr>\n",
              "      <th>NDCG</th>\n",
              "      <td>0.003035</td>\n",
              "      <td>0.004988</td>\n",
              "      <td>0.004786</td>\n",
              "      <td>0.004155</td>\n",
              "      <td>0.003765</td>\n",
              "      <td>0.003462</td>\n",
              "      <td>0.003475</td>\n",
              "      <td>0.003176</td>\n",
              "      <td>0.003091</td>\n",
              "      <td>0.002972</td>\n",
              "      <td>0.003</td>\n",
              "      <td>0.003024</td>\n",
              "    </tr>\n",
              "    <tr>\n",
              "      <th>Hit rate</th>\n",
              "      <td>0.000000</td>\n",
              "      <td>0.001010</td>\n",
              "      <td>0.001010</td>\n",
              "      <td>0.000000</td>\n",
              "      <td>0.000000</td>\n",
              "      <td>0.000000</td>\n",
              "      <td>0.000000</td>\n",
              "      <td>0.000000</td>\n",
              "      <td>0.000000</td>\n",
              "      <td>0.000000</td>\n",
              "      <td>0.000</td>\n",
              "      <td>0.000000</td>\n",
              "    </tr>\n",
              "  </tbody>\n",
              "</table>\n",
              "</div>"
            ],
            "text/plain": [
              "              10        50        100   ...      450    500       1000\n",
              "NDCG      0.003035  0.004988  0.004786  ...  0.002972  0.003  0.003024\n",
              "Hit rate  0.000000  0.001010  0.001010  ...  0.000000  0.000  0.000000\n",
              "\n",
              "[2 rows x 12 columns]"
            ]
          },
          "metadata": {
            "tags": []
          },
          "execution_count": 52
        }
      ]
    },
    {
      "cell_type": "code",
      "metadata": {
        "id": "qYKW7dgVQaB7",
        "colab_type": "code",
        "colab": {}
      },
      "source": [
        "del knn\n",
        "del knn_df"
      ],
      "execution_count": 0,
      "outputs": []
    },
    {
      "cell_type": "code",
      "metadata": {
        "id": "qI1lygHNKyMX",
        "colab_type": "code",
        "colab": {}
      },
      "source": [
        "train_df, test_df, test_query_df = last_track_split(df)\n",
        "names_df = to_names_index(train_df)\n",
        "drop_names([train_df, test_df, test_query_df])"
      ],
      "execution_count": 0,
      "outputs": []
    },
    {
      "cell_type": "markdown",
      "metadata": {
        "id": "Ga9rWHtyCPnD",
        "colab_type": "text"
      },
      "source": [
        "As the hit rate values are very low and hardly vary, we will use NDCG as our main evaluation score.\n",
        "\n",
        "The following shows the NDCG scores of all baseline algorithm evaluations with all tried options.\n"
      ]
    },
    {
      "cell_type": "code",
      "metadata": {
        "id": "U_cLqCbACQMm",
        "colab_type": "code",
        "outputId": "2242a017-898c-4d49-afd4-d14d7b88ed6f",
        "colab": {
          "base_uri": "https://localhost:8080/",
          "height": 137
        }
      },
      "source": [
        "cols = [\"default\", \"filter user tracks\", \"count listens\", \"tf(-idf)\", \"best\"]\n",
        "index = [\"Pop Rank\", \"SAGH\", \"kNN\"]\n",
        "pop_rank_row = [pop_rank_ndcg, pop_rank_f_ndcg, pop_rank_l_ndcg, pop_rank_tf_ndcg]\n",
        "pop_rank_row = pop_rank_row + [max(pop_rank_row)]\n",
        "sagh_row = [sagh_ndcg, sagh_f_ndcg, sagh_l_ndcg, sagh_tf_ndcg]\n",
        "sagh_row = sagh_row + [max(sagh_row)]\n",
        "knn_row = [knn_ndcg, knn_f_ndcg, knn_l_ndcg, knn_ti_ndcg]\n",
        "knn_row = knn_row + [max(knn_row)]\n",
        "rows = [pop_rank_row, sagh_row, knn_row]\n",
        "\n",
        "baseline_scores_df = pd.DataFrame.from_records(rows, index=index, columns=cols)\n",
        "baseline_scores_df.head()"
      ],
      "execution_count": 0,
      "outputs": [
        {
          "output_type": "execute_result",
          "data": {
            "text/html": [
              "<div>\n",
              "<style scoped>\n",
              "    .dataframe tbody tr th:only-of-type {\n",
              "        vertical-align: middle;\n",
              "    }\n",
              "\n",
              "    .dataframe tbody tr th {\n",
              "        vertical-align: top;\n",
              "    }\n",
              "\n",
              "    .dataframe thead th {\n",
              "        text-align: right;\n",
              "    }\n",
              "</style>\n",
              "<table border=\"1\" class=\"dataframe\">\n",
              "  <thead>\n",
              "    <tr style=\"text-align: right;\">\n",
              "      <th></th>\n",
              "      <th>default</th>\n",
              "      <th>filter user tracks</th>\n",
              "      <th>count listens</th>\n",
              "      <th>tf(-idf)</th>\n",
              "      <th>best</th>\n",
              "    </tr>\n",
              "  </thead>\n",
              "  <tbody>\n",
              "    <tr>\n",
              "      <th>Pop Rank</th>\n",
              "      <td>0.004030</td>\n",
              "      <td>0.002487</td>\n",
              "      <td>0.005288</td>\n",
              "      <td>0.004111</td>\n",
              "      <td>0.005288</td>\n",
              "    </tr>\n",
              "    <tr>\n",
              "      <th>SAGH</th>\n",
              "      <td>0.006883</td>\n",
              "      <td>0.002882</td>\n",
              "      <td>0.008068</td>\n",
              "      <td>0.007359</td>\n",
              "      <td>0.008068</td>\n",
              "    </tr>\n",
              "    <tr>\n",
              "      <th>kNN</th>\n",
              "      <td>0.016577</td>\n",
              "      <td>0.003865</td>\n",
              "      <td>0.017812</td>\n",
              "      <td>0.038585</td>\n",
              "      <td>0.038585</td>\n",
              "    </tr>\n",
              "  </tbody>\n",
              "</table>\n",
              "</div>"
            ],
            "text/plain": [
              "           default  filter user tracks  count listens  tf(-idf)      best\n",
              "Pop Rank  0.004030            0.002487       0.005288  0.004111  0.005288\n",
              "SAGH      0.006883            0.002882       0.008068  0.007359  0.008068\n",
              "kNN       0.016577            0.003865       0.017812  0.038585  0.038585"
            ]
          },
          "metadata": {
            "tags": []
          },
          "execution_count": 88
        }
      ]
    },
    {
      "cell_type": "markdown",
      "metadata": {
        "id": "WT2_Kf_Ul7mU",
        "colab_type": "text"
      },
      "source": [
        "We can make the following observations:\n",
        "\n",
        "*  As excepted, the more complex the algorithm, the better the NDCG score.\n",
        "*  Filtering out tracks a user already listened to decreases the score significantly.\n",
        "*  Including the number of track listenings of a user either unweighted or log-weighted with tf or tf-idf can increase the score significantly."
      ]
    },
    {
      "cell_type": "code",
      "metadata": {
        "id": "8ur6FNIquFgt",
        "colab_type": "code",
        "outputId": "545cbc7a-e7fa-4d15-fdc2-67ef16c23185",
        "colab": {
          "base_uri": "https://localhost:8080/",
          "height": 281
        }
      },
      "source": [
        "def plot_baseline_hit_rates(n=500):\n",
        "  plt.plot(pop_rank_l_hit_rates[:n], color=\"orange\")\n",
        "  plt.plot(sagh_l_hit_rates[:n], color=\"blue\")\n",
        "  plt.plot(knn_ti_hit_rates[:n], color=\"green\")\n",
        "\n",
        "  orange_patch = mpatches.Patch(color=\"orange\", label=\"Pop Rank\")\n",
        "  blue_patch = mpatches.Patch(color=\"blue\", label=\"SAGH\")\n",
        "  lgreen_patch = mpatches.Patch(color=\"green\", label=\"kNN k=50\")\n",
        "  patches = [orange_patch, blue_patch, lgreen_patch]\n",
        "  plt.legend(handles=patches)\n",
        "\n",
        "  plt.title(\"Hit rates of baseline algorithms\")\n",
        "\n",
        "plot_baseline_hit_rates();"
      ],
      "execution_count": 0,
      "outputs": [
        {
          "output_type": "display_data",
          "data": {
            "image/png": "[encoded data removed]",
            "text/plain": [
              "<Figure size 432x288 with 1 Axes>"
            ]
          },
          "metadata": {
            "tags": []
          }
        }
      ]
    },
    {
      "cell_type": "markdown",
      "metadata": {
        "id": "jePcIzpJ8wEw",
        "colab_type": "text"
      },
      "source": [
        "# Factorization machines"
      ]
    },
    {
      "cell_type": "markdown",
      "metadata": {
        "id": "1fPl0ZYF81MW",
        "colab_type": "text"
      },
      "source": [
        "Now we want to evaluate the actual algorithms of interest - factorization machines. We will use the following variants.\n",
        "\n",
        "*  Vanilla factorization machines\n",
        "*  Translation-based factorization machines\n",
        "*  Field-aware factorization machines\n",
        "*  Translation-based field-aware factorization machines\n",
        "\n",
        "All variants use BPR (Bayesian Personalized Ranking) loss and the Adadelta optimizer. The implementations are based on https://github.com/rpasricha/TransFM, but heavily adapted. The original implementation is described in:\n",
        "\n",
        "> Rajiv Pasricha and Julian McAuley.<br>\n",
        "> **Translation-based factorization machines for sequential recommendation**.<br>\n",
        "> *In Proceedings of the 12th ACM Conference on Recommender Systems, pages 63-71, ACM, 2018*\n",
        "\n",
        "Translation-based field-aware factorization machines are an own proposed variant combining the variant proposed above with the variant proposed in:\n",
        "\n",
        "> Yuchin Juan, Yong Zhuang, Wei-Sheng Chin and Chih-Jen Lin.<br>\n",
        "> **Field-aware factorization machines for CTR prediction**.<br>\n",
        "> *In Proceedings of the 10th ACM Conference on Recommender Systems, pages 43-50, ACM, 2016*\n",
        "\n",
        "Normalized weight decay is used instead of L2 regularization which has problems in combination with adaptive optimizers, as presented in:\n",
        "\n",
        "> Ilya Loshchilov and Frank Hutter.<br>\n",
        "> **Fixing weight decay regularization in adam**.<br>\n",
        "> *In arXiv preprint arXiv:1711.05101, 2017*\n"
      ]
    },
    {
      "cell_type": "markdown",
      "metadata": {
        "id": "QDuiypj3Mign",
        "colab_type": "text"
      },
      "source": [
        "**Regarding reproducibility - Scores of own runs might not match exactly**\n",
        "\n",
        "Seeds are used at all identified places where randomness is used (sampling of negative examples, latent factor initialization), but there still seem to be reproducibility issues because of non-deterministic TensorFlow GPU operations (possibly related to https://github.com/tensorflow/tensorflow/issues/2732) and no use of locking (which could be addressed at possible small runtime costs but was not since we have reproducibility issues anyway)."
      ]
    },
    {
      "cell_type": "markdown",
      "metadata": {
        "id": "BLoGqMNpV1_f",
        "colab_type": "text"
      },
      "source": [
        "## Implementation"
      ]
    },
    {
      "cell_type": "markdown",
      "metadata": {
        "id": "nqMNYb2NtcYr",
        "colab_type": "text"
      },
      "source": [
        "### Features"
      ]
    },
    {
      "cell_type": "code",
      "metadata": {
        "id": "uStXVdxEbko3",
        "colab_type": "code",
        "colab": {}
      },
      "source": [
        "def _df2col_val(df, col_name, col_vals, with_first_unknown,\n",
        "                with_unknown_ignored):\n",
        "  col = df[col_name].to_numpy()\n",
        "\n",
        "  if with_first_unknown:\n",
        "    col = np.insert(col, 0, 0)\n",
        "\n",
        "  if col_name in col_vals:\n",
        "    val = np.full(len(col), col_vals[col_name])\n",
        "  else:\n",
        "    val = np.ones(len(col))\n",
        "  \n",
        "  if with_unknown_ignored:\n",
        "    val[col == 0] = 0.0\n",
        "\n",
        "  return col, val\n",
        "\n",
        "\n",
        "def _df2csr(df, maincol, maincol_num, col_names, col_nums, col_vals,\n",
        "            with_first_unknown, with_unknown_ignored):\n",
        "\n",
        "  col_csrs = []\n",
        "  for col_name, col_num in zip(col_names, col_nums):\n",
        "    col, val = _df2col_val(df, col_name, col_vals, with_first_unknown,\n",
        "                           with_unknown_ignored)\n",
        "    col_csr = csr_matrix((val, (maincol, col)), shape=(maincol_num, col_num))\n",
        "    col_csrs.append(col_csr)\n",
        "\n",
        "  return sp.hstack(col_csrs, format=\"csr\")\n",
        "\n",
        "\n",
        "def _df2ctx_csr(df, col_names, col_nums, col_vals):\n",
        "  \"\"\"\n",
        "  Create a csr matrix of the concatenated one-hot features\n",
        "  of the col_names dataframe columns.\n",
        "\n",
        "  Unknown features (one-hot index 0) are ignored\n",
        "  as the number of context features does not influence ranking.\n",
        "\n",
        "  :param col_vals: feature weighting per column\n",
        "  :return: csr matrix of dense shape [num_interactions, num_ctx_feats]\n",
        "  \"\"\"\n",
        "  maincol_num = len(df)\n",
        "  maincol = np.arange(maincol_num, dtype=int)\n",
        "  return _df2csr(df, maincol, maincol_num, col_names, col_nums, col_vals, False,\n",
        "                 True)\n",
        "\n",
        "\n",
        "def _df2user_csr(df, usercol_name, usercol_num, col_names, col_nums, col_vals):\n",
        "  \"\"\"\n",
        "  Create a csr matrix of the per-user concatenated one-hot features\n",
        "  of the col_names dataframe columns.\n",
        "\n",
        "  Unknown features (one-hot index 0) are ignored\n",
        "  as the number of user features does not influence ranking.\n",
        "  The unknown user (row 0) has no features.\n",
        "\n",
        "  :param col_vals: feature weighting per column\n",
        "  :return: csr matrix of dense shape [num_users, num_user_feats]\n",
        "  \"\"\"\n",
        "  df = df[col_names].drop_duplicates().sort_values(usercol_name)\n",
        "  usercol, _ = _df2col_val(df, usercol_name, col_vals, True, True)\n",
        "  return _df2csr(df, usercol, usercol_num, col_names, col_nums, col_vals, True,\n",
        "                 True)\n",
        "\n",
        "\n",
        "def _df2item_csr(df, maincol_name, maincol_num, col_names, col_nums, col_vals):\n",
        "  \"\"\"\n",
        "  Create a csr matrix of the per-item concatenated one-hot features\n",
        "  of the col_names dataframe columns.\n",
        "\n",
        "  Unknown features (one-hot index 0) are set\n",
        "  as the number of item features influences ranking.\n",
        "  The unknown item (row 0) has all unknown feature.\n",
        "\n",
        "  :param col_vals: feature weighting per column\n",
        "  :return: csr matrix of dense shape [num_items, num_item_feats]\n",
        "  \"\"\"\n",
        "  # df = df[col_names].drop_duplicates().sort_values(maincol_name)\n",
        "  df = df[col_names].drop_duplicates(maincol_name).sort_values(maincol_name)\n",
        "  maincol, _ = _df2col_val(df, maincol_name, col_vals, True, False)\n",
        "  return _df2csr(df, maincol, maincol_num, col_names, col_nums, col_vals, True,\n",
        "                 False)\n",
        "\n",
        "\n",
        "def _meta_df2num(meta_df, col_name):\n",
        "  return meta_df[col_name].max() + 1\n",
        "\n",
        "\n",
        "def _item2col(meta_df, col_name):\n",
        "  item2col = meta_df[[\"traid\", col_name]].drop_duplicates()\n",
        "  item2col = item2col.sort_values(\"traid\")[col_name].to_numpy()\n",
        "  item2col = np.insert(item2col, 0, 0)  # unknown column\n",
        "  return item2col\n",
        "\n",
        "\n",
        "def _df2encoded_user_csr(seeds_df, meta_df, ucol_name, ucol_num, icol_name,\n",
        "                         icol_num, col_names, col_nums, col_vals,\n",
        "                         normalize_fn):\n",
        "\n",
        "  ui_df = seeds_df[[ucol_name, icol_name]].drop_duplicates()\n",
        "  ui_df = ui_df.sort_values([ucol_name, icol_name]).reset_index(drop=True)\n",
        "\n",
        "  ucol, _ = _df2col_val(ui_df, ucol_name, col_vals, True, True)\n",
        "\n",
        "  # use weighting of user column for individual item columns\n",
        "  if ucol_name in col_vals:\n",
        "    icol_vals = {icol_name: col_vals[icol_name]}\n",
        "  else:\n",
        "    icol_vals = dict()\n",
        "  icol, val = _df2col_val(ui_df, icol_name, icol_vals, True, True)\n",
        "\n",
        "  # normalize weighting of individual item columns\n",
        "  val = val * normalize_fn(ui_df, meta_df, ucol_name, icol_name)\n",
        "  \n",
        "  col_csrs = [csr_matrix((val, (ucol, icol)), shape=(ucol_num, icol_num))]\n",
        "\n",
        "  if col_names:\n",
        "    seeds_df = seeds_df[col_names + [ucol_name]].drop_duplicates().sort_values(ucol_name)\n",
        "    ucol, _ = _df2col_val(seeds_df, ucol_name, col_vals, True, True)\n",
        "\n",
        "    for col_name, col_num in zip(col_names, col_nums):\n",
        "      col, val = _df2col_val(seeds_df, col_name, col_vals, True, True)\n",
        "      col_csr = csr_matrix((val, (ucol, col)), shape=(ucol_num, col_num))\n",
        "      col_csrs.append(col_csr)\n",
        "\n",
        "  return sp.hstack(col_csrs, format=\"csr\")"
      ],
      "execution_count": 0,
      "outputs": []
    },
    {
      "cell_type": "code",
      "metadata": {
        "id": "oydagI3ZbwBR",
        "colab_type": "code",
        "colab": {}
      },
      "source": [
        "def df2usersitems(df, meta_df, seeds_df=None):\n",
        "  \"\"\"\n",
        "  Function for only using user and item index features.\n",
        "\n",
        "  Returns a tuple of\n",
        "   * number of users including unknown user\n",
        "   * user indices array of shape                [num_interactions]\n",
        "   * user features csr matrix of dense shape    [num_users, num_user_feats]\n",
        "   * number of items including unknown item\n",
        "   * item indices array of shape                [num_interactions]\n",
        "   * item features csr matrix of dense shape    [num_items, num_item_feats]\n",
        "   * context features csr matrix of dense shape [num_interactions, num_ctx_feats]\n",
        "   * array of artists per item indices of shape [num_items]\n",
        "   * array of albums per item indices of shape  [num_items]\n",
        "  \"\"\"\n",
        "\n",
        "  num_users = _meta_df2num(meta_df, \"pid\")\n",
        "  num_items = _meta_df2num(meta_df, \"traid\")\n",
        "\n",
        "  item2artist = _item2col(meta_df, \"artid\")\n",
        "  item2album = None\n",
        "\n",
        "  user_feats = sp.identity(num_users, format=\"csr\")\n",
        "  item_feats = sp.identity(num_items, format=\"csr\")\n",
        "  \n",
        "  user_indices = df[\"pid\"].to_numpy()\n",
        "  item_indices = df[\"traid\"].to_numpy() if \"traid\" in df.columns else None\n",
        "  ctx_feats = None\n",
        "\n",
        "  return (num_users, user_indices, user_feats, num_items, item_indices,\n",
        "          item_feats, ctx_feats, item2artist, item2album)\n",
        "\n",
        "\n",
        "def df2usersitemfeats(col_vals=dict()):\n",
        "  \"\"\"\n",
        "  Function for using user index and item index, album and artist features.\n",
        "  \"\"\"\n",
        "  def _df2usersitemfeats(df, meta_df, seeds_df=None):\n",
        "    num_users = _meta_df2num(meta_df, \"pid\")\n",
        "    num_items = _meta_df2num(meta_df, \"traid\")\n",
        "    num_artists = _meta_df2num(meta_df, \"artid\") \n",
        "\n",
        "    item2artist = _item2col(meta_df, \"artid\")\n",
        "    item2album = None\n",
        "\n",
        "    user_feats = sp.identity(num_users, format=\"csr\")\n",
        "\n",
        "    item_cols = [\"traid\", \"artid\"]\n",
        "    item_col_nums = [num_items, num_artists]\n",
        "    item_feats = _df2item_csr(meta_df, \"traid\", num_items, item_cols,\n",
        "                              item_col_nums, col_vals)\n",
        "\n",
        "    user_indices = df[\"pid\"].to_numpy()\n",
        "    item_indices = df[\"traid\"].to_numpy() if \"traid\" in df.columns else None\n",
        "    ctx_feats = None\n",
        "\n",
        "    return (num_users, user_indices, user_feats, num_items, item_indices,\n",
        "            item_feats, ctx_feats, item2artist, item2album)\n",
        "\n",
        "  return _df2usersitemfeats\n",
        "\n",
        "\n",
        "def df2all(col_vals=dict()):\n",
        "  \"\"\"\n",
        "  Function for using all features, excluding previous item context features.\n",
        "   * user features: pid, age, country, gender\n",
        "   * item features: traid, artid\n",
        "  \"\"\"\n",
        "  def _df2all(df, meta_df, seeds_df=None):\n",
        "    num_users = _meta_df2num(meta_df, \"pid\")\n",
        "    num_items = _meta_df2num(meta_df, \"traid\")\n",
        "    num_b_ages = _meta_df2num(meta_df, \"b_age\")\n",
        "    num_countries = _meta_df2num(meta_df, \"country\")\n",
        "    num_genders = _meta_df2num(meta_df, \"gender\")\n",
        "    num_artists = _meta_df2num(meta_df, \"artid\") \n",
        "    \n",
        "    item2artist = _item2col(meta_df, \"artid\")\n",
        "    item2album = None\n",
        "\n",
        "    user_cols = [\"pid\", \"b_age\", \"country\", \"gender\"]\n",
        "    user_col_nums = [num_users, num_b_ages, num_countries, num_genders]\n",
        "    user_feats = _df2user_csr(meta_df, \"pid\", num_users, user_cols,\n",
        "                              user_col_nums, col_vals)\n",
        "\n",
        "    item_cols = [\"traid\", \"artid\"]\n",
        "    item_col_nums = [num_items, num_artists]\n",
        "    item_feats = _df2item_csr(meta_df, \"traid\", num_items, item_cols,\n",
        "                              item_col_nums, col_vals)\n",
        "\n",
        "    user_indices = df[\"pid\"].to_numpy()\n",
        "    item_indices = df[\"traid\"].to_numpy() if \"traid\" in df.columns else None\n",
        "    ctx_feats = None\n",
        "\n",
        "    return (num_users, user_indices, user_feats, num_items, item_indices,\n",
        "            item_feats, ctx_feats, item2artist, item2album)\n",
        "  \n",
        "  return _df2all\n",
        "\n",
        "\n",
        "def df2usersprevitems(col_vals=dict()):\n",
        "  \"\"\"\n",
        "  Function for only using user, item and previous item index features.\n",
        "  \"\"\"\n",
        "  def _df2usersprevitems(df, meta_df, seeds_df=None):\n",
        "    num_users = _meta_df2num(meta_df, \"pid\")\n",
        "    num_items = max(_meta_df2num(meta_df, \"traid\"),\n",
        "                    _meta_df2num(meta_df, \"prev_traid\"))\n",
        "\n",
        "    item2artist = _item2col(meta_df, \"artid\")\n",
        "    item2album = None\n",
        "\n",
        "    user_feats = sp.identity(num_users, format=\"csr\")\n",
        "    item_feats = sp.identity(num_items, format=\"csr\")\n",
        "    \n",
        "    user_indices = df[\"pid\"].to_numpy()\n",
        "    item_indices = df[\"traid\"].to_numpy() if \"traid\" in df.columns else None\n",
        "    ctx_feats = _df2ctx_csr(df, [\"prev_traid\"], [num_items], col_vals)\n",
        "\n",
        "    return (num_users, user_indices, user_feats, num_items, item_indices,\n",
        "            item_feats, ctx_feats, item2artist, item2album)\n",
        "  \n",
        "  return _df2usersprevitems\n",
        "\n",
        "\n",
        "def df2usersprevitemfeats(col_vals=dict()):\n",
        "  \"\"\"\n",
        "  Function for using user index and item index, album and artist features,\n",
        "  as well as previous item index, album and artist features.\n",
        "  \"\"\"\n",
        "  def _df2usersprevitemfeats(df, meta_df, seeds_df=None):\n",
        "    num_users = _meta_df2num(meta_df, \"pid\")\n",
        "    num_items = max(_meta_df2num(meta_df, \"traid\"),\n",
        "                    _meta_df2num(meta_df, \"prev_traid\"))\n",
        "    num_artists = max(_meta_df2num(meta_df, \"artid\"),\n",
        "                      _meta_df2num(meta_df, \"prev_artid\"))\n",
        "\n",
        "    item2artist = _item2col(meta_df, \"artid\")\n",
        "    item2album = None\n",
        "\n",
        "    user_feats = sp.identity(num_users, format=\"csr\")\n",
        "\n",
        "    item_cols = [\"traid\", \"artid\"]\n",
        "    item_col_nums = [num_items, num_artists]\n",
        "    item_feats = _df2item_csr(meta_df, \"traid\", num_items, item_cols,\n",
        "                              item_col_nums, col_vals)\n",
        "\n",
        "    user_indices = df[\"pid\"].to_numpy()\n",
        "    item_indices = df[\"traid\"].to_numpy() if \"traid\" in df.columns else None\n",
        "\n",
        "    ctx_cols = [\"prev_traid\", \"prev_artid\"]\n",
        "    ctx_col_nums = [num_items, num_artists]\n",
        "    ctx_feats = _df2ctx_csr(df, ctx_cols, ctx_col_nums, col_vals)\n",
        "\n",
        "    return (num_users, user_indices, user_feats, num_items, item_indices,\n",
        "            item_feats, ctx_feats, item2artist, item2album)\n",
        "  \n",
        "  return _df2usersprevitemfeats\n",
        "\n",
        "\n",
        "def df2prevall(col_vals=dict()):\n",
        "  \"\"\"\n",
        "  Function for using all features.\n",
        "   * user features: pid, age, country, gender\n",
        "   * item features: traid, artid\n",
        "   * context features: prev_traid, prev_artid\n",
        "  \"\"\"\n",
        "  def _df2prevall(df, meta_df, seeds_df=None):\n",
        "    num_users = _meta_df2num(meta_df, \"pid\")\n",
        "    num_b_ages = _meta_df2num(meta_df, \"b_age\")\n",
        "    num_countries = _meta_df2num(meta_df, \"country\")\n",
        "    num_genders = _meta_df2num(meta_df, \"gender\")\n",
        "    num_items = max(_meta_df2num(meta_df, \"traid\"),\n",
        "                    _meta_df2num(meta_df, \"prev_traid\"))\n",
        "    num_artists = max(_meta_df2num(meta_df, \"artid\"),\n",
        "                      _meta_df2num(meta_df, \"prev_artid\"))\n",
        "    \n",
        "    item2artist = _item2col(meta_df, \"artid\")\n",
        "    item2album = None\n",
        "\n",
        "    user_cols = [\"pid\", \"b_age\", \"country\", \"gender\"]\n",
        "    user_col_nums = [num_users, num_b_ages, num_countries, num_genders]\n",
        "    user_feats = _df2user_csr(meta_df, \"pid\", num_users, user_cols,\n",
        "                              user_col_nums, col_vals)\n",
        "\n",
        "    item_cols = [\"traid\", \"artid\"]\n",
        "    item_col_nums = [num_items, num_artists]\n",
        "    item_feats = _df2item_csr(meta_df, \"traid\", num_items, item_cols,\n",
        "                              item_col_nums, col_vals)\n",
        "\n",
        "    user_indices = df[\"pid\"].to_numpy()\n",
        "    item_indices = df[\"traid\"].to_numpy() if \"traid\" in df.columns else None\n",
        "\n",
        "    ctx_cols = [\"prev_traid\", \"prev_artid\"]\n",
        "    ctx_col_nums = [num_items, num_artists]\n",
        "    ctx_feats = _df2ctx_csr(df, ctx_cols, ctx_col_nums, col_vals)\n",
        "\n",
        "    return (num_users, user_indices, user_feats, num_items, item_indices,\n",
        "            item_feats, ctx_feats, item2artist, item2album)\n",
        "  \n",
        "  return _df2prevall"
      ],
      "execution_count": 0,
      "outputs": []
    },
    {
      "cell_type": "code",
      "metadata": {
        "id": "5h0Xz6WzbzSk",
        "colab_type": "code",
        "colab": {}
      },
      "source": [
        "def equi_weight_normalize(ui_df, meta_df, ucol_name, icol_name):\n",
        "  def _group_equi_weights(g):\n",
        "    g[\"weight\"] = 1.0 / g.size\n",
        "    return g\n",
        "  \n",
        "  ui_df = ui_df.groupby(ucol_name).apply(_group_equi_weights)\n",
        "  val_weights = pd.Series([1.0]).append(ui_df[\"weight\"])\n",
        "  return val_weights\n",
        "\n",
        "\n",
        "def sqrt_equi_weight_normalize(ui_df, meta_df, ucol_name, icol_name):\n",
        "  def _group_sqrt_equi_weights(g):\n",
        "    g[\"weight\"] = 1.0 / sqrt(g.size)\n",
        "    return g\n",
        "  \n",
        "  ui_df = ui_df.groupby(ucol_name).apply(_group_sqrt_equi_weights)\n",
        "  val_weights = pd.Series([1.0]).append(ui_df[\"weight\"])\n",
        "  return val_weights\n",
        "\n",
        "\n",
        "def sqrt_popularity_weight_normalize(ui_df, meta_df, ucol_name, icol_name):\n",
        "  def _group_sqrt_popularity_weights(g):\n",
        "    g[\"weight\"] = g[\"weight\"] / g[\"weight\"].sum()\n",
        "    return g\n",
        "\n",
        "  item_weights = 1.0 / meta_df.groupby(icol_name).size().apply(np.sqrt)\n",
        "  item_weights = item_weights.rename(\"weight\")\n",
        "  ui_df = ui_df.join(item_weights, on=icol_name)\n",
        "  ui_df = ui_df.groupby(ucol_name).apply(_group_sqrt_popularity_weights)\n",
        "  val_weights = pd.Series([1.0]).append(ui_df[\"weight\"])\n",
        "  return val_weights"
      ],
      "execution_count": 0,
      "outputs": []
    },
    {
      "cell_type": "code",
      "metadata": {
        "id": "xtObANb0bzpq",
        "colab_type": "code",
        "colab": {}
      },
      "source": [
        "def df2encodedusersitems(col_vals=dict(),\n",
        "                         encode_fn=sqrt_equi_weight_normalize):\n",
        "  \"\"\"\n",
        "  Function for only using item index features,\n",
        "  representing users as their items.\n",
        "  \"\"\"\n",
        "  def _df2encodedusersitems(df, meta_df, seeds_df=None):\n",
        "    num_users = _meta_df2num(meta_df, \"pid\")\n",
        "    num_items = _meta_df2num(meta_df, \"traid\")\n",
        "    \n",
        "    item2artist = _item2col(meta_df, \"artid\")\n",
        "    item2album = None\n",
        "    \n",
        "    if seeds_df is not None and \"traid\" in seeds_df.columns:\n",
        "      user_feats = _df2encoded_user_csr(seeds_df, meta_df, \"pid\", num_users,\n",
        "                                        \"traid\", num_items, [], [], col_vals,\n",
        "                                        encode_fn)\n",
        "    else:\n",
        "      user_feats = None\n",
        "\n",
        "    item_feats = sp.identity(num_items, format=\"csr\")\n",
        "\n",
        "    user_indices = df[\"pid\"].to_numpy()\n",
        "    item_indices = df[\"traid\"].to_numpy() if \"traid\" in df.columns else None\n",
        "    ctx_feats = None\n",
        "    return (num_users, user_indices, user_feats, num_items, item_indices,\n",
        "            item_feats, ctx_feats, item2artist, item2album)\n",
        "\n",
        "  return _df2encodedusersitems\n",
        "\n",
        "\n",
        "def df2encodedusersall(col_vals=dict(),\n",
        "                       encode_fn=sqrt_equi_weight_normalize):\n",
        "  \"\"\"\n",
        "  Function for using all features, representing users as their items:\n",
        "   * user features: playlist items, age, country, gender\n",
        "   * item features: traid, artid\n",
        "  \"\"\"\n",
        "  def _df2encodedusersall(df, meta_df, seeds_df=None):\n",
        "    num_users = _meta_df2num(meta_df, \"pid\")\n",
        "    num_b_ages = _meta_df2num(meta_df, \"b_age\")\n",
        "    num_countries = _meta_df2num(meta_df, \"country\")\n",
        "    num_genders = _meta_df2num(meta_df, \"gender\")\n",
        "    num_items = max(_meta_df2num(meta_df, \"traid\"),\n",
        "                    _meta_df2num(meta_df, \"prev_traid\"))\n",
        "    num_artists = max(_meta_df2num(meta_df, \"artid\"),\n",
        "                      _meta_df2num(meta_df, \"prev_artid\"))\n",
        "    \n",
        "    item2artist = _item2col(meta_df, \"artid\")\n",
        "    item2album = None\n",
        "    \n",
        "    if seeds_df is not None and \"traid\" in seeds_df.columns:\n",
        "      user_cols = [\"b_age\", \"country\", \"gender\"]\n",
        "      user_col_nums = [num_b_ages, num_countries, num_genders]\n",
        "      user_feats = _df2encoded_user_csr(seeds_df, meta_df, \"pid\", num_users,\n",
        "                                        \"traid\", num_items, user_cols,\n",
        "                                        user_col_nums, col_vals, encode_fn)\n",
        "    else:\n",
        "      user_feats = None\n",
        "      \n",
        "    item_cols = [\"traid\", \"artid\"]\n",
        "    item_col_nums = [num_items, num_artists]\n",
        "    item_feats = _df2item_csr(meta_df, \"traid\", num_items, item_cols,\n",
        "                              item_col_nums, col_vals)\n",
        "\n",
        "    user_indices = df[\"pid\"].to_numpy()\n",
        "    item_indices = df[\"traid\"].to_numpy() if \"traid\" in df.columns else None\n",
        "    \n",
        "    ctx_feats = None\n",
        "    \n",
        "    return (num_users, user_indices, user_feats, num_items, item_indices,\n",
        "            item_feats, ctx_feats, item2artist, item2album)\n",
        "\n",
        "  return _df2encodedusersall\n",
        "\n",
        "\n",
        "def df2encodedusersprevall(col_vals=dict(),\n",
        "                           encode_fn=sqrt_equi_weight_normalize):\n",
        "  \"\"\"\n",
        "  Function for using all features including previous,\n",
        "  representing users as their items:\n",
        "   * user features: playlist items, age, country, gender\n",
        "   * item features: traid, artid\n",
        "   * context features: prev_traid, prev_artid\n",
        "  \"\"\"\n",
        "  def _df2encodedusersprevall(df, meta_df, seeds_df=None):\n",
        "    num_users = _meta_df2num(meta_df, \"pid\")\n",
        "    num_b_ages = _meta_df2num(meta_df, \"b_age\")\n",
        "    num_countries = _meta_df2num(meta_df, \"country\")\n",
        "    num_genders = _meta_df2num(meta_df, \"gender\")\n",
        "    num_items = max(_meta_df2num(meta_df, \"traid\"),\n",
        "                    _meta_df2num(meta_df, \"prev_traid\"))\n",
        "    num_artists = max(_meta_df2num(meta_df, \"artid\"),\n",
        "                      _meta_df2num(meta_df, \"prev_artid\"))\n",
        "    \n",
        "    item2artist = _item2col(meta_df, \"artid\")\n",
        "    item2album = None\n",
        "    \n",
        "    if seeds_df is not None and \"traid\" in seeds_df.columns:\n",
        "      user_cols = [\"b_age\", \"country\", \"gender\"]\n",
        "      user_col_nums = [num_b_ages, num_countries, num_genders]\n",
        "      user_feats = _df2encoded_user_csr(seeds_df, meta_df, \"pid\", num_users,\n",
        "                                        \"traid\", num_items, user_cols,\n",
        "                                        user_col_nums, col_vals, encode_fn)\n",
        "    else:\n",
        "      user_feats = None\n",
        "      \n",
        "    item_cols = [\"traid\", \"artid\"]\n",
        "    item_col_nums = [num_items, num_artists]\n",
        "    item_feats = _df2item_csr(meta_df, \"traid\", num_items, item_cols,\n",
        "                              item_col_nums, col_vals)\n",
        "\n",
        "    user_indices = df[\"pid\"].to_numpy()\n",
        "    item_indices = df[\"traid\"].to_numpy() if \"traid\" in df.columns else None\n",
        "    \n",
        "    ctx_cols = [\"prev_traid\", \"prev_artid\"]\n",
        "    ctx_col_nums = [num_items, num_artists]\n",
        "    ctx_feats = _df2ctx_csr(df, ctx_cols, ctx_col_nums, col_vals)\n",
        "    \n",
        "    return (num_users, user_indices, user_feats, num_items, item_indices,\n",
        "            item_feats, ctx_feats, item2artist, item2album)\n",
        "\n",
        "  return _df2encodedusersprevall"
      ],
      "execution_count": 0,
      "outputs": []
    },
    {
      "cell_type": "markdown",
      "metadata": {
        "id": "Ac5KBtIvQjVz",
        "colab_type": "text"
      },
      "source": [
        "### Sampling"
      ]
    },
    {
      "cell_type": "markdown",
      "metadata": {
        "id": "qIVMPVcLXUlG",
        "colab_type": "text"
      },
      "source": [
        "Different methods for sampling negative examples can be used.\n",
        "\n",
        "We use implementations of the different methods defined in my master's thesis in section **3.4 Customized Negative Sampling**.\n",
        "\n",
        "The implementations are functions with the same signature which can be set as function parameters."
      ]
    },
    {
      "cell_type": "code",
      "metadata": {
        "id": "UYaiEHTzqkoa",
        "colab_type": "code",
        "colab": {}
      },
      "source": [
        "\"\"\"\n",
        "We can't use a njit generator inside a njit generator,\n",
        "because of nested generator memory leak\n",
        "https://github.com/numba/numba/issues/3451\n",
        "https://github.com/numba/numba/issues/1807\n",
        "\"\"\"\n",
        "\n",
        "\n",
        "@nb.njit()\n",
        "def _nb_a2bs(as_, num_as, bs):\n",
        "  a2bs_mapping = [{-1, -2} for _ in range(num_as)]  # {-1, -2} as dummy for type inference\n",
        "  for i in range(as_.size):\n",
        "    a2bs_mapping[as_[i]].add(bs[i])\n",
        "  return a2bs_mapping\n",
        "\n",
        "\n",
        "@nb.njit()\n",
        "def _nb_rand_choice(arr, size, probs):\n",
        "    return arr[np.searchsorted(np.cumsum(probs), np.random.random(size))]\n",
        "\n",
        "\n",
        "distribution_nb_spec = [\n",
        " (\"num_users\", nb.int64),\n",
        " (\"num_items\", nb.int64),\n",
        " (\"user_indices\", nb.int64[:]),\n",
        " (\"item_indices\", nb.int64[:]),\n",
        " (\"items\", nb.optional(nb.int64[:])),\n",
        " (\"rho\", nb.optional(nb.float64))\n",
        "]\n",
        "class DistributionNb():\n",
        "  def __init__(self, num_users, num_items, user_indices, item_indices, seed,\n",
        "               items, rho):\n",
        "    self.num_users = num_users\n",
        "    self.num_items = num_items\n",
        "    self.user_indices = user_indices\n",
        "    self.item_indices = item_indices\n",
        "    np.random.seed(seed)\n",
        "    self.items = items\n",
        "    self.rho = rho\n",
        "\n",
        "  def samples(self, size):\n",
        "    return None\n",
        "\n",
        "\n",
        "@nb.jitclass(distribution_nb_spec)\n",
        "class UniformDistributionNb(DistributionNb):\n",
        "  def samples(self, size):\n",
        "    return np.random.randint(0, self.num_items, size=size)\n",
        "\n",
        "\n",
        "@nb.jitclass(distribution_nb_spec)\n",
        "class InstanceDistributionNb(DistributionNb):\n",
        "  def samples(self, size):\n",
        "    return np.random.choice(self.item_indices, size=size)\n",
        "\n",
        "\n",
        "@nb.jitclass(distribution_nb_spec)\n",
        "class _ExpDistributionNb(DistributionNb):\n",
        "  def samples(self, size):\n",
        "    # inverse transformation sampling from truncated exponential distribution\n",
        "    rand = np.random.rand(size) * (1.0 - np.exp(-1.0 / self.rho))\n",
        "    sample_indices = -self.num_items * self.rho * np.log(1.0 - rand)\n",
        "    sample_indices = sample_indices.astype(np.int64)\n",
        "    return self.items[sample_indices]\n",
        "\n",
        "\n",
        "def exp_distribution_nb(rho=1.0):\n",
        "  def _exp_distribution_nb(num_users, num_items, user_indices, item_indices,\n",
        "                           seed, items_none, rho_none):\n",
        "    # item indices sorted by count\n",
        "    items, counts = np.unique(item_indices, return_counts=True)\n",
        "    items = np.concatenate((items[np.argsort(-counts)], [0]))  # unknown item\n",
        "    return _ExpDistributionNb(num_users, num_items, user_indices, item_indices,\n",
        "                              seed, items, rho)\n",
        "                              \n",
        "  return _exp_distribution_nb\n",
        "\n",
        "\n",
        "accepter_nb_spec = [\n",
        " (\"num_users\", nb.int64),\n",
        " (\"num_items\", nb.int64),\n",
        " (\"user_indices\", nb.int64[:]),\n",
        " (\"item_indices\", nb.int64[:]),\n",
        " (\"item2artist\", nb.int64[:]),\n",
        " (\"item2album\", nb.optional(nb.int64[:]))\n",
        "]\n",
        "class AccepterNb():\n",
        "  def __init__(self, num_users, num_items, user_indices, item_indices,\n",
        "               item2artist, item2album):\n",
        "    self.num_users = num_users\n",
        "    self.num_items = num_items\n",
        "    self.user_indices = user_indices\n",
        "    self.item_indices = item_indices\n",
        "    self.item2artist = item2artist\n",
        "    self.item2album = item2album\n",
        "\n",
        "  def item2(self):\n",
        "    return None\n",
        "\n",
        "  def user2(self):\n",
        "    if self.item2() is not None:\n",
        "      return _nb_a2bs(self.user_indices, self.num_users,\n",
        "                      self.item2()[self.item_indices])\n",
        "    else:\n",
        "      return None\n",
        "\n",
        "\n",
        "@nb.njit(nb.optional(nb.int64[:])())\n",
        "def _nb_none_intarray():\n",
        "  return None\n",
        "\n",
        "\n",
        "@nb.jitclass(accepter_nb_spec)\n",
        "class AllAccepterNb(AccepterNb):\n",
        "  def item2(self):\n",
        "    return _nb_none_intarray()\n",
        "\n",
        "\n",
        "@nb.jitclass(accepter_nb_spec)\n",
        "class TrackAccepterNb(AccepterNb):\n",
        "  def item2(self):\n",
        "    return np.arange(0, self.num_items)\n",
        "\n",
        "\n",
        "@nb.jitclass(accepter_nb_spec)\n",
        "class ArtistAccepterNb(AccepterNb):\n",
        "  def item2(self):\n",
        "    return self.item2artist\n",
        "\n",
        "\n",
        "@nb.jitclass(accepter_nb_spec)\n",
        "class AlbumAccepterNb(AccepterNb):\n",
        "  def item2(self):\n",
        "    return self.item2album\n",
        "\n",
        "\n",
        "@nb.njit()\n",
        "def _nb_take_wrap(array, start, end):\n",
        "  if end <= len(array):\n",
        "    return array[start:end]\n",
        "  else:\n",
        "    modulo_end = end % len(array)\n",
        "    return np.concatenate((array[start:end], array[:modulo_end]))\n",
        "\n",
        "\n",
        "@nb.njit()\n",
        "def _nb_sampler(dist, accepter, epochs, batch_size, num_users, num_items,\n",
        "                user_indices, item_indices, seed):\n",
        "\n",
        "  user2accs = accepter.user2()\n",
        "  item2acc = accepter.item2()\n",
        "\n",
        "  epoch_size = len(user_indices)\n",
        "  batches_per_epoch = int(ceil(epoch_size / batch_size))\n",
        "  epoch_batches_size = batches_per_epoch * batch_size\n",
        "\n",
        "  interaction_mask = np.arange(0, epoch_size)\n",
        "\n",
        "  for e in range(epochs):\n",
        "    np.random.shuffle(interaction_mask)\n",
        "\n",
        "    neg = dist.samples(epoch_batches_size)\n",
        "    extra_neg = dist.samples(epoch_batches_size)\n",
        "    j = 0\n",
        "\n",
        "    for b in range(batches_per_epoch):\n",
        "      # batching\n",
        "      b_start = b * batch_size\n",
        "      b_end = b_start + batch_size\n",
        "      b_int_mask = _nb_take_wrap(interaction_mask, b_start, b_end)\n",
        "      b_neg = neg[b_start:b_end]\n",
        "\n",
        "      # negative sample acceptance\n",
        "      if user2accs is not None:\n",
        "        for i in range(batch_size):\n",
        "          while item2acc[b_neg[i]] in user2accs[user_indices[b_int_mask[i]]]:\n",
        "            b_neg[i] = extra_neg[j]\n",
        "            j += 1\n",
        "            if j == epoch_batches_size:\n",
        "              # continue with new samples\n",
        "              extra_neg = dist.samples(epoch_batches_size)\n",
        "              j = 0\n",
        "      \n",
        "      yield b_int_mask, b_neg\n",
        "\n",
        "\n",
        "def create_sampler(dist, accepter):\n",
        "  def _sampler(epochs, batch_size, num_users, num_items,\n",
        "               user_indices, item_indices, item2artist, item2album, seed=1):\n",
        "    \"\"\"\n",
        "    Create a generator of batches\n",
        "    of interaction indices and corresponding negative item indices\n",
        "    using the supplied distribution and accepter.\n",
        "    \"\"\"\n",
        "    _dist = dist(num_users, num_items, user_indices, item_indices, seed,\n",
        "                 None, None)\n",
        "    _accepter = accepter(num_users, num_items, user_indices, item_indices,\n",
        "                         item2artist, item2album)\n",
        "    return _nb_sampler(_dist, _accepter, epochs, batch_size,\n",
        "                       num_users, num_items, user_indices, item_indices, seed)\n",
        "\n",
        "  return _sampler\n",
        "\n",
        "\n",
        "# Uniform samplers\n",
        "uniform_sampler = create_sampler(UniformDistributionNb, AllAccepterNb)\n",
        "accepted_uniform_sampler = create_sampler(UniformDistributionNb, TrackAccepterNb)\n",
        "accepted_artist_uniform_sampler = create_sampler(UniformDistributionNb, ArtistAccepterNb)\n",
        "accepted_album_uniform_sampler = create_sampler(UniformDistributionNb, AlbumAccepterNb)\n",
        "\n",
        "# Instance samplers\n",
        "instance_sampler = create_sampler(InstanceDistributionNb, AllAccepterNb)\n",
        "accepted_instance_sampler = create_sampler(InstanceDistributionNb, TrackAccepterNb)\n",
        "accepted_artist_instance_sampler = create_sampler(InstanceDistributionNb, ArtistAccepterNb)\n",
        "accepted_album_instance_sampler = create_sampler(InstanceDistributionNb, AlbumAccepterNb)\n",
        "\n",
        "# Exp samplers\n",
        "exp_sampler = create_sampler(exp_distribution_nb(), AllAccepterNb)\n",
        "accepted_exp_sampler = create_sampler(exp_distribution_nb(), TrackAccepterNb)\n",
        "accepted_artist_exp_sampler = create_sampler(exp_distribution_nb(), ArtistAccepterNb)\n",
        "accepted_album_exp_sampler = create_sampler(exp_distribution_nb(), AlbumAccepterNb)"
      ],
      "execution_count": 0,
      "outputs": []
    },
    {
      "cell_type": "markdown",
      "metadata": {
        "id": "QU52dq2WJQ_X",
        "colab_type": "text"
      },
      "source": [
        "### TensorFlow"
      ]
    },
    {
      "cell_type": "markdown",
      "metadata": {
        "id": "0wMILLNFVa1r",
        "colab_type": "text"
      },
      "source": [
        "Further, different factorization machine variants can be used.\n",
        "See sections **3.2 Integrating item features** and **3.3 Integrating sequential features** of my master's thesis for more details.\n",
        "\n",
        "They variants are implemented in TensorFlow as follows."
      ]
    },
    {
      "cell_type": "code",
      "metadata": {
        "id": "urRs2rktFpgN",
        "colab_type": "code",
        "colab": {}
      },
      "source": [
        "class FMArgs():\n",
        "  \"\"\"\n",
        "  Arguments for extended pairwise factorization machine\n",
        "  \"\"\"\n",
        "\n",
        "  def __init__(self,\n",
        "               epoch_size,\n",
        "               epochs=1000,\n",
        "               batch_size=16384,\n",
        "               num_dims=50,\n",
        "               init_mean=0.1,\n",
        "               linear_reg=0.01,\n",
        "               factors_reg=0.01,\n",
        "               lr=0.1,\n",
        "               eval_freq=10):\n",
        "      \"\"\"\n",
        "      :param epoch_size: Epoch size\n",
        "      :param epochs: Number of epochs to run\n",
        "      :param batch_size: Mini-batch size\n",
        "      :param num_dims: Model dimensionality\n",
        "      :param init_mean: Initialization mean for model weights\n",
        "      :param linear_reg: Regularization rate for linear weights\n",
        "      :param factors_reg: Regularization rate for factor weights\n",
        "      :param lr: Adagrad learning rate\n",
        "      :param incr_lr: Percentual increase of the learning over epochs\n",
        "                      (1% = 0.01) \n",
        "      :param eval_freq: Frequency at which to evaluate model\n",
        "      \"\"\"\n",
        "      self.epochs = epochs\n",
        "      self.batch_size = batch_size\n",
        "      self.batches_per_epoch = int(ceil(epoch_size / batch_size))\n",
        "      self.num_dims = num_dims\n",
        "      self.init_mean = init_mean\n",
        "      self.linear_reg = linear_reg\n",
        "      self.factors_reg = factors_reg\n",
        "      self.lr = lr\n",
        "      self.eval_freq = eval_freq\n",
        "\n",
        "\n",
        "class TfFM:\n",
        "  \"\"\"\n",
        "  Extended pairwise factorization machine\n",
        "  \"\"\"\n",
        "\n",
        "  def __init__(self, graph, train_dataset, val_dataset, args, top_n):\n",
        "    \n",
        "    self.train_dataset = train_dataset\n",
        "    self.val_dataset = val_dataset\n",
        "    self.args = args\n",
        "    self.top_n = top_n\n",
        "    \n",
        "    self.sess = tf.Session(graph=graph)\n",
        "    with self.sess.graph.as_default():\n",
        "      tf.set_random_seed(1)\n",
        "      (self.handle, self.pred_top_op, self.loss_op, self.train_op,\n",
        "       self.val_op) =  self._create_model(val_dataset, args, top_n)\n",
        "\n",
        "  def _create_vars(self, args, val_dataset):\n",
        "    feat_dim = val_dataset.output_shapes[1][1]\n",
        "\n",
        "    initializer_linear = tf.random_uniform_initializer(-args.init_mean,\n",
        "                                                       args.init_mean, seed=1)\n",
        "    initializer_factors = tf.random_uniform_initializer(-args.init_mean,\n",
        "                                                        args.init_mean, seed=2)\n",
        "    \n",
        "    var_linear = tf.Variable(initializer_linear([feat_dim, 1]), name=\"linear\")\n",
        "    var_factors = tf.Variable(initializer_factors([feat_dim, args.num_dims]),\n",
        "                              name=\"factors\")\n",
        "    \n",
        "    return var_linear, var_factors\n",
        "\n",
        "  def _create_shape(self, val_dataset):\n",
        "    feat_dim = val_dataset.output_shapes[0][1]\n",
        "\n",
        "    feat_shape = tf.TensorShape([None, feat_dim])\n",
        "    na_shape = tf.TensorShape([None, None])\n",
        "    indices_shape = tf.TensorShape(None)\n",
        "    return (feat_shape, feat_shape, feat_shape, na_shape, indices_shape)\n",
        "  \n",
        "  def safe_sparse_dense_matmul(self, batch, var):\n",
        "    \"\"\"\n",
        "    Method which can be overwritten to provide a safe version of \n",
        "    sparse_dense_matmul for cases where the number of dimensions or\n",
        "    the sparse matrix are too large (args.num_dims * nnz(batch) > 2^31).\n",
        "    \n",
        "    This may occur when recommending the top n items for each user\n",
        "    which is encoded through its items, because then \n",
        "     * the batch / sparse matrix contains a query instance for all items\n",
        "     * this query instance is large\n",
        "\n",
        "    See also https://github.com/tensorflow/tensorflow/issues/25971\n",
        "    \"\"\"\n",
        "    return tf.sparse.sparse_dense_matmul(batch, var)\n",
        "\n",
        "  def _create_pred_ops(self, vars_, batches_, args, val_dataset):\n",
        "    \n",
        "    var_linear, var_factors = vars_\n",
        "    ctx_batch, pos_batch, neg_batch = batches_\n",
        "\n",
        "    ctx_sum = self.safe_sparse_dense_matmul(ctx_batch, var_factors)\n",
        "\n",
        "    def _create_pred_op(item_batch):\n",
        "      # Linear term\n",
        "      linear = tfs.sparse_dense_matmul(item_batch, var_linear)\n",
        "\n",
        "      # Interaction term\n",
        "      i_sum = self.safe_sparse_dense_matmul(item_batch, var_factors)\n",
        "      interaction = tf.multiply(i_sum, ctx_sum)\n",
        "      interaction = tf.reduce_sum(interaction, axis=1, keepdims=True)\n",
        "\n",
        "      return linear + interaction\n",
        "\n",
        "    return _create_pred_op(pos_batch), _create_pred_op(neg_batch)\n",
        "\n",
        "  def _create_pred_top_op(self, pred_batch, idx_batch, n):\n",
        "    scores, indices = tf.math.top_k(tf.squeeze(pred_batch), k=n)\n",
        "    item_indices = tf.gather(idx_batch, indices)\n",
        "    return scores, item_indices\n",
        "\n",
        "  def _create_utility_op(self, pos_preds, neg_preds, na_batch):\n",
        "    return pos_preds - neg_preds\n",
        "\n",
        "  def _create_loss_op(self, gz, args):\n",
        "    # BPR loss op (add 1e-10 to help with numerical stability)\n",
        "    return -tf.reduce_sum(tf.log(1e-10 + tf.sigmoid(gz)))\n",
        "\n",
        "  def _create_l2_reg_grad(self, var, reg):\n",
        "    return reg * var\n",
        "\n",
        "  def _create_reg_grad(self, var, grad, args):\n",
        "    if \"linear\" in var.name:\n",
        "      return self._create_l2_reg_grad(var, args.linear_reg)\n",
        "    else:\n",
        "      return self._create_l2_reg_grad(var, args.factors_reg)\n",
        "\n",
        "  def _create_train_op(self, loss_op, vars_, batches_, args):\n",
        "    ctx_batch, pos_batch, neg_batch = batches_\n",
        "\n",
        "    global_step = tf.Variable(0, trainable=False)\n",
        "\n",
        "    # training op\n",
        "    opt = tf.contrib.opt.RegAdagradOptimizer(learning_rate=args.lr)\n",
        "    grads_and_vars = opt.compute_gradients(loss_op)\n",
        "\n",
        "    # sparse mini-batch gradients scaling op \n",
        "    def to_indicator(s):\n",
        "      return tf.SparseTensor(s.indices, tf.ones_like(s.values), s.dense_shape)\n",
        "\n",
        "    nz_batch = tfs.add(to_indicator(ctx_batch), to_indicator(pos_batch))\n",
        "    nz_batch = tfs.add(nz_batch, to_indicator(neg_batch))\n",
        "    nz_batch = tfs.reduce_sum(nz_batch, axis=0)\n",
        "    nz_lr = 1.0 / tf.expand_dims(tf.maximum(nz_batch, 1.0), 1)\n",
        "\n",
        "    grads_and_vars = [(tf.multiply(nz_lr, grad), var) for grad, var\n",
        "                      in grads_and_vars]\n",
        "\n",
        "    # frequency adaptive regularization op\n",
        "    reg_grads_and_vars = [(tf.where(tf.equal(grad, 0),\n",
        "                                    grad,\n",
        "                                    self._create_reg_grad(var, grad, args)),\n",
        "                           var) for grad, var in grads_and_vars]\n",
        "    \n",
        "    # actual training op\n",
        "    train_op = opt.apply_gradients(grads_and_vars, global_step=global_step)\n",
        "    with opt.avoid_updating_slots():\n",
        "      reg_op = opt.apply_gradients(reg_grads_and_vars)\n",
        "\n",
        "    return tf.group([train_op, reg_op])\n",
        "\n",
        "\n",
        "  def _create_val_op(self, gz):\n",
        "    auc_op = tf.cast(tf.squeeze(gz > 0), tf.float32)\n",
        "    return tf.reduce_mean(auc_op)\n",
        "\n",
        "  def _create_model(self, val_dataset, args, top_n):\n",
        "    # Model variables\n",
        "    vars_ = self._create_vars(args, val_dataset)\n",
        "\n",
        "    # Batch iterator from data sets, handle decides data set to use\n",
        "    handle = tf.placeholder(tf.string, shape=[])\n",
        "    batch_iter = tf.data.Iterator.from_string_handle(\n",
        "        handle,\n",
        "        val_dataset.output_types,\n",
        "        self._create_shape(val_dataset),\n",
        "        val_dataset.output_classes)\n",
        "    \n",
        "    batches_ = batch_iter.get_next()\n",
        "    idx_batch = batches_[-1]\n",
        "    na_batch = batches_[-2]\n",
        "    batches_ = batches_[:-2]\n",
        "    \n",
        "    # Prediction op\n",
        "    pos_preds, neg_preds = self._create_pred_ops(vars_, batches_, args,\n",
        "                                                 val_dataset)\n",
        "    \n",
        "    # Utility op\n",
        "    gz = self._create_utility_op(pos_preds, neg_preds, na_batch)\n",
        "\n",
        "    # Top n items prediction op\n",
        "    preds_top = self._create_pred_top_op(pos_preds, idx_batch, top_n)\n",
        "    \n",
        "    # Loss op\n",
        "    loss_op = self._create_loss_op(gz, args)\n",
        "    \n",
        "    # Training op\n",
        "    train_op = self._create_train_op(loss_op, vars_, batches_, args)\n",
        "    \n",
        "    # Validation op\n",
        "    val_op = self._create_val_op(gz)\n",
        "    \n",
        "    return (handle, preds_top, loss_op, train_op, val_op)\n",
        "\n",
        "  def train(self, save_epochs=[], save_epoch_paths=[]):\n",
        "    with self.sess.graph.as_default():\n",
        "      \n",
        "      # Initialization\n",
        "      self.sess.run(tf.global_variables_initializer())\n",
        "\n",
        "      train_iter = self.train_dataset.make_initializable_iterator()\n",
        "      val_iter = self.val_dataset.make_one_shot_iterator()\n",
        "\n",
        "      self.sess.run(train_iter.initializer)\n",
        "      \n",
        "      train_handle = self.sess.run(train_iter.string_handle())\n",
        "      val_handle = self.sess.run(val_iter.string_handle())\n",
        "\n",
        "      # Training scores\n",
        "      best_auc_epoch = 0\n",
        "      best_val_auc = -1\n",
        "      best_rank_epoch = 0\n",
        "      best_val_rank = self.args.batch_size\n",
        "\n",
        "      losses = []\n",
        "      val_losses = []\n",
        "      val_aucs = []\n",
        "      val_ranks = []\n",
        "\n",
        "      # Training loop\n",
        "      for epoch in range(1, self.args.epochs + 1):\n",
        "        print(\"Epoch: {}\".format(epoch))\n",
        "\n",
        "        loss = 0\n",
        "        for _ in range(self.args.batches_per_epoch):\n",
        "          loss, _ = self.sess.run([self.loss_op, self.train_op],\n",
        "                                  feed_dict={self.handle: train_handle})\n",
        "\n",
        "        losses.append(loss)\n",
        "        print(\"\\tLast batch loss = {}\".format(loss))\n",
        "\n",
        "        if epoch == 1 or epoch % self.args.eval_freq == 0:\n",
        "          val_loss, val_scores = self.sess.run([self.loss_op, self.val_op],\n",
        "                                              feed_dict={self.handle: val_handle})\n",
        "\n",
        "          if isinstance(val_scores, tuple):\n",
        "            val_auc, val_rank = val_scores\n",
        "          else:\n",
        "            val_auc = val_scores\n",
        "            val_rank = None\n",
        "\n",
        "          val_losses.append(val_loss)\n",
        "          val_aucs.append(val_auc)\n",
        "          print(\"\\tVal loss = \" + str(val_loss))\n",
        "          print(\"\\tVal AUC = \" + str(val_auc))\n",
        "          \n",
        "          if val_rank:\n",
        "            val_ranks.append(val_rank)\n",
        "            print(\"\\tVal Rank = \" + str(val_rank))\n",
        "\n",
        "          if val_auc > best_val_auc:\n",
        "            best_auc_epoch = epoch\n",
        "            best_val_auc = val_auc\n",
        "\n",
        "          print(\"\\tCurrent max AUC = {} at epoch {}\"\n",
        "                .format(str(best_val_auc), best_auc_epoch))\n",
        "\n",
        "          if val_rank:\n",
        "            if val_rank < best_val_rank:\n",
        "              best_rank_epoch = epoch\n",
        "              best_val_rank = val_rank\n",
        "\n",
        "            print(\"\\tCurrent min Rank = {} at epoch {}\"\n",
        "                  .format(str(best_val_rank), best_rank_epoch))\n",
        "\n",
        "        if epoch in save_epochs:\n",
        "          save_path = save_epoch_paths[save_epochs.index(epoch)]\n",
        "          self.save(save_path)\n",
        "          print(\"\\tSaved to = {}\".format(save_path))\n",
        "\n",
        "      # Closing iterator\n",
        "      try:\n",
        "        while True:\n",
        "          self.sess.run(self.loss_op, feed_dict={self.handle: train_handle})\n",
        "      except tf.errors.OutOfRangeError:\n",
        "        pass\n",
        "          \n",
        "      return losses, val_losses, val_aucs\n",
        "\n",
        "  def predict(self, query_dataset):\n",
        "    with self.sess.graph.as_default():\n",
        "      \n",
        "      query_iter = query_dataset.make_one_shot_iterator()\n",
        "      query_handle = self.sess.run(query_iter.string_handle())\n",
        "      \n",
        "      scores_arr = []\n",
        "      indices_arr = []\n",
        "      try:\n",
        "        while True:\n",
        "          scores, indices = self.sess.run(self.pred_top_op,\n",
        "                                          feed_dict={self.handle: query_handle})\n",
        "          scores_arr.append(scores)\n",
        "          indices_arr.append(indices)\n",
        "      except tf.errors.OutOfRangeError:\n",
        "        pass\n",
        "      \n",
        "      return np.concatenate(scores_arr), np.concatenate(indices_arr)\n",
        "\n",
        "  def save(self, save_path):\n",
        "    with self.sess.graph.as_default():\n",
        "      saver = tf.train.Saver()\n",
        "      saver.save(self.sess, save_path)\n",
        "\n",
        "  def load(self, load_path):\n",
        "    with self.sess.graph.as_default():\n",
        "      saver = tf.train.Saver()\n",
        "      saver.restore(self.sess, load_path)\n",
        "  \n",
        "  def close(self):\n",
        "    self.sess.close()"
      ],
      "execution_count": 0,
      "outputs": []
    },
    {
      "cell_type": "code",
      "metadata": {
        "id": "5w7K9776FuOF",
        "colab_type": "code",
        "colab": {}
      },
      "source": [
        "class TfBatchFM(TfFM):\n",
        "  \"\"\"\n",
        "  Extended pairwise factorization machine with cross-batch sampling\n",
        "  \"\"\"\n",
        "\n",
        "  def _create_pred_ops(self, vars_, batches_, args, val_dataset):\n",
        "    \n",
        "    var_linear, var_factors = vars_\n",
        "    ctx_batch, pos_batch, neg_batch = batches_\n",
        "\n",
        "    ctx_sum = self.safe_sparse_dense_matmul(ctx_batch, var_factors)\n",
        "\n",
        "    def _create_pred_op(item_batch, shared=False):\n",
        "      # Linear term\n",
        "      linear = tfs.sparse_dense_matmul(item_batch, var_linear)\n",
        "      if shared:\n",
        "        linear = tf.transpose(linear)\n",
        "\n",
        "      # Interaction term\n",
        "      i_sum = self.safe_sparse_dense_matmul(item_batch, var_factors)\n",
        "      if shared:\n",
        "        interaction = tf.matmul(ctx_sum, i_sum, transpose_b=True)\n",
        "      else:\n",
        "        interaction = tf.multiply(i_sum, ctx_sum)\n",
        "        interaction = tf.reduce_sum(interaction, axis=1, keepdims=True)\n",
        "\n",
        "      return linear + interaction\n",
        "\n",
        "    return _create_pred_op(pos_batch), _create_pred_op(neg_batch, shared=True)\n",
        "\n",
        "  def _create_utility_op(self, pos_preds, neg_preds, na_batch):\n",
        "    # eliminate non-accepted negatives\n",
        "    gz = pos_preds - neg_preds \n",
        "    na_gz = tfs.reorder(na_batch)  # sorted indices not guaranteed\n",
        "    na_gz = tfs.to_dense(na_gz, default_value=False)\n",
        "    na_gz = tf.cast(na_gz, tf.float32)\n",
        "    na_gz = tf.multiply(gz, na_gz)\n",
        "    return gz - na_gz\n",
        "\n",
        "  def _create_loss_op(self, gz, args):\n",
        "    # BPR loss op (add 1e-10 to help with numerical stability)\n",
        "    bprloss_op = tf.log(1e-10 + tf.sigmoid(gz))\n",
        "    bprloss_op = tf.reduce_mean(bprloss_op, axis=1)\n",
        "    bprloss_op = tf.reduce_sum(bprloss_op)\n",
        "    return -bprloss_op\n",
        "\n",
        "  def _create_val_op(self, gz):\n",
        "    # AUC op\n",
        "    auc_gz = tf.expand_dims(tf.linalg.diag_part(gz), 1)\n",
        "    auc_op = super(TfBatchFM, self)._create_val_op(auc_gz)\n",
        "    \n",
        "    # Rank op\n",
        "    rank_op = tf.cast(gz < 0, tf.float32)\n",
        "    rank_op = tf.reduce_sum(rank_op, axis=1)\n",
        "    rank_op = tf.reduce_mean(rank_op)\n",
        "\n",
        "    return (auc_op, rank_op)"
      ],
      "execution_count": 0,
      "outputs": []
    },
    {
      "cell_type": "code",
      "metadata": {
        "id": "7ltLwzVFhOLr",
        "colab_type": "code",
        "colab": {}
      },
      "source": [
        "class TfVanillaFM(TfFM):\n",
        "  \"\"\"\n",
        "  Vanilla factorization machine\n",
        "  \"\"\"\n",
        "\n",
        "  def _create_vars(self, args, val_dataset):\n",
        "    feat_dim = val_dataset.output_shapes[0][1]\n",
        "    item_feat_dim = val_dataset.output_shapes[1][1]\n",
        "    cat_feat_dim = feat_dim + item_feat_dim\n",
        "\n",
        "    initializer_linear = tf.random_uniform_initializer(-args.init_mean,\n",
        "                                                       args.init_mean, seed=1)\n",
        "    initializer_factors = tf.random_uniform_initializer(-args.init_mean,\n",
        "                                                        args.init_mean, seed=2)\n",
        "    \n",
        "    var_linear = tf.Variable(initializer_linear([cat_feat_dim, 1]),\n",
        "                             name=\"linear\")\n",
        "    var_factors = tf.Variable(initializer_factors([cat_feat_dim, args.num_dims]),\n",
        "                              name=\"factors\")\n",
        "    \n",
        "    return var_linear, var_factors\n",
        "\n",
        "  def _create_shape(self, val_dataset):\n",
        "    feat_dim = val_dataset.output_shapes[1][1]\n",
        "    item_feat_dim = val_dataset.output_shapes[2][1]\n",
        "\n",
        "    feat_shape = tf.TensorShape([None, feat_dim])\n",
        "    item_feat_shape = tf.TensorShape([None, item_feat_dim])\n",
        "    na_shape = tf.TensorShape([None, None])\n",
        "    indices_shape = tf.TensorShape(None)\n",
        "    return (feat_shape, item_feat_shape, item_feat_shape, na_shape, indices_shape)\n",
        "\n",
        "  def _create_pred_ops(self, vars_, batches_, args, val_dataset):\n",
        "    \n",
        "    ctx_batch, pos_batch, neg_batch = batches_\n",
        "    var_linear, var_factors = vars_\n",
        "\n",
        "    sq_factors = tf.square(var_factors)\n",
        "\n",
        "    def _create_pred_op(item_batch):\n",
        "      batch = tfs.concat(1, [ctx_batch, item_batch])\n",
        "\n",
        "      # Linear term\n",
        "      linear = tfs.sparse_dense_matmul(batch, var_linear)\n",
        "\n",
        "      # Interaction term\n",
        "      term_1 = tfs.sparse_dense_matmul(batch, var_factors)\n",
        "      term_1 = tf.reduce_sum(tf.square(term_1), axis=1, keepdims=True)\n",
        "      term_2 = tfs.sparse_dense_matmul(tf.square(batch), sq_factors)\n",
        "      term_2 = tf.reduce_sum(term_2, axis=1, keepdims=True)\n",
        "      interaction = 0.5 * (term_1 - term_2)\n",
        "\n",
        "      return linear + interaction\n",
        "\n",
        "    return _create_pred_op(pos_batch), _create_pred_op(neg_batch)\n",
        "  \n",
        "  def _create_train_op(self, loss_op, vars_, batches_, args):\n",
        "    ctx_batch, pos_batch, neg_batch = batches_\n",
        "\n",
        "    global_step = tf.Variable(0, trainable=False)\n",
        "\n",
        "    # training op\n",
        "    opt = tf.contrib.opt.RegAdagradOptimizer(learning_rate=args.lr)\n",
        "    grads_and_vars = opt.compute_gradients(loss_op)\n",
        "\n",
        "    # sparse mini-batch gradients scaling op \n",
        "    def to_indicator(s):\n",
        "      return tf.SparseTensor(s.indices, tf.ones_like(s.values), s.dense_shape)\n",
        "\n",
        "    nz_batch = tfs.add(to_indicator(pos_batch), to_indicator(neg_batch))\n",
        "    nz_batch = to_indicator(tfs.concat(1, [ctx_batch, nz_batch]))\n",
        "    nz_batch = tfs.reduce_sum(nz_batch, axis=0)\n",
        "    nz_lr = 1.0 / tf.expand_dims(tf.maximum(nz_batch, 1.0), 1)\n",
        "\n",
        "    grads_and_vars = [(tf.multiply(nz_lr, grad), var) for grad, var\n",
        "                      in grads_and_vars]\n",
        "\n",
        "    # frequency adaptive regularization op\n",
        "    reg_grads_and_vars = [(tf.where(tf.equal(grad, 0),\n",
        "                                    grad,\n",
        "                                    self._create_reg_grad(var, grad, args)),\n",
        "                           var) for grad, var in grads_and_vars]\n",
        "    \n",
        "    # actual training op\n",
        "    train_op = opt.apply_gradients(grads_and_vars, global_step=global_step)\n",
        "    with opt.avoid_updating_slots():\n",
        "      reg_op = opt.apply_gradients(reg_grads_and_vars)\n",
        "\n",
        "    return tf.group([train_op, reg_op])"
      ],
      "execution_count": 0,
      "outputs": []
    },
    {
      "cell_type": "code",
      "metadata": {
        "id": "VAvyqxqJiuTf",
        "colab_type": "code",
        "colab": {}
      },
      "source": [
        "class TransRecFMArgs(FMArgs):\n",
        "  \"\"\"\n",
        "  Arguments for TransRec factorization machines\n",
        "  \"\"\"\n",
        "  \n",
        "  def __init__(self, epoch_size, max_norm=1.0, **kwargs):\n",
        "    \"\"\"\n",
        "    :param epoch_size: Epoch size\n",
        "    :param max_norm: Maximum norm over the model dimensionality,\n",
        "                     None or zero means no norm clipping\n",
        "    \"\"\"\n",
        "    super(TransRecFMArgs, self).__init__(epoch_size, **kwargs)\n",
        "    self.max_norm = max_norm\n",
        "\n",
        "\n",
        "class TfTransRecFM(TfFM):\n",
        "  \"\"\"\n",
        "  TransRec factorization machine\n",
        "  \"\"\"\n",
        "\n",
        "  def _create_shape(self, val_dataset):\n",
        "    feat_dim = val_dataset.output_shapes[0][1]\n",
        "    item_feat_dim = val_dataset.output_shapes[1][1]\n",
        "\n",
        "    feat_shape = tf.TensorShape([None, feat_dim])\n",
        "    item_feat_shape = tf.TensorShape([None, item_feat_dim])\n",
        "    na_shape = tf.TensorShape([None, None])\n",
        "    indices_shape = tf.TensorShape(None)\n",
        "    return (feat_shape, item_feat_shape, item_feat_shape, item_feat_shape, \n",
        "            na_shape, indices_shape)\n",
        "\n",
        "  def _create_vars(self, args, val_dataset):\n",
        "    ctx_feat_dim = val_dataset.output_shapes[0][1]\n",
        "    item_feat_dim = val_dataset.output_shapes[1][1]\n",
        "\n",
        "    initializer_linear = tf.random_uniform_initializer(-args.init_mean,\n",
        "                                                       args.init_mean, seed=1)\n",
        "    initializer_ctx_factors = tf.random_uniform_initializer(-args.init_mean,\n",
        "                                                            args.init_mean,\n",
        "                                                            seed=2)\n",
        "    initializer_item_factors = tf.random_uniform_initializer(-args.init_mean,\n",
        "                                                             args.init_mean,\n",
        "                                                             seed=3)\n",
        "    \n",
        "    var_linear = tf.Variable(\n",
        "        initializer_linear([item_feat_dim, 1]), name=\"linear\")\n",
        "    \n",
        "    var_ctx_shape = [ctx_feat_dim, args.num_dims]\n",
        "    var_ctx_factors = tf.Variable(\n",
        "        initializer_ctx_factors(var_ctx_shape), name=\"ctx_factors\")\n",
        "    \n",
        "    var_item_shape = [item_feat_dim, args.num_dims]\n",
        "    var_item_factors = tf.Variable(\n",
        "        initializer_item_factors(var_item_shape), name=\"item_factors\")\n",
        "    \n",
        "    return var_linear, var_ctx_factors, var_item_factors\n",
        "\n",
        "  def _create_pred_ops(self, vars_, batches_, args, val_dataset):\n",
        "\n",
        "    ctx_batch, prev_batch, pos_batch, neg_batch = batches_\n",
        "    var_linear, var_ctx_factors, var_item_factors = vars_\n",
        "\n",
        "    # Common context terms\n",
        "    c_factors_sum = self.safe_sparse_dense_matmul(\n",
        "        ctx_batch, var_ctx_factors) + self.safe_sparse_dense_matmul(\n",
        "            prev_batch, var_item_factors)\n",
        "\n",
        "    def _create_pred_op(item_batch):\n",
        "      # Linear term\n",
        "      linear = tfs.sparse_dense_matmul(item_batch, var_linear)\n",
        "\n",
        "      # Item terms\n",
        "      i_factors_sum = self.safe_sparse_dense_matmul(\n",
        "          item_batch, var_item_factors)\n",
        "\n",
        "      # Actual interaction terms\n",
        "      term_1 = tf.square(c_factors_sum)\n",
        "      term_2 = tf.multiply(c_factors_sum, i_factors_sum)\n",
        "      term_3 = tf.square(i_factors_sum)\n",
        "\n",
        "      interaction = term_1 - 2 * term_2 + term_3\n",
        "      interaction = tf.reduce_sum(interaction, axis=1, keepdims=True)\n",
        "\n",
        "      return linear - interaction\n",
        "    \n",
        "    return _create_pred_op(pos_batch), _create_pred_op(neg_batch)\n",
        "\n",
        "  def _create_reg_grad(self, var, grad, args):\n",
        "    if \"linear\" in var.name:\n",
        "      return self._create_l2_reg_grad(var, args.linear_reg)\n",
        "    else:\n",
        "      return self._create_l2_reg_grad(var, args.factors_reg)\n",
        "\n",
        "  def _create_train_op(self, loss_op, vars_, batches_, args):\n",
        "    \n",
        "    ctx_batch, prev_batch, pos_batch, neg_batch = batches_\n",
        "    var_linear, var_ctx_factors, var_item_factors = vars_\n",
        "    \n",
        "    global_step = tf.Variable(0, trainable=False)\n",
        "\n",
        "    # training op\n",
        "    opt = tf.contrib.opt.RegAdagradOptimizer(learning_rate=args.lr)\n",
        "    if args.max_norm:\n",
        "      clip_opt = tf.contrib.opt.VariableClippingOptimizer(\n",
        "          opt=opt,\n",
        "          vars_to_clip_dims={var_item_factors: [1]},\n",
        "          max_norm=args.max_norm)\n",
        "    else:\n",
        "      clip_opt = opt\n",
        "    grads_and_vars = opt.compute_gradients(loss_op)\n",
        "\n",
        "    # sparse mini-batch gradients scaling op \n",
        "    def to_indicator(s):\n",
        "      return tf.SparseTensor(s.indices, tf.ones_like(s.values), s.dense_shape)\n",
        "\n",
        "    nz_batch = to_indicator(ctx_batch)\n",
        "    nz_batch = tfs.reduce_sum(nz_batch, axis=0)\n",
        "    nz_lr = 1.0 / tf.expand_dims(tf.maximum(nz_batch, 1.0), 1)\n",
        "    grad, var = grads_and_vars[1]\n",
        "    grads_and_vars[1] = (tf.multiply(nz_lr, grad), var)\n",
        "\n",
        "    nz_batch = tfs.add(to_indicator(prev_batch), to_indicator(pos_batch))\n",
        "    nz_batch = tfs.add(nz_batch, to_indicator(neg_batch))\n",
        "    nz_batch = tfs.reduce_sum(nz_batch, axis=0)\n",
        "    nz_lr = 1.0 / tf.expand_dims(tf.maximum(nz_batch, 1.0), 1)\n",
        "    grad, var = grads_and_vars[0]\n",
        "    grads_and_vars[0] = (tf.multiply(nz_lr, grad), var)\n",
        "    grad, var = grads_and_vars[2]\n",
        "    grads_and_vars[2] = (tf.multiply(nz_lr, grad), var)\n",
        "\n",
        "    # actual training op\n",
        "    train_op = opt.apply_gradients(grads_and_vars, global_step=global_step)\n",
        "\n",
        "    with self.sess.graph.control_dependencies([train_op]):\n",
        "      # frequency adaptive regularization op\n",
        "      reg_grads_and_vars = [(tf.where(tf.equal(grad, 0),\n",
        "                                      grad,\n",
        "                                      self._create_reg_grad(var, grad, args)),\n",
        "                            var) for grad, var in grads_and_vars]\n",
        "      with opt.avoid_updating_slots():\n",
        "        reg_op = clip_opt.apply_gradients(reg_grads_and_vars)\n",
        "\n",
        "    return tf.group([train_op, reg_op])"
      ],
      "execution_count": 0,
      "outputs": []
    },
    {
      "cell_type": "code",
      "metadata": {
        "id": "FRGPrpsRi8qT",
        "colab_type": "code",
        "colab": {}
      },
      "source": [
        "class TfBatchTransRecFM(TfTransRecFM, TfBatchFM):\n",
        "  \"\"\"\n",
        "  TransRec factorization machine with cross-batch sampling\n",
        "  \"\"\"\n",
        "\n",
        "  def _create_pred_ops(self, vars_, batches_, args, val_dataset):\n",
        "\n",
        "    ctx_batch, prev_batch, pos_batch, neg_batch = batches_\n",
        "    var_linear, var_ctx_factors, var_item_factors = vars_\n",
        "\n",
        "    # Common context terms\n",
        "    c_factors_sum = self.safe_sparse_dense_matmul(\n",
        "        ctx_batch, var_ctx_factors) + self.safe_sparse_dense_matmul(\n",
        "            prev_batch, var_item_factors)\n",
        "\n",
        "    def _create_pred_op(item_batch, shared=False):\n",
        "      # Linear term\n",
        "      linear = tfs.sparse_dense_matmul(item_batch, var_linear)\n",
        "      if shared:\n",
        "        linear = tf.transpose(linear)\n",
        "\n",
        "      # Item terms\n",
        "      i_factors_sum = self.safe_sparse_dense_matmul(\n",
        "          item_batch, var_item_factors)\n",
        "\n",
        "      # Actual interaction terms\n",
        "      if shared:\n",
        "        term_1 = tf.reduce_sum(tf.square(c_factors_sum), axis=1, keepdims=True)\n",
        "        term_2 = tf.matmul(c_factors_sum, i_factors_sum, transpose_b=True)\n",
        "        term_3 = tf.reduce_sum(tf.square(i_factors_sum), axis=1, keepdims=True)\n",
        "        term_3 = tf.transpose(term_3)\n",
        "      else:\n",
        "        term_1 = tf.square(c_factors_sum)\n",
        "        term_2 = tf.multiply(c_factors_sum, i_factors_sum)\n",
        "        term_3 = tf.square(i_factors_sum)\n",
        "\n",
        "      interaction = term_1 - 2 * term_2 + term_3\n",
        "      if not shared:\n",
        "        interaction = tf.reduce_sum(interaction, axis=1, keepdims=True)\n",
        "\n",
        "      return linear - interaction\n",
        "    \n",
        "    return _create_pred_op(pos_batch), _create_pred_op(neg_batch, shared=True)"
      ],
      "execution_count": 0,
      "outputs": []
    },
    {
      "cell_type": "code",
      "metadata": {
        "id": "Xw8putsUjAEL",
        "colab_type": "code",
        "colab": {}
      },
      "source": [
        "class FFMArgs(FMArgs):\n",
        "  \"\"\"\n",
        "  Arguments for extended pairwise field-aware factorization machines\n",
        "  \"\"\"\n",
        "  \n",
        "  def __init__(self, epoch_size, num_ctx_fields, num_item_fields, **kwargs):\n",
        "    \"\"\"\n",
        "    :param epoch_size: Epoch size\n",
        "    :param num_ctx_fields: Number of user/context fields\n",
        "    :param num_item_fields: Number of item fields\n",
        "    \"\"\"\n",
        "    super(FFMArgs, self).__init__(epoch_size, **kwargs)\n",
        "    self.num_ctx_fields = num_ctx_fields\n",
        "    self.num_item_fields = num_item_fields\n",
        "  \n",
        "\n",
        "class TfFFM(TfFM):\n",
        "  \"\"\"\n",
        "  Extended pairwise field-aware factorization machine\n",
        "\n",
        "\n",
        "  To illustrate the vectorized implementation, consider the example with\n",
        "   * user features pid and userid\n",
        "   * item features traid, albid and artid\n",
        "\n",
        "  user / context features have shape [user_features, num_item_fields, num_dims]\n",
        "  item features have shape [item_features, num_user_fields, num_dims]\n",
        "\n",
        "  Looking up of relevant user / context and item features results in:\n",
        "\n",
        "  user features of shape [num_user_fields, num_item_fields, num_dims]\n",
        "  [userid-traid, userid-albid, userid-artid]\n",
        "  [pid-traid, pid-albid, pid-artid]\n",
        "\n",
        "  item features of shape [num_item_fields, num_user_fields, num_dims]\n",
        "  [traid-userid, traid-pid]\n",
        "  [albid-userid, albid-pid]\n",
        "  [artid-userid, artid-pid]\n",
        "\n",
        "  Now transpose item features and multiply element-wise with user features:\n",
        "\n",
        "  [userid-traid, pid-traid]     [traid-userid, traid-pid]\n",
        "  [userid-albid, pid-albid]     [albid-userid, albid-pid]\n",
        "  [userid-artid, pid-artid]     [artid-userid, artid-pid]\n",
        "\n",
        "  Sum up\n",
        "  \"\"\"\n",
        "\n",
        "  def _create_shape(self, val_dataset):\n",
        "    feat_dim = val_dataset.output_shapes[0][1]\n",
        "    item_feat_dim = val_dataset.output_shapes[1][1]\n",
        "\n",
        "    feat_shape = tf.TensorShape([None, feat_dim])\n",
        "    item_feat_shape = tf.TensorShape([None, item_feat_dim])\n",
        "    na_shape = tf.TensorShape([None, None])\n",
        "    indices_shape = tf.TensorShape(None)\n",
        "    return (feat_shape, item_feat_shape, item_feat_shape, na_shape, indices_shape)\n",
        "\n",
        "  def _create_vars(self, args, val_dataset):\n",
        "    ctx_feat_dim = val_dataset.output_shapes[0][1]\n",
        "    item_feat_dim = val_dataset.output_shapes[1][1]\n",
        "\n",
        "    initializer_linear = tf.random_uniform_initializer(-args.init_mean,\n",
        "                                                       args.init_mean, seed=1)\n",
        "    initializer_ctx_factors = tf.random_uniform_initializer(-args.init_mean,\n",
        "                                                            args.init_mean,\n",
        "                                                            seed=2)\n",
        "    initializer_item_factors = tf.random_uniform_initializer(-args.init_mean,\n",
        "                                                             args.init_mean,\n",
        "                                                             seed=3)\n",
        "    \n",
        "    var_linear = tf.Variable(\n",
        "        initializer_linear([item_feat_dim, 1]), name=\"linear\")\n",
        "    \n",
        "    var_ctx_shape = [ctx_feat_dim, args.num_item_fields, args.num_dims]\n",
        "    var_ctx_factors = tf.Variable(\n",
        "        initializer_ctx_factors(var_ctx_shape), name=\"ctx_factors\")\n",
        "    \n",
        "    var_item_shape = [item_feat_dim, args.num_ctx_fields, args.num_dims]\n",
        "    var_item_factors = tf.Variable(\n",
        "        initializer_item_factors(var_item_shape), name=\"item_factors\")\n",
        "    \n",
        "    return var_linear, var_ctx_factors, var_item_factors\n",
        "\n",
        "  def _create_pred_ops(self, vars_, batches_, args, val_dataset):\n",
        "\n",
        "    var_linear, var_ctx_factors, var_item_factors = vars_\n",
        "    ctx_batch, pos_batch, neg_batch = batches_\n",
        "\n",
        "    def _create_lookup_op(batch, factors, num_fields):\n",
        "      batch_feats = tf.slice(batch.indices, [0, 1], [-1, 1])\n",
        "      batch_feats = tf.reshape(batch_feats, [-1, num_fields])\n",
        "      batch_vals = tf.reshape(batch.values, [-1, num_fields])\n",
        "      batch_vals = tf.expand_dims(tf.expand_dims(batch_vals, axis=2), axis=3)\n",
        "      emb = tf.nn.embedding_lookup(factors, batch_feats)\n",
        "      emb = tf.multiply(emb, batch_vals)\n",
        "      return emb\n",
        "\n",
        "    ctx_emb = _create_lookup_op(ctx_batch, var_ctx_factors, args.num_ctx_fields)\n",
        "\n",
        "    def _create_pred_op(item_batch):\n",
        "      # Linear term\n",
        "      linear = tf.sparse_tensor_dense_matmul(item_batch, var_linear)\n",
        "\n",
        "      # Interaction term\n",
        "      item_emb = _create_lookup_op(item_batch, var_item_factors,\n",
        "                                   args.num_item_fields)\n",
        "      interaction = tf.multiply(ctx_emb, tf.transpose(item_emb, [0, 2, 1, 3]))\n",
        "      interaction = tf.reduce_sum(interaction, axis=[1, 2, 3])\n",
        "      interaction = tf.expand_dims(interaction, axis=1)\n",
        "\n",
        "      return linear + interaction\n",
        "    \n",
        "    return _create_pred_op(pos_batch), _create_pred_op(neg_batch)\n",
        "\n",
        "  def _create_train_op(self, loss_op, vars_, batches_, args):\n",
        "    ctx_batch, pos_batch, neg_batch = batches_\n",
        "\n",
        "    global_step = tf.Variable(0, trainable=False)\n",
        "\n",
        "    # training op\n",
        "    opt = tf.contrib.opt.RegAdagradOptimizer(learning_rate=args.lr)\n",
        "    grads_and_vars = opt.compute_gradients(loss_op)\n",
        "\n",
        "    # sparse mini-batch gradients scaling op \n",
        "    def to_indicator(s):\n",
        "      return tf.SparseTensor(s.indices, tf.ones_like(s.values), s.dense_shape)\n",
        "\n",
        "    nz_batch = to_indicator(ctx_batch)\n",
        "    nz_batch = tfs.reduce_sum(nz_batch, axis=0)\n",
        "    nz_lr = 1.0 / tf.expand_dims(tf.maximum(nz_batch, 1.0), 1)\n",
        "    nz_lr = tf.expand_dims(nz_lr, 1)\n",
        "    grad, var = grads_and_vars[1]\n",
        "    grads_and_vars[1] = (tf.multiply(nz_lr, grad), var)\n",
        "\n",
        "    nz_batch = tfs.add(to_indicator(pos_batch), to_indicator(neg_batch))\n",
        "    nz_batch = tfs.reduce_sum(nz_batch, axis=0)\n",
        "    nz_lr = 1.0 / tf.expand_dims(tf.maximum(nz_batch, 1.0), 1)\n",
        "    grad, var = grads_and_vars[0]\n",
        "    grads_and_vars[0] = (tf.multiply(nz_lr, grad), var)\n",
        "    nz_lr = tf.expand_dims(nz_lr, 1)\n",
        "    grad, var = grads_and_vars[2]\n",
        "    grads_and_vars[2] = (tf.multiply(nz_lr, grad), var)\n",
        "\n",
        "    # frequency adaptive regularization op\n",
        "    reg_grads_and_vars = [(tf.where(tf.equal(grad, 0),\n",
        "                                    grad,\n",
        "                                    self._create_reg_grad(var, grad, args)),\n",
        "                           var) for grad, var in grads_and_vars]\n",
        "    \n",
        "    # actual training op\n",
        "    train_op = opt.apply_gradients(grads_and_vars, global_step=global_step)\n",
        "    with opt.avoid_updating_slots():\n",
        "      reg_op = opt.apply_gradients(reg_grads_and_vars)\n",
        "\n",
        "    return tf.group([train_op, reg_op])"
      ],
      "execution_count": 0,
      "outputs": []
    },
    {
      "cell_type": "code",
      "metadata": {
        "id": "bA6j18-14Zxv",
        "colab_type": "code",
        "colab": {}
      },
      "source": [
        "class TfBatchFFM(TfFFM, TfBatchFM):\n",
        "\n",
        "  def _create_pred_ops(self, vars_, batches_, args, val_dataset):\n",
        "\n",
        "    var_linear, var_ctx_factors, var_item_factors = vars_\n",
        "    ctx_batch, pos_batch, neg_batch = batches_\n",
        "\n",
        "    num_fields_multiplied = args.num_ctx_fields * args.num_item_fields\n",
        "\n",
        "    def _create_lookup_op(batch, factors, num_fields, transpose=False):\n",
        "      batch_feats = tf.slice(batch.indices, [0, 1], [-1, 1])\n",
        "      batch_feats = tf.reshape(batch_feats, [-1, num_fields])\n",
        "      batch_vals = tf.reshape(batch.values, [-1, num_fields])\n",
        "      batch_vals = tf.expand_dims(tf.expand_dims(batch_vals, axis=2), axis=3)\n",
        "      emb = tf.nn.embedding_lookup(factors, batch_feats)\n",
        "      emb = tf.multiply(emb, batch_vals)\n",
        "\n",
        "      if transpose:\n",
        "        emb = tf.transpose(emb, [0, 2, 1, 3])\n",
        "      emb = tf.reshape(emb, [-1, num_fields_multiplied * args.num_dims])\n",
        "\n",
        "      return emb\n",
        "\n",
        "    ctx_emb = _create_lookup_op(ctx_batch, var_ctx_factors, args.num_ctx_fields)\n",
        "\n",
        "    def _create_pred_op(item_batch, shared=False):\n",
        "      # Linear term\n",
        "      linear = tfs.sparse_dense_matmul(item_batch, var_linear)\n",
        "      if shared:\n",
        "        linear = tf.transpose(linear)\n",
        "\n",
        "      # Interaction term\n",
        "      item_emb = _create_lookup_op(item_batch, var_item_factors,\n",
        "                                   args.num_item_fields, transpose=True)\n",
        "      if shared:\n",
        "        interaction = tf.matmul(ctx_emb, item_emb, transpose_b=True)\n",
        "      else:\n",
        "        interaction = tf.multiply(item_emb, ctx_emb)\n",
        "        interaction = tf.reduce_sum(interaction, axis=1, keepdims=True)\n",
        "\n",
        "      return linear + interaction\n",
        "\n",
        "    return _create_pred_op(pos_batch), _create_pred_op(neg_batch, shared=True)"
      ],
      "execution_count": 0,
      "outputs": []
    },
    {
      "cell_type": "markdown",
      "metadata": {
        "id": "naAIm2N_JjJF",
        "colab_type": "text"
      },
      "source": [
        "### Wrapper"
      ]
    },
    {
      "cell_type": "markdown",
      "metadata": {
        "id": "uum2NsrK0xES",
        "colab_type": "text"
      },
      "source": [
        "Finally, to use the sampling function, the feature function and the TensorFlow variant implementation combined for evaluation we need to implement wrappers."
      ]
    },
    {
      "cell_type": "markdown",
      "metadata": {
        "id": "PcfDQm6f0175",
        "colab_type": "text"
      },
      "source": [
        "First we use wrappers to create batches of train, validation or test instances, using a specific sampling and feature function."
      ]
    },
    {
      "cell_type": "code",
      "metadata": {
        "id": "J9Crc0WgiFsI",
        "colab_type": "code",
        "colab": {}
      },
      "source": [
        "def create_train_batch_generator(epochs, batch_size, df, meta_df, seeds_df,\n",
        "                                 feature_fn, sampler_fn,\n",
        "                                 separate_features=False,\n",
        "                                 item_ctx_features=False):\n",
        "  \"\"\"\n",
        "  Create a training batch generator\n",
        "  \"\"\"\n",
        "\n",
        "  # extract indices and feature mappings from dataframe\n",
        "  (num_users, user_indices, user_feats, num_items, item_indices, item_feats,\n",
        "   ctx_feats, item2artist, item2album) = feature_fn(df, meta_df, seeds_df)\n",
        "  \n",
        "  # initialize sampler of interactions and negative items\n",
        "  sampler = sampler_fn(epochs, batch_size, num_users, num_items,\n",
        "                       user_indices, item_indices, item2artist, item2album)\n",
        "\n",
        "  # create batches of features from batches of samples\n",
        "  for l in sampler:\n",
        "    if len(l) == 4:\n",
        "      b_pos_mask, b_neg_indices, b_na_indices, b_na_neg_indices = l\n",
        "      na_ones = np.ones(len(b_na_indices), dtype=bool)\n",
        "      na_indices = coo_matrix((na_ones, (b_na_indices, b_na_neg_indices)),\n",
        "                              shape=(batch_size, batch_size))\n",
        "    else:\n",
        "      b_pos_mask, b_neg_indices = l\n",
        "      na_indices = coo_matrix((batch_size, batch_size), dtype=bool)\n",
        "\n",
        "    b_user_indices = user_indices[b_pos_mask]\n",
        "    b_pos_indices = item_indices[b_pos_mask]\n",
        "\n",
        "    user_fs = user_feats[b_user_indices]\n",
        "    ctx_fs = ctx_feats[b_pos_mask] if ctx_feats is not None else None\n",
        "    pos_fs = item_feats[b_pos_indices]\n",
        "    neg_fs = item_feats[b_neg_indices]\n",
        "\n",
        "    if separate_features and item_ctx_features:\n",
        "      yield user_fs.tocoo(), ctx_fs.tocoo(), pos_fs.tocoo(), neg_fs.tocoo(), na_indices\n",
        "    else:\n",
        "      userctx_fs = sp.hstack([user_fs, ctx_fs])\n",
        "      if separate_features:\n",
        "        yield userctx_fs, pos_fs.tocoo(), neg_fs.tocoo(), na_indices\n",
        "      elif item_ctx_features:\n",
        "        empty_user_fs = csr_matrix(user_fs.shape)\n",
        "        pos_fs = sp.hstack([empty_user_fs, pos_fs])\n",
        "        neg_fs = sp.hstack([empty_user_fs, neg_fs])\n",
        "        yield userctx_fs, pos_fs, neg_fs, na_indices\n",
        "      else:\n",
        "        empty_userctx_fs = csr_matrix(userctx_fs.shape)\n",
        "        pos_fs = sp.hstack([empty_userctx_fs, pos_fs])\n",
        "        neg_fs = sp.hstack([empty_userctx_fs, neg_fs])\n",
        "        userctx_fs._shape = pos_fs.shape\n",
        "        yield userctx_fs, pos_fs, neg_fs, na_indices\n",
        "\n",
        "\n",
        "def create_val_batch(batch_size, val_df, meta_df, seeds_df, feature_fn,\n",
        "                     sampler_fn, separate_features=False,\n",
        "                     item_ctx_features=False):\n",
        "  \"\"\"\n",
        "  Create a validation batch generator\n",
        "  \"\"\"\n",
        "  repeat = int(ceil(batch_size / len(val_df)))\n",
        "  epochs = 1\n",
        "  batch_size = len(val_df) * repeat\n",
        "\n",
        "  def repeated_feature_fn(df, meta_df, seeds_df):\n",
        "    (num_users, user_indices, user_feats, num_items, item_indices, item_feats,\n",
        "     ctx_feats, item2artist, item2album) = feature_fn(df, meta_df, seeds_df)\n",
        "    \n",
        "    user_indices = np.repeat(user_indices, repeat)\n",
        "    item_indices = np.repeat(item_indices, repeat)\n",
        "    if ctx_feats is not None:\n",
        "      ctx_feats = ctx_feats.tolil()\n",
        "      ctx_feats.data = np.repeat(ctx_feats.data, repeat, axis=0)\n",
        "      ctx_feats.rows = np.repeat(ctx_feats.rows, repeat, axis=0)\n",
        "      ctx_feats._shape = (ctx_feats.shape[0] * repeat, ctx_feats.shape[1])\n",
        "      ctx_feats = ctx_feats.tocsr()\n",
        "    \n",
        "    return (num_users, user_indices, user_feats, num_items, item_indices,\n",
        "            item_feats, ctx_feats, item2artist, item2album)\n",
        "\n",
        "  g = create_train_batch_generator(epochs, batch_size, val_df, meta_df,\n",
        "                                   seeds_df, repeated_feature_fn, sampler_fn,\n",
        "                                   separate_features, item_ctx_features)\n",
        "  \n",
        "  b = next(g)\n",
        "  try:\n",
        "    next(g)\n",
        "  except StopIteration:\n",
        "    pass\n",
        "  \n",
        "  return b\n",
        "\n",
        "\n",
        "@nb.njit()\n",
        "def create_query_items_generator(num_users, user_indices, seed_user_indices,\n",
        "                                 num_items, seed_item_indices):\n",
        "\n",
        "  user2items = _nb_a2bs(seed_user_indices, num_users, seed_item_indices)\n",
        "\n",
        "  for i in range(len(user_indices)):\n",
        "    user_i = user_indices[i]\n",
        "    item_indices = np.array([j for j in range(1, num_items)\n",
        "                             if not bool(j in user2items[user_i])])\n",
        "    yield i, item_indices\n",
        "    \n",
        "  \n",
        "def create_query_batch_generator(query_df, meta_df, feature_fn,\n",
        "                                 filter_user_items=False,\n",
        "                                 separate_features=False,\n",
        "                                 item_ctx_features=False):\n",
        "  \"\"\"\n",
        "  Create a query batch generator\n",
        "  \"\"\"\n",
        "\n",
        "  # extract user indices and context feature mappings\n",
        "  # from query context dataframe \n",
        "  query_ctx_df = get_query_ctx(query_df)\n",
        "  (_, user_indices, _, _, _, _, ctx_feats, _,\n",
        "   _) = feature_fn(query_ctx_df, meta_df)\n",
        "  \n",
        "  # extract all indices and other feature mappings\n",
        "  # from query seeds and meta dataframe\n",
        "  query_seeds_df = get_query_seeds(query_df)\n",
        "  (num_users, seed_user_indices, user_feats, num_items, seed_item_indices,\n",
        "   item_feats, _, _, _) = feature_fn(query_seeds_df, meta_df, query_seeds_df)\n",
        "\n",
        "  # initialize generator of per-user batches of items\n",
        "  if filter_user_items:\n",
        "    g = create_query_items_generator(num_users, user_indices, seed_user_indices,\n",
        "                                     num_items, seed_item_indices)\n",
        "  else:\n",
        "    item_indices = np.arange(num_items)\n",
        "    g = ((i, item_indices) for i in range(len(user_indices)))\n",
        "\n",
        "  # create batches of features from per-user batches of items\n",
        "  for i, item_indices in g: \n",
        "    user_fs = user_feats[np.full(len(item_indices), user_indices[i], dtype=int)]\n",
        "    ctx_fs = ctx_feats[np.full(len(item_indices), i, dtype=int)] if ctx_feats is not None else None\n",
        "    pos_fs = item_feats[item_indices]\n",
        "\n",
        "    if separate_features and item_ctx_features:\n",
        "      yield user_fs.tocoo(), ctx_fs.tocoo(), pos_fs.tocoo(), item_indices\n",
        "    else:\n",
        "      userctx_fs = sp.hstack([user_fs, ctx_fs])\n",
        "      if separate_features:\n",
        "        yield userctx_fs, pos_fs.tocoo(), item_indices\n",
        "      elif item_ctx_features:\n",
        "        empty_user_fs = csr_matrix(user_fs.shape)\n",
        "        pos_fs = sp.hstack([empty_user_fs, pos_fs])\n",
        "        yield userctx_fs, pos_fs.tocoo(), item_indices\n",
        "      else:\n",
        "        empty_userctx_fs = csr_matrix(userctx_fs.shape)\n",
        "        pos_fs = sp.hstack([empty_userctx_fs, pos_fs])\n",
        "        userctx_fs._shape = pos_fs.shape\n",
        "        yield userctx_fs, pos_fs.tocoo(), item_indices"
      ],
      "execution_count": 0,
      "outputs": []
    },
    {
      "cell_type": "markdown",
      "metadata": {
        "id": "v6TJW0bY07Pi",
        "colab_type": "text"
      },
      "source": [
        "To use these batches efficiently with the TensorFlow factorization machine implementations, we wrap them as TensorFlow data sets."
      ]
    },
    {
      "cell_type": "code",
      "metadata": {
        "id": "81J0YBXEiRqd",
        "colab_type": "code",
        "colab": {}
      },
      "source": [
        "def coo2tuple(s, dtype=np.float32):\n",
        "  s = s.tocoo(copy=False)\n",
        "  s_indices = np.vstack((s.row.astype(np.int64), s.col.astype(np.int64))).T\n",
        "  return (s_indices, s.data.astype(dtype), s.shape)\n",
        "\n",
        "\n",
        "def dummyarray():\n",
        "  return np.zeros([1], dtype=np.int64)\n",
        "\n",
        "\n",
        "def dummytuple(dtype=np.float32):\n",
        "  return (np.zeros([1, 1], dtype=np.int64), np.ones(1, dtype=dtype), [1, 1])\n",
        "\n",
        "\n",
        "def batch2tuples(b):\n",
        "  if len(b) == 5:\n",
        "    # train batch generator with prev batch\n",
        "    userctx_s, prev_s, pos_s, neg_s, na_s = b\n",
        "    return (coo2tuple(userctx_s), coo2tuple(prev_s), coo2tuple(pos_s),\n",
        "            coo2tuple(neg_s), coo2tuple(na_s, dtype=bool), dummyarray())\n",
        "  elif len(b) == 4:\n",
        "    if len(b[3].shape) == 2:\n",
        "      # train batch generator \n",
        "      userctx_s, pos_s, neg_s, na_s = b\n",
        "      return (coo2tuple(userctx_s), coo2tuple(pos_s), coo2tuple(neg_s),\n",
        "              coo2tuple(na_s, dtype=bool), dummyarray())\n",
        "    else:\n",
        "      # query batch generator with prev batch\n",
        "      userctx_s, prev_s, pos_s, items = b\n",
        "      return (coo2tuple(userctx_s), coo2tuple(prev_s), coo2tuple(pos_s),\n",
        "              dummytuple(), dummytuple(dtype=bool), items)\n",
        "  else:\n",
        "    # query batch generator\n",
        "    userctx_s, pos_s, items = b\n",
        "    return (coo2tuple(userctx_s), coo2tuple(pos_s), dummytuple(),\n",
        "            dummytuple(dtype=bool), items)\n",
        "\n",
        "\n",
        "def tuples2tensors(*tuples):\n",
        "  if len(tuples) == 6:\n",
        "    userctx, prev, pos, neg, na, items = tuples\n",
        "    return (tf.SparseTensor(*userctx), tf.SparseTensor(*prev),\n",
        "            tf.SparseTensor(*pos), tf.SparseTensor(*neg), tf.SparseTensor(*na),\n",
        "            items)\n",
        "  else:\n",
        "    userctx, pos, neg, na, items = tuples\n",
        "    return (tf.SparseTensor(*userctx), tf.SparseTensor(*pos),\n",
        "            tf.SparseTensor(*neg), tf.SparseTensor(*na), items)\n",
        "\n",
        "\n",
        "def batch2dataset(b):\n",
        "  return tf.data.Dataset.from_tensors(tuples2tensors(*batch2tuples(b)))\n",
        "\n",
        "\n",
        "def batchgenerator2dataset(g):\n",
        "  g = (batch2tuples(b) for b in g)\n",
        "  peek_g = next(g)\n",
        "  g = itertools.chain([peek_g], g)\n",
        "  \n",
        "  f_shape = (tf.int64, tf.float32, tf.int64)\n",
        "  b_shape = (tf.int64, tf.bool, tf.int64)\n",
        "  if len(peek_g) == 6:\n",
        "    g_shape = (f_shape, f_shape, f_shape, f_shape, b_shape, tf.int64)\n",
        "  else:\n",
        "    g_shape = (f_shape, f_shape, f_shape, b_shape, tf.int64)\n",
        "  \n",
        "  return tf.data.Dataset.from_generator(lambda: g, g_shape).map(tuples2tensors)\n",
        "\n",
        "\n",
        "def create_train_dataset(epochs, graph, batch_size, df, meta_df, feature_fn,\n",
        "                         sampler_fn, separate_features=False,\n",
        "                         item_ctx_features=False):\n",
        "  \"\"\"\n",
        "  Create a training data set consisting of batches of\n",
        "   * user/context feature sparse tensor\n",
        "   * positive item feature sparse tensor\n",
        "   * negative item feature sparse tensor\n",
        "   * optional non-accepted negative items for users sparse tensor\n",
        "   * dummy item indices array\n",
        "  \"\"\"\n",
        "  with graph.as_default():\n",
        "    seeds_df = df\n",
        "    g = create_train_batch_generator(epochs, batch_size, df, meta_df, seeds_df,\n",
        "                                     feature_fn, sampler_fn, separate_features,\n",
        "                                     item_ctx_features)\n",
        "    return batchgenerator2dataset(g)\n",
        "\n",
        "\n",
        "def create_val_dataset(graph, batch_size, val_df, val_query_df, meta_df,\n",
        "                       feature_fn, sampler_fn, separate_features=False,\n",
        "                       item_ctx_features=False):\n",
        "  \"\"\"\n",
        "  Create a validation data set consisting of\n",
        "  a single batch of the same structure as the training data set batches.\n",
        "\n",
        "  The single batch has positive items repeated with different negative items\n",
        "  to have size similar to batch_size (of the training data set batches).\n",
        "  \"\"\"\n",
        "  with graph.as_default():\n",
        "    seeds_df = get_query_seeds(val_query_df)\n",
        "    b = create_val_batch(batch_size, val_df, meta_df, seeds_df, feature_fn,\n",
        "                         sampler_fn, separate_features, item_ctx_features)\n",
        "    \n",
        "    return batch2dataset(b).repeat()\n",
        "  \n",
        "\n",
        "def create_query_dataset(graph, query_df, meta_df, feature_fn,\n",
        "                         filter_user_items=False, separate_features=False,\n",
        "                         item_ctx_features=False):\n",
        "  \"\"\"\n",
        "  Create a query data set consisting of per-user batches of\n",
        "   * user/context feature sparse tensor\n",
        "   * query item feature sparse tensor\n",
        "   * dummy negative sparse tensor\n",
        "   * dummy non-accepted sparse tensor\n",
        "   * query item indices array\n",
        "  \"\"\"\n",
        "  with graph.as_default():\n",
        "    g = create_query_batch_generator(query_df, meta_df, feature_fn,\n",
        "                                     filter_user_items, separate_features,\n",
        "                                     item_ctx_features)\n",
        "    return batchgenerator2dataset(g).prefetch(1)"
      ],
      "execution_count": 0,
      "outputs": []
    },
    {
      "cell_type": "markdown",
      "metadata": {
        "id": "GWuwEuAp1AqY",
        "colab_type": "text"
      },
      "source": [
        "Finally we use a wrapper which, given a specific sampling function, feature function and factorization machine variant implementation, can be fitted on and transform dataframes in our required format. It also supports saving and loading models."
      ]
    },
    {
      "cell_type": "code",
      "metadata": {
        "id": "SXP5TVmpiZLj",
        "colab_type": "code",
        "colab": {}
      },
      "source": [
        "class FM:\n",
        "  \"\"\"\n",
        "  Wrapper around different TensorFlow factorization machines to use with\n",
        "   * train, validation, validation query, test and test query dataframes\n",
        "   * different arguments, feature and sampler / not accepted functions\n",
        "  \"\"\"\n",
        "\n",
        "  def __init__(self, fm_type, train_df, val_query_df, val_df, feature_fn,\n",
        "               sampler_fn, val_sampler_fn, args, n=500,\n",
        "               separate_features=False, item_ctx_features=False):\n",
        "\n",
        "    # train data set used for metadata\n",
        "    meta_df = train_df\n",
        "\n",
        "    with tf.device('/gpu:0'):\n",
        "      tf.reset_default_graph()\n",
        "      graph = tf.Graph()\n",
        "\n",
        "      train_dataset = create_train_dataset(args.epochs, graph, args.batch_size,\n",
        "                                           train_df, meta_df, feature_fn,\n",
        "                                           sampler_fn, separate_features,\n",
        "                                           item_ctx_features)\n",
        "\n",
        "      # important pipelining for better performance\n",
        "      with graph.as_default():\n",
        "        train_dataset = train_dataset.prefetch(args.batches_per_epoch)\n",
        "      \n",
        "      val_dataset = create_val_dataset(graph, args.batch_size, val_df,\n",
        "                                       val_query_df, meta_df, feature_fn,\n",
        "                                       val_sampler_fn, separate_features,\n",
        "                                       item_ctx_features)\n",
        "      \n",
        "      self.fm = fm_type(graph, train_dataset, val_dataset, args, n)\n",
        "      self.meta_df = meta_df\n",
        "      self.feature_fn = feature_fn\n",
        "      self.n = n\n",
        "      self.separate_features = separate_features\n",
        "      self.item_ctx_features = item_ctx_features\n",
        "  \n",
        "  @with_time\n",
        "  def fit(self, save_epochs=[], save_epoch_paths=[]):\n",
        "    return self.fm.train(save_epochs, save_epoch_paths)\n",
        "  \n",
        "  @with_time\n",
        "  def transform(self, query_df, filter_user_tracks=False):\n",
        "    query_dataset = create_query_dataset(self.fm.sess.graph, query_df,\n",
        "                                         self.meta_df, self.feature_fn,\n",
        "                                         filter_user_tracks,\n",
        "                                         self.separate_features,\n",
        "                                         self.item_ctx_features)\n",
        "    \n",
        "    scores, indices = self.fm.predict(query_dataset)\n",
        "    return pd.DataFrame({\n",
        "        \"score\": scores,\n",
        "        \"pid\": get_query_ctx(query_df)[\"pid\"].repeat(self.n),\n",
        "        \"traid\": indices\n",
        "    })\n",
        "\n",
        "  def save(self, save_path):\n",
        "    self.fm.save(save_path)\n",
        "  \n",
        "  def load(self, load_path):\n",
        "    self.fm.load(load_path)\n",
        "  \n",
        "  def close(self):\n",
        "    self.fm.close()"
      ],
      "execution_count": 0,
      "outputs": []
    },
    {
      "cell_type": "markdown",
      "metadata": {
        "id": "zr_ccEyd1GFb",
        "colab_type": "text"
      },
      "source": [
        "Using this wrapper, we can create a general evaluation function as well as a general function plotting the fitting process.\n",
        "\n",
        "These general functions and dictionaries are the only wrappers we will need to care about."
      ]
    },
    {
      "cell_type": "code",
      "metadata": {
        "id": "UGmf9jVZifTt",
        "colab_type": "code",
        "colab": {}
      },
      "source": [
        "fm_fits = dict()\n",
        "fm_evals = dict()\n",
        "\n",
        "\n",
        "def fit_fm_args(fm_type, args, args_name, train_df, val_query_df, val_df,\n",
        "                load=False, feature_fn=df2usersitems,\n",
        "                sampler_fn=uniform_sampler, val_sampler_fn=uniform_sampler,\n",
        "                separate_features=False, item_ctx_features=False):\n",
        "  \"\"\"\n",
        "  Fits, saves and returns a FM. Fills fm_fits.\n",
        "\n",
        "  Can also load a fitted FM instead of fitting and saving it again.\n",
        "  \"\"\"\n",
        "  fm = FM(fm_type, train_df, val_query_df, val_df, feature_fn, sampler_fn,\n",
        "          val_sampler_fn, args, separate_features=separate_features,\n",
        "          item_ctx_features=item_ctx_features)\n",
        "\n",
        "  fit_name = \"{}{}.pickle\".format(models_dirname, args_name)\n",
        "  model_name = \"{}{}.ckpt\".format(models_dirname, args_name)\n",
        "\n",
        "  if load:\n",
        "    with open(fit_name, \"rb\") as f:\n",
        "     fm_fits[args_name] = pickle.load(f)\n",
        "    fm.load(model_name)\n",
        "  else:\n",
        "    (losses, val_losses, val_scores), fit_time = fm.fit()\n",
        "\n",
        "    if isinstance(val_scores, tuple):\n",
        "      val_aucs, val_ranks = val_scores\n",
        "    else:\n",
        "      val_aucs = val_scores\n",
        "      val_ranks = None\n",
        "\n",
        "    fm_fits[args_name] = {\n",
        "        \"fit_time\": fit_time,\n",
        "        \"losses\": losses,\n",
        "        \"val_losses\": val_losses,\n",
        "        \"val_aucs\": val_aucs,\n",
        "        \"val_ranks\": val_ranks\n",
        "    }\n",
        "    with open(fit_name, \"wb\") as f:\n",
        "      pickle.dump(fm_fits[args_name], f)\n",
        "    fm.save(model_name)\n",
        "      \n",
        "  return fm\n",
        "\n",
        "\n",
        "def fit_fm_args_epochs(fm_type, args, args_names, args_epochs, train_df,\n",
        "                       val_query_df, val_df, load=False,\n",
        "                       feature_fn=df2usersitems, sampler_fn=uniform_sampler,\n",
        "                       val_sampler_fn=uniform_sampler, separate_features=False,\n",
        "                       item_ctx_features=False):\n",
        "  \"\"\"\n",
        "  Fits, saves and returns FMs at the given epochs.\n",
        "  Fills fm_fits for the FM with most epochs.\n",
        "\n",
        "  Can also load fitted FMs instead of fitting and saving it again.\n",
        "\n",
        "  This is obviously more efficient than\n",
        "   * fitting a FM for 100 epochs and saving it\n",
        "   * fitting a FM for 200 epochs and saving it\n",
        "   * ...\n",
        "  \"\"\"\n",
        "  fm = FM(fm_type, train_df, val_query_df, val_df, feature_fn, sampler_fn,\n",
        "          val_sampler_fn, args, separate_features=separate_features,\n",
        "          item_ctx_features=item_ctx_features)\n",
        "  \n",
        "  args_name = args_names[-1]\n",
        "  fit_name = \"{}{}.pickle\".format(models_dirname, args_name)\n",
        "  model_names = [\"{}{}.ckpt\".format(models_dirname, name) for name\n",
        "                 in args_names]\n",
        "\n",
        "  if load:\n",
        "    with open(fit_name, \"rb\") as f:\n",
        "      fm_fits[args_name] = pickle.load(f)\n",
        "  else:\n",
        "    (losses, val_losses, val_scores), fit_time = fm.fit(save_epochs=args_epochs,\n",
        "                                                        save_epoch_paths=model_names)\n",
        "\n",
        "    if isinstance(val_scores, tuple):\n",
        "      val_aucs, val_ranks = val_scores\n",
        "    else:\n",
        "      val_aucs = val_scores\n",
        "      val_ranks = None\n",
        "\n",
        "    fm_fits[args_name] = {\n",
        "        \"fit_time\": fit_time,\n",
        "        \"losses\": losses,\n",
        "        \"val_losses\": val_losses,\n",
        "        \"val_aucs\": val_aucs,\n",
        "        \"val_ranks\": val_ranks\n",
        "    }\n",
        "    with open(fit_name, \"wb\") as f:\n",
        "      pickle.dump(fm_fits[args_name], f)\n",
        "\n",
        "  for model_name in model_names:\n",
        "    fm.load(model_name)\n",
        "    yield fm\n",
        "\n",
        "\n",
        "def eval_fm(fm, args_name, test_query_df, test_df, silent=False,\n",
        "            filter_user_tracks=False, with_hit_rates=False):\n",
        "  \"\"\"\n",
        "  Evaluates a FM and returns the recommendation dataframe. Fills fm_evals.\n",
        "  \"\"\"\n",
        "  fm_evals[args_name] = dict()\n",
        "\n",
        "  fm_df, fm_evals[args_name][\"trans_time\"] = fm.transform(test_query_df,\n",
        "                                                          filter_user_tracks)\n",
        "  \n",
        "  if with_hit_rates:\n",
        "    fm_evals[args_name][\"hit_rates\"] = hit_rates(fm_df, test_df)\n",
        "    fm_evals[args_name][\"hit_rate\"] = fm_evals[args_name][\"hit_rates\"][0]\n",
        "  else:\n",
        "    fm_evals[args_name][\"hit_rate\"] = hit_rate(fm_df, test_df) \n",
        "  fm_evals[args_name][\"ndcg\"] = ndcg(fm_df, test_df)\n",
        "  \n",
        "  if not silent:\n",
        "    print(\"{:.6f} hit rate\\n{:.6f} ndcg\".format(\n",
        "        fm_evals[args_name][\"hit_rate\"], fm_evals[args_name][\"ndcg\"]))\n",
        "    if args_name in fm_fits:\n",
        "      print(\"\\n{:.5f}s fit time\".format(fm_fits[args_name][\"fit_time\"]))\n",
        "    print(\"{:.5f}s trans time\".format(fm_evals[args_name][\"trans_time\"]))\n",
        "  \n",
        "  return fm_df"
      ],
      "execution_count": 0,
      "outputs": []
    },
    {
      "cell_type": "code",
      "metadata": {
        "id": "ZdJC6H3Se4LA",
        "colab_type": "code",
        "colab": {}
      },
      "source": [
        "def plot_fm_fit(args_name, bottom_val_auc=0.75, top_val_auc=1.0, rows=1, row=0):\n",
        "  \"\"\"\n",
        "  Plots losses, validation losses and validation AUCs of a FM's fitting.\n",
        "  Uses fm_fits.\n",
        "  \"\"\"\n",
        "  plt.figure(figsize=(12, rows * 4))\n",
        "  \n",
        "  losses = fm_fits[args_name][\"losses\"]\n",
        "  losses_ax = plt.subplot(rows, 3, row * 3 + 1)\n",
        "  plt.plot(losses)\n",
        "  if row == 0:\n",
        "    plt.title(\"Losses\")\n",
        "  \n",
        "  val_losses = fm_fits[args_name][\"val_losses\"]\n",
        "  val_epochs = [i * args.eval_freq for i in range(len(val_losses))]\n",
        "  plt.subplot(rows, 3, row * 3 + 2, sharey=losses_ax)\n",
        "  plt.plot(val_epochs, val_losses)\n",
        "  if row == 0:\n",
        "    plt.title(\"Val losses\")\n",
        "  \n",
        "  aucs = fm_fits[args_name][\"val_aucs\"]\n",
        "  plt.subplot(rows, 3, row * 3 + 3)\n",
        "  plt.plot(val_epochs, aucs, color=\"red\")\n",
        "  plt.ylim(bottom=bottom_val_auc, top=top_val_auc)\n",
        "  if row == 0:\n",
        "    plt.title(\"Val AUCs\")\n",
        "  \n",
        "  plt.subplots_adjust(wspace=0.4)\n",
        "\n",
        "\n",
        "def plot_fm_fits(args_names, bottom_val_auc=0.75, top_val_auc=1.0):\n",
        "  rows = len(args_names)\n",
        "  for row, args_name in enumerate(args_names):\n",
        "    plot_fm_fit(args_name, bottom_val_auc, top_val_auc, rows, row)"
      ],
      "execution_count": 0,
      "outputs": []
    },
    {
      "cell_type": "markdown",
      "metadata": {
        "id": "YMe8pEsyWDA5",
        "colab_type": "text"
      },
      "source": [
        "## Evaluation"
      ]
    },
    {
      "cell_type": "markdown",
      "metadata": {
        "id": "HPfmLfUTknnZ",
        "colab_type": "text"
      },
      "source": [
        "We use a train-validation-test split and evaluate the different parameters and variants on the validation set.\n",
        "\n",
        "We will only evaluate the best parameters of each variant on the test set."
      ]
    },
    {
      "cell_type": "code",
      "metadata": {
        "id": "uBH7hybUkapv",
        "colab_type": "code",
        "outputId": "21c06d4a-5aaa-47a1-bf75-c8020e1fb03c",
        "colab": {
          "base_uri": "https://localhost:8080/",
          "height": 204
        }
      },
      "source": [
        "train_df, val_df, val_query_df = last_track_split(df, as_val=True)\n",
        "\n",
        "names_df = to_names_index(train_df)\n",
        "drop_names([train_df, val_df, val_query_df])\n",
        "\n",
        "val_df.head()"
      ],
      "execution_count": 48,
      "outputs": [
        {
          "output_type": "execute_result",
          "data": {
            "text/html": [
              "<div>\n",
              "<style scoped>\n",
              "    .dataframe tbody tr th:only-of-type {\n",
              "        vertical-align: middle;\n",
              "    }\n",
              "\n",
              "    .dataframe tbody tr th {\n",
              "        vertical-align: top;\n",
              "    }\n",
              "\n",
              "    .dataframe thead th {\n",
              "        text-align: right;\n",
              "    }\n",
              "</style>\n",
              "<table border=\"1\" class=\"dataframe\">\n",
              "  <thead>\n",
              "    <tr style=\"text-align: right;\">\n",
              "      <th></th>\n",
              "      <th>pid</th>\n",
              "      <th>timestamp</th>\n",
              "      <th>artid</th>\n",
              "      <th>traid</th>\n",
              "      <th>gender</th>\n",
              "      <th>age</th>\n",
              "      <th>country</th>\n",
              "      <th>b_age</th>\n",
              "      <th>prev_traid</th>\n",
              "      <th>prev_artid</th>\n",
              "    </tr>\n",
              "  </thead>\n",
              "  <tbody>\n",
              "    <tr>\n",
              "      <th>0</th>\n",
              "      <td>1</td>\n",
              "      <td>2009-05-03T15:48:25Z</td>\n",
              "      <td>112</td>\n",
              "      <td>1113</td>\n",
              "      <td>0</td>\n",
              "      <td>NaN</td>\n",
              "      <td>1</td>\n",
              "      <td>0</td>\n",
              "      <td>1112</td>\n",
              "      <td>112</td>\n",
              "    </tr>\n",
              "    <tr>\n",
              "      <th>1</th>\n",
              "      <td>2</td>\n",
              "      <td>2009-04-28T18:39:05Z</td>\n",
              "      <td>718</td>\n",
              "      <td>3930</td>\n",
              "      <td>1</td>\n",
              "      <td>NaN</td>\n",
              "      <td>2</td>\n",
              "      <td>0</td>\n",
              "      <td>8288</td>\n",
              "      <td>718</td>\n",
              "    </tr>\n",
              "    <tr>\n",
              "      <th>2</th>\n",
              "      <td>3</td>\n",
              "      <td>2009-04-18T15:39:43Z</td>\n",
              "      <td>612</td>\n",
              "      <td>9549</td>\n",
              "      <td>0</td>\n",
              "      <td>22.0</td>\n",
              "      <td>3</td>\n",
              "      <td>2</td>\n",
              "      <td>12113</td>\n",
              "      <td>523</td>\n",
              "    </tr>\n",
              "    <tr>\n",
              "      <th>3</th>\n",
              "      <td>4</td>\n",
              "      <td>2009-04-19T13:52:05Z</td>\n",
              "      <td>2814</td>\n",
              "      <td>126621</td>\n",
              "      <td>1</td>\n",
              "      <td>NaN</td>\n",
              "      <td>0</td>\n",
              "      <td>0</td>\n",
              "      <td>16408</td>\n",
              "      <td>2814</td>\n",
              "    </tr>\n",
              "    <tr>\n",
              "      <th>4</th>\n",
              "      <td>5</td>\n",
              "      <td>2009-05-04T08:46:22Z</td>\n",
              "      <td>2914</td>\n",
              "      <td>16585</td>\n",
              "      <td>0</td>\n",
              "      <td>NaN</td>\n",
              "      <td>4</td>\n",
              "      <td>0</td>\n",
              "      <td>16504</td>\n",
              "      <td>228</td>\n",
              "    </tr>\n",
              "  </tbody>\n",
              "</table>\n",
              "</div>"
            ],
            "text/plain": [
              "   pid             timestamp  artid  ...  b_age  prev_traid  prev_artid\n",
              "0    1  2009-05-03T15:48:25Z    112  ...      0        1112         112\n",
              "1    2  2009-04-28T18:39:05Z    718  ...      0        8288         718\n",
              "2    3  2009-04-18T15:39:43Z    612  ...      2       12113         523\n",
              "3    4  2009-04-19T13:52:05Z   2814  ...      0       16408        2814\n",
              "4    5  2009-05-04T08:46:22Z   2914  ...      0       16504         228\n",
              "\n",
              "[5 rows x 10 columns]"
            ]
          },
          "metadata": {
            "tags": []
          },
          "execution_count": 48
        }
      ]
    },
    {
      "cell_type": "code",
      "metadata": {
        "id": "T2z0CMr8HnAx",
        "colab_type": "code",
        "outputId": "002aebe5-0879-45ee-eeef-1b3f3176313b",
        "colab": {
          "base_uri": "https://localhost:8080/",
          "height": 33
        }
      },
      "source": [
        "print(\"Using {:,} of {:,} users in validation set\".format(\n",
        "    val_df[\"pid\"].nunique(), train_df[\"pid\"].nunique()))"
      ],
      "execution_count": 0,
      "outputs": [
        {
          "output_type": "stream",
          "text": [
            "Using 990 of 990 users in validation set\n"
          ],
          "name": "stdout"
        }
      ]
    },
    {
      "cell_type": "code",
      "metadata": {
        "id": "SYlLjAPs7Omx",
        "colab_type": "code",
        "outputId": "2f880cbf-3e58-46d9-8c78-42811089a703",
        "colab": {
          "base_uri": "https://localhost:8080/",
          "height": 204
        }
      },
      "source": [
        "with_names(get_query_seeds(val_query_df[val_query_df[\"pid\"] == 1]).tail()[[\"pid\", \"traid\"]], names_df)"
      ],
      "execution_count": 0,
      "outputs": [
        {
          "output_type": "execute_result",
          "data": {
            "text/html": [
              "<div>\n",
              "<style scoped>\n",
              "    .dataframe tbody tr th:only-of-type {\n",
              "        vertical-align: middle;\n",
              "    }\n",
              "\n",
              "    .dataframe tbody tr th {\n",
              "        vertical-align: top;\n",
              "    }\n",
              "\n",
              "    .dataframe thead th {\n",
              "        text-align: right;\n",
              "    }\n",
              "</style>\n",
              "<table border=\"1\" class=\"dataframe\">\n",
              "  <thead>\n",
              "    <tr style=\"text-align: right;\">\n",
              "      <th></th>\n",
              "      <th>pid</th>\n",
              "      <th>traname</th>\n",
              "      <th>artname</th>\n",
              "    </tr>\n",
              "  </thead>\n",
              "  <tbody>\n",
              "    <tr>\n",
              "      <th>19</th>\n",
              "      <td>1</td>\n",
              "      <td>Good Morning Love Coffee Is Ready</td>\n",
              "      <td>Dj Linus</td>\n",
              "    </tr>\n",
              "    <tr>\n",
              "      <th>18</th>\n",
              "      <td>1</td>\n",
              "      <td>Planetary Deadlock</td>\n",
              "      <td>Beanfield</td>\n",
              "    </tr>\n",
              "    <tr>\n",
              "      <th>17</th>\n",
              "      <td>1</td>\n",
              "      <td>Elysian Fields</td>\n",
              "      <td>Minus 8</td>\n",
              "    </tr>\n",
              "    <tr>\n",
              "      <th>16</th>\n",
              "      <td>1</td>\n",
              "      <td>Ninna Nanna In Blu (Raw Deal Remix)</td>\n",
              "      <td>Ennio Morricone</td>\n",
              "    </tr>\n",
              "    <tr>\n",
              "      <th>15</th>\n",
              "      <td>1</td>\n",
              "      <td>Crocodile (Innervisions Orchestra Mix)</td>\n",
              "      <td>Underworld</td>\n",
              "    </tr>\n",
              "  </tbody>\n",
              "</table>\n",
              "</div>"
            ],
            "text/plain": [
              "    pid                                 traname          artname\n",
              "19    1       Good Morning Love Coffee Is Ready         Dj Linus\n",
              "18    1                      Planetary Deadlock        Beanfield\n",
              "17    1                          Elysian Fields          Minus 8\n",
              "16    1     Ninna Nanna In Blu (Raw Deal Remix)  Ennio Morricone\n",
              "15    1  Crocodile (Innervisions Orchestra Mix)       Underworld"
            ]
          },
          "metadata": {
            "tags": []
          },
          "execution_count": 49
        }
      ]
    },
    {
      "cell_type": "code",
      "metadata": {
        "id": "qnlLThH45Kmb",
        "colab_type": "code",
        "outputId": "8d525414-9902-44c1-a28c-2c53ffd06ee0",
        "colab": {
          "base_uri": "https://localhost:8080/",
          "height": 80
        }
      },
      "source": [
        "with_names(val_df.head(1)[[\"pid\", \"traid\"]], names_df)"
      ],
      "execution_count": 0,
      "outputs": [
        {
          "output_type": "execute_result",
          "data": {
            "text/html": [
              "<div>\n",
              "<style scoped>\n",
              "    .dataframe tbody tr th:only-of-type {\n",
              "        vertical-align: middle;\n",
              "    }\n",
              "\n",
              "    .dataframe tbody tr th {\n",
              "        vertical-align: top;\n",
              "    }\n",
              "\n",
              "    .dataframe thead th {\n",
              "        text-align: right;\n",
              "    }\n",
              "</style>\n",
              "<table border=\"1\" class=\"dataframe\">\n",
              "  <thead>\n",
              "    <tr style=\"text-align: right;\">\n",
              "      <th></th>\n",
              "      <th>pid</th>\n",
              "      <th>traname</th>\n",
              "      <th>artname</th>\n",
              "    </tr>\n",
              "  </thead>\n",
              "  <tbody>\n",
              "    <tr>\n",
              "      <th>0</th>\n",
              "      <td>1</td>\n",
              "      <td>Boy, Boy, Boy (Switch Remix)</td>\n",
              "      <td>Underworld</td>\n",
              "    </tr>\n",
              "  </tbody>\n",
              "</table>\n",
              "</div>"
            ],
            "text/plain": [
              "   pid                       traname     artname\n",
              "0    1  Boy, Boy, Boy (Switch Remix)  Underworld"
            ]
          },
          "metadata": {
            "tags": []
          },
          "execution_count": 50
        }
      ]
    },
    {
      "cell_type": "code",
      "metadata": {
        "id": "Rs_55EgQ5K1q",
        "colab_type": "code",
        "outputId": "74e54080-079c-43f5-b594-80c7902d4ba1",
        "colab": {
          "base_uri": "https://localhost:8080/",
          "height": 204
        }
      },
      "source": [
        "with_names(get_query_seeds(val_query_df[val_query_df[\"pid\"] == 2]).tail()[[\"pid\", \"traid\"]], names_df)"
      ],
      "execution_count": 0,
      "outputs": [
        {
          "output_type": "execute_result",
          "data": {
            "text/html": [
              "<div>\n",
              "<style scoped>\n",
              "    .dataframe tbody tr th:only-of-type {\n",
              "        vertical-align: middle;\n",
              "    }\n",
              "\n",
              "    .dataframe tbody tr th {\n",
              "        vertical-align: top;\n",
              "    }\n",
              "\n",
              "    .dataframe thead th {\n",
              "        text-align: right;\n",
              "    }\n",
              "</style>\n",
              "<table border=\"1\" class=\"dataframe\">\n",
              "  <thead>\n",
              "    <tr style=\"text-align: right;\">\n",
              "      <th></th>\n",
              "      <th>pid</th>\n",
              "      <th>traname</th>\n",
              "      <th>artname</th>\n",
              "    </tr>\n",
              "  </thead>\n",
              "  <tbody>\n",
              "    <tr>\n",
              "      <th>16691</th>\n",
              "      <td>2</td>\n",
              "      <td>Cold Blooded Old Times</td>\n",
              "      <td>Smog</td>\n",
              "    </tr>\n",
              "    <tr>\n",
              "      <th>16690</th>\n",
              "      <td>2</td>\n",
              "      <td>Sleep</td>\n",
              "      <td>Soap&amp;Skin</td>\n",
              "    </tr>\n",
              "    <tr>\n",
              "      <th>16689</th>\n",
              "      <td>2</td>\n",
              "      <td>Cry Wolf</td>\n",
              "      <td>Soap&amp;Skin</td>\n",
              "    </tr>\n",
              "    <tr>\n",
              "      <th>16688</th>\n",
              "      <td>2</td>\n",
              "      <td>Thanatos</td>\n",
              "      <td>Soap&amp;Skin</td>\n",
              "    </tr>\n",
              "    <tr>\n",
              "      <th>16687</th>\n",
              "      <td>2</td>\n",
              "      <td>Sound Of Silence</td>\n",
              "      <td>Simon &amp; Garfunkel</td>\n",
              "    </tr>\n",
              "  </tbody>\n",
              "</table>\n",
              "</div>"
            ],
            "text/plain": [
              "       pid                 traname            artname\n",
              "16691    2  Cold Blooded Old Times               Smog\n",
              "16690    2                   Sleep          Soap&Skin\n",
              "16689    2                Cry Wolf          Soap&Skin\n",
              "16688    2                Thanatos          Soap&Skin\n",
              "16687    2        Sound Of Silence  Simon & Garfunkel"
            ]
          },
          "metadata": {
            "tags": []
          },
          "execution_count": 51
        }
      ]
    },
    {
      "cell_type": "code",
      "metadata": {
        "id": "Un0XDTdT5n3U",
        "colab_type": "code",
        "outputId": "e8b2aba9-91d8-47aa-b896-403ecdd837b5",
        "colab": {
          "base_uri": "https://localhost:8080/",
          "height": 77
        }
      },
      "source": [
        "with_names(val_df.head(2).tail(1)[[\"pid\", \"traid\"]], names_df)"
      ],
      "execution_count": 0,
      "outputs": [
        {
          "output_type": "execute_result",
          "data": {
            "text/html": [
              "<div>\n",
              "<style scoped>\n",
              "    .dataframe tbody tr th:only-of-type {\n",
              "        vertical-align: middle;\n",
              "    }\n",
              "\n",
              "    .dataframe tbody tr th {\n",
              "        vertical-align: top;\n",
              "    }\n",
              "\n",
              "    .dataframe thead th {\n",
              "        text-align: right;\n",
              "    }\n",
              "</style>\n",
              "<table border=\"1\" class=\"dataframe\">\n",
              "  <thead>\n",
              "    <tr style=\"text-align: right;\">\n",
              "      <th></th>\n",
              "      <th>pid</th>\n",
              "      <th>traname</th>\n",
              "      <th>artname</th>\n",
              "    </tr>\n",
              "  </thead>\n",
              "  <tbody>\n",
              "    <tr>\n",
              "      <th>1</th>\n",
              "      <td>2</td>\n",
              "      <td>Homeward Bound</td>\n",
              "      <td>Simon &amp; Garfunkel</td>\n",
              "    </tr>\n",
              "  </tbody>\n",
              "</table>\n",
              "</div>"
            ],
            "text/plain": [
              "   pid         traname            artname\n",
              "1    2  Homeward Bound  Simon & Garfunkel"
            ]
          },
          "metadata": {
            "tags": []
          },
          "execution_count": 50
        }
      ]
    },
    {
      "cell_type": "markdown",
      "metadata": {
        "id": "b3LyH0p7K9AP",
        "colab_type": "text"
      },
      "source": [
        "We can load already fitted FMs or fit them ourselves."
      ]
    },
    {
      "cell_type": "code",
      "metadata": {
        "id": "niY9FD1nhk3z",
        "colab_type": "code",
        "colab": {}
      },
      "source": [
        "load=True"
      ],
      "execution_count": 0,
      "outputs": []
    },
    {
      "cell_type": "markdown",
      "metadata": {
        "id": "6H-xMNcZd9f5",
        "colab_type": "text"
      },
      "source": [
        "### Pairwise factorization machines"
      ]
    },
    {
      "cell_type": "markdown",
      "metadata": {
        "id": "3rqzUqacL_lz",
        "colab_type": "text"
      },
      "source": [
        "#### Hyperparameters"
      ]
    },
    {
      "cell_type": "markdown",
      "metadata": {
        "id": "X85VO9xeL3ti",
        "colab_type": "text"
      },
      "source": [
        "At first, we try to find reasonable hyperparameter values for vanilla factorization machines.\n",
        "\n",
        "In particular we consider:\n",
        "\n",
        "*   *linear_reg*: The regularization rate for the linear weights\n",
        "*   *factors_reg*: The regularization rate for the latent factor weights\n",
        "*   *num_dims / k*: The number of dimensions\n",
        "*   *lr*: The Adagrad learning rate"
      ]
    },
    {
      "cell_type": "markdown",
      "metadata": {
        "id": "dXtAcN5UL4Gh",
        "colab_type": "text"
      },
      "source": [
        "**Mini-batch size**\n",
        "\n",
        "As mini-batch size we use *16384* which is quite large but has been shown to work fine in previous experiments.\n",
        "\n",
        "A large mini-batch size is important for a faster runtime of our TensorFlow implementation."
      ]
    },
    {
      "cell_type": "markdown",
      "metadata": {
        "id": "4HUHTimBMDuT",
        "colab_type": "text"
      },
      "source": [
        "**Regularizaton rate**"
      ]
    },
    {
      "cell_type": "code",
      "metadata": {
        "id": "fdjzPSubWUCv",
        "colab_type": "code",
        "outputId": "9c67a7ca-cd4e-433b-dda4-d3d72e76e4e8",
        "colab": {
          "base_uri": "https://localhost:8080/",
          "height": 557
        }
      },
      "source": [
        "regs = [0.001, 0.003, 0.01, 0.03, 0.1]\n",
        "reg_names = [\"fm_lreg{}\".format(reg) for reg in regs]\n",
        "\n",
        "for reg, reg_name in zip(regs, reg_names):\n",
        "  args = FMArgs(len(train_df), linear_reg=reg, epochs=100)\n",
        "  fm = fit_fm_args(TfFM, args, reg_name, train_df, val_query_df, val_df,\n",
        "                   load=load)\n",
        "  eval_fm(fm, reg_name, val_query_df, val_df, filter_user_tracks=False)"
      ],
      "execution_count": 0,
      "outputs": [
        {
          "output_type": "stream",
          "text": [
            "INFO:tensorflow:Restoring parameters from /drive/My Drive/models/lastfm-1k/fm_lreg0.001.ckpt\n",
            "0.003030 hit rate\n",
            "0.030386 ndcg\n",
            "\n",
            "1635.27806s fit time\n",
            "53.00941s trans time\n",
            "INFO:tensorflow:Restoring parameters from /drive/My Drive/models/lastfm-1k/fm_lreg0.003.ckpt\n",
            "0.002020 hit rate\n",
            "0.032942 ndcg\n",
            "\n",
            "1656.11434s fit time\n",
            "53.05761s trans time\n",
            "INFO:tensorflow:Restoring parameters from /drive/My Drive/models/lastfm-1k/fm_lreg0.01.ckpt\n",
            "0.004040 hit rate\n",
            "0.034601 ndcg\n",
            "\n",
            "1655.52389s fit time\n",
            "52.61292s trans time\n",
            "INFO:tensorflow:Restoring parameters from /drive/My Drive/models/lastfm-1k/fm_lreg0.03.ckpt\n",
            "0.005051 hit rate\n",
            "0.036142 ndcg\n",
            "\n",
            "1656.97504s fit time\n",
            "52.44449s trans time\n",
            "INFO:tensorflow:Restoring parameters from /drive/My Drive/models/lastfm-1k/fm_lreg0.1.ckpt\n",
            "0.004040 hit rate\n",
            "0.034495 ndcg\n",
            "\n",
            "1877.51863s fit time\n",
            "51.79563s trans time\n"
          ],
          "name": "stdout"
        }
      ]
    },
    {
      "cell_type": "code",
      "metadata": {
        "id": "_h4pn82mmpse",
        "colab_type": "code",
        "outputId": "19032f06-de8e-4068-e13e-8f1de2f40151",
        "colab": {
          "base_uri": "https://localhost:8080/",
          "height": 449
        }
      },
      "source": [
        "regs = [0.0003, 0.001, 0.003, 0.03]\n",
        "reg_names = [\"fm_freg{}\".format(reg) for reg in regs]\n",
        "\n",
        "for reg, reg_name in zip(regs, reg_names):\n",
        "  args = FMArgs(len(train_df), linear_reg=0.03, factors_reg=reg, epochs=100)\n",
        "  fm = fit_fm_args(TfFM, args, reg_name, train_df, val_query_df, val_df,\n",
        "                   load=load)\n",
        "  eval_fm(fm, reg_name, val_query_df, val_df, filter_user_tracks=False)"
      ],
      "execution_count": 0,
      "outputs": [
        {
          "output_type": "stream",
          "text": [
            "INFO:tensorflow:Restoring parameters from /drive/My Drive/models/lastfm-1k/fm_freg0.0003.ckpt\n",
            "0.000000 hit rate\n",
            "0.033124 ndcg\n",
            "\n",
            "1788.06870s fit time\n",
            "58.38376s trans time\n",
            "INFO:tensorflow:Restoring parameters from /drive/My Drive/models/lastfm-1k/fm_freg0.001.ckpt\n",
            "0.002020 hit rate\n",
            "0.035923 ndcg\n",
            "\n",
            "1781.12681s fit time\n",
            "58.36566s trans time\n",
            "INFO:tensorflow:Restoring parameters from /drive/My Drive/models/lastfm-1k/fm_freg0.003.ckpt\n",
            "0.001010 hit rate\n",
            "0.035674 ndcg\n",
            "\n",
            "1821.04126s fit time\n",
            "57.87288s trans time\n",
            "INFO:tensorflow:Restoring parameters from /drive/My Drive/models/lastfm-1k/fm_freg0.03.ckpt\n",
            "0.005051 hit rate\n",
            "0.029885 ndcg\n",
            "\n",
            "1830.63905s fit time\n",
            "58.08039s trans time\n"
          ],
          "name": "stdout"
        }
      ]
    },
    {
      "cell_type": "markdown",
      "metadata": {
        "id": "JOn93q7XZmHR",
        "colab_type": "text"
      },
      "source": [
        "**Number of dimensions**"
      ]
    },
    {
      "cell_type": "code",
      "metadata": {
        "id": "dc3wR8B6ZSmT",
        "colab_type": "code",
        "colab": {}
      },
      "source": [
        "ks = [100, 150, 200, 250, 300, 350, 400]\n",
        "k_names = [\"fm_k{}\".format(k) for k in ks]\n",
        "\n",
        "for k, k_name in zip(ks, k_names):\n",
        "  args = FMArgs(len(train_df), linear_reg=0.03, factors_reg=0.001,\n",
        "                epochs=100, num_dims=k)\n",
        "  fm = fit_fm_args(TfFM, args, k_name, train_df, val_query_df, val_df,\n",
        "                   load=load)\n",
        "  eval_fm(fm, k_name, val_query_df, val_df, filter_user_tracks=False,\n",
        "          silent=True)"
      ],
      "execution_count": 0,
      "outputs": []
    },
    {
      "cell_type": "code",
      "metadata": {
        "id": "cph4PuUnfLKq",
        "colab_type": "code",
        "outputId": "d569731b-2c4f-42d8-d74b-b85a7c9d0bd2",
        "colab": {
          "base_uri": "https://localhost:8080/",
          "height": 241
        }
      },
      "source": [
        "plt.figure(figsize=(6, 3))\n",
        "\n",
        "k_ndcgs = [fm_evals[k_name][\"ndcg\"] for k_name in [\"fm_freg0.001\"] + k_names]\n",
        "plt.plot([50] + ks, k_ndcgs, \"o--\", color=\"red\")\n",
        "plt.xticks([50] + ks)\n",
        "plt.ylim(bottom=0.03, top=0.06)\n",
        "plt.grid(True, axis=\"y\")\n",
        "\n",
        "plt.ylabel(\"NDCG\")\n",
        "plt.xlabel(\"k\")\n",
        "plt.title(\"Lastfm-1k\");"
      ],
      "execution_count": 0,
      "outputs": [
        {
          "output_type": "display_data",
          "data": {
            "image/png": "[encoded data removed]",
            "text/plain": [
              "<Figure size 432x216 with 1 Axes>"
            ]
          },
          "metadata": {
            "tags": []
          }
        }
      ]
    },
    {
      "cell_type": "code",
      "metadata": {
        "id": "gXgQxaqcJL1J",
        "colab_type": "code",
        "outputId": "483c69ab-32cf-4cc0-9c2b-8404affb4a05",
        "colab": {
          "base_uri": "https://localhost:8080/",
          "height": 281
        }
      },
      "source": [
        "k_times = [fm_fits[k_name][\"fit_time\"] for k_name in [\"fm_freg0.001\"] + k_names]\n",
        "plt.plot([50] + ks, k_times, \"o--\")\n",
        "plt.xticks([50] + ks)\n",
        "plt.ylim(bottom=0.0)\n",
        "\n",
        "plt.title(\"Training times (s) per k\");"
      ],
      "execution_count": 0,
      "outputs": [
        {
          "output_type": "display_data",
          "data": {
            "image/png": "[encoded data removed]",
            "text/plain": [
              "<Figure size 432x288 with 1 Axes>"
            ]
          },
          "metadata": {
            "tags": []
          }
        }
      ]
    },
    {
      "cell_type": "code",
      "metadata": {
        "id": "Z7cQzOCIypjp",
        "colab_type": "code",
        "outputId": "e3662a51-fe58-4b17-82b9-c73b59dec3b8",
        "colab": {
          "base_uri": "https://localhost:8080/",
          "height": 33
        }
      },
      "source": [
        "k_ndcgs[2]"
      ],
      "execution_count": 0,
      "outputs": [
        {
          "output_type": "execute_result",
          "data": {
            "text/plain": [
              "0.04403773994514467"
            ]
          },
          "metadata": {
            "tags": []
          },
          "execution_count": 68
        }
      ]
    },
    {
      "cell_type": "code",
      "metadata": {
        "id": "i20KxGChpd-P",
        "colab_type": "code",
        "outputId": "8c4a9c60-2be0-49e3-b609-3841640dcbd0",
        "colab": {
          "base_uri": "https://localhost:8080/",
          "height": 233
        }
      },
      "source": [
        "lrs = [0.3, 0.6]\n",
        "lr_names = [\"fm_lr{}\".format(lr) for lr in lrs]\n",
        "\n",
        "for lr, lr_name in zip(lrs, lr_names):\n",
        "  args = FMArgs(len(train_df), linear_reg=0.03, factors_reg=0.001,\n",
        "                epochs=100, num_dims=150, lr=lr)\n",
        "  fm = fit_fm_args(TfFM, args, lr_name, train_df, val_query_df, val_df,\n",
        "                   load=load)\n",
        "  eval_fm(fm, lr_name, val_query_df, val_df, filter_user_tracks=False)"
      ],
      "execution_count": 0,
      "outputs": [
        {
          "output_type": "stream",
          "text": [
            "INFO:tensorflow:Restoring parameters from /drive/My Drive/models/lastfm-1k/fm_lr0.3.ckpt\n",
            "0.001010 hit rate\n",
            "0.042098 ndcg\n",
            "\n",
            "2684.64649s fit time\n",
            "62.33039s trans time\n",
            "INFO:tensorflow:Restoring parameters from /drive/My Drive/models/lastfm-1k/fm_lr0.6.ckpt\n",
            "0.001010 hit rate\n",
            "0.039346 ndcg\n",
            "\n",
            "2633.30233s fit time\n",
            "60.56222s trans time\n"
          ],
          "name": "stdout"
        }
      ]
    },
    {
      "cell_type": "markdown",
      "metadata": {
        "id": "LofMBVoc5f0h",
        "colab_type": "text"
      },
      "source": [
        "#### Sampling"
      ]
    },
    {
      "cell_type": "code",
      "metadata": {
        "id": "pRtqx0vQFOMe",
        "colab_type": "code",
        "outputId": "e762d71c-55d7-4790-cc53-792450f4aaf0",
        "colab": {
          "base_uri": "https://localhost:8080/",
          "height": 341
        }
      },
      "source": [
        "args = FMArgs(len(train_df), linear_reg=0.01, factors_reg=0.0003,\n",
        "              epochs=100, num_dims=150, lr=0.1, batch_size=4096)\n",
        "\n",
        "args_epochs = [10, 25, 50, 100]\n",
        "args_names = [\"fm_b4096_e{}\".format(args_epoch) for args_epoch\n",
        "              in args_epochs]\n",
        "\n",
        "fms = fit_fm_args_epochs(TfFM, args, args_names, args_epochs, train_df,\n",
        "                         val_query_df, val_df, load=load)\n",
        "\n",
        "for fm, args_name in zip(fms, args_names):\n",
        "  eval_fm(fm, args_name, val_query_df, val_df, filter_user_tracks=False)"
      ],
      "execution_count": 0,
      "outputs": [
        {
          "output_type": "stream",
          "text": [
            "INFO:tensorflow:Restoring parameters from /drive/My Drive/models/lastfm-1k/fm_b4096_e10.ckpt\n",
            "0.000000 hit rate\n",
            "0.038528 ndcg\n",
            "63.11869s trans time\n",
            "INFO:tensorflow:Restoring parameters from /drive/My Drive/models/lastfm-1k/fm_b4096_e25.ckpt\n",
            "0.001010 hit rate\n",
            "0.045778 ndcg\n",
            "64.34642s trans time\n",
            "INFO:tensorflow:Restoring parameters from /drive/My Drive/models/lastfm-1k/fm_b4096_e50.ckpt\n",
            "0.002020 hit rate\n",
            "0.046673 ndcg\n",
            "66.63760s trans time\n",
            "INFO:tensorflow:Restoring parameters from /drive/My Drive/models/lastfm-1k/fm_b4096_e100.ckpt\n",
            "0.002020 hit rate\n",
            "0.049573 ndcg\n",
            "\n",
            "6238.57836s fit time\n",
            "64.59512s trans time\n"
          ],
          "name": "stdout"
        }
      ]
    },
    {
      "cell_type": "code",
      "metadata": {
        "colab_type": "code",
        "id": "qBMxtHwJvOYz",
        "outputId": "28c150cc-32f9-45d6-b23c-060afdb29d6a",
        "colab": {
          "base_uri": "https://localhost:8080/",
          "height": 341
        }
      },
      "source": [
        "args = FMArgs(len(train_df), linear_reg=0.01, factors_reg=0.0003,\n",
        "              epochs=100, num_dims=150, lr=0.6, batch_size=4096)\n",
        "\n",
        "args_epochs = [10, 25, 50, 100]\n",
        "args_names = [\"fm_b4096_lr0.6_e{}\".format(args_epoch) for args_epoch\n",
        "              in args_epochs]\n",
        "\n",
        "fms = fit_fm_args_epochs(TfFM, args, args_names, args_epochs, train_df,\n",
        "                         val_query_df, val_df, load=load)\n",
        "\n",
        "for fm, args_name in zip(fms, args_names):\n",
        "  eval_fm(fm, args_name, val_query_df, val_df, filter_user_tracks=False)"
      ],
      "execution_count": 0,
      "outputs": [
        {
          "output_type": "stream",
          "text": [
            "INFO:tensorflow:Restoring parameters from /drive/My Drive/models/lastfm-1k/fm_b4096_lr0.6_e10.ckpt\n",
            "0.002020 hit rate\n",
            "0.035085 ndcg\n",
            "62.20656s trans time\n",
            "INFO:tensorflow:Restoring parameters from /drive/My Drive/models/lastfm-1k/fm_b4096_lr0.6_e25.ckpt\n",
            "0.003030 hit rate\n",
            "0.039974 ndcg\n",
            "62.67853s trans time\n",
            "INFO:tensorflow:Restoring parameters from /drive/My Drive/models/lastfm-1k/fm_b4096_lr0.6_e50.ckpt\n",
            "0.003030 hit rate\n",
            "0.037971 ndcg\n",
            "62.10270s trans time\n",
            "INFO:tensorflow:Restoring parameters from /drive/My Drive/models/lastfm-1k/fm_b4096_lr0.6_e100.ckpt\n",
            "0.001010 hit rate\n",
            "0.042112 ndcg\n",
            "\n",
            "6574.56203s fit time\n",
            "61.90338s trans time\n"
          ],
          "name": "stdout"
        }
      ]
    },
    {
      "cell_type": "code",
      "metadata": {
        "id": "UeiIVRL9oRZo",
        "colab_type": "code",
        "outputId": "b8924073-c027-48e5-80ba-68d8d0649e7a",
        "colab": {
          "base_uri": "https://localhost:8080/",
          "height": 341
        }
      },
      "source": [
        "args = FMArgs(len(train_df), linear_reg=0.01, factors_reg=0.0003,\n",
        "              epochs=100, num_dims=150, lr=0.1, batch_size=4096)\n",
        "\n",
        "args_epochs = [10, 25, 50, 100]\n",
        "args_names = [\"fm_b4096_aes_e{}\".format(args_epoch) for args_epoch\n",
        "              in args_epochs]\n",
        "\n",
        "fms = fit_fm_args_epochs(TfFM, args, args_names, args_epochs, train_df,\n",
        "                         val_query_df, val_df, load=load,\n",
        "                         sampler_fn=exp_sampler)\n",
        "\n",
        "for fm, args_name in zip(fms, args_names):\n",
        "  eval_fm(fm, args_name, val_query_df, val_df, filter_user_tracks=False)"
      ],
      "execution_count": 0,
      "outputs": [
        {
          "output_type": "stream",
          "text": [
            "INFO:tensorflow:Restoring parameters from /drive/My Drive/models/lastfm-1k/fm_b4096_aes_e10.ckpt\n",
            "0.001010 hit rate\n",
            "0.039227 ndcg\n",
            "64.52445s trans time\n",
            "INFO:tensorflow:Restoring parameters from /drive/My Drive/models/lastfm-1k/fm_b4096_aes_e25.ckpt\n",
            "0.001010 hit rate\n",
            "0.039492 ndcg\n",
            "66.77953s trans time\n",
            "INFO:tensorflow:Restoring parameters from /drive/My Drive/models/lastfm-1k/fm_b4096_aes_e50.ckpt\n",
            "0.002020 hit rate\n",
            "0.045214 ndcg\n",
            "66.20555s trans time\n",
            "INFO:tensorflow:Restoring parameters from /drive/My Drive/models/lastfm-1k/fm_b4096_aes_e100.ckpt\n",
            "0.001010 hit rate\n",
            "0.046906 ndcg\n",
            "\n",
            "6713.47062s fit time\n",
            "65.63380s trans time\n"
          ],
          "name": "stdout"
        }
      ]
    },
    {
      "cell_type": "code",
      "metadata": {
        "id": "S6goIwak7zcf",
        "colab_type": "code",
        "outputId": "f9a7f443-f754-468a-9f55-7e1151897fa5",
        "colab": {
          "base_uri": "https://localhost:8080/",
          "height": 341
        }
      },
      "source": [
        "args = FMArgs(len(train_df), linear_reg=0.01, factors_reg=0.0003,\n",
        "              epochs=100, num_dims=150, lr=0.1, batch_size=4096)\n",
        "\n",
        "args_epochs = [10, 25, 50, 100]\n",
        "args_names = [\"bfm_lr0.1_e{}\".format(args_epoch) for args_epoch\n",
        "              in args_epochs]\n",
        "\n",
        "fms = fit_fm_args_epochs(TfBatchFM, args, args_names, args_epochs, train_df,\n",
        "                         val_query_df, val_df, load=load)\n",
        "\n",
        "for fm, args_name in zip(fms, args_names):\n",
        "  eval_fm(fm, args_name, val_query_df, val_df, filter_user_tracks=False)"
      ],
      "execution_count": 0,
      "outputs": [
        {
          "output_type": "stream",
          "text": [
            "INFO:tensorflow:Restoring parameters from /drive/My Drive/models/lastfm-1k/bfm_lr0.1_e10.ckpt\n",
            "0.005051 hit rate\n",
            "0.050096 ndcg\n",
            "65.79874s trans time\n",
            "INFO:tensorflow:Restoring parameters from /drive/My Drive/models/lastfm-1k/bfm_lr0.1_e25.ckpt\n",
            "0.004040 hit rate\n",
            "0.052957 ndcg\n",
            "65.48100s trans time\n",
            "INFO:tensorflow:Restoring parameters from /drive/My Drive/models/lastfm-1k/bfm_lr0.1_e50.ckpt\n",
            "0.004040 hit rate\n",
            "0.054787 ndcg\n",
            "65.00067s trans time\n",
            "INFO:tensorflow:Restoring parameters from /drive/My Drive/models/lastfm-1k/bfm_lr0.1_e100.ckpt\n",
            "0.005051 hit rate\n",
            "0.056626 ndcg\n",
            "\n",
            "12210.24798s fit time\n",
            "63.61382s trans time\n"
          ],
          "name": "stdout"
        }
      ]
    },
    {
      "cell_type": "code",
      "metadata": {
        "id": "tQmYFmNllcwD",
        "colab_type": "code",
        "outputId": "e4af7633-7512-45ed-8421-8d3e4d6d5803",
        "colab": {
          "base_uri": "https://localhost:8080/",
          "height": 341
        }
      },
      "source": [
        "args = FMArgs(len(train_df), linear_reg=0.01, factors_reg=0.0003,\n",
        "              epochs=100, num_dims=150, lr=0.6, batch_size=4096)\n",
        "\n",
        "args_epochs = [10, 25, 50, 100]\n",
        "args_names = [\"bfm_lr0.6_e{}\".format(args_epoch) for args_epoch\n",
        "              in args_epochs]\n",
        "\n",
        "fms = fit_fm_args_epochs(TfBatchFM, args, args_names, args_epochs, train_df,\n",
        "                         val_query_df, val_df, load=load)\n",
        "\n",
        "for fm, args_name in zip(fms, args_names):\n",
        "  eval_fm(fm, args_name, val_query_df, val_df, filter_user_tracks=False)"
      ],
      "execution_count": 0,
      "outputs": [
        {
          "output_type": "stream",
          "text": [
            "INFO:tensorflow:Restoring parameters from /drive/My Drive/models/lastfm-1k/bfm_lr0.6_e10.ckpt\n",
            "0.003030 hit rate\n",
            "0.055976 ndcg\n",
            "62.54916s trans time\n",
            "INFO:tensorflow:Restoring parameters from /drive/My Drive/models/lastfm-1k/bfm_lr0.6_e25.ckpt\n",
            "0.003030 hit rate\n",
            "0.055686 ndcg\n",
            "62.76886s trans time\n",
            "INFO:tensorflow:Restoring parameters from /drive/My Drive/models/lastfm-1k/bfm_lr0.6_e50.ckpt\n",
            "0.006061 hit rate\n",
            "0.059691 ndcg\n",
            "62.58937s trans time\n",
            "INFO:tensorflow:Restoring parameters from /drive/My Drive/models/lastfm-1k/bfm_lr0.6_e100.ckpt\n",
            "0.003030 hit rate\n",
            "0.058852 ndcg\n",
            "\n",
            "11795.05411s fit time\n",
            "62.79121s trans time\n"
          ],
          "name": "stdout"
        }
      ]
    },
    {
      "cell_type": "code",
      "metadata": {
        "id": "JuZG8N6j_XEd",
        "colab_type": "code",
        "outputId": "634fb1d9-839c-4fcb-e760-b6007ed088f4",
        "colab": {
          "base_uri": "https://localhost:8080/",
          "height": 308
        }
      },
      "source": [
        "fm_names = [\"fm_b4096_e{}\".format(args_epoch) for args_epoch in args_epochs]\n",
        "fm_ndcgs = [fm_evals[fm_name][\"ndcg\"] for fm_name in fm_names]\n",
        "\n",
        "fm1_names = [\"fm_b4096_lr0.6_e{}\".format(args_epoch) for args_epoch in args_epochs]\n",
        "fm1_ndcgs = [fm_evals[fm_name][\"ndcg\"] for fm_name in fm1_names]\n",
        "\n",
        "fm_aes_names = [\"fm_b4096_aes_e{}\".format(args_epoch) for args_epoch in args_epochs]\n",
        "fm_aes_ndcgs = [fm_evals[fm_name][\"ndcg\"] for fm_name in fm_aes_names]\n",
        "\n",
        "bfm_names = [\"bfm_lr0.1_e{}\".format(args_epoch) for args_epoch in args_epochs]\n",
        "bfm_ndcgs = [fm_evals[bfm_name][\"ndcg\"] for bfm_name in bfm_names]\n",
        "\n",
        "bfm1_names = [\"bfm_lr0.6_e{}\".format(args_epoch) for args_epoch in args_epochs]\n",
        "bfm1_ndcgs = [fm_evals[bfm_name][\"ndcg\"] for bfm_name in bfm1_names]\n",
        "\n",
        "plt.figure(figsize=(6*2, 4))\n",
        "plt.suptitle(\"Lastfm-1k\")\n",
        "\n",
        "plt.subplot(1, 2, 1)\n",
        "\n",
        "plt.plot(args_epochs, fm_ndcgs, \"o--\", color=\"yellow\")\n",
        "plt.plot(args_epochs, fm1_ndcgs, \"o--\", color=\"orange\")\n",
        "plt.plot(args_epochs, fm_aes_ndcgs, \"o--\", color=\"green\")\n",
        "plt.plot(args_epochs, bfm_ndcgs, \"o--\", color=\"red\")\n",
        "plt.plot(args_epochs, bfm1_ndcgs, \"o--\", color=\"darkred\")\n",
        "plt.xticks(args_epochs)\n",
        "plt.ylim(bottom=0.03, top=0.07)\n",
        "\n",
        "plt.grid(True, axis=\"y\")\n",
        "plt.ylabel(\"NDCG\")\n",
        "plt.xlabel(\"epochs\")\n",
        "\n",
        "fm_aucs = fm_fits[\"fm_b4096_e100\"][\"val_aucs\"]\n",
        "fm1_aucs = fm_fits[\"fm_b4096_lr0.6_e100\"][\"val_aucs\"]\n",
        "fm_aes_aucs = fm_fits[\"fm_b4096_aes_e100\"][\"val_aucs\"]\n",
        "\n",
        "bfm_aucs = fm_fits[\"bfm_lr0.1_e100\"][\"val_aucs\"]\n",
        "bfm1_aucs = fm_fits[\"bfm_lr0.6_e100\"][\"val_aucs\"]\n",
        "\n",
        "val_epochs = [i * args.eval_freq for i in range(len(fm_aucs))]\n",
        "\n",
        "plt.subplot(1, 2, 2)\n",
        "\n",
        "plt.grid(True, axis=\"y\")\n",
        "plt.plot(val_epochs, fm_aucs, color=\"yellow\")\n",
        "plt.plot(val_epochs, fm1_aucs, color=\"orange\")\n",
        "plt.plot(val_epochs, fm_aes_aucs, color=\"green\")\n",
        "plt.plot(val_epochs, bfm_aucs, color=\"red\")\n",
        "plt.plot(val_epochs, bfm1_aucs, color=\"darkred\")\n",
        "plt.ylim(bottom=0.75, top=1.0)\n",
        "\n",
        "yellow_patch = mpatches.Patch(color=\"yellow\", label=\"FM, lr 0.1\")\n",
        "orange_patch = mpatches.Patch(color=\"orange\", label=\"FM, lr 0.6\")\n",
        "green_patch = mpatches.Patch(color=\"green\", label=\"FM, exp sampling, lr 0.1\")\n",
        "red_patch = mpatches.Patch(color=\"red\", label=\"FM, cross-batch, lr 0.1\")\n",
        "dred_patch = mpatches.Patch(color=\"darkred\", label=\"FM, cross-batch, lr 0.6\")\n",
        "patches = [dred_patch, red_patch, green_patch, orange_patch, yellow_patch]\n",
        "plt.legend(handles=patches)\n",
        "\n",
        "plt.ylabel(\"AUC\")\n",
        "plt.xlabel(\"epochs\");"
      ],
      "execution_count": 0,
      "outputs": [
        {
          "output_type": "display_data",
          "data": {
            "image/png": "[encoded data removed]",
            "text/plain": [
              "<Figure size 864x288 with 2 Axes>"
            ]
          },
          "metadata": {
            "tags": []
          }
        }
      ]
    },
    {
      "cell_type": "code",
      "metadata": {
        "id": "LIhAXtZnoPtE",
        "colab_type": "code",
        "colab": {}
      },
      "source": [
        "sampler_names = [\"us\", \"aus\", \"aaus\",\n",
        "                 \"es\", \"aes\", \"aaes\",\n",
        "                 \"is\", \"ais\", \"aais\"]\n",
        "sampler_names = [\"fm_{}\".format(name) for name in sampler_names]\n",
        "sampler_fns = [uniform_sampler, accepted_uniform_sampler, accepted_artist_uniform_sampler,\n",
        "               exp_sampler, accepted_exp_sampler, accepted_artist_exp_sampler,\n",
        "               instance_sampler, accepted_instance_sampler, accepted_artist_instance_sampler]\n",
        "\n",
        "args = FMArgs(len(train_df), linear_reg=0.03, factors_reg=0.001, epochs=100,\n",
        "              num_dims=150)\n",
        "\n",
        "for sampler_name, sampler_fn in zip(sampler_names, sampler_fns):\n",
        "  fm = fit_fm_args(TfFM, args, sampler_name, train_df, val_query_df, val_df,\n",
        "                   load=load, sampler_fn=sampler_fn)\n",
        "  eval_fm(fm, sampler_name, val_query_df, val_df, filter_user_tracks=False)"
      ],
      "execution_count": 0,
      "outputs": []
    },
    {
      "cell_type": "code",
      "metadata": {
        "id": "oZc-nq4Ds0zD",
        "colab_type": "code",
        "outputId": "797f0324-1c08-4b36-8565-1439e7ddf0c6",
        "colab": {
          "base_uri": "https://localhost:8080/",
          "height": 137
        }
      },
      "source": [
        "cols = [\"all\", \"track\", \"artist\"]\n",
        "index = [\"uniform\", \"exp\", \"instance\"]\n",
        "rows = np.array([fm_evals[sampler_name][\"ndcg\"] for sampler_name\n",
        "                 in sampler_names])\n",
        "rows = rows.reshape((-1, len(cols)))\n",
        "sampler_df = pd.DataFrame.from_records(rows, columns=cols, index=index)\n",
        "sampler_df"
      ],
      "execution_count": 0,
      "outputs": [
        {
          "output_type": "execute_result",
          "data": {
            "text/html": [
              "<div>\n",
              "<style scoped>\n",
              "    .dataframe tbody tr th:only-of-type {\n",
              "        vertical-align: middle;\n",
              "    }\n",
              "\n",
              "    .dataframe tbody tr th {\n",
              "        vertical-align: top;\n",
              "    }\n",
              "\n",
              "    .dataframe thead th {\n",
              "        text-align: right;\n",
              "    }\n",
              "</style>\n",
              "<table border=\"1\" class=\"dataframe\">\n",
              "  <thead>\n",
              "    <tr style=\"text-align: right;\">\n",
              "      <th></th>\n",
              "      <th>all</th>\n",
              "      <th>track</th>\n",
              "      <th>artist</th>\n",
              "    </tr>\n",
              "  </thead>\n",
              "  <tbody>\n",
              "    <tr>\n",
              "      <th>uniform</th>\n",
              "      <td>0.050570</td>\n",
              "      <td>0.051337</td>\n",
              "      <td>0.041521</td>\n",
              "    </tr>\n",
              "    <tr>\n",
              "      <th>exp</th>\n",
              "      <td>0.048495</td>\n",
              "      <td>0.051020</td>\n",
              "      <td>0.044148</td>\n",
              "    </tr>\n",
              "    <tr>\n",
              "      <th>instance</th>\n",
              "      <td>0.044566</td>\n",
              "      <td>0.050402</td>\n",
              "      <td>0.045170</td>\n",
              "    </tr>\n",
              "  </tbody>\n",
              "</table>\n",
              "</div>"
            ],
            "text/plain": [
              "               all     track    artist\n",
              "uniform   0.050570  0.051337  0.041521\n",
              "exp       0.048495  0.051020  0.044148\n",
              "instance  0.044566  0.050402  0.045170"
            ]
          },
          "metadata": {
            "tags": []
          },
          "execution_count": 61
        }
      ]
    },
    {
      "cell_type": "markdown",
      "metadata": {
        "id": "QS17naLCRzEO",
        "colab_type": "text"
      },
      "source": [
        "#### Features"
      ]
    },
    {
      "cell_type": "code",
      "metadata": {
        "id": "btz8WdbeMp43",
        "colab_type": "code",
        "outputId": "8c20be4b-06b8-4d04-da24-308cda646949",
        "colab": {
          "base_uri": "https://localhost:8080/",
          "height": 312
        }
      },
      "source": [
        "args = FMArgs(len(train_df), linear_reg=0.03, factors_reg=0.001,\n",
        "              epochs=10, num_dims=150, lr=0.6, batch_size=4096)\n",
        "\n",
        "fm = fit_fm_args(TfBatchFM, args, \"bfm_useritemfeats\", train_df, val_query_df,\n",
        "                 val_df, load=load,\n",
        "                 feature_fn=df2usersitemfeats())\n",
        "\n",
        "fm_df = eval_fm(fm, \"bfm_useritemfeats\", val_query_df, val_df,\n",
        "                filter_user_tracks=False);\n",
        "\n",
        "with_names(fm_df.head(), names_df)"
      ],
      "execution_count": 0,
      "outputs": [
        {
          "output_type": "stream",
          "text": [
            "INFO:tensorflow:Restoring parameters from /drive/My Drive/models/lastfm-1k/bfm_useritemfeats.ckpt\n",
            "0.001010 hit rate\n",
            "0.050549 ndcg\n",
            "\n",
            "1201.38966s fit time\n",
            "82.89418s trans time\n"
          ],
          "name": "stdout"
        },
        {
          "output_type": "execute_result",
          "data": {
            "text/html": [
              "<div>\n",
              "<style scoped>\n",
              "    .dataframe tbody tr th:only-of-type {\n",
              "        vertical-align: middle;\n",
              "    }\n",
              "\n",
              "    .dataframe tbody tr th {\n",
              "        vertical-align: top;\n",
              "    }\n",
              "\n",
              "    .dataframe thead th {\n",
              "        text-align: right;\n",
              "    }\n",
              "</style>\n",
              "<table border=\"1\" class=\"dataframe\">\n",
              "  <thead>\n",
              "    <tr style=\"text-align: right;\">\n",
              "      <th></th>\n",
              "      <th>score</th>\n",
              "      <th>pid</th>\n",
              "      <th>traname</th>\n",
              "      <th>artname</th>\n",
              "    </tr>\n",
              "  </thead>\n",
              "  <tbody>\n",
              "    <tr>\n",
              "      <th>0</th>\n",
              "      <td>8.608142</td>\n",
              "      <td>1</td>\n",
              "      <td>Faxed Invitation</td>\n",
              "      <td>Underworld</td>\n",
              "    </tr>\n",
              "    <tr>\n",
              "      <th>0</th>\n",
              "      <td>8.541352</td>\n",
              "      <td>1</td>\n",
              "      <td>Hibari</td>\n",
              "      <td>坂本龍一</td>\n",
              "    </tr>\n",
              "    <tr>\n",
              "      <th>0</th>\n",
              "      <td>8.288275</td>\n",
              "      <td>1</td>\n",
              "      <td>Breathe</td>\n",
              "      <td>The Cinematic Orchestra</td>\n",
              "    </tr>\n",
              "    <tr>\n",
              "      <th>0</th>\n",
              "      <td>8.243173</td>\n",
              "      <td>1</td>\n",
              "      <td>Music</td>\n",
              "      <td>Cornelius</td>\n",
              "    </tr>\n",
              "    <tr>\n",
              "      <th>0</th>\n",
              "      <td>8.167568</td>\n",
              "      <td>1</td>\n",
              "      <td>Glam Bucket</td>\n",
              "      <td>Underworld</td>\n",
              "    </tr>\n",
              "  </tbody>\n",
              "</table>\n",
              "</div>"
            ],
            "text/plain": [
              "      score  pid           traname                  artname\n",
              "0  8.608142    1  Faxed Invitation               Underworld\n",
              "0  8.541352    1            Hibari                     坂本龍一\n",
              "0  8.288275    1           Breathe  The Cinematic Orchestra\n",
              "0  8.243173    1             Music                Cornelius\n",
              "0  8.167568    1       Glam Bucket               Underworld"
            ]
          },
          "metadata": {
            "tags": []
          },
          "execution_count": 59
        }
      ]
    },
    {
      "cell_type": "code",
      "metadata": {
        "id": "BZdvByDgUnnR",
        "colab_type": "code",
        "outputId": "aa9b8cf3-10b2-4234-caf6-efdd293fb257",
        "colab": {
          "base_uri": "https://localhost:8080/",
          "height": 125
        }
      },
      "source": [
        "args = FMArgs(len(train_df), linear_reg=0.03, factors_reg=0.001,\n",
        "              epochs=10, num_dims=150, lr=0.6, batch_size=4096)\n",
        "\n",
        "fm = fit_fm_args(TfBatchFM, args, \"bfm_all\", train_df, val_query_df,\n",
        "                 val_df, load=load,\n",
        "                 feature_fn=df2all({}))\n",
        "\n",
        "eval_fm(fm, \"bfm_all\", val_query_df, val_df, filter_user_tracks=False);"
      ],
      "execution_count": 0,
      "outputs": [
        {
          "output_type": "stream",
          "text": [
            "INFO:tensorflow:Restoring parameters from /drive/My Drive/models/lastfm-1k/bfm_all.ckpt\n",
            "0.003030 hit rate\n",
            "0.050277 ndcg\n",
            "\n",
            "1230.72726s fit time\n",
            "144.59522s trans time\n"
          ],
          "name": "stdout"
        }
      ]
    },
    {
      "cell_type": "code",
      "metadata": {
        "id": "XpeAar1AdxtJ",
        "colab_type": "code",
        "colab": {}
      },
      "source": [
        "train_prev_df = train_df[train_df[\"prev_traid\"] != 0]"
      ],
      "execution_count": 0,
      "outputs": []
    },
    {
      "cell_type": "code",
      "metadata": {
        "id": "W3xsO0cgW_iK",
        "colab_type": "code",
        "outputId": "165a6a8a-6cea-4927-9693-d231e2b48f2b",
        "colab": {
          "base_uri": "https://localhost:8080/",
          "height": 125
        }
      },
      "source": [
        "args = FMArgs(len(train_prev_df), linear_reg=0.03, factors_reg=0.001,\n",
        "              epochs=10, num_dims=150, lr=0.6, batch_size=4096)\n",
        "\n",
        "fm = fit_fm_args(TfBatchFM, args, \"bfm_prev\", train_prev_df, val_query_df,\n",
        "                 val_df, load=load,\n",
        "                 feature_fn=df2usersprevitems({}))\n",
        "\n",
        "eval_fm(fm, \"bfm_prev\", val_query_df, val_df, filter_user_tracks=False);"
      ],
      "execution_count": 0,
      "outputs": [
        {
          "output_type": "stream",
          "text": [
            "INFO:tensorflow:Restoring parameters from /drive/My Drive/models/lastfm-1k/bfm_prev.ckpt\n",
            "0.088889 hit rate\n",
            "0.207269 ndcg\n",
            "\n",
            "1677.79159s fit time\n",
            "90.23512s trans time\n"
          ],
          "name": "stdout"
        }
      ]
    },
    {
      "cell_type": "code",
      "metadata": {
        "id": "RLCJ1AiRvuKc",
        "colab_type": "code",
        "outputId": "e0b2cb82-4183-4692-bb11-3489b80987f5",
        "colab": {
          "base_uri": "https://localhost:8080/",
          "height": 125
        }
      },
      "source": [
        "args = FMArgs(len(train_prev_df), linear_reg=0.03, factors_reg=0.001,\n",
        "              epochs=10, num_dims=150, lr=0.6, batch_size=4096)\n",
        "\n",
        "fm = fit_fm_args(TfBatchFM, args, \"bfm_previtemfeats\", train_prev_df,\n",
        "                 val_query_df, val_df, load=load,\n",
        "                 feature_fn=df2usersprevitemfeats({}))\n",
        "\n",
        "eval_fm(fm, \"bfm_previtemfeats\", val_query_df, val_df,\n",
        "        filter_user_tracks=False);"
      ],
      "execution_count": 0,
      "outputs": [
        {
          "output_type": "stream",
          "text": [
            "INFO:tensorflow:Restoring parameters from /drive/My Drive/models/lastfm-1k/bfm_previtemfeats.ckpt\n",
            "0.034343 hit rate\n",
            "0.170758 ndcg\n",
            "\n",
            "1791.13939s fit time\n",
            "124.13952s trans time\n"
          ],
          "name": "stdout"
        }
      ]
    },
    {
      "cell_type": "code",
      "metadata": {
        "id": "GaDV9eCXkJOc",
        "colab_type": "code",
        "outputId": "9b522171-5d4f-43a2-aab4-f438eec42c42",
        "colab": {
          "base_uri": "https://localhost:8080/",
          "height": 125
        }
      },
      "source": [
        "args = FMArgs(len(train_prev_df), linear_reg=0.03, factors_reg=0.001,\n",
        "              epochs=10, num_dims=150, lr=0.6, batch_size=4096)\n",
        "\n",
        "fm = fit_fm_args(TfBatchFM, args, \"bfm_prevall\", train_prev_df, val_query_df,\n",
        "                 val_df, load=load,\n",
        "                 feature_fn=df2prevall({}))\n",
        "\n",
        "eval_fm(fm, \"bfm_prevall\", val_query_df, val_df, filter_user_tracks=False);"
      ],
      "execution_count": 0,
      "outputs": [
        {
          "output_type": "stream",
          "text": [
            "INFO:tensorflow:Restoring parameters from /drive/My Drive/models/lastfm-1k/bfm_prevall.ckpt\n",
            "0.034343 hit rate\n",
            "0.167246 ndcg\n",
            "\n",
            "1847.32845s fit time\n",
            "214.98473s trans time\n"
          ],
          "name": "stdout"
        }
      ]
    },
    {
      "cell_type": "code",
      "metadata": {
        "id": "xCHVpJ8TNYVB",
        "colab_type": "code",
        "outputId": "bf65d45d-52b5-4262-d60e-c523f5bf31dd",
        "colab": {
          "base_uri": "https://localhost:8080/",
          "height": 125
        }
      },
      "source": [
        "args = FMArgs(len(train_prev_df), linear_reg=0.03, factors_reg=0.001,\n",
        "              epochs=10, num_dims=150, lr=0.6, batch_size=4096)\n",
        "\n",
        "fm = fit_fm_args(TfBatchFM, args, \"bfm_prev_trans\", train_prev_df, val_query_df,\n",
        "                 val_df, load=load, item_ctx_features=True,\n",
        "                 feature_fn=df2usersprevitems({}))\n",
        "\n",
        "eval_fm(fm, \"bfm_prev_trans\", val_query_df, val_df, filter_user_tracks=False);"
      ],
      "execution_count": 0,
      "outputs": [
        {
          "output_type": "stream",
          "text": [
            "INFO:tensorflow:Restoring parameters from /drive/My Drive/models/lastfm-1k/bfm_prev_trans.ckpt\n",
            "0.040404 hit rate\n",
            "0.182391 ndcg\n",
            "\n",
            "1186.93911s fit time\n",
            "90.09533s trans time\n"
          ],
          "name": "stdout"
        }
      ]
    },
    {
      "cell_type": "code",
      "metadata": {
        "id": "gn_dVgro75SU",
        "colab_type": "code",
        "outputId": "b060f71e-2327-4c1f-b09e-77bc98e88628",
        "colab": {
          "base_uri": "https://localhost:8080/",
          "height": 125
        }
      },
      "source": [
        "args = FMArgs(len(train_prev_df), linear_reg=0.03, factors_reg=0.001,\n",
        "              epochs=10, num_dims=150, lr=0.6, batch_size=4096)\n",
        "\n",
        "fm = fit_fm_args(TfBatchFM, args, \"bfm_previtemfeats_trans\", train_prev_df,\n",
        "                 val_query_df, val_df, load=load, item_ctx_features=True,\n",
        "                 feature_fn=df2usersprevitemfeats({}))\n",
        "\n",
        "eval_fm(fm, \"bfm_previtemfeats_trans\", val_query_df, val_df,\n",
        "        filter_user_tracks=False);"
      ],
      "execution_count": 0,
      "outputs": [
        {
          "output_type": "stream",
          "text": [
            "INFO:tensorflow:Restoring parameters from /drive/My Drive/models/lastfm-1k/bfm_previtemfeats_trans.ckpt\n",
            "0.043434 hit rate\n",
            "0.168791 ndcg\n",
            "\n",
            "1259.65615s fit time\n",
            "140.30181s trans time\n"
          ],
          "name": "stdout"
        }
      ]
    },
    {
      "cell_type": "code",
      "metadata": {
        "id": "Ce1ywYUE7v1Z",
        "colab_type": "code",
        "outputId": "58b44f59-30f5-4f2e-9048-ded8258b4110",
        "colab": {
          "base_uri": "https://localhost:8080/",
          "height": 125
        }
      },
      "source": [
        "args = FMArgs(len(train_prev_df), linear_reg=0.03, factors_reg=0.001,\n",
        "              epochs=10, num_dims=150, lr=0.6, batch_size=4096)\n",
        "\n",
        "fm = fit_fm_args(TfBatchFM, args, \"bfm_prevall_trans\", train_prev_df,\n",
        "                 val_query_df, val_df, load=load, item_ctx_features=True,\n",
        "                 feature_fn=df2prevall({}))\n",
        "\n",
        "eval_fm(fm, \"bfm_prevall_trans\", val_query_df, val_df, filter_user_tracks=False);"
      ],
      "execution_count": 0,
      "outputs": [
        {
          "output_type": "stream",
          "text": [
            "INFO:tensorflow:Restoring parameters from /drive/My Drive/models/lastfm-1k/bfm_prevall_trans.ckpt\n",
            "0.040404 hit rate\n",
            "0.170198 ndcg\n",
            "\n",
            "1277.38127s fit time\n",
            "208.96989s trans time\n"
          ],
          "name": "stdout"
        }
      ]
    },
    {
      "cell_type": "markdown",
      "metadata": {
        "id": "fDFOlJQEhQwn",
        "colab_type": "text"
      },
      "source": [
        "### Vanilla factorization machines"
      ]
    },
    {
      "cell_type": "code",
      "metadata": {
        "id": "rP3ggW-ShvFe",
        "colab_type": "code",
        "outputId": "f3864e19-b964-434a-e9cc-966138fc01a6",
        "colab": {
          "base_uri": "https://localhost:8080/",
          "height": 125
        }
      },
      "source": [
        "args = FMArgs(len(train_prev_df), linear_reg=0.03, factors_reg=0.001,\n",
        "              epochs=10, num_dims=150, batch_size=4096*4)\n",
        "\n",
        "fm = fit_fm_args(TfFM, args, \"fm_prevall\", train_prev_df, val_query_df,\n",
        "                 val_df, load=load, \n",
        "                 feature_fn=df2prevall({}))\n",
        "\n",
        "eval_fm(fm, \"fm_prevall\", val_query_df, val_df, filter_user_tracks=False);"
      ],
      "execution_count": 0,
      "outputs": [
        {
          "output_type": "stream",
          "text": [
            "INFO:tensorflow:Restoring parameters from /drive/My Drive/models/lastfm-1k/fm_prevall.ckpt\n",
            "0.027273 hit rate\n",
            "0.138361 ndcg\n",
            "\n",
            "699.80891s fit time\n",
            "218.86021s trans time\n"
          ],
          "name": "stdout"
        }
      ]
    },
    {
      "cell_type": "code",
      "metadata": {
        "id": "ZG9cWvVYhTcY",
        "colab_type": "code",
        "outputId": "2bed7db4-5d74-43c0-f5b9-fb14d6df31ae",
        "colab": {
          "base_uri": "https://localhost:8080/",
          "height": 125
        }
      },
      "source": [
        "args = FMArgs(len(train_prev_df), linear_reg=0.03, factors_reg=0.001,\n",
        "              epochs=10, num_dims=150, batch_size=4096*4)\n",
        "\n",
        "fm = fit_fm_args(TfVanillaFM, args, \"vfm_prevall\", train_prev_df, val_query_df,\n",
        "                 val_df, load=load, separate_features=True,\n",
        "                 feature_fn=df2prevall({}))\n",
        "\n",
        "eval_fm(fm, \"vfm_prevall\", val_query_df, val_df, filter_user_tracks=False);"
      ],
      "execution_count": 0,
      "outputs": [
        {
          "output_type": "stream",
          "text": [
            "INFO:tensorflow:Restoring parameters from /drive/My Drive/models/lastfm-1k/vfm_prevall.ckpt\n",
            "0.017172 hit rate\n",
            "0.119297 ndcg\n",
            "\n",
            "1452.56642s fit time\n",
            "1854.90336s trans time\n"
          ],
          "name": "stdout"
        }
      ]
    },
    {
      "cell_type": "markdown",
      "metadata": {
        "id": "FMqRnf45pWt5",
        "colab_type": "text"
      },
      "source": [
        "### TransRec factorization machines"
      ]
    },
    {
      "cell_type": "code",
      "metadata": {
        "id": "xLqUCVnc6wUK",
        "colab_type": "code",
        "outputId": "4cbf9b03-f09b-4941-d9ed-5e6a7f8eab02",
        "colab": {
          "base_uri": "https://localhost:8080/",
          "height": 125
        }
      },
      "source": [
        "args = TransRecFMArgs(len(train_prev_df), linear_reg=0.03, factors_reg=0.001,\n",
        "                      epochs=10, num_dims=150, lr=0.6, batch_size=4096)\n",
        "\n",
        "fm = fit_fm_args(TfBatchTransRecFM, args, \"btransfm_prev\", train_prev_df,\n",
        "                 val_query_df, val_df, load=load, item_ctx_features=True,\n",
        "                 separate_features=True,\n",
        "                 feature_fn=df2usersprevitems({}))\n",
        "\n",
        "eval_fm(fm, \"btransfm_prev\", val_query_df, val_df, filter_user_tracks=False);"
      ],
      "execution_count": 0,
      "outputs": [
        {
          "output_type": "stream",
          "text": [
            "INFO:tensorflow:Restoring parameters from /drive/My Drive/models/lastfm-1k/btransfm_prev.ckpt\n",
            "0.001010 hit rate\n",
            "0.057986 ndcg\n",
            "\n",
            "1552.39365s fit time\n",
            "76.53890s trans time\n"
          ],
          "name": "stdout"
        }
      ]
    },
    {
      "cell_type": "code",
      "metadata": {
        "id": "LonQQqyswhMv",
        "colab_type": "code",
        "outputId": "839601b6-c297-4845-fbd8-0d37becb3f1e",
        "colab": {
          "base_uri": "https://localhost:8080/",
          "height": 125
        }
      },
      "source": [
        "args = TransRecFMArgs(len(train_prev_df), linear_reg=0.03, factors_reg=0.001,\n",
        "                      epochs=10, num_dims=150, lr=0.6, batch_size=4096, max_norm=None)\n",
        "\n",
        "fm = fit_fm_args(TfBatchTransRecFM, args, \"btransfm_prev_nonorm\", train_prev_df,\n",
        "                 val_query_df, val_df, load=load, item_ctx_features=True,\n",
        "                 separate_features=True,\n",
        "                 feature_fn=df2usersprevitems({}))\n",
        "\n",
        "eval_fm(fm, \"btransfm_prev_nonorm\", val_query_df, val_df,\n",
        "        filter_user_tracks=False);"
      ],
      "execution_count": 0,
      "outputs": [
        {
          "output_type": "stream",
          "text": [
            "INFO:tensorflow:Restoring parameters from /drive/My Drive/models/lastfm-1k/btransfm_prev_nonorm.ckpt\n",
            "0.050505 hit rate\n",
            "0.178708 ndcg\n",
            "\n",
            "1288.46737s fit time\n",
            "77.24658s trans time\n"
          ],
          "name": "stdout"
        }
      ]
    },
    {
      "cell_type": "code",
      "metadata": {
        "id": "iqLMXBpfYDmH",
        "colab_type": "code",
        "outputId": "81f6d2b7-dcb7-4b04-aedb-574bef8a3659",
        "colab": {
          "base_uri": "https://localhost:8080/",
          "height": 125
        }
      },
      "source": [
        "args = TransRecFMArgs(len(train_prev_df), linear_reg=0.03, factors_reg=0.001,\n",
        "                      epochs=10, num_dims=150, lr=0.6, batch_size=4096)\n",
        "\n",
        "fm = fit_fm_args(TfBatchTransRecFM, args, \"btransfm_prevall\",\n",
        "                 train_prev_df, val_query_df, val_df, load=load,\n",
        "                 item_ctx_features=True, separate_features=True,\n",
        "                 feature_fn=df2prevall({}))\n",
        "\n",
        "eval_fm(fm, \"btransfm_prevall\", val_query_df, val_df,\n",
        "        filter_user_tracks=False);"
      ],
      "execution_count": 0,
      "outputs": [
        {
          "output_type": "stream",
          "text": [
            "INFO:tensorflow:Restoring parameters from /drive/My Drive/models/lastfm-1k/btransfm_prevall.ckpt\n",
            "0.048485 hit rate\n",
            "0.166727 ndcg\n",
            "\n",
            "1691.90699s fit time\n",
            "161.74266s trans time\n"
          ],
          "name": "stdout"
        }
      ]
    },
    {
      "cell_type": "code",
      "metadata": {
        "id": "fLibv_RUjiA_",
        "colab_type": "code",
        "outputId": "7022e91d-9a29-42b2-8d82-9015bd8d54ea",
        "colab": {
          "base_uri": "https://localhost:8080/",
          "height": 125
        }
      },
      "source": [
        "args = TransRecFMArgs(len(train_prev_df), linear_reg=0.03, factors_reg=0.001,\n",
        "                      epochs=10, num_dims=150, lr=0.6, batch_size=4096,\n",
        "                      max_norm=None)\n",
        "\n",
        "fm = fit_fm_args(TfBatchTransRecFM, args, \"btransfm_prevall_nonorm\",\n",
        "                 train_prev_df, val_query_df, val_df, load=load,\n",
        "                 item_ctx_features=True, separate_features=True,\n",
        "                 feature_fn=df2prevall({}))\n",
        "\n",
        "eval_fm(fm, \"btransfm_prevall_nonorm\", val_query_df, val_df,\n",
        "        filter_user_tracks=False);"
      ],
      "execution_count": 0,
      "outputs": [
        {
          "output_type": "stream",
          "text": [
            "INFO:tensorflow:Restoring parameters from /drive/My Drive/models/lastfm-1k/btransfm_prevall_nonorm.ckpt\n",
            "0.046465 hit rate\n",
            "0.168058 ndcg\n",
            "\n",
            "1395.99168s fit time\n",
            "159.66057s trans time\n"
          ],
          "name": "stdout"
        }
      ]
    },
    {
      "cell_type": "markdown",
      "metadata": {
        "id": "-oQFkNEepqNR",
        "colab_type": "text"
      },
      "source": [
        "### Field-Aware factorization machines"
      ]
    },
    {
      "cell_type": "code",
      "metadata": {
        "id": "ZduuDFZsYi8J",
        "colab_type": "code",
        "outputId": "832859d3-4d91-4251-d5e9-f10f281dd781",
        "colab": {
          "base_uri": "https://localhost:8080/",
          "height": 233
        }
      },
      "source": [
        "dup_artists = train_df[[\"traid\", \"artid\"]].drop_duplicates().groupby(\"traid\").size()\n",
        "dup_artists[dup_artists > 1]"
      ],
      "execution_count": 0,
      "outputs": [
        {
          "output_type": "execute_result",
          "data": {
            "text/plain": [
              "traid\n",
              "12636     2\n",
              "12637     2\n",
              "20105     2\n",
              "86008     2\n",
              "90021     2\n",
              "         ..\n",
              "440682    2\n",
              "448191    2\n",
              "449494    2\n",
              "451501    2\n",
              "451504    2\n",
              "Length: 75, dtype: int64"
            ]
          },
          "metadata": {
            "tags": []
          },
          "execution_count": 53
        }
      ]
    },
    {
      "cell_type": "code",
      "metadata": {
        "id": "h1snZ8-s2Lj8",
        "colab_type": "code",
        "outputId": "a0c14d61-b6b7-4e03-9025-99d7686c9336",
        "colab": {
          "base_uri": "https://localhost:8080/",
          "height": 125
        }
      },
      "source": [
        "args = FFMArgs(len(train_df), linear_reg=0.03, factors_reg=0.001,\n",
        "               epochs=10, num_dims=50, lr=0.6, batch_size=4096,\n",
        "               num_ctx_fields=1, num_item_fields=2)\n",
        "\n",
        "fm = fit_fm_args(TfBatchFFM, args, \"bffm_itemfeats\", train_df, val_query_df,\n",
        "                 val_df, load=load,\n",
        "                 feature_fn=df2usersitemfeats({}))\n",
        "\n",
        "eval_fm(fm, \"bffm_itemfeats\", val_query_df, val_df, filter_user_tracks=False);"
      ],
      "execution_count": 0,
      "outputs": [
        {
          "output_type": "stream",
          "text": [
            "INFO:tensorflow:Restoring parameters from /drive/My Drive/models/lastfm-1k/bffm_itemfeats.ckpt\n",
            "0.003030 hit rate\n",
            "0.041972 ndcg\n",
            "\n",
            "1072.18208s fit time\n",
            "83.86521s trans time\n"
          ],
          "name": "stdout"
        }
      ]
    },
    {
      "cell_type": "code",
      "metadata": {
        "id": "B-95OtFqTpnO",
        "colab_type": "code",
        "outputId": "5dc562a7-7997-4e20-d92c-514d03d7c5a8",
        "colab": {
          "base_uri": "https://localhost:8080/",
          "height": 125
        }
      },
      "source": [
        "args = FFMArgs(len(train_df), linear_reg=0.03, factors_reg=0.001,\n",
        "               epochs=10, num_dims=50, lr=0.6, batch_size=4096,\n",
        "               num_ctx_fields=4, num_item_fields=2)\n",
        "\n",
        "fm = fit_fm_args(TfBatchFFM, args, \"bffm_all\", train_df, val_query_df,\n",
        "                 val_df, load=load,\n",
        "                 feature_fn=df2all({}))\n",
        "\n",
        "eval_fm(fm, \"bffm_all\", val_query_df, val_df, filter_user_tracks=False);"
      ],
      "execution_count": 0,
      "outputs": [
        {
          "output_type": "stream",
          "text": [
            "INFO:tensorflow:Restoring parameters from /drive/My Drive/models/lastfm-1k/bffm_all.ckpt\n",
            "0.003030 hit rate\n",
            "0.045948 ndcg\n",
            "\n",
            "1661.17672s fit time\n",
            "154.67026s trans time\n"
          ],
          "name": "stdout"
        }
      ]
    },
    {
      "cell_type": "code",
      "metadata": {
        "id": "ZAUKVwkPlzOZ",
        "colab_type": "code",
        "outputId": "151efbb1-eab1-4a10-be09-97a3a36fcb60",
        "colab": {
          "base_uri": "https://localhost:8080/",
          "height": 181
        }
      },
      "source": [
        "args = FFMArgs(len(train_df), linear_reg=0.03, factors_reg=0.001,\n",
        "               epochs=10, num_dims=50, lr=0.6, batch_size=4096,\n",
        "               num_ctx_fields=4+2, num_item_fields=2)\n",
        "\n",
        "fm = fit_fm_args(TfBatchFFM, args, \"bffm_prevall\", train_df, val_query_df,\n",
        "                 val_df, load=load,\n",
        "                 feature_fn=df2prevall({}))\n",
        "\n",
        "eval_fm(fm, \"bffm_prevall\", val_query_df, val_df, filter_user_tracks=False);"
      ],
      "execution_count": 0,
      "outputs": [
        {
          "output_type": "stream",
          "text": [
            "INFO:tensorflow:Restoring parameters from /drive/My Drive/models/lastfm-1k/bffm_prevall.ckpt\n"
          ],
          "name": "stdout"
        },
        {
          "output_type": "stream",
          "text": [
            "/usr/local/lib/python3.6/dist-packages/tensorflow_core/python/framework/indexed_slices.py:421: UserWarning: Converting sparse IndexedSlices to a dense Tensor with 299078700 elements. This may consume a large amount of memory.\n",
            "  num_elements)\n"
          ],
          "name": "stderr"
        },
        {
          "output_type": "stream",
          "text": [
            "0.000000 hit rate\n",
            "0.003756 ndcg\n",
            "\n",
            "3129.54198s fit time\n",
            "210.85431s trans time\n"
          ],
          "name": "stdout"
        }
      ]
    },
    {
      "cell_type": "markdown",
      "metadata": {
        "id": "Bmy5rG7c_BKh",
        "colab_type": "text"
      },
      "source": [
        "### Distributed factorization machines"
      ]
    },
    {
      "cell_type": "code",
      "metadata": {
        "id": "BHARa5yt_Ign",
        "colab_type": "code",
        "colab": {}
      },
      "source": [
        "train_df = train_df.drop(columns=[\"timestamp\", \"age\"])\n",
        "val_df = val_df.drop(columns=[\"timestamp\", \"age\"])\n",
        "val_query_df = val_query_df.drop(columns=[\"timestamp\", \"age\"])"
      ],
      "execution_count": 0,
      "outputs": []
    },
    {
      "cell_type": "code",
      "metadata": {
        "id": "QuwcspX9_UgM",
        "colab_type": "code",
        "colab": {}
      },
      "source": [
        "val_queryseeds_df = get_query_seeds(val_query_df)\n",
        "val_queryctx_df = get_query_ctx(val_query_df)"
      ],
      "execution_count": 0,
      "outputs": []
    },
    {
      "cell_type": "code",
      "metadata": {
        "id": "wktr9X_H_U1H",
        "colab_type": "code",
        "colab": {}
      },
      "source": [
        "max_user_cols = [\"pid\", \"b_age\", \"country\", \"gender\"]\n",
        "max_item_cols = [\"traid\", \"artid\"]\n",
        "max_prev_item_cols = [\"prev_traid\", \"prev_artid\"]\n",
        "\n",
        "max_df = train_df[max_user_cols + max_item_cols].max()\n",
        "for prev_col, col in zip(max_prev_item_cols, max_item_cols):\n",
        "  max_df[prev_col] = max_df[col]\n",
        "\n",
        "train_df = (train_df - 1) % max_df\n",
        "val_df = (val_df - 1) % max_df\n",
        "val_queryseeds_df = (val_queryseeds_df - 1) % max_df\n",
        "val_queryctx_df = (val_queryctx_df - 1) % max_df"
      ],
      "execution_count": 0,
      "outputs": []
    },
    {
      "cell_type": "code",
      "metadata": {
        "id": "31FngzA5_p-l",
        "colab_type": "code",
        "colab": {}
      },
      "source": [
        "train_df.to_csv(\"Lastfm-1k-train.csv\")\n",
        "val_df.to_csv(\"Lastfm-1k-val.csv\")\n",
        "val_queryseeds_df.to_csv(\"Lastfm-1k-val-queryseeds.csv\")\n",
        "val_queryctx_df.to_csv(\"Lastfm-1k-val-queryctx.csv\")"
      ],
      "execution_count": 0,
      "outputs": []
    },
    {
      "cell_type": "markdown",
      "metadata": {
        "id": "vZBUN-udbc7u",
        "colab_type": "text"
      },
      "source": [
        "### Final"
      ]
    },
    {
      "cell_type": "code",
      "metadata": {
        "id": "yHTC7OXXJnoD",
        "colab_type": "code",
        "outputId": "a0b4d489-a4f3-4021-c9d2-292e3c35b19e",
        "colab": {
          "base_uri": "https://localhost:8080/",
          "height": 107
        }
      },
      "source": [
        "knn = KNN()\n",
        "knn_ti_fit_time = knn.fit(train_df, tfidf=True)\n",
        "knn_df, knn_ti_trans_time = knn.transform(train_df)\n",
        "knn_ti_hit_rates = hit_rates(knn_df, val_df)\n",
        "knn_ti_ndcg = ndcg(knn_df, val_df)\n",
        "\n",
        "print(\"{:.6f} hit rate\\n{:.6f} ndcg\\n\\n{:.5f}s fit time \\n{:.5f}s trans time\"\n",
        "      .format(knn_ti_hit_rates[0], knn_ti_ndcg, knn_ti_fit_time,\n",
        "              knn_ti_trans_time))"
      ],
      "execution_count": 0,
      "outputs": [
        {
          "output_type": "stream",
          "text": [
            "0.007071 hit rate\n",
            "0.065102 ndcg\n",
            "\n",
            "1.62436s fit time \n",
            "16.65459s trans time\n"
          ],
          "name": "stdout"
        }
      ]
    },
    {
      "cell_type": "code",
      "metadata": {
        "id": "DEknLeQBeVjU",
        "colab_type": "code",
        "colab": {}
      },
      "source": [
        "train_df, test_df, test_query_df = last_track_split(df, as_val=False)\n",
        "\n",
        "names_df = to_names_index(train_df)\n",
        "drop_names([train_df, test_df, test_query_df])"
      ],
      "execution_count": 0,
      "outputs": []
    },
    {
      "cell_type": "code",
      "metadata": {
        "id": "Gmi32fAb_5Kz",
        "colab_type": "code",
        "outputId": "c3ce22e9-766e-4216-fbc9-9cac0cc46176",
        "colab": {
          "base_uri": "https://localhost:8080/",
          "height": 199
        }
      },
      "source": [
        "args = FMArgs(len(train_df), linear_reg=0.03, factors_reg=0.001,\n",
        "              epochs=100, num_dims=150, lr=0.6, batch_size=4096)\n",
        "\n",
        "fm = fit_fm_args(TfBatchFM, args, \"f_bfm\", train_df, test_query_df,\n",
        "                 test_df, load=load)\n",
        "\n",
        "eval_fm(fm, \"f_bfm\", test_query_df, test_df, filter_user_tracks=False,\n",
        "        with_hit_rates=True);"
      ],
      "execution_count": 0,
      "outputs": [
        {
          "output_type": "stream",
          "text": [
            "INFO:tensorflow:Restoring parameters from /drive/My Drive/models/lastfm-1k/f_bfm.ckpt\n",
            "WARNING:tensorflow:From <ipython-input-72-08385c7bacf0>:301: DatasetV1.make_one_shot_iterator (from tensorflow.python.data.ops.dataset_ops) is deprecated and will be removed in a future version.\n",
            "Instructions for updating:\n",
            "Use `for ... in dataset:` to iterate over a dataset. If using `tf.estimator`, return the `Dataset` object directly from your input function. As a last resort, you can use `tf.compat.v1.data.make_one_shot_iterator(dataset)`.\n",
            "0.002028 hit rate\n",
            "0.033571 ndcg\n",
            "\n",
            "11701.14274s fit time\n",
            "56.37009s trans time\n"
          ],
          "name": "stdout"
        }
      ]
    },
    {
      "cell_type": "code",
      "metadata": {
        "id": "X9dGNAs6Bgh5",
        "colab_type": "code",
        "colab": {}
      },
      "source": [
        "train_prev_df = train_df[train_df[\"prev_traid\"] != 0]"
      ],
      "execution_count": 0,
      "outputs": []
    },
    {
      "cell_type": "code",
      "metadata": {
        "id": "FRhmLtDbe6PM",
        "colab_type": "code",
        "outputId": "cf01f044-ed69-498d-9102-b92cdd51bbe0",
        "colab": {
          "base_uri": "https://localhost:8080/",
          "height": 125
        }
      },
      "source": [
        "args = FMArgs(len(train_prev_df), linear_reg=0.03, factors_reg=0.001,\n",
        "              epochs=100, num_dims=150, lr=0.6, batch_size=4096)\n",
        "\n",
        "fm = fit_fm_args(TfBatchFM, args, \"f_bfm_prev\", train_prev_df, test_query_df,\n",
        "                 test_df, load=load,\n",
        "                 feature_fn=df2usersprevitems())\n",
        "\n",
        "eval_fm(fm, \"f_bfm_prev\", test_query_df, test_df, filter_user_tracks=False,\n",
        "        with_hit_rates=True);"
      ],
      "execution_count": 0,
      "outputs": [
        {
          "output_type": "stream",
          "text": [
            "INFO:tensorflow:Restoring parameters from /drive/My Drive/models/lastfm-1k/f_bfm_prev.ckpt\n",
            "0.064909 hit rate\n",
            "0.151814 ndcg\n",
            "\n",
            "16793.91242s fit time\n",
            "82.78745s trans time\n"
          ],
          "name": "stdout"
        }
      ]
    },
    {
      "cell_type": "code",
      "metadata": {
        "id": "XxNjvijqfjBI",
        "colab_type": "code",
        "outputId": "747a21df-9193-4bb8-b5bb-618595572fa5",
        "colab": {
          "base_uri": "https://localhost:8080/",
          "height": 350
        }
      },
      "source": [
        "def plot_final_hit_rates(n=500):\n",
        "  plt.figure(figsize=(9, 5))\n",
        "  plt.plot(pop_rank_l_hit_rates[:n], color=\"yellowgreen\")\n",
        "  plt.plot(sagh_l_hit_rates[:n], color=\"lime\")\n",
        "  plt.plot(knn_ti_hit_rates[:n], color=\"darkgreen\")\n",
        "  plt.plot(fm_evals[\"f_bfm\"][\"hit_rates\"][:n], color=\"orange\")\n",
        "  plt.plot(fm_evals[\"f_bfm_prev\"][\"hit_rates\"][:n], color=\"red\")\n",
        "\n",
        "  yellowgreen_patch = mpatches.Patch(color=\"yellowgreen\", label=\"{:.6f}  Pop Rank\".format(\n",
        "      pop_rank_l_ndcg))\n",
        "  green_patch = mpatches.Patch(color=\"lime\", label=\"{:.6f}  SAGH\".format(\n",
        "      sagh_l_ndcg))\n",
        "  dgreen_patch = mpatches.Patch(color=\"darkgreen\", label=\"{:.6f}  kNN, k 50\".format(\n",
        "      knn_ti_ndcg))\n",
        "  orange_patch = mpatches.Patch(color=\"orange\", label=\"{:.6f}  FM\".format(\n",
        "      fm_evals[\"f_bfm\"][\"ndcg\"]))\n",
        "  red_patch = mpatches.Patch(color=\"red\", label=\"{:.6f}  FM, prev\".format(\n",
        "      fm_evals[\"f_bfm_prev\"][\"ndcg\"])) \n",
        "  patches = [red_patch, dgreen_patch, orange_patch,\n",
        "             green_patch, yellowgreen_patch]\n",
        "  plt.legend(handles=patches, loc=\"lower right\")\n",
        "\n",
        "  plt.ylabel(\"hit rate\")\n",
        "  plt.xlabel(\"recommendations\")\n",
        "  plt.title(\"Lastfm-1k\")\n",
        "  \n",
        "plot_final_hit_rates();"
      ],
      "execution_count": 0,
      "outputs": [
        {
          "output_type": "display_data",
          "data": {
            "image/png": "[encoded data removed]",
            "text/plain": [
              "<Figure size 648x360 with 1 Axes>"
            ]
          },
          "metadata": {
            "tags": []
          }
        }
      ]
    }
  ]
}