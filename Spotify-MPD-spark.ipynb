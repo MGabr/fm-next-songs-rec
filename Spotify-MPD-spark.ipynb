{
 "cells": [
  {
   "cell_type": "markdown",
   "metadata": {},
   "source": [
    "# Glint-FMPair evaluation on Spotify MPD"
   ]
  },
  {
   "cell_type": "code",
   "execution_count": 1,
   "metadata": {},
   "outputs": [],
   "source": [
    "import os\n",
    "os.environ[\"PYSPARK_SUBMIT_ARGS\"] = \"--conf spark.driver.memory=35G \" + \\\n",
    "    \"--conf \\\"spark.driver.extraJavaOptions=-XX:+UseG1GC -XX:InitiatingHeapOccupancyPercent=35 -XX:-ResizePLAB\\\" \" + \\\n",
    "    \"--conf spark.driverEnv.LD_PRELOAD=/opt/cloudera/parcels/mkl/linux/mkl/lib/intel64/libmkl_rt.so \" + \\\n",
    "    \"--conf spark.driverEnv.MKL_VERBOSE=0 \" + \\\n",
    "    \"--jars glint-fmpair/target/scala-2.11/glint-fmpair-assembly-1.0.jar pyspark-shell\"\n",
    "\n",
    "import pickle\n",
    "import random\n",
    "import time\n",
    "\n",
    "from math import log2, ceil\n",
    "from matplotlib import pyplot as plt, patches as mpatches\n",
    "\n",
    "from pyspark.ml.linalg import VectorUDT\n",
    "from pyspark.ml.feature import VectorAssembler, StringIndexer, RegexTokenizer, \\\n",
    "    StopWordsRemover, CountVectorizer, StringIndexerModel, CountVectorizerModel, Bucketizer\n",
    "from pyspark.sql.functions import collect_set, udf, col, mean, first, year, lower, \\\n",
    "    explode, explode_outer, lag, to_timestamp, regexp_replace, expr, when, posexplode, \\\n",
    "    lit, count, max as sparkMax, sum as sparkSum, array_remove\n",
    "from pyspark.sql import SparkSession, Window, Row\n",
    "\n",
    "\n",
    "from glintfmpair import WeightHotEncoderEstimator, WeightHotEncoderModel, \\\n",
    "    GlintFMPair, GlintFMPairModel, PopRank, SAGH, KNN"
   ]
  },
  {
   "cell_type": "code",
   "execution_count": 5,
   "metadata": {},
   "outputs": [],
   "source": [
    "spark = SparkSession.builder \\\n",
    "    .appName(\"Glint-FMPair evaluation on Spotify MPD\") \\\n",
    "    .master(\"yarn\") \\\n",
    "    .config(\"spark.submit.deployMode\",\"client\") \\\n",
    "    .config(\"spark.dynamicAllocation.enabled\", \"false\") \\\n",
    "    .config(\"spark.executor.memory\", \"25G\") \\\n",
    "    .config(\"spark.yarn.executor.memoryOverhead\", \"5G\") \\\n",
    "    .config(\"spark.executor.instances\", \"80\") \\\n",
    "    .config(\"spark.executor.cores\", \"5\") \\\n",
    "    .config(\"spark.executor.extraJavaOptions\" \"-XX:+UseG1GC -XX:InitiatingHeapOccupancyPercent=35 -XX:-ResizePLAB\") \\\n",
    "    .config(\"spark.executorEnv.LD_PRELOAD\",\n",
    "            \"/opt/cloudera/parcels/mkl/linux/mkl/lib/intel64/libmkl_rt.so\") \\\n",
    "    .config(\"spark.executorEnv.MKL_VERBOSE\", \"0\") \\\n",
    "    .config(\"spark.jars\", \"glint-fmpair/target/scala-2.11/glint-fmpair-assembly-1.0.jar\") \\\n",
    "    .config(\"spark.kryoserializer.buffer.max\", \"256m\") \\\n",
    "    .config(\"spark.executor.heartbeatInterval\", \"100000\") \\\n",
    "    .config(\"spark.network.timeout\", \"1000000\") \\\n",
    "    .config(\"spark.maxRemoteBlockSizeFetchToMem\", \"256m\") \\\n",
    "    .config(\"spark.driver.maxResultSize\", \"8G\") \\\n",
    "    .config(\"spark.default.parallelism\", \"400\") \\\n",
    "    .getOrCreate()\n",
    "\n",
    "sc = spark.sparkContext"
   ]
  },
  {
   "cell_type": "code",
   "execution_count": 6,
   "metadata": {},
   "outputs": [],
   "source": [
    "spark.udf.registerJavaFunction(\"resizeVector\", \"org.apache.spark.ml.recommendation.ResizeVector\", VectorUDT())\n",
    "spark.udf.registerJavaFunction(\"weighVector\", \"org.apache.spark.ml.recommendation.WeighVector\", VectorUDT())"
   ]
  },
  {
   "cell_type": "code",
   "execution_count": 7,
   "metadata": {},
   "outputs": [],
   "source": [
    "dataPath = \"hdfs:/user/app/2018S/public/recsys_spotify_2018/mpd.v1/mpd.slice.*.json\"\n",
    "albumDataPath = \"spotify-albums.csv\"\n",
    "audioDataPath = \"spotify-audio.csv\""
   ]
  },
  {
   "cell_type": "code",
   "execution_count": 8,
   "metadata": {},
   "outputs": [],
   "source": [
    "trans=False\n",
    "valSplit=False\n",
    "seedsSplit=True"
   ]
  },
  {
   "cell_type": "code",
   "execution_count": 9,
   "metadata": {},
   "outputs": [],
   "source": [
    "if seedsSplit:\n",
    "    if trans:\n",
    "        indexedTrainDataPath = \"MPD-train-trans-seeds.parquet\"\n",
    "        indexedValSeedsDataPath = \"MPD-valseeds-trans-seeds.parquet\"\n",
    "        indexedValDataPath = \"MPD-val-trans-seeds.parquet\"\n",
    "        indexedValCtxDataPath = \"MPD-val-ctx-trans-seeds.parquet\"\n",
    "        indexerModelPathFormat = \"MPD-{}-indexer-trans-seeds.model\"\n",
    "        nameEncoderModelPath = \"MPD-nameencoder-trans-seeds.model\"\n",
    "        encoderModelPaths = [\"MPD-usercoldstartencoder-trans-seeds.model\",\n",
    "                             \"MPD-userencoder-trans-seeds.model\",\n",
    "                             \"MPD-itemencoder-trans-seeds.model\",\n",
    "                             \"MPD-ctxitemencoder-trans-seeds.model\"]\n",
    "    else:\n",
    "        indexedTrainDataPath = \"MPD-train-seeds.parquet\"\n",
    "        indexedValSeedsDataPath = \"MPD-valseeds-seeds.parquet\"\n",
    "        indexedValDataPath = \"MPD-val-seeds.parquet\"\n",
    "        indexedValCtxDataPath = \"MPD-val-ctx-seeds.parquet\"\n",
    "        indexerModelPathFormat = \"MPD-{}-indexer-seeds.model\"\n",
    "        nameEncoderModelPath = \"MPD-nameencoder-seeds.model\"\n",
    "        encoderModelPaths = [\"MPD-usercoldstartencoder-seeds.model\",\n",
    "                             \"MPD-userencoder-seeds.model\",\n",
    "                             \"MPD-itemencoder-seeds.model\",\n",
    "                             \"MPD-ctxitemencoder-seeds.model\"]    \n",
    "elif valSplit:\n",
    "    if trans:\n",
    "        indexedTrainDataPath = \"MPD-train-trans.parquet\"\n",
    "        indexedValSeedsDataPath = \"MPD-valseeds-trans.parquet\"\n",
    "        indexedValDataPath = \"MPD-val-trans.parquet\"\n",
    "        indexerModelPathFormat = \"MPD-{}-indexer-trans.model\"\n",
    "        nameEncoderModelPath = \"MPD-nameencoder-trans.model\"\n",
    "        encoderModelPaths = [\"MPD-usercoldstartencoder-trans.model\", \"MPD-userencoder-trans.model\",\n",
    "                             \"MPD-itemencoder-trans.model\", \"MPD-ctxitemencoder-trans.model\"]\n",
    "    else:\n",
    "        indexedTrainDataPath = \"MPD-train.parquet\"\n",
    "        indexedValSeedsDataPath = \"MPD-valseeds.parquet\"\n",
    "        indexedValDataPath = \"MPD-val.parquet\"\n",
    "        indexerModelPathFormat = \"MPD-{}-indexer.model\"\n",
    "        nameEncoderModelPath = \"MPD-nameencoder.model\"\n",
    "        encoderModelPaths = [\"MPD-usercoldstartencoder.model\", \"MPD-userencoder.model\",\n",
    "                             \"MPD-itemencoder.model\", \"MPD-ctxitemencoder.model\"]\n",
    "else:\n",
    "    if trans:\n",
    "        indexedTrainDataPath = \"MPD-test-train-trans.parquet\"\n",
    "        indexedValSeedsDataPath = \"MPD-test-valseeds-trans.parquet\"\n",
    "        indexedValDataPath = \"MPD-val-test-trans.parquet\"\n",
    "        indexerModelPathFormat = \"MPD-test-{}-indexer-trans.model\"\n",
    "        nameEncoderModelPath = \"MPD-test-nameencoder-trans.model\"\n",
    "        encoderModelPaths = [\"MPD-test-usercoldstartencoder-trans.model\", \"MPD-test-userencoder-trans.model\",\n",
    "                             \"MPD-test-itemencoder-trans.model\", \"MPD-test-ctxitemencoder-trans.model\"]\n",
    "    else:\n",
    "        indexedTrainDataPath = \"MPD-test-train.parquet\"\n",
    "        indexedValSeedsDataPath = \"MPD-test-valseeds.parquet\"\n",
    "        indexedValDataPath = \"MPD-test-val.parquet\"\n",
    "        indexerModelPathFormat = \"MPD-test-{}-indexer.model\"\n",
    "        nameEncoderModelPath = \"MPD-test-nameencoder.model\"\n",
    "        encoderModelPaths = [\"MPD-test-usercoldstartencoder.model\", \"MPD-test-userencoder.model\",\n",
    "                             \"MPD-test-itemencoder.model\", \"MPD-test-ctxitemencoder.model\"]"
   ]
  },
  {
   "cell_type": "code",
   "execution_count": 10,
   "metadata": {},
   "outputs": [],
   "source": [
    "parameterServerHost=\"10.7.0.117\""
   ]
  },
  {
   "cell_type": "code",
   "execution_count": 11,
   "metadata": {},
   "outputs": [],
   "source": [
    "loadFeatures=False\n",
    "saveFeatures=False\n",
    "loadIndexed=True\n",
    "saveIndexed=False\n",
    "\n",
    "loadIndexers=True\n",
    "saveIndexers=False\n",
    "loadNameEncoder=True\n",
    "saveNameEncoder=False\n",
    "loadEncoders=True\n",
    "saveEncoders=False"
   ]
  },
  {
   "cell_type": "markdown",
   "metadata": {},
   "source": [
    "## Data loading"
   ]
  },
  {
   "cell_type": "code",
   "execution_count": 12,
   "metadata": {},
   "outputs": [],
   "source": [
    "def loadData(s, dataPath): \n",
    "    return s.read.option(\"multiLine\", \"true\").json(dataPath) \\\n",
    "        .select(explode(col(\"playlists\")).alias(\"playlist\")) \\\n",
    "        .select(\"playlist.pid\", \"playlist.name\", \"playlist.modified_at\", \"playlist.tracks\") \\\n",
    "        .select(col(\"pid\").cast(\"integer\"), \\\n",
    "                lower(col(\"name\")).alias(\"name\"), \\\n",
    "                year(to_timestamp(\"modified_at\")).alias(\"modified_at_year\"), \\\n",
    "                explode_outer(col(\"tracks\")).alias(\"track\")) \\\n",
    "        .select(\"pid\", \"name\", \"modified_at_year\", \\\n",
    "                \"track.track_uri\", \"track.album_uri\", \"track.artist_uri\", \"track.pos\") \\\n",
    "        .select(\"pid\", \"name\", \"modified_at_year\", \"pos\", \\\n",
    "                regexp_replace(\"track_uri\", \"spotify:track:\", \"\").alias(\"track_uri\"), \\\n",
    "                regexp_replace(\"album_uri\", \"spotify:album:\", \"\").alias(\"album_uri\"), \\\n",
    "                regexp_replace(\"artist_uri\", \"spotify:artist:\", \"\").alias(\"artist_uri\"))\n",
    "\n",
    "\n",
    "def withAlbumData(df, s, dataPath):\n",
    "    albumDf = s.read.option(\"header\", \"true\").csv(dataPath) \\\n",
    "        .select(col(\"id\").alias(\"album_uri\"), col(\"release_date\").substr(0, 4).alias(\"release_date\"))\n",
    "    return df.join(albumDf, \"album_uri\", how=\"left\")\n",
    "\n",
    "\n",
    "def withAudioData(df, s, dataPath):\n",
    "    audioDf = s.read.option(\"header\", \"true\").csv(dataPath).select(\n",
    "        col(\"id\").alias(\"track_uri\"),\n",
    "        col(\"danceability\").cast(\"double\").alias(\"danceability\"),\n",
    "        col(\"energy\").cast(\"double\").alias(\"energy\"),\n",
    "        col(\"valence\").cast(\"double\").alias(\"valence\"),\n",
    "        col(\"acousticness\").cast(\"double\").alias(\"acousticness\"),\n",
    "        when(col(\"key\") == -1, 12).otherwise(col(\"key\")).cast(\"integer\").alias(\"keyid\"),\n",
    "        col(\"loudness\").cast(\"double\").alias(\"loudness\"),\n",
    "        col(\"mode\").cast(\"integer\").alias(\"modeid\"),  # TODO: rerun\n",
    "        col(\"tempo\").cast(\"double\").alias(\"tempo\"))\n",
    "    \n",
    "    return df.join(audioDf, \"track_uri\", how=\"left\") \\\n",
    "        .fillna(12, subset=[\"keyid\"]) \\\n",
    "        .fillna(2, subset=[\"modeid\"])\n",
    "\n",
    "\n",
    "def withPrevData(df):\n",
    "    prevWindow = Window.partitionBy(\"pid\").orderBy(\"pos\")\n",
    "    return df \\\n",
    "        .withColumn(\"prev_track_uri\", lag(\"track_uri\", 1).over(prevWindow)) \\\n",
    "        .withColumn(\"prev_album_uri\", lag(\"album_uri\", 1).over(prevWindow)) \\\n",
    "        .withColumn(\"prev_artist_uri\", lag(\"artist_uri\", 1).over(prevWindow)) \\\n",
    "        .withColumn(\"prev_release_date\", lag(\"release_date\", 1).over(prevWindow)) \\\n",
    "        .withColumn(\"prev_danceability\", lag(\"danceability\", 1).over(prevWindow)) \\\n",
    "        .withColumn(\"prev_energy\", lag(\"energy\", 1).over(prevWindow)) \\\n",
    "        .withColumn(\"prev_valence\", lag(\"valence\", 1).over(prevWindow)) \\\n",
    "        .withColumn(\"prev_acousticness\", lag(\"acousticness\", 1).over(prevWindow)) \\\n",
    "        .withColumn(\"prev_keyid\", lag(\"keyid\", 1).over(prevWindow)) \\\n",
    "        .withColumn(\"prev_loudness\", lag(\"loudness\", 1).over(prevWindow)) \\\n",
    "        .withColumn(\"prev_modeid\", lag(\"modeid\", 1).over(prevWindow)) \\\n",
    "        .withColumn(\"prev_tempo\", lag(\"tempo\", 1).over(prevWindow)) \\\n",
    "        .fillna(12, subset=[\"prev_keyid\"]) \\\n",
    "        .fillna(2, subset=[\"prev_modeid\"])\n",
    "\n",
    "\n",
    "if not loadFeatures and not loadIndexed:\n",
    "    data = loadData(spark, dataPath)\n",
    "    data = withAlbumData(data, spark, albumDataPath)\n",
    "    data = withAudioData(data, spark, audioDataPath)\n",
    "    data = withPrevData(data)\n",
    "    if not seedsSplit and trans:\n",
    "        data = data.where(col(\"pos\") != 0)"
   ]
  },
  {
   "cell_type": "code",
   "execution_count": 31,
   "metadata": {},
   "outputs": [
    {
     "data": {
      "text/plain": [
       "66350223"
      ]
     },
     "execution_count": 31,
     "metadata": {},
     "output_type": "execute_result"
    }
   ],
   "source": [
    "data.count()"
   ]
  },
  {
   "cell_type": "code",
   "execution_count": 14,
   "metadata": {},
   "outputs": [
    {
     "data": {
      "text/plain": [
       "1000000"
      ]
     },
     "execution_count": 14,
     "metadata": {},
     "output_type": "execute_result"
    }
   ],
   "source": [
    "data.select(\"pid\").dropDuplicates().count()"
   ]
  },
  {
   "cell_type": "code",
   "execution_count": 15,
   "metadata": {},
   "outputs": [
    {
     "data": {
      "text/plain": [
       "2262292"
      ]
     },
     "execution_count": 15,
     "metadata": {},
     "output_type": "execute_result"
    }
   ],
   "source": [
    "data.select(\"track_uri\").dropDuplicates().count()"
   ]
  },
  {
   "cell_type": "code",
   "execution_count": 16,
   "metadata": {},
   "outputs": [
    {
     "data": {
      "text/plain": [
       "734684"
      ]
     },
     "execution_count": 16,
     "metadata": {},
     "output_type": "execute_result"
    }
   ],
   "source": [
    "data.select(\"album_uri\").dropDuplicates().count()"
   ]
  },
  {
   "cell_type": "code",
   "execution_count": 18,
   "metadata": {},
   "outputs": [
    {
     "data": {
      "text/plain": [
       "295860"
      ]
     },
     "execution_count": 18,
     "metadata": {},
     "output_type": "execute_result"
    }
   ],
   "source": [
    "data.select(\"artist_uri\").dropDuplicates().count()"
   ]
  },
  {
   "cell_type": "code",
   "execution_count": 21,
   "metadata": {},
   "outputs": [
    {
     "name": "stdout",
     "output_type": "stream",
     "text": [
      "+-----------------------+\n",
      "|average playlist length|\n",
      "+-----------------------+\n",
      "|              66.350223|\n",
      "+-----------------------+\n",
      "\n"
     ]
    }
   ],
   "source": [
    "trackCountsDf = data.select(\"pid\", \"track_uri\") \\\n",
    "    .groupBy(\"pid\") \\\n",
    "    .agg(count(\"track_uri\").alias(\"count\")) \\\n",
    "    .select(\"count\")\n",
    "\n",
    "trackCountsDf.select(mean(\"count\").alias(\"average playlist length\")).show()"
   ]
  },
  {
   "cell_type": "code",
   "execution_count": 27,
   "metadata": {},
   "outputs": [
    {
     "data": {
      "image/png": "[encoded data removed]",
      "text/plain": [
       "<Figure size 432x288 with 1 Axes>"
      ]
     },
     "metadata": {
      "needs_background": "light"
     },
     "output_type": "display_data"
    }
   ],
   "source": [
    "trackCounts = trackCountsDf.rdd.map(lambda r: r[0]).collect()\n",
    "plt.hist(trackCounts, bins=max(trackCounts));"
   ]
  },
  {
   "cell_type": "code",
   "execution_count": 28,
   "metadata": {},
   "outputs": [
    {
     "name": "stdout",
     "output_type": "stream",
     "text": [
      "+---------------------------+\n",
      "|average playlists per track|\n",
      "+---------------------------+\n",
      "|         29.328761715994222|\n",
      "+---------------------------+\n",
      "\n"
     ]
    }
   ],
   "source": [
    "playlistCountsDf = data.select(\"pid\", \"track_uri\") \\\n",
    "    .groupBy(\"track_uri\") \\\n",
    "    .agg(count(\"pid\").alias(\"count\")) \\\n",
    "    .select(\"count\")\n",
    "\n",
    "playlistCountsDf.select(mean(\"count\").alias(\"average playlists per track\")).show()"
   ]
  },
  {
   "cell_type": "code",
   "execution_count": 32,
   "metadata": {},
   "outputs": [
    {
     "data": {
      "image/png": "[encoded data removed]",
      "text/plain": [
       "<Figure size 432x288 with 1 Axes>"
      ]
     },
     "metadata": {
      "needs_background": "light"
     },
     "output_type": "display_data"
    }
   ],
   "source": [
    "playlistCounts = playlistCountsDf.rdd.map(lambda r: r[0]).collect()\n",
    "plt.hist(playlistCounts, bins=range(0, 50));"
   ]
  },
  {
   "cell_type": "markdown",
   "metadata": {},
   "source": [
    "## Evaluation split"
   ]
  },
  {
   "cell_type": "code",
   "execution_count": 13,
   "metadata": {},
   "outputs": [],
   "source": [
    "if not loadFeatures and not loadIndexed:\n",
    "    random.seed(1)\n",
    "    testPids = [random.randint(0, 1000000) for i in range(1000)]\n",
    "\n",
    "def trainTestSplit(data):\n",
    "    train = data.where(~col(\"pid\").isin(testPids))\n",
    "    test = data.where(col(\"pid\").isin(testPids))\n",
    "    return train, test\n",
    "\n",
    "\n",
    "def seedsCtxSplit(data):\n",
    "    maxPosWindow = sparkMax(\"pos\").over(Window.partitionBy(\"pid\"))\n",
    "    data = data.withColumn(\"maxPos\", maxPosWindow)\n",
    "    seeds = data.where(col(\"pos\") < col(\"maxPos\")).drop(\"maxPos\")\n",
    "    context = data.where(col(\"pos\") == col(\"maxPos\")).drop(\"maxPos\")\n",
    "    return seeds, context\n",
    "\n",
    "\n",
    "def posSplit(data, splitPos):\n",
    "    ltSplit = data.where(col(\"pos\") < splitPos)\n",
    "    geSplit = data.where(col(\"pos\") >= splitPos)\n",
    "    return ltSplit, geSplit\n",
    "                \n",
    "\n",
    "def lastTrackSplit(data, valSplit=False):\n",
    "    train, test = trainTestSplit(data)\n",
    "    testSeeds, test = seedsCtxSplit(test)\n",
    "    if valSplit:\n",
    "        valSeeds, val = seedsCtxSplit(testSeeds)\n",
    "        return train.unionAll(valSeeds), valSeeds, val\n",
    "    return train.unionAll(testSeeds), testSeeds, test\n",
    "\n",
    "\n",
    "def seedTracksSplit(data):\n",
    "    train, test = trainTestSplit(data)\n",
    "    testSeeds, test = posSplit(test, 25)\n",
    "    testCtx, _ = posSplit(test, 26)\n",
    "    return train, testSeeds, testCtx, test"
   ]
  },
  {
   "cell_type": "code",
   "execution_count": 14,
   "metadata": {},
   "outputs": [],
   "source": [
    "if not loadFeatures and not loadIndexed:\n",
    "    if seedsSplit:\n",
    "        trainData, valSeedsData, valCtxData, valData = seedTracksSplit(data)\n",
    "        if trans:\n",
    "            trainData = trainData.where(col(\"pos\") != 0)\n",
    "    else:\n",
    "        trainData, valSeedsData, valData = lastTrackSplit(data, valSplit=valSplit)\n",
    "        valCtxData = None"
   ]
  },
  {
   "cell_type": "markdown",
   "metadata": {},
   "source": [
    "## Preprocessing"
   ]
  },
  {
   "cell_type": "code",
   "execution_count": 15,
   "metadata": {},
   "outputs": [],
   "source": [
    "buckets = [0.0, 0.05, 0.1, 0.15, 0.2, 0.25, 0.3, 0.35, 0.4, 0.45,\n",
    "           0.5, 0.55, 0.6, 0.65, 0.7, 0.75, 0.8, 0.85, 0.9, 0.95, 1.0]\n",
    "bucketizerCols = [(\"danceability\", \"danceabilityid\"), (\"energy\", \"energyid\"),\n",
    "                  (\"valence\", \"valenceid\"), (\"acousticness\", \"acousticnessid\"),\n",
    "                  (\"prev_danceability\", \"prev_danceabilityid\"), (\"prev_energy\", \"prev_energyid\"),\n",
    "                  (\"prev_valence\", \"prev_valenceid\"), (\"prev_acousticness\", \"prev_acousticnessid\")]\n",
    "\n",
    "tempoBuckets = [0, 60, 70, 80, 90, 100, 110, 120, 130,\n",
    "                140, 150, 160, 170, 180, 190, 200, 500]\n",
    "loudnessBuckets = [-100, -20, -19, -18, -17, -16, -15, -14, -13, -12, -11,\n",
    "                   -10, -9, -8, -7, -6, -5, -4, -3, -2, -1, 10]\n",
    "\n",
    "buckets = [buckets] * len(bucketizerCols) + [tempoBuckets, tempoBuckets] + [loudnessBuckets, loudnessBuckets]\n",
    "bucketizerCols = bucketizerCols + [(\"tempo\", \"tempoid\"), (\"prev_tempo\", \"prev_tempoid\"),\n",
    "                                   (\"loudness\", \"loudnessid\"), (\"prev_loudness\", \"prev_loudnessid\")]\n",
    "\n",
    "\n",
    "keepCols = [\"pid\", \"keyid\", \"modeid\", \"prev_keyid\", \"prev_modeid\", \"name\", \"pos\"]\n",
    "\n",
    "userIndexerCols = [(\"modified_at_year\", \"pyear\")]\n",
    "itemIndexerCols = [(\"track_uri\", \"traid\"), (\"album_uri\", \"albid\"),\n",
    "                   (\"artist_uri\", \"artid\"), (\"release_date\", \"releaseid\")]\n",
    "prevItemIndexerCols = [(\"prev_\" + i, \"prev_\" + o) for i, o in itemIndexerCols]\n",
    "indexerCols = userIndexerCols + itemIndexerCols + prevItemIndexerCols\n",
    "\n",
    "\n",
    "def toBucketized(data):\n",
    "    for bucketSplit, bucketizerCol in zip(buckets, bucketizerCols):\n",
    "        bucketizer = Bucketizer(inputCol=bucketizerCol[0], outputCol=bucketizerCol[1],\n",
    "                                splits=bucketSplit, handleInvalid=\"keep\")\n",
    "        data = bucketizer.transform(data.fillna(float(\"nan\"), subset=[bucketizerCol[0]]))\n",
    "    \n",
    "    return data.select(*(keepCols +\n",
    "                         [i for i, o in indexerCols] +\n",
    "                         [col(o).cast(\"integer\").alias(o) for i, o in bucketizerCols]))"
   ]
  },
  {
   "cell_type": "code",
   "execution_count": 16,
   "metadata": {},
   "outputs": [],
   "source": [
    "def saveIndexerModels(models, modelPathFormat):\n",
    "    return [model.save(modelPathFormat.format(i))\n",
    "            for model, (i, o) in zip(models, userIndexerCols + itemIndexerCols + prevItemIndexerCols)]   \n",
    "\n",
    "    \n",
    "def loadIndexerModels(modelPathFormat):\n",
    "    return [StringIndexerModel.load(modelPathFormat.format(i))\n",
    "            for i, o in userIndexerCols + itemIndexerCols + prevItemIndexerCols]\n",
    "\n",
    "\n",
    "def fitIndexerModels(data):\n",
    "    userIndexers = [StringIndexer(inputCol=i, outputCol=o, handleInvalid=\"keep\").fit(data)\n",
    "                    for i, o in userIndexerCols]\n",
    "    itemIndexers = [StringIndexer(inputCol=i, outputCol=o, handleInvalid=\"keep\").fit(data)\n",
    "                    for i, o in itemIndexerCols]\n",
    "    prevItemIndexers = [ii.copy({ii.inputCol: i, ii.outputCol: o})\n",
    "                        for (ii, (i, o)) in zip(itemIndexers, prevItemIndexerCols)]\n",
    "\n",
    "    return userIndexers + itemIndexers + prevItemIndexers\n",
    "\n",
    "\n",
    "def toIndexed(data, indexerModels):\n",
    "    for model, modelCols in zip(indexerModels, indexerCols):\n",
    "        data = model.transform(data)\n",
    "    return data.select(*(keepCols +\n",
    "                         [col(o).cast(\"integer\").alias(o) for i, o in indexerCols] +\n",
    "                         [o for i, o in bucketizerCols]))\n",
    "\n",
    "\n",
    "def toNameTransformed(data):\n",
    "    data = RegexTokenizer(inputCol=\"name\", outputCol=\"name_tokenized\", minTokenLength=3) \\\n",
    "        .transform(data)\n",
    "    data = StopWordsRemover(inputCol=\"name_tokenized\", outputCol=\"name_swremoved\") \\\n",
    "        .transform(data)\n",
    "    return data.drop(\"name\", \"name_tokenized\")"
   ]
  },
  {
   "cell_type": "code",
   "execution_count": 17,
   "metadata": {},
   "outputs": [],
   "source": [
    "if not loadFeatures:\n",
    "    \n",
    "    # loading / fitting and saving indexer and indexing\n",
    "    # also bucketize and name transform\n",
    "    if loadIndexed:\n",
    "        trainData = spark.read.parquet(indexedTrainDataPath)\n",
    "        valSeedsData = spark.read.parquet(indexedValSeedsDataPath)\n",
    "        valData = spark.read.parquet(indexedValDataPath)\n",
    "        if seedsSplit:\n",
    "            valCtxData = spark.read.parquet(indexedValCtxDataPath)\n",
    "    else:\n",
    "        if loadIndexers:\n",
    "            indexerModels = loadIndexerModels(indexerModelPathFormat)\n",
    "        else:\n",
    "            indexerModels = fitIndexerModels(trainData)\n",
    "            if saveIndexers:\n",
    "                saveIndexerModels(indexerModels, indexerModelPathFormat)\n",
    "\n",
    "        trainData = toBucketized(trainData)\n",
    "        valSeedsData = toBucketized(valSeedsData)\n",
    "        valData = toBucketized(valData)\n",
    "        if valCtxData:\n",
    "            valCtxData = toBucketized(valCtxData)\n",
    "                \n",
    "        trainData = toIndexed(trainData, indexerModels)\n",
    "        valSeedsData = toIndexed(valSeedsData, indexerModels)\n",
    "        valData = toIndexed(valData, indexerModels)\n",
    "        if valCtxData:\n",
    "            valCtxData = toIndexed(valCtxData, indexerModels)\n",
    "\n",
    "        trainData = toNameTransformed(trainData)\n",
    "        valSeedsData = toNameTransformed(valSeedsData)\n",
    "        valData = toNameTransformed(valData)\n",
    "        if valCtxData:\n",
    "            valCtxData = toNameTransformed(valCtxData)\n",
    "\n",
    "        if saveIndexed:\n",
    "            trainData.write.save(indexedTrainDataPath, format=\"parquet\", mode=\"overwrite\")\n",
    "            valSeedsData.write.save(indexedValSeedsDataPath, format=\"parquet\", mode=\"overwrite\")\n",
    "            valData.write.save(indexedValDataPath, format=\"parquet\", mode=\"overwrite\")\n",
    "            if valCtxData:\n",
    "                valCtxData.write.save(indexedValCtxDataPath, format=\"parquet\", mode=\"overwrite\")"
   ]
  },
  {
   "cell_type": "code",
   "execution_count": 18,
   "metadata": {},
   "outputs": [],
   "source": [
    "def loadNameEncoderModel(modelPath):\n",
    "    return CountVectorizerModel.load(modelPath)\n",
    "\n",
    "\n",
    "def fitNameEncoderModel(data):\n",
    "    return CountVectorizer(\n",
    "        inputCol=\"name_swremoved\", outputCol=\"pname\", vocabSize=10000, minDF=10.0, binary=True\n",
    "    ).fit(data.groupby(\"pid\").agg(first(\"name_swremoved\").alias(\"name_swremoved\")))\n",
    "    \n",
    "\n",
    "def loadEncoderModels(modelPaths):\n",
    "    return tuple(WeightHotEncoderModel.load(modelPath) for modelPath in modelPaths)\n",
    "    \n",
    "\n",
    "def fitEncoderModels(data):\n",
    "    userColdStartGroupCols = [\"pid\"]\n",
    "    userColdStartCols = [\"traid\"]\n",
    "    userColdStartWeights = [1.0]\n",
    "    userColdStartEncoderModel = WeightHotEncoderEstimator(\n",
    "        weights=userColdStartWeights, inputCols=userColdStartCols,\n",
    "        outputCols=[c + \"_cold_encoded\" for c in userColdStartCols],\n",
    "        groupCols=userColdStartGroupCols, groupWeighting=\"sqrt\",\n",
    "        dropLast=True, handleInvalid=\"keep\"\n",
    "    ).fit(data)\n",
    "    \n",
    "    # dropLast, missing user features are simply ignored, no problem for ranking\n",
    "    userCols = [\"pid\", \"pyear\"]\n",
    "    userWeights = [1.0, 1.0]\n",
    "    userEncoderModel = WeightHotEncoderEstimator(\n",
    "        weights=userWeights, inputCols=userCols,\n",
    "        outputCols=[c + \"_encoded\" for c in userCols], dropLast=True\n",
    "    ).fit(data)\n",
    "    \n",
    "    # missing item features are mapped to the missing feature index\n",
    "    itemCols = [\"traid\", \"albid\", \"artid\", \"releaseid\", \n",
    "                \"danceabilityid\", \"energyid\", \"valenceid\", \"acousticnessid\",\n",
    "                \"keyid\", \"loudnessid\", \"modeid\", \"tempoid\"]\n",
    "    itemWeights = [1.0, 1.0, 1.0, 0.125,\n",
    "                   0.125, 0.125, 0.125, 0.125,\n",
    "                   0.125, 0.125, 0.125, 0.125]\n",
    "    itemEncoderModel = WeightHotEncoderEstimator(\n",
    "        weights=itemWeights, inputCols=itemCols,\n",
    "        outputCols=[c + \"_encoded\" for c in itemCols], dropLast=False\n",
    "    ).fit(data)\n",
    "\n",
    "    # dropLast, missing user features are simply ignored, no problem for ranking\n",
    "    ctxitemCols = [\"prev_traid\", \"prev_albid\", \"prev_artid\", \"prev_releaseid\",\n",
    "                   \"prev_danceabilityid\", \"prev_energyid\", \"prev_valenceid\", \"prev_acousticnessid\",\n",
    "                   \"prev_keyid\", \"prev_loudnessid\", \"prev_modeid\", \"prev_tempoid\"]\n",
    "    ctxitemWeights = itemWeights\n",
    "    ctxitemEncoderModel = itemEncoderModel.copy({\n",
    "        itemEncoderModel.weights: ctxitemWeights,\n",
    "        itemEncoderModel.inputCols: ctxitemCols,\n",
    "        itemEncoderModel.outputCols: [c + \"_encoded\" for c in ctxitemCols],\n",
    "        itemEncoderModel.dropLast: True,\n",
    "        itemEncoderModel.handleInvalid: \"keep\"\n",
    "    })\n",
    "    \n",
    "    return userColdStartEncoderModel, userEncoderModel, itemEncoderModel, ctxitemEncoderModel"
   ]
  },
  {
   "cell_type": "code",
   "execution_count": 19,
   "metadata": {},
   "outputs": [],
   "source": [
    "if not loadFeatures:\n",
    "    \n",
    "    # loading / fitting and saving name encoder and name encoding\n",
    "    if loadNameEncoder:\n",
    "        nameEncoderModel = loadNameEncoderModel(nameEncoderModelPath)\n",
    "    else:\n",
    "        nameEncoderModel = fitNameEncoderModel(trainData)\n",
    "        if saveNameEncoder:\n",
    "            nameEncoderModel.save(nameEncoderModelPath)\n",
    "    \n",
    "    trainData = nameEncoderModel.transform(trainData).drop(\"name_swremoved\")\n",
    "    valSeedsData = nameEncoderModel.transform(valSeedsData).drop(\"name_swremoved\")\n",
    "    valData = nameEncoderModel.transform(valData).drop(\"name_swremoved\")\n",
    "    if seedsSplit:\n",
    "        valCtxData = nameEncoderModel.transform(valCtxData).drop(\"name_swremoved\")\n",
    "    \n",
    "    # loading / fitting and saving encoder\n",
    "    if loadEncoders:\n",
    "        encoderModels = loadEncoderModels(encoderModelPaths)\n",
    "    else:\n",
    "        encoderModels = fitEncoderModels(trainData)\n",
    "        if saveEncoders:\n",
    "            for model, modelPath in zip(encoderModels, encoderModelPaths):\n",
    "                model.save(modelPath)"
   ]
  },
  {
   "cell_type": "code",
   "execution_count": 17,
   "metadata": {},
   "outputs": [
    {
     "data": {
      "text/plain": [
       "7625"
      ]
     },
     "execution_count": 17,
     "metadata": {},
     "output_type": "execute_result"
    }
   ],
   "source": [
    "len(nameEncoderModel.vocabulary)"
   ]
  },
  {
   "cell_type": "code",
   "execution_count": 20,
   "metadata": {},
   "outputs": [],
   "source": [
    "def toFeatures(data, encoderModels, queryctxData=None, sharedItemFeatures=False,\n",
    "               allUserColdStartWeights=[1.0],\n",
    "               userColdStartWeighting=\"sqrt\",\n",
    "               allUserWeights=[1.0, 0.125],\n",
    "               allUserNameWeights=[1.0],\n",
    "               allCtxitemWeights=[1.0, 1.0, 1.0, 0.5,\n",
    "                                  0.125, 0.125, 0.125, 0.125,\n",
    "                                  0.125, 0.125, 0.125, 0.125],\n",
    "               allItemWeights=[1.0, 1.0, 1.0, 0.5,\n",
    "                               0.125, 0.125, 0.125, 0.125,\n",
    "                               0.125, 0.125, 0.125, 0.125],\n",
    "               coldStartUserCols=[],\n",
    "               userNameCols=[],\n",
    "               userCols=[\"pid\", \"pyear\"],\n",
    "               ctxitemCols=[\"prev_traid\", \"prev_albid\", \"prev_artid\", \"prev_releaseid\",\n",
    "                            \"prev_danceabilityid\", \"prev_energyid\", \"prev_valenceid\", \"prev_acousticnessid\",\n",
    "                            \"prev_keyid\", \"prev_loudnessid\", \"prev_modeid\", \"prev_tempoid\"],\n",
    "               itemCols=[\"traid\", \"albid\", \"artid\", \"releaseid\",\n",
    "                         \"danceabilityid\", \"energyid\", \"valenceid\", \"acousticnessid\",\n",
    "                         \"keyid\", \"loudnessid\", \"modeid\", \"tempoid\"]):\n",
    "    \n",
    "    userColdStartEncoderModel, userEncoderModel, itemEncoderModel, ctxitemEncoderModel = encoderModels\n",
    "    \n",
    "    encodedColdStartUserCols = [c + \"_cold_encoded\" for c in coldStartUserCols]\n",
    "    encodedUserNameCols = [c + \"_encoded\" for c in userNameCols]\n",
    "    encodedUserCols = [c + \"_encoded\" for c in userCols]\n",
    "    encodedItemCols = [c + \"_encoded\" for c in itemCols]\n",
    "    encodedCtxitemCols = [c + \"_encoded\" for c in ctxitemCols]\n",
    "    \n",
    "    # hot encode\n",
    "    if coldStartUserCols:\n",
    "        data = userColdStartEncoderModel \\\n",
    "            .setWeights(allUserColdStartWeights) \\\n",
    "            .setGroupWeighting(userColdStartWeighting) \\\n",
    "            .transform(data)\n",
    "    \n",
    "    if queryctxData:\n",
    "        firstColdStartUserCols = [first(c).alias(c) for c in encodedColdStartUserCols]\n",
    "        data = data.groupBy(\"pid\") \\\n",
    "            .agg(collect_set(col(\"traid\").cast(\"int\")).alias(\"filteritemids\"), *firstColdStartUserCols) \\\n",
    "            .select(\"pid\", \"filteritemids\", *encodedColdStartUserCols) \\\n",
    "            .join(queryctxData, \"pid\")\n",
    "    else:\n",
    "        data = itemEncoderModel.setWeights(allItemWeights).transform(data)\n",
    "    \n",
    "    if userNameCols:\n",
    "        for userNameCol, encodedUserNameCol, userNameWeight in zip(userNameCols, encodedUserNameCols, allUserNameWeights):\n",
    "            data = data.withColumn(encodedUserNameCol,\n",
    "                                   expr(\"weighVector({}, cast({} as double))\".format(userNameCol, userNameWeight)))\n",
    "    \n",
    "    if userCols: \n",
    "        data = userEncoderModel.setWeights(allUserWeights).transform(data)\n",
    "        \n",
    "    if ctxitemCols:\n",
    "        data = ctxitemEncoderModel.setWeights(allCtxitemWeights).transform(data)\n",
    "        \n",
    "    # assemble feature vectors of required hot-encoded columns into combined feature vectors\n",
    "    userInputCols = encodedCtxitemCols + encodedColdStartUserCols + encodedUserNameCols + encodedUserCols\n",
    "    userAssembler = VectorAssembler(inputCols=userInputCols, outputCol=\"userctxfeatures\")\n",
    "    data = userAssembler.transform(data)\n",
    "\n",
    "    if not queryctxData:\n",
    "        itemInputCols = encodedItemCols\n",
    "        itemAssembler = VectorAssembler(inputCols=itemInputCols, outputCol=\"itemfeatures\")\n",
    "        data = itemAssembler.transform(data)\n",
    "\n",
    "    # rename columns to Glint-FMPair names\n",
    "    cols = [col(\"userctxfeatures\"), col(\"pid\").cast(\"int\").alias(\"userid\")]\n",
    "    \n",
    "    if queryctxData:\n",
    "        cols += [col(\"filteritemids\")]\n",
    "    elif sharedItemFeatures:\n",
    "        cols += [expr(\"resizeVector(itemfeatures,userctxfeatures)\").alias(\"itemfeatures\"), \n",
    "                 col(\"traid\").cast(\"int\").alias(\"itemid\"),\n",
    "                 col(\"albid\").cast(\"int\"), col(\"artid\").cast(\"int\")]\n",
    "    else:\n",
    "        cols += [col(\"itemfeatures\"), col(\"traid\").cast(\"int\").alias(\"itemid\"),\n",
    "                 col(\"albid\").cast(\"int\"), col(\"artid\").cast(\"int\")]\n",
    "    \n",
    "    return data.select(*cols)"
   ]
  },
  {
   "cell_type": "markdown",
   "metadata": {},
   "source": [
    "## Evaluation metrics"
   ]
  },
  {
   "cell_type": "code",
   "execution_count": 21,
   "metadata": {},
   "outputs": [],
   "source": [
    "def dcg(itemid, recs):\n",
    "    return sum(1.0 / log2(i + 2) if rec[\"itemid\"] == itemid else 0.0\n",
    "               for i, rec in enumerate(recs))\n",
    "\n",
    "def hitRate(itemid, recs):\n",
    "    return 1.0 if recs[0][\"itemid\"] == itemid else 0\n",
    "\n",
    "\n",
    "dcgUdf = udf(dcg)\n",
    "hitRateUdf = udf(hitRate)\n",
    "\n",
    "\n",
    "def evaluateModel(queryfeatures, evaldata, model, withHitRates=False, traindata=None):\n",
    "    if traindata:\n",
    "        recdata = model.recommendForUserSubset(queryfeatures, traindata, 500)\n",
    "    else:\n",
    "        recdata = model.recommendForUserSubset(queryfeatures.coalesce(80), 500).cache()\n",
    "    scores = evaldata.join(recdata, \"userid\") \\\n",
    "        .select(hitRateUdf(\"itemid\", \"recommendations\").alias(\"hitRate\"), \\\n",
    "                dcgUdf(\"itemid\", \"recommendations\").alias(\"dcg\")) \\\n",
    "        .select(mean(col(\"hitRate\")), mean(col(\"dcg\"))) \\\n",
    "        .first()\n",
    "\n",
    "    hitRate = scores[0]\n",
    "    ndcg = scores[1]\n",
    "    \n",
    "    if withHitRates:\n",
    "        \n",
    "        numUsers = evaldata.select(\"userid\").dropDuplicates().count()\n",
    "        \n",
    "        hitRates = evaldata.join(recdata, \"userid\") \\\n",
    "            .select(\"itemid\", posexplode(\"recommendations\")) \\\n",
    "            .where(col(\"itemid\") == col(\"col.itemid\")) \\\n",
    "            .groupBy(\"pos\") \\\n",
    "            .agg(count(\"itemid\").alias(\"hitRate\"))\n",
    "         \n",
    "        hitRates = sc.range(0, 500).map(lambda p: Row(pos=p)).toDF() \\\n",
    "            .join(hitRates, on=\"pos\", how=\"left\") \\\n",
    "            .fillna(0.0, subset=[\"hitRate\"]) \\\n",
    "            .select(\"pos\", sparkSum(\"hitRate\").over(Window.orderBy(\"pos\")).alias(\"hitRate\")) \\\n",
    "            .orderBy(\"pos\") \\\n",
    "            .select(\"hitRate\") \\\n",
    "            .rdd \\\n",
    "            .map(lambda r: r[0] / numUsers) \\\n",
    "            .collect()\n",
    "        \n",
    "        return hitRate, ndcg, hitRates\n",
    "\n",
    "    return hitRate, ndcg"
   ]
  },
  {
   "cell_type": "code",
   "execution_count": 22,
   "metadata": {},
   "outputs": [],
   "source": [
    "def ndcgMulti(itemids, recs):\n",
    "    dcg = sum(1.0 / log2(i + 2) if rec[\"itemid\"] in itemids else 0.0\n",
    "              for i, rec in enumerate(recs))\n",
    "    idcg = sum(1.0 / log2(i + 2) for i, itemid in enumerate(itemids))\n",
    "    return dcg / idcg\n",
    "\n",
    "\n",
    "ndcgMultiUdf = udf(ndcgMulti)\n",
    "\n",
    "\n",
    "def evaluateModelMulti(queryfeatures, evaldata, model, withHitRates=False, traindata=None):\n",
    "    if traindata:\n",
    "        recdata = model.recommendForUserSubset(queryfeatures, traindata, 500)\n",
    "    else:\n",
    "        recdata = model.recommendForUserSubset(queryfeatures.coalesce(80), 500).cache()\n",
    "    scores = evaldata \\\n",
    "        .groupby(\"userid\") \\\n",
    "        .agg(collect_set(\"itemid\").alias(\"itemids\")) \\\n",
    "        .join(recdata, \"userid\") \\\n",
    "        .select(ndcgMultiUdf(\"itemids\", \"recommendations\").alias(\"ndcg\")) \\\n",
    "        .select(mean(col(\"ndcg\"))) \\\n",
    "        .first()\n",
    "\n",
    "    ndcg = scores[0]\n",
    "    \n",
    "    if withHitRates:\n",
    "        \n",
    "        numUsers = recdata.select(\"userid\").dropDuplicates().count()\n",
    "        \n",
    "        userWindow = Window.partitionBy(\"userid\")\n",
    "        hitRates = evaldata \\\n",
    "            .select(\"userid\", \"itemid\", count(\"itemid\").over(userWindow).alias(\"numuseritems\")) \\\n",
    "            .join(recdata, \"userid\") \\\n",
    "            .select(\"itemid\", \"numuseritems\", posexplode(\"recommendations\")) \\\n",
    "            .where(col(\"itemid\") == col(\"col.itemid\")) \\\n",
    "            .groupBy(\"pos\") \\\n",
    "            .agg(sparkSum(expr(\"1.0 / numuseritems\")).alias(\"hitRate\"))\n",
    "         \n",
    "        hitRates = sc.range(0, 500).map(lambda p: Row(pos=p)).toDF() \\\n",
    "            .join(hitRates, on=\"pos\", how=\"left\") \\\n",
    "            .fillna(0.0, subset=[\"hitRate\"]) \\\n",
    "            .select(\"pos\", sparkSum(\"hitRate\").over(Window.orderBy(\"pos\")).alias(\"hitRate\")) \\\n",
    "            .orderBy(\"pos\") \\\n",
    "            .select(\"hitRate\") \\\n",
    "            .rdd \\\n",
    "            .map(lambda r: r[0] / numUsers) \\\n",
    "            .collect()\n",
    "        \n",
    "        return ndcg, hitRates\n",
    "\n",
    "    return ndcg"
   ]
  },
  {
   "cell_type": "markdown",
   "metadata": {},
   "source": [
    "## Evaluation"
   ]
  },
  {
   "cell_type": "code",
   "execution_count": 20,
   "metadata": {},
   "outputs": [],
   "source": [
    "trainFeaturesPath = \"MPD-trainfeatures.parquet\"\n",
    "valqueryFeaturesPath = \"MPD-valqueryfeatures.parquet\"\n",
    "\n",
    "trainFeatures = toFeatures(trainData, encoderModels,\n",
    "                           userCols=[\"pid\"], itemCols=[\"traid\"], ctxitemCols=[])\n",
    "valqueryFeatures = toFeatures(valSeedsData, encoderModels, \n",
    "                              queryctxData=valData,\n",
    "                              userCols=[\"pid\"], ctxitemCols=[])\n",
    "valFeatures = valData.select(col(\"pid\").alias(\"userid\"), col(\"traid\").alias(\"itemid\"))\n",
    "\n",
    "if saveFeatures:\n",
    "    trainFeatures.write.save(trainFeaturesPath, format=\"parquet\", mode=\"overwrite\")\n",
    "    valqueryFeatures.write.save(valqueryFeaturesPath, format=\"parquet\", mode=\"overwrite\")"
   ]
  },
  {
   "cell_type": "code",
   "execution_count": null,
   "metadata": {},
   "outputs": [],
   "source": [
    "metadataPath = \"MPD.meta\"\n",
    "metadataPathExp = \"MPD-exp.meta\""
   ]
  },
  {
   "cell_type": "code",
   "execution_count": null,
   "metadata": {},
   "outputs": [],
   "source": [
    "fitStart = time.time()\n",
    "model = GlintFMPair(\n",
    "    batchSize=256, stepSize=0.1, linearReg=0.1, factorsReg=0.003, numDims=50,\n",
    "    parameterServerHost=parameterServerHost, numParameterServers=3, maxIter=100,\n",
    "    samplingCol=\"\", sampler=\"uniform\", filterItemsCol=\"filteritemids\",\n",
    "    loadMetadata=True, saveMetadata=True, metadataPath=metadataPath\n",
    ").fit(trainFeatures)\n",
    "fitEnd = time.time()\n",
    "fitTime = fitEnd - fitStart\n",
    "            \n",
    "hitRate, ndcg = evaluateModel(valqueryFeatures, valFeatures, model)\n",
    "model.destroy()\n",
    "print(\"{:.5f}s fit time\\n{:.6f} hit rate\\n{:.6f} NDCG\".format(fitTime, hitRate, ndcg))"
   ]
  },
  {
   "cell_type": "code",
   "execution_count": null,
   "metadata": {},
   "outputs": [],
   "source": [
    "fitStart = time.time()\n",
    "model = GlintFMPair(\n",
    "    batchSize=256, stepSize=0.1, linearReg=0.1, factorsReg=0.003, numDims=50,\n",
    "    parameterServerHost=parameterServerHost, numParameterServers=3, maxIter=100,\n",
    "    samplingCol=\"\", sampler=\"uniform\", filterItemsCol=\"filteritemids\",\n",
    "    loadMetadata=True, saveMetadata=True, metadataPath=metadataPath\n",
    ").fit(trainFeatures)\n",
    "fitEnd = time.time()\n",
    "fitTime = fitEnd - fitStart\n",
    "            \n",
    "hitRate, ndcg = evaluateModel(valqueryFeatures, valFeatures, model)\n",
    "model.destroy()\n",
    "print(\"{:.5f}s fit time\\n{:.6f} hit rate\\n{:.6f} NDCG\".format(fitTime, hitRate, ndcg))"
   ]
  },
  {
   "cell_type": "code",
   "execution_count": null,
   "metadata": {},
   "outputs": [],
   "source": [
    "linearRegs = [0.03, 0.3]\n",
    "for linearReg in linearRegs:\n",
    "    fitStart = time.time()\n",
    "    model = GlintFMPair(\n",
    "        batchSize=256, stepSize=0.1, linearReg=linearReg, factorsReg=0.003, numDims=50,\n",
    "        parameterServerHost=parameterServerHost, numParameterServers=3, maxIter=100,\n",
    "        samplingCol=\"\", sampler=\"uniform\", filterItemsCol=\"filteritemids\",\n",
    "        loadMetadata=True, saveMetadata=True, metadataPath=metadataPath\n",
    "    ).fit(trainFeatures)\n",
    "    fitEnd = time.time()\n",
    "    fitTime = fitEnd - fitStart\n",
    "\n",
    "    hitRate, ndcg = evaluateModel(valqueryFeatures, valFeatures, model)\n",
    "    model.destroy()\n",
    "    print(\"{:.5f}s fit time\\n{:.6f} hit rate\\n{:.6f} NDCG\".format(fitTime, hitRate, ndcg))"
   ]
  },
  {
   "cell_type": "code",
   "execution_count": null,
   "metadata": {},
   "outputs": [],
   "source": [
    "factorsRegs = [0.01, 0.001, 0.0003]\n",
    "for factorsReg in factorsRegs:\n",
    "    fitStart = time.time()\n",
    "    model = GlintFMPair(\n",
    "        batchSize=256, stepSize=0.1, linearReg=0.1, factorsReg=factorsReg, numDims=50,\n",
    "        parameterServerHost=parameterServerHost, numParameterServers=3, maxIter=100,\n",
    "        samplingCol=\"\", sampler=\"uniform\", filterItemsCol=\"filteritemids\",\n",
    "        loadMetadata=True, saveMetadata=True, metadataPath=metadataPath\n",
    "    ).fit(trainFeatures)\n",
    "    fitEnd = time.time()\n",
    "    fitTime = fitEnd - fitStart\n",
    "\n",
    "    hitRate, ndcg = evaluateModel(valqueryFeatures, valFeatures, model)\n",
    "    model.destroy()\n",
    "    print(\"{:.5f}s fit time\\n{:.6f} hit rate\\n{:.6f} NDCG\".format(fitTime, hitRate, ndcg))\n",
    "\n",
    "# 1503.47400s fit time\n",
    "# 0.005000 hit rate\n",
    "# 0.061949 NDCG\n",
    "\n",
    "# 1516.09630s fit time\n",
    "# 0.010000 hit rate\n",
    "# 0.071506 NDCG\n",
    "\n",
    "# 1583.56542s fit time\n",
    "# 0.008000 hit rate\n",
    "# 0.071309 NDCG"
   ]
  },
  {
   "cell_type": "code",
   "execution_count": null,
   "metadata": {},
   "outputs": [],
   "source": [
    "ks = [100, 150, 200, 250, 300, 350, 400]\n",
    "kNdcgs = []\n",
    "kFitTimes = []\n",
    "for k in ks:\n",
    "    fitStart = time.time()\n",
    "    model = GlintFMPair(\n",
    "        batchSize=256, stepSize=0.1, linearReg=0.1, factorsReg=0.001, numDims=k,\n",
    "        parameterServerHost=parameterServerHost, numParameterServers=3, maxIter=100,\n",
    "        samplingCol=\"\", sampler=\"uniform\", filterItemsCol=\"filteritemids\",\n",
    "        loadMetadata=True, saveMetadata=True, metadataPath=metadataPath\n",
    "    ).fit(trainFeatures)\n",
    "    fitEnd = time.time()\n",
    "    fitTime = fitEnd - fitStart\n",
    "\n",
    "    hitRate, ndcg = evaluateModel(valqueryFeatures, valData, model)\n",
    "    model.destroy()\n",
    "    print(\"k {}:\".format(k))\n",
    "    print(\"{:.5f}s fit time\\n{:.6f} hit rate\\n{:.6f} NDCG\".format(fitTime, hitRate, ndcg))\n",
    "    kNdcgs.append(ndcg)\n",
    "    kFitTimes.append(fitTime)\n",
    "\n",
    "# k 100:\n",
    "# 1732.85702s fit time\n",
    "# 0.004000 hit rate\n",
    "# 0.069570 NDCG\n",
    "# k 150:\n",
    "# 1753.28953s fit time\n",
    "# 0.010000 hit rate\n",
    "# 0.075285 NDCG\n",
    "# k 200:\n",
    "# 2056.79767s fit time\n",
    "# 0.012000 hit rate\n",
    "# 0.078022 NDCG\n",
    "# k 250:\n",
    "# 2244.53965s fit time\n",
    "# 0.010000 hit rate\n",
    "# 0.077795 NDCG\n",
    "# k 300:\n",
    "# 2501.21044s fit time\n",
    "# 0.011000 hit rate\n",
    "# 0.078540 NDCG\n",
    "# k 350:\n",
    "# 2530.06946s fit time\n",
    "# 0.012000 hit rate\n",
    "# 0.079428 NDCG\n",
    "# k 400:\n",
    "# 2746.25606s fit time\n",
    "# 0.009000 hit rate\n",
    "# 0.078083 NDCG"
   ]
  },
  {
   "cell_type": "code",
   "execution_count": 21,
   "metadata": {},
   "outputs": [
    {
     "data": {
      "image/png": "[encoded data removed]",
      "text/plain": [
       "<Figure size 432x216 with 1 Axes>"
      ]
     },
     "metadata": {
      "needs_background": "light"
     },
     "output_type": "display_data"
    }
   ],
   "source": [
    "plt.figure(figsize=(6, 3))\n",
    "\n",
    "ks = [50, 100, 150, 200, 250, 300, 350, 400]\n",
    "kNdcgs = [0.071506, 0.069570, 0.075285, 0.078022, 0.077795, 0.078540, 0.079428, 0.078083]\n",
    "\n",
    "plt.plot(ks, kNdcgs, \"o--\", color=\"red\")\n",
    "plt.xticks(ks)\n",
    "plt.ylim(bottom=0.06, top=0.09)\n",
    "plt.grid(True, axis=\"y\")\n",
    "\n",
    "plt.ylabel(\"NDCG\")\n",
    "plt.xlabel(\"k\")\n",
    "plt.title(\"Spotify MPD\");"
   ]
  },
  {
   "cell_type": "code",
   "execution_count": 30,
   "metadata": {},
   "outputs": [
    {
     "data": {
      "image/png": "[encoded data removed]",
      "text/plain": [
       "<Figure size 432x288 with 1 Axes>"
      ]
     },
     "metadata": {
      "needs_background": "light"
     },
     "output_type": "display_data"
    }
   ],
   "source": [
    "kTimes = [1516, 1732, 1753, 2056, 2244, 2501, 2530, 2746]\n",
    "\n",
    "plt.plot(ks, kTimes, \"o--\")\n",
    "plt.xticks(ks)\n",
    "plt.ylim(bottom=0.0)\n",
    "\n",
    "plt.title(\"Training times (s) per k\");"
   ]
  },
  {
   "cell_type": "code",
   "execution_count": null,
   "metadata": {},
   "outputs": [],
   "source": [
    "samplingCols = [\"itemid\", \"albid\", \"artid\",\n",
    "                \"\", \"itemid\", \"albid\", \"artid\",\n",
    "                \"\", \"itemid\", \"albid\", \"artid\"]\n",
    "samplers = [\"uniform\", \"uniform\", \"uniform\",\n",
    "            \"exp\", \"exp\", \"exp\", \"exp\",\n",
    "            \"crossbatch\", \"crossbatch\", \"crossbatch\", \"crossbatch\"]\n",
    "lrs = [0.1, 0.1, 0.1,\n",
    "       0.1, 0.1, 0.1, 0.1,\n",
    "       1.0, 1.0, 1.0, 1.0]\n",
    "maxIters = [100, 100, 100,\n",
    "            100, 100, 100, 100,\n",
    "            10, 10, 10, 10]\n",
    "\n",
    "metadataPaths = [metadataPath, metadataPath, metadataPath,\n",
    "                 metadataPathExp, metadataPathExp, metadataPathExp, metadataPathExp,\n",
    "                 metadataPath, metadataPath, metadataPath, metadataPath]\n",
    "\n",
    "for samplingCol, sampler, lr, maxIter, metadataPath in zip(\n",
    "    samplingCols, samplers, lrs, maxIters, metadataPaths):\n",
    "    \n",
    "    fitStart = time.time()\n",
    "    model = GlintFMPair(\n",
    "        batchSize=256, stepSize=lr, linearReg=0.1, factorsReg=0.001, numDims=300,\n",
    "        parameterServerHost=parameterServerHost, numParameterServers=3, maxIter=maxIter,\n",
    "        samplingCol=samplingCol, sampler=sampler, filterItemsCol=\"filteritemids\",\n",
    "        loadMetadata=True, saveMetadata=True, metadataPath=metadataPath\n",
    "    ).fit(trainFeatures)\n",
    "    fitEnd = time.time()\n",
    "    fitTime = fitEnd - fitStart\n",
    "\n",
    "    hitRate, ndcg = evaluateModel(valqueryFeatures, valFeatures, model)\n",
    "    model.destroy()\n",
    "    print(\"{} {}:\".format(sampler, samplingCol))\n",
    "    print(\"{:.5f}s fit time\\n{:.6f} hit rate\\n{:.6f} NDCG\".format(fitTime, hitRate, ndcg))\n",
    "\n",
    "# uniform itemid:\n",
    "# 2484.56083s fit time\n",
    "# 0.012000 hit rate\n",
    "# 0.077789 NDCG\n",
    "# uniform albid:\n",
    "# 2261.73976s fit time\n",
    "# 0.013000 hit rate\n",
    "# 0.078428 NDCG\n",
    "# uniform artid:\n",
    "# 2228.59741s fit time\n",
    "# 0.013000 hit rate\n",
    "# 0.078954 NDCG\n",
    "\n",
    "# exp :\n",
    "# 3248.20180s fit time\n",
    "# 0.009000 hit rate\n",
    "# 0.085025 NDCG\n",
    "# exp itemid:\n",
    "# 2419.82472s fit time\n",
    "# 0.009000 hit rate\n",
    "# 0.084813 NDCG\n",
    "# exp albid:\n",
    "# 6692.71261s fit time\n",
    "# 0.009000 hit rate\n",
    "# 0.085049 NDCG\n",
    "\n",
    "# crossbatch :\n",
    "# 1473.46355s fit time\n",
    "# 0.007000 hit rate\n",
    "# 0.078983 NDCG\n",
    "# crossbatch itemid:\n",
    "# 1450.87150s fit time\n",
    "# 0.008000 hit rate\n",
    "# 0.080761 NDCG\n",
    "# crossbatch albid:\n",
    "# 1513.42223s fit time\n",
    "# 0.010000 hit rate\n",
    "# 0.082243 NDCG\n",
    "# crossbatch artid:\n",
    "# 1565.71061s fit time\n",
    "# 0.011000 hit rate\n",
    "# 0.082407 NDCG"
   ]
  },
  {
   "cell_type": "code",
   "execution_count": 23,
   "metadata": {},
   "outputs": [
    {
     "name": "stdout",
     "output_type": "stream",
     "text": [
      "1254.15832s fit time\n",
      "0.008000 hit rate\n",
      "0.081026 NDCG\n"
     ]
    }
   ],
   "source": [
    "fitStart = time.time()\n",
    "model = GlintFMPair(\n",
    "    batchSize=256, stepSize=1.0, linearReg=0.1, factorsReg=0.001, numDims=300,\n",
    "    parameterServerHost=parameterServerHost, numParameterServers=4, maxIter=10,\n",
    "    samplingCol=\"\", sampler=\"crossbatch\", filterItemsCol=\"filteritemids\",\n",
    "    loadMetadata=True, saveMetadata=True, metadataPath=metadataPath\n",
    ").fit(trainFeatures)\n",
    "fitEnd = time.time()\n",
    "fitTime = fitEnd - fitStart\n",
    "            \n",
    "hitRate, ndcg = evaluateModel(valqueryFeatures, valFeatures, model)\n",
    "model.destroy()\n",
    "print(\"{:.5f}s fit time\\n{:.6f} hit rate\\n{:.6f} NDCG\".format(fitTime, hitRate, ndcg))"
   ]
  },
  {
   "cell_type": "code",
   "execution_count": 24,
   "metadata": {},
   "outputs": [
    {
     "name": "stdout",
     "output_type": "stream",
     "text": [
      "1563.28630s fit time\n",
      "0.010000 hit rate\n",
      "0.086589 NDCG\n"
     ]
    }
   ],
   "source": [
    "fitStart = time.time()\n",
    "model = GlintFMPair(\n",
    "    batchSize=1024, stepSize=1.0, linearReg=0.1, factorsReg=0.001, numDims=300,\n",
    "    parameterServerHost=parameterServerHost, numParameterServers=4, maxIter=10,\n",
    "    samplingCol=\"\", sampler=\"crossbatch\", filterItemsCol=\"filteritemids\",\n",
    "    loadMetadata=True, saveMetadata=True, metadataPath=metadataPath\n",
    ").fit(trainFeatures)\n",
    "fitEnd = time.time()\n",
    "fitTime = fitEnd - fitStart\n",
    "            \n",
    "hitRate, ndcg = evaluateModel(valqueryFeatures, valFeatures, model)\n",
    "model.destroy()\n",
    "print(\"{:.5f}s fit time\\n{:.6f} hit rate\\n{:.6f} NDCG\".format(fitTime, hitRate, ndcg))"
   ]
  },
  {
   "cell_type": "code",
   "execution_count": 20,
   "metadata": {},
   "outputs": [
    {
     "name": "stdout",
     "output_type": "stream",
     "text": [
      "1606.61577s fit time\n",
      "0.009000 hit rate\n",
      "0.083519 NDCG\n"
     ]
    }
   ],
   "source": [
    "fitStart = time.time()\n",
    "model = GlintFMPair(\n",
    "    batchSize=1024, stepSize=1.0, linearReg=0.1, factorsReg=0.001, numDims=300,\n",
    "    parameterServerHost=parameterServerHost, numParameterServers=5, maxIter=10,\n",
    "    samplingCol=\"\", sampler=\"crossbatch\", filterItemsCol=\"filteritemids\",\n",
    "    loadMetadata=True, saveMetadata=True, metadataPath=metadataPath\n",
    ").fit(trainFeatures)\n",
    "fitEnd = time.time()\n",
    "fitTime = fitEnd - fitStart\n",
    "            \n",
    "hitRate, ndcg = evaluateModel(valqueryFeatures, valFeatures, model)\n",
    "model.destroy()\n",
    "print(\"{:.5f}s fit time\\n{:.6f} hit rate\\n{:.6f} NDCG\".format(fitTime, hitRate, ndcg))"
   ]
  },
  {
   "cell_type": "code",
   "execution_count": null,
   "metadata": {},
   "outputs": [],
   "source": [
    "samplingCols = [\"\", \"itemid\", \"albid\", \"artid\"]\n",
    "\n",
    "for samplingCol in samplingCols:\n",
    "    fitStart = time.time()\n",
    "    model = GlintFMPair(\n",
    "        batchSize=1024, stepSize=1.0, linearReg=0.1, factorsReg=0.001, numDims=300,\n",
    "        parameterServerHost=parameterServerHost, numParameterServers=3, maxIter=10,\n",
    "        samplingCol=samplingCol, sampler=\"crossbatch\", filterItemsCol=\"filteritemids\",\n",
    "        loadMetadata=True, saveMetadata=True, metadataPath=metadataPath\n",
    "    ).fit(trainFeatures)\n",
    "    fitEnd = time.time()\n",
    "    fitTime = fitEnd - fitStart\n",
    "\n",
    "    hitRate, ndcg = evaluateModel(valqueryFeatures, valFeatures, model)\n",
    "    model.destroy()\n",
    "    print(\"{:.5f}s fit time\\n{:.6f} hit rate\\n{:.6f} NDCG\".format(fitTime, hitRate, ndcg))\n",
    "\n",
    "# 1642.53664s fit time\n",
    "# 0.010000 hit rate\n",
    "# 0.083997 NDCG\n",
    "# 1651.15506s fit time\n",
    "# 0.009000 hit rate\n",
    "# 0.084216 NDCG\n",
    "# 1596.04214s fit time\n",
    "# 0.008000 hit rate\n",
    "# 0.083720 NDCG\n",
    "# 1602.16093s fit time\n",
    "# 0.010000 hit rate\n",
    "# 0.083944 NDCG"
   ]
  },
  {
   "cell_type": "code",
   "execution_count": null,
   "metadata": {},
   "outputs": [],
   "source": [
    "trainFeatures = toFeatures(trainData, encoderModels,\n",
    "                           userCols=[\"pid\"], itemCols=[\"traid\", \"albid\", \"artid\"], ctxitemCols=[])\n",
    "valqueryFeatures = toFeatures(valSeedsData, encoderModels, \n",
    "                              queryctxData=valData,\n",
    "                              userCols=[\"pid\"], ctxitemCols=[])\n",
    "valFeatures = valData.select(col(\"pid\").alias(\"userid\"), col(\"traid\").alias(\"itemid\"))\n",
    "\n",
    "\n",
    "metadataPath = \"MPD-item.meta\"\n",
    "\n",
    "fitStart = time.time()\n",
    "model = GlintFMPair(\n",
    "    batchSize=1024, stepSize=1.0, linearReg=0.1, factorsReg=0.001, numDims=300,\n",
    "    parameterServerHost=parameterServerHost, numParameterServers=3, maxIter=10,\n",
    "    samplingCol=\"\", sampler=\"crossbatch\", filterItemsCol=\"filteritemids\",\n",
    "    loadMetadata=True, saveMetadata=True, metadataPath=metadataPath\n",
    ").fit(trainFeatures)\n",
    "fitEnd = time.time()\n",
    "fitTime = fitEnd - fitStart\n",
    "\n",
    "hitRate, ndcg = evaluateModel(valqueryFeatures, valFeatures, model)\n",
    "model.destroy()\n",
    "print(\"{:.5f}s fit time\\n{:.6f} hit rate\\n{:.6f} NDCG\".format(fitTime, hitRate, ndcg))\n",
    "\n",
    "# 4388.87591s fit time\n",
    "# 0.011000 hit rate\n",
    "# 0.089265 NDCG"
   ]
  },
  {
   "cell_type": "code",
   "execution_count": 21,
   "metadata": {},
   "outputs": [
    {
     "name": "stdout",
     "output_type": "stream",
     "text": [
      "4089.90604s fit time\n",
      "0.013000 hit rate\n",
      "0.089112 NDCG\n"
     ]
    }
   ],
   "source": [
    "trainFeatures = toFeatures(trainData, encoderModels,       \n",
    "                           allUserNameWeights=[0.125], userNameCols=[\"pname\"], userCols=[\"pid\"],\n",
    "                           itemCols=[\"traid\", \"albid\", \"artid\"], ctxitemCols=[])\n",
    "valqueryFeatures = toFeatures(valSeedsData, encoderModels, \n",
    "                              queryctxData=valData,\n",
    "                              allUserNameWeights=[0.125], userNameCols=[\"pname\"], userCols=[\"pid\"], ctxitemCols=[])\n",
    "valFeatures = valData.select(col(\"pid\").alias(\"userid\"), col(\"traid\").alias(\"itemid\"))\n",
    "\n",
    "\n",
    "metadataPath = \"MPD-item-name0125-10.meta\"\n",
    "\n",
    "fitStart = time.time()\n",
    "model = GlintFMPair(\n",
    "    batchSize=1024, stepSize=1.0, linearReg=0.1, factorsReg=0.001, numDims=300,\n",
    "    parameterServerHost=parameterServerHost, numParameterServers=3, maxIter=10,\n",
    "    samplingCol=\"\", sampler=\"crossbatch\", filterItemsCol=\"filteritemids\",\n",
    "    loadMetadata=True, saveMetadata=True, metadataPath=metadataPath\n",
    ").fit(trainFeatures)\n",
    "fitEnd = time.time()\n",
    "fitTime = fitEnd - fitStart\n",
    "\n",
    "hitRate, ndcg = evaluateModel(valqueryFeatures, valFeatures, model)\n",
    "model.destroy()\n",
    "print(\"{:.5f}s fit time\\n{:.6f} hit rate\\n{:.6f} NDCG\".format(fitTime, hitRate, ndcg))"
   ]
  },
  {
   "cell_type": "code",
   "execution_count": null,
   "metadata": {},
   "outputs": [],
   "source": [
    "trainFeatures = toFeatures(trainData, encoderModels,       \n",
    "                           allUserNameWeights=[0.125], userNameCols=[\"pname\"], userCols=[\"pid\", \"pyear\"],\n",
    "                           itemCols=[\"traid\", \"albid\", \"artid\", \"releaseid\"], ctxitemCols=[]).coalesce(400).cache()\n",
    "valqueryFeatures = toFeatures(valSeedsData, encoderModels, \n",
    "                              queryctxData=valData,\n",
    "                              allUserNameWeights=[0.125], userNameCols=[\"pname\"], userCols=[\"pid\", \"pyear\"],\n",
    "                              ctxitemCols=[])\n",
    "valFeatures = valData.select(col(\"pid\").alias(\"userid\"), col(\"traid\").alias(\"itemid\"))\n",
    "\n",
    "\n",
    "metadataPath = \"MPD-item-name-year.meta\"\n",
    "\n",
    "fitStart = time.time()\n",
    "model = GlintFMPair(\n",
    "    batchSize=1024, stepSize=1.0, linearReg=0.1, factorsReg=0.001, numDims=300,\n",
    "    parameterServerHost=parameterServerHost, numParameterServers=3, maxIter=10,\n",
    "    samplingCol=\"\", sampler=\"crossbatch\", filterItemsCol=\"filteritemids\",\n",
    "    loadMetadata=True, saveMetadata=True, metadataPath=metadataPath\n",
    ").fit(trainFeatures)\n",
    "fitEnd = time.time()\n",
    "fitTime = fitEnd - fitStart\n",
    "\n",
    "hitRate, ndcg = evaluateModel(valqueryFeatures, valFeatures, model)\n",
    "model.destroy()\n",
    "print(\"{:.5f}s fit time\\n{:.6f} hit rate\\n{:.6f} NDCG\".format(fitTime, hitRate, ndcg))\n",
    "\n",
    "# 1477.09409s fit time\n",
    "# 0.012000 hit rate\n",
    "# 0.089227 NDCG"
   ]
  },
  {
   "cell_type": "code",
   "execution_count": 24,
   "metadata": {},
   "outputs": [
    {
     "name": "stdout",
     "output_type": "stream",
     "text": [
      "1525.40498s fit time\n",
      "0.011000 hit rate\n",
      "0.090719 NDCG\n"
     ]
    }
   ],
   "source": [
    "trainFeatures = toFeatures(trainData, encoderModels,       \n",
    "                           allUserNameWeights=[0.125], userNameCols=[\"pname\"], userCols=[\"pid\"],\n",
    "                           itemCols=[\"traid\", \"albid\", \"artid\", \"releaseid\"], ctxitemCols=[]).coalesce(400).cache()\n",
    "valqueryFeatures = toFeatures(valSeedsData, encoderModels, \n",
    "                              queryctxData=valData,\n",
    "                              allUserNameWeights=[0.125], userNameCols=[\"pname\"], userCols=[\"pid\"],\n",
    "                              ctxitemCols=[])\n",
    "valFeatures = valData.select(col(\"pid\").alias(\"userid\"), col(\"traid\").alias(\"itemid\"))\n",
    "\n",
    "\n",
    "metadataPath = \"MPD-item-name-release.meta\"\n",
    "\n",
    "fitStart = time.time()\n",
    "model = GlintFMPair(\n",
    "    batchSize=1024, stepSize=1.0, linearReg=0.1, factorsReg=0.001, numDims=300,\n",
    "    parameterServerHost=parameterServerHost, numParameterServers=3, maxIter=10,\n",
    "    samplingCol=\"\", sampler=\"crossbatch\", filterItemsCol=\"filteritemids\",\n",
    "    loadMetadata=True, saveMetadata=True, metadataPath=metadataPath\n",
    ").fit(trainFeatures)\n",
    "fitEnd = time.time()\n",
    "fitTime = fitEnd - fitStart\n",
    "\n",
    "hitRate, ndcg = evaluateModel(valqueryFeatures, valFeatures, model)\n",
    "model.destroy()\n",
    "print(\"{:.5f}s fit time\\n{:.6f} hit rate\\n{:.6f} NDCG\".format(fitTime, hitRate, ndcg))"
   ]
  },
  {
   "cell_type": "code",
   "execution_count": 20,
   "metadata": {},
   "outputs": [
    {
     "name": "stdout",
     "output_type": "stream",
     "text": [
      "1502.16055s fit time\n",
      "0.010000 hit rate\n",
      "0.089899 NDCG\n"
     ]
    }
   ],
   "source": [
    "trainFeatures = toFeatures(trainData, encoderModels,       \n",
    "                           allUserNameWeights=[0.125], userNameCols=[\"pname\"], userCols=[\"pid\"],\n",
    "                           itemCols=[\"traid\", \"albid\", \"artid\", \"releaseid\",\n",
    "                                     \"danceabilityid\", \"energyid\", \"valenceid\", \"acousticnessid\"],\n",
    "                           ctxitemCols=[]).coalesce(400).cache()\n",
    "valqueryFeatures = toFeatures(valSeedsData, encoderModels, \n",
    "                              queryctxData=valData,\n",
    "                              allUserNameWeights=[0.125], userNameCols=[\"pname\"], userCols=[\"pid\"],\n",
    "                              ctxitemCols=[])\n",
    "valFeatures = valData.select(col(\"pid\").alias(\"userid\"), col(\"traid\").alias(\"itemid\"))\n",
    "\n",
    "\n",
    "metadataPath = \"MPD-item-name-release-music1.meta\"\n",
    "\n",
    "fitStart = time.time()\n",
    "model = GlintFMPair(\n",
    "    batchSize=1024, stepSize=1.0, linearReg=0.1, factorsReg=0.001, numDims=300,\n",
    "    parameterServerHost=parameterServerHost, numParameterServers=3, maxIter=10,\n",
    "    samplingCol=\"\", sampler=\"crossbatch\", filterItemsCol=\"filteritemids\",\n",
    "    loadMetadata=True, saveMetadata=True, metadataPath=metadataPath\n",
    ").fit(trainFeatures)\n",
    "fitEnd = time.time()\n",
    "fitTime = fitEnd - fitStart\n",
    "\n",
    "hitRate, ndcg = evaluateModel(valqueryFeatures, valFeatures, model)\n",
    "model.destroy()\n",
    "print(\"{:.5f}s fit time\\n{:.6f} hit rate\\n{:.6f} NDCG\".format(fitTime, hitRate, ndcg))"
   ]
  },
  {
   "cell_type": "code",
   "execution_count": 24,
   "metadata": {},
   "outputs": [
    {
     "name": "stdout",
     "output_type": "stream",
     "text": [
      "2721.11135s fit time\n",
      "0.009000 hit rate\n",
      "0.088851 NDCG\n"
     ]
    }
   ],
   "source": [
    "trainFeatures = toFeatures(trainData, encoderModels,       \n",
    "                           allUserNameWeights=[0.125], userNameCols=[\"pname\"], userCols=[\"pid\"],\n",
    "                           itemCols=[\"traid\", \"albid\", \"artid\", \"releaseid\",\n",
    "                                     \"keyid\", \"loudnessid\", \"modeid\", \"tempoid\"],\n",
    "                           ctxitemCols=[]).coalesce(400).cache()\n",
    "valqueryFeatures = toFeatures(valSeedsData, encoderModels, \n",
    "                              queryctxData=valData,\n",
    "                              allUserNameWeights=[0.125], userNameCols=[\"pname\"], userCols=[\"pid\"],\n",
    "                              ctxitemCols=[])\n",
    "valFeatures = valData.select(col(\"pid\").alias(\"userid\"), col(\"traid\").alias(\"itemid\"))\n",
    "\n",
    "\n",
    "metadataPath = \"MPD-item-name-release-music2.meta\"\n",
    "\n",
    "fitStart = time.time()\n",
    "model = GlintFMPair(\n",
    "    batchSize=1024, stepSize=1.0, linearReg=0.1, factorsReg=0.001, numDims=300,\n",
    "    parameterServerHost=parameterServerHost, numParameterServers=3, maxIter=10,\n",
    "    samplingCol=\"\", sampler=\"crossbatch\", filterItemsCol=\"filteritemids\",\n",
    "    loadMetadata=True, saveMetadata=True, metadataPath=metadataPath\n",
    ").fit(trainFeatures)\n",
    "fitEnd = time.time()\n",
    "fitTime = fitEnd - fitStart\n",
    "\n",
    "hitRate, ndcg = evaluateModel(valqueryFeatures, valFeatures, model)\n",
    "model.destroy()\n",
    "print(\"{:.5f}s fit time\\n{:.6f} hit rate\\n{:.6f} NDCG\".format(fitTime, hitRate, ndcg))"
   ]
  },
  {
   "cell_type": "code",
   "execution_count": null,
   "metadata": {},
   "outputs": [],
   "source": [
    "trainFeatures = toFeatures(trainData, encoderModels,\n",
    "                           userCols=[\"pid\"], itemCols=[\"traid\"], ctxitemCols=[\"prev_traid\"])\n",
    "valqueryFeatures = toFeatures(valSeedsData, encoderModels, \n",
    "                              queryctxData=valData,\n",
    "                              userCols=[\"pid\"], ctxitemCols=[\"prev_traid\"])\n",
    "valFeatures = valData.select(col(\"pid\").alias(\"userid\"), col(\"traid\").alias(\"itemid\"))\n",
    "\n",
    "\n",
    "metadataPath = \"MPD-prev.meta\"\n",
    "\n",
    "fitStart = time.time()\n",
    "model = GlintFMPair(\n",
    "    batchSize=1024, stepSize=1.0, linearReg=0.1, factorsReg=0.001, numDims=300,\n",
    "    parameterServerHost=parameterServerHost, numParameterServers=3, maxIter=10,\n",
    "    samplingCol=\"\", sampler=\"crossbatch\", filterItemsCol=\"filteritemids\",\n",
    "    loadMetadata=True, saveMetadata=True, metadataPath=metadataPath\n",
    ").fit(trainFeatures)\n",
    "fitEnd = time.time()\n",
    "fitTime = fitEnd - fitStart\n",
    "\n",
    "hitRate, ndcg = evaluateModel(valqueryFeatures, valFeatures, model)\n",
    "model.destroy()\n",
    "print(\"{:.5f}s fit time\\n{:.6f} hit rate\\n{:.6f} NDCG\".format(fitTime, hitRate, ndcg))\n",
    "\n",
    "# 3000.97390s fit time\n",
    "# 0.036000 hit rate\n",
    "# 0.123655 NDCG"
   ]
  },
  {
   "cell_type": "code",
   "execution_count": null,
   "metadata": {},
   "outputs": [],
   "source": [
    "trainFeatures = toFeatures(trainData, encoderModels,\n",
    "                           userCols=[\"pid\"], itemCols=[\"traid\", \"albid\", \"artid\"],\n",
    "                           ctxitemCols=[\"prev_traid\", \"prev_albid\", \"prev_artid\"]).coalesce(400).cache()\n",
    "valqueryFeatures = toFeatures(valSeedsData, encoderModels, \n",
    "                              queryctxData=valData,\n",
    "                              userCols=[\"pid\"],\n",
    "                              ctxitemCols=[\"prev_traid\", \"prev_albid\", \"prev_artid\"])\n",
    "valFeatures = valData.select(col(\"pid\").alias(\"userid\"), col(\"traid\").alias(\"itemid\"))\n",
    "\n",
    "\n",
    "metadataPath = \"MPD-prev-item.meta\"\n",
    "\n",
    "fitStart = time.time()\n",
    "model = GlintFMPair(\n",
    "    batchSize=1024, stepSize=0.6, linearReg=0.1, factorsReg=0.001, numDims=300,\n",
    "    parameterServerHost=parameterServerHost, numParameterServers=3, maxIter=10,\n",
    "    samplingCol=\"\", sampler=\"crossbatch\", filterItemsCol=\"filteritemids\",\n",
    "    loadMetadata=True, saveMetadata=True, metadataPath=metadataPath\n",
    ").fit(trainFeatures)\n",
    "fitEnd = time.time()\n",
    "fitTime = fitEnd - fitStart\n",
    "\n",
    "hitRate, ndcg = evaluateModel(valqueryFeatures, valFeatures, model)\n",
    "model.destroy()\n",
    "print(\"{:.5f}s fit time\\n{:.6f} hit rate\\n{:.6f} NDCG\".format(fitTime, hitRate, ndcg))\n",
    "\n",
    "# 2396.39066s fit time\n",
    "# 0.030000 hit rate\n",
    "# 0.131917 NDCG"
   ]
  },
  {
   "cell_type": "code",
   "execution_count": 20,
   "metadata": {},
   "outputs": [
    {
     "name": "stdout",
     "output_type": "stream",
     "text": [
      "3007.79344s fit time\n",
      "0.033000 hit rate\n",
      "0.132544 NDCG\n"
     ]
    }
   ],
   "source": [
    "trainFeatures = toFeatures(trainData, encoderModels,\n",
    "                           allUserNameWeights=[0.125], userNameCols=[\"pname\"],\n",
    "                           userCols=[\"pid\"], itemCols=[\"traid\", \"albid\", \"artid\", \"releaseid\"],\n",
    "                           ctxitemCols=[\"prev_traid\", \"prev_albid\", \"prev_artid\", \"prev_releaseid\"]).coalesce(400).cache()\n",
    "valqueryFeatures = toFeatures(valSeedsData, encoderModels, \n",
    "                              queryctxData=valData,\n",
    "                              allUserNameWeights=[0.125], userNameCols=[\"pname\"], userCols=[\"pid\"],\n",
    "                              ctxitemCols=[\"prev_traid\", \"prev_albid\", \"prev_artid\", \"prev_releaseid\"])\n",
    "valFeatures = valData.select(col(\"pid\").alias(\"userid\"), col(\"traid\").alias(\"itemid\"))\n",
    "\n",
    "\n",
    "metadataPath = \"MPD-prev-all.meta\"\n",
    "\n",
    "fitStart = time.time()\n",
    "model = GlintFMPair(\n",
    "    batchSize=1024, stepSize=0.6, linearReg=0.1, factorsReg=0.001, numDims=300,\n",
    "    parameterServerHost=parameterServerHost, numParameterServers=3, maxIter=10,\n",
    "    samplingCol=\"\", sampler=\"crossbatch\", filterItemsCol=\"filteritemids\",\n",
    "    loadMetadata=True, saveMetadata=True, metadataPath=metadataPath\n",
    ").fit(trainFeatures)\n",
    "fitEnd = time.time()\n",
    "fitTime = fitEnd - fitStart\n",
    "\n",
    "hitRate, ndcg = evaluateModel(valqueryFeatures, valFeatures, model)\n",
    "model.destroy()\n",
    "print(\"{:.5f}s fit time\\n{:.6f} hit rate\\n{:.6f} NDCG\".format(fitTime, hitRate, ndcg))"
   ]
  },
  {
   "cell_type": "code",
   "execution_count": null,
   "metadata": {},
   "outputs": [],
   "source": [
    "trainFeatures = toFeatures(trainData, encoderModels, sharedItemFeatures=True,\n",
    "                           userCols=[\"pid\"], itemCols=[\"traid\"], ctxitemCols=[\"prev_traid\"]).coalesce(400).cache()\n",
    "valqueryFeatures = toFeatures(valSeedsData, encoderModels, sharedItemFeatures=True,\n",
    "                              queryctxData=valData,\n",
    "                              userCols=[\"pid\"], ctxitemCols=[\"prev_traid\"])\n",
    "valFeatures = valData.select(col(\"pid\").alias(\"userid\"), col(\"traid\").alias(\"itemid\"))\n",
    "\n",
    "\n",
    "modelPath = \"MPD-trans-prev.model\"\n",
    "metadataPath = \"MPD-trans-prev.meta\"\n",
    "\n",
    "fitStart = time.time()\n",
    "model = GlintFMPair(\n",
    "    batchSize=1024, stepSize=1.0, linearReg=0.1, factorsReg=0.001, numDims=300,\n",
    "    parameterServerHost=parameterServerHost, numParameterServers=3, maxIter=10,\n",
    "    samplingCol=\"\", sampler=\"crossbatch\", filterItemsCol=\"filteritemids\",\n",
    "    loadMetadata=True, saveMetadata=True, metadataPath=metadataPath\n",
    ").fit(trainFeatures)\n",
    "fitEnd = time.time()\n",
    "fitTime = fitEnd - fitStart\n",
    "\n",
    "hitRate, ndcg = evaluateModel(valqueryFeatures, valFeatures, model)\n",
    "model.destroy()\n",
    "print(\"{:.5f}s fit time\\n{:.6f} hit rate\\n{:.6f} NDCG\".format(fitTime, hitRate, ndcg))\n",
    "\n",
    "# 1531.65764s fit time\n",
    "# 0.040000 hit rate\n",
    "# 0.131463 NDCG"
   ]
  },
  {
   "cell_type": "code",
   "execution_count": null,
   "metadata": {},
   "outputs": [],
   "source": [
    "trainFeatures = toFeatures(trainData, encoderModels, sharedItemFeatures=True,\n",
    "                           userCols=[\"pid\"], itemCols=[\"traid\", \"albid\", \"artid\"],\n",
    "                           ctxitemCols=[\"prev_traid\", \"prev_albid\", \"prev_artid\"]).coalesce(400).cache()\n",
    "valqueryFeatures = toFeatures(valSeedsData, encoderModels, \n",
    "                              queryctxData=valData,\n",
    "                              userCols=[\"pid\"], sharedItemFeatures=True,\n",
    "                              ctxitemCols=[\"prev_traid\", \"prev_albid\", \"prev_artid\"])\n",
    "valFeatures = valData.select(col(\"pid\").alias(\"userid\"), col(\"traid\").alias(\"itemid\"))\n",
    "\n",
    "metadataPath = \"MPD-trans-prev-item.meta\"\n",
    "\n",
    "fitStart = time.time()\n",
    "model = GlintFMPair(\n",
    "    batchSize=1024, stepSize=0.6, linearReg=0.1, factorsReg=0.001, numDims=300,\n",
    "    parameterServerHost=parameterServerHost, numParameterServers=3, maxIter=10,\n",
    "    samplingCol=\"\", sampler=\"crossbatch\", filterItemsCol=\"filteritemids\",\n",
    "    loadMetadata=True, saveMetadata=True, metadataPath=metadataPath\n",
    ").fit(trainFeatures)\n",
    "fitEnd = time.time()\n",
    "fitTime = fitEnd - fitStart\n",
    "\n",
    "hitRate, ndcg = evaluateModel(valqueryFeatures, valFeatures, model)\n",
    "model.destroy()\n",
    "print(\"{:.5f}s fit time\\n{:.6f} hit rate\\n{:.6f} NDCG\".format(fitTime, hitRate, ndcg))\n",
    "\n",
    "# 1735.86304s fit time\n",
    "# 0.037000 hit rate\n",
    "# 0.140176 NDCG"
   ]
  },
  {
   "cell_type": "code",
   "execution_count": 21,
   "metadata": {},
   "outputs": [
    {
     "name": "stdout",
     "output_type": "stream",
     "text": [
      "2189.88675s fit time\n",
      "0.039000 hit rate\n",
      "0.140461 NDCG\n"
     ]
    }
   ],
   "source": [
    "trainFeatures = toFeatures(trainData, encoderModels, sharedItemFeatures=True,\n",
    "                           allUserNameWeights=[0.125], userNameCols=[\"pname\"],\n",
    "                           userCols=[\"pid\"], itemCols=[\"traid\", \"albid\", \"artid\", \"releaseid\"],\n",
    "                           ctxitemCols=[\"prev_traid\", \"prev_albid\", \"prev_artid\", \"prev_releaseid\"]).coalesce(400).cache()\n",
    "valqueryFeatures = toFeatures(valSeedsData, encoderModels, sharedItemFeatures=True, \n",
    "                              queryctxData=valData,\n",
    "                              allUserNameWeights=[0.125], userNameCols=[\"pname\"], userCols=[\"pid\"],\n",
    "                              ctxitemCols=[\"prev_traid\", \"prev_albid\", \"prev_artid\", \"prev_releaseid\"])\n",
    "valFeatures = valData.select(col(\"pid\").alias(\"userid\"), col(\"traid\").alias(\"itemid\"))\n",
    "\n",
    "\n",
    "metadataPath = \"MPD-trans-prev-all.meta\"\n",
    "\n",
    "fitStart = time.time()\n",
    "model = GlintFMPair(\n",
    "    batchSize=1024, stepSize=0.6, linearReg=0.1, factorsReg=0.001, numDims=300,\n",
    "    parameterServerHost=parameterServerHost, numParameterServers=3, maxIter=10,\n",
    "    samplingCol=\"\", sampler=\"crossbatch\", filterItemsCol=\"filteritemids\",\n",
    "    loadMetadata=True, saveMetadata=True, metadataPath=metadataPath\n",
    ").fit(trainFeatures)\n",
    "fitEnd = time.time()\n",
    "fitTime = fitEnd - fitStart\n",
    "\n",
    "hitRate, ndcg = evaluateModel(valqueryFeatures, valFeatures, model)\n",
    "model.destroy()\n",
    "print(\"{:.5f}s fit time\\n{:.6f} hit rate\\n{:.6f} NDCG\".format(fitTime, hitRate, ndcg))"
   ]
  },
  {
   "cell_type": "code",
   "execution_count": 20,
   "metadata": {},
   "outputs": [
    {
     "name": "stdout",
     "output_type": "stream",
     "text": [
      "2232.94610s fit time\n",
      "0.043000 hit rate\n",
      "0.143323 NDCG\n"
     ]
    }
   ],
   "source": [
    "trainFeatures = toFeatures(trainData, encoderModels, sharedItemFeatures=True,\n",
    "                           allUserNameWeights=[0.125], userNameCols=[\"pname\"],\n",
    "                           userCols=[\"pid\"], itemCols=[\"traid\", \"albid\", \"artid\", \"releaseid\"],\n",
    "                           ctxitemCols=[\"prev_traid\", \"prev_albid\", \"prev_artid\", \"prev_releaseid\"]).coalesce(400).cache()\n",
    "valqueryFeatures = toFeatures(valSeedsData, encoderModels, sharedItemFeatures=True, \n",
    "                              queryctxData=valData,\n",
    "                              allUserNameWeights=[0.125], userNameCols=[\"pname\"], userCols=[\"pid\"],\n",
    "                              ctxitemCols=[\"prev_traid\", \"prev_albid\", \"prev_artid\", \"prev_releaseid\"])\n",
    "valFeatures = valData.select(col(\"pid\").alias(\"userid\"), col(\"traid\").alias(\"itemid\"))\n",
    "\n",
    "\n",
    "metadataPath = \"MPD-trans-prev-all.meta\"\n",
    "\n",
    "fitStart = time.time()\n",
    "model = GlintFMPair(\n",
    "    batchSize=1024, stepSize=0.6, linearReg=0.1, factorsReg=0.001, numDims=300,\n",
    "    parameterServerHost=parameterServerHost, numParameterServers=3, maxIter=10,\n",
    "    samplingCol=\"\", sampler=\"crossbatch\", filterItemsCol=\"filteritemids\",\n",
    "    loadMetadata=True, saveMetadata=True, metadataPath=metadataPath\n",
    ").fit(trainFeatures)\n",
    "fitEnd = time.time()\n",
    "fitTime = fitEnd - fitStart\n",
    "\n",
    "hitRate, ndcg = evaluateModel(valqueryFeatures, valFeatures, model)\n",
    "model.destroy()\n",
    "print(\"{:.5f}s fit time\\n{:.6f} hit rate\\n{:.6f} NDCG\".format(fitTime, hitRate, ndcg))"
   ]
  },
  {
   "cell_type": "code",
   "execution_count": 20,
   "metadata": {},
   "outputs": [
    {
     "name": "stdout",
     "output_type": "stream",
     "text": [
      "5385.25767s fit time\n",
      "0.037000 hit rate\n",
      "0.139278 NDCG\n"
     ]
    }
   ],
   "source": [
    "trainFeatures = toFeatures(trainData, encoderModels, sharedItemFeatures=True,\n",
    "                           allUserNameWeights=[0.125], userNameCols=[\"pname\"],\n",
    "                           coldStartUserCols=[\"traid\"],\n",
    "                           userCols=[], itemCols=[\"traid\", \"albid\", \"artid\", \"releaseid\"],\n",
    "                           ctxitemCols=[\"prev_traid\", \"prev_albid\", \"prev_artid\", \"prev_releaseid\"]).coalesce(400).cache()\n",
    "valqueryFeatures = toFeatures(valSeedsData, encoderModels, sharedItemFeatures=True, \n",
    "                              queryctxData=valData,\n",
    "                              allUserNameWeights=[0.125], userNameCols=[\"pname\"], coldStartUserCols=[\"traid\"], userCols=[],\n",
    "                              ctxitemCols=[\"prev_traid\", \"prev_albid\", \"prev_artid\", \"prev_releaseid\"])\n",
    "valFeatures = valData.select(col(\"pid\").alias(\"userid\"), col(\"traid\").alias(\"itemid\"))\n",
    "\n",
    "\n",
    "metadataPath = \"MPD-cold-trans-prev-all.meta\"\n",
    "\n",
    "fitStart = time.time()\n",
    "model = GlintFMPair(\n",
    "    batchSize=1024, stepSize=0.6, linearReg=0.1, factorsReg=0.001, numDims=300,\n",
    "    parameterServerHost=parameterServerHost, numParameterServers=3, maxIter=10,\n",
    "    samplingCol=\"\", sampler=\"crossbatch\", filterItemsCol=\"filteritemids\",\n",
    "    loadMetadata=True, saveMetadata=True, metadataPath=metadataPath\n",
    ").fit(trainFeatures)\n",
    "fitEnd = time.time()\n",
    "fitTime = fitEnd - fitStart\n",
    "\n",
    "hitRate, ndcg = evaluateModel(valqueryFeatures, valFeatures, model)\n",
    "model.destroy()\n",
    "print(\"{:.5f}s fit time\\n{:.6f} hit rate\\n{:.6f} NDCG\".format(fitTime, hitRate, ndcg))"
   ]
  },
  {
   "cell_type": "code",
   "execution_count": null,
   "metadata": {},
   "outputs": [],
   "source": [
    "trainFeatures = toFeatures(trainData, encoderModels, sharedItemFeatures=True,\n",
    "                           allUserNameWeights=[0.125], userNameCols=[\"pname\"],\n",
    "                           userColdStartWeighting=\"equi\",\n",
    "                           coldStartUserCols=[\"traid\"],\n",
    "                           userCols=[], itemCols=[\"traid\", \"albid\", \"artid\", \"releaseid\"],\n",
    "                           ctxitemCols=[\"prev_traid\", \"prev_albid\", \"prev_artid\", \"prev_releaseid\"]).coalesce(400).cache()\n",
    "valqueryFeatures = toFeatures(valSeedsData, encoderModels, sharedItemFeatures=True, \n",
    "                              queryctxData=valData,\n",
    "                              allUserNameWeights=[0.125], userNameCols=[\"pname\"],\n",
    "                              userColdStartWeighting=\"equi\",\n",
    "                              coldStartUserCols=[\"traid\"], userCols=[],\n",
    "                              ctxitemCols=[\"prev_traid\", \"prev_albid\", \"prev_artid\", \"prev_releaseid\"])\n",
    "valFeatures = valData.select(col(\"pid\").alias(\"userid\"), col(\"traid\").alias(\"itemid\"))\n",
    "\n",
    "\n",
    "metadataPath = \"MPD-cold-trans-prev-all.meta\"\n",
    "\n",
    "fitStart = time.time()\n",
    "model = GlintFMPair(\n",
    "    batchSize=1024, stepSize=0.6, linearReg=0.1, factorsReg=0.001, numDims=300,\n",
    "    parameterServerHost=parameterServerHost, numParameterServers=3, maxIter=10,\n",
    "    samplingCol=\"\", sampler=\"crossbatch\", filterItemsCol=\"filteritemids\",\n",
    "    loadMetadata=True, saveMetadata=True, metadataPath=metadataPath\n",
    ").fit(trainFeatures)\n",
    "fitEnd = time.time()\n",
    "fitTime = fitEnd - fitStart\n",
    "\n",
    "hitRate, ndcg = evaluateModel(valqueryFeatures, valFeatures, model)\n",
    "model.destroy()\n",
    "print(\"{:.5f}s fit time\\n{:.6f} hit rate\\n{:.6f} NDCG\".format(fitTime, hitRate, ndcg))\n",
    "\n",
    "# 0.133758 NDCG"
   ]
  },
  {
   "cell_type": "code",
   "execution_count": 20,
   "metadata": {},
   "outputs": [
    {
     "name": "stdout",
     "output_type": "stream",
     "text": [
      "6418.01548s fit time\n",
      "0.000000 hit rate\n",
      "0.000000 NDCG\n"
     ]
    }
   ],
   "source": [
    "trainFeatures = toFeatures(trainData, encoderModels, sharedItemFeatures=True,\n",
    "                           allUserNameWeights=[0.125], userNameCols=[\"pname\"],\n",
    "                           userColdStartWeighting=\"one\",\n",
    "                           coldStartUserCols=[\"traid\"],\n",
    "                           userCols=[], itemCols=[\"traid\", \"albid\", \"artid\", \"releaseid\"],\n",
    "                           ctxitemCols=[\"prev_traid\", \"prev_albid\", \"prev_artid\", \"prev_releaseid\"]).coalesce(400).cache()\n",
    "valqueryFeatures = toFeatures(valSeedsData, encoderModels, sharedItemFeatures=True, \n",
    "                              queryctxData=valData,\n",
    "                              allUserNameWeights=[0.125], userNameCols=[\"pname\"], coldStartUserCols=[\"traid\"], userCols=[],\n",
    "                              ctxitemCols=[\"prev_traid\", \"prev_albid\", \"prev_artid\", \"prev_releaseid\"])\n",
    "valFeatures = valData.select(col(\"pid\").alias(\"userid\"), col(\"traid\").alias(\"itemid\"))\n",
    "\n",
    "\n",
    "metadataPath = \"MPD-cold-trans-prev-all.meta\"\n",
    "\n",
    "fitStart = time.time()\n",
    "model = GlintFMPair(\n",
    "    batchSize=1024, stepSize=0.6, linearReg=0.1, factorsReg=0.001, numDims=300,\n",
    "    parameterServerHost=parameterServerHost, numParameterServers=3, maxIter=10,\n",
    "    samplingCol=\"\", sampler=\"crossbatch\", filterItemsCol=\"filteritemids\",\n",
    "    loadMetadata=True, saveMetadata=True, metadataPath=metadataPath\n",
    ").fit(trainFeatures)\n",
    "fitEnd = time.time()\n",
    "fitTime = fitEnd - fitStart\n",
    "\n",
    "hitRate, ndcg = evaluateModel(valqueryFeatures, valFeatures, model)\n",
    "model.destroy()\n",
    "print(\"{:.5f}s fit time\\n{:.6f} hit rate\\n{:.6f} NDCG\".format(fitTime, hitRate, ndcg))"
   ]
  },
  {
   "cell_type": "markdown",
   "metadata": {},
   "source": [
    "## Final evaluation"
   ]
  },
  {
   "cell_type": "code",
   "execution_count": 35,
   "metadata": {},
   "outputs": [
    {
     "name": "stdout",
     "output_type": "stream",
     "text": [
      "0.10198s fit time\n",
      "0.001000 hit rate\n",
      "0.019462 NDCG\n"
     ]
    }
   ],
   "source": [
    "fitStart = time.time()\n",
    "model = PopRank(filterUserItems=True).fit(trainData.select(col(\"pid\").alias(\"userid\"), col(\"traid\").alias(\"itemid\")))\n",
    "fitEnd = time.time()\n",
    "fitTime = fitEnd - fitStart\n",
    "            \n",
    "hitRate, ndcg, popRankHitRates = evaluateModel(\n",
    "    valSeedsData.select(col(\"pid\").alias(\"userid\"), col(\"traid\").alias(\"itemid\")),\n",
    "    valData.select(col(\"pid\").alias(\"userid\"), col(\"traid\").alias(\"itemid\")),\n",
    "    model, withHitRates=True)\n",
    "print(\"{:.5f}s fit time\\n{:.6f} hit rate\\n{:.6f} NDCG\".format(fitTime, hitRate, ndcg))"
   ]
  },
  {
   "cell_type": "code",
   "execution_count": 36,
   "metadata": {},
   "outputs": [
    {
     "name": "stdout",
     "output_type": "stream",
     "text": [
      "0.09328s fit time\n",
      "0.008000 hit rate\n",
      "0.049862 NDCG\n"
     ]
    }
   ],
   "source": [
    "fitStart = time.time()\n",
    "model = SAGH(filterUserItems=True).fit(\n",
    "    trainData.select(col(\"pid\").alias(\"userid\"), col(\"traid\").alias(\"itemid\"), \"artid\"))\n",
    "fitEnd = time.time()\n",
    "fitTime = fitEnd - fitStart\n",
    "            \n",
    "hitRate, ndcg, saghHitRates = evaluateModel(\n",
    "    valSeedsData.select(col(\"pid\").alias(\"userid\"), col(\"traid\").alias(\"itemid\"), \"artid\"),\n",
    "    valData.select(col(\"pid\").alias(\"userid\"), col(\"traid\").alias(\"itemid\")),\n",
    "    model, withHitRates=True)\n",
    "print(\"{:.5f}s fit time\\n{:.6f} hit rate\\n{:.6f} NDCG\".format(fitTime, hitRate, ndcg))"
   ]
  },
  {
   "cell_type": "code",
   "execution_count": 29,
   "metadata": {},
   "outputs": [
    {
     "name": "stdout",
     "output_type": "stream",
     "text": [
      "10 k\n",
      "0.010000 hit rate\n",
      "0.082170 NDCG\n",
      "50 k\n",
      "0.015000 hit rate\n",
      "0.099304 NDCG\n",
      "100 k\n",
      "0.017000 hit rate\n",
      "0.101515 NDCG\n",
      "150 k\n",
      "0.014000 hit rate\n",
      "0.098603 NDCG\n",
      "200 k\n",
      "0.015000 hit rate\n",
      "0.098978 NDCG\n",
      "250 k\n",
      "0.017000 hit rate\n",
      "0.100175 NDCG\n",
      "300 k\n",
      "0.017000 hit rate\n",
      "0.099544 NDCG\n",
      "350 k\n",
      "0.015000 hit rate\n",
      "0.098489 NDCG\n",
      "400 k\n",
      "0.015000 hit rate\n",
      "0.097493 NDCG\n",
      "450 k\n",
      "0.015000 hit rate\n",
      "0.097460 NDCG\n",
      "500 k\n",
      "0.013000 hit rate\n",
      "0.096539 NDCG\n",
      "1000 k\n",
      "0.011000 hit rate\n",
      "0.093401 NDCG\n"
     ]
    }
   ],
   "source": [
    "ks = [10, 50, 100, 150, 200, 250, 300, 350, 400, 450, 500, 1000]\n",
    "for k in ks:\n",
    "    hitRate, ndcg = evaluateModel(\n",
    "        valSeedsData.select(col(\"pid\").alias(\"userid\"), col(\"traid\").alias(\"itemid\")),\n",
    "        valData.select(col(\"pid\").alias(\"userid\"), col(\"traid\").alias(\"itemid\")),\n",
    "        KNN(filterUserItems=True, k=k),\n",
    "        traindata=trainData.select(col(\"pid\").alias(\"userid\"), col(\"traid\").alias(\"itemid\")))\n",
    "    print(\"{} k\\n{:.6f} hit rate\\n{:.6f} NDCG\".format(k, hitRate, ndcg))"
   ]
  },
  {
   "cell_type": "code",
   "execution_count": 33,
   "metadata": {},
   "outputs": [
    {
     "name": "stdout",
     "output_type": "stream",
     "text": [
      "0.014000 hit rate\n",
      "0.081457 NDCG\n"
     ]
    }
   ],
   "source": [
    "hitRate, ndcg, kHitRates = evaluateModel(\n",
    "    valSeedsData.select(col(\"pid\").alias(\"userid\"), col(\"traid\").alias(\"itemid\"), \"artid\"),\n",
    "    valData.select(col(\"pid\").alias(\"userid\"), col(\"traid\").alias(\"itemid\")),\n",
    "    KNN(filterUserItems=True, k=100), withHitRates=True,\n",
    "    traindata=trainData.select(col(\"pid\").alias(\"userid\"), col(\"traid\").alias(\"itemid\")))\n",
    "print(\"{:.6f} hit rate\\n{:.6f} NDCG\".format(hitRate, ndcg))"
   ]
  },
  {
   "cell_type": "code",
   "execution_count": 22,
   "metadata": {},
   "outputs": [
    {
     "name": "stdout",
     "output_type": "stream",
     "text": [
      "1203.41381s fit time\n",
      "0.006000 hit rate\n",
      "0.070129 NDCG\n"
     ]
    }
   ],
   "source": [
    "trainFeatures = toFeatures(trainData, encoderModels,\n",
    "                           userCols=[\"pid\"], itemCols=[\"traid\"], ctxitemCols=[])\n",
    "valqueryFeatures = toFeatures(valSeedsData, encoderModels, \n",
    "                              queryctxData=valData,\n",
    "                              userCols=[\"pid\"], ctxitemCols=[])\n",
    "valFeatures = valData.select(col(\"pid\").alias(\"userid\"), col(\"traid\").alias(\"itemid\"))\n",
    "\n",
    "\n",
    "metadataPath = \"MPD-final.meta\"\n",
    "\n",
    "fitStart = time.time()\n",
    "model = GlintFMPair(\n",
    "    batchSize=1024, stepSize=1.0, linearReg=0.1, factorsReg=0.001, numDims=300,\n",
    "    parameterServerHost=parameterServerHost, numParameterServers=3, maxIter=10,\n",
    "    samplingCol=\"\", sampler=\"crossbatch\", filterItemsCol=\"filteritemids\",\n",
    "    loadMetadata=True, saveMetadata=True, metadataPath=metadataPath\n",
    ").fit(trainFeatures)\n",
    "fitEnd = time.time()\n",
    "fitTime = fitEnd - fitStart\n",
    "\n",
    "hitRate, ndcg, hitRates = evaluateModel(valqueryFeatures, valFeatures, model, withHitRates=True)\n",
    "model.destroy()\n",
    "print(\"{:.5f}s fit time\\n{:.6f} hit rate\\n{:.6f} NDCG\".format(fitTime, hitRate, ndcg))\n",
    "\n",
    "with open(\"MPD-final-hitRates.pickle\", \"wb\") as f:\n",
    "    pickle.dump(hitRates, f)"
   ]
  },
  {
   "cell_type": "code",
   "execution_count": 20,
   "metadata": {},
   "outputs": [
    {
     "name": "stdout",
     "output_type": "stream",
     "text": [
      "12477.29742s fit time\n",
      "0.005000 hit rate\n",
      "0.072082 NDCG\n"
     ]
    }
   ],
   "source": [
    "trainFeatures = toFeatures(trainData, encoderModels,\n",
    "                           userCols=[\"pid\"], itemCols=[\"traid\"], ctxitemCols=[])\n",
    "valqueryFeatures = toFeatures(valSeedsData, encoderModels, \n",
    "                              queryctxData=valData,\n",
    "                              userCols=[\"pid\"], ctxitemCols=[])\n",
    "valFeatures = valData.select(col(\"pid\").alias(\"userid\"), col(\"traid\").alias(\"itemid\"))\n",
    "\n",
    "\n",
    "metadataPath = \"MPD-final.meta\"\n",
    "\n",
    "fitStart = time.time()\n",
    "model = GlintFMPair(\n",
    "    batchSize=1024, stepSize=1.0, linearReg=0.1, factorsReg=0.001, numDims=300,\n",
    "    parameterServerHost=parameterServerHost, numParameterServers=3, maxIter=100,\n",
    "    samplingCol=\"\", sampler=\"crossbatch\", filterItemsCol=\"filteritemids\",\n",
    "    loadMetadata=True, saveMetadata=True, metadataPath=metadataPath\n",
    ").fit(trainFeatures)\n",
    "fitEnd = time.time()\n",
    "fitTime = fitEnd - fitStart\n",
    "\n",
    "hitRate, ndcg, hitRates = evaluateModel(valqueryFeatures, valFeatures, model, withHitRates=True)\n",
    "model.destroy()\n",
    "print(\"{:.5f}s fit time\\n{:.6f} hit rate\\n{:.6f} NDCG\".format(fitTime, hitRate, ndcg))\n",
    "\n",
    "with open(\"MPD-final-hitRates.pickle\", \"wb\") as f:\n",
    "    pickle.dump(hitRates, f)"
   ]
  },
  {
   "cell_type": "code",
   "execution_count": 20,
   "metadata": {},
   "outputs": [
    {
     "name": "stdout",
     "output_type": "stream",
     "text": [
      "17809.19791s fit time\n",
      "0.032000 hit rate\n",
      "0.122871 NDCG\n"
     ]
    }
   ],
   "source": [
    "trainFeatures = toFeatures(trainData, encoderModels, sharedItemFeatures=True,\n",
    "                           allUserNameWeights=[0.125], userNameCols=[\"pname\"],\n",
    "                           userCols=[\"pid\"], itemCols=[\"traid\", \"albid\", \"artid\", \"releaseid\"],\n",
    "                           ctxitemCols=[\"prev_traid\", \"prev_albid\", \"prev_artid\", \"prev_releaseid\"]).coalesce(400).cache()\n",
    "valqueryFeatures = toFeatures(valSeedsData, encoderModels, sharedItemFeatures=True, \n",
    "                              queryctxData=valData,\n",
    "                              allUserNameWeights=[0.125], userNameCols=[\"pname\"], userCols=[\"pid\"],\n",
    "                              ctxitemCols=[\"prev_traid\", \"prev_albid\", \"prev_artid\", \"prev_releaseid\"])\n",
    "valFeatures = valData.select(col(\"pid\").alias(\"userid\"), col(\"traid\").alias(\"itemid\"))\n",
    "\n",
    "\n",
    "metadataPath = \"MPD-final-trans-prev-all.meta\"\n",
    "\n",
    "fitStart = time.time()\n",
    "model = GlintFMPair(\n",
    "    batchSize=1024, stepSize=0.6, linearReg=0.1, factorsReg=0.001, numDims=300,\n",
    "    parameterServerHost=parameterServerHost, numParameterServers=3, maxIter=100,\n",
    "    samplingCol=\"\", sampler=\"crossbatch\", filterItemsCol=\"filteritemids\",\n",
    "    loadMetadata=True, saveMetadata=True, metadataPath=metadataPath\n",
    ").fit(trainFeatures)\n",
    "fitEnd = time.time()\n",
    "fitTime = fitEnd - fitStart\n",
    "\n",
    "hitRate, ndcg = evaluateModel(valqueryFeatures, valFeatures, model)\n",
    "model.destroy()\n",
    "print(\"{:.5f}s fit time\\n{:.6f} hit rate\\n{:.6f} NDCG\".format(fitTime, hitRate, ndcg))"
   ]
  },
  {
   "cell_type": "code",
   "execution_count": 20,
   "metadata": {},
   "outputs": [
    {
     "name": "stdout",
     "output_type": "stream",
     "text": [
      "12449.02096s fit time\n",
      "0.032000 hit rate\n",
      "0.124586 NDCG\n"
     ]
    }
   ],
   "source": [
    "trainFeatures = toFeatures(trainData, encoderModels, sharedItemFeatures=True,\n",
    "                           allUserNameWeights=[0.125], userNameCols=[\"pname\"],\n",
    "                           userCols=[\"pid\"], itemCols=[\"traid\", \"albid\", \"artid\", \"releaseid\"],\n",
    "                           ctxitemCols=[\"prev_traid\", \"prev_albid\", \"prev_artid\", \"prev_releaseid\"]).coalesce(400).cache()\n",
    "valqueryFeatures = toFeatures(valSeedsData, encoderModels, sharedItemFeatures=True, \n",
    "                              queryctxData=valData,\n",
    "                              allUserNameWeights=[0.125], userNameCols=[\"pname\"], userCols=[\"pid\"],\n",
    "                              ctxitemCols=[\"prev_traid\", \"prev_albid\", \"prev_artid\", \"prev_releaseid\"])\n",
    "valFeatures = valData.select(col(\"pid\").alias(\"userid\"), col(\"traid\").alias(\"itemid\"))\n",
    "\n",
    "\n",
    "metadataPath = \"MPD-final-trans-prev-all.meta\"\n",
    "\n",
    "fitStart = time.time()\n",
    "model = GlintFMPair(\n",
    "    batchSize=1024, stepSize=0.6, linearReg=0.1, factorsReg=0.001, numDims=300,\n",
    "    parameterServerHost=parameterServerHost, numParameterServers=3, maxIter=100,\n",
    "    samplingCol=\"\", sampler=\"crossbatch\", filterItemsCol=\"filteritemids\",\n",
    "    loadMetadata=True, saveMetadata=True, metadataPath=metadataPath\n",
    ").fit(trainFeatures)\n",
    "fitEnd = time.time()\n",
    "fitTime = fitEnd - fitStart\n",
    "\n",
    "hitRate, ndcg, hitRates = evaluateModel(valqueryFeatures, valFeatures, model, withHitRates=True)\n",
    "print(\"{:.5f}s fit time\\n{:.6f} hit rate\\n{:.6f} NDCG\".format(fitTime, hitRate, ndcg))\n",
    "with open(\"MPD-final-prev-all-hitRates.pickle\", \"wb\") as f:\n",
    "    pickle.dump(hitRates, f)\n",
    "    \n",
    "model.destroy(terminateOtherClients=True)"
   ]
  },
  {
   "cell_type": "code",
   "execution_count": null,
   "metadata": {},
   "outputs": [],
   "source": [
    "with open(\"MPD-final-hitRates.pickle\", \"rb\") as f:\n",
    "    hitRates = pickle.load(f)\n",
    "\n",
    "with open(\"MPD-final-prev-all-hitRates.pickle\", \"rb\") as f:\n",
    "    hitRates2 = pickle.load(f)"
   ]
  },
  {
   "cell_type": "code",
   "execution_count": 45,
   "metadata": {},
   "outputs": [
    {
     "data": {
      "image/png": "[encoded data removed]",
      "text/plain": [
       "<Figure size 648x360 with 1 Axes>"
      ]
     },
     "metadata": {
      "needs_background": "light"
     },
     "output_type": "display_data"
    }
   ],
   "source": [
    "plt.figure(figsize=(9, 5))\n",
    "plt.plot(popRankHitRates, color=\"yellowgreen\")\n",
    "plt.plot(saghHitRates, color=\"lime\")\n",
    "plt.plot(kHitRates, color=\"green\")\n",
    "plt.plot(hitRates, color=\"orange\")\n",
    "plt.plot(hitRates2, color=\"red\")\n",
    "\n",
    "yellowgreen_patch = mpatches.Patch(color=\"yellowgreen\",\n",
    "                                   label=\"0.019462 Pop Rank\")\n",
    "green_patch = mpatches.Patch(color=\"lime\",\n",
    "                             label=\"0.049862 SAGH\")\n",
    "dgreen_patch = mpatches.Patch(color=\"green\",\n",
    "                              label=\"0.081457 kNN, k 100\")\n",
    "orange_patch = mpatches.Patch(color=\"orange\",\n",
    "                              label=\"0.072082 FM\")\n",
    "red_patch = mpatches.Patch(color=\"red\",\n",
    "                           label=\"0.124586 FM, trans prev + all\")\n",
    "patches = [red_patch, dgreen_patch, orange_patch,\n",
    "           green_patch, yellowgreen_patch]\n",
    "plt.legend(handles=patches, loc=\"lower right\")\n",
    "\n",
    "plt.ylabel(\"hit rate\")\n",
    "plt.xlabel(\"recommendations\")\n",
    "plt.title(\"Spotify MPD\")\n",
    "\n",
    "plt.savefig(\"MPD-baselines.png\", bbox_inches=\"tight\");"
   ]
  },
  {
   "cell_type": "markdown",
   "metadata": {},
   "source": [
    "## Final cold-start evaluation"
   ]
  },
  {
   "cell_type": "code",
   "execution_count": 23,
   "metadata": {},
   "outputs": [
    {
     "name": "stdout",
     "output_type": "stream",
     "text": [
      "0.23967s fit time\n",
      "0.079953 NDCG\n"
     ]
    }
   ],
   "source": [
    "fitStart = time.time()\n",
    "model = PopRank(filterUserItems=True).fit(trainData.select(col(\"pid\").alias(\"userid\"), col(\"traid\").alias(\"itemid\")))\n",
    "fitEnd = time.time()\n",
    "fitTime = fitEnd - fitStart\n",
    "            \n",
    "ndcg, popRankHitRates = evaluateModelMulti(\n",
    "    valSeedsData.select(col(\"pid\").alias(\"userid\"), col(\"traid\").alias(\"itemid\")),\n",
    "    valData.select(col(\"pid\").alias(\"userid\"), col(\"traid\").alias(\"itemid\")),\n",
    "    model, withHitRates=True)\n",
    "print(\"{:.5f}s fit time\\n{:.6f} NDCG\".format(fitTime, ndcg))"
   ]
  },
  {
   "cell_type": "code",
   "execution_count": 24,
   "metadata": {},
   "outputs": [
    {
     "name": "stdout",
     "output_type": "stream",
     "text": [
      "0.09313s fit time\n",
      "0.096829 NDCG\n"
     ]
    }
   ],
   "source": [
    "fitStart = time.time()\n",
    "model = SAGH(filterUserItems=True).fit(\n",
    "    trainData.select(col(\"pid\").alias(\"userid\"), col(\"traid\").alias(\"itemid\"), \"artid\"))\n",
    "fitEnd = time.time()\n",
    "fitTime = fitEnd - fitStart\n",
    "            \n",
    "ndcg, saghHitRates = evaluateModelMulti(\n",
    "    valSeedsData.select(col(\"pid\").alias(\"userid\"), col(\"traid\").alias(\"itemid\"), \"artid\"),\n",
    "    valData.select(col(\"pid\").alias(\"userid\"), col(\"traid\").alias(\"itemid\")),\n",
    "    model, withHitRates=True)\n",
    "print(\"{:.5f}s fit time\\n{:.6f} NDCG\".format(fitTime, ndcg))"
   ]
  },
  {
   "cell_type": "code",
   "execution_count": 25,
   "metadata": {},
   "outputs": [
    {
     "name": "stdout",
     "output_type": "stream",
     "text": [
      "0.307606 NDCG\n"
     ]
    }
   ],
   "source": [
    "ndcg, kHitRates = evaluateModelMulti(\n",
    "    valSeedsData.select(col(\"pid\").alias(\"userid\"), col(\"traid\").alias(\"itemid\")),\n",
    "    valData.select(col(\"pid\").alias(\"userid\"), col(\"traid\").alias(\"itemid\")),\n",
    "    KNN(filterUserItems=True, k=100), withHitRates=True,\n",
    "    traindata=trainData.select(col(\"pid\").alias(\"userid\"), col(\"traid\").alias(\"itemid\")))\n",
    "print(\"{:.6f} NDCG\".format(ndcg))"
   ]
  },
  {
   "cell_type": "code",
   "execution_count": 21,
   "metadata": {},
   "outputs": [
    {
     "name": "stdout",
     "output_type": "stream",
     "text": [
      "4645.22943s fit time\n",
      "0.168570 NDCG\n"
     ]
    }
   ],
   "source": [
    "trainFeatures = toFeatures(trainData, encoderModels,\n",
    "                           coldStartUserCols=[\"traid\"],\n",
    "                           userCols=[], itemCols=[\"traid\"], ctxitemCols=[]).coalesce(400).cache()\n",
    "valqueryFeatures = toFeatures(valSeedsData, encoderModels, \n",
    "                              queryctxData=valCtxData,\n",
    "                              coldStartUserCols=[\"traid\"],\n",
    "                              userCols=[], ctxitemCols=[])\n",
    "valFeatures = valData.select(col(\"pid\").alias(\"userid\"), col(\"traid\").alias(\"itemid\"))\n",
    "\n",
    "\n",
    "metadataPath = \"MPD-final-seeds2.meta\"\n",
    "\n",
    "fitStart = time.time()\n",
    "model = GlintFMPair(\n",
    "    batchSize=1024, stepSize=0.6, linearReg=0.1, factorsReg=0.001, numDims=300,\n",
    "    parameterServerHost=parameterServerHost, numParameterServers=3, maxIter=10,\n",
    "    samplingCol=\"\", sampler=\"crossbatch\", filterItemsCol=\"filteritemids\",\n",
    "    loadMetadata=True, saveMetadata=True, metadataPath=metadataPath\n",
    ").fit(trainFeatures)\n",
    "fitEnd = time.time()\n",
    "fitTime = fitEnd - fitStart\n",
    "\n",
    "ndcg = evaluateModelMulti(valqueryFeatures, valFeatures, model)\n",
    "model.destroy()\n",
    "print(\"{:.5f}s fit time\\n{:.6f} NDCG\".format(fitTime, ndcg))"
   ]
  },
  {
   "cell_type": "code",
   "execution_count": null,
   "metadata": {},
   "outputs": [],
   "source": [
    "trainFeatures = toFeatures(trainData, encoderModels,\n",
    "                           coldStartUserCols=[\"traid\"],\n",
    "                           userCols=[], itemCols=[\"traid\"], ctxitemCols=[]).coalesce(400).cache()\n",
    "valqueryFeatures = toFeatures(valSeedsData, encoderModels, \n",
    "                              queryctxData=valCtxData,\n",
    "                              coldStartUserCols=[\"traid\"],\n",
    "                              userCols=[], ctxitemCols=[])\n",
    "valFeatures = valData.select(col(\"pid\").alias(\"userid\"), col(\"traid\").alias(\"itemid\"))\n",
    "\n",
    "\n",
    "metadataPath = \"MPD-final-seeds2.meta\"\n",
    "\n",
    "fitStart = time.time()\n",
    "model = GlintFMPair(\n",
    "    batchSize=1024, stepSize=0.6, linearReg=0.1, factorsReg=0.001, numDims=300,\n",
    "    parameterServerHost=parameterServerHost, numParameterServers=3, maxIter=10,\n",
    "    samplingCol=\"\", sampler=\"crossbatch\", filterItemsCol=\"filteritemids\",\n",
    "    loadMetadata=True, saveMetadata=True, metadataPath=metadataPath\n",
    ").fit(trainFeatures)\n",
    "fitEnd = time.time()\n",
    "fitTime = fitEnd - fitStart\n",
    "\n",
    "ndcg = evaluateModelMulti(valqueryFeatures, valFeatures, model)\n",
    "model.destroy()\n",
    "print(\"{:.5f}s fit time\\n{:.6f} NDCG\".format(fitTime, ndcg))\n",
    "\n",
    "with open(\"MPD-final-seeds-hitRates.pickle\", \"wb\") as f:\n",
    "    pickle.dump(hitRates, f)\n",
    "\n",
    "# 57678.36900s fit time\n",
    "# 0.184790 NDCG"
   ]
  },
  {
   "cell_type": "code",
   "execution_count": 20,
   "metadata": {},
   "outputs": [
    {
     "name": "stdout",
     "output_type": "stream",
     "text": [
      "6202.73424s fit time\n",
      "0.240857 NDCG\n"
     ]
    }
   ],
   "source": [
    "trainFeatures = toFeatures(trainData, encoderModels, sharedItemFeatures=True,\n",
    "                           allUserNameWeights=[0.125], userNameCols=[\"pname\"],\n",
    "                           coldStartUserCols=[\"traid\"],\n",
    "                           userCols=[], itemCols=[\"traid\", \"albid\", \"artid\", \"releaseid\"],\n",
    "                           ctxitemCols=[\"prev_traid\", \"prev_albid\", \"prev_artid\", \"prev_releaseid\"]).coalesce(400).cache()\n",
    "valqueryFeatures = toFeatures(valSeedsData, encoderModels, sharedItemFeatures=True, \n",
    "                              queryctxData=valCtxData,\n",
    "                              allUserNameWeights=[0.125], userNameCols=[\"pname\"], coldStartUserCols=[\"traid\"], userCols=[],\n",
    "                              ctxitemCols=[\"prev_traid\", \"prev_albid\", \"prev_artid\", \"prev_releaseid\"])\n",
    "valFeatures = valData.select(col(\"pid\").alias(\"userid\"), col(\"traid\").alias(\"itemid\"))\n",
    "\n",
    "\n",
    "metadataPath = \"MPD-final-seeds-trans-prev-all.meta\"\n",
    "\n",
    "fitStart = time.time()\n",
    "model = GlintFMPair(\n",
    "    batchSize=1024, stepSize=0.6, linearReg=0.1, factorsReg=0.001, numDims=300,\n",
    "    parameterServerHost=parameterServerHost, numParameterServers=3, maxIter=10,\n",
    "    samplingCol=\"\", sampler=\"crossbatch\", filterItemsCol=\"filteritemids\",\n",
    "    loadMetadata=True, saveMetadata=True, metadataPath=metadataPath\n",
    ").fit(trainFeatures)\n",
    "fitEnd = time.time()\n",
    "fitTime = fitEnd - fitStart\n",
    "\n",
    "ndcg, hitRates = evaluateModelMulti(valqueryFeatures, valFeatures, model, withHitRates=True)\n",
    "model.destroy()\n",
    "print(\"{:.5f}s fit time\\n{:.6f} NDCG\".format(fitTime, ndcg))\n",
    "\n",
    "with open(\"MPD-final-seeds-trans-prev-all-hitRates.pickle\", \"wb\") as f:\n",
    "    pickle.dump(hitRates, f)"
   ]
  },
  {
   "cell_type": "code",
   "execution_count": null,
   "metadata": {},
   "outputs": [],
   "source": [
    "trainFeatures = toFeatures(trainData, encoderModels, sharedItemFeatures=True,\n",
    "                           allUserNameWeights=[0.125], userNameCols=[\"pname\"],\n",
    "                           coldStartUserCols=[\"traid\"],\n",
    "                           userCols=[], itemCols=[\"traid\", \"albid\", \"artid\", \"releaseid\"],\n",
    "                           ctxitemCols=[\"prev_traid\", \"prev_albid\", \"prev_artid\", \"prev_releaseid\"]).coalesce(400).cache()\n",
    "valqueryFeatures = toFeatures(valSeedsData, encoderModels, sharedItemFeatures=True, \n",
    "                              queryctxData=valCtxData,\n",
    "                              allUserNameWeights=[0.125], userNameCols=[\"pname\"], coldStartUserCols=[\"traid\"], userCols=[],\n",
    "                              ctxitemCols=[\"prev_traid\", \"prev_albid\", \"prev_artid\", \"prev_releaseid\"])\n",
    "valFeatures = valData.select(col(\"pid\").alias(\"userid\"), col(\"traid\").alias(\"itemid\"))\n",
    "\n",
    "\n",
    "metadataPath = \"MPD-final-seeds-trans-prev-all.meta\"\n",
    "\n",
    "fitStart = time.time()\n",
    "model = GlintFMPair(\n",
    "    batchSize=1024, stepSize=0.6, linearReg=0.1, factorsReg=0.001, numDims=300,\n",
    "    parameterServerHost=parameterServerHost, numParameterServers=3, maxIter=100,\n",
    "    samplingCol=\"\", sampler=\"crossbatch\", filterItemsCol=\"filteritemids\",\n",
    "    loadMetadata=True, saveMetadata=True, metadataPath=metadataPath\n",
    ").fit(trainFeatures)\n",
    "fitEnd = time.time()\n",
    "fitTime = fitEnd - fitStart\n",
    "\n",
    "ndcg, hitRates = evaluateModelMulti(valqueryFeatures, valFeatures, model, withHitRates=True)\n",
    "model.destroy()\n",
    "print(\"{:.5f}s fit time\\n{:.6f} NDCG\".format(fitTime, ndcg))\n",
    "\n",
    "with open(\"MPD-final-seeds-trans-prev-all-hitRates.pickle\", \"wb\") as f:\n",
    "    pickle.dump(hitRates, f)\n",
    "    \n",
    "# 53675.63951s fit time\n",
    "# 0.255734 NDCG"
   ]
  },
  {
   "cell_type": "code",
   "execution_count": 27,
   "metadata": {},
   "outputs": [],
   "source": [
    "with open(\"MPD-final-seeds-hitRates.pickle\", \"rb\") as f:\n",
    "    hitRates = pickle.load(f)\n",
    "\n",
    "with open(\"MPD-final-seeds-trans-prev-all-hitRates.pickle\", \"rb\") as f:\n",
    "    hitRates2 = pickle.load(f)"
   ]
  },
  {
   "cell_type": "code",
   "execution_count": 29,
   "metadata": {},
   "outputs": [
    {
     "data": {
      "image/png": "[encoded data removed]",
      "text/plain": [
       "<Figure size 648x360 with 1 Axes>"
      ]
     },
     "metadata": {
      "needs_background": "light"
     },
     "output_type": "display_data"
    }
   ],
   "source": [
    "plt.figure(figsize=(9, 5))\n",
    "plt.plot(popRankHitRates, color=\"yellowgreen\")\n",
    "plt.plot(saghHitRates, color=\"lime\")\n",
    "plt.plot(kHitRates, color=\"green\")\n",
    "plt.plot(hitRates, color=\"orange\")\n",
    "plt.plot(hitRates2, color=\"red\")\n",
    "\n",
    "yellowgreen_patch = mpatches.Patch(color=\"yellowgreen\",\n",
    "                                   label=\"0.079953 Pop Rank\")\n",
    "green_patch = mpatches.Patch(color=\"lime\",\n",
    "                             label=\"0.096829 SAGH\")\n",
    "dgreen_patch = mpatches.Patch(color=\"green\",\n",
    "                              label=\"0.307607 kNN, k 100\")\n",
    "orange_patch = mpatches.Patch(color=\"orange\",\n",
    "                              label=\"0.184790 FM\")\n",
    "red_patch = mpatches.Patch(color=\"red\",\n",
    "                           label=\"0.255734 FM, trans prev + all\")\n",
    "patches = [dgreen_patch, red_patch, orange_patch,\n",
    "           green_patch, yellowgreen_patch]\n",
    "plt.legend(handles=patches, loc=\"lower right\")\n",
    "\n",
    "plt.ylabel(\"hit rate\")\n",
    "plt.xlabel(\"recommendations\")\n",
    "plt.title(\"Spotify MPD\")\n",
    "\n",
    "plt.savefig(\"MPD-cold-baselines.png\", bbox_inches=\"tight\");"
   ]
  }
 ],
 "metadata": {
  "kernelspec": {
   "display_name": "PySpark3",
   "language": "python",
   "name": "pyspark3kernel"
  },
  "language_info": {
   "codemirror_mode": {
    "name": "ipython",
    "version": 3
   },
   "file_extension": ".py",
   "mimetype": "text/x-python",
   "name": "python",
   "nbconvert_exporter": "python",
   "pygments_lexer": "ipython3",
   "version": "3.6.6"
  }
 },
 "nbformat": 4,
 "nbformat_minor": 2
}
