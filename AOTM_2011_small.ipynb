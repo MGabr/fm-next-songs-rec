{
  "nbformat": 4,
  "nbformat_minor": 0,
  "metadata": {
    "colab": {
      "name": "AOTM-2011-small.ipynb",
      "provenance": [],
      "toc_visible": true,
      "include_colab_link": true
    },
    "kernelspec": {
      "name": "python3",
      "display_name": "Python 3"
    }
  },
  "cells": [
    {
      "cell_type": "markdown",
      "metadata": {
        "id": "view-in-github",
        "colab_type": "text"
      },
      "source": [
        "<a href=\"https://colab.research.google.com/github/MGabr/fm-next-songs-rec/blob/master/AOTM_2011_small.ipynb\" target=\"_parent\"><img src=\"https://colab.research.google.com/assets/colab-badge.svg\" alt=\"Open In Colab\"/></a>"
      ]
    },
    {
      "cell_type": "markdown",
      "metadata": {
        "id": "VSnSWD_gis7Q",
        "colab_type": "text"
      },
      "source": [
        "<font size=\"6\">**AOTM-2011 small**</font>"
      ]
    },
    {
      "cell_type": "markdown",
      "metadata": {
        "id": "HxbLq9FXLJ13",
        "colab_type": "text"
      },
      "source": [
        "# Data loading and preprocessing"
      ]
    },
    {
      "cell_type": "markdown",
      "metadata": {
        "id": "_tilWFjDLvrv",
        "colab_type": "text"
      },
      "source": [
        "This notebook creates a small preprocessed subset of the AOTM-2011 dataset, split into train, test and test query dataset and saves the datasets as csv files."
      ]
    },
    {
      "cell_type": "markdown",
      "metadata": {
        "id": "slCLYW8DMl9z",
        "colab_type": "text"
      },
      "source": [
        "These csv files can loaded as Spark dataframes and used for integration tests of Spark recommenders. The preprocessing transforms each string column of labels to a column of label indices similar to Spark's *StringIndexer*. Unknown labels or NaNs are transformed to the largest label index for compatibility with Spark's *OneHotEncoderEstimator*."
      ]
    },
    {
      "cell_type": "code",
      "metadata": {
        "id": "ykIWpaRfinbJ",
        "colab_type": "code",
        "colab": {}
      },
      "source": [
        "import os\n",
        "\n",
        "import pandas as pd\n",
        "import numpy as np\n",
        "\n",
        "from google.colab import drive, files"
      ],
      "execution_count": 0,
      "outputs": []
    },
    {
      "cell_type": "code",
      "metadata": {
        "id": "JyZk3Fmki7Mh",
        "colab_type": "code",
        "outputId": "f42b2f61-6658-4b1d-94ac-1436b2f6dd6c",
        "colab": {
          "base_uri": "https://localhost:8080/",
          "height": 136
        }
      },
      "source": [
        "os.chdir(\"/\")\n",
        "drive.mount(\"/drive\", force_remount=True)\n",
        "\n",
        "!ls \"/drive/My Drive/datasets\"\n",
        "!gunzip -k -c \"/drive/My Drive/datasets/aotm2011_playlists.json.gz\" > \"aotm2011_playlists.json\"\n",
        "\n",
        "os.chdir(\"/drive/My Drive/\")\n",
        "if not os.path.exists(\"models\"):\n",
        "  os.mkdir(\"models\")\n",
        "if not os.path.exists(\"models/aotm-2011\"):\n",
        "  os.mkdir(\"models/aotm-2011\")\n",
        "os.chdir(\"/\")"
      ],
      "execution_count": 2,
      "outputs": [
        {
          "output_type": "stream",
          "text": [
            "Go to this URL in a browser: https://accounts.google.com/o/oauth2/auth?client_id=947318989803-6bn6qk8qdgf4n4g3pfee6491hc0brc4i.apps.googleusercontent.com&redirect_uri=urn%3aietf%3awg%3aoauth%3a2.0%3aoob&response_type=code&scope=email%20https%3a%2f%2fwww.googleapis.com%2fauth%2fdocs.test%20https%3a%2f%2fwww.googleapis.com%2fauth%2fdrive%20https%3a%2f%2fwww.googleapis.com%2fauth%2fdrive.photos.readonly%20https%3a%2f%2fwww.googleapis.com%2fauth%2fpeopleapi.readonly\n",
            "\n",
            "Enter your authorization code:\n",
            "··········\n",
            "Mounted at /drive\n",
            "aotm2011_playlists.json.gz  lastfm-dataset-1K.tar.gz  msd_summary_file.h5\n"
          ],
          "name": "stdout"
        }
      ]
    },
    {
      "cell_type": "code",
      "metadata": {
        "id": "ll98JWR4jJel",
        "colab_type": "code",
        "colab": {}
      },
      "source": [
        "playlists_filename = \"aotm2011_playlists.json\"\n",
        "msd_filename = \"/drive/My Drive/datasets/msd_summary_file.h5\"\n",
        "models_dirname = \"/drive/My Drive/models/aotm-2011/\""
      ],
      "execution_count": 0,
      "outputs": []
    },
    {
      "cell_type": "code",
      "metadata": {
        "id": "1p1noq9ijJxf",
        "colab_type": "code",
        "outputId": "f84bab1f-fce8-40c5-97ca-b6154b890fcb",
        "colab": {
          "base_uri": "https://localhost:8080/",
          "height": 447
        }
      },
      "source": [
        "df = pd.read_json(playlists_filename, orient=\"records\")\n",
        "\n",
        "df.head()"
      ],
      "execution_count": 4,
      "outputs": [
        {
          "output_type": "execute_result",
          "data": {
            "text/html": [
              "<div>\n",
              "<style scoped>\n",
              "    .dataframe tbody tr th:only-of-type {\n",
              "        vertical-align: middle;\n",
              "    }\n",
              "\n",
              "    .dataframe tbody tr th {\n",
              "        vertical-align: top;\n",
              "    }\n",
              "\n",
              "    .dataframe thead th {\n",
              "        text-align: right;\n",
              "    }\n",
              "</style>\n",
              "<table border=\"1\" class=\"dataframe\">\n",
              "  <thead>\n",
              "    <tr style=\"text-align: right;\">\n",
              "      <th></th>\n",
              "      <th>category</th>\n",
              "      <th>filtered_lists</th>\n",
              "      <th>playlist</th>\n",
              "      <th>timestamp</th>\n",
              "      <th>mix_id</th>\n",
              "      <th>user</th>\n",
              "    </tr>\n",
              "  </thead>\n",
              "  <tbody>\n",
              "    <tr>\n",
              "      <th>0</th>\n",
              "      <td>Mixed Genre</td>\n",
              "      <td>[[SOFDPDC12A58A7D198], [SOPIEQP12A8C13F268, SO...</td>\n",
              "      <td>[[[peter murphy, marlene dietrich's favourite ...</td>\n",
              "      <td>2005-03-27 10:53:00</td>\n",
              "      <td>89567</td>\n",
              "      <td>{'mixes_posted': '23', 'member_since': '2004-0...</td>\n",
              "    </tr>\n",
              "    <tr>\n",
              "      <th>1</th>\n",
              "      <td>Theme</td>\n",
              "      <td>[[SOQOVCB12A58A7E83B], [SOGKLYN12AB017F155, SO...</td>\n",
              "      <td>[[[The Cure, Edge Of the Deep Green Sea], None...</td>\n",
              "      <td>2008-01-11 21:45:00</td>\n",
              "      <td>117124</td>\n",
              "      <td>{'mixes_posted': '7', 'member_since': '2006-11...</td>\n",
              "    </tr>\n",
              "    <tr>\n",
              "      <th>2</th>\n",
              "      <td>Theme</td>\n",
              "      <td>[[SOFIQBR12A6D4F78C6]]</td>\n",
              "      <td>[[[Peter Gabriel, The Feeling Begins], None], ...</td>\n",
              "      <td>2005-10-31 10:15:00</td>\n",
              "      <td>97418</td>\n",
              "      <td>{'mixes_posted': '93', 'member_since': '2003-1...</td>\n",
              "    </tr>\n",
              "    <tr>\n",
              "      <th>3</th>\n",
              "      <td>Theme</td>\n",
              "      <td>[[SORJUFZ12A67ADAF25, SOEELNN12AB018AC8D], [SO...</td>\n",
              "      <td>[[[The Animals, San Francisco Nights], None], ...</td>\n",
              "      <td>2002-03-20 17:59:00</td>\n",
              "      <td>23876</td>\n",
              "      <td>{'mixes_posted': '8', 'member_since': '2002-03...</td>\n",
              "    </tr>\n",
              "    <tr>\n",
              "      <th>4</th>\n",
              "      <td>Theme</td>\n",
              "      <td>[[SOOUYTP12B0B8094B6, SOAJODS12A8C138A23], [SO...</td>\n",
              "      <td>[[[Sparklehorse, It's a Wonderful Life], SOOUY...</td>\n",
              "      <td>2004-03-23 03:43:00</td>\n",
              "      <td>70694</td>\n",
              "      <td>{'mixes_posted': '60', 'member_since': '2004-0...</td>\n",
              "    </tr>\n",
              "  </tbody>\n",
              "</table>\n",
              "</div>"
            ],
            "text/plain": [
              "      category  ...                                               user\n",
              "0  Mixed Genre  ...  {'mixes_posted': '23', 'member_since': '2004-0...\n",
              "1        Theme  ...  {'mixes_posted': '7', 'member_since': '2006-11...\n",
              "2        Theme  ...  {'mixes_posted': '93', 'member_since': '2003-1...\n",
              "3        Theme  ...  {'mixes_posted': '8', 'member_since': '2002-03...\n",
              "4        Theme  ...  {'mixes_posted': '60', 'member_since': '2004-0...\n",
              "\n",
              "[5 rows x 6 columns]"
            ]
          },
          "metadata": {
            "tags": []
          },
          "execution_count": 4
        }
      ]
    },
    {
      "cell_type": "code",
      "metadata": {
        "id": "9oV3O-3IjL0L",
        "colab_type": "code",
        "outputId": "3d6e38f2-e250-4505-e0a8-332dd5389ec9",
        "colab": {
          "base_uri": "https://localhost:8080/",
          "height": 281
        }
      },
      "source": [
        "df[\"pid\"] = df[\"mix_id\"]\n",
        "df[\"userid\"] = df[\"user\"].map(lambda u: u[\"name\"])\n",
        "\n",
        "# explode into sessions consecutive of tracks with MSD ids in playlists\n",
        "s = df[\"filtered_lists\"].apply(pd.Series)\n",
        "id_vars = [\"category\", \"pid\", \"timestamp\", \"userid\"]\n",
        "df = df[id_vars]\n",
        "df = s.merge(df, left_index=True, right_index=True)\n",
        "df = pd.melt(df, id_vars, var_name=\"sid\", value_name=\"filtered_list\")\n",
        "df = df[~df[\"filtered_list\"].isnull()]\n",
        "\n",
        "df.head()"
      ],
      "execution_count": 5,
      "outputs": [
        {
          "output_type": "execute_result",
          "data": {
            "text/html": [
              "<div>\n",
              "<style scoped>\n",
              "    .dataframe tbody tr th:only-of-type {\n",
              "        vertical-align: middle;\n",
              "    }\n",
              "\n",
              "    .dataframe tbody tr th {\n",
              "        vertical-align: top;\n",
              "    }\n",
              "\n",
              "    .dataframe thead th {\n",
              "        text-align: right;\n",
              "    }\n",
              "</style>\n",
              "<table border=\"1\" class=\"dataframe\">\n",
              "  <thead>\n",
              "    <tr style=\"text-align: right;\">\n",
              "      <th></th>\n",
              "      <th>category</th>\n",
              "      <th>pid</th>\n",
              "      <th>timestamp</th>\n",
              "      <th>userid</th>\n",
              "      <th>sid</th>\n",
              "      <th>filtered_list</th>\n",
              "    </tr>\n",
              "  </thead>\n",
              "  <tbody>\n",
              "    <tr>\n",
              "      <th>0</th>\n",
              "      <td>Mixed Genre</td>\n",
              "      <td>89567</td>\n",
              "      <td>2005-03-27 10:53:00</td>\n",
              "      <td>pulmotor</td>\n",
              "      <td>0</td>\n",
              "      <td>[SOFDPDC12A58A7D198]</td>\n",
              "    </tr>\n",
              "    <tr>\n",
              "      <th>1</th>\n",
              "      <td>Theme</td>\n",
              "      <td>117124</td>\n",
              "      <td>2008-01-11 21:45:00</td>\n",
              "      <td>caterpillar</td>\n",
              "      <td>0</td>\n",
              "      <td>[SOQOVCB12A58A7E83B]</td>\n",
              "    </tr>\n",
              "    <tr>\n",
              "      <th>2</th>\n",
              "      <td>Theme</td>\n",
              "      <td>97418</td>\n",
              "      <td>2005-10-31 10:15:00</td>\n",
              "      <td>gobi</td>\n",
              "      <td>0</td>\n",
              "      <td>[SOFIQBR12A6D4F78C6]</td>\n",
              "    </tr>\n",
              "    <tr>\n",
              "      <th>3</th>\n",
              "      <td>Theme</td>\n",
              "      <td>23876</td>\n",
              "      <td>2002-03-20 17:59:00</td>\n",
              "      <td>Osmundson</td>\n",
              "      <td>0</td>\n",
              "      <td>[SORJUFZ12A67ADAF25, SOEELNN12AB018AC8D]</td>\n",
              "    </tr>\n",
              "    <tr>\n",
              "      <th>4</th>\n",
              "      <td>Theme</td>\n",
              "      <td>70694</td>\n",
              "      <td>2004-03-23 03:43:00</td>\n",
              "      <td>ManOSand</td>\n",
              "      <td>0</td>\n",
              "      <td>[SOOUYTP12B0B8094B6, SOAJODS12A8C138A23]</td>\n",
              "    </tr>\n",
              "  </tbody>\n",
              "</table>\n",
              "</div>"
            ],
            "text/plain": [
              "      category     pid  ... sid                             filtered_list\n",
              "0  Mixed Genre   89567  ...   0                      [SOFDPDC12A58A7D198]\n",
              "1        Theme  117124  ...   0                      [SOQOVCB12A58A7E83B]\n",
              "2        Theme   97418  ...   0                      [SOFIQBR12A6D4F78C6]\n",
              "3        Theme   23876  ...   0  [SORJUFZ12A67ADAF25, SOEELNN12AB018AC8D]\n",
              "4        Theme   70694  ...   0  [SOOUYTP12B0B8094B6, SOAJODS12A8C138A23]\n",
              "\n",
              "[5 rows x 6 columns]"
            ]
          },
          "metadata": {
            "tags": []
          },
          "execution_count": 5
        }
      ]
    },
    {
      "cell_type": "code",
      "metadata": {
        "id": "mHd6xvugjO6e",
        "colab_type": "code",
        "outputId": "bb7a7dc3-5bf4-4997-8b00-2b467aee712b",
        "colab": {
          "base_uri": "https://localhost:8080/",
          "height": 197
        }
      },
      "source": [
        "# explode sessions into tracks, keeping session ids\n",
        "s = df[\"filtered_list\"].apply(pd.Series)\n",
        "id_vars = id_vars + [\"sid\"]\n",
        "df = df[id_vars]\n",
        "df = s.merge(df, left_index=True, right_index=True)\n",
        "df = pd.melt(df, id_vars, var_name=\"varid\", value_name=\"traid\")\n",
        "df = df[~df[\"traid\"].isnull()]\n",
        "id_vars = id_vars + [\"traid\"]\n",
        "df = df[id_vars]\n",
        "\n",
        "df.sort_values([\"pid\", \"sid\"], kind=\"mergesort\", inplace=True)\n",
        "\n",
        "del s\n",
        "\n",
        "df.head()"
      ],
      "execution_count": 6,
      "outputs": [
        {
          "output_type": "execute_result",
          "data": {
            "text/html": [
              "<div>\n",
              "<style scoped>\n",
              "    .dataframe tbody tr th:only-of-type {\n",
              "        vertical-align: middle;\n",
              "    }\n",
              "\n",
              "    .dataframe tbody tr th {\n",
              "        vertical-align: top;\n",
              "    }\n",
              "\n",
              "    .dataframe thead th {\n",
              "        text-align: right;\n",
              "    }\n",
              "</style>\n",
              "<table border=\"1\" class=\"dataframe\">\n",
              "  <thead>\n",
              "    <tr style=\"text-align: right;\">\n",
              "      <th></th>\n",
              "      <th>category</th>\n",
              "      <th>pid</th>\n",
              "      <th>timestamp</th>\n",
              "      <th>userid</th>\n",
              "      <th>sid</th>\n",
              "      <th>traid</th>\n",
              "    </tr>\n",
              "  </thead>\n",
              "  <tbody>\n",
              "    <tr>\n",
              "      <th>34256</th>\n",
              "      <td>Rock/Pop</td>\n",
              "      <td>1</td>\n",
              "      <td>1998-01-22</td>\n",
              "      <td>Eli Lester</td>\n",
              "      <td>0</td>\n",
              "      <td>SOHVGOY12AF729EC76</td>\n",
              "    </tr>\n",
              "    <tr>\n",
              "      <th>130601</th>\n",
              "      <td>Rock/Pop</td>\n",
              "      <td>1</td>\n",
              "      <td>1998-01-22</td>\n",
              "      <td>Eli Lester</td>\n",
              "      <td>1</td>\n",
              "      <td>SORTBLM12A8C140261</td>\n",
              "    </tr>\n",
              "    <tr>\n",
              "      <th>590015</th>\n",
              "      <td>Rock/Pop</td>\n",
              "      <td>1</td>\n",
              "      <td>1998-01-22</td>\n",
              "      <td>Eli Lester</td>\n",
              "      <td>1</td>\n",
              "      <td>SOWENZL12AB0186BEE</td>\n",
              "    </tr>\n",
              "    <tr>\n",
              "      <th>221992</th>\n",
              "      <td>Rock/Pop</td>\n",
              "      <td>1</td>\n",
              "      <td>1998-01-22</td>\n",
              "      <td>Eli Lester</td>\n",
              "      <td>2</td>\n",
              "      <td>SOURMTG12A8C13B478</td>\n",
              "    </tr>\n",
              "    <tr>\n",
              "      <th>681406</th>\n",
              "      <td>Rock/Pop</td>\n",
              "      <td>1</td>\n",
              "      <td>1998-01-22</td>\n",
              "      <td>Eli Lester</td>\n",
              "      <td>2</td>\n",
              "      <td>SOCAXNF12A81356D4D</td>\n",
              "    </tr>\n",
              "  </tbody>\n",
              "</table>\n",
              "</div>"
            ],
            "text/plain": [
              "        category  pid  timestamp      userid sid               traid\n",
              "34256   Rock/Pop    1 1998-01-22  Eli Lester   0  SOHVGOY12AF729EC76\n",
              "130601  Rock/Pop    1 1998-01-22  Eli Lester   1  SORTBLM12A8C140261\n",
              "590015  Rock/Pop    1 1998-01-22  Eli Lester   1  SOWENZL12AB0186BEE\n",
              "221992  Rock/Pop    1 1998-01-22  Eli Lester   2  SOURMTG12A8C13B478\n",
              "681406  Rock/Pop    1 1998-01-22  Eli Lester   2  SOCAXNF12A81356D4D"
            ]
          },
          "metadata": {
            "tags": []
          },
          "execution_count": 6
        }
      ]
    },
    {
      "cell_type": "code",
      "metadata": {
        "id": "VehiAv7qjYGN",
        "colab_type": "code",
        "outputId": "18a80de8-82bd-492b-9500-4a0b9db4664e",
        "colab": {
          "base_uri": "https://localhost:8080/",
          "height": 401
        }
      },
      "source": [
        "def with_msd_columns(df):\n",
        "  msd_cols = [\"artist_id\", \"release\", \"song_id\", \"artist_name\", \"title\"]\n",
        "  msd_df = pd.read_hdf(msd_filename, key=\"metadata/songs\")[msd_cols]\n",
        "  rename_map = {\"artist_id\": \"artid\", \"release\": \"albid\", \"song_id\": \"traid\",\n",
        "                \"artist_name\": \"artname\", \"title\": \"traname\"}\n",
        "  msd_df.rename(columns=rename_map, inplace=True)\n",
        "  msd_df[\"albname\"] = msd_df[\"albid\"]\n",
        "  msd_df[\"albid\"] = msd_df[\"artid\"] + \" \" + msd_df[\"albid\"]\n",
        "  \n",
        "  msd_year_df = pd.read_hdf(msd_filename, key=\"musicbrainz/songs\")[[\"year\"]]\n",
        "  msd_year_df.replace(0.0, np.nan, inplace=True)\n",
        "  msd_df = pd.concat([msd_df, msd_year_df], axis=1)\n",
        "  \n",
        "  msd_df = msd_df.drop_duplicates(\"traid\")\n",
        "  msd_df = msd_df[msd_df[\"traid\"].isin(df[\"traid\"].drop_duplicates())]\n",
        "  \n",
        "  return df.join(msd_df.set_index(\"traid\"), on=\"traid\")\n",
        "\n",
        "df = with_msd_columns(df)\n",
        "df.head()"
      ],
      "execution_count": 7,
      "outputs": [
        {
          "output_type": "execute_result",
          "data": {
            "text/html": [
              "<div>\n",
              "<style scoped>\n",
              "    .dataframe tbody tr th:only-of-type {\n",
              "        vertical-align: middle;\n",
              "    }\n",
              "\n",
              "    .dataframe tbody tr th {\n",
              "        vertical-align: top;\n",
              "    }\n",
              "\n",
              "    .dataframe thead th {\n",
              "        text-align: right;\n",
              "    }\n",
              "</style>\n",
              "<table border=\"1\" class=\"dataframe\">\n",
              "  <thead>\n",
              "    <tr style=\"text-align: right;\">\n",
              "      <th></th>\n",
              "      <th>category</th>\n",
              "      <th>pid</th>\n",
              "      <th>timestamp</th>\n",
              "      <th>userid</th>\n",
              "      <th>sid</th>\n",
              "      <th>traid</th>\n",
              "      <th>artid</th>\n",
              "      <th>albid</th>\n",
              "      <th>artname</th>\n",
              "      <th>traname</th>\n",
              "      <th>albname</th>\n",
              "      <th>year</th>\n",
              "    </tr>\n",
              "  </thead>\n",
              "  <tbody>\n",
              "    <tr>\n",
              "      <th>34256</th>\n",
              "      <td>Rock/Pop</td>\n",
              "      <td>1</td>\n",
              "      <td>1998-01-22</td>\n",
              "      <td>Eli Lester</td>\n",
              "      <td>0</td>\n",
              "      <td>SOHVGOY12AF729EC76</td>\n",
              "      <td>ARBAN8S1187FB4D22F</td>\n",
              "      <td>ARBAN8S1187FB4D22F Ben Folds Five</td>\n",
              "      <td>Ben Folds Five</td>\n",
              "      <td>Philosophy</td>\n",
              "      <td>Ben Folds Five</td>\n",
              "      <td>1995.0</td>\n",
              "    </tr>\n",
              "    <tr>\n",
              "      <th>130601</th>\n",
              "      <td>Rock/Pop</td>\n",
              "      <td>1</td>\n",
              "      <td>1998-01-22</td>\n",
              "      <td>Eli Lester</td>\n",
              "      <td>1</td>\n",
              "      <td>SORTBLM12A8C140261</td>\n",
              "      <td>AR35E9F1187B9B4877</td>\n",
              "      <td>AR35E9F1187B9B4877 The Missing Years</td>\n",
              "      <td>John Prine</td>\n",
              "      <td>All the Best</td>\n",
              "      <td>The Missing Years</td>\n",
              "      <td>1991.0</td>\n",
              "    </tr>\n",
              "    <tr>\n",
              "      <th>590015</th>\n",
              "      <td>Rock/Pop</td>\n",
              "      <td>1</td>\n",
              "      <td>1998-01-22</td>\n",
              "      <td>Eli Lester</td>\n",
              "      <td>1</td>\n",
              "      <td>SOWENZL12AB0186BEE</td>\n",
              "      <td>ARVHCWL1187B9B8F60</td>\n",
              "      <td>ARVHCWL1187B9B8F60 B-Sides And Otherwise</td>\n",
              "      <td>Morphine</td>\n",
              "      <td>All Wrong (Album Version)</td>\n",
              "      <td>B-Sides And Otherwise</td>\n",
              "      <td>1997.0</td>\n",
              "    </tr>\n",
              "    <tr>\n",
              "      <th>221992</th>\n",
              "      <td>Rock/Pop</td>\n",
              "      <td>1</td>\n",
              "      <td>1998-01-22</td>\n",
              "      <td>Eli Lester</td>\n",
              "      <td>2</td>\n",
              "      <td>SOURMTG12A8C13B478</td>\n",
              "      <td>ARPIRQD1187B9AE9CA</td>\n",
              "      <td>ARPIRQD1187B9AE9CA March</td>\n",
              "      <td>Michael Penn</td>\n",
              "      <td>No Myth</td>\n",
              "      <td>March</td>\n",
              "      <td>1989.0</td>\n",
              "    </tr>\n",
              "    <tr>\n",
              "      <th>681406</th>\n",
              "      <td>Rock/Pop</td>\n",
              "      <td>1</td>\n",
              "      <td>1998-01-22</td>\n",
              "      <td>Eli Lester</td>\n",
              "      <td>2</td>\n",
              "      <td>SOCAXNF12A81356D4D</td>\n",
              "      <td>ARVFF0Y1187B9AC3CA</td>\n",
              "      <td>ARVFF0Y1187B9AC3CA Crooked Rain Crooked Rain (...</td>\n",
              "      <td>Pavement</td>\n",
              "      <td>Camera</td>\n",
              "      <td>Crooked Rain Crooked Rain (Deluxe Edition)</td>\n",
              "      <td>1994.0</td>\n",
              "    </tr>\n",
              "  </tbody>\n",
              "</table>\n",
              "</div>"
            ],
            "text/plain": [
              "        category  pid  ...                                     albname    year\n",
              "34256   Rock/Pop    1  ...                              Ben Folds Five  1995.0\n",
              "130601  Rock/Pop    1  ...                           The Missing Years  1991.0\n",
              "590015  Rock/Pop    1  ...                       B-Sides And Otherwise  1997.0\n",
              "221992  Rock/Pop    1  ...                                       March  1989.0\n",
              "681406  Rock/Pop    1  ...  Crooked Rain Crooked Rain (Deluxe Edition)  1994.0\n",
              "\n",
              "[5 rows x 12 columns]"
            ]
          },
          "metadata": {
            "tags": []
          },
          "execution_count": 7
        }
      ]
    },
    {
      "cell_type": "code",
      "metadata": {
        "id": "hey-i5DQjYYf",
        "colab_type": "code",
        "colab": {}
      },
      "source": [
        "os.chdir(\"/drive/My Drive/\")"
      ],
      "execution_count": 0,
      "outputs": []
    },
    {
      "cell_type": "code",
      "metadata": {
        "id": "PGHkZeV2jaqC",
        "colab_type": "code",
        "colab": {}
      },
      "source": [
        "df_counts = df.groupby(\"traid\")[\"pid\"].count()"
      ],
      "execution_count": 0,
      "outputs": []
    },
    {
      "cell_type": "code",
      "metadata": {
        "id": "LFTqWpkAoTqy",
        "colab_type": "code",
        "colab": {}
      },
      "source": [
        "df_counts = df_counts.sort_values(ascending=False)"
      ],
      "execution_count": 0,
      "outputs": []
    },
    {
      "cell_type": "code",
      "metadata": {
        "id": "LfaN5eAop175",
        "colab_type": "code",
        "outputId": "efd3a06b-182a-477a-950b-72613139888f",
        "colab": {
          "base_uri": "https://localhost:8080/",
          "height": 233
        }
      },
      "source": [
        "df_counts"
      ],
      "execution_count": 11,
      "outputs": [
        {
          "output_type": "execute_result",
          "data": {
            "text/plain": [
              "traid\n",
              "SOBBKGF12A8C1311EE    829\n",
              "SOXUYUZ12A8C13A67E    666\n",
              "SOPQJKW12A58A7AB38    665\n",
              "SOGRCBF12A8C13233B    662\n",
              "SOAKMDU12A8C1346A9    653\n",
              "                     ... \n",
              "SOHPGQZ12A6D4F66A9      1\n",
              "SOHPGPU12A58A7937A      1\n",
              "SOQXQGZ12AB018981E      1\n",
              "SOHPGHW12A6D4FB357      1\n",
              "SOFYCCT12A6D4F5BF7      1\n",
              "Name: pid, Length: 119894, dtype: int64"
            ]
          },
          "metadata": {
            "tags": []
          },
          "execution_count": 11
        }
      ]
    },
    {
      "cell_type": "code",
      "metadata": {
        "id": "AVMEirDybqtr",
        "colab_type": "code",
        "colab": {}
      },
      "source": [
        "df_pids_small = df[df[\"traid\"] == \"SOBBKGF12A8C1311EE\"][\"pid\"]"
      ],
      "execution_count": 0,
      "outputs": []
    },
    {
      "cell_type": "code",
      "metadata": {
        "id": "AQAtIzUoqNRH",
        "colab_type": "code",
        "colab": {}
      },
      "source": [
        "df_small = df[df[\"pid\"].isin(df_pids_small)].copy()"
      ],
      "execution_count": 0,
      "outputs": []
    },
    {
      "cell_type": "code",
      "metadata": {
        "id": "zhykAUZPqm7S",
        "colab_type": "code",
        "outputId": "52ca137f-14ee-48f6-b742-4c126848256f",
        "colab": {
          "base_uri": "https://localhost:8080/",
          "height": 33
        }
      },
      "source": [
        "df_small[\"pid\"].nunique()"
      ],
      "execution_count": 14,
      "outputs": [
        {
          "output_type": "execute_result",
          "data": {
            "text/plain": [
              "828"
            ]
          },
          "metadata": {
            "tags": []
          },
          "execution_count": 14
        }
      ]
    },
    {
      "cell_type": "code",
      "metadata": {
        "id": "SobCNq0le6Hw",
        "colab_type": "code",
        "outputId": "03c31371-3df1-4c29-8a33-7c4d88c7bd92",
        "colab": {
          "base_uri": "https://localhost:8080/",
          "height": 417
        }
      },
      "source": [
        "def with_prev_columns(df):\n",
        "  gp = df.groupby(\"pid\")\n",
        "  df[\"prev_traid\"] = gp[\"traid\"].shift(1)\n",
        "  df[\"prev_albid\"] = gp[\"albid\"].shift(1)\n",
        "  df[\"prev_artid\"] = gp[\"artid\"].shift(1)\n",
        "  df[\"prev_year\"] = gp[\"year\"].shift(1)\n",
        "  df[\"prev_year\"].fillna(0, inplace=True)\n",
        "  df[\"prev_year\"] = df[\"prev_year\"].astype(int, copy=False)\n",
        "  return df\n",
        "\n",
        "df_small = with_prev_columns(df_small)\n",
        "df_small.head()"
      ],
      "execution_count": 15,
      "outputs": [
        {
          "output_type": "execute_result",
          "data": {
            "text/html": [
              "<div>\n",
              "<style scoped>\n",
              "    .dataframe tbody tr th:only-of-type {\n",
              "        vertical-align: middle;\n",
              "    }\n",
              "\n",
              "    .dataframe tbody tr th {\n",
              "        vertical-align: top;\n",
              "    }\n",
              "\n",
              "    .dataframe thead th {\n",
              "        text-align: right;\n",
              "    }\n",
              "</style>\n",
              "<table border=\"1\" class=\"dataframe\">\n",
              "  <thead>\n",
              "    <tr style=\"text-align: right;\">\n",
              "      <th></th>\n",
              "      <th>category</th>\n",
              "      <th>pid</th>\n",
              "      <th>timestamp</th>\n",
              "      <th>userid</th>\n",
              "      <th>sid</th>\n",
              "      <th>traid</th>\n",
              "      <th>artid</th>\n",
              "      <th>albid</th>\n",
              "      <th>artname</th>\n",
              "      <th>traname</th>\n",
              "      <th>albname</th>\n",
              "      <th>year</th>\n",
              "      <th>prev_traid</th>\n",
              "      <th>prev_albid</th>\n",
              "      <th>prev_artid</th>\n",
              "      <th>prev_year</th>\n",
              "    </tr>\n",
              "  </thead>\n",
              "  <tbody>\n",
              "    <tr>\n",
              "      <th>42341</th>\n",
              "      <td>Mixed Genre</td>\n",
              "      <td>85</td>\n",
              "      <td>1998-01-30</td>\n",
              "      <td>Bob Paffile</td>\n",
              "      <td>0</td>\n",
              "      <td>SOBBKGF12A8C1311EE</td>\n",
              "      <td>AR1E9AW1187B9AC8F6</td>\n",
              "      <td>AR1E9AW1187B9AC8F6 Wave Of Mutilation: Best Of...</td>\n",
              "      <td>Pixies</td>\n",
              "      <td>Where Is My Mind?</td>\n",
              "      <td>Wave Of Mutilation: Best Of Pixies</td>\n",
              "      <td>1988.0</td>\n",
              "      <td>NaN</td>\n",
              "      <td>NaN</td>\n",
              "      <td>NaN</td>\n",
              "      <td>0</td>\n",
              "    </tr>\n",
              "    <tr>\n",
              "      <th>138375</th>\n",
              "      <td>Mixed Genre</td>\n",
              "      <td>85</td>\n",
              "      <td>1998-01-30</td>\n",
              "      <td>Bob Paffile</td>\n",
              "      <td>1</td>\n",
              "      <td>SOHXPRI12A6D4F94B0</td>\n",
              "      <td>AR0962A1187B9B43E9</td>\n",
              "      <td>AR0962A1187B9B43E9 Fight For Your Mind</td>\n",
              "      <td>Ben Harper</td>\n",
              "      <td>Burn One Down</td>\n",
              "      <td>Fight For Your Mind</td>\n",
              "      <td>NaN</td>\n",
              "      <td>SOBBKGF12A8C1311EE</td>\n",
              "      <td>AR1E9AW1187B9AC8F6 Wave Of Mutilation: Best Of...</td>\n",
              "      <td>AR1E9AW1187B9AC8F6</td>\n",
              "      <td>1988</td>\n",
              "    </tr>\n",
              "    <tr>\n",
              "      <th>229198</th>\n",
              "      <td>Mixed Genre</td>\n",
              "      <td>85</td>\n",
              "      <td>1998-01-30</td>\n",
              "      <td>Bob Paffile</td>\n",
              "      <td>2</td>\n",
              "      <td>SOWOEKH12A58A7E811</td>\n",
              "      <td>ARV4GYZ1187B9B8171</td>\n",
              "      <td>ARV4GYZ1187B9B8171 Hallowed Ground</td>\n",
              "      <td>Violent Femmes</td>\n",
              "      <td>Country Death Song</td>\n",
              "      <td>Hallowed Ground</td>\n",
              "      <td>1984.0</td>\n",
              "      <td>SOHXPRI12A6D4F94B0</td>\n",
              "      <td>AR0962A1187B9B43E9 Fight For Your Mind</td>\n",
              "      <td>AR0962A1187B9B43E9</td>\n",
              "      <td>0</td>\n",
              "    </tr>\n",
              "    <tr>\n",
              "      <th>309912</th>\n",
              "      <td>Mixed Genre</td>\n",
              "      <td>85</td>\n",
              "      <td>1998-01-30</td>\n",
              "      <td>Bob Paffile</td>\n",
              "      <td>3</td>\n",
              "      <td>SOOSNZX12D021B0CFE</td>\n",
              "      <td>ARW8F4B1187FB45EB4</td>\n",
              "      <td>ARW8F4B1187FB45EB4 40oz To Freedom</td>\n",
              "      <td>Sublime</td>\n",
              "      <td>5446 Thats My Number/ Ball And Chain</td>\n",
              "      <td>40oz To Freedom</td>\n",
              "      <td>NaN</td>\n",
              "      <td>SOWOEKH12A58A7E811</td>\n",
              "      <td>ARV4GYZ1187B9B8171 Hallowed Ground</td>\n",
              "      <td>ARV4GYZ1187B9B8171</td>\n",
              "      <td>1984</td>\n",
              "    </tr>\n",
              "    <tr>\n",
              "      <th>769326</th>\n",
              "      <td>Mixed Genre</td>\n",
              "      <td>85</td>\n",
              "      <td>1998-01-30</td>\n",
              "      <td>Bob Paffile</td>\n",
              "      <td>3</td>\n",
              "      <td>SOPWBHC12AF72A7B35</td>\n",
              "      <td>AR1E9AW1187B9AC8F6</td>\n",
              "      <td>AR1E9AW1187B9AC8F6 Debaser</td>\n",
              "      <td>Pixies</td>\n",
              "      <td>Gigantic</td>\n",
              "      <td>Debaser</td>\n",
              "      <td>1988.0</td>\n",
              "      <td>SOOSNZX12D021B0CFE</td>\n",
              "      <td>ARW8F4B1187FB45EB4 40oz To Freedom</td>\n",
              "      <td>ARW8F4B1187FB45EB4</td>\n",
              "      <td>0</td>\n",
              "    </tr>\n",
              "  </tbody>\n",
              "</table>\n",
              "</div>"
            ],
            "text/plain": [
              "           category  pid  ...          prev_artid prev_year\n",
              "42341   Mixed Genre   85  ...                 NaN         0\n",
              "138375  Mixed Genre   85  ...  AR1E9AW1187B9AC8F6      1988\n",
              "229198  Mixed Genre   85  ...  AR0962A1187B9B43E9         0\n",
              "309912  Mixed Genre   85  ...  ARV4GYZ1187B9B8171      1984\n",
              "769326  Mixed Genre   85  ...  ARW8F4B1187FB45EB4         0\n",
              "\n",
              "[5 rows x 16 columns]"
            ]
          },
          "metadata": {
            "tags": []
          },
          "execution_count": 15
        }
      ]
    },
    {
      "cell_type": "markdown",
      "metadata": {
        "id": "bMU_tHiee6nP",
        "colab_type": "text"
      },
      "source": [
        "# Evaluation split"
      ]
    },
    {
      "cell_type": "code",
      "metadata": {
        "id": "-3QoVvHxd7SH",
        "colab_type": "code",
        "colab": {}
      },
      "source": [
        "def col2id_col(df, col, mappings, rvs_mappings):\n",
        "  if col in mappings:\n",
        "    df[col] = df[col].map(mappings[col])\n",
        "    df[col].fillna(0, inplace=True)\n",
        "  else:\n",
        "    df[col], rvs_mappings[col] = df[col].factorize()\n",
        "    df[col] += 1\n",
        "    rvs_mappings[col] = rvs_mappings[col].insert(0, None)\n",
        "    mappings[col] = {col_val: i for i, col_val in enumerate(rvs_mappings[col])}\n",
        "\n",
        "  df[col] = df[col].astype(\"int64\", copy=False)\n",
        "\n",
        "\n",
        "def df2id_df(df, id_cols, mappings, rvs_mappings):\n",
        "  for id_col in id_cols:\n",
        "    col2id_col(df, id_col, mappings, rvs_mappings)\n",
        "\n",
        "\n",
        "def split_dfs2id_dfs(train_df, test_df=None, val_df=None, copy=True, cols=[],\n",
        "                     same_col_pairs=[]):\n",
        "  \"\"\"\n",
        "  Map columns of dataframes to one-hot indices.\n",
        "  Test and validation dataframes will use the mappings of the train dataframe.\n",
        "  Index 0 is used for missing and unknown (test and validation) column values.\n",
        "\n",
        "  same_col_pairs are (src_col, same_col) pairs where same_col uses the same\n",
        "  mappings as src_col.\n",
        "  \"\"\"\n",
        "  id_mappings = dict()\n",
        "  rvs_id_mappings = dict()\n",
        "  \n",
        "  if copy:\n",
        "    train_df = train_df.copy()\n",
        "    if test_df is not None:\n",
        "      test_df = test_df.copy()\n",
        "    if val_df is not None:\n",
        "      val_df = val_df.copy()\n",
        "  \n",
        "  dfs = [df for df in [train_df, val_df, test_df] if df is not None]\n",
        "\n",
        "  for df in dfs:\n",
        "    df2id_df(df, cols, id_mappings, rvs_id_mappings)\n",
        "\n",
        "  for src_col, same_col in same_col_pairs:\n",
        "    id_mappings[same_col] = id_mappings[src_col]\n",
        "  \n",
        "  same_cols = [same_col for _, same_col in same_col_pairs]\n",
        "\n",
        "  for df in dfs:\n",
        "    df2id_df(df, same_cols, id_mappings, rvs_id_mappings)\n",
        "\n",
        "  if copy:\n",
        "    return tuple(dfs)"
      ],
      "execution_count": 0,
      "outputs": []
    },
    {
      "cell_type": "code",
      "metadata": {
        "id": "8tBG2iGgeLqm",
        "colab_type": "code",
        "colab": {}
      },
      "source": [
        "# columns to use\n",
        "use_cols = [\"pid\", \"userid\", \"category\", \"year\", \"artid\", \"albid\", \"traid\"]\n",
        "\n",
        "# other columns to use with the same mappings as the previous columns\n",
        "use_col_pairs = [(\"year\", \"prev_year\"),\n",
        "                 (\"artid\", \"prev_artid\"),\n",
        "                 (\"albid\", \"prev_albid\"),\n",
        "                 (\"traid\", \"prev_traid\")]\n",
        "\n",
        "# which columns are user/context columns - and known as query context\n",
        "non_track_cols = [\"category\", \"pid\", \"userid\",\n",
        "                  \"prev_traid\", \"prev_albid\", \"prev_artid\", \"prev_year\"]\n",
        "\n",
        "# which columns are item columns - and known only as query seeds\n",
        "track_cols = [\"traid\", \"albid\", \"artid\", \"year\"]"
      ],
      "execution_count": 0,
      "outputs": []
    },
    {
      "cell_type": "code",
      "metadata": {
        "id": "DjJhkkB4ePVp",
        "colab_type": "code",
        "colab": {}
      },
      "source": [
        "def _to_query_ctx(df):\n",
        "  return df[non_track_cols]\n",
        "\n",
        "\n",
        "def _to_query(concat_df):\n",
        "  concat_df[track_cols] = concat_df[track_cols].fillna(0)\n",
        "  concat_df[track_cols] = concat_df[track_cols].astype(\"int64\", copy=False)\n",
        "  return concat_df\n",
        "\n",
        "\n",
        "def get_query_seeds(query_df):\n",
        "  \"\"\"\n",
        "  Get the seed tracks of a query dataframe\n",
        "  \"\"\"\n",
        "  return query_df[query_df[\"traid\"] != 0]\n",
        "\n",
        "\n",
        "def get_query_ctx(query_df):\n",
        "  \"\"\"\n",
        "  Get the context of a query dataframe - \n",
        "  the actual target information without any target track information\n",
        "  \"\"\"\n",
        "  return _to_query_ctx(query_df[query_df[\"traid\"] == 0])\n",
        "\n",
        "\n",
        "def _last_track_split(df, as_val):\n",
        "  i = 2 if as_val else 1\n",
        "  gp = df.groupby(\"pid\")\n",
        "  train_df = df[gp.cumcount(ascending=False) >= i]\n",
        "  test_df = gp.nth(-i).reset_index()\n",
        "  return train_df, test_df\n",
        "\n",
        "\n",
        "def _users_split(df, n_test_users, seed):\n",
        "  users = df[\"pid\"].drop_duplicates()\n",
        "  np.random.seed(seed)\n",
        "  test_users = np.random.choice(users, n_test_users, replace=False)\n",
        "  test_users_mask = df[\"pid\"].isin(test_users)\n",
        "  test_users_df = df[test_users_mask]\n",
        "  train_users_df = df[~test_users_mask]\n",
        "  return train_users_df, test_users_df\n",
        "\n",
        "\n",
        "def _known_last_track_split(df, as_val, seed, n_test_users=None):\n",
        "  train_df, test_df = _last_track_split(df, as_val)\n",
        "\n",
        "  train_tracks = pd.Index(train_df[\"traid\"].drop_duplicates())\n",
        "  test_tracks = pd.Index(test_df[\"traid\"].drop_duplicates())\n",
        "  unknown_tracks = test_tracks.difference(train_tracks)\n",
        "  unknown_mask = test_df[\"traid\"].isin(unknown_tracks)\n",
        "  unknown_pids = pd.Index(test_df[unknown_mask][\"pid\"])\n",
        "\n",
        "  unknown_mask = df[\"pid\"].isin(unknown_pids)\n",
        "  known_df = df[~unknown_mask]\n",
        "  unknown_df = df[unknown_mask]\n",
        "\n",
        "  if n_test_users:\n",
        "    train_users_df, test_users_df = _users_split(known_df, n_test_users, seed)\n",
        "    train_df, test_df = _last_track_split(test_users_df, as_val)\n",
        "    train_df = pd.concat([unknown_df, train_users_df, train_df], sort=False)\n",
        "  else:\n",
        "    train_df, test_df = _last_track_split(known_df, as_val)\n",
        "    train_df = pd.concat([unknown_df, train_df], sort=False)\n",
        "\n",
        "  train_df.sort_values(\"pid\", inplace=True, kind=\"mergesort\")\n",
        "\n",
        "  return train_df, test_df\n",
        "\n",
        "\n",
        "def _last_track_query(train_df, test_df, n_test_users=None):\n",
        "  if n_test_users:\n",
        "    test_pids = pd.Index(test_df[\"pid\"])\n",
        "    test_query_df = train_df[train_df[\"pid\"].isin(test_pids)]\n",
        "  else:\n",
        "    test_query_df = train_df\n",
        "\n",
        "  test_query_ctx_df = _to_query_ctx(test_df)\n",
        "  test_query_df = pd.concat([test_query_df, test_query_ctx_df], sort=False)\n",
        "  test_query_df = _to_query(test_query_df)\n",
        "\n",
        "  return test_query_df\n",
        "\n",
        "\n",
        "def last_track_split(df, as_val=False, n_test_users=None, seed=1):\n",
        "  \"\"\"\n",
        "  Split the dataframe into train and validation or test dataframes.\n",
        "  The test dataframe contains the last track of each or n_test_users random\n",
        "  users, the validation dataframe the second-last. Only returns validation or \n",
        "  test users with known (second-)last track indices.\n",
        "\n",
        "  Also returns a query dataframe corresponding to the validation or test\n",
        "  dataframe.\n",
        "\n",
        "  Columns are mapped to one-hot indices in the process. \n",
        "  \"\"\"\n",
        "  train_df, test_df = _known_last_track_split(df, as_val, seed, n_test_users)\n",
        "\n",
        "  train_df, test_df = split_dfs2id_dfs(train_df, test_df=test_df, cols=use_cols,\n",
        "                                       same_col_pairs=use_col_pairs)\n",
        "\n",
        "  return train_df, test_df, _last_track_query(train_df, test_df, n_test_users)\n",
        "\n",
        "\n",
        "def _seed_users_split(df, n_test_users, include_val, n_seed_tracks, seed):\n",
        "  gp = df.groupby(\"pid\")\n",
        "  seed_df = gp.filter(lambda g: g.size > n_seed_tracks)\n",
        "  non_seed_df = gp.filter(lambda g: g.size <= n_seed_tracks)\n",
        "\n",
        "  train_df, test_df = _users_split(seed_df, n_test_users, seed)\n",
        "\n",
        "  val_df = None\n",
        "  if include_val:\n",
        "    train_df, val_df = _users_split(train_df, n_test_users, seed)\n",
        "\n",
        "  train_df = pd.concat([train_df, non_seed_df], sort=False)\n",
        "  train_df.sort_values(\"pid\", inplace=True, kind=\"mergesort\")\n",
        "\n",
        "  if include_val:\n",
        "    return train_df, val_df, test_df\n",
        "  else:\n",
        "    return train_df, test_df\n",
        "\n",
        "\n",
        "def _seed_query_split(df, n_seed_tracks):\n",
        "  gp = df.groupby(\"pid\", as_index=False)\n",
        "  test_df = df[gp.cumcount() >= n_seed_tracks]\n",
        "  query_df = gp.head(n_seed_tracks)\n",
        "  query_ctx_df = _to_query_ctx(gp.nth(n_seed_tracks))\n",
        "  query_df = _to_query(pd.concat([query_df, query_ctx_df], sort=False))\n",
        "  query_df.sort_values(\"pid\", inplace=True, kind=\"mergesort\")\n",
        "  return test_df, query_df\n",
        "\n",
        "\n",
        "def users_split(df, n_test_users, include_val=False, n_seed_tracks=5, seed=1):\n",
        "  \"\"\"\n",
        "  Split the dataframe into train, optional validation and test dataframes.\n",
        "  The test and validation dataframe each contain n_test_users users and\n",
        "  the train dataframe the other users. The validation and test dataframes\n",
        "  each contain the users tracks after his/her first n_seed_tracks tracks.\n",
        "  Only returns validation or test users with more than n_seed_tracks tracks.\n",
        "\n",
        "  Also returns query dataframes corresponding to the validation and test\n",
        "  dataframes.\n",
        "\n",
        "  Columns are mapped to one-hot indices in the process,\n",
        "  but train, validation and test dataframes have separate pid indices,\n",
        "  all start from 0!\n",
        "  \"\"\"\n",
        "  dfs = _seed_users_split(df, n_test_users, include_val, n_seed_tracks, seed)\n",
        "\n",
        "  # pids are separate for each split - all start from 0, to different n\n",
        "  dfs = (split_dfs2id_dfs(df, cols=[\"pid\"])[0] for df in dfs)\n",
        "  if include_val:\n",
        "    train_df, val_df, test_df = dfs\n",
        "  else:\n",
        "    train_df, test_df = dfs\n",
        "    val_df = None\n",
        "\n",
        "  use_cols_no_pid = use_cols[1:]\n",
        "  split_dfs2id_dfs(train_df, test_df=test_df, val_df=val_df,\n",
        "                   cols=use_cols_no_pid, same_col_pairs=use_col_pairs,\n",
        "                   copy=False)\n",
        "  \n",
        "  test_df, test_query_df = _seed_query_split(test_df, n_seed_tracks)\n",
        "  val_query_df = None\n",
        "  if include_val:\n",
        "    val_df, val_query_df = _seed_query_split(val_df, n_seed_tracks)\n",
        "\n",
        "  dfs = train_df, val_df, test_df, val_query_df, test_query_df\n",
        "  return tuple(df for df in dfs if df is not None)"
      ],
      "execution_count": 0,
      "outputs": []
    },
    {
      "cell_type": "code",
      "metadata": {
        "id": "Yt_nhuhVeXjf",
        "colab_type": "code",
        "colab": {}
      },
      "source": [
        "def to_names_index(df):\n",
        "  df = df[[\"traid\", \"traname\", \"albname\", \"artname\"]].drop_duplicates()\n",
        "  return df.set_index(\"traid\")\n",
        "\n",
        "\n",
        "def with_names(df, names_index_df):\n",
        "  return df.join(names_index_df, on=\"traid\").drop(columns=[\"traid\"])\n",
        "\n",
        "\n",
        "def drop_names(dfs):\n",
        "  for df in dfs:\n",
        "    df.drop(columns=[\"traname\", \"albname\", \"artname\"], inplace=True)"
      ],
      "execution_count": 0,
      "outputs": []
    },
    {
      "cell_type": "code",
      "metadata": {
        "id": "i5JaCr4UchGV",
        "colab_type": "code",
        "colab": {}
      },
      "source": [
        "df_small.drop(columns=[\"timestamp\", \"sid\"], inplace=True)"
      ],
      "execution_count": 0,
      "outputs": []
    },
    {
      "cell_type": "code",
      "metadata": {
        "id": "UqE4o5qdchYu",
        "colab_type": "code",
        "colab": {
          "base_uri": "https://localhost:8080/",
          "height": 217
        },
        "outputId": "bd91ebed-9bf6-49c9-ea6b-cef045169f27"
      },
      "source": [
        "train_df, test_df, test_query_df = last_track_split(df_small, n_test_users=250)\n",
        "names_df = to_names_index(train_df)\n",
        "drop_names([train_df, test_df, test_query_df])\n",
        "\n",
        "train_df.head()"
      ],
      "execution_count": 25,
      "outputs": [
        {
          "output_type": "execute_result",
          "data": {
            "text/html": [
              "<div>\n",
              "<style scoped>\n",
              "    .dataframe tbody tr th:only-of-type {\n",
              "        vertical-align: middle;\n",
              "    }\n",
              "\n",
              "    .dataframe tbody tr th {\n",
              "        vertical-align: top;\n",
              "    }\n",
              "\n",
              "    .dataframe thead th {\n",
              "        text-align: right;\n",
              "    }\n",
              "</style>\n",
              "<table border=\"1\" class=\"dataframe\">\n",
              "  <thead>\n",
              "    <tr style=\"text-align: right;\">\n",
              "      <th></th>\n",
              "      <th>category</th>\n",
              "      <th>pid</th>\n",
              "      <th>userid</th>\n",
              "      <th>traid</th>\n",
              "      <th>artid</th>\n",
              "      <th>albid</th>\n",
              "      <th>year</th>\n",
              "      <th>prev_traid</th>\n",
              "      <th>prev_albid</th>\n",
              "      <th>prev_artid</th>\n",
              "      <th>prev_year</th>\n",
              "    </tr>\n",
              "  </thead>\n",
              "  <tbody>\n",
              "    <tr>\n",
              "      <th>42341</th>\n",
              "      <td>1</td>\n",
              "      <td>1</td>\n",
              "      <td>1</td>\n",
              "      <td>1</td>\n",
              "      <td>1</td>\n",
              "      <td>1</td>\n",
              "      <td>1</td>\n",
              "      <td>0</td>\n",
              "      <td>0</td>\n",
              "      <td>0</td>\n",
              "      <td>0</td>\n",
              "    </tr>\n",
              "    <tr>\n",
              "      <th>138375</th>\n",
              "      <td>1</td>\n",
              "      <td>1</td>\n",
              "      <td>1</td>\n",
              "      <td>2</td>\n",
              "      <td>2</td>\n",
              "      <td>2</td>\n",
              "      <td>0</td>\n",
              "      <td>1</td>\n",
              "      <td>1</td>\n",
              "      <td>1</td>\n",
              "      <td>1</td>\n",
              "    </tr>\n",
              "    <tr>\n",
              "      <th>229198</th>\n",
              "      <td>1</td>\n",
              "      <td>1</td>\n",
              "      <td>1</td>\n",
              "      <td>3</td>\n",
              "      <td>3</td>\n",
              "      <td>3</td>\n",
              "      <td>2</td>\n",
              "      <td>2</td>\n",
              "      <td>2</td>\n",
              "      <td>2</td>\n",
              "      <td>0</td>\n",
              "    </tr>\n",
              "    <tr>\n",
              "      <th>309912</th>\n",
              "      <td>1</td>\n",
              "      <td>1</td>\n",
              "      <td>1</td>\n",
              "      <td>4</td>\n",
              "      <td>4</td>\n",
              "      <td>4</td>\n",
              "      <td>0</td>\n",
              "      <td>3</td>\n",
              "      <td>3</td>\n",
              "      <td>3</td>\n",
              "      <td>2</td>\n",
              "    </tr>\n",
              "    <tr>\n",
              "      <th>769326</th>\n",
              "      <td>1</td>\n",
              "      <td>1</td>\n",
              "      <td>1</td>\n",
              "      <td>5</td>\n",
              "      <td>1</td>\n",
              "      <td>5</td>\n",
              "      <td>1</td>\n",
              "      <td>4</td>\n",
              "      <td>4</td>\n",
              "      <td>4</td>\n",
              "      <td>0</td>\n",
              "    </tr>\n",
              "  </tbody>\n",
              "</table>\n",
              "</div>"
            ],
            "text/plain": [
              "        category  pid  userid  ...  prev_albid  prev_artid  prev_year\n",
              "42341          1    1       1  ...           0           0          0\n",
              "138375         1    1       1  ...           1           1          1\n",
              "229198         1    1       1  ...           2           2          0\n",
              "309912         1    1       1  ...           3           3          2\n",
              "769326         1    1       1  ...           4           4          0\n",
              "\n",
              "[5 rows x 11 columns]"
            ]
          },
          "metadata": {
            "tags": []
          },
          "execution_count": 25
        }
      ]
    },
    {
      "cell_type": "code",
      "metadata": {
        "id": "tl15d2YOcio2",
        "colab_type": "code",
        "colab": {}
      },
      "source": [
        "test_queryseeds_df = get_query_seeds(test_query_df)\n",
        "test_queryctx_df = get_query_ctx(test_query_df)"
      ],
      "execution_count": 0,
      "outputs": []
    },
    {
      "cell_type": "code",
      "metadata": {
        "id": "k3cTho41ckR-",
        "colab_type": "code",
        "colab": {}
      },
      "source": [
        "max_user_cols = [\"category\", \"pid\", \"userid\"]\n",
        "max_item_cols = [\"traid\", \"artid\", \"albid\", \"year\"]\n",
        "max_prev_item_cols = [\"prev_traid\", \"prev_artid\", \"prev_albid\", \"prev_year\"]\n",
        "\n",
        "max_df = train_df[max_user_cols + max_item_cols].max()\n",
        "for prev_col, col in zip(max_prev_item_cols, max_item_cols):\n",
        "  max_df[prev_col] = max_df[col]"
      ],
      "execution_count": 0,
      "outputs": []
    },
    {
      "cell_type": "code",
      "metadata": {
        "id": "rQx83QrUcmKP",
        "colab_type": "code",
        "colab": {}
      },
      "source": [
        "train_df = (train_df - 1) % max_df\n",
        "test_df = (test_df - 1) % max_df\n",
        "test_queryseeds_df = (test_queryseeds_df - 1) % max_df\n",
        "test_queryctx_df = (test_queryctx_df - 1) % max_df"
      ],
      "execution_count": 0,
      "outputs": []
    },
    {
      "cell_type": "code",
      "metadata": {
        "id": "gX_RizjccpVl",
        "colab_type": "code",
        "colab": {
          "base_uri": "https://localhost:8080/",
          "height": 217
        },
        "outputId": "188bd18c-60cd-46b7-e390-2e61c0f8af9d"
      },
      "source": [
        "train_df.head()"
      ],
      "execution_count": 29,
      "outputs": [
        {
          "output_type": "execute_result",
          "data": {
            "text/html": [
              "<div>\n",
              "<style scoped>\n",
              "    .dataframe tbody tr th:only-of-type {\n",
              "        vertical-align: middle;\n",
              "    }\n",
              "\n",
              "    .dataframe tbody tr th {\n",
              "        vertical-align: top;\n",
              "    }\n",
              "\n",
              "    .dataframe thead th {\n",
              "        text-align: right;\n",
              "    }\n",
              "</style>\n",
              "<table border=\"1\" class=\"dataframe\">\n",
              "  <thead>\n",
              "    <tr style=\"text-align: right;\">\n",
              "      <th></th>\n",
              "      <th>albid</th>\n",
              "      <th>artid</th>\n",
              "      <th>category</th>\n",
              "      <th>pid</th>\n",
              "      <th>prev_albid</th>\n",
              "      <th>prev_artid</th>\n",
              "      <th>prev_traid</th>\n",
              "      <th>prev_year</th>\n",
              "      <th>traid</th>\n",
              "      <th>userid</th>\n",
              "      <th>year</th>\n",
              "    </tr>\n",
              "  </thead>\n",
              "  <tbody>\n",
              "    <tr>\n",
              "      <th>42341</th>\n",
              "      <td>0</td>\n",
              "      <td>0</td>\n",
              "      <td>0</td>\n",
              "      <td>0</td>\n",
              "      <td>3452</td>\n",
              "      <td>1710</td>\n",
              "      <td>5072</td>\n",
              "      <td>58</td>\n",
              "      <td>0</td>\n",
              "      <td>0</td>\n",
              "      <td>0</td>\n",
              "    </tr>\n",
              "    <tr>\n",
              "      <th>138375</th>\n",
              "      <td>1</td>\n",
              "      <td>1</td>\n",
              "      <td>0</td>\n",
              "      <td>0</td>\n",
              "      <td>0</td>\n",
              "      <td>0</td>\n",
              "      <td>0</td>\n",
              "      <td>0</td>\n",
              "      <td>1</td>\n",
              "      <td>0</td>\n",
              "      <td>58</td>\n",
              "    </tr>\n",
              "    <tr>\n",
              "      <th>229198</th>\n",
              "      <td>2</td>\n",
              "      <td>2</td>\n",
              "      <td>0</td>\n",
              "      <td>0</td>\n",
              "      <td>1</td>\n",
              "      <td>1</td>\n",
              "      <td>1</td>\n",
              "      <td>58</td>\n",
              "      <td>2</td>\n",
              "      <td>0</td>\n",
              "      <td>1</td>\n",
              "    </tr>\n",
              "    <tr>\n",
              "      <th>309912</th>\n",
              "      <td>3</td>\n",
              "      <td>3</td>\n",
              "      <td>0</td>\n",
              "      <td>0</td>\n",
              "      <td>2</td>\n",
              "      <td>2</td>\n",
              "      <td>2</td>\n",
              "      <td>1</td>\n",
              "      <td>3</td>\n",
              "      <td>0</td>\n",
              "      <td>58</td>\n",
              "    </tr>\n",
              "    <tr>\n",
              "      <th>769326</th>\n",
              "      <td>4</td>\n",
              "      <td>0</td>\n",
              "      <td>0</td>\n",
              "      <td>0</td>\n",
              "      <td>3</td>\n",
              "      <td>3</td>\n",
              "      <td>3</td>\n",
              "      <td>58</td>\n",
              "      <td>4</td>\n",
              "      <td>0</td>\n",
              "      <td>0</td>\n",
              "    </tr>\n",
              "  </tbody>\n",
              "</table>\n",
              "</div>"
            ],
            "text/plain": [
              "        albid  artid  category  pid  ...  prev_year  traid  userid  year\n",
              "42341       0      0         0    0  ...         58      0       0     0\n",
              "138375      1      1         0    0  ...          0      1       0    58\n",
              "229198      2      2         0    0  ...         58      2       0     1\n",
              "309912      3      3         0    0  ...          1      3       0    58\n",
              "769326      4      0         0    0  ...         58      4       0     0\n",
              "\n",
              "[5 rows x 11 columns]"
            ]
          },
          "metadata": {
            "tags": []
          },
          "execution_count": 29
        }
      ]
    },
    {
      "cell_type": "markdown",
      "metadata": {
        "id": "rzrG38UvLok1",
        "colab_type": "text"
      },
      "source": [
        "# Saving as CSV"
      ]
    },
    {
      "cell_type": "code",
      "metadata": {
        "id": "dF9Vc5IGeujX",
        "colab_type": "code",
        "colab": {}
      },
      "source": [
        "train_df.to_csv(\"AOTM-2011-small-train.csv\")\n",
        "test_df.to_csv(\"AOTM-2011-small-test.csv\")\n",
        "test_queryseeds_df.to_csv(\"AOTM-2011-small-test-queryseeds.csv\")\n",
        "test_queryctx_df.to_csv(\"AOTM-2011-small-test-queryctx.csv\")"
      ],
      "execution_count": 0,
      "outputs": []
    }
  ]
}