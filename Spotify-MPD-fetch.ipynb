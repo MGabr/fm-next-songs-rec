{
 "cells": [
  {
   "cell_type": "markdown",
   "metadata": {},
   "source": [
    "# Fetching album and audio features for Spotify MPD"
   ]
  },
  {
   "cell_type": "code",
   "execution_count": null,
   "metadata": {},
   "outputs": [],
   "source": [
    "import sys\n",
    "!{sys.executable} -m pip install --user spotipy"
   ]
  },
  {
   "cell_type": "code",
   "execution_count": 1,
   "metadata": {},
   "outputs": [],
   "source": [
    "import csv\n",
    "import glob\n",
    "import os\n",
    "import pickle\n",
    "import time\n",
    "\n",
    "os.environ[\"SPOTIPY_CLIENT_ID\"] = \"3bb1e61b35fa4b03aa4566d30d898c52\"\n",
    "os.environ[\"SPOTIPY_CLIENT_SECRET\"] = \"aa59de60cb1e4b2aafe43ec72bb59076\"\n",
    "\n",
    "from spotipy import Spotify\n",
    "from spotipy.oauth2 import SpotifyClientCredentials"
   ]
  },
  {
   "cell_type": "code",
   "execution_count": 7,
   "metadata": {},
   "outputs": [],
   "source": [
    "from pyspark.ml.linalg import VectorUDT\n",
    "from pyspark.ml.feature import VectorAssembler, StringIndexer, RegexTokenizer, \\\n",
    "    StopWordsRemover, CountVectorizer, StringIndexerModel, CountVectorizerModel, IDF\n",
    "from pyspark.sql.functions import collect_set, udf, col, mean, first, year, lower, \\\n",
    "    explode, explode_outer, lag, to_timestamp, regexp_replace, expr, max as sparkMax\n",
    "from pyspark.sql import SparkSession, Window, Row\n",
    "\n",
    "spark = SparkSession.builder \\\n",
    "    .appName(\"Fetching data for Spotify MPD\") \\\n",
    "    .master(\"yarn\") \\\n",
    "    .config(\"spark.submit.deployMode\",\"client\") \\\n",
    "    .config(\"spark.dynamicAllocation.enabled\", \"false\") \\\n",
    "    .config(\"spark.executor.memory\", \"25G\") \\\n",
    "    .config(\"spark.yarn.executor.memoryOverhead\", \"5G\") \\\n",
    "    .config(\"spark.executor.instances\", \"5\") \\\n",
    "    .config(\"spark.executor.cores\", \"5\") \\\n",
    "    .config(\"spark.kryoserializer.buffer.max\", \"256m\") \\\n",
    "    .config(\"spark.executor.heartbeatInterval\", \"100000\") \\\n",
    "    .config(\"spark.network.timeout\", \"1000000\") \\\n",
    "    .config(\"spark.maxRemoteBlockSizeFetchToMem\", \"256m\") \\\n",
    "    .config(\"spark.driver.maxResultSize\", \"8G\") \\\n",
    "    .getOrCreate()\n",
    "\n",
    "sc = spark.sparkContext"
   ]
  },
  {
   "cell_type": "code",
   "execution_count": 8,
   "metadata": {},
   "outputs": [],
   "source": [
    "dataPath = \"hdfs:/user/app/2018S/public/recsys_spotify_2018/mpd.v1/mpd.slice.*.json\"\n",
    "\n",
    "\n",
    "def loadData(s, dataPath): \n",
    "    return s.read.option(\"multiLine\", \"true\").json(dataPath) \\\n",
    "        .select(explode(col(\"playlists\")).alias(\"playlist\")) \\\n",
    "        .select(\"playlist.pid\", \"playlist.name\", \"playlist.modified_at\", \"playlist.tracks\") \\\n",
    "        .select(col(\"pid\").cast(\"integer\"), \\\n",
    "                lower(col(\"name\")).alias(\"name\"), \\\n",
    "                year(to_timestamp(\"modified_at\")).alias(\"modified_at_year\"), \\\n",
    "                explode_outer(col(\"tracks\")).alias(\"track\")) \\\n",
    "        .select(\"pid\", \"name\", \"modified_at_year\", \\\n",
    "                \"track.track_uri\", \"track.album_uri\", \"track.artist_uri\", \"track.pos\") \\\n",
    "\n",
    "\n",
    "data = loadData(spark, dataPath)"
   ]
  },
  {
   "cell_type": "code",
   "execution_count": 38,
   "metadata": {},
   "outputs": [],
   "source": [
    "album_uris = data.select(\"album_uri\").dropDuplicates().collect()"
   ]
  },
  {
   "cell_type": "code",
   "execution_count": 39,
   "metadata": {},
   "outputs": [
    {
     "data": {
      "text/plain": [
       "734684"
      ]
     },
     "execution_count": 39,
     "metadata": {},
     "output_type": "execute_result"
    }
   ],
   "source": [
    "len(album_uris)"
   ]
  },
  {
   "cell_type": "code",
   "execution_count": 42,
   "metadata": {},
   "outputs": [],
   "source": [
    "album_uris = [a[0] for a in album_uris]"
   ]
  },
  {
   "cell_type": "code",
   "execution_count": 9,
   "metadata": {},
   "outputs": [],
   "source": [
    "track_uris = data.select(\"track_uri\").dropDuplicates().collect()"
   ]
  },
  {
   "cell_type": "code",
   "execution_count": 5,
   "metadata": {},
   "outputs": [
    {
     "data": {
      "text/plain": [
       "2262292"
      ]
     },
     "execution_count": 5,
     "metadata": {},
     "output_type": "execute_result"
    }
   ],
   "source": [
    "len(track_uris)"
   ]
  },
  {
   "cell_type": "code",
   "execution_count": 10,
   "metadata": {},
   "outputs": [],
   "source": [
    "track_uris = [t[0] for t in track_uris]"
   ]
  },
  {
   "cell_type": "code",
   "execution_count": 17,
   "metadata": {},
   "outputs": [],
   "source": [
    "sc.stop()"
   ]
  },
  {
   "cell_type": "code",
   "execution_count": 51,
   "metadata": {},
   "outputs": [
    {
     "name": "stdout",
     "output_type": "stream",
     "text": [
      "0 of 734684 albums fetched\n",
      "10000 of 734684 albums fetched\n",
      "20000 of 734684 albums fetched\n",
      "30000 of 734684 albums fetched\n",
      "40000 of 734684 albums fetched\n",
      "50000 of 734684 albums fetched\n",
      "60000 of 734684 albums fetched\n",
      "70000 of 734684 albums fetched\n",
      "80000 of 734684 albums fetched\n",
      "90000 of 734684 albums fetched\n",
      "100000 of 734684 albums fetched\n",
      "110000 of 734684 albums fetched\n",
      "120000 of 734684 albums fetched\n",
      "130000 of 734684 albums fetched\n",
      "140000 of 734684 albums fetched\n",
      "150000 of 734684 albums fetched\n",
      "160000 of 734684 albums fetched\n",
      "170000 of 734684 albums fetched\n",
      "180000 of 734684 albums fetched\n",
      "190000 of 734684 albums fetched\n",
      "200000 of 734684 albums fetched\n",
      "210000 of 734684 albums fetched\n",
      "220000 of 734684 albums fetched\n",
      "230000 of 734684 albums fetched\n",
      "240000 of 734684 albums fetched\n",
      "250000 of 734684 albums fetched\n",
      "260000 of 734684 albums fetched\n",
      "270000 of 734684 albums fetched\n",
      "280000 of 734684 albums fetched\n",
      "290000 of 734684 albums fetched\n",
      "300000 of 734684 albums fetched\n",
      "310000 of 734684 albums fetched\n",
      "320000 of 734684 albums fetched\n",
      "330000 of 734684 albums fetched\n",
      "340000 of 734684 albums fetched\n",
      "350000 of 734684 albums fetched\n",
      "360000 of 734684 albums fetched\n",
      "370000 of 734684 albums fetched\n",
      "380000 of 734684 albums fetched\n",
      "390000 of 734684 albums fetched\n",
      "400000 of 734684 albums fetched\n",
      "410000 of 734684 albums fetched\n",
      "420000 of 734684 albums fetched\n",
      "430000 of 734684 albums fetched\n",
      "440000 of 734684 albums fetched\n",
      "450000 of 734684 albums fetched\n",
      "460000 of 734684 albums fetched\n",
      "470000 of 734684 albums fetched\n",
      "480000 of 734684 albums fetched\n",
      "490000 of 734684 albums fetched\n",
      "500000 of 734684 albums fetched\n",
      "510000 of 734684 albums fetched\n",
      "520000 of 734684 albums fetched\n",
      "530000 of 734684 albums fetched\n",
      "540000 of 734684 albums fetched\n",
      "550000 of 734684 albums fetched\n",
      "560000 of 734684 albums fetched\n",
      "570000 of 734684 albums fetched\n",
      "580000 of 734684 albums fetched\n",
      "590000 of 734684 albums fetched\n",
      "600000 of 734684 albums fetched\n",
      "610000 of 734684 albums fetched\n",
      "620000 of 734684 albums fetched\n",
      "630000 of 734684 albums fetched\n",
      "640000 of 734684 albums fetched\n",
      "650000 of 734684 albums fetched\n",
      "660000 of 734684 albums fetched\n",
      "670000 of 734684 albums fetched\n",
      "680000 of 734684 albums fetched\n",
      "690000 of 734684 albums fetched\n",
      "700000 of 734684 albums fetched\n",
      "710000 of 734684 albums fetched\n",
      "720000 of 734684 albums fetched\n",
      "730000 of 734684 albums fetched\n"
     ]
    }
   ],
   "source": [
    "spotify = Spotify(client_credentials_manager=SpotifyClientCredentials())\n",
    "\n",
    "albums = []\n",
    "for i in range(0, len(album_uris), 20):\n",
    "    albums += spotify.albums(album_uris[i:i+20])[\"albums\"]\n",
    "    # actually incorrect sleep condition, but worked - no rate limiting?\n",
    "    if i % 10:\n",
    "        time.sleep(1)\n",
    "    if i % 10000 == 0:\n",
    "        print(\"{} of {} albums fetched\".format(i, len(album_uris)))\n",
    "    if i % 100000 == 0:\n",
    "        with open(\"spotify-albums-{}.pickle\".format(i), \"wb\") as f:\n",
    "            pickle.dump(albums, f)\n",
    "            albums = []"
   ]
  },
  {
   "cell_type": "code",
   "execution_count": 52,
   "metadata": {},
   "outputs": [],
   "source": [
    "with open(\"spotify-albums-end.pickle\".format(i), \"wb\") as f:\n",
    "    pickle.dump(albums, f)"
   ]
  },
  {
   "cell_type": "code",
   "execution_count": 53,
   "metadata": {},
   "outputs": [
    {
     "data": {
      "text/plain": [
       "34664"
      ]
     },
     "execution_count": 53,
     "metadata": {},
     "output_type": "execute_result"
    }
   ],
   "source": [
    "len(albums)"
   ]
  },
  {
   "cell_type": "code",
   "execution_count": 54,
   "metadata": {},
   "outputs": [
    {
     "data": {
      "text/plain": [
       "'spotify:album:4QN0ym0NxtdORwj9je8Mbt'"
      ]
     },
     "execution_count": 54,
     "metadata": {},
     "output_type": "execute_result"
    }
   ],
   "source": [
    "album_uris[-1]"
   ]
  },
  {
   "cell_type": "code",
   "execution_count": 55,
   "metadata": {},
   "outputs": [
    {
     "data": {
      "text/plain": [
       "{'album_type': 'single',\n",
       " 'artists': [{'external_urls': {'spotify': 'https://open.spotify.com/artist/0QyJDdX61vOFda8pXrgp0g'},\n",
       "   'href': 'https://api.spotify.com/v1/artists/0QyJDdX61vOFda8pXrgp0g',\n",
       "   'id': '0QyJDdX61vOFda8pXrgp0g',\n",
       "   'name': 'Waldo',\n",
       "   'type': 'artist',\n",
       "   'uri': 'spotify:artist:0QyJDdX61vOFda8pXrgp0g'}],\n",
       " 'available_markets': [],\n",
       " 'copyrights': [{'text': '2017 Independent', 'type': 'C'},\n",
       "  {'text': '2017 Independent', 'type': 'P'}],\n",
       " 'external_ids': {'upc': '859721555333'},\n",
       " 'external_urls': {'spotify': 'https://open.spotify.com/album/4QN0ym0NxtdORwj9je8Mbt'},\n",
       " 'genres': [],\n",
       " 'href': 'https://api.spotify.com/v1/albums/4QN0ym0NxtdORwj9je8Mbt',\n",
       " 'id': '4QN0ym0NxtdORwj9je8Mbt',\n",
       " 'images': [{'height': 640,\n",
       "   'url': 'https://i.scdn.co/image/ab67616d0000b27331e5c9f7ede362629a39d76d',\n",
       "   'width': 640},\n",
       "  {'height': 300,\n",
       "   'url': 'https://i.scdn.co/image/ab67616d00001e0231e5c9f7ede362629a39d76d',\n",
       "   'width': 300},\n",
       "  {'height': 64,\n",
       "   'url': 'https://i.scdn.co/image/ab67616d0000485131e5c9f7ede362629a39d76d',\n",
       "   'width': 64}],\n",
       " 'label': 'Independent',\n",
       " 'name': 'Heavenly Father',\n",
       " 'popularity': 0,\n",
       " 'release_date': '2017-06-18',\n",
       " 'release_date_precision': 'day',\n",
       " 'total_tracks': 1,\n",
       " 'tracks': {'href': 'https://api.spotify.com/v1/albums/4QN0ym0NxtdORwj9je8Mbt/tracks?offset=0&limit=50',\n",
       "  'items': [{'artists': [{'external_urls': {'spotify': 'https://open.spotify.com/artist/0QyJDdX61vOFda8pXrgp0g'},\n",
       "      'href': 'https://api.spotify.com/v1/artists/0QyJDdX61vOFda8pXrgp0g',\n",
       "      'id': '0QyJDdX61vOFda8pXrgp0g',\n",
       "      'name': 'Waldo',\n",
       "      'type': 'artist',\n",
       "      'uri': 'spotify:artist:0QyJDdX61vOFda8pXrgp0g'}],\n",
       "    'available_markets': [],\n",
       "    'disc_number': 1,\n",
       "    'duration_ms': 179121,\n",
       "    'explicit': False,\n",
       "    'external_urls': {'spotify': 'https://open.spotify.com/track/4ncUYEb3BRWwEeXKSRAt8F'},\n",
       "    'href': 'https://api.spotify.com/v1/tracks/4ncUYEb3BRWwEeXKSRAt8F',\n",
       "    'id': '4ncUYEb3BRWwEeXKSRAt8F',\n",
       "    'is_local': False,\n",
       "    'name': 'Heavenly Father',\n",
       "    'preview_url': None,\n",
       "    'track_number': 1,\n",
       "    'type': 'track',\n",
       "    'uri': 'spotify:track:4ncUYEb3BRWwEeXKSRAt8F'}],\n",
       "  'limit': 50,\n",
       "  'next': None,\n",
       "  'offset': 0,\n",
       "  'previous': None,\n",
       "  'total': 1},\n",
       " 'type': 'album',\n",
       " 'uri': 'spotify:album:4QN0ym0NxtdORwj9je8Mbt'}"
      ]
     },
     "execution_count": 55,
     "metadata": {},
     "output_type": "execute_result"
    }
   ],
   "source": [
    "albums[-1]"
   ]
  },
  {
   "cell_type": "code",
   "execution_count": 5,
   "metadata": {},
   "outputs": [],
   "source": [
    "with open(\"spotify-albums.csv\",\"w\") as out_f:\n",
    "    csv_out = csv.writer(out_f)\n",
    "    csv_out.writerow([\"id\", \"release_date\", \"release_date_precision\"])\n",
    "    for in_name in glob.glob(\"spotify-albums-*.pickle\"):\n",
    "        with open(in_name, \"rb\") as in_f:\n",
    "            albums = pickle.load(in_f)\n",
    "            album_rows = [(a[\"id\"], a[\"release_date\"], a[\"release_date_precision\"])\n",
    "                          for a in albums if a is not None]\n",
    "            for album_row in album_rows:\n",
    "                csv_out.writerow(album_row)"
   ]
  },
  {
   "cell_type": "code",
   "execution_count": 8,
   "metadata": {},
   "outputs": [],
   "source": [
    "spotify = Spotify(client_credentials_manager=SpotifyClientCredentials())\n",
    "audio_features = spotify.audio_features(track_uris[0:20])"
   ]
  },
  {
   "cell_type": "code",
   "execution_count": null,
   "metadata": {},
   "outputs": [
    {
     "name": "stdout",
     "output_type": "stream",
     "text": [
      "0 of 2262292 audio features fetched\n",
      "10000 of 2262292 audio features fetched\n",
      "20000 of 2262292 audio features fetched\n",
      "30000 of 2262292 audio features fetched\n",
      "40000 of 2262292 audio features fetched\n",
      "50000 of 2262292 audio features fetched\n",
      "60000 of 2262292 audio features fetched\n",
      "70000 of 2262292 audio features fetched\n",
      "80000 of 2262292 audio features fetched\n",
      "90000 of 2262292 audio features fetched\n",
      "100000 of 2262292 audio features fetched\n",
      "110000 of 2262292 audio features fetched\n",
      "120000 of 2262292 audio features fetched\n",
      "130000 of 2262292 audio features fetched\n",
      "140000 of 2262292 audio features fetched\n",
      "150000 of 2262292 audio features fetched\n",
      "160000 of 2262292 audio features fetched\n",
      "170000 of 2262292 audio features fetched\n",
      "180000 of 2262292 audio features fetched\n",
      "190000 of 2262292 audio features fetched\n",
      "200000 of 2262292 audio features fetched\n",
      "210000 of 2262292 audio features fetched\n",
      "220000 of 2262292 audio features fetched\n",
      "230000 of 2262292 audio features fetched\n",
      "240000 of 2262292 audio features fetched\n",
      "250000 of 2262292 audio features fetched\n",
      "260000 of 2262292 audio features fetched\n",
      "270000 of 2262292 audio features fetched\n",
      "280000 of 2262292 audio features fetched\n",
      "290000 of 2262292 audio features fetched\n",
      "300000 of 2262292 audio features fetched\n",
      "310000 of 2262292 audio features fetched\n",
      "320000 of 2262292 audio features fetched\n",
      "330000 of 2262292 audio features fetched\n",
      "340000 of 2262292 audio features fetched\n",
      "350000 of 2262292 audio features fetched\n",
      "360000 of 2262292 audio features fetched\n",
      "370000 of 2262292 audio features fetched\n",
      "380000 of 2262292 audio features fetched\n",
      "390000 of 2262292 audio features fetched\n",
      "400000 of 2262292 audio features fetched\n",
      "410000 of 2262292 audio features fetched\n",
      "420000 of 2262292 audio features fetched\n",
      "430000 of 2262292 audio features fetched\n",
      "440000 of 2262292 audio features fetched\n",
      "450000 of 2262292 audio features fetched\n",
      "460000 of 2262292 audio features fetched\n",
      "470000 of 2262292 audio features fetched\n",
      "480000 of 2262292 audio features fetched\n",
      "490000 of 2262292 audio features fetched\n",
      "500000 of 2262292 audio features fetched\n",
      "510000 of 2262292 audio features fetched\n",
      "520000 of 2262292 audio features fetched\n",
      "530000 of 2262292 audio features fetched\n",
      "540000 of 2262292 audio features fetched\n",
      "550000 of 2262292 audio features fetched\n",
      "560000 of 2262292 audio features fetched\n",
      "570000 of 2262292 audio features fetched\n",
      "580000 of 2262292 audio features fetched\n",
      "590000 of 2262292 audio features fetched\n",
      "600000 of 2262292 audio features fetched\n",
      "610000 of 2262292 audio features fetched\n",
      "620000 of 2262292 audio features fetched\n",
      "630000 of 2262292 audio features fetched\n",
      "640000 of 2262292 audio features fetched\n",
      "650000 of 2262292 audio features fetched\n",
      "660000 of 2262292 audio features fetched\n",
      "670000 of 2262292 audio features fetched\n",
      "680000 of 2262292 audio features fetched\n",
      "690000 of 2262292 audio features fetched\n",
      "700000 of 2262292 audio features fetched\n",
      "710000 of 2262292 audio features fetched\n",
      "720000 of 2262292 audio features fetched\n",
      "730000 of 2262292 audio features fetched\n",
      "740000 of 2262292 audio features fetched\n",
      "750000 of 2262292 audio features fetched\n",
      "760000 of 2262292 audio features fetched\n",
      "770000 of 2262292 audio features fetched\n",
      "780000 of 2262292 audio features fetched\n",
      "790000 of 2262292 audio features fetched\n",
      "800000 of 2262292 audio features fetched\n",
      "810000 of 2262292 audio features fetched\n",
      "820000 of 2262292 audio features fetched\n",
      "830000 of 2262292 audio features fetched\n",
      "840000 of 2262292 audio features fetched\n",
      "850000 of 2262292 audio features fetched\n",
      "860000 of 2262292 audio features fetched\n",
      "870000 of 2262292 audio features fetched\n",
      "880000 of 2262292 audio features fetched\n",
      "890000 of 2262292 audio features fetched\n",
      "900000 of 2262292 audio features fetched\n",
      "910000 of 2262292 audio features fetched\n",
      "920000 of 2262292 audio features fetched\n",
      "930000 of 2262292 audio features fetched\n",
      "940000 of 2262292 audio features fetched\n",
      "950000 of 2262292 audio features fetched\n",
      "960000 of 2262292 audio features fetched\n",
      "970000 of 2262292 audio features fetched\n",
      "980000 of 2262292 audio features fetched\n",
      "990000 of 2262292 audio features fetched\n",
      "1000000 of 2262292 audio features fetched\n",
      "1010000 of 2262292 audio features fetched\n",
      "1020000 of 2262292 audio features fetched\n",
      "1030000 of 2262292 audio features fetched\n",
      "1040000 of 2262292 audio features fetched\n",
      "1050000 of 2262292 audio features fetched\n",
      "1060000 of 2262292 audio features fetched\n",
      "1070000 of 2262292 audio features fetched\n",
      "1080000 of 2262292 audio features fetched\n",
      "1090000 of 2262292 audio features fetched\n",
      "1100000 of 2262292 audio features fetched\n",
      "1110000 of 2262292 audio features fetched\n",
      "1120000 of 2262292 audio features fetched\n",
      "1130000 of 2262292 audio features fetched\n",
      "1140000 of 2262292 audio features fetched\n",
      "1150000 of 2262292 audio features fetched\n",
      "1160000 of 2262292 audio features fetched\n",
      "1170000 of 2262292 audio features fetched\n",
      "1180000 of 2262292 audio features fetched\n",
      "1190000 of 2262292 audio features fetched\n",
      "1200000 of 2262292 audio features fetched\n",
      "1210000 of 2262292 audio features fetched\n",
      "1220000 of 2262292 audio features fetched\n",
      "1230000 of 2262292 audio features fetched\n",
      "1240000 of 2262292 audio features fetched\n",
      "1250000 of 2262292 audio features fetched\n",
      "1260000 of 2262292 audio features fetched\n",
      "1270000 of 2262292 audio features fetched\n",
      "1280000 of 2262292 audio features fetched\n",
      "1290000 of 2262292 audio features fetched\n",
      "1300000 of 2262292 audio features fetched\n",
      "1310000 of 2262292 audio features fetched\n",
      "1320000 of 2262292 audio features fetched\n",
      "1330000 of 2262292 audio features fetched\n",
      "1340000 of 2262292 audio features fetched\n",
      "1350000 of 2262292 audio features fetched\n",
      "1360000 of 2262292 audio features fetched\n",
      "1370000 of 2262292 audio features fetched\n",
      "1380000 of 2262292 audio features fetched\n",
      "1390000 of 2262292 audio features fetched\n",
      "1400000 of 2262292 audio features fetched\n",
      "1410000 of 2262292 audio features fetched\n",
      "1420000 of 2262292 audio features fetched\n",
      "1430000 of 2262292 audio features fetched\n",
      "1440000 of 2262292 audio features fetched\n",
      "1450000 of 2262292 audio features fetched\n",
      "1460000 of 2262292 audio features fetched\n",
      "1470000 of 2262292 audio features fetched\n",
      "1480000 of 2262292 audio features fetched\n",
      "1490000 of 2262292 audio features fetched\n",
      "1500000 of 2262292 audio features fetched\n",
      "1510000 of 2262292 audio features fetched\n",
      "1520000 of 2262292 audio features fetched\n",
      "1530000 of 2262292 audio features fetched\n",
      "1540000 of 2262292 audio features fetched\n",
      "1550000 of 2262292 audio features fetched\n",
      "1560000 of 2262292 audio features fetched\n",
      "1570000 of 2262292 audio features fetched\n",
      "1580000 of 2262292 audio features fetched\n",
      "1590000 of 2262292 audio features fetched\n",
      "1600000 of 2262292 audio features fetched\n",
      "1610000 of 2262292 audio features fetched\n",
      "1620000 of 2262292 audio features fetched\n",
      "1630000 of 2262292 audio features fetched\n",
      "1640000 of 2262292 audio features fetched\n",
      "1650000 of 2262292 audio features fetched\n",
      "1660000 of 2262292 audio features fetched\n",
      "1670000 of 2262292 audio features fetched\n",
      "1680000 of 2262292 audio features fetched\n",
      "1690000 of 2262292 audio features fetched\n",
      "1700000 of 2262292 audio features fetched\n",
      "1710000 of 2262292 audio features fetched\n",
      "1720000 of 2262292 audio features fetched\n",
      "1730000 of 2262292 audio features fetched\n",
      "1740000 of 2262292 audio features fetched\n",
      "1750000 of 2262292 audio features fetched\n",
      "1760000 of 2262292 audio features fetched\n",
      "1770000 of 2262292 audio features fetched\n",
      "1780000 of 2262292 audio features fetched\n",
      "1790000 of 2262292 audio features fetched\n",
      "1800000 of 2262292 audio features fetched\n",
      "1810000 of 2262292 audio features fetched\n",
      "1820000 of 2262292 audio features fetched\n",
      "1830000 of 2262292 audio features fetched\n",
      "1840000 of 2262292 audio features fetched\n",
      "1850000 of 2262292 audio features fetched\n",
      "1860000 of 2262292 audio features fetched\n",
      "1870000 of 2262292 audio features fetched\n",
      "1880000 of 2262292 audio features fetched\n",
      "1890000 of 2262292 audio features fetched\n",
      "1900000 of 2262292 audio features fetched\n",
      "1910000 of 2262292 audio features fetched\n",
      "1920000 of 2262292 audio features fetched\n",
      "1930000 of 2262292 audio features fetched\n",
      "1940000 of 2262292 audio features fetched\n",
      "1950000 of 2262292 audio features fetched\n",
      "1960000 of 2262292 audio features fetched\n",
      "1970000 of 2262292 audio features fetched\n",
      "1980000 of 2262292 audio features fetched\n",
      "1990000 of 2262292 audio features fetched\n",
      "2000000 of 2262292 audio features fetched\n",
      "2010000 of 2262292 audio features fetched\n",
      "2020000 of 2262292 audio features fetched\n"
     ]
    }
   ],
   "source": [
    "spotify = Spotify(client_credentials_manager=SpotifyClientCredentials())\n",
    "\n",
    "audio_features = []\n",
    "for i in range(0, len(track_uris), 20):\n",
    "    audio_features += spotify.audio_features(track_uris[i:i+20])\n",
    "    # sleep 1 sec for every 10 requests because of rate limiting\n",
    "    if i % 200 == 0:\n",
    "        time.sleep(1)\n",
    "    if i % 10000 == 0:\n",
    "        print(\"{} of {} audio features fetched\".format(i, len(track_uris)))\n",
    "    if i % 100000 == 0:\n",
    "        with open(\"spotify-audio-{}.pickle\".format(i), \"wb\") as f:\n",
    "            pickle.dump(audio_features, f)\n",
    "            audio_features = []"
   ]
  },
  {
   "cell_type": "code",
   "execution_count": 11,
   "metadata": {},
   "outputs": [],
   "source": [
    "track_uris = track_uris[2200000:]"
   ]
  },
  {
   "cell_type": "code",
   "execution_count": 13,
   "metadata": {},
   "outputs": [
    {
     "name": "stdout",
     "output_type": "stream",
     "text": [
      "0 of 62292 audio features fetched\n",
      "10000 of 62292 audio features fetched\n",
      "20000 of 62292 audio features fetched\n",
      "30000 of 62292 audio features fetched\n",
      "40000 of 62292 audio features fetched\n",
      "50000 of 62292 audio features fetched\n",
      "60000 of 62292 audio features fetched\n"
     ]
    }
   ],
   "source": [
    "spotify = Spotify(client_credentials_manager=SpotifyClientCredentials())\n",
    "\n",
    "audio_features = []\n",
    "for i in range(0, len(track_uris), 20):\n",
    "    audio_features += spotify.audio_features(track_uris[i:i+20])\n",
    "    # sleep 1 sec for every 10 requests because of rate limiting\n",
    "    if i % 200 == 0:\n",
    "        time.sleep(1)\n",
    "    if i % 10000 == 0:\n",
    "        print(\"{} of {} audio features fetched\".format(i, len(track_uris)))"
   ]
  },
  {
   "cell_type": "code",
   "execution_count": 15,
   "metadata": {},
   "outputs": [],
   "source": [
    "with open(\"spotify-audio-end.pickle\", \"wb\") as f:\n",
    "    pickle.dump(audio_features, f)"
   ]
  },
  {
   "cell_type": "code",
   "execution_count": 14,
   "metadata": {},
   "outputs": [
    {
     "data": {
      "text/plain": [
       "{'danceability': 0.479,\n",
       " 'energy': 0.55,\n",
       " 'key': 7,\n",
       " 'loudness': -7.665,\n",
       " 'mode': 0,\n",
       " 'speechiness': 0.0522,\n",
       " 'acousticness': 0.709,\n",
       " 'instrumentalness': 0,\n",
       " 'liveness': 0.915,\n",
       " 'valence': 0.581,\n",
       " 'tempo': 95.26,\n",
       " 'type': 'audio_features',\n",
       " 'id': '5XsVjQF9KmNxZjVZEVpbd3',\n",
       " 'uri': 'spotify:track:5XsVjQF9KmNxZjVZEVpbd3',\n",
       " 'track_href': 'https://api.spotify.com/v1/tracks/5XsVjQF9KmNxZjVZEVpbd3',\n",
       " 'analysis_url': 'https://api.spotify.com/v1/audio-analysis/5XsVjQF9KmNxZjVZEVpbd3',\n",
       " 'duration_ms': 156507,\n",
       " 'time_signature': 4}"
      ]
     },
     "execution_count": 14,
     "metadata": {},
     "output_type": "execute_result"
    }
   ],
   "source": [
    "audio_features[-1]"
   ]
  },
  {
   "cell_type": "code",
   "execution_count": 16,
   "metadata": {},
   "outputs": [],
   "source": [
    "with open(\"spotify-audio.csv\",\"w\") as out_f:\n",
    "    csv_out = csv.writer(out_f)\n",
    "    csv_out.writerow([\"id\",\n",
    "                      \"danceability\", \"energy\", \"valence\", \"acousticness\",\n",
    "                      \"key\", \"loudness\", \"mode\", \"tempo\"])\n",
    "    for in_name in glob.glob(\"spotify-audio-*.pickle\"):\n",
    "        with open(in_name, \"rb\") as in_f:\n",
    "            albums = pickle.load(in_f)\n",
    "            album_rows = [(a[\"id\"],\n",
    "                           a[\"danceability\"], a[\"energy\"], a[\"valence\"], a[\"acousticness\"],\n",
    "                           a[\"key\"], a[\"loudness\"], a[\"mode\"], a[\"tempo\"])\n",
    "                          for a in albums if a is not None]\n",
    "            for album_row in album_rows:\n",
    "                csv_out.writerow(album_row)"
   ]
  },
  {
   "cell_type": "code",
   "execution_count": null,
   "metadata": {},
   "outputs": [],
   "source": []
  }
 ],
 "metadata": {
  "kernelspec": {
   "display_name": "Python 3",
   "language": "python",
   "name": "python3"
  },
  "language_info": {
   "codemirror_mode": {
    "name": "ipython",
    "version": 3
   },
   "file_extension": ".py",
   "mimetype": "text/x-python",
   "name": "python",
   "nbconvert_exporter": "python",
   "pygments_lexer": "ipython3",
   "version": "3.6.6"
  }
 },
 "nbformat": 4,
 "nbformat_minor": 2
}
